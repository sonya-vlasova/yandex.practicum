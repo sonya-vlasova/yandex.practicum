{
 "cells": [
  {
   "cell_type": "markdown",
   "metadata": {},
   "source": [
    "# Исследование мобильного приложения по продаже продуктов питания"
   ]
  },
  {
   "cell_type": "markdown",
   "metadata": {
    "toc": true
   },
   "source": [
    "<h1>Содержание<span class=\"tocSkip\"></span></h1>\n",
    "<div class=\"toc\"><ul class=\"toc-item\"><li><span><a href=\"#Изучим-данные\" data-toc-modified-id=\"Изучим-данные-1\"><span class=\"toc-item-num\">1&nbsp;&nbsp;</span>Изучим данные</a></span></li><li><span><a href=\"#Подготовим-данные-для-дальнейшего-анализа\" data-toc-modified-id=\"Подготовим-данные-для-дальнейшего-анализа-2\"><span class=\"toc-item-num\">2&nbsp;&nbsp;</span>Подготовим данные для дальнейшего анализа</a></span></li><li><span><a href=\"#Изучим-и-проверим-данные\" data-toc-modified-id=\"Изучим-и-проверим-данные-3\"><span class=\"toc-item-num\">3&nbsp;&nbsp;</span>Изучим и проверим данные</a></span><ul class=\"toc-item\"><li><span><a href=\"#Сколько-всего-событий-в-логе?\" data-toc-modified-id=\"Сколько-всего-событий-в-логе?-3.1\"><span class=\"toc-item-num\">3.1&nbsp;&nbsp;</span>Сколько всего событий в логе?</a></span></li><li><span><a href=\"#Сколько-всего-пользователей-в-логе?\" data-toc-modified-id=\"Сколько-всего-пользователей-в-логе?-3.2\"><span class=\"toc-item-num\">3.2&nbsp;&nbsp;</span>Сколько всего пользователей в логе?</a></span></li><li><span><a href=\"#Сколько-в-среднем-событий-приходится-на-пользователя?\" data-toc-modified-id=\"Сколько-в-среднем-событий-приходится-на-пользователя?-3.3\"><span class=\"toc-item-num\">3.3&nbsp;&nbsp;</span>Сколько в среднем событий приходится на пользователя?</a></span></li><li><span><a href=\"#Данными-за-какой-период-мы-располагаем?\" data-toc-modified-id=\"Данными-за-какой-период-мы-располагаем?-3.4\"><span class=\"toc-item-num\">3.4&nbsp;&nbsp;</span>Данными за какой период мы располагаем?</a></span></li><li><span><a href=\"#Можем-ли-мы-быть-уверенными,-что-у-нас-одинаково-полные-данные-за-весь-период?\" data-toc-modified-id=\"Можем-ли-мы-быть-уверенными,-что-у-нас-одинаково-полные-данные-за-весь-период?-3.5\"><span class=\"toc-item-num\">3.5&nbsp;&nbsp;</span>Можем ли мы быть уверенными, что у нас одинаково полные данные за весь период?</a></span></li><li><span><a href=\"#Много-ли-событий-и-пользователей-мы-потеряли,-отбросив-старые-данные?\" data-toc-modified-id=\"Много-ли-событий-и-пользователей-мы-потеряли,-отбросив-старые-данные?-3.6\"><span class=\"toc-item-num\">3.6&nbsp;&nbsp;</span>Много ли событий и пользователей мы потеряли, отбросив старые данные?</a></span></li><li><span><a href=\"#Есть-ли-у-нас-пользователи-из-всех-трёх-экспериментальных-групп?\" data-toc-modified-id=\"Есть-ли-у-нас-пользователи-из-всех-трёх-экспериментальных-групп?-3.7\"><span class=\"toc-item-num\">3.7&nbsp;&nbsp;</span>Есть ли у нас пользователи из всех трёх экспериментальных групп?</a></span></li><li><span><a href=\"#Вывод\" data-toc-modified-id=\"Вывод-3.8\"><span class=\"toc-item-num\">3.8&nbsp;&nbsp;</span>Вывод</a></span></li></ul></li><li><span><a href=\"#Изучим-воронку-событий\" data-toc-modified-id=\"Изучим-воронку-событий-4\"><span class=\"toc-item-num\">4&nbsp;&nbsp;</span>Изучим воронку событий</a></span><ul class=\"toc-item\"><li><span><a href=\"#Посмотрим,-какие-события-есть-в-логах,-как-часто-они-встречаются\" data-toc-modified-id=\"Посмотрим,-какие-события-есть-в-логах,-как-часто-они-встречаются-4.1\"><span class=\"toc-item-num\">4.1&nbsp;&nbsp;</span>Посмотрим, какие события есть в логах, как часто они встречаются</a></span></li><li><span><a href=\"#Посчитаем,-сколько-пользователей-совершали-каждое-из-этих-событий\" data-toc-modified-id=\"Посчитаем,-сколько-пользователей-совершали-каждое-из-этих-событий-4.2\"><span class=\"toc-item-num\">4.2&nbsp;&nbsp;</span>Посчитаем, сколько пользователей совершали каждое из этих событий</a></span></li><li><span><a href=\"#Предположим,-в-каком-порядке-происходят-события\" data-toc-modified-id=\"Предположим,-в-каком-порядке-происходят-события-4.3\"><span class=\"toc-item-num\">4.3&nbsp;&nbsp;</span>Предположим, в каком порядке происходят события</a></span></li><li><span><a href=\"#Построим-воронку-событий\" data-toc-modified-id=\"Построим-воронку-событий-4.4\"><span class=\"toc-item-num\">4.4&nbsp;&nbsp;</span>Построим воронку событий</a></span></li></ul></li><li><span><a href=\"#Изучим-результаты-эксперимента\" data-toc-modified-id=\"Изучим-результаты-эксперимента-5\"><span class=\"toc-item-num\">5&nbsp;&nbsp;</span>Изучим результаты эксперимента</a></span><ul class=\"toc-item\"><li><span><a href=\"#Сколько-пользователей-в-каждой-экспериментальной-группе?\" data-toc-modified-id=\"Сколько-пользователей-в-каждой-экспериментальной-группе?-5.1\"><span class=\"toc-item-num\">5.1&nbsp;&nbsp;</span>Сколько пользователей в каждой экспериментальной группе?</a></span></li><li><span><a href=\"#А/А-эксперимент\" data-toc-modified-id=\"А/А-эксперимент-5.2\"><span class=\"toc-item-num\">5.2&nbsp;&nbsp;</span>А/А-эксперимент</a></span></li><li><span><a href=\"#A/B-эксперимент\" data-toc-modified-id=\"A/B-эксперимент-5.3\"><span class=\"toc-item-num\">5.3&nbsp;&nbsp;</span>A/B эксперимент</a></span></li><li><span><a href=\"#Посчитаем,-сколько-проверок-статистических-гипотез-мы-сделали-и-убедимся,-что-применили-верный-уровень-значимости\" data-toc-modified-id=\"Посчитаем,-сколько-проверок-статистических-гипотез-мы-сделали-и-убедимся,-что-применили-верный-уровень-значимости-5.4\"><span class=\"toc-item-num\">5.4&nbsp;&nbsp;</span>Посчитаем, сколько проверок статистических гипотез мы сделали и убедимся, что применили верный уровень значимости</a></span></li></ul></li></ul></div>"
   ]
  },
  {
   "cell_type": "markdown",
   "metadata": {},
   "source": [
    "# Описание проекта\n",
    "\n",
    "Исследование для стартапа, который продаёт продукты питания. Нужно разобраться, как ведут себя пользователи мобильного приложения.\n",
    "\n",
    "Нам предстоит изучить воронку продаж и исследовать результаты A/A/B-эксперимента (изменение шрифта во всем  приложении).\n"
   ]
  },
  {
   "cell_type": "markdown",
   "metadata": {},
   "source": [
    "# Описание данных\n",
    "Каждая запись в логе — это действие пользователя, или событие.\n",
    "\n",
    "**EventName** — название события\n",
    "\n",
    "**DeviceIDHash** — уникальный идентификатор пользователя;\n",
    "\n",
    "**EventTimestamp** — время события;\n",
    "\n",
    "**ExpId** — номер эксперимента: 246 и 247 — контрольные группы, а 248 — экспериментальная.\n"
   ]
  },
  {
   "cell_type": "markdown",
   "metadata": {},
   "source": [
    "##  Изучим данные \n"
   ]
  },
  {
   "cell_type": "code",
   "execution_count": null,
   "metadata": {},
   "outputs": [],
   "source": [
    "#сразу открываем нужные библиотеки\n",
    "\n",
    "import pandas as pd\n",
    "import seaborn as sns\n",
    "from matplotlib import pyplot as plt\n",
    "import warnings\n",
    "warnings.filterwarnings(\"ignore\")\n",
    "import plotly.graph_objs as go\n",
    "from plotly.offline import download_plotlyjs, init_notebook_mode, plot, iplot\n",
    "import plotly.express as px\n",
    "from scipy import stats as st\n",
    "import numpy as np\n",
    "import math as mth"
   ]
  },
  {
   "cell_type": "code",
   "execution_count": null,
   "metadata": {},
   "outputs": [],
   "source": [
    "# посмотрим на данные\n",
    "logs = pd.read_csv('/datasets/logs_exp.csv',sep='\\t')\n",
    "logs.head(10)"
   ]
  },
  {
   "cell_type": "markdown",
   "metadata": {},
   "source": [
    "## Подготовим данные для дальнейшего анализа"
   ]
  },
  {
   "cell_type": "markdown",
   "metadata": {},
   "source": [
    "**Заменим названия столбцов на удобные**"
   ]
  },
  {
   "cell_type": "code",
   "execution_count": null,
   "metadata": {},
   "outputs": [],
   "source": [
    "# заменим названия столбцов\n",
    "logs.columns = ['event_name','user_id', 'event_time', 'group']\n",
    "logs.head()"
   ]
  },
  {
   "cell_type": "markdown",
   "metadata": {},
   "source": [
    "**Изменим типы данных и добавим столбец даты/времени и  отдельный столбец дат**"
   ]
  },
  {
   "cell_type": "code",
   "execution_count": null,
   "metadata": {
    "scrolled": true
   },
   "outputs": [],
   "source": [
    "logs.info()"
   ]
  },
  {
   "cell_type": "code",
   "execution_count": null,
   "metadata": {
    "scrolled": false
   },
   "outputs": [],
   "source": [
    "logs['date_time'] = pd.to_datetime(logs['event_time'], unit='s')\n",
    "logs['date'] = pd.to_datetime(logs['date_time'].dt.date)\n",
    "logs.head()"
   ]
  },
  {
   "cell_type": "markdown",
   "metadata": {},
   "source": [
    "**Посмотрим на наличие пропусков**"
   ]
  },
  {
   "cell_type": "code",
   "execution_count": null,
   "metadata": {
    "scrolled": true
   },
   "outputs": [],
   "source": [
    "# посмотрим на процент пропусков по столбцам\n",
    "pd.DataFrame(round((logs.isna().mean()*100),2)).style.background_gradient('coolwarm')"
   ]
  },
  {
   "cell_type": "code",
   "execution_count": null,
   "metadata": {
    "scrolled": true
   },
   "outputs": [],
   "source": [
    "#посмотрим сколько всего пропусков по колонкам\n",
    "logs.isnull().sum() "
   ]
  },
  {
   "cell_type": "markdown",
   "metadata": {},
   "source": [
    "**Посмотрим на наличие дубликатов**"
   ]
  },
  {
   "cell_type": "code",
   "execution_count": null,
   "metadata": {},
   "outputs": [],
   "source": [
    "# посмотрим общее количесвто дубликатов\n",
    "display(logs.duplicated().sum())"
   ]
  },
  {
   "cell_type": "code",
   "execution_count": null,
   "metadata": {},
   "outputs": [],
   "source": [
    "# посмотрим какой процент дубликатов от всех данных\n",
    "logs.duplicated().sum() / len(logs['user_id']) * 100"
   ]
  },
  {
   "cell_type": "code",
   "execution_count": null,
   "metadata": {
    "scrolled": true
   },
   "outputs": [],
   "source": [
    "# удалим все дубликаты методом drop_duplicates(), обновляя индексы\n",
    "logs = logs.drop_duplicates().reset_index(drop = True)\n",
    "logs.info()"
   ]
  },
  {
   "cell_type": "markdown",
   "metadata": {},
   "source": [
    "**Вывод**\n",
    "\n",
    "Данные предобработали\n",
    "\n",
    "В датасет попадают дубликаты, нужно понять откуда и почему они появились"
   ]
  },
  {
   "cell_type": "markdown",
   "metadata": {},
   "source": [
    "## Изучим и проверим данные"
   ]
  },
  {
   "cell_type": "markdown",
   "metadata": {},
   "source": [
    "### Сколько всего событий в логе? "
   ]
  },
  {
   "cell_type": "code",
   "execution_count": null,
   "metadata": {
    "scrolled": true
   },
   "outputs": [],
   "source": [
    "# посмотрим сколько всего значений\n",
    "len(logs)"
   ]
  },
  {
   "cell_type": "markdown",
   "metadata": {},
   "source": [
    "### Сколько всего пользователей в логе?"
   ]
  },
  {
   "cell_type": "code",
   "execution_count": null,
   "metadata": {},
   "outputs": [],
   "source": [
    "display(len(logs['user_id'].unique()))"
   ]
  },
  {
   "cell_type": "markdown",
   "metadata": {},
   "source": [
    "### Сколько в среднем событий приходится на пользователя?"
   ]
  },
  {
   "cell_type": "code",
   "execution_count": null,
   "metadata": {},
   "outputs": [],
   "source": [
    "display(len(logs['event_name'].unique()))"
   ]
  },
  {
   "cell_type": "code",
   "execution_count": null,
   "metadata": {},
   "outputs": [],
   "source": [
    "event_per_user = logs.groupby('user_id')['event_name'].count()\n",
    "event_per_user.describe()"
   ]
  },
  {
   "cell_type": "markdown",
   "metadata": {},
   "source": [
    "**На пользователя выходит в среднем 32.27 события**"
   ]
  },
  {
   "cell_type": "code",
   "execution_count": null,
   "metadata": {
    "scrolled": false
   },
   "outputs": [],
   "source": [
    "plt.figure(figsize=(12,5))\n",
    "plt.hist(event_per_user, bins=100, range=(0,500)) \n",
    "plt.xlabel('Пользователи')\n",
    "plt.grid()\n",
    "plt.ylabel('События')\n",
    "plt.title('Количество событий на пользователя')"
   ]
  },
  {
   "cell_type": "markdown",
   "metadata": {},
   "source": [
    "Распределение далеко от нормального, так что рассмотрим еще медиану и моду"
   ]
  },
  {
   "cell_type": "code",
   "execution_count": null,
   "metadata": {
    "scrolled": false
   },
   "outputs": [],
   "source": [
    "display(event_per_user.mode())\n",
    "display(event_per_user.median())"
   ]
  },
  {
   "cell_type": "markdown",
   "metadata": {},
   "source": [
    "### Данными за какой период мы располагаем? "
   ]
  },
  {
   "cell_type": "markdown",
   "metadata": {},
   "source": [
    "**Найдем максимальную и минимальную дату**"
   ]
  },
  {
   "cell_type": "code",
   "execution_count": null,
   "metadata": {
    "scrolled": false
   },
   "outputs": [],
   "source": [
    "display(logs['date'].min())\n",
    "display(logs['date'].max())"
   ]
  },
  {
   "cell_type": "markdown",
   "metadata": {},
   "source": [
    "**Построим гистограмму по дате и времени**"
   ]
  },
  {
   "cell_type": "code",
   "execution_count": null,
   "metadata": {},
   "outputs": [],
   "source": [
    "logs['date_time'].hist(bins=50, figsize=(30, 15), xlabelsize=25, ylabelsize=25)\n",
    "plt.title('Histogram by date and time', fontsize=25)\n",
    "plt.xlabel('Date', fontsize=25)\n",
    "plt.ylabel('Frequency', fontsize=25)\n",
    "plt.xticks(rotation=-30)\n",
    "plt.show()"
   ]
  },
  {
   "cell_type": "markdown",
   "metadata": {},
   "source": [
    "**В нашем логе хранятся события с 25 июля 2019 года по 7 августа 2019 года**"
   ]
  },
  {
   "cell_type": "markdown",
   "metadata": {},
   "source": [
    "### Можем ли мы быть уверенными, что у нас одинаково полные данные за весь период? "
   ]
  },
  {
   "cell_type": "markdown",
   "metadata": {},
   "source": [
    "Судя по графику, данные немного сместились, нужно найти с какого момента данные полные и отбросить более старые"
   ]
  },
  {
   "cell_type": "code",
   "execution_count": null,
   "metadata": {
    "scrolled": true
   },
   "outputs": [],
   "source": [
    "logs_upd = logs.loc[logs['date'] >= '2019-08-01']\n",
    "logs_upd.head()"
   ]
  },
  {
   "cell_type": "markdown",
   "metadata": {},
   "source": [
    "**На самом деле мы располагаем данными с 1 по 7 августа 2019 года**"
   ]
  },
  {
   "cell_type": "code",
   "execution_count": null,
   "metadata": {
    "scrolled": true
   },
   "outputs": [],
   "source": [
    "# посмотрм во сколько начался тест\n",
    "logs_01_08_2019 = logs.loc[logs['date'] == '2019-08-01']\n",
    "logs_01_08_2019.head(10)"
   ]
  },
  {
   "cell_type": "code",
   "execution_count": null,
   "metadata": {
    "scrolled": true
   },
   "outputs": [],
   "source": [
    "logs_31_07_2019 = logs.loc[logs['date'] == '2019-07-31']\n",
    "logs_31_07_2019.head(10)"
   ]
  },
  {
   "cell_type": "markdown",
   "metadata": {},
   "source": [
    "31_07_2019 тест начался примерно в 1 ночи\n",
    "\n",
    "01_08_2019 тест начался примерно в 00\n"
   ]
  },
  {
   "cell_type": "markdown",
   "metadata": {},
   "source": [
    "### Много ли событий и пользователей мы потеряли, отбросив старые данные? "
   ]
  },
  {
   "cell_type": "code",
   "execution_count": null,
   "metadata": {},
   "outputs": [],
   "source": [
    "print('Потеряли данных среди событий {:.2%}'.format(logs_upd.shape[0] / logs.shape[0] - 1))\n"
   ]
  },
  {
   "cell_type": "code",
   "execution_count": null,
   "metadata": {
    "scrolled": true
   },
   "outputs": [],
   "source": [
    "print('Потеряли данных среди пользователей {:.2%}'.format(logs_upd['user_id'].nunique() / logs['user_id'].nunique() - 1))"
   ]
  },
  {
   "cell_type": "markdown",
   "metadata": {},
   "source": [
    "Отбросив старые данные мы потеряли 1.16% событий\n",
    "\n",
    "Отбросив старые данные мы потеряли 0.23% пользователей\n",
    "\n",
    "Это допустимый процент для отброса данных"
   ]
  },
  {
   "cell_type": "markdown",
   "metadata": {},
   "source": [
    "### Есть ли у нас пользователи из всех трёх экспериментальных групп?"
   ]
  },
  {
   "cell_type": "code",
   "execution_count": null,
   "metadata": {
    "scrolled": true
   },
   "outputs": [],
   "source": [
    "logs_upd.groupby('group').agg({'user_id':'nunique'})"
   ]
  },
  {
   "cell_type": "markdown",
   "metadata": {},
   "source": [
    "Пользователей в каждой группе примерно по 2,5 тысячи, с незначительными отклонениями."
   ]
  },
  {
   "cell_type": "markdown",
   "metadata": {},
   "source": [
    "### Вывод \n",
    "\n",
    "Всего событий - 243713, всего пользователей - 7551.\n",
    "\n",
    "В среднем на пользователя получается по 32 события.\n",
    "\n",
    "Изначально собирались данные с 25 ююля по 7 августа 2019г, но после сверки с графиком стало понятно, что данные немного сьехали. На самом деле у нас правильные полные данные с 1 по 7 августа 2019г. (отрезали около процента данных).\n",
    "\n",
    "Пользователей в каждой группе - примерно 2,5 тысячи."
   ]
  },
  {
   "cell_type": "markdown",
   "metadata": {},
   "source": [
    "##  Изучим воронку событий\n"
   ]
  },
  {
   "cell_type": "markdown",
   "metadata": {},
   "source": [
    "### Посмотрим, какие события есть в логах, как часто они встречаются"
   ]
  },
  {
   "cell_type": "code",
   "execution_count": null,
   "metadata": {
    "scrolled": true
   },
   "outputs": [],
   "source": [
    "logs_upd['event_name'].value_counts()"
   ]
  },
  {
   "cell_type": "markdown",
   "metadata": {},
   "source": [
    "**MainScreenAppear** - Появление Главного экрана\n",
    "\n",
    "**OffersScreenAppear** - Появление Экрана Предложений\n",
    "\n",
    "**CartScreenAppear** - Появление Экрана Корзины \n",
    "\n",
    "**PaymentScreenSuccessful** - Экран Платеж Успешен\n",
    "\n",
    "**Tutorial** - Прохождение туториала"
   ]
  },
  {
   "cell_type": "code",
   "execution_count": null,
   "metadata": {
    "scrolled": false
   },
   "outputs": [],
   "source": [
    "# построим пайчарт\n",
    "fig = go.Figure(data=[go.Pie(labels=logs_upd['event_name'], values=logs_upd['user_id'], \\\n",
    "                             title='Соотношение типов событий')])\n",
    "fig.show()"
   ]
  },
  {
   "cell_type": "markdown",
   "metadata": {},
   "source": [
    "### Посчитаем, сколько пользователей совершали каждое из этих событий"
   ]
  },
  {
   "cell_type": "code",
   "execution_count": null,
   "metadata": {
    "scrolled": false
   },
   "outputs": [],
   "source": [
    "# сгруппируем по событию и отсортируем по числу пользователей\n",
    "events_count = logs_upd.groupby('event_name').agg({'user_id': 'count'}).sort_values(\n",
    "    by= 'user_id', ascending=False)\n",
    "events_count"
   ]
  },
  {
   "cell_type": "code",
   "execution_count": null,
   "metadata": {
    "scrolled": true
   },
   "outputs": [],
   "source": [
    "#events_count['percent'] = events_count['user_id'] / events_count['user_id'].sum()\n",
    "#events_count = events_count.reset_index()\n",
    "#events_count.style.format({'percent': '{:,.2%}'.format})"
   ]
  },
  {
   "cell_type": "code",
   "execution_count": null,
   "metadata": {
    "scrolled": true
   },
   "outputs": [],
   "source": [
    "# добавим столбец количества пользователей в процентах\n",
    "events_users = logs_upd.groupby('event_name').agg({'event_name':'count', 'user_id':'nunique'}\n",
    "                                                 ).sort_values(by='user_id', ascending=False)\n",
    "events_users.columns = ['n_events', 'users']\n",
    "events_users = events_users.reset_index()\n",
    "events_users['users_part_1_event'] = (events_users['users'] / logs_upd['user_id'\n",
    "                                                                      ].nunique() * 100).round(1) # доля хотя бы раз совершивших событие\n",
    "events_users"
   ]
  },
  {
   "cell_type": "markdown",
   "metadata": {},
   "source": [
    "### Предположим, в каком порядке происходят события"
   ]
  },
  {
   "cell_type": "markdown",
   "metadata": {},
   "source": [
    "- Главный экран\n",
    "- Предложение\n",
    "- Корзина\n",
    "- Экран успешного платежа\n",
    "- Прохождение туториала\n",
    "\n",
    "Но скорее всего, туториал можно скипнуть, так что можно не брать это событие в дальнейший расчет."
   ]
  },
  {
   "cell_type": "code",
   "execution_count": null,
   "metadata": {},
   "outputs": [],
   "source": [
    "events_users = events_users[:4]\n",
    "events_users"
   ]
  },
  {
   "cell_type": "markdown",
   "metadata": {},
   "source": [
    "### Построим воронку событий"
   ]
  },
  {
   "cell_type": "code",
   "execution_count": null,
   "metadata": {
    "scrolled": false
   },
   "outputs": [],
   "source": [
    "fig = go.Figure(go.Funnel(\n",
    "    y = events_users['event_name'],\n",
    "    x = events_users['users'],\n",
    "    textinfo = \"value+percent initial+percent previous\",\n",
    "    hoverinfo = \"none\"))\n",
    "fig.update_layout(title_text='Воронка событий')\n",
    "fig.show()\n"
   ]
  },
  {
   "cell_type": "markdown",
   "metadata": {},
   "source": [
    "**На каком шаге теряете больше всего пользователей? Какая доля пользователей доходит от первого события до оплаты?**\n",
    "\n",
    "- Больше всего пользователей теряется после появления главного экрана, перед появлением экрана с предложением\n",
    "\n",
    "- До успешной оплаты доходят 48% изначальных пользователей"
   ]
  },
  {
   "cell_type": "markdown",
   "metadata": {},
   "source": [
    "## Изучим результаты эксперимента"
   ]
  },
  {
   "cell_type": "markdown",
   "metadata": {},
   "source": [
    "Дизайнеры хотят поменять шрифты во всём приложении, а менеджеры опасаются, что пользователям будет непривычно. Решили провести А/А/В тест.\n",
    "\n",
    "Пользователей разбили на 3 группы: 2 контрольные со старыми шрифтами(246 и 247) и одну экспериментальную — с новыми (248). \n",
    "\n",
    "Нужно выяснить, какой шрифт лучше."
   ]
  },
  {
   "cell_type": "markdown",
   "metadata": {},
   "source": [
    "### Сколько пользователей в каждой экспериментальной группе?"
   ]
  },
  {
   "cell_type": "code",
   "execution_count": null,
   "metadata": {
    "scrolled": true
   },
   "outputs": [],
   "source": [
    "#users = logs_upd.groupby('group').agg({'user_id':'nunique'})\n",
    "users = logs_upd.groupby('group')['user_id'].nunique()\n",
    "users['246+247'] = users[246] + users[247]\n",
    "users"
   ]
  },
  {
   "cell_type": "markdown",
   "metadata": {},
   "source": [
    "### А/А-эксперимент\n"
   ]
  },
  {
   "cell_type": "markdown",
   "metadata": {},
   "source": [
    "**Выберем самое популярное событие**"
   ]
  },
  {
   "cell_type": "code",
   "execution_count": null,
   "metadata": {
    "scrolled": true
   },
   "outputs": [],
   "source": [
    "events_users"
   ]
  },
  {
   "cell_type": "markdown",
   "metadata": {},
   "source": [
    "Самое популярное событие - это MainScreenAppear"
   ]
  },
  {
   "cell_type": "markdown",
   "metadata": {},
   "source": [
    "**Посчитаем число пользователей, совершивших это событие в каждой из контрольных групп**"
   ]
  },
  {
   "cell_type": "code",
   "execution_count": null,
   "metadata": {
    "scrolled": false
   },
   "outputs": [],
   "source": [
    "\n",
    "all_funnels = logs_upd.pivot_table(index='event_name', columns='group',values='user_id',aggfunc='nunique')\\\n",
    "                       .sort_values(246, ascending=False)\n",
    "all_funnels['246+247'] = all_funnels[246] + all_funnels[247]\n",
    "all_funnels.drop(['Tutorial'], inplace=True)\n",
    "all_funnels"
   ]
  },
  {
   "cell_type": "markdown",
   "metadata": {},
   "source": [
    "**Посчитаем долю пользователей, совершивших это событие**"
   ]
  },
  {
   "cell_type": "code",
   "execution_count": null,
   "metadata": {
    "scrolled": true
   },
   "outputs": [],
   "source": [
    "all_funnels['part_246'] = (all_funnels[246] / users[246] * 100).round(1)\n",
    "all_funnels['part_247'] = (all_funnels[247] / users[247] * 100).round(1)\n",
    "all_funnels['part_248'] = (all_funnels[248] / users[248] * 100).round(1)\n",
    "all_funnels['part_246+247'] = ((all_funnels[246] + all_funnels[247]) / \\\n",
    "                                  (users[246] + users[247]) * 100).round(1)\n",
    "all_funnels"
   ]
  },
  {
   "cell_type": "markdown",
   "metadata": {},
   "source": [
    "Самое популярное событие - это \"MainScreenAppear\" (Появление главного экрана)\n",
    "\n",
    "Число пользователей совершивших самое популярное событие \"MainScreenAppear\" - 7419, в разрезе групп:\n",
    "\n",
    "- 246 - 2450\n",
    "- 247 - 2476\n",
    "- 248 - 2493\n",
    "\n",
    "Доли пользователей совершивших самое популярное событие \"MainScreenAppear\" - 98,5%, в разрезе групп:\n",
    "\n",
    "- 246 - 98,6%\n",
    "- 247 - 98,5%\n",
    "- 248 - 98,3%"
   ]
  },
  {
   "cell_type": "code",
   "execution_count": null,
   "metadata": {
    "scrolled": true
   },
   "outputs": [],
   "source": [
    "users = users.to_frame().reset_index()\n",
    "users.loc[3] = ['246+247', 4997]\n",
    "users = users.set_index(users.columns[0])\n",
    "users"
   ]
  },
  {
   "cell_type": "markdown",
   "metadata": {},
   "source": [
    "**Гипотеза 0: конверсия перехода на различные этапы в приложении между 246 и 247 выборками не меняется**\n",
    "\n",
    "**Гипотеза 1: конверсия перехода на различные этапы в приложении между 246 и 247 выборками меняется**"
   ]
  },
  {
   "cell_type": "code",
   "execution_count": null,
   "metadata": {},
   "outputs": [],
   "source": [
    "# Воспользуемся Z-критерием\n",
    "def z_test(exp1, exp2, event, alpha): \n",
    "    # считаем successes\n",
    "    p1_ev = all_funnels.loc[event, exp1]\n",
    "    p2_ev = all_funnels.loc[event, exp2] \n",
    "    # считаем trials\n",
    "    p1_us = users.loc[exp1, 'user_id'] \n",
    "    p2_us = users.loc[exp2, 'user_id'] \n",
    "    \n",
    "    # пропорция успехов в первой группе:\n",
    "    p1 = p1_ev / p1_us \n",
    "    # пропорция успехов во второй группе:\n",
    "    p2 = p2_ev / p2_us \n",
    "    # разница пропорций в датасетах:\n",
    "    difference = p1 - p2 \n",
    "    # пропорция успехов в комбинированном датасете:\n",
    "    p_combined = (p1_ev + p2_ev) / (p1_us + p2_us) \n",
    "    \n",
    "    # считаем статистику в ст.отклонениях стандартного нормального распределения:\n",
    "    z_value = difference / mth.sqrt(p_combined * (1 - p_combined) * (1 / p1_us + 1 / p2_us)) \n",
    "    # задаем стандартное нормальное распределение (среднее 0, ст.отклонение 1):\n",
    "    distr = st.norm(0, 1)\n",
    "    p_value = (1 - distr.cdf(abs(z_value))) * 2\n",
    "    \n",
    "    print('Проверка для  {} и {}, событие: {}, p-значение: {p_value:.2f}'.format(exp1, exp2, event, p_value=p_value))\n",
    "    if (p_value < alpha):\n",
    "        print(\"Отвергаем нулевую гипотезу\")\n",
    "    else:\n",
    "        print(\"Не получилось отвергнуть нулевую гипотезу\")"
   ]
  },
  {
   "cell_type": "code",
   "execution_count": null,
   "metadata": {
    "scrolled": false
   },
   "outputs": [],
   "source": [
    "for event in all_funnels.index:\n",
    "    z_test(246, 247, event, 0.01)\n",
    "    print()"
   ]
  },
  {
   "cell_type": "markdown",
   "metadata": {},
   "source": [
    "**Вывод**\n",
    "\n",
    "При заданом критическом уровне статистической значимости, раздичия между группами отсутствуют"
   ]
  },
  {
   "cell_type": "markdown",
   "metadata": {},
   "source": [
    "### A/B эксперимент"
   ]
  },
  {
   "cell_type": "markdown",
   "metadata": {},
   "source": [
    "**Гипотеза 0: конверсия перехода на различные этапы в приложении между 246 и 247 выборками не меняется**\n",
    "\n",
    "**Гипотеза 1: конверсия перехода на различные этапы в приложении между 246 и 247 выборками меняется**"
   ]
  },
  {
   "cell_type": "code",
   "execution_count": null,
   "metadata": {
    "scrolled": false
   },
   "outputs": [],
   "source": [
    "for event in all_funnels.index:\n",
    "    z_test(246, 248, event, 0.05)\n",
    "    print()"
   ]
  },
  {
   "cell_type": "markdown",
   "metadata": {},
   "source": [
    "**Гипотеза 0: конверсия перехода на различные этапы в приложении между 246 и 247 выборками не меняется**\n",
    "\n",
    "**Гипотеза 1: конверсия перехода на различные этапы в приложении между 246 и 247 выборками меняется**"
   ]
  },
  {
   "cell_type": "code",
   "execution_count": null,
   "metadata": {
    "scrolled": true
   },
   "outputs": [],
   "source": [
    "for event in all_funnels.index:\n",
    "    z_test(247, 248, event, 0.05)\n",
    "    print()"
   ]
  },
  {
   "cell_type": "markdown",
   "metadata": {},
   "source": [
    "**Гипотеза 0: конверсия перехода на различные этапы в приложении между 246 и 247 выборками не меняется**\n",
    "\n",
    "**Гипотеза 1: конверсия перехода на различные этапы в приложении между 246 и 247 выборками меняется**"
   ]
  },
  {
   "cell_type": "code",
   "execution_count": null,
   "metadata": {
    "scrolled": false
   },
   "outputs": [],
   "source": [
    "for event in all_funnels.index:\n",
    "    z_test('246+247', 248, event, 0.05)\n",
    "    print()"
   ]
  },
  {
   "cell_type": "markdown",
   "metadata": {},
   "source": [
    "**Вывод**\n",
    "\n",
    "Для всех вариаций нашего A/B эксперимента не удалось найти различия между группами (при заданом критическом уровне статистической значимости)"
   ]
  },
  {
   "cell_type": "markdown",
   "metadata": {},
   "source": [
    "### Посчитаем, сколько проверок статистических гипотез мы сделали и убедимся, что применили верный уровень значимости"
   ]
  },
  {
   "cell_type": "markdown",
   "metadata": {},
   "source": [
    "В ходе тестирования были проведены 16 экспериментов:\n",
    "\n",
    "246/247 - 4 эксперемента (для каждого события) / уровень статистической значимости - 0.01\n",
    "\n",
    "(Так как группы A/A теста должны быть одинаковыми, мы взяли более маленький уровень статистической значимости)\n",
    "\n",
    "246/248 - 4 эксперемента (для каждого события) / уровень статистической значимости - 0.05\n",
    "\n",
    "247/248 - 4 эксперемента (для каждого события) / уровень статистической значимости - 0.05\n",
    "\n",
    "246+247/B - 4 эксперемента (для каждого события) / уровень статистической значимости - 0.05\n"
   ]
  },
  {
   "cell_type": "markdown",
   "metadata": {},
   "source": [
    "**Далее попробуем установить уровень статистической значимости в 0.1**"
   ]
  },
  {
   "cell_type": "code",
   "execution_count": null,
   "metadata": {
    "scrolled": true
   },
   "outputs": [],
   "source": [
    "for event in all_funnels.index:\n",
    "    z_test(246, 247, event, 0.1)\n",
    "    print()"
   ]
  },
  {
   "cell_type": "code",
   "execution_count": null,
   "metadata": {
    "scrolled": true
   },
   "outputs": [],
   "source": [
    "for event in all_funnels.index:\n",
    "    z_test(246, 248, event, 0.1)\n",
    "    print()"
   ]
  },
  {
   "cell_type": "code",
   "execution_count": null,
   "metadata": {
    "scrolled": false
   },
   "outputs": [],
   "source": [
    "for event in all_funnels.index:\n",
    "    z_test(247, 248, event, 0.1)\n",
    "    print()"
   ]
  },
  {
   "cell_type": "code",
   "execution_count": null,
   "metadata": {
    "scrolled": true
   },
   "outputs": [],
   "source": [
    "for event in all_funnels.index:\n",
    "    z_test('246+247', 248, event, 0.1)\n",
    "    print()"
   ]
  },
  {
   "cell_type": "markdown",
   "metadata": {},
   "source": [
    "При уровне статистической значимости в 0.1 появляется слишком большая погрешность(каждый 10й раз будем получать ложный результат).\n",
    "\n",
    "Например, ложноположительный результат мы получили при сравнении 246 и 248 групп.\n",
    "\n",
    "Правильнее будет оставить уровень в 0.01 и 0.05"
   ]
  },
  {
   "cell_type": "markdown",
   "metadata": {},
   "source": [
    "# Общий вывод"
   ]
  },
  {
   "cell_type": "markdown",
   "metadata": {},
   "source": [
    "**Анализ данных**\n",
    "\n",
    "В датасет попадают дубликаты, нужно понять откуда и почему они появились\n",
    "\n",
    "Всего событий - 243713, всего пользователей - 7551.\n",
    "\n",
    "В среднем на пользователя получается по 32 события.\n",
    "\n",
    "Изначально собирались данные с 25 ююля по 7 августа 2019г, но после сверки с графиком стало понятно, что данные немного сьехали. На самом деле у нас правильные полные данные с 1 по 7 августа 2019г. (отрезали около процента данных).\n",
    "\n",
    "Пользователей в каждой группе - примерно 2,5 тысячи.\n",
    "\n",
    "**Анализ воронки**\n",
    "\n",
    "События идут следующим образом:\n",
    "- Главный экран\n",
    "- Предложение\n",
    "- Корзина\n",
    "- Экран успешного платежа\n",
    "- Прохождение туториала\n",
    "\n",
    "Больше всего пользователей теряется после появления главного экрана, перед появлением экрана с предложением\n",
    "\n",
    "До успешной оплаты доходят 48% изначальных пользователей\n",
    "\n",
    "**Анализ А/А/В тестов**\n",
    "\n",
    "Результаты A/A теста показали, что различий между группами нет.\n",
    "\n",
    "По данным А/В теста можно скзаать, что изменение шрифтов никак не повлияло на поведение пользователей.\n"
   ]
  },
  {
   "cell_type": "markdown",
   "metadata": {},
   "source": [
    "# Рекомендации\n",
    "\n",
    "- шрифт менять не имеет смысла\n",
    "- дубликатов 0.17% от всех данных"
   ]
  },
  {
   "cell_type": "code",
   "execution_count": null,
   "metadata": {},
   "outputs": [],
   "source": []
  }
 ],
 "metadata": {
  "ExecuteTimeLog": [
   {
    "duration": 170,
    "start_time": "2021-12-30T10:55:38.115Z"
   },
   {
    "duration": 1080,
    "start_time": "2021-12-30T10:55:39.848Z"
   },
   {
    "duration": 246,
    "start_time": "2021-12-30T10:55:40.930Z"
   },
   {
    "duration": 264,
    "start_time": "2021-12-30T10:58:26.927Z"
   },
   {
    "duration": 246,
    "start_time": "2021-12-30T10:58:36.236Z"
   },
   {
    "duration": 656,
    "start_time": "2021-12-30T10:58:48.772Z"
   },
   {
    "duration": 216,
    "start_time": "2021-12-30T10:58:53.845Z"
   },
   {
    "duration": 119,
    "start_time": "2021-12-30T11:04:35.408Z"
   },
   {
    "duration": 3,
    "start_time": "2021-12-30T11:07:27.393Z"
   },
   {
    "duration": 17,
    "start_time": "2021-12-30T11:07:48.849Z"
   },
   {
    "duration": 8,
    "start_time": "2021-12-30T11:08:10.935Z"
   },
   {
    "duration": 35,
    "start_time": "2021-12-30T11:09:12.045Z"
   },
   {
    "duration": 10,
    "start_time": "2021-12-30T11:09:23.252Z"
   },
   {
    "duration": 3,
    "start_time": "2021-12-30T11:13:34.327Z"
   },
   {
    "duration": 129,
    "start_time": "2021-12-30T11:13:34.880Z"
   },
   {
    "duration": 9,
    "start_time": "2021-12-30T11:13:35.984Z"
   },
   {
    "duration": 16,
    "start_time": "2021-12-30T11:13:38.733Z"
   },
   {
    "duration": 243,
    "start_time": "2021-12-30T11:13:39.253Z"
   },
   {
    "duration": 123,
    "start_time": "2021-12-30T11:14:15.539Z"
   },
   {
    "duration": 118,
    "start_time": "2021-12-30T11:14:25.400Z"
   },
   {
    "duration": 1020,
    "start_time": "2022-01-02T19:31:09.588Z"
   },
   {
    "duration": 1082,
    "start_time": "2022-01-02T19:31:10.610Z"
   },
   {
    "duration": 6,
    "start_time": "2022-01-02T19:31:11.694Z"
   },
   {
    "duration": 16,
    "start_time": "2022-01-02T19:31:11.702Z"
   },
   {
    "duration": 116,
    "start_time": "2022-01-02T19:31:11.719Z"
   },
   {
    "duration": 592,
    "start_time": "2022-01-02T19:32:29.715Z"
   },
   {
    "duration": 62,
    "start_time": "2022-01-02T19:32:59.260Z"
   },
   {
    "duration": 14,
    "start_time": "2022-01-02T19:43:58.901Z"
   },
   {
    "duration": 1282,
    "start_time": "2022-01-02T19:47:05.530Z"
   },
   {
    "duration": 15,
    "start_time": "2022-01-02T19:47:06.994Z"
   },
   {
    "duration": 3,
    "start_time": "2022-01-02T19:47:18.388Z"
   },
   {
    "duration": 113,
    "start_time": "2022-01-02T19:47:18.392Z"
   },
   {
    "duration": 7,
    "start_time": "2022-01-02T19:47:18.508Z"
   },
   {
    "duration": 18,
    "start_time": "2022-01-02T19:47:18.517Z"
   },
   {
    "duration": 107,
    "start_time": "2022-01-02T19:47:18.537Z"
   },
   {
    "duration": 21,
    "start_time": "2022-01-02T19:47:18.645Z"
   },
   {
    "duration": 13,
    "start_time": "2022-01-02T19:47:18.668Z"
   },
   {
    "duration": 71,
    "start_time": "2022-01-02T19:47:18.683Z"
   },
   {
    "duration": 4,
    "start_time": "2022-01-02T19:50:43.702Z"
   },
   {
    "duration": 83,
    "start_time": "2022-01-02T19:51:55.281Z"
   },
   {
    "duration": 3,
    "start_time": "2022-01-02T19:51:59.845Z"
   },
   {
    "duration": 13,
    "start_time": "2022-01-02T19:53:25.055Z"
   },
   {
    "duration": 16,
    "start_time": "2022-01-02T19:53:56.843Z"
   },
   {
    "duration": 4,
    "start_time": "2022-01-02T20:00:26.584Z"
   },
   {
    "duration": 4,
    "start_time": "2022-01-02T20:00:42.184Z"
   },
   {
    "duration": 6,
    "start_time": "2022-01-02T20:00:44.254Z"
   },
   {
    "duration": 13,
    "start_time": "2022-01-02T20:00:46.862Z"
   },
   {
    "duration": 5,
    "start_time": "2022-01-02T20:01:43.134Z"
   },
   {
    "duration": 284,
    "start_time": "2022-01-02T20:02:49.291Z"
   },
   {
    "duration": 6,
    "start_time": "2022-01-02T20:03:22.587Z"
   },
   {
    "duration": 655,
    "start_time": "2022-01-02T20:06:29.387Z"
   },
   {
    "duration": 2,
    "start_time": "2022-01-02T20:07:29.495Z"
   },
   {
    "duration": 3,
    "start_time": "2022-01-02T20:07:34.178Z"
   },
   {
    "duration": 123,
    "start_time": "2022-01-02T20:07:34.183Z"
   },
   {
    "duration": 6,
    "start_time": "2022-01-02T20:07:34.308Z"
   },
   {
    "duration": 19,
    "start_time": "2022-01-02T20:07:34.316Z"
   },
   {
    "duration": 108,
    "start_time": "2022-01-02T20:07:34.336Z"
   },
   {
    "duration": 20,
    "start_time": "2022-01-02T20:07:34.445Z"
   },
   {
    "duration": 13,
    "start_time": "2022-01-02T20:07:34.467Z"
   },
   {
    "duration": 68,
    "start_time": "2022-01-02T20:07:34.482Z"
   },
   {
    "duration": 63,
    "start_time": "2022-01-02T20:07:34.551Z"
   },
   {
    "duration": 12,
    "start_time": "2022-01-02T20:07:34.616Z"
   },
   {
    "duration": 6,
    "start_time": "2022-01-02T20:07:34.629Z"
   },
   {
    "duration": 11,
    "start_time": "2022-01-02T20:07:34.637Z"
   },
   {
    "duration": 4,
    "start_time": "2022-01-02T20:07:34.650Z"
   },
   {
    "duration": 5,
    "start_time": "2022-01-02T20:07:34.655Z"
   },
   {
    "duration": 670,
    "start_time": "2022-01-02T20:07:34.662Z"
   },
   {
    "duration": 387,
    "start_time": "2022-01-02T20:09:05.982Z"
   },
   {
    "duration": 8918,
    "start_time": "2022-01-02T20:10:18.043Z"
   },
   {
    "duration": 3,
    "start_time": "2022-01-02T20:11:56.863Z"
   },
   {
    "duration": 108,
    "start_time": "2022-01-02T20:11:56.870Z"
   },
   {
    "duration": 6,
    "start_time": "2022-01-02T20:11:56.980Z"
   },
   {
    "duration": 17,
    "start_time": "2022-01-02T20:11:56.988Z"
   },
   {
    "duration": 114,
    "start_time": "2022-01-02T20:11:57.007Z"
   },
   {
    "duration": 23,
    "start_time": "2022-01-02T20:11:57.122Z"
   },
   {
    "duration": 14,
    "start_time": "2022-01-02T20:11:57.147Z"
   },
   {
    "duration": 69,
    "start_time": "2022-01-02T20:11:57.162Z"
   },
   {
    "duration": 66,
    "start_time": "2022-01-02T20:11:57.233Z"
   },
   {
    "duration": 4,
    "start_time": "2022-01-02T20:11:57.301Z"
   },
   {
    "duration": 5,
    "start_time": "2022-01-02T20:11:57.327Z"
   },
   {
    "duration": 13,
    "start_time": "2022-01-02T20:11:57.334Z"
   },
   {
    "duration": 7,
    "start_time": "2022-01-02T20:11:57.349Z"
   },
   {
    "duration": 5,
    "start_time": "2022-01-02T20:11:57.357Z"
   },
   {
    "duration": 660,
    "start_time": "2022-01-02T20:11:57.363Z"
   },
   {
    "duration": 7825,
    "start_time": "2022-01-02T20:11:58.027Z"
   },
   {
    "duration": 17,
    "start_time": "2022-01-02T20:28:40.259Z"
   },
   {
    "duration": 16,
    "start_time": "2022-01-02T20:28:48.304Z"
   },
   {
    "duration": 20,
    "start_time": "2022-01-02T20:52:34.563Z"
   },
   {
    "duration": 6894,
    "start_time": "2022-01-02T20:53:22.343Z"
   },
   {
    "duration": 24,
    "start_time": "2022-01-02T20:53:46.966Z"
   },
   {
    "duration": 21,
    "start_time": "2022-01-02T20:53:55.097Z"
   },
   {
    "duration": 24,
    "start_time": "2022-01-02T20:53:56.135Z"
   },
   {
    "duration": 4,
    "start_time": "2022-01-02T20:53:59.924Z"
   },
   {
    "duration": 1086,
    "start_time": "2022-01-02T20:53:59.952Z"
   },
   {
    "duration": 6,
    "start_time": "2022-01-02T20:54:01.040Z"
   },
   {
    "duration": 18,
    "start_time": "2022-01-02T20:54:01.047Z"
   },
   {
    "duration": 112,
    "start_time": "2022-01-02T20:54:01.067Z"
   },
   {
    "duration": 23,
    "start_time": "2022-01-02T20:54:01.181Z"
   },
   {
    "duration": 22,
    "start_time": "2022-01-02T20:54:01.206Z"
   },
   {
    "duration": 52,
    "start_time": "2022-01-02T20:54:01.229Z"
   },
   {
    "duration": 83,
    "start_time": "2022-01-02T20:54:01.283Z"
   },
   {
    "duration": 3,
    "start_time": "2022-01-02T20:54:01.368Z"
   },
   {
    "duration": 9,
    "start_time": "2022-01-02T20:54:01.372Z"
   },
   {
    "duration": 12,
    "start_time": "2022-01-02T20:54:01.383Z"
   },
   {
    "duration": 4,
    "start_time": "2022-01-02T20:54:01.397Z"
   },
   {
    "duration": 26,
    "start_time": "2022-01-02T20:54:01.403Z"
   },
   {
    "duration": 656,
    "start_time": "2022-01-02T20:54:01.430Z"
   },
   {
    "duration": 17,
    "start_time": "2022-01-02T20:54:02.088Z"
   },
   {
    "duration": 37,
    "start_time": "2022-01-02T20:54:02.106Z"
   },
   {
    "duration": 8301,
    "start_time": "2022-01-02T20:54:02.144Z"
   },
   {
    "duration": 10,
    "start_time": "2022-01-02T20:54:37.538Z"
   },
   {
    "duration": 1644,
    "start_time": "2022-01-03T08:08:28.040Z"
   },
   {
    "duration": 129,
    "start_time": "2022-01-03T08:08:29.685Z"
   },
   {
    "duration": 7,
    "start_time": "2022-01-03T08:08:29.816Z"
   },
   {
    "duration": 20,
    "start_time": "2022-01-03T08:08:29.825Z"
   },
   {
    "duration": 129,
    "start_time": "2022-01-03T08:08:29.847Z"
   },
   {
    "duration": 464,
    "start_time": "2022-01-03T08:08:29.978Z"
   },
   {
    "duration": 19,
    "start_time": "2022-01-03T08:08:30.444Z"
   },
   {
    "duration": 71,
    "start_time": "2022-01-03T08:08:30.465Z"
   },
   {
    "duration": 102,
    "start_time": "2022-01-03T08:08:30.538Z"
   },
   {
    "duration": 4,
    "start_time": "2022-01-03T08:08:30.642Z"
   },
   {
    "duration": 17,
    "start_time": "2022-01-03T08:08:30.648Z"
   },
   {
    "duration": 16,
    "start_time": "2022-01-03T08:08:30.667Z"
   },
   {
    "duration": 5,
    "start_time": "2022-01-03T08:08:30.685Z"
   },
   {
    "duration": 8,
    "start_time": "2022-01-03T08:08:30.692Z"
   },
   {
    "duration": 740,
    "start_time": "2022-01-03T08:08:30.701Z"
   },
   {
    "duration": 27,
    "start_time": "2022-01-03T08:08:31.443Z"
   },
   {
    "duration": 27,
    "start_time": "2022-01-03T08:08:31.472Z"
   },
   {
    "duration": 11,
    "start_time": "2022-01-03T08:08:31.501Z"
   },
   {
    "duration": 4,
    "start_time": "2022-01-03T08:09:23.077Z"
   },
   {
    "duration": 7,
    "start_time": "2022-01-03T08:09:23.788Z"
   },
   {
    "duration": 4,
    "start_time": "2022-01-03T08:10:26.030Z"
   },
   {
    "duration": 8,
    "start_time": "2022-01-03T08:10:26.163Z"
   },
   {
    "duration": 6079,
    "start_time": "2022-01-03T08:12:09.019Z"
   },
   {
    "duration": 24,
    "start_time": "2022-01-03T08:12:24.381Z"
   },
   {
    "duration": 34,
    "start_time": "2022-01-03T08:15:07.400Z"
   },
   {
    "duration": 23,
    "start_time": "2022-01-03T08:20:34.935Z"
   },
   {
    "duration": 4939,
    "start_time": "2022-01-03T08:21:38.651Z"
   },
   {
    "duration": 143,
    "start_time": "2022-01-03T08:21:52.833Z"
   },
   {
    "duration": 147,
    "start_time": "2022-01-03T08:22:28.598Z"
   },
   {
    "duration": 6182,
    "start_time": "2022-01-03T08:24:41.758Z"
   },
   {
    "duration": 2596,
    "start_time": "2022-01-03T08:25:04.269Z"
   },
   {
    "duration": 19,
    "start_time": "2022-01-03T08:53:28.992Z"
   },
   {
    "duration": 21,
    "start_time": "2022-01-03T08:53:34.963Z"
   },
   {
    "duration": 280,
    "start_time": "2022-01-03T08:53:50.627Z"
   },
   {
    "duration": 248,
    "start_time": "2022-01-03T08:54:20.531Z"
   },
   {
    "duration": 223,
    "start_time": "2022-01-03T08:54:57.288Z"
   },
   {
    "duration": 23,
    "start_time": "2022-01-03T08:56:02.513Z"
   },
   {
    "duration": 22,
    "start_time": "2022-01-03T08:56:20.534Z"
   },
   {
    "duration": 5354,
    "start_time": "2022-01-03T08:58:11.264Z"
   },
   {
    "duration": 22,
    "start_time": "2022-01-03T08:58:25.426Z"
   },
   {
    "duration": 5,
    "start_time": "2022-01-03T09:01:02.997Z"
   },
   {
    "duration": 10,
    "start_time": "2022-01-03T09:01:14.872Z"
   },
   {
    "duration": 9,
    "start_time": "2022-01-03T09:01:31.023Z"
   },
   {
    "duration": 2947,
    "start_time": "2022-01-03T09:01:37.725Z"
   },
   {
    "duration": 4,
    "start_time": "2022-01-03T09:01:53.168Z"
   },
   {
    "duration": 126,
    "start_time": "2022-01-03T09:01:53.174Z"
   },
   {
    "duration": 8,
    "start_time": "2022-01-03T09:01:53.303Z"
   },
   {
    "duration": 17,
    "start_time": "2022-01-03T09:01:53.313Z"
   },
   {
    "duration": 135,
    "start_time": "2022-01-03T09:01:53.332Z"
   },
   {
    "duration": 25,
    "start_time": "2022-01-03T09:01:53.470Z"
   },
   {
    "duration": 16,
    "start_time": "2022-01-03T09:01:53.496Z"
   },
   {
    "duration": 83,
    "start_time": "2022-01-03T09:01:53.515Z"
   },
   {
    "duration": 84,
    "start_time": "2022-01-03T09:01:53.600Z"
   },
   {
    "duration": 4,
    "start_time": "2022-01-03T09:01:53.686Z"
   },
   {
    "duration": 6,
    "start_time": "2022-01-03T09:01:53.691Z"
   },
   {
    "duration": 14,
    "start_time": "2022-01-03T09:01:53.699Z"
   },
   {
    "duration": 6,
    "start_time": "2022-01-03T09:01:53.714Z"
   },
   {
    "duration": 39,
    "start_time": "2022-01-03T09:01:53.721Z"
   },
   {
    "duration": 717,
    "start_time": "2022-01-03T09:01:53.762Z"
   },
   {
    "duration": 18,
    "start_time": "2022-01-03T09:01:54.481Z"
   },
   {
    "duration": 3,
    "start_time": "2022-01-03T09:01:54.501Z"
   },
   {
    "duration": 21,
    "start_time": "2022-01-03T09:01:54.506Z"
   },
   {
    "duration": 59,
    "start_time": "2022-01-03T09:01:54.529Z"
   },
   {
    "duration": 23,
    "start_time": "2022-01-03T09:01:54.589Z"
   },
   {
    "duration": 160,
    "start_time": "2022-01-03T09:01:54.614Z"
   },
   {
    "duration": 1851,
    "start_time": "2022-01-03T09:01:54.776Z"
   },
   {
    "duration": 59,
    "start_time": "2022-01-03T09:01:56.630Z"
   },
   {
    "duration": 9,
    "start_time": "2022-01-03T09:01:56.691Z"
   },
   {
    "duration": 5040,
    "start_time": "2022-01-03T09:14:06.575Z"
   },
   {
    "duration": 59,
    "start_time": "2022-01-03T09:14:18.446Z"
   },
   {
    "duration": 11,
    "start_time": "2022-01-03T09:18:08.203Z"
   },
   {
    "duration": 239,
    "start_time": "2022-01-03T09:19:04.827Z"
   },
   {
    "duration": 3,
    "start_time": "2022-01-03T09:19:22.072Z"
   },
   {
    "duration": 130,
    "start_time": "2022-01-03T09:19:22.077Z"
   },
   {
    "duration": 7,
    "start_time": "2022-01-03T09:19:22.209Z"
   },
   {
    "duration": 19,
    "start_time": "2022-01-03T09:19:22.217Z"
   },
   {
    "duration": 124,
    "start_time": "2022-01-03T09:19:22.238Z"
   },
   {
    "duration": 169,
    "start_time": "2022-01-03T09:19:22.364Z"
   },
   {
    "duration": 27,
    "start_time": "2022-01-03T09:19:22.535Z"
   },
   {
    "duration": 57,
    "start_time": "2022-01-03T09:19:22.564Z"
   },
   {
    "duration": 112,
    "start_time": "2022-01-03T09:19:22.623Z"
   },
   {
    "duration": 24,
    "start_time": "2022-01-03T09:19:22.737Z"
   },
   {
    "duration": 6,
    "start_time": "2022-01-03T09:19:22.763Z"
   },
   {
    "duration": 15,
    "start_time": "2022-01-03T09:19:22.771Z"
   },
   {
    "duration": 5,
    "start_time": "2022-01-03T09:19:22.788Z"
   },
   {
    "duration": 6,
    "start_time": "2022-01-03T09:19:22.795Z"
   },
   {
    "duration": 1460,
    "start_time": "2022-01-03T09:19:22.803Z"
   },
   {
    "duration": 18,
    "start_time": "2022-01-03T09:19:24.265Z"
   },
   {
    "duration": 4,
    "start_time": "2022-01-03T09:19:24.285Z"
   },
   {
    "duration": 9,
    "start_time": "2022-01-03T09:19:24.290Z"
   },
   {
    "duration": 82,
    "start_time": "2022-01-03T09:19:24.300Z"
   },
   {
    "duration": 78,
    "start_time": "2022-01-03T09:19:24.384Z"
   },
   {
    "duration": 305,
    "start_time": "2022-01-03T09:19:24.464Z"
   },
   {
    "duration": 2232,
    "start_time": "2022-01-03T09:19:24.770Z"
   },
   {
    "duration": 57,
    "start_time": "2022-01-03T09:19:27.005Z"
   },
   {
    "duration": 255,
    "start_time": "2022-01-03T09:19:27.063Z"
   },
   {
    "duration": 65,
    "start_time": "2022-01-03T09:19:27.323Z"
   },
   {
    "duration": 297,
    "start_time": "2022-01-03T09:19:27.389Z"
   },
   {
    "duration": 113,
    "start_time": "2022-01-03T09:21:06.093Z"
   },
   {
    "duration": 130,
    "start_time": "2022-01-03T09:23:57.153Z"
   },
   {
    "duration": 262,
    "start_time": "2022-01-03T09:24:18.908Z"
   },
   {
    "duration": 218,
    "start_time": "2022-01-03T09:24:38.271Z"
   },
   {
    "duration": 115,
    "start_time": "2022-01-03T09:26:08.891Z"
   },
   {
    "duration": 108,
    "start_time": "2022-01-03T09:27:41.051Z"
   },
   {
    "duration": 2009,
    "start_time": "2022-01-08T10:59:47.012Z"
   },
   {
    "duration": 187,
    "start_time": "2022-01-08T10:59:49.024Z"
   },
   {
    "duration": 11,
    "start_time": "2022-01-08T10:59:49.215Z"
   },
   {
    "duration": 43,
    "start_time": "2022-01-08T10:59:49.229Z"
   },
   {
    "duration": 196,
    "start_time": "2022-01-08T10:59:49.274Z"
   },
   {
    "duration": 628,
    "start_time": "2022-01-08T10:59:49.472Z"
   },
   {
    "duration": 25,
    "start_time": "2022-01-08T10:59:50.103Z"
   },
   {
    "duration": 130,
    "start_time": "2022-01-08T10:59:50.132Z"
   },
   {
    "duration": 135,
    "start_time": "2022-01-08T10:59:50.269Z"
   },
   {
    "duration": 5,
    "start_time": "2022-01-08T10:59:50.406Z"
   },
   {
    "duration": 9,
    "start_time": "2022-01-08T10:59:50.413Z"
   },
   {
    "duration": 43,
    "start_time": "2022-01-08T10:59:50.425Z"
   },
   {
    "duration": 8,
    "start_time": "2022-01-08T10:59:50.471Z"
   },
   {
    "duration": 10,
    "start_time": "2022-01-08T10:59:50.482Z"
   },
   {
    "duration": 1279,
    "start_time": "2022-01-08T10:59:50.494Z"
   },
   {
    "duration": 30,
    "start_time": "2022-01-08T10:59:51.776Z"
   },
   {
    "duration": 5,
    "start_time": "2022-01-08T10:59:51.808Z"
   },
   {
    "duration": 23,
    "start_time": "2022-01-08T10:59:51.816Z"
   },
   {
    "duration": 79,
    "start_time": "2022-01-08T10:59:51.841Z"
   },
   {
    "duration": 49,
    "start_time": "2022-01-08T10:59:51.923Z"
   },
   {
    "duration": 251,
    "start_time": "2022-01-08T10:59:51.974Z"
   },
   {
    "duration": 4005,
    "start_time": "2022-01-08T10:59:52.227Z"
   },
   {
    "duration": 55,
    "start_time": "2022-01-08T10:59:56.237Z"
   },
   {
    "duration": 72,
    "start_time": "2022-01-08T10:59:56.295Z"
   },
   {
    "duration": 138,
    "start_time": "2022-01-08T10:59:56.369Z"
   },
   {
    "duration": 395,
    "start_time": "2022-01-08T10:59:56.510Z"
   },
   {
    "duration": 5,
    "start_time": "2022-01-08T11:06:06.866Z"
   },
   {
    "duration": 158,
    "start_time": "2022-01-08T11:06:06.883Z"
   },
   {
    "duration": 25,
    "start_time": "2022-01-08T11:06:07.044Z"
   },
   {
    "duration": 29,
    "start_time": "2022-01-08T11:06:07.073Z"
   },
   {
    "duration": 190,
    "start_time": "2022-01-08T11:06:07.104Z"
   },
   {
    "duration": 33,
    "start_time": "2022-01-08T11:06:07.297Z"
   },
   {
    "duration": 45,
    "start_time": "2022-01-08T11:06:07.333Z"
   },
   {
    "duration": 104,
    "start_time": "2022-01-08T11:06:07.380Z"
   },
   {
    "duration": 124,
    "start_time": "2022-01-08T11:06:07.487Z"
   },
   {
    "duration": 6,
    "start_time": "2022-01-08T11:06:07.615Z"
   },
   {
    "duration": 12,
    "start_time": "2022-01-08T11:06:07.624Z"
   },
   {
    "duration": 42,
    "start_time": "2022-01-08T11:06:07.639Z"
   },
   {
    "duration": 10,
    "start_time": "2022-01-08T11:06:07.683Z"
   },
   {
    "duration": 10,
    "start_time": "2022-01-08T11:06:07.696Z"
   },
   {
    "duration": 1269,
    "start_time": "2022-01-08T11:06:07.708Z"
   },
   {
    "duration": 26,
    "start_time": "2022-01-08T11:06:08.979Z"
   },
   {
    "duration": 4,
    "start_time": "2022-01-08T11:06:09.007Z"
   },
   {
    "duration": 12,
    "start_time": "2022-01-08T11:06:09.013Z"
   },
   {
    "duration": 79,
    "start_time": "2022-01-08T11:06:09.027Z"
   },
   {
    "duration": 32,
    "start_time": "2022-01-08T11:06:09.108Z"
   },
   {
    "duration": 283,
    "start_time": "2022-01-08T11:06:09.142Z"
   },
   {
    "duration": 3161,
    "start_time": "2022-01-08T11:06:09.427Z"
   },
   {
    "duration": 95,
    "start_time": "2022-01-08T11:06:12.592Z"
   },
   {
    "duration": 11,
    "start_time": "2022-01-08T11:06:12.690Z"
   },
   {
    "duration": 201,
    "start_time": "2022-01-08T11:06:12.703Z"
   },
   {
    "duration": 678,
    "start_time": "2022-01-08T11:06:12.906Z"
   },
   {
    "duration": 8,
    "start_time": "2022-01-08T11:06:13.586Z"
   },
   {
    "duration": 8,
    "start_time": "2022-01-08T11:06:46.446Z"
   },
   {
    "duration": 37,
    "start_time": "2022-01-08T11:08:16.196Z"
   },
   {
    "duration": 40,
    "start_time": "2022-01-08T11:08:39.201Z"
   },
   {
    "duration": 6,
    "start_time": "2022-01-08T12:18:57.981Z"
   },
   {
    "duration": 170,
    "start_time": "2022-01-08T12:18:57.990Z"
   },
   {
    "duration": 12,
    "start_time": "2022-01-08T12:18:58.163Z"
   },
   {
    "duration": 25,
    "start_time": "2022-01-08T12:18:58.178Z"
   },
   {
    "duration": 297,
    "start_time": "2022-01-08T12:18:58.206Z"
   },
   {
    "duration": 32,
    "start_time": "2022-01-08T12:18:58.506Z"
   },
   {
    "duration": 42,
    "start_time": "2022-01-08T12:18:58.540Z"
   },
   {
    "duration": 101,
    "start_time": "2022-01-08T12:18:58.585Z"
   },
   {
    "duration": 128,
    "start_time": "2022-01-08T12:18:58.689Z"
   },
   {
    "duration": 6,
    "start_time": "2022-01-08T12:18:58.820Z"
   },
   {
    "duration": 10,
    "start_time": "2022-01-08T12:18:58.828Z"
   },
   {
    "duration": 45,
    "start_time": "2022-01-08T12:18:58.840Z"
   },
   {
    "duration": 8,
    "start_time": "2022-01-08T12:18:58.887Z"
   },
   {
    "duration": 7,
    "start_time": "2022-01-08T12:18:58.898Z"
   },
   {
    "duration": 1311,
    "start_time": "2022-01-08T12:18:58.908Z"
   },
   {
    "duration": 26,
    "start_time": "2022-01-08T12:19:00.222Z"
   },
   {
    "duration": 5,
    "start_time": "2022-01-08T12:19:00.267Z"
   },
   {
    "duration": 21,
    "start_time": "2022-01-08T12:19:00.274Z"
   },
   {
    "duration": 70,
    "start_time": "2022-01-08T12:19:00.298Z"
   },
   {
    "duration": 33,
    "start_time": "2022-01-08T12:19:00.371Z"
   },
   {
    "duration": 267,
    "start_time": "2022-01-08T12:19:00.407Z"
   },
   {
    "duration": 3292,
    "start_time": "2022-01-08T12:19:00.676Z"
   },
   {
    "duration": 102,
    "start_time": "2022-01-08T12:19:03.977Z"
   },
   {
    "duration": 10,
    "start_time": "2022-01-08T12:19:04.082Z"
   },
   {
    "duration": 274,
    "start_time": "2022-01-08T12:19:04.095Z"
   },
   {
    "duration": 403,
    "start_time": "2022-01-08T12:19:04.372Z"
   },
   {
    "duration": 94,
    "start_time": "2022-01-08T12:19:04.777Z"
   },
   {
    "duration": 5,
    "start_time": "2022-01-08T12:54:59.772Z"
   },
   {
    "duration": 1385,
    "start_time": "2022-01-09T12:40:54.859Z"
   },
   {
    "duration": 122,
    "start_time": "2022-01-09T12:40:56.246Z"
   },
   {
    "duration": 7,
    "start_time": "2022-01-09T12:40:56.369Z"
   },
   {
    "duration": 15,
    "start_time": "2022-01-09T12:40:56.378Z"
   },
   {
    "duration": 124,
    "start_time": "2022-01-09T12:40:56.394Z"
   },
   {
    "duration": 565,
    "start_time": "2022-01-09T12:40:56.520Z"
   },
   {
    "duration": 17,
    "start_time": "2022-01-09T12:40:57.086Z"
   },
   {
    "duration": 80,
    "start_time": "2022-01-09T12:40:57.106Z"
   },
   {
    "duration": 95,
    "start_time": "2022-01-09T12:40:57.188Z"
   },
   {
    "duration": 4,
    "start_time": "2022-01-09T12:40:57.284Z"
   },
   {
    "duration": 7,
    "start_time": "2022-01-09T12:40:57.289Z"
   },
   {
    "duration": 16,
    "start_time": "2022-01-09T12:40:57.298Z"
   },
   {
    "duration": 5,
    "start_time": "2022-01-09T12:40:57.315Z"
   },
   {
    "duration": 5,
    "start_time": "2022-01-09T12:40:57.341Z"
   },
   {
    "duration": 702,
    "start_time": "2022-01-09T12:40:57.348Z"
   },
   {
    "duration": 19,
    "start_time": "2022-01-09T12:40:58.052Z"
   },
   {
    "duration": 3,
    "start_time": "2022-01-09T12:40:58.072Z"
   },
   {
    "duration": 15,
    "start_time": "2022-01-09T12:40:58.077Z"
   },
   {
    "duration": 48,
    "start_time": "2022-01-09T12:40:58.094Z"
   },
   {
    "duration": 21,
    "start_time": "2022-01-09T12:40:58.143Z"
   },
   {
    "duration": 151,
    "start_time": "2022-01-09T12:40:58.165Z"
   },
   {
    "duration": 2398,
    "start_time": "2022-01-09T12:40:58.317Z"
   },
   {
    "duration": 38,
    "start_time": "2022-01-09T12:41:00.718Z"
   },
   {
    "duration": 7,
    "start_time": "2022-01-09T12:41:00.758Z"
   },
   {
    "duration": 179,
    "start_time": "2022-01-09T12:41:00.767Z"
   },
   {
    "duration": 222,
    "start_time": "2022-01-09T12:41:00.948Z"
   },
   {
    "duration": 84,
    "start_time": "2022-01-09T12:41:01.171Z"
   },
   {
    "duration": 3337,
    "start_time": "2022-01-09T12:41:29.700Z"
   },
   {
    "duration": 27,
    "start_time": "2022-01-09T12:42:37.496Z"
   },
   {
    "duration": 5490,
    "start_time": "2022-01-09T12:44:31.919Z"
   },
   {
    "duration": 6524,
    "start_time": "2022-01-09T12:44:41.403Z"
   },
   {
    "duration": 233,
    "start_time": "2022-01-09T12:44:56.150Z"
   },
   {
    "duration": 405,
    "start_time": "2022-01-09T12:45:05.136Z"
   },
   {
    "duration": 203,
    "start_time": "2022-01-09T12:50:32.069Z"
   },
   {
    "duration": 31,
    "start_time": "2022-01-09T12:55:41.552Z"
   },
   {
    "duration": 218,
    "start_time": "2022-01-09T12:55:50.282Z"
   },
   {
    "duration": 207,
    "start_time": "2022-01-09T12:55:51.292Z"
   },
   {
    "duration": 224,
    "start_time": "2022-01-09T12:56:02.492Z"
   },
   {
    "duration": 216,
    "start_time": "2022-01-09T12:57:05.471Z"
   },
   {
    "duration": 200,
    "start_time": "2022-01-09T12:57:58.725Z"
   },
   {
    "duration": 28,
    "start_time": "2022-01-09T12:58:07.989Z"
   },
   {
    "duration": 208,
    "start_time": "2022-01-09T12:58:10.952Z"
   },
   {
    "duration": 7,
    "start_time": "2022-01-09T12:58:14.043Z"
   },
   {
    "duration": 9,
    "start_time": "2022-01-09T12:58:18.126Z"
   },
   {
    "duration": 203,
    "start_time": "2022-01-09T12:58:21.845Z"
   },
   {
    "duration": 8,
    "start_time": "2022-01-09T12:58:31.132Z"
   },
   {
    "duration": 6,
    "start_time": "2022-01-09T13:00:35.019Z"
   },
   {
    "duration": 10,
    "start_time": "2022-01-09T13:00:48.470Z"
   },
   {
    "duration": 5,
    "start_time": "2022-01-09T13:02:35.179Z"
   },
   {
    "duration": 7,
    "start_time": "2022-01-09T13:02:36.588Z"
   },
   {
    "duration": 8,
    "start_time": "2022-01-09T13:06:36.027Z"
   },
   {
    "duration": 8,
    "start_time": "2022-01-09T13:06:36.997Z"
   },
   {
    "duration": 5,
    "start_time": "2022-01-09T13:07:29.641Z"
   },
   {
    "duration": 8,
    "start_time": "2022-01-09T13:41:01.877Z"
   },
   {
    "duration": 8,
    "start_time": "2022-01-09T13:41:18.595Z"
   },
   {
    "duration": 6628,
    "start_time": "2022-01-09T13:41:39.820Z"
   },
   {
    "duration": 19,
    "start_time": "2022-01-09T13:41:55.046Z"
   },
   {
    "duration": 1906,
    "start_time": "2022-01-10T08:18:36.918Z"
   },
   {
    "duration": 178,
    "start_time": "2022-01-10T08:18:38.827Z"
   },
   {
    "duration": 12,
    "start_time": "2022-01-10T08:18:39.008Z"
   },
   {
    "duration": 23,
    "start_time": "2022-01-10T08:18:39.023Z"
   },
   {
    "duration": 190,
    "start_time": "2022-01-10T08:18:39.067Z"
   },
   {
    "duration": 644,
    "start_time": "2022-01-10T08:18:39.259Z"
   },
   {
    "duration": 24,
    "start_time": "2022-01-10T08:18:39.906Z"
   },
   {
    "duration": 135,
    "start_time": "2022-01-10T08:18:39.934Z"
   },
   {
    "duration": 168,
    "start_time": "2022-01-10T08:18:40.072Z"
   },
   {
    "duration": 6,
    "start_time": "2022-01-10T08:18:40.243Z"
   },
   {
    "duration": 19,
    "start_time": "2022-01-10T08:18:40.252Z"
   },
   {
    "duration": 22,
    "start_time": "2022-01-10T08:18:40.273Z"
   },
   {
    "duration": 7,
    "start_time": "2022-01-10T08:18:40.298Z"
   },
   {
    "duration": 8,
    "start_time": "2022-01-10T08:18:40.307Z"
   },
   {
    "duration": 1349,
    "start_time": "2022-01-10T08:18:40.318Z"
   },
   {
    "duration": 30,
    "start_time": "2022-01-10T08:18:41.669Z"
   },
   {
    "duration": 5,
    "start_time": "2022-01-10T08:18:41.701Z"
   },
   {
    "duration": 24,
    "start_time": "2022-01-10T08:18:41.708Z"
   },
   {
    "duration": 72,
    "start_time": "2022-01-10T08:18:41.735Z"
   },
   {
    "duration": 31,
    "start_time": "2022-01-10T08:18:41.809Z"
   },
   {
    "duration": 272,
    "start_time": "2022-01-10T08:18:41.843Z"
   },
   {
    "duration": 3961,
    "start_time": "2022-01-10T08:18:42.117Z"
   },
   {
    "duration": 98,
    "start_time": "2022-01-10T08:18:46.084Z"
   },
   {
    "duration": 12,
    "start_time": "2022-01-10T08:18:46.184Z"
   },
   {
    "duration": 193,
    "start_time": "2022-01-10T08:18:46.198Z"
   },
   {
    "duration": 400,
    "start_time": "2022-01-10T08:18:46.393Z"
   },
   {
    "duration": 90,
    "start_time": "2022-01-10T08:18:46.795Z"
   },
   {
    "duration": 609,
    "start_time": "2022-01-10T08:18:46.888Z"
   },
   {
    "duration": 764,
    "start_time": "2022-01-10T08:18:47.499Z"
   },
   {
    "duration": -9817,
    "start_time": "2022-01-10T08:18:58.083Z"
   },
   {
    "duration": -9819,
    "start_time": "2022-01-10T08:18:58.087Z"
   },
   {
    "duration": -9821,
    "start_time": "2022-01-10T08:18:58.090Z"
   },
   {
    "duration": -9822,
    "start_time": "2022-01-10T08:18:58.093Z"
   },
   {
    "duration": -9825,
    "start_time": "2022-01-10T08:18:58.097Z"
   },
   {
    "duration": 8,
    "start_time": "2022-01-10T08:25:07.960Z"
   },
   {
    "duration": 8,
    "start_time": "2022-01-10T08:25:11.505Z"
   },
   {
    "duration": 791,
    "start_time": "2022-01-10T08:25:17.987Z"
   },
   {
    "duration": 16,
    "start_time": "2022-01-10T08:25:24.778Z"
   },
   {
    "duration": 8,
    "start_time": "2022-01-10T08:25:25.645Z"
   },
   {
    "duration": 11,
    "start_time": "2022-01-10T08:25:26.457Z"
   },
   {
    "duration": 11,
    "start_time": "2022-01-10T08:25:28.270Z"
   },
   {
    "duration": 12,
    "start_time": "2022-01-10T08:25:28.427Z"
   },
   {
    "duration": 12,
    "start_time": "2022-01-10T08:25:28.591Z"
   },
   {
    "duration": 11,
    "start_time": "2022-01-10T08:36:36.353Z"
   },
   {
    "duration": 13,
    "start_time": "2022-01-10T08:37:00.688Z"
   },
   {
    "duration": 11,
    "start_time": "2022-01-10T08:37:22.393Z"
   },
   {
    "duration": 12,
    "start_time": "2022-01-10T08:37:44.421Z"
   },
   {
    "duration": 8,
    "start_time": "2022-01-10T08:48:47.313Z"
   },
   {
    "duration": 11,
    "start_time": "2022-01-10T08:49:05.251Z"
   },
   {
    "duration": 6,
    "start_time": "2022-01-10T08:51:07.843Z"
   },
   {
    "duration": 7,
    "start_time": "2022-01-10T10:27:19.004Z"
   },
   {
    "duration": 1252,
    "start_time": "2022-01-10T10:27:20.933Z"
   },
   {
    "duration": 4,
    "start_time": "2022-01-10T10:30:55.946Z"
   },
   {
    "duration": 11,
    "start_time": "2022-01-10T10:30:56.734Z"
   },
   {
    "duration": 120,
    "start_time": "2022-01-10T10:31:13.749Z"
   },
   {
    "duration": 6,
    "start_time": "2022-01-10T10:31:18.492Z"
   },
   {
    "duration": 5,
    "start_time": "2022-01-10T10:31:25.745Z"
   },
   {
    "duration": 6,
    "start_time": "2022-01-10T10:31:31.116Z"
   },
   {
    "duration": 4,
    "start_time": "2022-01-10T10:31:40.176Z"
   },
   {
    "duration": 5,
    "start_time": "2022-01-10T11:25:58.599Z"
   },
   {
    "duration": 31,
    "start_time": "2022-01-10T11:26:45.879Z"
   },
   {
    "duration": 6,
    "start_time": "2022-01-10T11:29:09.722Z"
   },
   {
    "duration": 195,
    "start_time": "2022-01-10T11:29:09.741Z"
   },
   {
    "duration": 12,
    "start_time": "2022-01-10T11:29:09.940Z"
   },
   {
    "duration": 33,
    "start_time": "2022-01-10T11:29:09.955Z"
   },
   {
    "duration": 245,
    "start_time": "2022-01-10T11:29:09.992Z"
   },
   {
    "duration": 61,
    "start_time": "2022-01-10T11:29:10.240Z"
   },
   {
    "duration": 22,
    "start_time": "2022-01-10T11:29:10.303Z"
   },
   {
    "duration": 124,
    "start_time": "2022-01-10T11:29:10.327Z"
   },
   {
    "duration": 138,
    "start_time": "2022-01-10T11:29:10.454Z"
   },
   {
    "duration": 4,
    "start_time": "2022-01-10T11:29:10.597Z"
   },
   {
    "duration": 13,
    "start_time": "2022-01-10T11:29:10.604Z"
   },
   {
    "duration": 53,
    "start_time": "2022-01-10T11:29:10.619Z"
   },
   {
    "duration": 11,
    "start_time": "2022-01-10T11:29:10.675Z"
   },
   {
    "duration": 9,
    "start_time": "2022-01-10T11:29:10.689Z"
   },
   {
    "duration": 1567,
    "start_time": "2022-01-10T11:29:10.701Z"
   },
   {
    "duration": 26,
    "start_time": "2022-01-10T11:29:12.270Z"
   },
   {
    "duration": 5,
    "start_time": "2022-01-10T11:29:12.298Z"
   },
   {
    "duration": 66,
    "start_time": "2022-01-10T11:29:12.305Z"
   },
   {
    "duration": 96,
    "start_time": "2022-01-10T11:29:12.373Z"
   },
   {
    "duration": 32,
    "start_time": "2022-01-10T11:29:12.471Z"
   },
   {
    "duration": 5080,
    "start_time": "2022-01-10T11:29:12.506Z"
   },
   {
    "duration": 78,
    "start_time": "2022-01-10T11:29:17.590Z"
   },
   {
    "duration": 3,
    "start_time": "2022-01-10T11:29:17.671Z"
   },
   {
    "duration": 91,
    "start_time": "2022-01-10T11:29:17.676Z"
   },
   {
    "duration": 174,
    "start_time": "2022-01-10T11:29:17.769Z"
   },
   {
    "duration": 38,
    "start_time": "2022-01-10T11:29:17.945Z"
   },
   {
    "duration": 311,
    "start_time": "2022-01-10T11:29:17.985Z"
   },
   {
    "duration": 15,
    "start_time": "2022-01-10T11:29:18.301Z"
   },
   {
    "duration": 8,
    "start_time": "2022-01-10T11:29:18.319Z"
   },
   {
    "duration": 17,
    "start_time": "2022-01-10T11:29:18.329Z"
   },
   {
    "duration": 18,
    "start_time": "2022-01-10T11:29:18.349Z"
   },
   {
    "duration": 12,
    "start_time": "2022-01-10T11:29:18.369Z"
   },
   {
    "duration": 11,
    "start_time": "2022-01-10T11:29:18.383Z"
   },
   {
    "duration": 14,
    "start_time": "2022-01-10T11:29:18.396Z"
   },
   {
    "duration": 19,
    "start_time": "2022-01-10T11:29:18.413Z"
   },
   {
    "duration": 18,
    "start_time": "2022-01-10T11:29:18.435Z"
   },
   {
    "duration": 18,
    "start_time": "2022-01-10T11:29:18.455Z"
   },
   {
    "duration": 9322,
    "start_time": "2022-01-10T12:12:30.144Z"
   },
   {
    "duration": 12170,
    "start_time": "2022-01-10T12:12:45.327Z"
   },
   {
    "duration": 9129,
    "start_time": "2022-01-10T12:13:23.950Z"
   },
   {
    "duration": 41,
    "start_time": "2022-01-10T12:13:43.231Z"
   },
   {
    "duration": 8337,
    "start_time": "2022-01-10T12:13:46.552Z"
   },
   {
    "duration": 102,
    "start_time": "2022-01-10T12:14:11.771Z"
   },
   {
    "duration": 157,
    "start_time": "2022-01-10T12:14:19.711Z"
   },
   {
    "duration": 56,
    "start_time": "2022-01-10T12:15:18.480Z"
   },
   {
    "duration": 5,
    "start_time": "2022-01-10T12:15:41.582Z"
   },
   {
    "duration": 7,
    "start_time": "2022-01-10T12:16:14.917Z"
   },
   {
    "duration": 5,
    "start_time": "2022-01-10T12:22:09.651Z"
   },
   {
    "duration": 41,
    "start_time": "2022-01-10T12:22:32.039Z"
   },
   {
    "duration": 6,
    "start_time": "2022-01-10T12:22:32.732Z"
   },
   {
    "duration": 40,
    "start_time": "2022-01-10T12:22:38.468Z"
   },
   {
    "duration": 5,
    "start_time": "2022-01-10T12:22:38.952Z"
   },
   {
    "duration": 5,
    "start_time": "2022-01-10T12:22:45.849Z"
   },
   {
    "duration": 334,
    "start_time": "2022-01-10T13:35:25.809Z"
   },
   {
    "duration": 389,
    "start_time": "2022-01-10T13:35:30.387Z"
   },
   {
    "duration": 31,
    "start_time": "2022-01-10T13:35:38.048Z"
   },
   {
    "duration": 12,
    "start_time": "2022-01-10T13:36:59.830Z"
   },
   {
    "duration": 318,
    "start_time": "2022-01-10T13:48:05.675Z"
   },
   {
    "duration": -73,
    "start_time": "2022-01-10T13:49:42.925Z"
   },
   {
    "duration": 9847,
    "start_time": "2022-01-10T13:50:00.244Z"
   },
   {
    "duration": 8699,
    "start_time": "2022-01-10T13:52:30.091Z"
   },
   {
    "duration": 517,
    "start_time": "2022-01-10T13:53:39.794Z"
   },
   {
    "duration": 4604,
    "start_time": "2022-01-10T13:53:52.013Z"
   },
   {
    "duration": 37,
    "start_time": "2022-01-10T13:54:02.981Z"
   },
   {
    "duration": 6,
    "start_time": "2022-01-10T13:54:48.303Z"
   },
   {
    "duration": 280,
    "start_time": "2022-01-10T13:54:48.311Z"
   },
   {
    "duration": 10,
    "start_time": "2022-01-10T13:54:48.594Z"
   },
   {
    "duration": 23,
    "start_time": "2022-01-10T13:54:48.608Z"
   },
   {
    "duration": 217,
    "start_time": "2022-01-10T13:54:48.635Z"
   },
   {
    "duration": 37,
    "start_time": "2022-01-10T13:54:48.855Z"
   },
   {
    "duration": 26,
    "start_time": "2022-01-10T13:54:48.899Z"
   },
   {
    "duration": 102,
    "start_time": "2022-01-10T13:54:48.928Z"
   },
   {
    "duration": 185,
    "start_time": "2022-01-10T13:54:49.034Z"
   },
   {
    "duration": 5,
    "start_time": "2022-01-10T13:54:49.222Z"
   },
   {
    "duration": 40,
    "start_time": "2022-01-10T13:54:49.229Z"
   },
   {
    "duration": 45,
    "start_time": "2022-01-10T13:54:49.271Z"
   },
   {
    "duration": 22,
    "start_time": "2022-01-10T13:54:49.318Z"
   },
   {
    "duration": 18,
    "start_time": "2022-01-10T13:54:49.342Z"
   },
   {
    "duration": 1345,
    "start_time": "2022-01-10T13:54:49.362Z"
   },
   {
    "duration": 29,
    "start_time": "2022-01-10T13:54:50.709Z"
   },
   {
    "duration": 606,
    "start_time": "2022-01-10T13:54:50.740Z"
   },
   {
    "duration": 15,
    "start_time": "2022-01-10T13:54:51.349Z"
   },
   {
    "duration": 55,
    "start_time": "2022-01-10T13:54:51.367Z"
   },
   {
    "duration": 33,
    "start_time": "2022-01-10T13:54:51.424Z"
   },
   {
    "duration": 3320,
    "start_time": "2022-01-10T13:54:51.460Z"
   },
   {
    "duration": 40,
    "start_time": "2022-01-10T13:54:54.783Z"
   },
   {
    "duration": 3,
    "start_time": "2022-01-10T13:54:54.825Z"
   },
   {
    "duration": 124,
    "start_time": "2022-01-10T13:54:54.831Z"
   },
   {
    "duration": 210,
    "start_time": "2022-01-10T13:54:54.957Z"
   },
   {
    "duration": 6182,
    "start_time": "2022-01-10T13:54:55.169Z"
   },
   {
    "duration": 39,
    "start_time": "2022-01-10T13:55:54.470Z"
   },
   {
    "duration": 4464,
    "start_time": "2022-01-10T13:57:26.634Z"
   },
   {
    "duration": 42,
    "start_time": "2022-01-10T13:57:39.247Z"
   },
   {
    "duration": 6,
    "start_time": "2022-01-10T13:57:56.450Z"
   },
   {
    "duration": 9847,
    "start_time": "2022-01-10T13:59:46.741Z"
   },
   {
    "duration": 22,
    "start_time": "2022-01-10T14:00:15.047Z"
   },
   {
    "duration": 3,
    "start_time": "2022-01-10T14:06:03.610Z"
   },
   {
    "duration": 10,
    "start_time": "2022-01-10T14:06:05.798Z"
   },
   {
    "duration": 836,
    "start_time": "2022-01-10T14:06:06.466Z"
   },
   {
    "duration": 13,
    "start_time": "2022-01-10T14:06:24.870Z"
   },
   {
    "duration": 8,
    "start_time": "2022-01-10T14:06:25.822Z"
   },
   {
    "duration": 11,
    "start_time": "2022-01-10T14:06:26.176Z"
   },
   {
    "duration": 14,
    "start_time": "2022-01-10T14:15:01.944Z"
   },
   {
    "duration": 12,
    "start_time": "2022-01-10T14:21:05.995Z"
   },
   {
    "duration": 12,
    "start_time": "2022-01-10T14:21:07.044Z"
   },
   {
    "duration": 11,
    "start_time": "2022-01-10T14:21:08.469Z"
   },
   {
    "duration": 12,
    "start_time": "2022-01-10T14:21:10.958Z"
   },
   {
    "duration": 7,
    "start_time": "2022-01-10T14:42:13.368Z"
   },
   {
    "duration": 319,
    "start_time": "2022-01-10T14:42:13.378Z"
   },
   {
    "duration": 11,
    "start_time": "2022-01-10T14:42:13.701Z"
   },
   {
    "duration": 78,
    "start_time": "2022-01-10T14:42:13.715Z"
   },
   {
    "duration": 305,
    "start_time": "2022-01-10T14:42:13.796Z"
   },
   {
    "duration": 33,
    "start_time": "2022-01-10T14:42:14.104Z"
   },
   {
    "duration": 79,
    "start_time": "2022-01-10T14:42:14.140Z"
   },
   {
    "duration": 173,
    "start_time": "2022-01-10T14:42:14.222Z"
   },
   {
    "duration": 122,
    "start_time": "2022-01-10T14:42:14.400Z"
   },
   {
    "duration": 4,
    "start_time": "2022-01-10T14:42:14.525Z"
   },
   {
    "duration": 106,
    "start_time": "2022-01-10T14:42:14.532Z"
   },
   {
    "duration": 104,
    "start_time": "2022-01-10T14:42:14.640Z"
   },
   {
    "duration": 120,
    "start_time": "2022-01-10T14:42:14.746Z"
   },
   {
    "duration": 158,
    "start_time": "2022-01-10T14:42:14.869Z"
   },
   {
    "duration": 1581,
    "start_time": "2022-01-10T14:42:15.029Z"
   },
   {
    "duration": 26,
    "start_time": "2022-01-10T14:42:16.612Z"
   },
   {
    "duration": 207,
    "start_time": "2022-01-10T14:42:16.640Z"
   },
   {
    "duration": 189,
    "start_time": "2022-01-10T14:42:16.850Z"
   },
   {
    "duration": 112,
    "start_time": "2022-01-10T14:42:17.041Z"
   },
   {
    "duration": 178,
    "start_time": "2022-01-10T14:42:17.156Z"
   },
   {
    "duration": 4607,
    "start_time": "2022-01-10T14:42:17.336Z"
   },
   {
    "duration": 47,
    "start_time": "2022-01-10T14:42:21.945Z"
   },
   {
    "duration": 66,
    "start_time": "2022-01-10T14:42:21.995Z"
   },
   {
    "duration": 190,
    "start_time": "2022-01-10T14:42:22.063Z"
   },
   {
    "duration": 287,
    "start_time": "2022-01-10T14:42:22.255Z"
   },
   {
    "duration": 47,
    "start_time": "2022-01-10T14:42:22.544Z"
   },
   {
    "duration": 109,
    "start_time": "2022-01-10T14:42:22.596Z"
   },
   {
    "duration": 443,
    "start_time": "2022-01-10T14:42:22.707Z"
   },
   {
    "duration": 29,
    "start_time": "2022-01-10T14:42:23.152Z"
   },
   {
    "duration": 156,
    "start_time": "2022-01-10T14:42:23.184Z"
   },
   {
    "duration": 146,
    "start_time": "2022-01-10T14:42:23.342Z"
   },
   {
    "duration": 135,
    "start_time": "2022-01-10T14:42:23.491Z"
   },
   {
    "duration": 96,
    "start_time": "2022-01-10T14:42:23.628Z"
   },
   {
    "duration": 63,
    "start_time": "2022-01-10T14:42:23.727Z"
   },
   {
    "duration": 179,
    "start_time": "2022-01-10T14:42:23.793Z"
   },
   {
    "duration": 152,
    "start_time": "2022-01-10T14:42:23.974Z"
   },
   {
    "duration": 82,
    "start_time": "2022-01-10T14:42:24.128Z"
   },
   {
    "duration": 130,
    "start_time": "2022-01-10T14:42:24.212Z"
   },
   {
    "duration": 110,
    "start_time": "2022-01-10T14:42:24.345Z"
   },
   {
    "duration": 19681,
    "start_time": "2022-01-10T16:49:29.137Z"
   },
   {
    "duration": 131,
    "start_time": "2022-01-10T16:49:48.820Z"
   },
   {
    "duration": 7,
    "start_time": "2022-01-10T16:49:48.954Z"
   },
   {
    "duration": 17,
    "start_time": "2022-01-10T16:49:48.963Z"
   },
   {
    "duration": 124,
    "start_time": "2022-01-10T16:49:48.982Z"
   },
   {
    "duration": 77118,
    "start_time": "2022-01-10T16:49:49.108Z"
   },
   {
    "duration": 18,
    "start_time": "2022-01-10T16:51:06.228Z"
   },
   {
    "duration": 87,
    "start_time": "2022-01-10T16:51:06.248Z"
   },
   {
    "duration": 133,
    "start_time": "2022-01-10T16:51:06.338Z"
   },
   {
    "duration": 4,
    "start_time": "2022-01-10T16:51:06.474Z"
   },
   {
    "duration": 25,
    "start_time": "2022-01-10T16:51:06.480Z"
   },
   {
    "duration": 40,
    "start_time": "2022-01-10T16:51:06.507Z"
   },
   {
    "duration": 11,
    "start_time": "2022-01-10T16:51:06.549Z"
   },
   {
    "duration": 10,
    "start_time": "2022-01-10T16:51:06.562Z"
   },
   {
    "duration": 958,
    "start_time": "2022-01-10T16:51:06.574Z"
   },
   {
    "duration": 27,
    "start_time": "2022-01-10T16:51:07.534Z"
   },
   {
    "duration": 4,
    "start_time": "2022-01-10T16:51:07.563Z"
   },
   {
    "duration": 17,
    "start_time": "2022-01-10T16:51:07.569Z"
   },
   {
    "duration": 39,
    "start_time": "2022-01-10T16:51:07.588Z"
   },
   {
    "duration": 27,
    "start_time": "2022-01-10T16:51:07.629Z"
   },
   {
    "duration": 2657,
    "start_time": "2022-01-10T16:51:07.658Z"
   },
   {
    "duration": 64,
    "start_time": "2022-01-10T16:51:10.318Z"
   },
   {
    "duration": 2,
    "start_time": "2022-01-10T16:51:10.384Z"
   },
   {
    "duration": 82,
    "start_time": "2022-01-10T16:51:10.388Z"
   },
   {
    "duration": 133,
    "start_time": "2022-01-10T16:51:10.472Z"
   },
   {
    "duration": 31,
    "start_time": "2022-01-10T16:51:10.607Z"
   },
   {
    "duration": 7,
    "start_time": "2022-01-10T16:51:10.642Z"
   },
   {
    "duration": 290,
    "start_time": "2022-01-10T16:51:10.651Z"
   },
   {
    "duration": 19,
    "start_time": "2022-01-10T16:51:10.943Z"
   },
   {
    "duration": 20,
    "start_time": "2022-01-10T16:51:10.963Z"
   },
   {
    "duration": 9,
    "start_time": "2022-01-10T16:51:10.985Z"
   },
   {
    "duration": 35,
    "start_time": "2022-01-10T16:51:10.995Z"
   },
   {
    "duration": 23,
    "start_time": "2022-01-10T16:51:11.031Z"
   },
   {
    "duration": 25,
    "start_time": "2022-01-10T16:51:11.056Z"
   },
   {
    "duration": 21,
    "start_time": "2022-01-10T16:51:11.083Z"
   },
   {
    "duration": 8,
    "start_time": "2022-01-10T16:51:11.106Z"
   },
   {
    "duration": 11,
    "start_time": "2022-01-10T16:51:11.116Z"
   },
   {
    "duration": 13,
    "start_time": "2022-01-10T16:51:11.129Z"
   },
   {
    "duration": 8,
    "start_time": "2022-01-10T16:51:11.143Z"
   },
   {
    "duration": 188,
    "start_time": "2022-01-10T17:11:46.818Z"
   },
   {
    "duration": 1380,
    "start_time": "2022-01-11T08:47:00.286Z"
   },
   {
    "duration": 2000,
    "start_time": "2022-01-11T08:47:09.706Z"
   },
   {
    "duration": 178,
    "start_time": "2022-01-11T08:47:11.708Z"
   },
   {
    "duration": 10,
    "start_time": "2022-01-11T08:47:11.890Z"
   },
   {
    "duration": 23,
    "start_time": "2022-01-11T08:47:11.903Z"
   },
   {
    "duration": 206,
    "start_time": "2022-01-11T08:47:11.928Z"
   },
   {
    "duration": 635,
    "start_time": "2022-01-11T08:47:12.136Z"
   },
   {
    "duration": 24,
    "start_time": "2022-01-11T08:47:12.774Z"
   },
   {
    "duration": 127,
    "start_time": "2022-01-11T08:47:12.800Z"
   },
   {
    "duration": 147,
    "start_time": "2022-01-11T08:47:12.932Z"
   },
   {
    "duration": 5,
    "start_time": "2022-01-11T08:47:13.082Z"
   },
   {
    "duration": 9,
    "start_time": "2022-01-11T08:47:13.090Z"
   },
   {
    "duration": 24,
    "start_time": "2022-01-11T08:47:13.102Z"
   },
   {
    "duration": 48,
    "start_time": "2022-01-11T08:47:13.128Z"
   },
   {
    "duration": 678,
    "start_time": "2022-01-11T08:47:13.179Z"
   },
   {
    "duration": 13,
    "start_time": "2022-01-11T08:47:13.859Z"
   },
   {
    "duration": 1261,
    "start_time": "2022-01-11T08:47:13.875Z"
   },
   {
    "duration": 60,
    "start_time": "2022-01-11T08:47:15.138Z"
   },
   {
    "duration": 5,
    "start_time": "2022-01-11T08:47:15.201Z"
   },
   {
    "duration": 16,
    "start_time": "2022-01-11T08:47:15.209Z"
   },
   {
    "duration": 71,
    "start_time": "2022-01-11T08:47:15.229Z"
   },
   {
    "duration": 32,
    "start_time": "2022-01-11T08:47:15.303Z"
   },
   {
    "duration": 3881,
    "start_time": "2022-01-11T08:47:15.337Z"
   },
   {
    "duration": 61,
    "start_time": "2022-01-11T08:47:19.220Z"
   },
   {
    "duration": 3,
    "start_time": "2022-01-11T08:47:19.284Z"
   },
   {
    "duration": 205,
    "start_time": "2022-01-11T08:47:19.289Z"
   },
   {
    "duration": 483,
    "start_time": "2022-01-11T08:47:19.496Z"
   },
   {
    "duration": 103,
    "start_time": "2022-01-11T08:47:19.985Z"
   },
   {
    "duration": 11,
    "start_time": "2022-01-11T08:47:20.091Z"
   },
   {
    "duration": 670,
    "start_time": "2022-01-11T08:47:20.104Z"
   },
   {
    "duration": 25,
    "start_time": "2022-01-11T08:47:20.776Z"
   },
   {
    "duration": 74,
    "start_time": "2022-01-11T08:47:20.803Z"
   },
   {
    "duration": 11,
    "start_time": "2022-01-11T08:47:20.879Z"
   },
   {
    "duration": 20,
    "start_time": "2022-01-11T08:47:20.892Z"
   },
   {
    "duration": 65,
    "start_time": "2022-01-11T08:47:20.915Z"
   },
   {
    "duration": 18,
    "start_time": "2022-01-11T08:47:20.983Z"
   },
   {
    "duration": 68,
    "start_time": "2022-01-11T08:47:21.003Z"
   },
   {
    "duration": 17,
    "start_time": "2022-01-11T08:47:21.073Z"
   },
   {
    "duration": 18,
    "start_time": "2022-01-11T08:47:21.093Z"
   },
   {
    "duration": 68,
    "start_time": "2022-01-11T08:47:21.113Z"
   },
   {
    "duration": 14,
    "start_time": "2022-01-11T08:47:21.184Z"
   },
   {
    "duration": 631,
    "start_time": "2022-01-11T08:50:47.757Z"
   },
   {
    "duration": 487,
    "start_time": "2022-01-11T08:51:09.541Z"
   },
   {
    "duration": 775,
    "start_time": "2022-01-11T08:52:02.148Z"
   },
   {
    "duration": 723,
    "start_time": "2022-01-11T08:57:36.239Z"
   },
   {
    "duration": 618,
    "start_time": "2022-01-11T08:57:50.251Z"
   },
   {
    "duration": 737,
    "start_time": "2022-01-11T08:58:06.236Z"
   },
   {
    "duration": 643,
    "start_time": "2022-01-11T09:00:10.871Z"
   },
   {
    "duration": 821,
    "start_time": "2022-01-11T09:00:18.528Z"
   },
   {
    "duration": 11,
    "start_time": "2022-01-11T09:00:35.381Z"
   },
   {
    "duration": 22,
    "start_time": "2022-01-11T09:01:04.499Z"
   },
   {
    "duration": 29,
    "start_time": "2022-01-11T09:01:15.845Z"
   },
   {
    "duration": 635,
    "start_time": "2022-01-11T09:01:34.433Z"
   },
   {
    "duration": 7,
    "start_time": "2022-01-11T09:01:48.845Z"
   },
   {
    "duration": 9,
    "start_time": "2022-01-11T09:02:43.822Z"
   },
   {
    "duration": 5,
    "start_time": "2022-01-11T09:07:03.213Z"
   },
   {
    "duration": 12,
    "start_time": "2022-01-11T09:07:07.899Z"
   },
   {
    "duration": 6,
    "start_time": "2022-01-11T09:07:13.450Z"
   },
   {
    "duration": 202,
    "start_time": "2022-01-11T09:07:13.459Z"
   },
   {
    "duration": 14,
    "start_time": "2022-01-11T09:07:13.670Z"
   },
   {
    "duration": 47,
    "start_time": "2022-01-11T09:07:13.687Z"
   },
   {
    "duration": 232,
    "start_time": "2022-01-11T09:07:13.737Z"
   },
   {
    "duration": 37,
    "start_time": "2022-01-11T09:07:13.972Z"
   },
   {
    "duration": 25,
    "start_time": "2022-01-11T09:07:14.012Z"
   },
   {
    "duration": 101,
    "start_time": "2022-01-11T09:07:14.068Z"
   },
   {
    "duration": 151,
    "start_time": "2022-01-11T09:07:14.176Z"
   },
   {
    "duration": 7,
    "start_time": "2022-01-11T09:07:14.331Z"
   },
   {
    "duration": 28,
    "start_time": "2022-01-11T09:07:14.342Z"
   },
   {
    "duration": 27,
    "start_time": "2022-01-11T09:07:14.373Z"
   },
   {
    "duration": 64,
    "start_time": "2022-01-11T09:07:14.403Z"
   },
   {
    "duration": 1097,
    "start_time": "2022-01-11T09:07:14.470Z"
   },
   {
    "duration": 12,
    "start_time": "2022-01-11T09:07:15.569Z"
   },
   {
    "duration": 12,
    "start_time": "2022-01-11T09:07:15.583Z"
   },
   {
    "duration": 2883,
    "start_time": "2022-01-11T09:07:15.598Z"
   },
   {
    "duration": 25,
    "start_time": "2022-01-11T09:07:18.484Z"
   },
   {
    "duration": 5,
    "start_time": "2022-01-11T09:07:18.568Z"
   },
   {
    "duration": 13,
    "start_time": "2022-01-11T09:07:18.576Z"
   },
   {
    "duration": 91,
    "start_time": "2022-01-11T09:07:18.592Z"
   },
   {
    "duration": 85,
    "start_time": "2022-01-11T09:07:18.685Z"
   },
   {
    "duration": 4658,
    "start_time": "2022-01-11T09:07:18.773Z"
   },
   {
    "duration": 71,
    "start_time": "2022-01-11T09:07:23.434Z"
   },
   {
    "duration": 3,
    "start_time": "2022-01-11T09:07:23.508Z"
   },
   {
    "duration": 165,
    "start_time": "2022-01-11T09:07:23.513Z"
   },
   {
    "duration": 12,
    "start_time": "2022-01-11T09:07:23.684Z"
   },
   {
    "duration": 200,
    "start_time": "2022-01-11T09:07:23.700Z"
   },
   {
    "duration": 42,
    "start_time": "2022-01-11T09:07:23.902Z"
   },
   {
    "duration": 22,
    "start_time": "2022-01-11T09:07:23.946Z"
   },
   {
    "duration": 327,
    "start_time": "2022-01-11T09:07:23.971Z"
   },
   {
    "duration": 25,
    "start_time": "2022-01-11T09:07:24.300Z"
   },
   {
    "duration": 28,
    "start_time": "2022-01-11T09:07:24.328Z"
   },
   {
    "duration": 12,
    "start_time": "2022-01-11T09:07:24.360Z"
   },
   {
    "duration": 23,
    "start_time": "2022-01-11T09:07:24.376Z"
   },
   {
    "duration": 20,
    "start_time": "2022-01-11T09:07:24.402Z"
   },
   {
    "duration": 19,
    "start_time": "2022-01-11T09:07:24.425Z"
   },
   {
    "duration": 24,
    "start_time": "2022-01-11T09:07:24.447Z"
   },
   {
    "duration": 18,
    "start_time": "2022-01-11T09:07:24.474Z"
   },
   {
    "duration": 16,
    "start_time": "2022-01-11T09:07:24.495Z"
   },
   {
    "duration": 15,
    "start_time": "2022-01-11T09:07:24.514Z"
   },
   {
    "duration": 17,
    "start_time": "2022-01-11T09:07:24.531Z"
   },
   {
    "duration": 2028,
    "start_time": "2022-01-11T15:05:58.482Z"
   },
   {
    "duration": 186,
    "start_time": "2022-01-11T15:06:00.513Z"
   },
   {
    "duration": 10,
    "start_time": "2022-01-11T15:06:00.702Z"
   },
   {
    "duration": 44,
    "start_time": "2022-01-11T15:06:00.715Z"
   },
   {
    "duration": 187,
    "start_time": "2022-01-11T15:06:00.762Z"
   },
   {
    "duration": 1174,
    "start_time": "2022-01-11T15:06:00.951Z"
   },
   {
    "duration": 42,
    "start_time": "2022-01-11T15:06:02.129Z"
   },
   {
    "duration": 108,
    "start_time": "2022-01-11T15:06:02.176Z"
   },
   {
    "duration": 154,
    "start_time": "2022-01-11T15:06:02.287Z"
   },
   {
    "duration": 16,
    "start_time": "2022-01-11T15:06:02.444Z"
   },
   {
    "duration": 8,
    "start_time": "2022-01-11T15:06:02.463Z"
   },
   {
    "duration": 27,
    "start_time": "2022-01-11T15:06:02.474Z"
   },
   {
    "duration": 69,
    "start_time": "2022-01-11T15:06:02.504Z"
   },
   {
    "duration": 725,
    "start_time": "2022-01-11T15:06:02.576Z"
   },
   {
    "duration": 12,
    "start_time": "2022-01-11T15:06:03.303Z"
   },
   {
    "duration": 21,
    "start_time": "2022-01-11T15:06:03.338Z"
   },
   {
    "duration": 1353,
    "start_time": "2022-01-11T15:06:03.362Z"
   },
   {
    "duration": 50,
    "start_time": "2022-01-11T15:06:04.718Z"
   },
   {
    "duration": 5,
    "start_time": "2022-01-11T15:06:04.771Z"
   },
   {
    "duration": 16,
    "start_time": "2022-01-11T15:06:04.779Z"
   },
   {
    "duration": 86,
    "start_time": "2022-01-11T15:06:04.798Z"
   },
   {
    "duration": 49,
    "start_time": "2022-01-11T15:06:04.887Z"
   },
   {
    "duration": 4264,
    "start_time": "2022-01-11T15:06:04.964Z"
   },
   {
    "duration": 55,
    "start_time": "2022-01-11T15:06:09.231Z"
   },
   {
    "duration": 4,
    "start_time": "2022-01-11T15:06:09.289Z"
   },
   {
    "duration": 305,
    "start_time": "2022-01-11T15:06:09.296Z"
   },
   {
    "duration": 64,
    "start_time": "2022-01-11T15:06:09.604Z"
   },
   {
    "duration": 413,
    "start_time": "2022-01-11T15:06:09.671Z"
   },
   {
    "duration": 106,
    "start_time": "2022-01-11T15:06:10.087Z"
   },
   {
    "duration": 64,
    "start_time": "2022-01-11T15:06:10.196Z"
   },
   {
    "duration": 913,
    "start_time": "2022-01-11T15:06:10.263Z"
   },
   {
    "duration": 82,
    "start_time": "2022-01-11T15:06:11.179Z"
   },
   {
    "duration": 15,
    "start_time": "2022-01-11T15:06:11.263Z"
   },
   {
    "duration": 8,
    "start_time": "2022-01-11T15:06:11.280Z"
   },
   {
    "duration": 16,
    "start_time": "2022-01-11T15:06:11.290Z"
   },
   {
    "duration": 14,
    "start_time": "2022-01-11T15:06:11.359Z"
   },
   {
    "duration": 12,
    "start_time": "2022-01-11T15:06:11.376Z"
   },
   {
    "duration": 73,
    "start_time": "2022-01-11T15:06:11.391Z"
   },
   {
    "duration": 14,
    "start_time": "2022-01-11T15:06:11.466Z"
   },
   {
    "duration": 13,
    "start_time": "2022-01-11T15:06:11.483Z"
   },
   {
    "duration": 69,
    "start_time": "2022-01-11T15:06:11.499Z"
   },
   {
    "duration": 13,
    "start_time": "2022-01-11T15:06:11.571Z"
   },
   {
    "duration": 179,
    "start_time": "2022-01-11T15:17:57.729Z"
   },
   {
    "duration": 308,
    "start_time": "2022-01-11T15:18:09.456Z"
   },
   {
    "duration": 177,
    "start_time": "2022-01-11T15:20:10.093Z"
   },
   {
    "duration": 184,
    "start_time": "2022-01-11T15:20:28.818Z"
   },
   {
    "duration": 254,
    "start_time": "2022-01-11T15:21:00.997Z"
   },
   {
    "duration": 400,
    "start_time": "2022-01-11T15:29:25.832Z"
   },
   {
    "duration": 231,
    "start_time": "2022-01-11T15:29:41.750Z"
   },
   {
    "duration": 211,
    "start_time": "2022-01-11T15:30:21.963Z"
   },
   {
    "duration": 207,
    "start_time": "2022-01-11T15:30:42.483Z"
   },
   {
    "duration": 305,
    "start_time": "2022-01-11T15:31:30.573Z"
   },
   {
    "duration": 13,
    "start_time": "2022-01-11T15:40:13.714Z"
   },
   {
    "duration": 801,
    "start_time": "2022-01-11T15:44:36.340Z"
   },
   {
    "duration": 8,
    "start_time": "2022-01-11T15:44:47.540Z"
   },
   {
    "duration": 1613,
    "start_time": "2022-01-11T15:44:48.138Z"
   },
   {
    "duration": 11,
    "start_time": "2022-01-11T15:44:52.345Z"
   },
   {
    "duration": 39,
    "start_time": "2022-01-11T15:44:53.561Z"
   },
   {
    "duration": 280,
    "start_time": "2022-01-11T15:44:53.718Z"
   },
   {
    "duration": 37,
    "start_time": "2022-01-11T15:44:55.709Z"
   },
   {
    "duration": 47,
    "start_time": "2022-01-11T15:44:56.263Z"
   },
   {
    "duration": 123,
    "start_time": "2022-01-11T15:44:57.879Z"
   },
   {
    "duration": 530,
    "start_time": "2022-01-11T15:44:58.679Z"
   },
   {
    "duration": 321,
    "start_time": "2022-01-11T15:46:13.716Z"
   },
   {
    "duration": 99,
    "start_time": "2022-01-11T15:46:19.512Z"
   },
   {
    "duration": 7,
    "start_time": "2022-01-11T15:48:00.509Z"
   },
   {
    "duration": 481,
    "start_time": "2022-01-11T15:49:00.105Z"
   },
   {
    "duration": 449,
    "start_time": "2022-01-11T15:50:10.793Z"
   },
   {
    "duration": 92,
    "start_time": "2022-01-11T15:50:59.596Z"
   },
   {
    "duration": 199,
    "start_time": "2022-01-11T15:51:19.599Z"
   },
   {
    "duration": 106,
    "start_time": "2022-01-11T15:51:40.840Z"
   },
   {
    "duration": 130,
    "start_time": "2022-01-11T16:10:47.850Z"
   },
   {
    "duration": 8,
    "start_time": "2022-01-11T16:13:02.585Z"
   },
   {
    "duration": 21,
    "start_time": "2022-01-11T16:13:15.074Z"
   },
   {
    "duration": 24,
    "start_time": "2022-01-11T16:13:46.767Z"
   },
   {
    "duration": 5,
    "start_time": "2022-01-11T16:18:50.254Z"
   },
   {
    "duration": 2020,
    "start_time": "2022-01-11T16:18:50.262Z"
   },
   {
    "duration": 11,
    "start_time": "2022-01-11T16:18:52.285Z"
   },
   {
    "duration": 38,
    "start_time": "2022-01-11T16:18:52.299Z"
   },
   {
    "duration": 275,
    "start_time": "2022-01-11T16:18:52.339Z"
   },
   {
    "duration": 59,
    "start_time": "2022-01-11T16:18:52.618Z"
   },
   {
    "duration": 20,
    "start_time": "2022-01-11T16:18:52.680Z"
   },
   {
    "duration": 105,
    "start_time": "2022-01-11T16:18:52.703Z"
   },
   {
    "duration": 94,
    "start_time": "2022-01-11T16:18:52.811Z"
   },
   {
    "duration": 126,
    "start_time": "2022-01-11T16:18:52.907Z"
   },
   {
    "duration": 4,
    "start_time": "2022-01-11T16:18:53.036Z"
   },
   {
    "duration": 11,
    "start_time": "2022-01-11T16:18:53.058Z"
   },
   {
    "duration": 30,
    "start_time": "2022-01-11T16:18:53.072Z"
   },
   {
    "duration": 57,
    "start_time": "2022-01-11T16:18:53.105Z"
   },
   {
    "duration": 852,
    "start_time": "2022-01-11T16:18:53.171Z"
   },
   {
    "duration": 11,
    "start_time": "2022-01-11T16:18:54.027Z"
   },
   {
    "duration": 17,
    "start_time": "2022-01-11T16:18:54.060Z"
   },
   {
    "duration": 1296,
    "start_time": "2022-01-11T16:18:54.079Z"
   },
   {
    "duration": 27,
    "start_time": "2022-01-11T16:18:55.378Z"
   },
   {
    "duration": 19,
    "start_time": "2022-01-11T16:18:55.407Z"
   },
   {
    "duration": 45,
    "start_time": "2022-01-11T16:18:55.429Z"
   },
   {
    "duration": 7,
    "start_time": "2022-01-11T16:18:55.478Z"
   },
   {
    "duration": 11,
    "start_time": "2022-01-11T16:18:55.492Z"
   },
   {
    "duration": 82,
    "start_time": "2022-01-11T16:18:55.507Z"
   },
   {
    "duration": 30,
    "start_time": "2022-01-11T16:18:55.591Z"
   },
   {
    "duration": 6189,
    "start_time": "2022-01-11T16:18:55.624Z"
   },
   {
    "duration": 382,
    "start_time": "2022-01-11T19:32:32.050Z"
   },
   {
    "duration": 25213,
    "start_time": "2022-01-11T19:32:50.069Z"
   },
   {
    "duration": 152,
    "start_time": "2022-01-11T19:33:15.285Z"
   },
   {
    "duration": 9,
    "start_time": "2022-01-11T19:33:15.440Z"
   },
   {
    "duration": 29,
    "start_time": "2022-01-11T19:33:15.460Z"
   },
   {
    "duration": 169,
    "start_time": "2022-01-11T19:33:15.492Z"
   },
   {
    "duration": 83140,
    "start_time": "2022-01-11T19:33:15.662Z"
   },
   {
    "duration": 18,
    "start_time": "2022-01-11T19:34:38.804Z"
   },
   {
    "duration": 71,
    "start_time": "2022-01-11T19:34:38.825Z"
   },
   {
    "duration": 74,
    "start_time": "2022-01-11T19:34:38.898Z"
   },
   {
    "duration": 93,
    "start_time": "2022-01-11T19:34:38.974Z"
   },
   {
    "duration": 4,
    "start_time": "2022-01-11T19:34:39.071Z"
   },
   {
    "duration": 14,
    "start_time": "2022-01-11T19:34:39.077Z"
   },
   {
    "duration": 19,
    "start_time": "2022-01-11T19:34:39.093Z"
   },
   {
    "duration": 26,
    "start_time": "2022-01-11T19:34:39.114Z"
   },
   {
    "duration": 393,
    "start_time": "2022-01-11T19:34:39.142Z"
   },
   {
    "duration": 7,
    "start_time": "2022-01-11T19:34:39.537Z"
   },
   {
    "duration": 22,
    "start_time": "2022-01-11T19:34:39.545Z"
   },
   {
    "duration": 777,
    "start_time": "2022-01-11T19:34:39.569Z"
   },
   {
    "duration": 33,
    "start_time": "2022-01-11T19:34:40.348Z"
   },
   {
    "duration": 10,
    "start_time": "2022-01-11T19:34:40.383Z"
   },
   {
    "duration": 10,
    "start_time": "2022-01-11T19:34:40.395Z"
   },
   {
    "duration": 5,
    "start_time": "2022-01-11T19:34:40.407Z"
   },
   {
    "duration": 22,
    "start_time": "2022-01-11T19:34:40.415Z"
   },
   {
    "duration": 63,
    "start_time": "2022-01-11T19:34:40.439Z"
   },
   {
    "duration": 23,
    "start_time": "2022-01-11T19:34:40.504Z"
   },
   {
    "duration": 2816,
    "start_time": "2022-01-11T19:34:40.528Z"
   },
   {
    "duration": 37,
    "start_time": "2022-01-11T19:34:43.346Z"
   },
   {
    "duration": 4,
    "start_time": "2022-01-11T19:34:43.386Z"
   },
   {
    "duration": 182,
    "start_time": "2022-01-11T19:34:43.392Z"
   },
   {
    "duration": 7,
    "start_time": "2022-01-11T19:34:43.578Z"
   },
   {
    "duration": 298,
    "start_time": "2022-01-11T19:34:43.587Z"
   },
   {
    "duration": 80,
    "start_time": "2022-01-11T19:34:43.886Z"
   },
   {
    "duration": 14,
    "start_time": "2022-01-11T19:34:43.969Z"
   },
   {
    "duration": 517,
    "start_time": "2022-01-11T19:34:43.985Z"
   },
   {
    "duration": 72,
    "start_time": "2022-01-11T19:34:44.504Z"
   },
   {
    "duration": 10,
    "start_time": "2022-01-11T19:34:44.578Z"
   },
   {
    "duration": 8,
    "start_time": "2022-01-11T19:34:44.589Z"
   },
   {
    "duration": 73,
    "start_time": "2022-01-11T19:34:44.599Z"
   },
   {
    "duration": 12,
    "start_time": "2022-01-11T19:34:44.674Z"
   },
   {
    "duration": 11,
    "start_time": "2022-01-11T19:34:44.689Z"
   },
   {
    "duration": 63,
    "start_time": "2022-01-11T19:34:44.702Z"
   },
   {
    "duration": 10,
    "start_time": "2022-01-11T19:34:44.768Z"
   },
   {
    "duration": 20,
    "start_time": "2022-01-11T19:34:44.779Z"
   },
   {
    "duration": 12,
    "start_time": "2022-01-11T19:34:44.801Z"
   },
   {
    "duration": 11,
    "start_time": "2022-01-11T19:34:44.865Z"
   },
   {
    "duration": 1872,
    "start_time": "2022-05-12T13:29:41.217Z"
   },
   {
    "duration": 189,
    "start_time": "2022-05-12T13:29:43.093Z"
   },
   {
    "duration": 13,
    "start_time": "2022-05-12T13:29:43.284Z"
   },
   {
    "duration": 55,
    "start_time": "2022-05-12T13:29:43.299Z"
   },
   {
    "duration": 152,
    "start_time": "2022-05-12T13:29:43.356Z"
   },
   {
    "duration": 88,
    "start_time": "2022-05-12T13:29:43.510Z"
   },
   {
    "duration": 28,
    "start_time": "2022-05-12T13:29:43.600Z"
   },
   {
    "duration": 115,
    "start_time": "2022-05-12T13:29:43.629Z"
   },
   {
    "duration": 95,
    "start_time": "2022-05-12T13:29:43.747Z"
   },
   {
    "duration": 178,
    "start_time": "2022-05-12T13:29:43.846Z"
   },
   {
    "duration": 4,
    "start_time": "2022-05-12T13:29:44.027Z"
   },
   {
    "duration": 8,
    "start_time": "2022-05-12T13:29:44.034Z"
   },
   {
    "duration": 26,
    "start_time": "2022-05-12T13:29:44.043Z"
   },
   {
    "duration": 61,
    "start_time": "2022-05-12T13:29:44.071Z"
   },
   {
    "duration": 446,
    "start_time": "2022-05-12T13:29:44.135Z"
   },
   {
    "duration": 9,
    "start_time": "2022-05-12T13:29:44.583Z"
   },
   {
    "duration": 8,
    "start_time": "2022-05-12T13:29:44.594Z"
   },
   {
    "duration": 544,
    "start_time": "2022-05-12T13:29:44.622Z"
   },
   {
    "duration": 20,
    "start_time": "2022-05-12T13:29:45.168Z"
   },
   {
    "duration": 39,
    "start_time": "2022-05-12T13:29:45.190Z"
   },
   {
    "duration": 17,
    "start_time": "2022-05-12T13:29:45.230Z"
   },
   {
    "duration": 9,
    "start_time": "2022-05-12T13:29:45.249Z"
   },
   {
    "duration": 30,
    "start_time": "2022-05-12T13:29:45.260Z"
   },
   {
    "duration": 58,
    "start_time": "2022-05-12T13:29:45.293Z"
   },
   {
    "duration": 43,
    "start_time": "2022-05-12T13:29:45.355Z"
   },
   {
    "duration": 1976,
    "start_time": "2022-05-12T13:29:45.400Z"
   },
   {
    "duration": 82,
    "start_time": "2022-05-12T13:29:47.378Z"
   },
   {
    "duration": 3,
    "start_time": "2022-05-12T13:29:47.467Z"
   },
   {
    "duration": 217,
    "start_time": "2022-05-12T13:29:47.524Z"
   },
   {
    "duration": 9,
    "start_time": "2022-05-12T13:29:47.743Z"
   },
   {
    "duration": 72,
    "start_time": "2022-05-12T13:29:47.754Z"
   },
   {
    "duration": 103,
    "start_time": "2022-05-12T13:29:47.830Z"
   },
   {
    "duration": 13,
    "start_time": "2022-05-12T13:29:47.935Z"
   },
   {
    "duration": 277,
    "start_time": "2022-05-12T13:29:47.951Z"
   },
   {
    "duration": 25,
    "start_time": "2022-05-12T13:29:48.232Z"
   },
   {
    "duration": 69,
    "start_time": "2022-05-12T13:29:48.259Z"
   },
   {
    "duration": 17,
    "start_time": "2022-05-12T13:29:48.333Z"
   },
   {
    "duration": 22,
    "start_time": "2022-05-12T13:29:48.352Z"
   },
   {
    "duration": 16,
    "start_time": "2022-05-12T13:29:48.425Z"
   },
   {
    "duration": 13,
    "start_time": "2022-05-12T13:29:48.443Z"
   },
   {
    "duration": 12,
    "start_time": "2022-05-12T13:29:48.458Z"
   },
   {
    "duration": 68,
    "start_time": "2022-05-12T13:29:48.472Z"
   },
   {
    "duration": 11,
    "start_time": "2022-05-12T13:29:48.545Z"
   },
   {
    "duration": 73,
    "start_time": "2022-05-12T13:29:48.558Z"
   },
   {
    "duration": 14,
    "start_time": "2022-05-12T13:29:48.633Z"
   },
   {
    "duration": 4,
    "start_time": "2022-05-12T14:28:45.875Z"
   },
   {
    "duration": 189,
    "start_time": "2022-05-12T14:28:45.882Z"
   },
   {
    "duration": 8,
    "start_time": "2022-05-12T14:28:46.073Z"
   },
   {
    "duration": 41,
    "start_time": "2022-05-12T14:28:46.083Z"
   },
   {
    "duration": 133,
    "start_time": "2022-05-12T14:28:46.127Z"
   },
   {
    "duration": 25,
    "start_time": "2022-05-12T14:28:46.262Z"
   },
   {
    "duration": 40,
    "start_time": "2022-05-12T14:28:46.289Z"
   },
   {
    "duration": 69,
    "start_time": "2022-05-12T14:28:46.331Z"
   },
   {
    "duration": 78,
    "start_time": "2022-05-12T14:28:46.401Z"
   },
   {
    "duration": 115,
    "start_time": "2022-05-12T14:28:46.481Z"
   },
   {
    "duration": 4,
    "start_time": "2022-05-12T14:28:46.598Z"
   },
   {
    "duration": 26,
    "start_time": "2022-05-12T14:28:46.604Z"
   },
   {
    "duration": 22,
    "start_time": "2022-05-12T14:28:46.632Z"
   },
   {
    "duration": 24,
    "start_time": "2022-05-12T14:28:46.656Z"
   },
   {
    "duration": 376,
    "start_time": "2022-05-12T14:28:46.682Z"
   },
   {
    "duration": 9,
    "start_time": "2022-05-12T14:28:47.060Z"
   },
   {
    "duration": 9,
    "start_time": "2022-05-12T14:28:47.071Z"
   },
   {
    "duration": 676,
    "start_time": "2022-05-12T14:28:47.083Z"
   },
   {
    "duration": 22,
    "start_time": "2022-05-12T14:28:47.761Z"
   },
   {
    "duration": 18,
    "start_time": "2022-05-12T14:28:47.785Z"
   },
   {
    "duration": 15,
    "start_time": "2022-05-12T14:28:47.826Z"
   },
   {
    "duration": 5,
    "start_time": "2022-05-12T14:28:47.844Z"
   },
   {
    "duration": 15,
    "start_time": "2022-05-12T14:28:47.851Z"
   },
   {
    "duration": 73,
    "start_time": "2022-05-12T14:28:47.868Z"
   },
   {
    "duration": 25,
    "start_time": "2022-05-12T14:28:47.942Z"
   },
   {
    "duration": 1342,
    "start_time": "2022-05-12T14:28:47.969Z"
   },
   {
    "duration": 37,
    "start_time": "2022-05-12T14:28:49.313Z"
   },
   {
    "duration": 5,
    "start_time": "2022-05-12T14:28:49.352Z"
   },
   {
    "duration": 193,
    "start_time": "2022-05-12T14:28:49.361Z"
   },
   {
    "duration": 9,
    "start_time": "2022-05-12T14:28:49.556Z"
   },
   {
    "duration": 70,
    "start_time": "2022-05-12T14:28:49.566Z"
   },
   {
    "duration": 91,
    "start_time": "2022-05-12T14:28:49.640Z"
   },
   {
    "duration": 10,
    "start_time": "2022-05-12T14:28:49.733Z"
   },
   {
    "duration": 192,
    "start_time": "2022-05-12T14:28:49.745Z"
   },
   {
    "duration": 20,
    "start_time": "2022-05-12T14:28:49.939Z"
   },
   {
    "duration": 63,
    "start_time": "2022-05-12T14:28:49.961Z"
   },
   {
    "duration": 24,
    "start_time": "2022-05-12T14:28:50.026Z"
   },
   {
    "duration": 11,
    "start_time": "2022-05-12T14:28:50.052Z"
   },
   {
    "duration": 10,
    "start_time": "2022-05-12T14:28:50.065Z"
   },
   {
    "duration": 10,
    "start_time": "2022-05-12T14:28:50.124Z"
   },
   {
    "duration": 18,
    "start_time": "2022-05-12T14:28:50.136Z"
   },
   {
    "duration": 8,
    "start_time": "2022-05-12T14:28:50.156Z"
   },
   {
    "duration": 66,
    "start_time": "2022-05-12T14:28:50.167Z"
   },
   {
    "duration": 16,
    "start_time": "2022-05-12T14:28:50.235Z"
   },
   {
    "duration": 8,
    "start_time": "2022-05-12T14:28:50.254Z"
   },
   {
    "duration": 1128,
    "start_time": "2022-07-15T08:12:56.313Z"
   },
   {
    "duration": 527,
    "start_time": "2022-07-15T08:12:57.443Z"
   },
   {
    "duration": 7,
    "start_time": "2022-07-15T08:12:57.971Z"
   },
   {
    "duration": 21,
    "start_time": "2022-07-15T08:12:57.980Z"
   },
   {
    "duration": 115,
    "start_time": "2022-07-15T08:12:58.003Z"
   },
   {
    "duration": 63,
    "start_time": "2022-07-15T08:12:58.120Z"
   },
   {
    "duration": 17,
    "start_time": "2022-07-15T08:12:58.184Z"
   },
   {
    "duration": 91,
    "start_time": "2022-07-15T08:12:58.202Z"
   },
   {
    "duration": 71,
    "start_time": "2022-07-15T08:12:58.295Z"
   },
   {
    "duration": 111,
    "start_time": "2022-07-15T08:12:58.369Z"
   },
   {
    "duration": 3,
    "start_time": "2022-07-15T08:12:58.482Z"
   },
   {
    "duration": 16,
    "start_time": "2022-07-15T08:12:58.487Z"
   },
   {
    "duration": 23,
    "start_time": "2022-07-15T08:12:58.505Z"
   },
   {
    "duration": 39,
    "start_time": "2022-07-15T08:12:58.529Z"
   },
   {
    "duration": 251,
    "start_time": "2022-07-15T08:12:58.570Z"
   },
   {
    "duration": 6,
    "start_time": "2022-07-15T08:12:58.823Z"
   },
   {
    "duration": 7,
    "start_time": "2022-07-15T08:12:58.831Z"
   },
   {
    "duration": 483,
    "start_time": "2022-07-15T08:12:58.839Z"
   },
   {
    "duration": 17,
    "start_time": "2022-07-15T08:12:59.324Z"
   },
   {
    "duration": 24,
    "start_time": "2022-07-15T08:12:59.343Z"
   },
   {
    "duration": 11,
    "start_time": "2022-07-15T08:12:59.369Z"
   },
   {
    "duration": 3,
    "start_time": "2022-07-15T08:12:59.382Z"
   },
   {
    "duration": 16,
    "start_time": "2022-07-15T08:12:59.388Z"
   },
   {
    "duration": 63,
    "start_time": "2022-07-15T08:12:59.406Z"
   },
   {
    "duration": 23,
    "start_time": "2022-07-15T08:12:59.470Z"
   },
   {
    "duration": 1427,
    "start_time": "2022-07-15T08:12:59.495Z"
   },
   {
    "duration": 54,
    "start_time": "2022-07-15T08:13:00.924Z"
   },
   {
    "duration": 15,
    "start_time": "2022-07-15T08:13:00.981Z"
   },
   {
    "duration": 184,
    "start_time": "2022-07-15T08:13:00.997Z"
   },
   {
    "duration": 7,
    "start_time": "2022-07-15T08:13:01.183Z"
   },
   {
    "duration": 24,
    "start_time": "2022-07-15T08:13:01.191Z"
   },
   {
    "duration": 31,
    "start_time": "2022-07-15T08:13:01.264Z"
   },
   {
    "duration": 8,
    "start_time": "2022-07-15T08:13:01.296Z"
   },
   {
    "duration": 179,
    "start_time": "2022-07-15T08:13:01.305Z"
   },
   {
    "duration": 16,
    "start_time": "2022-07-15T08:13:01.486Z"
   },
   {
    "duration": 64,
    "start_time": "2022-07-15T08:13:01.503Z"
   },
   {
    "duration": 16,
    "start_time": "2022-07-15T08:13:01.569Z"
   },
   {
    "duration": 34,
    "start_time": "2022-07-15T08:13:01.588Z"
   },
   {
    "duration": 47,
    "start_time": "2022-07-15T08:13:01.624Z"
   },
   {
    "duration": 28,
    "start_time": "2022-07-15T08:13:01.672Z"
   },
   {
    "duration": 62,
    "start_time": "2022-07-15T08:13:01.702Z"
   },
   {
    "duration": 11,
    "start_time": "2022-07-15T08:13:01.767Z"
   },
   {
    "duration": 28,
    "start_time": "2022-07-15T08:13:01.780Z"
   },
   {
    "duration": 60,
    "start_time": "2022-07-15T08:13:01.809Z"
   },
   {
    "duration": 23,
    "start_time": "2022-07-15T08:13:01.870Z"
   }
  ],
  "kernelspec": {
   "display_name": "Python 3 (ipykernel)",
   "language": "python",
   "name": "python3"
  },
  "language_info": {
   "codemirror_mode": {
    "name": "ipython",
    "version": 3
   },
   "file_extension": ".py",
   "mimetype": "text/x-python",
   "name": "python",
   "nbconvert_exporter": "python",
   "pygments_lexer": "ipython3",
   "version": "3.9.5"
  },
  "toc": {
   "base_numbering": 1,
   "nav_menu": {},
   "number_sections": true,
   "sideBar": true,
   "skip_h1_title": true,
   "title_cell": "Содержание",
   "title_sidebar": "Contents",
   "toc_cell": true,
   "toc_position": {},
   "toc_section_display": true,
   "toc_window_display": false
  }
 },
 "nbformat": 4,
 "nbformat_minor": 2
}

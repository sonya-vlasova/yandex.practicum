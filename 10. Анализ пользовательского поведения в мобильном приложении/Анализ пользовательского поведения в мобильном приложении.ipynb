{
 "cells": [
  {
   "cell_type": "markdown",
   "metadata": {
    "toc": true
   },
   "source": [
    "<h1>Содержание<span class=\"tocSkip\"></span></h1>\n",
    "<div class=\"toc\"><ul class=\"toc-item\"><li><span><a href=\"#Посмотрим-и-обработаем--данные\" data-toc-modified-id=\"Посмотрим-и-обработаем--данные-1\"><span class=\"toc-item-num\">1&nbsp;&nbsp;</span>Посмотрим и обработаем  данные</a></span></li><li><span><a href=\"#Приоритизация-гипотез\" data-toc-modified-id=\"Приоритизация-гипотез-2\"><span class=\"toc-item-num\">2&nbsp;&nbsp;</span>Приоритизация гипотез</a></span><ul class=\"toc-item\"><li><span><a href=\"#Применим-фреймворк-ICE\" data-toc-modified-id=\"Применим-фреймворк-ICE-2.1\"><span class=\"toc-item-num\">2.1&nbsp;&nbsp;</span>Применим фреймворк ICE</a></span></li><li><span><a href=\"#Применим-фреймворк-RICE\" data-toc-modified-id=\"Применим-фреймворк-RICE-2.2\"><span class=\"toc-item-num\">2.2&nbsp;&nbsp;</span>Применим фреймворк RICE</a></span></li></ul></li><li><span><a href=\"#Анализ-A/B-теста\" data-toc-modified-id=\"Анализ-A/B-теста-3\"><span class=\"toc-item-num\">3&nbsp;&nbsp;</span>Анализ A/B-теста</a></span><ul class=\"toc-item\"><li><span><a href=\"#Проанализируем-A/B-тест:\" data-toc-modified-id=\"Проанализируем-A/B-тест:-3.1\"><span class=\"toc-item-num\">3.1&nbsp;&nbsp;</span>Проанализируем A/B-тест:</a></span><ul class=\"toc-item\"><li><span><a href=\"#Построим-график-кумулятивной-выручки-по-группам\" data-toc-modified-id=\"Построим-график-кумулятивной-выручки-по-группам-3.1.1\"><span class=\"toc-item-num\">3.1.1&nbsp;&nbsp;</span>Построим график кумулятивной выручки по группам</a></span></li><li><span><a href=\"#Построим-график-кумулятивного-среднего-чека-по-группам\" data-toc-modified-id=\"Построим-график-кумулятивного-среднего-чека-по-группам-3.1.2\"><span class=\"toc-item-num\">3.1.2&nbsp;&nbsp;</span>Построим график кумулятивного среднего чека по группам</a></span></li><li><span><a href=\"#Построим-график-относительного-изменения-кумулятивного-среднего-чека-группы-B-к-группе-A\" data-toc-modified-id=\"Построим-график-относительного-изменения-кумулятивного-среднего-чека-группы-B-к-группе-A-3.1.3\"><span class=\"toc-item-num\">3.1.3&nbsp;&nbsp;</span>Построим график относительного изменения кумулятивного среднего чека группы B к группе A</a></span></li><li><span><a href=\"#Постройте-график-кумулятивной-конверсии-по-группам.-Сделайте-выводы-и-предположения.\" data-toc-modified-id=\"Постройте-график-кумулятивной-конверсии-по-группам.-Сделайте-выводы-и-предположения.-3.1.4\"><span class=\"toc-item-num\">3.1.4&nbsp;&nbsp;</span>Постройте график кумулятивной конверсии по группам. Сделайте выводы и предположения.</a></span></li><li><span><a href=\"#Построим-график-относительного-изменения-кумулятивной-конверсии-группы-B-к-группе-A\" data-toc-modified-id=\"Построим-график-относительного-изменения-кумулятивной-конверсии-группы-B-к-группе-A-3.1.5\"><span class=\"toc-item-num\">3.1.5&nbsp;&nbsp;</span>Построим график относительного изменения кумулятивной конверсии группы B к группе A</a></span></li><li><span><a href=\"#Построем-точечный-график-количества-заказов-по-пользователям\" data-toc-modified-id=\"Построем-точечный-график-количества-заказов-по-пользователям-3.1.6\"><span class=\"toc-item-num\">3.1.6&nbsp;&nbsp;</span>Построем точечный график количества заказов по пользователям</a></span></li><li><span><a href=\"#Посчитаем-95-й-и-99-й-перцентили-количества-заказов-на-пользователя.-Выберем-границу-для-определения-аномальных-пользователей.\" data-toc-modified-id=\"Посчитаем-95-й-и-99-й-перцентили-количества-заказов-на-пользователя.-Выберем-границу-для-определения-аномальных-пользователей.-3.1.7\"><span class=\"toc-item-num\">3.1.7&nbsp;&nbsp;</span>Посчитаем 95-й и 99-й перцентили количества заказов на пользователя. Выберем границу для определения аномальных пользователей.</a></span></li><li><span><a href=\"#Построем-точечный-график-стоимостей-заказов\" data-toc-modified-id=\"Построем-точечный-график-стоимостей-заказов-3.1.8\"><span class=\"toc-item-num\">3.1.8&nbsp;&nbsp;</span>Построем точечный график стоимостей заказов</a></span></li><li><span><a href=\"#Посчитаем-95-й-и-99-й-перцентили-стоимости-заказов.-Выберем-границу-для-определения-аномальных-заказов.\" data-toc-modified-id=\"Посчитаем-95-й-и-99-й-перцентили-стоимости-заказов.-Выберем-границу-для-определения-аномальных-заказов.-3.1.9\"><span class=\"toc-item-num\">3.1.9&nbsp;&nbsp;</span>Посчитаем 95-й и 99-й перцентили стоимости заказов. Выберем границу для определения аномальных заказов.</a></span></li><li><span><a href=\"#Посчитаем-статистическую-значимость-различий-в-конверсии-между-группами-по-«сырым»-данным\" data-toc-modified-id=\"Посчитаем-статистическую-значимость-различий-в-конверсии-между-группами-по-«сырым»-данным-3.1.10\"><span class=\"toc-item-num\">3.1.10&nbsp;&nbsp;</span>Посчитаем статистическую значимость различий в конверсии между группами по «сырым» данным</a></span></li><li><span><a href=\"#Посчитаем-статистическую-значимость-различий-в-среднем-чеке-заказа-между-группами-по-«сырым»-данным\" data-toc-modified-id=\"Посчитаем-статистическую-значимость-различий-в-среднем-чеке-заказа-между-группами-по-«сырым»-данным-3.1.11\"><span class=\"toc-item-num\">3.1.11&nbsp;&nbsp;</span>Посчитаем статистическую значимость различий в среднем чеке заказа между группами по «сырым» данным</a></span></li><li><span><a href=\"#Посчитаем-статистическую-значимость-различий-в-конверсии-между-группами-по-«очищенным»-данным.\" data-toc-modified-id=\"Посчитаем-статистическую-значимость-различий-в-конверсии-между-группами-по-«очищенным»-данным.-3.1.12\"><span class=\"toc-item-num\">3.1.12&nbsp;&nbsp;</span>Посчитаем статистическую значимость различий в конверсии между группами по «очищенным» данным.</a></span></li><li><span><a href=\"#Посчитаем-статистическую-значимость-различий-в-среднем-чеке-заказа-между-группами-по-«очищенным»-данным.\" data-toc-modified-id=\"Посчитаем-статистическую-значимость-различий-в-среднем-чеке-заказа-между-группами-по-«очищенным»-данным.-3.1.13\"><span class=\"toc-item-num\">3.1.13&nbsp;&nbsp;</span>Посчитаем статистическую значимость различий в среднем чеке заказа между группами по «очищенным» данным.</a></span></li></ul></li></ul></li><li><span><a href=\"#Выводы\" data-toc-modified-id=\"Выводы-4\"><span class=\"toc-item-num\">4&nbsp;&nbsp;</span>Выводы</a></span></li><li><span><a href=\"#Рекомендации\" data-toc-modified-id=\"Рекомендации-5\"><span class=\"toc-item-num\">5&nbsp;&nbsp;</span>Рекомендации</a></span></li></ul></div>"
   ]
  },
  {
   "cell_type": "markdown",
   "metadata": {},
   "source": [
    "# Анализ пользовательского поведения в мобильном приложении"
   ]
  },
  {
   "cell_type": "markdown",
   "metadata": {},
   "source": [
    "## Посмотрим и обработаем  данные\n"
   ]
  },
  {
   "cell_type": "code",
   "execution_count": 44,
   "metadata": {},
   "outputs": [],
   "source": [
    "#сразу открываем нужные библиотеки\n",
    "import pandas as pd\n",
    "import seaborn as sns\n",
    "from matplotlib import pyplot as plt\n",
    "import numpy as np\n",
    "import datetime as dt\n",
    "import scipy.stats as stats\n",
    "import warnings\n",
    "warnings.filterwarnings(\"ignore\")"
   ]
  },
  {
   "cell_type": "code",
   "execution_count": 45,
   "metadata": {},
   "outputs": [],
   "source": [
    "hypothesis = pd.read_csv('/datasets/hypothesis.csv')\n",
    "orders = pd.read_csv('/datasets/orders.csv')\n",
    "visitors = pd.read_csv('/datasets/visitors.csv')"
   ]
  },
  {
   "cell_type": "code",
   "execution_count": 46,
   "metadata": {
    "scrolled": true
   },
   "outputs": [
    {
     "data": {
      "text/html": [
       "<div>\n",
       "<style scoped>\n",
       "    .dataframe tbody tr th:only-of-type {\n",
       "        vertical-align: middle;\n",
       "    }\n",
       "\n",
       "    .dataframe tbody tr th {\n",
       "        vertical-align: top;\n",
       "    }\n",
       "\n",
       "    .dataframe thead th {\n",
       "        text-align: right;\n",
       "    }\n",
       "</style>\n",
       "<table border=\"1\" class=\"dataframe\">\n",
       "  <thead>\n",
       "    <tr style=\"text-align: right;\">\n",
       "      <th></th>\n",
       "      <th>hypothesis</th>\n",
       "      <th>reach</th>\n",
       "      <th>impact</th>\n",
       "      <th>confidence</th>\n",
       "      <th>efforts</th>\n",
       "    </tr>\n",
       "  </thead>\n",
       "  <tbody>\n",
       "    <tr>\n",
       "      <th>0</th>\n",
       "      <td>Добавить два новых канала привлечения трафика, что позволит привлекать на 30% больше пользователей</td>\n",
       "      <td>3</td>\n",
       "      <td>10</td>\n",
       "      <td>8</td>\n",
       "      <td>6</td>\n",
       "    </tr>\n",
       "    <tr>\n",
       "      <th>1</th>\n",
       "      <td>Запустить собственную службу доставки, что сократит срок доставки заказов</td>\n",
       "      <td>2</td>\n",
       "      <td>5</td>\n",
       "      <td>4</td>\n",
       "      <td>10</td>\n",
       "    </tr>\n",
       "    <tr>\n",
       "      <th>2</th>\n",
       "      <td>Добавить блоки рекомендаций товаров на сайт интернет магазина, чтобы повысить конверсию и средний чек заказа</td>\n",
       "      <td>8</td>\n",
       "      <td>3</td>\n",
       "      <td>7</td>\n",
       "      <td>3</td>\n",
       "    </tr>\n",
       "    <tr>\n",
       "      <th>3</th>\n",
       "      <td>Изменить структура категорий, что увеличит конверсию, т.к. пользователи быстрее найдут нужный товар</td>\n",
       "      <td>8</td>\n",
       "      <td>3</td>\n",
       "      <td>3</td>\n",
       "      <td>8</td>\n",
       "    </tr>\n",
       "    <tr>\n",
       "      <th>4</th>\n",
       "      <td>Изменить цвет фона главной страницы, чтобы увеличить вовлеченность пользователей</td>\n",
       "      <td>3</td>\n",
       "      <td>1</td>\n",
       "      <td>1</td>\n",
       "      <td>1</td>\n",
       "    </tr>\n",
       "    <tr>\n",
       "      <th>5</th>\n",
       "      <td>Добавить страницу отзывов клиентов о магазине, что позволит увеличить количество заказов</td>\n",
       "      <td>3</td>\n",
       "      <td>2</td>\n",
       "      <td>2</td>\n",
       "      <td>3</td>\n",
       "    </tr>\n",
       "    <tr>\n",
       "      <th>6</th>\n",
       "      <td>Показать на главной странице баннеры с актуальными акциями и распродажами, чтобы увеличить конверсию</td>\n",
       "      <td>5</td>\n",
       "      <td>3</td>\n",
       "      <td>8</td>\n",
       "      <td>3</td>\n",
       "    </tr>\n",
       "    <tr>\n",
       "      <th>7</th>\n",
       "      <td>Добавить форму подписки на все основные страницы, чтобы собрать базу клиентов для email-рассылок</td>\n",
       "      <td>10</td>\n",
       "      <td>7</td>\n",
       "      <td>8</td>\n",
       "      <td>5</td>\n",
       "    </tr>\n",
       "    <tr>\n",
       "      <th>8</th>\n",
       "      <td>Запустить акцию, дающую скидку на товар в день рождения</td>\n",
       "      <td>1</td>\n",
       "      <td>9</td>\n",
       "      <td>9</td>\n",
       "      <td>5</td>\n",
       "    </tr>\n",
       "  </tbody>\n",
       "</table>\n",
       "</div>"
      ],
      "text/plain": [
       "                                                                                                     hypothesis  \\\n",
       "0  Добавить два новых канала привлечения трафика, что позволит привлекать на 30% больше пользователей             \n",
       "1  Запустить собственную службу доставки, что сократит срок доставки заказов                                      \n",
       "2  Добавить блоки рекомендаций товаров на сайт интернет магазина, чтобы повысить конверсию и средний чек заказа   \n",
       "3  Изменить структура категорий, что увеличит конверсию, т.к. пользователи быстрее найдут нужный товар            \n",
       "4  Изменить цвет фона главной страницы, чтобы увеличить вовлеченность пользователей                               \n",
       "5  Добавить страницу отзывов клиентов о магазине, что позволит увеличить количество заказов                       \n",
       "6  Показать на главной странице баннеры с актуальными акциями и распродажами, чтобы увеличить конверсию           \n",
       "7  Добавить форму подписки на все основные страницы, чтобы собрать базу клиентов для email-рассылок               \n",
       "8  Запустить акцию, дающую скидку на товар в день рождения                                                        \n",
       "\n",
       "   reach  impact  confidence  efforts  \n",
       "0  3      10      8           6        \n",
       "1  2      5       4           10       \n",
       "2  8      3       7           3        \n",
       "3  8      3       3           8        \n",
       "4  3      1       1           1        \n",
       "5  3      2       2           3        \n",
       "6  5      3       8           3        \n",
       "7  10     7       8           5        \n",
       "8  1      9       9           5        "
      ]
     },
     "execution_count": 46,
     "metadata": {},
     "output_type": "execute_result"
    }
   ],
   "source": [
    "# приведем сразу названия столбцов к нижнему регистру\n",
    "hypothesis.columns = ['hypothesis','reach', 'impact', 'confidence', 'efforts']\n",
    "pd.set_option('display.max_colwidth', 1)\n",
    "hypothesis"
   ]
  },
  {
   "cell_type": "code",
   "execution_count": 47,
   "metadata": {
    "scrolled": false
   },
   "outputs": [
    {
     "data": {
      "text/html": [
       "<div>\n",
       "<style scoped>\n",
       "    .dataframe tbody tr th:only-of-type {\n",
       "        vertical-align: middle;\n",
       "    }\n",
       "\n",
       "    .dataframe tbody tr th {\n",
       "        vertical-align: top;\n",
       "    }\n",
       "\n",
       "    .dataframe thead th {\n",
       "        text-align: right;\n",
       "    }\n",
       "</style>\n",
       "<table border=\"1\" class=\"dataframe\">\n",
       "  <thead>\n",
       "    <tr style=\"text-align: right;\">\n",
       "      <th></th>\n",
       "      <th>transactionId</th>\n",
       "      <th>visitorId</th>\n",
       "      <th>date</th>\n",
       "      <th>revenue</th>\n",
       "      <th>group</th>\n",
       "    </tr>\n",
       "  </thead>\n",
       "  <tbody>\n",
       "    <tr>\n",
       "      <th>0</th>\n",
       "      <td>3667963787</td>\n",
       "      <td>3312258926</td>\n",
       "      <td>2019-08-15</td>\n",
       "      <td>1650</td>\n",
       "      <td>B</td>\n",
       "    </tr>\n",
       "    <tr>\n",
       "      <th>1</th>\n",
       "      <td>2804400009</td>\n",
       "      <td>3642806036</td>\n",
       "      <td>2019-08-15</td>\n",
       "      <td>730</td>\n",
       "      <td>B</td>\n",
       "    </tr>\n",
       "    <tr>\n",
       "      <th>2</th>\n",
       "      <td>2961555356</td>\n",
       "      <td>4069496402</td>\n",
       "      <td>2019-08-15</td>\n",
       "      <td>400</td>\n",
       "      <td>A</td>\n",
       "    </tr>\n",
       "    <tr>\n",
       "      <th>3</th>\n",
       "      <td>3797467345</td>\n",
       "      <td>1196621759</td>\n",
       "      <td>2019-08-15</td>\n",
       "      <td>9759</td>\n",
       "      <td>B</td>\n",
       "    </tr>\n",
       "    <tr>\n",
       "      <th>4</th>\n",
       "      <td>2282983706</td>\n",
       "      <td>2322279887</td>\n",
       "      <td>2019-08-15</td>\n",
       "      <td>2308</td>\n",
       "      <td>B</td>\n",
       "    </tr>\n",
       "    <tr>\n",
       "      <th>5</th>\n",
       "      <td>182168103</td>\n",
       "      <td>935554773</td>\n",
       "      <td>2019-08-15</td>\n",
       "      <td>2210</td>\n",
       "      <td>B</td>\n",
       "    </tr>\n",
       "    <tr>\n",
       "      <th>6</th>\n",
       "      <td>398296753</td>\n",
       "      <td>2900797465</td>\n",
       "      <td>2019-08-15</td>\n",
       "      <td>1860</td>\n",
       "      <td>B</td>\n",
       "    </tr>\n",
       "    <tr>\n",
       "      <th>7</th>\n",
       "      <td>2626614568</td>\n",
       "      <td>78758296</td>\n",
       "      <td>2019-08-15</td>\n",
       "      <td>1044</td>\n",
       "      <td>A</td>\n",
       "    </tr>\n",
       "    <tr>\n",
       "      <th>8</th>\n",
       "      <td>1576988021</td>\n",
       "      <td>295230930</td>\n",
       "      <td>2019-08-15</td>\n",
       "      <td>13710</td>\n",
       "      <td>A</td>\n",
       "    </tr>\n",
       "    <tr>\n",
       "      <th>9</th>\n",
       "      <td>1506739906</td>\n",
       "      <td>1882260405</td>\n",
       "      <td>2019-08-15</td>\n",
       "      <td>1855</td>\n",
       "      <td>B</td>\n",
       "    </tr>\n",
       "  </tbody>\n",
       "</table>\n",
       "</div>"
      ],
      "text/plain": [
       "   transactionId   visitorId        date  revenue group\n",
       "0  3667963787     3312258926  2019-08-15  1650     B   \n",
       "1  2804400009     3642806036  2019-08-15  730      B   \n",
       "2  2961555356     4069496402  2019-08-15  400      A   \n",
       "3  3797467345     1196621759  2019-08-15  9759     B   \n",
       "4  2282983706     2322279887  2019-08-15  2308     B   \n",
       "5  182168103      935554773   2019-08-15  2210     B   \n",
       "6  398296753      2900797465  2019-08-15  1860     B   \n",
       "7  2626614568     78758296    2019-08-15  1044     A   \n",
       "8  1576988021     295230930   2019-08-15  13710    A   \n",
       "9  1506739906     1882260405  2019-08-15  1855     B   "
      ]
     },
     "execution_count": 47,
     "metadata": {},
     "output_type": "execute_result"
    }
   ],
   "source": [
    "orders.head(10)"
   ]
  },
  {
   "cell_type": "code",
   "execution_count": 48,
   "metadata": {
    "scrolled": true
   },
   "outputs": [
    {
     "data": {
      "text/html": [
       "<div>\n",
       "<style scoped>\n",
       "    .dataframe tbody tr th:only-of-type {\n",
       "        vertical-align: middle;\n",
       "    }\n",
       "\n",
       "    .dataframe tbody tr th {\n",
       "        vertical-align: top;\n",
       "    }\n",
       "\n",
       "    .dataframe thead th {\n",
       "        text-align: right;\n",
       "    }\n",
       "</style>\n",
       "<table border=\"1\" class=\"dataframe\">\n",
       "  <thead>\n",
       "    <tr style=\"text-align: right;\">\n",
       "      <th></th>\n",
       "      <th>date</th>\n",
       "      <th>group</th>\n",
       "      <th>visitors</th>\n",
       "    </tr>\n",
       "  </thead>\n",
       "  <tbody>\n",
       "    <tr>\n",
       "      <th>0</th>\n",
       "      <td>2019-08-01</td>\n",
       "      <td>A</td>\n",
       "      <td>719</td>\n",
       "    </tr>\n",
       "    <tr>\n",
       "      <th>1</th>\n",
       "      <td>2019-08-02</td>\n",
       "      <td>A</td>\n",
       "      <td>619</td>\n",
       "    </tr>\n",
       "    <tr>\n",
       "      <th>2</th>\n",
       "      <td>2019-08-03</td>\n",
       "      <td>A</td>\n",
       "      <td>507</td>\n",
       "    </tr>\n",
       "    <tr>\n",
       "      <th>3</th>\n",
       "      <td>2019-08-04</td>\n",
       "      <td>A</td>\n",
       "      <td>717</td>\n",
       "    </tr>\n",
       "    <tr>\n",
       "      <th>4</th>\n",
       "      <td>2019-08-05</td>\n",
       "      <td>A</td>\n",
       "      <td>756</td>\n",
       "    </tr>\n",
       "    <tr>\n",
       "      <th>5</th>\n",
       "      <td>2019-08-06</td>\n",
       "      <td>A</td>\n",
       "      <td>667</td>\n",
       "    </tr>\n",
       "    <tr>\n",
       "      <th>6</th>\n",
       "      <td>2019-08-07</td>\n",
       "      <td>A</td>\n",
       "      <td>644</td>\n",
       "    </tr>\n",
       "    <tr>\n",
       "      <th>7</th>\n",
       "      <td>2019-08-08</td>\n",
       "      <td>A</td>\n",
       "      <td>610</td>\n",
       "    </tr>\n",
       "    <tr>\n",
       "      <th>8</th>\n",
       "      <td>2019-08-09</td>\n",
       "      <td>A</td>\n",
       "      <td>617</td>\n",
       "    </tr>\n",
       "    <tr>\n",
       "      <th>9</th>\n",
       "      <td>2019-08-10</td>\n",
       "      <td>A</td>\n",
       "      <td>406</td>\n",
       "    </tr>\n",
       "  </tbody>\n",
       "</table>\n",
       "</div>"
      ],
      "text/plain": [
       "         date group  visitors\n",
       "0  2019-08-01  A     719     \n",
       "1  2019-08-02  A     619     \n",
       "2  2019-08-03  A     507     \n",
       "3  2019-08-04  A     717     \n",
       "4  2019-08-05  A     756     \n",
       "5  2019-08-06  A     667     \n",
       "6  2019-08-07  A     644     \n",
       "7  2019-08-08  A     610     \n",
       "8  2019-08-09  A     617     \n",
       "9  2019-08-10  A     406     "
      ]
     },
     "execution_count": 48,
     "metadata": {},
     "output_type": "execute_result"
    }
   ],
   "source": [
    "visitors.head(10)"
   ]
  },
  {
   "cell_type": "code",
   "execution_count": 49,
   "metadata": {
    "scrolled": false
   },
   "outputs": [
    {
     "data": {
      "text/plain": [
       "hypothesis    0\n",
       "reach         0\n",
       "impact        0\n",
       "confidence    0\n",
       "efforts       0\n",
       "dtype: int64"
      ]
     },
     "metadata": {},
     "output_type": "display_data"
    },
    {
     "data": {
      "text/plain": [
       "transactionId    0\n",
       "visitorId        0\n",
       "date             0\n",
       "revenue          0\n",
       "group            0\n",
       "dtype: int64"
      ]
     },
     "metadata": {},
     "output_type": "display_data"
    },
    {
     "data": {
      "text/plain": [
       "date        0\n",
       "group       0\n",
       "visitors    0\n",
       "dtype: int64"
      ]
     },
     "metadata": {},
     "output_type": "display_data"
    }
   ],
   "source": [
    "display(hypothesis.isnull().sum())\n",
    "display(orders.isnull().sum())\n",
    "display(visitors.isnull().sum())"
   ]
  },
  {
   "cell_type": "markdown",
   "metadata": {},
   "source": [
    "Пропущенных значений в наших дф нет"
   ]
  },
  {
   "cell_type": "code",
   "execution_count": 50,
   "metadata": {},
   "outputs": [
    {
     "data": {
      "text/html": [
       "<style  type=\"text/css\" >\n",
       "#T_73886_row0_col0,#T_73886_row1_col0,#T_73886_row2_col0{\n",
       "            background-color:  #3b4cc0;\n",
       "            color:  #f1f1f1;\n",
       "        }</style><table id=\"T_73886_\" ><thead>    <tr>        <th class=\"blank level0\" ></th>        <th class=\"col_heading level0 col0\" >0</th>    </tr></thead><tbody>\n",
       "                <tr>\n",
       "                        <th id=\"T_73886_level0_row0\" class=\"row_heading level0 row0\" >date</th>\n",
       "                        <td id=\"T_73886_row0_col0\" class=\"data row0 col0\" >0.000000</td>\n",
       "            </tr>\n",
       "            <tr>\n",
       "                        <th id=\"T_73886_level0_row1\" class=\"row_heading level0 row1\" >group</th>\n",
       "                        <td id=\"T_73886_row1_col0\" class=\"data row1 col0\" >0.000000</td>\n",
       "            </tr>\n",
       "            <tr>\n",
       "                        <th id=\"T_73886_level0_row2\" class=\"row_heading level0 row2\" >visitors</th>\n",
       "                        <td id=\"T_73886_row2_col0\" class=\"data row2 col0\" >0.000000</td>\n",
       "            </tr>\n",
       "    </tbody></table>"
      ],
      "text/plain": [
       "<pandas.io.formats.style.Styler at 0x7f0884044b20>"
      ]
     },
     "metadata": {},
     "output_type": "display_data"
    },
    {
     "data": {
      "text/html": [
       "<style  type=\"text/css\" >\n",
       "#T_0aab9_row0_col0,#T_0aab9_row1_col0,#T_0aab9_row2_col0,#T_0aab9_row3_col0,#T_0aab9_row4_col0{\n",
       "            background-color:  #3b4cc0;\n",
       "            color:  #f1f1f1;\n",
       "        }</style><table id=\"T_0aab9_\" ><thead>    <tr>        <th class=\"blank level0\" ></th>        <th class=\"col_heading level0 col0\" >0</th>    </tr></thead><tbody>\n",
       "                <tr>\n",
       "                        <th id=\"T_0aab9_level0_row0\" class=\"row_heading level0 row0\" >transactionId</th>\n",
       "                        <td id=\"T_0aab9_row0_col0\" class=\"data row0 col0\" >0.000000</td>\n",
       "            </tr>\n",
       "            <tr>\n",
       "                        <th id=\"T_0aab9_level0_row1\" class=\"row_heading level0 row1\" >visitorId</th>\n",
       "                        <td id=\"T_0aab9_row1_col0\" class=\"data row1 col0\" >0.000000</td>\n",
       "            </tr>\n",
       "            <tr>\n",
       "                        <th id=\"T_0aab9_level0_row2\" class=\"row_heading level0 row2\" >date</th>\n",
       "                        <td id=\"T_0aab9_row2_col0\" class=\"data row2 col0\" >0.000000</td>\n",
       "            </tr>\n",
       "            <tr>\n",
       "                        <th id=\"T_0aab9_level0_row3\" class=\"row_heading level0 row3\" >revenue</th>\n",
       "                        <td id=\"T_0aab9_row3_col0\" class=\"data row3 col0\" >0.000000</td>\n",
       "            </tr>\n",
       "            <tr>\n",
       "                        <th id=\"T_0aab9_level0_row4\" class=\"row_heading level0 row4\" >group</th>\n",
       "                        <td id=\"T_0aab9_row4_col0\" class=\"data row4 col0\" >0.000000</td>\n",
       "            </tr>\n",
       "    </tbody></table>"
      ],
      "text/plain": [
       "<pandas.io.formats.style.Styler at 0x7f0884044730>"
      ]
     },
     "metadata": {},
     "output_type": "display_data"
    },
    {
     "data": {
      "text/html": [
       "<style  type=\"text/css\" >\n",
       "#T_8e2e2_row0_col0,#T_8e2e2_row1_col0,#T_8e2e2_row2_col0,#T_8e2e2_row3_col0,#T_8e2e2_row4_col0{\n",
       "            background-color:  #3b4cc0;\n",
       "            color:  #f1f1f1;\n",
       "        }</style><table id=\"T_8e2e2_\" ><thead>    <tr>        <th class=\"blank level0\" ></th>        <th class=\"col_heading level0 col0\" >0</th>    </tr></thead><tbody>\n",
       "                <tr>\n",
       "                        <th id=\"T_8e2e2_level0_row0\" class=\"row_heading level0 row0\" >hypothesis</th>\n",
       "                        <td id=\"T_8e2e2_row0_col0\" class=\"data row0 col0\" >0.000000</td>\n",
       "            </tr>\n",
       "            <tr>\n",
       "                        <th id=\"T_8e2e2_level0_row1\" class=\"row_heading level0 row1\" >reach</th>\n",
       "                        <td id=\"T_8e2e2_row1_col0\" class=\"data row1 col0\" >0.000000</td>\n",
       "            </tr>\n",
       "            <tr>\n",
       "                        <th id=\"T_8e2e2_level0_row2\" class=\"row_heading level0 row2\" >impact</th>\n",
       "                        <td id=\"T_8e2e2_row2_col0\" class=\"data row2 col0\" >0.000000</td>\n",
       "            </tr>\n",
       "            <tr>\n",
       "                        <th id=\"T_8e2e2_level0_row3\" class=\"row_heading level0 row3\" >confidence</th>\n",
       "                        <td id=\"T_8e2e2_row3_col0\" class=\"data row3 col0\" >0.000000</td>\n",
       "            </tr>\n",
       "            <tr>\n",
       "                        <th id=\"T_8e2e2_level0_row4\" class=\"row_heading level0 row4\" >efforts</th>\n",
       "                        <td id=\"T_8e2e2_row4_col0\" class=\"data row4 col0\" >0.000000</td>\n",
       "            </tr>\n",
       "    </tbody></table>"
      ],
      "text/plain": [
       "<pandas.io.formats.style.Styler at 0x7f088c815700>"
      ]
     },
     "metadata": {},
     "output_type": "display_data"
    }
   ],
   "source": [
    "display(pd.DataFrame(round((visitors.isna().mean()*100),2)).style.background_gradient('coolwarm'))\n",
    "display(pd.DataFrame(round((orders.isna().mean()*100),2)).style.background_gradient('coolwarm'))\n",
    "display(pd.DataFrame(round((hypothesis.isna().mean()*100),2)).style.background_gradient('coolwarm'))"
   ]
  },
  {
   "cell_type": "markdown",
   "metadata": {},
   "source": [
    "Очевидных дубликатов тоже нет."
   ]
  },
  {
   "cell_type": "code",
   "execution_count": 51,
   "metadata": {
    "scrolled": false
   },
   "outputs": [
    {
     "name": "stdout",
     "output_type": "stream",
     "text": [
      "<class 'pandas.core.frame.DataFrame'>\n",
      "RangeIndex: 1197 entries, 0 to 1196\n",
      "Data columns (total 5 columns):\n",
      " #   Column         Non-Null Count  Dtype \n",
      "---  ------         --------------  ----- \n",
      " 0   transactionId  1197 non-null   int64 \n",
      " 1   visitorId      1197 non-null   int64 \n",
      " 2   date           1197 non-null   object\n",
      " 3   revenue        1197 non-null   int64 \n",
      " 4   group          1197 non-null   object\n",
      "dtypes: int64(3), object(2)\n",
      "memory usage: 46.9+ KB\n"
     ]
    }
   ],
   "source": [
    "orders.info()"
   ]
  },
  {
   "cell_type": "code",
   "execution_count": 52,
   "metadata": {
    "scrolled": true
   },
   "outputs": [
    {
     "data": {
      "text/plain": [
       "503"
      ]
     },
     "metadata": {},
     "output_type": "display_data"
    },
    {
     "data": {
      "text/plain": [
       "586"
      ]
     },
     "metadata": {},
     "output_type": "display_data"
    },
    {
     "data": {
      "text/plain": [
       "1031"
      ]
     },
     "metadata": {},
     "output_type": "display_data"
    },
    {
     "data": {
      "text/plain": [
       "1089"
      ]
     },
     "metadata": {},
     "output_type": "display_data"
    }
   ],
   "source": [
    "visitorsA = orders[orders['group'] == 'A']\n",
    "visitorsB = orders[orders['group'] == 'B']\n",
    "unique_visitors_A = visitorsA['visitorId'].nunique()\n",
    "unique_visitors_B = visitorsB['visitorId'].nunique()\n",
    "unique_visitors_total = orders['visitorId'].nunique()\n",
    "\n",
    "display(unique_visitors_A)\n",
    "display(unique_visitors_B)\n",
    "display(unique_visitors_total)\n",
    "\n",
    "difference = unique_visitors_A + unique_visitors_B\n",
    "display(difference)\n",
    "#total = "
   ]
  },
  {
   "cell_type": "markdown",
   "metadata": {},
   "source": [
    "Если смотреть по всем данным, то уникальных пользователей меньше, чем если смотреть в сумме по группам, значит кто то затесался по ошибке в обе группы."
   ]
  },
  {
   "cell_type": "markdown",
   "metadata": {},
   "source": [
    "## Приоритизация гипотез"
   ]
  },
  {
   "cell_type": "markdown",
   "metadata": {},
   "source": [
    "### Применим фреймворк ICE"
   ]
  },
  {
   "cell_type": "code",
   "execution_count": 53,
   "metadata": {
    "scrolled": true
   },
   "outputs": [
    {
     "data": {
      "text/html": [
       "<div>\n",
       "<style scoped>\n",
       "    .dataframe tbody tr th:only-of-type {\n",
       "        vertical-align: middle;\n",
       "    }\n",
       "\n",
       "    .dataframe tbody tr th {\n",
       "        vertical-align: top;\n",
       "    }\n",
       "\n",
       "    .dataframe thead th {\n",
       "        text-align: right;\n",
       "    }\n",
       "</style>\n",
       "<table border=\"1\" class=\"dataframe\">\n",
       "  <thead>\n",
       "    <tr style=\"text-align: right;\">\n",
       "      <th></th>\n",
       "      <th>hypothesis</th>\n",
       "      <th>ICE</th>\n",
       "    </tr>\n",
       "  </thead>\n",
       "  <tbody>\n",
       "    <tr>\n",
       "      <th>8</th>\n",
       "      <td>Запустить акцию, дающую скидку на товар в день рождения</td>\n",
       "      <td>16.200000</td>\n",
       "    </tr>\n",
       "    <tr>\n",
       "      <th>0</th>\n",
       "      <td>Добавить два новых канала привлечения трафика, что позволит привлекать на 30% больше пользователей</td>\n",
       "      <td>13.333333</td>\n",
       "    </tr>\n",
       "    <tr>\n",
       "      <th>7</th>\n",
       "      <td>Добавить форму подписки на все основные страницы, чтобы собрать базу клиентов для email-рассылок</td>\n",
       "      <td>11.200000</td>\n",
       "    </tr>\n",
       "    <tr>\n",
       "      <th>6</th>\n",
       "      <td>Показать на главной странице баннеры с актуальными акциями и распродажами, чтобы увеличить конверсию</td>\n",
       "      <td>8.000000</td>\n",
       "    </tr>\n",
       "    <tr>\n",
       "      <th>2</th>\n",
       "      <td>Добавить блоки рекомендаций товаров на сайт интернет магазина, чтобы повысить конверсию и средний чек заказа</td>\n",
       "      <td>7.000000</td>\n",
       "    </tr>\n",
       "    <tr>\n",
       "      <th>1</th>\n",
       "      <td>Запустить собственную службу доставки, что сократит срок доставки заказов</td>\n",
       "      <td>2.000000</td>\n",
       "    </tr>\n",
       "    <tr>\n",
       "      <th>5</th>\n",
       "      <td>Добавить страницу отзывов клиентов о магазине, что позволит увеличить количество заказов</td>\n",
       "      <td>1.333333</td>\n",
       "    </tr>\n",
       "    <tr>\n",
       "      <th>3</th>\n",
       "      <td>Изменить структура категорий, что увеличит конверсию, т.к. пользователи быстрее найдут нужный товар</td>\n",
       "      <td>1.125000</td>\n",
       "    </tr>\n",
       "    <tr>\n",
       "      <th>4</th>\n",
       "      <td>Изменить цвет фона главной страницы, чтобы увеличить вовлеченность пользователей</td>\n",
       "      <td>1.000000</td>\n",
       "    </tr>\n",
       "  </tbody>\n",
       "</table>\n",
       "</div>"
      ],
      "text/plain": [
       "                                                                                                     hypothesis  \\\n",
       "8  Запустить акцию, дающую скидку на товар в день рождения                                                        \n",
       "0  Добавить два новых канала привлечения трафика, что позволит привлекать на 30% больше пользователей             \n",
       "7  Добавить форму подписки на все основные страницы, чтобы собрать базу клиентов для email-рассылок               \n",
       "6  Показать на главной странице баннеры с актуальными акциями и распродажами, чтобы увеличить конверсию           \n",
       "2  Добавить блоки рекомендаций товаров на сайт интернет магазина, чтобы повысить конверсию и средний чек заказа   \n",
       "1  Запустить собственную службу доставки, что сократит срок доставки заказов                                      \n",
       "5  Добавить страницу отзывов клиентов о магазине, что позволит увеличить количество заказов                       \n",
       "3  Изменить структура категорий, что увеличит конверсию, т.к. пользователи быстрее найдут нужный товар            \n",
       "4  Изменить цвет фона главной страницы, чтобы увеличить вовлеченность пользователей                               \n",
       "\n",
       "         ICE  \n",
       "8  16.200000  \n",
       "0  13.333333  \n",
       "7  11.200000  \n",
       "6  8.000000   \n",
       "2  7.000000   \n",
       "1  2.000000   \n",
       "5  1.333333   \n",
       "3  1.125000   \n",
       "4  1.000000   "
      ]
     },
     "execution_count": 53,
     "metadata": {},
     "output_type": "execute_result"
    }
   ],
   "source": [
    "hypothesis['ICE'] =  hypothesis['impact']*hypothesis['confidence']/hypothesis['efforts']\n",
    "\n",
    "hypothesis[['hypothesis', 'ICE']].sort_values(by = 'ICE', ascending=False)"
   ]
  },
  {
   "cell_type": "markdown",
   "metadata": {},
   "source": [
    "Наиболее перспективные гипотезы согласно фрэймворку ICE - 8, 0, 7"
   ]
  },
  {
   "cell_type": "markdown",
   "metadata": {},
   "source": [
    "### Применим фреймворк RICE "
   ]
  },
  {
   "cell_type": "code",
   "execution_count": 54,
   "metadata": {
    "scrolled": true
   },
   "outputs": [
    {
     "data": {
      "text/html": [
       "<div>\n",
       "<style scoped>\n",
       "    .dataframe tbody tr th:only-of-type {\n",
       "        vertical-align: middle;\n",
       "    }\n",
       "\n",
       "    .dataframe tbody tr th {\n",
       "        vertical-align: top;\n",
       "    }\n",
       "\n",
       "    .dataframe thead th {\n",
       "        text-align: right;\n",
       "    }\n",
       "</style>\n",
       "<table border=\"1\" class=\"dataframe\">\n",
       "  <thead>\n",
       "    <tr style=\"text-align: right;\">\n",
       "      <th></th>\n",
       "      <th>hypothesis</th>\n",
       "      <th>RICE</th>\n",
       "    </tr>\n",
       "  </thead>\n",
       "  <tbody>\n",
       "    <tr>\n",
       "      <th>7</th>\n",
       "      <td>Добавить форму подписки на все основные страницы, чтобы собрать базу клиентов для email-рассылок</td>\n",
       "      <td>112.0</td>\n",
       "    </tr>\n",
       "    <tr>\n",
       "      <th>2</th>\n",
       "      <td>Добавить блоки рекомендаций товаров на сайт интернет магазина, чтобы повысить конверсию и средний чек заказа</td>\n",
       "      <td>56.0</td>\n",
       "    </tr>\n",
       "    <tr>\n",
       "      <th>0</th>\n",
       "      <td>Добавить два новых канала привлечения трафика, что позволит привлекать на 30% больше пользователей</td>\n",
       "      <td>40.0</td>\n",
       "    </tr>\n",
       "    <tr>\n",
       "      <th>6</th>\n",
       "      <td>Показать на главной странице баннеры с актуальными акциями и распродажами, чтобы увеличить конверсию</td>\n",
       "      <td>40.0</td>\n",
       "    </tr>\n",
       "    <tr>\n",
       "      <th>8</th>\n",
       "      <td>Запустить акцию, дающую скидку на товар в день рождения</td>\n",
       "      <td>16.2</td>\n",
       "    </tr>\n",
       "    <tr>\n",
       "      <th>3</th>\n",
       "      <td>Изменить структура категорий, что увеличит конверсию, т.к. пользователи быстрее найдут нужный товар</td>\n",
       "      <td>9.0</td>\n",
       "    </tr>\n",
       "    <tr>\n",
       "      <th>1</th>\n",
       "      <td>Запустить собственную службу доставки, что сократит срок доставки заказов</td>\n",
       "      <td>4.0</td>\n",
       "    </tr>\n",
       "    <tr>\n",
       "      <th>5</th>\n",
       "      <td>Добавить страницу отзывов клиентов о магазине, что позволит увеличить количество заказов</td>\n",
       "      <td>4.0</td>\n",
       "    </tr>\n",
       "    <tr>\n",
       "      <th>4</th>\n",
       "      <td>Изменить цвет фона главной страницы, чтобы увеличить вовлеченность пользователей</td>\n",
       "      <td>3.0</td>\n",
       "    </tr>\n",
       "  </tbody>\n",
       "</table>\n",
       "</div>"
      ],
      "text/plain": [
       "                                                                                                     hypothesis  \\\n",
       "7  Добавить форму подписки на все основные страницы, чтобы собрать базу клиентов для email-рассылок               \n",
       "2  Добавить блоки рекомендаций товаров на сайт интернет магазина, чтобы повысить конверсию и средний чек заказа   \n",
       "0  Добавить два новых канала привлечения трафика, что позволит привлекать на 30% больше пользователей             \n",
       "6  Показать на главной странице баннеры с актуальными акциями и распродажами, чтобы увеличить конверсию           \n",
       "8  Запустить акцию, дающую скидку на товар в день рождения                                                        \n",
       "3  Изменить структура категорий, что увеличит конверсию, т.к. пользователи быстрее найдут нужный товар            \n",
       "1  Запустить собственную службу доставки, что сократит срок доставки заказов                                      \n",
       "5  Добавить страницу отзывов клиентов о магазине, что позволит увеличить количество заказов                       \n",
       "4  Изменить цвет фона главной страницы, чтобы увеличить вовлеченность пользователей                               \n",
       "\n",
       "    RICE  \n",
       "7  112.0  \n",
       "2  56.0   \n",
       "0  40.0   \n",
       "6  40.0   \n",
       "8  16.2   \n",
       "3  9.0    \n",
       "1  4.0    \n",
       "5  4.0    \n",
       "4  3.0    "
      ]
     },
     "execution_count": 54,
     "metadata": {},
     "output_type": "execute_result"
    }
   ],
   "source": [
    "hypothesis['RICE'] =  hypothesis['reach']*hypothesis['impact']*hypothesis['confidence']/hypothesis['efforts']\n",
    "\n",
    "hypothesis[['hypothesis', 'RICE']].sort_values(by = 'RICE', ascending=False)"
   ]
  },
  {
   "cell_type": "markdown",
   "metadata": {},
   "source": [
    "Наиболее перспективные гипотезы согласно фрэймворку RICE - 7, 2 и 0"
   ]
  },
  {
   "cell_type": "markdown",
   "metadata": {},
   "source": [
    "**В фреймворке RICE появляется еще один параметр - reach, или скольких пользователей затронет изменение, которое мы хотим внести.\n",
    "Гипотеза №8 не осталась в топ-3 многообещающих гипотез из за маленького количества аудитории, на которую повлияет ее внедрение.**\n",
    "\n",
    "**Доп параметр фрэймворка RICE позволяет более точно оценить ситуцию, так что остановимся на том, что приоритетными гипотезами будут 7, 2 и 0.**"
   ]
  },
  {
   "cell_type": "markdown",
   "metadata": {},
   "source": [
    "## Анализ A/B-теста\n"
   ]
  },
  {
   "cell_type": "code",
   "execution_count": 55,
   "metadata": {
    "scrolled": true
   },
   "outputs": [
    {
     "data": {
      "text/html": [
       "<div>\n",
       "<style scoped>\n",
       "    .dataframe tbody tr th:only-of-type {\n",
       "        vertical-align: middle;\n",
       "    }\n",
       "\n",
       "    .dataframe tbody tr th {\n",
       "        vertical-align: top;\n",
       "    }\n",
       "\n",
       "    .dataframe thead th {\n",
       "        text-align: right;\n",
       "    }\n",
       "</style>\n",
       "<table border=\"1\" class=\"dataframe\">\n",
       "  <thead>\n",
       "    <tr style=\"text-align: right;\">\n",
       "      <th></th>\n",
       "      <th>transactionId</th>\n",
       "      <th>visitorId</th>\n",
       "      <th>date</th>\n",
       "      <th>revenue</th>\n",
       "      <th>group</th>\n",
       "    </tr>\n",
       "  </thead>\n",
       "  <tbody>\n",
       "    <tr>\n",
       "      <th>0</th>\n",
       "      <td>3667963787</td>\n",
       "      <td>3312258926</td>\n",
       "      <td>2019-08-15</td>\n",
       "      <td>1650</td>\n",
       "      <td>B</td>\n",
       "    </tr>\n",
       "    <tr>\n",
       "      <th>1</th>\n",
       "      <td>2804400009</td>\n",
       "      <td>3642806036</td>\n",
       "      <td>2019-08-15</td>\n",
       "      <td>730</td>\n",
       "      <td>B</td>\n",
       "    </tr>\n",
       "    <tr>\n",
       "      <th>2</th>\n",
       "      <td>2961555356</td>\n",
       "      <td>4069496402</td>\n",
       "      <td>2019-08-15</td>\n",
       "      <td>400</td>\n",
       "      <td>A</td>\n",
       "    </tr>\n",
       "    <tr>\n",
       "      <th>3</th>\n",
       "      <td>3797467345</td>\n",
       "      <td>1196621759</td>\n",
       "      <td>2019-08-15</td>\n",
       "      <td>9759</td>\n",
       "      <td>B</td>\n",
       "    </tr>\n",
       "    <tr>\n",
       "      <th>4</th>\n",
       "      <td>2282983706</td>\n",
       "      <td>2322279887</td>\n",
       "      <td>2019-08-15</td>\n",
       "      <td>2308</td>\n",
       "      <td>B</td>\n",
       "    </tr>\n",
       "  </tbody>\n",
       "</table>\n",
       "</div>"
      ],
      "text/plain": [
       "   transactionId   visitorId        date  revenue group\n",
       "0  3667963787     3312258926  2019-08-15  1650     B   \n",
       "1  2804400009     3642806036  2019-08-15  730      B   \n",
       "2  2961555356     4069496402  2019-08-15  400      A   \n",
       "3  3797467345     1196621759  2019-08-15  9759     B   \n",
       "4  2282983706     2322279887  2019-08-15  2308     B   "
      ]
     },
     "execution_count": 55,
     "metadata": {},
     "output_type": "execute_result"
    }
   ],
   "source": [
    "orders.head()"
   ]
  },
  {
   "cell_type": "code",
   "execution_count": 56,
   "metadata": {},
   "outputs": [
    {
     "data": {
      "text/html": [
       "<div>\n",
       "<style scoped>\n",
       "    .dataframe tbody tr th:only-of-type {\n",
       "        vertical-align: middle;\n",
       "    }\n",
       "\n",
       "    .dataframe tbody tr th {\n",
       "        vertical-align: top;\n",
       "    }\n",
       "\n",
       "    .dataframe thead th {\n",
       "        text-align: right;\n",
       "    }\n",
       "</style>\n",
       "<table border=\"1\" class=\"dataframe\">\n",
       "  <thead>\n",
       "    <tr style=\"text-align: right;\">\n",
       "      <th></th>\n",
       "      <th>date</th>\n",
       "      <th>group</th>\n",
       "      <th>visitors</th>\n",
       "    </tr>\n",
       "  </thead>\n",
       "  <tbody>\n",
       "    <tr>\n",
       "      <th>0</th>\n",
       "      <td>2019-08-01</td>\n",
       "      <td>A</td>\n",
       "      <td>719</td>\n",
       "    </tr>\n",
       "    <tr>\n",
       "      <th>1</th>\n",
       "      <td>2019-08-02</td>\n",
       "      <td>A</td>\n",
       "      <td>619</td>\n",
       "    </tr>\n",
       "    <tr>\n",
       "      <th>2</th>\n",
       "      <td>2019-08-03</td>\n",
       "      <td>A</td>\n",
       "      <td>507</td>\n",
       "    </tr>\n",
       "    <tr>\n",
       "      <th>3</th>\n",
       "      <td>2019-08-04</td>\n",
       "      <td>A</td>\n",
       "      <td>717</td>\n",
       "    </tr>\n",
       "    <tr>\n",
       "      <th>4</th>\n",
       "      <td>2019-08-05</td>\n",
       "      <td>A</td>\n",
       "      <td>756</td>\n",
       "    </tr>\n",
       "  </tbody>\n",
       "</table>\n",
       "</div>"
      ],
      "text/plain": [
       "         date group  visitors\n",
       "0  2019-08-01  A     719     \n",
       "1  2019-08-02  A     619     \n",
       "2  2019-08-03  A     507     \n",
       "3  2019-08-04  A     717     \n",
       "4  2019-08-05  A     756     "
      ]
     },
     "execution_count": 56,
     "metadata": {},
     "output_type": "execute_result"
    }
   ],
   "source": [
    "visitors.head()"
   ]
  },
  {
   "cell_type": "markdown",
   "metadata": {},
   "source": [
    "### Проанализируем A/B-тест:\n"
   ]
  },
  {
   "cell_type": "markdown",
   "metadata": {},
   "source": [
    "#### Построим график кумулятивной выручки по группам"
   ]
  },
  {
   "cell_type": "code",
   "execution_count": 57,
   "metadata": {
    "scrolled": true
   },
   "outputs": [
    {
     "data": {
      "text/html": [
       "<div>\n",
       "<style scoped>\n",
       "    .dataframe tbody tr th:only-of-type {\n",
       "        vertical-align: middle;\n",
       "    }\n",
       "\n",
       "    .dataframe tbody tr th {\n",
       "        vertical-align: top;\n",
       "    }\n",
       "\n",
       "    .dataframe thead th {\n",
       "        text-align: right;\n",
       "    }\n",
       "</style>\n",
       "<table border=\"1\" class=\"dataframe\">\n",
       "  <thead>\n",
       "    <tr style=\"text-align: right;\">\n",
       "      <th></th>\n",
       "      <th>date</th>\n",
       "      <th>group</th>\n",
       "    </tr>\n",
       "  </thead>\n",
       "  <tbody>\n",
       "    <tr>\n",
       "      <th>0</th>\n",
       "      <td>2019-08-15</td>\n",
       "      <td>B</td>\n",
       "    </tr>\n",
       "    <tr>\n",
       "      <th>2</th>\n",
       "      <td>2019-08-15</td>\n",
       "      <td>A</td>\n",
       "    </tr>\n",
       "    <tr>\n",
       "      <th>45</th>\n",
       "      <td>2019-08-16</td>\n",
       "      <td>A</td>\n",
       "    </tr>\n",
       "    <tr>\n",
       "      <th>47</th>\n",
       "      <td>2019-08-16</td>\n",
       "      <td>B</td>\n",
       "    </tr>\n",
       "    <tr>\n",
       "      <th>55</th>\n",
       "      <td>2019-08-01</td>\n",
       "      <td>A</td>\n",
       "    </tr>\n",
       "  </tbody>\n",
       "</table>\n",
       "</div>"
      ],
      "text/plain": [
       "          date group\n",
       "0   2019-08-15  B   \n",
       "2   2019-08-15  A   \n",
       "45  2019-08-16  A   \n",
       "47  2019-08-16  B   \n",
       "55  2019-08-01  A   "
      ]
     },
     "execution_count": 57,
     "metadata": {},
     "output_type": "execute_result"
    }
   ],
   "source": [
    "# создаем массив уникальных пар значений дат и групп теста\n",
    "datesGroups = orders[['date','group']].drop_duplicates() \n",
    "datesGroups.head()"
   ]
  },
  {
   "cell_type": "code",
   "execution_count": 58,
   "metadata": {
    "scrolled": true
   },
   "outputs": [
    {
     "data": {
      "text/html": [
       "<div>\n",
       "<style scoped>\n",
       "    .dataframe tbody tr th:only-of-type {\n",
       "        vertical-align: middle;\n",
       "    }\n",
       "\n",
       "    .dataframe tbody tr th {\n",
       "        vertical-align: top;\n",
       "    }\n",
       "\n",
       "    .dataframe thead th {\n",
       "        text-align: right;\n",
       "    }\n",
       "</style>\n",
       "<table border=\"1\" class=\"dataframe\">\n",
       "  <thead>\n",
       "    <tr style=\"text-align: right;\">\n",
       "      <th></th>\n",
       "      <th>date</th>\n",
       "      <th>group</th>\n",
       "    </tr>\n",
       "  </thead>\n",
       "  <tbody>\n",
       "    <tr>\n",
       "      <th>0</th>\n",
       "      <td>2019-08-01</td>\n",
       "      <td>A</td>\n",
       "    </tr>\n",
       "    <tr>\n",
       "      <th>1</th>\n",
       "      <td>2019-08-02</td>\n",
       "      <td>A</td>\n",
       "    </tr>\n",
       "    <tr>\n",
       "      <th>2</th>\n",
       "      <td>2019-08-03</td>\n",
       "      <td>A</td>\n",
       "    </tr>\n",
       "    <tr>\n",
       "      <th>3</th>\n",
       "      <td>2019-08-04</td>\n",
       "      <td>A</td>\n",
       "    </tr>\n",
       "    <tr>\n",
       "      <th>4</th>\n",
       "      <td>2019-08-05</td>\n",
       "      <td>A</td>\n",
       "    </tr>\n",
       "  </tbody>\n",
       "</table>\n",
       "</div>"
      ],
      "text/plain": [
       "         date group\n",
       "0  2019-08-01  A   \n",
       "1  2019-08-02  A   \n",
       "2  2019-08-03  A   \n",
       "3  2019-08-04  A   \n",
       "4  2019-08-05  A   "
      ]
     },
     "execution_count": 58,
     "metadata": {},
     "output_type": "execute_result"
    }
   ],
   "source": [
    "datesGroups_visitors = visitors[['date','group']].drop_duplicates() \n",
    "datesGroups_visitors.head()"
   ]
  },
  {
   "cell_type": "code",
   "execution_count": 59,
   "metadata": {
    "scrolled": true
   },
   "outputs": [
    {
     "data": {
      "text/html": [
       "<div>\n",
       "<style scoped>\n",
       "    .dataframe tbody tr th:only-of-type {\n",
       "        vertical-align: middle;\n",
       "    }\n",
       "\n",
       "    .dataframe tbody tr th {\n",
       "        vertical-align: top;\n",
       "    }\n",
       "\n",
       "    .dataframe thead th {\n",
       "        text-align: right;\n",
       "    }\n",
       "</style>\n",
       "<table border=\"1\" class=\"dataframe\">\n",
       "  <thead>\n",
       "    <tr style=\"text-align: right;\">\n",
       "      <th></th>\n",
       "      <th>date</th>\n",
       "      <th>group</th>\n",
       "      <th>transactionId</th>\n",
       "      <th>visitorId</th>\n",
       "      <th>revenue</th>\n",
       "    </tr>\n",
       "  </thead>\n",
       "  <tbody>\n",
       "    <tr>\n",
       "      <th>55</th>\n",
       "      <td>2019-08-01</td>\n",
       "      <td>A</td>\n",
       "      <td>24</td>\n",
       "      <td>20</td>\n",
       "      <td>148579</td>\n",
       "    </tr>\n",
       "    <tr>\n",
       "      <th>66</th>\n",
       "      <td>2019-08-01</td>\n",
       "      <td>B</td>\n",
       "      <td>21</td>\n",
       "      <td>20</td>\n",
       "      <td>101217</td>\n",
       "    </tr>\n",
       "    <tr>\n",
       "      <th>175</th>\n",
       "      <td>2019-08-02</td>\n",
       "      <td>A</td>\n",
       "      <td>44</td>\n",
       "      <td>38</td>\n",
       "      <td>242401</td>\n",
       "    </tr>\n",
       "    <tr>\n",
       "      <th>173</th>\n",
       "      <td>2019-08-02</td>\n",
       "      <td>B</td>\n",
       "      <td>45</td>\n",
       "      <td>43</td>\n",
       "      <td>266748</td>\n",
       "    </tr>\n",
       "    <tr>\n",
       "      <th>291</th>\n",
       "      <td>2019-08-03</td>\n",
       "      <td>A</td>\n",
       "      <td>68</td>\n",
       "      <td>62</td>\n",
       "      <td>354874</td>\n",
       "    </tr>\n",
       "    <tr>\n",
       "      <th>...</th>\n",
       "      <td>...</td>\n",
       "      <td>...</td>\n",
       "      <td>...</td>\n",
       "      <td>...</td>\n",
       "      <td>...</td>\n",
       "    </tr>\n",
       "    <tr>\n",
       "      <th>496</th>\n",
       "      <td>2019-08-29</td>\n",
       "      <td>B</td>\n",
       "      <td>596</td>\n",
       "      <td>544</td>\n",
       "      <td>5559398</td>\n",
       "    </tr>\n",
       "    <tr>\n",
       "      <th>730</th>\n",
       "      <td>2019-08-30</td>\n",
       "      <td>A</td>\n",
       "      <td>545</td>\n",
       "      <td>493</td>\n",
       "      <td>4022970</td>\n",
       "    </tr>\n",
       "    <tr>\n",
       "      <th>690</th>\n",
       "      <td>2019-08-30</td>\n",
       "      <td>B</td>\n",
       "      <td>620</td>\n",
       "      <td>567</td>\n",
       "      <td>5774631</td>\n",
       "    </tr>\n",
       "    <tr>\n",
       "      <th>958</th>\n",
       "      <td>2019-08-31</td>\n",
       "      <td>A</td>\n",
       "      <td>557</td>\n",
       "      <td>503</td>\n",
       "      <td>4084803</td>\n",
       "    </tr>\n",
       "    <tr>\n",
       "      <th>930</th>\n",
       "      <td>2019-08-31</td>\n",
       "      <td>B</td>\n",
       "      <td>640</td>\n",
       "      <td>586</td>\n",
       "      <td>5907760</td>\n",
       "    </tr>\n",
       "  </tbody>\n",
       "</table>\n",
       "<p>62 rows × 5 columns</p>\n",
       "</div>"
      ],
      "text/plain": [
       "           date group  transactionId  visitorId  revenue\n",
       "55   2019-08-01  A     24             20         148579 \n",
       "66   2019-08-01  B     21             20         101217 \n",
       "175  2019-08-02  A     44             38         242401 \n",
       "173  2019-08-02  B     45             43         266748 \n",
       "291  2019-08-03  A     68             62         354874 \n",
       "..          ... ..     ..             ..            ... \n",
       "496  2019-08-29  B     596            544        5559398\n",
       "730  2019-08-30  A     545            493        4022970\n",
       "690  2019-08-30  B     620            567        5774631\n",
       "958  2019-08-31  A     557            503        4084803\n",
       "930  2019-08-31  B     640            586        5907760\n",
       "\n",
       "[62 rows x 5 columns]"
      ]
     },
     "execution_count": 59,
     "metadata": {},
     "output_type": "execute_result"
    }
   ],
   "source": [
    "ordersAggregated = datesGroups.apply(lambda x: orders[np.logical_and(orders['date'] <= x['date'], orders['group'] == x['group'])]\\\n",
    ".agg({'date' : 'max', 'group' : 'max', 'transactionId' : 'nunique', 'visitorId' : 'nunique', 'revenue' : 'sum'}), axis=1).sort_values(by=['date','group'])\n",
    "\n",
    "ordersAggregated"
   ]
  },
  {
   "cell_type": "code",
   "execution_count": 60,
   "metadata": {
    "scrolled": false
   },
   "outputs": [
    {
     "data": {
      "text/html": [
       "<div>\n",
       "<style scoped>\n",
       "    .dataframe tbody tr th:only-of-type {\n",
       "        vertical-align: middle;\n",
       "    }\n",
       "\n",
       "    .dataframe tbody tr th {\n",
       "        vertical-align: top;\n",
       "    }\n",
       "\n",
       "    .dataframe thead th {\n",
       "        text-align: right;\n",
       "    }\n",
       "</style>\n",
       "<table border=\"1\" class=\"dataframe\">\n",
       "  <thead>\n",
       "    <tr style=\"text-align: right;\">\n",
       "      <th></th>\n",
       "      <th>date</th>\n",
       "      <th>group</th>\n",
       "      <th>visitors</th>\n",
       "    </tr>\n",
       "  </thead>\n",
       "  <tbody>\n",
       "    <tr>\n",
       "      <th>55</th>\n",
       "      <td>2019-08-01</td>\n",
       "      <td>A</td>\n",
       "      <td>719</td>\n",
       "    </tr>\n",
       "    <tr>\n",
       "      <th>66</th>\n",
       "      <td>2019-08-01</td>\n",
       "      <td>B</td>\n",
       "      <td>713</td>\n",
       "    </tr>\n",
       "    <tr>\n",
       "      <th>175</th>\n",
       "      <td>2019-08-02</td>\n",
       "      <td>A</td>\n",
       "      <td>1338</td>\n",
       "    </tr>\n",
       "    <tr>\n",
       "      <th>173</th>\n",
       "      <td>2019-08-02</td>\n",
       "      <td>B</td>\n",
       "      <td>1294</td>\n",
       "    </tr>\n",
       "    <tr>\n",
       "      <th>291</th>\n",
       "      <td>2019-08-03</td>\n",
       "      <td>A</td>\n",
       "      <td>1845</td>\n",
       "    </tr>\n",
       "    <tr>\n",
       "      <th>...</th>\n",
       "      <td>...</td>\n",
       "      <td>...</td>\n",
       "      <td>...</td>\n",
       "    </tr>\n",
       "    <tr>\n",
       "      <th>496</th>\n",
       "      <td>2019-08-29</td>\n",
       "      <td>B</td>\n",
       "      <td>17708</td>\n",
       "    </tr>\n",
       "    <tr>\n",
       "      <th>730</th>\n",
       "      <td>2019-08-30</td>\n",
       "      <td>A</td>\n",
       "      <td>18037</td>\n",
       "    </tr>\n",
       "    <tr>\n",
       "      <th>690</th>\n",
       "      <td>2019-08-30</td>\n",
       "      <td>B</td>\n",
       "      <td>18198</td>\n",
       "    </tr>\n",
       "    <tr>\n",
       "      <th>958</th>\n",
       "      <td>2019-08-31</td>\n",
       "      <td>A</td>\n",
       "      <td>18736</td>\n",
       "    </tr>\n",
       "    <tr>\n",
       "      <th>930</th>\n",
       "      <td>2019-08-31</td>\n",
       "      <td>B</td>\n",
       "      <td>18916</td>\n",
       "    </tr>\n",
       "  </tbody>\n",
       "</table>\n",
       "<p>62 rows × 3 columns</p>\n",
       "</div>"
      ],
      "text/plain": [
       "          date group  visitors\n",
       "55  2019-08-01  A     719     \n",
       "66  2019-08-01  B     713     \n",
       "175 2019-08-02  A     1338    \n",
       "173 2019-08-02  B     1294    \n",
       "291 2019-08-03  A     1845    \n",
       "..         ... ..      ...    \n",
       "496 2019-08-29  B     17708   \n",
       "730 2019-08-30  A     18037   \n",
       "690 2019-08-30  B     18198   \n",
       "958 2019-08-31  A     18736   \n",
       "930 2019-08-31  B     18916   \n",
       "\n",
       "[62 rows x 3 columns]"
      ]
     },
     "execution_count": 60,
     "metadata": {},
     "output_type": "execute_result"
    }
   ],
   "source": [
    "#Аналогично получим агрегированные кумулятивные по дням данные о посетителях \n",
    "visitors['date'] = pd.to_datetime(visitors['date'])\n",
    "visitorsAggregated = datesGroups.apply(lambda x: visitors[np.logical_and(visitors['date'] <= x['date'], visitors['group'] == x['group'])].agg({'date' : 'max', 'group' : 'max', 'visitors' : 'sum'}), axis=1).sort_values(by=['date','group']) \n",
    "\n",
    "visitorsAggregated"
   ]
  },
  {
   "cell_type": "code",
   "execution_count": 61,
   "metadata": {},
   "outputs": [
    {
     "name": "stdout",
     "output_type": "stream",
     "text": [
      "<class 'pandas.core.frame.DataFrame'>\n",
      "Int64Index: 62 entries, 55 to 930\n",
      "Data columns (total 5 columns):\n",
      " #   Column         Non-Null Count  Dtype \n",
      "---  ------         --------------  ----- \n",
      " 0   date           62 non-null     object\n",
      " 1   group          62 non-null     object\n",
      " 2   transactionId  62 non-null     int64 \n",
      " 3   visitorId      62 non-null     int64 \n",
      " 4   revenue        62 non-null     int64 \n",
      "dtypes: int64(3), object(2)\n",
      "memory usage: 2.9+ KB\n",
      "<class 'pandas.core.frame.DataFrame'>\n",
      "Int64Index: 62 entries, 55 to 930\n",
      "Data columns (total 3 columns):\n",
      " #   Column    Non-Null Count  Dtype         \n",
      "---  ------    --------------  -----         \n",
      " 0   date      62 non-null     datetime64[ns]\n",
      " 1   group     62 non-null     object        \n",
      " 2   visitors  62 non-null     int64         \n",
      "dtypes: datetime64[ns](1), int64(1), object(1)\n",
      "memory usage: 1.9+ KB\n"
     ]
    }
   ],
   "source": [
    "ordersAggregated.info()\n",
    "visitorsAggregated.info()\n",
    "ordersAggregated['date'] = pd.to_datetime(ordersAggregated['date'])"
   ]
  },
  {
   "cell_type": "code",
   "execution_count": 62,
   "metadata": {
    "scrolled": true
   },
   "outputs": [
    {
     "data": {
      "text/html": [
       "<div>\n",
       "<style scoped>\n",
       "    .dataframe tbody tr th:only-of-type {\n",
       "        vertical-align: middle;\n",
       "    }\n",
       "\n",
       "    .dataframe tbody tr th {\n",
       "        vertical-align: top;\n",
       "    }\n",
       "\n",
       "    .dataframe thead th {\n",
       "        text-align: right;\n",
       "    }\n",
       "</style>\n",
       "<table border=\"1\" class=\"dataframe\">\n",
       "  <thead>\n",
       "    <tr style=\"text-align: right;\">\n",
       "      <th></th>\n",
       "      <th>date</th>\n",
       "      <th>group</th>\n",
       "      <th>transactions</th>\n",
       "      <th>buyers</th>\n",
       "      <th>revenue</th>\n",
       "      <th>visitors</th>\n",
       "    </tr>\n",
       "  </thead>\n",
       "  <tbody>\n",
       "    <tr>\n",
       "      <th>0</th>\n",
       "      <td>2019-08-01</td>\n",
       "      <td>A</td>\n",
       "      <td>24</td>\n",
       "      <td>20</td>\n",
       "      <td>148579</td>\n",
       "      <td>719</td>\n",
       "    </tr>\n",
       "    <tr>\n",
       "      <th>1</th>\n",
       "      <td>2019-08-01</td>\n",
       "      <td>B</td>\n",
       "      <td>21</td>\n",
       "      <td>20</td>\n",
       "      <td>101217</td>\n",
       "      <td>713</td>\n",
       "    </tr>\n",
       "    <tr>\n",
       "      <th>2</th>\n",
       "      <td>2019-08-02</td>\n",
       "      <td>A</td>\n",
       "      <td>44</td>\n",
       "      <td>38</td>\n",
       "      <td>242401</td>\n",
       "      <td>1338</td>\n",
       "    </tr>\n",
       "    <tr>\n",
       "      <th>3</th>\n",
       "      <td>2019-08-02</td>\n",
       "      <td>B</td>\n",
       "      <td>45</td>\n",
       "      <td>43</td>\n",
       "      <td>266748</td>\n",
       "      <td>1294</td>\n",
       "    </tr>\n",
       "    <tr>\n",
       "      <th>4</th>\n",
       "      <td>2019-08-03</td>\n",
       "      <td>A</td>\n",
       "      <td>68</td>\n",
       "      <td>62</td>\n",
       "      <td>354874</td>\n",
       "      <td>1845</td>\n",
       "    </tr>\n",
       "  </tbody>\n",
       "</table>\n",
       "</div>"
      ],
      "text/plain": [
       "        date group  transactions  buyers  revenue  visitors\n",
       "0 2019-08-01  A     24            20      148579   719     \n",
       "1 2019-08-01  B     21            20      101217   713     \n",
       "2 2019-08-02  A     44            38      242401   1338    \n",
       "3 2019-08-02  B     45            43      266748   1294    \n",
       "4 2019-08-03  A     68            62      354874   1845    "
      ]
     },
     "execution_count": 62,
     "metadata": {},
     "output_type": "execute_result"
    }
   ],
   "source": [
    "# объединяем кумулятивные данные в одной таблице и присваиваем ее столбцам понятные названия\n",
    "cumulativeData = ordersAggregated.merge(visitorsAggregated, left_on=['date', 'group'], right_on=['date', 'group'])\n",
    "cumulativeData.columns = ['date', 'group', 'transactions', 'buyers', 'revenue', 'visitors']\n",
    "\n",
    "cumulativeData.head(5)\n"
   ]
  },
  {
   "cell_type": "code",
   "execution_count": 63,
   "metadata": {
    "scrolled": true
   },
   "outputs": [
    {
     "data": {
      "image/png": "[encoded data removed]",
      "text/plain": [
       "<Figure size 432x288 with 1 Axes>"
      ]
     },
     "metadata": {
      "needs_background": "light"
     },
     "output_type": "display_data"
    }
   ],
   "source": [
    "# датафрейм с кумулятивным количеством заказов и кумулятивной выручкой по дням в группе А\n",
    "cumulativeRevenueA = cumulativeData[cumulativeData['group']=='A'][['date','revenue', 'transactions']]\n",
    "\n",
    "# датафрейм с кумулятивным количеством заказов и кумулятивной выручкой по дням в группе B\n",
    "cumulativeRevenueB = cumulativeData[cumulativeData['group']=='B'][['date','revenue', 'transactions']]\n",
    "\n",
    "# Строим график выручки группы А\n",
    "plt.plot(cumulativeRevenueA['date'], cumulativeRevenueA['revenue'], label='A')\n",
    "\n",
    "# Строим график выручки группы B\n",
    "plt.plot(cumulativeRevenueB['date'], cumulativeRevenueB['revenue'], label='B')\n",
    "\n",
    "plt.legend() \n",
    "plt.title('Кумулятивная выручка по дням в группе А и В')\n",
    "#plt.figure(figsize = (10, 4))\n",
    "plt.show()"
   ]
  },
  {
   "cell_type": "markdown",
   "metadata": {},
   "source": [
    "Выручка увеличивается в течение всего теста, это хороший знак, однако в группе В показатели выручки все таки выше."
   ]
  },
  {
   "cell_type": "markdown",
   "metadata": {},
   "source": [
    "#### Построим график кумулятивного среднего чека по группам"
   ]
  },
  {
   "cell_type": "code",
   "execution_count": 64,
   "metadata": {
    "scrolled": true
   },
   "outputs": [
    {
     "data": {
      "image/png": "[encoded data removed]",
      "text/plain": [
       "<Figure size 432x288 with 1 Axes>"
      ]
     },
     "metadata": {
      "needs_background": "light"
     },
     "output_type": "display_data"
    }
   ],
   "source": [
    "plt.plot(cumulativeRevenueA['date'], cumulativeRevenueA['revenue']/cumulativeRevenueA['transactions'], label='A')\n",
    "plt.plot(cumulativeRevenueB['date'], cumulativeRevenueB['revenue']/cumulativeRevenueB['transactions'], label='B')\n",
    "plt.legend() \n",
    "plt.title('Кумулятивный средний чек по дням в группе А и В')\n",
    "plt.show()"
   ]
  },
  {
   "cell_type": "markdown",
   "metadata": {},
   "source": [
    "Ближе к концу теста средний чек в группе В после резкого скачка лидирует с большим отрывом.\n",
    "Средний чек в группе А стабилизировался на среднем уровне."
   ]
  },
  {
   "cell_type": "markdown",
   "metadata": {},
   "source": [
    "####  Построим график относительного изменения кумулятивного среднего чека группы B к группе A"
   ]
  },
  {
   "cell_type": "code",
   "execution_count": 65,
   "metadata": {
    "scrolled": true
   },
   "outputs": [
    {
     "data": {
      "text/html": [
       "<div>\n",
       "<style scoped>\n",
       "    .dataframe tbody tr th:only-of-type {\n",
       "        vertical-align: middle;\n",
       "    }\n",
       "\n",
       "    .dataframe tbody tr th {\n",
       "        vertical-align: top;\n",
       "    }\n",
       "\n",
       "    .dataframe thead th {\n",
       "        text-align: right;\n",
       "    }\n",
       "</style>\n",
       "<table border=\"1\" class=\"dataframe\">\n",
       "  <thead>\n",
       "    <tr style=\"text-align: right;\">\n",
       "      <th></th>\n",
       "      <th>date</th>\n",
       "      <th>revenueA</th>\n",
       "      <th>transactionsA</th>\n",
       "      <th>revenueB</th>\n",
       "      <th>transactionsB</th>\n",
       "    </tr>\n",
       "  </thead>\n",
       "  <tbody>\n",
       "    <tr>\n",
       "      <th>0</th>\n",
       "      <td>2019-08-01</td>\n",
       "      <td>148579</td>\n",
       "      <td>24</td>\n",
       "      <td>101217</td>\n",
       "      <td>21</td>\n",
       "    </tr>\n",
       "    <tr>\n",
       "      <th>1</th>\n",
       "      <td>2019-08-02</td>\n",
       "      <td>242401</td>\n",
       "      <td>44</td>\n",
       "      <td>266748</td>\n",
       "      <td>45</td>\n",
       "    </tr>\n",
       "    <tr>\n",
       "      <th>2</th>\n",
       "      <td>2019-08-03</td>\n",
       "      <td>354874</td>\n",
       "      <td>68</td>\n",
       "      <td>380996</td>\n",
       "      <td>61</td>\n",
       "    </tr>\n",
       "    <tr>\n",
       "      <th>3</th>\n",
       "      <td>2019-08-04</td>\n",
       "      <td>425699</td>\n",
       "      <td>84</td>\n",
       "      <td>489567</td>\n",
       "      <td>78</td>\n",
       "    </tr>\n",
       "    <tr>\n",
       "      <th>4</th>\n",
       "      <td>2019-08-05</td>\n",
       "      <td>549917</td>\n",
       "      <td>109</td>\n",
       "      <td>581995</td>\n",
       "      <td>101</td>\n",
       "    </tr>\n",
       "  </tbody>\n",
       "</table>\n",
       "</div>"
      ],
      "text/plain": [
       "        date  revenueA  transactionsA  revenueB  transactionsB\n",
       "0 2019-08-01  148579    24             101217    21           \n",
       "1 2019-08-02  242401    44             266748    45           \n",
       "2 2019-08-03  354874    68             380996    61           \n",
       "3 2019-08-04  425699    84             489567    78           \n",
       "4 2019-08-05  549917    109            581995    101          "
      ]
     },
     "metadata": {},
     "output_type": "display_data"
    },
    {
     "data": {
      "image/png": "[encoded data removed]",
      "text/plain": [
       "<Figure size 432x288 with 1 Axes>"
      ]
     },
     "metadata": {
      "needs_background": "light"
     },
     "output_type": "display_data"
    }
   ],
   "source": [
    "# собираем данные в одном датафрейме\n",
    "mergedCumulativeRevenue = cumulativeRevenueA.merge(cumulativeRevenueB, left_on='date', right_on='date', how='left', suffixes=['A', 'B'])\n",
    "display(mergedCumulativeRevenue.head())\n",
    "# cтроим отношение средних чеков\n",
    "plt.plot(mergedCumulativeRevenue['date'], (mergedCumulativeRevenue['revenueB']/mergedCumulativeRevenue['transactionsB'])/(mergedCumulativeRevenue['revenueA']/mergedCumulativeRevenue['transactionsA'])-1)\n",
    "\n",
    "plt.axhline(y=0, color='black', linestyle='--')\n",
    "plt.title('График относительного изменения кумулятивного среднего чека группы B к группе A')\n",
    "plt.show()"
   ]
  },
  {
   "cell_type": "markdown",
   "metadata": {},
   "source": [
    "В нескольких точках график различия между сегментами резко скачет. Где-то попадались крупные заказы и выбросы, найдём их позже."
   ]
  },
  {
   "cell_type": "markdown",
   "metadata": {},
   "source": [
    "#### Постройте график кумулятивной конверсии по группам. Сделайте выводы и предположения."
   ]
  },
  {
   "cell_type": "code",
   "execution_count": 66,
   "metadata": {
    "scrolled": true
   },
   "outputs": [
    {
     "data": {
      "image/png": "[encoded data removed]",
      "text/plain": [
       "<Figure size 864x360 with 1 Axes>"
      ]
     },
     "metadata": {
      "needs_background": "light"
     },
     "output_type": "display_data"
    }
   ],
   "source": [
    "# считаем кумулятивную конверсию\n",
    "cumulativeData['conversion'] = cumulativeData['transactions']/cumulativeData['visitors']\n",
    "\n",
    "# отделяем данные по группе A\n",
    "cumulativeDataA = cumulativeData[cumulativeData['group']=='A']\n",
    "\n",
    "# отделяем данные по группе B\n",
    "cumulativeDataB = cumulativeData[cumulativeData['group']=='B']\n",
    "\n",
    "# строим графики\n",
    "plt.figure(figsize=(12,5))\n",
    "plt.plot(cumulativeDataA['date'], cumulativeDataA['conversion'], label='A')\n",
    "plt.plot(cumulativeDataB['date'], cumulativeDataB['conversion'], label='B')\n",
    "plt.legend()\n",
    "\n",
    "# задаем масштаб осей\n",
    "#plt.axis(['2019-08-01', '2019-09-01', 0.02, 0.04])\n",
    "#from matplotlib.pyplot import figure\n",
    "#plt.figure(figsize=(8, 6))\n",
    "plt.title('График кумулятивной конверсии по группам')\n",
    "plt.show()"
   ]
  },
  {
   "cell_type": "markdown",
   "metadata": {},
   "source": [
    "Получился почти симметричный график.\n",
    "Группы колебались около одного значения, но затем конверсия группы В вырвалась вперёд и зафиксировалась, а конверсия группы А просела и также зафиксировалась."
   ]
  },
  {
   "cell_type": "markdown",
   "metadata": {},
   "source": [
    "#### Построим график относительного изменения кумулятивной конверсии группы B к группе A"
   ]
  },
  {
   "cell_type": "code",
   "execution_count": 67,
   "metadata": {
    "scrolled": true
   },
   "outputs": [
    {
     "data": {
      "image/png": "[encoded data removed]",
      "text/plain": [
       "<Figure size 864x360 with 1 Axes>"
      ]
     },
     "metadata": {
      "needs_background": "light"
     },
     "output_type": "display_data"
    }
   ],
   "source": [
    "mergedCumulativeConversions = cumulativeDataA[['date','conversion']].merge(cumulativeDataB[['date','conversion']], left_on='date', right_on='date', how='left', suffixes=['A', 'B'])\n",
    "\n",
    "plt.figure(figsize=(12,5))\n",
    "plt.plot(mergedCumulativeConversions['date'], mergedCumulativeConversions['conversionB']/mergedCumulativeConversions['conversionA']-1, label=\"Относительный прирост конверсии группы B относительно группы A\")\n",
    "#plt.legend()\n",
    "\n",
    "plt.axhline(y=0, color='black', linestyle='--')\n",
    "plt.axhline(y=-0.1, color='grey', linestyle='--')\n",
    "#plt.axis(['2019-08-01', '2019-09-01', -0.2, 0.4])\n",
    "plt.title('График относительного изменения кумулятивной конверсии группы B к группе A')\n",
    "plt.show()"
   ]
  },
  {
   "cell_type": "markdown",
   "metadata": {},
   "source": [
    "В начале теста группа B проигрывала группе A, затем вырвалась вперёд и стабилизировалась."
   ]
  },
  {
   "cell_type": "markdown",
   "metadata": {},
   "source": [
    "#### Построем точечный график количества заказов по пользователям"
   ]
  },
  {
   "cell_type": "code",
   "execution_count": 68,
   "metadata": {
    "scrolled": true
   },
   "outputs": [
    {
     "name": "stdout",
     "output_type": "stream",
     "text": [
      "       visitorId  orders\n",
      "1023  4256040402  11    \n",
      "591   2458001652  11    \n",
      "569   2378935119  9     \n",
      "487   2038680547  8     \n",
      "44    199603092   5     \n",
      "744   3062433592  5     \n",
      "55    237748145   5     \n",
      "917   3803269165  5     \n",
      "299   1230306981  5     \n",
      "897   3717692402  5     \n"
     ]
    }
   ],
   "source": [
    "ordersByUsers = (orders.groupby('visitorId', as_index=False).agg({'transactionId': pd.Series.nunique}))\n",
    "\n",
    "ordersByUsers.columns = ['visitorId', 'orders']\n",
    "\n",
    "print(ordersByUsers.sort_values(by='orders', ascending=False).head(10)) "
   ]
  },
  {
   "cell_type": "code",
   "execution_count": 69,
   "metadata": {
    "scrolled": true
   },
   "outputs": [
    {
     "data": {
      "image/png": "[encoded data removed]",
      "text/plain": [
       "<Figure size 432x288 with 1 Axes>"
      ]
     },
     "metadata": {
      "needs_background": "light"
     },
     "output_type": "display_data"
    }
   ],
   "source": [
    "x_values = pd.Series(range(0,len(ordersByUsers)))\n",
    "\n",
    "plt.scatter(x_values, ordersByUsers['orders']) \n",
    "plt.title('График количества заказов по пользователям')\n",
    "plt.show()\n",
    "#plt.xlabel('Количество пользователей')\n",
    "#plt.ylabel('Количество заказов у одного пользователя')"
   ]
  },
  {
   "cell_type": "markdown",
   "metadata": {},
   "source": [
    "В данных много пользователей с 1-3 заказами. Их точная доля не ясна — непонятно, считать их аномалиями или нет."
   ]
  },
  {
   "cell_type": "markdown",
   "metadata": {},
   "source": [
    "#### Посчитаем 95-й и 99-й перцентили количества заказов на пользователя. Выберем границу для определения аномальных пользователей."
   ]
  },
  {
   "cell_type": "code",
   "execution_count": 70,
   "metadata": {
    "scrolled": true
   },
   "outputs": [
    {
     "data": {
      "text/plain": [
       "array([1., 2., 4.])"
      ]
     },
     "execution_count": 70,
     "metadata": {},
     "output_type": "execute_result"
    }
   ],
   "source": [
    "np.percentile(ordersByUsers['orders'], [90, 95, 99])"
   ]
  },
  {
   "cell_type": "markdown",
   "metadata": {},
   "source": [
    "Не более 5% пользователей оформляли больше 2 заказов. И 10% пользователей заказывали более одного раза."
   ]
  },
  {
   "cell_type": "markdown",
   "metadata": {},
   "source": [
    "#### Построем точечный график стоимостей заказов"
   ]
  },
  {
   "cell_type": "code",
   "execution_count": 71,
   "metadata": {
    "scrolled": true
   },
   "outputs": [
    {
     "data": {
      "image/png": "[encoded data removed]",
      "text/plain": [
       "<Figure size 432x288 with 1 Axes>"
      ]
     },
     "metadata": {
      "needs_background": "light"
     },
     "output_type": "display_data"
    }
   ],
   "source": [
    "x_values = pd.Series(range(0,len(orders['revenue'])))\n",
    "plt.scatter(x_values, orders['revenue']) \n",
    "plt.show()"
   ]
  },
  {
   "cell_type": "markdown",
   "metadata": {},
   "source": [
    "По графику можно выбрать границу аномальных заказов около 100к рублей.\n",
    "Дальше рассмотрим более подробно границу"
   ]
  },
  {
   "cell_type": "markdown",
   "metadata": {},
   "source": [
    "#### Посчитаем 95-й и 99-й перцентили стоимости заказов. Выберем границу для определения аномальных заказов."
   ]
  },
  {
   "cell_type": "code",
   "execution_count": 72,
   "metadata": {
    "scrolled": true
   },
   "outputs": [
    {
     "data": {
      "text/plain": [
       "array([18168. , 28000. , 58233.2])"
      ]
     },
     "execution_count": 72,
     "metadata": {},
     "output_type": "execute_result"
    }
   ],
   "source": [
    "np.percentile(orders['revenue'], [90, 95, 99])"
   ]
  },
  {
   "cell_type": "markdown",
   "metadata": {},
   "source": [
    "В данных не более 5% заказов дороже 28к рублей и не более 1% дороже 58233 рублей."
   ]
  },
  {
   "cell_type": "markdown",
   "metadata": {},
   "source": [
    "#### Посчитаем статистическую значимость различий в конверсии между группами по «сырым» данным"
   ]
  },
  {
   "cell_type": "code",
   "execution_count": 73,
   "metadata": {
    "scrolled": false
   },
   "outputs": [
    {
     "data": {
      "text/html": [
       "<div>\n",
       "<style scoped>\n",
       "    .dataframe tbody tr th:only-of-type {\n",
       "        vertical-align: middle;\n",
       "    }\n",
       "\n",
       "    .dataframe tbody tr th {\n",
       "        vertical-align: top;\n",
       "    }\n",
       "\n",
       "    .dataframe thead th {\n",
       "        text-align: right;\n",
       "    }\n",
       "</style>\n",
       "<table border=\"1\" class=\"dataframe\">\n",
       "  <thead>\n",
       "    <tr style=\"text-align: right;\">\n",
       "      <th></th>\n",
       "      <th>transactionId</th>\n",
       "      <th>visitorId</th>\n",
       "      <th>date</th>\n",
       "      <th>revenue</th>\n",
       "      <th>group</th>\n",
       "    </tr>\n",
       "  </thead>\n",
       "  <tbody>\n",
       "    <tr>\n",
       "      <th>0</th>\n",
       "      <td>3667963787</td>\n",
       "      <td>3312258926</td>\n",
       "      <td>2019-08-15</td>\n",
       "      <td>1650</td>\n",
       "      <td>B</td>\n",
       "    </tr>\n",
       "    <tr>\n",
       "      <th>1</th>\n",
       "      <td>2804400009</td>\n",
       "      <td>3642806036</td>\n",
       "      <td>2019-08-15</td>\n",
       "      <td>730</td>\n",
       "      <td>B</td>\n",
       "    </tr>\n",
       "    <tr>\n",
       "      <th>2</th>\n",
       "      <td>2961555356</td>\n",
       "      <td>4069496402</td>\n",
       "      <td>2019-08-15</td>\n",
       "      <td>400</td>\n",
       "      <td>A</td>\n",
       "    </tr>\n",
       "    <tr>\n",
       "      <th>3</th>\n",
       "      <td>3797467345</td>\n",
       "      <td>1196621759</td>\n",
       "      <td>2019-08-15</td>\n",
       "      <td>9759</td>\n",
       "      <td>B</td>\n",
       "    </tr>\n",
       "    <tr>\n",
       "      <th>4</th>\n",
       "      <td>2282983706</td>\n",
       "      <td>2322279887</td>\n",
       "      <td>2019-08-15</td>\n",
       "      <td>2308</td>\n",
       "      <td>B</td>\n",
       "    </tr>\n",
       "  </tbody>\n",
       "</table>\n",
       "</div>"
      ],
      "text/plain": [
       "   transactionId   visitorId        date  revenue group\n",
       "0  3667963787     3312258926  2019-08-15  1650     B   \n",
       "1  2804400009     3642806036  2019-08-15  730      B   \n",
       "2  2961555356     4069496402  2019-08-15  400      A   \n",
       "3  3797467345     1196621759  2019-08-15  9759     B   \n",
       "4  2282983706     2322279887  2019-08-15  2308     B   "
      ]
     },
     "execution_count": 73,
     "metadata": {},
     "output_type": "execute_result"
    }
   ],
   "source": [
    "orders.head()"
   ]
  },
  {
   "cell_type": "code",
   "execution_count": 74,
   "metadata": {
    "scrolled": true
   },
   "outputs": [
    {
     "data": {
      "text/html": [
       "<div>\n",
       "<style scoped>\n",
       "    .dataframe tbody tr th:only-of-type {\n",
       "        vertical-align: middle;\n",
       "    }\n",
       "\n",
       "    .dataframe tbody tr th {\n",
       "        vertical-align: top;\n",
       "    }\n",
       "\n",
       "    .dataframe thead th {\n",
       "        text-align: right;\n",
       "    }\n",
       "</style>\n",
       "<table border=\"1\" class=\"dataframe\">\n",
       "  <thead>\n",
       "    <tr style=\"text-align: right;\">\n",
       "      <th></th>\n",
       "      <th>date</th>\n",
       "      <th>group</th>\n",
       "      <th>visitors</th>\n",
       "    </tr>\n",
       "  </thead>\n",
       "  <tbody>\n",
       "    <tr>\n",
       "      <th>0</th>\n",
       "      <td>2019-08-01</td>\n",
       "      <td>A</td>\n",
       "      <td>719</td>\n",
       "    </tr>\n",
       "    <tr>\n",
       "      <th>1</th>\n",
       "      <td>2019-08-02</td>\n",
       "      <td>A</td>\n",
       "      <td>619</td>\n",
       "    </tr>\n",
       "    <tr>\n",
       "      <th>2</th>\n",
       "      <td>2019-08-03</td>\n",
       "      <td>A</td>\n",
       "      <td>507</td>\n",
       "    </tr>\n",
       "    <tr>\n",
       "      <th>3</th>\n",
       "      <td>2019-08-04</td>\n",
       "      <td>A</td>\n",
       "      <td>717</td>\n",
       "    </tr>\n",
       "    <tr>\n",
       "      <th>4</th>\n",
       "      <td>2019-08-05</td>\n",
       "      <td>A</td>\n",
       "      <td>756</td>\n",
       "    </tr>\n",
       "  </tbody>\n",
       "</table>\n",
       "</div>"
      ],
      "text/plain": [
       "        date group  visitors\n",
       "0 2019-08-01  A     719     \n",
       "1 2019-08-02  A     619     \n",
       "2 2019-08-03  A     507     \n",
       "3 2019-08-04  A     717     \n",
       "4 2019-08-05  A     756     "
      ]
     },
     "execution_count": 74,
     "metadata": {},
     "output_type": "execute_result"
    }
   ],
   "source": [
    "visitors.head()"
   ]
  },
  {
   "cell_type": "code",
   "execution_count": 75,
   "metadata": {},
   "outputs": [],
   "source": [
    "visitorsADaily = visitors[visitors['group'] == 'A'][['date', 'visitors']]\n",
    "visitorsADaily.columns = ['date', 'visitorsPerDateA']\n",
    "\n",
    "visitorsACummulative = visitorsADaily.apply(\n",
    "    lambda x: visitorsADaily[visitorsADaily['date'] <= x['date']].agg(\n",
    "        {'date': 'max', 'visitorsPerDateA': 'sum'}),axis=1,)\n",
    "visitorsACummulative.columns = ['date', 'visitorsCummulativeA']\n",
    "\n",
    "visitorsBDaily = visitors[visitors['group'] == 'B'][['date', 'visitors']]\n",
    "visitorsBDaily.columns = ['date', 'visitorsPerDateB']\n",
    "\n",
    "visitorsBCummulative = visitorsBDaily.apply(\n",
    "    lambda x: visitorsBDaily[visitorsBDaily['date'] <= x['date']].agg(\n",
    "        {'date': 'max', 'visitorsPerDateB': 'sum'}\n",
    "    ),\n",
    "    axis=1,)\n",
    "visitorsBCummulative.columns = ['date', 'visitorsCummulativeB']\n"
   ]
  },
  {
   "cell_type": "code",
   "execution_count": 76,
   "metadata": {},
   "outputs": [],
   "source": [
    "ordersADaily = (\n",
    "    orders[orders['group'] == 'A'][['date', 'transactionId', 'visitorId', 'revenue']]\n",
    "    .groupby('date', as_index=False)\n",
    "    .agg({'transactionId': pd.Series.nunique, 'revenue': 'sum'})\n",
    ")\n",
    "ordersADaily.columns = ['date', 'ordersPerDateA', 'revenuePerDateA']\n",
    "\n",
    "ordersACummulative = ordersADaily.apply(\n",
    "    lambda x: ordersADaily[ordersADaily['date'] <= x['date']].agg(\n",
    "        {'date': 'max', 'ordersPerDateA': 'sum', 'revenuePerDateA': 'sum'}\n",
    "    ),\n",
    "    axis=1,\n",
    ").sort_values(by=['date'])\n",
    "ordersACummulative.columns = [\n",
    "    'date',\n",
    "    'ordersCummulativeA',\n",
    "    'revenueCummulativeA',\n",
    "]\n",
    "\n",
    "ordersBDaily = (\n",
    "    orders[orders['group'] == 'B'][['date', 'transactionId', 'visitorId', 'revenue']]\n",
    "    .groupby('date', as_index=False)\n",
    "    .agg({'transactionId': pd.Series.nunique, 'revenue': 'sum'})\n",
    ")\n",
    "ordersBDaily.columns = ['date', 'ordersPerDateB', 'revenuePerDateB']\n",
    "\n",
    "ordersBCummulative = ordersBDaily.apply(\n",
    "    lambda x: ordersBDaily[ordersBDaily['date'] <= x['date']].agg(\n",
    "        {'date': 'max', 'ordersPerDateB': 'sum', 'revenuePerDateB': 'sum'}\n",
    "    ),\n",
    "    axis=1,\n",
    ").sort_values(by=['date'])\n",
    "ordersBCummulative.columns = [\n",
    "    'date',\n",
    "    'ordersCummulativeB',\n",
    "    'revenueCummulativeB',\n",
    "]"
   ]
  },
  {
   "cell_type": "code",
   "execution_count": 77,
   "metadata": {},
   "outputs": [],
   "source": [
    "ordersACummulative['date'] = pd.to_datetime(ordersACummulative['date'])\n",
    "ordersBCummulative['date'] = pd.to_datetime(ordersBCummulative['date'])\n",
    "ordersADaily['date'] = pd.to_datetime(ordersADaily['date'])\n",
    "ordersBDaily['date'] = pd.to_datetime(ordersBDaily['date'])"
   ]
  },
  {
   "cell_type": "code",
   "execution_count": 78,
   "metadata": {
    "scrolled": true
   },
   "outputs": [
    {
     "data": {
      "text/html": [
       "<div>\n",
       "<style scoped>\n",
       "    .dataframe tbody tr th:only-of-type {\n",
       "        vertical-align: middle;\n",
       "    }\n",
       "\n",
       "    .dataframe tbody tr th {\n",
       "        vertical-align: top;\n",
       "    }\n",
       "\n",
       "    .dataframe thead th {\n",
       "        text-align: right;\n",
       "    }\n",
       "</style>\n",
       "<table border=\"1\" class=\"dataframe\">\n",
       "  <thead>\n",
       "    <tr style=\"text-align: right;\">\n",
       "      <th></th>\n",
       "      <th>date</th>\n",
       "      <th>ordersPerDateA</th>\n",
       "      <th>revenuePerDateA</th>\n",
       "      <th>ordersPerDateB</th>\n",
       "      <th>revenuePerDateB</th>\n",
       "      <th>ordersCummulativeA</th>\n",
       "      <th>revenueCummulativeA</th>\n",
       "      <th>ordersCummulativeB</th>\n",
       "      <th>revenueCummulativeB</th>\n",
       "      <th>visitorsPerDateA</th>\n",
       "      <th>visitorsPerDateB</th>\n",
       "      <th>visitorsCummulativeA</th>\n",
       "      <th>visitorsCummulativeB</th>\n",
       "    </tr>\n",
       "  </thead>\n",
       "  <tbody>\n",
       "    <tr>\n",
       "      <th>0</th>\n",
       "      <td>2019-08-01</td>\n",
       "      <td>24</td>\n",
       "      <td>148579</td>\n",
       "      <td>21</td>\n",
       "      <td>101217</td>\n",
       "      <td>24</td>\n",
       "      <td>148579</td>\n",
       "      <td>21</td>\n",
       "      <td>101217</td>\n",
       "      <td>719</td>\n",
       "      <td>713</td>\n",
       "      <td>719</td>\n",
       "      <td>713</td>\n",
       "    </tr>\n",
       "    <tr>\n",
       "      <th>1</th>\n",
       "      <td>2019-08-02</td>\n",
       "      <td>20</td>\n",
       "      <td>93822</td>\n",
       "      <td>24</td>\n",
       "      <td>165531</td>\n",
       "      <td>44</td>\n",
       "      <td>242401</td>\n",
       "      <td>45</td>\n",
       "      <td>266748</td>\n",
       "      <td>619</td>\n",
       "      <td>581</td>\n",
       "      <td>1338</td>\n",
       "      <td>1294</td>\n",
       "    </tr>\n",
       "    <tr>\n",
       "      <th>2</th>\n",
       "      <td>2019-08-03</td>\n",
       "      <td>24</td>\n",
       "      <td>112473</td>\n",
       "      <td>16</td>\n",
       "      <td>114248</td>\n",
       "      <td>68</td>\n",
       "      <td>354874</td>\n",
       "      <td>61</td>\n",
       "      <td>380996</td>\n",
       "      <td>507</td>\n",
       "      <td>509</td>\n",
       "      <td>1845</td>\n",
       "      <td>1803</td>\n",
       "    </tr>\n",
       "    <tr>\n",
       "      <th>3</th>\n",
       "      <td>2019-08-04</td>\n",
       "      <td>16</td>\n",
       "      <td>70825</td>\n",
       "      <td>17</td>\n",
       "      <td>108571</td>\n",
       "      <td>84</td>\n",
       "      <td>425699</td>\n",
       "      <td>78</td>\n",
       "      <td>489567</td>\n",
       "      <td>717</td>\n",
       "      <td>770</td>\n",
       "      <td>2562</td>\n",
       "      <td>2573</td>\n",
       "    </tr>\n",
       "    <tr>\n",
       "      <th>4</th>\n",
       "      <td>2019-08-05</td>\n",
       "      <td>25</td>\n",
       "      <td>124218</td>\n",
       "      <td>23</td>\n",
       "      <td>92428</td>\n",
       "      <td>109</td>\n",
       "      <td>549917</td>\n",
       "      <td>101</td>\n",
       "      <td>581995</td>\n",
       "      <td>756</td>\n",
       "      <td>707</td>\n",
       "      <td>3318</td>\n",
       "      <td>3280</td>\n",
       "    </tr>\n",
       "  </tbody>\n",
       "</table>\n",
       "</div>"
      ],
      "text/plain": [
       "        date  ordersPerDateA  revenuePerDateA  ordersPerDateB  \\\n",
       "0 2019-08-01  24              148579           21               \n",
       "1 2019-08-02  20              93822            24               \n",
       "2 2019-08-03  24              112473           16               \n",
       "3 2019-08-04  16              70825            17               \n",
       "4 2019-08-05  25              124218           23               \n",
       "\n",
       "   revenuePerDateB  ordersCummulativeA  revenueCummulativeA  \\\n",
       "0  101217           24                  148579                \n",
       "1  165531           44                  242401                \n",
       "2  114248           68                  354874                \n",
       "3  108571           84                  425699                \n",
       "4  92428            109                 549917                \n",
       "\n",
       "   ordersCummulativeB  revenueCummulativeB  visitorsPerDateA  \\\n",
       "0  21                  101217               719                \n",
       "1  45                  266748               619                \n",
       "2  61                  380996               507                \n",
       "3  78                  489567               717                \n",
       "4  101                 581995               756                \n",
       "\n",
       "   visitorsPerDateB  visitorsCummulativeA  visitorsCummulativeB  \n",
       "0  713               719                   713                   \n",
       "1  581               1338                  1294                  \n",
       "2  509               1845                  1803                  \n",
       "3  770               2562                  2573                  \n",
       "4  707               3318                  3280                  "
      ]
     },
     "execution_count": 78,
     "metadata": {},
     "output_type": "execute_result"
    }
   ],
   "source": [
    "data = (\n",
    "    ordersADaily.merge(\n",
    "        ordersBDaily, left_on='date', right_on='date', how='left'\n",
    "    )\n",
    "    .merge(ordersACummulative, left_on='date', right_on='date', how='left')\n",
    "    .merge(ordersBCummulative, left_on='date', right_on='date', how='left')\n",
    "    .merge(visitorsADaily, left_on='date', right_on='date', how='left')\n",
    "    .merge(visitorsBDaily, left_on='date', right_on='date', how='left')\n",
    "    .merge(visitorsACummulative, left_on='date', right_on='date', how='left')\n",
    "    .merge(visitorsBCummulative, left_on='date', right_on='date', how='left'))\n",
    "\n",
    "data.head(5)"
   ]
  },
  {
   "cell_type": "code",
   "execution_count": 79,
   "metadata": {},
   "outputs": [],
   "source": [
    "# Создадим переменные ordersByUsersA и ordersByUsersB со столбцами ['userId', 'orders']. \n",
    "#В них для пользователей, которые заказывали хотя бы 1 раз, укажем число совершённых заказов.\n",
    "\n",
    "ordersByUsersA = (orders[orders['group'] == 'A'].groupby('visitorId', as_index=False)\n",
    "                  .agg({'transactionId': pd.Series.nunique}))\n",
    "ordersByUsersA.columns = ['visitorId', 'orders']\n",
    "\n",
    "ordersByUsersB = (orders[orders['group'] == 'B'].groupby('visitorId', as_index=False)\n",
    "    .agg({'transactionId': pd.Series.nunique}))\n",
    "ordersByUsersB.columns = ['visitorId', 'orders'] "
   ]
  },
  {
   "cell_type": "code",
   "execution_count": 80,
   "metadata": {},
   "outputs": [],
   "source": [
    "# Объявим переменные sampleA и sampleB, в которых пользователям из разных групп будет соответствовать количество заказов. \n",
    "# Тем, кто ничего не заказал, будут соответствовать нули.\n",
    "\n",
    "sampleA = pd.concat([ordersByUsersA['orders'],pd.Series(0, index=np.arange(\n",
    "    data['visitorsPerDateA'].sum() - len(ordersByUsersA['orders'])), name='orders')],axis=0)\n",
    "\n",
    "sampleB = pd.concat([ordersByUsersB['orders'],pd.Series(0, index=np.arange(\n",
    "    data['visitorsPerDateB'].sum() - len(ordersByUsersB['orders'])), name='orders')],axis=0)\n"
   ]
  },
  {
   "cell_type": "code",
   "execution_count": 81,
   "metadata": {},
   "outputs": [
    {
     "name": "stdout",
     "output_type": "stream",
     "text": [
      "0.017\n",
      "0.138\n"
     ]
    }
   ],
   "source": [
    "\n",
    "print(\"{0:.3f}\".format(stats.mannwhitneyu(sampleA, sampleB)[1]))\n",
    "\n",
    "print(\"{0:.3f}\".format(sampleB.mean() / sampleA.mean() - 1))\n"
   ]
  },
  {
   "cell_type": "markdown",
   "metadata": {},
   "source": [
    "По «сырым» данным можно сказать, что различия в конверсии групп A и B есть.\n",
    "\n",
    "Первое число — p-value = 0.008 меньше 0.05. Значит, нулевую гипотезу о том, что статистически значимых различий в конверсии между группами нет, можно отвергнуть. \n",
    "Относительный разница в конверсиях 13.8% в пользу группы В."
   ]
  },
  {
   "cell_type": "markdown",
   "metadata": {},
   "source": [
    "#### Посчитаем статистическую значимость различий в среднем чеке заказа между группами по «сырым» данным"
   ]
  },
  {
   "cell_type": "code",
   "execution_count": 82,
   "metadata": {
    "scrolled": true
   },
   "outputs": [
    {
     "name": "stdout",
     "output_type": "stream",
     "text": [
      "0.729\n",
      "0.259\n"
     ]
    }
   ],
   "source": [
    "print('{0:.3f}'.format(stats.mannwhitneyu(orders[orders['group']=='A'][\n",
    "    'revenue'], orders[orders['group']=='B']['revenue'])[1]))\n",
    "print('{0:.3f}'.format(orders[orders['group']=='B'][\n",
    "    'revenue'].mean()/orders[orders['group']=='A']['revenue'].mean()-1)) "
   ]
  },
  {
   "cell_type": "markdown",
   "metadata": {},
   "source": [
    "P-value значительно больше 0.05. Значит, причин отвергать нулевую гипотезу и считать, что в среднем чеке есть различия, нет. Однако, средний чек группы B значительно больше среднего чека группы A, аж на 25.9%"
   ]
  },
  {
   "cell_type": "markdown",
   "metadata": {},
   "source": [
    "#### Посчитаем статистическую значимость различий в конверсии между группами по «очищенным» данным."
   ]
  },
  {
   "cell_type": "code",
   "execution_count": 83,
   "metadata": {
    "scrolled": true
   },
   "outputs": [
    {
     "name": "stdout",
     "output_type": "stream",
     "text": [
      "1099    148427295\n",
      "18      199603092\n",
      "928     204675465\n",
      "23      237748145\n",
      "37      249864742\n",
      "Name: visitorId, dtype: int64\n",
      "(74,)\n"
     ]
    }
   ],
   "source": [
    "# примем за аномальных пользователей тех, кто совершил от 2 заказов или совершил заказ дороже 28к \n",
    "usersWithManyOrders = pd.concat(\n",
    "    [ordersByUsersA[ordersByUsersA['orders'] > 2]['visitorId'],\n",
    "        ordersByUsersB[ordersByUsersB['orders'] > 2]['visitorId'],],axis=0,)\n",
    "\n",
    "usersWithExpensiveOrders = orders[orders['revenue'] > 28000]['visitorId']\n",
    "abnormalUsers = (pd.concat([usersWithManyOrders, usersWithExpensiveOrders], axis=0)\n",
    "    .drop_duplicates().sort_values())\n",
    "\n",
    "print(abnormalUsers.head(5))\n",
    "print(abnormalUsers.shape) "
   ]
  },
  {
   "cell_type": "markdown",
   "metadata": {},
   "source": [
    "В нашей выборке 74 аномальных пользователя"
   ]
  },
  {
   "cell_type": "code",
   "execution_count": 84,
   "metadata": {},
   "outputs": [],
   "source": [
    "sampleAFiltered = pd.concat(\n",
    "    [ordersByUsersA[np.logical_not(ordersByUsersA['visitorId'].isin(abnormalUsers))]['orders'],\n",
    "        pd.Series(0,index=np.arange(data['visitorsPerDateA'].sum() - len(ordersByUsersA['orders'])\n",
    "            ),name='orders',),],axis=0,)\n",
    "\n",
    "sampleBFiltered = pd.concat(\n",
    "    [ordersByUsersB[np.logical_not(ordersByUsersB['visitorId'].isin(abnormalUsers))]['orders'],\n",
    "        pd.Series(0,index=np.arange(data['visitorsPerDateB'].sum() - len(ordersByUsersB['orders'])\n",
    "            ),name='orders',),],axis=0,)\n"
   ]
  },
  {
   "cell_type": "code",
   "execution_count": 85,
   "metadata": {
    "scrolled": true
   },
   "outputs": [
    {
     "name": "stdout",
     "output_type": "stream",
     "text": [
      "0.013\n",
      "0.173\n"
     ]
    }
   ],
   "source": [
    "print('{0:.3f}'.format(stats.mannwhitneyu(sampleAFiltered, sampleBFiltered)[1]))\n",
    "print('{0:.3f}'.format(sampleBFiltered.mean()/sampleAFiltered.mean()-1)) "
   ]
  },
  {
   "cell_type": "markdown",
   "metadata": {},
   "source": [
    "Результаты по сырым данным были 0.008 и 0.138\n",
    "Так что можем сказать, что результат практически не изменился"
   ]
  },
  {
   "cell_type": "markdown",
   "metadata": {},
   "source": [
    "#### Посчитаем статистическую значимость различий в среднем чеке заказа между группами по «очищенным» данным."
   ]
  },
  {
   "cell_type": "code",
   "execution_count": 86,
   "metadata": {
    "scrolled": true
   },
   "outputs": [
    {
     "name": "stdout",
     "output_type": "stream",
     "text": [
      "0.738\n",
      "-0.020\n"
     ]
    }
   ],
   "source": [
    "print('{0:.3f}'.format(stats.mannwhitneyu(orders[np.logical_and(orders['group'] == 'A',\n",
    "                    np.logical_not(orders['visitorId'].isin(abnormalUsers)),)]['revenue'],\n",
    "            orders[np.logical_and(orders['group'] == 'B',\n",
    "                    np.logical_not(orders['visitorId'].isin(abnormalUsers)),)]['revenue'],)[1]))\n",
    "\n",
    "print(\"{0:.3f}\".format(orders[np.logical_and(orders['group'] == 'B',\n",
    "                    np.logical_not(orders['visitorId'].isin(abnormalUsers)),)]['revenue'].mean()\n",
    "        / orders[np.logical_and(orders['group'] == 'A',\n",
    "                np.logical_not(orders['visitorId'].isin(abnormalUsers)),)]['revenue'].mean()- 1))"
   ]
  },
  {
   "cell_type": "markdown",
   "metadata": {},
   "source": [
    "По сырым данным результаты были 0.365 и 0.259\n",
    "\n",
    "P-value почти не изменился, а разница между сегментами сильно изменилась с 25.9%  в пользу группы В до 2% в пользу группы А."
   ]
  },
  {
   "cell_type": "markdown",
   "metadata": {},
   "source": [
    "## Выводы "
   ]
  },
  {
   "cell_type": "markdown",
   "metadata": {},
   "source": [
    "Наблюдается статистически значимое различие по конверсии между группами и по «сырым», и по данным после фильтрации аномалий.\n",
    "\n",
    "Нет статистически значимого различия по среднему чеку между группами ни по «сырым», ни по данным после фильтрации аномалий.\n",
    "\n",
    "График различия конверсии между группами сообщает, что результаты группы B стабильно лучше группы A и нет значительной тенденции к изменению ситуации.\n",
    "\n",
    "График различия среднего чека говорит о том, что результаты группы B хоть и постепенно снижаются, но пока все еще держатся на высоком уровне."
   ]
  },
  {
   "cell_type": "markdown",
   "metadata": {},
   "source": [
    "## Рекомендации"
   ]
  },
  {
   "cell_type": "markdown",
   "metadata": {},
   "source": [
    "Исходя из обнаруженных фактов, тест следует остановить и признать его успешным для группы В. \n",
    "\n",
    "Продолжать смысла нет, потому как вероятность, что при имеющихся данных ситуация поменяется и группа В перестанет лидировать над группой А очень мала."
   ]
  },
  {
   "cell_type": "code",
   "execution_count": null,
   "metadata": {},
   "outputs": [],
   "source": []
  }
 ],
 "metadata": {
  "ExecuteTimeLog": [
   {
    "duration": 1685,
    "start_time": "2021-12-10T17:35:02.419Z"
   },
   {
    "duration": 17,
    "start_time": "2021-12-10T17:35:23.612Z"
   },
   {
    "duration": 11,
    "start_time": "2021-12-10T17:35:29.541Z"
   },
   {
    "duration": 12,
    "start_time": "2021-12-10T17:35:52.769Z"
   },
   {
    "duration": 14,
    "start_time": "2021-12-10T17:36:10.369Z"
   },
   {
    "duration": 1174,
    "start_time": "2021-12-12T13:26:14.896Z"
   },
   {
    "duration": 11,
    "start_time": "2021-12-12T13:26:16.072Z"
   },
   {
    "duration": 8,
    "start_time": "2021-12-12T13:26:16.085Z"
   },
   {
    "duration": 9,
    "start_time": "2021-12-12T13:26:16.095Z"
   },
   {
    "duration": 6289,
    "start_time": "2021-12-12T13:27:15.979Z"
   },
   {
    "duration": 3,
    "start_time": "2021-12-12T13:28:47.272Z"
   },
   {
    "duration": 8,
    "start_time": "2021-12-12T13:28:59.988Z"
   },
   {
    "duration": 9,
    "start_time": "2021-12-12T13:29:17.030Z"
   },
   {
    "duration": 8,
    "start_time": "2021-12-12T13:29:17.371Z"
   },
   {
    "duration": 15,
    "start_time": "2021-12-12T13:29:20.265Z"
   },
   {
    "duration": 11,
    "start_time": "2021-12-12T13:32:06.590Z"
   },
   {
    "duration": 8,
    "start_time": "2021-12-12T13:40:24.427Z"
   },
   {
    "duration": 7,
    "start_time": "2021-12-12T13:40:34.329Z"
   },
   {
    "duration": 1017,
    "start_time": "2021-12-12T13:40:47.075Z"
   },
   {
    "duration": 65,
    "start_time": "2021-12-12T13:41:09.720Z"
   },
   {
    "duration": 8,
    "start_time": "2021-12-12T13:41:09.867Z"
   },
   {
    "duration": 9,
    "start_time": "2021-12-12T13:41:10.023Z"
   },
   {
    "duration": 7,
    "start_time": "2021-12-12T13:41:10.192Z"
   },
   {
    "duration": 10,
    "start_time": "2021-12-12T13:41:10.673Z"
   },
   {
    "duration": 11,
    "start_time": "2021-12-12T13:41:11.278Z"
   },
   {
    "duration": 7,
    "start_time": "2021-12-12T13:41:12.692Z"
   },
   {
    "duration": 7,
    "start_time": "2021-12-12T13:41:13.187Z"
   },
   {
    "duration": 12,
    "start_time": "2021-12-12T13:41:14.531Z"
   },
   {
    "duration": 1596,
    "start_time": "2021-12-12T13:41:36.593Z"
   },
   {
    "duration": 1199,
    "start_time": "2021-12-12T13:42:08.019Z"
   },
   {
    "duration": 1024,
    "start_time": "2021-12-12T13:42:11.841Z"
   },
   {
    "duration": 2,
    "start_time": "2021-12-12T13:42:38.023Z"
   },
   {
    "duration": 1055,
    "start_time": "2021-12-12T13:42:55.625Z"
   },
   {
    "duration": 3,
    "start_time": "2021-12-12T13:43:11.137Z"
   },
   {
    "duration": 7,
    "start_time": "2021-12-12T13:43:41.550Z"
   },
   {
    "duration": 5853,
    "start_time": "2021-12-12T13:44:16.195Z"
   },
   {
    "duration": 10,
    "start_time": "2021-12-12T13:44:52.942Z"
   },
   {
    "duration": 9,
    "start_time": "2021-12-12T13:46:18.415Z"
   },
   {
    "duration": 173,
    "start_time": "2021-12-12T13:48:17.604Z"
   },
   {
    "duration": 216,
    "start_time": "2021-12-12T13:48:33.132Z"
   },
   {
    "duration": 1216,
    "start_time": "2021-12-12T13:52:29.398Z"
   },
   {
    "duration": 1709,
    "start_time": "2021-12-12T13:53:01.519Z"
   },
   {
    "duration": 1454,
    "start_time": "2021-12-12T13:53:28.559Z"
   },
   {
    "duration": 1022,
    "start_time": "2021-12-12T13:53:45.620Z"
   },
   {
    "duration": 1584,
    "start_time": "2021-12-12T13:53:59.686Z"
   },
   {
    "duration": 1074,
    "start_time": "2021-12-12T13:54:08.447Z"
   },
   {
    "duration": 6,
    "start_time": "2021-12-12T13:54:21.796Z"
   },
   {
    "duration": 6,
    "start_time": "2021-12-12T13:54:54.637Z"
   },
   {
    "duration": 153,
    "start_time": "2021-12-12T13:55:35.245Z"
   },
   {
    "duration": 148,
    "start_time": "2021-12-12T13:55:38.500Z"
   },
   {
    "duration": 11,
    "start_time": "2021-12-12T13:56:07.454Z"
   },
   {
    "duration": 14,
    "start_time": "2021-12-12T13:56:56.161Z"
   },
   {
    "duration": 12,
    "start_time": "2021-12-12T13:57:46.832Z"
   },
   {
    "duration": 232,
    "start_time": "2021-12-12T13:58:15.751Z"
   },
   {
    "duration": 200,
    "start_time": "2021-12-12T13:58:42.733Z"
   },
   {
    "duration": 186,
    "start_time": "2021-12-12T13:59:35.419Z"
   },
   {
    "duration": 183,
    "start_time": "2021-12-12T13:59:42.683Z"
   },
   {
    "duration": 187,
    "start_time": "2021-12-12T14:00:07.441Z"
   },
   {
    "duration": 207,
    "start_time": "2021-12-12T14:01:03.686Z"
   },
   {
    "duration": 275,
    "start_time": "2021-12-12T14:02:42.957Z"
   },
   {
    "duration": 198,
    "start_time": "2021-12-12T14:02:58.346Z"
   },
   {
    "duration": 203,
    "start_time": "2021-12-12T14:03:06.773Z"
   },
   {
    "duration": 239,
    "start_time": "2021-12-12T14:03:12.844Z"
   },
   {
    "duration": 195,
    "start_time": "2021-12-12T14:03:20.197Z"
   },
   {
    "duration": 193,
    "start_time": "2021-12-12T14:04:01.621Z"
   },
   {
    "duration": 187,
    "start_time": "2021-12-12T14:04:35.437Z"
   },
   {
    "duration": 327,
    "start_time": "2021-12-12T14:06:13.777Z"
   },
   {
    "duration": 181,
    "start_time": "2021-12-12T14:06:27.770Z"
   },
   {
    "duration": 487,
    "start_time": "2021-12-12T14:06:40.443Z"
   },
   {
    "duration": 192,
    "start_time": "2021-12-12T14:06:59.738Z"
   },
   {
    "duration": 194,
    "start_time": "2021-12-12T14:09:43.930Z"
   },
   {
    "duration": 311,
    "start_time": "2021-12-12T14:11:14.011Z"
   },
   {
    "duration": 399,
    "start_time": "2021-12-12T14:11:28.830Z"
   },
   {
    "duration": 281,
    "start_time": "2021-12-12T14:12:04.614Z"
   },
   {
    "duration": 320,
    "start_time": "2021-12-12T14:12:30.427Z"
   },
   {
    "duration": 175,
    "start_time": "2021-12-12T14:19:12.300Z"
   },
   {
    "duration": 165,
    "start_time": "2021-12-12T14:19:42.540Z"
   },
   {
    "duration": 14,
    "start_time": "2021-12-12T14:20:04.150Z"
   },
   {
    "duration": 144,
    "start_time": "2021-12-12T14:20:53.641Z"
   },
   {
    "duration": 193,
    "start_time": "2021-12-12T14:20:59.474Z"
   },
   {
    "duration": 8,
    "start_time": "2021-12-12T14:22:23.019Z"
   },
   {
    "duration": 9,
    "start_time": "2021-12-12T14:22:28.881Z"
   },
   {
    "duration": 184,
    "start_time": "2021-12-12T14:23:24.582Z"
   },
   {
    "duration": 200,
    "start_time": "2021-12-12T14:23:40.263Z"
   },
   {
    "duration": 173,
    "start_time": "2021-12-12T14:23:46.085Z"
   },
   {
    "duration": 187,
    "start_time": "2021-12-12T14:23:50.158Z"
   },
   {
    "duration": 193,
    "start_time": "2021-12-12T14:23:59.629Z"
   },
   {
    "duration": 285,
    "start_time": "2021-12-12T14:24:23.315Z"
   },
   {
    "duration": 266,
    "start_time": "2021-12-12T14:25:45.986Z"
   },
   {
    "duration": 536,
    "start_time": "2021-12-12T14:26:12.935Z"
   },
   {
    "duration": 355,
    "start_time": "2021-12-12T14:26:29.630Z"
   },
   {
    "duration": 337,
    "start_time": "2021-12-12T14:26:48.032Z"
   },
   {
    "duration": 297,
    "start_time": "2021-12-12T14:27:00.956Z"
   },
   {
    "duration": 269,
    "start_time": "2021-12-12T14:27:08.888Z"
   },
   {
    "duration": 306,
    "start_time": "2021-12-12T14:27:24.259Z"
   },
   {
    "duration": 6585,
    "start_time": "2021-12-12T14:30:10.584Z"
   },
   {
    "duration": 10,
    "start_time": "2021-12-12T14:30:30.902Z"
   },
   {
    "duration": 275,
    "start_time": "2021-12-12T14:30:42.198Z"
   },
   {
    "duration": 252,
    "start_time": "2021-12-12T14:31:40.113Z"
   },
   {
    "duration": 265,
    "start_time": "2021-12-12T14:33:25.618Z"
   },
   {
    "duration": 126,
    "start_time": "2021-12-12T14:33:39.741Z"
   },
   {
    "duration": 260,
    "start_time": "2021-12-12T14:34:04.334Z"
   },
   {
    "duration": 283,
    "start_time": "2021-12-12T14:34:37.952Z"
   },
   {
    "duration": 547,
    "start_time": "2021-12-12T14:35:49.182Z"
   },
   {
    "duration": 445,
    "start_time": "2021-12-12T14:35:58.276Z"
   },
   {
    "duration": 257,
    "start_time": "2021-12-12T14:36:20.701Z"
   },
   {
    "duration": 5,
    "start_time": "2021-12-12T14:37:25.331Z"
   },
   {
    "duration": 248,
    "start_time": "2021-12-12T14:39:38.918Z"
   },
   {
    "duration": 5,
    "start_time": "2021-12-12T14:40:56.223Z"
   },
   {
    "duration": 236,
    "start_time": "2021-12-12T14:41:49.152Z"
   },
   {
    "duration": 5,
    "start_time": "2021-12-12T14:41:58.317Z"
   },
   {
    "duration": 64,
    "start_time": "2021-12-12T14:43:53.987Z"
   },
   {
    "duration": 12,
    "start_time": "2021-12-12T14:43:55.567Z"
   },
   {
    "duration": 13,
    "start_time": "2021-12-12T14:43:55.581Z"
   },
   {
    "duration": 7,
    "start_time": "2021-12-12T14:43:55.596Z"
   },
   {
    "duration": 10,
    "start_time": "2021-12-12T14:43:55.605Z"
   },
   {
    "duration": 12,
    "start_time": "2021-12-12T14:43:56.791Z"
   },
   {
    "duration": 11,
    "start_time": "2021-12-12T14:43:56.805Z"
   },
   {
    "duration": 10,
    "start_time": "2021-12-12T14:43:56.818Z"
   },
   {
    "duration": 3,
    "start_time": "2021-12-12T14:43:56.830Z"
   },
   {
    "duration": 11,
    "start_time": "2021-12-12T14:43:57.929Z"
   },
   {
    "duration": 13,
    "start_time": "2021-12-12T14:43:57.942Z"
   },
   {
    "duration": 180,
    "start_time": "2021-12-12T14:43:57.957Z"
   },
   {
    "duration": 6,
    "start_time": "2021-12-12T14:43:58.139Z"
   },
   {
    "duration": 6,
    "start_time": "2021-12-12T14:43:59.251Z"
   },
   {
    "duration": 234,
    "start_time": "2021-12-12T14:43:59.260Z"
   },
   {
    "duration": 233,
    "start_time": "2021-12-12T14:43:59.497Z"
   },
   {
    "duration": 219,
    "start_time": "2021-12-12T14:43:59.931Z"
   },
   {
    "duration": 9,
    "start_time": "2021-12-12T14:45:01.646Z"
   },
   {
    "duration": 11,
    "start_time": "2021-12-12T14:46:05.837Z"
   },
   {
    "duration": 15,
    "start_time": "2021-12-12T14:46:06.420Z"
   },
   {
    "duration": 193,
    "start_time": "2021-12-12T14:46:09.183Z"
   },
   {
    "duration": 181,
    "start_time": "2021-12-12T14:46:10.817Z"
   },
   {
    "duration": 287,
    "start_time": "2021-12-12T14:46:12.812Z"
   },
   {
    "duration": 311,
    "start_time": "2021-12-12T14:46:17.532Z"
   },
   {
    "duration": 12,
    "start_time": "2021-12-12T14:46:21.633Z"
   },
   {
    "duration": 187,
    "start_time": "2021-12-12T14:46:22.503Z"
   },
   {
    "duration": 276,
    "start_time": "2021-12-12T14:46:27.380Z"
   },
   {
    "duration": 9,
    "start_time": "2021-12-12T14:46:28.184Z"
   },
   {
    "duration": 106,
    "start_time": "2021-12-12T14:46:28.811Z"
   },
   {
    "duration": 278,
    "start_time": "2021-12-12T14:46:28.969Z"
   },
   {
    "duration": 5,
    "start_time": "2021-12-12T14:46:32.028Z"
   },
   {
    "duration": 392,
    "start_time": "2021-12-12T14:46:37.036Z"
   },
   {
    "duration": 6,
    "start_time": "2021-12-12T14:46:42.941Z"
   },
   {
    "duration": 1267,
    "start_time": "2021-12-13T11:50:30.000Z"
   },
   {
    "duration": 10,
    "start_time": "2021-12-13T11:50:31.269Z"
   },
   {
    "duration": 12,
    "start_time": "2021-12-13T11:50:31.281Z"
   },
   {
    "duration": 13,
    "start_time": "2021-12-13T11:50:31.295Z"
   },
   {
    "duration": 22,
    "start_time": "2021-12-13T11:50:31.310Z"
   },
   {
    "duration": 14,
    "start_time": "2021-12-13T11:50:31.334Z"
   },
   {
    "duration": 19,
    "start_time": "2021-12-13T11:50:31.350Z"
   },
   {
    "duration": 10,
    "start_time": "2021-12-13T11:50:31.371Z"
   },
   {
    "duration": 8,
    "start_time": "2021-12-13T11:50:31.382Z"
   },
   {
    "duration": 12,
    "start_time": "2021-12-13T11:50:31.392Z"
   },
   {
    "duration": 9,
    "start_time": "2021-12-13T11:50:31.406Z"
   },
   {
    "duration": 198,
    "start_time": "2021-12-13T11:50:31.417Z"
   },
   {
    "duration": 6,
    "start_time": "2021-12-13T11:50:31.617Z"
   },
   {
    "duration": 21,
    "start_time": "2021-12-13T11:50:31.625Z"
   },
   {
    "duration": 175,
    "start_time": "2021-12-13T11:50:31.648Z"
   },
   {
    "duration": 25,
    "start_time": "2021-12-13T11:50:31.825Z"
   },
   {
    "duration": 15,
    "start_time": "2021-12-13T11:50:31.852Z"
   },
   {
    "duration": 226,
    "start_time": "2021-12-13T11:50:31.869Z"
   },
   {
    "duration": 198,
    "start_time": "2021-12-13T11:50:32.097Z"
   },
   {
    "duration": 363,
    "start_time": "2021-12-13T11:50:32.297Z"
   },
   {
    "duration": 13,
    "start_time": "2021-12-13T11:50:32.663Z"
   },
   {
    "duration": 240,
    "start_time": "2021-12-13T11:50:32.678Z"
   },
   {
    "duration": 353,
    "start_time": "2021-12-13T11:50:32.922Z"
   },
   {
    "duration": 10,
    "start_time": "2021-12-13T11:50:33.278Z"
   },
   {
    "duration": 213,
    "start_time": "2021-12-13T11:50:33.290Z"
   },
   {
    "duration": 369,
    "start_time": "2021-12-13T11:50:33.506Z"
   },
   {
    "duration": 6,
    "start_time": "2021-12-13T11:50:33.877Z"
   },
   {
    "duration": 370,
    "start_time": "2021-12-13T11:50:33.884Z"
   },
   {
    "duration": 5,
    "start_time": "2021-12-13T11:50:34.255Z"
   },
   {
    "duration": 8,
    "start_time": "2021-12-13T11:52:10.104Z"
   },
   {
    "duration": 10,
    "start_time": "2021-12-13T11:52:19.613Z"
   },
   {
    "duration": 113,
    "start_time": "2021-12-13T11:54:11.102Z"
   },
   {
    "duration": 141,
    "start_time": "2021-12-13T11:55:31.795Z"
   },
   {
    "duration": 410,
    "start_time": "2021-12-13T11:55:43.055Z"
   },
   {
    "duration": 6,
    "start_time": "2021-12-13T11:56:08.953Z"
   },
   {
    "duration": 6,
    "start_time": "2021-12-13T11:57:10.412Z"
   },
   {
    "duration": 7,
    "start_time": "2021-12-13T11:57:26.308Z"
   },
   {
    "duration": 7,
    "start_time": "2021-12-13T11:57:33.787Z"
   },
   {
    "duration": 369,
    "start_time": "2021-12-13T11:57:34.446Z"
   },
   {
    "duration": 5,
    "start_time": "2021-12-13T11:57:48.866Z"
   },
   {
    "duration": 5,
    "start_time": "2021-12-13T11:57:55.710Z"
   },
   {
    "duration": 6,
    "start_time": "2021-12-13T11:58:04.344Z"
   },
   {
    "duration": 5,
    "start_time": "2021-12-13T11:58:08.190Z"
   },
   {
    "duration": 287,
    "start_time": "2021-12-13T11:58:09.007Z"
   },
   {
    "duration": 6,
    "start_time": "2021-12-13T11:58:23.565Z"
   },
   {
    "duration": 7,
    "start_time": "2021-12-13T11:58:44.729Z"
   },
   {
    "duration": 33,
    "start_time": "2021-12-13T11:58:45.249Z"
   },
   {
    "duration": 133,
    "start_time": "2021-12-13T12:01:00.782Z"
   },
   {
    "duration": 10,
    "start_time": "2021-12-13T12:02:20.348Z"
   },
   {
    "duration": 9,
    "start_time": "2021-12-13T12:03:51.697Z"
   },
   {
    "duration": 8,
    "start_time": "2021-12-13T12:04:00.712Z"
   },
   {
    "duration": 7,
    "start_time": "2021-12-13T12:04:08.729Z"
   },
   {
    "duration": 10,
    "start_time": "2021-12-13T12:07:38.297Z"
   },
   {
    "duration": 9,
    "start_time": "2021-12-13T12:12:36.044Z"
   },
   {
    "duration": 9,
    "start_time": "2021-12-13T12:13:36.071Z"
   },
   {
    "duration": 10,
    "start_time": "2021-12-13T12:13:51.949Z"
   },
   {
    "duration": 8,
    "start_time": "2021-12-13T12:16:44.627Z"
   },
   {
    "duration": 8,
    "start_time": "2021-12-13T12:16:59.553Z"
   },
   {
    "duration": 14,
    "start_time": "2021-12-13T12:20:30.997Z"
   },
   {
    "duration": 62,
    "start_time": "2021-12-13T15:23:00.068Z"
   },
   {
    "duration": 8,
    "start_time": "2021-12-13T15:23:00.673Z"
   },
   {
    "duration": 11,
    "start_time": "2021-12-13T15:23:01.254Z"
   },
   {
    "duration": 41,
    "start_time": "2021-12-13T15:23:01.423Z"
   },
   {
    "duration": 9,
    "start_time": "2021-12-13T15:23:15.509Z"
   },
   {
    "duration": 13,
    "start_time": "2021-12-13T15:23:30.883Z"
   },
   {
    "duration": 7,
    "start_time": "2021-12-13T15:27:29.536Z"
   },
   {
    "duration": 8,
    "start_time": "2021-12-13T15:27:29.705Z"
   },
   {
    "duration": 9,
    "start_time": "2021-12-13T15:27:52.338Z"
   },
   {
    "duration": 11,
    "start_time": "2021-12-13T15:27:52.520Z"
   },
   {
    "duration": 181,
    "start_time": "2021-12-13T15:28:13.989Z"
   },
   {
    "duration": 6,
    "start_time": "2021-12-13T15:28:14.947Z"
   },
   {
    "duration": 159,
    "start_time": "2021-12-13T15:28:22.881Z"
   },
   {
    "duration": 166,
    "start_time": "2021-12-13T15:29:30.755Z"
   },
   {
    "duration": 11,
    "start_time": "2021-12-13T15:29:38.979Z"
   },
   {
    "duration": 15,
    "start_time": "2021-12-13T15:29:39.578Z"
   },
   {
    "duration": 197,
    "start_time": "2021-12-13T15:29:52.954Z"
   },
   {
    "duration": 183,
    "start_time": "2021-12-13T15:30:45.796Z"
   },
   {
    "duration": 344,
    "start_time": "2021-12-13T15:32:17.739Z"
   },
   {
    "duration": 199,
    "start_time": "2021-12-13T15:32:36.791Z"
   },
   {
    "duration": 342,
    "start_time": "2021-12-13T15:33:12.734Z"
   },
   {
    "duration": 122,
    "start_time": "2021-12-13T15:34:01.852Z"
   },
   {
    "duration": 280,
    "start_time": "2021-12-13T15:34:04.835Z"
   },
   {
    "duration": 274,
    "start_time": "2021-12-13T15:35:00.256Z"
   },
   {
    "duration": 252,
    "start_time": "2021-12-13T15:35:13.279Z"
   },
   {
    "duration": 348,
    "start_time": "2021-12-13T15:35:21.182Z"
   },
   {
    "duration": 5,
    "start_time": "2021-12-13T15:35:59.502Z"
   },
   {
    "duration": 11,
    "start_time": "2021-12-13T15:36:25.609Z"
   },
   {
    "duration": 12,
    "start_time": "2021-12-13T15:36:25.766Z"
   },
   {
    "duration": 114,
    "start_time": "2021-12-13T15:36:27.202Z"
   },
   {
    "duration": 129,
    "start_time": "2021-12-13T15:36:27.794Z"
   },
   {
    "duration": 6,
    "start_time": "2021-12-13T15:36:39.082Z"
   },
   {
    "duration": 35,
    "start_time": "2021-12-13T15:36:40.111Z"
   },
   {
    "duration": 145,
    "start_time": "2021-12-13T15:37:12.755Z"
   },
   {
    "duration": 6,
    "start_time": "2021-12-13T15:37:13.289Z"
   },
   {
    "duration": 8,
    "start_time": "2021-12-13T15:37:14.818Z"
   },
   {
    "duration": 10,
    "start_time": "2021-12-13T15:40:41.771Z"
   },
   {
    "duration": 10,
    "start_time": "2021-12-13T15:40:54.959Z"
   },
   {
    "duration": 8,
    "start_time": "2021-12-13T15:40:58.397Z"
   },
   {
    "duration": 7,
    "start_time": "2021-12-13T15:40:59.052Z"
   },
   {
    "duration": 13,
    "start_time": "2021-12-13T15:41:09.017Z"
   },
   {
    "duration": 1928,
    "start_time": "2021-12-13T16:07:43.991Z"
   },
   {
    "duration": 14,
    "start_time": "2021-12-13T16:07:45.921Z"
   },
   {
    "duration": 52,
    "start_time": "2021-12-13T16:07:45.938Z"
   },
   {
    "duration": 9,
    "start_time": "2021-12-13T16:07:45.992Z"
   },
   {
    "duration": 20,
    "start_time": "2021-12-13T16:07:46.003Z"
   },
   {
    "duration": 72,
    "start_time": "2021-12-13T16:07:46.025Z"
   },
   {
    "duration": 100,
    "start_time": "2021-12-13T16:07:46.099Z"
   },
   {
    "duration": 12,
    "start_time": "2021-12-13T16:07:46.201Z"
   },
   {
    "duration": 90,
    "start_time": "2021-12-13T16:07:46.215Z"
   },
   {
    "duration": 9,
    "start_time": "2021-12-13T16:07:46.307Z"
   },
   {
    "duration": 287,
    "start_time": "2021-12-13T16:07:46.317Z"
   },
   {
    "duration": 387,
    "start_time": "2021-12-13T16:07:46.606Z"
   },
   {
    "duration": 16,
    "start_time": "2021-12-13T16:07:46.995Z"
   },
   {
    "duration": 15,
    "start_time": "2021-12-13T16:07:47.013Z"
   },
   {
    "duration": 408,
    "start_time": "2021-12-13T16:07:47.088Z"
   },
   {
    "duration": 337,
    "start_time": "2021-12-13T16:07:47.498Z"
   },
   {
    "duration": 444,
    "start_time": "2021-12-13T16:07:47.887Z"
   },
   {
    "duration": 842,
    "start_time": "2021-12-13T16:07:48.388Z"
   },
   {
    "duration": -1301,
    "start_time": "2021-12-13T16:07:50.590Z"
   },
   {
    "duration": -1301,
    "start_time": "2021-12-13T16:07:50.592Z"
   },
   {
    "duration": -1302,
    "start_time": "2021-12-13T16:07:50.594Z"
   },
   {
    "duration": -1304,
    "start_time": "2021-12-13T16:07:50.597Z"
   },
   {
    "duration": -1304,
    "start_time": "2021-12-13T16:07:50.599Z"
   },
   {
    "duration": -1306,
    "start_time": "2021-12-13T16:07:50.602Z"
   },
   {
    "duration": -1310,
    "start_time": "2021-12-13T16:07:50.607Z"
   },
   {
    "duration": -1312,
    "start_time": "2021-12-13T16:07:50.609Z"
   },
   {
    "duration": -1313,
    "start_time": "2021-12-13T16:07:50.611Z"
   },
   {
    "duration": -1314,
    "start_time": "2021-12-13T16:07:50.613Z"
   },
   {
    "duration": -1316,
    "start_time": "2021-12-13T16:07:50.616Z"
   },
   {
    "duration": -1317,
    "start_time": "2021-12-13T16:07:50.618Z"
   },
   {
    "duration": -1319,
    "start_time": "2021-12-13T16:07:50.621Z"
   },
   {
    "duration": -1320,
    "start_time": "2021-12-13T16:07:50.623Z"
   },
   {
    "duration": -1320,
    "start_time": "2021-12-13T16:07:50.624Z"
   },
   {
    "duration": -1321,
    "start_time": "2021-12-13T16:07:50.626Z"
   },
   {
    "duration": -1325,
    "start_time": "2021-12-13T16:07:50.631Z"
   },
   {
    "duration": -1327,
    "start_time": "2021-12-13T16:07:50.633Z"
   },
   {
    "duration": -1328,
    "start_time": "2021-12-13T16:07:50.635Z"
   },
   {
    "duration": -1329,
    "start_time": "2021-12-13T16:07:50.637Z"
   },
   {
    "duration": 1217,
    "start_time": "2021-12-13T21:16:46.475Z"
   },
   {
    "duration": 10,
    "start_time": "2021-12-13T21:16:47.694Z"
   },
   {
    "duration": 8,
    "start_time": "2021-12-13T21:16:47.706Z"
   },
   {
    "duration": 8,
    "start_time": "2021-12-13T21:16:47.716Z"
   },
   {
    "duration": 11,
    "start_time": "2021-12-13T21:16:47.725Z"
   },
   {
    "duration": 10,
    "start_time": "2021-12-13T21:16:47.737Z"
   },
   {
    "duration": 8,
    "start_time": "2021-12-13T21:16:47.749Z"
   },
   {
    "duration": 34,
    "start_time": "2021-12-13T21:16:47.759Z"
   },
   {
    "duration": 12,
    "start_time": "2021-12-13T21:16:47.795Z"
   },
   {
    "duration": 9,
    "start_time": "2021-12-13T21:16:47.809Z"
   },
   {
    "duration": 194,
    "start_time": "2021-12-13T21:16:47.819Z"
   },
   {
    "duration": 159,
    "start_time": "2021-12-13T21:16:48.015Z"
   },
   {
    "duration": 21,
    "start_time": "2021-12-13T21:16:48.175Z"
   },
   {
    "duration": 13,
    "start_time": "2021-12-13T21:16:48.197Z"
   },
   {
    "duration": 211,
    "start_time": "2021-12-13T21:16:48.212Z"
   },
   {
    "duration": 186,
    "start_time": "2021-12-13T21:16:48.425Z"
   },
   {
    "duration": 305,
    "start_time": "2021-12-13T21:16:48.613Z"
   },
   {
    "duration": 195,
    "start_time": "2021-12-13T21:16:48.920Z"
   },
   {
    "duration": 283,
    "start_time": "2021-12-13T21:16:49.116Z"
   },
   {
    "duration": 126,
    "start_time": "2021-12-13T21:16:49.401Z"
   },
   {
    "duration": 269,
    "start_time": "2021-12-13T21:16:49.529Z"
   },
   {
    "duration": 5,
    "start_time": "2021-12-13T21:16:49.799Z"
   },
   {
    "duration": 357,
    "start_time": "2021-12-13T21:16:49.807Z"
   },
   {
    "duration": 4,
    "start_time": "2021-12-13T21:16:50.166Z"
   },
   {
    "duration": 8,
    "start_time": "2021-12-13T21:16:50.188Z"
   },
   {
    "duration": 9,
    "start_time": "2021-12-13T21:16:50.197Z"
   },
   {
    "duration": 129,
    "start_time": "2021-12-13T21:16:50.208Z"
   },
   {
    "duration": 134,
    "start_time": "2021-12-13T21:16:50.339Z"
   },
   {
    "duration": 6,
    "start_time": "2021-12-13T21:16:50.475Z"
   },
   {
    "duration": 35,
    "start_time": "2021-12-13T21:16:50.488Z"
   },
   {
    "duration": 131,
    "start_time": "2021-12-13T21:16:50.525Z"
   },
   {
    "duration": 7,
    "start_time": "2021-12-13T21:16:50.657Z"
   },
   {
    "duration": 13,
    "start_time": "2021-12-13T21:16:50.665Z"
   },
   {
    "duration": 13,
    "start_time": "2021-12-13T21:16:50.680Z"
   },
   {
    "duration": 8,
    "start_time": "2021-12-13T21:16:50.695Z"
   },
   {
    "duration": 8,
    "start_time": "2021-12-13T21:16:50.705Z"
   },
   {
    "duration": 9,
    "start_time": "2021-12-13T21:16:50.715Z"
   },
   {
    "duration": 11,
    "start_time": "2021-12-13T21:16:50.726Z"
   },
   {
    "duration": 1122,
    "start_time": "2021-12-13T22:03:39.078Z"
   },
   {
    "duration": 63,
    "start_time": "2021-12-13T22:03:40.206Z"
   },
   {
    "duration": 3,
    "start_time": "2021-12-13T22:04:04.215Z"
   },
   {
    "duration": 63,
    "start_time": "2021-12-13T22:04:04.706Z"
   },
   {
    "duration": 11,
    "start_time": "2021-12-13T22:04:09.204Z"
   },
   {
    "duration": 9,
    "start_time": "2021-12-13T22:04:25.407Z"
   },
   {
    "duration": 8,
    "start_time": "2021-12-13T22:04:26.048Z"
   },
   {
    "duration": 9,
    "start_time": "2021-12-13T22:07:39.967Z"
   },
   {
    "duration": 9,
    "start_time": "2021-12-13T22:08:16.798Z"
   },
   {
    "duration": 266,
    "start_time": "2021-12-13T22:08:26.983Z"
   },
   {
    "duration": 9,
    "start_time": "2021-12-13T22:08:32.468Z"
   },
   {
    "duration": 8,
    "start_time": "2021-12-13T22:08:39.775Z"
   },
   {
    "duration": 8,
    "start_time": "2021-12-13T22:08:44.564Z"
   },
   {
    "duration": 9,
    "start_time": "2021-12-13T22:09:19.585Z"
   },
   {
    "duration": 8,
    "start_time": "2021-12-13T22:09:36.095Z"
   },
   {
    "duration": 3,
    "start_time": "2021-12-13T22:12:05.524Z"
   },
   {
    "duration": 65,
    "start_time": "2021-12-13T22:12:07.734Z"
   },
   {
    "duration": 8,
    "start_time": "2021-12-13T22:12:09.959Z"
   },
   {
    "duration": 9,
    "start_time": "2021-12-13T22:12:13.781Z"
   },
   {
    "duration": 8,
    "start_time": "2021-12-13T22:12:16.721Z"
   },
   {
    "duration": 11,
    "start_time": "2021-12-13T22:13:55.962Z"
   },
   {
    "duration": 305,
    "start_time": "2021-12-13T22:15:24.275Z"
   },
   {
    "duration": 434,
    "start_time": "2021-12-13T22:17:35.146Z"
   },
   {
    "duration": 172,
    "start_time": "2021-12-13T22:17:41.986Z"
   },
   {
    "duration": 7,
    "start_time": "2021-12-13T22:18:20.746Z"
   },
   {
    "duration": 172,
    "start_time": "2021-12-13T22:19:36.594Z"
   },
   {
    "duration": 4,
    "start_time": "2021-12-13T22:19:49.474Z"
   },
   {
    "duration": 6,
    "start_time": "2021-12-13T22:20:10.506Z"
   },
   {
    "duration": 7,
    "start_time": "2021-12-13T22:20:20.263Z"
   },
   {
    "duration": 10,
    "start_time": "2021-12-13T22:20:33.174Z"
   },
   {
    "duration": 10,
    "start_time": "2021-12-13T22:20:52.782Z"
   },
   {
    "duration": 8,
    "start_time": "2021-12-13T22:20:59.105Z"
   },
   {
    "duration": 10,
    "start_time": "2021-12-13T22:21:10.088Z"
   },
   {
    "duration": 10,
    "start_time": "2021-12-13T22:21:16.185Z"
   },
   {
    "duration": 12,
    "start_time": "2021-12-13T22:21:39.499Z"
   },
   {
    "duration": 10,
    "start_time": "2021-12-13T22:22:31.015Z"
   },
   {
    "duration": 6,
    "start_time": "2021-12-13T22:23:02.985Z"
   },
   {
    "duration": 15,
    "start_time": "2021-12-13T22:23:56.667Z"
   },
   {
    "duration": 8,
    "start_time": "2021-12-13T22:24:05.448Z"
   },
   {
    "duration": 4181,
    "start_time": "2021-12-13T22:24:18.342Z"
   },
   {
    "duration": 17,
    "start_time": "2021-12-13T22:25:08.067Z"
   },
   {
    "duration": 8,
    "start_time": "2021-12-13T22:25:22.117Z"
   },
   {
    "duration": 167,
    "start_time": "2021-12-13T22:26:11.060Z"
   },
   {
    "duration": 6,
    "start_time": "2021-12-13T22:26:44.805Z"
   },
   {
    "duration": 6,
    "start_time": "2021-12-13T22:27:03.988Z"
   },
   {
    "duration": 9,
    "start_time": "2021-12-13T22:27:36.872Z"
   },
   {
    "duration": 57,
    "start_time": "2021-12-13T22:29:06.036Z"
   },
   {
    "duration": 8,
    "start_time": "2021-12-13T22:29:12.186Z"
   },
   {
    "duration": 9,
    "start_time": "2021-12-13T22:29:21.822Z"
   },
   {
    "duration": 185,
    "start_time": "2021-12-13T22:30:34.721Z"
   },
   {
    "duration": 8,
    "start_time": "2021-12-13T22:31:01.733Z"
   },
   {
    "duration": 10,
    "start_time": "2021-12-13T22:31:11.818Z"
   },
   {
    "duration": 11,
    "start_time": "2021-12-13T22:32:04.657Z"
   },
   {
    "duration": 7,
    "start_time": "2021-12-13T22:34:45.995Z"
   },
   {
    "duration": 11,
    "start_time": "2021-12-13T22:42:26.717Z"
   },
   {
    "duration": 11,
    "start_time": "2021-12-13T22:42:27.185Z"
   },
   {
    "duration": 9,
    "start_time": "2021-12-13T22:42:28.002Z"
   },
   {
    "duration": 9,
    "start_time": "2021-12-13T22:42:28.162Z"
   },
   {
    "duration": 10,
    "start_time": "2021-12-13T22:42:28.602Z"
   },
   {
    "duration": 11,
    "start_time": "2021-12-13T22:42:28.738Z"
   },
   {
    "duration": 179,
    "start_time": "2021-12-13T22:42:28.902Z"
   },
   {
    "duration": 152,
    "start_time": "2021-12-13T22:42:29.083Z"
   },
   {
    "duration": 9,
    "start_time": "2021-12-13T22:42:29.237Z"
   },
   {
    "duration": 14,
    "start_time": "2021-12-13T22:42:29.397Z"
   },
   {
    "duration": 214,
    "start_time": "2021-12-13T22:42:29.556Z"
   },
   {
    "duration": 201,
    "start_time": "2021-12-13T22:42:30.247Z"
   },
   {
    "duration": 415,
    "start_time": "2021-12-13T22:42:30.924Z"
   },
   {
    "duration": 286,
    "start_time": "2021-12-13T22:42:31.611Z"
   },
   {
    "duration": 328,
    "start_time": "2021-12-13T22:42:32.301Z"
   },
   {
    "duration": 102,
    "start_time": "2021-12-13T22:42:32.979Z"
   },
   {
    "duration": 254,
    "start_time": "2021-12-13T22:42:33.148Z"
   },
   {
    "duration": 5,
    "start_time": "2021-12-13T22:42:33.823Z"
   },
   {
    "duration": 283,
    "start_time": "2021-12-13T22:42:34.456Z"
   },
   {
    "duration": 6,
    "start_time": "2021-12-13T22:42:35.096Z"
   },
   {
    "duration": 9,
    "start_time": "2021-12-13T22:42:35.737Z"
   },
   {
    "duration": 9,
    "start_time": "2021-12-13T22:42:35.912Z"
   },
   {
    "duration": 122,
    "start_time": "2021-12-13T22:42:36.054Z"
   },
   {
    "duration": 140,
    "start_time": "2021-12-13T22:42:36.220Z"
   },
   {
    "duration": 7,
    "start_time": "2021-12-13T22:42:36.387Z"
   },
   {
    "duration": 37,
    "start_time": "2021-12-13T22:42:36.672Z"
   },
   {
    "duration": 218,
    "start_time": "2021-12-13T22:42:36.847Z"
   },
   {
    "duration": 8,
    "start_time": "2021-12-13T22:42:37.068Z"
   },
   {
    "duration": 9,
    "start_time": "2021-12-13T22:42:37.189Z"
   },
   {
    "duration": 11,
    "start_time": "2021-12-13T22:42:37.971Z"
   },
   {
    "duration": 11,
    "start_time": "2021-12-13T22:42:38.605Z"
   },
   {
    "duration": 9,
    "start_time": "2021-12-13T22:42:38.946Z"
   },
   {
    "duration": 8,
    "start_time": "2021-12-13T22:42:39.128Z"
   },
   {
    "duration": 13,
    "start_time": "2021-12-13T22:42:39.906Z"
   },
   {
    "duration": 1159,
    "start_time": "2021-12-14T20:21:53.657Z"
   },
   {
    "duration": 114,
    "start_time": "2021-12-14T20:21:54.818Z"
   },
   {
    "duration": 11,
    "start_time": "2021-12-14T20:21:54.934Z"
   },
   {
    "duration": 9,
    "start_time": "2021-12-14T20:21:54.947Z"
   },
   {
    "duration": 8,
    "start_time": "2021-12-14T20:21:54.957Z"
   },
   {
    "duration": 11,
    "start_time": "2021-12-14T20:21:54.967Z"
   },
   {
    "duration": 826,
    "start_time": "2021-12-14T20:21:54.980Z"
   },
   {
    "duration": 6,
    "start_time": "2021-12-14T20:21:55.809Z"
   },
   {
    "duration": 14,
    "start_time": "2021-12-14T20:21:55.817Z"
   },
   {
    "duration": 13,
    "start_time": "2021-12-14T20:21:55.833Z"
   },
   {
    "duration": 17,
    "start_time": "2021-12-14T20:21:55.848Z"
   },
   {
    "duration": 41,
    "start_time": "2021-12-14T20:21:55.867Z"
   },
   {
    "duration": 8,
    "start_time": "2021-12-14T20:21:55.910Z"
   },
   {
    "duration": 12,
    "start_time": "2021-12-14T20:21:55.920Z"
   },
   {
    "duration": 9,
    "start_time": "2021-12-14T20:21:55.933Z"
   },
   {
    "duration": 256,
    "start_time": "2021-12-14T20:21:55.943Z"
   },
   {
    "duration": 201,
    "start_time": "2021-12-14T20:21:56.206Z"
   },
   {
    "duration": 10,
    "start_time": "2021-12-14T20:21:56.409Z"
   },
   {
    "duration": 13,
    "start_time": "2021-12-14T20:21:56.421Z"
   },
   {
    "duration": 238,
    "start_time": "2021-12-14T20:21:56.436Z"
   },
   {
    "duration": 206,
    "start_time": "2021-12-14T20:21:56.675Z"
   },
   {
    "duration": 392,
    "start_time": "2021-12-14T20:21:56.883Z"
   },
   {
    "duration": 328,
    "start_time": "2021-12-14T20:21:57.278Z"
   },
   {
    "duration": 461,
    "start_time": "2021-12-14T20:21:57.609Z"
   },
   {
    "duration": 135,
    "start_time": "2021-12-14T20:21:58.072Z"
   },
   {
    "duration": 314,
    "start_time": "2021-12-14T20:21:58.209Z"
   },
   {
    "duration": 5,
    "start_time": "2021-12-14T20:21:58.524Z"
   },
   {
    "duration": 281,
    "start_time": "2021-12-14T20:21:58.531Z"
   },
   {
    "duration": 6,
    "start_time": "2021-12-14T20:21:58.814Z"
   },
   {
    "duration": 10,
    "start_time": "2021-12-14T20:21:58.821Z"
   },
   {
    "duration": 10,
    "start_time": "2021-12-14T20:21:58.832Z"
   },
   {
    "duration": 144,
    "start_time": "2021-12-14T20:21:58.844Z"
   },
   {
    "duration": 149,
    "start_time": "2021-12-14T20:21:58.990Z"
   },
   {
    "duration": 6,
    "start_time": "2021-12-14T20:21:59.141Z"
   },
   {
    "duration": 35,
    "start_time": "2021-12-14T20:21:59.148Z"
   },
   {
    "duration": 149,
    "start_time": "2021-12-14T20:21:59.185Z"
   },
   {
    "duration": 5,
    "start_time": "2021-12-14T20:21:59.336Z"
   },
   {
    "duration": 12,
    "start_time": "2021-12-14T20:21:59.343Z"
   },
   {
    "duration": 10,
    "start_time": "2021-12-14T20:21:59.357Z"
   },
   {
    "duration": 38,
    "start_time": "2021-12-14T20:21:59.369Z"
   },
   {
    "duration": 7,
    "start_time": "2021-12-14T20:21:59.409Z"
   },
   {
    "duration": 9,
    "start_time": "2021-12-14T20:21:59.418Z"
   },
   {
    "duration": 14,
    "start_time": "2021-12-14T20:21:59.429Z"
   },
   {
    "duration": 1247,
    "start_time": "2022-04-17T15:58:09.069Z"
   },
   {
    "duration": 70,
    "start_time": "2022-04-17T15:58:10.318Z"
   },
   {
    "duration": 11,
    "start_time": "2022-04-17T15:58:10.390Z"
   },
   {
    "duration": 15,
    "start_time": "2022-04-17T15:58:10.403Z"
   },
   {
    "duration": 24,
    "start_time": "2022-04-17T15:58:10.420Z"
   },
   {
    "duration": 28,
    "start_time": "2022-04-17T15:58:10.445Z"
   },
   {
    "duration": 72,
    "start_time": "2022-04-17T15:58:10.475Z"
   },
   {
    "duration": 19,
    "start_time": "2022-04-17T15:58:10.548Z"
   },
   {
    "duration": 12,
    "start_time": "2022-04-17T15:58:10.568Z"
   },
   {
    "duration": 10,
    "start_time": "2022-04-17T15:58:10.582Z"
   },
   {
    "duration": 16,
    "start_time": "2022-04-17T15:58:10.594Z"
   },
   {
    "duration": 21,
    "start_time": "2022-04-17T15:58:10.612Z"
   },
   {
    "duration": 19,
    "start_time": "2022-04-17T15:58:10.635Z"
   },
   {
    "duration": 9,
    "start_time": "2022-04-17T15:58:10.658Z"
   },
   {
    "duration": 17,
    "start_time": "2022-04-17T15:58:10.669Z"
   },
   {
    "duration": 169,
    "start_time": "2022-04-17T15:58:10.688Z"
   },
   {
    "duration": 142,
    "start_time": "2022-04-17T15:58:10.859Z"
   },
   {
    "duration": 17,
    "start_time": "2022-04-17T15:58:11.003Z"
   },
   {
    "duration": 12,
    "start_time": "2022-04-17T15:58:11.022Z"
   },
   {
    "duration": 281,
    "start_time": "2022-04-17T15:58:11.035Z"
   },
   {
    "duration": 166,
    "start_time": "2022-04-17T15:58:11.317Z"
   },
   {
    "duration": 285,
    "start_time": "2022-04-17T15:58:11.484Z"
   },
   {
    "duration": 301,
    "start_time": "2022-04-17T15:58:11.770Z"
   },
   {
    "duration": 0,
    "start_time": "2022-04-17T15:58:12.073Z"
   },
   {
    "duration": 0,
    "start_time": "2022-04-17T15:58:12.075Z"
   },
   {
    "duration": 0,
    "start_time": "2022-04-17T15:58:12.076Z"
   },
   {
    "duration": 0,
    "start_time": "2022-04-17T15:58:12.077Z"
   },
   {
    "duration": 0,
    "start_time": "2022-04-17T15:58:12.078Z"
   },
   {
    "duration": 0,
    "start_time": "2022-04-17T15:58:12.079Z"
   },
   {
    "duration": 0,
    "start_time": "2022-04-17T15:58:12.080Z"
   },
   {
    "duration": 0,
    "start_time": "2022-04-17T15:58:12.081Z"
   },
   {
    "duration": 0,
    "start_time": "2022-04-17T15:58:12.082Z"
   },
   {
    "duration": 0,
    "start_time": "2022-04-17T15:58:12.084Z"
   },
   {
    "duration": 0,
    "start_time": "2022-04-17T15:58:12.084Z"
   },
   {
    "duration": 0,
    "start_time": "2022-04-17T15:58:12.085Z"
   },
   {
    "duration": 0,
    "start_time": "2022-04-17T15:58:12.086Z"
   },
   {
    "duration": 0,
    "start_time": "2022-04-17T15:58:12.087Z"
   },
   {
    "duration": 0,
    "start_time": "2022-04-17T15:58:12.088Z"
   },
   {
    "duration": 0,
    "start_time": "2022-04-17T15:58:12.089Z"
   },
   {
    "duration": 0,
    "start_time": "2022-04-17T15:58:12.090Z"
   },
   {
    "duration": 0,
    "start_time": "2022-04-17T15:58:12.091Z"
   },
   {
    "duration": 0,
    "start_time": "2022-04-17T15:58:12.092Z"
   },
   {
    "duration": 0,
    "start_time": "2022-04-17T15:58:12.093Z"
   },
   {
    "duration": 1246,
    "start_time": "2022-04-18T07:03:21.563Z"
   },
   {
    "duration": 41,
    "start_time": "2022-04-18T07:03:22.811Z"
   },
   {
    "duration": 12,
    "start_time": "2022-04-18T07:03:22.853Z"
   },
   {
    "duration": 8,
    "start_time": "2022-04-18T07:03:22.866Z"
   },
   {
    "duration": 8,
    "start_time": "2022-04-18T07:03:22.876Z"
   },
   {
    "duration": 12,
    "start_time": "2022-04-18T07:03:22.885Z"
   },
   {
    "duration": 78,
    "start_time": "2022-04-18T07:03:22.899Z"
   },
   {
    "duration": 9,
    "start_time": "2022-04-18T07:03:22.979Z"
   },
   {
    "duration": 11,
    "start_time": "2022-04-18T07:03:22.989Z"
   },
   {
    "duration": 9,
    "start_time": "2022-04-18T07:03:23.002Z"
   },
   {
    "duration": 40,
    "start_time": "2022-04-18T07:03:23.012Z"
   },
   {
    "duration": 9,
    "start_time": "2022-04-18T07:03:23.053Z"
   },
   {
    "duration": 8,
    "start_time": "2022-04-18T07:03:23.063Z"
   },
   {
    "duration": 10,
    "start_time": "2022-04-18T07:03:23.073Z"
   },
   {
    "duration": 8,
    "start_time": "2022-04-18T07:03:23.084Z"
   },
   {
    "duration": 171,
    "start_time": "2022-04-18T07:03:23.094Z"
   },
   {
    "duration": 129,
    "start_time": "2022-04-18T07:03:23.266Z"
   },
   {
    "duration": 16,
    "start_time": "2022-04-18T07:03:23.396Z"
   },
   {
    "duration": 12,
    "start_time": "2022-04-18T07:03:23.413Z"
   },
   {
    "duration": 233,
    "start_time": "2022-04-18T07:03:23.447Z"
   },
   {
    "duration": 154,
    "start_time": "2022-04-18T07:03:23.682Z"
   },
   {
    "duration": 330,
    "start_time": "2022-04-18T07:03:23.838Z"
   },
   {
    "duration": 268,
    "start_time": "2022-04-18T07:03:24.169Z"
   },
   {
    "duration": 0,
    "start_time": "2022-04-18T07:03:24.439Z"
   },
   {
    "duration": 0,
    "start_time": "2022-04-18T07:03:24.448Z"
   },
   {
    "duration": 0,
    "start_time": "2022-04-18T07:03:24.449Z"
   },
   {
    "duration": 0,
    "start_time": "2022-04-18T07:03:24.450Z"
   },
   {
    "duration": 0,
    "start_time": "2022-04-18T07:03:24.451Z"
   },
   {
    "duration": 0,
    "start_time": "2022-04-18T07:03:24.452Z"
   },
   {
    "duration": 0,
    "start_time": "2022-04-18T07:03:24.453Z"
   },
   {
    "duration": 0,
    "start_time": "2022-04-18T07:03:24.454Z"
   },
   {
    "duration": 0,
    "start_time": "2022-04-18T07:03:24.455Z"
   },
   {
    "duration": 0,
    "start_time": "2022-04-18T07:03:24.456Z"
   },
   {
    "duration": 0,
    "start_time": "2022-04-18T07:03:24.457Z"
   },
   {
    "duration": 0,
    "start_time": "2022-04-18T07:03:24.458Z"
   },
   {
    "duration": 0,
    "start_time": "2022-04-18T07:03:24.459Z"
   },
   {
    "duration": 0,
    "start_time": "2022-04-18T07:03:24.460Z"
   },
   {
    "duration": 0,
    "start_time": "2022-04-18T07:03:24.461Z"
   },
   {
    "duration": 0,
    "start_time": "2022-04-18T07:03:24.462Z"
   },
   {
    "duration": 0,
    "start_time": "2022-04-18T07:03:24.463Z"
   },
   {
    "duration": 0,
    "start_time": "2022-04-18T07:03:24.464Z"
   },
   {
    "duration": 0,
    "start_time": "2022-04-18T07:03:24.465Z"
   },
   {
    "duration": 0,
    "start_time": "2022-04-18T07:03:24.466Z"
   },
   {
    "duration": 1284,
    "start_time": "2022-04-18T15:15:26.345Z"
   },
   {
    "duration": 36,
    "start_time": "2022-04-18T15:15:27.631Z"
   },
   {
    "duration": 12,
    "start_time": "2022-04-18T15:15:27.671Z"
   },
   {
    "duration": 8,
    "start_time": "2022-04-18T15:15:27.685Z"
   },
   {
    "duration": 9,
    "start_time": "2022-04-18T15:15:27.694Z"
   },
   {
    "duration": 15,
    "start_time": "2022-04-18T15:15:27.704Z"
   },
   {
    "duration": 80,
    "start_time": "2022-04-18T15:15:27.721Z"
   },
   {
    "duration": 11,
    "start_time": "2022-04-18T15:15:27.802Z"
   },
   {
    "duration": 32,
    "start_time": "2022-04-18T15:15:27.816Z"
   },
   {
    "duration": 11,
    "start_time": "2022-04-18T15:15:27.849Z"
   },
   {
    "duration": 12,
    "start_time": "2022-04-18T15:15:27.861Z"
   },
   {
    "duration": 11,
    "start_time": "2022-04-18T15:15:27.874Z"
   },
   {
    "duration": 8,
    "start_time": "2022-04-18T15:15:27.886Z"
   },
   {
    "duration": 10,
    "start_time": "2022-04-18T15:15:27.895Z"
   },
   {
    "duration": 7,
    "start_time": "2022-04-18T15:15:27.907Z"
   },
   {
    "duration": 156,
    "start_time": "2022-04-18T15:15:27.948Z"
   },
   {
    "duration": 131,
    "start_time": "2022-04-18T15:15:28.105Z"
   },
   {
    "duration": 18,
    "start_time": "2022-04-18T15:15:28.247Z"
   },
   {
    "duration": 12,
    "start_time": "2022-04-18T15:15:28.267Z"
   },
   {
    "duration": 257,
    "start_time": "2022-04-18T15:15:28.280Z"
   },
   {
    "duration": 157,
    "start_time": "2022-04-18T15:15:28.547Z"
   },
   {
    "duration": 366,
    "start_time": "2022-04-18T15:15:28.705Z"
   },
   {
    "duration": 275,
    "start_time": "2022-04-18T15:15:29.072Z"
   },
   {
    "duration": 0,
    "start_time": "2022-04-18T15:15:29.349Z"
   },
   {
    "duration": 0,
    "start_time": "2022-04-18T15:15:29.351Z"
   },
   {
    "duration": 1,
    "start_time": "2022-04-18T15:15:29.351Z"
   },
   {
    "duration": 0,
    "start_time": "2022-04-18T15:15:29.353Z"
   },
   {
    "duration": 0,
    "start_time": "2022-04-18T15:15:29.354Z"
   },
   {
    "duration": 0,
    "start_time": "2022-04-18T15:15:29.355Z"
   },
   {
    "duration": 0,
    "start_time": "2022-04-18T15:15:29.356Z"
   },
   {
    "duration": 0,
    "start_time": "2022-04-18T15:15:29.357Z"
   },
   {
    "duration": 0,
    "start_time": "2022-04-18T15:15:29.358Z"
   },
   {
    "duration": 0,
    "start_time": "2022-04-18T15:15:29.360Z"
   },
   {
    "duration": 0,
    "start_time": "2022-04-18T15:15:29.361Z"
   },
   {
    "duration": 0,
    "start_time": "2022-04-18T15:15:29.361Z"
   },
   {
    "duration": 0,
    "start_time": "2022-04-18T15:15:29.363Z"
   },
   {
    "duration": 0,
    "start_time": "2022-04-18T15:15:29.364Z"
   },
   {
    "duration": 0,
    "start_time": "2022-04-18T15:15:29.365Z"
   },
   {
    "duration": 0,
    "start_time": "2022-04-18T15:15:29.366Z"
   },
   {
    "duration": 0,
    "start_time": "2022-04-18T15:15:29.367Z"
   },
   {
    "duration": 0,
    "start_time": "2022-04-18T15:15:29.368Z"
   },
   {
    "duration": 0,
    "start_time": "2022-04-18T15:15:29.369Z"
   },
   {
    "duration": 0,
    "start_time": "2022-04-18T15:15:29.370Z"
   },
   {
    "duration": 1196,
    "start_time": "2022-04-21T11:09:14.902Z"
   },
   {
    "duration": 40,
    "start_time": "2022-04-21T11:09:16.100Z"
   },
   {
    "duration": 12,
    "start_time": "2022-04-21T11:09:16.142Z"
   },
   {
    "duration": 13,
    "start_time": "2022-04-21T11:09:16.157Z"
   },
   {
    "duration": 12,
    "start_time": "2022-04-21T11:09:16.171Z"
   },
   {
    "duration": 16,
    "start_time": "2022-04-21T11:09:16.185Z"
   },
   {
    "duration": 78,
    "start_time": "2022-04-21T11:09:16.203Z"
   },
   {
    "duration": 11,
    "start_time": "2022-04-21T11:09:16.283Z"
   },
   {
    "duration": 12,
    "start_time": "2022-04-21T11:09:16.296Z"
   },
   {
    "duration": 45,
    "start_time": "2022-04-21T11:09:16.312Z"
   },
   {
    "duration": 15,
    "start_time": "2022-04-21T11:09:16.359Z"
   },
   {
    "duration": 15,
    "start_time": "2022-04-21T11:09:16.376Z"
   },
   {
    "duration": 16,
    "start_time": "2022-04-21T11:09:16.393Z"
   },
   {
    "duration": 17,
    "start_time": "2022-04-21T11:09:16.411Z"
   },
   {
    "duration": 26,
    "start_time": "2022-04-21T11:09:16.430Z"
   },
   {
    "duration": 176,
    "start_time": "2022-04-21T11:09:16.457Z"
   },
   {
    "duration": 141,
    "start_time": "2022-04-21T11:09:16.635Z"
   },
   {
    "duration": 16,
    "start_time": "2022-04-21T11:09:16.778Z"
   },
   {
    "duration": 27,
    "start_time": "2022-04-21T11:09:16.796Z"
   },
   {
    "duration": 269,
    "start_time": "2022-04-21T11:09:16.825Z"
   },
   {
    "duration": 177,
    "start_time": "2022-04-21T11:09:17.096Z"
   },
   {
    "duration": 259,
    "start_time": "2022-04-21T11:09:17.275Z"
   },
   {
    "duration": 282,
    "start_time": "2022-04-21T11:09:17.536Z"
   },
   {
    "duration": 0,
    "start_time": "2022-04-21T11:09:17.822Z"
   },
   {
    "duration": 0,
    "start_time": "2022-04-21T11:09:17.823Z"
   },
   {
    "duration": 0,
    "start_time": "2022-04-21T11:09:17.825Z"
   },
   {
    "duration": 0,
    "start_time": "2022-04-21T11:09:17.826Z"
   },
   {
    "duration": 0,
    "start_time": "2022-04-21T11:09:17.827Z"
   },
   {
    "duration": 0,
    "start_time": "2022-04-21T11:09:17.828Z"
   },
   {
    "duration": 0,
    "start_time": "2022-04-21T11:09:17.829Z"
   },
   {
    "duration": 0,
    "start_time": "2022-04-21T11:09:17.830Z"
   },
   {
    "duration": 0,
    "start_time": "2022-04-21T11:09:17.831Z"
   },
   {
    "duration": 0,
    "start_time": "2022-04-21T11:09:17.855Z"
   },
   {
    "duration": 0,
    "start_time": "2022-04-21T11:09:17.856Z"
   },
   {
    "duration": 0,
    "start_time": "2022-04-21T11:09:17.857Z"
   },
   {
    "duration": 0,
    "start_time": "2022-04-21T11:09:17.859Z"
   },
   {
    "duration": 0,
    "start_time": "2022-04-21T11:09:17.860Z"
   },
   {
    "duration": 0,
    "start_time": "2022-04-21T11:09:17.861Z"
   },
   {
    "duration": 0,
    "start_time": "2022-04-21T11:09:17.862Z"
   },
   {
    "duration": 0,
    "start_time": "2022-04-21T11:09:17.864Z"
   },
   {
    "duration": 0,
    "start_time": "2022-04-21T11:09:17.865Z"
   },
   {
    "duration": 0,
    "start_time": "2022-04-21T11:09:17.866Z"
   },
   {
    "duration": 0,
    "start_time": "2022-04-21T11:09:17.868Z"
   },
   {
    "duration": 311,
    "start_time": "2022-04-21T11:09:23.236Z"
   },
   {
    "duration": 156,
    "start_time": "2022-04-21T11:09:24.304Z"
   },
   {
    "duration": 127,
    "start_time": "2022-04-21T11:09:24.880Z"
   },
   {
    "duration": 6,
    "start_time": "2022-04-21T11:09:25.863Z"
   },
   {
    "duration": 107,
    "start_time": "2022-04-21T11:09:26.712Z"
   },
   {
    "duration": 4,
    "start_time": "2022-04-21T11:09:27.438Z"
   },
   {
    "duration": 8,
    "start_time": "2022-04-21T11:09:28.222Z"
   },
   {
    "duration": 7,
    "start_time": "2022-04-21T11:09:28.440Z"
   },
   {
    "duration": 165,
    "start_time": "2022-04-21T11:09:28.662Z"
   },
   {
    "duration": 105,
    "start_time": "2022-04-21T11:09:28.894Z"
   },
   {
    "duration": 6,
    "start_time": "2022-04-21T11:09:29.150Z"
   },
   {
    "duration": 29,
    "start_time": "2022-04-21T11:09:29.668Z"
   },
   {
    "duration": 136,
    "start_time": "2022-04-21T11:09:30.090Z"
   },
   {
    "duration": 6,
    "start_time": "2022-04-21T11:09:30.528Z"
   },
   {
    "duration": 34,
    "start_time": "2022-04-21T11:09:30.912Z"
   },
   {
    "duration": 12,
    "start_time": "2022-04-21T11:09:35.046Z"
   },
   {
    "duration": 11,
    "start_time": "2022-04-21T11:09:36.146Z"
   },
   {
    "duration": 10,
    "start_time": "2022-04-21T11:09:36.886Z"
   },
   {
    "duration": 37,
    "start_time": "2022-04-21T11:09:37.114Z"
   },
   {
    "duration": 17,
    "start_time": "2022-04-21T11:09:37.993Z"
   },
   {
    "duration": 1089,
    "start_time": "2022-07-15T08:11:55.703Z"
   },
   {
    "duration": 202,
    "start_time": "2022-07-15T08:11:56.795Z"
   },
   {
    "duration": 17,
    "start_time": "2022-07-15T08:11:56.999Z"
   },
   {
    "duration": 8,
    "start_time": "2022-07-15T08:11:57.018Z"
   },
   {
    "duration": 8,
    "start_time": "2022-07-15T08:11:57.029Z"
   },
   {
    "duration": 13,
    "start_time": "2022-07-15T08:11:57.038Z"
   },
   {
    "duration": 60,
    "start_time": "2022-07-15T08:11:57.053Z"
   },
   {
    "duration": 10,
    "start_time": "2022-07-15T08:11:57.115Z"
   },
   {
    "duration": 37,
    "start_time": "2022-07-15T08:11:57.127Z"
   },
   {
    "duration": 15,
    "start_time": "2022-07-15T08:11:57.165Z"
   },
   {
    "duration": 11,
    "start_time": "2022-07-15T08:11:57.182Z"
   },
   {
    "duration": 10,
    "start_time": "2022-07-15T08:11:57.195Z"
   },
   {
    "duration": 8,
    "start_time": "2022-07-15T08:11:57.206Z"
   },
   {
    "duration": 10,
    "start_time": "2022-07-15T08:11:57.217Z"
   },
   {
    "duration": 41,
    "start_time": "2022-07-15T08:11:57.229Z"
   },
   {
    "duration": 189,
    "start_time": "2022-07-15T08:11:57.272Z"
   },
   {
    "duration": 140,
    "start_time": "2022-07-15T08:11:57.463Z"
   },
   {
    "duration": 17,
    "start_time": "2022-07-15T08:11:57.604Z"
   },
   {
    "duration": 12,
    "start_time": "2022-07-15T08:11:57.622Z"
   },
   {
    "duration": 270,
    "start_time": "2022-07-15T08:11:57.664Z"
   },
   {
    "duration": 182,
    "start_time": "2022-07-15T08:11:57.935Z"
   },
   {
    "duration": 283,
    "start_time": "2022-07-15T08:11:58.118Z"
   },
   {
    "duration": 288,
    "start_time": "2022-07-15T08:11:58.403Z"
   },
   {
    "duration": 0,
    "start_time": "2022-07-15T08:11:58.693Z"
   },
   {
    "duration": 0,
    "start_time": "2022-07-15T08:11:58.694Z"
   },
   {
    "duration": 0,
    "start_time": "2022-07-15T08:11:58.695Z"
   },
   {
    "duration": 0,
    "start_time": "2022-07-15T08:11:58.696Z"
   },
   {
    "duration": 0,
    "start_time": "2022-07-15T08:11:58.696Z"
   },
   {
    "duration": 0,
    "start_time": "2022-07-15T08:11:58.697Z"
   },
   {
    "duration": 0,
    "start_time": "2022-07-15T08:11:58.698Z"
   },
   {
    "duration": 0,
    "start_time": "2022-07-15T08:11:58.699Z"
   },
   {
    "duration": 0,
    "start_time": "2022-07-15T08:11:58.700Z"
   },
   {
    "duration": 0,
    "start_time": "2022-07-15T08:11:58.701Z"
   },
   {
    "duration": 0,
    "start_time": "2022-07-15T08:11:58.703Z"
   },
   {
    "duration": 0,
    "start_time": "2022-07-15T08:11:58.703Z"
   },
   {
    "duration": 0,
    "start_time": "2022-07-15T08:11:58.705Z"
   },
   {
    "duration": 0,
    "start_time": "2022-07-15T08:11:58.705Z"
   },
   {
    "duration": 0,
    "start_time": "2022-07-15T08:11:58.706Z"
   },
   {
    "duration": 0,
    "start_time": "2022-07-15T08:11:58.707Z"
   },
   {
    "duration": 0,
    "start_time": "2022-07-15T08:11:58.708Z"
   },
   {
    "duration": 0,
    "start_time": "2022-07-15T08:11:58.709Z"
   },
   {
    "duration": 0,
    "start_time": "2022-07-15T08:11:58.710Z"
   },
   {
    "duration": 0,
    "start_time": "2022-07-15T08:11:58.711Z"
   },
   {
    "duration": 1202,
    "start_time": "2022-08-20T20:02:32.093Z"
   },
   {
    "duration": 183,
    "start_time": "2022-08-20T20:02:33.297Z"
   },
   {
    "duration": 11,
    "start_time": "2022-08-20T20:02:33.482Z"
   },
   {
    "duration": 7,
    "start_time": "2022-08-20T20:02:33.495Z"
   },
   {
    "duration": 8,
    "start_time": "2022-08-20T20:02:33.504Z"
   },
   {
    "duration": 11,
    "start_time": "2022-08-20T20:02:33.513Z"
   },
   {
    "duration": 58,
    "start_time": "2022-08-20T20:02:33.526Z"
   },
   {
    "duration": 26,
    "start_time": "2022-08-20T20:02:33.586Z"
   },
   {
    "duration": 13,
    "start_time": "2022-08-20T20:02:33.613Z"
   },
   {
    "duration": 10,
    "start_time": "2022-08-20T20:02:33.628Z"
   },
   {
    "duration": 17,
    "start_time": "2022-08-20T20:02:33.640Z"
   },
   {
    "duration": 13,
    "start_time": "2022-08-20T20:02:33.659Z"
   },
   {
    "duration": 9,
    "start_time": "2022-08-20T20:02:33.674Z"
   },
   {
    "duration": 28,
    "start_time": "2022-08-20T20:02:33.685Z"
   },
   {
    "duration": 9,
    "start_time": "2022-08-20T20:02:33.715Z"
   },
   {
    "duration": 172,
    "start_time": "2022-08-20T20:02:33.725Z"
   },
   {
    "duration": 133,
    "start_time": "2022-08-20T20:02:33.898Z"
   },
   {
    "duration": 16,
    "start_time": "2022-08-20T20:02:34.032Z"
   },
   {
    "duration": 11,
    "start_time": "2022-08-20T20:02:34.050Z"
   },
   {
    "duration": 267,
    "start_time": "2022-08-20T20:02:34.063Z"
   },
   {
    "duration": 164,
    "start_time": "2022-08-20T20:02:34.331Z"
   },
   {
    "duration": 301,
    "start_time": "2022-08-20T20:02:34.496Z"
   },
   {
    "duration": 288,
    "start_time": "2022-08-20T20:02:34.798Z"
   },
   {
    "duration": 0,
    "start_time": "2022-08-20T20:02:35.088Z"
   },
   {
    "duration": 0,
    "start_time": "2022-08-20T20:02:35.089Z"
   },
   {
    "duration": 0,
    "start_time": "2022-08-20T20:02:35.090Z"
   },
   {
    "duration": 0,
    "start_time": "2022-08-20T20:02:35.091Z"
   },
   {
    "duration": 0,
    "start_time": "2022-08-20T20:02:35.092Z"
   },
   {
    "duration": 0,
    "start_time": "2022-08-20T20:02:35.092Z"
   },
   {
    "duration": 0,
    "start_time": "2022-08-20T20:02:35.093Z"
   },
   {
    "duration": 0,
    "start_time": "2022-08-20T20:02:35.094Z"
   },
   {
    "duration": 0,
    "start_time": "2022-08-20T20:02:35.095Z"
   },
   {
    "duration": 0,
    "start_time": "2022-08-20T20:02:35.095Z"
   },
   {
    "duration": 0,
    "start_time": "2022-08-20T20:02:35.110Z"
   },
   {
    "duration": 0,
    "start_time": "2022-08-20T20:02:35.111Z"
   },
   {
    "duration": 0,
    "start_time": "2022-08-20T20:02:35.112Z"
   },
   {
    "duration": 0,
    "start_time": "2022-08-20T20:02:35.113Z"
   },
   {
    "duration": 0,
    "start_time": "2022-08-20T20:02:35.114Z"
   },
   {
    "duration": 0,
    "start_time": "2022-08-20T20:02:35.115Z"
   },
   {
    "duration": 0,
    "start_time": "2022-08-20T20:02:35.116Z"
   },
   {
    "duration": 0,
    "start_time": "2022-08-20T20:02:35.117Z"
   },
   {
    "duration": 0,
    "start_time": "2022-08-20T20:02:35.118Z"
   },
   {
    "duration": 0,
    "start_time": "2022-08-20T20:02:35.119Z"
   },
   {
    "duration": 164,
    "start_time": "2022-08-20T20:03:47.446Z"
   },
   {
    "duration": 182,
    "start_time": "2022-08-20T20:04:06.803Z"
   },
   {
    "duration": 176,
    "start_time": "2022-08-20T20:04:13.604Z"
   },
   {
    "duration": 318,
    "start_time": "2022-08-20T20:06:32.787Z"
   },
   {
    "duration": 178,
    "start_time": "2022-08-20T20:06:47.115Z"
   },
   {
    "duration": 279,
    "start_time": "2022-08-20T20:07:06.076Z"
   },
   {
    "duration": 134,
    "start_time": "2022-08-20T20:08:08.528Z"
   },
   {
    "duration": 168,
    "start_time": "2022-08-20T20:08:17.441Z"
   },
   {
    "duration": 291,
    "start_time": "2022-08-20T20:09:10.124Z"
   },
   {
    "duration": 178,
    "start_time": "2022-08-20T20:09:21.928Z"
   },
   {
    "duration": 4,
    "start_time": "2022-08-20T20:09:29.924Z"
   },
   {
    "duration": 76,
    "start_time": "2022-08-20T20:09:29.930Z"
   },
   {
    "duration": 8,
    "start_time": "2022-08-20T20:09:30.007Z"
   },
   {
    "duration": 10,
    "start_time": "2022-08-20T20:09:30.017Z"
   },
   {
    "duration": 11,
    "start_time": "2022-08-20T20:09:30.028Z"
   },
   {
    "duration": 11,
    "start_time": "2022-08-20T20:09:30.040Z"
   },
   {
    "duration": 23,
    "start_time": "2022-08-20T20:09:30.052Z"
   },
   {
    "duration": 9,
    "start_time": "2022-08-20T20:09:30.076Z"
   },
   {
    "duration": 32,
    "start_time": "2022-08-20T20:09:30.086Z"
   },
   {
    "duration": 9,
    "start_time": "2022-08-20T20:09:30.120Z"
   },
   {
    "duration": 11,
    "start_time": "2022-08-20T20:09:30.130Z"
   },
   {
    "duration": 9,
    "start_time": "2022-08-20T20:09:30.142Z"
   },
   {
    "duration": 14,
    "start_time": "2022-08-20T20:09:30.152Z"
   },
   {
    "duration": 11,
    "start_time": "2022-08-20T20:09:30.169Z"
   },
   {
    "duration": 37,
    "start_time": "2022-08-20T20:09:30.181Z"
   },
   {
    "duration": 161,
    "start_time": "2022-08-20T20:09:30.219Z"
   },
   {
    "duration": 130,
    "start_time": "2022-08-20T20:09:30.382Z"
   },
   {
    "duration": 15,
    "start_time": "2022-08-20T20:09:30.513Z"
   },
   {
    "duration": 11,
    "start_time": "2022-08-20T20:09:30.530Z"
   },
   {
    "duration": 183,
    "start_time": "2022-08-20T20:09:30.543Z"
   },
   {
    "duration": 188,
    "start_time": "2022-08-20T20:09:30.727Z"
   },
   {
    "duration": 270,
    "start_time": "2022-08-20T20:09:30.917Z"
   },
   {
    "duration": 264,
    "start_time": "2022-08-20T20:09:31.189Z"
   },
   {
    "duration": 244,
    "start_time": "2022-08-20T20:09:31.455Z"
   },
   {
    "duration": 0,
    "start_time": "2022-08-20T20:09:31.700Z"
   },
   {
    "duration": 0,
    "start_time": "2022-08-20T20:09:31.701Z"
   },
   {
    "duration": 0,
    "start_time": "2022-08-20T20:09:31.702Z"
   },
   {
    "duration": 0,
    "start_time": "2022-08-20T20:09:31.710Z"
   },
   {
    "duration": 0,
    "start_time": "2022-08-20T20:09:31.711Z"
   },
   {
    "duration": 0,
    "start_time": "2022-08-20T20:09:31.712Z"
   },
   {
    "duration": 0,
    "start_time": "2022-08-20T20:09:31.713Z"
   },
   {
    "duration": 0,
    "start_time": "2022-08-20T20:09:31.714Z"
   },
   {
    "duration": 0,
    "start_time": "2022-08-20T20:09:31.715Z"
   },
   {
    "duration": 0,
    "start_time": "2022-08-20T20:09:31.715Z"
   },
   {
    "duration": 0,
    "start_time": "2022-08-20T20:09:31.716Z"
   },
   {
    "duration": 0,
    "start_time": "2022-08-20T20:09:31.717Z"
   },
   {
    "duration": 0,
    "start_time": "2022-08-20T20:09:31.718Z"
   },
   {
    "duration": 0,
    "start_time": "2022-08-20T20:09:31.718Z"
   },
   {
    "duration": 0,
    "start_time": "2022-08-20T20:09:31.719Z"
   },
   {
    "duration": 0,
    "start_time": "2022-08-20T20:09:31.720Z"
   },
   {
    "duration": 0,
    "start_time": "2022-08-20T20:09:31.720Z"
   },
   {
    "duration": 0,
    "start_time": "2022-08-20T20:09:31.721Z"
   },
   {
    "duration": 0,
    "start_time": "2022-08-20T20:09:31.722Z"
   },
   {
    "duration": 220,
    "start_time": "2022-08-20T20:09:45.560Z"
   },
   {
    "duration": 263,
    "start_time": "2022-08-20T20:09:58.429Z"
   },
   {
    "duration": 3,
    "start_time": "2022-08-20T20:10:18.581Z"
   },
   {
    "duration": 77,
    "start_time": "2022-08-20T20:10:18.586Z"
   },
   {
    "duration": 8,
    "start_time": "2022-08-20T20:10:18.664Z"
   },
   {
    "duration": 20,
    "start_time": "2022-08-20T20:10:18.673Z"
   },
   {
    "duration": 14,
    "start_time": "2022-08-20T20:10:18.694Z"
   },
   {
    "duration": 17,
    "start_time": "2022-08-20T20:10:18.709Z"
   },
   {
    "duration": 23,
    "start_time": "2022-08-20T20:10:18.727Z"
   },
   {
    "duration": 8,
    "start_time": "2022-08-20T20:10:18.752Z"
   },
   {
    "duration": 16,
    "start_time": "2022-08-20T20:10:18.762Z"
   },
   {
    "duration": 35,
    "start_time": "2022-08-20T20:10:18.780Z"
   },
   {
    "duration": 12,
    "start_time": "2022-08-20T20:10:18.816Z"
   },
   {
    "duration": 10,
    "start_time": "2022-08-20T20:10:18.829Z"
   },
   {
    "duration": 7,
    "start_time": "2022-08-20T20:10:18.840Z"
   },
   {
    "duration": 9,
    "start_time": "2022-08-20T20:10:18.849Z"
   },
   {
    "duration": 8,
    "start_time": "2022-08-20T20:10:18.860Z"
   },
   {
    "duration": 178,
    "start_time": "2022-08-20T20:10:18.869Z"
   },
   {
    "duration": 121,
    "start_time": "2022-08-20T20:10:19.049Z"
   },
   {
    "duration": 14,
    "start_time": "2022-08-20T20:10:19.172Z"
   },
   {
    "duration": 29,
    "start_time": "2022-08-20T20:10:19.188Z"
   },
   {
    "duration": 193,
    "start_time": "2022-08-20T20:10:19.219Z"
   },
   {
    "duration": 166,
    "start_time": "2022-08-20T20:10:19.414Z"
   },
   {
    "duration": 312,
    "start_time": "2022-08-20T20:10:19.582Z"
   },
   {
    "duration": 194,
    "start_time": "2022-08-20T20:10:19.895Z"
   },
   {
    "duration": 294,
    "start_time": "2022-08-20T20:10:20.091Z"
   },
   {
    "duration": 125,
    "start_time": "2022-08-20T20:10:20.387Z"
   },
   {
    "duration": 111,
    "start_time": "2022-08-20T20:10:20.514Z"
   },
   {
    "duration": 5,
    "start_time": "2022-08-20T20:10:20.626Z"
   },
   {
    "duration": 124,
    "start_time": "2022-08-20T20:10:20.634Z"
   },
   {
    "duration": 5,
    "start_time": "2022-08-20T20:10:20.760Z"
   },
   {
    "duration": 10,
    "start_time": "2022-08-20T20:10:20.767Z"
   },
   {
    "duration": 8,
    "start_time": "2022-08-20T20:10:20.779Z"
   },
   {
    "duration": 170,
    "start_time": "2022-08-20T20:10:20.789Z"
   },
   {
    "duration": 105,
    "start_time": "2022-08-20T20:10:20.960Z"
   },
   {
    "duration": 6,
    "start_time": "2022-08-20T20:10:21.067Z"
   },
   {
    "duration": 38,
    "start_time": "2022-08-20T20:10:21.074Z"
   },
   {
    "duration": 131,
    "start_time": "2022-08-20T20:10:21.114Z"
   },
   {
    "duration": 6,
    "start_time": "2022-08-20T20:10:21.247Z"
   },
   {
    "duration": 55,
    "start_time": "2022-08-20T20:10:21.254Z"
   },
   {
    "duration": 8,
    "start_time": "2022-08-20T20:10:21.311Z"
   },
   {
    "duration": 8,
    "start_time": "2022-08-20T20:10:21.321Z"
   },
   {
    "duration": 9,
    "start_time": "2022-08-20T20:10:21.331Z"
   },
   {
    "duration": 20,
    "start_time": "2022-08-20T20:10:21.341Z"
   },
   {
    "duration": 12,
    "start_time": "2022-08-20T20:10:21.363Z"
   },
   {
    "duration": 1164,
    "start_time": "2022-10-21T06:52:15.166Z"
   },
   {
    "duration": 256,
    "start_time": "2022-10-21T06:52:16.331Z"
   },
   {
    "duration": 16,
    "start_time": "2022-10-21T06:52:16.590Z"
   },
   {
    "duration": 63,
    "start_time": "2022-10-21T06:52:16.609Z"
   },
   {
    "duration": 15,
    "start_time": "2022-10-21T06:52:16.674Z"
   },
   {
    "duration": 36,
    "start_time": "2022-10-21T06:52:16.691Z"
   },
   {
    "duration": 75,
    "start_time": "2022-10-21T06:52:16.729Z"
   },
   {
    "duration": 13,
    "start_time": "2022-10-21T06:52:16.806Z"
   },
   {
    "duration": 24,
    "start_time": "2022-10-21T06:52:16.820Z"
   },
   {
    "duration": 15,
    "start_time": "2022-10-21T06:52:16.848Z"
   },
   {
    "duration": 39,
    "start_time": "2022-10-21T06:52:16.866Z"
   },
   {
    "duration": 23,
    "start_time": "2022-10-21T06:52:16.911Z"
   },
   {
    "duration": 17,
    "start_time": "2022-10-21T06:52:16.936Z"
   },
   {
    "duration": 20,
    "start_time": "2022-10-21T06:52:16.954Z"
   },
   {
    "duration": 12,
    "start_time": "2022-10-21T06:52:16.976Z"
   },
   {
    "duration": 202,
    "start_time": "2022-10-21T06:52:16.990Z"
   },
   {
    "duration": 142,
    "start_time": "2022-10-21T06:52:17.194Z"
   },
   {
    "duration": 18,
    "start_time": "2022-10-21T06:52:17.338Z"
   },
   {
    "duration": 21,
    "start_time": "2022-10-21T06:52:17.357Z"
   },
   {
    "duration": 290,
    "start_time": "2022-10-21T06:52:17.379Z"
   },
   {
    "duration": 203,
    "start_time": "2022-10-21T06:52:17.670Z"
   },
   {
    "duration": 342,
    "start_time": "2022-10-21T06:52:17.874Z"
   },
   {
    "duration": 226,
    "start_time": "2022-10-21T06:52:18.218Z"
   },
   {
    "duration": 311,
    "start_time": "2022-10-21T06:52:18.446Z"
   },
   {
    "duration": 154,
    "start_time": "2022-10-21T06:52:18.759Z"
   },
   {
    "duration": 118,
    "start_time": "2022-10-21T06:52:18.915Z"
   },
   {
    "duration": 5,
    "start_time": "2022-10-21T06:52:19.034Z"
   },
   {
    "duration": 142,
    "start_time": "2022-10-21T06:52:19.043Z"
   },
   {
    "duration": 6,
    "start_time": "2022-10-21T06:52:19.202Z"
   },
   {
    "duration": 29,
    "start_time": "2022-10-21T06:52:19.210Z"
   },
   {
    "duration": 11,
    "start_time": "2022-10-21T06:52:19.241Z"
   },
   {
    "duration": 164,
    "start_time": "2022-10-21T06:52:19.253Z"
   },
   {
    "duration": 119,
    "start_time": "2022-10-21T06:52:19.419Z"
   },
   {
    "duration": 6,
    "start_time": "2022-10-21T06:52:19.539Z"
   },
   {
    "duration": 32,
    "start_time": "2022-10-21T06:52:19.547Z"
   },
   {
    "duration": 224,
    "start_time": "2022-10-21T06:52:19.581Z"
   },
   {
    "duration": 7,
    "start_time": "2022-10-21T06:52:19.814Z"
   },
   {
    "duration": 62,
    "start_time": "2022-10-21T06:52:19.823Z"
   },
   {
    "duration": 19,
    "start_time": "2022-10-21T06:52:19.887Z"
   },
   {
    "duration": 43,
    "start_time": "2022-10-21T06:52:19.908Z"
   },
   {
    "duration": 25,
    "start_time": "2022-10-21T06:52:19.953Z"
   },
   {
    "duration": 42,
    "start_time": "2022-10-21T06:52:19.980Z"
   },
   {
    "duration": 29,
    "start_time": "2022-10-21T06:52:20.024Z"
   },
   {
    "duration": 4,
    "start_time": "2022-10-21T06:55:32.218Z"
   },
   {
    "duration": 102,
    "start_time": "2022-10-21T06:55:32.224Z"
   },
   {
    "duration": 9,
    "start_time": "2022-10-21T06:55:32.328Z"
   },
   {
    "duration": 15,
    "start_time": "2022-10-21T06:55:32.339Z"
   },
   {
    "duration": 10,
    "start_time": "2022-10-21T06:55:32.357Z"
   },
   {
    "duration": 20,
    "start_time": "2022-10-21T06:55:32.369Z"
   },
   {
    "duration": 38,
    "start_time": "2022-10-21T06:55:32.391Z"
   },
   {
    "duration": 10,
    "start_time": "2022-10-21T06:55:32.431Z"
   },
   {
    "duration": 20,
    "start_time": "2022-10-21T06:55:32.444Z"
   },
   {
    "duration": 40,
    "start_time": "2022-10-21T06:55:32.466Z"
   },
   {
    "duration": 20,
    "start_time": "2022-10-21T06:55:32.510Z"
   },
   {
    "duration": 20,
    "start_time": "2022-10-21T06:55:32.532Z"
   },
   {
    "duration": 21,
    "start_time": "2022-10-21T06:55:32.554Z"
   },
   {
    "duration": 21,
    "start_time": "2022-10-21T06:55:32.578Z"
   },
   {
    "duration": 25,
    "start_time": "2022-10-21T06:55:32.601Z"
   },
   {
    "duration": 192,
    "start_time": "2022-10-21T06:55:32.628Z"
   },
   {
    "duration": 143,
    "start_time": "2022-10-21T06:55:32.824Z"
   },
   {
    "duration": 45,
    "start_time": "2022-10-21T06:55:32.969Z"
   },
   {
    "duration": 18,
    "start_time": "2022-10-21T06:55:33.016Z"
   },
   {
    "duration": 212,
    "start_time": "2022-10-21T06:55:33.036Z"
   },
   {
    "duration": 233,
    "start_time": "2022-10-21T06:55:33.250Z"
   },
   {
    "duration": 349,
    "start_time": "2022-10-21T06:55:33.486Z"
   },
   {
    "duration": 244,
    "start_time": "2022-10-21T06:55:33.837Z"
   },
   {
    "duration": 355,
    "start_time": "2022-10-21T06:55:34.083Z"
   },
   {
    "duration": 170,
    "start_time": "2022-10-21T06:55:34.439Z"
   },
   {
    "duration": 129,
    "start_time": "2022-10-21T06:55:34.615Z"
   },
   {
    "duration": 6,
    "start_time": "2022-10-21T06:55:34.746Z"
   },
   {
    "duration": 208,
    "start_time": "2022-10-21T06:55:34.754Z"
   },
   {
    "duration": 5,
    "start_time": "2022-10-21T06:55:34.963Z"
   },
   {
    "duration": 20,
    "start_time": "2022-10-21T06:55:34.971Z"
   },
   {
    "duration": 21,
    "start_time": "2022-10-21T06:55:35.000Z"
   },
   {
    "duration": 109,
    "start_time": "2022-10-21T06:55:35.023Z"
   },
   {
    "duration": 114,
    "start_time": "2022-10-21T06:55:35.134Z"
   },
   {
    "duration": 8,
    "start_time": "2022-10-21T06:55:35.250Z"
   },
   {
    "duration": 57,
    "start_time": "2022-10-21T06:55:35.260Z"
   },
   {
    "duration": 153,
    "start_time": "2022-10-21T06:55:35.319Z"
   },
   {
    "duration": 24,
    "start_time": "2022-10-21T06:55:35.474Z"
   },
   {
    "duration": 28,
    "start_time": "2022-10-21T06:55:35.514Z"
   },
   {
    "duration": 11,
    "start_time": "2022-10-21T06:55:35.544Z"
   },
   {
    "duration": 13,
    "start_time": "2022-10-21T06:55:35.557Z"
   },
   {
    "duration": 30,
    "start_time": "2022-10-21T06:55:35.576Z"
   },
   {
    "duration": 42,
    "start_time": "2022-10-21T06:55:35.608Z"
   },
   {
    "duration": 16,
    "start_time": "2022-10-21T06:55:35.652Z"
   }
  ],
  "kernelspec": {
   "display_name": "Python 3 (ipykernel)",
   "language": "python",
   "name": "python3"
  },
  "language_info": {
   "codemirror_mode": {
    "name": "ipython",
    "version": 3
   },
   "file_extension": ".py",
   "mimetype": "text/x-python",
   "name": "python",
   "nbconvert_exporter": "python",
   "pygments_lexer": "ipython3",
   "version": "3.9.5"
  },
  "toc": {
   "base_numbering": 1,
   "nav_menu": {},
   "number_sections": true,
   "sideBar": true,
   "skip_h1_title": true,
   "title_cell": "Содержание",
   "title_sidebar": "Contents",
   "toc_cell": true,
   "toc_position": {},
   "toc_section_display": true,
   "toc_window_display": false
  }
 },
 "nbformat": 4,
 "nbformat_minor": 2
}

{
 "cells": [
  {
   "cell_type": "markdown",
   "metadata": {
    "toc": true
   },
   "source": [
    "<h1>Содержание<span class=\"tocSkip\"></span></h1>\n",
    "<div class=\"toc\"><ul class=\"toc-item\"><li><span><a href=\"#Обзор-данных\" data-toc-modified-id=\"Обзор-данных-1\"><span class=\"toc-item-num\">1&nbsp;&nbsp;</span>Обзор данных</a></span></li><li><span><a href=\"#Предобработка-данных\" data-toc-modified-id=\"Предобработка-данных-2\"><span class=\"toc-item-num\">2&nbsp;&nbsp;</span>Предобработка данных</a></span><ul class=\"toc-item\"><li><span><a href=\"#Заменим-названия-столбцов-(приведем-к-нижнему-регистру)\" data-toc-modified-id=\"Заменим-названия-столбцов-(приведем-к-нижнему-регистру)-2.1\"><span class=\"toc-item-num\">2.1&nbsp;&nbsp;</span>Заменим названия столбцов (приведем к нижнему регистру)</a></span></li><li><span><a href=\"#Преобразуем-данные-в-нужные-типы.\" data-toc-modified-id=\"Преобразуем-данные-в-нужные-типы.-2.2\"><span class=\"toc-item-num\">2.2&nbsp;&nbsp;</span>Преобразуем данные в нужные типы.</a></span></li><li><span><a href=\"#Обработаем-пропуски-и-дубликаты\" data-toc-modified-id=\"Обработаем-пропуски-и-дубликаты-2.3\"><span class=\"toc-item-num\">2.3&nbsp;&nbsp;</span>Обработаем пропуски и дубликаты</a></span></li><li><span><a href=\"#Посчитаем-суммарные-продажи-во-всех-регионах\" data-toc-modified-id=\"Посчитаем-суммарные-продажи-во-всех-регионах-2.4\"><span class=\"toc-item-num\">2.4&nbsp;&nbsp;</span>Посчитаем суммарные продажи во всех регионах</a></span></li></ul></li><li><span><a href=\"#Исследовательский-анализ\" data-toc-modified-id=\"Исследовательский-анализ-3\"><span class=\"toc-item-num\">3&nbsp;&nbsp;</span>Исследовательский анализ</a></span><ul class=\"toc-item\"><li><span><a href=\"#Посмотрим,-сколько-игр-выпускалось-в-разные-годы.\" data-toc-modified-id=\"Посмотрим,-сколько-игр-выпускалось-в-разные-годы.-3.1\"><span class=\"toc-item-num\">3.1&nbsp;&nbsp;</span>Посмотрим, сколько игр выпускалось в разные годы.</a></span></li><li><span><a href=\"#Посмотрим,-как-менялись-продажи-по-платформам.\" data-toc-modified-id=\"Посмотрим,-как-менялись-продажи-по-платформам.-3.2\"><span class=\"toc-item-num\">3.2&nbsp;&nbsp;</span>Посмотрим, как менялись продажи по платформам.</a></span></li><li><span><a href=\"#Посмотрим-за-какой-характерный-срок-появляются-новые-и-исчезают-старые-платформы?\" data-toc-modified-id=\"Посмотрим-за-какой-характерный-срок-появляются-новые-и-исчезают-старые-платформы?-3.3\"><span class=\"toc-item-num\">3.3&nbsp;&nbsp;</span>Посмотрим за какой характерный срок появляются новые и исчезают старые платформы?</a></span></li><li><span><a href=\"#Возьмем-для-дальнейшего-анализа-данные-за-соответствующий-актуальный-период.\" data-toc-modified-id=\"Возьмем-для-дальнейшего-анализа-данные-за-соответствующий-актуальный-период.-3.4\"><span class=\"toc-item-num\">3.4&nbsp;&nbsp;</span>Возьмем для дальнейшего анализа данные за соответствующий актуальный период.</a></span></li><li><span><a href=\"#Посмотрим-какие-платформы-лидируют-по-продажам,-растут-или-падают\" data-toc-modified-id=\"Посмотрим-какие-платформы-лидируют-по-продажам,-растут-или-падают-3.5\"><span class=\"toc-item-num\">3.5&nbsp;&nbsp;</span>Посмотрим какие платформы лидируют по продажам, растут или падают</a></span></li><li><span><a href=\"#Посмотрим,-как-влияют-на-продажи-внутри-одной-популярной-платформы-отзывы-пользователей-и-критиков.\" data-toc-modified-id=\"Посмотрим,-как-влияют-на-продажи-внутри-одной-популярной-платформы-отзывы-пользователей-и-критиков.-3.6\"><span class=\"toc-item-num\">3.6&nbsp;&nbsp;</span>Посмотрим, как влияют на продажи внутри одной популярной платформы отзывы пользователей и критиков.</a></span></li><li><span><a href=\"#Посмотрим-на-общее-распределение-игр-по-жанрам\" data-toc-modified-id=\"Посмотрим-на-общее-распределение-игр-по-жанрам-3.7\"><span class=\"toc-item-num\">3.7&nbsp;&nbsp;</span>Посмотрим на общее распределение игр по жанрам</a></span></li></ul></li><li><span><a href=\"#Составим-портрет-пользователя-каждого-региона\" data-toc-modified-id=\"Составим-портрет-пользователя-каждого-региона-4\"><span class=\"toc-item-num\">4&nbsp;&nbsp;</span>Составим портрет пользователя каждого региона</a></span></li><li><span><a href=\"#Проверим-гипотезы\" data-toc-modified-id=\"Проверим-гипотезы-5\"><span class=\"toc-item-num\">5&nbsp;&nbsp;</span>Проверим гипотезы</a></span><ul class=\"toc-item\"><li><span><a href=\"#Средние-пользовательские-рейтинги-платформ-Xbox-One-и-PC-одинаковые\" data-toc-modified-id=\"Средние-пользовательские-рейтинги-платформ-Xbox-One-и-PC-одинаковые-5.1\"><span class=\"toc-item-num\">5.1&nbsp;&nbsp;</span>Средние пользовательские рейтинги платформ Xbox One и PC одинаковые</a></span></li><li><span><a href=\"#Средние-пользовательские-рейтинги-жанров-Action--и-Sports--разные\" data-toc-modified-id=\"Средние-пользовательские-рейтинги-жанров-Action--и-Sports--разные-5.2\"><span class=\"toc-item-num\">5.2&nbsp;&nbsp;</span>Средние пользовательские рейтинги жанров Action  и Sports  разные</a></span></li></ul></li></ul></div>"
   ]
  },
  
  {
   "cell_type": "markdown",
   "metadata": {},
   "source": [
    "##  Обзор данных"
   ]
  },
  {
   "cell_type": "code",
   "execution_count": 57,
   "metadata": {
    "scrolled": true
   },
   "outputs": [
    {
     "data": {
      "text/html": [
       "<div>\n",
       "<style scoped>\n",
       "    .dataframe tbody tr th:only-of-type {\n",
       "        vertical-align: middle;\n",
       "    }\n",
       "\n",
       "    .dataframe tbody tr th {\n",
       "        vertical-align: top;\n",
       "    }\n",
       "\n",
       "    .dataframe thead th {\n",
       "        text-align: right;\n",
       "    }\n",
       "</style>\n",
       "<table border=\"1\" class=\"dataframe\">\n",
       "  <thead>\n",
       "    <tr style=\"text-align: right;\">\n",
       "      <th></th>\n",
       "      <th>Name</th>\n",
       "      <th>Platform</th>\n",
       "      <th>Year_of_Release</th>\n",
       "      <th>Genre</th>\n",
       "      <th>NA_sales</th>\n",
       "      <th>EU_sales</th>\n",
       "      <th>JP_sales</th>\n",
       "      <th>Other_sales</th>\n",
       "      <th>Critic_Score</th>\n",
       "      <th>User_Score</th>\n",
       "      <th>Rating</th>\n",
       "    </tr>\n",
       "  </thead>\n",
       "  <tbody>\n",
       "    <tr>\n",
       "      <th>0</th>\n",
       "      <td>Wii Sports</td>\n",
       "      <td>Wii</td>\n",
       "      <td>2006.0</td>\n",
       "      <td>Sports</td>\n",
       "      <td>41.36</td>\n",
       "      <td>28.96</td>\n",
       "      <td>3.77</td>\n",
       "      <td>8.45</td>\n",
       "      <td>76.0</td>\n",
       "      <td>8</td>\n",
       "      <td>E</td>\n",
       "    </tr>\n",
       "    <tr>\n",
       "      <th>1</th>\n",
       "      <td>Super Mario Bros.</td>\n",
       "      <td>NES</td>\n",
       "      <td>1985.0</td>\n",
       "      <td>Platform</td>\n",
       "      <td>29.08</td>\n",
       "      <td>3.58</td>\n",
       "      <td>6.81</td>\n",
       "      <td>0.77</td>\n",
       "      <td>NaN</td>\n",
       "      <td>NaN</td>\n",
       "      <td>NaN</td>\n",
       "    </tr>\n",
       "    <tr>\n",
       "      <th>2</th>\n",
       "      <td>Mario Kart Wii</td>\n",
       "      <td>Wii</td>\n",
       "      <td>2008.0</td>\n",
       "      <td>Racing</td>\n",
       "      <td>15.68</td>\n",
       "      <td>12.76</td>\n",
       "      <td>3.79</td>\n",
       "      <td>3.29</td>\n",
       "      <td>82.0</td>\n",
       "      <td>8.3</td>\n",
       "      <td>E</td>\n",
       "    </tr>\n",
       "    <tr>\n",
       "      <th>3</th>\n",
       "      <td>Wii Sports Resort</td>\n",
       "      <td>Wii</td>\n",
       "      <td>2009.0</td>\n",
       "      <td>Sports</td>\n",
       "      <td>15.61</td>\n",
       "      <td>10.93</td>\n",
       "      <td>3.28</td>\n",
       "      <td>2.95</td>\n",
       "      <td>80.0</td>\n",
       "      <td>8</td>\n",
       "      <td>E</td>\n",
       "    </tr>\n",
       "    <tr>\n",
       "      <th>4</th>\n",
       "      <td>Pokemon Red/Pokemon Blue</td>\n",
       "      <td>GB</td>\n",
       "      <td>1996.0</td>\n",
       "      <td>Role-Playing</td>\n",
       "      <td>11.27</td>\n",
       "      <td>8.89</td>\n",
       "      <td>10.22</td>\n",
       "      <td>1.00</td>\n",
       "      <td>NaN</td>\n",
       "      <td>NaN</td>\n",
       "      <td>NaN</td>\n",
       "    </tr>\n",
       "    <tr>\n",
       "      <th>...</th>\n",
       "      <td>...</td>\n",
       "      <td>...</td>\n",
       "      <td>...</td>\n",
       "      <td>...</td>\n",
       "      <td>...</td>\n",
       "      <td>...</td>\n",
       "      <td>...</td>\n",
       "      <td>...</td>\n",
       "      <td>...</td>\n",
       "      <td>...</td>\n",
       "      <td>...</td>\n",
       "    </tr>\n",
       "    <tr>\n",
       "      <th>16710</th>\n",
       "      <td>Samurai Warriors: Sanada Maru</td>\n",
       "      <td>PS3</td>\n",
       "      <td>2016.0</td>\n",
       "      <td>Action</td>\n",
       "      <td>0.00</td>\n",
       "      <td>0.00</td>\n",
       "      <td>0.01</td>\n",
       "      <td>0.00</td>\n",
       "      <td>NaN</td>\n",
       "      <td>NaN</td>\n",
       "      <td>NaN</td>\n",
       "    </tr>\n",
       "    <tr>\n",
       "      <th>16711</th>\n",
       "      <td>LMA Manager 2007</td>\n",
       "      <td>X360</td>\n",
       "      <td>2006.0</td>\n",
       "      <td>Sports</td>\n",
       "      <td>0.00</td>\n",
       "      <td>0.01</td>\n",
       "      <td>0.00</td>\n",
       "      <td>0.00</td>\n",
       "      <td>NaN</td>\n",
       "      <td>NaN</td>\n",
       "      <td>NaN</td>\n",
       "    </tr>\n",
       "    <tr>\n",
       "      <th>16712</th>\n",
       "      <td>Haitaka no Psychedelica</td>\n",
       "      <td>PSV</td>\n",
       "      <td>2016.0</td>\n",
       "      <td>Adventure</td>\n",
       "      <td>0.00</td>\n",
       "      <td>0.00</td>\n",
       "      <td>0.01</td>\n",
       "      <td>0.00</td>\n",
       "      <td>NaN</td>\n",
       "      <td>NaN</td>\n",
       "      <td>NaN</td>\n",
       "    </tr>\n",
       "    <tr>\n",
       "      <th>16713</th>\n",
       "      <td>Spirits &amp; Spells</td>\n",
       "      <td>GBA</td>\n",
       "      <td>2003.0</td>\n",
       "      <td>Platform</td>\n",
       "      <td>0.01</td>\n",
       "      <td>0.00</td>\n",
       "      <td>0.00</td>\n",
       "      <td>0.00</td>\n",
       "      <td>NaN</td>\n",
       "      <td>NaN</td>\n",
       "      <td>NaN</td>\n",
       "    </tr>\n",
       "    <tr>\n",
       "      <th>16714</th>\n",
       "      <td>Winning Post 8 2016</td>\n",
       "      <td>PSV</td>\n",
       "      <td>2016.0</td>\n",
       "      <td>Simulation</td>\n",
       "      <td>0.00</td>\n",
       "      <td>0.00</td>\n",
       "      <td>0.01</td>\n",
       "      <td>0.00</td>\n",
       "      <td>NaN</td>\n",
       "      <td>NaN</td>\n",
       "      <td>NaN</td>\n",
       "    </tr>\n",
       "  </tbody>\n",
       "</table>\n",
       "<p>16715 rows × 11 columns</p>\n",
       "</div>"
      ],
      "text/plain": [
       "                                Name Platform  Year_of_Release         Genre  \\\n",
       "0                         Wii Sports      Wii           2006.0        Sports   \n",
       "1                  Super Mario Bros.      NES           1985.0      Platform   \n",
       "2                     Mario Kart Wii      Wii           2008.0        Racing   \n",
       "3                  Wii Sports Resort      Wii           2009.0        Sports   \n",
       "4           Pokemon Red/Pokemon Blue       GB           1996.0  Role-Playing   \n",
       "...                              ...      ...              ...           ...   \n",
       "16710  Samurai Warriors: Sanada Maru      PS3           2016.0        Action   \n",
       "16711               LMA Manager 2007     X360           2006.0        Sports   \n",
       "16712        Haitaka no Psychedelica      PSV           2016.0     Adventure   \n",
       "16713               Spirits & Spells      GBA           2003.0      Platform   \n",
       "16714            Winning Post 8 2016      PSV           2016.0    Simulation   \n",
       "\n",
       "       NA_sales  EU_sales  JP_sales  Other_sales  Critic_Score User_Score  \\\n",
       "0         41.36     28.96      3.77         8.45          76.0          8   \n",
       "1         29.08      3.58      6.81         0.77           NaN        NaN   \n",
       "2         15.68     12.76      3.79         3.29          82.0        8.3   \n",
       "3         15.61     10.93      3.28         2.95          80.0          8   \n",
       "4         11.27      8.89     10.22         1.00           NaN        NaN   \n",
       "...         ...       ...       ...          ...           ...        ...   \n",
       "16710      0.00      0.00      0.01         0.00           NaN        NaN   \n",
       "16711      0.00      0.01      0.00         0.00           NaN        NaN   \n",
       "16712      0.00      0.00      0.01         0.00           NaN        NaN   \n",
       "16713      0.01      0.00      0.00         0.00           NaN        NaN   \n",
       "16714      0.00      0.00      0.01         0.00           NaN        NaN   \n",
       "\n",
       "      Rating  \n",
       "0          E  \n",
       "1        NaN  \n",
       "2          E  \n",
       "3          E  \n",
       "4        NaN  \n",
       "...      ...  \n",
       "16710    NaN  \n",
       "16711    NaN  \n",
       "16712    NaN  \n",
       "16713    NaN  \n",
       "16714    NaN  \n",
       "\n",
       "[16715 rows x 11 columns]"
      ]
     },
     "execution_count": 57,
     "metadata": {},
     "output_type": "execute_result"
    }
   ],
   "source": [
    "#сразу открываем нужные библиотеки\n",
    "import pandas as pd\n",
    "import numpy as np\n",
    "import seaborn as sns\n",
    "from scipy import stats as st\n",
    "import matplotlib.pyplot as plt \n",
    "import warnings\n",
    "warnings.filterwarnings('ignore')\n",
    "\n",
    "#открываем датасет так, чтобы всегда показывались все столбцы\n",
    "pd.set_option('display.max_columns', None) \n",
    "games = pd.read_csv('/datasets/games.csv',sep=',')\n",
    "games"
   ]
  },
  {
   "cell_type": "code",
   "execution_count": 58,
   "metadata": {
    "scrolled": true
   },
   "outputs": [
    {
     "name": "stdout",
     "output_type": "stream",
     "text": [
      "<class 'pandas.core.frame.DataFrame'>\n",
      "RangeIndex: 16715 entries, 0 to 16714\n",
      "Data columns (total 11 columns):\n",
      " #   Column           Non-Null Count  Dtype  \n",
      "---  ------           --------------  -----  \n",
      " 0   Name             16713 non-null  object \n",
      " 1   Platform         16715 non-null  object \n",
      " 2   Year_of_Release  16446 non-null  float64\n",
      " 3   Genre            16713 non-null  object \n",
      " 4   NA_sales         16715 non-null  float64\n",
      " 5   EU_sales         16715 non-null  float64\n",
      " 6   JP_sales         16715 non-null  float64\n",
      " 7   Other_sales      16715 non-null  float64\n",
      " 8   Critic_Score     8137 non-null   float64\n",
      " 9   User_Score       10014 non-null  object \n",
      " 10  Rating           9949 non-null   object \n",
      "dtypes: float64(6), object(5)\n",
      "memory usage: 1.4+ MB\n"
     ]
    }
   ],
   "source": [
    "#посмотрим общую информацию о таблице\n",
    "games.info()"
   ]
  },
  {
   "cell_type": "markdown",
   "metadata": {},
   "source": [
    "В данных есть нужные для исследования метрики, так же есть пропуски."
   ]
  },
  {
   "cell_type": "markdown",
   "metadata": {},
   "source": [
    "## Предобработка данных"
   ]
  },
  {
   "cell_type": "markdown",
   "metadata": {},
   "source": [
    "### Заменим названия столбцов (приведем к нижнему регистру)"
   ]
  },
  {
   "cell_type": "code",
   "execution_count": 59,
   "metadata": {
    "scrolled": true
   },
   "outputs": [
    {
     "data": {
      "text/html": [
       "<div>\n",
       "<style scoped>\n",
       "    .dataframe tbody tr th:only-of-type {\n",
       "        vertical-align: middle;\n",
       "    }\n",
       "\n",
       "    .dataframe tbody tr th {\n",
       "        vertical-align: top;\n",
       "    }\n",
       "\n",
       "    .dataframe thead th {\n",
       "        text-align: right;\n",
       "    }\n",
       "</style>\n",
       "<table border=\"1\" class=\"dataframe\">\n",
       "  <thead>\n",
       "    <tr style=\"text-align: right;\">\n",
       "      <th></th>\n",
       "      <th>name</th>\n",
       "      <th>platform</th>\n",
       "      <th>year_of_release</th>\n",
       "      <th>genre</th>\n",
       "      <th>na_sales</th>\n",
       "      <th>eu_sales</th>\n",
       "      <th>jp_sales</th>\n",
       "      <th>other_sales</th>\n",
       "      <th>critic_score</th>\n",
       "      <th>user_score</th>\n",
       "      <th>rating</th>\n",
       "    </tr>\n",
       "  </thead>\n",
       "  <tbody>\n",
       "    <tr>\n",
       "      <th>0</th>\n",
       "      <td>Wii Sports</td>\n",
       "      <td>Wii</td>\n",
       "      <td>2006.0</td>\n",
       "      <td>Sports</td>\n",
       "      <td>41.36</td>\n",
       "      <td>28.96</td>\n",
       "      <td>3.77</td>\n",
       "      <td>8.45</td>\n",
       "      <td>76.0</td>\n",
       "      <td>8</td>\n",
       "      <td>E</td>\n",
       "    </tr>\n",
       "    <tr>\n",
       "      <th>1</th>\n",
       "      <td>Super Mario Bros.</td>\n",
       "      <td>NES</td>\n",
       "      <td>1985.0</td>\n",
       "      <td>Platform</td>\n",
       "      <td>29.08</td>\n",
       "      <td>3.58</td>\n",
       "      <td>6.81</td>\n",
       "      <td>0.77</td>\n",
       "      <td>NaN</td>\n",
       "      <td>NaN</td>\n",
       "      <td>NaN</td>\n",
       "    </tr>\n",
       "    <tr>\n",
       "      <th>2</th>\n",
       "      <td>Mario Kart Wii</td>\n",
       "      <td>Wii</td>\n",
       "      <td>2008.0</td>\n",
       "      <td>Racing</td>\n",
       "      <td>15.68</td>\n",
       "      <td>12.76</td>\n",
       "      <td>3.79</td>\n",
       "      <td>3.29</td>\n",
       "      <td>82.0</td>\n",
       "      <td>8.3</td>\n",
       "      <td>E</td>\n",
       "    </tr>\n",
       "    <tr>\n",
       "      <th>3</th>\n",
       "      <td>Wii Sports Resort</td>\n",
       "      <td>Wii</td>\n",
       "      <td>2009.0</td>\n",
       "      <td>Sports</td>\n",
       "      <td>15.61</td>\n",
       "      <td>10.93</td>\n",
       "      <td>3.28</td>\n",
       "      <td>2.95</td>\n",
       "      <td>80.0</td>\n",
       "      <td>8</td>\n",
       "      <td>E</td>\n",
       "    </tr>\n",
       "    <tr>\n",
       "      <th>4</th>\n",
       "      <td>Pokemon Red/Pokemon Blue</td>\n",
       "      <td>GB</td>\n",
       "      <td>1996.0</td>\n",
       "      <td>Role-Playing</td>\n",
       "      <td>11.27</td>\n",
       "      <td>8.89</td>\n",
       "      <td>10.22</td>\n",
       "      <td>1.00</td>\n",
       "      <td>NaN</td>\n",
       "      <td>NaN</td>\n",
       "      <td>NaN</td>\n",
       "    </tr>\n",
       "    <tr>\n",
       "      <th>5</th>\n",
       "      <td>Tetris</td>\n",
       "      <td>GB</td>\n",
       "      <td>1989.0</td>\n",
       "      <td>Puzzle</td>\n",
       "      <td>23.20</td>\n",
       "      <td>2.26</td>\n",
       "      <td>4.22</td>\n",
       "      <td>0.58</td>\n",
       "      <td>NaN</td>\n",
       "      <td>NaN</td>\n",
       "      <td>NaN</td>\n",
       "    </tr>\n",
       "    <tr>\n",
       "      <th>6</th>\n",
       "      <td>New Super Mario Bros.</td>\n",
       "      <td>DS</td>\n",
       "      <td>2006.0</td>\n",
       "      <td>Platform</td>\n",
       "      <td>11.28</td>\n",
       "      <td>9.14</td>\n",
       "      <td>6.50</td>\n",
       "      <td>2.88</td>\n",
       "      <td>89.0</td>\n",
       "      <td>8.5</td>\n",
       "      <td>E</td>\n",
       "    </tr>\n",
       "    <tr>\n",
       "      <th>7</th>\n",
       "      <td>Wii Play</td>\n",
       "      <td>Wii</td>\n",
       "      <td>2006.0</td>\n",
       "      <td>Misc</td>\n",
       "      <td>13.96</td>\n",
       "      <td>9.18</td>\n",
       "      <td>2.93</td>\n",
       "      <td>2.84</td>\n",
       "      <td>58.0</td>\n",
       "      <td>6.6</td>\n",
       "      <td>E</td>\n",
       "    </tr>\n",
       "    <tr>\n",
       "      <th>8</th>\n",
       "      <td>New Super Mario Bros. Wii</td>\n",
       "      <td>Wii</td>\n",
       "      <td>2009.0</td>\n",
       "      <td>Platform</td>\n",
       "      <td>14.44</td>\n",
       "      <td>6.94</td>\n",
       "      <td>4.70</td>\n",
       "      <td>2.24</td>\n",
       "      <td>87.0</td>\n",
       "      <td>8.4</td>\n",
       "      <td>E</td>\n",
       "    </tr>\n",
       "    <tr>\n",
       "      <th>9</th>\n",
       "      <td>Duck Hunt</td>\n",
       "      <td>NES</td>\n",
       "      <td>1984.0</td>\n",
       "      <td>Shooter</td>\n",
       "      <td>26.93</td>\n",
       "      <td>0.63</td>\n",
       "      <td>0.28</td>\n",
       "      <td>0.47</td>\n",
       "      <td>NaN</td>\n",
       "      <td>NaN</td>\n",
       "      <td>NaN</td>\n",
       "    </tr>\n",
       "    <tr>\n",
       "      <th>10</th>\n",
       "      <td>Nintendogs</td>\n",
       "      <td>DS</td>\n",
       "      <td>2005.0</td>\n",
       "      <td>Simulation</td>\n",
       "      <td>9.05</td>\n",
       "      <td>10.95</td>\n",
       "      <td>1.93</td>\n",
       "      <td>2.74</td>\n",
       "      <td>NaN</td>\n",
       "      <td>NaN</td>\n",
       "      <td>NaN</td>\n",
       "    </tr>\n",
       "    <tr>\n",
       "      <th>11</th>\n",
       "      <td>Mario Kart DS</td>\n",
       "      <td>DS</td>\n",
       "      <td>2005.0</td>\n",
       "      <td>Racing</td>\n",
       "      <td>9.71</td>\n",
       "      <td>7.47</td>\n",
       "      <td>4.13</td>\n",
       "      <td>1.90</td>\n",
       "      <td>91.0</td>\n",
       "      <td>8.6</td>\n",
       "      <td>E</td>\n",
       "    </tr>\n",
       "    <tr>\n",
       "      <th>12</th>\n",
       "      <td>Pokemon Gold/Pokemon Silver</td>\n",
       "      <td>GB</td>\n",
       "      <td>1999.0</td>\n",
       "      <td>Role-Playing</td>\n",
       "      <td>9.00</td>\n",
       "      <td>6.18</td>\n",
       "      <td>7.20</td>\n",
       "      <td>0.71</td>\n",
       "      <td>NaN</td>\n",
       "      <td>NaN</td>\n",
       "      <td>NaN</td>\n",
       "    </tr>\n",
       "    <tr>\n",
       "      <th>13</th>\n",
       "      <td>Wii Fit</td>\n",
       "      <td>Wii</td>\n",
       "      <td>2007.0</td>\n",
       "      <td>Sports</td>\n",
       "      <td>8.92</td>\n",
       "      <td>8.03</td>\n",
       "      <td>3.60</td>\n",
       "      <td>2.15</td>\n",
       "      <td>80.0</td>\n",
       "      <td>7.7</td>\n",
       "      <td>E</td>\n",
       "    </tr>\n",
       "    <tr>\n",
       "      <th>14</th>\n",
       "      <td>Kinect Adventures!</td>\n",
       "      <td>X360</td>\n",
       "      <td>2010.0</td>\n",
       "      <td>Misc</td>\n",
       "      <td>15.00</td>\n",
       "      <td>4.89</td>\n",
       "      <td>0.24</td>\n",
       "      <td>1.69</td>\n",
       "      <td>61.0</td>\n",
       "      <td>6.3</td>\n",
       "      <td>E</td>\n",
       "    </tr>\n",
       "    <tr>\n",
       "      <th>15</th>\n",
       "      <td>Wii Fit Plus</td>\n",
       "      <td>Wii</td>\n",
       "      <td>2009.0</td>\n",
       "      <td>Sports</td>\n",
       "      <td>9.01</td>\n",
       "      <td>8.49</td>\n",
       "      <td>2.53</td>\n",
       "      <td>1.77</td>\n",
       "      <td>80.0</td>\n",
       "      <td>7.4</td>\n",
       "      <td>E</td>\n",
       "    </tr>\n",
       "    <tr>\n",
       "      <th>16</th>\n",
       "      <td>Grand Theft Auto V</td>\n",
       "      <td>PS3</td>\n",
       "      <td>2013.0</td>\n",
       "      <td>Action</td>\n",
       "      <td>7.02</td>\n",
       "      <td>9.09</td>\n",
       "      <td>0.98</td>\n",
       "      <td>3.96</td>\n",
       "      <td>97.0</td>\n",
       "      <td>8.2</td>\n",
       "      <td>M</td>\n",
       "    </tr>\n",
       "    <tr>\n",
       "      <th>17</th>\n",
       "      <td>Grand Theft Auto: San Andreas</td>\n",
       "      <td>PS2</td>\n",
       "      <td>2004.0</td>\n",
       "      <td>Action</td>\n",
       "      <td>9.43</td>\n",
       "      <td>0.40</td>\n",
       "      <td>0.41</td>\n",
       "      <td>10.57</td>\n",
       "      <td>95.0</td>\n",
       "      <td>9</td>\n",
       "      <td>M</td>\n",
       "    </tr>\n",
       "    <tr>\n",
       "      <th>18</th>\n",
       "      <td>Super Mario World</td>\n",
       "      <td>SNES</td>\n",
       "      <td>1990.0</td>\n",
       "      <td>Platform</td>\n",
       "      <td>12.78</td>\n",
       "      <td>3.75</td>\n",
       "      <td>3.54</td>\n",
       "      <td>0.55</td>\n",
       "      <td>NaN</td>\n",
       "      <td>NaN</td>\n",
       "      <td>NaN</td>\n",
       "    </tr>\n",
       "    <tr>\n",
       "      <th>19</th>\n",
       "      <td>Brain Age: Train Your Brain in Minutes a Day</td>\n",
       "      <td>DS</td>\n",
       "      <td>2005.0</td>\n",
       "      <td>Misc</td>\n",
       "      <td>4.74</td>\n",
       "      <td>9.20</td>\n",
       "      <td>4.16</td>\n",
       "      <td>2.04</td>\n",
       "      <td>77.0</td>\n",
       "      <td>7.9</td>\n",
       "      <td>E</td>\n",
       "    </tr>\n",
       "    <tr>\n",
       "      <th>20</th>\n",
       "      <td>Pokemon Diamond/Pokemon Pearl</td>\n",
       "      <td>DS</td>\n",
       "      <td>2006.0</td>\n",
       "      <td>Role-Playing</td>\n",
       "      <td>6.38</td>\n",
       "      <td>4.46</td>\n",
       "      <td>6.04</td>\n",
       "      <td>1.36</td>\n",
       "      <td>NaN</td>\n",
       "      <td>NaN</td>\n",
       "      <td>NaN</td>\n",
       "    </tr>\n",
       "    <tr>\n",
       "      <th>21</th>\n",
       "      <td>Super Mario Land</td>\n",
       "      <td>GB</td>\n",
       "      <td>1989.0</td>\n",
       "      <td>Platform</td>\n",
       "      <td>10.83</td>\n",
       "      <td>2.71</td>\n",
       "      <td>4.18</td>\n",
       "      <td>0.42</td>\n",
       "      <td>NaN</td>\n",
       "      <td>NaN</td>\n",
       "      <td>NaN</td>\n",
       "    </tr>\n",
       "    <tr>\n",
       "      <th>22</th>\n",
       "      <td>Super Mario Bros. 3</td>\n",
       "      <td>NES</td>\n",
       "      <td>1988.0</td>\n",
       "      <td>Platform</td>\n",
       "      <td>9.54</td>\n",
       "      <td>3.44</td>\n",
       "      <td>3.84</td>\n",
       "      <td>0.46</td>\n",
       "      <td>NaN</td>\n",
       "      <td>NaN</td>\n",
       "      <td>NaN</td>\n",
       "    </tr>\n",
       "    <tr>\n",
       "      <th>23</th>\n",
       "      <td>Grand Theft Auto V</td>\n",
       "      <td>X360</td>\n",
       "      <td>2013.0</td>\n",
       "      <td>Action</td>\n",
       "      <td>9.66</td>\n",
       "      <td>5.14</td>\n",
       "      <td>0.06</td>\n",
       "      <td>1.41</td>\n",
       "      <td>97.0</td>\n",
       "      <td>8.1</td>\n",
       "      <td>M</td>\n",
       "    </tr>\n",
       "    <tr>\n",
       "      <th>24</th>\n",
       "      <td>Grand Theft Auto: Vice City</td>\n",
       "      <td>PS2</td>\n",
       "      <td>2002.0</td>\n",
       "      <td>Action</td>\n",
       "      <td>8.41</td>\n",
       "      <td>5.49</td>\n",
       "      <td>0.47</td>\n",
       "      <td>1.78</td>\n",
       "      <td>95.0</td>\n",
       "      <td>8.7</td>\n",
       "      <td>M</td>\n",
       "    </tr>\n",
       "  </tbody>\n",
       "</table>\n",
       "</div>"
      ],
      "text/plain": [
       "                                            name platform  year_of_release  \\\n",
       "0                                     Wii Sports      Wii           2006.0   \n",
       "1                              Super Mario Bros.      NES           1985.0   \n",
       "2                                 Mario Kart Wii      Wii           2008.0   \n",
       "3                              Wii Sports Resort      Wii           2009.0   \n",
       "4                       Pokemon Red/Pokemon Blue       GB           1996.0   \n",
       "5                                         Tetris       GB           1989.0   \n",
       "6                          New Super Mario Bros.       DS           2006.0   \n",
       "7                                       Wii Play      Wii           2006.0   \n",
       "8                      New Super Mario Bros. Wii      Wii           2009.0   \n",
       "9                                      Duck Hunt      NES           1984.0   \n",
       "10                                    Nintendogs       DS           2005.0   \n",
       "11                                 Mario Kart DS       DS           2005.0   \n",
       "12                   Pokemon Gold/Pokemon Silver       GB           1999.0   \n",
       "13                                       Wii Fit      Wii           2007.0   \n",
       "14                            Kinect Adventures!     X360           2010.0   \n",
       "15                                  Wii Fit Plus      Wii           2009.0   \n",
       "16                            Grand Theft Auto V      PS3           2013.0   \n",
       "17                 Grand Theft Auto: San Andreas      PS2           2004.0   \n",
       "18                             Super Mario World     SNES           1990.0   \n",
       "19  Brain Age: Train Your Brain in Minutes a Day       DS           2005.0   \n",
       "20                 Pokemon Diamond/Pokemon Pearl       DS           2006.0   \n",
       "21                              Super Mario Land       GB           1989.0   \n",
       "22                           Super Mario Bros. 3      NES           1988.0   \n",
       "23                            Grand Theft Auto V     X360           2013.0   \n",
       "24                   Grand Theft Auto: Vice City      PS2           2002.0   \n",
       "\n",
       "           genre  na_sales  eu_sales  jp_sales  other_sales  critic_score  \\\n",
       "0         Sports     41.36     28.96      3.77         8.45          76.0   \n",
       "1       Platform     29.08      3.58      6.81         0.77           NaN   \n",
       "2         Racing     15.68     12.76      3.79         3.29          82.0   \n",
       "3         Sports     15.61     10.93      3.28         2.95          80.0   \n",
       "4   Role-Playing     11.27      8.89     10.22         1.00           NaN   \n",
       "5         Puzzle     23.20      2.26      4.22         0.58           NaN   \n",
       "6       Platform     11.28      9.14      6.50         2.88          89.0   \n",
       "7           Misc     13.96      9.18      2.93         2.84          58.0   \n",
       "8       Platform     14.44      6.94      4.70         2.24          87.0   \n",
       "9        Shooter     26.93      0.63      0.28         0.47           NaN   \n",
       "10    Simulation      9.05     10.95      1.93         2.74           NaN   \n",
       "11        Racing      9.71      7.47      4.13         1.90          91.0   \n",
       "12  Role-Playing      9.00      6.18      7.20         0.71           NaN   \n",
       "13        Sports      8.92      8.03      3.60         2.15          80.0   \n",
       "14          Misc     15.00      4.89      0.24         1.69          61.0   \n",
       "15        Sports      9.01      8.49      2.53         1.77          80.0   \n",
       "16        Action      7.02      9.09      0.98         3.96          97.0   \n",
       "17        Action      9.43      0.40      0.41        10.57          95.0   \n",
       "18      Platform     12.78      3.75      3.54         0.55           NaN   \n",
       "19          Misc      4.74      9.20      4.16         2.04          77.0   \n",
       "20  Role-Playing      6.38      4.46      6.04         1.36           NaN   \n",
       "21      Platform     10.83      2.71      4.18         0.42           NaN   \n",
       "22      Platform      9.54      3.44      3.84         0.46           NaN   \n",
       "23        Action      9.66      5.14      0.06         1.41          97.0   \n",
       "24        Action      8.41      5.49      0.47         1.78          95.0   \n",
       "\n",
       "   user_score rating  \n",
       "0           8      E  \n",
       "1         NaN    NaN  \n",
       "2         8.3      E  \n",
       "3           8      E  \n",
       "4         NaN    NaN  \n",
       "5         NaN    NaN  \n",
       "6         8.5      E  \n",
       "7         6.6      E  \n",
       "8         8.4      E  \n",
       "9         NaN    NaN  \n",
       "10        NaN    NaN  \n",
       "11        8.6      E  \n",
       "12        NaN    NaN  \n",
       "13        7.7      E  \n",
       "14        6.3      E  \n",
       "15        7.4      E  \n",
       "16        8.2      M  \n",
       "17          9      M  \n",
       "18        NaN    NaN  \n",
       "19        7.9      E  \n",
       "20        NaN    NaN  \n",
       "21        NaN    NaN  \n",
       "22        NaN    NaN  \n",
       "23        8.1      M  \n",
       "24        8.7      M  "
      ]
     },
     "execution_count": 59,
     "metadata": {},
     "output_type": "execute_result"
    }
   ],
   "source": [
    "games.columns = games.columns.str.lower()\n",
    "\n",
    "games.head(25)"
   ]
  },
  {
   "cell_type": "markdown",
   "metadata": {},
   "source": [
    "### Преобразуем данные в нужные типы. \n"
   ]
  },
  {
   "cell_type": "code",
   "execution_count": 60,
   "metadata": {
    "scrolled": false
   },
   "outputs": [
    {
     "name": "stdout",
     "output_type": "stream",
     "text": [
      "<class 'pandas.core.frame.DataFrame'>\n",
      "RangeIndex: 16715 entries, 0 to 16714\n",
      "Data columns (total 11 columns):\n",
      " #   Column           Non-Null Count  Dtype  \n",
      "---  ------           --------------  -----  \n",
      " 0   name             16713 non-null  object \n",
      " 1   platform         16715 non-null  object \n",
      " 2   year_of_release  16446 non-null  float64\n",
      " 3   genre            16713 non-null  object \n",
      " 4   na_sales         16715 non-null  float64\n",
      " 5   eu_sales         16715 non-null  float64\n",
      " 6   jp_sales         16715 non-null  float64\n",
      " 7   other_sales      16715 non-null  float64\n",
      " 8   critic_score     8137 non-null   float64\n",
      " 9   user_score       10014 non-null  object \n",
      " 10  rating           9949 non-null   object \n",
      "dtypes: float64(6), object(5)\n",
      "memory usage: 1.4+ MB\n"
     ]
    }
   ],
   "source": [
    "#посмотрим какие форматы у нас есть на данный момент\n",
    "games.info()"
   ]
  },
  {
   "cell_type": "markdown",
   "metadata": {},
   "source": [
    "Нам нужно преобразовать типы данных следубщим образом:\n",
    "- year_of_release  - int (годы целым числом)\n",
    "\n",
    "- user_score - float (рейтинг пользовательский считается по 10 балльной шкале и является нецелым числом)"
   ]
  },
  {
   "cell_type": "code",
   "execution_count": 61,
   "metadata": {
    "scrolled": true
   },
   "outputs": [
    {
     "data": {
      "text/plain": [
       "array(['8', nan, '8.3', '8.5', '6.6', '8.4', '8.6', '7.7', '6.3', '7.4',\n",
       "       '8.2', '9', '7.9', '8.1', '8.7', '7.1', '3.4', '5.3', '4.8', '3.2',\n",
       "       '8.9', '6.4', '7.8', '7.5', '2.6', '7.2', '9.2', '7', '7.3', '4.3',\n",
       "       '7.6', '5.7', '5', '9.1', '6.5', 'tbd', '8.8', '6.9', '9.4', '6.8',\n",
       "       '6.1', '6.7', '5.4', '4', '4.9', '4.5', '9.3', '6.2', '4.2', '6',\n",
       "       '3.7', '4.1', '5.8', '5.6', '5.5', '4.4', '4.6', '5.9', '3.9',\n",
       "       '3.1', '2.9', '5.2', '3.3', '4.7', '5.1', '3.5', '2.5', '1.9', '3',\n",
       "       '2.7', '2.2', '2', '9.5', '2.1', '3.6', '2.8', '1.8', '3.8', '0',\n",
       "       '1.6', '9.6', '2.4', '1.7', '1.1', '0.3', '1.5', '0.7', '1.2',\n",
       "       '2.3', '0.5', '1.3', '0.2', '0.6', '1.4', '0.9', '1', '9.7'],\n",
       "      dtype=object)"
      ]
     },
     "metadata": {},
     "output_type": "display_data"
    },
    {
     "data": {
      "text/plain": [
       "97"
      ]
     },
     "execution_count": 61,
     "metadata": {},
     "output_type": "execute_result"
    }
   ],
   "source": [
    "# рассмотрим аббревиатуру 'tbd' в столбцах с рейтингом\n",
    "display(games['user_score'].unique())\n",
    "len(games['user_score'].unique())"
   ]
  },
  {
   "cell_type": "code",
   "execution_count": 62,
   "metadata": {
    "scrolled": true
   },
   "outputs": [
    {
     "data": {
      "text/html": [
       "<div>\n",
       "<style scoped>\n",
       "    .dataframe tbody tr th:only-of-type {\n",
       "        vertical-align: middle;\n",
       "    }\n",
       "\n",
       "    .dataframe tbody tr th {\n",
       "        vertical-align: top;\n",
       "    }\n",
       "\n",
       "    .dataframe thead th {\n",
       "        text-align: right;\n",
       "    }\n",
       "</style>\n",
       "<table border=\"1\" class=\"dataframe\">\n",
       "  <thead>\n",
       "    <tr style=\"text-align: right;\">\n",
       "      <th></th>\n",
       "      <th>name</th>\n",
       "      <th>platform</th>\n",
       "      <th>year_of_release</th>\n",
       "      <th>genre</th>\n",
       "      <th>na_sales</th>\n",
       "      <th>eu_sales</th>\n",
       "      <th>jp_sales</th>\n",
       "      <th>other_sales</th>\n",
       "      <th>critic_score</th>\n",
       "      <th>user_score</th>\n",
       "      <th>rating</th>\n",
       "    </tr>\n",
       "  </thead>\n",
       "  <tbody>\n",
       "    <tr>\n",
       "      <th>119</th>\n",
       "      <td>Zumba Fitness</td>\n",
       "      <td>Wii</td>\n",
       "      <td>2010.0</td>\n",
       "      <td>Sports</td>\n",
       "      <td>3.45</td>\n",
       "      <td>2.59</td>\n",
       "      <td>0.0</td>\n",
       "      <td>0.66</td>\n",
       "      <td>NaN</td>\n",
       "      <td>tbd</td>\n",
       "      <td>E</td>\n",
       "    </tr>\n",
       "    <tr>\n",
       "      <th>301</th>\n",
       "      <td>Namco Museum: 50th Anniversary</td>\n",
       "      <td>PS2</td>\n",
       "      <td>2005.0</td>\n",
       "      <td>Misc</td>\n",
       "      <td>2.08</td>\n",
       "      <td>1.35</td>\n",
       "      <td>0.0</td>\n",
       "      <td>0.54</td>\n",
       "      <td>61.0</td>\n",
       "      <td>tbd</td>\n",
       "      <td>E10+</td>\n",
       "    </tr>\n",
       "    <tr>\n",
       "      <th>520</th>\n",
       "      <td>Zumba Fitness 2</td>\n",
       "      <td>Wii</td>\n",
       "      <td>2011.0</td>\n",
       "      <td>Sports</td>\n",
       "      <td>1.51</td>\n",
       "      <td>1.03</td>\n",
       "      <td>0.0</td>\n",
       "      <td>0.27</td>\n",
       "      <td>NaN</td>\n",
       "      <td>tbd</td>\n",
       "      <td>T</td>\n",
       "    </tr>\n",
       "    <tr>\n",
       "      <th>645</th>\n",
       "      <td>uDraw Studio</td>\n",
       "      <td>Wii</td>\n",
       "      <td>2010.0</td>\n",
       "      <td>Misc</td>\n",
       "      <td>1.65</td>\n",
       "      <td>0.57</td>\n",
       "      <td>0.0</td>\n",
       "      <td>0.20</td>\n",
       "      <td>71.0</td>\n",
       "      <td>tbd</td>\n",
       "      <td>E</td>\n",
       "    </tr>\n",
       "    <tr>\n",
       "      <th>657</th>\n",
       "      <td>Frogger's Adventures: Temple of the Frog</td>\n",
       "      <td>GBA</td>\n",
       "      <td>NaN</td>\n",
       "      <td>Adventure</td>\n",
       "      <td>2.15</td>\n",
       "      <td>0.18</td>\n",
       "      <td>0.0</td>\n",
       "      <td>0.07</td>\n",
       "      <td>73.0</td>\n",
       "      <td>tbd</td>\n",
       "      <td>E</td>\n",
       "    </tr>\n",
       "    <tr>\n",
       "      <th>...</th>\n",
       "      <td>...</td>\n",
       "      <td>...</td>\n",
       "      <td>...</td>\n",
       "      <td>...</td>\n",
       "      <td>...</td>\n",
       "      <td>...</td>\n",
       "      <td>...</td>\n",
       "      <td>...</td>\n",
       "      <td>...</td>\n",
       "      <td>...</td>\n",
       "      <td>...</td>\n",
       "    </tr>\n",
       "    <tr>\n",
       "      <th>16695</th>\n",
       "      <td>Planet Monsters</td>\n",
       "      <td>GBA</td>\n",
       "      <td>2001.0</td>\n",
       "      <td>Action</td>\n",
       "      <td>0.01</td>\n",
       "      <td>0.00</td>\n",
       "      <td>0.0</td>\n",
       "      <td>0.00</td>\n",
       "      <td>67.0</td>\n",
       "      <td>tbd</td>\n",
       "      <td>E</td>\n",
       "    </tr>\n",
       "    <tr>\n",
       "      <th>16697</th>\n",
       "      <td>Bust-A-Move 3000</td>\n",
       "      <td>GC</td>\n",
       "      <td>2003.0</td>\n",
       "      <td>Puzzle</td>\n",
       "      <td>0.01</td>\n",
       "      <td>0.00</td>\n",
       "      <td>0.0</td>\n",
       "      <td>0.00</td>\n",
       "      <td>53.0</td>\n",
       "      <td>tbd</td>\n",
       "      <td>E</td>\n",
       "    </tr>\n",
       "    <tr>\n",
       "      <th>16698</th>\n",
       "      <td>Mega Brain Boost</td>\n",
       "      <td>DS</td>\n",
       "      <td>2008.0</td>\n",
       "      <td>Puzzle</td>\n",
       "      <td>0.01</td>\n",
       "      <td>0.00</td>\n",
       "      <td>0.0</td>\n",
       "      <td>0.00</td>\n",
       "      <td>48.0</td>\n",
       "      <td>tbd</td>\n",
       "      <td>E</td>\n",
       "    </tr>\n",
       "    <tr>\n",
       "      <th>16704</th>\n",
       "      <td>Plushees</td>\n",
       "      <td>DS</td>\n",
       "      <td>2008.0</td>\n",
       "      <td>Simulation</td>\n",
       "      <td>0.01</td>\n",
       "      <td>0.00</td>\n",
       "      <td>0.0</td>\n",
       "      <td>0.00</td>\n",
       "      <td>NaN</td>\n",
       "      <td>tbd</td>\n",
       "      <td>E</td>\n",
       "    </tr>\n",
       "    <tr>\n",
       "      <th>16706</th>\n",
       "      <td>Men in Black II: Alien Escape</td>\n",
       "      <td>GC</td>\n",
       "      <td>2003.0</td>\n",
       "      <td>Shooter</td>\n",
       "      <td>0.01</td>\n",
       "      <td>0.00</td>\n",
       "      <td>0.0</td>\n",
       "      <td>0.00</td>\n",
       "      <td>NaN</td>\n",
       "      <td>tbd</td>\n",
       "      <td>T</td>\n",
       "    </tr>\n",
       "  </tbody>\n",
       "</table>\n",
       "<p>2424 rows × 11 columns</p>\n",
       "</div>"
      ],
      "text/plain": [
       "                                           name platform  year_of_release  \\\n",
       "119                               Zumba Fitness      Wii           2010.0   \n",
       "301              Namco Museum: 50th Anniversary      PS2           2005.0   \n",
       "520                             Zumba Fitness 2      Wii           2011.0   \n",
       "645                                uDraw Studio      Wii           2010.0   \n",
       "657    Frogger's Adventures: Temple of the Frog      GBA              NaN   \n",
       "...                                         ...      ...              ...   \n",
       "16695                           Planet Monsters      GBA           2001.0   \n",
       "16697                          Bust-A-Move 3000       GC           2003.0   \n",
       "16698                          Mega Brain Boost       DS           2008.0   \n",
       "16704                                  Plushees       DS           2008.0   \n",
       "16706             Men in Black II: Alien Escape       GC           2003.0   \n",
       "\n",
       "            genre  na_sales  eu_sales  jp_sales  other_sales  critic_score  \\\n",
       "119        Sports      3.45      2.59       0.0         0.66           NaN   \n",
       "301          Misc      2.08      1.35       0.0         0.54          61.0   \n",
       "520        Sports      1.51      1.03       0.0         0.27           NaN   \n",
       "645          Misc      1.65      0.57       0.0         0.20          71.0   \n",
       "657     Adventure      2.15      0.18       0.0         0.07          73.0   \n",
       "...           ...       ...       ...       ...          ...           ...   \n",
       "16695      Action      0.01      0.00       0.0         0.00          67.0   \n",
       "16697      Puzzle      0.01      0.00       0.0         0.00          53.0   \n",
       "16698      Puzzle      0.01      0.00       0.0         0.00          48.0   \n",
       "16704  Simulation      0.01      0.00       0.0         0.00           NaN   \n",
       "16706     Shooter      0.01      0.00       0.0         0.00           NaN   \n",
       "\n",
       "      user_score rating  \n",
       "119          tbd      E  \n",
       "301          tbd   E10+  \n",
       "520          tbd      T  \n",
       "645          tbd      E  \n",
       "657          tbd      E  \n",
       "...          ...    ...  \n",
       "16695        tbd      E  \n",
       "16697        tbd      E  \n",
       "16698        tbd      E  \n",
       "16704        tbd      E  \n",
       "16706        tbd      T  \n",
       "\n",
       "[2424 rows x 11 columns]"
      ]
     },
     "execution_count": 62,
     "metadata": {},
     "output_type": "execute_result"
    }
   ],
   "source": [
    "# посмотрим на выборку строк со значением \"tbd\"\n",
    "tbd = games.query('user_score == \"tbd\"')\n",
    "tbd "
   ]
  },
  {
   "cell_type": "markdown",
   "metadata": {},
   "source": [
    "Скорее всего, tbd - To Be Determined (будет определено) \n",
    "Возможно, еще недостаточное количество юзеров поиграло в эту игру для выставления рейтинга. Сравнитеьно очень небольшое количество покупок игр с таким рейтингом подтверждают это предположение"
   ]
  },
  {
   "cell_type": "code",
   "execution_count": 63,
   "metadata": {
    "scrolled": false
   },
   "outputs": [
    {
     "name": "stdout",
     "output_type": "stream",
     "text": [
      "<class 'pandas.core.frame.DataFrame'>\n",
      "RangeIndex: 16715 entries, 0 to 16714\n",
      "Data columns (total 11 columns):\n",
      " #   Column           Non-Null Count  Dtype  \n",
      "---  ------           --------------  -----  \n",
      " 0   name             16713 non-null  object \n",
      " 1   platform         16715 non-null  object \n",
      " 2   year_of_release  16446 non-null  Int64  \n",
      " 3   genre            16713 non-null  object \n",
      " 4   na_sales         16715 non-null  float64\n",
      " 5   eu_sales         16715 non-null  float64\n",
      " 6   jp_sales         16715 non-null  float64\n",
      " 7   other_sales      16715 non-null  float64\n",
      " 8   critic_score     8137 non-null   float64\n",
      " 9   user_score       7590 non-null   float64\n",
      " 10  rating           9949 non-null   object \n",
      "dtypes: Int64(1), float64(6), object(4)\n",
      "memory usage: 1.4+ MB\n"
     ]
    },
    {
     "data": {
      "text/plain": [
       "None"
      ]
     },
     "metadata": {},
     "output_type": "display_data"
    },
    {
     "data": {
      "text/html": [
       "<div>\n",
       "<style scoped>\n",
       "    .dataframe tbody tr th:only-of-type {\n",
       "        vertical-align: middle;\n",
       "    }\n",
       "\n",
       "    .dataframe tbody tr th {\n",
       "        vertical-align: top;\n",
       "    }\n",
       "\n",
       "    .dataframe thead th {\n",
       "        text-align: right;\n",
       "    }\n",
       "</style>\n",
       "<table border=\"1\" class=\"dataframe\">\n",
       "  <thead>\n",
       "    <tr style=\"text-align: right;\">\n",
       "      <th></th>\n",
       "      <th>name</th>\n",
       "      <th>platform</th>\n",
       "      <th>year_of_release</th>\n",
       "      <th>genre</th>\n",
       "      <th>na_sales</th>\n",
       "      <th>eu_sales</th>\n",
       "      <th>jp_sales</th>\n",
       "      <th>other_sales</th>\n",
       "      <th>critic_score</th>\n",
       "      <th>user_score</th>\n",
       "      <th>rating</th>\n",
       "    </tr>\n",
       "  </thead>\n",
       "  <tbody>\n",
       "    <tr>\n",
       "      <th>0</th>\n",
       "      <td>Wii Sports</td>\n",
       "      <td>Wii</td>\n",
       "      <td>2006</td>\n",
       "      <td>Sports</td>\n",
       "      <td>41.36</td>\n",
       "      <td>28.96</td>\n",
       "      <td>3.77</td>\n",
       "      <td>8.45</td>\n",
       "      <td>76.0</td>\n",
       "      <td>8.0</td>\n",
       "      <td>E</td>\n",
       "    </tr>\n",
       "    <tr>\n",
       "      <th>1</th>\n",
       "      <td>Super Mario Bros.</td>\n",
       "      <td>NES</td>\n",
       "      <td>1985</td>\n",
       "      <td>Platform</td>\n",
       "      <td>29.08</td>\n",
       "      <td>3.58</td>\n",
       "      <td>6.81</td>\n",
       "      <td>0.77</td>\n",
       "      <td>NaN</td>\n",
       "      <td>NaN</td>\n",
       "      <td>NaN</td>\n",
       "    </tr>\n",
       "    <tr>\n",
       "      <th>2</th>\n",
       "      <td>Mario Kart Wii</td>\n",
       "      <td>Wii</td>\n",
       "      <td>2008</td>\n",
       "      <td>Racing</td>\n",
       "      <td>15.68</td>\n",
       "      <td>12.76</td>\n",
       "      <td>3.79</td>\n",
       "      <td>3.29</td>\n",
       "      <td>82.0</td>\n",
       "      <td>8.3</td>\n",
       "      <td>E</td>\n",
       "    </tr>\n",
       "    <tr>\n",
       "      <th>3</th>\n",
       "      <td>Wii Sports Resort</td>\n",
       "      <td>Wii</td>\n",
       "      <td>2009</td>\n",
       "      <td>Sports</td>\n",
       "      <td>15.61</td>\n",
       "      <td>10.93</td>\n",
       "      <td>3.28</td>\n",
       "      <td>2.95</td>\n",
       "      <td>80.0</td>\n",
       "      <td>8.0</td>\n",
       "      <td>E</td>\n",
       "    </tr>\n",
       "    <tr>\n",
       "      <th>4</th>\n",
       "      <td>Pokemon Red/Pokemon Blue</td>\n",
       "      <td>GB</td>\n",
       "      <td>1996</td>\n",
       "      <td>Role-Playing</td>\n",
       "      <td>11.27</td>\n",
       "      <td>8.89</td>\n",
       "      <td>10.22</td>\n",
       "      <td>1.00</td>\n",
       "      <td>NaN</td>\n",
       "      <td>NaN</td>\n",
       "      <td>NaN</td>\n",
       "    </tr>\n",
       "    <tr>\n",
       "      <th>...</th>\n",
       "      <td>...</td>\n",
       "      <td>...</td>\n",
       "      <td>...</td>\n",
       "      <td>...</td>\n",
       "      <td>...</td>\n",
       "      <td>...</td>\n",
       "      <td>...</td>\n",
       "      <td>...</td>\n",
       "      <td>...</td>\n",
       "      <td>...</td>\n",
       "      <td>...</td>\n",
       "    </tr>\n",
       "    <tr>\n",
       "      <th>115</th>\n",
       "      <td>Crash Bandicoot</td>\n",
       "      <td>PS</td>\n",
       "      <td>1996</td>\n",
       "      <td>Platform</td>\n",
       "      <td>3.23</td>\n",
       "      <td>2.35</td>\n",
       "      <td>0.94</td>\n",
       "      <td>0.30</td>\n",
       "      <td>NaN</td>\n",
       "      <td>NaN</td>\n",
       "      <td>NaN</td>\n",
       "    </tr>\n",
       "    <tr>\n",
       "      <th>116</th>\n",
       "      <td>Just Dance 4</td>\n",
       "      <td>Wii</td>\n",
       "      <td>2012</td>\n",
       "      <td>Misc</td>\n",
       "      <td>4.05</td>\n",
       "      <td>2.16</td>\n",
       "      <td>0.00</td>\n",
       "      <td>0.55</td>\n",
       "      <td>74.0</td>\n",
       "      <td>7.3</td>\n",
       "      <td>E10+</td>\n",
       "    </tr>\n",
       "    <tr>\n",
       "      <th>117</th>\n",
       "      <td>Gears of War 2</td>\n",
       "      <td>X360</td>\n",
       "      <td>2008</td>\n",
       "      <td>Shooter</td>\n",
       "      <td>4.15</td>\n",
       "      <td>1.90</td>\n",
       "      <td>0.06</td>\n",
       "      <td>0.64</td>\n",
       "      <td>93.0</td>\n",
       "      <td>7.7</td>\n",
       "      <td>M</td>\n",
       "    </tr>\n",
       "    <tr>\n",
       "      <th>118</th>\n",
       "      <td>Uncharted 3: Drake's Deception</td>\n",
       "      <td>PS3</td>\n",
       "      <td>2011</td>\n",
       "      <td>Action</td>\n",
       "      <td>2.77</td>\n",
       "      <td>2.75</td>\n",
       "      <td>0.19</td>\n",
       "      <td>1.03</td>\n",
       "      <td>92.0</td>\n",
       "      <td>8.3</td>\n",
       "      <td>T</td>\n",
       "    </tr>\n",
       "    <tr>\n",
       "      <th>119</th>\n",
       "      <td>Zumba Fitness</td>\n",
       "      <td>Wii</td>\n",
       "      <td>2010</td>\n",
       "      <td>Sports</td>\n",
       "      <td>3.45</td>\n",
       "      <td>2.59</td>\n",
       "      <td>0.00</td>\n",
       "      <td>0.66</td>\n",
       "      <td>NaN</td>\n",
       "      <td>NaN</td>\n",
       "      <td>E</td>\n",
       "    </tr>\n",
       "  </tbody>\n",
       "</table>\n",
       "<p>120 rows × 11 columns</p>\n",
       "</div>"
      ],
      "text/plain": [
       "                               name platform  year_of_release         genre  \\\n",
       "0                        Wii Sports      Wii             2006        Sports   \n",
       "1                 Super Mario Bros.      NES             1985      Platform   \n",
       "2                    Mario Kart Wii      Wii             2008        Racing   \n",
       "3                 Wii Sports Resort      Wii             2009        Sports   \n",
       "4          Pokemon Red/Pokemon Blue       GB             1996  Role-Playing   \n",
       "..                              ...      ...              ...           ...   \n",
       "115                 Crash Bandicoot       PS             1996      Platform   \n",
       "116                    Just Dance 4      Wii             2012          Misc   \n",
       "117                  Gears of War 2     X360             2008       Shooter   \n",
       "118  Uncharted 3: Drake's Deception      PS3             2011        Action   \n",
       "119                   Zumba Fitness      Wii             2010        Sports   \n",
       "\n",
       "     na_sales  eu_sales  jp_sales  other_sales  critic_score  user_score  \\\n",
       "0       41.36     28.96      3.77         8.45          76.0         8.0   \n",
       "1       29.08      3.58      6.81         0.77           NaN         NaN   \n",
       "2       15.68     12.76      3.79         3.29          82.0         8.3   \n",
       "3       15.61     10.93      3.28         2.95          80.0         8.0   \n",
       "4       11.27      8.89     10.22         1.00           NaN         NaN   \n",
       "..        ...       ...       ...          ...           ...         ...   \n",
       "115      3.23      2.35      0.94         0.30           NaN         NaN   \n",
       "116      4.05      2.16      0.00         0.55          74.0         7.3   \n",
       "117      4.15      1.90      0.06         0.64          93.0         7.7   \n",
       "118      2.77      2.75      0.19         1.03          92.0         8.3   \n",
       "119      3.45      2.59      0.00         0.66           NaN         NaN   \n",
       "\n",
       "    rating  \n",
       "0        E  \n",
       "1      NaN  \n",
       "2        E  \n",
       "3        E  \n",
       "4      NaN  \n",
       "..     ...  \n",
       "115    NaN  \n",
       "116   E10+  \n",
       "117      M  \n",
       "118      T  \n",
       "119      E  \n",
       "\n",
       "[120 rows x 11 columns]"
      ]
     },
     "execution_count": 63,
     "metadata": {},
     "output_type": "execute_result"
    }
   ],
   "source": [
    "#заменим типы данных в столбцах 'year_of_release' и 'user_score'\n",
    "games['year_of_release'] = games['year_of_release'].astype('float32').astype('Int64')\n",
    "games['user_score'] = pd.to_numeric(games['user_score'], errors='coerce')\n",
    "\n",
    "display(games.info())\n",
    "games.head(120)"
   ]
  },
  {
   "cell_type": "markdown",
   "metadata": {},
   "source": [
    "'tbd' автоматически заменились на NaN, дальше нужно будет исправить это"
   ]
  },
  {
   "cell_type": "markdown",
   "metadata": {},
   "source": [
    "### Обработаем пропуски и дубликаты"
   ]
  },
  {
   "cell_type": "code",
   "execution_count": 64,
   "metadata": {
    "scrolled": true
   },
   "outputs": [
    {
     "data": {
      "text/html": [
       "<div>\n",
       "<style scoped>\n",
       "    .dataframe tbody tr th:only-of-type {\n",
       "        vertical-align: middle;\n",
       "    }\n",
       "\n",
       "    .dataframe tbody tr th {\n",
       "        vertical-align: top;\n",
       "    }\n",
       "\n",
       "    .dataframe thead th {\n",
       "        text-align: right;\n",
       "    }\n",
       "</style>\n",
       "<table border=\"1\" class=\"dataframe\">\n",
       "  <thead>\n",
       "    <tr style=\"text-align: right;\">\n",
       "      <th></th>\n",
       "      <th>missing_values</th>\n",
       "      <th>% of total</th>\n",
       "    </tr>\n",
       "  </thead>\n",
       "  <tbody>\n",
       "    <tr>\n",
       "      <th>user_score</th>\n",
       "      <td>9125</td>\n",
       "      <td>0.55</td>\n",
       "    </tr>\n",
       "    <tr>\n",
       "      <th>critic_score</th>\n",
       "      <td>8578</td>\n",
       "      <td>0.51</td>\n",
       "    </tr>\n",
       "    <tr>\n",
       "      <th>rating</th>\n",
       "      <td>6766</td>\n",
       "      <td>0.40</td>\n",
       "    </tr>\n",
       "    <tr>\n",
       "      <th>year_of_release</th>\n",
       "      <td>269</td>\n",
       "      <td>0.02</td>\n",
       "    </tr>\n",
       "    <tr>\n",
       "      <th>name</th>\n",
       "      <td>2</td>\n",
       "      <td>0.00</td>\n",
       "    </tr>\n",
       "    <tr>\n",
       "      <th>genre</th>\n",
       "      <td>2</td>\n",
       "      <td>0.00</td>\n",
       "    </tr>\n",
       "    <tr>\n",
       "      <th>platform</th>\n",
       "      <td>0</td>\n",
       "      <td>0.00</td>\n",
       "    </tr>\n",
       "    <tr>\n",
       "      <th>na_sales</th>\n",
       "      <td>0</td>\n",
       "      <td>0.00</td>\n",
       "    </tr>\n",
       "    <tr>\n",
       "      <th>eu_sales</th>\n",
       "      <td>0</td>\n",
       "      <td>0.00</td>\n",
       "    </tr>\n",
       "    <tr>\n",
       "      <th>jp_sales</th>\n",
       "      <td>0</td>\n",
       "      <td>0.00</td>\n",
       "    </tr>\n",
       "    <tr>\n",
       "      <th>other_sales</th>\n",
       "      <td>0</td>\n",
       "      <td>0.00</td>\n",
       "    </tr>\n",
       "  </tbody>\n",
       "</table>\n",
       "</div>"
      ],
      "text/plain": [
       "                 missing_values  % of total\n",
       "user_score                 9125        0.55\n",
       "critic_score               8578        0.51\n",
       "rating                     6766        0.40\n",
       "year_of_release             269        0.02\n",
       "name                          2        0.00\n",
       "genre                         2        0.00\n",
       "platform                      0        0.00\n",
       "na_sales                      0        0.00\n",
       "eu_sales                      0        0.00\n",
       "jp_sales                      0        0.00\n",
       "other_sales                   0        0.00"
      ]
     },
     "execution_count": 64,
     "metadata": {},
     "output_type": "execute_result"
    }
   ],
   "source": [
    "#посмотрим на кол-во пропусков и процент пропусков по колонкам\n",
    "nans = games.isna().sum().to_frame()\n",
    "nans = nans.rename(columns = {0: 'missing_values'})\n",
    "nans['% of total'] = (nans['missing_values'] / games.shape[0]).round(2)\n",
    "nans.sort_values(by = 'missing_values', ascending = False)"
   ]
  },
  {
   "cell_type": "markdown",
   "metadata": {},
   "source": [
    "В колонках name,genre и year_of_release совсем незначительное количество пропусков.\n",
    "Мы можем оставить их как есть, ведь пандас умеет игнорировать пропуски при построении всяких графиков и тд.\n",
    "\n",
    "В  колонках user_score, critic_score и rating пропусков более 10%.\n",
    "Если в данных кол-во пропусков превышает 10%, восполнение пропусков результатами выполнения стандартных операций типа расчета среднего/медианы по столбцу, может привести к искажению данных.\n",
    "\n",
    "Предположительно, в колонках user_score, critic_score и rating есть пропуски т.к. во первых есть игры с несформированнным пока рейтингом(бывшие tbh), во вторых, оценки в интернет магазинах - это не обязательная процедура, так что многие покупатели принебрегают этим этапом."
   ]
  },
  {
   "cell_type": "markdown",
   "metadata": {},
   "source": [
    "Чтобы не потерять нашу категорию игр, которым еще не присвоили рейтинг, мы сможем заменить NANы на специальный код.\n",
    "В офицциальной классификации ESRB (Entertainment Software Rating Board) таким значениям присваивается код «RP» («Rating Pending») — «Рейтинг ожидается»"
   ]
  },
  {
   "cell_type": "code",
   "execution_count": 65,
   "metadata": {},
   "outputs": [],
   "source": [
    "#значения в колонке рейтинга формата object, пропуски можно заменить специально введенной категорией\n",
    "games['rating'] = games['rating'].fillna(value='RP')"
   ]
  },
  {
   "cell_type": "code",
   "execution_count": 66,
   "metadata": {
    "scrolled": true
   },
   "outputs": [
    {
     "name": "stdout",
     "output_type": "stream",
     "text": [
      "количество дублей  0\n",
      "|           name |       5155|\n",
      "|       platform |      16684|\n",
      "|year_of_release |      16677|\n",
      "|          genre |      16702|\n",
      "|       na_sales |      16313|\n",
      "|       eu_sales |      16408|\n",
      "|       jp_sales |      16471|\n",
      "|    other_sales |      16560|\n",
      "|   critic_score |      16632|\n",
      "|     user_score |      16619|\n",
      "|         rating |      16707|\n"
     ]
    }
   ],
   "source": [
    "# посмотрим на количество дублей по столбцам\n",
    "print('количество дублей ', games.duplicated().sum())\n",
    "for i in games.columns:\n",
    "    if games[i].duplicated().sum() > 0:\n",
    "        print('|{: >15} | {: >10}|'. format(i, games[i].duplicated().sum()))\n",
    "    else:\n",
    "        'good'"
   ]
  },
  {
   "cell_type": "markdown",
   "metadata": {},
   "source": [
    "Очевидных дубликатов в данных нет."
   ]
  },
  {
   "cell_type": "markdown",
   "metadata": {},
   "source": [
    "### Посчитаем суммарные продажи во всех регионах"
   ]
  },
  {
   "cell_type": "code",
   "execution_count": 67,
   "metadata": {
    "scrolled": true
   },
   "outputs": [
    {
     "data": {
      "text/html": [
       "<div>\n",
       "<style scoped>\n",
       "    .dataframe tbody tr th:only-of-type {\n",
       "        vertical-align: middle;\n",
       "    }\n",
       "\n",
       "    .dataframe tbody tr th {\n",
       "        vertical-align: top;\n",
       "    }\n",
       "\n",
       "    .dataframe thead th {\n",
       "        text-align: right;\n",
       "    }\n",
       "</style>\n",
       "<table border=\"1\" class=\"dataframe\">\n",
       "  <thead>\n",
       "    <tr style=\"text-align: right;\">\n",
       "      <th></th>\n",
       "      <th>name</th>\n",
       "      <th>platform</th>\n",
       "      <th>year_of_release</th>\n",
       "      <th>genre</th>\n",
       "      <th>na_sales</th>\n",
       "      <th>eu_sales</th>\n",
       "      <th>jp_sales</th>\n",
       "      <th>other_sales</th>\n",
       "      <th>critic_score</th>\n",
       "      <th>user_score</th>\n",
       "      <th>rating</th>\n",
       "      <th>total_sales</th>\n",
       "    </tr>\n",
       "  </thead>\n",
       "  <tbody>\n",
       "    <tr>\n",
       "      <th>0</th>\n",
       "      <td>Wii Sports</td>\n",
       "      <td>Wii</td>\n",
       "      <td>2006</td>\n",
       "      <td>Sports</td>\n",
       "      <td>41.36</td>\n",
       "      <td>28.96</td>\n",
       "      <td>3.77</td>\n",
       "      <td>8.45</td>\n",
       "      <td>76.0</td>\n",
       "      <td>8.0</td>\n",
       "      <td>E</td>\n",
       "      <td>82.54</td>\n",
       "    </tr>\n",
       "    <tr>\n",
       "      <th>1</th>\n",
       "      <td>Super Mario Bros.</td>\n",
       "      <td>NES</td>\n",
       "      <td>1985</td>\n",
       "      <td>Platform</td>\n",
       "      <td>29.08</td>\n",
       "      <td>3.58</td>\n",
       "      <td>6.81</td>\n",
       "      <td>0.77</td>\n",
       "      <td>NaN</td>\n",
       "      <td>NaN</td>\n",
       "      <td>RP</td>\n",
       "      <td>40.24</td>\n",
       "    </tr>\n",
       "    <tr>\n",
       "      <th>2</th>\n",
       "      <td>Mario Kart Wii</td>\n",
       "      <td>Wii</td>\n",
       "      <td>2008</td>\n",
       "      <td>Racing</td>\n",
       "      <td>15.68</td>\n",
       "      <td>12.76</td>\n",
       "      <td>3.79</td>\n",
       "      <td>3.29</td>\n",
       "      <td>82.0</td>\n",
       "      <td>8.3</td>\n",
       "      <td>E</td>\n",
       "      <td>35.52</td>\n",
       "    </tr>\n",
       "    <tr>\n",
       "      <th>3</th>\n",
       "      <td>Wii Sports Resort</td>\n",
       "      <td>Wii</td>\n",
       "      <td>2009</td>\n",
       "      <td>Sports</td>\n",
       "      <td>15.61</td>\n",
       "      <td>10.93</td>\n",
       "      <td>3.28</td>\n",
       "      <td>2.95</td>\n",
       "      <td>80.0</td>\n",
       "      <td>8.0</td>\n",
       "      <td>E</td>\n",
       "      <td>32.77</td>\n",
       "    </tr>\n",
       "    <tr>\n",
       "      <th>4</th>\n",
       "      <td>Pokemon Red/Pokemon Blue</td>\n",
       "      <td>GB</td>\n",
       "      <td>1996</td>\n",
       "      <td>Role-Playing</td>\n",
       "      <td>11.27</td>\n",
       "      <td>8.89</td>\n",
       "      <td>10.22</td>\n",
       "      <td>1.00</td>\n",
       "      <td>NaN</td>\n",
       "      <td>NaN</td>\n",
       "      <td>RP</td>\n",
       "      <td>31.38</td>\n",
       "    </tr>\n",
       "  </tbody>\n",
       "</table>\n",
       "</div>"
      ],
      "text/plain": [
       "                       name platform  year_of_release         genre  na_sales  \\\n",
       "0                Wii Sports      Wii             2006        Sports     41.36   \n",
       "1         Super Mario Bros.      NES             1985      Platform     29.08   \n",
       "2            Mario Kart Wii      Wii             2008        Racing     15.68   \n",
       "3         Wii Sports Resort      Wii             2009        Sports     15.61   \n",
       "4  Pokemon Red/Pokemon Blue       GB             1996  Role-Playing     11.27   \n",
       "\n",
       "   eu_sales  jp_sales  other_sales  critic_score  user_score rating  \\\n",
       "0     28.96      3.77         8.45          76.0         8.0      E   \n",
       "1      3.58      6.81         0.77           NaN         NaN     RP   \n",
       "2     12.76      3.79         3.29          82.0         8.3      E   \n",
       "3     10.93      3.28         2.95          80.0         8.0      E   \n",
       "4      8.89     10.22         1.00           NaN         NaN     RP   \n",
       "\n",
       "   total_sales  \n",
       "0        82.54  \n",
       "1        40.24  \n",
       "2        35.52  \n",
       "3        32.77  \n",
       "4        31.38  "
      ]
     },
     "execution_count": 67,
     "metadata": {},
     "output_type": "execute_result"
    }
   ],
   "source": [
    "#games['total_sales'] = games['na_sales'] +games['eu_sales']+ games['jp_sales'] + games['other_sales']\n",
    "\n",
    "games['total_sales'] = games[['na_sales','eu_sales','jp_sales','other_sales']].sum(axis=1)\n",
    "games.head()"
   ]
  },
  {
   "cell_type": "markdown",
   "metadata": {},
   "source": [
    "## Исследовательский анализ"
   ]
  },
  {
   "cell_type": "markdown",
   "metadata": {},
   "source": [
    "### Посмотрим, сколько игр выпускалось в разные годы. "
   ]
  },
  {
   "cell_type": "code",
   "execution_count": 68,
   "metadata": {
    "scrolled": false
   },
   "outputs": [
    {
     "data": {
      "text/html": [
       "<div>\n",
       "<style scoped>\n",
       "    .dataframe tbody tr th:only-of-type {\n",
       "        vertical-align: middle;\n",
       "    }\n",
       "\n",
       "    .dataframe tbody tr th {\n",
       "        vertical-align: top;\n",
       "    }\n",
       "\n",
       "    .dataframe thead th {\n",
       "        text-align: right;\n",
       "    }\n",
       "</style>\n",
       "<table border=\"1\" class=\"dataframe\">\n",
       "  <thead>\n",
       "    <tr style=\"text-align: right;\">\n",
       "      <th></th>\n",
       "      <th>year_of_release</th>\n",
       "      <th>games</th>\n",
       "    </tr>\n",
       "  </thead>\n",
       "  <tbody>\n",
       "    <tr>\n",
       "      <th>0</th>\n",
       "      <td>1980</td>\n",
       "      <td>9</td>\n",
       "    </tr>\n",
       "    <tr>\n",
       "      <th>1</th>\n",
       "      <td>1981</td>\n",
       "      <td>46</td>\n",
       "    </tr>\n",
       "    <tr>\n",
       "      <th>2</th>\n",
       "      <td>1982</td>\n",
       "      <td>36</td>\n",
       "    </tr>\n",
       "    <tr>\n",
       "      <th>3</th>\n",
       "      <td>1983</td>\n",
       "      <td>17</td>\n",
       "    </tr>\n",
       "    <tr>\n",
       "      <th>4</th>\n",
       "      <td>1984</td>\n",
       "      <td>14</td>\n",
       "    </tr>\n",
       "    <tr>\n",
       "      <th>5</th>\n",
       "      <td>1985</td>\n",
       "      <td>14</td>\n",
       "    </tr>\n",
       "    <tr>\n",
       "      <th>6</th>\n",
       "      <td>1986</td>\n",
       "      <td>21</td>\n",
       "    </tr>\n",
       "    <tr>\n",
       "      <th>7</th>\n",
       "      <td>1987</td>\n",
       "      <td>16</td>\n",
       "    </tr>\n",
       "    <tr>\n",
       "      <th>8</th>\n",
       "      <td>1988</td>\n",
       "      <td>15</td>\n",
       "    </tr>\n",
       "    <tr>\n",
       "      <th>9</th>\n",
       "      <td>1989</td>\n",
       "      <td>17</td>\n",
       "    </tr>\n",
       "    <tr>\n",
       "      <th>10</th>\n",
       "      <td>1990</td>\n",
       "      <td>16</td>\n",
       "    </tr>\n",
       "    <tr>\n",
       "      <th>11</th>\n",
       "      <td>1991</td>\n",
       "      <td>41</td>\n",
       "    </tr>\n",
       "    <tr>\n",
       "      <th>12</th>\n",
       "      <td>1992</td>\n",
       "      <td>43</td>\n",
       "    </tr>\n",
       "    <tr>\n",
       "      <th>13</th>\n",
       "      <td>1993</td>\n",
       "      <td>60</td>\n",
       "    </tr>\n",
       "    <tr>\n",
       "      <th>14</th>\n",
       "      <td>1994</td>\n",
       "      <td>121</td>\n",
       "    </tr>\n",
       "    <tr>\n",
       "      <th>15</th>\n",
       "      <td>1995</td>\n",
       "      <td>219</td>\n",
       "    </tr>\n",
       "    <tr>\n",
       "      <th>16</th>\n",
       "      <td>1996</td>\n",
       "      <td>263</td>\n",
       "    </tr>\n",
       "    <tr>\n",
       "      <th>17</th>\n",
       "      <td>1997</td>\n",
       "      <td>289</td>\n",
       "    </tr>\n",
       "    <tr>\n",
       "      <th>18</th>\n",
       "      <td>1998</td>\n",
       "      <td>379</td>\n",
       "    </tr>\n",
       "    <tr>\n",
       "      <th>19</th>\n",
       "      <td>1999</td>\n",
       "      <td>338</td>\n",
       "    </tr>\n",
       "    <tr>\n",
       "      <th>20</th>\n",
       "      <td>2000</td>\n",
       "      <td>350</td>\n",
       "    </tr>\n",
       "    <tr>\n",
       "      <th>21</th>\n",
       "      <td>2001</td>\n",
       "      <td>482</td>\n",
       "    </tr>\n",
       "    <tr>\n",
       "      <th>22</th>\n",
       "      <td>2002</td>\n",
       "      <td>829</td>\n",
       "    </tr>\n",
       "    <tr>\n",
       "      <th>23</th>\n",
       "      <td>2003</td>\n",
       "      <td>775</td>\n",
       "    </tr>\n",
       "    <tr>\n",
       "      <th>24</th>\n",
       "      <td>2004</td>\n",
       "      <td>762</td>\n",
       "    </tr>\n",
       "    <tr>\n",
       "      <th>25</th>\n",
       "      <td>2005</td>\n",
       "      <td>939</td>\n",
       "    </tr>\n",
       "    <tr>\n",
       "      <th>26</th>\n",
       "      <td>2006</td>\n",
       "      <td>1006</td>\n",
       "    </tr>\n",
       "    <tr>\n",
       "      <th>27</th>\n",
       "      <td>2007</td>\n",
       "      <td>1197</td>\n",
       "    </tr>\n",
       "    <tr>\n",
       "      <th>28</th>\n",
       "      <td>2008</td>\n",
       "      <td>1427</td>\n",
       "    </tr>\n",
       "    <tr>\n",
       "      <th>29</th>\n",
       "      <td>2009</td>\n",
       "      <td>1426</td>\n",
       "    </tr>\n",
       "    <tr>\n",
       "      <th>30</th>\n",
       "      <td>2010</td>\n",
       "      <td>1255</td>\n",
       "    </tr>\n",
       "    <tr>\n",
       "      <th>31</th>\n",
       "      <td>2011</td>\n",
       "      <td>1136</td>\n",
       "    </tr>\n",
       "    <tr>\n",
       "      <th>32</th>\n",
       "      <td>2012</td>\n",
       "      <td>653</td>\n",
       "    </tr>\n",
       "    <tr>\n",
       "      <th>33</th>\n",
       "      <td>2013</td>\n",
       "      <td>544</td>\n",
       "    </tr>\n",
       "    <tr>\n",
       "      <th>34</th>\n",
       "      <td>2014</td>\n",
       "      <td>581</td>\n",
       "    </tr>\n",
       "    <tr>\n",
       "      <th>35</th>\n",
       "      <td>2015</td>\n",
       "      <td>606</td>\n",
       "    </tr>\n",
       "    <tr>\n",
       "      <th>36</th>\n",
       "      <td>2016</td>\n",
       "      <td>502</td>\n",
       "    </tr>\n",
       "  </tbody>\n",
       "</table>\n",
       "</div>"
      ],
      "text/plain": [
       "    year_of_release  games\n",
       "0              1980      9\n",
       "1              1981     46\n",
       "2              1982     36\n",
       "3              1983     17\n",
       "4              1984     14\n",
       "5              1985     14\n",
       "6              1986     21\n",
       "7              1987     16\n",
       "8              1988     15\n",
       "9              1989     17\n",
       "10             1990     16\n",
       "11             1991     41\n",
       "12             1992     43\n",
       "13             1993     60\n",
       "14             1994    121\n",
       "15             1995    219\n",
       "16             1996    263\n",
       "17             1997    289\n",
       "18             1998    379\n",
       "19             1999    338\n",
       "20             2000    350\n",
       "21             2001    482\n",
       "22             2002    829\n",
       "23             2003    775\n",
       "24             2004    762\n",
       "25             2005    939\n",
       "26             2006   1006\n",
       "27             2007   1197\n",
       "28             2008   1427\n",
       "29             2009   1426\n",
       "30             2010   1255\n",
       "31             2011   1136\n",
       "32             2012    653\n",
       "33             2013    544\n",
       "34             2014    581\n",
       "35             2015    606\n",
       "36             2016    502"
      ]
     },
     "execution_count": 68,
     "metadata": {},
     "output_type": "execute_result"
    }
   ],
   "source": [
    "games_by_year = games.pivot_table(index=['year_of_release'],values='name',\n",
    "                             aggfunc= 'count')\n",
    "games_by_year.columns = ['games']\n",
    "games_by_year.reset_index()\n",
    "last_15_games_by_year = games_by_year\n",
    "last_15_games_by_year.reset_index()"
   ]
  },
  {
   "cell_type": "markdown",
   "metadata": {},
   "source": [
    "Очевидно, не имеет смысла рассматривать данные за все 36 лет\n",
    "\n",
    "С 2006 года по 2011 было сильное поввышение количества игр, но затем к 2012 году количество усреднилось и выравнилось и можно принять этот год как границу деления периодов\n",
    "\n",
    "Так что дальше будем рассмотривать данные за последние 5 лет"
   ]
  },
  {
   "cell_type": "markdown",
   "metadata": {},
   "source": [
    "### Посмотрим, как менялись продажи по платформам. "
   ]
  },
  {
   "cell_type": "code",
   "execution_count": 69,
   "metadata": {
    "scrolled": false
   },
   "outputs": [
    {
     "data": {
      "text/html": [
       "<div>\n",
       "<style scoped>\n",
       "    .dataframe tbody tr th:only-of-type {\n",
       "        vertical-align: middle;\n",
       "    }\n",
       "\n",
       "    .dataframe tbody tr th {\n",
       "        vertical-align: top;\n",
       "    }\n",
       "\n",
       "    .dataframe thead th {\n",
       "        text-align: right;\n",
       "    }\n",
       "</style>\n",
       "<table border=\"1\" class=\"dataframe\">\n",
       "  <thead>\n",
       "    <tr style=\"text-align: right;\">\n",
       "      <th></th>\n",
       "      <th>name</th>\n",
       "      <th>platform</th>\n",
       "      <th>year_of_release</th>\n",
       "      <th>genre</th>\n",
       "      <th>na_sales</th>\n",
       "      <th>eu_sales</th>\n",
       "      <th>jp_sales</th>\n",
       "      <th>other_sales</th>\n",
       "      <th>critic_score</th>\n",
       "      <th>user_score</th>\n",
       "      <th>rating</th>\n",
       "      <th>total_sales</th>\n",
       "    </tr>\n",
       "  </thead>\n",
       "  <tbody>\n",
       "    <tr>\n",
       "      <th>0</th>\n",
       "      <td>Wii Sports</td>\n",
       "      <td>Wii</td>\n",
       "      <td>2006</td>\n",
       "      <td>Sports</td>\n",
       "      <td>41.36</td>\n",
       "      <td>28.96</td>\n",
       "      <td>3.77</td>\n",
       "      <td>8.45</td>\n",
       "      <td>76.0</td>\n",
       "      <td>8.0</td>\n",
       "      <td>E</td>\n",
       "      <td>82.54</td>\n",
       "    </tr>\n",
       "    <tr>\n",
       "      <th>1</th>\n",
       "      <td>Super Mario Bros.</td>\n",
       "      <td>NES</td>\n",
       "      <td>1985</td>\n",
       "      <td>Platform</td>\n",
       "      <td>29.08</td>\n",
       "      <td>3.58</td>\n",
       "      <td>6.81</td>\n",
       "      <td>0.77</td>\n",
       "      <td>NaN</td>\n",
       "      <td>NaN</td>\n",
       "      <td>RP</td>\n",
       "      <td>40.24</td>\n",
       "    </tr>\n",
       "    <tr>\n",
       "      <th>2</th>\n",
       "      <td>Mario Kart Wii</td>\n",
       "      <td>Wii</td>\n",
       "      <td>2008</td>\n",
       "      <td>Racing</td>\n",
       "      <td>15.68</td>\n",
       "      <td>12.76</td>\n",
       "      <td>3.79</td>\n",
       "      <td>3.29</td>\n",
       "      <td>82.0</td>\n",
       "      <td>8.3</td>\n",
       "      <td>E</td>\n",
       "      <td>35.52</td>\n",
       "    </tr>\n",
       "    <tr>\n",
       "      <th>3</th>\n",
       "      <td>Wii Sports Resort</td>\n",
       "      <td>Wii</td>\n",
       "      <td>2009</td>\n",
       "      <td>Sports</td>\n",
       "      <td>15.61</td>\n",
       "      <td>10.93</td>\n",
       "      <td>3.28</td>\n",
       "      <td>2.95</td>\n",
       "      <td>80.0</td>\n",
       "      <td>8.0</td>\n",
       "      <td>E</td>\n",
       "      <td>32.77</td>\n",
       "    </tr>\n",
       "    <tr>\n",
       "      <th>4</th>\n",
       "      <td>Pokemon Red/Pokemon Blue</td>\n",
       "      <td>GB</td>\n",
       "      <td>1996</td>\n",
       "      <td>Role-Playing</td>\n",
       "      <td>11.27</td>\n",
       "      <td>8.89</td>\n",
       "      <td>10.22</td>\n",
       "      <td>1.00</td>\n",
       "      <td>NaN</td>\n",
       "      <td>NaN</td>\n",
       "      <td>RP</td>\n",
       "      <td>31.38</td>\n",
       "    </tr>\n",
       "  </tbody>\n",
       "</table>\n",
       "</div>"
      ],
      "text/plain": [
       "                       name platform  year_of_release         genre  na_sales  \\\n",
       "0                Wii Sports      Wii             2006        Sports     41.36   \n",
       "1         Super Mario Bros.      NES             1985      Platform     29.08   \n",
       "2            Mario Kart Wii      Wii             2008        Racing     15.68   \n",
       "3         Wii Sports Resort      Wii             2009        Sports     15.61   \n",
       "4  Pokemon Red/Pokemon Blue       GB             1996  Role-Playing     11.27   \n",
       "\n",
       "   eu_sales  jp_sales  other_sales  critic_score  user_score rating  \\\n",
       "0     28.96      3.77         8.45          76.0         8.0      E   \n",
       "1      3.58      6.81         0.77           NaN         NaN     RP   \n",
       "2     12.76      3.79         3.29          82.0         8.3      E   \n",
       "3     10.93      3.28         2.95          80.0         8.0      E   \n",
       "4      8.89     10.22         1.00           NaN         NaN     RP   \n",
       "\n",
       "   total_sales  \n",
       "0        82.54  \n",
       "1        40.24  \n",
       "2        35.52  \n",
       "3        32.77  \n",
       "4        31.38  "
      ]
     },
     "execution_count": 69,
     "metadata": {},
     "output_type": "execute_result"
    }
   ],
   "source": [
    "games.head()"
   ]
  },
  {
   "cell_type": "markdown",
   "metadata": {},
   "source": [
    "Выберем платформы с наибольшими суммарными продажами и построим распределение по годам."
   ]
  },
  {
   "cell_type": "code",
   "execution_count": 70,
   "metadata": {
    "scrolled": true
   },
   "outputs": [
    {
     "data": {
      "text/html": [
       "<div>\n",
       "<style scoped>\n",
       "    .dataframe tbody tr th:only-of-type {\n",
       "        vertical-align: middle;\n",
       "    }\n",
       "\n",
       "    .dataframe tbody tr th {\n",
       "        vertical-align: top;\n",
       "    }\n",
       "\n",
       "    .dataframe thead th {\n",
       "        text-align: right;\n",
       "    }\n",
       "</style>\n",
       "<table border=\"1\" class=\"dataframe\">\n",
       "  <thead>\n",
       "    <tr style=\"text-align: right;\">\n",
       "      <th></th>\n",
       "      <th>platform</th>\n",
       "      <th>total_sales</th>\n",
       "    </tr>\n",
       "  </thead>\n",
       "  <tbody>\n",
       "    <tr>\n",
       "      <th>0</th>\n",
       "      <td>PS2</td>\n",
       "      <td>1255.77</td>\n",
       "    </tr>\n",
       "    <tr>\n",
       "      <th>1</th>\n",
       "      <td>X360</td>\n",
       "      <td>971.42</td>\n",
       "    </tr>\n",
       "    <tr>\n",
       "      <th>2</th>\n",
       "      <td>PS3</td>\n",
       "      <td>939.65</td>\n",
       "    </tr>\n",
       "    <tr>\n",
       "      <th>3</th>\n",
       "      <td>Wii</td>\n",
       "      <td>907.51</td>\n",
       "    </tr>\n",
       "    <tr>\n",
       "      <th>4</th>\n",
       "      <td>DS</td>\n",
       "      <td>806.12</td>\n",
       "    </tr>\n",
       "  </tbody>\n",
       "</table>\n",
       "</div>"
      ],
      "text/plain": [
       "  platform  total_sales\n",
       "0      PS2      1255.77\n",
       "1     X360       971.42\n",
       "2      PS3       939.65\n",
       "3      Wii       907.51\n",
       "4       DS       806.12"
      ]
     },
     "execution_count": 70,
     "metadata": {},
     "output_type": "execute_result"
    }
   ],
   "source": [
    "# выведем сводную таблицу платформ с сортировкой наибольших суммарных продаж\n",
    "total_sales_by_platform = games.pivot_table(index='platform',\n",
    "                        values='total_sales',aggfunc= 'sum')\n",
    "total_sales_by_platform.columns = ['total_sales']\n",
    "top5_total_sales_by_platform=total_sales_by_platform.sort_values(by = 'total_sales',ascending=False).reset_index().head()\n",
    "top5_total_sales_by_platform"
   ]
  },
  {
   "cell_type": "code",
   "execution_count": 71,
   "metadata": {
    "scrolled": true
   },
   "outputs": [
    {
     "data": {
      "text/plain": [
       "Text(0, 0.5, 'Количество продаж')"
      ]
     },
     "execution_count": 71,
     "metadata": {},
     "output_type": "execute_result"
    },
    {
     "data": {
      "image/png": "[encoded data removed]",
      "text/plain": [
       "<Figure size 936x288 with 1 Axes>"
      ]
     },
     "metadata": {
      "needs_background": "light"
     },
     "output_type": "display_data"
    }
   ],
   "source": [
    "# для наглядности построим еще и график\n",
    "sales_on_platform = games.pivot_table(index='platform', values='total_sales', aggfunc='sum').sort_values(\n",
    "    by='total_sales', ascending=False)\n",
    "\n",
    "plt.figure(figsize=(13,4))\n",
    "sns.barplot(x=sales_on_platform.index,y=sales_on_platform['total_sales'])\n",
    "plt.title(\"Продажи по платформам за весь период\")\n",
    "plt.xlabel(\"Название платформы\")\n",
    "plt.ylabel(\"Количество продаж\")"
   ]
  },
  {
   "cell_type": "markdown",
   "metadata": {},
   "source": [
    "На графике видно, что мы можем добавить в наш топ еще и PS"
   ]
  },
  {
   "cell_type": "code",
   "execution_count": 72,
   "metadata": {
    "scrolled": true
   },
   "outputs": [
    {
     "data": {
      "text/plain": [
       "array(['PS2', 'X360', 'PS3', 'Wii', 'DS', 'PS'], dtype=object)"
      ]
     },
     "execution_count": 72,
     "metadata": {},
     "output_type": "execute_result"
    }
   ],
   "source": [
    "platform_grouped = sales_on_platform.head(6).reset_index()\n",
    "#Составим список топ6 платформ.\n",
    "top_platforms_list = platform_grouped['platform'].unique()\n",
    "top_platforms_list"
   ]
  },
  {
   "cell_type": "code",
   "execution_count": 73,
   "metadata": {
    "scrolled": true
   },
   "outputs": [
    {
     "data": {
      "image/png": "[encoded data removed]",
      "text/plain": [
       "<Figure size 936x288 with 1 Axes>"
      ]
     },
     "metadata": {
      "needs_background": "light"
     },
     "output_type": "display_data"
    },
    {
     "data": {
      "image/png": "[encoded data removed]",
      "text/plain": [
       "<Figure size 936x288 with 1 Axes>"
      ]
     },
     "metadata": {
      "needs_background": "light"
     },
     "output_type": "display_data"
    },
    {
     "data": {
      "image/png": "[encoded data removed]",
      "text/plain": [
       "<Figure size 936x288 with 1 Axes>"
      ]
     },
     "metadata": {
      "needs_background": "light"
     },
     "output_type": "display_data"
    },
    {
     "data": {
      "image/png": "[encoded data removed]",
      "text/plain": [
       "<Figure size 936x288 with 1 Axes>"
      ]
     },
     "metadata": {
      "needs_background": "light"
     },
     "output_type": "display_data"
    },
    {
     "data": {
      "image/png": "[encoded data removed]",
      "text/plain": [
       "<Figure size 936x288 with 1 Axes>"
      ]
     },
     "metadata": {
      "needs_background": "light"
     },
     "output_type": "display_data"
    },
    {
     "data": {
      "image/png": "[encoded data removed]",
      "text/plain": [
       "<Figure size 936x288 with 1 Axes>"
      ]
     },
     "metadata": {
      "needs_background": "light"
     },
     "output_type": "display_data"
    }
   ],
   "source": [
    "# построим для каждой платформы из нашего списка топ6 распределение по годам\n",
    "for platform in top_platforms_list:\n",
    "    games[games['platform'] == platform].pivot_table(index='year_of_release', values='total_sales', aggfunc='sum').plot(kind='bar', figsize=(13,4), legend=None)\n",
    "    plt.title(platform)\n",
    "    plt.xlabel('Год выпуска')\n",
    "    plt.ylabel('Объем продаж')\n",
    "    \n",
    "    "
   ]
  },
  {
   "cell_type": "markdown",
   "metadata": {},
   "source": [
    "### Посмотрим за какой характерный срок появляются новые и исчезают старые платформы?\n"
   ]
  },
  {
   "cell_type": "markdown",
   "metadata": {},
   "source": [
    "Посмотрим какое количество лет выпускаются игры на каждую из платформ, ведь по количеству выпускаемых игр можно судить о \"жизнедеятельности\" платформы"
   ]
  },
  {
   "cell_type": "code",
   "execution_count": 74,
   "metadata": {
    "scrolled": true
   },
   "outputs": [
    {
     "data": {
      "text/html": [
       "<div>\n",
       "<style scoped>\n",
       "    .dataframe tbody tr th:only-of-type {\n",
       "        vertical-align: middle;\n",
       "    }\n",
       "\n",
       "    .dataframe tbody tr th {\n",
       "        vertical-align: top;\n",
       "    }\n",
       "\n",
       "    .dataframe thead th {\n",
       "        text-align: right;\n",
       "    }\n",
       "</style>\n",
       "<table border=\"1\" class=\"dataframe\">\n",
       "  <thead>\n",
       "    <tr style=\"text-align: right;\">\n",
       "      <th></th>\n",
       "      <th>year_of_release</th>\n",
       "    </tr>\n",
       "    <tr>\n",
       "      <th>platform</th>\n",
       "      <th></th>\n",
       "    </tr>\n",
       "  </thead>\n",
       "  <tbody>\n",
       "    <tr>\n",
       "      <th>2600</th>\n",
       "      <td>10</td>\n",
       "    </tr>\n",
       "    <tr>\n",
       "      <th>3DO</th>\n",
       "      <td>2</td>\n",
       "    </tr>\n",
       "    <tr>\n",
       "      <th>3DS</th>\n",
       "      <td>6</td>\n",
       "    </tr>\n",
       "    <tr>\n",
       "      <th>DC</th>\n",
       "      <td>7</td>\n",
       "    </tr>\n",
       "    <tr>\n",
       "      <th>DS</th>\n",
       "      <td>11</td>\n",
       "    </tr>\n",
       "    <tr>\n",
       "      <th>GB</th>\n",
       "      <td>13</td>\n",
       "    </tr>\n",
       "    <tr>\n",
       "      <th>GBA</th>\n",
       "      <td>8</td>\n",
       "    </tr>\n",
       "    <tr>\n",
       "      <th>GC</th>\n",
       "      <td>7</td>\n",
       "    </tr>\n",
       "    <tr>\n",
       "      <th>GEN</th>\n",
       "      <td>5</td>\n",
       "    </tr>\n",
       "    <tr>\n",
       "      <th>GG</th>\n",
       "      <td>1</td>\n",
       "    </tr>\n",
       "    <tr>\n",
       "      <th>N64</th>\n",
       "      <td>7</td>\n",
       "    </tr>\n",
       "    <tr>\n",
       "      <th>NES</th>\n",
       "      <td>12</td>\n",
       "    </tr>\n",
       "    <tr>\n",
       "      <th>NG</th>\n",
       "      <td>4</td>\n",
       "    </tr>\n",
       "    <tr>\n",
       "      <th>PC</th>\n",
       "      <td>26</td>\n",
       "    </tr>\n",
       "    <tr>\n",
       "      <th>PCFX</th>\n",
       "      <td>1</td>\n",
       "    </tr>\n",
       "    <tr>\n",
       "      <th>PS</th>\n",
       "      <td>10</td>\n",
       "    </tr>\n",
       "    <tr>\n",
       "      <th>PS2</th>\n",
       "      <td>12</td>\n",
       "    </tr>\n",
       "    <tr>\n",
       "      <th>PS3</th>\n",
       "      <td>11</td>\n",
       "    </tr>\n",
       "    <tr>\n",
       "      <th>PS4</th>\n",
       "      <td>4</td>\n",
       "    </tr>\n",
       "    <tr>\n",
       "      <th>PSP</th>\n",
       "      <td>12</td>\n",
       "    </tr>\n",
       "    <tr>\n",
       "      <th>PSV</th>\n",
       "      <td>6</td>\n",
       "    </tr>\n",
       "    <tr>\n",
       "      <th>SAT</th>\n",
       "      <td>6</td>\n",
       "    </tr>\n",
       "    <tr>\n",
       "      <th>SCD</th>\n",
       "      <td>2</td>\n",
       "    </tr>\n",
       "    <tr>\n",
       "      <th>SNES</th>\n",
       "      <td>10</td>\n",
       "    </tr>\n",
       "    <tr>\n",
       "      <th>TG16</th>\n",
       "      <td>1</td>\n",
       "    </tr>\n",
       "    <tr>\n",
       "      <th>WS</th>\n",
       "      <td>3</td>\n",
       "    </tr>\n",
       "    <tr>\n",
       "      <th>Wii</th>\n",
       "      <td>11</td>\n",
       "    </tr>\n",
       "    <tr>\n",
       "      <th>WiiU</th>\n",
       "      <td>5</td>\n",
       "    </tr>\n",
       "    <tr>\n",
       "      <th>X360</th>\n",
       "      <td>12</td>\n",
       "    </tr>\n",
       "    <tr>\n",
       "      <th>XB</th>\n",
       "      <td>9</td>\n",
       "    </tr>\n",
       "    <tr>\n",
       "      <th>XOne</th>\n",
       "      <td>4</td>\n",
       "    </tr>\n",
       "  </tbody>\n",
       "</table>\n",
       "</div>"
      ],
      "text/plain": [
       "          year_of_release\n",
       "platform                 \n",
       "2600                   10\n",
       "3DO                     2\n",
       "3DS                     6\n",
       "DC                      7\n",
       "DS                     11\n",
       "GB                     13\n",
       "GBA                     8\n",
       "GC                      7\n",
       "GEN                     5\n",
       "GG                      1\n",
       "N64                     7\n",
       "NES                    12\n",
       "NG                      4\n",
       "PC                     26\n",
       "PCFX                    1\n",
       "PS                     10\n",
       "PS2                    12\n",
       "PS3                    11\n",
       "PS4                     4\n",
       "PSP                    12\n",
       "PSV                     6\n",
       "SAT                     6\n",
       "SCD                     2\n",
       "SNES                   10\n",
       "TG16                    1\n",
       "WS                      3\n",
       "Wii                    11\n",
       "WiiU                    5\n",
       "X360                   12\n",
       "XB                      9\n",
       "XOne                    4"
      ]
     },
     "execution_count": 74,
     "metadata": {},
     "output_type": "execute_result"
    }
   ],
   "source": [
    "temp = (games.loc[:,['year_of_release', 'platform']]\n",
    "        .drop_duplicates()\n",
    "        .pivot_table(index=['platform'], values='year_of_release', aggfunc='count'))\n",
    "temp"
   ]
  },
  {
   "cell_type": "code",
   "execution_count": 75,
   "metadata": {},
   "outputs": [
    {
     "data": {
      "text/plain": [
       "count    31.000000\n",
       "mean      7.677419\n",
       "std       5.081910\n",
       "min       1.000000\n",
       "25%       4.000000\n",
       "50%       7.000000\n",
       "75%      11.000000\n",
       "max      26.000000\n",
       "Name: year_of_release, dtype: float64"
      ]
     },
     "execution_count": 75,
     "metadata": {},
     "output_type": "execute_result"
    }
   ],
   "source": [
    "# посчитаем среднее количество игр за жизнь платформы\n",
    "temp.year_of_release.describe()"
   ]
  },
  {
   "cell_type": "markdown",
   "metadata": {},
   "source": [
    "Отталкиваясь от диаграмм распределения по годам выше и среднему значению количества лет выпускания игр на платформу, можно сделать вывод, что средний период жизни платформ длится 7-10 лет."
   ]
  },
  {
   "cell_type": "markdown",
   "metadata": {},
   "source": [
    "### Возьмем для дальнейшего анализа данные за соответствующий актуальный период. "
   ]
  },
  {
   "cell_type": "markdown",
   "metadata": {},
   "source": [
    "Ранее мы решили использовать данные начиная с 2012 года"
   ]
  },
  {
   "cell_type": "code",
   "execution_count": 76,
   "metadata": {
    "scrolled": true
   },
   "outputs": [
    {
     "data": {
      "text/html": [
       "<div>\n",
       "<style scoped>\n",
       "    .dataframe tbody tr th:only-of-type {\n",
       "        vertical-align: middle;\n",
       "    }\n",
       "\n",
       "    .dataframe tbody tr th {\n",
       "        vertical-align: top;\n",
       "    }\n",
       "\n",
       "    .dataframe thead th {\n",
       "        text-align: right;\n",
       "    }\n",
       "</style>\n",
       "<table border=\"1\" class=\"dataframe\">\n",
       "  <thead>\n",
       "    <tr style=\"text-align: right;\">\n",
       "      <th></th>\n",
       "      <th>name</th>\n",
       "      <th>platform</th>\n",
       "      <th>year_of_release</th>\n",
       "      <th>genre</th>\n",
       "      <th>na_sales</th>\n",
       "      <th>eu_sales</th>\n",
       "      <th>jp_sales</th>\n",
       "      <th>other_sales</th>\n",
       "      <th>critic_score</th>\n",
       "      <th>user_score</th>\n",
       "      <th>rating</th>\n",
       "      <th>total_sales</th>\n",
       "    </tr>\n",
       "  </thead>\n",
       "  <tbody>\n",
       "    <tr>\n",
       "      <th>16</th>\n",
       "      <td>Grand Theft Auto V</td>\n",
       "      <td>PS3</td>\n",
       "      <td>2013</td>\n",
       "      <td>Action</td>\n",
       "      <td>7.02</td>\n",
       "      <td>9.09</td>\n",
       "      <td>0.98</td>\n",
       "      <td>3.96</td>\n",
       "      <td>97.0</td>\n",
       "      <td>8.2</td>\n",
       "      <td>M</td>\n",
       "      <td>21.05</td>\n",
       "    </tr>\n",
       "    <tr>\n",
       "      <th>23</th>\n",
       "      <td>Grand Theft Auto V</td>\n",
       "      <td>X360</td>\n",
       "      <td>2013</td>\n",
       "      <td>Action</td>\n",
       "      <td>9.66</td>\n",
       "      <td>5.14</td>\n",
       "      <td>0.06</td>\n",
       "      <td>1.41</td>\n",
       "      <td>97.0</td>\n",
       "      <td>8.1</td>\n",
       "      <td>M</td>\n",
       "      <td>16.27</td>\n",
       "    </tr>\n",
       "    <tr>\n",
       "      <th>31</th>\n",
       "      <td>Call of Duty: Black Ops 3</td>\n",
       "      <td>PS4</td>\n",
       "      <td>2015</td>\n",
       "      <td>Shooter</td>\n",
       "      <td>6.03</td>\n",
       "      <td>5.86</td>\n",
       "      <td>0.36</td>\n",
       "      <td>2.38</td>\n",
       "      <td>NaN</td>\n",
       "      <td>NaN</td>\n",
       "      <td>RP</td>\n",
       "      <td>14.63</td>\n",
       "    </tr>\n",
       "    <tr>\n",
       "      <th>33</th>\n",
       "      <td>Pokemon X/Pokemon Y</td>\n",
       "      <td>3DS</td>\n",
       "      <td>2013</td>\n",
       "      <td>Role-Playing</td>\n",
       "      <td>5.28</td>\n",
       "      <td>4.19</td>\n",
       "      <td>4.35</td>\n",
       "      <td>0.78</td>\n",
       "      <td>NaN</td>\n",
       "      <td>NaN</td>\n",
       "      <td>RP</td>\n",
       "      <td>14.60</td>\n",
       "    </tr>\n",
       "    <tr>\n",
       "      <th>34</th>\n",
       "      <td>Call of Duty: Black Ops II</td>\n",
       "      <td>PS3</td>\n",
       "      <td>2012</td>\n",
       "      <td>Shooter</td>\n",
       "      <td>4.99</td>\n",
       "      <td>5.73</td>\n",
       "      <td>0.65</td>\n",
       "      <td>2.42</td>\n",
       "      <td>83.0</td>\n",
       "      <td>5.3</td>\n",
       "      <td>M</td>\n",
       "      <td>13.79</td>\n",
       "    </tr>\n",
       "    <tr>\n",
       "      <th>...</th>\n",
       "      <td>...</td>\n",
       "      <td>...</td>\n",
       "      <td>...</td>\n",
       "      <td>...</td>\n",
       "      <td>...</td>\n",
       "      <td>...</td>\n",
       "      <td>...</td>\n",
       "      <td>...</td>\n",
       "      <td>...</td>\n",
       "      <td>...</td>\n",
       "      <td>...</td>\n",
       "      <td>...</td>\n",
       "    </tr>\n",
       "    <tr>\n",
       "      <th>16703</th>\n",
       "      <td>Strawberry Nauts</td>\n",
       "      <td>PSV</td>\n",
       "      <td>2016</td>\n",
       "      <td>Adventure</td>\n",
       "      <td>0.00</td>\n",
       "      <td>0.00</td>\n",
       "      <td>0.01</td>\n",
       "      <td>0.00</td>\n",
       "      <td>NaN</td>\n",
       "      <td>NaN</td>\n",
       "      <td>RP</td>\n",
       "      <td>0.01</td>\n",
       "    </tr>\n",
       "    <tr>\n",
       "      <th>16707</th>\n",
       "      <td>Aiyoku no Eustia</td>\n",
       "      <td>PSV</td>\n",
       "      <td>2014</td>\n",
       "      <td>Misc</td>\n",
       "      <td>0.00</td>\n",
       "      <td>0.00</td>\n",
       "      <td>0.01</td>\n",
       "      <td>0.00</td>\n",
       "      <td>NaN</td>\n",
       "      <td>NaN</td>\n",
       "      <td>RP</td>\n",
       "      <td>0.01</td>\n",
       "    </tr>\n",
       "    <tr>\n",
       "      <th>16710</th>\n",
       "      <td>Samurai Warriors: Sanada Maru</td>\n",
       "      <td>PS3</td>\n",
       "      <td>2016</td>\n",
       "      <td>Action</td>\n",
       "      <td>0.00</td>\n",
       "      <td>0.00</td>\n",
       "      <td>0.01</td>\n",
       "      <td>0.00</td>\n",
       "      <td>NaN</td>\n",
       "      <td>NaN</td>\n",
       "      <td>RP</td>\n",
       "      <td>0.01</td>\n",
       "    </tr>\n",
       "    <tr>\n",
       "      <th>16712</th>\n",
       "      <td>Haitaka no Psychedelica</td>\n",
       "      <td>PSV</td>\n",
       "      <td>2016</td>\n",
       "      <td>Adventure</td>\n",
       "      <td>0.00</td>\n",
       "      <td>0.00</td>\n",
       "      <td>0.01</td>\n",
       "      <td>0.00</td>\n",
       "      <td>NaN</td>\n",
       "      <td>NaN</td>\n",
       "      <td>RP</td>\n",
       "      <td>0.01</td>\n",
       "    </tr>\n",
       "    <tr>\n",
       "      <th>16714</th>\n",
       "      <td>Winning Post 8 2016</td>\n",
       "      <td>PSV</td>\n",
       "      <td>2016</td>\n",
       "      <td>Simulation</td>\n",
       "      <td>0.00</td>\n",
       "      <td>0.00</td>\n",
       "      <td>0.01</td>\n",
       "      <td>0.00</td>\n",
       "      <td>NaN</td>\n",
       "      <td>NaN</td>\n",
       "      <td>RP</td>\n",
       "      <td>0.01</td>\n",
       "    </tr>\n",
       "  </tbody>\n",
       "</table>\n",
       "<p>2886 rows × 12 columns</p>\n",
       "</div>"
      ],
      "text/plain": [
       "                                name platform  year_of_release         genre  \\\n",
       "16                Grand Theft Auto V      PS3             2013        Action   \n",
       "23                Grand Theft Auto V     X360             2013        Action   \n",
       "31         Call of Duty: Black Ops 3      PS4             2015       Shooter   \n",
       "33               Pokemon X/Pokemon Y      3DS             2013  Role-Playing   \n",
       "34        Call of Duty: Black Ops II      PS3             2012       Shooter   \n",
       "...                              ...      ...              ...           ...   \n",
       "16703               Strawberry Nauts      PSV             2016     Adventure   \n",
       "16707               Aiyoku no Eustia      PSV             2014          Misc   \n",
       "16710  Samurai Warriors: Sanada Maru      PS3             2016        Action   \n",
       "16712        Haitaka no Psychedelica      PSV             2016     Adventure   \n",
       "16714            Winning Post 8 2016      PSV             2016    Simulation   \n",
       "\n",
       "       na_sales  eu_sales  jp_sales  other_sales  critic_score  user_score  \\\n",
       "16         7.02      9.09      0.98         3.96          97.0         8.2   \n",
       "23         9.66      5.14      0.06         1.41          97.0         8.1   \n",
       "31         6.03      5.86      0.36         2.38           NaN         NaN   \n",
       "33         5.28      4.19      4.35         0.78           NaN         NaN   \n",
       "34         4.99      5.73      0.65         2.42          83.0         5.3   \n",
       "...         ...       ...       ...          ...           ...         ...   \n",
       "16703      0.00      0.00      0.01         0.00           NaN         NaN   \n",
       "16707      0.00      0.00      0.01         0.00           NaN         NaN   \n",
       "16710      0.00      0.00      0.01         0.00           NaN         NaN   \n",
       "16712      0.00      0.00      0.01         0.00           NaN         NaN   \n",
       "16714      0.00      0.00      0.01         0.00           NaN         NaN   \n",
       "\n",
       "      rating  total_sales  \n",
       "16         M        21.05  \n",
       "23         M        16.27  \n",
       "31        RP        14.63  \n",
       "33        RP        14.60  \n",
       "34         M        13.79  \n",
       "...      ...          ...  \n",
       "16703     RP         0.01  \n",
       "16707     RP         0.01  \n",
       "16710     RP         0.01  \n",
       "16712     RP         0.01  \n",
       "16714     RP         0.01  \n",
       "\n",
       "[2886 rows x 12 columns]"
      ]
     },
     "execution_count": 76,
     "metadata": {},
     "output_type": "execute_result"
    }
   ],
   "source": [
    "#зададим временную границу для наших данных\n",
    "games = games[games['year_of_release'] >= 2012]\n",
    "games"
   ]
  },
  {
   "cell_type": "markdown",
   "metadata": {},
   "source": [
    "### Посмотрим какие платформы лидируют по продажам, растут или падают\n"
   ]
  },
  {
   "cell_type": "markdown",
   "metadata": {},
   "source": [
    "Судя по графикам распределения по годам, можно сказать что многие плаформы из нашего списка топ6 к 2016 году уже все таки устарели\n",
    "\n",
    "PS2 в 2011 году, X360 к 2015 году, Wii к 2015, DS к 2013, PS3 к 2016, PS к 2002\n",
    "\n",
    "Поэтому мы можем взять эти же платформы, но последнии версии:\n",
    "\n",
    "'PS4','XONE','PC','WiiU','3DS', 'PSV'"
   ]
  },
  {
   "cell_type": "code",
   "execution_count": 77,
   "metadata": {},
   "outputs": [
    {
     "data": {
      "text/html": [
       "<div>\n",
       "<style scoped>\n",
       "    .dataframe tbody tr th:only-of-type {\n",
       "        vertical-align: middle;\n",
       "    }\n",
       "\n",
       "    .dataframe tbody tr th {\n",
       "        vertical-align: top;\n",
       "    }\n",
       "\n",
       "    .dataframe thead th {\n",
       "        text-align: right;\n",
       "    }\n",
       "</style>\n",
       "<table border=\"1\" class=\"dataframe\">\n",
       "  <thead>\n",
       "    <tr style=\"text-align: right;\">\n",
       "      <th>platform</th>\n",
       "      <th>3DS</th>\n",
       "      <th>DS</th>\n",
       "      <th>PC</th>\n",
       "      <th>PS3</th>\n",
       "      <th>PS4</th>\n",
       "      <th>PSP</th>\n",
       "      <th>PSV</th>\n",
       "      <th>Wii</th>\n",
       "      <th>WiiU</th>\n",
       "      <th>X360</th>\n",
       "      <th>XOne</th>\n",
       "    </tr>\n",
       "    <tr>\n",
       "      <th>year_of_release</th>\n",
       "      <th></th>\n",
       "      <th></th>\n",
       "      <th></th>\n",
       "      <th></th>\n",
       "      <th></th>\n",
       "      <th></th>\n",
       "      <th></th>\n",
       "      <th></th>\n",
       "      <th></th>\n",
       "      <th></th>\n",
       "      <th></th>\n",
       "    </tr>\n",
       "  </thead>\n",
       "  <tbody>\n",
       "    <tr>\n",
       "      <th>2015</th>\n",
       "      <td>27.78</td>\n",
       "      <td>NaN</td>\n",
       "      <td>8.52</td>\n",
       "      <td>16.82</td>\n",
       "      <td>118.90</td>\n",
       "      <td>0.12</td>\n",
       "      <td>6.25</td>\n",
       "      <td>1.14</td>\n",
       "      <td>16.35</td>\n",
       "      <td>11.96</td>\n",
       "      <td>60.14</td>\n",
       "    </tr>\n",
       "    <tr>\n",
       "      <th>2016</th>\n",
       "      <td>15.14</td>\n",
       "      <td>NaN</td>\n",
       "      <td>5.25</td>\n",
       "      <td>3.60</td>\n",
       "      <td>69.25</td>\n",
       "      <td>NaN</td>\n",
       "      <td>4.25</td>\n",
       "      <td>0.18</td>\n",
       "      <td>4.60</td>\n",
       "      <td>1.52</td>\n",
       "      <td>26.15</td>\n",
       "    </tr>\n",
       "  </tbody>\n",
       "</table>\n",
       "</div>"
      ],
      "text/plain": [
       "platform           3DS  DS    PC    PS3     PS4   PSP   PSV   Wii   WiiU  \\\n",
       "year_of_release                                                            \n",
       "2015             27.78 NaN  8.52  16.82  118.90  0.12  6.25  1.14  16.35   \n",
       "2016             15.14 NaN  5.25   3.60   69.25   NaN  4.25  0.18   4.60   \n",
       "\n",
       "platform          X360   XOne  \n",
       "year_of_release                \n",
       "2015             11.96  60.14  \n",
       "2016              1.52  26.15  "
      ]
     },
     "execution_count": 77,
     "metadata": {},
     "output_type": "execute_result"
    }
   ],
   "source": [
    "# посмотрим на сами продажи\n",
    "games.pivot_table(index='year_of_release', columns='platform', values='total_sales', aggfunc='sum').loc[[2015, 2016]]"
   ]
  },
  {
   "cell_type": "code",
   "execution_count": 78,
   "metadata": {
    "scrolled": false
   },
   "outputs": [
    {
     "data": {
      "text/html": [
       "<div>\n",
       "<style scoped>\n",
       "    .dataframe tbody tr th:only-of-type {\n",
       "        vertical-align: middle;\n",
       "    }\n",
       "\n",
       "    .dataframe tbody tr th {\n",
       "        vertical-align: top;\n",
       "    }\n",
       "\n",
       "    .dataframe thead th {\n",
       "        text-align: right;\n",
       "    }\n",
       "</style>\n",
       "<table border=\"1\" class=\"dataframe\">\n",
       "  <thead>\n",
       "    <tr style=\"text-align: right;\">\n",
       "      <th></th>\n",
       "      <th>name</th>\n",
       "      <th>platform</th>\n",
       "      <th>year_of_release</th>\n",
       "      <th>genre</th>\n",
       "      <th>na_sales</th>\n",
       "      <th>eu_sales</th>\n",
       "      <th>jp_sales</th>\n",
       "      <th>other_sales</th>\n",
       "      <th>critic_score</th>\n",
       "      <th>user_score</th>\n",
       "      <th>rating</th>\n",
       "      <th>total_sales</th>\n",
       "    </tr>\n",
       "  </thead>\n",
       "  <tbody>\n",
       "    <tr>\n",
       "      <th>31</th>\n",
       "      <td>Call of Duty: Black Ops 3</td>\n",
       "      <td>PS4</td>\n",
       "      <td>2015</td>\n",
       "      <td>Shooter</td>\n",
       "      <td>6.03</td>\n",
       "      <td>5.86</td>\n",
       "      <td>0.36</td>\n",
       "      <td>2.38</td>\n",
       "      <td>NaN</td>\n",
       "      <td>NaN</td>\n",
       "      <td>RP</td>\n",
       "      <td>14.63</td>\n",
       "    </tr>\n",
       "    <tr>\n",
       "      <th>33</th>\n",
       "      <td>Pokemon X/Pokemon Y</td>\n",
       "      <td>3DS</td>\n",
       "      <td>2013</td>\n",
       "      <td>Role-Playing</td>\n",
       "      <td>5.28</td>\n",
       "      <td>4.19</td>\n",
       "      <td>4.35</td>\n",
       "      <td>0.78</td>\n",
       "      <td>NaN</td>\n",
       "      <td>NaN</td>\n",
       "      <td>RP</td>\n",
       "      <td>14.60</td>\n",
       "    </tr>\n",
       "    <tr>\n",
       "      <th>42</th>\n",
       "      <td>Grand Theft Auto V</td>\n",
       "      <td>PS4</td>\n",
       "      <td>2014</td>\n",
       "      <td>Action</td>\n",
       "      <td>3.96</td>\n",
       "      <td>6.31</td>\n",
       "      <td>0.38</td>\n",
       "      <td>1.97</td>\n",
       "      <td>97.0</td>\n",
       "      <td>8.3</td>\n",
       "      <td>M</td>\n",
       "      <td>12.62</td>\n",
       "    </tr>\n",
       "    <tr>\n",
       "      <th>47</th>\n",
       "      <td>Pokemon Omega Ruby/Pokemon Alpha Sapphire</td>\n",
       "      <td>3DS</td>\n",
       "      <td>2014</td>\n",
       "      <td>Role-Playing</td>\n",
       "      <td>4.35</td>\n",
       "      <td>3.49</td>\n",
       "      <td>3.10</td>\n",
       "      <td>0.74</td>\n",
       "      <td>NaN</td>\n",
       "      <td>NaN</td>\n",
       "      <td>RP</td>\n",
       "      <td>11.68</td>\n",
       "    </tr>\n",
       "    <tr>\n",
       "      <th>62</th>\n",
       "      <td>New Super Mario Bros. 2</td>\n",
       "      <td>3DS</td>\n",
       "      <td>2012</td>\n",
       "      <td>Platform</td>\n",
       "      <td>3.66</td>\n",
       "      <td>3.14</td>\n",
       "      <td>2.47</td>\n",
       "      <td>0.63</td>\n",
       "      <td>78.0</td>\n",
       "      <td>7.2</td>\n",
       "      <td>E</td>\n",
       "      <td>9.90</td>\n",
       "    </tr>\n",
       "    <tr>\n",
       "      <th>...</th>\n",
       "      <td>...</td>\n",
       "      <td>...</td>\n",
       "      <td>...</td>\n",
       "      <td>...</td>\n",
       "      <td>...</td>\n",
       "      <td>...</td>\n",
       "      <td>...</td>\n",
       "      <td>...</td>\n",
       "      <td>...</td>\n",
       "      <td>...</td>\n",
       "      <td>...</td>\n",
       "      <td>...</td>\n",
       "    </tr>\n",
       "    <tr>\n",
       "      <th>16699</th>\n",
       "      <td>The Longest 5 Minutes</td>\n",
       "      <td>PSV</td>\n",
       "      <td>2016</td>\n",
       "      <td>Action</td>\n",
       "      <td>0.00</td>\n",
       "      <td>0.00</td>\n",
       "      <td>0.01</td>\n",
       "      <td>0.00</td>\n",
       "      <td>NaN</td>\n",
       "      <td>NaN</td>\n",
       "      <td>RP</td>\n",
       "      <td>0.01</td>\n",
       "    </tr>\n",
       "    <tr>\n",
       "      <th>16703</th>\n",
       "      <td>Strawberry Nauts</td>\n",
       "      <td>PSV</td>\n",
       "      <td>2016</td>\n",
       "      <td>Adventure</td>\n",
       "      <td>0.00</td>\n",
       "      <td>0.00</td>\n",
       "      <td>0.01</td>\n",
       "      <td>0.00</td>\n",
       "      <td>NaN</td>\n",
       "      <td>NaN</td>\n",
       "      <td>RP</td>\n",
       "      <td>0.01</td>\n",
       "    </tr>\n",
       "    <tr>\n",
       "      <th>16707</th>\n",
       "      <td>Aiyoku no Eustia</td>\n",
       "      <td>PSV</td>\n",
       "      <td>2014</td>\n",
       "      <td>Misc</td>\n",
       "      <td>0.00</td>\n",
       "      <td>0.00</td>\n",
       "      <td>0.01</td>\n",
       "      <td>0.00</td>\n",
       "      <td>NaN</td>\n",
       "      <td>NaN</td>\n",
       "      <td>RP</td>\n",
       "      <td>0.01</td>\n",
       "    </tr>\n",
       "    <tr>\n",
       "      <th>16712</th>\n",
       "      <td>Haitaka no Psychedelica</td>\n",
       "      <td>PSV</td>\n",
       "      <td>2016</td>\n",
       "      <td>Adventure</td>\n",
       "      <td>0.00</td>\n",
       "      <td>0.00</td>\n",
       "      <td>0.01</td>\n",
       "      <td>0.00</td>\n",
       "      <td>NaN</td>\n",
       "      <td>NaN</td>\n",
       "      <td>RP</td>\n",
       "      <td>0.01</td>\n",
       "    </tr>\n",
       "    <tr>\n",
       "      <th>16714</th>\n",
       "      <td>Winning Post 8 2016</td>\n",
       "      <td>PSV</td>\n",
       "      <td>2016</td>\n",
       "      <td>Simulation</td>\n",
       "      <td>0.00</td>\n",
       "      <td>0.00</td>\n",
       "      <td>0.01</td>\n",
       "      <td>0.00</td>\n",
       "      <td>NaN</td>\n",
       "      <td>NaN</td>\n",
       "      <td>RP</td>\n",
       "      <td>0.01</td>\n",
       "    </tr>\n",
       "  </tbody>\n",
       "</table>\n",
       "<p>1843 rows × 12 columns</p>\n",
       "</div>"
      ],
      "text/plain": [
       "                                            name platform  year_of_release  \\\n",
       "31                     Call of Duty: Black Ops 3      PS4             2015   \n",
       "33                           Pokemon X/Pokemon Y      3DS             2013   \n",
       "42                            Grand Theft Auto V      PS4             2014   \n",
       "47     Pokemon Omega Ruby/Pokemon Alpha Sapphire      3DS             2014   \n",
       "62                       New Super Mario Bros. 2      3DS             2012   \n",
       "...                                          ...      ...              ...   \n",
       "16699                      The Longest 5 Minutes      PSV             2016   \n",
       "16703                           Strawberry Nauts      PSV             2016   \n",
       "16707                           Aiyoku no Eustia      PSV             2014   \n",
       "16712                    Haitaka no Psychedelica      PSV             2016   \n",
       "16714                        Winning Post 8 2016      PSV             2016   \n",
       "\n",
       "              genre  na_sales  eu_sales  jp_sales  other_sales  critic_score  \\\n",
       "31          Shooter      6.03      5.86      0.36         2.38           NaN   \n",
       "33     Role-Playing      5.28      4.19      4.35         0.78           NaN   \n",
       "42           Action      3.96      6.31      0.38         1.97          97.0   \n",
       "47     Role-Playing      4.35      3.49      3.10         0.74           NaN   \n",
       "62         Platform      3.66      3.14      2.47         0.63          78.0   \n",
       "...             ...       ...       ...       ...          ...           ...   \n",
       "16699        Action      0.00      0.00      0.01         0.00           NaN   \n",
       "16703     Adventure      0.00      0.00      0.01         0.00           NaN   \n",
       "16707          Misc      0.00      0.00      0.01         0.00           NaN   \n",
       "16712     Adventure      0.00      0.00      0.01         0.00           NaN   \n",
       "16714    Simulation      0.00      0.00      0.01         0.00           NaN   \n",
       "\n",
       "       user_score rating  total_sales  \n",
       "31            NaN     RP        14.63  \n",
       "33            NaN     RP        14.60  \n",
       "42            8.3      M        12.62  \n",
       "47            NaN     RP        11.68  \n",
       "62            7.2      E         9.90  \n",
       "...           ...    ...          ...  \n",
       "16699         NaN     RP         0.01  \n",
       "16703         NaN     RP         0.01  \n",
       "16707         NaN     RP         0.01  \n",
       "16712         NaN     RP         0.01  \n",
       "16714         NaN     RP         0.01  \n",
       "\n",
       "[1843 rows x 12 columns]"
      ]
     },
     "execution_count": 78,
     "metadata": {},
     "output_type": "execute_result"
    }
   ],
   "source": [
    "#создадим таблицу с нашими новыми топ6 платформами\n",
    "games_top_6_platforms = games[games['platform'].isin(['PS4','XOne','PC','WiiU','3DS', 'PSV'])]\n",
    "games_top_6_platforms"
   ]
  },
  {
   "cell_type": "code",
   "execution_count": 79,
   "metadata": {
    "scrolled": true
   },
   "outputs": [
    {
     "data": {
      "text/plain": [
       "count    1843.000000\n",
       "mean        0.467765\n",
       "std         1.139778\n",
       "min         0.010000\n",
       "25%         0.030000\n",
       "50%         0.110000\n",
       "75%         0.370000\n",
       "max        14.630000\n",
       "Name: total_sales, dtype: float64"
      ]
     },
     "execution_count": 79,
     "metadata": {},
     "output_type": "execute_result"
    }
   ],
   "source": [
    "games_top_6_platforms['total_sales'].describe()"
   ]
  },
  {
   "cell_type": "code",
   "execution_count": 80,
   "metadata": {
    "scrolled": false
   },
   "outputs": [
    {
     "data": {
      "text/html": [
       "<div>\n",
       "<style scoped>\n",
       "    .dataframe tbody tr th:only-of-type {\n",
       "        vertical-align: middle;\n",
       "    }\n",
       "\n",
       "    .dataframe tbody tr th {\n",
       "        vertical-align: top;\n",
       "    }\n",
       "\n",
       "    .dataframe thead th {\n",
       "        text-align: right;\n",
       "    }\n",
       "</style>\n",
       "<table border=\"1\" class=\"dataframe\">\n",
       "  <thead>\n",
       "    <tr style=\"text-align: right;\">\n",
       "      <th></th>\n",
       "      <th>count</th>\n",
       "      <th>mean</th>\n",
       "      <th>std</th>\n",
       "      <th>min</th>\n",
       "      <th>25%</th>\n",
       "      <th>50%</th>\n",
       "      <th>75%</th>\n",
       "      <th>max</th>\n",
       "    </tr>\n",
       "    <tr>\n",
       "      <th>platform</th>\n",
       "      <th></th>\n",
       "      <th></th>\n",
       "      <th></th>\n",
       "      <th></th>\n",
       "      <th></th>\n",
       "      <th></th>\n",
       "      <th></th>\n",
       "      <th></th>\n",
       "    </tr>\n",
       "  </thead>\n",
       "  <tbody>\n",
       "    <tr>\n",
       "      <th>3DS</th>\n",
       "      <td>396.0</td>\n",
       "      <td>0.491439</td>\n",
       "      <td>1.387161</td>\n",
       "      <td>0.01</td>\n",
       "      <td>0.04</td>\n",
       "      <td>0.11</td>\n",
       "      <td>0.3125</td>\n",
       "      <td>14.60</td>\n",
       "    </tr>\n",
       "    <tr>\n",
       "      <th>PC</th>\n",
       "      <td>250.0</td>\n",
       "      <td>0.250600</td>\n",
       "      <td>0.494640</td>\n",
       "      <td>0.01</td>\n",
       "      <td>0.03</td>\n",
       "      <td>0.08</td>\n",
       "      <td>0.2400</td>\n",
       "      <td>5.14</td>\n",
       "    </tr>\n",
       "    <tr>\n",
       "      <th>PS4</th>\n",
       "      <td>392.0</td>\n",
       "      <td>0.801378</td>\n",
       "      <td>1.609456</td>\n",
       "      <td>0.01</td>\n",
       "      <td>0.06</td>\n",
       "      <td>0.20</td>\n",
       "      <td>0.7300</td>\n",
       "      <td>14.63</td>\n",
       "    </tr>\n",
       "    <tr>\n",
       "      <th>PSV</th>\n",
       "      <td>411.0</td>\n",
       "      <td>0.119659</td>\n",
       "      <td>0.203011</td>\n",
       "      <td>0.01</td>\n",
       "      <td>0.02</td>\n",
       "      <td>0.05</td>\n",
       "      <td>0.1200</td>\n",
       "      <td>1.96</td>\n",
       "    </tr>\n",
       "    <tr>\n",
       "      <th>WiiU</th>\n",
       "      <td>147.0</td>\n",
       "      <td>0.559116</td>\n",
       "      <td>1.058836</td>\n",
       "      <td>0.01</td>\n",
       "      <td>0.08</td>\n",
       "      <td>0.22</td>\n",
       "      <td>0.5250</td>\n",
       "      <td>7.09</td>\n",
       "    </tr>\n",
       "    <tr>\n",
       "      <th>XOne</th>\n",
       "      <td>247.0</td>\n",
       "      <td>0.645020</td>\n",
       "      <td>1.036139</td>\n",
       "      <td>0.01</td>\n",
       "      <td>0.06</td>\n",
       "      <td>0.22</td>\n",
       "      <td>0.6850</td>\n",
       "      <td>7.39</td>\n",
       "    </tr>\n",
       "  </tbody>\n",
       "</table>\n",
       "</div>"
      ],
      "text/plain": [
       "          count      mean       std   min   25%   50%     75%    max\n",
       "platform                                                            \n",
       "3DS       396.0  0.491439  1.387161  0.01  0.04  0.11  0.3125  14.60\n",
       "PC        250.0  0.250600  0.494640  0.01  0.03  0.08  0.2400   5.14\n",
       "PS4       392.0  0.801378  1.609456  0.01  0.06  0.20  0.7300  14.63\n",
       "PSV       411.0  0.119659  0.203011  0.01  0.02  0.05  0.1200   1.96\n",
       "WiiU      147.0  0.559116  1.058836  0.01  0.08  0.22  0.5250   7.09\n",
       "XOne      247.0  0.645020  1.036139  0.01  0.06  0.22  0.6850   7.39"
      ]
     },
     "execution_count": 80,
     "metadata": {},
     "output_type": "execute_result"
    }
   ],
   "source": [
    "#Посмотрим на количество выпущенных каждой платформой игр, \n",
    "#а также на средние глобальные продажи по платформам.\n",
    "games_top_6_platforms.groupby('platform')['total_sales'].describe()"
   ]
  },
  {
   "cell_type": "code",
   "execution_count": 81,
   "metadata": {},
   "outputs": [
    {
     "data": {
      "text/plain": [
       "Text(0, 0.5, 'Глобальные продажи')"
      ]
     },
     "execution_count": 81,
     "metadata": {},
     "output_type": "execute_result"
    },
    {
     "data": {
      "image/png": "[encoded data removed]",
      "text/plain": [
       "<Figure size 360x720 with 1 Axes>"
      ]
     },
     "metadata": {
      "needs_background": "light"
     },
     "output_type": "display_data"
    }
   ],
   "source": [
    "# Построим укрупненный график «ящик с усами» по глобальным продажам игр в разбивке по платформам\n",
    "games_top_6_platforms.boxplot('total_sales', by='platform', figsize = (5,10))\n",
    "plt.ylim(0, 2)\n",
    "plt.xlabel('Платформа', fontsize=15)\n",
    "plt.ylabel('Глобальные продажи',fontsize=15)"
   ]
  },
  {
   "cell_type": "markdown",
   "metadata": {},
   "source": [
    "Исходя из графиков видно, что медиана протекает у всех по разному.\n",
    "Но потенциально прибыльными платформами можно считать WiiU, XOne и PS4\t"
   ]
  },
  {
   "cell_type": "markdown",
   "metadata": {},
   "source": [
    "### Посмотрим, как влияют на продажи внутри одной популярной платформы отзывы пользователей и критиков. "
   ]
  },
  {
   "cell_type": "code",
   "execution_count": 82,
   "metadata": {
    "scrolled": true
   },
   "outputs": [
    {
     "data": {
      "text/html": [
       "<div>\n",
       "<style scoped>\n",
       "    .dataframe tbody tr th:only-of-type {\n",
       "        vertical-align: middle;\n",
       "    }\n",
       "\n",
       "    .dataframe tbody tr th {\n",
       "        vertical-align: top;\n",
       "    }\n",
       "\n",
       "    .dataframe thead th {\n",
       "        text-align: right;\n",
       "    }\n",
       "</style>\n",
       "<table border=\"1\" class=\"dataframe\">\n",
       "  <thead>\n",
       "    <tr style=\"text-align: right;\">\n",
       "      <th></th>\n",
       "      <th>name</th>\n",
       "      <th>platform</th>\n",
       "      <th>year_of_release</th>\n",
       "      <th>genre</th>\n",
       "      <th>na_sales</th>\n",
       "      <th>eu_sales</th>\n",
       "      <th>jp_sales</th>\n",
       "      <th>other_sales</th>\n",
       "      <th>critic_score</th>\n",
       "      <th>user_score</th>\n",
       "      <th>rating</th>\n",
       "      <th>total_sales</th>\n",
       "    </tr>\n",
       "  </thead>\n",
       "  <tbody>\n",
       "    <tr>\n",
       "      <th>31</th>\n",
       "      <td>Call of Duty: Black Ops 3</td>\n",
       "      <td>PS4</td>\n",
       "      <td>2015</td>\n",
       "      <td>Shooter</td>\n",
       "      <td>6.03</td>\n",
       "      <td>5.86</td>\n",
       "      <td>0.36</td>\n",
       "      <td>2.38</td>\n",
       "      <td>NaN</td>\n",
       "      <td>NaN</td>\n",
       "      <td>RP</td>\n",
       "      <td>14.63</td>\n",
       "    </tr>\n",
       "    <tr>\n",
       "      <th>42</th>\n",
       "      <td>Grand Theft Auto V</td>\n",
       "      <td>PS4</td>\n",
       "      <td>2014</td>\n",
       "      <td>Action</td>\n",
       "      <td>3.96</td>\n",
       "      <td>6.31</td>\n",
       "      <td>0.38</td>\n",
       "      <td>1.97</td>\n",
       "      <td>97.0</td>\n",
       "      <td>8.3</td>\n",
       "      <td>M</td>\n",
       "      <td>12.62</td>\n",
       "    </tr>\n",
       "    <tr>\n",
       "      <th>77</th>\n",
       "      <td>FIFA 16</td>\n",
       "      <td>PS4</td>\n",
       "      <td>2015</td>\n",
       "      <td>Sports</td>\n",
       "      <td>1.12</td>\n",
       "      <td>6.12</td>\n",
       "      <td>0.06</td>\n",
       "      <td>1.28</td>\n",
       "      <td>82.0</td>\n",
       "      <td>4.3</td>\n",
       "      <td>E</td>\n",
       "      <td>8.58</td>\n",
       "    </tr>\n",
       "    <tr>\n",
       "      <th>87</th>\n",
       "      <td>Star Wars Battlefront (2015)</td>\n",
       "      <td>PS4</td>\n",
       "      <td>2015</td>\n",
       "      <td>Shooter</td>\n",
       "      <td>2.99</td>\n",
       "      <td>3.49</td>\n",
       "      <td>0.22</td>\n",
       "      <td>1.28</td>\n",
       "      <td>NaN</td>\n",
       "      <td>NaN</td>\n",
       "      <td>RP</td>\n",
       "      <td>7.98</td>\n",
       "    </tr>\n",
       "    <tr>\n",
       "      <th>92</th>\n",
       "      <td>Call of Duty: Advanced Warfare</td>\n",
       "      <td>PS4</td>\n",
       "      <td>2014</td>\n",
       "      <td>Shooter</td>\n",
       "      <td>2.81</td>\n",
       "      <td>3.48</td>\n",
       "      <td>0.14</td>\n",
       "      <td>1.23</td>\n",
       "      <td>83.0</td>\n",
       "      <td>5.7</td>\n",
       "      <td>M</td>\n",
       "      <td>7.66</td>\n",
       "    </tr>\n",
       "    <tr>\n",
       "      <th>...</th>\n",
       "      <td>...</td>\n",
       "      <td>...</td>\n",
       "      <td>...</td>\n",
       "      <td>...</td>\n",
       "      <td>...</td>\n",
       "      <td>...</td>\n",
       "      <td>...</td>\n",
       "      <td>...</td>\n",
       "      <td>...</td>\n",
       "      <td>...</td>\n",
       "      <td>...</td>\n",
       "      <td>...</td>\n",
       "    </tr>\n",
       "    <tr>\n",
       "      <th>16500</th>\n",
       "      <td>Root Letter</td>\n",
       "      <td>PS4</td>\n",
       "      <td>2016</td>\n",
       "      <td>Adventure</td>\n",
       "      <td>0.00</td>\n",
       "      <td>0.00</td>\n",
       "      <td>0.01</td>\n",
       "      <td>0.00</td>\n",
       "      <td>69.0</td>\n",
       "      <td>7.5</td>\n",
       "      <td>RP</td>\n",
       "      <td>0.01</td>\n",
       "    </tr>\n",
       "    <tr>\n",
       "      <th>16503</th>\n",
       "      <td>Shin Hayarigami 2</td>\n",
       "      <td>PS4</td>\n",
       "      <td>2016</td>\n",
       "      <td>Adventure</td>\n",
       "      <td>0.00</td>\n",
       "      <td>0.00</td>\n",
       "      <td>0.01</td>\n",
       "      <td>0.00</td>\n",
       "      <td>NaN</td>\n",
       "      <td>NaN</td>\n",
       "      <td>RP</td>\n",
       "      <td>0.01</td>\n",
       "    </tr>\n",
       "    <tr>\n",
       "      <th>16526</th>\n",
       "      <td>Dungeons 2</td>\n",
       "      <td>PS4</td>\n",
       "      <td>2016</td>\n",
       "      <td>Role-Playing</td>\n",
       "      <td>0.01</td>\n",
       "      <td>0.00</td>\n",
       "      <td>0.00</td>\n",
       "      <td>0.00</td>\n",
       "      <td>61.0</td>\n",
       "      <td>7.9</td>\n",
       "      <td>T</td>\n",
       "      <td>0.01</td>\n",
       "    </tr>\n",
       "    <tr>\n",
       "      <th>16530</th>\n",
       "      <td>Carmageddon: Max Damage</td>\n",
       "      <td>PS4</td>\n",
       "      <td>2016</td>\n",
       "      <td>Action</td>\n",
       "      <td>0.01</td>\n",
       "      <td>0.00</td>\n",
       "      <td>0.00</td>\n",
       "      <td>0.00</td>\n",
       "      <td>51.0</td>\n",
       "      <td>5.5</td>\n",
       "      <td>M</td>\n",
       "      <td>0.01</td>\n",
       "    </tr>\n",
       "    <tr>\n",
       "      <th>16585</th>\n",
       "      <td>Farming 2017 - The Simulation</td>\n",
       "      <td>PS4</td>\n",
       "      <td>2016</td>\n",
       "      <td>Simulation</td>\n",
       "      <td>0.00</td>\n",
       "      <td>0.01</td>\n",
       "      <td>0.00</td>\n",
       "      <td>0.00</td>\n",
       "      <td>NaN</td>\n",
       "      <td>NaN</td>\n",
       "      <td>RP</td>\n",
       "      <td>0.01</td>\n",
       "    </tr>\n",
       "  </tbody>\n",
       "</table>\n",
       "<p>392 rows × 12 columns</p>\n",
       "</div>"
      ],
      "text/plain": [
       "                                 name platform  year_of_release         genre  \\\n",
       "31          Call of Duty: Black Ops 3      PS4             2015       Shooter   \n",
       "42                 Grand Theft Auto V      PS4             2014        Action   \n",
       "77                            FIFA 16      PS4             2015        Sports   \n",
       "87       Star Wars Battlefront (2015)      PS4             2015       Shooter   \n",
       "92     Call of Duty: Advanced Warfare      PS4             2014       Shooter   \n",
       "...                               ...      ...              ...           ...   \n",
       "16500                     Root Letter      PS4             2016     Adventure   \n",
       "16503               Shin Hayarigami 2      PS4             2016     Adventure   \n",
       "16526                      Dungeons 2      PS4             2016  Role-Playing   \n",
       "16530         Carmageddon: Max Damage      PS4             2016        Action   \n",
       "16585   Farming 2017 - The Simulation      PS4             2016    Simulation   \n",
       "\n",
       "       na_sales  eu_sales  jp_sales  other_sales  critic_score  user_score  \\\n",
       "31         6.03      5.86      0.36         2.38           NaN         NaN   \n",
       "42         3.96      6.31      0.38         1.97          97.0         8.3   \n",
       "77         1.12      6.12      0.06         1.28          82.0         4.3   \n",
       "87         2.99      3.49      0.22         1.28           NaN         NaN   \n",
       "92         2.81      3.48      0.14         1.23          83.0         5.7   \n",
       "...         ...       ...       ...          ...           ...         ...   \n",
       "16500      0.00      0.00      0.01         0.00          69.0         7.5   \n",
       "16503      0.00      0.00      0.01         0.00           NaN         NaN   \n",
       "16526      0.01      0.00      0.00         0.00          61.0         7.9   \n",
       "16530      0.01      0.00      0.00         0.00          51.0         5.5   \n",
       "16585      0.00      0.01      0.00         0.00           NaN         NaN   \n",
       "\n",
       "      rating  total_sales  \n",
       "31        RP        14.63  \n",
       "42         M        12.62  \n",
       "77         E         8.58  \n",
       "87        RP         7.98  \n",
       "92         M         7.66  \n",
       "...      ...          ...  \n",
       "16500     RP         0.01  \n",
       "16503     RP         0.01  \n",
       "16526      T         0.01  \n",
       "16530      M         0.01  \n",
       "16585     RP         0.01  \n",
       "\n",
       "[392 rows x 12 columns]"
      ]
     },
     "execution_count": 82,
     "metadata": {},
     "output_type": "execute_result"
    }
   ],
   "source": [
    "# возьмем на рассмотение платформу PS4\n",
    "PS4_score = games[games['platform']=='PS4']\n",
    "PS4_score"
   ]
  },
  {
   "cell_type": "markdown",
   "metadata": {},
   "source": [
    "Зависимость обьема продаж от оценок пользователей"
   ]
  },
  {
   "cell_type": "code",
   "execution_count": 83,
   "metadata": {
    "scrolled": true
   },
   "outputs": [
    {
     "data": {
      "text/plain": [
       "-0.031957110204556376"
      ]
     },
     "execution_count": 83,
     "metadata": {},
     "output_type": "execute_result"
    }
   ],
   "source": [
    "# посчитаем коэффициент корреляции Пирсона между оценками пользователя и продажами\n",
    "user_corr = PS4_score['user_score'].corr(PS4_score['total_sales'])\n",
    "user_corr"
   ]
  },
  {
   "cell_type": "markdown",
   "metadata": {},
   "source": [
    "У нас получился отрицательный коэффицент корреляции, однако он слишком маленький, чтобы судить о какой то зависимости пользовательских оценок и обьема продаж игр."
   ]
  },
  {
   "cell_type": "code",
   "execution_count": 84,
   "metadata": {
    "scrolled": false
   },
   "outputs": [
    {
     "data": {
      "image/png": "[encoded data removed]",
      "text/plain": [
       "<Figure size 720x432 with 1 Axes>"
      ]
     },
     "metadata": {
      "needs_background": "light"
     },
     "output_type": "display_data"
    }
   ],
   "source": [
    "#построим диаграмму рессеяния для пользовательского рейтинга\n",
    "fig, ax = plt.subplots(figsize=(10, 6))\n",
    "ax.scatter(x = PS4_score['user_score'], y = PS4_score['total_sales'])\n",
    "plt.xlabel(\"Оценка пользователей\")\n",
    "plt.ylabel(\"Общие продажи\")\n",
    "plt.show()"
   ]
  },
  {
   "cell_type": "markdown",
   "metadata": {},
   "source": [
    "А теперь зависимость обьема продаж от оценок критиков"
   ]
  },
  {
   "cell_type": "code",
   "execution_count": 85,
   "metadata": {},
   "outputs": [
    {
     "name": "stdout",
     "output_type": "stream",
     "text": [
      "name                object\n",
      "platform            object\n",
      "year_of_release      Int64\n",
      "genre               object\n",
      "na_sales           float64\n",
      "eu_sales           float64\n",
      "jp_sales           float64\n",
      "other_sales        float64\n",
      "critic_score       float64\n",
      "user_score         float64\n",
      "rating              object\n",
      "total_sales        float64\n",
      "dtype: object\n"
     ]
    }
   ],
   "source": [
    "print(games.dtypes)"
   ]
  },
  {
   "cell_type": "code",
   "execution_count": 86,
   "metadata": {
    "scrolled": true
   },
   "outputs": [
    {
     "data": {
      "text/plain": [
       "0.40656790206178095"
      ]
     },
     "execution_count": 86,
     "metadata": {},
     "output_type": "execute_result"
    }
   ],
   "source": [
    "# посчитаем коэффициент корреляции Пирсона между оценками критиков и продажами\n",
    "critic_corr = PS4_score['critic_score'].corr(PS4_score['total_sales'])\n",
    "critic_corr"
   ]
  },
  {
   "cell_type": "markdown",
   "metadata": {},
   "source": [
    "Корреляция в 0.4 говорит о наличии прямой связи, однако не слишком сильной. Выходит, что высокая оценка от критиков сопровождается повышением продаж игры, но так бывает далеко не всегда."
   ]
  },
  {
   "cell_type": "code",
   "execution_count": 87,
   "metadata": {},
   "outputs": [
    {
     "data": {
      "image/png": "[encoded data removed]",
      "text/plain": [
       "<Figure size 720x432 with 1 Axes>"
      ]
     },
     "metadata": {
      "needs_background": "light"
     },
     "output_type": "display_data"
    }
   ],
   "source": [
    "#построим диаграмму рессеяния для рейтинга критиков\n",
    "fig, ax = plt.subplots(figsize=(10, 6))\n",
    "ax.scatter(x = PS4_score['critic_score'], y = PS4_score['total_sales'])\n",
    "plt.xlabel(\"Оценка критиков\")\n",
    "plt.ylabel(\"Общие продажи\")\n",
    "plt.show()"
   ]
  },
  {
   "cell_type": "markdown",
   "metadata": {},
   "source": [
    "Произведем те же действия, но для остальных платформ из нашего списка топ-6 платформ:\n",
    "'XOne','PC','WiiU','3DS', 'PSV'"
   ]
  },
  {
   "cell_type": "code",
   "execution_count": 88,
   "metadata": {
    "scrolled": false
   },
   "outputs": [
    {
     "data": {
      "text/plain": [
       "-0.06892505328279414"
      ]
     },
     "metadata": {},
     "output_type": "display_data"
    },
    {
     "data": {
      "image/png": "[encoded data removed]",
      "text/plain": [
       "<Figure size 720x432 with 1 Axes>"
      ]
     },
     "metadata": {
      "needs_background": "light"
     },
     "output_type": "display_data"
    },
    {
     "data": {
      "text/plain": [
       "0.4169983280084017"
      ]
     },
     "metadata": {},
     "output_type": "display_data"
    },
    {
     "data": {
      "image/png": "[encoded data removed]",
      "text/plain": [
       "<Figure size 720x432 with 1 Axes>"
      ]
     },
     "metadata": {
      "needs_background": "light"
     },
     "output_type": "display_data"
    }
   ],
   "source": [
    "XOne_score = games[games['platform']=='XOne']\n",
    "# посчитаем коэффициент корреляции Пирсона между оценками пользователя и продажами\n",
    "user_corr = XOne_score['user_score'].corr(XOne_score['total_sales'])\n",
    "display(user_corr)\n",
    "#построим диаграмму рессеяния для пользовательского рейтинга\n",
    "fig, ax = plt.subplots(figsize=(10, 6))\n",
    "ax.scatter(x = XOne_score['user_score'], y = XOne_score['total_sales'])\n",
    "plt.xlabel(\"Оценка пользователей\")\n",
    "plt.ylabel(\"Общие продажи\")\n",
    "plt.show()\n",
    "# посчитаем коэффициент корреляции Пирсона между оценками критиков и продажами\n",
    "critic_corr = XOne_score['critic_score'].corr(XOne_score['total_sales'])\n",
    "display(critic_corr)\n",
    "#построим диаграмму рессеяния для рейтинга критиков\n",
    "fig, ax = plt.subplots(figsize=(10, 6))\n",
    "ax.scatter(x = XOne_score['critic_score'], y = XOne_score['total_sales'])\n",
    "plt.xlabel(\"Оценка критиков\")\n",
    "plt.ylabel(\"Общие продажи\")\n",
    "plt.show()"
   ]
  },
  {
   "cell_type": "code",
   "execution_count": 89,
   "metadata": {
    "scrolled": true
   },
   "outputs": [
    {
     "data": {
      "text/plain": [
       "-0.12186747630735577"
      ]
     },
     "metadata": {},
     "output_type": "display_data"
    },
    {
     "data": {
      "image/png": "[encoded data removed]",
      "text/plain": [
       "<Figure size 720x432 with 1 Axes>"
      ]
     },
     "metadata": {
      "needs_background": "light"
     },
     "output_type": "display_data"
    },
    {
     "data": {
      "text/plain": [
       "0.23724324311567915"
      ]
     },
     "metadata": {},
     "output_type": "display_data"
    },
    {
     "data": {
      "image/png": "[encoded data removed]",
      "text/plain": [
       "<Figure size 720x432 with 1 Axes>"
      ]
     },
     "metadata": {
      "needs_background": "light"
     },
     "output_type": "display_data"
    }
   ],
   "source": [
    "PC_score = games[games['platform']=='PC']\n",
    "# посчитаем коэффициент корреляции Пирсона между оценками пользователя и продажами\n",
    "user_corr = PC_score['user_score'].corr(PC_score['total_sales'])\n",
    "display(user_corr)\n",
    "#построим диаграмму рессеяния для пользовательского рейтинга\n",
    "fig, ax = plt.subplots(figsize=(10, 6))\n",
    "ax.scatter(x = PC_score['user_score'], y = PC_score['total_sales'])\n",
    "plt.xlabel(\"Оценка пользователей\")\n",
    "plt.ylabel(\"Общие продажи\")\n",
    "plt.show()\n",
    "# посчитаем коэффициент корреляции Пирсона между оценками критиков и продажами\n",
    "critic_corr = PC_score['critic_score'].corr(PC_score['total_sales'])\n",
    "display(critic_corr)\n",
    "#построим диаграмму рессеяния для рейтинга критиков\n",
    "fig, ax = plt.subplots(figsize=(10, 6))\n",
    "ax.scatter(x = PC_score['critic_score'], y = PC_score['total_sales'])\n",
    "plt.xlabel(\"Оценка критиков\")\n",
    "plt.ylabel(\"Общие продажи\")\n",
    "plt.show()"
   ]
  },
  {
   "cell_type": "code",
   "execution_count": 90,
   "metadata": {
    "scrolled": true
   },
   "outputs": [
    {
     "data": {
      "text/plain": [
       "0.4002190202148617"
      ]
     },
     "metadata": {},
     "output_type": "display_data"
    },
    {
     "data": {
      "image/png": "[encoded data removed]",
      "text/plain": [
       "<Figure size 720x432 with 1 Axes>"
      ]
     },
     "metadata": {
      "needs_background": "light"
     },
     "output_type": "display_data"
    },
    {
     "data": {
      "text/plain": [
       "0.34837976012017485"
      ]
     },
     "metadata": {},
     "output_type": "display_data"
    },
    {
     "data": {
      "image/png": "[encoded data removed]",
      "text/plain": [
       "<Figure size 720x432 with 1 Axes>"
      ]
     },
     "metadata": {
      "needs_background": "light"
     },
     "output_type": "display_data"
    }
   ],
   "source": [
    "WiiU_score = games[games['platform']=='WiiU']\n",
    "# посчитаем коэффициент корреляции Пирсона между оценками пользователя и продажами\n",
    "user_corr = WiiU_score['user_score'].corr(WiiU_score['total_sales'])\n",
    "display(user_corr)\n",
    "#построим диаграмму рессеяния для пользовательского рейтинга\n",
    "fig, ax = plt.subplots(figsize=(10, 6))\n",
    "ax.scatter(x = WiiU_score['user_score'], y = WiiU_score['total_sales'])\n",
    "plt.xlabel(\"Оценка пользователей\")\n",
    "plt.ylabel(\"Общие продажи\")\n",
    "plt.show()\n",
    "# посчитаем коэффициент корреляции Пирсона между оценками критиков и продажами\n",
    "critic_corr = WiiU_score['critic_score'].corr(WiiU_score['total_sales'])\n",
    "display(critic_corr)\n",
    "#построим диаграмму рессеяния для рейтинга критиков\n",
    "fig, ax = plt.subplots(figsize=(10, 6))\n",
    "ax.scatter(x = WiiU_score['critic_score'], y = WiiU_score['total_sales'])\n",
    "plt.xlabel(\"Оценка критиков\")\n",
    "plt.ylabel(\"Общие продажи\")\n",
    "plt.show()"
   ]
  },
  {
   "cell_type": "code",
   "execution_count": 91,
   "metadata": {
    "scrolled": true
   },
   "outputs": [
    {
     "data": {
      "text/plain": [
       "0.19758263411038599"
      ]
     },
     "metadata": {},
     "output_type": "display_data"
    },
    {
     "data": {
      "image/png": "[encoded data removed]",
      "text/plain": [
       "<Figure size 720x432 with 1 Axes>"
      ]
     },
     "metadata": {
      "needs_background": "light"
     },
     "output_type": "display_data"
    },
    {
     "data": {
      "text/plain": [
       "0.3208028695360785"
      ]
     },
     "metadata": {},
     "output_type": "display_data"
    },
    {
     "data": {
      "image/png": "[encoded data removed]",
      "text/plain": [
       "<Figure size 720x432 with 1 Axes>"
      ]
     },
     "metadata": {
      "needs_background": "light"
     },
     "output_type": "display_data"
    }
   ],
   "source": [
    "_3DS_score = games[games['platform']=='3DS']\n",
    "# посчитаем коэффициент корреляции Пирсона между оценками пользователя и продажами\n",
    "user_corr = _3DS_score['user_score'].corr(_3DS_score['total_sales'])\n",
    "display(user_corr)\n",
    "#построим диаграмму рессеяния для пользовательского рейтинга\n",
    "fig, ax = plt.subplots(figsize=(10, 6))\n",
    "ax.scatter(x = _3DS_score['user_score'], y = _3DS_score['total_sales'])\n",
    "plt.xlabel(\"Оценка пользователей\")\n",
    "plt.ylabel(\"Общие продажи\")\n",
    "plt.show()\n",
    "# посчитаем коэффициент корреляции Пирсона между оценками критиков и продажами\n",
    "critic_corr = _3DS_score['critic_score'].corr(_3DS_score['total_sales'])\n",
    "display(critic_corr)\n",
    "#построим диаграмму рессеяния для рейтинга критиков\n",
    "fig, ax = plt.subplots(figsize=(10, 6))\n",
    "ax.scatter(x = _3DS_score['critic_score'], y = _3DS_score['total_sales'])\n",
    "plt.xlabel(\"Оценка критиков\")\n",
    "plt.ylabel(\"Общие продажи\")\n",
    "plt.show()"
   ]
  },
  {
   "cell_type": "code",
   "execution_count": 92,
   "metadata": {
    "scrolled": true
   },
   "outputs": [
    {
     "data": {
      "text/plain": [
       "-0.004339437514314869"
      ]
     },
     "metadata": {},
     "output_type": "display_data"
    },
    {
     "data": {
      "image/png": "[encoded data removed]",
      "text/plain": [
       "<Figure size 720x432 with 1 Axes>"
      ]
     },
     "metadata": {
      "needs_background": "light"
     },
     "output_type": "display_data"
    },
    {
     "data": {
      "text/plain": [
       "0.0944878992931617"
      ]
     },
     "metadata": {},
     "output_type": "display_data"
    },
    {
     "data": {
      "image/png": "[encoded data removed]",
      "text/plain": [
       "<Figure size 720x432 with 1 Axes>"
      ]
     },
     "metadata": {
      "needs_background": "light"
     },
     "output_type": "display_data"
    }
   ],
   "source": [
    "PSV_score = games[games['platform']=='PSV']\n",
    "# посчитаем коэффициент корреляции Пирсона между оценками пользователя и продажами\n",
    "user_corr = PSV_score['user_score'].corr(PSV_score['total_sales'])\n",
    "display(user_corr)\n",
    "#построим диаграмму рессеяния для пользовательского рейтинга\n",
    "fig, ax = plt.subplots(figsize=(10, 6))\n",
    "ax.scatter(x = PSV_score['user_score'], y = PSV_score['total_sales'])\n",
    "plt.xlabel(\"Оценка пользователей\")\n",
    "plt.ylabel(\"Общие продажи\")\n",
    "plt.show()\n",
    "# посчитаем коэффициент корреляции Пирсона между оценками критиков и продажами\n",
    "critic_corr = PSV_score['critic_score'].corr(PSV_score['total_sales'])\n",
    "display(critic_corr)\n",
    "#построим диаграмму рессеяния для рейтинга критиков\n",
    "fig, ax = plt.subplots(figsize=(10, 6))\n",
    "ax.scatter(x = PSV_score['critic_score'], y = PSV_score['total_sales'])\n",
    "plt.xlabel(\"Оценка критиков\")\n",
    "plt.ylabel(\"Общие продажи\")\n",
    "plt.show()"
   ]
  },
  {
   "cell_type": "markdown",
   "metadata": {},
   "source": [
    "В целом по другим платформам ситуация следующая:\n",
    "\n",
    "Для PSV ни пользовательские оценки, ни оценки критиков не влияют на количество продаж \n",
    "\n",
    "Для пользователей 3DS и WiiU оценки и пользователей и критиков имеют небольшую прямую зависимость\n",
    "\n",
    "Среди пользователей PC замечена незначительная отрицательная корреляция с пользовательскими оценками и столько же небольшая прямая зависимость с оценками критиков\n",
    "\n",
    "XOne совсем незначительная зависимость от пользовательских оценок и небольшая прямая зависимость от оценок критиков"
   ]
  },
  {
   "cell_type": "markdown",
   "metadata": {},
   "source": [
    "### Посмотрим на общее распределение игр по жанрам"
   ]
  },
  {
   "cell_type": "code",
   "execution_count": 93,
   "metadata": {
    "scrolled": true
   },
   "outputs": [
    {
     "data": {
      "text/plain": [
       "Text(0, 0.5, 'Количество продаж')"
      ]
     },
     "execution_count": 93,
     "metadata": {},
     "output_type": "execute_result"
    },
    {
     "data": {
      "image/png": "[encoded data removed]",
      "text/plain": [
       "<Figure size 936x288 with 1 Axes>"
      ]
     },
     "metadata": {
      "needs_background": "light"
     },
     "output_type": "display_data"
    }
   ],
   "source": [
    "#построим диаграмму количества продаж в разбивке по жанрам\n",
    "sales_on_genre = games.pivot_table(index='genre', values='total_sales', aggfunc='sum').sort_values(\n",
    "    by='total_sales', ascending=False)\n",
    "\n",
    "plt.figure(figsize=(13,4))\n",
    "sns.barplot(x=sales_on_genre.index,y=sales_on_genre['total_sales'])\n",
    "plt.title(\"Продажи по жанрам за весь период\")\n",
    "plt.xlabel(\"Название жанра\")\n",
    "plt.ylabel(\"Количество продаж\")"
   ]
  },
  {
   "cell_type": "markdown",
   "metadata": {},
   "source": [
    "Из графика мы видим, что в целом по миру самые популярные жанры - с большим отрывом Action, дальше идут Shooter, Role-Playing и  Sports.\n",
    "\n",
    "Можем выделить и самые непопулярные жанры - Strategy и Puzzle."
   ]
  },
  {
   "cell_type": "markdown",
   "metadata": {},
   "source": [
    "Может быть такая ситуация, что экшн делает продажи только за счет большего количества игр и большого количества бестселлеров. Чтобы судить о прибыльности, можем посмотреть имеют ли  другие жанры больше продаж в расчете на единицу игры."
   ]
  },
  {
   "cell_type": "code",
   "execution_count": 94,
   "metadata": {},
   "outputs": [
    {
     "data": {
      "text/plain": [
       "Text(0, 0.5, ' продаж')"
      ]
     },
     "execution_count": 94,
     "metadata": {},
     "output_type": "execute_result"
    },
    {
     "data": {
      "image/png": "[encoded data removed]",
      "text/plain": [
       "<Figure size 936x288 with 1 Axes>"
      ]
     },
     "metadata": {
      "needs_background": "light"
     },
     "output_type": "display_data"
    }
   ],
   "source": [
    "#построим диаграмму медианных продаж в разбивке по жанрам\n",
    "sales_on_genre = games.pivot_table(index='genre', values='total_sales', aggfunc= 'median').sort_values(\n",
    "    by='total_sales', ascending=False)\n",
    "\n",
    "plt.figure(figsize=(13,4))\n",
    "sns.barplot(x=sales_on_genre.index,y=sales_on_genre['total_sales'])\n",
    "plt.title(\"Продажи по жанрам за весь период\")\n",
    "plt.xlabel(\"Название жанра\")\n",
    "plt.ylabel(\" продаж\")"
   ]
  },
  {
   "cell_type": "markdown",
   "metadata": {},
   "source": [
    "Из графика мы видим, что в целом по миру больше всего продаж в расчете на единицу игры имеют с большим отрывом игры жанра Shooter, дальше идут Sports и  Platform.\n",
    "\n",
    "Можем выделить и жанры с самыми небольшими продажами в расчете на единицу игры - Adventure и Puzzle."
   ]
  },
  {
   "cell_type": "markdown",
   "metadata": {},
   "source": [
    "## Составим портрет пользователя каждого региона\n",
    "Определите для пользователя каждого региона (NA, EU, JP):\n",
    "Самые популярные платформы (топ-5). Опишите различия в долях продаж.\n",
    "Самые популярные жанры (топ-5). Поясните разницу.\n",
    "Влияет ли рейтинг ESRB на продажи в отдельном регионе?"
   ]
  },
  {
   "cell_type": "code",
   "execution_count": 95,
   "metadata": {},
   "outputs": [
    {
     "data": {
      "text/plain": [
       "array(['M', 'RP', 'E', 'E10+', 'T'], dtype=object)"
      ]
     },
     "execution_count": 95,
     "metadata": {},
     "output_type": "execute_result"
    }
   ],
   "source": [
    "games['rating'].unique()"
   ]
  },
  {
   "cell_type": "markdown",
   "metadata": {},
   "source": [
    "**Северная Америка - NA**"
   ]
  },
  {
   "cell_type": "code",
   "execution_count": 96,
   "metadata": {
    "scrolled": true
   },
   "outputs": [
    {
     "data": {
      "text/html": [
       "<div>\n",
       "<style scoped>\n",
       "    .dataframe tbody tr th:only-of-type {\n",
       "        vertical-align: middle;\n",
       "    }\n",
       "\n",
       "    .dataframe tbody tr th {\n",
       "        vertical-align: top;\n",
       "    }\n",
       "\n",
       "    .dataframe thead th {\n",
       "        text-align: right;\n",
       "    }\n",
       "</style>\n",
       "<table border=\"1\" class=\"dataframe\">\n",
       "  <thead>\n",
       "    <tr style=\"text-align: right;\">\n",
       "      <th></th>\n",
       "      <th>na_sales</th>\n",
       "    </tr>\n",
       "    <tr>\n",
       "      <th>platform</th>\n",
       "      <th></th>\n",
       "    </tr>\n",
       "  </thead>\n",
       "  <tbody>\n",
       "    <tr>\n",
       "      <th>X360</th>\n",
       "      <td>140.05</td>\n",
       "    </tr>\n",
       "    <tr>\n",
       "      <th>PS4</th>\n",
       "      <td>108.74</td>\n",
       "    </tr>\n",
       "    <tr>\n",
       "      <th>PS3</th>\n",
       "      <td>103.38</td>\n",
       "    </tr>\n",
       "    <tr>\n",
       "      <th>XOne</th>\n",
       "      <td>93.12</td>\n",
       "    </tr>\n",
       "    <tr>\n",
       "      <th>3DS</th>\n",
       "      <td>55.31</td>\n",
       "    </tr>\n",
       "  </tbody>\n",
       "</table>\n",
       "</div>"
      ],
      "text/plain": [
       "          na_sales\n",
       "platform          \n",
       "X360        140.05\n",
       "PS4         108.74\n",
       "PS3         103.38\n",
       "XOne         93.12\n",
       "3DS          55.31"
      ]
     },
     "execution_count": 96,
     "metadata": {},
     "output_type": "execute_result"
    }
   ],
   "source": [
    "# посмотрим на количество продаж в разбивке по платформам\n",
    "sales_na_platform = games.pivot_table(index='platform', values='na_sales', aggfunc='sum').sort_values(\n",
    "    by='na_sales', ascending=False)\n",
    "sales_na_platform.head(5)"
   ]
  },
  {
   "cell_type": "code",
   "execution_count": 97,
   "metadata": {
    "scrolled": false
   },
   "outputs": [
    {
     "data": {
      "text/html": [
       "<div>\n",
       "<style scoped>\n",
       "    .dataframe tbody tr th:only-of-type {\n",
       "        vertical-align: middle;\n",
       "    }\n",
       "\n",
       "    .dataframe tbody tr th {\n",
       "        vertical-align: top;\n",
       "    }\n",
       "\n",
       "    .dataframe thead th {\n",
       "        text-align: right;\n",
       "    }\n",
       "</style>\n",
       "<table border=\"1\" class=\"dataframe\">\n",
       "  <thead>\n",
       "    <tr style=\"text-align: right;\">\n",
       "      <th></th>\n",
       "      <th>na_sales</th>\n",
       "    </tr>\n",
       "    <tr>\n",
       "      <th>genre</th>\n",
       "      <th></th>\n",
       "    </tr>\n",
       "  </thead>\n",
       "  <tbody>\n",
       "    <tr>\n",
       "      <th>Action</th>\n",
       "      <td>177.84</td>\n",
       "    </tr>\n",
       "    <tr>\n",
       "      <th>Shooter</th>\n",
       "      <td>144.77</td>\n",
       "    </tr>\n",
       "    <tr>\n",
       "      <th>Sports</th>\n",
       "      <td>81.53</td>\n",
       "    </tr>\n",
       "    <tr>\n",
       "      <th>Role-Playing</th>\n",
       "      <td>64.00</td>\n",
       "    </tr>\n",
       "    <tr>\n",
       "      <th>Misc</th>\n",
       "      <td>38.19</td>\n",
       "    </tr>\n",
       "  </tbody>\n",
       "</table>\n",
       "</div>"
      ],
      "text/plain": [
       "              na_sales\n",
       "genre                 \n",
       "Action          177.84\n",
       "Shooter         144.77\n",
       "Sports           81.53\n",
       "Role-Playing     64.00\n",
       "Misc             38.19"
      ]
     },
     "execution_count": 97,
     "metadata": {},
     "output_type": "execute_result"
    }
   ],
   "source": [
    "# посмотрим на количество продаж в разбивке по жанрам\n",
    "sales_na_genre = games.pivot_table(index='genre', values='na_sales', aggfunc='sum').sort_values(\n",
    "    by='na_sales', ascending=False)\n",
    "sales_na_genre.head(5)"
   ]
  },
  {
   "cell_type": "code",
   "execution_count": 98,
   "metadata": {},
   "outputs": [
    {
     "data": {
      "text/html": [
       "<div>\n",
       "<style scoped>\n",
       "    .dataframe tbody tr th:only-of-type {\n",
       "        vertical-align: middle;\n",
       "    }\n",
       "\n",
       "    .dataframe tbody tr th {\n",
       "        vertical-align: top;\n",
       "    }\n",
       "\n",
       "    .dataframe thead th {\n",
       "        text-align: right;\n",
       "    }\n",
       "</style>\n",
       "<table border=\"1\" class=\"dataframe\">\n",
       "  <thead>\n",
       "    <tr style=\"text-align: right;\">\n",
       "      <th></th>\n",
       "      <th>na_sales</th>\n",
       "    </tr>\n",
       "    <tr>\n",
       "      <th>rating</th>\n",
       "      <th></th>\n",
       "    </tr>\n",
       "  </thead>\n",
       "  <tbody>\n",
       "    <tr>\n",
       "      <th>M</th>\n",
       "      <td>231.57</td>\n",
       "    </tr>\n",
       "    <tr>\n",
       "      <th>E</th>\n",
       "      <td>114.37</td>\n",
       "    </tr>\n",
       "    <tr>\n",
       "      <th>RP</th>\n",
       "      <td>103.31</td>\n",
       "    </tr>\n",
       "    <tr>\n",
       "      <th>E10+</th>\n",
       "      <td>75.70</td>\n",
       "    </tr>\n",
       "    <tr>\n",
       "      <th>T</th>\n",
       "      <td>66.02</td>\n",
       "    </tr>\n",
       "  </tbody>\n",
       "</table>\n",
       "</div>"
      ],
      "text/plain": [
       "        na_sales\n",
       "rating          \n",
       "M         231.57\n",
       "E         114.37\n",
       "RP        103.31\n",
       "E10+       75.70\n",
       "T          66.02"
      ]
     },
     "execution_count": 98,
     "metadata": {},
     "output_type": "execute_result"
    }
   ],
   "source": [
    "# посмотрим на количество продаж в разбивке по рейтингу игр\n",
    "sales_na_rating = games.pivot_table(index='rating', values='na_sales', aggfunc='sum').sort_values(\n",
    "    by='na_sales', ascending=False)\n",
    "sales_na_rating.head(5)"
   ]
  },
  {
   "cell_type": "markdown",
   "metadata": {},
   "source": [
    "**Портрет пользователя из Северной Америки**\n",
    "\n",
    "Самые популярные игровые платформы в Северной Америке за последние 5 лет: X360, PS4, PS3, XOne, 3DS\n",
    "\n",
    "Топ 5 жанров в Северной Америке: action, shooter, sports, Role-Playing, misc.\n",
    "\n",
    "По рейтингам видно, что больше всего продаж у игр с рейтингом «M» («Mature») — «Для взрослых», на втором месте игры с рейтингом «E» («Everyone») — «Для всех» \n"
   ]
  },
  {
   "cell_type": "markdown",
   "metadata": {},
   "source": [
    "**Евросоюз - EU**"
   ]
  },
  {
   "cell_type": "code",
   "execution_count": 99,
   "metadata": {
    "scrolled": false
   },
   "outputs": [
    {
     "data": {
      "text/html": [
       "<div>\n",
       "<style scoped>\n",
       "    .dataframe tbody tr th:only-of-type {\n",
       "        vertical-align: middle;\n",
       "    }\n",
       "\n",
       "    .dataframe tbody tr th {\n",
       "        vertical-align: top;\n",
       "    }\n",
       "\n",
       "    .dataframe thead th {\n",
       "        text-align: right;\n",
       "    }\n",
       "</style>\n",
       "<table border=\"1\" class=\"dataframe\">\n",
       "  <thead>\n",
       "    <tr style=\"text-align: right;\">\n",
       "      <th></th>\n",
       "      <th>eu_sales</th>\n",
       "    </tr>\n",
       "    <tr>\n",
       "      <th>platform</th>\n",
       "      <th></th>\n",
       "    </tr>\n",
       "  </thead>\n",
       "  <tbody>\n",
       "    <tr>\n",
       "      <th>PS4</th>\n",
       "      <td>141.09</td>\n",
       "    </tr>\n",
       "    <tr>\n",
       "      <th>PS3</th>\n",
       "      <td>106.86</td>\n",
       "    </tr>\n",
       "    <tr>\n",
       "      <th>X360</th>\n",
       "      <td>74.52</td>\n",
       "    </tr>\n",
       "    <tr>\n",
       "      <th>XOne</th>\n",
       "      <td>51.59</td>\n",
       "    </tr>\n",
       "    <tr>\n",
       "      <th>3DS</th>\n",
       "      <td>42.64</td>\n",
       "    </tr>\n",
       "  </tbody>\n",
       "</table>\n",
       "</div>"
      ],
      "text/plain": [
       "          eu_sales\n",
       "platform          \n",
       "PS4         141.09\n",
       "PS3         106.86\n",
       "X360         74.52\n",
       "XOne         51.59\n",
       "3DS          42.64"
      ]
     },
     "execution_count": 99,
     "metadata": {},
     "output_type": "execute_result"
    }
   ],
   "source": [
    "# посмотрим на количество продаж в разбивке по платформам\n",
    "sales_eu_platform = games.pivot_table(index='platform', values='eu_sales', aggfunc='sum').sort_values(\n",
    "    by='eu_sales', ascending=False)\n",
    "sales_eu_platform.head(5)"
   ]
  },
  {
   "cell_type": "code",
   "execution_count": 100,
   "metadata": {
    "scrolled": false
   },
   "outputs": [
    {
     "data": {
      "text/html": [
       "<div>\n",
       "<style scoped>\n",
       "    .dataframe tbody tr th:only-of-type {\n",
       "        vertical-align: middle;\n",
       "    }\n",
       "\n",
       "    .dataframe tbody tr th {\n",
       "        vertical-align: top;\n",
       "    }\n",
       "\n",
       "    .dataframe thead th {\n",
       "        text-align: right;\n",
       "    }\n",
       "</style>\n",
       "<table border=\"1\" class=\"dataframe\">\n",
       "  <thead>\n",
       "    <tr style=\"text-align: right;\">\n",
       "      <th></th>\n",
       "      <th>eu_sales</th>\n",
       "    </tr>\n",
       "    <tr>\n",
       "      <th>genre</th>\n",
       "      <th></th>\n",
       "    </tr>\n",
       "  </thead>\n",
       "  <tbody>\n",
       "    <tr>\n",
       "      <th>Action</th>\n",
       "      <td>159.34</td>\n",
       "    </tr>\n",
       "    <tr>\n",
       "      <th>Shooter</th>\n",
       "      <td>113.47</td>\n",
       "    </tr>\n",
       "    <tr>\n",
       "      <th>Sports</th>\n",
       "      <td>69.09</td>\n",
       "    </tr>\n",
       "    <tr>\n",
       "      <th>Role-Playing</th>\n",
       "      <td>48.53</td>\n",
       "    </tr>\n",
       "    <tr>\n",
       "      <th>Racing</th>\n",
       "      <td>27.29</td>\n",
       "    </tr>\n",
       "  </tbody>\n",
       "</table>\n",
       "</div>"
      ],
      "text/plain": [
       "              eu_sales\n",
       "genre                 \n",
       "Action          159.34\n",
       "Shooter         113.47\n",
       "Sports           69.09\n",
       "Role-Playing     48.53\n",
       "Racing           27.29"
      ]
     },
     "execution_count": 100,
     "metadata": {},
     "output_type": "execute_result"
    }
   ],
   "source": [
    "# посмотрим на количество продаж в разбивке по жанрам\n",
    "sales_eu_genre = games.pivot_table(index='genre', values='eu_sales', aggfunc='sum').sort_values(\n",
    "    by='eu_sales', ascending=False)\n",
    "sales_eu_genre.head(5)"
   ]
  },
  {
   "cell_type": "code",
   "execution_count": 101,
   "metadata": {
    "scrolled": true
   },
   "outputs": [
    {
     "data": {
      "text/html": [
       "<div>\n",
       "<style scoped>\n",
       "    .dataframe tbody tr th:only-of-type {\n",
       "        vertical-align: middle;\n",
       "    }\n",
       "\n",
       "    .dataframe tbody tr th {\n",
       "        vertical-align: top;\n",
       "    }\n",
       "\n",
       "    .dataframe thead th {\n",
       "        text-align: right;\n",
       "    }\n",
       "</style>\n",
       "<table border=\"1\" class=\"dataframe\">\n",
       "  <thead>\n",
       "    <tr style=\"text-align: right;\">\n",
       "      <th></th>\n",
       "      <th>eu_sales</th>\n",
       "    </tr>\n",
       "    <tr>\n",
       "      <th>rating</th>\n",
       "      <th></th>\n",
       "    </tr>\n",
       "  </thead>\n",
       "  <tbody>\n",
       "    <tr>\n",
       "      <th>M</th>\n",
       "      <td>193.96</td>\n",
       "    </tr>\n",
       "    <tr>\n",
       "      <th>E</th>\n",
       "      <td>113.03</td>\n",
       "    </tr>\n",
       "    <tr>\n",
       "      <th>RP</th>\n",
       "      <td>91.50</td>\n",
       "    </tr>\n",
       "    <tr>\n",
       "      <th>E10+</th>\n",
       "      <td>55.37</td>\n",
       "    </tr>\n",
       "    <tr>\n",
       "      <th>T</th>\n",
       "      <td>52.96</td>\n",
       "    </tr>\n",
       "  </tbody>\n",
       "</table>\n",
       "</div>"
      ],
      "text/plain": [
       "        eu_sales\n",
       "rating          \n",
       "M         193.96\n",
       "E         113.03\n",
       "RP         91.50\n",
       "E10+       55.37\n",
       "T          52.96"
      ]
     },
     "execution_count": 101,
     "metadata": {},
     "output_type": "execute_result"
    }
   ],
   "source": [
    "# посмотрим на количество продаж в разбивке по рейтингу игр\n",
    "sales_eu_rating = games.pivot_table(index='rating', values='eu_sales', aggfunc='sum').sort_values(\n",
    "    by='eu_sales', ascending=False)\n",
    "sales_eu_rating.head(5)"
   ]
  },
  {
   "cell_type": "markdown",
   "metadata": {},
   "source": [
    "**Портрет пользователя из Евросюза**\n",
    "\n",
    "Самые популярные игровые платформы в Евросоюзе за последние 5 лет: PS4, PS3, X360, XOne, 3DS\n",
    "\n",
    "Топ 5 жанров в Евросоюзе: action, shooter, sports, Role-Playing, misc.\n",
    "\n",
    "По рейтингам видно, что больше всего продаж у игр с рейтингом «M» («Mature») — «Для взрослых», на втором месте игры с рейтингом «E» («Everyone») — «Для всех» "
   ]
  },
  {
   "cell_type": "markdown",
   "metadata": {},
   "source": [
    "**Япония - JP**"
   ]
  },
  {
   "cell_type": "code",
   "execution_count": 102,
   "metadata": {
    "scrolled": true
   },
   "outputs": [
    {
     "data": {
      "text/html": [
       "<div>\n",
       "<style scoped>\n",
       "    .dataframe tbody tr th:only-of-type {\n",
       "        vertical-align: middle;\n",
       "    }\n",
       "\n",
       "    .dataframe tbody tr th {\n",
       "        vertical-align: top;\n",
       "    }\n",
       "\n",
       "    .dataframe thead th {\n",
       "        text-align: right;\n",
       "    }\n",
       "</style>\n",
       "<table border=\"1\" class=\"dataframe\">\n",
       "  <thead>\n",
       "    <tr style=\"text-align: right;\">\n",
       "      <th></th>\n",
       "      <th>jp_sales</th>\n",
       "    </tr>\n",
       "    <tr>\n",
       "      <th>platform</th>\n",
       "      <th></th>\n",
       "    </tr>\n",
       "  </thead>\n",
       "  <tbody>\n",
       "    <tr>\n",
       "      <th>3DS</th>\n",
       "      <td>87.79</td>\n",
       "    </tr>\n",
       "    <tr>\n",
       "      <th>PS3</th>\n",
       "      <td>35.29</td>\n",
       "    </tr>\n",
       "    <tr>\n",
       "      <th>PSV</th>\n",
       "      <td>21.04</td>\n",
       "    </tr>\n",
       "    <tr>\n",
       "      <th>PS4</th>\n",
       "      <td>15.96</td>\n",
       "    </tr>\n",
       "    <tr>\n",
       "      <th>WiiU</th>\n",
       "      <td>13.01</td>\n",
       "    </tr>\n",
       "  </tbody>\n",
       "</table>\n",
       "</div>"
      ],
      "text/plain": [
       "          jp_sales\n",
       "platform          \n",
       "3DS          87.79\n",
       "PS3          35.29\n",
       "PSV          21.04\n",
       "PS4          15.96\n",
       "WiiU         13.01"
      ]
     },
     "execution_count": 102,
     "metadata": {},
     "output_type": "execute_result"
    }
   ],
   "source": [
    "# посмотрим на количество продаж в разбивке по платформам\n",
    "sales_jp_platform = games.pivot_table(index='platform', values='jp_sales', aggfunc='sum').sort_values(\n",
    "    by='jp_sales', ascending=False)\n",
    "sales_jp_platform.head(5)"
   ]
  },
  {
   "cell_type": "code",
   "execution_count": 103,
   "metadata": {
    "scrolled": false
   },
   "outputs": [
    {
     "data": {
      "text/html": [
       "<div>\n",
       "<style scoped>\n",
       "    .dataframe tbody tr th:only-of-type {\n",
       "        vertical-align: middle;\n",
       "    }\n",
       "\n",
       "    .dataframe tbody tr th {\n",
       "        vertical-align: top;\n",
       "    }\n",
       "\n",
       "    .dataframe thead th {\n",
       "        text-align: right;\n",
       "    }\n",
       "</style>\n",
       "<table border=\"1\" class=\"dataframe\">\n",
       "  <thead>\n",
       "    <tr style=\"text-align: right;\">\n",
       "      <th></th>\n",
       "      <th>jp_sales</th>\n",
       "    </tr>\n",
       "    <tr>\n",
       "      <th>genre</th>\n",
       "      <th></th>\n",
       "    </tr>\n",
       "  </thead>\n",
       "  <tbody>\n",
       "    <tr>\n",
       "      <th>Role-Playing</th>\n",
       "      <td>65.44</td>\n",
       "    </tr>\n",
       "    <tr>\n",
       "      <th>Action</th>\n",
       "      <td>52.80</td>\n",
       "    </tr>\n",
       "    <tr>\n",
       "      <th>Misc</th>\n",
       "      <td>12.86</td>\n",
       "    </tr>\n",
       "    <tr>\n",
       "      <th>Simulation</th>\n",
       "      <td>10.41</td>\n",
       "    </tr>\n",
       "    <tr>\n",
       "      <th>Fighting</th>\n",
       "      <td>9.44</td>\n",
       "    </tr>\n",
       "  </tbody>\n",
       "</table>\n",
       "</div>"
      ],
      "text/plain": [
       "              jp_sales\n",
       "genre                 \n",
       "Role-Playing     65.44\n",
       "Action           52.80\n",
       "Misc             12.86\n",
       "Simulation       10.41\n",
       "Fighting          9.44"
      ]
     },
     "execution_count": 103,
     "metadata": {},
     "output_type": "execute_result"
    }
   ],
   "source": [
    "# посмотрим на количество продаж в разбивке по жанрам\n",
    "sales_jp_genre = games.pivot_table(index='genre', values='jp_sales', aggfunc='sum').sort_values(\n",
    "    by='jp_sales', ascending=False)\n",
    "sales_jp_genre.head(5)"
   ]
  },
  {
   "cell_type": "code",
   "execution_count": 104,
   "metadata": {
    "scrolled": true
   },
   "outputs": [
    {
     "data": {
      "text/html": [
       "<div>\n",
       "<style scoped>\n",
       "    .dataframe tbody tr th:only-of-type {\n",
       "        vertical-align: middle;\n",
       "    }\n",
       "\n",
       "    .dataframe tbody tr th {\n",
       "        vertical-align: top;\n",
       "    }\n",
       "\n",
       "    .dataframe thead th {\n",
       "        text-align: right;\n",
       "    }\n",
       "</style>\n",
       "<table border=\"1\" class=\"dataframe\">\n",
       "  <thead>\n",
       "    <tr style=\"text-align: right;\">\n",
       "      <th></th>\n",
       "      <th>jp_sales</th>\n",
       "    </tr>\n",
       "    <tr>\n",
       "      <th>rating</th>\n",
       "      <th></th>\n",
       "    </tr>\n",
       "  </thead>\n",
       "  <tbody>\n",
       "    <tr>\n",
       "      <th>RP</th>\n",
       "      <td>108.84</td>\n",
       "    </tr>\n",
       "    <tr>\n",
       "      <th>E</th>\n",
       "      <td>28.33</td>\n",
       "    </tr>\n",
       "    <tr>\n",
       "      <th>T</th>\n",
       "      <td>26.02</td>\n",
       "    </tr>\n",
       "    <tr>\n",
       "      <th>M</th>\n",
       "      <td>21.20</td>\n",
       "    </tr>\n",
       "    <tr>\n",
       "      <th>E10+</th>\n",
       "      <td>8.19</td>\n",
       "    </tr>\n",
       "  </tbody>\n",
       "</table>\n",
       "</div>"
      ],
      "text/plain": [
       "        jp_sales\n",
       "rating          \n",
       "RP        108.84\n",
       "E          28.33\n",
       "T          26.02\n",
       "M          21.20\n",
       "E10+        8.19"
      ]
     },
     "execution_count": 104,
     "metadata": {},
     "output_type": "execute_result"
    }
   ],
   "source": [
    "# посмотрим на количество продаж в разбивке по рейтингу игр\n",
    "sales_jp_raiting = games.pivot_table(index='rating', values='jp_sales', aggfunc='sum').sort_values(\n",
    "    by='jp_sales', ascending=False)\n",
    "sales_jp_raiting.head(5)"
   ]
  },
  {
   "cell_type": "markdown",
   "metadata": {},
   "source": [
    "**Портрет пользователя из Японии**\n",
    "\n",
    "Самые популярные игровые платформы в Японии за последние 5 лет: 3DS, PS3, PSV, PS4, WiiU\n",
    "\n",
    "Топ 5 жанров в Японии: Role-Playing, Action, Misc, Simulation, Fighting\t\n",
    "\n",
    "По рейтингам видно, что больше всего продаж у игр с рейтингом «RP» («Rating Pending») — «Рейтинг ожидается»: Продукт был отправлен в ESRB и ожидает присвоения рейтинга. \n",
    ", на втором месте игры с рейтингом «E» («Everyone») — «Для всех» "
   ]
  },
  {
   "cell_type": "markdown",
   "metadata": {},
   "source": [
    "##  Проверим гипотезы\n"
   ]
  },
  {
   "cell_type": "markdown",
   "metadata": {},
   "source": [
    "### Средние пользовательские рейтинги платформ Xbox One и PC одинаковые"
   ]
  },
  {
   "cell_type": "markdown",
   "metadata": {},
   "source": [
    "**Сформулируем гипотезы:**\n",
    "\n",
    "- Нулевая гипотеза H₀: Средние пользовательские рейтинги платформ Xbox One и PC одинаковые\n",
    "\n",
    "- Альтернативная гипотеза H₁: Средние пользовательские рейтинги платформ Xbox One и PC различаются"
   ]
  },
  {
   "cell_type": "code",
   "execution_count": 105,
   "metadata": {
    "scrolled": false
   },
   "outputs": [],
   "source": [
    "platform_user_rating_xone = games[games['platform'] == 'XOne']['user_score']\n",
    "platform_user_rating_pc = games[games['platform'] == 'PC']['user_score']"
   ]
  },
  {
   "cell_type": "code",
   "execution_count": 106,
   "metadata": {
    "scrolled": false
   },
   "outputs": [
    {
     "data": {
      "text/plain": [
       "6.521428571428572"
      ]
     },
     "metadata": {},
     "output_type": "display_data"
    },
    {
     "data": {
      "text/plain": [
       "6.428640776699029"
      ]
     },
     "metadata": {},
     "output_type": "display_data"
    }
   ],
   "source": [
    "#Посчитаем средние рейтинги пользователей для xbox и pc платформ\n",
    "display(platform_user_rating_xone.mean())\n",
    "display(platform_user_rating_pc.mean())"
   ]
  },
  {
   "cell_type": "code",
   "execution_count": 107,
   "metadata": {},
   "outputs": [
    {
     "data": {
      "text/plain": [
       "1.8965188383045526"
      ]
     },
     "metadata": {},
     "output_type": "display_data"
    },
    {
     "data": {
      "text/plain": [
       "2.7569952398906588"
      ]
     },
     "metadata": {},
     "output_type": "display_data"
    }
   ],
   "source": [
    "# Произведем проверку дисперсии выборок\n",
    "display(np.var(platform_user_rating_xone))\n",
    "display(np.var(platform_user_rating_pc))"
   ]
  },
  {
   "cell_type": "code",
   "execution_count": 108,
   "metadata": {
    "scrolled": false
   },
   "outputs": [
    {
     "name": "stdout",
     "output_type": "stream",
     "text": [
      "p-значение: 0.5489537965134912\n",
      "Не получилось отвергнуть нулевую гипотезу\n"
     ]
    }
   ],
   "source": [
    "#проведем t-test\n",
    "\n",
    "alpha = 0.05  # критический уровень статистической значимости\n",
    "# если p-value окажется меньше него - отвергнем гипотезу\n",
    "\n",
    "results = st.ttest_ind(platform_user_rating_xone.dropna(), platform_user_rating_pc.dropna(), equal_var=False)\n",
    "\n",
    "print('p-значение:', results.pvalue)\n",
    "\n",
    "if (results.pvalue < alpha):\n",
    "    print('Отвергаем нулевую гипотезу')\n",
    "else:\n",
    "    print('Не получилось отвергнуть нулевую гипотезу') \n"
   ]
  },
  {
   "cell_type": "markdown",
   "metadata": {},
   "source": [
    "**Вывод**\n",
    "\n",
    "Значение p-value равно почти 5.5%. Таким образом, не получилось опровергнуть Нулевую гипотезу.\n",
    "Получается, есть вероятность, что средние пользовательские рейтинги платформ Xbox One и PC одинаковые."
   ]
  },
  {
   "cell_type": "markdown",
   "metadata": {},
   "source": [
    "### Средние пользовательские рейтинги жанров Action  и Sports  разные"
   ]
  },
  {
   "cell_type": "markdown",
   "metadata": {},
   "source": [
    "**Сформулируем гипотезы:**\n",
    "\n",
    "- Нулевая гипотеза H₀: Средние пользовательские рейтинги жанров Action и Sports одинаковые.\n",
    "\n",
    "- Альтернативная гипотеза H₁: Средние пользовательские рейтинги жанров Action и Sports различаются."
   ]
  },
  {
   "cell_type": "code",
   "execution_count": 109,
   "metadata": {
    "scrolled": true
   },
   "outputs": [],
   "source": [
    "genre_user_rating_action = games[games['genre'] == 'Action']['user_score']\n",
    "genre_user_rating_sports = games[games['genre'] == 'Sports']['user_score']\n"
   ]
  },
  {
   "cell_type": "code",
   "execution_count": 110,
   "metadata": {
    "scrolled": true
   },
   "outputs": [
    {
     "data": {
      "text/plain": [
       "6.825047801147227"
      ]
     },
     "metadata": {},
     "output_type": "display_data"
    },
    {
     "data": {
      "text/plain": [
       "5.455897435897437"
      ]
     },
     "metadata": {},
     "output_type": "display_data"
    }
   ],
   "source": [
    "#Посчитаем средний рейтинг пользователя для  платформ\n",
    "display(genre_user_rating_action.mean())\n",
    "display(genre_user_rating_sports.mean())"
   ]
  },
  {
   "cell_type": "code",
   "execution_count": 111,
   "metadata": {
    "scrolled": true
   },
   "outputs": [
    {
     "data": {
      "text/plain": [
       "1.8854720340439224"
      ]
     },
     "metadata": {},
     "output_type": "display_data"
    },
    {
     "data": {
      "text/plain": [
       "3.0073882971729127"
      ]
     },
     "metadata": {},
     "output_type": "display_data"
    }
   ],
   "source": [
    "# Произведем проверку дисперсии выборок\n",
    "display(np.var(genre_user_rating_action))\n",
    "display(np.var(genre_user_rating_sports))"
   ]
  },
  {
   "cell_type": "code",
   "execution_count": 112,
   "metadata": {
    "scrolled": true
   },
   "outputs": [
    {
     "name": "stdout",
     "output_type": "stream",
     "text": [
      "p-значение: 4.24307776572644e-20\n",
      "Отвергаем нулевую гипотезу\n"
     ]
    }
   ],
   "source": [
    "alpha = 0.05  # критический уровень статистической значимости\n",
    "# если p-value окажется меньше него - отвергнем гипотезу\n",
    "\n",
    "results = st.ttest_ind(genre_user_rating_action.dropna(), genre_user_rating_sports.dropna(), equal_var=False)\n",
    "\n",
    "print('p-значение:', results.pvalue)\n",
    "\n",
    "if (results.pvalue < alpha):\n",
    "    print('Отвергаем нулевую гипотезу')\n",
    "else:\n",
    "    print('Не получилось отвергнуть нулевую гипотезу') "
   ]
  },
  {
   "cell_type": "markdown",
   "metadata": {},
   "source": [
    "**Вывод** \n",
    "\n",
    "Получив ничтожно маленькое значение p-value, мы отвергаем Нулевую гипотезу. Получается, у нас практически нет вероятности получить одинакове средние рейнтинги по жанрам Action и Sports."
   ]
  },
  {
   "cell_type": "markdown",
   "metadata": {},
   "source": [
    "# Общий вывод"
   ]
  },
  {
   "cell_type": "markdown",
   "metadata": {},
   "source": [
    "**Предобработка данные**\n",
    "\n",
    "Перед анализом данных мы подготовили наши данные, привели к правильным данным столбцы, привели к нижнему регистру названия колонок, проверили на наличие дубликатов, привели к правильным типам данных необходимые столбцы. Еще мы посчитали суммарные продажи во всех регионах.\n",
    "\n",
    "**Исследовательский анализу данных**\n",
    "\n",
    "Проведя анализ, можно понять, что с 2006 года по 2011 было сильное повышение количества выпускаемых игр на консоли и пк, но затем к 2012 году количество усреднилось и выравнилось.\n",
    "За весь период консольных приставок самыми популярными оказались: 'PS2', 'X360', 'Wii', 'DS', 'PS3', 'PS'\n",
    "\n",
    "**Также мы выявили, что средняя продолжительность жизни игровой приставки составляет порядка 7-10 лет.**\n",
    "Судя по графикам распределения по годам, можно сказать что многие плаформы из нашего списка топ6 к 2016 году уже все таки устарели, поэтому далее мы сконцентрировались на последних версиях этих же платформ: 'PS4','XONE','PC','WiiU','3DS', 'PSV'\n",
    "\n",
    "**Насчет влияния на продажи отзывов пользователей и критиков:**\n",
    "У пользователей PS4 обнаружилась небольшая прямая зависимость обьема продаж от рейтинга критиков. Это значит, что высокая оценка от критиков сопровождается повышением продаж игры, но так бывает далеко не всегда.\n",
    "Пользовательские же оценки не играют значимой роли.\n",
    "Для пользователей PSV ни пользовательские оценки, ни оценки критиков не влияют на количество продаж.\n",
    "Для пользователей 3DS и WiiU оценки и пользователей и критиков имеют небольшую прямую зависимость - чем выше оценки, тем больше покупок.\n",
    "Среди пользователей PC замечена незначительная отрицательная корреляция с пользовательскими оценками и настолько же небольшая прямая корреляция с оценками критиков, которая не позволяет судить о наличии зависимоти.\n",
    "Покупки на для платформы XOne же имеет совсем незначительную зависимость от пользовательских оценок и небольшую прямую зависимость от оценок критиков.\n",
    "\n",
    "**Самые популярные жанры в целом по миру:** Action, дальше идут Shooter, Role-Playing и  Sports. Можем выделить и самые непопулярные жанры - Strategy и Puzzle.\n",
    "\n",
    "Но т.к. может быть такая ситуация, что экшн делает продажи только за счет большего количества игр и большого количества бестселлеров. Чтобы судить о прибыльности, мы посмотрели имеют ли  другие жанры больше продаж в расчете на единицу игры. Получилось, что в целом по миру больше всего продаж в расчете на единицу игры имеют с большим отрывом игры жанра Shooter, дальше идут Sports и  Platform. Можем также выделить и жанры с самыми небольшими продажами в расчете на единицу игры - Adventure и Puzzle.\n",
    "\n",
    "После мы составили **портреты пользователей каждого региона** за все года.\n",
    "\n",
    "- Самые популярные игровые платформы в Северной Америке: X360, PS4, PS3, XOne, 3DS\n",
    "Топ 5 жанров в Северной Америке: action, shooter, sports, Role-Playing, misc.\n",
    "По рейтингам видно, что больше всего продаж у игр с рейтингом «M» («Mature») — «Для взрослых», на втором месте игры с рейтингом «E» («Everyone») — «Для всех»\n",
    "\n",
    "- Самые популярные игровые платформы в *Европе* это: PS4, PS3, X360, XOne, 3DS. Топ 5 жанров в Европе : action, shooter, sports, Role-Playing, misc. По рейтингам видно, что больше всего продаж у игр с рейтингом «M» («Mature») — «Для взрослых», на втором месте игры с рейтингом «E» («Everyone») — «Для всех»\n",
    "\n",
    "- Самые популярные игровые платформы в *Японии* это: 3DS, PS3, PSV, PS4 и WiiU. Топ 5 жанров в Японии : Role-Playing, action, misc, Simulation и Fighting. По рейтингам видно, что больше всего продаж у игр с рейтингом «RP» («Rating Pending») — «Рейтинг ожидается»: Продукт был отправлен в ESRB и ожидает присвоения рейтинга. , на втором месте игры с рейтингом «E» («Everyone») — «Для всех»\n",
    "\n",
    "\n",
    "**Статистический анализ и проверка гипотез**\n",
    "\n",
    "Гипотезу о том, что \"Средние пользовательские рейтинги платформ Xbox one и PC одинаковые\" нам не удалочь опровергнуть.Получается, есть вероятность, что средние пользовательские рейтинги платформ Xbox One и PC одинаковые.\n",
    "\n",
    "Гипотезу о том, что \"Средние пользовательские рейтинги жанров Action и Sports одинаковые\" мы отвергаем. Получается, у нас практически нет вероятности получить одинаковое средние рейнтинги по жанрам Action и Sports.\n",
    "\n",
    "---\n",
    "**Рекомендации**\n",
    "\n",
    "Вероятно, для 2017 года большую часть прибыли будут по прежнему приносить игры жанра Action и Shooter.\n",
    "Из платформ лучше сконцентрироваться на платформах WiiU, XOne или PS4.\n"
   ]
  },
  {
   "cell_type": "code",
   "execution_count": null,
   "metadata": {},
   "outputs": [],
   "source": []
  }
 ],
 "metadata": {
  "ExecuteTimeLog": [
   {
    "duration": 1898,
    "start_time": "2021-10-11T16:48:39.190Z"
   },
   {
    "duration": 71,
    "start_time": "2021-10-11T16:49:11.398Z"
   },
   {
    "duration": 15,
    "start_time": "2021-10-11T16:49:16.026Z"
   },
   {
    "duration": 23,
    "start_time": "2021-10-11T17:26:59.011Z"
   },
   {
    "duration": 13,
    "start_time": "2021-10-11T17:31:02.059Z"
   },
   {
    "duration": 10,
    "start_time": "2021-10-11T17:31:07.180Z"
   },
   {
    "duration": 36,
    "start_time": "2021-10-11T17:31:10.476Z"
   },
   {
    "duration": 44,
    "start_time": "2021-10-11T17:31:11.385Z"
   },
   {
    "duration": 20,
    "start_time": "2021-10-11T17:31:12.400Z"
   },
   {
    "duration": 6,
    "start_time": "2021-10-11T17:31:13.130Z"
   },
   {
    "duration": 38,
    "start_time": "2021-10-11T17:31:13.281Z"
   },
   {
    "duration": 56,
    "start_time": "2021-10-11T17:31:14.002Z"
   },
   {
    "duration": 22,
    "start_time": "2021-10-11T17:31:45.109Z"
   },
   {
    "duration": 12,
    "start_time": "2021-10-11T17:31:49.866Z"
   },
   {
    "duration": 69,
    "start_time": "2021-10-11T17:33:07.228Z"
   },
   {
    "duration": 13,
    "start_time": "2021-10-11T17:33:07.299Z"
   },
   {
    "duration": 24,
    "start_time": "2021-10-11T17:33:07.315Z"
   },
   {
    "duration": 14,
    "start_time": "2021-10-11T17:33:07.342Z"
   },
   {
    "duration": 10,
    "start_time": "2021-10-11T17:33:12.771Z"
   },
   {
    "duration": 74,
    "start_time": "2021-10-11T17:33:47.956Z"
   },
   {
    "duration": 13,
    "start_time": "2021-10-11T17:33:49.176Z"
   },
   {
    "duration": 20,
    "start_time": "2021-10-11T17:33:54.267Z"
   },
   {
    "duration": 15,
    "start_time": "2021-10-11T17:33:55.859Z"
   },
   {
    "duration": 23,
    "start_time": "2021-10-11T17:35:26.923Z"
   },
   {
    "duration": 20,
    "start_time": "2021-10-11T17:35:46.450Z"
   },
   {
    "duration": 14,
    "start_time": "2021-10-11T17:35:48.712Z"
   },
   {
    "duration": 10,
    "start_time": "2021-10-11T17:35:53.029Z"
   },
   {
    "duration": 12,
    "start_time": "2021-10-11T17:39:18.967Z"
   },
   {
    "duration": 9,
    "start_time": "2021-10-11T17:39:20.231Z"
   },
   {
    "duration": 33,
    "start_time": "2021-10-11T17:39:21.576Z"
   },
   {
    "duration": 35,
    "start_time": "2021-10-11T17:41:24.798Z"
   },
   {
    "duration": 45,
    "start_time": "2021-10-11T17:45:18.031Z"
   },
   {
    "duration": 28,
    "start_time": "2021-10-11T17:46:55.833Z"
   },
   {
    "duration": 74,
    "start_time": "2021-10-11T17:47:17.710Z"
   },
   {
    "duration": 35,
    "start_time": "2021-10-11T17:47:17.787Z"
   },
   {
    "duration": 30,
    "start_time": "2021-10-11T17:47:17.826Z"
   },
   {
    "duration": 16,
    "start_time": "2021-10-11T17:47:17.859Z"
   },
   {
    "duration": 81,
    "start_time": "2021-10-11T17:47:17.878Z"
   },
   {
    "duration": 15,
    "start_time": "2021-10-11T17:48:58.024Z"
   },
   {
    "duration": 42,
    "start_time": "2021-10-11T17:49:00.982Z"
   },
   {
    "duration": 35,
    "start_time": "2021-10-11T18:03:04.431Z"
   },
   {
    "duration": 54,
    "start_time": "2021-10-11T18:08:49.313Z"
   },
   {
    "duration": 10,
    "start_time": "2021-10-11T18:08:55.253Z"
   },
   {
    "duration": 16,
    "start_time": "2021-10-11T18:09:23.663Z"
   },
   {
    "duration": 17,
    "start_time": "2021-10-11T18:10:14.772Z"
   },
   {
    "duration": 94,
    "start_time": "2021-10-11T18:10:42.335Z"
   },
   {
    "duration": 19,
    "start_time": "2021-10-11T18:10:42.432Z"
   },
   {
    "duration": 31,
    "start_time": "2021-10-11T18:10:42.455Z"
   },
   {
    "duration": 40,
    "start_time": "2021-10-11T18:10:42.489Z"
   },
   {
    "duration": 10,
    "start_time": "2021-10-11T18:10:42.532Z"
   },
   {
    "duration": 36,
    "start_time": "2021-10-11T18:10:42.544Z"
   },
   {
    "duration": 78,
    "start_time": "2021-10-11T18:10:42.584Z"
   },
   {
    "duration": 48,
    "start_time": "2021-10-11T18:11:47.684Z"
   },
   {
    "duration": 52,
    "start_time": "2021-10-11T18:12:09.651Z"
   },
   {
    "duration": 73,
    "start_time": "2021-10-11T18:49:07.969Z"
   },
   {
    "duration": 13,
    "start_time": "2021-10-11T18:49:08.045Z"
   },
   {
    "duration": 48,
    "start_time": "2021-10-11T18:49:08.061Z"
   },
   {
    "duration": 31,
    "start_time": "2021-10-11T18:49:08.112Z"
   },
   {
    "duration": 24,
    "start_time": "2021-10-11T18:49:08.146Z"
   },
   {
    "duration": 43,
    "start_time": "2021-10-11T18:49:08.172Z"
   },
   {
    "duration": 67,
    "start_time": "2021-10-11T18:49:08.217Z"
   },
   {
    "duration": 38,
    "start_time": "2021-10-11T18:49:08.287Z"
   },
   {
    "duration": 7,
    "start_time": "2021-10-11T18:49:08.328Z"
   },
   {
    "duration": 38,
    "start_time": "2021-10-11T18:49:10.604Z"
   },
   {
    "duration": 56,
    "start_time": "2021-10-11T18:51:11.557Z"
   },
   {
    "duration": 6,
    "start_time": "2021-10-11T18:59:26.543Z"
   },
   {
    "duration": 24,
    "start_time": "2021-10-11T19:00:36.761Z"
   },
   {
    "duration": 29,
    "start_time": "2021-10-11T19:01:38.336Z"
   },
   {
    "duration": 1666,
    "start_time": "2021-10-13T17:37:32.598Z"
   },
   {
    "duration": 18,
    "start_time": "2021-10-13T17:37:34.266Z"
   },
   {
    "duration": 29,
    "start_time": "2021-10-13T17:37:34.287Z"
   },
   {
    "duration": 17,
    "start_time": "2021-10-13T17:37:34.318Z"
   },
   {
    "duration": 47,
    "start_time": "2021-10-13T17:37:34.338Z"
   },
   {
    "duration": 36,
    "start_time": "2021-10-13T17:37:34.388Z"
   },
   {
    "duration": 88,
    "start_time": "2021-10-13T17:37:34.427Z"
   },
   {
    "duration": 21,
    "start_time": "2021-10-13T17:37:34.518Z"
   },
   {
    "duration": 7,
    "start_time": "2021-10-13T17:37:34.543Z"
   },
   {
    "duration": 39,
    "start_time": "2021-10-13T17:37:34.584Z"
   },
   {
    "duration": 88,
    "start_time": "2021-10-13T17:37:34.626Z"
   },
   {
    "duration": 28,
    "start_time": "2021-10-13T17:37:34.717Z"
   },
   {
    "duration": 51,
    "start_time": "2021-10-13T17:37:34.748Z"
   },
   {
    "duration": 21,
    "start_time": "2021-10-13T17:38:27.267Z"
   },
   {
    "duration": 4,
    "start_time": "2021-10-13T17:42:37.571Z"
   },
   {
    "duration": 37,
    "start_time": "2021-10-13T17:42:38.187Z"
   },
   {
    "duration": 807,
    "start_time": "2021-10-13T17:45:37.399Z"
   },
   {
    "duration": 721,
    "start_time": "2021-10-13T17:45:41.618Z"
   },
   {
    "duration": 766,
    "start_time": "2021-10-13T17:45:48.964Z"
   },
   {
    "duration": 774,
    "start_time": "2021-10-13T17:45:51.208Z"
   },
   {
    "duration": 761,
    "start_time": "2021-10-13T17:45:55.083Z"
   },
   {
    "duration": 744,
    "start_time": "2021-10-13T17:48:34.641Z"
   },
   {
    "duration": 894,
    "start_time": "2021-10-13T17:48:35.389Z"
   },
   {
    "duration": 596,
    "start_time": "2021-10-13T17:57:58.872Z"
   },
   {
    "duration": 23,
    "start_time": "2021-10-13T17:59:43.937Z"
   },
   {
    "duration": 23,
    "start_time": "2021-10-13T18:01:12.163Z"
   },
   {
    "duration": 840,
    "start_time": "2021-10-13T18:01:12.742Z"
   },
   {
    "duration": 721,
    "start_time": "2021-10-13T18:01:13.584Z"
   },
   {
    "duration": 718,
    "start_time": "2021-10-13T18:01:14.367Z"
   },
   {
    "duration": 674,
    "start_time": "2021-10-13T18:01:15.253Z"
   },
   {
    "duration": 777,
    "start_time": "2021-10-13T18:01:18.278Z"
   },
   {
    "duration": 577,
    "start_time": "2021-10-13T18:01:21.356Z"
   },
   {
    "duration": 9,
    "start_time": "2021-10-13T18:14:34.192Z"
   },
   {
    "duration": 10328,
    "start_time": "2021-10-13T18:14:51.643Z"
   },
   {
    "duration": 1266,
    "start_time": "2021-10-14T08:50:25.549Z"
   },
   {
    "duration": 10,
    "start_time": "2021-10-14T08:50:26.817Z"
   },
   {
    "duration": 21,
    "start_time": "2021-10-14T08:50:26.828Z"
   },
   {
    "duration": 14,
    "start_time": "2021-10-14T08:50:26.851Z"
   },
   {
    "duration": 7,
    "start_time": "2021-10-14T08:50:26.876Z"
   },
   {
    "duration": 21,
    "start_time": "2021-10-14T08:50:26.885Z"
   },
   {
    "duration": 34,
    "start_time": "2021-10-14T08:50:26.907Z"
   },
   {
    "duration": 41,
    "start_time": "2021-10-14T08:50:26.944Z"
   },
   {
    "duration": 5,
    "start_time": "2021-10-14T08:50:26.987Z"
   },
   {
    "duration": 28,
    "start_time": "2021-10-14T08:50:26.993Z"
   },
   {
    "duration": 56,
    "start_time": "2021-10-14T08:50:27.022Z"
   },
   {
    "duration": 14,
    "start_time": "2021-10-14T08:50:27.080Z"
   },
   {
    "duration": 26,
    "start_time": "2021-10-14T08:50:27.095Z"
   },
   {
    "duration": 12,
    "start_time": "2021-10-14T08:50:27.123Z"
   },
   {
    "duration": 5,
    "start_time": "2021-10-14T08:50:27.137Z"
   },
   {
    "duration": 37,
    "start_time": "2021-10-14T08:50:27.143Z"
   },
   {
    "duration": 472,
    "start_time": "2021-10-14T08:50:27.182Z"
   },
   {
    "duration": 407,
    "start_time": "2021-10-14T08:50:27.655Z"
   },
   {
    "duration": 527,
    "start_time": "2021-10-14T08:50:28.063Z"
   },
   {
    "duration": 512,
    "start_time": "2021-10-14T08:50:28.592Z"
   },
   {
    "duration": 435,
    "start_time": "2021-10-14T08:50:29.106Z"
   },
   {
    "duration": 402,
    "start_time": "2021-10-14T08:50:29.543Z"
   },
   {
    "duration": 5,
    "start_time": "2021-10-14T08:50:29.948Z"
   },
   {
    "duration": 6260,
    "start_time": "2021-10-14T08:50:29.955Z"
   },
   {
    "duration": 17,
    "start_time": "2021-10-14T08:50:36.217Z"
   },
   {
    "duration": 2,
    "start_time": "2021-10-14T08:50:36.236Z"
   },
   {
    "duration": 9,
    "start_time": "2021-10-14T08:50:36.240Z"
   },
   {
    "duration": 16,
    "start_time": "2021-10-14T08:51:30.508Z"
   },
   {
    "duration": 15,
    "start_time": "2021-10-14T08:53:47.993Z"
   },
   {
    "duration": 435,
    "start_time": "2021-10-14T08:54:39.032Z"
   },
   {
    "duration": 331,
    "start_time": "2021-10-14T08:54:45.144Z"
   },
   {
    "duration": 54,
    "start_time": "2021-10-14T08:55:00.000Z"
   },
   {
    "duration": 9,
    "start_time": "2021-10-14T08:55:00.056Z"
   },
   {
    "duration": 18,
    "start_time": "2021-10-14T08:55:00.067Z"
   },
   {
    "duration": 14,
    "start_time": "2021-10-14T08:55:00.087Z"
   },
   {
    "duration": 8,
    "start_time": "2021-10-14T08:55:00.103Z"
   },
   {
    "duration": 22,
    "start_time": "2021-10-14T08:55:00.113Z"
   },
   {
    "duration": 69,
    "start_time": "2021-10-14T08:55:00.137Z"
   },
   {
    "duration": 14,
    "start_time": "2021-10-14T08:55:00.207Z"
   },
   {
    "duration": 5,
    "start_time": "2021-10-14T08:55:00.223Z"
   },
   {
    "duration": 48,
    "start_time": "2021-10-14T08:55:00.230Z"
   },
   {
    "duration": 39,
    "start_time": "2021-10-14T08:55:00.279Z"
   },
   {
    "duration": 14,
    "start_time": "2021-10-14T08:55:00.320Z"
   },
   {
    "duration": 42,
    "start_time": "2021-10-14T08:55:00.336Z"
   },
   {
    "duration": 13,
    "start_time": "2021-10-14T08:55:00.379Z"
   },
   {
    "duration": 23,
    "start_time": "2021-10-14T08:55:00.394Z"
   },
   {
    "duration": 31,
    "start_time": "2021-10-14T08:55:00.418Z"
   },
   {
    "duration": 484,
    "start_time": "2021-10-14T08:55:00.450Z"
   },
   {
    "duration": 417,
    "start_time": "2021-10-14T08:55:00.936Z"
   },
   {
    "duration": 424,
    "start_time": "2021-10-14T08:55:01.354Z"
   },
   {
    "duration": 398,
    "start_time": "2021-10-14T08:55:01.780Z"
   },
   {
    "duration": 438,
    "start_time": "2021-10-14T08:55:02.180Z"
   },
   {
    "duration": 497,
    "start_time": "2021-10-14T08:55:02.620Z"
   },
   {
    "duration": 5,
    "start_time": "2021-10-14T08:55:03.119Z"
   },
   {
    "duration": 6153,
    "start_time": "2021-10-14T08:55:03.125Z"
   },
   {
    "duration": 16,
    "start_time": "2021-10-14T08:55:09.279Z"
   },
   {
    "duration": 2,
    "start_time": "2021-10-14T08:55:09.297Z"
   },
   {
    "duration": 9,
    "start_time": "2021-10-14T08:55:09.302Z"
   },
   {
    "duration": 340,
    "start_time": "2021-10-14T08:55:09.313Z"
   },
   {
    "duration": 356,
    "start_time": "2021-10-14T08:55:33.353Z"
   },
   {
    "duration": 21,
    "start_time": "2021-10-14T08:55:42.939Z"
   },
   {
    "duration": 23,
    "start_time": "2021-10-14T08:56:08.050Z"
   },
   {
    "duration": 18,
    "start_time": "2021-10-14T09:58:39.917Z"
   },
   {
    "duration": 29,
    "start_time": "2021-10-14T09:59:27.659Z"
   },
   {
    "duration": 1288,
    "start_time": "2021-10-15T08:03:17.136Z"
   },
   {
    "duration": 11,
    "start_time": "2021-10-15T08:03:18.426Z"
   },
   {
    "duration": 18,
    "start_time": "2021-10-15T08:03:18.440Z"
   },
   {
    "duration": 11,
    "start_time": "2021-10-15T08:03:18.463Z"
   },
   {
    "duration": 8,
    "start_time": "2021-10-15T08:03:18.476Z"
   },
   {
    "duration": 23,
    "start_time": "2021-10-15T08:03:18.485Z"
   },
   {
    "duration": 68,
    "start_time": "2021-10-15T08:03:18.510Z"
   },
   {
    "duration": 15,
    "start_time": "2021-10-15T08:03:18.580Z"
   },
   {
    "duration": 5,
    "start_time": "2021-10-15T08:03:18.597Z"
   },
   {
    "duration": 25,
    "start_time": "2021-10-15T08:03:18.604Z"
   },
   {
    "duration": 70,
    "start_time": "2021-10-15T08:03:18.631Z"
   },
   {
    "duration": 15,
    "start_time": "2021-10-15T08:03:18.703Z"
   },
   {
    "duration": 22,
    "start_time": "2021-10-15T08:03:18.719Z"
   },
   {
    "duration": 13,
    "start_time": "2021-10-15T08:03:18.764Z"
   },
   {
    "duration": 12,
    "start_time": "2021-10-15T08:03:18.779Z"
   },
   {
    "duration": 15,
    "start_time": "2021-10-15T08:03:18.793Z"
   },
   {
    "duration": 514,
    "start_time": "2021-10-15T08:03:18.809Z"
   },
   {
    "duration": 458,
    "start_time": "2021-10-15T08:03:19.325Z"
   },
   {
    "duration": 450,
    "start_time": "2021-10-15T08:03:19.785Z"
   },
   {
    "duration": 425,
    "start_time": "2021-10-15T08:03:20.236Z"
   },
   {
    "duration": 462,
    "start_time": "2021-10-15T08:03:20.663Z"
   },
   {
    "duration": 452,
    "start_time": "2021-10-15T08:03:21.127Z"
   },
   {
    "duration": 6,
    "start_time": "2021-10-15T08:03:21.581Z"
   },
   {
    "duration": 6827,
    "start_time": "2021-10-15T08:03:21.589Z"
   },
   {
    "duration": 20,
    "start_time": "2021-10-15T08:03:28.418Z"
   },
   {
    "duration": 2,
    "start_time": "2021-10-15T08:03:28.440Z"
   },
   {
    "duration": 9,
    "start_time": "2021-10-15T08:03:28.465Z"
   },
   {
    "duration": 2,
    "start_time": "2021-10-15T08:03:28.476Z"
   },
   {
    "duration": 32,
    "start_time": "2021-10-15T08:03:28.480Z"
   },
   {
    "duration": 6,
    "start_time": "2021-10-15T08:10:21.337Z"
   },
   {
    "duration": 29,
    "start_time": "2021-10-15T08:10:32.567Z"
   },
   {
    "duration": 6,
    "start_time": "2021-10-15T08:10:34.197Z"
   },
   {
    "duration": 22,
    "start_time": "2021-10-15T08:10:45.790Z"
   },
   {
    "duration": 8,
    "start_time": "2021-10-15T08:12:08.967Z"
   },
   {
    "duration": 2,
    "start_time": "2021-10-15T08:18:04.078Z"
   },
   {
    "duration": 10,
    "start_time": "2021-10-15T08:19:05.296Z"
   },
   {
    "duration": 8,
    "start_time": "2021-10-15T08:19:51.096Z"
   },
   {
    "duration": 22,
    "start_time": "2021-10-15T08:20:31.586Z"
   },
   {
    "duration": 3,
    "start_time": "2021-10-15T08:20:33.290Z"
   },
   {
    "duration": 16,
    "start_time": "2021-10-15T08:20:36.765Z"
   },
   {
    "duration": 3,
    "start_time": "2021-10-15T08:20:38.255Z"
   },
   {
    "duration": 9,
    "start_time": "2021-10-15T08:20:39.110Z"
   },
   {
    "duration": 7,
    "start_time": "2021-10-15T08:20:41.255Z"
   },
   {
    "duration": 7,
    "start_time": "2021-10-15T08:20:47.304Z"
   },
   {
    "duration": 2,
    "start_time": "2021-10-15T08:22:01.547Z"
   },
   {
    "duration": 2,
    "start_time": "2021-10-15T08:22:02.713Z"
   },
   {
    "duration": 7,
    "start_time": "2021-10-15T08:22:03.206Z"
   },
   {
    "duration": 8,
    "start_time": "2021-10-15T08:22:08.710Z"
   },
   {
    "duration": 8,
    "start_time": "2021-10-15T08:22:18.897Z"
   },
   {
    "duration": 325,
    "start_time": "2021-10-15T08:23:20.831Z"
   },
   {
    "duration": 24,
    "start_time": "2021-10-15T08:23:56.806Z"
   },
   {
    "duration": 22,
    "start_time": "2021-10-15T08:24:07.450Z"
   },
   {
    "duration": 7,
    "start_time": "2021-10-15T08:24:10.346Z"
   },
   {
    "duration": 7,
    "start_time": "2021-10-15T08:24:14.376Z"
   },
   {
    "duration": 9,
    "start_time": "2021-10-15T08:24:18.303Z"
   },
   {
    "duration": 8,
    "start_time": "2021-10-15T08:24:38.614Z"
   },
   {
    "duration": 8,
    "start_time": "2021-10-15T08:24:39.139Z"
   },
   {
    "duration": 7,
    "start_time": "2021-10-15T08:25:04.153Z"
   },
   {
    "duration": 8,
    "start_time": "2021-10-15T08:25:04.928Z"
   },
   {
    "duration": 2,
    "start_time": "2021-10-15T08:25:55.744Z"
   },
   {
    "duration": 24,
    "start_time": "2021-10-15T08:25:56.303Z"
   },
   {
    "duration": 8,
    "start_time": "2021-10-15T08:25:57.514Z"
   },
   {
    "duration": 6,
    "start_time": "2021-10-15T08:32:58.229Z"
   },
   {
    "duration": 25,
    "start_time": "2021-10-15T08:33:12.540Z"
   },
   {
    "duration": 21,
    "start_time": "2021-10-15T08:33:27.706Z"
   },
   {
    "duration": 8,
    "start_time": "2021-10-15T08:33:35.381Z"
   },
   {
    "duration": 22,
    "start_time": "2021-10-15T08:33:37.526Z"
   },
   {
    "duration": 23,
    "start_time": "2021-10-15T08:34:09.221Z"
   },
   {
    "duration": 54,
    "start_time": "2021-10-15T08:34:23.693Z"
   },
   {
    "duration": 10,
    "start_time": "2021-10-15T08:34:23.749Z"
   },
   {
    "duration": 18,
    "start_time": "2021-10-15T08:34:23.762Z"
   },
   {
    "duration": 11,
    "start_time": "2021-10-15T08:34:23.782Z"
   },
   {
    "duration": 6,
    "start_time": "2021-10-15T08:34:23.795Z"
   },
   {
    "duration": 21,
    "start_time": "2021-10-15T08:34:23.803Z"
   },
   {
    "duration": 69,
    "start_time": "2021-10-15T08:34:23.825Z"
   },
   {
    "duration": 13,
    "start_time": "2021-10-15T08:34:23.897Z"
   },
   {
    "duration": 4,
    "start_time": "2021-10-15T08:34:23.912Z"
   },
   {
    "duration": 50,
    "start_time": "2021-10-15T08:34:23.918Z"
   },
   {
    "duration": 41,
    "start_time": "2021-10-15T08:34:23.970Z"
   },
   {
    "duration": 16,
    "start_time": "2021-10-15T08:34:24.012Z"
   },
   {
    "duration": 49,
    "start_time": "2021-10-15T08:34:24.030Z"
   },
   {
    "duration": 13,
    "start_time": "2021-10-15T08:34:24.080Z"
   },
   {
    "duration": 14,
    "start_time": "2021-10-15T08:34:24.095Z"
   },
   {
    "duration": 15,
    "start_time": "2021-10-15T08:34:24.111Z"
   },
   {
    "duration": 513,
    "start_time": "2021-10-15T08:34:24.128Z"
   },
   {
    "duration": 442,
    "start_time": "2021-10-15T08:34:24.644Z"
   },
   {
    "duration": 441,
    "start_time": "2021-10-15T08:34:25.088Z"
   },
   {
    "duration": 417,
    "start_time": "2021-10-15T08:34:25.531Z"
   },
   {
    "duration": 655,
    "start_time": "2021-10-15T08:34:25.950Z"
   },
   {
    "duration": 392,
    "start_time": "2021-10-15T08:34:26.608Z"
   },
   {
    "duration": 6,
    "start_time": "2021-10-15T08:34:27.005Z"
   },
   {
    "duration": 6773,
    "start_time": "2021-10-15T08:34:27.013Z"
   },
   {
    "duration": 18,
    "start_time": "2021-10-15T08:34:33.788Z"
   },
   {
    "duration": 2,
    "start_time": "2021-10-15T08:34:33.808Z"
   },
   {
    "duration": 16,
    "start_time": "2021-10-15T08:34:33.812Z"
   },
   {
    "duration": 44,
    "start_time": "2021-10-15T08:34:33.829Z"
   },
   {
    "duration": 2,
    "start_time": "2021-10-15T08:34:33.875Z"
   },
   {
    "duration": 4,
    "start_time": "2021-10-15T08:34:33.879Z"
   },
   {
    "duration": 6,
    "start_time": "2021-10-15T08:34:33.885Z"
   },
   {
    "duration": 24,
    "start_time": "2021-10-15T08:34:33.893Z"
   },
   {
    "duration": 8,
    "start_time": "2021-10-15T08:34:33.918Z"
   },
   {
    "duration": 52,
    "start_time": "2021-10-15T08:34:33.928Z"
   },
   {
    "duration": 24,
    "start_time": "2021-10-15T08:35:24.518Z"
   },
   {
    "duration": 2,
    "start_time": "2021-10-15T08:35:47.816Z"
   },
   {
    "duration": 193,
    "start_time": "2021-10-15T08:47:21.050Z"
   },
   {
    "duration": 203,
    "start_time": "2021-10-15T08:48:07.678Z"
   },
   {
    "duration": 377,
    "start_time": "2021-10-15T08:48:16.106Z"
   },
   {
    "duration": 393,
    "start_time": "2021-10-15T08:48:20.023Z"
   },
   {
    "duration": 346,
    "start_time": "2021-10-15T08:49:36.231Z"
   },
   {
    "duration": 366,
    "start_time": "2021-10-15T08:49:54.250Z"
   },
   {
    "duration": 351,
    "start_time": "2021-10-15T08:50:02.378Z"
   },
   {
    "duration": 212,
    "start_time": "2021-10-15T08:50:56.536Z"
   },
   {
    "duration": 213,
    "start_time": "2021-10-15T08:51:05.305Z"
   },
   {
    "duration": 204,
    "start_time": "2021-10-15T08:53:18.311Z"
   },
   {
    "duration": 314,
    "start_time": "2021-10-15T08:53:26.656Z"
   },
   {
    "duration": 20,
    "start_time": "2021-10-15T08:55:21.656Z"
   },
   {
    "duration": 21,
    "start_time": "2021-10-15T08:55:39.525Z"
   },
   {
    "duration": 213,
    "start_time": "2021-10-15T08:59:21.182Z"
   },
   {
    "duration": 24,
    "start_time": "2021-10-15T09:28:06.844Z"
   },
   {
    "duration": 24,
    "start_time": "2021-10-15T09:28:15.651Z"
   },
   {
    "duration": 787,
    "start_time": "2021-10-15T09:29:15.277Z"
   },
   {
    "duration": 4,
    "start_time": "2021-10-15T09:30:34.523Z"
   },
   {
    "duration": 4,
    "start_time": "2021-10-15T09:30:40.646Z"
   },
   {
    "duration": 8,
    "start_time": "2021-10-15T09:30:56.784Z"
   },
   {
    "duration": 10,
    "start_time": "2021-10-15T09:31:33.458Z"
   },
   {
    "duration": 28,
    "start_time": "2021-10-15T09:31:48.753Z"
   },
   {
    "duration": 6,
    "start_time": "2021-10-15T09:31:56.435Z"
   },
   {
    "duration": 323,
    "start_time": "2021-10-15T09:36:01.426Z"
   },
   {
    "duration": 24,
    "start_time": "2021-10-15T09:38:56.012Z"
   },
   {
    "duration": 6,
    "start_time": "2021-10-15T09:38:56.925Z"
   },
   {
    "duration": 308,
    "start_time": "2021-10-15T09:38:57.915Z"
   },
   {
    "duration": 739,
    "start_time": "2021-10-15T09:39:51.363Z"
   },
   {
    "duration": 8,
    "start_time": "2021-10-15T09:44:37.101Z"
   },
   {
    "duration": 53,
    "start_time": "2021-10-15T09:44:56.105Z"
   },
   {
    "duration": 10,
    "start_time": "2021-10-15T09:44:56.160Z"
   },
   {
    "duration": 20,
    "start_time": "2021-10-15T09:44:56.172Z"
   },
   {
    "duration": 14,
    "start_time": "2021-10-15T09:44:56.193Z"
   },
   {
    "duration": 11,
    "start_time": "2021-10-15T09:45:02.969Z"
   },
   {
    "duration": 58,
    "start_time": "2021-10-15T09:45:14.442Z"
   },
   {
    "duration": 12,
    "start_time": "2021-10-15T09:45:14.502Z"
   },
   {
    "duration": 165,
    "start_time": "2021-10-15T09:45:14.517Z"
   },
   {
    "duration": 16,
    "start_time": "2021-10-15T09:45:14.685Z"
   },
   {
    "duration": 17,
    "start_time": "2021-10-15T09:45:14.704Z"
   },
   {
    "duration": 23,
    "start_time": "2021-10-15T09:45:14.723Z"
   },
   {
    "duration": 38,
    "start_time": "2021-10-15T09:45:14.748Z"
   },
   {
    "duration": 42,
    "start_time": "2021-10-15T09:45:14.790Z"
   },
   {
    "duration": 42,
    "start_time": "2021-10-15T09:45:14.834Z"
   },
   {
    "duration": 8,
    "start_time": "2021-10-15T09:45:14.878Z"
   },
   {
    "duration": 40,
    "start_time": "2021-10-15T09:45:14.888Z"
   },
   {
    "duration": 57,
    "start_time": "2021-10-15T09:45:14.931Z"
   },
   {
    "duration": 16,
    "start_time": "2021-10-15T09:45:14.990Z"
   },
   {
    "duration": 42,
    "start_time": "2021-10-15T09:45:15.008Z"
   },
   {
    "duration": 19,
    "start_time": "2021-10-15T09:45:15.052Z"
   },
   {
    "duration": 29,
    "start_time": "2021-10-15T09:45:15.073Z"
   },
   {
    "duration": 26,
    "start_time": "2021-10-15T09:45:15.104Z"
   },
   {
    "duration": 511,
    "start_time": "2021-10-15T09:45:15.131Z"
   },
   {
    "duration": 445,
    "start_time": "2021-10-15T09:45:15.643Z"
   },
   {
    "duration": 556,
    "start_time": "2021-10-15T09:45:16.090Z"
   },
   {
    "duration": 553,
    "start_time": "2021-10-15T09:45:16.649Z"
   },
   {
    "duration": 475,
    "start_time": "2021-10-15T09:45:17.204Z"
   },
   {
    "duration": 383,
    "start_time": "2021-10-15T09:45:17.682Z"
   },
   {
    "duration": 6,
    "start_time": "2021-10-15T09:45:18.068Z"
   },
   {
    "duration": 7261,
    "start_time": "2021-10-15T09:45:18.076Z"
   },
   {
    "duration": 30,
    "start_time": "2021-10-15T09:45:25.339Z"
   },
   {
    "duration": 2,
    "start_time": "2021-10-15T09:45:25.371Z"
   },
   {
    "duration": 23,
    "start_time": "2021-10-15T09:45:25.375Z"
   },
   {
    "duration": 45,
    "start_time": "2021-10-15T09:45:25.399Z"
   },
   {
    "duration": 2,
    "start_time": "2021-10-15T09:45:25.446Z"
   },
   {
    "duration": 20,
    "start_time": "2021-10-15T09:45:25.450Z"
   },
   {
    "duration": 33,
    "start_time": "2021-10-15T09:45:25.472Z"
   },
   {
    "duration": 37,
    "start_time": "2021-10-15T09:45:25.507Z"
   },
   {
    "duration": 8,
    "start_time": "2021-10-15T09:45:25.545Z"
   },
   {
    "duration": 8,
    "start_time": "2021-10-15T09:45:25.555Z"
   },
   {
    "duration": 32,
    "start_time": "2021-10-15T09:45:25.565Z"
   },
   {
    "duration": 236,
    "start_time": "2021-10-15T09:45:25.598Z"
   },
   {
    "duration": 36,
    "start_time": "2021-10-15T09:45:25.836Z"
   },
   {
    "duration": 5,
    "start_time": "2021-10-15T09:45:25.874Z"
   },
   {
    "duration": 358,
    "start_time": "2021-10-15T09:45:25.880Z"
   },
   {
    "duration": 1317,
    "start_time": "2021-10-15T09:45:26.239Z"
   },
   {
    "duration": 757,
    "start_time": "2021-10-15T09:45:31.398Z"
   },
   {
    "duration": 771,
    "start_time": "2021-10-15T09:47:11.291Z"
   },
   {
    "duration": 7554,
    "start_time": "2021-10-15T09:47:48.738Z"
   },
   {
    "duration": 343,
    "start_time": "2021-10-15T09:48:24.086Z"
   },
   {
    "duration": 22,
    "start_time": "2021-10-15T11:15:59.440Z"
   },
   {
    "duration": 3,
    "start_time": "2021-10-15T11:16:02.771Z"
   },
   {
    "duration": 3,
    "start_time": "2021-10-15T11:16:03.150Z"
   },
   {
    "duration": 3,
    "start_time": "2021-10-15T11:16:03.517Z"
   },
   {
    "duration": 24,
    "start_time": "2021-10-15T11:16:04.008Z"
   },
   {
    "duration": 9,
    "start_time": "2021-10-15T11:16:05.271Z"
   },
   {
    "duration": 3,
    "start_time": "2021-10-15T11:16:05.684Z"
   },
   {
    "duration": 23,
    "start_time": "2021-10-15T11:16:09.649Z"
   },
   {
    "duration": 25,
    "start_time": "2021-10-15T11:16:31.341Z"
   },
   {
    "duration": 9,
    "start_time": "2021-10-15T11:16:35.938Z"
   },
   {
    "duration": 3,
    "start_time": "2021-10-15T11:16:37.330Z"
   },
   {
    "duration": 25,
    "start_time": "2021-10-15T11:16:40.434Z"
   },
   {
    "duration": 209,
    "start_time": "2021-10-15T11:16:43.914Z"
   },
   {
    "duration": 24,
    "start_time": "2021-10-15T11:17:05.574Z"
   },
   {
    "duration": 5,
    "start_time": "2021-10-15T11:17:06.261Z"
   },
   {
    "duration": 371,
    "start_time": "2021-10-15T11:17:06.642Z"
   },
   {
    "duration": 755,
    "start_time": "2021-10-15T11:17:07.915Z"
   },
   {
    "duration": 313,
    "start_time": "2021-10-15T11:17:09.276Z"
   },
   {
    "duration": 353,
    "start_time": "2021-10-15T11:17:11.027Z"
   },
   {
    "duration": 367,
    "start_time": "2021-10-15T11:17:38.332Z"
   },
   {
    "duration": 53,
    "start_time": "2021-10-15T11:18:07.887Z"
   },
   {
    "duration": 9,
    "start_time": "2021-10-15T11:18:07.942Z"
   },
   {
    "duration": 21,
    "start_time": "2021-10-15T11:18:07.953Z"
   },
   {
    "duration": 13,
    "start_time": "2021-10-15T11:18:07.976Z"
   },
   {
    "duration": 10,
    "start_time": "2021-10-15T11:18:07.991Z"
   },
   {
    "duration": 8,
    "start_time": "2021-10-15T11:18:08.003Z"
   },
   {
    "duration": 67,
    "start_time": "2021-10-15T11:18:08.013Z"
   },
   {
    "duration": 39,
    "start_time": "2021-10-15T11:18:08.082Z"
   },
   {
    "duration": 40,
    "start_time": "2021-10-15T11:18:08.124Z"
   },
   {
    "duration": 6,
    "start_time": "2021-10-15T11:18:08.167Z"
   },
   {
    "duration": 32,
    "start_time": "2021-10-15T11:18:08.174Z"
   },
   {
    "duration": 64,
    "start_time": "2021-10-15T11:18:08.208Z"
   },
   {
    "duration": 15,
    "start_time": "2021-10-15T11:18:08.274Z"
   },
   {
    "duration": 20,
    "start_time": "2021-10-15T11:18:08.292Z"
   },
   {
    "duration": 14,
    "start_time": "2021-10-15T11:18:08.315Z"
   },
   {
    "duration": 43,
    "start_time": "2021-10-15T11:18:08.331Z"
   },
   {
    "duration": 16,
    "start_time": "2021-10-15T11:18:08.376Z"
   },
   {
    "duration": 519,
    "start_time": "2021-10-15T11:18:08.393Z"
   },
   {
    "duration": 427,
    "start_time": "2021-10-15T11:18:08.914Z"
   },
   {
    "duration": 449,
    "start_time": "2021-10-15T11:18:09.343Z"
   },
   {
    "duration": 427,
    "start_time": "2021-10-15T11:18:09.794Z"
   },
   {
    "duration": 462,
    "start_time": "2021-10-15T11:18:10.223Z"
   },
   {
    "duration": 889,
    "start_time": "2021-10-15T11:18:10.688Z"
   },
   {
    "duration": 8,
    "start_time": "2021-10-15T11:18:11.579Z"
   },
   {
    "duration": 8655,
    "start_time": "2021-10-15T11:18:11.588Z"
   },
   {
    "duration": 27,
    "start_time": "2021-10-15T11:18:20.245Z"
   },
   {
    "duration": 2,
    "start_time": "2021-10-15T11:18:20.277Z"
   },
   {
    "duration": 11,
    "start_time": "2021-10-15T11:18:20.282Z"
   },
   {
    "duration": 26,
    "start_time": "2021-10-15T11:18:20.295Z"
   },
   {
    "duration": 3,
    "start_time": "2021-10-15T11:18:20.323Z"
   },
   {
    "duration": 10,
    "start_time": "2021-10-15T11:18:20.327Z"
   },
   {
    "duration": 2,
    "start_time": "2021-10-15T11:18:20.364Z"
   },
   {
    "duration": 24,
    "start_time": "2021-10-15T11:18:20.368Z"
   },
   {
    "duration": 8,
    "start_time": "2021-10-15T11:18:20.394Z"
   },
   {
    "duration": 4,
    "start_time": "2021-10-15T11:18:20.404Z"
   },
   {
    "duration": 58,
    "start_time": "2021-10-15T11:18:20.410Z"
   },
   {
    "duration": 242,
    "start_time": "2021-10-15T11:18:20.470Z"
   },
   {
    "duration": 22,
    "start_time": "2021-10-15T11:18:20.714Z"
   },
   {
    "duration": 5,
    "start_time": "2021-10-15T11:18:20.738Z"
   },
   {
    "duration": 349,
    "start_time": "2021-10-15T11:18:20.764Z"
   },
   {
    "duration": 727,
    "start_time": "2021-10-15T11:18:21.115Z"
   },
   {
    "duration": -155,
    "start_time": "2021-10-15T11:18:21.998Z"
   },
   {
    "duration": -159,
    "start_time": "2021-10-15T11:18:22.003Z"
   },
   {
    "duration": 367,
    "start_time": "2021-10-15T11:18:34.943Z"
   },
   {
    "duration": 353,
    "start_time": "2021-10-15T11:18:36.857Z"
   },
   {
    "duration": 242,
    "start_time": "2021-10-15T11:19:09.204Z"
   },
   {
    "duration": 506,
    "start_time": "2021-10-16T13:02:24.049Z"
   },
   {
    "duration": 422,
    "start_time": "2021-10-16T13:02:34.056Z"
   },
   {
    "duration": 392,
    "start_time": "2021-10-16T13:02:54.513Z"
   },
   {
    "duration": 419,
    "start_time": "2021-10-16T13:08:23.750Z"
   },
   {
    "duration": 1682,
    "start_time": "2021-10-16T13:08:38.832Z"
   },
   {
    "duration": 14,
    "start_time": "2021-10-16T13:08:40.517Z"
   },
   {
    "duration": 31,
    "start_time": "2021-10-16T13:08:40.534Z"
   },
   {
    "duration": 16,
    "start_time": "2021-10-16T13:08:40.568Z"
   },
   {
    "duration": 15,
    "start_time": "2021-10-16T13:08:40.586Z"
   },
   {
    "duration": 10,
    "start_time": "2021-10-16T13:08:40.603Z"
   },
   {
    "duration": 36,
    "start_time": "2021-10-16T13:08:40.658Z"
   },
   {
    "duration": 76,
    "start_time": "2021-10-16T13:08:40.696Z"
   },
   {
    "duration": 20,
    "start_time": "2021-10-16T13:08:40.775Z"
   },
   {
    "duration": 5,
    "start_time": "2021-10-16T13:08:40.799Z"
   },
   {
    "duration": 71,
    "start_time": "2021-10-16T13:08:40.807Z"
   },
   {
    "duration": 79,
    "start_time": "2021-10-16T13:08:40.880Z"
   },
   {
    "duration": 25,
    "start_time": "2021-10-16T13:08:40.961Z"
   },
   {
    "duration": 27,
    "start_time": "2021-10-16T13:08:40.988Z"
   },
   {
    "duration": 45,
    "start_time": "2021-10-16T13:08:41.018Z"
   },
   {
    "duration": 25,
    "start_time": "2021-10-16T13:08:41.065Z"
   },
   {
    "duration": 21,
    "start_time": "2021-10-16T13:08:41.093Z"
   },
   {
    "duration": 834,
    "start_time": "2021-10-16T13:08:41.117Z"
   },
   {
    "duration": 802,
    "start_time": "2021-10-16T13:08:41.958Z"
   },
   {
    "duration": 764,
    "start_time": "2021-10-16T13:08:42.763Z"
   },
   {
    "duration": 697,
    "start_time": "2021-10-16T13:08:43.530Z"
   },
   {
    "duration": 881,
    "start_time": "2021-10-16T13:08:44.229Z"
   },
   {
    "duration": 683,
    "start_time": "2021-10-16T13:08:45.112Z"
   },
   {
    "duration": 8,
    "start_time": "2021-10-16T13:08:45.797Z"
   },
   {
    "duration": 10520,
    "start_time": "2021-10-16T13:08:45.808Z"
   },
   {
    "duration": 32,
    "start_time": "2021-10-16T13:08:56.330Z"
   },
   {
    "duration": 3,
    "start_time": "2021-10-16T13:08:56.367Z"
   },
   {
    "duration": 15,
    "start_time": "2021-10-16T13:08:56.373Z"
   },
   {
    "duration": 42,
    "start_time": "2021-10-16T13:08:56.391Z"
   },
   {
    "duration": 22,
    "start_time": "2021-10-16T13:08:56.435Z"
   },
   {
    "duration": 26,
    "start_time": "2021-10-16T13:08:56.460Z"
   },
   {
    "duration": 18,
    "start_time": "2021-10-16T13:08:56.488Z"
   },
   {
    "duration": 46,
    "start_time": "2021-10-16T13:08:56.509Z"
   },
   {
    "duration": 11,
    "start_time": "2021-10-16T13:08:56.557Z"
   },
   {
    "duration": 16,
    "start_time": "2021-10-16T13:08:56.570Z"
   },
   {
    "duration": 54,
    "start_time": "2021-10-16T13:08:56.589Z"
   },
   {
    "duration": 356,
    "start_time": "2021-10-16T13:08:56.645Z"
   },
   {
    "duration": 57,
    "start_time": "2021-10-16T13:08:57.003Z"
   },
   {
    "duration": 14,
    "start_time": "2021-10-16T13:08:57.062Z"
   },
   {
    "duration": 450,
    "start_time": "2021-10-16T13:08:57.079Z"
   },
   {
    "duration": 1270,
    "start_time": "2021-10-16T13:08:57.532Z"
   },
   {
    "duration": -98,
    "start_time": "2021-10-16T13:08:58.903Z"
   },
   {
    "duration": -98,
    "start_time": "2021-10-16T13:08:58.904Z"
   },
   {
    "duration": 482,
    "start_time": "2021-10-16T13:09:09.151Z"
   },
   {
    "duration": 395,
    "start_time": "2021-10-16T13:09:10.512Z"
   },
   {
    "duration": 595,
    "start_time": "2021-10-16T13:09:12.351Z"
   },
   {
    "duration": 407,
    "start_time": "2021-10-16T13:09:30.752Z"
   },
   {
    "duration": 383,
    "start_time": "2021-10-16T13:10:16.967Z"
   },
   {
    "duration": 14,
    "start_time": "2021-10-16T13:11:56.031Z"
   },
   {
    "duration": 21,
    "start_time": "2021-10-16T13:12:12.110Z"
   },
   {
    "duration": 20,
    "start_time": "2021-10-16T13:19:02.289Z"
   },
   {
    "duration": 19,
    "start_time": "2021-10-16T13:19:40.541Z"
   },
   {
    "duration": 20,
    "start_time": "2021-10-16T13:20:48.945Z"
   },
   {
    "duration": 19,
    "start_time": "2021-10-16T13:28:26.454Z"
   },
   {
    "duration": 20,
    "start_time": "2021-10-16T13:29:38.433Z"
   },
   {
    "duration": 20,
    "start_time": "2021-10-16T13:30:48.534Z"
   },
   {
    "duration": 76,
    "start_time": "2021-10-16T13:41:41.753Z"
   },
   {
    "duration": 34,
    "start_time": "2021-10-16T13:41:41.832Z"
   },
   {
    "duration": 29,
    "start_time": "2021-10-16T13:41:41.869Z"
   },
   {
    "duration": 14,
    "start_time": "2021-10-16T13:41:41.900Z"
   },
   {
    "duration": 18,
    "start_time": "2021-10-16T13:41:43.959Z"
   },
   {
    "duration": 26,
    "start_time": "2021-10-16T13:41:43.980Z"
   },
   {
    "duration": 85,
    "start_time": "2021-10-16T13:41:44.010Z"
   },
   {
    "duration": 91,
    "start_time": "2021-10-16T13:41:44.098Z"
   },
   {
    "duration": 20,
    "start_time": "2021-10-16T13:41:44.191Z"
   },
   {
    "duration": 5,
    "start_time": "2021-10-16T13:41:44.213Z"
   },
   {
    "duration": 44,
    "start_time": "2021-10-16T13:41:44.221Z"
   },
   {
    "duration": 67,
    "start_time": "2021-10-16T13:41:44.269Z"
   },
   {
    "duration": 31,
    "start_time": "2021-10-16T13:41:44.339Z"
   },
   {
    "duration": 27,
    "start_time": "2021-10-16T13:41:44.373Z"
   },
   {
    "duration": 25,
    "start_time": "2021-10-16T13:41:44.403Z"
   },
   {
    "duration": 31,
    "start_time": "2021-10-16T13:41:44.431Z"
   },
   {
    "duration": 22,
    "start_time": "2021-10-16T13:41:44.464Z"
   },
   {
    "duration": 868,
    "start_time": "2021-10-16T13:41:44.489Z"
   },
   {
    "duration": 887,
    "start_time": "2021-10-16T13:41:45.360Z"
   },
   {
    "duration": 1027,
    "start_time": "2021-10-16T13:41:46.250Z"
   },
   {
    "duration": 947,
    "start_time": "2021-10-16T13:41:47.280Z"
   },
   {
    "duration": 902,
    "start_time": "2021-10-16T13:41:48.230Z"
   },
   {
    "duration": 601,
    "start_time": "2021-10-16T13:41:49.134Z"
   },
   {
    "duration": 21,
    "start_time": "2021-10-16T13:41:49.738Z"
   },
   {
    "duration": 10930,
    "start_time": "2021-10-16T13:41:49.762Z"
   },
   {
    "duration": 27,
    "start_time": "2021-10-16T13:42:00.695Z"
   },
   {
    "duration": 4,
    "start_time": "2021-10-16T13:42:00.727Z"
   },
   {
    "duration": 11,
    "start_time": "2021-10-16T13:42:00.758Z"
   },
   {
    "duration": 46,
    "start_time": "2021-10-16T13:42:00.771Z"
   },
   {
    "duration": 3,
    "start_time": "2021-10-16T13:42:00.820Z"
   },
   {
    "duration": 6,
    "start_time": "2021-10-16T13:42:00.825Z"
   },
   {
    "duration": 25,
    "start_time": "2021-10-16T13:42:00.859Z"
   },
   {
    "duration": 207,
    "start_time": "2021-10-16T13:42:00.886Z"
   },
   {
    "duration": 12,
    "start_time": "2021-10-16T13:42:01.095Z"
   },
   {
    "duration": 10,
    "start_time": "2021-10-16T13:42:01.109Z"
   },
   {
    "duration": 59,
    "start_time": "2021-10-16T13:42:01.121Z"
   },
   {
    "duration": 381,
    "start_time": "2021-10-16T13:42:01.182Z"
   },
   {
    "duration": 38,
    "start_time": "2021-10-16T13:42:01.566Z"
   },
   {
    "duration": 28,
    "start_time": "2021-10-16T13:42:01.607Z"
   },
   {
    "duration": 471,
    "start_time": "2021-10-16T13:42:01.638Z"
   },
   {
    "duration": 1193,
    "start_time": "2021-10-16T13:42:02.112Z"
   },
   {
    "duration": -59,
    "start_time": "2021-10-16T13:42:03.368Z"
   },
   {
    "duration": -59,
    "start_time": "2021-10-16T13:42:03.370Z"
   },
   {
    "duration": 563,
    "start_time": "2021-10-16T13:42:43.734Z"
   },
   {
    "duration": 389,
    "start_time": "2021-10-16T13:42:45.488Z"
   },
   {
    "duration": 20,
    "start_time": "2021-10-16T13:42:47.648Z"
   },
   {
    "duration": 20,
    "start_time": "2021-10-16T13:42:48.515Z"
   },
   {
    "duration": 21,
    "start_time": "2021-10-16T13:42:50.308Z"
   },
   {
    "duration": 20,
    "start_time": "2021-10-16T13:42:50.873Z"
   },
   {
    "duration": 20,
    "start_time": "2021-10-16T13:42:51.475Z"
   },
   {
    "duration": 21,
    "start_time": "2021-10-16T13:42:51.746Z"
   },
   {
    "duration": 1467,
    "start_time": "2021-10-16T13:42:52.159Z"
   },
   {
    "duration": -110,
    "start_time": "2021-10-16T13:42:53.738Z"
   },
   {
    "duration": 21,
    "start_time": "2021-10-16T13:44:44.554Z"
   },
   {
    "duration": 405,
    "start_time": "2021-10-16T13:46:47.794Z"
   },
   {
    "duration": 20,
    "start_time": "2021-10-16T13:47:15.184Z"
   },
   {
    "duration": 21,
    "start_time": "2021-10-16T13:48:09.803Z"
   },
   {
    "duration": 1157,
    "start_time": "2021-10-20T11:21:49.481Z"
   },
   {
    "duration": 10,
    "start_time": "2021-10-20T11:21:50.639Z"
   },
   {
    "duration": 17,
    "start_time": "2021-10-20T11:21:50.651Z"
   },
   {
    "duration": 11,
    "start_time": "2021-10-20T11:21:50.670Z"
   },
   {
    "duration": 10,
    "start_time": "2021-10-20T11:21:50.682Z"
   },
   {
    "duration": 11,
    "start_time": "2021-10-20T11:21:50.693Z"
   },
   {
    "duration": 23,
    "start_time": "2021-10-20T11:21:50.706Z"
   },
   {
    "duration": 61,
    "start_time": "2021-10-20T11:21:50.732Z"
   },
   {
    "duration": 13,
    "start_time": "2021-10-20T11:21:50.795Z"
   },
   {
    "duration": 4,
    "start_time": "2021-10-20T11:21:50.809Z"
   },
   {
    "duration": 28,
    "start_time": "2021-10-20T11:21:50.814Z"
   },
   {
    "duration": 62,
    "start_time": "2021-10-20T11:21:50.844Z"
   },
   {
    "duration": 14,
    "start_time": "2021-10-20T11:21:50.908Z"
   },
   {
    "duration": 29,
    "start_time": "2021-10-20T11:21:50.924Z"
   },
   {
    "duration": 23,
    "start_time": "2021-10-20T11:21:50.955Z"
   },
   {
    "duration": 14,
    "start_time": "2021-10-20T11:21:50.979Z"
   },
   {
    "duration": 14,
    "start_time": "2021-10-20T11:21:50.994Z"
   },
   {
    "duration": 469,
    "start_time": "2021-10-20T11:21:51.009Z"
   },
   {
    "duration": 408,
    "start_time": "2021-10-20T11:21:51.480Z"
   },
   {
    "duration": 445,
    "start_time": "2021-10-20T11:21:51.889Z"
   },
   {
    "duration": 384,
    "start_time": "2021-10-20T11:21:52.335Z"
   },
   {
    "duration": 446,
    "start_time": "2021-10-20T11:21:52.721Z"
   },
   {
    "duration": 469,
    "start_time": "2021-10-20T11:21:53.171Z"
   },
   {
    "duration": 5,
    "start_time": "2021-10-20T11:21:53.643Z"
   },
   {
    "duration": 6012,
    "start_time": "2021-10-20T11:21:53.650Z"
   },
   {
    "duration": 21,
    "start_time": "2021-10-20T11:21:59.664Z"
   },
   {
    "duration": 6,
    "start_time": "2021-10-20T11:21:59.687Z"
   },
   {
    "duration": 25,
    "start_time": "2021-10-20T11:21:59.695Z"
   },
   {
    "duration": 39,
    "start_time": "2021-10-20T11:21:59.721Z"
   },
   {
    "duration": 2,
    "start_time": "2021-10-20T11:21:59.762Z"
   },
   {
    "duration": 20,
    "start_time": "2021-10-20T11:21:59.766Z"
   },
   {
    "duration": 29,
    "start_time": "2021-10-20T11:21:59.788Z"
   },
   {
    "duration": 43,
    "start_time": "2021-10-20T11:21:59.819Z"
   },
   {
    "duration": 7,
    "start_time": "2021-10-20T11:21:59.864Z"
   },
   {
    "duration": 18,
    "start_time": "2021-10-20T11:21:59.872Z"
   },
   {
    "duration": 34,
    "start_time": "2021-10-20T11:21:59.891Z"
   },
   {
    "duration": 195,
    "start_time": "2021-10-20T11:21:59.927Z"
   },
   {
    "duration": 23,
    "start_time": "2021-10-20T11:22:00.123Z"
   },
   {
    "duration": 14,
    "start_time": "2021-10-20T11:22:00.147Z"
   },
   {
    "duration": 351,
    "start_time": "2021-10-20T11:22:00.163Z"
   },
   {
    "duration": 1167,
    "start_time": "2021-10-20T11:22:00.516Z"
   },
   {
    "duration": 3228,
    "start_time": "2021-10-20T11:21:58.456Z"
   },
   {
    "duration": 3203,
    "start_time": "2021-10-20T11:21:58.482Z"
   },
   {
    "duration": 3198,
    "start_time": "2021-10-20T11:21:58.488Z"
   },
   {
    "duration": 3174,
    "start_time": "2021-10-20T11:21:58.513Z"
   },
   {
    "duration": 3171,
    "start_time": "2021-10-20T11:21:58.517Z"
   },
   {
    "duration": 3166,
    "start_time": "2021-10-20T11:21:58.523Z"
   },
   {
    "duration": 3143,
    "start_time": "2021-10-20T11:21:58.547Z"
   },
   {
    "duration": 3138,
    "start_time": "2021-10-20T11:21:58.552Z"
   },
   {
    "duration": 3132,
    "start_time": "2021-10-20T11:21:58.559Z"
   },
   {
    "duration": 3110,
    "start_time": "2021-10-20T11:21:58.582Z"
   },
   {
    "duration": 3106,
    "start_time": "2021-10-20T11:21:58.587Z"
   },
   {
    "duration": 3101,
    "start_time": "2021-10-20T11:21:58.593Z"
   },
   {
    "duration": 289,
    "start_time": "2021-10-20T11:22:06.825Z"
   },
   {
    "duration": 224,
    "start_time": "2021-10-20T11:22:07.394Z"
   },
   {
    "duration": 13,
    "start_time": "2021-10-20T11:22:08.304Z"
   },
   {
    "duration": 13,
    "start_time": "2021-10-20T11:22:08.649Z"
   },
   {
    "duration": 13,
    "start_time": "2021-10-20T11:22:09.110Z"
   },
   {
    "duration": 12,
    "start_time": "2021-10-20T11:22:09.639Z"
   },
   {
    "duration": 13,
    "start_time": "2021-10-20T11:22:09.797Z"
   },
   {
    "duration": 14,
    "start_time": "2021-10-20T11:22:09.952Z"
   },
   {
    "duration": 12,
    "start_time": "2021-10-20T11:22:10.758Z"
   },
   {
    "duration": 13,
    "start_time": "2021-10-20T11:22:10.906Z"
   },
   {
    "duration": 14,
    "start_time": "2021-10-20T11:22:11.093Z"
   },
   {
    "duration": 324,
    "start_time": "2021-10-20T11:22:11.798Z"
   },
   {
    "duration": 148,
    "start_time": "2021-10-20T11:22:21.836Z"
   },
   {
    "duration": 21,
    "start_time": "2021-10-20T11:22:27.980Z"
   },
   {
    "duration": 107,
    "start_time": "2021-10-20T11:22:28.471Z"
   },
   {
    "duration": 6,
    "start_time": "2021-10-20T11:25:56.383Z"
   },
   {
    "duration": 8,
    "start_time": "2021-10-20T11:30:53.045Z"
   },
   {
    "duration": 10,
    "start_time": "2021-10-20T11:34:03.719Z"
   },
   {
    "duration": 8,
    "start_time": "2021-10-20T11:34:13.016Z"
   },
   {
    "duration": 8,
    "start_time": "2021-10-20T11:39:09.760Z"
   },
   {
    "duration": 10,
    "start_time": "2021-10-20T11:40:40.138Z"
   },
   {
    "duration": 11,
    "start_time": "2021-10-20T11:40:50.145Z"
   },
   {
    "duration": 11,
    "start_time": "2021-10-20T11:40:59.462Z"
   },
   {
    "duration": 3,
    "start_time": "2021-10-20T11:41:37.397Z"
   },
   {
    "duration": 4,
    "start_time": "2021-10-20T11:41:53.512Z"
   },
   {
    "duration": 5,
    "start_time": "2021-10-20T11:42:12.453Z"
   },
   {
    "duration": 11,
    "start_time": "2021-10-20T11:42:27.685Z"
   },
   {
    "duration": 6,
    "start_time": "2021-10-20T11:44:04.489Z"
   },
   {
    "duration": 7,
    "start_time": "2021-10-20T11:44:43.587Z"
   },
   {
    "duration": 5,
    "start_time": "2021-10-20T11:44:50.028Z"
   },
   {
    "duration": 12,
    "start_time": "2021-10-20T11:44:56.680Z"
   },
   {
    "duration": 5,
    "start_time": "2021-10-20T11:44:59.791Z"
   },
   {
    "duration": 4,
    "start_time": "2021-10-20T11:44:59.970Z"
   },
   {
    "duration": 4,
    "start_time": "2021-10-20T11:45:06.472Z"
   },
   {
    "duration": 11,
    "start_time": "2021-10-20T11:45:13.711Z"
   },
   {
    "duration": 5,
    "start_time": "2021-10-20T11:45:14.681Z"
   },
   {
    "duration": 4,
    "start_time": "2021-10-20T11:45:15.587Z"
   },
   {
    "duration": 4,
    "start_time": "2021-10-20T11:45:41.829Z"
   },
   {
    "duration": 12,
    "start_time": "2021-10-20T11:45:46.371Z"
   },
   {
    "duration": 6,
    "start_time": "2021-10-20T11:45:46.721Z"
   },
   {
    "duration": 5,
    "start_time": "2021-10-20T11:45:47.424Z"
   },
   {
    "duration": 5,
    "start_time": "2021-10-20T11:46:24.059Z"
   },
   {
    "duration": 8,
    "start_time": "2021-10-20T11:50:36.470Z"
   },
   {
    "duration": 9,
    "start_time": "2021-10-20T11:50:44.107Z"
   },
   {
    "duration": 321,
    "start_time": "2021-10-20T11:50:46.010Z"
   },
   {
    "duration": 5,
    "start_time": "2021-10-20T11:50:58.228Z"
   },
   {
    "duration": 5,
    "start_time": "2021-10-20T11:52:51.560Z"
   },
   {
    "duration": 111,
    "start_time": "2021-10-20T11:54:53.821Z"
   },
   {
    "duration": 6,
    "start_time": "2021-10-20T11:55:12.894Z"
   },
   {
    "duration": 5,
    "start_time": "2021-10-20T11:55:15.478Z"
   },
   {
    "duration": 5,
    "start_time": "2021-10-20T11:55:29.802Z"
   },
   {
    "duration": 52,
    "start_time": "2021-10-20T11:55:45.709Z"
   },
   {
    "duration": 9,
    "start_time": "2021-10-20T11:55:45.763Z"
   },
   {
    "duration": 16,
    "start_time": "2021-10-20T11:55:45.774Z"
   },
   {
    "duration": 14,
    "start_time": "2021-10-20T11:55:45.792Z"
   },
   {
    "duration": 12,
    "start_time": "2021-10-20T11:55:45.808Z"
   },
   {
    "duration": 9,
    "start_time": "2021-10-20T11:55:45.822Z"
   },
   {
    "duration": 65,
    "start_time": "2021-10-20T11:55:45.833Z"
   },
   {
    "duration": 39,
    "start_time": "2021-10-20T11:55:45.901Z"
   },
   {
    "duration": 47,
    "start_time": "2021-10-20T11:55:45.942Z"
   },
   {
    "duration": 5,
    "start_time": "2021-10-20T11:55:45.990Z"
   },
   {
    "duration": 30,
    "start_time": "2021-10-20T11:55:45.996Z"
   },
   {
    "duration": 58,
    "start_time": "2021-10-20T11:55:46.028Z"
   },
   {
    "duration": 15,
    "start_time": "2021-10-20T11:55:46.088Z"
   },
   {
    "duration": 26,
    "start_time": "2021-10-20T11:55:46.105Z"
   },
   {
    "duration": 13,
    "start_time": "2021-10-20T11:55:46.133Z"
   },
   {
    "duration": 34,
    "start_time": "2021-10-20T11:55:46.147Z"
   },
   {
    "duration": 16,
    "start_time": "2021-10-20T11:55:46.182Z"
   },
   {
    "duration": 642,
    "start_time": "2021-10-20T11:55:46.199Z"
   },
   {
    "duration": 412,
    "start_time": "2021-10-20T11:55:46.843Z"
   },
   {
    "duration": 538,
    "start_time": "2021-10-20T11:55:47.257Z"
   },
   {
    "duration": 406,
    "start_time": "2021-10-20T11:55:47.797Z"
   },
   {
    "duration": 435,
    "start_time": "2021-10-20T11:55:48.205Z"
   },
   {
    "duration": 358,
    "start_time": "2021-10-20T11:55:48.644Z"
   },
   {
    "duration": 6,
    "start_time": "2021-10-20T11:55:49.006Z"
   },
   {
    "duration": 6437,
    "start_time": "2021-10-20T11:55:49.014Z"
   },
   {
    "duration": 28,
    "start_time": "2021-10-20T11:55:55.453Z"
   },
   {
    "duration": 2,
    "start_time": "2021-10-20T11:55:55.483Z"
   },
   {
    "duration": 8,
    "start_time": "2021-10-20T11:55:55.487Z"
   },
   {
    "duration": 22,
    "start_time": "2021-10-20T11:55:55.497Z"
   },
   {
    "duration": 3,
    "start_time": "2021-10-20T11:55:55.520Z"
   },
   {
    "duration": 5,
    "start_time": "2021-10-20T11:55:55.524Z"
   },
   {
    "duration": 8,
    "start_time": "2021-10-20T11:55:55.531Z"
   },
   {
    "duration": 50,
    "start_time": "2021-10-20T11:55:55.541Z"
   },
   {
    "duration": 7,
    "start_time": "2021-10-20T11:55:55.593Z"
   },
   {
    "duration": 3,
    "start_time": "2021-10-20T11:55:55.602Z"
   },
   {
    "duration": 27,
    "start_time": "2021-10-20T11:55:55.607Z"
   },
   {
    "duration": 232,
    "start_time": "2021-10-20T11:55:55.635Z"
   },
   {
    "duration": 28,
    "start_time": "2021-10-20T11:55:55.868Z"
   },
   {
    "duration": 5,
    "start_time": "2021-10-20T11:55:55.897Z"
   },
   {
    "duration": 322,
    "start_time": "2021-10-20T11:55:55.903Z"
   },
   {
    "duration": 1035,
    "start_time": "2021-10-20T11:55:56.227Z"
   },
   {
    "duration": -112,
    "start_time": "2021-10-20T11:55:57.376Z"
   },
   {
    "duration": -125,
    "start_time": "2021-10-20T11:55:57.390Z"
   },
   {
    "duration": -139,
    "start_time": "2021-10-20T11:55:57.405Z"
   },
   {
    "duration": -153,
    "start_time": "2021-10-20T11:55:57.420Z"
   },
   {
    "duration": -165,
    "start_time": "2021-10-20T11:55:57.432Z"
   },
   {
    "duration": -177,
    "start_time": "2021-10-20T11:55:57.445Z"
   },
   {
    "duration": -190,
    "start_time": "2021-10-20T11:55:57.459Z"
   },
   {
    "duration": -196,
    "start_time": "2021-10-20T11:55:57.466Z"
   },
   {
    "duration": -208,
    "start_time": "2021-10-20T11:55:57.479Z"
   },
   {
    "duration": -220,
    "start_time": "2021-10-20T11:55:57.492Z"
   },
   {
    "duration": -224,
    "start_time": "2021-10-20T11:55:57.497Z"
   },
   {
    "duration": -238,
    "start_time": "2021-10-20T11:55:57.512Z"
   },
   {
    "duration": -245,
    "start_time": "2021-10-20T11:55:57.520Z"
   },
   {
    "duration": -256,
    "start_time": "2021-10-20T11:55:57.532Z"
   },
   {
    "duration": -268,
    "start_time": "2021-10-20T11:55:57.545Z"
   },
   {
    "duration": -275,
    "start_time": "2021-10-20T11:55:57.553Z"
   },
   {
    "duration": 343,
    "start_time": "2021-10-20T11:56:02.683Z"
   },
   {
    "duration": 233,
    "start_time": "2021-10-20T11:56:04.101Z"
   },
   {
    "duration": 20,
    "start_time": "2021-10-20T11:56:05.574Z"
   },
   {
    "duration": 14,
    "start_time": "2021-10-20T11:56:06.162Z"
   },
   {
    "duration": 16,
    "start_time": "2021-10-20T11:56:06.505Z"
   },
   {
    "duration": 14,
    "start_time": "2021-10-20T11:56:07.026Z"
   },
   {
    "duration": 15,
    "start_time": "2021-10-20T11:56:07.185Z"
   },
   {
    "duration": 14,
    "start_time": "2021-10-20T11:56:07.350Z"
   },
   {
    "duration": 15,
    "start_time": "2021-10-20T11:56:07.864Z"
   },
   {
    "duration": 14,
    "start_time": "2021-10-20T11:56:08.041Z"
   },
   {
    "duration": 14,
    "start_time": "2021-10-20T11:56:08.235Z"
   },
   {
    "duration": 493,
    "start_time": "2021-10-20T11:56:08.603Z"
   },
   {
    "duration": 16,
    "start_time": "2021-10-20T11:56:09.768Z"
   },
   {
    "duration": 6,
    "start_time": "2021-10-20T11:56:10.436Z"
   },
   {
    "duration": 6,
    "start_time": "2021-10-20T11:56:11.102Z"
   },
   {
    "duration": 5,
    "start_time": "2021-10-20T11:56:12.087Z"
   },
   {
    "duration": 4,
    "start_time": "2021-10-20T11:57:51.734Z"
   },
   {
    "duration": 5,
    "start_time": "2021-10-20T11:59:49.235Z"
   },
   {
    "duration": 11,
    "start_time": "2021-10-20T12:05:55.565Z"
   },
   {
    "duration": 13,
    "start_time": "2021-10-20T12:06:49.686Z"
   },
   {
    "duration": 330,
    "start_time": "2021-10-20T12:06:54.401Z"
   },
   {
    "duration": 13,
    "start_time": "2021-10-20T12:07:26.618Z"
   },
   {
    "duration": 337,
    "start_time": "2021-10-20T12:07:27.396Z"
   },
   {
    "duration": 5,
    "start_time": "2021-10-20T12:07:41.089Z"
   },
   {
    "duration": 5,
    "start_time": "2021-10-20T12:08:06.749Z"
   },
   {
    "duration": 6,
    "start_time": "2021-10-20T12:08:44.826Z"
   },
   {
    "duration": 6,
    "start_time": "2021-10-20T12:13:25.799Z"
   },
   {
    "duration": 6,
    "start_time": "2021-10-20T12:13:48.728Z"
   },
   {
    "duration": 6,
    "start_time": "2021-10-20T12:13:49.356Z"
   },
   {
    "duration": 6,
    "start_time": "2021-10-20T12:13:50.073Z"
   },
   {
    "duration": 6,
    "start_time": "2021-10-20T12:13:50.710Z"
   },
   {
    "duration": 7,
    "start_time": "2021-10-20T12:13:55.601Z"
   },
   {
    "duration": 6,
    "start_time": "2021-10-20T12:13:55.894Z"
   },
   {
    "duration": 6,
    "start_time": "2021-10-20T12:13:56.498Z"
   },
   {
    "duration": 6,
    "start_time": "2021-10-20T12:13:57.071Z"
   },
   {
    "duration": 4,
    "start_time": "2021-10-20T12:17:36.365Z"
   },
   {
    "duration": 53,
    "start_time": "2021-10-20T12:18:09.707Z"
   },
   {
    "duration": 11,
    "start_time": "2021-10-20T12:18:09.762Z"
   },
   {
    "duration": 17,
    "start_time": "2021-10-20T12:18:09.776Z"
   },
   {
    "duration": 11,
    "start_time": "2021-10-20T12:18:09.795Z"
   },
   {
    "duration": 10,
    "start_time": "2021-10-20T12:18:09.808Z"
   },
   {
    "duration": 7,
    "start_time": "2021-10-20T12:18:09.819Z"
   },
   {
    "duration": 60,
    "start_time": "2021-10-20T12:18:09.828Z"
   },
   {
    "duration": 35,
    "start_time": "2021-10-20T12:18:09.891Z"
   },
   {
    "duration": 12,
    "start_time": "2021-10-20T12:18:09.928Z"
   },
   {
    "duration": 8,
    "start_time": "2021-10-20T12:18:09.942Z"
   },
   {
    "duration": 48,
    "start_time": "2021-10-20T12:18:09.951Z"
   },
   {
    "duration": 37,
    "start_time": "2021-10-20T12:18:10.001Z"
   },
   {
    "duration": 14,
    "start_time": "2021-10-20T12:18:10.039Z"
   },
   {
    "duration": 42,
    "start_time": "2021-10-20T12:18:10.054Z"
   },
   {
    "duration": 11,
    "start_time": "2021-10-20T12:18:10.098Z"
   },
   {
    "duration": 12,
    "start_time": "2021-10-20T12:18:10.111Z"
   },
   {
    "duration": 13,
    "start_time": "2021-10-20T12:18:10.125Z"
   },
   {
    "duration": 483,
    "start_time": "2021-10-20T12:18:10.140Z"
   },
   {
    "duration": 401,
    "start_time": "2021-10-20T12:18:10.625Z"
   },
   {
    "duration": 419,
    "start_time": "2021-10-20T12:18:11.028Z"
   },
   {
    "duration": 401,
    "start_time": "2021-10-20T12:18:11.448Z"
   },
   {
    "duration": 538,
    "start_time": "2021-10-20T12:18:11.851Z"
   },
   {
    "duration": 368,
    "start_time": "2021-10-20T12:18:12.392Z"
   },
   {
    "duration": 18,
    "start_time": "2021-10-20T12:18:12.762Z"
   },
   {
    "duration": 6258,
    "start_time": "2021-10-20T12:18:12.781Z"
   },
   {
    "duration": 17,
    "start_time": "2021-10-20T12:18:19.040Z"
   },
   {
    "duration": 5,
    "start_time": "2021-10-20T12:18:19.058Z"
   },
   {
    "duration": 29,
    "start_time": "2021-10-20T12:18:19.065Z"
   },
   {
    "duration": 28,
    "start_time": "2021-10-20T12:18:19.096Z"
   },
   {
    "duration": 2,
    "start_time": "2021-10-20T12:18:19.126Z"
   },
   {
    "duration": 16,
    "start_time": "2021-10-20T12:18:19.129Z"
   },
   {
    "duration": 10,
    "start_time": "2021-10-20T12:18:19.147Z"
   },
   {
    "duration": 29,
    "start_time": "2021-10-20T12:18:19.158Z"
   },
   {
    "duration": 7,
    "start_time": "2021-10-20T12:18:19.189Z"
   },
   {
    "duration": 7,
    "start_time": "2021-10-20T12:18:19.197Z"
   },
   {
    "duration": 24,
    "start_time": "2021-10-20T12:18:19.205Z"
   },
   {
    "duration": 214,
    "start_time": "2021-10-20T12:18:19.230Z"
   },
   {
    "duration": 31,
    "start_time": "2021-10-20T12:18:19.446Z"
   },
   {
    "duration": 4,
    "start_time": "2021-10-20T12:18:19.479Z"
   },
   {
    "duration": 335,
    "start_time": "2021-10-20T12:18:19.485Z"
   },
   {
    "duration": 4,
    "start_time": "2021-10-20T12:18:19.821Z"
   },
   {
    "duration": 2922,
    "start_time": "2021-10-20T12:19:22.841Z"
   },
   {
    "duration": 30,
    "start_time": "2021-10-20T12:22:11.066Z"
   },
   {
    "duration": 50,
    "start_time": "2021-10-20T12:22:28.731Z"
   },
   {
    "duration": 9,
    "start_time": "2021-10-20T12:22:28.782Z"
   },
   {
    "duration": 19,
    "start_time": "2021-10-20T12:22:28.793Z"
   },
   {
    "duration": 11,
    "start_time": "2021-10-20T12:22:28.814Z"
   },
   {
    "duration": 10,
    "start_time": "2021-10-20T12:22:28.826Z"
   },
   {
    "duration": 43,
    "start_time": "2021-10-20T12:22:28.837Z"
   },
   {
    "duration": 22,
    "start_time": "2021-10-20T12:22:28.882Z"
   },
   {
    "duration": 36,
    "start_time": "2021-10-20T12:22:28.907Z"
   },
   {
    "duration": 42,
    "start_time": "2021-10-20T12:22:28.945Z"
   },
   {
    "duration": 6,
    "start_time": "2021-10-20T12:22:28.989Z"
   },
   {
    "duration": 27,
    "start_time": "2021-10-20T12:22:28.997Z"
   },
   {
    "duration": 59,
    "start_time": "2021-10-20T12:22:29.026Z"
   },
   {
    "duration": 14,
    "start_time": "2021-10-20T12:22:29.087Z"
   },
   {
    "duration": 18,
    "start_time": "2021-10-20T12:22:29.103Z"
   },
   {
    "duration": 13,
    "start_time": "2021-10-20T12:22:29.123Z"
   },
   {
    "duration": 42,
    "start_time": "2021-10-20T12:22:29.138Z"
   },
   {
    "duration": 15,
    "start_time": "2021-10-20T12:22:29.182Z"
   },
   {
    "duration": 462,
    "start_time": "2021-10-20T12:22:29.199Z"
   },
   {
    "duration": 413,
    "start_time": "2021-10-20T12:22:29.663Z"
   },
   {
    "duration": 428,
    "start_time": "2021-10-20T12:22:30.078Z"
   },
   {
    "duration": 407,
    "start_time": "2021-10-20T12:22:30.508Z"
   },
   {
    "duration": 440,
    "start_time": "2021-10-20T12:22:30.916Z"
   },
   {
    "duration": 341,
    "start_time": "2021-10-20T12:22:31.360Z"
   },
   {
    "duration": 6,
    "start_time": "2021-10-20T12:22:31.703Z"
   },
   {
    "duration": 6679,
    "start_time": "2021-10-20T12:22:31.711Z"
   },
   {
    "duration": 17,
    "start_time": "2021-10-20T12:22:38.391Z"
   },
   {
    "duration": 2,
    "start_time": "2021-10-20T12:22:38.410Z"
   },
   {
    "duration": 11,
    "start_time": "2021-10-20T12:22:38.413Z"
   },
   {
    "duration": 21,
    "start_time": "2021-10-20T12:22:38.426Z"
   },
   {
    "duration": 2,
    "start_time": "2021-10-20T12:22:38.449Z"
   },
   {
    "duration": 2,
    "start_time": "2021-10-20T12:22:38.476Z"
   },
   {
    "duration": 6,
    "start_time": "2021-10-20T12:22:38.480Z"
   },
   {
    "duration": 24,
    "start_time": "2021-10-20T12:22:38.488Z"
   },
   {
    "duration": 7,
    "start_time": "2021-10-20T12:22:38.513Z"
   },
   {
    "duration": 2,
    "start_time": "2021-10-20T12:22:38.522Z"
   },
   {
    "duration": 26,
    "start_time": "2021-10-20T12:22:38.525Z"
   },
   {
    "duration": 219,
    "start_time": "2021-10-20T12:22:38.552Z"
   },
   {
    "duration": 22,
    "start_time": "2021-10-20T12:22:38.773Z"
   },
   {
    "duration": 5,
    "start_time": "2021-10-20T12:22:38.797Z"
   },
   {
    "duration": 322,
    "start_time": "2021-10-20T12:22:38.804Z"
   },
   {
    "duration": 4,
    "start_time": "2021-10-20T12:22:39.128Z"
   },
   {
    "duration": 4,
    "start_time": "2021-10-20T12:22:46.172Z"
   },
   {
    "duration": 5,
    "start_time": "2021-10-20T12:22:46.993Z"
   },
   {
    "duration": 282,
    "start_time": "2021-10-20T12:22:50.818Z"
   },
   {
    "duration": 1182,
    "start_time": "2021-10-21T17:26:42.481Z"
   },
   {
    "duration": 10,
    "start_time": "2021-10-21T17:26:43.664Z"
   },
   {
    "duration": 18,
    "start_time": "2021-10-21T17:26:43.676Z"
   },
   {
    "duration": 11,
    "start_time": "2021-10-21T17:26:43.696Z"
   },
   {
    "duration": 10,
    "start_time": "2021-10-21T17:26:43.709Z"
   },
   {
    "duration": 7,
    "start_time": "2021-10-21T17:26:43.721Z"
   },
   {
    "duration": 24,
    "start_time": "2021-10-21T17:26:43.729Z"
   },
   {
    "duration": 64,
    "start_time": "2021-10-21T17:26:43.756Z"
   },
   {
    "duration": 14,
    "start_time": "2021-10-21T17:26:43.822Z"
   },
   {
    "duration": 4,
    "start_time": "2021-10-21T17:26:43.838Z"
   },
   {
    "duration": 54,
    "start_time": "2021-10-21T17:26:43.844Z"
   },
   {
    "duration": 36,
    "start_time": "2021-10-21T17:26:43.900Z"
   },
   {
    "duration": 15,
    "start_time": "2021-10-21T17:26:43.937Z"
   },
   {
    "duration": 43,
    "start_time": "2021-10-21T17:26:43.953Z"
   },
   {
    "duration": 15,
    "start_time": "2021-10-21T17:26:43.998Z"
   },
   {
    "duration": 12,
    "start_time": "2021-10-21T17:26:44.015Z"
   },
   {
    "duration": 16,
    "start_time": "2021-10-21T17:26:44.028Z"
   },
   {
    "duration": 529,
    "start_time": "2021-10-21T17:26:44.046Z"
   },
   {
    "duration": 441,
    "start_time": "2021-10-21T17:26:44.577Z"
   },
   {
    "duration": 454,
    "start_time": "2021-10-21T17:26:45.020Z"
   },
   {
    "duration": 429,
    "start_time": "2021-10-21T17:26:45.475Z"
   },
   {
    "duration": 459,
    "start_time": "2021-10-21T17:26:45.906Z"
   },
   {
    "duration": 449,
    "start_time": "2021-10-21T17:26:46.370Z"
   },
   {
    "duration": 6,
    "start_time": "2021-10-21T17:26:46.821Z"
   },
   {
    "duration": 6838,
    "start_time": "2021-10-21T17:26:46.828Z"
   },
   {
    "duration": 25,
    "start_time": "2021-10-21T17:26:53.668Z"
   },
   {
    "duration": 2,
    "start_time": "2021-10-21T17:26:53.695Z"
   },
   {
    "duration": 12,
    "start_time": "2021-10-21T17:26:53.699Z"
   },
   {
    "duration": 28,
    "start_time": "2021-10-21T17:26:53.713Z"
   },
   {
    "duration": 2,
    "start_time": "2021-10-21T17:26:53.742Z"
   },
   {
    "duration": 5,
    "start_time": "2021-10-21T17:26:53.746Z"
   },
   {
    "duration": 8,
    "start_time": "2021-10-21T17:26:53.753Z"
   },
   {
    "duration": 48,
    "start_time": "2021-10-21T17:26:53.762Z"
   },
   {
    "duration": 9,
    "start_time": "2021-10-21T17:26:53.812Z"
   },
   {
    "duration": 2,
    "start_time": "2021-10-21T17:26:53.823Z"
   },
   {
    "duration": 25,
    "start_time": "2021-10-21T17:26:53.827Z"
   },
   {
    "duration": 274,
    "start_time": "2021-10-21T17:26:53.854Z"
   },
   {
    "duration": 23,
    "start_time": "2021-10-21T17:26:54.130Z"
   },
   {
    "duration": 5,
    "start_time": "2021-10-21T17:26:54.155Z"
   },
   {
    "duration": 383,
    "start_time": "2021-10-21T17:26:54.161Z"
   },
   {
    "duration": 4,
    "start_time": "2021-10-21T17:26:54.546Z"
   },
   {
    "duration": 7,
    "start_time": "2021-10-21T17:26:54.551Z"
   },
   {
    "duration": 370,
    "start_time": "2021-10-21T17:26:54.559Z"
   },
   {
    "duration": 262,
    "start_time": "2021-10-21T17:26:54.931Z"
   },
   {
    "duration": 14,
    "start_time": "2021-10-21T17:26:55.195Z"
   },
   {
    "duration": 14,
    "start_time": "2021-10-21T17:26:55.211Z"
   },
   {
    "duration": 13,
    "start_time": "2021-10-21T17:26:55.226Z"
   },
   {
    "duration": 12,
    "start_time": "2021-10-21T17:26:55.241Z"
   },
   {
    "duration": 47,
    "start_time": "2021-10-21T17:26:55.255Z"
   },
   {
    "duration": 14,
    "start_time": "2021-10-21T17:26:55.304Z"
   },
   {
    "duration": 14,
    "start_time": "2021-10-21T17:26:55.319Z"
   },
   {
    "duration": 12,
    "start_time": "2021-10-21T17:26:55.335Z"
   },
   {
    "duration": 42,
    "start_time": "2021-10-21T17:26:55.349Z"
   },
   {
    "duration": 268,
    "start_time": "2021-10-21T17:26:55.393Z"
   },
   {
    "duration": 4019,
    "start_time": "2021-10-21T17:26:51.644Z"
   },
   {
    "duration": 4014,
    "start_time": "2021-10-21T17:26:51.650Z"
   },
   {
    "duration": 4006,
    "start_time": "2021-10-21T17:26:51.659Z"
   },
   {
    "duration": 4001,
    "start_time": "2021-10-21T17:26:51.664Z"
   },
   {
    "duration": 3997,
    "start_time": "2021-10-21T17:26:51.669Z"
   },
   {
    "duration": 3994,
    "start_time": "2021-10-21T17:26:51.673Z"
   },
   {
    "duration": 3992,
    "start_time": "2021-10-21T17:26:51.677Z"
   },
   {
    "duration": 3989,
    "start_time": "2021-10-21T17:26:51.681Z"
   },
   {
    "duration": 7,
    "start_time": "2021-10-21T17:28:41.354Z"
   },
   {
    "duration": 5,
    "start_time": "2021-10-21T17:28:41.515Z"
   },
   {
    "duration": 6,
    "start_time": "2021-10-21T17:28:41.692Z"
   },
   {
    "duration": 6,
    "start_time": "2021-10-21T17:28:41.917Z"
   },
   {
    "duration": 7,
    "start_time": "2021-10-21T17:28:42.242Z"
   },
   {
    "duration": 5,
    "start_time": "2021-10-21T17:28:42.424Z"
   },
   {
    "duration": 6,
    "start_time": "2021-10-21T17:28:42.603Z"
   },
   {
    "duration": 6,
    "start_time": "2021-10-21T17:28:42.796Z"
   },
   {
    "duration": 8,
    "start_time": "2021-10-21T18:05:46.202Z"
   },
   {
    "duration": 5,
    "start_time": "2021-10-21T18:05:59.272Z"
   },
   {
    "duration": 6,
    "start_time": "2021-10-21T18:06:09.982Z"
   },
   {
    "duration": 50,
    "start_time": "2021-10-21T18:06:44.927Z"
   },
   {
    "duration": 9,
    "start_time": "2021-10-21T18:06:44.979Z"
   },
   {
    "duration": 17,
    "start_time": "2021-10-21T18:06:45.266Z"
   },
   {
    "duration": 13,
    "start_time": "2021-10-21T18:06:45.285Z"
   },
   {
    "duration": 11,
    "start_time": "2021-10-21T18:06:45.300Z"
   },
   {
    "duration": 9,
    "start_time": "2021-10-21T18:06:45.313Z"
   },
   {
    "duration": 26,
    "start_time": "2021-10-21T18:06:45.323Z"
   },
   {
    "duration": 69,
    "start_time": "2021-10-21T18:06:45.351Z"
   },
   {
    "duration": 13,
    "start_time": "2021-10-21T18:06:45.422Z"
   },
   {
    "duration": 4,
    "start_time": "2021-10-21T18:06:45.437Z"
   },
   {
    "duration": 54,
    "start_time": "2021-10-21T18:06:45.443Z"
   },
   {
    "duration": 37,
    "start_time": "2021-10-21T18:06:45.499Z"
   },
   {
    "duration": 15,
    "start_time": "2021-10-21T18:06:45.538Z"
   },
   {
    "duration": 52,
    "start_time": "2021-10-21T18:06:45.555Z"
   },
   {
    "duration": 14,
    "start_time": "2021-10-21T18:06:45.609Z"
   },
   {
    "duration": 13,
    "start_time": "2021-10-21T18:06:45.625Z"
   },
   {
    "duration": 16,
    "start_time": "2021-10-21T18:06:45.640Z"
   },
   {
    "duration": 503,
    "start_time": "2021-10-21T18:06:45.658Z"
   },
   {
    "duration": 583,
    "start_time": "2021-10-21T18:06:46.163Z"
   },
   {
    "duration": 458,
    "start_time": "2021-10-21T18:06:46.748Z"
   },
   {
    "duration": 420,
    "start_time": "2021-10-21T18:06:47.208Z"
   },
   {
    "duration": 474,
    "start_time": "2021-10-21T18:06:47.630Z"
   },
   {
    "duration": 388,
    "start_time": "2021-10-21T18:06:48.107Z"
   },
   {
    "duration": 7,
    "start_time": "2021-10-21T18:06:48.497Z"
   },
   {
    "duration": 6611,
    "start_time": "2021-10-21T18:06:48.509Z"
   },
   {
    "duration": 18,
    "start_time": "2021-10-21T18:06:55.123Z"
   },
   {
    "duration": 2,
    "start_time": "2021-10-21T18:06:55.143Z"
   },
   {
    "duration": 9,
    "start_time": "2021-10-21T18:06:55.147Z"
   },
   {
    "duration": 46,
    "start_time": "2021-10-21T18:06:55.158Z"
   },
   {
    "duration": 2,
    "start_time": "2021-10-21T18:06:55.206Z"
   },
   {
    "duration": 5,
    "start_time": "2021-10-21T18:06:55.210Z"
   },
   {
    "duration": 5,
    "start_time": "2021-10-21T18:06:55.216Z"
   },
   {
    "duration": 185,
    "start_time": "2021-10-21T18:06:55.223Z"
   },
   {
    "duration": 9,
    "start_time": "2021-10-21T18:06:55.410Z"
   },
   {
    "duration": 6,
    "start_time": "2021-10-21T18:06:55.420Z"
   },
   {
    "duration": 29,
    "start_time": "2021-10-21T18:06:55.427Z"
   },
   {
    "duration": 236,
    "start_time": "2021-10-21T18:06:55.457Z"
   },
   {
    "duration": 21,
    "start_time": "2021-10-21T18:06:55.695Z"
   },
   {
    "duration": 10,
    "start_time": "2021-10-21T18:06:55.718Z"
   },
   {
    "duration": 318,
    "start_time": "2021-10-21T18:06:55.730Z"
   },
   {
    "duration": 4,
    "start_time": "2021-10-21T18:06:56.050Z"
   },
   {
    "duration": 11,
    "start_time": "2021-10-21T18:06:56.055Z"
   },
   {
    "duration": 349,
    "start_time": "2021-10-21T18:06:56.067Z"
   },
   {
    "duration": 261,
    "start_time": "2021-10-21T18:06:56.419Z"
   },
   {
    "duration": 20,
    "start_time": "2021-10-21T18:06:56.682Z"
   },
   {
    "duration": 18,
    "start_time": "2021-10-21T18:06:56.703Z"
   },
   {
    "duration": 13,
    "start_time": "2021-10-21T18:06:56.723Z"
   },
   {
    "duration": 12,
    "start_time": "2021-10-21T18:06:56.737Z"
   },
   {
    "duration": 18,
    "start_time": "2021-10-21T18:06:56.750Z"
   },
   {
    "duration": 33,
    "start_time": "2021-10-21T18:06:56.770Z"
   },
   {
    "duration": 14,
    "start_time": "2021-10-21T18:06:56.805Z"
   },
   {
    "duration": 15,
    "start_time": "2021-10-21T18:06:56.821Z"
   },
   {
    "duration": 14,
    "start_time": "2021-10-21T18:06:56.838Z"
   },
   {
    "duration": 41,
    "start_time": "2021-10-21T18:06:56.854Z"
   },
   {
    "duration": 9,
    "start_time": "2021-10-21T18:06:56.897Z"
   },
   {
    "duration": 7,
    "start_time": "2021-10-21T18:06:56.908Z"
   },
   {
    "duration": 9,
    "start_time": "2021-10-21T18:06:56.917Z"
   },
   {
    "duration": 14,
    "start_time": "2021-10-21T18:06:56.928Z"
   },
   {
    "duration": 6,
    "start_time": "2021-10-21T18:06:56.944Z"
   },
   {
    "duration": 12,
    "start_time": "2021-10-21T18:06:56.952Z"
   },
   {
    "duration": 6,
    "start_time": "2021-10-21T18:06:56.992Z"
   },
   {
    "duration": 11,
    "start_time": "2021-10-21T18:10:33.287Z"
   },
   {
    "duration": 29,
    "start_time": "2021-10-21T18:10:46.587Z"
   },
   {
    "duration": 8,
    "start_time": "2021-10-21T18:17:39.830Z"
   },
   {
    "duration": 54,
    "start_time": "2021-10-21T18:20:09.245Z"
   },
   {
    "duration": 10,
    "start_time": "2021-10-21T18:20:09.301Z"
   },
   {
    "duration": 19,
    "start_time": "2021-10-21T18:20:09.313Z"
   },
   {
    "duration": 11,
    "start_time": "2021-10-21T18:20:09.334Z"
   },
   {
    "duration": 2,
    "start_time": "2021-10-21T18:20:09.347Z"
   },
   {
    "duration": 42,
    "start_time": "2021-10-21T18:20:09.350Z"
   },
   {
    "duration": 22,
    "start_time": "2021-10-21T18:20:09.394Z"
   },
   {
    "duration": 33,
    "start_time": "2021-10-21T18:20:09.418Z"
   },
   {
    "duration": 41,
    "start_time": "2021-10-21T18:20:09.454Z"
   },
   {
    "duration": 4,
    "start_time": "2021-10-21T18:20:09.497Z"
   },
   {
    "duration": 30,
    "start_time": "2021-10-21T18:20:09.503Z"
   },
   {
    "duration": 64,
    "start_time": "2021-10-21T18:20:09.534Z"
   },
   {
    "duration": 15,
    "start_time": "2021-10-21T18:20:09.600Z"
   },
   {
    "duration": 19,
    "start_time": "2021-10-21T18:20:09.617Z"
   },
   {
    "duration": 12,
    "start_time": "2021-10-21T18:20:09.638Z"
   },
   {
    "duration": 12,
    "start_time": "2021-10-21T18:20:09.652Z"
   },
   {
    "duration": 40,
    "start_time": "2021-10-21T18:20:09.665Z"
   },
   {
    "duration": 512,
    "start_time": "2021-10-21T18:20:09.706Z"
   },
   {
    "duration": 444,
    "start_time": "2021-10-21T18:20:10.219Z"
   },
   {
    "duration": 457,
    "start_time": "2021-10-21T18:20:10.665Z"
   },
   {
    "duration": 441,
    "start_time": "2021-10-21T18:20:11.124Z"
   },
   {
    "duration": 490,
    "start_time": "2021-10-21T18:20:11.566Z"
   },
   {
    "duration": 478,
    "start_time": "2021-10-21T18:20:12.060Z"
   },
   {
    "duration": 5,
    "start_time": "2021-10-21T18:20:12.541Z"
   },
   {
    "duration": 6649,
    "start_time": "2021-10-21T18:20:12.547Z"
   },
   {
    "duration": 17,
    "start_time": "2021-10-21T18:20:19.197Z"
   },
   {
    "duration": 2,
    "start_time": "2021-10-21T18:20:19.216Z"
   },
   {
    "duration": 11,
    "start_time": "2021-10-21T18:20:19.219Z"
   },
   {
    "duration": 22,
    "start_time": "2021-10-21T18:20:19.232Z"
   },
   {
    "duration": 2,
    "start_time": "2021-10-21T18:20:19.255Z"
   },
   {
    "duration": 7,
    "start_time": "2021-10-21T18:20:19.259Z"
   },
   {
    "duration": 25,
    "start_time": "2021-10-21T18:20:19.267Z"
   },
   {
    "duration": 26,
    "start_time": "2021-10-21T18:20:19.294Z"
   },
   {
    "duration": 7,
    "start_time": "2021-10-21T18:20:19.322Z"
   },
   {
    "duration": 8,
    "start_time": "2021-10-21T18:20:19.331Z"
   },
   {
    "duration": 25,
    "start_time": "2021-10-21T18:20:19.340Z"
   },
   {
    "duration": 246,
    "start_time": "2021-10-21T18:20:19.367Z"
   },
   {
    "duration": 22,
    "start_time": "2021-10-21T18:20:19.614Z"
   },
   {
    "duration": 4,
    "start_time": "2021-10-21T18:20:19.638Z"
   },
   {
    "duration": 309,
    "start_time": "2021-10-21T18:20:19.643Z"
   },
   {
    "duration": 4,
    "start_time": "2021-10-21T18:20:19.954Z"
   },
   {
    "duration": 7,
    "start_time": "2021-10-21T18:20:19.960Z"
   },
   {
    "duration": 362,
    "start_time": "2021-10-21T18:20:19.968Z"
   },
   {
    "duration": 255,
    "start_time": "2021-10-21T18:20:20.331Z"
   },
   {
    "duration": 15,
    "start_time": "2021-10-21T18:20:20.587Z"
   },
   {
    "duration": 11,
    "start_time": "2021-10-21T18:20:20.604Z"
   },
   {
    "duration": 14,
    "start_time": "2021-10-21T18:20:20.617Z"
   },
   {
    "duration": 12,
    "start_time": "2021-10-21T18:20:20.632Z"
   },
   {
    "duration": 13,
    "start_time": "2021-10-21T18:20:20.645Z"
   },
   {
    "duration": 12,
    "start_time": "2021-10-21T18:20:20.692Z"
   },
   {
    "duration": 16,
    "start_time": "2021-10-21T18:20:20.706Z"
   },
   {
    "duration": 12,
    "start_time": "2021-10-21T18:20:20.723Z"
   },
   {
    "duration": 13,
    "start_time": "2021-10-21T18:20:20.736Z"
   },
   {
    "duration": 8,
    "start_time": "2021-10-21T18:20:20.751Z"
   },
   {
    "duration": 33,
    "start_time": "2021-10-21T18:20:20.761Z"
   },
   {
    "duration": 5,
    "start_time": "2021-10-21T18:20:20.796Z"
   },
   {
    "duration": 10,
    "start_time": "2021-10-21T18:20:20.802Z"
   },
   {
    "duration": 10,
    "start_time": "2021-10-21T18:20:20.813Z"
   },
   {
    "duration": 5,
    "start_time": "2021-10-21T18:20:20.824Z"
   },
   {
    "duration": 16,
    "start_time": "2021-10-21T18:20:20.831Z"
   },
   {
    "duration": 8,
    "start_time": "2021-10-21T18:20:20.849Z"
   },
   {
    "duration": 9,
    "start_time": "2021-10-21T18:29:12.809Z"
   },
   {
    "duration": 10,
    "start_time": "2021-10-21T18:29:14.093Z"
   },
   {
    "duration": 54,
    "start_time": "2021-10-21T18:29:27.235Z"
   },
   {
    "duration": 9,
    "start_time": "2021-10-21T18:29:27.290Z"
   },
   {
    "duration": 19,
    "start_time": "2021-10-21T18:29:27.301Z"
   },
   {
    "duration": 11,
    "start_time": "2021-10-21T18:29:27.322Z"
   },
   {
    "duration": 7,
    "start_time": "2021-10-21T18:29:27.335Z"
   },
   {
    "duration": 58,
    "start_time": "2021-10-21T18:29:27.343Z"
   },
   {
    "duration": 41,
    "start_time": "2021-10-21T18:32:20.125Z"
   },
   {
    "duration": 51,
    "start_time": "2021-10-21T18:32:34.686Z"
   },
   {
    "duration": 8,
    "start_time": "2021-10-21T18:32:34.739Z"
   },
   {
    "duration": 18,
    "start_time": "2021-10-21T18:32:34.749Z"
   },
   {
    "duration": 27,
    "start_time": "2021-10-21T18:32:34.769Z"
   },
   {
    "duration": 7,
    "start_time": "2021-10-21T18:32:34.798Z"
   },
   {
    "duration": 20,
    "start_time": "2021-10-21T18:32:34.807Z"
   },
   {
    "duration": 69,
    "start_time": "2021-10-21T18:32:34.829Z"
   },
   {
    "duration": 13,
    "start_time": "2021-10-21T18:32:34.900Z"
   },
   {
    "duration": 7,
    "start_time": "2021-10-21T18:32:34.915Z"
   },
   {
    "duration": 27,
    "start_time": "2021-10-21T18:32:34.924Z"
   },
   {
    "duration": 65,
    "start_time": "2021-10-21T18:32:34.953Z"
   },
   {
    "duration": 15,
    "start_time": "2021-10-21T18:32:35.019Z"
   },
   {
    "duration": 23,
    "start_time": "2021-10-21T18:32:35.036Z"
   },
   {
    "duration": 33,
    "start_time": "2021-10-21T18:32:35.061Z"
   },
   {
    "duration": 14,
    "start_time": "2021-10-21T18:32:35.096Z"
   },
   {
    "duration": 18,
    "start_time": "2021-10-21T18:32:35.112Z"
   },
   {
    "duration": 515,
    "start_time": "2021-10-21T18:32:35.132Z"
   },
   {
    "duration": 435,
    "start_time": "2021-10-21T18:32:35.648Z"
   },
   {
    "duration": 461,
    "start_time": "2021-10-21T18:32:36.085Z"
   },
   {
    "duration": 596,
    "start_time": "2021-10-21T18:32:36.548Z"
   },
   {
    "duration": 467,
    "start_time": "2021-10-21T18:32:37.146Z"
   },
   {
    "duration": 379,
    "start_time": "2021-10-21T18:32:37.615Z"
   },
   {
    "duration": 6,
    "start_time": "2021-10-21T18:32:37.997Z"
   },
   {
    "duration": 6527,
    "start_time": "2021-10-21T18:32:38.005Z"
   },
   {
    "duration": 17,
    "start_time": "2021-10-21T18:32:44.533Z"
   },
   {
    "duration": 9,
    "start_time": "2021-10-21T18:32:44.552Z"
   },
   {
    "duration": 18,
    "start_time": "2021-10-21T18:32:44.562Z"
   },
   {
    "duration": 27,
    "start_time": "2021-10-21T18:32:44.581Z"
   },
   {
    "duration": 3,
    "start_time": "2021-10-21T18:32:44.609Z"
   },
   {
    "duration": 6,
    "start_time": "2021-10-21T18:32:44.614Z"
   },
   {
    "duration": 10,
    "start_time": "2021-10-21T18:32:44.622Z"
   },
   {
    "duration": 31,
    "start_time": "2021-10-21T18:32:44.635Z"
   },
   {
    "duration": 8,
    "start_time": "2021-10-21T18:32:44.668Z"
   },
   {
    "duration": 15,
    "start_time": "2021-10-21T18:32:44.677Z"
   },
   {
    "duration": 29,
    "start_time": "2021-10-21T18:32:44.694Z"
   },
   {
    "duration": 238,
    "start_time": "2021-10-21T18:32:44.725Z"
   },
   {
    "duration": 34,
    "start_time": "2021-10-21T18:32:44.965Z"
   },
   {
    "duration": 5,
    "start_time": "2021-10-21T18:32:45.001Z"
   },
   {
    "duration": 336,
    "start_time": "2021-10-21T18:32:45.007Z"
   },
   {
    "duration": 4,
    "start_time": "2021-10-21T18:32:45.345Z"
   },
   {
    "duration": 7,
    "start_time": "2021-10-21T18:32:45.351Z"
   },
   {
    "duration": 525,
    "start_time": "2021-10-21T18:32:45.359Z"
   },
   {
    "duration": 258,
    "start_time": "2021-10-21T18:32:45.886Z"
   },
   {
    "duration": 13,
    "start_time": "2021-10-21T18:32:46.146Z"
   },
   {
    "duration": 13,
    "start_time": "2021-10-21T18:32:46.160Z"
   },
   {
    "duration": 31,
    "start_time": "2021-10-21T18:32:46.174Z"
   },
   {
    "duration": 14,
    "start_time": "2021-10-21T18:32:46.206Z"
   },
   {
    "duration": 13,
    "start_time": "2021-10-21T18:32:46.221Z"
   },
   {
    "duration": 13,
    "start_time": "2021-10-21T18:32:46.235Z"
   },
   {
    "duration": 46,
    "start_time": "2021-10-21T18:32:46.249Z"
   },
   {
    "duration": 13,
    "start_time": "2021-10-21T18:32:46.297Z"
   },
   {
    "duration": 12,
    "start_time": "2021-10-21T18:32:46.311Z"
   },
   {
    "duration": 5,
    "start_time": "2021-10-21T18:32:46.324Z"
   },
   {
    "duration": 8,
    "start_time": "2021-10-21T18:32:46.331Z"
   },
   {
    "duration": 6,
    "start_time": "2021-10-21T18:32:46.340Z"
   },
   {
    "duration": 46,
    "start_time": "2021-10-21T18:32:46.347Z"
   },
   {
    "duration": 10,
    "start_time": "2021-10-21T18:32:46.395Z"
   },
   {
    "duration": 5,
    "start_time": "2021-10-21T18:32:46.406Z"
   },
   {
    "duration": 5,
    "start_time": "2021-10-21T18:32:46.413Z"
   },
   {
    "duration": 5,
    "start_time": "2021-10-21T18:32:46.420Z"
   },
   {
    "duration": 5,
    "start_time": "2021-10-21T18:40:43.727Z"
   },
   {
    "duration": 14,
    "start_time": "2021-10-21T18:40:47.307Z"
   },
   {
    "duration": 53,
    "start_time": "2021-10-21T18:40:55.455Z"
   },
   {
    "duration": 9,
    "start_time": "2021-10-21T18:40:55.510Z"
   },
   {
    "duration": 17,
    "start_time": "2021-10-21T18:40:55.521Z"
   },
   {
    "duration": 8,
    "start_time": "2021-10-21T18:40:55.540Z"
   },
   {
    "duration": 6,
    "start_time": "2021-10-21T18:40:55.550Z"
   },
   {
    "duration": 51,
    "start_time": "2021-10-21T18:40:55.558Z"
   },
   {
    "duration": 32,
    "start_time": "2021-10-21T18:40:55.610Z"
   },
   {
    "duration": 13,
    "start_time": "2021-10-21T18:40:55.643Z"
   },
   {
    "duration": 35,
    "start_time": "2021-10-21T18:40:55.658Z"
   },
   {
    "duration": 5,
    "start_time": "2021-10-21T18:41:00.225Z"
   },
   {
    "duration": 24,
    "start_time": "2021-10-21T18:41:01.548Z"
   },
   {
    "duration": 16,
    "start_time": "2021-10-21T18:50:25.376Z"
   },
   {
    "duration": 19,
    "start_time": "2021-10-21T18:54:37.662Z"
   },
   {
    "duration": 19,
    "start_time": "2021-10-21T18:55:13.296Z"
   },
   {
    "duration": 14,
    "start_time": "2021-10-21T19:03:16.795Z"
   },
   {
    "duration": 12,
    "start_time": "2021-10-21T19:03:22.436Z"
   },
   {
    "duration": 12,
    "start_time": "2021-10-21T19:03:29.626Z"
   },
   {
    "duration": 16,
    "start_time": "2021-10-21T19:03:50.373Z"
   },
   {
    "duration": 483,
    "start_time": "2021-10-21T19:03:52.161Z"
   },
   {
    "duration": 418,
    "start_time": "2021-10-21T19:03:52.912Z"
   },
   {
    "duration": 436,
    "start_time": "2021-10-21T19:03:53.887Z"
   },
   {
    "duration": 360,
    "start_time": "2021-10-21T19:09:11.913Z"
   },
   {
    "duration": 406,
    "start_time": "2021-10-21T19:12:32.806Z"
   },
   {
    "duration": 52,
    "start_time": "2021-10-21T19:15:04.843Z"
   },
   {
    "duration": 175,
    "start_time": "2021-10-21T19:15:13.819Z"
   },
   {
    "duration": 472,
    "start_time": "2021-10-21T19:21:09.229Z"
   },
   {
    "duration": 446,
    "start_time": "2021-10-21T19:21:09.794Z"
   },
   {
    "duration": 413,
    "start_time": "2021-10-21T19:21:10.554Z"
   },
   {
    "duration": 522,
    "start_time": "2021-10-21T19:21:11.214Z"
   },
   {
    "duration": 435,
    "start_time": "2021-10-21T19:21:12.045Z"
   },
   {
    "duration": 52,
    "start_time": "2021-10-21T19:22:45.855Z"
   },
   {
    "duration": 9,
    "start_time": "2021-10-21T19:22:45.909Z"
   },
   {
    "duration": 28,
    "start_time": "2021-10-21T19:22:45.920Z"
   },
   {
    "duration": 21,
    "start_time": "2021-10-21T19:22:45.951Z"
   },
   {
    "duration": 25,
    "start_time": "2021-10-21T19:22:45.973Z"
   },
   {
    "duration": 43,
    "start_time": "2021-10-21T19:22:46.000Z"
   },
   {
    "duration": 32,
    "start_time": "2021-10-21T19:22:46.044Z"
   },
   {
    "duration": 14,
    "start_time": "2021-10-21T19:22:46.078Z"
   },
   {
    "duration": 34,
    "start_time": "2021-10-21T19:22:46.094Z"
   },
   {
    "duration": 37,
    "start_time": "2021-10-21T19:22:46.129Z"
   },
   {
    "duration": 15,
    "start_time": "2021-10-21T19:22:46.169Z"
   },
   {
    "duration": 47,
    "start_time": "2021-10-21T19:22:46.186Z"
   },
   {
    "duration": 18,
    "start_time": "2021-10-21T19:22:46.235Z"
   },
   {
    "duration": 24,
    "start_time": "2021-10-21T19:22:46.255Z"
   },
   {
    "duration": 400,
    "start_time": "2021-10-21T19:22:46.281Z"
   },
   {
    "duration": 497,
    "start_time": "2021-10-21T19:22:46.690Z"
   },
   {
    "duration": 453,
    "start_time": "2021-10-21T19:22:47.189Z"
   },
   {
    "duration": 429,
    "start_time": "2021-10-21T19:22:47.644Z"
   },
   {
    "duration": 429,
    "start_time": "2021-10-21T19:22:48.075Z"
   },
   {
    "duration": 434,
    "start_time": "2021-10-21T19:22:48.505Z"
   },
   {
    "duration": 420,
    "start_time": "2021-10-21T19:22:48.941Z"
   },
   {
    "duration": 6,
    "start_time": "2021-10-21T19:22:49.363Z"
   },
   {
    "duration": 6442,
    "start_time": "2021-10-21T19:22:49.371Z"
   },
   {
    "duration": 16,
    "start_time": "2021-10-21T19:22:55.815Z"
   },
   {
    "duration": 2,
    "start_time": "2021-10-21T19:22:55.833Z"
   },
   {
    "duration": 9,
    "start_time": "2021-10-21T19:22:55.836Z"
   },
   {
    "duration": 19,
    "start_time": "2021-10-21T19:22:55.846Z"
   },
   {
    "duration": 26,
    "start_time": "2021-10-21T19:22:55.866Z"
   },
   {
    "duration": 5,
    "start_time": "2021-10-21T19:22:55.894Z"
   },
   {
    "duration": 5,
    "start_time": "2021-10-21T19:22:55.900Z"
   },
   {
    "duration": 25,
    "start_time": "2021-10-21T19:22:55.906Z"
   },
   {
    "duration": 7,
    "start_time": "2021-10-21T19:22:55.932Z"
   },
   {
    "duration": 2,
    "start_time": "2021-10-21T19:22:55.942Z"
   },
   {
    "duration": 23,
    "start_time": "2021-10-21T19:22:55.945Z"
   },
   {
    "duration": 226,
    "start_time": "2021-10-21T19:22:55.991Z"
   },
   {
    "duration": 22,
    "start_time": "2021-10-21T19:22:56.218Z"
   },
   {
    "duration": 7,
    "start_time": "2021-10-21T19:22:56.242Z"
   },
   {
    "duration": 305,
    "start_time": "2021-10-21T19:22:56.251Z"
   },
   {
    "duration": 5,
    "start_time": "2021-10-21T19:22:56.557Z"
   },
   {
    "duration": 7,
    "start_time": "2021-10-21T19:22:56.563Z"
   },
   {
    "duration": 353,
    "start_time": "2021-10-21T19:22:56.571Z"
   },
   {
    "duration": 255,
    "start_time": "2021-10-21T19:22:56.925Z"
   },
   {
    "duration": 16,
    "start_time": "2021-10-21T19:22:57.182Z"
   },
   {
    "duration": 13,
    "start_time": "2021-10-21T19:22:57.199Z"
   },
   {
    "duration": 12,
    "start_time": "2021-10-21T19:22:57.213Z"
   },
   {
    "duration": 11,
    "start_time": "2021-10-21T19:22:57.227Z"
   },
   {
    "duration": 13,
    "start_time": "2021-10-21T19:22:57.240Z"
   },
   {
    "duration": 40,
    "start_time": "2021-10-21T19:22:57.254Z"
   },
   {
    "duration": 11,
    "start_time": "2021-10-21T19:22:57.296Z"
   },
   {
    "duration": 16,
    "start_time": "2021-10-21T19:22:57.309Z"
   },
   {
    "duration": 12,
    "start_time": "2021-10-21T19:22:57.326Z"
   },
   {
    "duration": 5,
    "start_time": "2021-10-21T19:22:57.340Z"
   },
   {
    "duration": 9,
    "start_time": "2021-10-21T19:22:57.347Z"
   },
   {
    "duration": 36,
    "start_time": "2021-10-21T19:22:57.357Z"
   },
   {
    "duration": 6,
    "start_time": "2021-10-21T19:22:57.395Z"
   },
   {
    "duration": 7,
    "start_time": "2021-10-21T19:22:57.402Z"
   },
   {
    "duration": 6,
    "start_time": "2021-10-21T19:22:57.410Z"
   },
   {
    "duration": 5,
    "start_time": "2021-10-21T19:22:57.418Z"
   },
   {
    "duration": 6,
    "start_time": "2021-10-21T19:22:57.424Z"
   },
   {
    "duration": 6,
    "start_time": "2021-10-21T19:26:24.363Z"
   },
   {
    "duration": 178,
    "start_time": "2021-10-21T19:26:28.362Z"
   },
   {
    "duration": 6,
    "start_time": "2021-10-21T19:26:44.331Z"
   },
   {
    "duration": 202,
    "start_time": "2021-10-21T19:26:45.074Z"
   },
   {
    "duration": 53,
    "start_time": "2021-10-21T19:27:12.856Z"
   },
   {
    "duration": 8,
    "start_time": "2021-10-21T19:27:12.911Z"
   },
   {
    "duration": 28,
    "start_time": "2021-10-21T19:27:12.921Z"
   },
   {
    "duration": 17,
    "start_time": "2021-10-21T19:27:12.951Z"
   },
   {
    "duration": 16,
    "start_time": "2021-10-21T19:27:12.969Z"
   },
   {
    "duration": 21,
    "start_time": "2021-10-21T19:27:12.992Z"
   },
   {
    "duration": 38,
    "start_time": "2021-10-21T19:27:13.015Z"
   },
   {
    "duration": 47,
    "start_time": "2021-10-21T19:27:13.056Z"
   },
   {
    "duration": 5,
    "start_time": "2021-10-21T19:27:13.106Z"
   },
   {
    "duration": 40,
    "start_time": "2021-10-21T19:27:13.113Z"
   },
   {
    "duration": 44,
    "start_time": "2021-10-21T19:27:13.155Z"
   },
   {
    "duration": 25,
    "start_time": "2021-10-21T19:27:13.201Z"
   },
   {
    "duration": 13,
    "start_time": "2021-10-21T19:27:13.227Z"
   },
   {
    "duration": 19,
    "start_time": "2021-10-21T19:27:13.242Z"
   },
   {
    "duration": 406,
    "start_time": "2021-10-21T19:27:13.262Z"
   },
   {
    "duration": 501,
    "start_time": "2021-10-21T19:27:13.669Z"
   },
   {
    "duration": 467,
    "start_time": "2021-10-21T19:27:14.172Z"
   },
   {
    "duration": 412,
    "start_time": "2021-10-21T19:27:14.641Z"
   },
   {
    "duration": 420,
    "start_time": "2021-10-21T19:27:15.055Z"
   },
   {
    "duration": 436,
    "start_time": "2021-10-21T19:27:15.476Z"
   },
   {
    "duration": 412,
    "start_time": "2021-10-21T19:27:15.913Z"
   },
   {
    "duration": 5,
    "start_time": "2021-10-21T19:27:16.327Z"
   },
   {
    "duration": 6792,
    "start_time": "2021-10-21T19:27:16.336Z"
   },
   {
    "duration": 23,
    "start_time": "2021-10-21T19:27:23.131Z"
   },
   {
    "duration": 3,
    "start_time": "2021-10-21T19:27:23.156Z"
   },
   {
    "duration": 11,
    "start_time": "2021-10-21T19:27:23.160Z"
   },
   {
    "duration": 22,
    "start_time": "2021-10-21T19:27:23.191Z"
   },
   {
    "duration": 3,
    "start_time": "2021-10-21T19:27:23.214Z"
   },
   {
    "duration": 7,
    "start_time": "2021-10-21T19:27:23.219Z"
   },
   {
    "duration": 7,
    "start_time": "2021-10-21T19:27:23.228Z"
   },
   {
    "duration": 22,
    "start_time": "2021-10-21T19:27:23.236Z"
   },
   {
    "duration": 7,
    "start_time": "2021-10-21T19:27:23.260Z"
   },
   {
    "duration": 2,
    "start_time": "2021-10-21T19:27:23.291Z"
   },
   {
    "duration": 28,
    "start_time": "2021-10-21T19:27:23.294Z"
   },
   {
    "duration": 240,
    "start_time": "2021-10-21T19:27:23.323Z"
   },
   {
    "duration": 30,
    "start_time": "2021-10-21T19:27:23.565Z"
   },
   {
    "duration": 5,
    "start_time": "2021-10-21T19:27:23.597Z"
   },
   {
    "duration": 351,
    "start_time": "2021-10-21T19:27:23.604Z"
   },
   {
    "duration": 5,
    "start_time": "2021-10-21T19:27:23.956Z"
   },
   {
    "duration": 7,
    "start_time": "2021-10-21T19:27:23.962Z"
   },
   {
    "duration": 364,
    "start_time": "2021-10-21T19:27:23.971Z"
   },
   {
    "duration": 267,
    "start_time": "2021-10-21T19:27:24.336Z"
   },
   {
    "duration": 13,
    "start_time": "2021-10-21T19:27:24.605Z"
   },
   {
    "duration": 20,
    "start_time": "2021-10-21T19:27:24.619Z"
   },
   {
    "duration": 15,
    "start_time": "2021-10-21T19:27:24.640Z"
   },
   {
    "duration": 13,
    "start_time": "2021-10-21T19:27:24.657Z"
   },
   {
    "duration": 29,
    "start_time": "2021-10-21T19:27:24.672Z"
   },
   {
    "duration": 13,
    "start_time": "2021-10-21T19:27:24.702Z"
   },
   {
    "duration": 11,
    "start_time": "2021-10-21T19:27:24.717Z"
   },
   {
    "duration": 16,
    "start_time": "2021-10-21T19:27:24.730Z"
   },
   {
    "duration": 11,
    "start_time": "2021-10-21T19:27:24.748Z"
   },
   {
    "duration": 33,
    "start_time": "2021-10-21T19:27:24.761Z"
   },
   {
    "duration": 9,
    "start_time": "2021-10-21T19:27:24.796Z"
   },
   {
    "duration": 7,
    "start_time": "2021-10-21T19:27:24.806Z"
   },
   {
    "duration": 10,
    "start_time": "2021-10-21T19:27:24.814Z"
   },
   {
    "duration": 12,
    "start_time": "2021-10-21T19:27:24.826Z"
   },
   {
    "duration": 6,
    "start_time": "2021-10-21T19:27:24.839Z"
   },
   {
    "duration": 8,
    "start_time": "2021-10-21T19:27:24.846Z"
   },
   {
    "duration": 9,
    "start_time": "2021-10-21T19:27:24.856Z"
   },
   {
    "duration": 5,
    "start_time": "2021-10-21T19:27:57.156Z"
   },
   {
    "duration": 179,
    "start_time": "2021-10-21T19:27:59.424Z"
   },
   {
    "duration": 50,
    "start_time": "2021-10-21T19:28:05.936Z"
   },
   {
    "duration": 10,
    "start_time": "2021-10-21T19:28:06.141Z"
   },
   {
    "duration": 21,
    "start_time": "2021-10-21T19:28:06.153Z"
   },
   {
    "duration": 14,
    "start_time": "2021-10-21T19:28:06.176Z"
   },
   {
    "duration": 16,
    "start_time": "2021-10-21T19:28:06.192Z"
   },
   {
    "duration": 33,
    "start_time": "2021-10-21T19:28:06.210Z"
   },
   {
    "duration": 32,
    "start_time": "2021-10-21T19:28:06.244Z"
   },
   {
    "duration": 17,
    "start_time": "2021-10-21T19:28:06.278Z"
   },
   {
    "duration": 4,
    "start_time": "2021-10-21T19:28:06.296Z"
   },
   {
    "duration": 33,
    "start_time": "2021-10-21T19:28:06.302Z"
   },
   {
    "duration": 17,
    "start_time": "2021-10-21T19:28:06.337Z"
   },
   {
    "duration": 58,
    "start_time": "2021-10-21T19:28:06.356Z"
   },
   {
    "duration": 11,
    "start_time": "2021-10-21T19:28:06.416Z"
   },
   {
    "duration": 26,
    "start_time": "2021-10-21T19:28:06.429Z"
   },
   {
    "duration": 375,
    "start_time": "2021-10-21T19:28:06.457Z"
   },
   {
    "duration": 488,
    "start_time": "2021-10-21T19:28:06.833Z"
   },
   {
    "duration": 460,
    "start_time": "2021-10-21T19:28:07.322Z"
   },
   {
    "duration": 417,
    "start_time": "2021-10-21T19:28:07.791Z"
   },
   {
    "duration": 422,
    "start_time": "2021-10-21T19:28:08.210Z"
   },
   {
    "duration": 435,
    "start_time": "2021-10-21T19:28:08.634Z"
   },
   {
    "duration": 397,
    "start_time": "2021-10-21T19:28:09.071Z"
   },
   {
    "duration": 5,
    "start_time": "2021-10-21T19:28:09.470Z"
   },
   {
    "duration": 1348,
    "start_time": "2021-10-21T19:28:09.476Z"
   },
   {
    "duration": 7,
    "start_time": "2021-10-21T19:28:39.533Z"
   },
   {
    "duration": 1312,
    "start_time": "2021-10-21T19:28:52.883Z"
   },
   {
    "duration": 6,
    "start_time": "2021-10-21T19:30:43.715Z"
   },
   {
    "duration": 1309,
    "start_time": "2021-10-21T19:30:44.635Z"
   },
   {
    "duration": 3,
    "start_time": "2021-10-21T19:31:52.364Z"
   },
   {
    "duration": 17,
    "start_time": "2021-10-21T19:36:54.591Z"
   },
   {
    "duration": 8,
    "start_time": "2021-10-21T19:36:55.856Z"
   },
   {
    "duration": 23,
    "start_time": "2021-10-21T19:39:26.659Z"
   },
   {
    "duration": 3,
    "start_time": "2021-10-21T19:39:29.466Z"
   },
   {
    "duration": 20,
    "start_time": "2021-10-21T19:40:21.932Z"
   },
   {
    "duration": 20,
    "start_time": "2021-10-21T20:44:13.112Z"
   },
   {
    "duration": 8,
    "start_time": "2021-10-21T20:44:18.383Z"
   },
   {
    "duration": 24,
    "start_time": "2021-10-21T20:50:27.710Z"
   },
   {
    "duration": 222,
    "start_time": "2021-10-21T20:51:56.274Z"
   },
   {
    "duration": 226,
    "start_time": "2021-10-21T20:52:47.346Z"
   },
   {
    "duration": 22,
    "start_time": "2021-10-21T20:54:23.003Z"
   },
   {
    "duration": 26,
    "start_time": "2021-10-21T20:54:24.337Z"
   },
   {
    "duration": 2,
    "start_time": "2021-10-21T20:54:28.683Z"
   },
   {
    "duration": 26,
    "start_time": "2021-10-21T20:54:29.352Z"
   },
   {
    "duration": 403,
    "start_time": "2021-10-21T20:54:32.446Z"
   },
   {
    "duration": 242,
    "start_time": "2021-10-21T20:55:17.208Z"
   },
   {
    "duration": 243,
    "start_time": "2021-10-21T20:55:38.083Z"
   },
   {
    "duration": 1546,
    "start_time": "2021-10-22T08:07:30.790Z"
   },
   {
    "duration": 14,
    "start_time": "2021-10-22T08:07:32.339Z"
   },
   {
    "duration": 35,
    "start_time": "2021-10-22T08:07:32.356Z"
   },
   {
    "duration": 14,
    "start_time": "2021-10-22T08:07:32.394Z"
   },
   {
    "duration": 9,
    "start_time": "2021-10-22T08:07:32.411Z"
   },
   {
    "duration": 71,
    "start_time": "2021-10-22T08:07:32.422Z"
   },
   {
    "duration": 53,
    "start_time": "2021-10-22T08:07:32.495Z"
   },
   {
    "duration": 21,
    "start_time": "2021-10-22T08:07:32.569Z"
   },
   {
    "duration": 7,
    "start_time": "2021-10-22T08:07:32.592Z"
   },
   {
    "duration": 83,
    "start_time": "2021-10-22T08:07:32.601Z"
   },
   {
    "duration": 22,
    "start_time": "2021-10-22T08:07:32.687Z"
   },
   {
    "duration": 59,
    "start_time": "2021-10-22T08:07:32.711Z"
   },
   {
    "duration": 21,
    "start_time": "2021-10-22T08:07:32.773Z"
   },
   {
    "duration": 27,
    "start_time": "2021-10-22T08:07:32.797Z"
   },
   {
    "duration": 663,
    "start_time": "2021-10-22T08:07:32.827Z"
   },
   {
    "duration": 8,
    "start_time": "2021-10-22T08:07:33.493Z"
   },
   {
    "duration": 2242,
    "start_time": "2021-10-22T08:07:33.504Z"
   },
   {
    "duration": 35,
    "start_time": "2021-10-22T08:07:35.748Z"
   },
   {
    "duration": 10,
    "start_time": "2021-10-22T08:07:35.786Z"
   },
   {
    "duration": 36,
    "start_time": "2021-10-22T08:07:35.798Z"
   },
   {
    "duration": 61,
    "start_time": "2021-10-22T08:07:35.836Z"
   },
   {
    "duration": 38,
    "start_time": "2021-10-22T08:07:35.899Z"
   },
   {
    "duration": 25,
    "start_time": "2021-10-22T08:07:35.942Z"
   },
   {
    "duration": 39,
    "start_time": "2021-10-22T08:07:35.971Z"
   },
   {
    "duration": 426,
    "start_time": "2021-10-22T08:07:36.012Z"
   },
   {
    "duration": 477,
    "start_time": "2021-10-22T08:07:36.441Z"
   },
   {
    "duration": 49,
    "start_time": "2021-10-22T08:07:36.920Z"
   },
   {
    "duration": 8,
    "start_time": "2021-10-22T08:07:36.971Z"
   },
   {
    "duration": 451,
    "start_time": "2021-10-22T08:07:36.981Z"
   },
   {
    "duration": 5,
    "start_time": "2021-10-22T08:07:37.434Z"
   },
   {
    "duration": 26,
    "start_time": "2021-10-22T08:07:37.442Z"
   },
   {
    "duration": 460,
    "start_time": "2021-10-22T08:07:37.471Z"
   },
   {
    "duration": 413,
    "start_time": "2021-10-22T08:07:37.934Z"
   },
   {
    "duration": 29,
    "start_time": "2021-10-22T08:07:38.350Z"
   },
   {
    "duration": 26,
    "start_time": "2021-10-22T08:07:38.381Z"
   },
   {
    "duration": 19,
    "start_time": "2021-10-22T08:07:38.410Z"
   },
   {
    "duration": 49,
    "start_time": "2021-10-22T08:07:38.431Z"
   },
   {
    "duration": 20,
    "start_time": "2021-10-22T08:07:38.482Z"
   },
   {
    "duration": 20,
    "start_time": "2021-10-22T08:07:38.505Z"
   },
   {
    "duration": 52,
    "start_time": "2021-10-22T08:07:38.528Z"
   },
   {
    "duration": 24,
    "start_time": "2021-10-22T08:07:38.582Z"
   },
   {
    "duration": 21,
    "start_time": "2021-10-22T08:07:38.608Z"
   },
   {
    "duration": 41,
    "start_time": "2021-10-22T08:07:38.631Z"
   },
   {
    "duration": 11,
    "start_time": "2021-10-22T08:07:38.674Z"
   },
   {
    "duration": 9,
    "start_time": "2021-10-22T08:07:38.687Z"
   },
   {
    "duration": 9,
    "start_time": "2021-10-22T08:07:38.698Z"
   },
   {
    "duration": 12,
    "start_time": "2021-10-22T08:07:38.709Z"
   },
   {
    "duration": 50,
    "start_time": "2021-10-22T08:07:38.723Z"
   },
   {
    "duration": 12,
    "start_time": "2021-10-22T08:07:38.776Z"
   },
   {
    "duration": 9,
    "start_time": "2021-10-22T08:07:38.791Z"
   },
   {
    "duration": 11,
    "start_time": "2021-10-22T08:10:03.926Z"
   },
   {
    "duration": 39,
    "start_time": "2021-10-22T08:10:04.883Z"
   },
   {
    "duration": 452,
    "start_time": "2021-10-22T08:19:08.243Z"
   },
   {
    "duration": 12,
    "start_time": "2021-10-22T08:22:09.360Z"
   },
   {
    "duration": 17,
    "start_time": "2021-10-22T08:25:45.791Z"
   },
   {
    "duration": 439,
    "start_time": "2021-10-22T08:28:31.901Z"
   },
   {
    "duration": 1192,
    "start_time": "2021-10-22T08:30:10.051Z"
   },
   {
    "duration": 1274,
    "start_time": "2021-10-22T08:30:36.682Z"
   },
   {
    "duration": 1219,
    "start_time": "2021-10-22T08:30:44.993Z"
   },
   {
    "duration": 645,
    "start_time": "2021-10-22T08:33:33.882Z"
   },
   {
    "duration": 477,
    "start_time": "2021-10-22T09:29:06.161Z"
   },
   {
    "duration": 9,
    "start_time": "2021-10-22T10:24:25.076Z"
   },
   {
    "duration": 7,
    "start_time": "2021-10-22T10:24:26.103Z"
   },
   {
    "duration": 9,
    "start_time": "2021-10-22T10:28:32.801Z"
   },
   {
    "duration": 8,
    "start_time": "2021-10-22T10:31:46.450Z"
   },
   {
    "duration": 9,
    "start_time": "2021-10-22T10:31:52.092Z"
   },
   {
    "duration": 8,
    "start_time": "2021-10-22T10:31:52.784Z"
   },
   {
    "duration": 9,
    "start_time": "2021-10-22T10:31:57.460Z"
   },
   {
    "duration": 10,
    "start_time": "2021-10-22T10:31:58.656Z"
   },
   {
    "duration": 564,
    "start_time": "2021-10-22T14:06:18.414Z"
   },
   {
    "duration": 2064,
    "start_time": "2021-10-22T14:07:12.456Z"
   },
   {
    "duration": 469,
    "start_time": "2021-10-22T14:08:19.517Z"
   },
   {
    "duration": 75,
    "start_time": "2021-10-22T14:10:04.743Z"
   },
   {
    "duration": 14,
    "start_time": "2021-10-22T14:10:04.821Z"
   },
   {
    "duration": 50,
    "start_time": "2021-10-22T14:10:04.838Z"
   },
   {
    "duration": 16,
    "start_time": "2021-10-22T14:10:04.892Z"
   },
   {
    "duration": 16,
    "start_time": "2021-10-22T14:10:04.911Z"
   },
   {
    "duration": 76,
    "start_time": "2021-10-22T14:10:04.929Z"
   },
   {
    "duration": 78,
    "start_time": "2021-10-22T14:10:05.007Z"
   },
   {
    "duration": 22,
    "start_time": "2021-10-22T14:10:05.087Z"
   },
   {
    "duration": 6,
    "start_time": "2021-10-22T14:10:05.113Z"
   },
   {
    "duration": 92,
    "start_time": "2021-10-22T14:10:05.122Z"
   },
   {
    "duration": 23,
    "start_time": "2021-10-22T14:10:05.216Z"
   },
   {
    "duration": 53,
    "start_time": "2021-10-22T14:10:05.242Z"
   },
   {
    "duration": 21,
    "start_time": "2021-10-22T14:10:05.298Z"
   },
   {
    "duration": 54,
    "start_time": "2021-10-22T14:10:05.322Z"
   },
   {
    "duration": 649,
    "start_time": "2021-10-22T14:10:05.379Z"
   },
   {
    "duration": 10,
    "start_time": "2021-10-22T14:10:06.031Z"
   },
   {
    "duration": 2294,
    "start_time": "2021-10-22T14:10:06.043Z"
   },
   {
    "duration": 40,
    "start_time": "2021-10-22T14:10:08.339Z"
   },
   {
    "duration": 10,
    "start_time": "2021-10-22T14:10:08.382Z"
   },
   {
    "duration": 35,
    "start_time": "2021-10-22T14:10:08.395Z"
   },
   {
    "duration": 67,
    "start_time": "2021-10-22T14:10:08.434Z"
   },
   {
    "duration": 14,
    "start_time": "2021-10-22T14:10:08.504Z"
   },
   {
    "duration": 82,
    "start_time": "2021-10-22T14:10:08.521Z"
   },
   {
    "duration": 494,
    "start_time": "2021-10-22T14:10:08.606Z"
   },
   {
    "duration": 37,
    "start_time": "2021-10-22T14:10:09.107Z"
   },
   {
    "duration": 25,
    "start_time": "2021-10-22T14:10:09.148Z"
   },
   {
    "duration": 472,
    "start_time": "2021-10-22T14:10:09.176Z"
   },
   {
    "duration": 16,
    "start_time": "2021-10-22T14:10:09.651Z"
   },
   {
    "duration": 12,
    "start_time": "2021-10-22T14:10:09.671Z"
   },
   {
    "duration": 633,
    "start_time": "2021-10-22T14:10:09.686Z"
   },
   {
    "duration": 437,
    "start_time": "2021-10-22T14:10:10.322Z"
   },
   {
    "duration": 23,
    "start_time": "2021-10-22T14:10:10.767Z"
   },
   {
    "duration": 22,
    "start_time": "2021-10-22T14:10:10.793Z"
   },
   {
    "duration": 59,
    "start_time": "2021-10-22T14:10:10.817Z"
   },
   {
    "duration": 24,
    "start_time": "2021-10-22T14:10:10.878Z"
   },
   {
    "duration": 21,
    "start_time": "2021-10-22T14:10:10.904Z"
   },
   {
    "duration": 52,
    "start_time": "2021-10-22T14:10:10.927Z"
   },
   {
    "duration": 20,
    "start_time": "2021-10-22T14:10:10.982Z"
   },
   {
    "duration": 23,
    "start_time": "2021-10-22T14:10:11.005Z"
   },
   {
    "duration": 51,
    "start_time": "2021-10-22T14:10:11.030Z"
   },
   {
    "duration": 8,
    "start_time": "2021-10-22T14:10:11.084Z"
   },
   {
    "duration": 8,
    "start_time": "2021-10-22T14:10:11.095Z"
   },
   {
    "duration": 11,
    "start_time": "2021-10-22T14:10:11.106Z"
   },
   {
    "duration": 57,
    "start_time": "2021-10-22T14:10:11.120Z"
   },
   {
    "duration": 13,
    "start_time": "2021-10-22T14:10:11.180Z"
   },
   {
    "duration": 10,
    "start_time": "2021-10-22T14:10:11.196Z"
   },
   {
    "duration": 8,
    "start_time": "2021-10-22T14:10:11.209Z"
   },
   {
    "duration": 9,
    "start_time": "2021-10-22T14:10:11.219Z"
   },
   {
    "duration": 1702,
    "start_time": "2021-10-22T21:27:35.269Z"
   },
   {
    "duration": 14,
    "start_time": "2021-10-22T21:27:36.974Z"
   },
   {
    "duration": 36,
    "start_time": "2021-10-22T21:27:36.991Z"
   },
   {
    "duration": 15,
    "start_time": "2021-10-22T21:27:37.030Z"
   },
   {
    "duration": 10,
    "start_time": "2021-10-22T21:27:37.048Z"
   },
   {
    "duration": 73,
    "start_time": "2021-10-22T21:27:37.060Z"
   },
   {
    "duration": 74,
    "start_time": "2021-10-22T21:27:37.135Z"
   },
   {
    "duration": 22,
    "start_time": "2021-10-22T21:27:37.212Z"
   },
   {
    "duration": 6,
    "start_time": "2021-10-22T21:27:37.237Z"
   },
   {
    "duration": 91,
    "start_time": "2021-10-22T21:27:37.245Z"
   },
   {
    "duration": 22,
    "start_time": "2021-10-22T21:27:37.339Z"
   },
   {
    "duration": 51,
    "start_time": "2021-10-22T21:27:37.363Z"
   },
   {
    "duration": 20,
    "start_time": "2021-10-22T21:27:37.416Z"
   },
   {
    "duration": 26,
    "start_time": "2021-10-22T21:27:37.439Z"
   },
   {
    "duration": 654,
    "start_time": "2021-10-22T21:27:37.467Z"
   },
   {
    "duration": 8,
    "start_time": "2021-10-22T21:27:38.124Z"
   },
   {
    "duration": 2256,
    "start_time": "2021-10-22T21:27:38.134Z"
   },
   {
    "duration": 27,
    "start_time": "2021-10-22T21:27:40.401Z"
   },
   {
    "duration": 11,
    "start_time": "2021-10-22T21:27:40.430Z"
   },
   {
    "duration": 60,
    "start_time": "2021-10-22T21:27:40.443Z"
   },
   {
    "duration": 34,
    "start_time": "2021-10-22T21:27:40.506Z"
   },
   {
    "duration": 13,
    "start_time": "2021-10-22T21:27:40.543Z"
   },
   {
    "duration": 74,
    "start_time": "2021-10-22T21:27:40.561Z"
   },
   {
    "duration": 483,
    "start_time": "2021-10-22T21:27:40.638Z"
   },
   {
    "duration": 36,
    "start_time": "2021-10-22T21:27:41.125Z"
   },
   {
    "duration": 9,
    "start_time": "2021-10-22T21:27:41.163Z"
   },
   {
    "duration": 699,
    "start_time": "2021-10-22T21:27:41.201Z"
   },
   {
    "duration": 7,
    "start_time": "2021-10-22T21:27:41.903Z"
   },
   {
    "duration": 13,
    "start_time": "2021-10-22T21:27:41.912Z"
   },
   {
    "duration": 482,
    "start_time": "2021-10-22T21:27:41.928Z"
   },
   {
    "duration": 444,
    "start_time": "2021-10-22T21:27:42.413Z"
   },
   {
    "duration": 20,
    "start_time": "2021-10-22T21:27:42.860Z"
   },
   {
    "duration": 21,
    "start_time": "2021-10-22T21:27:42.900Z"
   },
   {
    "duration": 41,
    "start_time": "2021-10-22T21:27:42.924Z"
   },
   {
    "duration": 38,
    "start_time": "2021-10-22T21:27:42.968Z"
   },
   {
    "duration": 25,
    "start_time": "2021-10-22T21:27:43.009Z"
   },
   {
    "duration": 23,
    "start_time": "2021-10-22T21:27:43.037Z"
   },
   {
    "duration": 53,
    "start_time": "2021-10-22T21:27:43.063Z"
   },
   {
    "duration": 22,
    "start_time": "2021-10-22T21:27:43.118Z"
   },
   {
    "duration": 31,
    "start_time": "2021-10-22T21:27:43.142Z"
   },
   {
    "duration": 29,
    "start_time": "2021-10-22T21:27:43.175Z"
   },
   {
    "duration": 12,
    "start_time": "2021-10-22T21:27:43.206Z"
   },
   {
    "duration": 29,
    "start_time": "2021-10-22T21:27:43.220Z"
   },
   {
    "duration": 14,
    "start_time": "2021-10-22T21:27:43.251Z"
   },
   {
    "duration": 38,
    "start_time": "2021-10-22T21:27:43.267Z"
   },
   {
    "duration": 10,
    "start_time": "2021-10-22T21:27:43.309Z"
   },
   {
    "duration": 10,
    "start_time": "2021-10-22T21:27:43.322Z"
   },
   {
    "duration": 13,
    "start_time": "2021-10-22T21:27:43.335Z"
   },
   {
    "duration": 36,
    "start_time": "2021-10-22T21:38:08.351Z"
   },
   {
    "duration": 77,
    "start_time": "2021-10-22T21:43:28.000Z"
   },
   {
    "duration": 15,
    "start_time": "2021-10-22T21:43:28.080Z"
   },
   {
    "duration": 30,
    "start_time": "2021-10-22T21:43:28.102Z"
   },
   {
    "duration": 15,
    "start_time": "2021-10-22T21:43:28.135Z"
   },
   {
    "duration": 10,
    "start_time": "2021-10-22T21:43:28.152Z"
   },
   {
    "duration": 34,
    "start_time": "2021-10-22T21:43:28.200Z"
   },
   {
    "duration": 85,
    "start_time": "2021-10-22T21:43:28.236Z"
   },
   {
    "duration": 19,
    "start_time": "2021-10-22T21:43:28.323Z"
   },
   {
    "duration": 7,
    "start_time": "2021-10-22T21:43:36.006Z"
   },
   {
    "duration": 309,
    "start_time": "2021-10-23T08:30:41.262Z"
   },
   {
    "duration": 1243,
    "start_time": "2021-10-23T08:30:53.119Z"
   },
   {
    "duration": 9,
    "start_time": "2021-10-23T08:30:54.364Z"
   },
   {
    "duration": 31,
    "start_time": "2021-10-23T08:30:54.375Z"
   },
   {
    "duration": 21,
    "start_time": "2021-10-23T08:30:54.408Z"
   },
   {
    "duration": 28,
    "start_time": "2021-10-23T08:30:54.431Z"
   },
   {
    "duration": 22,
    "start_time": "2021-10-23T08:30:54.461Z"
   },
   {
    "duration": 34,
    "start_time": "2021-10-23T08:30:54.484Z"
   },
   {
    "duration": 32,
    "start_time": "2021-10-23T08:30:54.520Z"
   },
   {
    "duration": 4,
    "start_time": "2021-10-23T08:30:54.554Z"
   },
   {
    "duration": 40,
    "start_time": "2021-10-23T08:30:54.560Z"
   },
   {
    "duration": 14,
    "start_time": "2021-10-23T08:30:54.602Z"
   },
   {
    "duration": 47,
    "start_time": "2021-10-23T08:30:54.617Z"
   },
   {
    "duration": 12,
    "start_time": "2021-10-23T08:30:54.665Z"
   },
   {
    "duration": 15,
    "start_time": "2021-10-23T08:30:54.679Z"
   },
   {
    "duration": 382,
    "start_time": "2021-10-23T08:30:54.696Z"
   },
   {
    "duration": 6,
    "start_time": "2021-10-23T08:30:55.080Z"
   },
   {
    "duration": 1322,
    "start_time": "2021-10-23T08:30:55.087Z"
   },
   {
    "duration": 16,
    "start_time": "2021-10-23T08:30:56.411Z"
   },
   {
    "duration": 18,
    "start_time": "2021-10-23T08:30:56.429Z"
   },
   {
    "duration": 19,
    "start_time": "2021-10-23T08:30:56.449Z"
   },
   {
    "duration": 103,
    "start_time": "2021-10-23T08:30:56.470Z"
   },
   {
    "duration": 35,
    "start_time": "2021-10-23T08:30:56.576Z"
   },
   {
    "duration": 33,
    "start_time": "2021-10-23T08:30:56.617Z"
   },
   {
    "duration": 39,
    "start_time": "2021-10-23T08:30:56.654Z"
   },
   {
    "duration": 476,
    "start_time": "2021-10-23T08:30:56.695Z"
   },
   {
    "duration": 35,
    "start_time": "2021-10-23T08:30:57.173Z"
   },
   {
    "duration": 5,
    "start_time": "2021-10-23T08:30:57.210Z"
   },
   {
    "duration": 377,
    "start_time": "2021-10-23T08:30:57.217Z"
   },
   {
    "duration": 4,
    "start_time": "2021-10-23T08:30:57.596Z"
   },
   {
    "duration": 8,
    "start_time": "2021-10-23T08:30:57.602Z"
   },
   {
    "duration": 379,
    "start_time": "2021-10-23T08:30:57.611Z"
   },
   {
    "duration": 244,
    "start_time": "2021-10-23T08:30:57.992Z"
   },
   {
    "duration": 19,
    "start_time": "2021-10-23T08:30:58.238Z"
   },
   {
    "duration": 15,
    "start_time": "2021-10-23T08:30:58.259Z"
   },
   {
    "duration": 14,
    "start_time": "2021-10-23T08:30:58.276Z"
   },
   {
    "duration": 13,
    "start_time": "2021-10-23T08:30:58.293Z"
   },
   {
    "duration": 13,
    "start_time": "2021-10-23T08:30:58.345Z"
   },
   {
    "duration": 14,
    "start_time": "2021-10-23T08:30:58.360Z"
   },
   {
    "duration": 14,
    "start_time": "2021-10-23T08:30:58.376Z"
   },
   {
    "duration": 22,
    "start_time": "2021-10-23T08:30:58.392Z"
   },
   {
    "duration": 42,
    "start_time": "2021-10-23T08:30:58.416Z"
   },
   {
    "duration": 21,
    "start_time": "2021-10-23T08:30:58.459Z"
   },
   {
    "duration": 20,
    "start_time": "2021-10-23T08:30:58.482Z"
   },
   {
    "duration": 6,
    "start_time": "2021-10-23T08:30:58.504Z"
   },
   {
    "duration": 13,
    "start_time": "2021-10-23T08:30:58.511Z"
   },
   {
    "duration": 29,
    "start_time": "2021-10-23T08:30:58.526Z"
   },
   {
    "duration": 12,
    "start_time": "2021-10-23T08:30:58.557Z"
   },
   {
    "duration": 13,
    "start_time": "2021-10-23T08:30:58.570Z"
   },
   {
    "duration": 17,
    "start_time": "2021-10-23T08:30:58.584Z"
   },
   {
    "duration": 16,
    "start_time": "2021-10-23T08:32:58.631Z"
   },
   {
    "duration": 55,
    "start_time": "2021-10-23T08:36:10.015Z"
   },
   {
    "duration": 9,
    "start_time": "2021-10-23T08:36:11.062Z"
   },
   {
    "duration": 17,
    "start_time": "2021-10-23T08:36:11.811Z"
   },
   {
    "duration": 10,
    "start_time": "2021-10-23T08:36:12.316Z"
   },
   {
    "duration": 7,
    "start_time": "2021-10-23T08:36:12.560Z"
   },
   {
    "duration": 20,
    "start_time": "2021-10-23T08:36:12.751Z"
   },
   {
    "duration": 34,
    "start_time": "2021-10-23T08:36:13.024Z"
   },
   {
    "duration": 14,
    "start_time": "2021-10-23T08:36:13.643Z"
   },
   {
    "duration": 5,
    "start_time": "2021-10-23T08:36:14.304Z"
   },
   {
    "duration": 38,
    "start_time": "2021-10-23T08:36:14.672Z"
   },
   {
    "duration": 16,
    "start_time": "2021-10-23T08:36:15.168Z"
   },
   {
    "duration": 19,
    "start_time": "2021-10-23T08:36:21.226Z"
   },
   {
    "duration": 14,
    "start_time": "2021-10-23T08:36:22.464Z"
   },
   {
    "duration": 16,
    "start_time": "2021-10-23T08:36:22.779Z"
   },
   {
    "duration": 365,
    "start_time": "2021-10-23T08:36:22.975Z"
   },
   {
    "duration": 5,
    "start_time": "2021-10-23T08:36:23.345Z"
   },
   {
    "duration": 1319,
    "start_time": "2021-10-23T08:36:23.453Z"
   },
   {
    "duration": 18,
    "start_time": "2021-10-23T08:36:24.774Z"
   },
   {
    "duration": 7,
    "start_time": "2021-10-23T08:36:24.795Z"
   },
   {
    "duration": 21,
    "start_time": "2021-10-23T08:36:25.049Z"
   },
   {
    "duration": 24,
    "start_time": "2021-10-23T08:36:25.716Z"
   },
   {
    "duration": 20,
    "start_time": "2021-10-23T08:36:26.008Z"
   },
   {
    "duration": 8,
    "start_time": "2021-10-23T08:36:26.184Z"
   },
   {
    "duration": 25,
    "start_time": "2021-10-23T08:36:26.359Z"
   },
   {
    "duration": 481,
    "start_time": "2021-10-23T08:36:26.507Z"
   },
   {
    "duration": 20,
    "start_time": "2021-10-23T08:36:27.181Z"
   },
   {
    "duration": 5,
    "start_time": "2021-10-23T08:36:27.582Z"
   },
   {
    "duration": 406,
    "start_time": "2021-10-23T08:36:27.920Z"
   },
   {
    "duration": 6,
    "start_time": "2021-10-23T08:36:28.327Z"
   },
   {
    "duration": 5,
    "start_time": "2021-10-23T08:36:28.431Z"
   },
   {
    "duration": 484,
    "start_time": "2021-10-23T08:36:28.931Z"
   },
   {
    "duration": 422,
    "start_time": "2021-10-23T08:36:29.430Z"
   },
   {
    "duration": 22,
    "start_time": "2021-10-23T08:36:30.276Z"
   },
   {
    "duration": 22,
    "start_time": "2021-10-23T08:36:30.439Z"
   },
   {
    "duration": 20,
    "start_time": "2021-10-23T08:36:30.659Z"
   },
   {
    "duration": 22,
    "start_time": "2021-10-23T08:36:31.100Z"
   },
   {
    "duration": 14,
    "start_time": "2021-10-23T08:36:31.272Z"
   },
   {
    "duration": 14,
    "start_time": "2021-10-23T08:36:31.454Z"
   },
   {
    "duration": 14,
    "start_time": "2021-10-23T08:36:31.937Z"
   },
   {
    "duration": 14,
    "start_time": "2021-10-23T08:36:32.286Z"
   },
   {
    "duration": 15,
    "start_time": "2021-10-23T08:36:32.455Z"
   },
   {
    "duration": 7,
    "start_time": "2021-10-23T08:36:33.298Z"
   },
   {
    "duration": 6,
    "start_time": "2021-10-23T08:36:33.467Z"
   },
   {
    "duration": 5,
    "start_time": "2021-10-23T08:36:33.625Z"
   },
   {
    "duration": 7,
    "start_time": "2021-10-23T08:36:33.805Z"
   },
   {
    "duration": 7,
    "start_time": "2021-10-23T08:36:34.494Z"
   },
   {
    "duration": 5,
    "start_time": "2021-10-23T08:36:34.669Z"
   },
   {
    "duration": 5,
    "start_time": "2021-10-23T08:36:34.855Z"
   },
   {
    "duration": 7,
    "start_time": "2021-10-23T08:36:35.052Z"
   },
   {
    "duration": 339,
    "start_time": "2021-10-23T08:38:15.615Z"
   },
   {
    "duration": 280,
    "start_time": "2021-10-23T08:38:34.856Z"
   },
   {
    "duration": 299,
    "start_time": "2021-10-23T08:38:45.264Z"
   },
   {
    "duration": 296,
    "start_time": "2021-10-23T08:38:54.294Z"
   },
   {
    "duration": 81,
    "start_time": "2021-10-23T08:39:38.676Z"
   },
   {
    "duration": 15,
    "start_time": "2021-10-23T08:39:38.760Z"
   },
   {
    "duration": 17,
    "start_time": "2021-10-23T08:39:38.778Z"
   },
   {
    "duration": 16,
    "start_time": "2021-10-23T08:39:38.797Z"
   },
   {
    "duration": 35,
    "start_time": "2021-10-23T08:39:38.815Z"
   },
   {
    "duration": 34,
    "start_time": "2021-10-23T08:39:38.852Z"
   },
   {
    "duration": 75,
    "start_time": "2021-10-23T08:39:38.888Z"
   },
   {
    "duration": 21,
    "start_time": "2021-10-23T08:39:38.966Z"
   },
   {
    "duration": 6,
    "start_time": "2021-10-23T08:39:38.990Z"
   },
   {
    "duration": 68,
    "start_time": "2021-10-23T08:39:38.998Z"
   },
   {
    "duration": 17,
    "start_time": "2021-10-23T08:39:39.068Z"
   },
   {
    "duration": 21,
    "start_time": "2021-10-23T08:39:39.086Z"
   },
   {
    "duration": 14,
    "start_time": "2021-10-23T08:39:39.108Z"
   },
   {
    "duration": 15,
    "start_time": "2021-10-23T08:39:39.145Z"
   },
   {
    "duration": 374,
    "start_time": "2021-10-23T08:39:39.162Z"
   },
   {
    "duration": 10,
    "start_time": "2021-10-23T08:39:39.538Z"
   },
   {
    "duration": 1349,
    "start_time": "2021-10-23T08:39:39.550Z"
   },
   {
    "duration": 1425,
    "start_time": "2021-10-23T08:41:34.567Z"
   },
   {
    "duration": 6,
    "start_time": "2021-10-23T08:42:02.784Z"
   },
   {
    "duration": 1335,
    "start_time": "2021-10-23T08:42:03.379Z"
   },
   {
    "duration": 59,
    "start_time": "2021-10-23T08:42:25.575Z"
   },
   {
    "duration": 10,
    "start_time": "2021-10-23T08:42:25.636Z"
   },
   {
    "duration": 27,
    "start_time": "2021-10-23T08:42:25.648Z"
   },
   {
    "duration": 25,
    "start_time": "2021-10-23T08:42:25.677Z"
   },
   {
    "duration": 13,
    "start_time": "2021-10-23T08:42:25.704Z"
   },
   {
    "duration": 26,
    "start_time": "2021-10-23T08:42:25.718Z"
   },
   {
    "duration": 36,
    "start_time": "2021-10-23T08:42:25.746Z"
   },
   {
    "duration": 14,
    "start_time": "2021-10-23T08:42:25.785Z"
   },
   {
    "duration": 22,
    "start_time": "2021-10-23T08:42:25.801Z"
   },
   {
    "duration": 52,
    "start_time": "2021-10-23T08:42:25.825Z"
   },
   {
    "duration": 16,
    "start_time": "2021-10-23T08:42:25.878Z"
   },
   {
    "duration": 19,
    "start_time": "2021-10-23T08:42:25.896Z"
   },
   {
    "duration": 33,
    "start_time": "2021-10-23T08:42:25.917Z"
   },
   {
    "duration": 30,
    "start_time": "2021-10-23T08:42:25.952Z"
   },
   {
    "duration": 382,
    "start_time": "2021-10-23T08:42:25.984Z"
   },
   {
    "duration": 6,
    "start_time": "2021-10-23T08:42:26.367Z"
   },
   {
    "duration": 1603,
    "start_time": "2021-10-23T08:42:26.374Z"
   },
   {
    "duration": 1513,
    "start_time": "2021-10-23T08:42:52.194Z"
   },
   {
    "duration": 1391,
    "start_time": "2021-10-23T08:43:58.955Z"
   },
   {
    "duration": 2568,
    "start_time": "2021-10-23T08:44:07.247Z"
   },
   {
    "duration": 487,
    "start_time": "2021-10-23T08:44:46.441Z"
   },
   {
    "duration": 1425,
    "start_time": "2021-10-23T08:44:52.068Z"
   },
   {
    "duration": 1227,
    "start_time": "2021-10-23T08:47:49.989Z"
   },
   {
    "duration": 1394,
    "start_time": "2021-10-23T08:48:24.655Z"
   },
   {
    "duration": 26,
    "start_time": "2021-10-23T08:49:05.862Z"
   },
   {
    "duration": 11,
    "start_time": "2021-10-23T08:49:06.033Z"
   },
   {
    "duration": 34,
    "start_time": "2021-10-23T08:49:06.781Z"
   },
   {
    "duration": 23,
    "start_time": "2021-10-23T08:49:07.516Z"
   },
   {
    "duration": 20,
    "start_time": "2021-10-23T08:49:07.825Z"
   },
   {
    "duration": 8,
    "start_time": "2021-10-23T08:49:08.005Z"
   },
   {
    "duration": 24,
    "start_time": "2021-10-23T08:49:08.177Z"
   },
   {
    "duration": 261,
    "start_time": "2021-10-23T08:49:08.301Z"
   },
   {
    "duration": 20,
    "start_time": "2021-10-23T08:49:08.927Z"
   },
   {
    "duration": 5,
    "start_time": "2021-10-23T08:49:09.263Z"
   },
   {
    "duration": 284,
    "start_time": "2021-10-23T08:49:09.581Z"
   },
   {
    "duration": 4,
    "start_time": "2021-10-23T08:49:09.952Z"
   },
   {
    "duration": 5,
    "start_time": "2021-10-23T08:49:10.097Z"
   },
   {
    "duration": 283,
    "start_time": "2021-10-23T08:49:10.588Z"
   },
   {
    "duration": 226,
    "start_time": "2021-10-23T08:49:11.091Z"
   },
   {
    "duration": 13,
    "start_time": "2021-10-23T08:49:11.918Z"
   },
   {
    "duration": 14,
    "start_time": "2021-10-23T08:49:12.094Z"
   },
   {
    "duration": 13,
    "start_time": "2021-10-23T08:49:12.268Z"
   },
   {
    "duration": 13,
    "start_time": "2021-10-23T08:49:12.703Z"
   },
   {
    "duration": 14,
    "start_time": "2021-10-23T08:49:12.873Z"
   },
   {
    "duration": 14,
    "start_time": "2021-10-23T08:49:13.039Z"
   },
   {
    "duration": 14,
    "start_time": "2021-10-23T08:49:13.516Z"
   },
   {
    "duration": 15,
    "start_time": "2021-10-23T08:49:13.896Z"
   },
   {
    "duration": 15,
    "start_time": "2021-10-23T08:49:15.401Z"
   },
   {
    "duration": 6,
    "start_time": "2021-10-23T08:49:15.418Z"
   },
   {
    "duration": 14,
    "start_time": "2021-10-23T08:49:15.426Z"
   },
   {
    "duration": 24,
    "start_time": "2021-10-23T08:49:15.442Z"
   },
   {
    "duration": 18,
    "start_time": "2021-10-23T08:49:15.468Z"
   },
   {
    "duration": 7,
    "start_time": "2021-10-23T08:49:16.006Z"
   },
   {
    "duration": 6,
    "start_time": "2021-10-23T08:49:16.181Z"
   },
   {
    "duration": 6,
    "start_time": "2021-10-23T08:49:17.410Z"
   },
   {
    "duration": 6,
    "start_time": "2021-10-23T08:49:17.869Z"
   },
   {
    "duration": 11,
    "start_time": "2021-10-23T08:54:53.121Z"
   },
   {
    "duration": 285,
    "start_time": "2021-10-23T08:55:08.339Z"
   },
   {
    "duration": 4524,
    "start_time": "2021-10-23T08:55:40.839Z"
   },
   {
    "duration": 3,
    "start_time": "2021-10-23T08:57:02.768Z"
   },
   {
    "duration": 11,
    "start_time": "2021-10-23T08:57:03.643Z"
   },
   {
    "duration": 4113,
    "start_time": "2021-10-23T08:57:04.227Z"
   },
   {
    "duration": 804,
    "start_time": "2021-10-23T09:24:48.558Z"
   },
   {
    "duration": 653,
    "start_time": "2021-10-23T09:27:11.449Z"
   },
   {
    "duration": 593,
    "start_time": "2021-10-23T09:28:06.090Z"
   },
   {
    "duration": 734,
    "start_time": "2021-10-23T09:28:19.323Z"
   },
   {
    "duration": 629,
    "start_time": "2021-10-23T09:31:11.101Z"
   },
   {
    "duration": 646,
    "start_time": "2021-10-23T09:32:10.336Z"
   },
   {
    "duration": 1550,
    "start_time": "2021-10-25T20:30:21.837Z"
   },
   {
    "duration": 14,
    "start_time": "2021-10-25T20:30:23.390Z"
   },
   {
    "duration": 43,
    "start_time": "2021-10-25T20:30:23.408Z"
   },
   {
    "duration": 14,
    "start_time": "2021-10-25T20:30:23.463Z"
   },
   {
    "duration": 11,
    "start_time": "2021-10-25T20:30:23.479Z"
   },
   {
    "duration": 76,
    "start_time": "2021-10-25T20:30:23.493Z"
   },
   {
    "duration": 78,
    "start_time": "2021-10-25T20:30:23.571Z"
   },
   {
    "duration": 19,
    "start_time": "2021-10-25T20:30:23.653Z"
   },
   {
    "duration": 5,
    "start_time": "2021-10-25T20:30:23.675Z"
   },
   {
    "duration": 87,
    "start_time": "2021-10-25T20:30:23.683Z"
   },
   {
    "duration": 25,
    "start_time": "2021-10-25T20:30:23.773Z"
   },
   {
    "duration": 48,
    "start_time": "2021-10-25T20:30:23.800Z"
   },
   {
    "duration": 20,
    "start_time": "2021-10-25T20:30:23.850Z"
   },
   {
    "duration": 23,
    "start_time": "2021-10-25T20:30:23.873Z"
   },
   {
    "duration": 651,
    "start_time": "2021-10-25T20:30:23.898Z"
   },
   {
    "duration": 7,
    "start_time": "2021-10-25T20:30:24.552Z"
   },
   {
    "duration": 2183,
    "start_time": "2021-10-25T20:30:24.562Z"
   },
   {
    "duration": 27,
    "start_time": "2021-10-25T20:30:26.749Z"
   },
   {
    "duration": 10,
    "start_time": "2021-10-25T20:30:26.779Z"
   },
   {
    "duration": 63,
    "start_time": "2021-10-25T20:30:26.792Z"
   },
   {
    "duration": 126,
    "start_time": "2021-10-25T20:30:26.858Z"
   },
   {
    "duration": 47,
    "start_time": "2021-10-25T20:30:26.987Z"
   },
   {
    "duration": 10,
    "start_time": "2021-10-25T20:30:27.040Z"
   },
   {
    "duration": 59,
    "start_time": "2021-10-25T20:30:27.053Z"
   },
   {
    "duration": 449,
    "start_time": "2021-10-25T20:30:27.114Z"
   },
   {
    "duration": 32,
    "start_time": "2021-10-25T20:30:27.565Z"
   },
   {
    "duration": 33,
    "start_time": "2021-10-25T20:30:27.599Z"
   },
   {
    "duration": 452,
    "start_time": "2021-10-25T20:30:27.634Z"
   },
   {
    "duration": 5,
    "start_time": "2021-10-25T20:30:28.089Z"
   },
   {
    "duration": 17,
    "start_time": "2021-10-25T20:30:28.097Z"
   },
   {
    "duration": 459,
    "start_time": "2021-10-25T20:30:28.129Z"
   },
   {
    "duration": 905,
    "start_time": "2021-10-25T20:30:28.590Z"
   },
   {
    "duration": 918,
    "start_time": "2021-10-25T20:30:29.498Z"
   },
   {
    "duration": 905,
    "start_time": "2021-10-25T20:30:30.418Z"
   },
   {
    "duration": 421,
    "start_time": "2021-10-25T20:30:31.329Z"
   },
   {
    "duration": 22,
    "start_time": "2021-10-25T20:30:31.753Z"
   },
   {
    "duration": 32,
    "start_time": "2021-10-25T20:30:31.777Z"
   },
   {
    "duration": 38,
    "start_time": "2021-10-25T20:30:31.811Z"
   },
   {
    "duration": 21,
    "start_time": "2021-10-25T20:30:31.851Z"
   },
   {
    "duration": 29,
    "start_time": "2021-10-25T20:30:31.874Z"
   },
   {
    "duration": 20,
    "start_time": "2021-10-25T20:30:31.930Z"
   },
   {
    "duration": 20,
    "start_time": "2021-10-25T20:30:31.953Z"
   },
   {
    "duration": 19,
    "start_time": "2021-10-25T20:30:31.976Z"
   },
   {
    "duration": 52,
    "start_time": "2021-10-25T20:30:31.997Z"
   },
   {
    "duration": 17,
    "start_time": "2021-10-25T20:30:32.053Z"
   },
   {
    "duration": 14,
    "start_time": "2021-10-25T20:30:32.073Z"
   },
   {
    "duration": 44,
    "start_time": "2021-10-25T20:30:32.090Z"
   },
   {
    "duration": 10,
    "start_time": "2021-10-25T20:30:32.137Z"
   },
   {
    "duration": 24,
    "start_time": "2021-10-25T20:30:32.149Z"
   },
   {
    "duration": 9,
    "start_time": "2021-10-25T20:30:32.176Z"
   },
   {
    "duration": 42,
    "start_time": "2021-10-25T20:30:32.187Z"
   },
   {
    "duration": 10,
    "start_time": "2021-10-25T20:30:32.232Z"
   },
   {
    "duration": 950,
    "start_time": "2021-10-25T20:32:30.352Z"
   },
   {
    "duration": 70,
    "start_time": "2021-10-25T20:33:08.231Z"
   },
   {
    "duration": 838,
    "start_time": "2021-10-25T20:33:45.338Z"
   },
   {
    "duration": 923,
    "start_time": "2021-10-25T20:34:35.858Z"
   },
   {
    "duration": 409,
    "start_time": "2021-10-25T20:49:21.235Z"
   },
   {
    "duration": 413,
    "start_time": "2021-10-25T21:23:11.901Z"
   },
   {
    "duration": 415,
    "start_time": "2021-10-25T21:23:28.630Z"
   },
   {
    "duration": 408,
    "start_time": "2021-10-25T21:28:52.254Z"
   },
   {
    "duration": 408,
    "start_time": "2021-10-25T21:29:23.000Z"
   },
   {
    "duration": 404,
    "start_time": "2021-10-25T21:29:30.450Z"
   },
   {
    "duration": 72,
    "start_time": "2021-10-25T21:46:50.257Z"
   },
   {
    "duration": 13,
    "start_time": "2021-10-25T21:46:50.331Z"
   },
   {
    "duration": 27,
    "start_time": "2021-10-25T21:46:50.346Z"
   },
   {
    "duration": 19,
    "start_time": "2021-10-25T21:46:50.375Z"
   },
   {
    "duration": 12,
    "start_time": "2021-10-25T21:46:50.430Z"
   },
   {
    "duration": 152,
    "start_time": "2021-10-25T21:46:50.445Z"
   },
   {
    "duration": 69,
    "start_time": "2021-10-25T21:46:50.600Z"
   },
   {
    "duration": 22,
    "start_time": "2021-10-25T21:46:50.675Z"
   },
   {
    "duration": 3,
    "start_time": "2021-10-25T21:46:50.730Z"
   },
   {
    "duration": 58,
    "start_time": "2021-10-25T21:46:50.737Z"
   },
   {
    "duration": 54,
    "start_time": "2021-10-25T21:46:50.798Z"
   },
   {
    "duration": 29,
    "start_time": "2021-10-25T21:46:50.855Z"
   },
   {
    "duration": 51,
    "start_time": "2021-10-25T21:46:50.887Z"
   },
   {
    "duration": 27,
    "start_time": "2021-10-25T21:46:50.941Z"
   },
   {
    "duration": 672,
    "start_time": "2021-10-25T21:46:50.971Z"
   },
   {
    "duration": 8,
    "start_time": "2021-10-25T21:46:51.645Z"
   },
   {
    "duration": 2304,
    "start_time": "2021-10-25T21:46:51.656Z"
   },
   {
    "duration": 29,
    "start_time": "2021-10-25T21:46:53.962Z"
   },
   {
    "duration": 9,
    "start_time": "2021-10-25T21:46:53.994Z"
   },
   {
    "duration": 55,
    "start_time": "2021-10-25T21:46:54.005Z"
   },
   {
    "duration": 36,
    "start_time": "2021-10-25T21:46:54.063Z"
   },
   {
    "duration": 59,
    "start_time": "2021-10-25T21:46:54.102Z"
   },
   {
    "duration": 11,
    "start_time": "2021-10-25T21:46:54.167Z"
   },
   {
    "duration": 75,
    "start_time": "2021-10-25T21:46:54.182Z"
   },
   {
    "duration": 463,
    "start_time": "2021-10-25T21:46:54.259Z"
   },
   {
    "duration": 34,
    "start_time": "2021-10-25T21:46:54.728Z"
   },
   {
    "duration": 7,
    "start_time": "2021-10-25T21:46:54.764Z"
   },
   {
    "duration": 445,
    "start_time": "2021-10-25T21:46:54.773Z"
   },
   {
    "duration": 8,
    "start_time": "2021-10-25T21:46:55.221Z"
   },
   {
    "duration": 13,
    "start_time": "2021-10-25T21:46:55.231Z"
   },
   {
    "duration": 454,
    "start_time": "2021-10-25T21:46:55.246Z"
   },
   {
    "duration": 892,
    "start_time": "2021-10-25T21:46:55.702Z"
   },
   {
    "duration": 1005,
    "start_time": "2021-10-25T21:46:56.597Z"
   },
   {
    "duration": 996,
    "start_time": "2021-10-25T21:46:57.605Z"
   },
   {
    "duration": 941,
    "start_time": "2021-10-25T21:46:58.604Z"
   },
   {
    "duration": 959,
    "start_time": "2021-10-25T21:46:59.547Z"
   },
   {
    "duration": 420,
    "start_time": "2021-10-25T21:47:00.509Z"
   },
   {
    "duration": 426,
    "start_time": "2021-10-25T21:47:00.932Z"
   },
   {
    "duration": 21,
    "start_time": "2021-10-25T21:47:01.360Z"
   },
   {
    "duration": 30,
    "start_time": "2021-10-25T21:47:01.383Z"
   },
   {
    "duration": 21,
    "start_time": "2021-10-25T21:47:01.430Z"
   },
   {
    "duration": 25,
    "start_time": "2021-10-25T21:47:01.454Z"
   },
   {
    "duration": 48,
    "start_time": "2021-10-25T21:47:01.482Z"
   },
   {
    "duration": 28,
    "start_time": "2021-10-25T21:47:01.533Z"
   },
   {
    "duration": 56,
    "start_time": "2021-10-25T21:47:01.563Z"
   },
   {
    "duration": 43,
    "start_time": "2021-10-25T21:47:01.622Z"
   },
   {
    "duration": 33,
    "start_time": "2021-10-25T21:47:01.668Z"
   },
   {
    "duration": 11,
    "start_time": "2021-10-25T21:47:01.703Z"
   },
   {
    "duration": 25,
    "start_time": "2021-10-25T21:47:01.716Z"
   },
   {
    "duration": 29,
    "start_time": "2021-10-25T21:47:01.743Z"
   },
   {
    "duration": 27,
    "start_time": "2021-10-25T21:47:01.774Z"
   },
   {
    "duration": 48,
    "start_time": "2021-10-25T21:47:01.803Z"
   },
   {
    "duration": 29,
    "start_time": "2021-10-25T21:47:01.853Z"
   },
   {
    "duration": 32,
    "start_time": "2021-10-25T21:47:01.884Z"
   },
   {
    "duration": 27,
    "start_time": "2021-10-25T21:47:01.918Z"
   },
   {
    "duration": 1112,
    "start_time": "2021-10-26T10:43:32.922Z"
   },
   {
    "duration": 9,
    "start_time": "2021-10-26T10:43:34.036Z"
   },
   {
    "duration": 16,
    "start_time": "2021-10-26T10:43:34.046Z"
   },
   {
    "duration": 8,
    "start_time": "2021-10-26T10:43:34.064Z"
   },
   {
    "duration": 20,
    "start_time": "2021-10-26T10:43:34.074Z"
   },
   {
    "duration": 22,
    "start_time": "2021-10-26T10:43:34.095Z"
   },
   {
    "duration": 3,
    "start_time": "2021-10-26T10:43:34.118Z"
   },
   {
    "duration": 31,
    "start_time": "2021-10-26T10:43:34.123Z"
   },
   {
    "duration": 36,
    "start_time": "2021-10-26T10:43:34.156Z"
   },
   {
    "duration": 2,
    "start_time": "2021-10-26T10:43:34.194Z"
   },
   {
    "duration": 40,
    "start_time": "2021-10-26T10:43:34.197Z"
   },
   {
    "duration": 14,
    "start_time": "2021-10-26T10:43:34.238Z"
   },
   {
    "duration": 17,
    "start_time": "2021-10-26T10:43:34.253Z"
   },
   {
    "duration": 31,
    "start_time": "2021-10-26T10:43:34.271Z"
   },
   {
    "duration": 18,
    "start_time": "2021-10-26T10:43:34.303Z"
   },
   {
    "duration": 364,
    "start_time": "2021-10-26T10:43:34.323Z"
   },
   {
    "duration": 6,
    "start_time": "2021-10-26T10:43:34.691Z"
   },
   {
    "duration": 1247,
    "start_time": "2021-10-26T10:43:34.699Z"
   },
   {
    "duration": 16,
    "start_time": "2021-10-26T10:43:35.948Z"
   },
   {
    "duration": 6,
    "start_time": "2021-10-26T10:43:35.966Z"
   },
   {
    "duration": 18,
    "start_time": "2021-10-26T10:43:35.992Z"
   },
   {
    "duration": 20,
    "start_time": "2021-10-26T10:43:36.012Z"
   },
   {
    "duration": 18,
    "start_time": "2021-10-26T10:43:36.035Z"
   },
   {
    "duration": 6,
    "start_time": "2021-10-26T10:43:36.055Z"
   },
   {
    "duration": 49,
    "start_time": "2021-10-26T10:43:36.062Z"
   },
   {
    "duration": 273,
    "start_time": "2021-10-26T10:43:36.113Z"
   },
   {
    "duration": 21,
    "start_time": "2021-10-26T10:43:36.387Z"
   },
   {
    "duration": 4,
    "start_time": "2021-10-26T10:43:36.410Z"
   },
   {
    "duration": 410,
    "start_time": "2021-10-26T10:43:36.415Z"
   },
   {
    "duration": 4,
    "start_time": "2021-10-26T10:43:36.826Z"
   },
   {
    "duration": 8,
    "start_time": "2021-10-26T10:43:36.832Z"
   },
   {
    "duration": 311,
    "start_time": "2021-10-26T10:43:36.842Z"
   },
   {
    "duration": 608,
    "start_time": "2021-10-26T10:43:37.154Z"
   },
   {
    "duration": 649,
    "start_time": "2021-10-26T10:43:37.763Z"
   },
   {
    "duration": 606,
    "start_time": "2021-10-26T10:43:38.413Z"
   },
   {
    "duration": 600,
    "start_time": "2021-10-26T10:43:39.020Z"
   },
   {
    "duration": 623,
    "start_time": "2021-10-26T10:43:39.621Z"
   },
   {
    "duration": 245,
    "start_time": "2021-10-26T10:43:40.245Z"
   },
   {
    "duration": 322,
    "start_time": "2021-10-26T10:43:40.492Z"
   },
   {
    "duration": 12,
    "start_time": "2021-10-26T10:43:40.816Z"
   },
   {
    "duration": 14,
    "start_time": "2021-10-26T10:43:40.830Z"
   },
   {
    "duration": 11,
    "start_time": "2021-10-26T10:43:40.845Z"
   },
   {
    "duration": 39,
    "start_time": "2021-10-26T10:43:40.857Z"
   },
   {
    "duration": 13,
    "start_time": "2021-10-26T10:43:40.898Z"
   },
   {
    "duration": 11,
    "start_time": "2021-10-26T10:43:40.913Z"
   },
   {
    "duration": 17,
    "start_time": "2021-10-26T10:43:40.925Z"
   },
   {
    "duration": 12,
    "start_time": "2021-10-26T10:43:40.943Z"
   },
   {
    "duration": 40,
    "start_time": "2021-10-26T10:43:40.957Z"
   },
   {
    "duration": 7,
    "start_time": "2021-10-26T10:43:40.998Z"
   },
   {
    "duration": 7,
    "start_time": "2021-10-26T10:43:41.006Z"
   },
   {
    "duration": 5,
    "start_time": "2021-10-26T10:43:41.014Z"
   },
   {
    "duration": 6,
    "start_time": "2021-10-26T10:43:41.020Z"
   },
   {
    "duration": 11,
    "start_time": "2021-10-26T10:43:41.028Z"
   },
   {
    "duration": 6,
    "start_time": "2021-10-26T10:43:41.040Z"
   },
   {
    "duration": 8,
    "start_time": "2021-10-26T10:43:41.047Z"
   },
   {
    "duration": 40,
    "start_time": "2021-10-26T10:43:41.057Z"
   },
   {
    "duration": 11,
    "start_time": "2021-10-26T10:46:06.917Z"
   },
   {
    "duration": 5,
    "start_time": "2021-10-26T10:47:27.335Z"
   },
   {
    "duration": 5,
    "start_time": "2021-10-26T10:48:44.349Z"
   },
   {
    "duration": 49,
    "start_time": "2021-10-26T10:53:22.169Z"
   },
   {
    "duration": 9,
    "start_time": "2021-10-26T10:53:22.220Z"
   },
   {
    "duration": 19,
    "start_time": "2021-10-26T10:53:22.231Z"
   },
   {
    "duration": 11,
    "start_time": "2021-10-26T10:53:22.251Z"
   },
   {
    "duration": 31,
    "start_time": "2021-10-26T10:53:22.264Z"
   },
   {
    "duration": 21,
    "start_time": "2021-10-26T10:53:22.297Z"
   },
   {
    "duration": 30,
    "start_time": "2021-10-26T10:53:22.320Z"
   },
   {
    "duration": 45,
    "start_time": "2021-10-26T10:53:22.353Z"
   },
   {
    "duration": 55,
    "start_time": "2021-10-26T10:53:22.400Z"
   },
   {
    "duration": -671,
    "start_time": "2021-10-26T10:53:23.128Z"
   },
   {
    "duration": -677,
    "start_time": "2021-10-26T10:53:23.135Z"
   },
   {
    "duration": -682,
    "start_time": "2021-10-26T10:53:23.141Z"
   },
   {
    "duration": -688,
    "start_time": "2021-10-26T10:53:23.148Z"
   },
   {
    "duration": -693,
    "start_time": "2021-10-26T10:53:23.154Z"
   },
   {
    "duration": -698,
    "start_time": "2021-10-26T10:53:23.160Z"
   },
   {
    "duration": -781,
    "start_time": "2021-10-26T10:53:23.244Z"
   },
   {
    "duration": -791,
    "start_time": "2021-10-26T10:53:23.255Z"
   },
   {
    "duration": -795,
    "start_time": "2021-10-26T10:53:23.260Z"
   },
   {
    "duration": -802,
    "start_time": "2021-10-26T10:53:23.268Z"
   },
   {
    "duration": -806,
    "start_time": "2021-10-26T10:53:23.273Z"
   },
   {
    "duration": -811,
    "start_time": "2021-10-26T10:53:23.279Z"
   },
   {
    "duration": -816,
    "start_time": "2021-10-26T10:53:23.285Z"
   },
   {
    "duration": -820,
    "start_time": "2021-10-26T10:53:23.290Z"
   },
   {
    "duration": -825,
    "start_time": "2021-10-26T10:53:23.296Z"
   },
   {
    "duration": -830,
    "start_time": "2021-10-26T10:53:23.302Z"
   },
   {
    "duration": -836,
    "start_time": "2021-10-26T10:53:23.308Z"
   },
   {
    "duration": -840,
    "start_time": "2021-10-26T10:53:23.313Z"
   },
   {
    "duration": -844,
    "start_time": "2021-10-26T10:53:23.318Z"
   },
   {
    "duration": -850,
    "start_time": "2021-10-26T10:53:23.325Z"
   },
   {
    "duration": -854,
    "start_time": "2021-10-26T10:53:23.330Z"
   },
   {
    "duration": -859,
    "start_time": "2021-10-26T10:53:23.336Z"
   },
   {
    "duration": -874,
    "start_time": "2021-10-26T10:53:23.352Z"
   },
   {
    "duration": -878,
    "start_time": "2021-10-26T10:53:23.357Z"
   },
   {
    "duration": -885,
    "start_time": "2021-10-26T10:53:23.365Z"
   },
   {
    "duration": -890,
    "start_time": "2021-10-26T10:53:23.371Z"
   },
   {
    "duration": -895,
    "start_time": "2021-10-26T10:53:23.376Z"
   },
   {
    "duration": -899,
    "start_time": "2021-10-26T10:53:23.381Z"
   },
   {
    "duration": -904,
    "start_time": "2021-10-26T10:53:23.387Z"
   },
   {
    "duration": 5,
    "start_time": "2021-10-26T10:53:22.611Z"
   },
   {
    "duration": 17,
    "start_time": "2021-10-26T10:53:22.618Z"
   },
   {
    "duration": 12,
    "start_time": "2021-10-26T10:53:22.637Z"
   },
   {
    "duration": 12,
    "start_time": "2021-10-26T10:53:22.651Z"
   },
   {
    "duration": 12,
    "start_time": "2021-10-26T10:53:22.664Z"
   },
   {
    "duration": 24,
    "start_time": "2021-10-26T10:53:22.677Z"
   },
   {
    "duration": 12,
    "start_time": "2021-10-26T10:53:22.703Z"
   },
   {
    "duration": 12,
    "start_time": "2021-10-26T10:53:22.717Z"
   },
   {
    "duration": 13,
    "start_time": "2021-10-26T10:53:22.730Z"
   },
   {
    "duration": 12,
    "start_time": "2021-10-26T10:53:22.744Z"
   },
   {
    "duration": 7,
    "start_time": "2021-10-26T10:53:22.791Z"
   },
   {
    "duration": 11,
    "start_time": "2021-10-26T10:53:22.800Z"
   },
   {
    "duration": 5,
    "start_time": "2021-10-26T10:53:22.812Z"
   },
   {
    "duration": 7,
    "start_time": "2021-10-26T10:53:22.819Z"
   },
   {
    "duration": 10,
    "start_time": "2021-10-26T10:53:22.828Z"
   },
   {
    "duration": 5,
    "start_time": "2021-10-26T10:53:22.839Z"
   },
   {
    "duration": 5,
    "start_time": "2021-10-26T10:53:22.846Z"
   },
   {
    "duration": 39,
    "start_time": "2021-10-26T10:53:22.853Z"
   },
   {
    "duration": 49,
    "start_time": "2021-10-26T10:54:28.916Z"
   },
   {
    "duration": 8,
    "start_time": "2021-10-26T10:54:28.967Z"
   },
   {
    "duration": 17,
    "start_time": "2021-10-26T10:54:28.977Z"
   },
   {
    "duration": 11,
    "start_time": "2021-10-26T10:54:28.995Z"
   },
   {
    "duration": 6,
    "start_time": "2021-10-26T10:54:29.007Z"
   },
   {
    "duration": 18,
    "start_time": "2021-10-26T10:54:29.015Z"
   },
   {
    "duration": 72,
    "start_time": "2021-10-26T10:54:29.035Z"
   },
   {
    "duration": 14,
    "start_time": "2021-10-26T10:54:29.110Z"
   },
   {
    "duration": 3,
    "start_time": "2021-10-26T10:54:29.127Z"
   },
   {
    "duration": 73,
    "start_time": "2021-10-26T10:54:29.132Z"
   },
   {
    "duration": 16,
    "start_time": "2021-10-26T10:54:29.207Z"
   },
   {
    "duration": 19,
    "start_time": "2021-10-26T10:54:29.225Z"
   },
   {
    "duration": 47,
    "start_time": "2021-10-26T10:54:29.246Z"
   },
   {
    "duration": 16,
    "start_time": "2021-10-26T10:54:29.294Z"
   },
   {
    "duration": 383,
    "start_time": "2021-10-26T10:54:29.312Z"
   },
   {
    "duration": 6,
    "start_time": "2021-10-26T10:54:29.697Z"
   },
   {
    "duration": 1279,
    "start_time": "2021-10-26T10:54:29.705Z"
   },
   {
    "duration": 19,
    "start_time": "2021-10-26T10:54:30.986Z"
   },
   {
    "duration": 7,
    "start_time": "2021-10-26T10:54:31.006Z"
   },
   {
    "duration": 23,
    "start_time": "2021-10-26T10:54:31.014Z"
   },
   {
    "duration": 21,
    "start_time": "2021-10-26T10:54:31.038Z"
   },
   {
    "duration": 42,
    "start_time": "2021-10-26T10:54:31.061Z"
   },
   {
    "duration": 6,
    "start_time": "2021-10-26T10:54:31.106Z"
   },
   {
    "duration": 35,
    "start_time": "2021-10-26T10:54:31.114Z"
   },
   {
    "duration": 276,
    "start_time": "2021-10-26T10:54:31.150Z"
   },
   {
    "duration": 22,
    "start_time": "2021-10-26T10:54:31.427Z"
   },
   {
    "duration": 5,
    "start_time": "2021-10-26T10:54:31.450Z"
   },
   {
    "duration": 349,
    "start_time": "2021-10-26T10:54:31.456Z"
   },
   {
    "duration": 4,
    "start_time": "2021-10-26T10:54:31.806Z"
   },
   {
    "duration": 11,
    "start_time": "2021-10-26T10:54:31.812Z"
   },
   {
    "duration": 311,
    "start_time": "2021-10-26T10:54:31.824Z"
   },
   {
    "duration": 685,
    "start_time": "2021-10-26T10:54:32.136Z"
   },
   {
    "duration": 598,
    "start_time": "2021-10-26T10:54:32.823Z"
   },
   {
    "duration": 597,
    "start_time": "2021-10-26T10:54:33.423Z"
   },
   {
    "duration": 607,
    "start_time": "2021-10-26T10:54:34.022Z"
   },
   {
    "duration": 609,
    "start_time": "2021-10-26T10:54:34.631Z"
   },
   {
    "duration": 233,
    "start_time": "2021-10-26T10:54:35.242Z"
   },
   {
    "duration": 234,
    "start_time": "2021-10-26T10:54:35.476Z"
   },
   {
    "duration": 4,
    "start_time": "2021-10-26T10:54:35.711Z"
   },
   {
    "duration": 14,
    "start_time": "2021-10-26T10:54:35.717Z"
   },
   {
    "duration": 11,
    "start_time": "2021-10-26T10:54:35.732Z"
   },
   {
    "duration": 16,
    "start_time": "2021-10-26T10:54:35.744Z"
   },
   {
    "duration": 31,
    "start_time": "2021-10-26T10:54:35.761Z"
   },
   {
    "duration": 13,
    "start_time": "2021-10-26T10:54:35.794Z"
   },
   {
    "duration": 11,
    "start_time": "2021-10-26T10:54:35.809Z"
   },
   {
    "duration": 16,
    "start_time": "2021-10-26T10:54:35.821Z"
   },
   {
    "duration": 12,
    "start_time": "2021-10-26T10:54:35.839Z"
   },
   {
    "duration": 40,
    "start_time": "2021-10-26T10:54:35.852Z"
   },
   {
    "duration": 5,
    "start_time": "2021-10-26T10:54:35.894Z"
   },
   {
    "duration": 13,
    "start_time": "2021-10-26T10:54:35.900Z"
   },
   {
    "duration": 5,
    "start_time": "2021-10-26T10:54:35.914Z"
   },
   {
    "duration": 5,
    "start_time": "2021-10-26T10:54:35.921Z"
   },
   {
    "duration": 9,
    "start_time": "2021-10-26T10:54:35.928Z"
   },
   {
    "duration": 5,
    "start_time": "2021-10-26T10:54:35.939Z"
   },
   {
    "duration": 5,
    "start_time": "2021-10-26T10:54:35.945Z"
   },
   {
    "duration": 6,
    "start_time": "2021-10-26T10:54:35.951Z"
   },
   {
    "duration": 54,
    "start_time": "2021-10-26T10:57:28.596Z"
   },
   {
    "duration": 9,
    "start_time": "2021-10-26T10:57:28.652Z"
   },
   {
    "duration": 29,
    "start_time": "2021-10-26T10:57:28.663Z"
   },
   {
    "duration": 9,
    "start_time": "2021-10-26T10:57:28.694Z"
   },
   {
    "duration": 7,
    "start_time": "2021-10-26T10:57:28.704Z"
   },
   {
    "duration": 22,
    "start_time": "2021-10-26T10:57:28.712Z"
   },
   {
    "duration": 84,
    "start_time": "2021-10-26T10:57:28.736Z"
   },
   {
    "duration": 12,
    "start_time": "2021-10-26T10:57:28.823Z"
   },
   {
    "duration": 4,
    "start_time": "2021-10-26T10:57:28.836Z"
   },
   {
    "duration": 56,
    "start_time": "2021-10-26T10:57:28.842Z"
   },
   {
    "duration": 15,
    "start_time": "2021-10-26T10:57:28.900Z"
   },
   {
    "duration": 17,
    "start_time": "2021-10-26T10:57:28.916Z"
   },
   {
    "duration": 11,
    "start_time": "2021-10-26T10:57:28.935Z"
   },
   {
    "duration": 17,
    "start_time": "2021-10-26T10:57:28.948Z"
   },
   {
    "duration": 397,
    "start_time": "2021-10-26T10:57:28.966Z"
   },
   {
    "duration": 6,
    "start_time": "2021-10-26T10:57:29.364Z"
   },
   {
    "duration": 1387,
    "start_time": "2021-10-26T10:57:29.371Z"
   },
   {
    "duration": 15,
    "start_time": "2021-10-26T10:57:30.760Z"
   },
   {
    "duration": 19,
    "start_time": "2021-10-26T10:57:30.777Z"
   },
   {
    "duration": 26,
    "start_time": "2021-10-26T10:57:30.797Z"
   },
   {
    "duration": 23,
    "start_time": "2021-10-26T10:57:30.825Z"
   },
   {
    "duration": 43,
    "start_time": "2021-10-26T10:57:30.849Z"
   },
   {
    "duration": 8,
    "start_time": "2021-10-26T10:57:30.895Z"
   },
   {
    "duration": 34,
    "start_time": "2021-10-26T10:57:30.905Z"
   },
   {
    "duration": 285,
    "start_time": "2021-10-26T10:57:30.940Z"
   },
   {
    "duration": 21,
    "start_time": "2021-10-26T10:57:31.226Z"
   },
   {
    "duration": 8,
    "start_time": "2021-10-26T10:57:31.248Z"
   },
   {
    "duration": 357,
    "start_time": "2021-10-26T10:57:31.257Z"
   },
   {
    "duration": 4,
    "start_time": "2021-10-26T10:57:31.616Z"
   },
   {
    "duration": 11,
    "start_time": "2021-10-26T10:57:31.621Z"
   },
   {
    "duration": 311,
    "start_time": "2021-10-26T10:57:31.633Z"
   },
   {
    "duration": 587,
    "start_time": "2021-10-26T10:57:31.946Z"
   },
   {
    "duration": 587,
    "start_time": "2021-10-26T10:57:32.534Z"
   },
   {
    "duration": 706,
    "start_time": "2021-10-26T10:57:33.123Z"
   },
   {
    "duration": 591,
    "start_time": "2021-10-26T10:57:33.831Z"
   },
   {
    "duration": 610,
    "start_time": "2021-10-26T10:57:34.424Z"
   },
   {
    "duration": 259,
    "start_time": "2021-10-26T10:57:35.036Z"
   },
   {
    "duration": 244,
    "start_time": "2021-10-26T10:57:35.297Z"
   },
   {
    "duration": 4,
    "start_time": "2021-10-26T10:57:35.542Z"
   },
   {
    "duration": 15,
    "start_time": "2021-10-26T10:57:35.547Z"
   },
   {
    "duration": 12,
    "start_time": "2021-10-26T10:57:35.563Z"
   },
   {
    "duration": 13,
    "start_time": "2021-10-26T10:57:35.592Z"
   },
   {
    "duration": 12,
    "start_time": "2021-10-26T10:57:35.607Z"
   },
   {
    "duration": 12,
    "start_time": "2021-10-26T10:57:35.621Z"
   },
   {
    "duration": 12,
    "start_time": "2021-10-26T10:57:35.635Z"
   },
   {
    "duration": 51,
    "start_time": "2021-10-26T10:57:35.649Z"
   },
   {
    "duration": 13,
    "start_time": "2021-10-26T10:57:35.702Z"
   },
   {
    "duration": 13,
    "start_time": "2021-10-26T10:57:35.716Z"
   },
   {
    "duration": 5,
    "start_time": "2021-10-26T10:57:35.730Z"
   },
   {
    "duration": 9,
    "start_time": "2021-10-26T10:57:35.736Z"
   },
   {
    "duration": 5,
    "start_time": "2021-10-26T10:57:35.747Z"
   },
   {
    "duration": 41,
    "start_time": "2021-10-26T10:57:35.754Z"
   },
   {
    "duration": 16,
    "start_time": "2021-10-26T10:57:35.796Z"
   },
   {
    "duration": 13,
    "start_time": "2021-10-26T10:57:35.813Z"
   },
   {
    "duration": 5,
    "start_time": "2021-10-26T10:57:35.828Z"
   },
   {
    "duration": 12,
    "start_time": "2021-10-26T10:57:35.835Z"
   },
   {
    "duration": 53,
    "start_time": "2021-10-26T11:32:48.509Z"
   },
   {
    "duration": 8,
    "start_time": "2021-10-26T11:32:48.564Z"
   },
   {
    "duration": 22,
    "start_time": "2021-10-26T11:32:48.574Z"
   },
   {
    "duration": 19,
    "start_time": "2021-10-26T11:32:48.598Z"
   },
   {
    "duration": 7,
    "start_time": "2021-10-26T11:32:48.618Z"
   },
   {
    "duration": 20,
    "start_time": "2021-10-26T11:32:48.626Z"
   },
   {
    "duration": 60,
    "start_time": "2021-10-26T11:32:48.648Z"
   },
   {
    "duration": 13,
    "start_time": "2021-10-26T11:32:48.709Z"
   },
   {
    "duration": 53,
    "start_time": "2021-10-26T11:32:48.724Z"
   },
   {
    "duration": -191,
    "start_time": "2021-10-26T11:32:48.971Z"
   },
   {
    "duration": -195,
    "start_time": "2021-10-26T11:32:48.976Z"
   },
   {
    "duration": -198,
    "start_time": "2021-10-26T11:32:48.980Z"
   },
   {
    "duration": -291,
    "start_time": "2021-10-26T11:32:49.074Z"
   },
   {
    "duration": -297,
    "start_time": "2021-10-26T11:32:49.081Z"
   },
   {
    "duration": -302,
    "start_time": "2021-10-26T11:32:49.087Z"
   },
   {
    "duration": -306,
    "start_time": "2021-10-26T11:32:49.092Z"
   },
   {
    "duration": -310,
    "start_time": "2021-10-26T11:32:49.097Z"
   },
   {
    "duration": -315,
    "start_time": "2021-10-26T11:32:49.103Z"
   },
   {
    "duration": -318,
    "start_time": "2021-10-26T11:32:49.107Z"
   },
   {
    "duration": -324,
    "start_time": "2021-10-26T11:32:49.114Z"
   },
   {
    "duration": -331,
    "start_time": "2021-10-26T11:32:49.122Z"
   },
   {
    "duration": -335,
    "start_time": "2021-10-26T11:32:49.127Z"
   },
   {
    "duration": -340,
    "start_time": "2021-10-26T11:32:49.133Z"
   },
   {
    "duration": -344,
    "start_time": "2021-10-26T11:32:49.138Z"
   },
   {
    "duration": -348,
    "start_time": "2021-10-26T11:32:49.143Z"
   },
   {
    "duration": -351,
    "start_time": "2021-10-26T11:32:49.147Z"
   },
   {
    "duration": -355,
    "start_time": "2021-10-26T11:32:49.152Z"
   },
   {
    "duration": -359,
    "start_time": "2021-10-26T11:32:49.157Z"
   },
   {
    "duration": -364,
    "start_time": "2021-10-26T11:32:49.163Z"
   },
   {
    "duration": -367,
    "start_time": "2021-10-26T11:32:49.167Z"
   },
   {
    "duration": -383,
    "start_time": "2021-10-26T11:32:49.184Z"
   },
   {
    "duration": -388,
    "start_time": "2021-10-26T11:32:49.190Z"
   },
   {
    "duration": -393,
    "start_time": "2021-10-26T11:32:49.195Z"
   },
   {
    "duration": -396,
    "start_time": "2021-10-26T11:32:49.199Z"
   },
   {
    "duration": -402,
    "start_time": "2021-10-26T11:32:49.206Z"
   },
   {
    "duration": -405,
    "start_time": "2021-10-26T11:32:49.211Z"
   },
   {
    "duration": -411,
    "start_time": "2021-10-26T11:32:49.217Z"
   },
   {
    "duration": -415,
    "start_time": "2021-10-26T11:32:49.222Z"
   },
   {
    "duration": -419,
    "start_time": "2021-10-26T11:32:49.227Z"
   },
   {
    "duration": -423,
    "start_time": "2021-10-26T11:32:49.232Z"
   },
   {
    "duration": -428,
    "start_time": "2021-10-26T11:32:49.238Z"
   },
   {
    "duration": -432,
    "start_time": "2021-10-26T11:32:49.243Z"
   },
   {
    "duration": -437,
    "start_time": "2021-10-26T11:32:49.249Z"
   },
   {
    "duration": -442,
    "start_time": "2021-10-26T11:32:49.255Z"
   },
   {
    "duration": -447,
    "start_time": "2021-10-26T11:32:49.261Z"
   },
   {
    "duration": -450,
    "start_time": "2021-10-26T11:32:49.265Z"
   },
   {
    "duration": -455,
    "start_time": "2021-10-26T11:32:49.271Z"
   },
   {
    "duration": -459,
    "start_time": "2021-10-26T11:32:49.276Z"
   },
   {
    "duration": -477,
    "start_time": "2021-10-26T11:32:49.295Z"
   },
   {
    "duration": -482,
    "start_time": "2021-10-26T11:32:49.300Z"
   },
   {
    "duration": -488,
    "start_time": "2021-10-26T11:32:49.308Z"
   },
   {
    "duration": -491,
    "start_time": "2021-10-26T11:32:49.312Z"
   },
   {
    "duration": -498,
    "start_time": "2021-10-26T11:32:49.320Z"
   },
   {
    "duration": -505,
    "start_time": "2021-10-26T11:32:49.328Z"
   },
   {
    "duration": -519,
    "start_time": "2021-10-26T11:32:49.343Z"
   },
   {
    "duration": 6,
    "start_time": "2021-10-26T11:32:48.826Z"
   },
   {
    "duration": 5,
    "start_time": "2021-10-26T11:33:10.562Z"
   },
   {
    "duration": 33,
    "start_time": "2021-10-26T11:33:11.459Z"
   },
   {
    "duration": 16,
    "start_time": "2021-10-26T11:33:11.942Z"
   },
   {
    "duration": 18,
    "start_time": "2021-10-26T11:33:12.708Z"
   },
   {
    "duration": 13,
    "start_time": "2021-10-26T11:33:13.363Z"
   },
   {
    "duration": 16,
    "start_time": "2021-10-26T11:33:13.922Z"
   },
   {
    "duration": 365,
    "start_time": "2021-10-26T11:33:14.116Z"
   },
   {
    "duration": 11,
    "start_time": "2021-10-26T11:33:14.482Z"
   },
   {
    "duration": 1377,
    "start_time": "2021-10-26T11:33:14.645Z"
   },
   {
    "duration": 17,
    "start_time": "2021-10-26T11:33:16.023Z"
   },
   {
    "duration": 6,
    "start_time": "2021-10-26T11:33:16.042Z"
   },
   {
    "duration": 21,
    "start_time": "2021-10-26T11:33:19.201Z"
   },
   {
    "duration": 23,
    "start_time": "2021-10-26T11:33:21.379Z"
   },
   {
    "duration": 22,
    "start_time": "2021-10-26T11:33:22.675Z"
   },
   {
    "duration": 8,
    "start_time": "2021-10-26T11:33:23.097Z"
   },
   {
    "duration": 25,
    "start_time": "2021-10-26T11:33:25.937Z"
   },
   {
    "duration": 272,
    "start_time": "2021-10-26T11:33:26.106Z"
   },
   {
    "duration": 22,
    "start_time": "2021-10-26T11:33:26.876Z"
   },
   {
    "duration": 5,
    "start_time": "2021-10-26T11:33:27.204Z"
   },
   {
    "duration": 305,
    "start_time": "2021-10-26T11:33:32.164Z"
   },
   {
    "duration": 5,
    "start_time": "2021-10-26T11:33:33.579Z"
   },
   {
    "duration": 5,
    "start_time": "2021-10-26T11:33:34.183Z"
   },
   {
    "duration": 295,
    "start_time": "2021-10-26T11:33:52.420Z"
   },
   {
    "duration": 663,
    "start_time": "2021-10-26T11:33:59.567Z"
   },
   {
    "duration": 611,
    "start_time": "2021-10-26T11:34:02.258Z"
   },
   {
    "duration": 616,
    "start_time": "2021-10-26T11:35:50.408Z"
   },
   {
    "duration": 608,
    "start_time": "2021-10-26T11:36:01.763Z"
   },
   {
    "duration": 587,
    "start_time": "2021-10-26T11:36:11.338Z"
   },
   {
    "duration": 236,
    "start_time": "2021-10-26T11:39:12.634Z"
   },
   {
    "duration": 270,
    "start_time": "2021-10-26T11:39:15.687Z"
   },
   {
    "duration": 5,
    "start_time": "2021-10-26T11:39:23.129Z"
   },
   {
    "duration": 15,
    "start_time": "2021-10-26T11:39:26.606Z"
   },
   {
    "duration": 15,
    "start_time": "2021-10-26T11:39:26.781Z"
   },
   {
    "duration": 13,
    "start_time": "2021-10-26T11:39:28.870Z"
   },
   {
    "duration": 21,
    "start_time": "2021-10-26T11:39:29.971Z"
   },
   {
    "duration": 14,
    "start_time": "2021-10-26T11:39:30.135Z"
   },
   {
    "duration": 157,
    "start_time": "2021-10-26T11:39:30.310Z"
   },
   {
    "duration": 15,
    "start_time": "2021-10-26T11:39:30.746Z"
   },
   {
    "duration": 15,
    "start_time": "2021-10-26T11:39:31.064Z"
   },
   {
    "duration": 14,
    "start_time": "2021-10-26T11:39:31.212Z"
   },
   {
    "duration": 8,
    "start_time": "2021-10-26T11:39:31.991Z"
   },
   {
    "duration": 6,
    "start_time": "2021-10-26T11:39:32.116Z"
   },
   {
    "duration": 7,
    "start_time": "2021-10-26T11:39:32.280Z"
   },
   {
    "duration": 6,
    "start_time": "2021-10-26T11:39:32.566Z"
   },
   {
    "duration": 6,
    "start_time": "2021-10-26T11:39:33.580Z"
   },
   {
    "duration": 10,
    "start_time": "2021-10-26T11:39:33.588Z"
   },
   {
    "duration": 7,
    "start_time": "2021-10-26T11:39:33.600Z"
   },
   {
    "duration": 6,
    "start_time": "2021-10-26T11:39:33.609Z"
   },
   {
    "duration": 1660,
    "start_time": "2022-04-14T20:36:51.143Z"
   },
   {
    "duration": 20,
    "start_time": "2022-04-14T20:36:52.806Z"
   },
   {
    "duration": 34,
    "start_time": "2022-04-14T20:36:52.828Z"
   },
   {
    "duration": 20,
    "start_time": "2022-04-14T20:36:52.865Z"
   },
   {
    "duration": 42,
    "start_time": "2022-04-14T20:36:52.887Z"
   },
   {
    "duration": 34,
    "start_time": "2022-04-14T20:36:52.931Z"
   },
   {
    "duration": 81,
    "start_time": "2022-04-14T20:36:52.968Z"
   },
   {
    "duration": 21,
    "start_time": "2022-04-14T20:36:53.051Z"
   },
   {
    "duration": 8,
    "start_time": "2022-04-14T20:36:53.074Z"
   },
   {
    "duration": 72,
    "start_time": "2022-04-14T20:36:53.085Z"
   },
   {
    "duration": 25,
    "start_time": "2022-04-14T20:36:53.159Z"
   },
   {
    "duration": 53,
    "start_time": "2022-04-14T20:36:53.185Z"
   },
   {
    "duration": 21,
    "start_time": "2022-04-14T20:36:53.240Z"
   },
   {
    "duration": 24,
    "start_time": "2022-04-14T20:36:53.263Z"
   },
   {
    "duration": 552,
    "start_time": "2022-04-14T20:36:53.290Z"
   },
   {
    "duration": 8,
    "start_time": "2022-04-14T20:36:53.844Z"
   },
   {
    "duration": 1689,
    "start_time": "2022-04-14T20:36:53.854Z"
   },
   {
    "duration": 22,
    "start_time": "2022-04-14T20:36:55.545Z"
   },
   {
    "duration": 10,
    "start_time": "2022-04-14T20:36:55.569Z"
   },
   {
    "duration": 61,
    "start_time": "2022-04-14T20:36:55.582Z"
   },
   {
    "duration": 36,
    "start_time": "2022-04-14T20:36:55.645Z"
   },
   {
    "duration": 63,
    "start_time": "2022-04-14T20:36:55.683Z"
   },
   {
    "duration": 12,
    "start_time": "2022-04-14T20:36:55.750Z"
   },
   {
    "duration": 67,
    "start_time": "2022-04-14T20:36:55.765Z"
   },
   {
    "duration": 341,
    "start_time": "2022-04-14T20:36:55.834Z"
   },
   {
    "duration": 55,
    "start_time": "2022-04-14T20:36:56.178Z"
   },
   {
    "duration": 8,
    "start_time": "2022-04-14T20:36:56.235Z"
   },
   {
    "duration": 260,
    "start_time": "2022-04-14T20:36:56.249Z"
   },
   {
    "duration": 14,
    "start_time": "2022-04-14T20:36:56.511Z"
   },
   {
    "duration": 10,
    "start_time": "2022-04-14T20:36:56.527Z"
   },
   {
    "duration": 359,
    "start_time": "2022-04-14T20:36:56.539Z"
   },
   {
    "duration": 491,
    "start_time": "2022-04-14T20:36:56.900Z"
   },
   {
    "duration": 468,
    "start_time": "2022-04-14T20:36:57.393Z"
   },
   {
    "duration": 493,
    "start_time": "2022-04-14T20:36:57.864Z"
   },
   {
    "duration": 465,
    "start_time": "2022-04-14T20:36:58.360Z"
   },
   {
    "duration": 517,
    "start_time": "2022-04-14T20:36:58.828Z"
   },
   {
    "duration": 325,
    "start_time": "2022-04-14T20:36:59.348Z"
   },
   {
    "duration": 328,
    "start_time": "2022-04-14T20:36:59.675Z"
   },
   {
    "duration": 18,
    "start_time": "2022-04-14T20:37:00.006Z"
   },
   {
    "duration": 20,
    "start_time": "2022-04-14T20:37:00.027Z"
   },
   {
    "duration": 30,
    "start_time": "2022-04-14T20:37:00.049Z"
   },
   {
    "duration": 47,
    "start_time": "2022-04-14T20:37:00.081Z"
   },
   {
    "duration": 28,
    "start_time": "2022-04-14T20:37:00.130Z"
   },
   {
    "duration": 28,
    "start_time": "2022-04-14T20:37:00.160Z"
   },
   {
    "duration": 134,
    "start_time": "2022-04-14T20:37:00.191Z"
   },
   {
    "duration": 34,
    "start_time": "2022-04-14T20:37:00.327Z"
   },
   {
    "duration": 21,
    "start_time": "2022-04-14T20:37:00.363Z"
   },
   {
    "duration": 40,
    "start_time": "2022-04-14T20:37:00.386Z"
   },
   {
    "duration": 8,
    "start_time": "2022-04-14T20:37:00.428Z"
   },
   {
    "duration": 31,
    "start_time": "2022-04-14T20:37:00.439Z"
   },
   {
    "duration": 14,
    "start_time": "2022-04-14T20:37:00.472Z"
   },
   {
    "duration": 28,
    "start_time": "2022-04-14T20:37:00.489Z"
   },
   {
    "duration": 15,
    "start_time": "2022-04-14T20:37:00.520Z"
   },
   {
    "duration": 25,
    "start_time": "2022-04-14T20:37:00.538Z"
   },
   {
    "duration": 21,
    "start_time": "2022-04-14T20:37:00.565Z"
   },
   {
    "duration": 15,
    "start_time": "2022-04-14T20:37:00.588Z"
   },
   {
    "duration": 1283,
    "start_time": "2022-07-15T08:16:56.957Z"
   },
   {
    "duration": 13,
    "start_time": "2022-07-15T08:16:58.242Z"
   },
   {
    "duration": 29,
    "start_time": "2022-07-15T08:16:58.256Z"
   },
   {
    "duration": 14,
    "start_time": "2022-07-15T08:16:58.287Z"
   },
   {
    "duration": 9,
    "start_time": "2022-07-15T08:16:58.303Z"
   },
   {
    "duration": 29,
    "start_time": "2022-07-15T08:16:58.313Z"
   },
   {
    "duration": 60,
    "start_time": "2022-07-15T08:16:58.344Z"
   },
   {
    "duration": 15,
    "start_time": "2022-07-15T08:16:58.406Z"
   },
   {
    "duration": 5,
    "start_time": "2022-07-15T08:16:58.423Z"
   },
   {
    "duration": 60,
    "start_time": "2022-07-15T08:16:58.430Z"
   },
   {
    "duration": 17,
    "start_time": "2022-07-15T08:16:58.491Z"
   },
   {
    "duration": 17,
    "start_time": "2022-07-15T08:16:58.509Z"
   },
   {
    "duration": 17,
    "start_time": "2022-07-15T08:16:58.527Z"
   },
   {
    "duration": 34,
    "start_time": "2022-07-15T08:16:58.546Z"
   },
   {
    "duration": 338,
    "start_time": "2022-07-15T08:16:58.582Z"
   },
   {
    "duration": 5,
    "start_time": "2022-07-15T08:16:58.921Z"
   },
   {
    "duration": 1011,
    "start_time": "2022-07-15T08:16:58.928Z"
   },
   {
    "duration": 30,
    "start_time": "2022-07-15T08:16:59.940Z"
   },
   {
    "duration": 12,
    "start_time": "2022-07-15T08:16:59.971Z"
   },
   {
    "duration": 25,
    "start_time": "2022-07-15T08:16:59.985Z"
   },
   {
    "duration": 23,
    "start_time": "2022-07-15T08:17:00.011Z"
   },
   {
    "duration": 53,
    "start_time": "2022-07-15T08:17:00.036Z"
   },
   {
    "duration": 8,
    "start_time": "2022-07-15T08:17:00.091Z"
   },
   {
    "duration": 35,
    "start_time": "2022-07-15T08:17:00.100Z"
   },
   {
    "duration": 211,
    "start_time": "2022-07-15T08:17:00.137Z"
   },
   {
    "duration": 42,
    "start_time": "2022-07-15T08:17:00.350Z"
   },
   {
    "duration": 24,
    "start_time": "2022-07-15T08:17:00.394Z"
   },
   {
    "duration": 159,
    "start_time": "2022-07-15T08:17:00.423Z"
   },
   {
    "duration": 4,
    "start_time": "2022-07-15T08:17:00.584Z"
   },
   {
    "duration": 10,
    "start_time": "2022-07-15T08:17:00.589Z"
   },
   {
    "duration": 278,
    "start_time": "2022-07-15T08:17:00.600Z"
   },
   {
    "duration": 321,
    "start_time": "2022-07-15T08:17:00.883Z"
   },
   {
    "duration": 321,
    "start_time": "2022-07-15T08:17:01.206Z"
   },
   {
    "duration": 314,
    "start_time": "2022-07-15T08:17:01.529Z"
   },
   {
    "duration": 285,
    "start_time": "2022-07-15T08:17:01.845Z"
   },
   {
    "duration": 301,
    "start_time": "2022-07-15T08:17:02.132Z"
   },
   {
    "duration": 241,
    "start_time": "2022-07-15T08:17:02.435Z"
   },
   {
    "duration": 231,
    "start_time": "2022-07-15T08:17:02.678Z"
   },
   {
    "duration": 4,
    "start_time": "2022-07-15T08:17:02.911Z"
   },
   {
    "duration": 16,
    "start_time": "2022-07-15T08:17:02.916Z"
   },
   {
    "duration": 11,
    "start_time": "2022-07-15T08:17:02.933Z"
   },
   {
    "duration": 43,
    "start_time": "2022-07-15T08:17:02.946Z"
   },
   {
    "duration": 24,
    "start_time": "2022-07-15T08:17:02.990Z"
   },
   {
    "duration": 18,
    "start_time": "2022-07-15T08:17:03.016Z"
   },
   {
    "duration": 106,
    "start_time": "2022-07-15T08:17:03.035Z"
   },
   {
    "duration": 12,
    "start_time": "2022-07-15T08:17:03.143Z"
   },
   {
    "duration": 31,
    "start_time": "2022-07-15T08:17:03.157Z"
   },
   {
    "duration": 25,
    "start_time": "2022-07-15T08:17:03.189Z"
   },
   {
    "duration": 4,
    "start_time": "2022-07-15T08:17:03.216Z"
   },
   {
    "duration": 9,
    "start_time": "2022-07-15T08:17:03.222Z"
   },
   {
    "duration": 8,
    "start_time": "2022-07-15T08:17:03.232Z"
   },
   {
    "duration": 6,
    "start_time": "2022-07-15T08:17:03.241Z"
   },
   {
    "duration": 10,
    "start_time": "2022-07-15T08:17:03.248Z"
   },
   {
    "duration": 19,
    "start_time": "2022-07-15T08:17:03.260Z"
   },
   {
    "duration": 9,
    "start_time": "2022-07-15T08:17:03.280Z"
   },
   {
    "duration": 4,
    "start_time": "2022-07-15T08:17:03.291Z"
   },
   {
    "duration": 1266,
    "start_time": "2022-08-10T16:11:29.590Z"
   },
   {
    "duration": 12,
    "start_time": "2022-08-10T16:11:30.858Z"
   },
   {
    "duration": 30,
    "start_time": "2022-08-10T16:11:30.872Z"
   },
   {
    "duration": 29,
    "start_time": "2022-08-10T16:11:30.904Z"
   },
   {
    "duration": 32,
    "start_time": "2022-08-10T16:11:30.934Z"
   },
   {
    "duration": 46,
    "start_time": "2022-08-10T16:11:30.967Z"
   },
   {
    "duration": 47,
    "start_time": "2022-08-10T16:11:31.014Z"
   },
   {
    "duration": 16,
    "start_time": "2022-08-10T16:11:31.063Z"
   },
   {
    "duration": 39,
    "start_time": "2022-08-10T16:11:31.080Z"
   },
   {
    "duration": 63,
    "start_time": "2022-08-10T16:11:31.122Z"
   },
   {
    "duration": 16,
    "start_time": "2022-08-10T16:11:31.186Z"
   },
   {
    "duration": 27,
    "start_time": "2022-08-10T16:11:31.203Z"
   },
   {
    "duration": 91,
    "start_time": "2022-08-10T16:11:31.231Z"
   },
   {
    "duration": 28,
    "start_time": "2022-08-10T16:11:31.324Z"
   },
   {
    "duration": 340,
    "start_time": "2022-08-10T16:11:31.353Z"
   },
   {
    "duration": 7,
    "start_time": "2022-08-10T16:11:31.694Z"
   },
   {
    "duration": 1012,
    "start_time": "2022-08-10T16:11:31.703Z"
   },
   {
    "duration": 16,
    "start_time": "2022-08-10T16:11:32.717Z"
   },
   {
    "duration": 8,
    "start_time": "2022-08-10T16:11:32.734Z"
   },
   {
    "duration": 23,
    "start_time": "2022-08-10T16:11:32.743Z"
   },
   {
    "duration": 50,
    "start_time": "2022-08-10T16:11:32.767Z"
   },
   {
    "duration": 21,
    "start_time": "2022-08-10T16:11:32.818Z"
   },
   {
    "duration": 7,
    "start_time": "2022-08-10T16:11:32.841Z"
   },
   {
    "duration": 52,
    "start_time": "2022-08-10T16:11:32.849Z"
   },
   {
    "duration": 195,
    "start_time": "2022-08-10T16:11:32.903Z"
   },
   {
    "duration": 27,
    "start_time": "2022-08-10T16:11:33.099Z"
   },
   {
    "duration": 4,
    "start_time": "2022-08-10T16:11:33.128Z"
   },
   {
    "duration": 170,
    "start_time": "2022-08-10T16:11:33.136Z"
   },
   {
    "duration": 4,
    "start_time": "2022-08-10T16:11:33.308Z"
   },
   {
    "duration": 12,
    "start_time": "2022-08-10T16:11:33.314Z"
   },
   {
    "duration": 214,
    "start_time": "2022-08-10T16:11:33.327Z"
   },
   {
    "duration": 284,
    "start_time": "2022-08-10T16:11:33.543Z"
   },
   {
    "duration": 284,
    "start_time": "2022-08-10T16:11:33.829Z"
   },
   {
    "duration": 294,
    "start_time": "2022-08-10T16:11:34.114Z"
   },
   {
    "duration": 331,
    "start_time": "2022-08-10T16:11:34.410Z"
   },
   {
    "duration": 307,
    "start_time": "2022-08-10T16:11:34.743Z"
   },
   {
    "duration": 204,
    "start_time": "2022-08-10T16:11:35.051Z"
   },
   {
    "duration": 194,
    "start_time": "2022-08-10T16:11:35.257Z"
   },
   {
    "duration": 5,
    "start_time": "2022-08-10T16:11:35.452Z"
   },
   {
    "duration": 16,
    "start_time": "2022-08-10T16:11:35.459Z"
   },
   {
    "duration": 35,
    "start_time": "2022-08-10T16:11:35.477Z"
   },
   {
    "duration": 16,
    "start_time": "2022-08-10T16:11:35.514Z"
   },
   {
    "duration": 14,
    "start_time": "2022-08-10T16:11:35.532Z"
   },
   {
    "duration": 13,
    "start_time": "2022-08-10T16:11:35.548Z"
   },
   {
    "duration": 48,
    "start_time": "2022-08-10T16:11:35.563Z"
   },
   {
    "duration": 97,
    "start_time": "2022-08-10T16:11:35.613Z"
   },
   {
    "duration": 17,
    "start_time": "2022-08-10T16:11:35.711Z"
   },
   {
    "duration": 17,
    "start_time": "2022-08-10T16:11:35.731Z"
   },
   {
    "duration": 7,
    "start_time": "2022-08-10T16:11:35.749Z"
   },
   {
    "duration": 8,
    "start_time": "2022-08-10T16:11:35.758Z"
   },
   {
    "duration": 34,
    "start_time": "2022-08-10T16:11:35.768Z"
   },
   {
    "duration": 5,
    "start_time": "2022-08-10T16:11:35.804Z"
   },
   {
    "duration": 11,
    "start_time": "2022-08-10T16:11:35.811Z"
   },
   {
    "duration": 11,
    "start_time": "2022-08-10T16:11:35.824Z"
   },
   {
    "duration": 7,
    "start_time": "2022-08-10T16:11:35.837Z"
   },
   {
    "duration": 6,
    "start_time": "2022-08-10T16:11:35.846Z"
   },
   {
    "duration": 71,
    "start_time": "2022-08-10T16:16:30.158Z"
   },
   {
    "duration": 15,
    "start_time": "2022-08-10T16:16:30.230Z"
   },
   {
    "duration": 23,
    "start_time": "2022-08-10T16:16:30.247Z"
   },
   {
    "duration": 39,
    "start_time": "2022-08-10T16:16:30.271Z"
   },
   {
    "duration": 34,
    "start_time": "2022-08-10T16:16:30.312Z"
   },
   {
    "duration": 51,
    "start_time": "2022-08-10T16:16:30.348Z"
   },
   {
    "duration": 38,
    "start_time": "2022-08-10T16:16:30.401Z"
   },
   {
    "duration": 14,
    "start_time": "2022-08-10T16:16:30.441Z"
   },
   {
    "duration": 31,
    "start_time": "2022-08-10T16:16:30.456Z"
   },
   {
    "duration": 50,
    "start_time": "2022-08-10T16:16:30.489Z"
   },
   {
    "duration": 29,
    "start_time": "2022-08-10T16:16:30.540Z"
   },
   {
    "duration": 31,
    "start_time": "2022-08-10T16:16:30.571Z"
   },
   {
    "duration": 22,
    "start_time": "2022-08-10T16:16:30.603Z"
   },
   {
    "duration": 99,
    "start_time": "2022-08-10T16:16:30.626Z"
   },
   {
    "duration": 321,
    "start_time": "2022-08-10T16:16:30.727Z"
   },
   {
    "duration": 5,
    "start_time": "2022-08-10T16:16:31.050Z"
   },
   {
    "duration": 1071,
    "start_time": "2022-08-10T16:16:31.057Z"
   },
   {
    "duration": 14,
    "start_time": "2022-08-10T16:16:32.130Z"
   },
   {
    "duration": 6,
    "start_time": "2022-08-10T16:16:32.146Z"
   },
   {
    "duration": 26,
    "start_time": "2022-08-10T16:16:32.153Z"
   },
   {
    "duration": 23,
    "start_time": "2022-08-10T16:16:32.180Z"
   },
   {
    "duration": 22,
    "start_time": "2022-08-10T16:16:32.204Z"
   },
   {
    "duration": 7,
    "start_time": "2022-08-10T16:16:32.227Z"
   },
   {
    "duration": 22,
    "start_time": "2022-08-10T16:16:32.235Z"
   },
   {
    "duration": 207,
    "start_time": "2022-08-10T16:16:32.259Z"
   },
   {
    "duration": 22,
    "start_time": "2022-08-10T16:16:32.468Z"
   },
   {
    "duration": 5,
    "start_time": "2022-08-10T16:16:32.499Z"
   },
   {
    "duration": 148,
    "start_time": "2022-08-10T16:16:32.507Z"
   },
   {
    "duration": 4,
    "start_time": "2022-08-10T16:16:32.656Z"
   },
   {
    "duration": 9,
    "start_time": "2022-08-10T16:16:32.661Z"
   },
   {
    "duration": 155,
    "start_time": "2022-08-10T16:16:32.671Z"
   },
   {
    "duration": 282,
    "start_time": "2022-08-10T16:16:32.827Z"
   },
   {
    "duration": 350,
    "start_time": "2022-08-10T16:16:33.111Z"
   },
   {
    "duration": 274,
    "start_time": "2022-08-10T16:16:33.462Z"
   },
   {
    "duration": 268,
    "start_time": "2022-08-10T16:16:33.737Z"
   },
   {
    "duration": 331,
    "start_time": "2022-08-10T16:16:34.006Z"
   },
   {
    "duration": 305,
    "start_time": "2022-08-10T16:16:34.338Z"
   },
   {
    "duration": 191,
    "start_time": "2022-08-10T16:16:34.645Z"
   },
   {
    "duration": 5,
    "start_time": "2022-08-10T16:16:34.837Z"
   },
   {
    "duration": 15,
    "start_time": "2022-08-10T16:16:34.843Z"
   },
   {
    "duration": 18,
    "start_time": "2022-08-10T16:16:34.860Z"
   },
   {
    "duration": 30,
    "start_time": "2022-08-10T16:16:34.880Z"
   },
   {
    "duration": 16,
    "start_time": "2022-08-10T16:16:34.912Z"
   },
   {
    "duration": 15,
    "start_time": "2022-08-10T16:16:34.929Z"
   },
   {
    "duration": 15,
    "start_time": "2022-08-10T16:16:34.946Z"
   },
   {
    "duration": 44,
    "start_time": "2022-08-10T16:16:34.963Z"
   },
   {
    "duration": 14,
    "start_time": "2022-08-10T16:16:35.009Z"
   },
   {
    "duration": 23,
    "start_time": "2022-08-10T16:16:35.025Z"
   },
   {
    "duration": 16,
    "start_time": "2022-08-10T16:16:35.050Z"
   },
   {
    "duration": 21,
    "start_time": "2022-08-10T16:16:35.068Z"
   },
   {
    "duration": 13,
    "start_time": "2022-08-10T16:16:35.091Z"
   },
   {
    "duration": 13,
    "start_time": "2022-08-10T16:16:35.105Z"
   },
   {
    "duration": 25,
    "start_time": "2022-08-10T16:16:35.119Z"
   },
   {
    "duration": 7,
    "start_time": "2022-08-10T16:16:35.146Z"
   },
   {
    "duration": 12,
    "start_time": "2022-08-10T16:16:35.155Z"
   },
   {
    "duration": 17,
    "start_time": "2022-08-10T16:16:35.169Z"
   }
  ],
  "kernelspec": {
   "display_name": "Python 3 (ipykernel)",
   "language": "python",
   "name": "python3"
  },
  "language_info": {
   "codemirror_mode": {
    "name": "ipython",
    "version": 3
   },
   "file_extension": ".py",
   "mimetype": "text/x-python",
   "name": "python",
   "nbconvert_exporter": "python",
   "pygments_lexer": "ipython3",
   "version": "3.9.5"
  },
  "toc": {
   "base_numbering": 1,
   "nav_menu": {
    "height": "234px",
    "width": "462px"
   },
   "number_sections": true,
   "sideBar": true,
   "skip_h1_title": true,
   "title_cell": "Содержание",
   "title_sidebar": "Contents",
   "toc_cell": true,
   "toc_position": {
    "height": "calc(100% - 180px)",
    "left": "10px",
    "top": "150px",
    "width": "277px"
   },
   "toc_section_display": true,
   "toc_window_display": false
  }
 },
 "nbformat": 4,
 "nbformat_minor": 2
}

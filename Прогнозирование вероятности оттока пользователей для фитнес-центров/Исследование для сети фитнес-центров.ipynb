{
 "cells": [
  {
   "cell_type": "markdown",
   "metadata": {
    "toc": true
   },
   "source": [
    "<h1>Содержание<span class=\"tocSkip\"></span></h1>\n",
    "<div class=\"toc\"><ul class=\"toc-item\"><li><span><a href=\"#Загрузим-данные\" data-toc-modified-id=\"Загрузим-данные-1\"><span class=\"toc-item-num\">1&nbsp;&nbsp;</span>Загрузим данные</a></span></li><li><span><a href=\"#Проведем-исследовательский-анализ-данных-(EDA)\" data-toc-modified-id=\"Проведем-исследовательский-анализ-данных-(EDA)-2\"><span class=\"toc-item-num\">2&nbsp;&nbsp;</span>Проведем исследовательский анализ данных (EDA)</a></span><ul class=\"toc-item\"><li><span><a href=\"#Подготовим-данные\" data-toc-modified-id=\"Подготовим-данные-2.1\"><span class=\"toc-item-num\">2.1&nbsp;&nbsp;</span>Подготовим данные</a></span></li><li><span><a href=\"#Изучим-средние-значения-и-стандартные-отклонения\" data-toc-modified-id=\"Изучим-средние-значения-и-стандартные-отклонения-2.2\"><span class=\"toc-item-num\">2.2&nbsp;&nbsp;</span>Изучим средние значения и стандартные отклонения</a></span></li><li><span><a href=\"#Посмотрим-на-средние-значения-признаков-в-двух-группах-—-тех,-кто-ушел-и-тех,-кто-остался\" data-toc-modified-id=\"Посмотрим-на-средние-значения-признаков-в-двух-группах-—-тех,-кто-ушел-и-тех,-кто-остался-2.3\"><span class=\"toc-item-num\">2.3&nbsp;&nbsp;</span>Посмотрим на средние значения признаков в двух группах — тех, кто ушел и тех, кто остался</a></span></li><li><span><a href=\"#Построим-столбчатые-гистограммы-и-распределения-признаков-для-тех,-кто-ушёл-и-тех,-кто-остался\" data-toc-modified-id=\"Построим-столбчатые-гистограммы-и-распределения-признаков-для-тех,-кто-ушёл-и-тех,-кто-остался-2.4\"><span class=\"toc-item-num\">2.4&nbsp;&nbsp;</span>Построим столбчатые гистограммы и распределения признаков для тех, кто ушёл и тех, кто остался</a></span></li><li><span><a href=\"#Построим-матрицу-корреляций-и-отобразим-ее\" data-toc-modified-id=\"Построим-матрицу-корреляций-и-отобразим-ее-2.5\"><span class=\"toc-item-num\">2.5&nbsp;&nbsp;</span>Построим матрицу корреляций и отобразим ее</a></span></li></ul></li><li><span><a href=\"#Построим-бинарную-модель-прогнозирования-оттока-клиентов\" data-toc-modified-id=\"Построим-бинарную-модель-прогнозирования-оттока-клиентов-3\"><span class=\"toc-item-num\">3&nbsp;&nbsp;</span>Построим бинарную модель прогнозирования оттока клиентов</a></span></li><li><span><a href=\"#Сделаем-кластеризацию-клиентов\" data-toc-modified-id=\"Сделаем-кластеризацию-клиентов-4\"><span class=\"toc-item-num\">4&nbsp;&nbsp;</span>Сделаем кластеризацию клиентов</a></span><ul class=\"toc-item\"><li><span><a href=\"#Стандартизируем-данные\" data-toc-modified-id=\"Стандартизируем-данные-4.1\"><span class=\"toc-item-num\">4.1&nbsp;&nbsp;</span>Стандартизируем данные</a></span></li><li><span><a href=\"#Построим-матрицу-расстояний-функцией-и--нарисуем-дендрограмму\" data-toc-modified-id=\"Построим-матрицу-расстояний-функцией-и--нарисуем-дендрограмму-4.2\"><span class=\"toc-item-num\">4.2&nbsp;&nbsp;</span>Построим матрицу расстояний функцией и  нарисуем дендрограмму</a></span></li><li><span><a href=\"#Обучим-модель-кластеризации--и-спрогнозируем-кластеры-клиентов\" data-toc-modified-id=\"Обучим-модель-кластеризации--и-спрогнозируем-кластеры-клиентов-4.3\"><span class=\"toc-item-num\">4.3&nbsp;&nbsp;</span>Обучим модель кластеризации  и спрогнозируем кластеры клиентов</a></span></li><li><span><a href=\"#Посмотрим-на-средние-значения-признаков-для-кластеров\" data-toc-modified-id=\"Посмотрим-на-средние-значения-признаков-для-кластеров-4.4\"><span class=\"toc-item-num\">4.4&nbsp;&nbsp;</span>Посмотрим на средние значения признаков для кластеров</a></span></li><li><span><a href=\"#Построим-распределения-признаков-для-кластеров\" data-toc-modified-id=\"Построим-распределения-признаков-для-кластеров-4.5\"><span class=\"toc-item-num\">4.5&nbsp;&nbsp;</span>Построим распределения признаков для кластеров</a></span></li><li><span><a href=\"#Для-каждого-полученного-кластера-посчитаем-долю-оттока\" data-toc-modified-id=\"Для-каждого-полученного-кластера-посчитаем-долю-оттока-4.6\"><span class=\"toc-item-num\">4.6&nbsp;&nbsp;</span>Для каждого полученного кластера посчитаем долю оттока</a></span></li></ul></li><li><span><a href=\"#Выводы-и--рекомендации-по-работе-с-клиентами\" data-toc-modified-id=\"Выводы-и--рекомендации-по-работе-с-клиентами-5\"><span class=\"toc-item-num\">5&nbsp;&nbsp;</span>Выводы и  рекомендации по работе с клиентами</a></span></li></ul></div>"
   ]
  },
  {
   "cell_type": "markdown",
   "metadata": {},
   "source": [
    " "
   ]
  },
  {
   "cell_type": "markdown",
   "metadata": {},
   "source": [
    "##  Загрузим данные\n"
   ]
  },
  {
   "cell_type": "code",
   "execution_count": 101,
   "metadata": {},
   "outputs": [],
   "source": [
    "#сразу открываем нужные библиотеки\n",
    "from __future__ import division, print_function\n",
    "import pandas as pd\n",
    "import seaborn as sns\n",
    "from matplotlib import pyplot as plt\n",
    "import plotly.graph_objs as go\n",
    "import numpy as np\n",
    "\n",
    "import warnings\n",
    "warnings.filterwarnings(\"ignore\")\n",
    "\n",
    "from sklearn.preprocessing import StandardScaler\n",
    "from sklearn.model_selection import train_test_split\n",
    "from sklearn.linear_model import LogisticRegression\n",
    "from sklearn.ensemble import RandomForestRegressor\n",
    "from sklearn.ensemble import RandomForestClassifier, GradientBoostingClassifier\n",
    "from sklearn.metrics import accuracy_score, precision_score, recall_score, f1_score\n",
    "from scipy.cluster.hierarchy import dendrogram, linkage \n",
    "from sklearn.cluster import KMeans\n"
   ]
  },
  {
   "cell_type": "code",
   "execution_count": 102,
   "metadata": {
    "scrolled": true
   },
   "outputs": [
    {
     "data": {
      "text/html": [
       "<div>\n",
       "<style scoped>\n",
       "    .dataframe tbody tr th:only-of-type {\n",
       "        vertical-align: middle;\n",
       "    }\n",
       "\n",
       "    .dataframe tbody tr th {\n",
       "        vertical-align: top;\n",
       "    }\n",
       "\n",
       "    .dataframe thead th {\n",
       "        text-align: right;\n",
       "    }\n",
       "</style>\n",
       "<table border=\"1\" class=\"dataframe\">\n",
       "  <thead>\n",
       "    <tr style=\"text-align: right;\">\n",
       "      <th></th>\n",
       "      <th>gender</th>\n",
       "      <th>Near_Location</th>\n",
       "      <th>Partner</th>\n",
       "      <th>Promo_friends</th>\n",
       "      <th>Phone</th>\n",
       "      <th>Contract_period</th>\n",
       "      <th>Group_visits</th>\n",
       "      <th>Age</th>\n",
       "      <th>Avg_additional_charges_total</th>\n",
       "      <th>Month_to_end_contract</th>\n",
       "      <th>Lifetime</th>\n",
       "      <th>Avg_class_frequency_total</th>\n",
       "      <th>Avg_class_frequency_current_month</th>\n",
       "      <th>Churn</th>\n",
       "    </tr>\n",
       "  </thead>\n",
       "  <tbody>\n",
       "    <tr>\n",
       "      <th>0</th>\n",
       "      <td>1</td>\n",
       "      <td>1</td>\n",
       "      <td>1</td>\n",
       "      <td>1</td>\n",
       "      <td>0</td>\n",
       "      <td>6</td>\n",
       "      <td>1</td>\n",
       "      <td>29</td>\n",
       "      <td>14.227470</td>\n",
       "      <td>5.0</td>\n",
       "      <td>3</td>\n",
       "      <td>0.020398</td>\n",
       "      <td>0.000000</td>\n",
       "      <td>0</td>\n",
       "    </tr>\n",
       "    <tr>\n",
       "      <th>1</th>\n",
       "      <td>0</td>\n",
       "      <td>1</td>\n",
       "      <td>0</td>\n",
       "      <td>0</td>\n",
       "      <td>1</td>\n",
       "      <td>12</td>\n",
       "      <td>1</td>\n",
       "      <td>31</td>\n",
       "      <td>113.202938</td>\n",
       "      <td>12.0</td>\n",
       "      <td>7</td>\n",
       "      <td>1.922936</td>\n",
       "      <td>1.910244</td>\n",
       "      <td>0</td>\n",
       "    </tr>\n",
       "    <tr>\n",
       "      <th>2</th>\n",
       "      <td>0</td>\n",
       "      <td>1</td>\n",
       "      <td>1</td>\n",
       "      <td>0</td>\n",
       "      <td>1</td>\n",
       "      <td>1</td>\n",
       "      <td>0</td>\n",
       "      <td>28</td>\n",
       "      <td>129.448479</td>\n",
       "      <td>1.0</td>\n",
       "      <td>2</td>\n",
       "      <td>1.859098</td>\n",
       "      <td>1.736502</td>\n",
       "      <td>0</td>\n",
       "    </tr>\n",
       "    <tr>\n",
       "      <th>3</th>\n",
       "      <td>0</td>\n",
       "      <td>1</td>\n",
       "      <td>1</td>\n",
       "      <td>1</td>\n",
       "      <td>1</td>\n",
       "      <td>12</td>\n",
       "      <td>1</td>\n",
       "      <td>33</td>\n",
       "      <td>62.669863</td>\n",
       "      <td>12.0</td>\n",
       "      <td>2</td>\n",
       "      <td>3.205633</td>\n",
       "      <td>3.357215</td>\n",
       "      <td>0</td>\n",
       "    </tr>\n",
       "    <tr>\n",
       "      <th>4</th>\n",
       "      <td>1</td>\n",
       "      <td>1</td>\n",
       "      <td>1</td>\n",
       "      <td>1</td>\n",
       "      <td>1</td>\n",
       "      <td>1</td>\n",
       "      <td>0</td>\n",
       "      <td>26</td>\n",
       "      <td>198.362265</td>\n",
       "      <td>1.0</td>\n",
       "      <td>3</td>\n",
       "      <td>1.113884</td>\n",
       "      <td>1.120078</td>\n",
       "      <td>0</td>\n",
       "    </tr>\n",
       "    <tr>\n",
       "      <th>5</th>\n",
       "      <td>1</td>\n",
       "      <td>1</td>\n",
       "      <td>0</td>\n",
       "      <td>0</td>\n",
       "      <td>1</td>\n",
       "      <td>1</td>\n",
       "      <td>1</td>\n",
       "      <td>34</td>\n",
       "      <td>450.743960</td>\n",
       "      <td>1.0</td>\n",
       "      <td>3</td>\n",
       "      <td>2.623477</td>\n",
       "      <td>2.637007</td>\n",
       "      <td>0</td>\n",
       "    </tr>\n",
       "    <tr>\n",
       "      <th>6</th>\n",
       "      <td>1</td>\n",
       "      <td>1</td>\n",
       "      <td>1</td>\n",
       "      <td>1</td>\n",
       "      <td>0</td>\n",
       "      <td>6</td>\n",
       "      <td>1</td>\n",
       "      <td>32</td>\n",
       "      <td>94.266389</td>\n",
       "      <td>6.0</td>\n",
       "      <td>2</td>\n",
       "      <td>1.138941</td>\n",
       "      <td>1.277242</td>\n",
       "      <td>0</td>\n",
       "    </tr>\n",
       "    <tr>\n",
       "      <th>7</th>\n",
       "      <td>0</td>\n",
       "      <td>1</td>\n",
       "      <td>0</td>\n",
       "      <td>0</td>\n",
       "      <td>1</td>\n",
       "      <td>1</td>\n",
       "      <td>0</td>\n",
       "      <td>30</td>\n",
       "      <td>217.786641</td>\n",
       "      <td>1.0</td>\n",
       "      <td>0</td>\n",
       "      <td>1.213502</td>\n",
       "      <td>1.049387</td>\n",
       "      <td>1</td>\n",
       "    </tr>\n",
       "    <tr>\n",
       "      <th>8</th>\n",
       "      <td>1</td>\n",
       "      <td>1</td>\n",
       "      <td>1</td>\n",
       "      <td>1</td>\n",
       "      <td>1</td>\n",
       "      <td>1</td>\n",
       "      <td>1</td>\n",
       "      <td>23</td>\n",
       "      <td>45.409909</td>\n",
       "      <td>1.0</td>\n",
       "      <td>1</td>\n",
       "      <td>1.106239</td>\n",
       "      <td>1.059333</td>\n",
       "      <td>0</td>\n",
       "    </tr>\n",
       "    <tr>\n",
       "      <th>9</th>\n",
       "      <td>0</td>\n",
       "      <td>1</td>\n",
       "      <td>0</td>\n",
       "      <td>0</td>\n",
       "      <td>1</td>\n",
       "      <td>1</td>\n",
       "      <td>0</td>\n",
       "      <td>31</td>\n",
       "      <td>65.310836</td>\n",
       "      <td>1.0</td>\n",
       "      <td>11</td>\n",
       "      <td>1.810852</td>\n",
       "      <td>1.951368</td>\n",
       "      <td>0</td>\n",
       "    </tr>\n",
       "  </tbody>\n",
       "</table>\n",
       "</div>"
      ],
      "text/plain": [
       "   gender  Near_Location  Partner  Promo_friends  Phone  Contract_period  \\\n",
       "0       1              1        1              1      0                6   \n",
       "1       0              1        0              0      1               12   \n",
       "2       0              1        1              0      1                1   \n",
       "3       0              1        1              1      1               12   \n",
       "4       1              1        1              1      1                1   \n",
       "5       1              1        0              0      1                1   \n",
       "6       1              1        1              1      0                6   \n",
       "7       0              1        0              0      1                1   \n",
       "8       1              1        1              1      1                1   \n",
       "9       0              1        0              0      1                1   \n",
       "\n",
       "   Group_visits  Age  Avg_additional_charges_total  Month_to_end_contract  \\\n",
       "0             1   29                     14.227470                    5.0   \n",
       "1             1   31                    113.202938                   12.0   \n",
       "2             0   28                    129.448479                    1.0   \n",
       "3             1   33                     62.669863                   12.0   \n",
       "4             0   26                    198.362265                    1.0   \n",
       "5             1   34                    450.743960                    1.0   \n",
       "6             1   32                     94.266389                    6.0   \n",
       "7             0   30                    217.786641                    1.0   \n",
       "8             1   23                     45.409909                    1.0   \n",
       "9             0   31                     65.310836                    1.0   \n",
       "\n",
       "   Lifetime  Avg_class_frequency_total  Avg_class_frequency_current_month  \\\n",
       "0         3                   0.020398                           0.000000   \n",
       "1         7                   1.922936                           1.910244   \n",
       "2         2                   1.859098                           1.736502   \n",
       "3         2                   3.205633                           3.357215   \n",
       "4         3                   1.113884                           1.120078   \n",
       "5         3                   2.623477                           2.637007   \n",
       "6         2                   1.138941                           1.277242   \n",
       "7         0                   1.213502                           1.049387   \n",
       "8         1                   1.106239                           1.059333   \n",
       "9        11                   1.810852                           1.951368   \n",
       "\n",
       "   Churn  \n",
       "0      0  \n",
       "1      0  \n",
       "2      0  \n",
       "3      0  \n",
       "4      0  \n",
       "5      0  \n",
       "6      0  \n",
       "7      1  \n",
       "8      0  \n",
       "9      0  "
      ]
     },
     "execution_count": 102,
     "metadata": {},
     "output_type": "execute_result"
    }
   ],
   "source": [
    "# посмотрим на данные\n",
    "gym = pd.read_csv('/datasets/gym_churn.csv',sep=',')\n",
    "gym.head(10)"
   ]
  },
  {
   "cell_type": "markdown",
   "metadata": {},
   "source": [
    "## Проведем исследовательский анализ данных (EDA)"
   ]
  },
  {
   "cell_type": "markdown",
   "metadata": {},
   "source": [
    "### Подготовим данные "
   ]
  },
  {
   "cell_type": "code",
   "execution_count": 103,
   "metadata": {
    "scrolled": true
   },
   "outputs": [
    {
     "data": {
      "text/plain": [
       "(4000, 14)"
      ]
     },
     "execution_count": 103,
     "metadata": {},
     "output_type": "execute_result"
    }
   ],
   "source": [
    "gym.shape"
   ]
  },
  {
   "cell_type": "markdown",
   "metadata": {},
   "source": [
    "У нас 4000 наблюдений и 14 признаков"
   ]
  },
  {
   "cell_type": "code",
   "execution_count": 104,
   "metadata": {},
   "outputs": [
    {
     "name": "stdout",
     "output_type": "stream",
     "text": [
      "<class 'pandas.core.frame.DataFrame'>\n",
      "RangeIndex: 4000 entries, 0 to 3999\n",
      "Data columns (total 14 columns):\n",
      " #   Column                             Non-Null Count  Dtype  \n",
      "---  ------                             --------------  -----  \n",
      " 0   gender                             4000 non-null   int64  \n",
      " 1   Near_Location                      4000 non-null   int64  \n",
      " 2   Partner                            4000 non-null   int64  \n",
      " 3   Promo_friends                      4000 non-null   int64  \n",
      " 4   Phone                              4000 non-null   int64  \n",
      " 5   Contract_period                    4000 non-null   int64  \n",
      " 6   Group_visits                       4000 non-null   int64  \n",
      " 7   Age                                4000 non-null   int64  \n",
      " 8   Avg_additional_charges_total       4000 non-null   float64\n",
      " 9   Month_to_end_contract              4000 non-null   float64\n",
      " 10  Lifetime                           4000 non-null   int64  \n",
      " 11  Avg_class_frequency_total          4000 non-null   float64\n",
      " 12  Avg_class_frequency_current_month  4000 non-null   float64\n",
      " 13  Churn                              4000 non-null   int64  \n",
      "dtypes: float64(4), int64(10)\n",
      "memory usage: 437.6 KB\n"
     ]
    }
   ],
   "source": [
    "gym.info()"
   ]
  },
  {
   "cell_type": "markdown",
   "metadata": {},
   "source": [
    "У нас нет пропусков и нет категориальных признаков\n"
   ]
  },
  {
   "cell_type": "code",
   "execution_count": 105,
   "metadata": {},
   "outputs": [],
   "source": [
    "# приведем к нижнему регистру названия столбцов\n",
    "gym.columns = [i.lower() for i in gym]"
   ]
  },
  {
   "cell_type": "markdown",
   "metadata": {},
   "source": [
    "**Вывод:**\n",
    "\n",
    "\n",
    "Размер датасета 4000 наблюдений и 14 признаков\n",
    "\n",
    "Пропуски отсутствуют\n",
    "\n",
    "Дубликатов нет\n",
    "\n",
    "Все заголовки колонок приведены к нижнему регистру"
   ]
  },
  {
   "cell_type": "markdown",
   "metadata": {},
   "source": [
    "### Изучим средние значения и стандартные отклонения "
   ]
  },
  {
   "cell_type": "code",
   "execution_count": 106,
   "metadata": {
    "scrolled": true
   },
   "outputs": [
    {
     "data": {
      "text/html": [
       "<div>\n",
       "<style scoped>\n",
       "    .dataframe tbody tr th:only-of-type {\n",
       "        vertical-align: middle;\n",
       "    }\n",
       "\n",
       "    .dataframe tbody tr th {\n",
       "        vertical-align: top;\n",
       "    }\n",
       "\n",
       "    .dataframe thead th {\n",
       "        text-align: right;\n",
       "    }\n",
       "</style>\n",
       "<table border=\"1\" class=\"dataframe\">\n",
       "  <thead>\n",
       "    <tr style=\"text-align: right;\">\n",
       "      <th></th>\n",
       "      <th>gender</th>\n",
       "      <th>near_location</th>\n",
       "      <th>partner</th>\n",
       "      <th>promo_friends</th>\n",
       "      <th>phone</th>\n",
       "      <th>contract_period</th>\n",
       "      <th>group_visits</th>\n",
       "      <th>age</th>\n",
       "      <th>avg_additional_charges_total</th>\n",
       "      <th>month_to_end_contract</th>\n",
       "      <th>lifetime</th>\n",
       "      <th>avg_class_frequency_total</th>\n",
       "      <th>avg_class_frequency_current_month</th>\n",
       "      <th>churn</th>\n",
       "    </tr>\n",
       "  </thead>\n",
       "  <tbody>\n",
       "    <tr>\n",
       "      <th>count</th>\n",
       "      <td>4000.000000</td>\n",
       "      <td>4000.000000</td>\n",
       "      <td>4000.000000</td>\n",
       "      <td>4000.000000</td>\n",
       "      <td>4000.000000</td>\n",
       "      <td>4000.000000</td>\n",
       "      <td>4000.000000</td>\n",
       "      <td>4000.000000</td>\n",
       "      <td>4000.000000</td>\n",
       "      <td>4000.000000</td>\n",
       "      <td>4000.000000</td>\n",
       "      <td>4000.000000</td>\n",
       "      <td>4000.000000</td>\n",
       "      <td>4000.000000</td>\n",
       "    </tr>\n",
       "    <tr>\n",
       "      <th>mean</th>\n",
       "      <td>0.510250</td>\n",
       "      <td>0.845250</td>\n",
       "      <td>0.486750</td>\n",
       "      <td>0.308500</td>\n",
       "      <td>0.903500</td>\n",
       "      <td>4.681250</td>\n",
       "      <td>0.412250</td>\n",
       "      <td>29.184250</td>\n",
       "      <td>146.943728</td>\n",
       "      <td>4.322750</td>\n",
       "      <td>3.724750</td>\n",
       "      <td>1.879020</td>\n",
       "      <td>1.767052</td>\n",
       "      <td>0.265250</td>\n",
       "    </tr>\n",
       "    <tr>\n",
       "      <th>std</th>\n",
       "      <td>0.499957</td>\n",
       "      <td>0.361711</td>\n",
       "      <td>0.499887</td>\n",
       "      <td>0.461932</td>\n",
       "      <td>0.295313</td>\n",
       "      <td>4.549706</td>\n",
       "      <td>0.492301</td>\n",
       "      <td>3.258367</td>\n",
       "      <td>96.355602</td>\n",
       "      <td>4.191297</td>\n",
       "      <td>3.749267</td>\n",
       "      <td>0.972245</td>\n",
       "      <td>1.052906</td>\n",
       "      <td>0.441521</td>\n",
       "    </tr>\n",
       "    <tr>\n",
       "      <th>min</th>\n",
       "      <td>0.000000</td>\n",
       "      <td>0.000000</td>\n",
       "      <td>0.000000</td>\n",
       "      <td>0.000000</td>\n",
       "      <td>0.000000</td>\n",
       "      <td>1.000000</td>\n",
       "      <td>0.000000</td>\n",
       "      <td>18.000000</td>\n",
       "      <td>0.148205</td>\n",
       "      <td>1.000000</td>\n",
       "      <td>0.000000</td>\n",
       "      <td>0.000000</td>\n",
       "      <td>0.000000</td>\n",
       "      <td>0.000000</td>\n",
       "    </tr>\n",
       "    <tr>\n",
       "      <th>25%</th>\n",
       "      <td>0.000000</td>\n",
       "      <td>1.000000</td>\n",
       "      <td>0.000000</td>\n",
       "      <td>0.000000</td>\n",
       "      <td>1.000000</td>\n",
       "      <td>1.000000</td>\n",
       "      <td>0.000000</td>\n",
       "      <td>27.000000</td>\n",
       "      <td>68.868830</td>\n",
       "      <td>1.000000</td>\n",
       "      <td>1.000000</td>\n",
       "      <td>1.180875</td>\n",
       "      <td>0.963003</td>\n",
       "      <td>0.000000</td>\n",
       "    </tr>\n",
       "    <tr>\n",
       "      <th>50%</th>\n",
       "      <td>1.000000</td>\n",
       "      <td>1.000000</td>\n",
       "      <td>0.000000</td>\n",
       "      <td>0.000000</td>\n",
       "      <td>1.000000</td>\n",
       "      <td>1.000000</td>\n",
       "      <td>0.000000</td>\n",
       "      <td>29.000000</td>\n",
       "      <td>136.220159</td>\n",
       "      <td>1.000000</td>\n",
       "      <td>3.000000</td>\n",
       "      <td>1.832768</td>\n",
       "      <td>1.719574</td>\n",
       "      <td>0.000000</td>\n",
       "    </tr>\n",
       "    <tr>\n",
       "      <th>75%</th>\n",
       "      <td>1.000000</td>\n",
       "      <td>1.000000</td>\n",
       "      <td>1.000000</td>\n",
       "      <td>1.000000</td>\n",
       "      <td>1.000000</td>\n",
       "      <td>6.000000</td>\n",
       "      <td>1.000000</td>\n",
       "      <td>31.000000</td>\n",
       "      <td>210.949625</td>\n",
       "      <td>6.000000</td>\n",
       "      <td>5.000000</td>\n",
       "      <td>2.536078</td>\n",
       "      <td>2.510336</td>\n",
       "      <td>1.000000</td>\n",
       "    </tr>\n",
       "    <tr>\n",
       "      <th>max</th>\n",
       "      <td>1.000000</td>\n",
       "      <td>1.000000</td>\n",
       "      <td>1.000000</td>\n",
       "      <td>1.000000</td>\n",
       "      <td>1.000000</td>\n",
       "      <td>12.000000</td>\n",
       "      <td>1.000000</td>\n",
       "      <td>41.000000</td>\n",
       "      <td>552.590740</td>\n",
       "      <td>12.000000</td>\n",
       "      <td>31.000000</td>\n",
       "      <td>6.023668</td>\n",
       "      <td>6.146783</td>\n",
       "      <td>1.000000</td>\n",
       "    </tr>\n",
       "  </tbody>\n",
       "</table>\n",
       "</div>"
      ],
      "text/plain": [
       "            gender  near_location      partner  promo_friends        phone  \\\n",
       "count  4000.000000    4000.000000  4000.000000    4000.000000  4000.000000   \n",
       "mean      0.510250       0.845250     0.486750       0.308500     0.903500   \n",
       "std       0.499957       0.361711     0.499887       0.461932     0.295313   \n",
       "min       0.000000       0.000000     0.000000       0.000000     0.000000   \n",
       "25%       0.000000       1.000000     0.000000       0.000000     1.000000   \n",
       "50%       1.000000       1.000000     0.000000       0.000000     1.000000   \n",
       "75%       1.000000       1.000000     1.000000       1.000000     1.000000   \n",
       "max       1.000000       1.000000     1.000000       1.000000     1.000000   \n",
       "\n",
       "       contract_period  group_visits          age  \\\n",
       "count      4000.000000   4000.000000  4000.000000   \n",
       "mean          4.681250      0.412250    29.184250   \n",
       "std           4.549706      0.492301     3.258367   \n",
       "min           1.000000      0.000000    18.000000   \n",
       "25%           1.000000      0.000000    27.000000   \n",
       "50%           1.000000      0.000000    29.000000   \n",
       "75%           6.000000      1.000000    31.000000   \n",
       "max          12.000000      1.000000    41.000000   \n",
       "\n",
       "       avg_additional_charges_total  month_to_end_contract     lifetime  \\\n",
       "count                   4000.000000            4000.000000  4000.000000   \n",
       "mean                     146.943728               4.322750     3.724750   \n",
       "std                       96.355602               4.191297     3.749267   \n",
       "min                        0.148205               1.000000     0.000000   \n",
       "25%                       68.868830               1.000000     1.000000   \n",
       "50%                      136.220159               1.000000     3.000000   \n",
       "75%                      210.949625               6.000000     5.000000   \n",
       "max                      552.590740              12.000000    31.000000   \n",
       "\n",
       "       avg_class_frequency_total  avg_class_frequency_current_month  \\\n",
       "count                4000.000000                        4000.000000   \n",
       "mean                    1.879020                           1.767052   \n",
       "std                     0.972245                           1.052906   \n",
       "min                     0.000000                           0.000000   \n",
       "25%                     1.180875                           0.963003   \n",
       "50%                     1.832768                           1.719574   \n",
       "75%                     2.536078                           2.510336   \n",
       "max                     6.023668                           6.146783   \n",
       "\n",
       "             churn  \n",
       "count  4000.000000  \n",
       "mean      0.265250  \n",
       "std       0.441521  \n",
       "min       0.000000  \n",
       "25%       0.000000  \n",
       "50%       0.000000  \n",
       "75%       1.000000  \n",
       "max       1.000000  "
      ]
     },
     "execution_count": 106,
     "metadata": {},
     "output_type": "execute_result"
    }
   ],
   "source": [
    "gym.describe()"
   ]
  },
  {
   "cell_type": "markdown",
   "metadata": {},
   "source": [
    "Данные равномерные, стандартные отклонения не очень далеко от средних, не похоже, что есть выбросы."
   ]
  },
  {
   "cell_type": "markdown",
   "metadata": {},
   "source": [
    "**Вывод:**\n",
    "\n",
    "- Распределение по полу примерно одинаковое\n",
    "- Большинство клиентов (85%) проживает или работает в районе, где находится фитнес-центр\n",
    "- Примерно 50% клиентов работает в компании-партнёра клуба\n",
    "- 30% клиентов первоначально пришли в рамках акции «приведи друга»\n",
    "- 90% клиентов указали свой контактный номер телефона\n",
    "- Средняя общая длительность абонементов клиентов - 4.8 месяцев\n",
    "- Около 40% клиентов посещают групповые занятия\n",
    "- Средний возраст клиентов 29 лет\n",
    "- Средняя выручка от стороних услуг 147 у.е.\n",
    "- Среднее время до окончания договора - 4.3 месяцев\n",
    "- Среднее время с момента первого обращения в фитнес-центр - 3.7 месяцев\n",
    "- В среднем клиенты посещат фитнес-центр  - 1.87 раз в неделю\n",
    "- В среднем клиенты посещат фитнес-центр за последний месяц - 1.76 раз в неделю\n",
    "- Доля оттока в текущем месяце - 26.5%"
   ]
  },
  {
   "cell_type": "markdown",
   "metadata": {},
   "source": [
    "### Посмотрим на средние значения признаков в двух группах — тех, кто ушел и тех, кто остался"
   ]
  },
  {
   "cell_type": "code",
   "execution_count": 107,
   "metadata": {
    "scrolled": false
   },
   "outputs": [
    {
     "data": {
      "text/html": [
       "<div>\n",
       "<style scoped>\n",
       "    .dataframe tbody tr th:only-of-type {\n",
       "        vertical-align: middle;\n",
       "    }\n",
       "\n",
       "    .dataframe tbody tr th {\n",
       "        vertical-align: top;\n",
       "    }\n",
       "\n",
       "    .dataframe thead th {\n",
       "        text-align: right;\n",
       "    }\n",
       "</style>\n",
       "<table border=\"1\" class=\"dataframe\">\n",
       "  <thead>\n",
       "    <tr style=\"text-align: right;\">\n",
       "      <th>churn</th>\n",
       "      <th>0</th>\n",
       "      <th>1</th>\n",
       "    </tr>\n",
       "  </thead>\n",
       "  <tbody>\n",
       "    <tr>\n",
       "      <th>gender</th>\n",
       "      <td>0.510037</td>\n",
       "      <td>0.510839</td>\n",
       "    </tr>\n",
       "    <tr>\n",
       "      <th>near_location</th>\n",
       "      <td>0.873086</td>\n",
       "      <td>0.768143</td>\n",
       "    </tr>\n",
       "    <tr>\n",
       "      <th>partner</th>\n",
       "      <td>0.534195</td>\n",
       "      <td>0.355325</td>\n",
       "    </tr>\n",
       "    <tr>\n",
       "      <th>promo_friends</th>\n",
       "      <td>0.353522</td>\n",
       "      <td>0.183789</td>\n",
       "    </tr>\n",
       "    <tr>\n",
       "      <th>phone</th>\n",
       "      <td>0.903709</td>\n",
       "      <td>0.902922</td>\n",
       "    </tr>\n",
       "    <tr>\n",
       "      <th>contract_period</th>\n",
       "      <td>5.747193</td>\n",
       "      <td>1.728558</td>\n",
       "    </tr>\n",
       "    <tr>\n",
       "      <th>group_visits</th>\n",
       "      <td>0.464103</td>\n",
       "      <td>0.268615</td>\n",
       "    </tr>\n",
       "    <tr>\n",
       "      <th>age</th>\n",
       "      <td>29.976523</td>\n",
       "      <td>26.989632</td>\n",
       "    </tr>\n",
       "    <tr>\n",
       "      <th>avg_additional_charges_total</th>\n",
       "      <td>158.445715</td>\n",
       "      <td>115.082899</td>\n",
       "    </tr>\n",
       "    <tr>\n",
       "      <th>month_to_end_contract</th>\n",
       "      <td>5.283089</td>\n",
       "      <td>1.662582</td>\n",
       "    </tr>\n",
       "    <tr>\n",
       "      <th>lifetime</th>\n",
       "      <td>4.711807</td>\n",
       "      <td>0.990575</td>\n",
       "    </tr>\n",
       "    <tr>\n",
       "      <th>avg_class_frequency_total</th>\n",
       "      <td>2.024876</td>\n",
       "      <td>1.474995</td>\n",
       "    </tr>\n",
       "    <tr>\n",
       "      <th>avg_class_frequency_current_month</th>\n",
       "      <td>2.027882</td>\n",
       "      <td>1.044546</td>\n",
       "    </tr>\n",
       "  </tbody>\n",
       "</table>\n",
       "</div>"
      ],
      "text/plain": [
       "churn                                       0           1\n",
       "gender                               0.510037    0.510839\n",
       "near_location                        0.873086    0.768143\n",
       "partner                              0.534195    0.355325\n",
       "promo_friends                        0.353522    0.183789\n",
       "phone                                0.903709    0.902922\n",
       "contract_period                      5.747193    1.728558\n",
       "group_visits                         0.464103    0.268615\n",
       "age                                 29.976523   26.989632\n",
       "avg_additional_charges_total       158.445715  115.082899\n",
       "month_to_end_contract                5.283089    1.662582\n",
       "lifetime                             4.711807    0.990575\n",
       "avg_class_frequency_total            2.024876    1.474995\n",
       "avg_class_frequency_current_month    2.027882    1.044546"
      ]
     },
     "execution_count": 107,
     "metadata": {},
     "output_type": "execute_result"
    }
   ],
   "source": [
    "gym.groupby('churn').agg('mean').T"
   ]
  },
  {
   "cell_type": "markdown",
   "metadata": {},
   "source": [
    "**Вывод:**\n",
    "\n",
    "- Пол среди ушедших и оставшихся представлен поровну\n",
    "- Оставшихся клиентов живущих рядом с фитнес-центром примерно на 10% больше, чем ушедших (87% vs 76%)\n",
    "- Сотрудники компаний-партнеров почти на 20% чаще остаются в клубе (53% vs 35%)\n",
    "- Среди оставшихся в фитнес-центре 35% пришли по акции \"приведи друга\", а среди ушедшх 18%\n",
    "- Равное количество людей среди ушедсших/оставшихся оставили свой контактный телефон \n",
    "- Оставшиеся клиенты имеют срок контракта в среднем 5.7 месяца, а ушедшие в среднем 1.7 месяца\n",
    "- Оставшиеся клиенты на 20% чаще ходили на групповые занятия в центре (46% vs 27%)\n",
    "- Оставшиеся клиенты в среднем чуть старше, чем ушедшие ( 30 vs 27 лет)\n",
    "- Члены клуба, решившие остаться, в среднем дополнительно приносят 158 у.е., ушедшие - 115 у.е.\n",
    "- Контракт истекает через 1.7 мес. у клиентов попавших в отток и 5.3 мес. у оставшихся\n",
    "- В среднем оставшийся клиент проводит в фитнес-центре 4.7 месяца с момента первого посещения, уходят обычно после 1 месяца\n",
    "- Клиенты, решившие остаться, в среднем за все время в 2 раза чаще ходят в фитнесс-центр, чем решившие уйти (2 vs 1 раз в неделю)\n",
    "- С частотой посещения за последний месяц история похожая: оставшиеся клиенты, в среднем ходят на фитнес в 2 раза чаще, чем ушедшие (2 vs 1 раз в неделю)"
   ]
  },
  {
   "cell_type": "markdown",
   "metadata": {},
   "source": [
    "### Построим столбчатые гистограммы и распределения признаков для тех, кто ушёл и тех, кто остался \n"
   ]
  },
  {
   "cell_type": "code",
   "execution_count": 108,
   "metadata": {
    "scrolled": false
   },
   "outputs": [
    {
     "data": {
      "image/png": "[encoded data removed]",
      "text/plain": [
       "<Figure size 720x720 with 1 Axes>"
      ]
     },
     "metadata": {
      "needs_background": "light"
     },
     "output_type": "display_data"
    },
    {
     "data": {
      "image/png": "[encoded data removed]",
      "text/plain": [
       "<Figure size 720x720 with 1 Axes>"
      ]
     },
     "metadata": {
      "needs_background": "light"
     },
     "output_type": "display_data"
    },
    {
     "data": {
      "image/png": "[encoded data removed]",
      "text/plain": [
       "<Figure size 720x720 with 1 Axes>"
      ]
     },
     "metadata": {
      "needs_background": "light"
     },
     "output_type": "display_data"
    },
    {
     "data": {
      "image/png": "[encoded data removed]",
      "text/plain": [
       "<Figure size 720x720 with 1 Axes>"
      ]
     },
     "metadata": {
      "needs_background": "light"
     },
     "output_type": "display_data"
    },
    {
     "data": {
      "image/png": "[encoded data removed]",
      "text/plain": [
       "<Figure size 720x720 with 1 Axes>"
      ]
     },
     "metadata": {
      "needs_background": "light"
     },
     "output_type": "display_data"
    },
    {
     "data": {
      "image/png": "[encoded data removed]",
      "text/plain": [
       "<Figure size 720x720 with 1 Axes>"
      ]
     },
     "metadata": {
      "needs_background": "light"
     },
     "output_type": "display_data"
    },
    {
     "data": {
      "image/png": "[encoded data removed]",
      "text/plain": [
       "<Figure size 720x720 with 1 Axes>"
      ]
     },
     "metadata": {
      "needs_background": "light"
     },
     "output_type": "display_data"
    },
    {
     "data": {
      "image/png": "[encoded data removed]",
      "text/plain": [
       "<Figure size 720x720 with 1 Axes>"
      ]
     },
     "metadata": {
      "needs_background": "light"
     },
     "output_type": "display_data"
    }
   ],
   "source": [
    "for column in gym.columns:\n",
    "    if len(gym[column].unique()) <= 3:\n",
    "        plt.figure(figsize=(10, 10))\n",
    "        sns.countplot(x = column, data=gym, hue='churn')\n",
    "        plt.title(column, fontsize=10)\n",
    "        plt.legend(fontsize=10)\n",
    "        plt.xticks(fontsize=10)\n",
    "        plt.yticks(fontsize=10)\n",
    "        plt.xlabel(column, fontsize=10)\n",
    "        plt.ylabel('count', fontsize=10)\n",
    "        plt.show"
   ]
  },
  {
   "cell_type": "code",
   "execution_count": 109,
   "metadata": {
    "scrolled": false
   },
   "outputs": [
    {
     "data": {
      "image/png": "[encoded data removed]",
      "text/plain": [
       "<Figure size 720x720 with 1 Axes>"
      ]
     },
     "metadata": {
      "needs_background": "light"
     },
     "output_type": "display_data"
    },
    {
     "data": {
      "image/png": "[encoded data removed]",
      "text/plain": [
       "<Figure size 720x720 with 1 Axes>"
      ]
     },
     "metadata": {
      "needs_background": "light"
     },
     "output_type": "display_data"
    },
    {
     "data": {
      "image/png": "[encoded data removed]",
      "text/plain": [
       "<Figure size 720x720 with 1 Axes>"
      ]
     },
     "metadata": {
      "needs_background": "light"
     },
     "output_type": "display_data"
    },
    {
     "data": {
      "image/png": "[encoded data removed]",
      "text/plain": [
       "<Figure size 720x720 with 1 Axes>"
      ]
     },
     "metadata": {
      "needs_background": "light"
     },
     "output_type": "display_data"
    },
    {
     "data": {
      "image/png": "[encoded data removed]",
      "text/plain": [
       "<Figure size 720x720 with 1 Axes>"
      ]
     },
     "metadata": {
      "needs_background": "light"
     },
     "output_type": "display_data"
    },
    {
     "data": {
      "image/png": "[encoded data removed]",
      "text/plain": [
       "<Figure size 720x720 with 1 Axes>"
      ]
     },
     "metadata": {
      "needs_background": "light"
     },
     "output_type": "display_data"
    }
   ],
   "source": [
    "for column in gym.columns:\n",
    "    if len(gym[column].unique()) > 3:\n",
    "        plt.figure(figsize=(10, 10))\n",
    "        sns.boxplot(x = 'churn', y = column, data=gym)\n",
    "        plt.title(column, fontsize=15)\n",
    "        plt.xticks(fontsize=10)\n",
    "        plt.yticks(fontsize=10)\n",
    "        plt.xlabel('churn', fontsize=10)\n",
    "        plt.ylabel(column, fontsize=10)\n",
    "        plt.show"
   ]
  },
  {
   "cell_type": "code",
   "execution_count": 110,
   "metadata": {},
   "outputs": [
    {
     "data": {
      "image/png": "[encoded data removed]",
      "text/plain": [
       "<Figure size 1008x216 with 2 Axes>"
      ]
     },
     "metadata": {
      "needs_background": "light"
     },
     "output_type": "display_data"
    }
   ],
   "source": [
    "# КОД РЕВЬЮВЕРА\n",
    "for col in ['lifetime']:\n",
    "    fig, ax = plt.subplots(figsize=(14, 3))\n",
    "    viz_data = gym.reset_index()\\\n",
    "                .pivot_table(\n",
    "                    index='churn',\n",
    "                    columns=col,\n",
    "                    values='index',\n",
    "                    aggfunc='count'\n",
    "                    )\n",
    "    sns.heatmap(viz_data, cmap='Oranges', annot=True, fmt='.0f', ax=ax)\n",
    "    ax.set_title(f'Heatmap of {col} by churn')\n",
    "    ax.grid(False)\n",
    "    plt.show();"
   ]
  },
  {
   "cell_type": "markdown",
   "metadata": {},
   "source": [
    "<hr style=\"border: 2px solid orange;\" />"
   ]
  },
  {
   "cell_type": "markdown",
   "metadata": {},
   "source": [
    "### Построим матрицу корреляций и отобразим ее"
   ]
  },
  {
   "cell_type": "code",
   "execution_count": 111,
   "metadata": {
    "scrolled": false
   },
   "outputs": [
    {
     "data": {
      "image/png": "[encoded data removed]",
      "text/plain": [
       "<Figure size 1440x1440 with 2 Axes>"
      ]
     },
     "metadata": {
      "needs_background": "light"
     },
     "output_type": "display_data"
    }
   ],
   "source": [
    "#вычисляем матрицу корреляций\n",
    "cm = gym.corr() \n",
    "fig, ax = plt.subplots(figsize=(20,20))\n",
    "\n",
    "#нарисуем тепловую карту с подписями для матрицы корреляций\n",
    "#sns.set(rc = {'figure.figsize':(20,10)})\n",
    "sns.heatmap(cm, cmap='coolwarm', annot = True, square=True, fmt = '0.2f')\n",
    "\n",
    "plt.show()"
   ]
  },
  {
   "cell_type": "markdown",
   "metadata": {},
   "source": [
    "**Вывод:**\n",
    "\n",
    "- **Мультиколлинеарные признаки (имеют высокую корреляцию):** month_to_end_contract и contract_period, avg_class_frequency_total и avg_class_frequency_current_month \n",
    "\n",
    "\n",
    "- **Имеют нулевую корреляцию:**  gender, phone"
   ]
  },
  {
   "cell_type": "markdown",
   "metadata": {},
   "source": [
    "## Построим бинарную модель прогнозирования оттока клиентов"
   ]
  },
  {
   "cell_type": "markdown",
   "metadata": {},
   "source": [
    "<a class=\"anchor\" id=\"21-bullet\">"
   ]
  },
  {
   "cell_type": "code",
   "execution_count": 112,
   "metadata": {},
   "outputs": [],
   "source": [
    "# сначала данные делим\n",
    "X_train_, X_test_, y_train_, y_test_ = train_test_split(gym.drop('churn', axis=1), gym['churn'], test_size=0.3, random_state=88)"
   ]
  },
  {
   "cell_type": "code",
   "execution_count": 113,
   "metadata": {},
   "outputs": [],
   "source": [
    "# Создаем scaler\n",
    "scaler = StandardScaler()"
   ]
  },
  {
   "cell_type": "markdown",
   "metadata": {},
   "source": [
    "**scaler.fit** - обучение стандартизатора\n",
    "\n",
    "**scaler.fit_transform** - обучение с преобразованием, то есть в результате он вернет преобразованные данные\n",
    "\n",
    "**scaler.transform** - только преобразование\n",
    "\n",
    "Для тренировочной выборки применяется **scaler.fit_transform**, для тестовой только **scaler.transform**"
   ]
  },
  {
   "cell_type": "code",
   "execution_count": 114,
   "metadata": {},
   "outputs": [],
   "source": [
    "X_train_scaled = scaler.fit_transform(X_train_)\n",
    "X_test_scaled = scaler.transform(X_test_)"
   ]
  },
  {
   "cell_type": "code",
   "execution_count": 115,
   "metadata": {},
   "outputs": [],
   "source": [
    "model = LogisticRegression(solver='liblinear', random_state=0) \n",
    "\n",
    "# обучим модель\n",
    "model.fit(X_train_scaled, y_train_)\n",
    "\n",
    "# воспользуемся уже обученной моделью, чтобы сделать прогнозы\n",
    "lr_predictions = model.predict(X_test_scaled)\n",
    "lr_probabilities = model.predict_proba(X_test_scaled)[:,1]"
   ]
  },
  {
   "cell_type": "code",
   "execution_count": 116,
   "metadata": {},
   "outputs": [],
   "source": [
    "# обучим модель на train-выборке логистической регрессией\n",
    "\n",
    "# зададим алгоритм для нашей модели\n",
    "model = LogisticRegression(solver='liblinear', random_state=0) \n",
    "\n",
    "# обучим модель\n",
    "model.fit(X_train_scaled, y_train_)\n",
    "\n",
    "# воспользуемся уже обученной моделью, чтобы сделать прогнозы\n",
    "lr_predictions = model.predict(X_test_scaled)\n",
    "lr_probabilities = model.predict_proba(X_test_scaled)[:,1]\n"
   ]
  },
  {
   "cell_type": "code",
   "execution_count": 117,
   "metadata": {},
   "outputs": [
    {
     "name": "stdout",
     "output_type": "stream",
     "text": [
      "Коэффициенты признаков согласно логистической регрессии:\n",
      "                              feature      coef\n",
      "12  avg_class_frequency_current_month  4.342061\n",
      "10                           lifetime  3.651056\n",
      "11          avg_class_frequency_total  3.245518\n",
      "7                                 age  1.072054\n",
      "5                     contract_period  0.796817\n",
      "8        avg_additional_charges_total  0.507727\n",
      "9               month_to_end_contract  0.455268\n",
      "6                        group_visits  0.443189\n",
      "3                       promo_friends  0.200600\n",
      "2                             partner  0.129362\n",
      "0                              gender  0.061546\n",
      "1                       near_location  0.014951\n",
      "4                               phone  0.012358\n"
     ]
    }
   ],
   "source": [
    "features = pd.DataFrame(model.coef_.T, X_train_.columns).reset_index()\n",
    "features.columns = ['feature', 'coef']\n",
    "features['coef'] = features['coef'].apply(lambda x: abs(x))\n",
    "features = features.sort_values(by='coef', ascending=False)\n",
    "print('Коэффициенты признаков согласно логистической регрессии:')\n",
    "print(features)"
   ]
  },
  {
   "cell_type": "code",
   "execution_count": 118,
   "metadata": {},
   "outputs": [],
   "source": [
    "# преобразуем обучающий и валидационные наборы данных\n",
    "X_train_st = scaler.transform(X_train_)\n",
    "X_test_st = scaler.transform(X_test_)\n",
    "# зададим алгоритм для модели логистической регрессии\n",
    "rf_model = RandomForestClassifier(n_estimators = 100, random_state = 0) \n",
    "# обучим модель\n",
    "rf_model.fit(X_train_st, y_train_)\n",
    "# воспользуемся уже обученной моделью, чтобы сделать прогнозы\n",
    "rf_predictions = rf_model.predict(X_test_st) \n",
    "rf_probabilities = rf_model.predict_proba(X_test_st)[:,1]"
   ]
  },
  {
   "cell_type": "code",
   "execution_count": 119,
   "metadata": {},
   "outputs": [
    {
     "data": {
      "text/html": [
       "<div>\n",
       "<style scoped>\n",
       "    .dataframe tbody tr th:only-of-type {\n",
       "        vertical-align: middle;\n",
       "    }\n",
       "\n",
       "    .dataframe tbody tr th {\n",
       "        vertical-align: top;\n",
       "    }\n",
       "\n",
       "    .dataframe thead th {\n",
       "        text-align: right;\n",
       "    }\n",
       "</style>\n",
       "<table border=\"1\" class=\"dataframe\">\n",
       "  <thead>\n",
       "    <tr style=\"text-align: right;\">\n",
       "      <th></th>\n",
       "      <th>index</th>\n",
       "      <th>feature</th>\n",
       "      <th>importance</th>\n",
       "    </tr>\n",
       "  </thead>\n",
       "  <tbody>\n",
       "    <tr>\n",
       "      <th>0</th>\n",
       "      <td>10</td>\n",
       "      <td>lifetime</td>\n",
       "      <td>0.296131</td>\n",
       "    </tr>\n",
       "    <tr>\n",
       "      <th>1</th>\n",
       "      <td>12</td>\n",
       "      <td>avg_class_frequency_current_month</td>\n",
       "      <td>0.175872</td>\n",
       "    </tr>\n",
       "    <tr>\n",
       "      <th>2</th>\n",
       "      <td>11</td>\n",
       "      <td>avg_class_frequency_total</td>\n",
       "      <td>0.125813</td>\n",
       "    </tr>\n",
       "    <tr>\n",
       "      <th>3</th>\n",
       "      <td>7</td>\n",
       "      <td>age</td>\n",
       "      <td>0.122250</td>\n",
       "    </tr>\n",
       "    <tr>\n",
       "      <th>4</th>\n",
       "      <td>8</td>\n",
       "      <td>avg_additional_charges_total</td>\n",
       "      <td>0.083870</td>\n",
       "    </tr>\n",
       "    <tr>\n",
       "      <th>5</th>\n",
       "      <td>9</td>\n",
       "      <td>month_to_end_contract</td>\n",
       "      <td>0.068965</td>\n",
       "    </tr>\n",
       "    <tr>\n",
       "      <th>6</th>\n",
       "      <td>5</td>\n",
       "      <td>contract_period</td>\n",
       "      <td>0.060191</td>\n",
       "    </tr>\n",
       "    <tr>\n",
       "      <th>7</th>\n",
       "      <td>6</td>\n",
       "      <td>group_visits</td>\n",
       "      <td>0.016679</td>\n",
       "    </tr>\n",
       "    <tr>\n",
       "      <th>8</th>\n",
       "      <td>2</td>\n",
       "      <td>partner</td>\n",
       "      <td>0.013089</td>\n",
       "    </tr>\n",
       "    <tr>\n",
       "      <th>9</th>\n",
       "      <td>0</td>\n",
       "      <td>gender</td>\n",
       "      <td>0.011162</td>\n",
       "    </tr>\n",
       "    <tr>\n",
       "      <th>10</th>\n",
       "      <td>3</td>\n",
       "      <td>promo_friends</td>\n",
       "      <td>0.009707</td>\n",
       "    </tr>\n",
       "    <tr>\n",
       "      <th>11</th>\n",
       "      <td>1</td>\n",
       "      <td>near_location</td>\n",
       "      <td>0.009480</td>\n",
       "    </tr>\n",
       "    <tr>\n",
       "      <th>12</th>\n",
       "      <td>4</td>\n",
       "      <td>phone</td>\n",
       "      <td>0.006791</td>\n",
       "    </tr>\n",
       "  </tbody>\n",
       "</table>\n",
       "</div>"
      ],
      "text/plain": [
       "    index                            feature  importance\n",
       "0      10                           lifetime    0.296131\n",
       "1      12  avg_class_frequency_current_month    0.175872\n",
       "2      11          avg_class_frequency_total    0.125813\n",
       "3       7                                age    0.122250\n",
       "4       8       avg_additional_charges_total    0.083870\n",
       "5       9              month_to_end_contract    0.068965\n",
       "6       5                    contract_period    0.060191\n",
       "7       6                       group_visits    0.016679\n",
       "8       2                            partner    0.013089\n",
       "9       0                             gender    0.011162\n",
       "10      3                      promo_friends    0.009707\n",
       "11      1                      near_location    0.009480\n",
       "12      4                              phone    0.006791"
      ]
     },
     "execution_count": 119,
     "metadata": {},
     "output_type": "execute_result"
    }
   ],
   "source": [
    "fi = pd.DataFrame({'feature': X_train_.columns, 'importance': rf_model.feature_importances_}).sort_values(by='importance', ascending=False)\n",
    "fi = fi.reset_index()\n",
    "fi"
   ]
  },
  {
   "cell_type": "code",
   "execution_count": 120,
   "metadata": {},
   "outputs": [],
   "source": [
    "# функция вывода метрик accuracy, precision и recall на валидационной выборке для сравнения моделей\n",
    "def print_all_metrics(y_true, y_pred, title):\n",
    "    print(title)\n",
    "    print('\\tAccuracy: {:.2f}'.format(accuracy_score(y_true, y_pred)))\n",
    "    print('\\tPrecision: {:.2f}'.format(precision_score(y_true, y_pred)))\n",
    "    print('\\tRecall: {:.2f}'.format(recall_score(y_true, y_pred)))\n",
    "    print('\\tF1: {:.2f}'.format(f1_score(y_true, y_pred)))\n",
    "    "
   ]
  },
  {
   "cell_type": "code",
   "execution_count": 121,
   "metadata": {
    "scrolled": true
   },
   "outputs": [
    {
     "name": "stdout",
     "output_type": "stream",
     "text": [
      "Логистическая регрессия\n",
      "\tAccuracy: 0.93\n",
      "\tPrecision: 0.88\n",
      "\tRecall: 0.84\n",
      "\tF1: 0.86\n",
      "Случайный лес\n",
      "\tAccuracy: 0.91\n",
      "\tPrecision: 0.85\n",
      "\tRecall: 0.79\n",
      "\tF1: 0.82\n"
     ]
    }
   ],
   "source": [
    "# выведим все метрики для полученного прогноза\n",
    "print_all_metrics(y_test_, lr_predictions, 'Логистическая регрессия')\n",
    "\n",
    "# выведим все метрики для полученного прогноза\n",
    "print_all_metrics(y_test_, rf_predictions, 'Случайный лес')"
   ]
  },
  {
   "cell_type": "markdown",
   "metadata": {},
   "source": [
    "**Вывод:**\n",
    "\n",
    "Регрессия показывает себя чуть лучше"
   ]
  },
  {
   "cell_type": "markdown",
   "metadata": {},
   "source": [
    "## Сделаем кластеризацию клиентов"
   ]
  },
  {
   "cell_type": "markdown",
   "metadata": {},
   "source": [
    "### Стандартизируем данные"
   ]
  },
  {
   "cell_type": "markdown",
   "metadata": {},
   "source": [
    "### Построим матрицу расстояний функцией и  нарисуем дендрограмму\n"
   ]
  },
  {
   "cell_type": "code",
   "execution_count": 122,
   "metadata": {},
   "outputs": [],
   "source": [
    "# построим матрицу расстояний функцией linkage() на стандартизованной матрице признаков\n",
    "gym_sс = gym.drop(['churn'], axis=1)\n",
    "gym_columns_list = gym_sс.columns\n",
    "gym_sс = StandardScaler().fit_transform(gym_sс)\n",
    "gym_sс = pd.DataFrame(gym_sс, columns = gym_columns_list).astype('float64')\n",
    "linked = linkage(gym_sс, method = 'ward')"
   ]
  },
  {
   "cell_type": "code",
   "execution_count": 123,
   "metadata": {
    "scrolled": false
   },
   "outputs": [
    {
     "data": {
      "image/png": "[encoded data removed]",
      "text/plain": [
       "<Figure size 1152x648 with 1 Axes>"
      ]
     },
     "metadata": {
      "needs_background": "light"
     },
     "output_type": "display_data"
    }
   ],
   "source": [
    "# нарисуем дендрограмму\n",
    "plt.figure(figsize=(16, 9))  \n",
    "dendrogram(linked, orientation = 'top')\n",
    "plt.title('Кластеризация пользователей')\n",
    "plt.show()"
   ]
  },
  {
   "cell_type": "markdown",
   "metadata": {},
   "source": [
    "На основе дендрограммы можно выделить 4 кластера, но 4й очень большой, так что можно выделить 5 кластеров"
   ]
  },
  {
   "cell_type": "markdown",
   "metadata": {},
   "source": [
    "### Обучим модель кластеризации  и спрогнозируем кластеры клиентов"
   ]
  },
  {
   "cell_type": "code",
   "execution_count": 124,
   "metadata": {},
   "outputs": [],
   "source": [
    "# задаём модель k_means с числом кластеров 5\n",
    "km = KMeans(n_clusters = 5, random_state=0)\n",
    "# прогнозируем кластеры для наблюдений (алгоритм присваивает им номера от 0 до 2)\n",
    "labels = km.fit_predict(gym_sс)\n",
    "# сохраняем метки кластера в поле нашего датасета\n",
    "gym['cluster'] = labels"
   ]
  },
  {
   "cell_type": "markdown",
   "metadata": {},
   "source": [
    "### Посмотрим на средние значения признаков для кластеров"
   ]
  },
  {
   "cell_type": "code",
   "execution_count": 125,
   "metadata": {
    "scrolled": true
   },
   "outputs": [
    {
     "data": {
      "text/html": [
       "<div>\n",
       "<style scoped>\n",
       "    .dataframe tbody tr th:only-of-type {\n",
       "        vertical-align: middle;\n",
       "    }\n",
       "\n",
       "    .dataframe tbody tr th {\n",
       "        vertical-align: top;\n",
       "    }\n",
       "\n",
       "    .dataframe thead th {\n",
       "        text-align: right;\n",
       "    }\n",
       "</style>\n",
       "<table border=\"1\" class=\"dataframe\">\n",
       "  <thead>\n",
       "    <tr style=\"text-align: right;\">\n",
       "      <th>cluster</th>\n",
       "      <th>0</th>\n",
       "      <th>1</th>\n",
       "      <th>2</th>\n",
       "      <th>3</th>\n",
       "      <th>4</th>\n",
       "    </tr>\n",
       "  </thead>\n",
       "  <tbody>\n",
       "    <tr>\n",
       "      <th>gender</th>\n",
       "      <td>0.502970</td>\n",
       "      <td>0.522078</td>\n",
       "      <td>0.495050</td>\n",
       "      <td>0.485737</td>\n",
       "      <td>0.559666</td>\n",
       "    </tr>\n",
       "    <tr>\n",
       "      <th>near_location</th>\n",
       "      <td>0.959406</td>\n",
       "      <td>0.862338</td>\n",
       "      <td>0.000000</td>\n",
       "      <td>1.000000</td>\n",
       "      <td>0.976134</td>\n",
       "    </tr>\n",
       "    <tr>\n",
       "      <th>partner</th>\n",
       "      <td>0.783168</td>\n",
       "      <td>0.470130</td>\n",
       "      <td>0.463366</td>\n",
       "      <td>0.350238</td>\n",
       "      <td>0.356802</td>\n",
       "    </tr>\n",
       "    <tr>\n",
       "      <th>promo_friends</th>\n",
       "      <td>0.574257</td>\n",
       "      <td>0.306494</td>\n",
       "      <td>0.079208</td>\n",
       "      <td>0.240095</td>\n",
       "      <td>0.230310</td>\n",
       "    </tr>\n",
       "    <tr>\n",
       "      <th>phone</th>\n",
       "      <td>1.000000</td>\n",
       "      <td>0.000000</td>\n",
       "      <td>1.000000</td>\n",
       "      <td>1.000000</td>\n",
       "      <td>0.998807</td>\n",
       "    </tr>\n",
       "    <tr>\n",
       "      <th>contract_period</th>\n",
       "      <td>10.889109</td>\n",
       "      <td>4.787013</td>\n",
       "      <td>2.352475</td>\n",
       "      <td>1.948494</td>\n",
       "      <td>2.669451</td>\n",
       "    </tr>\n",
       "    <tr>\n",
       "      <th>group_visits</th>\n",
       "      <td>0.542574</td>\n",
       "      <td>0.425974</td>\n",
       "      <td>0.215842</td>\n",
       "      <td>0.341521</td>\n",
       "      <td>0.473747</td>\n",
       "    </tr>\n",
       "    <tr>\n",
       "      <th>age</th>\n",
       "      <td>29.982178</td>\n",
       "      <td>29.301299</td>\n",
       "      <td>28.477228</td>\n",
       "      <td>28.167987</td>\n",
       "      <td>30.125298</td>\n",
       "    </tr>\n",
       "    <tr>\n",
       "      <th>avg_additional_charges_total</th>\n",
       "      <td>160.761016</td>\n",
       "      <td>143.957664</td>\n",
       "      <td>135.457501</td>\n",
       "      <td>131.622204</td>\n",
       "      <td>161.657905</td>\n",
       "    </tr>\n",
       "    <tr>\n",
       "      <th>month_to_end_contract</th>\n",
       "      <td>9.954455</td>\n",
       "      <td>4.475325</td>\n",
       "      <td>2.198020</td>\n",
       "      <td>1.856577</td>\n",
       "      <td>2.459427</td>\n",
       "    </tr>\n",
       "    <tr>\n",
       "      <th>lifetime</th>\n",
       "      <td>4.736634</td>\n",
       "      <td>3.924675</td>\n",
       "      <td>2.809901</td>\n",
       "      <td>2.440571</td>\n",
       "      <td>4.898568</td>\n",
       "    </tr>\n",
       "    <tr>\n",
       "      <th>avg_class_frequency_total</th>\n",
       "      <td>1.982055</td>\n",
       "      <td>1.847220</td>\n",
       "      <td>1.660461</td>\n",
       "      <td>1.247634</td>\n",
       "      <td>2.852002</td>\n",
       "    </tr>\n",
       "    <tr>\n",
       "      <th>avg_class_frequency_current_month</th>\n",
       "      <td>1.974789</td>\n",
       "      <td>1.716369</td>\n",
       "      <td>1.477324</td>\n",
       "      <td>1.012983</td>\n",
       "      <td>2.850161</td>\n",
       "    </tr>\n",
       "    <tr>\n",
       "      <th>churn</th>\n",
       "      <td>0.027723</td>\n",
       "      <td>0.267532</td>\n",
       "      <td>0.443564</td>\n",
       "      <td>0.514263</td>\n",
       "      <td>0.068019</td>\n",
       "    </tr>\n",
       "  </tbody>\n",
       "</table>\n",
       "</div>"
      ],
      "text/plain": [
       "cluster                                     0           1           2  \\\n",
       "gender                               0.502970    0.522078    0.495050   \n",
       "near_location                        0.959406    0.862338    0.000000   \n",
       "partner                              0.783168    0.470130    0.463366   \n",
       "promo_friends                        0.574257    0.306494    0.079208   \n",
       "phone                                1.000000    0.000000    1.000000   \n",
       "contract_period                     10.889109    4.787013    2.352475   \n",
       "group_visits                         0.542574    0.425974    0.215842   \n",
       "age                                 29.982178   29.301299   28.477228   \n",
       "avg_additional_charges_total       160.761016  143.957664  135.457501   \n",
       "month_to_end_contract                9.954455    4.475325    2.198020   \n",
       "lifetime                             4.736634    3.924675    2.809901   \n",
       "avg_class_frequency_total            1.982055    1.847220    1.660461   \n",
       "avg_class_frequency_current_month    1.974789    1.716369    1.477324   \n",
       "churn                                0.027723    0.267532    0.443564   \n",
       "\n",
       "cluster                                     3           4  \n",
       "gender                               0.485737    0.559666  \n",
       "near_location                        1.000000    0.976134  \n",
       "partner                              0.350238    0.356802  \n",
       "promo_friends                        0.240095    0.230310  \n",
       "phone                                1.000000    0.998807  \n",
       "contract_period                      1.948494    2.669451  \n",
       "group_visits                         0.341521    0.473747  \n",
       "age                                 28.167987   30.125298  \n",
       "avg_additional_charges_total       131.622204  161.657905  \n",
       "month_to_end_contract                1.856577    2.459427  \n",
       "lifetime                             2.440571    4.898568  \n",
       "avg_class_frequency_total            1.247634    2.852002  \n",
       "avg_class_frequency_current_month    1.012983    2.850161  \n",
       "churn                                0.514263    0.068019  "
      ]
     },
     "execution_count": 125,
     "metadata": {},
     "output_type": "execute_result"
    }
   ],
   "source": [
    "gym.groupby('cluster').mean().T"
   ]
  },
  {
   "cell_type": "code",
   "execution_count": 126,
   "metadata": {
    "scrolled": true
   },
   "outputs": [
    {
     "data": {
      "text/plain": [
       "3    1262\n",
       "0    1010\n",
       "4     838\n",
       "2     505\n",
       "1     385\n",
       "Name: cluster, dtype: int64"
      ]
     },
     "execution_count": 126,
     "metadata": {},
     "output_type": "execute_result"
    }
   ],
   "source": [
    "# посмотрим сколько клиентов в кластерах\n",
    "gym.cluster.value_counts() "
   ]
  },
  {
   "cell_type": "markdown",
   "metadata": {},
   "source": [
    "**Вывод:**\n",
    "\n",
    "***Кластер 0***\n",
    "- отток 2.7% - ***самый маленький отток***\n",
    "- ходят в зал часто, около 2 раз в неделю\n",
    "- живут или работают рядом с фитнес-центром\n",
    "- средняя продолжительность абонемента самая высокая, ***11 месяцев***\n",
    "- процент посещения групповых заданий 54%\n",
    "- наибольший процент клиентов, пиршедших ***через партнеров***\n",
    "\n",
    "***Кластер 1***\n",
    "- отток 26.7%  - средний отток\n",
    "- ходят в зал не часто, около 1.7 раз в неделю\n",
    "- живут или работают рядом с фитнес-центром\n",
    "- более 80% пришли из ***комании-парнера***\n",
    "- средняя продолжительность абонемента ***4.7 месяцев***\n",
    "- процент посещения групповых заданий 42%\n",
    "\n",
    "***Кластер 2***\n",
    "- отток 44.3%  - большой отток\n",
    "- ходят в зал редко, около 1.5 раза в неделю\n",
    "- ***самый многочисленный кластер***\n",
    "- живут или работают ***далеко от фитнес-центра***\n",
    "- средняя продолжительность абонемента ***2.3 месяца***\n",
    "- процент посещения групповых заданий 21%\n",
    "\n",
    "***Кластер 3***\n",
    "- отток 51.4%  - ***самый большой отток***\n",
    "- ходят в зал не часто, около 1 раз в неделю\n",
    "- ***самый малочисленный кластер***\n",
    "- живут или работают рядом с фитнес-центром\n",
    "- средняя продолжительность абонемента ***1.9 месяца***\n",
    "- процент посещения групповых заданий 34%\n",
    "\n",
    "***Кластер 4***\n",
    "- отток 6.8%  -  маленький отток\n",
    "- ***ходят в зал чаще всех***, около 3 раз в неделю\n",
    "- живут или работают рядом с фитнес-центром\n",
    "- 74% пришли из ***комании-парнера***\n",
    "- почти 50% пришли по акции ***приведи друга***\n",
    "- средняя продолжительность абонемента ***2.6 месяцев***\n",
    "- процент посещения групповых заданий 47%\n",
    "\n",
    "\n",
    "**В основном уходят люди из кластеров 2 и 3**\n",
    "\n",
    "**Остаются в кластерах 4 и 0**"
   ]
  },
  {
   "cell_type": "markdown",
   "metadata": {},
   "source": [
    "### Построим распределения признаков для кластеров"
   ]
  },
  {
   "cell_type": "code",
   "execution_count": 127,
   "metadata": {
    "scrolled": true
   },
   "outputs": [
    {
     "data": {
      "image/png": "[encoded data removed]",
      "text/plain": [
       "<Figure size 360x360 with 1 Axes>"
      ]
     },
     "metadata": {
      "needs_background": "light"
     },
     "output_type": "display_data"
    },
    {
     "data": {
      "image/png": "[encoded data removed]",
      "text/plain": [
       "<Figure size 360x360 with 1 Axes>"
      ]
     },
     "metadata": {
      "needs_background": "light"
     },
     "output_type": "display_data"
    },
    {
     "data": {
      "image/png": "[encoded data removed]",
      "text/plain": [
       "<Figure size 360x360 with 1 Axes>"
      ]
     },
     "metadata": {
      "needs_background": "light"
     },
     "output_type": "display_data"
    },
    {
     "data": {
      "image/png": "[encoded data removed]",
      "text/plain": [
       "<Figure size 360x360 with 1 Axes>"
      ]
     },
     "metadata": {
      "needs_background": "light"
     },
     "output_type": "display_data"
    },
    {
     "data": {
      "image/png": "[encoded data removed]",
      "text/plain": [
       "<Figure size 360x360 with 1 Axes>"
      ]
     },
     "metadata": {
      "needs_background": "light"
     },
     "output_type": "display_data"
    }
   ],
   "source": [
    "for column in ['gender', 'near_location', 'partner', 'promo_friends', 'contract_period']:\n",
    "    plt.figure(figsize=(5, 5))\n",
    "    sns.countplot(x = gym[column], hue='cluster', data=gym)\n",
    "    plt.title(column)\n",
    "    plt.show()"
   ]
  },
  {
   "cell_type": "code",
   "execution_count": 128,
   "metadata": {},
   "outputs": [
    {
     "data": {
      "image/png": "[encoded data removed]",
      "text/plain": [
       "<Figure size 360x360 with 1 Axes>"
      ]
     },
     "metadata": {
      "needs_background": "light"
     },
     "output_type": "display_data"
    },
    {
     "data": {
      "image/png": "[encoded data removed]",
      "text/plain": [
       "<Figure size 360x360 with 1 Axes>"
      ]
     },
     "metadata": {
      "needs_background": "light"
     },
     "output_type": "display_data"
    },
    {
     "data": {
      "image/png": "[encoded data removed]",
      "text/plain": [
       "<Figure size 360x360 with 1 Axes>"
      ]
     },
     "metadata": {
      "needs_background": "light"
     },
     "output_type": "display_data"
    },
    {
     "data": {
      "image/png": "[encoded data removed]",
      "text/plain": [
       "<Figure size 360x360 with 1 Axes>"
      ]
     },
     "metadata": {
      "needs_background": "light"
     },
     "output_type": "display_data"
    },
    {
     "data": {
      "image/png": "[encoded data removed]",
      "text/plain": [
       "<Figure size 360x360 with 1 Axes>"
      ]
     },
     "metadata": {
      "needs_background": "light"
     },
     "output_type": "display_data"
    },
    {
     "data": {
      "image/png": "[encoded data removed]",
      "text/plain": [
       "<Figure size 360x360 with 1 Axes>"
      ]
     },
     "metadata": {
      "needs_background": "light"
     },
     "output_type": "display_data"
    }
   ],
   "source": [
    "for column in ['month_to_end_contract', 'age', 'avg_additional_charges_total', 'lifetime', 'avg_class_frequency_total', 'avg_class_frequency_current_month']:\n",
    "    plt.figure(figsize=(5, 5))\n",
    "    sns.boxplot(x = 'cluster', y = gym[column], data = gym)\n",
    "    plt.show()"
   ]
  },
  {
   "cell_type": "markdown",
   "metadata": {},
   "source": [
    "### Для каждого полученного кластера посчитаем долю оттока"
   ]
  },
  {
   "cell_type": "code",
   "execution_count": 129,
   "metadata": {},
   "outputs": [
    {
     "name": "stdout",
     "output_type": "stream",
     "text": [
      "Всего ушедших клиентов: 1061\n"
     ]
    }
   ],
   "source": [
    "print(f\"Всего ушедших клиентов: {gym['churn'].sum()}\")"
   ]
  },
  {
   "cell_type": "code",
   "execution_count": 130,
   "metadata": {},
   "outputs": [
    {
     "data": {
      "text/html": [
       "<div>\n",
       "<style scoped>\n",
       "    .dataframe tbody tr th:only-of-type {\n",
       "        vertical-align: middle;\n",
       "    }\n",
       "\n",
       "    .dataframe tbody tr th {\n",
       "        vertical-align: top;\n",
       "    }\n",
       "\n",
       "    .dataframe thead th {\n",
       "        text-align: right;\n",
       "    }\n",
       "</style>\n",
       "<table border=\"1\" class=\"dataframe\">\n",
       "  <thead>\n",
       "    <tr style=\"text-align: right;\">\n",
       "      <th></th>\n",
       "      <th>cluster</th>\n",
       "      <th>churn</th>\n",
       "    </tr>\n",
       "  </thead>\n",
       "  <tbody>\n",
       "    <tr>\n",
       "      <th>0</th>\n",
       "      <td>0</td>\n",
       "      <td>28</td>\n",
       "    </tr>\n",
       "    <tr>\n",
       "      <th>1</th>\n",
       "      <td>1</td>\n",
       "      <td>103</td>\n",
       "    </tr>\n",
       "    <tr>\n",
       "      <th>2</th>\n",
       "      <td>2</td>\n",
       "      <td>224</td>\n",
       "    </tr>\n",
       "    <tr>\n",
       "      <th>3</th>\n",
       "      <td>3</td>\n",
       "      <td>649</td>\n",
       "    </tr>\n",
       "    <tr>\n",
       "      <th>4</th>\n",
       "      <td>4</td>\n",
       "      <td>57</td>\n",
       "    </tr>\n",
       "  </tbody>\n",
       "</table>\n",
       "</div>"
      ],
      "text/plain": [
       "   cluster  churn\n",
       "0        0     28\n",
       "1        1    103\n",
       "2        2    224\n",
       "3        3    649\n",
       "4        4     57"
      ]
     },
     "execution_count": 130,
     "metadata": {},
     "output_type": "execute_result"
    }
   ],
   "source": [
    "# сколько ушедших клиентов в каждом кластере, потому что в кластер могли попасть различные клиенты\n",
    "gym.groupby('cluster', as_index=False).agg({'churn': 'sum'})"
   ]
  },
  {
   "cell_type": "code",
   "execution_count": 131,
   "metadata": {},
   "outputs": [
    {
     "data": {
      "text/plain": [
       "0    0.026390\n",
       "1    0.097078\n",
       "2    0.211122\n",
       "3    0.611687\n",
       "4    0.053723\n",
       "Name: churn, dtype: float64"
      ]
     },
     "execution_count": 131,
     "metadata": {},
     "output_type": "execute_result"
    }
   ],
   "source": [
    "# теперь разделим кол-во по кластерам на общее кол-во ушедших клиентов\n",
    "gym.groupby('cluster', as_index=False).agg({'churn': 'sum'})['churn'] / 1061"
   ]
  },
  {
   "cell_type": "markdown",
   "metadata": {},
   "source": [
    "Доля оттока в кластерах от общего числа ушедших (1061):\n",
    "\n",
    "0 - 2.6%\n",
    "\n",
    "1 - 9.7%\n",
    "\n",
    "2 - 21%\n",
    "\n",
    "3 - 61%\n",
    "\n",
    "4 - 5.3%\n"
   ]
  },
  {
   "cell_type": "markdown",
   "metadata": {},
   "source": [
    "## Выводы и  рекомендации по работе с клиентами"
   ]
  },
  {
   "cell_type": "markdown",
   "metadata": {},
   "source": [
    "**Выводы**\n",
    "\n",
    "В основном уходят клиенты, которые:\n",
    "\n",
    "- редко посещают фитнес-клуб - до 2 раз в неделю\n",
    "- живут или работают не очень близко с фитнес-центром\n",
    "- в среднем покупают абонементы на 2 месяца\n",
    "- редко посещают групповые занятия\n",
    "\n",
    "Меньший отток наблюдается у клиентов, которые:\n",
    "\n",
    "- ходят на фитнес 2-3 раза в неделю\n",
    "- имеют более длительныеабонементы на срок от 3 до 12 месяцев\n",
    "- живут или работают рядом с фитнес-центром\n",
    "- пришли по акции приведи друга\n",
    "- пришли из комании-парнера\n",
    "- имеют большой процент посещения групповых занятий\n",
    "\n",
    "\n",
    "**Рекомендации**\n",
    "\n",
    "- продолжать проводиить акции \"приведи друга\"\n",
    "- продолжать сотрудничать с компаниями-партнерами\n",
    "- предлагать более выгодняе условия на абонементы 3 и 12 месяцев\n",
    "- промоутировать групповые занятия\n"
   ]
  }
 ],
 "metadata": {
  "ExecuteTimeLog": [
   {
    "duration": 1904,
    "start_time": "2022-02-08T10:18:36.890Z"
   },
   {
    "duration": 44,
    "start_time": "2022-02-08T10:19:09.872Z"
   },
   {
    "duration": 31,
    "start_time": "2022-02-08T10:19:16.380Z"
   },
   {
    "duration": 42,
    "start_time": "2022-02-08T10:19:24.676Z"
   },
   {
    "duration": 41,
    "start_time": "2022-02-08T10:20:26.430Z"
   },
   {
    "duration": 6,
    "start_time": "2022-02-08T10:24:56.114Z"
   },
   {
    "duration": 10,
    "start_time": "2022-02-08T10:26:14.636Z"
   },
   {
    "duration": 1586,
    "start_time": "2022-02-08T10:29:37.445Z"
   },
   {
    "duration": 1532,
    "start_time": "2022-02-08T10:36:54.800Z"
   },
   {
    "duration": 1536,
    "start_time": "2022-02-08T10:37:03.606Z"
   },
   {
    "duration": 1690,
    "start_time": "2022-02-09T09:53:51.783Z"
   },
   {
    "duration": 39,
    "start_time": "2022-02-09T09:53:53.475Z"
   },
   {
    "duration": 7,
    "start_time": "2022-02-09T09:53:55.333Z"
   },
   {
    "duration": 12,
    "start_time": "2022-02-09T09:53:56.459Z"
   },
   {
    "duration": 45,
    "start_time": "2022-02-09T09:53:57.921Z"
   },
   {
    "duration": 421,
    "start_time": "2022-02-09T09:55:45.643Z"
   },
   {
    "duration": 237,
    "start_time": "2022-02-09T09:55:55.378Z"
   },
   {
    "duration": 3,
    "start_time": "2022-02-09T09:56:26.938Z"
   },
   {
    "duration": 4,
    "start_time": "2022-02-09T09:56:34.744Z"
   },
   {
    "duration": 14,
    "start_time": "2022-02-09T09:57:43.629Z"
   },
   {
    "duration": 15,
    "start_time": "2022-02-09T09:58:27.654Z"
   },
   {
    "duration": 2904,
    "start_time": "2022-02-09T10:03:56.340Z"
   },
   {
    "duration": 226,
    "start_time": "2022-02-09T10:04:45.155Z"
   },
   {
    "duration": 2662,
    "start_time": "2022-02-09T10:04:57.903Z"
   },
   {
    "duration": 1112,
    "start_time": "2022-02-09T10:19:32.869Z"
   },
   {
    "duration": 1133,
    "start_time": "2022-02-09T10:19:56.738Z"
   },
   {
    "duration": 1230,
    "start_time": "2022-02-09T10:20:07.433Z"
   },
   {
    "duration": 1126,
    "start_time": "2022-02-09T10:20:53.963Z"
   },
   {
    "duration": 1409,
    "start_time": "2022-02-09T10:21:02.672Z"
   },
   {
    "duration": 1217,
    "start_time": "2022-02-09T10:21:23.501Z"
   },
   {
    "duration": 1283,
    "start_time": "2022-02-09T10:21:33.012Z"
   },
   {
    "duration": 4,
    "start_time": "2022-02-09T10:27:19.053Z"
   },
   {
    "duration": 28,
    "start_time": "2022-02-09T10:27:19.204Z"
   },
   {
    "duration": 3,
    "start_time": "2022-02-09T10:27:20.010Z"
   },
   {
    "duration": 8,
    "start_time": "2022-02-09T10:27:20.728Z"
   },
   {
    "duration": 44,
    "start_time": "2022-02-09T10:27:21.089Z"
   },
   {
    "duration": 15,
    "start_time": "2022-02-09T10:27:21.740Z"
   },
   {
    "duration": 6483,
    "start_time": "2022-02-09T10:27:22.246Z"
   },
   {
    "duration": 1420,
    "start_time": "2022-02-09T10:27:28.731Z"
   },
   {
    "duration": 7,
    "start_time": "2022-02-09T10:27:30.153Z"
   },
   {
    "duration": 9,
    "start_time": "2022-02-09T10:28:24.798Z"
   },
   {
    "duration": 4,
    "start_time": "2022-02-09T10:29:38.982Z"
   },
   {
    "duration": 48,
    "start_time": "2022-02-09T10:30:40.592Z"
   },
   {
    "duration": 23,
    "start_time": "2022-02-09T10:49:06.970Z"
   },
   {
    "duration": 219,
    "start_time": "2022-02-09T11:03:13.343Z"
   },
   {
    "duration": 247,
    "start_time": "2022-02-09T11:03:18.891Z"
   },
   {
    "duration": 3,
    "start_time": "2022-02-09T11:03:19.374Z"
   },
   {
    "duration": 3,
    "start_time": "2022-02-09T11:03:20.303Z"
   },
   {
    "duration": 304,
    "start_time": "2022-02-09T11:03:21.083Z"
   },
   {
    "duration": 8,
    "start_time": "2022-02-09T11:03:45.691Z"
   },
   {
    "duration": 36,
    "start_time": "2022-02-09T11:03:45.826Z"
   },
   {
    "duration": 221,
    "start_time": "2022-02-09T11:03:46.150Z"
   },
   {
    "duration": 2,
    "start_time": "2022-02-09T11:03:46.524Z"
   },
   {
    "duration": 3,
    "start_time": "2022-02-09T11:03:46.914Z"
   },
   {
    "duration": 214,
    "start_time": "2022-02-09T11:03:47.485Z"
   },
   {
    "duration": 5,
    "start_time": "2022-02-09T11:04:18.451Z"
   },
   {
    "duration": 35,
    "start_time": "2022-02-09T11:04:24.126Z"
   },
   {
    "duration": 338,
    "start_time": "2022-02-09T11:04:24.443Z"
   },
   {
    "duration": 2,
    "start_time": "2022-02-09T11:04:25.666Z"
   },
   {
    "duration": 4,
    "start_time": "2022-02-09T11:04:26.152Z"
   },
   {
    "duration": 213,
    "start_time": "2022-02-09T11:04:26.724Z"
   },
   {
    "duration": 436,
    "start_time": "2022-02-09T11:04:46.862Z"
   },
   {
    "duration": 4,
    "start_time": "2022-02-09T11:05:18.648Z"
   },
   {
    "duration": 8,
    "start_time": "2022-02-09T11:05:23.222Z"
   },
   {
    "duration": 98,
    "start_time": "2022-02-09T11:05:23.422Z"
   },
   {
    "duration": 461,
    "start_time": "2022-02-09T11:05:23.620Z"
   },
   {
    "duration": 3,
    "start_time": "2022-02-09T11:05:24.083Z"
   },
   {
    "duration": 4,
    "start_time": "2022-02-09T11:05:24.212Z"
   },
   {
    "duration": 576,
    "start_time": "2022-02-09T11:05:24.342Z"
   },
   {
    "duration": 1464,
    "start_time": "2022-02-11T13:55:21.195Z"
   },
   {
    "duration": 33,
    "start_time": "2022-02-11T13:55:22.660Z"
   },
   {
    "duration": 3,
    "start_time": "2022-02-11T13:55:22.695Z"
   },
   {
    "duration": 7,
    "start_time": "2022-02-11T13:55:22.700Z"
   },
   {
    "duration": 43,
    "start_time": "2022-02-11T13:55:22.708Z"
   },
   {
    "duration": 11,
    "start_time": "2022-02-11T13:55:22.753Z"
   },
   {
    "duration": 2313,
    "start_time": "2022-02-11T13:55:22.766Z"
   },
   {
    "duration": 1234,
    "start_time": "2022-02-11T13:55:25.081Z"
   },
   {
    "duration": 9,
    "start_time": "2022-02-11T13:55:26.326Z"
   },
   {
    "duration": 94,
    "start_time": "2022-02-11T13:55:26.337Z"
   },
   {
    "duration": 395,
    "start_time": "2022-02-11T13:55:26.433Z"
   },
   {
    "duration": 2,
    "start_time": "2022-02-11T13:55:26.830Z"
   },
   {
    "duration": 9,
    "start_time": "2022-02-11T13:55:26.833Z"
   },
   {
    "duration": 643,
    "start_time": "2022-02-11T13:55:26.844Z"
   },
   {
    "duration": 280,
    "start_time": "2022-02-11T13:58:42.600Z"
   },
   {
    "duration": 274,
    "start_time": "2022-02-11T13:59:01.084Z"
   },
   {
    "duration": 277,
    "start_time": "2022-02-11T14:02:56.654Z"
   },
   {
    "duration": 4,
    "start_time": "2022-02-11T14:03:37.024Z"
   },
   {
    "duration": 267,
    "start_time": "2022-02-11T14:03:42.505Z"
   },
   {
    "duration": 3,
    "start_time": "2022-02-11T14:03:48.690Z"
   },
   {
    "duration": 301,
    "start_time": "2022-02-11T14:03:50.344Z"
   },
   {
    "duration": 262,
    "start_time": "2022-02-11T14:03:56.213Z"
   },
   {
    "duration": 3,
    "start_time": "2022-02-11T14:05:44.491Z"
   },
   {
    "duration": 32,
    "start_time": "2022-02-11T14:05:44.496Z"
   },
   {
    "duration": 3,
    "start_time": "2022-02-11T14:05:44.530Z"
   },
   {
    "duration": 8,
    "start_time": "2022-02-11T14:05:44.534Z"
   },
   {
    "duration": 38,
    "start_time": "2022-02-11T14:05:44.543Z"
   },
   {
    "duration": 12,
    "start_time": "2022-02-11T14:05:44.583Z"
   },
   {
    "duration": 2277,
    "start_time": "2022-02-11T14:05:44.597Z"
   },
   {
    "duration": 1381,
    "start_time": "2022-02-11T14:05:46.875Z"
   },
   {
    "duration": 8,
    "start_time": "2022-02-11T14:05:48.257Z"
   },
   {
    "duration": 67,
    "start_time": "2022-02-11T14:05:48.266Z"
   },
   {
    "duration": 96,
    "start_time": "2022-02-11T14:05:48.335Z"
   },
   {
    "duration": 420,
    "start_time": "2022-02-11T14:05:48.433Z"
   },
   {
    "duration": 2,
    "start_time": "2022-02-11T14:05:48.855Z"
   },
   {
    "duration": 4,
    "start_time": "2022-02-11T14:05:48.859Z"
   },
   {
    "duration": 13,
    "start_time": "2022-02-11T14:05:48.864Z"
   },
   {
    "duration": 8,
    "start_time": "2022-02-11T14:06:15.224Z"
   },
   {
    "duration": 6,
    "start_time": "2022-02-11T14:08:15.578Z"
   },
   {
    "duration": 4,
    "start_time": "2022-02-11T14:10:40.409Z"
   },
   {
    "duration": 29,
    "start_time": "2022-02-11T14:10:41.390Z"
   },
   {
    "duration": 4,
    "start_time": "2022-02-11T14:10:41.849Z"
   },
   {
    "duration": 6,
    "start_time": "2022-02-11T14:10:42.173Z"
   },
   {
    "duration": 40,
    "start_time": "2022-02-11T14:10:42.461Z"
   },
   {
    "duration": 13,
    "start_time": "2022-02-11T14:10:42.781Z"
   },
   {
    "duration": 2334,
    "start_time": "2022-02-11T14:10:43.125Z"
   },
   {
    "duration": 1191,
    "start_time": "2022-02-11T14:10:45.461Z"
   },
   {
    "duration": 7,
    "start_time": "2022-02-11T14:10:46.654Z"
   },
   {
    "duration": 66,
    "start_time": "2022-02-11T14:10:46.662Z"
   },
   {
    "duration": 98,
    "start_time": "2022-02-11T14:10:46.730Z"
   },
   {
    "duration": 407,
    "start_time": "2022-02-11T14:10:46.830Z"
   },
   {
    "duration": 8,
    "start_time": "2022-02-11T14:10:47.239Z"
   },
   {
    "duration": 3,
    "start_time": "2022-02-11T14:10:47.248Z"
   },
   {
    "duration": 13,
    "start_time": "2022-02-11T14:10:47.253Z"
   },
   {
    "duration": 6,
    "start_time": "2022-02-11T14:10:49.974Z"
   },
   {
    "duration": 5,
    "start_time": "2022-02-11T14:11:21.141Z"
   },
   {
    "duration": 4,
    "start_time": "2022-02-11T14:11:45.386Z"
   },
   {
    "duration": 306,
    "start_time": "2022-02-11T14:11:46.675Z"
   },
   {
    "duration": 277,
    "start_time": "2022-02-11T14:12:23.672Z"
   },
   {
    "duration": 4,
    "start_time": "2022-02-11T14:12:39.962Z"
   },
   {
    "duration": 286,
    "start_time": "2022-02-11T14:12:41.087Z"
   },
   {
    "duration": 509,
    "start_time": "2022-02-11T14:18:40.197Z"
   },
   {
    "duration": 85221,
    "start_time": "2022-02-11T14:19:10.232Z"
   },
   {
    "duration": 343,
    "start_time": "2022-02-11T14:21:59.665Z"
   },
   {
    "duration": 15,
    "start_time": "2022-02-11T14:22:16.473Z"
   },
   {
    "duration": 279,
    "start_time": "2022-02-11T14:22:21.157Z"
   },
   {
    "duration": 329,
    "start_time": "2022-02-11T14:23:37.949Z"
   },
   {
    "duration": 340,
    "start_time": "2022-02-11T14:25:06.474Z"
   },
   {
    "duration": 1366,
    "start_time": "2022-02-11T14:26:06.065Z"
   },
   {
    "duration": 1345,
    "start_time": "2022-02-11T14:26:13.500Z"
   },
   {
    "duration": 15,
    "start_time": "2022-02-11T14:32:20.705Z"
   },
   {
    "duration": -144,
    "start_time": "2022-02-11T14:40:52.475Z"
   },
   {
    "duration": -147,
    "start_time": "2022-02-11T14:40:52.479Z"
   },
   {
    "duration": -149,
    "start_time": "2022-02-11T14:40:52.482Z"
   },
   {
    "duration": -150,
    "start_time": "2022-02-11T14:40:52.484Z"
   },
   {
    "duration": -185,
    "start_time": "2022-02-11T14:40:52.521Z"
   },
   {
    "duration": -203,
    "start_time": "2022-02-11T14:40:52.540Z"
   },
   {
    "duration": -205,
    "start_time": "2022-02-11T14:40:52.543Z"
   },
   {
    "duration": -206,
    "start_time": "2022-02-11T14:40:52.545Z"
   },
   {
    "duration": -224,
    "start_time": "2022-02-11T14:40:52.564Z"
   },
   {
    "duration": -226,
    "start_time": "2022-02-11T14:40:52.567Z"
   },
   {
    "duration": -228,
    "start_time": "2022-02-11T14:40:52.570Z"
   },
   {
    "duration": -229,
    "start_time": "2022-02-11T14:40:52.572Z"
   },
   {
    "duration": -230,
    "start_time": "2022-02-11T14:40:52.574Z"
   },
   {
    "duration": -232,
    "start_time": "2022-02-11T14:40:52.577Z"
   },
   {
    "duration": -260,
    "start_time": "2022-02-11T14:40:52.606Z"
   },
   {
    "duration": -268,
    "start_time": "2022-02-11T14:40:52.615Z"
   },
   {
    "duration": -269,
    "start_time": "2022-02-11T14:40:52.617Z"
   },
   {
    "duration": -271,
    "start_time": "2022-02-11T14:40:52.619Z"
   },
   {
    "duration": -272,
    "start_time": "2022-02-11T14:40:52.621Z"
   },
   {
    "duration": -272,
    "start_time": "2022-02-11T14:40:52.622Z"
   },
   {
    "duration": -274,
    "start_time": "2022-02-11T14:40:52.625Z"
   },
   {
    "duration": -276,
    "start_time": "2022-02-11T14:40:52.627Z"
   },
   {
    "duration": -278,
    "start_time": "2022-02-11T14:40:52.630Z"
   },
   {
    "duration": 4,
    "start_time": "2022-02-11T14:40:59.838Z"
   },
   {
    "duration": 32,
    "start_time": "2022-02-11T14:40:59.844Z"
   },
   {
    "duration": 3,
    "start_time": "2022-02-11T14:40:59.878Z"
   },
   {
    "duration": 9,
    "start_time": "2022-02-11T14:40:59.883Z"
   },
   {
    "duration": 38,
    "start_time": "2022-02-11T14:40:59.894Z"
   },
   {
    "duration": 12,
    "start_time": "2022-02-11T14:40:59.933Z"
   },
   {
    "duration": 2294,
    "start_time": "2022-02-11T14:40:59.946Z"
   },
   {
    "duration": 1279,
    "start_time": "2022-02-11T14:41:02.242Z"
   },
   {
    "duration": 7,
    "start_time": "2022-02-11T14:41:03.523Z"
   },
   {
    "duration": 50,
    "start_time": "2022-02-11T14:41:03.531Z"
   },
   {
    "duration": 63,
    "start_time": "2022-02-11T14:41:03.583Z"
   },
   {
    "duration": 606,
    "start_time": "2022-02-11T14:41:03.648Z"
   },
   {
    "duration": 10,
    "start_time": "2022-02-11T14:41:04.256Z"
   },
   {
    "duration": 4,
    "start_time": "2022-02-11T14:41:04.268Z"
   },
   {
    "duration": 19,
    "start_time": "2022-02-11T14:41:04.273Z"
   },
   {
    "duration": 4,
    "start_time": "2022-02-11T14:41:04.294Z"
   },
   {
    "duration": 3,
    "start_time": "2022-02-11T14:41:04.300Z"
   },
   {
    "duration": 623,
    "start_time": "2022-02-11T14:41:04.304Z"
   },
   {
    "duration": 79116,
    "start_time": "2022-02-11T14:41:04.929Z"
   },
   {
    "duration": 1580,
    "start_time": "2022-02-11T14:42:24.047Z"
   },
   {
    "duration": 1308,
    "start_time": "2022-02-11T14:42:25.629Z"
   },
   {
    "duration": 94,
    "start_time": "2022-02-11T14:42:26.940Z"
   },
   {
    "duration": 7107,
    "start_time": "2022-02-11T14:42:27.037Z"
   },
   {
    "duration": 269,
    "start_time": "2022-02-11T14:43:03.456Z"
   },
   {
    "duration": 1006,
    "start_time": "2022-02-11T14:43:06.127Z"
   },
   {
    "duration": 16,
    "start_time": "2022-02-11T14:43:08.819Z"
   },
   {
    "duration": 6,
    "start_time": "2022-02-11T14:43:10.415Z"
   },
   {
    "duration": 342,
    "start_time": "2022-02-11T14:49:39.554Z"
   },
   {
    "duration": 7167,
    "start_time": "2022-02-11T14:50:02.064Z"
   },
   {
    "duration": 333,
    "start_time": "2022-02-11T14:51:25.125Z"
   },
   {
    "duration": 3,
    "start_time": "2022-02-11T14:51:34.461Z"
   },
   {
    "duration": 281,
    "start_time": "2022-02-11T14:51:39.768Z"
   },
   {
    "duration": 13,
    "start_time": "2022-02-11T14:51:43.908Z"
   },
   {
    "duration": 2773,
    "start_time": "2022-02-11T14:51:50.328Z"
   },
   {
    "duration": 1477,
    "start_time": "2022-02-11T14:51:57.298Z"
   },
   {
    "duration": 7,
    "start_time": "2022-02-11T14:52:05.533Z"
   },
   {
    "duration": 58,
    "start_time": "2022-02-11T14:52:06.570Z"
   },
   {
    "duration": 9,
    "start_time": "2022-02-11T14:52:09.185Z"
   },
   {
    "duration": 299,
    "start_time": "2022-02-11T14:52:10.617Z"
   },
   {
    "duration": 8,
    "start_time": "2022-02-11T14:52:12.016Z"
   },
   {
    "duration": 3,
    "start_time": "2022-02-11T14:52:12.822Z"
   },
   {
    "duration": 12,
    "start_time": "2022-02-11T14:52:13.758Z"
   },
   {
    "duration": 4,
    "start_time": "2022-02-11T14:52:17.461Z"
   },
   {
    "duration": 473,
    "start_time": "2022-02-11T14:52:24.376Z"
   },
   {
    "duration": 74834,
    "start_time": "2022-02-11T14:52:24.851Z"
   },
   {
    "duration": 846,
    "start_time": "2022-02-11T14:53:39.687Z"
   },
   {
    "duration": 798,
    "start_time": "2022-02-11T14:53:40.535Z"
   },
   {
    "duration": 105,
    "start_time": "2022-02-11T14:53:41.335Z"
   },
   {
    "duration": 4,
    "start_time": "2022-02-11T14:53:41.442Z"
   },
   {
    "duration": 991,
    "start_time": "2022-02-11T14:53:41.448Z"
   },
   {
    "duration": 1026,
    "start_time": "2022-02-11T14:54:45.529Z"
   },
   {
    "duration": 11,
    "start_time": "2022-02-11T14:56:44.667Z"
   },
   {
    "duration": 1443,
    "start_time": "2022-02-15T07:31:29.741Z"
   },
   {
    "duration": 29,
    "start_time": "2022-02-15T07:31:31.186Z"
   },
   {
    "duration": 4,
    "start_time": "2022-02-15T07:31:31.218Z"
   },
   {
    "duration": 8,
    "start_time": "2022-02-15T07:31:31.230Z"
   },
   {
    "duration": 49,
    "start_time": "2022-02-15T07:31:31.240Z"
   },
   {
    "duration": 4,
    "start_time": "2022-02-15T07:31:31.291Z"
   },
   {
    "duration": 34,
    "start_time": "2022-02-15T07:31:31.297Z"
   },
   {
    "duration": 2437,
    "start_time": "2022-02-15T07:31:31.334Z"
   },
   {
    "duration": 1258,
    "start_time": "2022-02-15T07:31:33.773Z"
   },
   {
    "duration": 8,
    "start_time": "2022-02-15T07:31:35.032Z"
   },
   {
    "duration": 91,
    "start_time": "2022-02-15T07:31:35.042Z"
   },
   {
    "duration": 96,
    "start_time": "2022-02-15T07:31:35.135Z"
   },
   {
    "duration": 337,
    "start_time": "2022-02-15T07:31:35.233Z"
   },
   {
    "duration": 9,
    "start_time": "2022-02-15T07:31:35.572Z"
   },
   {
    "duration": 3,
    "start_time": "2022-02-15T07:31:35.583Z"
   },
   {
    "duration": 13,
    "start_time": "2022-02-15T07:31:35.588Z"
   },
   {
    "duration": 27,
    "start_time": "2022-02-15T07:31:35.603Z"
   },
   {
    "duration": 2,
    "start_time": "2022-02-15T07:31:35.632Z"
   },
   {
    "duration": 535,
    "start_time": "2022-02-15T07:31:35.636Z"
   },
   {
    "duration": 77464,
    "start_time": "2022-02-15T07:31:36.172Z"
   },
   {
    "duration": 1395,
    "start_time": "2022-02-15T07:32:53.638Z"
   },
   {
    "duration": 1598,
    "start_time": "2022-02-15T07:32:55.036Z"
   },
   {
    "duration": 15,
    "start_time": "2022-02-15T07:32:56.637Z"
   },
   {
    "duration": 5,
    "start_time": "2022-02-15T07:32:56.654Z"
   },
   {
    "duration": 860,
    "start_time": "2022-02-15T07:32:56.661Z"
   },
   {
    "duration": 1132,
    "start_time": "2022-02-15T07:32:57.523Z"
   },
   {
    "duration": 10,
    "start_time": "2022-02-15T07:32:58.656Z"
   },
   {
    "duration": 713,
    "start_time": "2022-02-15T07:32:58.667Z"
   },
   {
    "duration": 3,
    "start_time": "2022-02-15T07:43:27.898Z"
   },
   {
    "duration": 23,
    "start_time": "2022-02-15T07:43:28.737Z"
   },
   {
    "duration": 3,
    "start_time": "2022-02-15T07:43:29.190Z"
   },
   {
    "duration": 7,
    "start_time": "2022-02-15T07:43:29.534Z"
   },
   {
    "duration": 42,
    "start_time": "2022-02-15T07:43:29.857Z"
   },
   {
    "duration": 3,
    "start_time": "2022-02-15T07:43:30.016Z"
   },
   {
    "duration": 13,
    "start_time": "2022-02-15T07:43:30.359Z"
   },
   {
    "duration": 2362,
    "start_time": "2022-02-15T07:43:30.673Z"
   },
   {
    "duration": 1282,
    "start_time": "2022-02-15T07:43:33.037Z"
   },
   {
    "duration": 7,
    "start_time": "2022-02-15T07:43:34.640Z"
   },
   {
    "duration": 48,
    "start_time": "2022-02-15T07:43:36.014Z"
   },
   {
    "duration": 9,
    "start_time": "2022-02-15T07:43:37.095Z"
   },
   {
    "duration": 320,
    "start_time": "2022-02-15T07:43:37.849Z"
   },
   {
    "duration": 9,
    "start_time": "2022-02-15T07:43:38.370Z"
   },
   {
    "duration": 3,
    "start_time": "2022-02-15T07:43:38.795Z"
   },
   {
    "duration": 13,
    "start_time": "2022-02-15T07:43:39.179Z"
   },
   {
    "duration": 5,
    "start_time": "2022-02-15T07:43:40.330Z"
   },
   {
    "duration": 2,
    "start_time": "2022-02-15T07:43:40.721Z"
   },
   {
    "duration": 504,
    "start_time": "2022-02-15T07:43:40.887Z"
   },
   {
    "duration": 79069,
    "start_time": "2022-02-15T07:43:41.393Z"
   },
   {
    "duration": 1467,
    "start_time": "2022-02-15T07:45:00.465Z"
   },
   {
    "duration": 1204,
    "start_time": "2022-02-15T07:45:01.935Z"
   },
   {
    "duration": 18,
    "start_time": "2022-02-15T07:45:03.141Z"
   },
   {
    "duration": 6,
    "start_time": "2022-02-15T07:45:03.161Z"
   },
   {
    "duration": 847,
    "start_time": "2022-02-15T07:45:03.169Z"
   },
   {
    "duration": 1104,
    "start_time": "2022-02-15T07:45:04.018Z"
   },
   {
    "duration": 10,
    "start_time": "2022-02-15T07:45:05.130Z"
   },
   {
    "duration": 117,
    "start_time": "2022-02-15T07:45:05.142Z"
   },
   {
    "duration": 4,
    "start_time": "2022-02-15T08:13:27.369Z"
   },
   {
    "duration": 23,
    "start_time": "2022-02-15T08:13:27.767Z"
   },
   {
    "duration": 3,
    "start_time": "2022-02-15T08:13:29.064Z"
   },
   {
    "duration": 8,
    "start_time": "2022-02-15T08:13:30.385Z"
   },
   {
    "duration": 3,
    "start_time": "2022-02-15T08:13:31.871Z"
   },
   {
    "duration": 41,
    "start_time": "2022-02-15T08:13:32.986Z"
   },
   {
    "duration": 1096,
    "start_time": "2022-02-15T08:22:53.085Z"
   },
   {
    "duration": 1340,
    "start_time": "2022-02-15T12:38:12.391Z"
   },
   {
    "duration": 1428,
    "start_time": "2022-02-15T12:38:30.504Z"
   },
   {
    "duration": 2072,
    "start_time": "2022-02-15T14:35:46.712Z"
   },
   {
    "duration": 141,
    "start_time": "2022-02-15T14:35:48.786Z"
   },
   {
    "duration": 5,
    "start_time": "2022-02-15T14:35:48.929Z"
   },
   {
    "duration": 11,
    "start_time": "2022-02-15T14:35:48.936Z"
   },
   {
    "duration": 3,
    "start_time": "2022-02-15T14:35:48.950Z"
   },
   {
    "duration": 100,
    "start_time": "2022-02-15T14:35:48.955Z"
   },
   {
    "duration": 19,
    "start_time": "2022-02-15T14:35:49.057Z"
   },
   {
    "duration": 4207,
    "start_time": "2022-02-15T14:35:49.078Z"
   },
   {
    "duration": 1468,
    "start_time": "2022-02-15T14:35:53.289Z"
   },
   {
    "duration": 1951,
    "start_time": "2022-02-15T14:35:54.760Z"
   },
   {
    "duration": 10,
    "start_time": "2022-02-15T14:35:56.722Z"
   },
   {
    "duration": 91,
    "start_time": "2022-02-15T14:35:56.734Z"
   },
   {
    "duration": 106,
    "start_time": "2022-02-15T14:35:56.828Z"
   },
   {
    "duration": 590,
    "start_time": "2022-02-15T14:35:56.937Z"
   },
   {
    "duration": 13,
    "start_time": "2022-02-15T14:35:57.530Z"
   },
   {
    "duration": 5,
    "start_time": "2022-02-15T14:35:57.545Z"
   },
   {
    "duration": 20,
    "start_time": "2022-02-15T14:35:57.552Z"
   },
   {
    "duration": 6,
    "start_time": "2022-02-15T14:35:57.575Z"
   },
   {
    "duration": 808,
    "start_time": "2022-02-15T14:35:57.583Z"
   },
   {
    "duration": 142510,
    "start_time": "2022-02-15T14:35:58.393Z"
   },
   {
    "duration": 1440,
    "start_time": "2022-02-15T14:38:20.905Z"
   },
   {
    "duration": 1291,
    "start_time": "2022-02-15T14:38:22.348Z"
   },
   {
    "duration": 26,
    "start_time": "2022-02-15T14:38:23.642Z"
   },
   {
    "duration": 8,
    "start_time": "2022-02-15T14:38:23.670Z"
   },
   {
    "duration": 1630,
    "start_time": "2022-02-15T14:38:23.680Z"
   },
   {
    "duration": 2046,
    "start_time": "2022-02-15T14:38:25.312Z"
   },
   {
    "duration": 15,
    "start_time": "2022-02-15T14:38:27.362Z"
   },
   {
    "duration": 1046,
    "start_time": "2022-02-15T14:38:27.380Z"
   },
   {
    "duration": 618,
    "start_time": "2022-02-15T15:12:54.395Z"
   },
   {
    "duration": 22,
    "start_time": "2022-02-15T15:12:58.955Z"
   },
   {
    "duration": 4426,
    "start_time": "2022-02-15T16:08:48.517Z"
   },
   {
    "duration": 4109,
    "start_time": "2022-02-15T16:16:05.066Z"
   },
   {
    "duration": 3671,
    "start_time": "2022-02-15T16:16:18.795Z"
   },
   {
    "duration": 3022,
    "start_time": "2022-02-15T16:16:35.995Z"
   },
   {
    "duration": 2837,
    "start_time": "2022-02-15T16:18:11.031Z"
   },
   {
    "duration": 2668,
    "start_time": "2022-02-15T16:18:38.485Z"
   },
   {
    "duration": 2267,
    "start_time": "2022-02-15T16:21:16.276Z"
   },
   {
    "duration": 2277,
    "start_time": "2022-02-15T16:22:54.923Z"
   },
   {
    "duration": 2304,
    "start_time": "2022-02-15T16:29:06.588Z"
   },
   {
    "duration": 6,
    "start_time": "2022-02-15T16:39:05.598Z"
   },
   {
    "duration": 36,
    "start_time": "2022-02-15T16:39:05.607Z"
   },
   {
    "duration": 5,
    "start_time": "2022-02-15T16:39:05.645Z"
   },
   {
    "duration": 14,
    "start_time": "2022-02-15T16:39:05.821Z"
   },
   {
    "duration": 5,
    "start_time": "2022-02-15T16:39:05.838Z"
   },
   {
    "duration": 110,
    "start_time": "2022-02-15T16:39:05.848Z"
   },
   {
    "duration": 17,
    "start_time": "2022-02-15T16:39:05.963Z"
   },
   {
    "duration": 3051,
    "start_time": "2022-02-15T16:39:05.983Z"
   },
   {
    "duration": 2390,
    "start_time": "2022-02-15T16:39:09.036Z"
   },
   {
    "duration": 2417,
    "start_time": "2022-02-15T16:39:11.428Z"
   },
   {
    "duration": 11,
    "start_time": "2022-02-15T16:39:13.851Z"
   },
   {
    "duration": 158,
    "start_time": "2022-02-15T16:39:13.866Z"
   },
   {
    "duration": 597,
    "start_time": "2022-02-15T16:39:14.027Z"
   },
   {
    "duration": 7,
    "start_time": "2022-02-15T16:39:14.626Z"
   },
   {
    "duration": 21,
    "start_time": "2022-02-15T16:39:14.636Z"
   },
   {
    "duration": 8,
    "start_time": "2022-02-15T16:39:14.660Z"
   },
   {
    "duration": 792,
    "start_time": "2022-02-15T16:39:14.671Z"
   },
   {
    "duration": 145148,
    "start_time": "2022-02-15T16:39:15.466Z"
   },
   {
    "duration": 1701,
    "start_time": "2022-02-15T16:41:40.624Z"
   },
   {
    "duration": 1629,
    "start_time": "2022-02-15T16:41:42.329Z"
   },
   {
    "duration": 71,
    "start_time": "2022-02-15T16:41:43.961Z"
   },
   {
    "duration": 9,
    "start_time": "2022-02-15T16:41:44.035Z"
   },
   {
    "duration": 1593,
    "start_time": "2022-02-15T16:41:44.047Z"
   },
   {
    "duration": 2141,
    "start_time": "2022-02-15T16:41:45.643Z"
   },
   {
    "duration": 36,
    "start_time": "2022-02-15T16:41:47.790Z"
   },
   {
    "duration": 542,
    "start_time": "2022-02-15T16:41:47.828Z"
   },
   {
    "duration": 20,
    "start_time": "2022-02-15T16:47:34.189Z"
   },
   {
    "duration": 8,
    "start_time": "2022-02-15T16:47:58.461Z"
   },
   {
    "duration": 20,
    "start_time": "2022-02-15T16:48:05.438Z"
   },
   {
    "duration": 19,
    "start_time": "2022-02-15T16:51:07.617Z"
   },
   {
    "duration": 8,
    "start_time": "2022-02-15T16:51:45.264Z"
   },
   {
    "duration": 17,
    "start_time": "2022-02-15T21:08:31.372Z"
   },
   {
    "duration": 16,
    "start_time": "2022-02-15T21:17:43.274Z"
   },
   {
    "duration": 189,
    "start_time": "2022-02-15T21:17:43.827Z"
   },
   {
    "duration": 6,
    "start_time": "2022-02-15T21:53:08.245Z"
   },
   {
    "duration": 41,
    "start_time": "2022-02-15T21:53:08.255Z"
   },
   {
    "duration": 5,
    "start_time": "2022-02-15T21:53:08.300Z"
   },
   {
    "duration": 20,
    "start_time": "2022-02-15T21:53:08.308Z"
   },
   {
    "duration": 11,
    "start_time": "2022-02-15T21:53:08.331Z"
   },
   {
    "duration": 86,
    "start_time": "2022-02-15T21:53:08.345Z"
   },
   {
    "duration": 20,
    "start_time": "2022-02-15T21:53:08.434Z"
   },
   {
    "duration": 3235,
    "start_time": "2022-02-15T21:53:08.457Z"
   },
   {
    "duration": 2687,
    "start_time": "2022-02-15T21:53:11.697Z"
   },
   {
    "duration": 2360,
    "start_time": "2022-02-15T21:53:14.387Z"
   },
   {
    "duration": 13,
    "start_time": "2022-02-15T21:53:16.751Z"
   },
   {
    "duration": 107,
    "start_time": "2022-02-15T21:53:16.767Z"
   },
   {
    "duration": 686,
    "start_time": "2022-02-15T21:53:16.877Z"
   },
   {
    "duration": 4,
    "start_time": "2022-02-15T21:53:17.566Z"
   },
   {
    "duration": 23,
    "start_time": "2022-02-15T21:53:17.572Z"
   },
   {
    "duration": 38,
    "start_time": "2022-02-15T21:53:17.597Z"
   },
   {
    "duration": 959,
    "start_time": "2022-02-15T21:53:17.639Z"
   },
   {
    "duration": 136824,
    "start_time": "2022-02-15T21:53:18.600Z"
   },
   {
    "duration": 1903,
    "start_time": "2022-02-15T21:55:35.426Z"
   },
   {
    "duration": 1907,
    "start_time": "2022-02-15T21:55:37.332Z"
   },
   {
    "duration": 99,
    "start_time": "2022-02-15T21:55:39.242Z"
   },
   {
    "duration": 6,
    "start_time": "2022-02-15T21:55:39.344Z"
   },
   {
    "duration": 1502,
    "start_time": "2022-02-15T21:55:39.353Z"
   },
   {
    "duration": 1921,
    "start_time": "2022-02-15T21:55:40.857Z"
   },
   {
    "duration": 15,
    "start_time": "2022-02-15T21:55:42.780Z"
   },
   {
    "duration": 191,
    "start_time": "2022-02-15T21:55:42.798Z"
   },
   {
    "duration": 2091,
    "start_time": "2022-02-16T05:30:54.984Z"
   },
   {
    "duration": 46,
    "start_time": "2022-02-16T05:30:57.079Z"
   },
   {
    "duration": 5,
    "start_time": "2022-02-16T05:30:57.128Z"
   },
   {
    "duration": 11,
    "start_time": "2022-02-16T05:30:57.135Z"
   },
   {
    "duration": 3,
    "start_time": "2022-02-16T05:30:57.148Z"
   },
   {
    "duration": 95,
    "start_time": "2022-02-16T05:30:57.154Z"
   },
   {
    "duration": 16,
    "start_time": "2022-02-16T05:30:57.251Z"
   },
   {
    "duration": 3032,
    "start_time": "2022-02-16T05:30:57.271Z"
   },
   {
    "duration": 2528,
    "start_time": "2022-02-16T05:31:00.307Z"
   },
   {
    "duration": 2228,
    "start_time": "2022-02-16T05:31:02.838Z"
   },
   {
    "duration": 13,
    "start_time": "2022-02-16T05:31:05.069Z"
   },
   {
    "duration": 75,
    "start_time": "2022-02-16T05:31:05.084Z"
   },
   {
    "duration": 642,
    "start_time": "2022-02-16T05:31:05.161Z"
   },
   {
    "duration": 5,
    "start_time": "2022-02-16T05:31:05.806Z"
   },
   {
    "duration": 22,
    "start_time": "2022-02-16T05:31:05.814Z"
   },
   {
    "duration": 6,
    "start_time": "2022-02-16T05:31:05.838Z"
   },
   {
    "duration": 811,
    "start_time": "2022-02-16T05:31:05.847Z"
   },
   {
    "duration": 135718,
    "start_time": "2022-02-16T05:31:06.661Z"
   },
   {
    "duration": 1835,
    "start_time": "2022-02-16T05:33:22.381Z"
   },
   {
    "duration": 1897,
    "start_time": "2022-02-16T05:33:24.218Z"
   },
   {
    "duration": 20,
    "start_time": "2022-02-16T05:33:26.118Z"
   },
   {
    "duration": 8,
    "start_time": "2022-02-16T05:33:26.140Z"
   },
   {
    "duration": 1488,
    "start_time": "2022-02-16T05:33:26.152Z"
   },
   {
    "duration": 2034,
    "start_time": "2022-02-16T05:33:27.642Z"
   },
   {
    "duration": 16,
    "start_time": "2022-02-16T05:33:29.679Z"
   },
   {
    "duration": 1078,
    "start_time": "2022-02-16T05:33:29.709Z"
   },
   {
    "duration": 780,
    "start_time": "2022-02-16T05:36:17.296Z"
   },
   {
    "duration": 9,
    "start_time": "2022-02-16T05:52:28.514Z"
   },
   {
    "duration": 2029,
    "start_time": "2022-02-16T07:13:21.915Z"
   },
   {
    "duration": 44,
    "start_time": "2022-02-16T07:13:23.946Z"
   },
   {
    "duration": 5,
    "start_time": "2022-02-16T07:13:23.993Z"
   },
   {
    "duration": 11,
    "start_time": "2022-02-16T07:13:24.011Z"
   },
   {
    "duration": 3,
    "start_time": "2022-02-16T07:13:24.025Z"
   },
   {
    "duration": 99,
    "start_time": "2022-02-16T07:13:24.031Z"
   },
   {
    "duration": 19,
    "start_time": "2022-02-16T07:13:24.133Z"
   },
   {
    "duration": 3097,
    "start_time": "2022-02-16T07:13:24.156Z"
   },
   {
    "duration": 2639,
    "start_time": "2022-02-16T07:13:27.257Z"
   },
   {
    "duration": 822,
    "start_time": "2022-02-16T07:13:29.899Z"
   },
   {
    "duration": 2291,
    "start_time": "2022-02-16T07:13:30.723Z"
   },
   {
    "duration": 13,
    "start_time": "2022-02-16T07:13:33.017Z"
   },
   {
    "duration": 88,
    "start_time": "2022-02-16T07:13:33.032Z"
   },
   {
    "duration": 786,
    "start_time": "2022-02-16T07:13:33.124Z"
   },
   {
    "duration": 5,
    "start_time": "2022-02-16T07:13:33.912Z"
   },
   {
    "duration": 22,
    "start_time": "2022-02-16T07:13:33.919Z"
   },
   {
    "duration": 6,
    "start_time": "2022-02-16T07:13:33.944Z"
   },
   {
    "duration": 1132,
    "start_time": "2022-02-16T07:13:33.952Z"
   },
   {
    "duration": 143461,
    "start_time": "2022-02-16T07:13:35.086Z"
   },
   {
    "duration": 1974,
    "start_time": "2022-02-16T07:15:58.549Z"
   },
   {
    "duration": 1994,
    "start_time": "2022-02-16T07:16:00.525Z"
   },
   {
    "duration": 19,
    "start_time": "2022-02-16T07:16:02.521Z"
   },
   {
    "duration": 7,
    "start_time": "2022-02-16T07:16:02.544Z"
   },
   {
    "duration": 1505,
    "start_time": "2022-02-16T07:16:02.554Z"
   },
   {
    "duration": 2346,
    "start_time": "2022-02-16T07:16:04.061Z"
   },
   {
    "duration": 21,
    "start_time": "2022-02-16T07:16:06.412Z"
   },
   {
    "duration": 774,
    "start_time": "2022-02-16T07:16:06.436Z"
   },
   {
    "duration": 2341,
    "start_time": "2022-02-16T07:18:44.049Z"
   },
   {
    "duration": 7,
    "start_time": "2022-02-16T07:21:08.631Z"
   },
   {
    "duration": 9,
    "start_time": "2022-02-16T07:21:09.422Z"
   },
   {
    "duration": 95,
    "start_time": "2022-02-16T07:21:11.917Z"
   },
   {
    "duration": 634,
    "start_time": "2022-02-16T07:21:13.322Z"
   },
   {
    "duration": 127,
    "start_time": "2022-02-16T07:21:37.197Z"
   },
   {
    "duration": 502,
    "start_time": "2022-02-16T07:21:37.796Z"
   },
   {
    "duration": 4,
    "start_time": "2022-02-16T07:22:10.084Z"
   },
   {
    "duration": 22,
    "start_time": "2022-02-16T07:22:11.100Z"
   },
   {
    "duration": 7,
    "start_time": "2022-02-16T07:26:22.851Z"
   },
   {
    "duration": 99,
    "start_time": "2022-02-16T07:27:18.313Z"
   },
   {
    "duration": 6,
    "start_time": "2022-02-16T07:27:18.850Z"
   },
   {
    "duration": 13,
    "start_time": "2022-02-16T07:27:32.661Z"
   },
   {
    "duration": 12,
    "start_time": "2022-02-16T07:28:03.005Z"
   },
   {
    "duration": 467,
    "start_time": "2022-02-16T08:08:59.945Z"
   },
   {
    "duration": 6,
    "start_time": "2022-02-16T08:09:13.531Z"
   },
   {
    "duration": 401,
    "start_time": "2022-02-16T08:09:19.053Z"
   },
   {
    "duration": 425,
    "start_time": "2022-02-16T08:09:28.329Z"
   },
   {
    "duration": 6,
    "start_time": "2022-02-16T08:09:35.098Z"
   },
   {
    "duration": 497,
    "start_time": "2022-02-16T08:10:22.302Z"
   },
   {
    "duration": 400,
    "start_time": "2022-02-16T08:10:23.517Z"
   },
   {
    "duration": 18,
    "start_time": "2022-02-16T08:10:45.607Z"
   },
   {
    "duration": 6,
    "start_time": "2022-02-16T08:11:41.960Z"
   },
   {
    "duration": 8163,
    "start_time": "2022-02-16T08:12:11.964Z"
   },
   {
    "duration": 509,
    "start_time": "2022-02-16T08:20:36.074Z"
   },
   {
    "duration": 322,
    "start_time": "2022-02-16T08:20:37.394Z"
   },
   {
    "duration": 30,
    "start_time": "2022-02-16T08:20:57.093Z"
   },
   {
    "duration": 559,
    "start_time": "2022-02-16T08:23:36.694Z"
   },
   {
    "duration": 9,
    "start_time": "2022-02-16T08:23:58.072Z"
   },
   {
    "duration": 71,
    "start_time": "2022-02-16T08:24:01.483Z"
   },
   {
    "duration": 14,
    "start_time": "2022-02-16T08:24:02.026Z"
   },
   {
    "duration": 513,
    "start_time": "2022-02-16T08:24:02.672Z"
   },
   {
    "duration": 28,
    "start_time": "2022-02-16T08:24:03.350Z"
   },
   {
    "duration": 6,
    "start_time": "2022-02-16T08:24:06.238Z"
   },
   {
    "duration": 23,
    "start_time": "2022-02-16T08:24:06.905Z"
   },
   {
    "duration": 1888,
    "start_time": "2022-02-16T08:25:34.423Z"
   },
   {
    "duration": 19,
    "start_time": "2022-02-16T08:26:33.297Z"
   },
   {
    "duration": 9,
    "start_time": "2022-02-16T08:26:35.284Z"
   },
   {
    "duration": 1900,
    "start_time": "2022-02-16T08:26:36.562Z"
   },
   {
    "duration": 2006,
    "start_time": "2022-02-16T08:26:38.466Z"
   },
   {
    "duration": 175,
    "start_time": "2022-02-16T08:27:41.236Z"
   },
   {
    "duration": 7,
    "start_time": "2022-02-16T08:36:53.175Z"
   },
   {
    "duration": 39,
    "start_time": "2022-02-16T08:36:55.963Z"
   },
   {
    "duration": 5,
    "start_time": "2022-02-16T08:36:56.869Z"
   },
   {
    "duration": 10,
    "start_time": "2022-02-16T08:36:57.161Z"
   },
   {
    "duration": 4,
    "start_time": "2022-02-16T08:36:57.491Z"
   },
   {
    "duration": 53,
    "start_time": "2022-02-16T08:37:04.659Z"
   },
   {
    "duration": 101,
    "start_time": "2022-02-16T08:37:04.813Z"
   },
   {
    "duration": 544,
    "start_time": "2022-02-16T08:37:04.970Z"
   },
   {
    "duration": 30,
    "start_time": "2022-02-16T08:37:05.517Z"
   },
   {
    "duration": 5,
    "start_time": "2022-02-16T08:37:06.584Z"
   },
   {
    "duration": 21,
    "start_time": "2022-02-16T08:37:06.740Z"
   },
   {
    "duration": 801,
    "start_time": "2022-02-16T08:37:11.983Z"
   },
   {
    "duration": 1676,
    "start_time": "2022-02-17T03:49:49.743Z"
   },
   {
    "duration": 46,
    "start_time": "2022-02-17T03:49:51.421Z"
   },
   {
    "duration": 4,
    "start_time": "2022-02-17T03:49:51.470Z"
   },
   {
    "duration": 10,
    "start_time": "2022-02-17T03:49:51.477Z"
   },
   {
    "duration": 4,
    "start_time": "2022-02-17T03:49:51.489Z"
   },
   {
    "duration": 84,
    "start_time": "2022-02-17T03:49:51.495Z"
   },
   {
    "duration": 11,
    "start_time": "2022-02-17T03:49:51.581Z"
   },
   {
    "duration": 2133,
    "start_time": "2022-02-17T03:49:51.595Z"
   },
   {
    "duration": 1578,
    "start_time": "2022-02-17T03:49:53.731Z"
   },
   {
    "duration": 604,
    "start_time": "2022-02-17T03:49:55.311Z"
   },
   {
    "duration": 1617,
    "start_time": "2022-02-17T03:49:55.917Z"
   },
   {
    "duration": 397,
    "start_time": "2022-02-17T03:49:57.535Z"
   },
   {
    "duration": -33,
    "start_time": "2022-02-17T03:49:57.967Z"
   },
   {
    "duration": -41,
    "start_time": "2022-02-17T03:49:57.977Z"
   },
   {
    "duration": -48,
    "start_time": "2022-02-17T03:49:57.985Z"
   },
   {
    "duration": -56,
    "start_time": "2022-02-17T03:49:57.994Z"
   },
   {
    "duration": -62,
    "start_time": "2022-02-17T03:49:58.001Z"
   },
   {
    "duration": -67,
    "start_time": "2022-02-17T03:49:58.007Z"
   },
   {
    "duration": -71,
    "start_time": "2022-02-17T03:49:58.012Z"
   },
   {
    "duration": -77,
    "start_time": "2022-02-17T03:49:58.019Z"
   },
   {
    "duration": -91,
    "start_time": "2022-02-17T03:49:58.034Z"
   },
   {
    "duration": -96,
    "start_time": "2022-02-17T03:49:58.040Z"
   },
   {
    "duration": -99,
    "start_time": "2022-02-17T03:49:58.044Z"
   },
   {
    "duration": -104,
    "start_time": "2022-02-17T03:49:58.050Z"
   },
   {
    "duration": -109,
    "start_time": "2022-02-17T03:49:58.056Z"
   },
   {
    "duration": -114,
    "start_time": "2022-02-17T03:49:58.062Z"
   },
   {
    "duration": -117,
    "start_time": "2022-02-17T03:49:58.067Z"
   },
   {
    "duration": -122,
    "start_time": "2022-02-17T03:49:58.073Z"
   },
   {
    "duration": 8,
    "start_time": "2022-02-17T03:50:53.100Z"
   },
   {
    "duration": 32,
    "start_time": "2022-02-17T03:50:53.968Z"
   },
   {
    "duration": 10,
    "start_time": "2022-02-17T03:50:54.170Z"
   },
   {
    "duration": 379,
    "start_time": "2022-02-17T03:50:54.367Z"
   },
   {
    "duration": 24,
    "start_time": "2022-02-17T03:50:54.748Z"
   },
   {
    "duration": 4,
    "start_time": "2022-02-17T03:50:55.108Z"
   },
   {
    "duration": 15,
    "start_time": "2022-02-17T03:50:55.326Z"
   },
   {
    "duration": 630,
    "start_time": "2022-02-17T03:50:59.942Z"
   },
   {
    "duration": 104096,
    "start_time": "2022-02-17T03:51:00.574Z"
   },
   {
    "duration": 1901,
    "start_time": "2022-02-17T03:52:44.672Z"
   },
   {
    "duration": 15,
    "start_time": "2022-02-17T03:52:46.575Z"
   },
   {
    "duration": 13,
    "start_time": "2022-02-17T03:52:46.592Z"
   },
   {
    "duration": 1013,
    "start_time": "2022-02-17T03:52:46.607Z"
   },
   {
    "duration": 1601,
    "start_time": "2022-02-17T03:52:47.622Z"
   },
   {
    "duration": 11,
    "start_time": "2022-02-17T03:52:49.225Z"
   },
   {
    "duration": 566,
    "start_time": "2022-02-17T03:52:49.238Z"
   },
   {
    "duration": 8,
    "start_time": "2022-02-17T03:55:10.255Z"
   },
   {
    "duration": 2,
    "start_time": "2022-02-17T03:55:33.697Z"
   },
   {
    "duration": 9,
    "start_time": "2022-02-17T03:58:02.123Z"
   },
   {
    "duration": 6,
    "start_time": "2022-02-17T03:58:19.883Z"
   },
   {
    "duration": 5,
    "start_time": "2022-02-17T04:02:03.292Z"
   },
   {
    "duration": 11,
    "start_time": "2022-02-17T04:02:38.347Z"
   },
   {
    "duration": 10,
    "start_time": "2022-02-17T04:03:07.879Z"
   },
   {
    "duration": 13,
    "start_time": "2022-02-17T04:04:03.011Z"
   },
   {
    "duration": 13,
    "start_time": "2022-02-17T04:04:15.681Z"
   },
   {
    "duration": 10,
    "start_time": "2022-02-17T04:04:28.167Z"
   },
   {
    "duration": 1977,
    "start_time": "2022-02-17T07:26:19.952Z"
   },
   {
    "duration": 44,
    "start_time": "2022-02-17T07:26:21.931Z"
   },
   {
    "duration": 6,
    "start_time": "2022-02-17T07:26:21.978Z"
   },
   {
    "duration": 13,
    "start_time": "2022-02-17T07:26:21.987Z"
   },
   {
    "duration": 21,
    "start_time": "2022-02-17T07:26:22.003Z"
   },
   {
    "duration": 71,
    "start_time": "2022-02-17T07:26:22.026Z"
   },
   {
    "duration": 38,
    "start_time": "2022-02-17T07:26:22.099Z"
   },
   {
    "duration": 2998,
    "start_time": "2022-02-17T07:26:22.140Z"
   },
   {
    "duration": 2322,
    "start_time": "2022-02-17T07:26:25.142Z"
   },
   {
    "duration": 860,
    "start_time": "2022-02-17T07:26:27.467Z"
   },
   {
    "duration": 2452,
    "start_time": "2022-02-17T07:26:28.330Z"
   },
   {
    "duration": 9,
    "start_time": "2022-02-17T07:26:30.785Z"
   },
   {
    "duration": 25,
    "start_time": "2022-02-17T07:26:30.798Z"
   },
   {
    "duration": 28,
    "start_time": "2022-02-17T07:26:30.826Z"
   },
   {
    "duration": 23,
    "start_time": "2022-02-17T07:26:30.856Z"
   },
   {
    "duration": 63,
    "start_time": "2022-02-17T07:26:30.881Z"
   },
   {
    "duration": 177,
    "start_time": "2022-02-17T07:26:30.947Z"
   },
   {
    "duration": 546,
    "start_time": "2022-02-17T07:26:31.128Z"
   },
   {
    "duration": 30,
    "start_time": "2022-02-17T07:26:31.676Z"
   },
   {
    "duration": 4,
    "start_time": "2022-02-17T07:26:31.723Z"
   },
   {
    "duration": 52,
    "start_time": "2022-02-17T07:26:31.729Z"
   },
   {
    "duration": 792,
    "start_time": "2022-02-17T07:26:31.784Z"
   },
   {
    "duration": 139061,
    "start_time": "2022-02-17T07:26:32.581Z"
   },
   {
    "duration": 1883,
    "start_time": "2022-02-17T07:28:51.645Z"
   },
   {
    "duration": 18,
    "start_time": "2022-02-17T07:28:53.531Z"
   },
   {
    "duration": 8,
    "start_time": "2022-02-17T07:28:53.551Z"
   },
   {
    "duration": 1543,
    "start_time": "2022-02-17T07:28:53.561Z"
   },
   {
    "duration": 2230,
    "start_time": "2022-02-17T07:28:55.106Z"
   },
   {
    "duration": 20,
    "start_time": "2022-02-17T07:28:57.339Z"
   },
   {
    "duration": 772,
    "start_time": "2022-02-17T07:28:57.362Z"
   },
   {
    "duration": 4,
    "start_time": "2022-02-17T07:28:58.136Z"
   },
   {
    "duration": 28,
    "start_time": "2022-02-17T07:28:58.143Z"
   },
   {
    "duration": 15,
    "start_time": "2022-02-17T07:28:58.225Z"
   },
   {
    "duration": 8,
    "start_time": "2022-02-17T07:34:40.466Z"
   },
   {
    "duration": 51,
    "start_time": "2022-02-17T07:34:40.609Z"
   },
   {
    "duration": 5,
    "start_time": "2022-02-17T07:34:41.071Z"
   },
   {
    "duration": 13,
    "start_time": "2022-02-17T07:34:41.371Z"
   },
   {
    "duration": 4,
    "start_time": "2022-02-17T07:34:41.676Z"
   },
   {
    "duration": 86,
    "start_time": "2022-02-17T07:34:42.140Z"
   },
   {
    "duration": 18,
    "start_time": "2022-02-17T07:34:43.154Z"
   },
   {
    "duration": 2988,
    "start_time": "2022-02-17T07:34:44.129Z"
   },
   {
    "duration": 2569,
    "start_time": "2022-02-17T07:34:47.120Z"
   },
   {
    "duration": 821,
    "start_time": "2022-02-17T07:34:49.693Z"
   },
   {
    "duration": 2164,
    "start_time": "2022-02-17T07:34:50.517Z"
   },
   {
    "duration": 9,
    "start_time": "2022-02-17T07:34:52.702Z"
   },
   {
    "duration": 3,
    "start_time": "2022-02-17T07:34:53.235Z"
   },
   {
    "duration": 10,
    "start_time": "2022-02-17T07:34:54.873Z"
   },
   {
    "duration": 3,
    "start_time": "2022-02-17T07:34:56.363Z"
   },
   {
    "duration": 678,
    "start_time": "2022-02-17T07:34:57.979Z"
   },
   {
    "duration": 423,
    "start_time": "2022-02-17T07:36:46.775Z"
   },
   {
    "duration": 333,
    "start_time": "2022-02-17T07:37:05.653Z"
   },
   {
    "duration": 519,
    "start_time": "2022-02-17T07:41:41.627Z"
   },
   {
    "duration": 13,
    "start_time": "2022-02-17T07:42:05.944Z"
   },
   {
    "duration": 9,
    "start_time": "2022-02-17T07:42:06.314Z"
   },
   {
    "duration": 11,
    "start_time": "2022-02-17T07:42:07.455Z"
   },
   {
    "duration": 517,
    "start_time": "2022-02-17T07:42:14.973Z"
   },
   {
    "duration": 28,
    "start_time": "2022-02-17T07:42:15.765Z"
   },
   {
    "duration": 1748,
    "start_time": "2022-02-18T04:27:34.667Z"
   },
   {
    "duration": 35,
    "start_time": "2022-02-18T04:27:36.417Z"
   },
   {
    "duration": 4,
    "start_time": "2022-02-18T04:27:36.454Z"
   },
   {
    "duration": 10,
    "start_time": "2022-02-18T04:27:36.460Z"
   },
   {
    "duration": 2,
    "start_time": "2022-02-18T04:27:36.472Z"
   },
   {
    "duration": 54,
    "start_time": "2022-02-18T04:27:36.476Z"
   },
   {
    "duration": 11,
    "start_time": "2022-02-18T04:27:36.532Z"
   },
   {
    "duration": 2015,
    "start_time": "2022-02-18T04:27:36.545Z"
   },
   {
    "duration": 1616,
    "start_time": "2022-02-18T04:27:38.563Z"
   },
   {
    "duration": 572,
    "start_time": "2022-02-18T04:27:40.181Z"
   },
   {
    "duration": 1637,
    "start_time": "2022-02-18T04:27:40.755Z"
   },
   {
    "duration": 7,
    "start_time": "2022-02-18T04:27:42.394Z"
   },
   {
    "duration": 15,
    "start_time": "2022-02-18T04:27:42.402Z"
   },
   {
    "duration": 9,
    "start_time": "2022-02-18T04:27:42.419Z"
   },
   {
    "duration": 3,
    "start_time": "2022-02-18T04:27:42.430Z"
   },
   {
    "duration": 394,
    "start_time": "2022-02-18T04:27:42.434Z"
   },
   {
    "duration": 36,
    "start_time": "2022-02-18T04:27:42.795Z"
   },
   {
    "duration": 25,
    "start_time": "2022-02-18T04:27:42.807Z"
   },
   {
    "duration": 21,
    "start_time": "2022-02-18T04:27:42.812Z"
   },
   {
    "duration": 16,
    "start_time": "2022-02-18T04:27:42.818Z"
   },
   {
    "duration": 7,
    "start_time": "2022-02-18T04:27:42.828Z"
   },
   {
    "duration": 2,
    "start_time": "2022-02-18T04:27:42.834Z"
   },
   {
    "duration": -4,
    "start_time": "2022-02-18T04:27:42.841Z"
   },
   {
    "duration": -8,
    "start_time": "2022-02-18T04:27:42.846Z"
   },
   {
    "duration": -15,
    "start_time": "2022-02-18T04:27:42.854Z"
   },
   {
    "duration": -21,
    "start_time": "2022-02-18T04:27:42.861Z"
   },
   {
    "duration": -25,
    "start_time": "2022-02-18T04:27:42.867Z"
   },
   {
    "duration": -30,
    "start_time": "2022-02-18T04:27:42.873Z"
   },
   {
    "duration": -36,
    "start_time": "2022-02-18T04:27:42.880Z"
   },
   {
    "duration": -48,
    "start_time": "2022-02-18T04:27:42.893Z"
   },
   {
    "duration": -56,
    "start_time": "2022-02-18T04:27:42.902Z"
   },
   {
    "duration": -62,
    "start_time": "2022-02-18T04:27:42.909Z"
   },
   {
    "duration": -69,
    "start_time": "2022-02-18T04:27:42.917Z"
   },
   {
    "duration": 5,
    "start_time": "2022-02-18T04:28:19.526Z"
   },
   {
    "duration": 302,
    "start_time": "2022-02-18T04:28:32.547Z"
   },
   {
    "duration": 268,
    "start_time": "2022-02-18T04:31:32.006Z"
   },
   {
    "duration": 268,
    "start_time": "2022-02-18T04:31:39.339Z"
   },
   {
    "duration": 17,
    "start_time": "2022-02-18T04:31:46.832Z"
   },
   {
    "duration": 2033,
    "start_time": "2022-03-09T08:13:41.473Z"
   },
   {
    "duration": 45,
    "start_time": "2022-03-09T08:13:43.915Z"
   },
   {
    "duration": 5,
    "start_time": "2022-03-09T08:13:44.418Z"
   },
   {
    "duration": 10,
    "start_time": "2022-03-09T08:13:44.759Z"
   },
   {
    "duration": 5,
    "start_time": "2022-03-09T08:13:45.106Z"
   },
   {
    "duration": 71,
    "start_time": "2022-03-09T08:13:45.620Z"
   },
   {
    "duration": 15,
    "start_time": "2022-03-09T08:13:46.292Z"
   },
   {
    "duration": 2929,
    "start_time": "2022-03-09T08:13:46.987Z"
   },
   {
    "duration": 2411,
    "start_time": "2022-03-09T08:13:49.919Z"
   },
   {
    "duration": 787,
    "start_time": "2022-03-09T08:13:52.333Z"
   },
   {
    "duration": 2232,
    "start_time": "2022-03-09T08:17:33.937Z"
   },
   {
    "duration": 1406,
    "start_time": "2022-03-11T13:14:23.844Z"
   },
   {
    "duration": 29,
    "start_time": "2022-03-11T13:14:25.252Z"
   },
   {
    "duration": 3,
    "start_time": "2022-03-11T13:14:25.283Z"
   },
   {
    "duration": 8,
    "start_time": "2022-03-11T13:14:25.288Z"
   },
   {
    "duration": 2,
    "start_time": "2022-03-11T13:14:25.298Z"
   },
   {
    "duration": 55,
    "start_time": "2022-03-11T13:14:25.302Z"
   },
   {
    "duration": 11,
    "start_time": "2022-03-11T13:14:25.358Z"
   },
   {
    "duration": 1722,
    "start_time": "2022-03-11T13:14:25.370Z"
   },
   {
    "duration": 1391,
    "start_time": "2022-03-11T13:14:27.094Z"
   },
   {
    "duration": 543,
    "start_time": "2022-03-11T13:14:28.488Z"
   },
   {
    "duration": 1349,
    "start_time": "2022-03-11T13:14:29.033Z"
   },
   {
    "duration": 6,
    "start_time": "2022-03-11T13:14:30.383Z"
   },
   {
    "duration": 8,
    "start_time": "2022-03-11T13:14:30.390Z"
   },
   {
    "duration": 11,
    "start_time": "2022-03-11T13:14:30.400Z"
   },
   {
    "duration": 27,
    "start_time": "2022-03-11T13:14:30.413Z"
   },
   {
    "duration": 3,
    "start_time": "2022-03-11T13:14:30.442Z"
   },
   {
    "duration": 436,
    "start_time": "2022-03-11T13:14:30.447Z"
   },
   {
    "duration": -123,
    "start_time": "2022-03-11T13:14:31.008Z"
   },
   {
    "duration": -134,
    "start_time": "2022-03-11T13:14:31.020Z"
   },
   {
    "duration": -146,
    "start_time": "2022-03-11T13:14:31.033Z"
   },
   {
    "duration": -155,
    "start_time": "2022-03-11T13:14:31.043Z"
   },
   {
    "duration": -164,
    "start_time": "2022-03-11T13:14:31.054Z"
   },
   {
    "duration": -172,
    "start_time": "2022-03-11T13:14:31.063Z"
   },
   {
    "duration": -183,
    "start_time": "2022-03-11T13:14:31.075Z"
   },
   {
    "duration": -192,
    "start_time": "2022-03-11T13:14:31.085Z"
   },
   {
    "duration": -214,
    "start_time": "2022-03-11T13:14:31.108Z"
   },
   {
    "duration": -224,
    "start_time": "2022-03-11T13:14:31.119Z"
   },
   {
    "duration": -236,
    "start_time": "2022-03-11T13:14:31.132Z"
   },
   {
    "duration": -245,
    "start_time": "2022-03-11T13:14:31.142Z"
   },
   {
    "duration": -253,
    "start_time": "2022-03-11T13:14:31.151Z"
   },
   {
    "duration": -260,
    "start_time": "2022-03-11T13:14:31.160Z"
   },
   {
    "duration": -270,
    "start_time": "2022-03-11T13:14:31.171Z"
   },
   {
    "duration": -285,
    "start_time": "2022-03-11T13:14:31.186Z"
   },
   {
    "duration": -293,
    "start_time": "2022-03-11T13:14:31.195Z"
   },
   {
    "duration": 1663,
    "start_time": "2022-04-12T16:51:02.345Z"
   },
   {
    "duration": 35,
    "start_time": "2022-04-12T16:51:04.011Z"
   },
   {
    "duration": 5,
    "start_time": "2022-04-12T16:51:04.048Z"
   },
   {
    "duration": 20,
    "start_time": "2022-04-12T16:51:04.055Z"
   },
   {
    "duration": 8,
    "start_time": "2022-04-12T16:51:04.077Z"
   },
   {
    "duration": 63,
    "start_time": "2022-04-12T16:51:04.088Z"
   },
   {
    "duration": 14,
    "start_time": "2022-04-12T16:51:04.153Z"
   },
   {
    "duration": 1256,
    "start_time": "2022-04-12T16:51:04.169Z"
   },
   {
    "duration": 927,
    "start_time": "2022-04-12T16:51:05.427Z"
   },
   {
    "duration": 621,
    "start_time": "2022-04-12T16:51:06.357Z"
   },
   {
    "duration": 2234,
    "start_time": "2022-04-12T16:51:06.981Z"
   },
   {
    "duration": 10,
    "start_time": "2022-04-12T16:51:09.217Z"
   },
   {
    "duration": 16,
    "start_time": "2022-04-12T16:51:09.229Z"
   },
   {
    "duration": 23,
    "start_time": "2022-04-12T16:51:09.248Z"
   },
   {
    "duration": 44,
    "start_time": "2022-04-12T16:51:09.274Z"
   },
   {
    "duration": 4,
    "start_time": "2022-04-12T16:51:09.321Z"
   },
   {
    "duration": 377,
    "start_time": "2022-04-12T16:51:09.327Z"
   },
   {
    "duration": 0,
    "start_time": "2022-04-12T16:51:09.707Z"
   },
   {
    "duration": 0,
    "start_time": "2022-04-12T16:51:09.709Z"
   },
   {
    "duration": 0,
    "start_time": "2022-04-12T16:51:09.710Z"
   },
   {
    "duration": 0,
    "start_time": "2022-04-12T16:51:09.712Z"
   },
   {
    "duration": 0,
    "start_time": "2022-04-12T16:51:09.713Z"
   },
   {
    "duration": 0,
    "start_time": "2022-04-12T16:51:09.714Z"
   },
   {
    "duration": 0,
    "start_time": "2022-04-12T16:51:09.715Z"
   },
   {
    "duration": 0,
    "start_time": "2022-04-12T16:51:09.716Z"
   },
   {
    "duration": 0,
    "start_time": "2022-04-12T16:51:09.717Z"
   },
   {
    "duration": 0,
    "start_time": "2022-04-12T16:51:09.719Z"
   },
   {
    "duration": 0,
    "start_time": "2022-04-12T16:51:09.721Z"
   },
   {
    "duration": 0,
    "start_time": "2022-04-12T16:51:09.723Z"
   },
   {
    "duration": 1,
    "start_time": "2022-04-12T16:51:09.724Z"
   },
   {
    "duration": 0,
    "start_time": "2022-04-12T16:51:09.726Z"
   },
   {
    "duration": 0,
    "start_time": "2022-04-12T16:51:09.728Z"
   },
   {
    "duration": 0,
    "start_time": "2022-04-12T16:51:09.730Z"
   },
   {
    "duration": 0,
    "start_time": "2022-04-12T16:51:09.731Z"
   },
   {
    "duration": 11,
    "start_time": "2022-04-12T16:51:42.645Z"
   },
   {
    "duration": 13,
    "start_time": "2022-04-12T16:51:46.478Z"
   },
   {
    "duration": 13,
    "start_time": "2022-04-12T16:51:50.861Z"
   },
   {
    "duration": 12,
    "start_time": "2022-04-12T16:51:51.536Z"
   },
   {
    "duration": 1542,
    "start_time": "2022-07-14T08:41:25.736Z"
   },
   {
    "duration": 108,
    "start_time": "2022-07-14T08:41:27.280Z"
   },
   {
    "duration": 4,
    "start_time": "2022-07-14T08:41:27.389Z"
   },
   {
    "duration": 13,
    "start_time": "2022-07-14T08:41:27.394Z"
   },
   {
    "duration": 2,
    "start_time": "2022-07-14T08:41:27.409Z"
   },
   {
    "duration": 45,
    "start_time": "2022-07-14T08:41:27.412Z"
   },
   {
    "duration": 11,
    "start_time": "2022-07-14T08:41:27.459Z"
   },
   {
    "duration": 1064,
    "start_time": "2022-07-14T08:41:27.471Z"
   },
   {
    "duration": 836,
    "start_time": "2022-07-14T08:41:28.537Z"
   },
   {
    "duration": 559,
    "start_time": "2022-07-14T08:41:29.375Z"
   },
   {
    "duration": 1520,
    "start_time": "2022-07-14T08:41:29.936Z"
   },
   {
    "duration": 8,
    "start_time": "2022-07-14T08:41:31.458Z"
   },
   {
    "duration": 15,
    "start_time": "2022-07-14T08:41:31.467Z"
   },
   {
    "duration": 9,
    "start_time": "2022-07-14T08:41:31.485Z"
   },
   {
    "duration": 65,
    "start_time": "2022-07-14T08:41:31.496Z"
   },
   {
    "duration": 3,
    "start_time": "2022-07-14T08:41:31.563Z"
   },
   {
    "duration": 28,
    "start_time": "2022-07-14T08:41:31.660Z"
   },
   {
    "duration": 280,
    "start_time": "2022-07-14T08:41:31.690Z"
   },
   {
    "duration": 0,
    "start_time": "2022-07-14T08:41:31.972Z"
   },
   {
    "duration": 0,
    "start_time": "2022-07-14T08:41:31.973Z"
   },
   {
    "duration": 0,
    "start_time": "2022-07-14T08:41:31.974Z"
   },
   {
    "duration": 0,
    "start_time": "2022-07-14T08:41:31.976Z"
   },
   {
    "duration": 0,
    "start_time": "2022-07-14T08:41:31.977Z"
   },
   {
    "duration": 0,
    "start_time": "2022-07-14T08:41:31.977Z"
   },
   {
    "duration": 0,
    "start_time": "2022-07-14T08:41:31.978Z"
   },
   {
    "duration": 0,
    "start_time": "2022-07-14T08:41:31.979Z"
   },
   {
    "duration": 0,
    "start_time": "2022-07-14T08:41:31.980Z"
   },
   {
    "duration": 0,
    "start_time": "2022-07-14T08:41:31.981Z"
   },
   {
    "duration": 0,
    "start_time": "2022-07-14T08:41:31.982Z"
   },
   {
    "duration": 0,
    "start_time": "2022-07-14T08:41:31.983Z"
   },
   {
    "duration": 0,
    "start_time": "2022-07-14T08:41:31.984Z"
   },
   {
    "duration": 0,
    "start_time": "2022-07-14T08:41:31.984Z"
   },
   {
    "duration": 0,
    "start_time": "2022-07-14T08:41:31.985Z"
   },
   {
    "duration": 0,
    "start_time": "2022-07-14T08:41:31.986Z"
   },
   {
    "duration": 1602,
    "start_time": "2022-07-15T08:11:25.529Z"
   },
   {
    "duration": 89,
    "start_time": "2022-07-15T08:11:27.134Z"
   },
   {
    "duration": 4,
    "start_time": "2022-07-15T08:11:27.225Z"
   },
   {
    "duration": 15,
    "start_time": "2022-07-15T08:11:27.231Z"
   },
   {
    "duration": 3,
    "start_time": "2022-07-15T08:11:27.248Z"
   },
   {
    "duration": 47,
    "start_time": "2022-07-15T08:11:27.252Z"
   },
   {
    "duration": 11,
    "start_time": "2022-07-15T08:11:27.301Z"
   },
   {
    "duration": 1177,
    "start_time": "2022-07-15T08:11:27.315Z"
   },
   {
    "duration": 874,
    "start_time": "2022-07-15T08:11:28.493Z"
   },
   {
    "duration": 617,
    "start_time": "2022-07-15T08:11:29.369Z"
   },
   {
    "duration": 1553,
    "start_time": "2022-07-15T08:11:29.987Z"
   },
   {
    "duration": 6,
    "start_time": "2022-07-15T08:11:31.542Z"
   },
   {
    "duration": 11,
    "start_time": "2022-07-15T08:11:31.550Z"
   },
   {
    "duration": 18,
    "start_time": "2022-07-15T08:11:31.562Z"
   },
   {
    "duration": 12,
    "start_time": "2022-07-15T08:11:31.581Z"
   },
   {
    "duration": 77,
    "start_time": "2022-07-15T08:11:31.595Z"
   },
   {
    "duration": 118,
    "start_time": "2022-07-15T08:11:31.678Z"
   },
   {
    "duration": 282,
    "start_time": "2022-07-15T08:11:31.799Z"
   },
   {
    "duration": 0,
    "start_time": "2022-07-15T08:11:32.082Z"
   },
   {
    "duration": 0,
    "start_time": "2022-07-15T08:11:32.084Z"
   },
   {
    "duration": 0,
    "start_time": "2022-07-15T08:11:32.085Z"
   },
   {
    "duration": 0,
    "start_time": "2022-07-15T08:11:32.087Z"
   },
   {
    "duration": 0,
    "start_time": "2022-07-15T08:11:32.089Z"
   },
   {
    "duration": 0,
    "start_time": "2022-07-15T08:11:32.090Z"
   },
   {
    "duration": 0,
    "start_time": "2022-07-15T08:11:32.092Z"
   },
   {
    "duration": 0,
    "start_time": "2022-07-15T08:11:32.093Z"
   },
   {
    "duration": 0,
    "start_time": "2022-07-15T08:11:32.095Z"
   },
   {
    "duration": 0,
    "start_time": "2022-07-15T08:11:32.096Z"
   },
   {
    "duration": 0,
    "start_time": "2022-07-15T08:11:32.098Z"
   },
   {
    "duration": 0,
    "start_time": "2022-07-15T08:11:32.099Z"
   },
   {
    "duration": 0,
    "start_time": "2022-07-15T08:11:32.101Z"
   },
   {
    "duration": 0,
    "start_time": "2022-07-15T08:11:32.102Z"
   },
   {
    "duration": 1,
    "start_time": "2022-07-15T08:11:32.103Z"
   },
   {
    "duration": 0,
    "start_time": "2022-07-15T08:11:32.105Z"
   },
   {
    "duration": 1573,
    "start_time": "2022-10-20T17:10:41.050Z"
   },
   {
    "duration": 154,
    "start_time": "2022-10-20T17:10:42.625Z"
   },
   {
    "duration": 4,
    "start_time": "2022-10-20T17:10:42.780Z"
   },
   {
    "duration": 15,
    "start_time": "2022-10-20T17:10:42.786Z"
   },
   {
    "duration": 3,
    "start_time": "2022-10-20T17:10:42.804Z"
   },
   {
    "duration": 54,
    "start_time": "2022-10-20T17:10:42.808Z"
   },
   {
    "duration": 12,
    "start_time": "2022-10-20T17:10:42.864Z"
   },
   {
    "duration": 1292,
    "start_time": "2022-10-20T17:10:42.895Z"
   },
   {
    "duration": 850,
    "start_time": "2022-10-20T17:10:44.189Z"
   },
   {
    "duration": 665,
    "start_time": "2022-10-20T17:10:45.040Z"
   },
   {
    "duration": 1644,
    "start_time": "2022-10-20T17:10:45.707Z"
   },
   {
    "duration": 7,
    "start_time": "2022-10-20T17:10:47.352Z"
   },
   {
    "duration": 8,
    "start_time": "2022-10-20T17:10:47.360Z"
   },
   {
    "duration": 10,
    "start_time": "2022-10-20T17:10:47.371Z"
   },
   {
    "duration": 15,
    "start_time": "2022-10-20T17:10:47.383Z"
   },
   {
    "duration": 103,
    "start_time": "2022-10-20T17:10:47.400Z"
   },
   {
    "duration": 13,
    "start_time": "2022-10-20T17:10:47.595Z"
   },
   {
    "duration": 292,
    "start_time": "2022-10-20T17:10:47.609Z"
   },
   {
    "duration": 0,
    "start_time": "2022-10-20T17:10:47.903Z"
   },
   {
    "duration": 0,
    "start_time": "2022-10-20T17:10:47.904Z"
   },
   {
    "duration": 0,
    "start_time": "2022-10-20T17:10:47.905Z"
   },
   {
    "duration": 0,
    "start_time": "2022-10-20T17:10:47.906Z"
   },
   {
    "duration": 0,
    "start_time": "2022-10-20T17:10:47.907Z"
   },
   {
    "duration": 0,
    "start_time": "2022-10-20T17:10:47.909Z"
   },
   {
    "duration": 0,
    "start_time": "2022-10-20T17:10:47.910Z"
   },
   {
    "duration": 0,
    "start_time": "2022-10-20T17:10:47.911Z"
   },
   {
    "duration": 0,
    "start_time": "2022-10-20T17:10:47.912Z"
   },
   {
    "duration": 0,
    "start_time": "2022-10-20T17:10:47.913Z"
   },
   {
    "duration": 0,
    "start_time": "2022-10-20T17:10:47.914Z"
   },
   {
    "duration": 0,
    "start_time": "2022-10-20T17:10:47.916Z"
   },
   {
    "duration": 0,
    "start_time": "2022-10-20T17:10:47.917Z"
   },
   {
    "duration": 0,
    "start_time": "2022-10-20T17:10:47.918Z"
   },
   {
    "duration": 0,
    "start_time": "2022-10-20T17:10:47.919Z"
   },
   {
    "duration": 0,
    "start_time": "2022-10-20T17:10:47.920Z"
   },
   {
    "duration": 49,
    "start_time": "2022-10-20T17:21:34.446Z"
   },
   {
    "duration": 1558,
    "start_time": "2022-10-20T17:21:40.539Z"
   },
   {
    "duration": 51,
    "start_time": "2022-10-20T17:21:42.100Z"
   },
   {
    "duration": 4,
    "start_time": "2022-10-20T17:21:42.152Z"
   },
   {
    "duration": 42,
    "start_time": "2022-10-20T17:21:42.158Z"
   },
   {
    "duration": 17,
    "start_time": "2022-10-20T17:21:42.202Z"
   },
   {
    "duration": 58,
    "start_time": "2022-10-20T17:21:42.221Z"
   },
   {
    "duration": 12,
    "start_time": "2022-10-20T17:21:42.281Z"
   },
   {
    "duration": 1246,
    "start_time": "2022-10-20T17:21:42.294Z"
   },
   {
    "duration": 998,
    "start_time": "2022-10-20T17:21:43.542Z"
   },
   {
    "duration": 604,
    "start_time": "2022-10-20T17:21:44.543Z"
   },
   {
    "duration": 1642,
    "start_time": "2022-10-20T17:21:45.149Z"
   },
   {
    "duration": 9,
    "start_time": "2022-10-20T17:21:46.795Z"
   },
   {
    "duration": 27,
    "start_time": "2022-10-20T17:21:46.806Z"
   },
   {
    "duration": 18,
    "start_time": "2022-10-20T17:21:46.835Z"
   },
   {
    "duration": 48,
    "start_time": "2022-10-20T17:21:46.855Z"
   },
   {
    "duration": 91,
    "start_time": "2022-10-20T17:21:46.905Z"
   },
   {
    "duration": 16,
    "start_time": "2022-10-20T17:21:46.998Z"
   },
   {
    "duration": 245,
    "start_time": "2022-10-20T17:21:47.016Z"
   },
   {
    "duration": 0,
    "start_time": "2022-10-20T17:21:47.263Z"
   },
   {
    "duration": 0,
    "start_time": "2022-10-20T17:21:47.264Z"
   },
   {
    "duration": 0,
    "start_time": "2022-10-20T17:21:47.266Z"
   },
   {
    "duration": 0,
    "start_time": "2022-10-20T17:21:47.267Z"
   },
   {
    "duration": 0,
    "start_time": "2022-10-20T17:21:47.268Z"
   },
   {
    "duration": 0,
    "start_time": "2022-10-20T17:21:47.269Z"
   },
   {
    "duration": 0,
    "start_time": "2022-10-20T17:21:47.270Z"
   },
   {
    "duration": 1,
    "start_time": "2022-10-20T17:21:47.294Z"
   },
   {
    "duration": 0,
    "start_time": "2022-10-20T17:21:47.296Z"
   },
   {
    "duration": 0,
    "start_time": "2022-10-20T17:21:47.298Z"
   },
   {
    "duration": 0,
    "start_time": "2022-10-20T17:21:47.298Z"
   },
   {
    "duration": 0,
    "start_time": "2022-10-20T17:21:47.299Z"
   },
   {
    "duration": 0,
    "start_time": "2022-10-20T17:21:47.300Z"
   },
   {
    "duration": 0,
    "start_time": "2022-10-20T17:21:47.302Z"
   },
   {
    "duration": 0,
    "start_time": "2022-10-20T17:21:47.303Z"
   },
   {
    "duration": 0,
    "start_time": "2022-10-20T17:21:47.304Z"
   },
   {
    "duration": 4,
    "start_time": "2022-10-20T17:22:11.184Z"
   },
   {
    "duration": 48,
    "start_time": "2022-10-20T17:22:11.191Z"
   },
   {
    "duration": 4,
    "start_time": "2022-10-20T17:22:11.240Z"
   },
   {
    "duration": 17,
    "start_time": "2022-10-20T17:22:11.246Z"
   },
   {
    "duration": 4,
    "start_time": "2022-10-20T17:22:11.264Z"
   },
   {
    "duration": 52,
    "start_time": "2022-10-20T17:22:11.270Z"
   },
   {
    "duration": 12,
    "start_time": "2022-10-20T17:22:11.324Z"
   },
   {
    "duration": 1400,
    "start_time": "2022-10-20T17:22:11.338Z"
   },
   {
    "duration": 836,
    "start_time": "2022-10-20T17:22:12.740Z"
   },
   {
    "duration": 593,
    "start_time": "2022-10-20T17:22:13.579Z"
   },
   {
    "duration": 1562,
    "start_time": "2022-10-20T17:22:14.174Z"
   },
   {
    "duration": 6,
    "start_time": "2022-10-20T17:22:15.738Z"
   },
   {
    "duration": 5,
    "start_time": "2022-10-20T17:22:15.746Z"
   },
   {
    "duration": 11,
    "start_time": "2022-10-20T17:22:15.753Z"
   },
   {
    "duration": 31,
    "start_time": "2022-10-20T17:22:15.765Z"
   },
   {
    "duration": 2,
    "start_time": "2022-10-20T17:22:15.798Z"
   },
   {
    "duration": 207,
    "start_time": "2022-10-20T17:22:15.803Z"
   },
   {
    "duration": 85,
    "start_time": "2022-10-20T17:22:16.016Z"
   },
   {
    "duration": 0,
    "start_time": "2022-10-20T17:22:16.107Z"
   },
   {
    "duration": 0,
    "start_time": "2022-10-20T17:22:16.108Z"
   },
   {
    "duration": 0,
    "start_time": "2022-10-20T17:22:16.194Z"
   },
   {
    "duration": 0,
    "start_time": "2022-10-20T17:22:16.196Z"
   },
   {
    "duration": 0,
    "start_time": "2022-10-20T17:22:16.197Z"
   },
   {
    "duration": 0,
    "start_time": "2022-10-20T17:22:16.199Z"
   },
   {
    "duration": 0,
    "start_time": "2022-10-20T17:22:16.200Z"
   },
   {
    "duration": 0,
    "start_time": "2022-10-20T17:22:16.202Z"
   },
   {
    "duration": 0,
    "start_time": "2022-10-20T17:22:16.203Z"
   },
   {
    "duration": 0,
    "start_time": "2022-10-20T17:22:16.204Z"
   },
   {
    "duration": 0,
    "start_time": "2022-10-20T17:22:16.205Z"
   },
   {
    "duration": 0,
    "start_time": "2022-10-20T17:22:16.206Z"
   },
   {
    "duration": 0,
    "start_time": "2022-10-20T17:22:16.207Z"
   },
   {
    "duration": 0,
    "start_time": "2022-10-20T17:22:16.208Z"
   },
   {
    "duration": 0,
    "start_time": "2022-10-20T17:22:16.209Z"
   },
   {
    "duration": 0,
    "start_time": "2022-10-20T17:22:16.210Z"
   },
   {
    "duration": 5,
    "start_time": "2022-10-20T17:23:07.606Z"
   },
   {
    "duration": 45,
    "start_time": "2022-10-20T17:23:07.614Z"
   },
   {
    "duration": 4,
    "start_time": "2022-10-20T17:23:07.662Z"
   },
   {
    "duration": 15,
    "start_time": "2022-10-20T17:23:07.668Z"
   },
   {
    "duration": 4,
    "start_time": "2022-10-20T17:23:07.684Z"
   },
   {
    "duration": 52,
    "start_time": "2022-10-20T17:23:07.690Z"
   },
   {
    "duration": 13,
    "start_time": "2022-10-20T17:23:07.744Z"
   },
   {
    "duration": 1399,
    "start_time": "2022-10-20T17:23:07.758Z"
   },
   {
    "duration": 829,
    "start_time": "2022-10-20T17:23:09.158Z"
   },
   {
    "duration": 566,
    "start_time": "2022-10-20T17:23:09.994Z"
   },
   {
    "duration": 1528,
    "start_time": "2022-10-20T17:23:10.562Z"
   },
   {
    "duration": 8,
    "start_time": "2022-10-20T17:23:12.095Z"
   },
   {
    "duration": 10,
    "start_time": "2022-10-20T17:23:12.105Z"
   },
   {
    "duration": 11,
    "start_time": "2022-10-20T17:23:12.116Z"
   },
   {
    "duration": 66,
    "start_time": "2022-10-20T17:23:12.129Z"
   },
   {
    "duration": 11,
    "start_time": "2022-10-20T17:23:12.197Z"
   },
   {
    "duration": 110,
    "start_time": "2022-10-20T17:23:12.209Z"
   },
   {
    "duration": 181,
    "start_time": "2022-10-20T17:23:12.322Z"
   },
   {
    "duration": 28,
    "start_time": "2022-10-20T17:23:12.505Z"
   },
   {
    "duration": 0,
    "start_time": "2022-10-20T17:23:12.535Z"
   },
   {
    "duration": 0,
    "start_time": "2022-10-20T17:23:12.536Z"
   },
   {
    "duration": 0,
    "start_time": "2022-10-20T17:23:12.537Z"
   },
   {
    "duration": 0,
    "start_time": "2022-10-20T17:23:12.538Z"
   },
   {
    "duration": 0,
    "start_time": "2022-10-20T17:23:12.539Z"
   },
   {
    "duration": 0,
    "start_time": "2022-10-20T17:23:12.540Z"
   },
   {
    "duration": 0,
    "start_time": "2022-10-20T17:23:12.541Z"
   },
   {
    "duration": 0,
    "start_time": "2022-10-20T17:23:12.542Z"
   },
   {
    "duration": 0,
    "start_time": "2022-10-20T17:23:12.543Z"
   },
   {
    "duration": 0,
    "start_time": "2022-10-20T17:23:12.544Z"
   },
   {
    "duration": 0,
    "start_time": "2022-10-20T17:23:12.545Z"
   },
   {
    "duration": 0,
    "start_time": "2022-10-20T17:23:12.546Z"
   },
   {
    "duration": 0,
    "start_time": "2022-10-20T17:23:12.547Z"
   },
   {
    "duration": 0,
    "start_time": "2022-10-20T17:23:12.548Z"
   },
   {
    "duration": 0,
    "start_time": "2022-10-20T17:23:12.549Z"
   },
   {
    "duration": 16,
    "start_time": "2022-10-20T17:23:28.085Z"
   },
   {
    "duration": 16,
    "start_time": "2022-10-20T17:23:56.336Z"
   },
   {
    "duration": 369,
    "start_time": "2022-10-20T17:24:02.086Z"
   },
   {
    "duration": 10,
    "start_time": "2022-10-20T17:24:04.322Z"
   },
   {
    "duration": 21,
    "start_time": "2022-10-20T17:24:08.280Z"
   },
   {
    "duration": 4,
    "start_time": "2022-10-20T17:24:12.613Z"
   },
   {
    "duration": 14,
    "start_time": "2022-10-20T17:24:13.918Z"
   },
   {
    "duration": 16,
    "start_time": "2022-10-20T17:24:21.358Z"
   },
   {
    "duration": 573,
    "start_time": "2022-10-20T17:24:29.320Z"
   },
   {
    "duration": 0,
    "start_time": "2022-10-20T17:25:19.810Z"
   },
   {
    "duration": 0,
    "start_time": "2022-10-20T17:25:19.811Z"
   },
   {
    "duration": 0,
    "start_time": "2022-10-20T17:25:19.812Z"
   },
   {
    "duration": 0,
    "start_time": "2022-10-20T17:25:19.814Z"
   },
   {
    "duration": 0,
    "start_time": "2022-10-20T17:25:19.815Z"
   },
   {
    "duration": 0,
    "start_time": "2022-10-20T17:25:19.817Z"
   },
   {
    "duration": 0,
    "start_time": "2022-10-20T17:25:19.818Z"
   },
   {
    "duration": 0,
    "start_time": "2022-10-20T17:25:19.819Z"
   },
   {
    "duration": 0,
    "start_time": "2022-10-20T17:25:19.821Z"
   },
   {
    "duration": 0,
    "start_time": "2022-10-20T17:25:19.823Z"
   },
   {
    "duration": 0,
    "start_time": "2022-10-20T17:25:19.824Z"
   },
   {
    "duration": 0,
    "start_time": "2022-10-20T17:25:19.826Z"
   },
   {
    "duration": 0,
    "start_time": "2022-10-20T17:25:19.827Z"
   },
   {
    "duration": 0,
    "start_time": "2022-10-20T17:25:19.828Z"
   },
   {
    "duration": 0,
    "start_time": "2022-10-20T17:25:19.830Z"
   },
   {
    "duration": 0,
    "start_time": "2022-10-20T17:25:19.831Z"
   },
   {
    "duration": 0,
    "start_time": "2022-10-20T17:25:19.833Z"
   },
   {
    "duration": 0,
    "start_time": "2022-10-20T17:25:19.834Z"
   },
   {
    "duration": 0,
    "start_time": "2022-10-20T17:25:19.835Z"
   },
   {
    "duration": 0,
    "start_time": "2022-10-20T17:25:19.902Z"
   },
   {
    "duration": 0,
    "start_time": "2022-10-20T17:25:19.903Z"
   },
   {
    "duration": 0,
    "start_time": "2022-10-20T17:25:19.903Z"
   },
   {
    "duration": 0,
    "start_time": "2022-10-20T17:25:19.904Z"
   },
   {
    "duration": 0,
    "start_time": "2022-10-20T17:25:19.905Z"
   },
   {
    "duration": 0,
    "start_time": "2022-10-20T17:25:19.906Z"
   },
   {
    "duration": 0,
    "start_time": "2022-10-20T17:25:19.907Z"
   },
   {
    "duration": 0,
    "start_time": "2022-10-20T17:25:19.908Z"
   },
   {
    "duration": 0,
    "start_time": "2022-10-20T17:25:19.909Z"
   },
   {
    "duration": 0,
    "start_time": "2022-10-20T17:25:19.911Z"
   },
   {
    "duration": 0,
    "start_time": "2022-10-20T17:25:19.913Z"
   },
   {
    "duration": 0,
    "start_time": "2022-10-20T17:25:19.914Z"
   },
   {
    "duration": 0,
    "start_time": "2022-10-20T17:25:19.916Z"
   },
   {
    "duration": 0,
    "start_time": "2022-10-20T17:25:19.917Z"
   },
   {
    "duration": 0,
    "start_time": "2022-10-20T17:25:19.919Z"
   },
   {
    "duration": 6,
    "start_time": "2022-10-20T17:25:23.052Z"
   },
   {
    "duration": 44,
    "start_time": "2022-10-20T17:25:23.061Z"
   },
   {
    "duration": 5,
    "start_time": "2022-10-20T17:25:23.107Z"
   },
   {
    "duration": 14,
    "start_time": "2022-10-20T17:25:23.114Z"
   },
   {
    "duration": 3,
    "start_time": "2022-10-20T17:25:23.130Z"
   },
   {
    "duration": 71,
    "start_time": "2022-10-20T17:25:23.135Z"
   },
   {
    "duration": 14,
    "start_time": "2022-10-20T17:25:23.208Z"
   },
   {
    "duration": 1799,
    "start_time": "2022-10-20T17:25:23.224Z"
   },
   {
    "duration": 975,
    "start_time": "2022-10-20T17:25:25.025Z"
   },
   {
    "duration": 600,
    "start_time": "2022-10-20T17:25:26.002Z"
   },
   {
    "duration": 1620,
    "start_time": "2022-10-20T17:25:26.604Z"
   },
   {
    "duration": 6,
    "start_time": "2022-10-20T17:25:28.226Z"
   },
   {
    "duration": 7,
    "start_time": "2022-10-20T17:25:28.234Z"
   },
   {
    "duration": 9,
    "start_time": "2022-10-20T17:25:28.245Z"
   },
   {
    "duration": 45,
    "start_time": "2022-10-20T17:25:28.255Z"
   },
   {
    "duration": 198,
    "start_time": "2022-10-20T17:25:28.302Z"
   },
   {
    "duration": 20,
    "start_time": "2022-10-20T17:25:28.502Z"
   },
   {
    "duration": 83,
    "start_time": "2022-10-20T17:25:28.525Z"
   },
   {
    "duration": 370,
    "start_time": "2022-10-20T17:25:28.695Z"
   },
   {
    "duration": 29,
    "start_time": "2022-10-20T17:25:29.067Z"
   },
   {
    "duration": 5,
    "start_time": "2022-10-20T17:25:29.098Z"
   },
   {
    "duration": 19,
    "start_time": "2022-10-20T17:25:29.104Z"
   },
   {
    "duration": 601,
    "start_time": "2022-10-20T17:25:29.125Z"
   },
   {
    "duration": 113197,
    "start_time": "2022-10-20T17:25:29.728Z"
   },
   {
    "duration": 1268,
    "start_time": "2022-10-20T17:27:22.927Z"
   },
   {
    "duration": 101,
    "start_time": "2022-10-20T17:27:24.197Z"
   },
   {
    "duration": 6,
    "start_time": "2022-10-20T17:27:24.300Z"
   },
   {
    "duration": 1040,
    "start_time": "2022-10-20T17:27:24.307Z"
   },
   {
    "duration": 939,
    "start_time": "2022-10-20T17:27:25.349Z"
   },
   {
    "duration": 2,
    "start_time": "2022-10-20T17:27:26.289Z"
   },
   {
    "duration": 4,
    "start_time": "2022-10-20T17:27:26.294Z"
   },
   {
    "duration": 8,
    "start_time": "2022-10-20T17:27:26.300Z"
   },
   {
    "duration": 13,
    "start_time": "2022-10-20T17:27:26.310Z"
   },
   {
    "duration": 8,
    "start_time": "2022-10-20T17:27:26.325Z"
   },
   {
    "duration": 5,
    "start_time": "2022-10-20T19:49:41.592Z"
   },
   {
    "duration": 53,
    "start_time": "2022-10-20T19:49:41.599Z"
   },
   {
    "duration": 4,
    "start_time": "2022-10-20T19:49:41.654Z"
   },
   {
    "duration": 20,
    "start_time": "2022-10-20T19:49:41.660Z"
   },
   {
    "duration": 4,
    "start_time": "2022-10-20T19:49:41.682Z"
   },
   {
    "duration": 50,
    "start_time": "2022-10-20T19:49:41.688Z"
   },
   {
    "duration": 13,
    "start_time": "2022-10-20T19:49:41.741Z"
   },
   {
    "duration": 1177,
    "start_time": "2022-10-20T19:49:41.756Z"
   },
   {
    "duration": 790,
    "start_time": "2022-10-20T19:49:42.934Z"
   },
   {
    "duration": 551,
    "start_time": "2022-10-20T19:49:43.731Z"
   },
   {
    "duration": 1557,
    "start_time": "2022-10-20T19:49:44.284Z"
   },
   {
    "duration": 7,
    "start_time": "2022-10-20T19:49:45.843Z"
   },
   {
    "duration": 8,
    "start_time": "2022-10-20T19:49:45.851Z"
   },
   {
    "duration": 12,
    "start_time": "2022-10-20T19:49:45.862Z"
   },
   {
    "duration": 30,
    "start_time": "2022-10-20T19:49:45.875Z"
   },
   {
    "duration": 93,
    "start_time": "2022-10-20T19:49:45.907Z"
   },
   {
    "duration": 106,
    "start_time": "2022-10-20T19:49:46.002Z"
   },
   {
    "duration": 441,
    "start_time": "2022-10-20T19:49:46.109Z"
   },
   {
    "duration": 24,
    "start_time": "2022-10-20T19:49:46.552Z"
   },
   {
    "duration": 17,
    "start_time": "2022-10-20T19:49:46.578Z"
   },
   {
    "duration": 19,
    "start_time": "2022-10-20T19:49:46.597Z"
   },
   {
    "duration": 650,
    "start_time": "2022-10-20T19:49:46.618Z"
   },
   {
    "duration": 112056,
    "start_time": "2022-10-20T19:49:47.269Z"
   },
   {
    "duration": 1173,
    "start_time": "2022-10-20T19:51:39.327Z"
   },
   {
    "duration": 101,
    "start_time": "2022-10-20T19:51:40.502Z"
   },
   {
    "duration": 6,
    "start_time": "2022-10-20T19:51:40.604Z"
   },
   {
    "duration": 838,
    "start_time": "2022-10-20T19:51:40.611Z"
   },
   {
    "duration": 928,
    "start_time": "2022-10-20T19:51:41.451Z"
   },
   {
    "duration": 14,
    "start_time": "2022-10-20T19:51:42.381Z"
   },
   {
    "duration": 21,
    "start_time": "2022-10-20T19:51:42.396Z"
   },
   {
    "duration": 13,
    "start_time": "2022-10-20T19:51:42.418Z"
   }
  ],
  "kernelspec": {
   "display_name": "Python 3 (ipykernel)",
   "language": "python",
   "name": "python3"
  },
  "language_info": {
   "codemirror_mode": {
    "name": "ipython",
    "version": 3
   },
   "file_extension": ".py",
   "mimetype": "text/x-python",
   "name": "python",
   "nbconvert_exporter": "python",
   "pygments_lexer": "ipython3",
   "version": "3.9.5"
  },
  "toc": {
   "base_numbering": 1,
   "nav_menu": {},
   "number_sections": true,
   "sideBar": true,
   "skip_h1_title": true,
   "title_cell": "Содержание",
   "title_sidebar": "Contents",
   "toc_cell": true,
   "toc_position": {},
   "toc_section_display": true,
   "toc_window_display": false
  }
 },
 "nbformat": 4,
 "nbformat_minor": 2
}

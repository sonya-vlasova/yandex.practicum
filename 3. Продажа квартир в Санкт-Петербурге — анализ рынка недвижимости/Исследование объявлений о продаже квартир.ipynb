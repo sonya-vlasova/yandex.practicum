{
 "cells": [
  {
   "cell_type": "markdown",
   "metadata": {
    "toc": true
   },
   "source": [
    "<h1>Содержание<span class=\"tocSkip\"></span></h1>\n",
    "<div class=\"toc\"><ul class=\"toc-item\"><li><span><a href=\"#Изучение-данных-из-файла\" data-toc-modified-id=\"Изучение-данных-из-файла-1\"><span class=\"toc-item-num\">1&nbsp;&nbsp;</span>Изучение данных из файла</a></span><ul class=\"toc-item\"><li><span><a href=\"#Вывод\" data-toc-modified-id=\"Вывод-1.1\"><span class=\"toc-item-num\">1.1&nbsp;&nbsp;</span>Вывод</a></span></li></ul></li><li><span><a href=\"#Предобработка-данных\" data-toc-modified-id=\"Предобработка-данных-2\"><span class=\"toc-item-num\">2&nbsp;&nbsp;</span>Предобработка данных</a></span><ul class=\"toc-item\"><li><span><a href=\"#Обработка-пропусков\" data-toc-modified-id=\"Обработка-пропусков-2.1\"><span class=\"toc-item-num\">2.1&nbsp;&nbsp;</span>Обработка пропусков</a></span></li><li><span><a href=\"#Замена-типа-данных\" data-toc-modified-id=\"Замена-типа-данных-2.2\"><span class=\"toc-item-num\">2.2&nbsp;&nbsp;</span>Замена типа данных</a></span></li><li><span><a href=\"#Обработка-дубликатов\" data-toc-modified-id=\"Обработка-дубликатов-2.3\"><span class=\"toc-item-num\">2.3&nbsp;&nbsp;</span>Обработка дубликатов</a></span></li></ul></li><li><span><a href=\"#Рассчёты-и-добавление-результатов-в-таблицу\" data-toc-modified-id=\"Рассчёты-и-добавление-результатов-в-таблицу-3\"><span class=\"toc-item-num\">3&nbsp;&nbsp;</span>Рассчёты и добавление результатов в таблицу</a></span><ul class=\"toc-item\"><li><span><a href=\"#Посчитаем-и-добавим-в-таблицу-цену-квадратного-метра\" data-toc-modified-id=\"Посчитаем-и-добавим-в-таблицу-цену-квадратного-метра-3.1\"><span class=\"toc-item-num\">3.1&nbsp;&nbsp;</span>Посчитаем и добавим в таблицу цену квадратного метра</a></span></li><li><span><a href=\"#Добавим-день-недели,-месяц-и-год-публикации-объявления\" data-toc-modified-id=\"Добавим-день-недели,-месяц-и-год-публикации-объявления-3.2\"><span class=\"toc-item-num\">3.2&nbsp;&nbsp;</span>Добавим день недели, месяц и год публикации объявления</a></span></li><li><span><a href=\"#Добавим-статус-этажа-квартиры-:--первый,-последний,-другой\" data-toc-modified-id=\"Добавим-статус-этажа-квартиры-:--первый,-последний,-другой-3.3\"><span class=\"toc-item-num\">3.3&nbsp;&nbsp;</span>Добавим статус этажа квартиры :  первый, последний, другой</a></span></li><li><span><a href=\"#Добавим-соотношение-жилой-и-общей-площади,-а-также-отношение-площади-кухни-к-общей\" data-toc-modified-id=\"Добавим-соотношение-жилой-и-общей-площади,-а-также-отношение-площади-кухни-к-общей-3.4\"><span class=\"toc-item-num\">3.4&nbsp;&nbsp;</span>Добавим соотношение жилой и общей площади, а также отношение площади кухни к общей</a></span></li></ul></li><li><span><a href=\"#Исследовательский-анализ-данных\" data-toc-modified-id=\"Исследовательский-анализ-данных-4\"><span class=\"toc-item-num\">4&nbsp;&nbsp;</span>Исследовательский анализ данных</a></span><ul class=\"toc-item\"><li><span><a href=\"#Изучим-следующие-параметры:-площадь,-цена,-число-комнат,-высота-потолков.-Постройте-гистограммы-для-каждого-параметра.\" data-toc-modified-id=\"Изучим-следующие-параметры:-площадь,-цена,-число-комнат,-высота-потолков.-Постройте-гистограммы-для-каждого-параметра.-4.1\"><span class=\"toc-item-num\">4.1&nbsp;&nbsp;</span>Изучим следующие параметры: площадь, цена, число комнат, высота потолков. Постройте гистограммы для каждого параметра.</a></span><ul class=\"toc-item\"><li><span><a href=\"#Изучим-общую-площадь\" data-toc-modified-id=\"Изучим-общую-площадь-4.1.1\"><span class=\"toc-item-num\">4.1.1&nbsp;&nbsp;</span>Изучим общую площадь</a></span></li><li><span><a href=\"#Изучим-цену\" data-toc-modified-id=\"Изучим-цену-4.1.2\"><span class=\"toc-item-num\">4.1.2&nbsp;&nbsp;</span>Изучим цену</a></span></li><li><span><a href=\"#Изучим-количество-комнат\" data-toc-modified-id=\"Изучим-количество-комнат-4.1.3\"><span class=\"toc-item-num\">4.1.3&nbsp;&nbsp;</span>Изучим количество комнат</a></span></li><li><span><a href=\"#Изучим-высоту-потолков\" data-toc-modified-id=\"Изучим-высоту-потолков-4.1.4\"><span class=\"toc-item-num\">4.1.4&nbsp;&nbsp;</span>Изучим высоту потолков</a></span></li><li><span><a href=\"#Отбрасываем-выбросы\" data-toc-modified-id=\"Отбрасываем-выбросы-4.1.5\"><span class=\"toc-item-num\">4.1.5&nbsp;&nbsp;</span>Отбрасываем выбросы</a></span></li></ul></li><li><span><a href=\"#Изучите-время-продажи-квартиры.-Постройте-гистограмму.-Посчитайте-среднее-и-медиану.-Опишите,-сколько-обычно-занимает-продажа.-Когда-можно-считать,-что-продажи-прошли-очень-быстро,-а-когда-необычно-долго?\" data-toc-modified-id=\"Изучите-время-продажи-квартиры.-Постройте-гистограмму.-Посчитайте-среднее-и-медиану.-Опишите,-сколько-обычно-занимает-продажа.-Когда-можно-считать,-что-продажи-прошли-очень-быстро,-а-когда-необычно-долго?-4.2\"><span class=\"toc-item-num\">4.2&nbsp;&nbsp;</span>Изучите время продажи квартиры. Постройте гистограмму. Посчитайте среднее и медиану. Опишите, сколько обычно занимает продажа. Когда можно считать, что продажи прошли очень быстро, а когда необычно долго?</a></span></li><li><span><a href=\"#Какие-факторы-больше-всего-влияют-на-стоимость-квартиры?\" data-toc-modified-id=\"Какие-факторы-больше-всего-влияют-на-стоимость-квартиры?-4.3\"><span class=\"toc-item-num\">4.3&nbsp;&nbsp;</span>Какие факторы больше всего влияют на стоимость квартиры?</a></span></li><li><span><a href=\"#Выберем-10-населённых-пунктов-с-наибольшим-числом-объявлений.-Посчитаем-среднюю-цену-квадратного-метра-в-этих-населённых-пунктах.-Выделим-среди-них-населённые-пункты-с-самой-высокой-и-низкой-стоимостью-жилья.\" data-toc-modified-id=\"Выберем-10-населённых-пунктов-с-наибольшим-числом-объявлений.-Посчитаем-среднюю-цену-квадратного-метра-в-этих-населённых-пунктах.-Выделим-среди-них-населённые-пункты-с-самой-высокой-и-низкой-стоимостью-жилья.-4.4\"><span class=\"toc-item-num\">4.4&nbsp;&nbsp;</span>Выберем 10 населённых пунктов с наибольшим числом объявлений. Посчитаем среднюю цену квадратного метра в этих населённых пунктах. Выделим среди них населённые пункты с самой высокой и низкой стоимостью жилья.</a></span></li><li><span><a href=\"#Изучим-предложения-квартир-и-выделим-квартиры-в-Санкт-Петербурге-.-Найдем,-какая-область-входит-в-центр.\" data-toc-modified-id=\"Изучим-предложения-квартир-и-выделим-квартиры-в-Санкт-Петербурге-.-Найдем,-какая-область-входит-в-центр.-4.5\"><span class=\"toc-item-num\">4.5&nbsp;&nbsp;</span>Изучим предложения квартир и выделим квартиры в Санкт-Петербурге . Найдем, какая область входит в центр.</a></span></li><li><span><a href=\"#Проанализируем-квартиры-в-центре.\" data-toc-modified-id=\"Проанализируем-квартиры-в-центре.-4.6\"><span class=\"toc-item-num\">4.6&nbsp;&nbsp;</span>Проанализируем квартиры в центре.</a></span><ul class=\"toc-item\"><li><span><a href=\"#Изучим-следующие-параметры:-площадь,-цена,-число-комнат,-высота-потолков.\" data-toc-modified-id=\"Изучим-следующие-параметры:-площадь,-цена,-число-комнат,-высота-потолков.-4.6.1\"><span class=\"toc-item-num\">4.6.1&nbsp;&nbsp;</span>Изучим следующие параметры: площадь, цена, число комнат, высота потолков.</a></span></li><li><span><a href=\"#Выделим-факторы,-которые-влияют-на-стоимость-квартиры-(число-комнат,-этаж,-удалённость-от-центра,-дата-размещения-объявления).\" data-toc-modified-id=\"Выделим-факторы,-которые-влияют-на-стоимость-квартиры-(число-комнат,-этаж,-удалённость-от-центра,-дата-размещения-объявления).-4.6.2\"><span class=\"toc-item-num\">4.6.2&nbsp;&nbsp;</span>Выделим факторы, которые влияют на стоимость квартиры (число комнат, этаж, удалённость от центра, дата размещения объявления).</a></span></li></ul></li></ul></li><li><span><a href=\"#Общий-вывод\" data-toc-modified-id=\"Общий-вывод-5\"><span class=\"toc-item-num\">5&nbsp;&nbsp;</span>Общий вывод</a></span></li></ul></div>"
   ]
  },
  {
   "cell_type": "markdown",
   "metadata": {},
   "source": [
    "# Исследование объявлений о продаже квартир\n",
    "\n",
    "Используя архив объявлений о продаже квартир в Санкт-Петербурге и соседних населённых пунктах за несколько лет (Яндекс.Недвижимость), нужно определить рыночную стоимость объектов недвижимости.\n",
    "\n",
    "**Цель** — установить параметры. Это позволит построить автоматизированную систему: она отследит аномалии и мошенническую деятельность. \n"
   ]
  },
  {
   "cell_type": "markdown",
   "metadata": {},
   "source": [
    "# Описание данных\n",
    "\n",
    "По каждой квартире на продажу доступны два вида данных. Первые вписаны пользователем, вторые получены автоматически на основе картографических данных. Например, расстояние до центра, аэропорта, ближайшего парка и водоёма.\n",
    "\n",
    "`airports_nearest` — расстояние до ближайшего аэропорта в метрах (м)\n",
    "\n",
    "`balcony` — число балконов\n",
    "\n",
    "`ceiling_height` — высота потолков (м)\n",
    "\n",
    "`cityCenters_nearest` — расстояние до центра города (м)\n",
    "\n",
    "`days_exposition` — сколько дней было размещено объявление (от публикации до снятия)\n",
    "\n",
    "`first_day_exposition` — дата публикации\n",
    "\n",
    "`floor` — этаж\n",
    "\n",
    "`floors_total` — всего этажей в доме\n",
    "\n",
    "`is_apartment` — апартаменты (булев тип) \n",
    "\n",
    "`kitchen_area` — площадь кухни в квадратных метрах (м²)\n",
    "\n",
    "`last_price` — цена на момент снятия с публикации\n",
    "\n",
    "`living_area` — жилая площадь в квадратных метрах (м²)\n",
    "\n",
    "`locality_name` — название населённого пункта\n",
    "\n",
    "`open_plan` — свободная планировка (булев тип)\n",
    "\n",
    "`parks_around3000` — число парков в радиусе 3 км\n",
    "\n",
    "`parks_nearest` — расстояние до ближайшего парка (м)\n",
    "\n",
    "`ponds_around3000` — число водоёмов в радиусе 3 км\n",
    "\n",
    "`ponds_nearest` — расстояние до ближайшего водоёма (м)\n",
    "\n",
    "`rooms` — число комнат\n",
    "\n",
    "`studio` — квартира-студия (булев тип)\n",
    "\n",
    "`total_area` — площадь квартиры в квадратных метрах (м²)\n",
    "\n",
    "`total_images` — число фотографий квартиры в объявлении"
   ]
  },
  {
   "cell_type": "markdown",
   "metadata": {},
   "source": [
    "## Изучение данных из файла"
   ]
  },
  {
   "cell_type": "code",
   "execution_count": 1,
   "metadata": {
    "scrolled": true
   },
   "outputs": [
    {
     "data": {
      "text/html": [
       "<div>\n",
       "<style scoped>\n",
       "    .dataframe tbody tr th:only-of-type {\n",
       "        vertical-align: middle;\n",
       "    }\n",
       "\n",
       "    .dataframe tbody tr th {\n",
       "        vertical-align: top;\n",
       "    }\n",
       "\n",
       "    .dataframe thead th {\n",
       "        text-align: right;\n",
       "    }\n",
       "</style>\n",
       "<table border=\"1\" class=\"dataframe\">\n",
       "  <thead>\n",
       "    <tr style=\"text-align: right;\">\n",
       "      <th></th>\n",
       "      <th>total_images</th>\n",
       "      <th>last_price</th>\n",
       "      <th>total_area</th>\n",
       "      <th>first_day_exposition</th>\n",
       "      <th>rooms</th>\n",
       "      <th>ceiling_height</th>\n",
       "      <th>floors_total</th>\n",
       "      <th>living_area</th>\n",
       "      <th>floor</th>\n",
       "      <th>is_apartment</th>\n",
       "      <th>studio</th>\n",
       "      <th>open_plan</th>\n",
       "      <th>kitchen_area</th>\n",
       "      <th>balcony</th>\n",
       "      <th>locality_name</th>\n",
       "      <th>airports_nearest</th>\n",
       "      <th>cityCenters_nearest</th>\n",
       "      <th>parks_around3000</th>\n",
       "      <th>parks_nearest</th>\n",
       "      <th>ponds_around3000</th>\n",
       "      <th>ponds_nearest</th>\n",
       "      <th>days_exposition</th>\n",
       "    </tr>\n",
       "  </thead>\n",
       "  <tbody>\n",
       "    <tr>\n",
       "      <th>0</th>\n",
       "      <td>20</td>\n",
       "      <td>13000000.0</td>\n",
       "      <td>108.00</td>\n",
       "      <td>2019-03-07T00:00:00</td>\n",
       "      <td>3</td>\n",
       "      <td>2.70</td>\n",
       "      <td>16.0</td>\n",
       "      <td>51.00</td>\n",
       "      <td>8</td>\n",
       "      <td>NaN</td>\n",
       "      <td>False</td>\n",
       "      <td>False</td>\n",
       "      <td>25.00</td>\n",
       "      <td>NaN</td>\n",
       "      <td>Санкт-Петербург</td>\n",
       "      <td>18863.0</td>\n",
       "      <td>16028.0</td>\n",
       "      <td>1.0</td>\n",
       "      <td>482.0</td>\n",
       "      <td>2.0</td>\n",
       "      <td>755.0</td>\n",
       "      <td>NaN</td>\n",
       "    </tr>\n",
       "    <tr>\n",
       "      <th>1</th>\n",
       "      <td>7</td>\n",
       "      <td>3350000.0</td>\n",
       "      <td>40.40</td>\n",
       "      <td>2018-12-04T00:00:00</td>\n",
       "      <td>1</td>\n",
       "      <td>NaN</td>\n",
       "      <td>11.0</td>\n",
       "      <td>18.60</td>\n",
       "      <td>1</td>\n",
       "      <td>NaN</td>\n",
       "      <td>False</td>\n",
       "      <td>False</td>\n",
       "      <td>11.00</td>\n",
       "      <td>2.0</td>\n",
       "      <td>посёлок Шушары</td>\n",
       "      <td>12817.0</td>\n",
       "      <td>18603.0</td>\n",
       "      <td>0.0</td>\n",
       "      <td>NaN</td>\n",
       "      <td>0.0</td>\n",
       "      <td>NaN</td>\n",
       "      <td>81.0</td>\n",
       "    </tr>\n",
       "    <tr>\n",
       "      <th>2</th>\n",
       "      <td>10</td>\n",
       "      <td>5196000.0</td>\n",
       "      <td>56.00</td>\n",
       "      <td>2015-08-20T00:00:00</td>\n",
       "      <td>2</td>\n",
       "      <td>NaN</td>\n",
       "      <td>5.0</td>\n",
       "      <td>34.30</td>\n",
       "      <td>4</td>\n",
       "      <td>NaN</td>\n",
       "      <td>False</td>\n",
       "      <td>False</td>\n",
       "      <td>8.30</td>\n",
       "      <td>0.0</td>\n",
       "      <td>Санкт-Петербург</td>\n",
       "      <td>21741.0</td>\n",
       "      <td>13933.0</td>\n",
       "      <td>1.0</td>\n",
       "      <td>90.0</td>\n",
       "      <td>2.0</td>\n",
       "      <td>574.0</td>\n",
       "      <td>558.0</td>\n",
       "    </tr>\n",
       "    <tr>\n",
       "      <th>3</th>\n",
       "      <td>0</td>\n",
       "      <td>64900000.0</td>\n",
       "      <td>159.00</td>\n",
       "      <td>2015-07-24T00:00:00</td>\n",
       "      <td>3</td>\n",
       "      <td>NaN</td>\n",
       "      <td>14.0</td>\n",
       "      <td>NaN</td>\n",
       "      <td>9</td>\n",
       "      <td>NaN</td>\n",
       "      <td>False</td>\n",
       "      <td>False</td>\n",
       "      <td>NaN</td>\n",
       "      <td>0.0</td>\n",
       "      <td>Санкт-Петербург</td>\n",
       "      <td>28098.0</td>\n",
       "      <td>6800.0</td>\n",
       "      <td>2.0</td>\n",
       "      <td>84.0</td>\n",
       "      <td>3.0</td>\n",
       "      <td>234.0</td>\n",
       "      <td>424.0</td>\n",
       "    </tr>\n",
       "    <tr>\n",
       "      <th>4</th>\n",
       "      <td>2</td>\n",
       "      <td>10000000.0</td>\n",
       "      <td>100.00</td>\n",
       "      <td>2018-06-19T00:00:00</td>\n",
       "      <td>2</td>\n",
       "      <td>3.03</td>\n",
       "      <td>14.0</td>\n",
       "      <td>32.00</td>\n",
       "      <td>13</td>\n",
       "      <td>NaN</td>\n",
       "      <td>False</td>\n",
       "      <td>False</td>\n",
       "      <td>41.00</td>\n",
       "      <td>NaN</td>\n",
       "      <td>Санкт-Петербург</td>\n",
       "      <td>31856.0</td>\n",
       "      <td>8098.0</td>\n",
       "      <td>2.0</td>\n",
       "      <td>112.0</td>\n",
       "      <td>1.0</td>\n",
       "      <td>48.0</td>\n",
       "      <td>121.0</td>\n",
       "    </tr>\n",
       "    <tr>\n",
       "      <th>5</th>\n",
       "      <td>10</td>\n",
       "      <td>2890000.0</td>\n",
       "      <td>30.40</td>\n",
       "      <td>2018-09-10T00:00:00</td>\n",
       "      <td>1</td>\n",
       "      <td>NaN</td>\n",
       "      <td>12.0</td>\n",
       "      <td>14.40</td>\n",
       "      <td>5</td>\n",
       "      <td>NaN</td>\n",
       "      <td>False</td>\n",
       "      <td>False</td>\n",
       "      <td>9.10</td>\n",
       "      <td>NaN</td>\n",
       "      <td>городской посёлок Янино-1</td>\n",
       "      <td>NaN</td>\n",
       "      <td>NaN</td>\n",
       "      <td>NaN</td>\n",
       "      <td>NaN</td>\n",
       "      <td>NaN</td>\n",
       "      <td>NaN</td>\n",
       "      <td>55.0</td>\n",
       "    </tr>\n",
       "    <tr>\n",
       "      <th>6</th>\n",
       "      <td>6</td>\n",
       "      <td>3700000.0</td>\n",
       "      <td>37.30</td>\n",
       "      <td>2017-11-02T00:00:00</td>\n",
       "      <td>1</td>\n",
       "      <td>NaN</td>\n",
       "      <td>26.0</td>\n",
       "      <td>10.60</td>\n",
       "      <td>6</td>\n",
       "      <td>NaN</td>\n",
       "      <td>False</td>\n",
       "      <td>False</td>\n",
       "      <td>14.40</td>\n",
       "      <td>1.0</td>\n",
       "      <td>посёлок Парголово</td>\n",
       "      <td>52996.0</td>\n",
       "      <td>19143.0</td>\n",
       "      <td>0.0</td>\n",
       "      <td>NaN</td>\n",
       "      <td>0.0</td>\n",
       "      <td>NaN</td>\n",
       "      <td>155.0</td>\n",
       "    </tr>\n",
       "    <tr>\n",
       "      <th>7</th>\n",
       "      <td>5</td>\n",
       "      <td>7915000.0</td>\n",
       "      <td>71.60</td>\n",
       "      <td>2019-04-18T00:00:00</td>\n",
       "      <td>2</td>\n",
       "      <td>NaN</td>\n",
       "      <td>24.0</td>\n",
       "      <td>NaN</td>\n",
       "      <td>22</td>\n",
       "      <td>NaN</td>\n",
       "      <td>False</td>\n",
       "      <td>False</td>\n",
       "      <td>18.90</td>\n",
       "      <td>2.0</td>\n",
       "      <td>Санкт-Петербург</td>\n",
       "      <td>23982.0</td>\n",
       "      <td>11634.0</td>\n",
       "      <td>0.0</td>\n",
       "      <td>NaN</td>\n",
       "      <td>0.0</td>\n",
       "      <td>NaN</td>\n",
       "      <td>NaN</td>\n",
       "    </tr>\n",
       "    <tr>\n",
       "      <th>8</th>\n",
       "      <td>20</td>\n",
       "      <td>2900000.0</td>\n",
       "      <td>33.16</td>\n",
       "      <td>2018-05-23T00:00:00</td>\n",
       "      <td>1</td>\n",
       "      <td>NaN</td>\n",
       "      <td>27.0</td>\n",
       "      <td>15.43</td>\n",
       "      <td>26</td>\n",
       "      <td>NaN</td>\n",
       "      <td>False</td>\n",
       "      <td>False</td>\n",
       "      <td>8.81</td>\n",
       "      <td>NaN</td>\n",
       "      <td>посёлок Мурино</td>\n",
       "      <td>NaN</td>\n",
       "      <td>NaN</td>\n",
       "      <td>NaN</td>\n",
       "      <td>NaN</td>\n",
       "      <td>NaN</td>\n",
       "      <td>NaN</td>\n",
       "      <td>189.0</td>\n",
       "    </tr>\n",
       "    <tr>\n",
       "      <th>9</th>\n",
       "      <td>18</td>\n",
       "      <td>5400000.0</td>\n",
       "      <td>61.00</td>\n",
       "      <td>2017-02-26T00:00:00</td>\n",
       "      <td>3</td>\n",
       "      <td>2.50</td>\n",
       "      <td>9.0</td>\n",
       "      <td>43.60</td>\n",
       "      <td>7</td>\n",
       "      <td>NaN</td>\n",
       "      <td>False</td>\n",
       "      <td>False</td>\n",
       "      <td>6.50</td>\n",
       "      <td>2.0</td>\n",
       "      <td>Санкт-Петербург</td>\n",
       "      <td>50898.0</td>\n",
       "      <td>15008.0</td>\n",
       "      <td>0.0</td>\n",
       "      <td>NaN</td>\n",
       "      <td>0.0</td>\n",
       "      <td>NaN</td>\n",
       "      <td>289.0</td>\n",
       "    </tr>\n",
       "  </tbody>\n",
       "</table>\n",
       "</div>"
      ],
      "text/plain": [
       "   total_images  last_price  total_area first_day_exposition  rooms  \\\n",
       "0            20  13000000.0      108.00  2019-03-07T00:00:00      3   \n",
       "1             7   3350000.0       40.40  2018-12-04T00:00:00      1   \n",
       "2            10   5196000.0       56.00  2015-08-20T00:00:00      2   \n",
       "3             0  64900000.0      159.00  2015-07-24T00:00:00      3   \n",
       "4             2  10000000.0      100.00  2018-06-19T00:00:00      2   \n",
       "5            10   2890000.0       30.40  2018-09-10T00:00:00      1   \n",
       "6             6   3700000.0       37.30  2017-11-02T00:00:00      1   \n",
       "7             5   7915000.0       71.60  2019-04-18T00:00:00      2   \n",
       "8            20   2900000.0       33.16  2018-05-23T00:00:00      1   \n",
       "9            18   5400000.0       61.00  2017-02-26T00:00:00      3   \n",
       "\n",
       "   ceiling_height  floors_total  living_area  floor is_apartment  studio  \\\n",
       "0            2.70          16.0        51.00      8          NaN   False   \n",
       "1             NaN          11.0        18.60      1          NaN   False   \n",
       "2             NaN           5.0        34.30      4          NaN   False   \n",
       "3             NaN          14.0          NaN      9          NaN   False   \n",
       "4            3.03          14.0        32.00     13          NaN   False   \n",
       "5             NaN          12.0        14.40      5          NaN   False   \n",
       "6             NaN          26.0        10.60      6          NaN   False   \n",
       "7             NaN          24.0          NaN     22          NaN   False   \n",
       "8             NaN          27.0        15.43     26          NaN   False   \n",
       "9            2.50           9.0        43.60      7          NaN   False   \n",
       "\n",
       "   open_plan  kitchen_area  balcony              locality_name  \\\n",
       "0      False         25.00      NaN            Санкт-Петербург   \n",
       "1      False         11.00      2.0             посёлок Шушары   \n",
       "2      False          8.30      0.0            Санкт-Петербург   \n",
       "3      False           NaN      0.0            Санкт-Петербург   \n",
       "4      False         41.00      NaN            Санкт-Петербург   \n",
       "5      False          9.10      NaN  городской посёлок Янино-1   \n",
       "6      False         14.40      1.0          посёлок Парголово   \n",
       "7      False         18.90      2.0            Санкт-Петербург   \n",
       "8      False          8.81      NaN             посёлок Мурино   \n",
       "9      False          6.50      2.0            Санкт-Петербург   \n",
       "\n",
       "   airports_nearest  cityCenters_nearest  parks_around3000  parks_nearest  \\\n",
       "0           18863.0              16028.0               1.0          482.0   \n",
       "1           12817.0              18603.0               0.0            NaN   \n",
       "2           21741.0              13933.0               1.0           90.0   \n",
       "3           28098.0               6800.0               2.0           84.0   \n",
       "4           31856.0               8098.0               2.0          112.0   \n",
       "5               NaN                  NaN               NaN            NaN   \n",
       "6           52996.0              19143.0               0.0            NaN   \n",
       "7           23982.0              11634.0               0.0            NaN   \n",
       "8               NaN                  NaN               NaN            NaN   \n",
       "9           50898.0              15008.0               0.0            NaN   \n",
       "\n",
       "   ponds_around3000  ponds_nearest  days_exposition  \n",
       "0               2.0          755.0              NaN  \n",
       "1               0.0            NaN             81.0  \n",
       "2               2.0          574.0            558.0  \n",
       "3               3.0          234.0            424.0  \n",
       "4               1.0           48.0            121.0  \n",
       "5               NaN            NaN             55.0  \n",
       "6               0.0            NaN            155.0  \n",
       "7               0.0            NaN              NaN  \n",
       "8               NaN            NaN            189.0  \n",
       "9               0.0            NaN            289.0  "
      ]
     },
     "execution_count": 1,
     "metadata": {},
     "output_type": "execute_result"
    }
   ],
   "source": [
    "import pandas as pd\n",
    "import warnings\n",
    "warnings.filterwarnings(\"ignore\")\n",
    "import matplotlib.pyplot as plt #сразу открываем нужные библиотеки\n",
    "real_estate_data = pd.read_csv('/datasets/real_estate_data.csv',sep='\\t')\n",
    "pd.set_option('display.max_columns', None) #чтобы всегда показывались все столбцы\n",
    "real_estate_data.head(10)"
   ]
  },
  {
   "cell_type": "code",
   "execution_count": 2,
   "metadata": {},
   "outputs": [
    {
     "name": "stdout",
     "output_type": "stream",
     "text": [
      "<class 'pandas.core.frame.DataFrame'>\n",
      "RangeIndex: 23699 entries, 0 to 23698\n",
      "Data columns (total 22 columns):\n",
      " #   Column                Non-Null Count  Dtype  \n",
      "---  ------                --------------  -----  \n",
      " 0   total_images          23699 non-null  int64  \n",
      " 1   last_price            23699 non-null  float64\n",
      " 2   total_area            23699 non-null  float64\n",
      " 3   first_day_exposition  23699 non-null  object \n",
      " 4   rooms                 23699 non-null  int64  \n",
      " 5   ceiling_height        14504 non-null  float64\n",
      " 6   floors_total          23613 non-null  float64\n",
      " 7   living_area           21796 non-null  float64\n",
      " 8   floor                 23699 non-null  int64  \n",
      " 9   is_apartment          2775 non-null   object \n",
      " 10  studio                23699 non-null  bool   \n",
      " 11  open_plan             23699 non-null  bool   \n",
      " 12  kitchen_area          21421 non-null  float64\n",
      " 13  balcony               12180 non-null  float64\n",
      " 14  locality_name         23650 non-null  object \n",
      " 15  airports_nearest      18157 non-null  float64\n",
      " 16  cityCenters_nearest   18180 non-null  float64\n",
      " 17  parks_around3000      18181 non-null  float64\n",
      " 18  parks_nearest         8079 non-null   float64\n",
      " 19  ponds_around3000      18181 non-null  float64\n",
      " 20  ponds_nearest         9110 non-null   float64\n",
      " 21  days_exposition       20518 non-null  float64\n",
      "dtypes: bool(2), float64(14), int64(3), object(3)\n",
      "memory usage: 3.7+ MB\n"
     ]
    }
   ],
   "source": [
    "real_estate_data.info()"
   ]
  },
  {
   "cell_type": "markdown",
   "metadata": {},
   "source": [
    "### Вывод"
   ]
  },
  {
   "cell_type": "markdown",
   "metadata": {},
   "source": [
    "В данных есть пропуски в столбцах ceiling_height, floors_total, living_area, is_apartment, kitchen_area, balcony, locality_name, airports_nearest, cityCenters_nearest, parks_around3000,\n",
    "parks_nearest, ponds_around3000 , ponds_nearest , days_exposition.\n",
    "Далее посмотрим, в каких столбцах и как нам нужно будет заменить пропуски.\n",
    "Еще нужно будет заменить типы данных в некоторых столбцах."
   ]
  },
  {
   "cell_type": "markdown",
   "metadata": {},
   "source": [
    "## Предобработка данных"
   ]
  },
  {
   "cell_type": "markdown",
   "metadata": {},
   "source": [
    "### Обработка пропусков"
   ]
  },
  {
   "cell_type": "code",
   "execution_count": 3,
   "metadata": {
    "scrolled": true
   },
   "outputs": [
    {
     "data": {
      "text/plain": [
       "total_images                0\n",
       "last_price                  0\n",
       "total_area                  0\n",
       "first_day_exposition        0\n",
       "rooms                       0\n",
       "ceiling_height           9195\n",
       "floors_total               86\n",
       "living_area              1903\n",
       "floor                       0\n",
       "is_apartment            20924\n",
       "studio                      0\n",
       "open_plan                   0\n",
       "kitchen_area             2278\n",
       "balcony                 11519\n",
       "locality_name              49\n",
       "airports_nearest         5542\n",
       "cityCenters_nearest      5519\n",
       "parks_around3000         5518\n",
       "parks_nearest           15620\n",
       "ponds_around3000         5518\n",
       "ponds_nearest           14589\n",
       "days_exposition          3181\n",
       "dtype: int64"
      ]
     },
     "execution_count": 3,
     "metadata": {},
     "output_type": "execute_result"
    }
   ],
   "source": [
    "#посмотрим на пропуски\n",
    "real_estate_data.isnull().sum()"
   ]
  },
  {
   "cell_type": "code",
   "execution_count": 4,
   "metadata": {
    "scrolled": true
   },
   "outputs": [
    {
     "data": {
      "text/html": [
       "<div>\n",
       "<style scoped>\n",
       "    .dataframe tbody tr th:only-of-type {\n",
       "        vertical-align: middle;\n",
       "    }\n",
       "\n",
       "    .dataframe tbody tr th {\n",
       "        vertical-align: top;\n",
       "    }\n",
       "\n",
       "    .dataframe thead th {\n",
       "        text-align: right;\n",
       "    }\n",
       "</style>\n",
       "<table border=\"1\" class=\"dataframe\">\n",
       "  <thead>\n",
       "    <tr style=\"text-align: right;\">\n",
       "      <th></th>\n",
       "      <th>missing_values</th>\n",
       "      <th>% of total</th>\n",
       "    </tr>\n",
       "  </thead>\n",
       "  <tbody>\n",
       "    <tr>\n",
       "      <th>is_apartment</th>\n",
       "      <td>20924</td>\n",
       "      <td>0.88</td>\n",
       "    </tr>\n",
       "    <tr>\n",
       "      <th>parks_nearest</th>\n",
       "      <td>15620</td>\n",
       "      <td>0.66</td>\n",
       "    </tr>\n",
       "    <tr>\n",
       "      <th>ponds_nearest</th>\n",
       "      <td>14589</td>\n",
       "      <td>0.62</td>\n",
       "    </tr>\n",
       "    <tr>\n",
       "      <th>balcony</th>\n",
       "      <td>11519</td>\n",
       "      <td>0.49</td>\n",
       "    </tr>\n",
       "    <tr>\n",
       "      <th>ceiling_height</th>\n",
       "      <td>9195</td>\n",
       "      <td>0.39</td>\n",
       "    </tr>\n",
       "    <tr>\n",
       "      <th>airports_nearest</th>\n",
       "      <td>5542</td>\n",
       "      <td>0.23</td>\n",
       "    </tr>\n",
       "    <tr>\n",
       "      <th>cityCenters_nearest</th>\n",
       "      <td>5519</td>\n",
       "      <td>0.23</td>\n",
       "    </tr>\n",
       "    <tr>\n",
       "      <th>ponds_around3000</th>\n",
       "      <td>5518</td>\n",
       "      <td>0.23</td>\n",
       "    </tr>\n",
       "    <tr>\n",
       "      <th>parks_around3000</th>\n",
       "      <td>5518</td>\n",
       "      <td>0.23</td>\n",
       "    </tr>\n",
       "    <tr>\n",
       "      <th>days_exposition</th>\n",
       "      <td>3181</td>\n",
       "      <td>0.13</td>\n",
       "    </tr>\n",
       "    <tr>\n",
       "      <th>kitchen_area</th>\n",
       "      <td>2278</td>\n",
       "      <td>0.10</td>\n",
       "    </tr>\n",
       "    <tr>\n",
       "      <th>living_area</th>\n",
       "      <td>1903</td>\n",
       "      <td>0.08</td>\n",
       "    </tr>\n",
       "    <tr>\n",
       "      <th>floors_total</th>\n",
       "      <td>86</td>\n",
       "      <td>0.00</td>\n",
       "    </tr>\n",
       "    <tr>\n",
       "      <th>locality_name</th>\n",
       "      <td>49</td>\n",
       "      <td>0.00</td>\n",
       "    </tr>\n",
       "    <tr>\n",
       "      <th>total_images</th>\n",
       "      <td>0</td>\n",
       "      <td>0.00</td>\n",
       "    </tr>\n",
       "    <tr>\n",
       "      <th>last_price</th>\n",
       "      <td>0</td>\n",
       "      <td>0.00</td>\n",
       "    </tr>\n",
       "    <tr>\n",
       "      <th>studio</th>\n",
       "      <td>0</td>\n",
       "      <td>0.00</td>\n",
       "    </tr>\n",
       "    <tr>\n",
       "      <th>floor</th>\n",
       "      <td>0</td>\n",
       "      <td>0.00</td>\n",
       "    </tr>\n",
       "    <tr>\n",
       "      <th>rooms</th>\n",
       "      <td>0</td>\n",
       "      <td>0.00</td>\n",
       "    </tr>\n",
       "    <tr>\n",
       "      <th>first_day_exposition</th>\n",
       "      <td>0</td>\n",
       "      <td>0.00</td>\n",
       "    </tr>\n",
       "    <tr>\n",
       "      <th>total_area</th>\n",
       "      <td>0</td>\n",
       "      <td>0.00</td>\n",
       "    </tr>\n",
       "    <tr>\n",
       "      <th>open_plan</th>\n",
       "      <td>0</td>\n",
       "      <td>0.00</td>\n",
       "    </tr>\n",
       "  </tbody>\n",
       "</table>\n",
       "</div>"
      ],
      "text/plain": [
       "                      missing_values  % of total\n",
       "is_apartment                   20924        0.88\n",
       "parks_nearest                  15620        0.66\n",
       "ponds_nearest                  14589        0.62\n",
       "balcony                        11519        0.49\n",
       "ceiling_height                  9195        0.39\n",
       "airports_nearest                5542        0.23\n",
       "cityCenters_nearest             5519        0.23\n",
       "ponds_around3000                5518        0.23\n",
       "parks_around3000                5518        0.23\n",
       "days_exposition                 3181        0.13\n",
       "kitchen_area                    2278        0.10\n",
       "living_area                     1903        0.08\n",
       "floors_total                      86        0.00\n",
       "locality_name                     49        0.00\n",
       "total_images                       0        0.00\n",
       "last_price                         0        0.00\n",
       "studio                             0        0.00\n",
       "floor                              0        0.00\n",
       "rooms                              0        0.00\n",
       "first_day_exposition               0        0.00\n",
       "total_area                         0        0.00\n",
       "open_plan                          0        0.00"
      ]
     },
     "execution_count": 4,
     "metadata": {},
     "output_type": "execute_result"
    }
   ],
   "source": [
    "# посмотрим на количество пропусков и их процент \n",
    "report = real_estate_data.isna().sum().to_frame()\n",
    "report = report.rename(columns = {0: 'missing_values'})\n",
    "report['% of total'] = (report['missing_values'] / real_estate_data.shape[0]).round(2)\n",
    "report.sort_values(by = 'missing_values', ascending = False)"
   ]
  },
  {
   "cell_type": "markdown",
   "metadata": {},
   "source": [
    "Во всех колонаках, кроме жилой площади, пропусков более 10%, так что заменять стандартными методами не стоит, чтобы не исказить данные.\n",
    "\n",
    "Картографические данные (airports_nearest, cityCenters_nearest,ponds_around3000, parks_around3000, parks_nearest,ponds_nearest) не будем восполнять, потому что процент пропусков слишком большой, скорее всего эти данные заполнялись автоматически, поэтому сложно восстановить их каким-то известным способом.\n",
    "\n",
    "Для balcony логично  предположить замену на 0: если человек не указал число балконов — скорее всего, их нет.\n",
    "\n",
    "Булевы значения в is_apartment можно заполнить, так как логика замены сильная: если нет положительного ответа, значит, он отрицательный.\n",
    "\n",
    "Пропусков в locality_name и floors_total очень маленькое количество (меньше 1%), им можно не искать замену.\n",
    "\n",
    "Пропуски в колонках kitchen_area и living_area можно заполнить похожим образом: обычно жилые площади/площади кухонь зависят от общей площади квартиры, так что можем сгруппировать данные по total_area и заполнить пропуски.\n",
    "\n",
    "Для заполнения ceiling_height и days_exposition\tу нас нет подходящих методов."
   ]
  },
  {
   "cell_type": "code",
   "execution_count": 5,
   "metadata": {
    "scrolled": false
   },
   "outputs": [
    {
     "data": {
      "text/plain": [
       "total_images                0\n",
       "last_price                  0\n",
       "total_area                  0\n",
       "first_day_exposition        0\n",
       "rooms                       0\n",
       "ceiling_height           9195\n",
       "floors_total               86\n",
       "living_area              1903\n",
       "floor                       0\n",
       "is_apartment                0\n",
       "studio                      0\n",
       "open_plan                   0\n",
       "kitchen_area             2278\n",
       "balcony                     0\n",
       "locality_name              49\n",
       "airports_nearest         5542\n",
       "cityCenters_nearest      5519\n",
       "parks_around3000         5518\n",
       "parks_nearest           15620\n",
       "ponds_around3000         5518\n",
       "ponds_nearest           14589\n",
       "days_exposition          3181\n",
       "dtype: int64"
      ]
     },
     "execution_count": 5,
     "metadata": {},
     "output_type": "execute_result"
    }
   ],
   "source": [
    "# заменим пропуски в балконах на 0\n",
    "real_estate_data['balcony'] = real_estate_data['balcony'].fillna(value='0')\n",
    "#заменим пропуски в аппартаментах на False\n",
    "real_estate_data['is_apartment'] = real_estate_data['balcony'].fillna(value='False')\n",
    "real_estate_data.isnull().sum()"
   ]
  },
  {
   "cell_type": "code",
   "execution_count": 6,
   "metadata": {},
   "outputs": [
    {
     "data": {
      "image/png": "[encoded data removed]",
      "text/plain": [
       "<Figure size 648x288 with 1 Axes>"
      ]
     },
     "metadata": {
      "needs_background": "light"
     },
     "output_type": "display_data"
    },
    {
     "data": {
      "image/png": "[encoded data removed]",
      "text/plain": [
       "<Figure size 648x288 with 1 Axes>"
      ]
     },
     "metadata": {
      "needs_background": "light"
     },
     "output_type": "display_data"
    }
   ],
   "source": [
    "#посмотрим на изначальное распределение в колонках living_area и kitchen_area\n",
    "real_estate_data['living_area'].hist(bins=100, range=(0, 100), figsize =(9,4))\n",
    "plt.title('изначальное распределение для жилой площади')\n",
    "plt.show()\n",
    "\n",
    "real_estate_data['kitchen_area'].hist(bins=100, range=(0, 70), figsize =(9,4))\n",
    "plt.title('изначальное распределение для площади кухни')\n",
    "plt.show()"
   ]
  },
  {
   "cell_type": "code",
   "execution_count": 7,
   "metadata": {
    "scrolled": true
   },
   "outputs": [
    {
     "data": {
      "text/html": [
       "<div>\n",
       "<style scoped>\n",
       "    .dataframe tbody tr th:only-of-type {\n",
       "        vertical-align: middle;\n",
       "    }\n",
       "\n",
       "    .dataframe tbody tr th {\n",
       "        vertical-align: top;\n",
       "    }\n",
       "\n",
       "    .dataframe thead th {\n",
       "        text-align: right;\n",
       "    }\n",
       "</style>\n",
       "<table border=\"1\" class=\"dataframe\">\n",
       "  <thead>\n",
       "    <tr style=\"text-align: right;\">\n",
       "      <th></th>\n",
       "      <th>total_images</th>\n",
       "      <th>last_price</th>\n",
       "      <th>total_area</th>\n",
       "      <th>first_day_exposition</th>\n",
       "      <th>rooms</th>\n",
       "      <th>ceiling_height</th>\n",
       "      <th>floors_total</th>\n",
       "      <th>living_area</th>\n",
       "      <th>floor</th>\n",
       "      <th>is_apartment</th>\n",
       "      <th>studio</th>\n",
       "      <th>open_plan</th>\n",
       "      <th>kitchen_area</th>\n",
       "      <th>balcony</th>\n",
       "      <th>locality_name</th>\n",
       "      <th>airports_nearest</th>\n",
       "      <th>cityCenters_nearest</th>\n",
       "      <th>parks_around3000</th>\n",
       "      <th>parks_nearest</th>\n",
       "      <th>ponds_around3000</th>\n",
       "      <th>ponds_nearest</th>\n",
       "      <th>days_exposition</th>\n",
       "    </tr>\n",
       "  </thead>\n",
       "  <tbody>\n",
       "    <tr>\n",
       "      <th>0</th>\n",
       "      <td>20</td>\n",
       "      <td>13000000.0</td>\n",
       "      <td>108.0</td>\n",
       "      <td>2019-03-07T00:00:00</td>\n",
       "      <td>3</td>\n",
       "      <td>2.70</td>\n",
       "      <td>16.0</td>\n",
       "      <td>51.0</td>\n",
       "      <td>8</td>\n",
       "      <td>0</td>\n",
       "      <td>False</td>\n",
       "      <td>False</td>\n",
       "      <td>25.0</td>\n",
       "      <td>0</td>\n",
       "      <td>Санкт-Петербург</td>\n",
       "      <td>18863.0</td>\n",
       "      <td>16028.0</td>\n",
       "      <td>1.0</td>\n",
       "      <td>482.0</td>\n",
       "      <td>2.0</td>\n",
       "      <td>755.0</td>\n",
       "      <td>NaN</td>\n",
       "    </tr>\n",
       "    <tr>\n",
       "      <th>1</th>\n",
       "      <td>7</td>\n",
       "      <td>3350000.0</td>\n",
       "      <td>40.4</td>\n",
       "      <td>2018-12-04T00:00:00</td>\n",
       "      <td>1</td>\n",
       "      <td>NaN</td>\n",
       "      <td>11.0</td>\n",
       "      <td>18.6</td>\n",
       "      <td>1</td>\n",
       "      <td>2.0</td>\n",
       "      <td>False</td>\n",
       "      <td>False</td>\n",
       "      <td>11.0</td>\n",
       "      <td>2.0</td>\n",
       "      <td>посёлок Шушары</td>\n",
       "      <td>12817.0</td>\n",
       "      <td>18603.0</td>\n",
       "      <td>0.0</td>\n",
       "      <td>NaN</td>\n",
       "      <td>0.0</td>\n",
       "      <td>NaN</td>\n",
       "      <td>81.0</td>\n",
       "    </tr>\n",
       "    <tr>\n",
       "      <th>2</th>\n",
       "      <td>10</td>\n",
       "      <td>5196000.0</td>\n",
       "      <td>56.0</td>\n",
       "      <td>2015-08-20T00:00:00</td>\n",
       "      <td>2</td>\n",
       "      <td>NaN</td>\n",
       "      <td>5.0</td>\n",
       "      <td>34.3</td>\n",
       "      <td>4</td>\n",
       "      <td>0.0</td>\n",
       "      <td>False</td>\n",
       "      <td>False</td>\n",
       "      <td>8.3</td>\n",
       "      <td>0.0</td>\n",
       "      <td>Санкт-Петербург</td>\n",
       "      <td>21741.0</td>\n",
       "      <td>13933.0</td>\n",
       "      <td>1.0</td>\n",
       "      <td>90.0</td>\n",
       "      <td>2.0</td>\n",
       "      <td>574.0</td>\n",
       "      <td>558.0</td>\n",
       "    </tr>\n",
       "    <tr>\n",
       "      <th>3</th>\n",
       "      <td>0</td>\n",
       "      <td>64900000.0</td>\n",
       "      <td>159.0</td>\n",
       "      <td>2015-07-24T00:00:00</td>\n",
       "      <td>3</td>\n",
       "      <td>NaN</td>\n",
       "      <td>14.0</td>\n",
       "      <td>95.0</td>\n",
       "      <td>9</td>\n",
       "      <td>0.0</td>\n",
       "      <td>False</td>\n",
       "      <td>False</td>\n",
       "      <td>15.0</td>\n",
       "      <td>0.0</td>\n",
       "      <td>Санкт-Петербург</td>\n",
       "      <td>28098.0</td>\n",
       "      <td>6800.0</td>\n",
       "      <td>2.0</td>\n",
       "      <td>84.0</td>\n",
       "      <td>3.0</td>\n",
       "      <td>234.0</td>\n",
       "      <td>424.0</td>\n",
       "    </tr>\n",
       "    <tr>\n",
       "      <th>4</th>\n",
       "      <td>2</td>\n",
       "      <td>10000000.0</td>\n",
       "      <td>100.0</td>\n",
       "      <td>2018-06-19T00:00:00</td>\n",
       "      <td>2</td>\n",
       "      <td>3.03</td>\n",
       "      <td>14.0</td>\n",
       "      <td>32.0</td>\n",
       "      <td>13</td>\n",
       "      <td>0</td>\n",
       "      <td>False</td>\n",
       "      <td>False</td>\n",
       "      <td>41.0</td>\n",
       "      <td>0</td>\n",
       "      <td>Санкт-Петербург</td>\n",
       "      <td>31856.0</td>\n",
       "      <td>8098.0</td>\n",
       "      <td>2.0</td>\n",
       "      <td>112.0</td>\n",
       "      <td>1.0</td>\n",
       "      <td>48.0</td>\n",
       "      <td>121.0</td>\n",
       "    </tr>\n",
       "  </tbody>\n",
       "</table>\n",
       "</div>"
      ],
      "text/plain": [
       "   total_images  last_price  total_area first_day_exposition  rooms  \\\n",
       "0            20  13000000.0       108.0  2019-03-07T00:00:00      3   \n",
       "1             7   3350000.0        40.4  2018-12-04T00:00:00      1   \n",
       "2            10   5196000.0        56.0  2015-08-20T00:00:00      2   \n",
       "3             0  64900000.0       159.0  2015-07-24T00:00:00      3   \n",
       "4             2  10000000.0       100.0  2018-06-19T00:00:00      2   \n",
       "\n",
       "   ceiling_height  floors_total  living_area  floor is_apartment  studio  \\\n",
       "0            2.70          16.0         51.0      8            0   False   \n",
       "1             NaN          11.0         18.6      1          2.0   False   \n",
       "2             NaN           5.0         34.3      4          0.0   False   \n",
       "3             NaN          14.0         95.0      9          0.0   False   \n",
       "4            3.03          14.0         32.0     13            0   False   \n",
       "\n",
       "   open_plan  kitchen_area balcony    locality_name  airports_nearest  \\\n",
       "0      False          25.0       0  Санкт-Петербург           18863.0   \n",
       "1      False          11.0     2.0   посёлок Шушары           12817.0   \n",
       "2      False           8.3     0.0  Санкт-Петербург           21741.0   \n",
       "3      False          15.0     0.0  Санкт-Петербург           28098.0   \n",
       "4      False          41.0       0  Санкт-Петербург           31856.0   \n",
       "\n",
       "   cityCenters_nearest  parks_around3000  parks_nearest  ponds_around3000  \\\n",
       "0              16028.0               1.0          482.0               2.0   \n",
       "1              18603.0               0.0            NaN               0.0   \n",
       "2              13933.0               1.0           90.0               2.0   \n",
       "3               6800.0               2.0           84.0               3.0   \n",
       "4               8098.0               2.0          112.0               1.0   \n",
       "\n",
       "   ponds_nearest  days_exposition  \n",
       "0          755.0              NaN  \n",
       "1            NaN             81.0  \n",
       "2          574.0            558.0  \n",
       "3          234.0            424.0  \n",
       "4           48.0            121.0  "
      ]
     },
     "execution_count": 7,
     "metadata": {},
     "output_type": "execute_result"
    }
   ],
   "source": [
    "# найдем медианы по разным группам total_area\n",
    "real_estate_data.groupby('total_area')['living_area'].median()\n",
    "real_estate_data.groupby('total_area')['kitchen_area'].median()\n",
    "# заменим пропуски  соответствующей медианой\n",
    "real_estate_data['living_area'] = real_estate_data.groupby(\n",
    "    'total_area')['living_area'].apply(lambda x: x.fillna(x.median()))\n",
    "real_estate_data['kitchen_area'] = real_estate_data.groupby(\n",
    "    'total_area')['kitchen_area'].apply(lambda x: x.fillna(x.median()))\n",
    "\n",
    "real_estate_data.head(5)"
   ]
  },
  {
   "cell_type": "code",
   "execution_count": 8,
   "metadata": {
    "scrolled": true
   },
   "outputs": [
    {
     "data": {
      "image/png": "[encoded data removed]",
      "text/plain": [
       "<Figure size 648x288 with 1 Axes>"
      ]
     },
     "metadata": {
      "needs_background": "light"
     },
     "output_type": "display_data"
    },
    {
     "data": {
      "image/png": "[encoded data removed]",
      "text/plain": [
       "<Figure size 648x288 with 1 Axes>"
      ]
     },
     "metadata": {
      "needs_background": "light"
     },
     "output_type": "display_data"
    }
   ],
   "source": [
    "#посмотрим не изменилось ли распределение\n",
    "real_estate_data['living_area'].hist(bins=100, range=(0, 100), figsize =(9,4))\n",
    "plt.title('распределение для жилой площади после замены пропусков')\n",
    "plt.show()\n",
    "\n",
    "real_estate_data['kitchen_area'].hist(bins=100, range=(0, 70), figsize =(9,4))\n",
    "plt.title('распределение для площади кухни после замены пропусков')\n",
    "plt.show()"
   ]
  },
  {
   "cell_type": "markdown",
   "metadata": {},
   "source": [
    "Распределение не изменилось, так что замену пропусков можно считать удачной."
   ]
  },
  {
   "cell_type": "markdown",
   "metadata": {},
   "source": [
    "### Замена типа данных"
   ]
  },
  {
   "cell_type": "code",
   "execution_count": 9,
   "metadata": {
    "scrolled": true
   },
   "outputs": [
    {
     "name": "stdout",
     "output_type": "stream",
     "text": [
      "<class 'pandas.core.frame.DataFrame'>\n",
      "RangeIndex: 23699 entries, 0 to 23698\n",
      "Data columns (total 22 columns):\n",
      " #   Column                Non-Null Count  Dtype  \n",
      "---  ------                --------------  -----  \n",
      " 0   total_images          23699 non-null  int64  \n",
      " 1   last_price            23699 non-null  float64\n",
      " 2   total_area            23699 non-null  float64\n",
      " 3   first_day_exposition  23699 non-null  object \n",
      " 4   rooms                 23699 non-null  int64  \n",
      " 5   ceiling_height        14504 non-null  float64\n",
      " 6   floors_total          23613 non-null  float64\n",
      " 7   living_area           23556 non-null  float64\n",
      " 8   floor                 23699 non-null  int64  \n",
      " 9   is_apartment          23699 non-null  object \n",
      " 10  studio                23699 non-null  bool   \n",
      " 11  open_plan             23699 non-null  bool   \n",
      " 12  kitchen_area          23494 non-null  float64\n",
      " 13  balcony               23699 non-null  object \n",
      " 14  locality_name         23650 non-null  object \n",
      " 15  airports_nearest      18157 non-null  float64\n",
      " 16  cityCenters_nearest   18180 non-null  float64\n",
      " 17  parks_around3000      18181 non-null  float64\n",
      " 18  parks_nearest         8079 non-null   float64\n",
      " 19  ponds_around3000      18181 non-null  float64\n",
      " 20  ponds_nearest         9110 non-null   float64\n",
      " 21  days_exposition       20518 non-null  float64\n",
      "dtypes: bool(2), float64(13), int64(3), object(4)\n",
      "memory usage: 3.7+ MB\n"
     ]
    }
   ],
   "source": [
    "real_estate_data.info()"
   ]
  },
  {
   "cell_type": "code",
   "execution_count": 10,
   "metadata": {},
   "outputs": [],
   "source": [
    "real_estate_data['first_day_exposition'] = pd.to_datetime(\n",
    "real_estate_data['first_day_exposition'], format='%Y-%m-%d %H:%M:%S')\n",
    "real_estate_data['days_exposition'] = real_estate_data['days_exposition'].astype('float32').astype('Int64')\n",
    "real_estate_data['floor'] = real_estate_data['floor'].astype('int64')\n",
    "real_estate_data['balcony'] = real_estate_data['balcony'].astype('int64')\n",
    "real_estate_data['is_apartment'] = real_estate_data['is_apartment'].astype('bool')"
   ]
  },
  {
   "cell_type": "code",
   "execution_count": 11,
   "metadata": {
    "scrolled": true
   },
   "outputs": [
    {
     "name": "stdout",
     "output_type": "stream",
     "text": [
      "<class 'pandas.core.frame.DataFrame'>\n",
      "RangeIndex: 23699 entries, 0 to 23698\n",
      "Data columns (total 22 columns):\n",
      " #   Column                Non-Null Count  Dtype         \n",
      "---  ------                --------------  -----         \n",
      " 0   total_images          23699 non-null  int64         \n",
      " 1   last_price            23699 non-null  float64       \n",
      " 2   total_area            23699 non-null  float64       \n",
      " 3   first_day_exposition  23699 non-null  datetime64[ns]\n",
      " 4   rooms                 23699 non-null  int64         \n",
      " 5   ceiling_height        14504 non-null  float64       \n",
      " 6   floors_total          23613 non-null  float64       \n",
      " 7   living_area           23556 non-null  float64       \n",
      " 8   floor                 23699 non-null  int64         \n",
      " 9   is_apartment          23699 non-null  bool          \n",
      " 10  studio                23699 non-null  bool          \n",
      " 11  open_plan             23699 non-null  bool          \n",
      " 12  kitchen_area          23494 non-null  float64       \n",
      " 13  balcony               23699 non-null  int64         \n",
      " 14  locality_name         23650 non-null  object        \n",
      " 15  airports_nearest      18157 non-null  float64       \n",
      " 16  cityCenters_nearest   18180 non-null  float64       \n",
      " 17  parks_around3000      18181 non-null  float64       \n",
      " 18  parks_nearest         8079 non-null   float64       \n",
      " 19  ponds_around3000      18181 non-null  float64       \n",
      " 20  ponds_nearest         9110 non-null   float64       \n",
      " 21  days_exposition       20518 non-null  Int64         \n",
      "dtypes: Int64(1), bool(3), datetime64[ns](1), float64(12), int64(4), object(1)\n",
      "memory usage: 3.5+ MB\n"
     ]
    }
   ],
   "source": [
    "real_estate_data.info()"
   ]
  },
  {
   "cell_type": "markdown",
   "metadata": {},
   "source": [
    "Заменили тип данных в колонках days_exposition, floor, balcony на целочисленный.\n",
    "В first_day_exposition на тип дата и время, а is_apartment на булевы значения. "
   ]
  },
  {
   "cell_type": "markdown",
   "metadata": {},
   "source": [
    "### Обработка дубликатов"
   ]
  },
  {
   "cell_type": "code",
   "execution_count": 12,
   "metadata": {},
   "outputs": [
    {
     "data": {
      "text/plain": [
       "0"
      ]
     },
     "execution_count": 12,
     "metadata": {},
     "output_type": "execute_result"
    }
   ],
   "source": [
    "#проверим на целострочные дубликаты\n",
    "real_estate_data.duplicated().sum()"
   ]
  },
  {
   "cell_type": "markdown",
   "metadata": {},
   "source": [
    "Очевидных дубликов в данных нет."
   ]
  },
  {
   "cell_type": "code",
   "execution_count": 13,
   "metadata": {},
   "outputs": [
    {
     "data": {
      "text/plain": [
       "array(['Санкт-Петербург', 'посёлок Шушары', 'городской посёлок Янино-1',\n",
       "       'посёлок Парголово', 'посёлок Мурино', 'Ломоносов', 'Сертолово',\n",
       "       'Петергоф', 'Пушкин', 'деревня Кудрово', 'Коммунар', 'Колпино',\n",
       "       'поселок городского типа Красный Бор', 'Гатчина', 'поселок Мурино',\n",
       "       'деревня Фёдоровское', 'Выборг', 'Кронштадт', 'Кировск',\n",
       "       'деревня Новое Девяткино', 'посёлок Металлострой',\n",
       "       'посёлок городского типа Лебяжье',\n",
       "       'посёлок городского типа Сиверский', 'поселок Молодцово',\n",
       "       'поселок городского типа Кузьмоловский',\n",
       "       'садовое товарищество Новая Ропша', 'Павловск',\n",
       "       'деревня Пикколово', 'Всеволожск', 'Волхов', 'Кингисепп',\n",
       "       'Приозерск', 'Сестрорецк', 'деревня Куттузи', 'посёлок Аннино',\n",
       "       'поселок городского типа Ефимовский', 'посёлок Плодовое',\n",
       "       'деревня Заклинье', 'поселок Торковичи', 'поселок Первомайское',\n",
       "       'Красное Село', 'посёлок Понтонный', 'Сясьстрой', 'деревня Старая',\n",
       "       'деревня Лесколово', 'посёлок Новый Свет', 'Сланцы',\n",
       "       'село Путилово', 'Ивангород', 'Мурино', 'Шлиссельбург',\n",
       "       'Никольское', 'Зеленогорск', 'Сосновый Бор', 'поселок Новый Свет',\n",
       "       'деревня Оржицы', 'деревня Кальтино', 'Кудрово',\n",
       "       'поселок Романовка', 'посёлок Бугры', 'поселок Бугры',\n",
       "       'поселок городского типа Рощино', 'Кириши', 'Луга', 'Волосово',\n",
       "       'Отрадное', 'село Павлово', 'поселок Оредеж', 'село Копорье',\n",
       "       'посёлок городского типа Красный Бор', 'посёлок Молодёжное',\n",
       "       'Тихвин', 'посёлок Победа', 'деревня Нурма',\n",
       "       'поселок городского типа Синявино', 'Тосно',\n",
       "       'посёлок городского типа Кузьмоловский', 'посёлок Стрельна',\n",
       "       'Бокситогорск', 'посёлок Александровская', 'деревня Лопухинка',\n",
       "       'Пикалёво', 'поселок Терволово',\n",
       "       'поселок городского типа Советский', 'Подпорожье',\n",
       "       'посёлок Петровское', 'посёлок городского типа Токсово',\n",
       "       'поселок Сельцо', 'посёлок городского типа Вырица',\n",
       "       'деревня Кипень', 'деревня Келози', 'деревня Вартемяги',\n",
       "       'посёлок Тельмана', 'поселок Севастьяново',\n",
       "       'городской поселок Большая Ижора', nan,\n",
       "       'городской посёлок Павлово', 'деревня Агалатово',\n",
       "       'посёлок Новогорелово', 'городской посёлок Лесогорский',\n",
       "       'деревня Лаголово', 'поселок Цвелодубово',\n",
       "       'поселок городского типа Рахья', 'поселок городского типа Вырица',\n",
       "       'деревня Белогорка', 'поселок Заводской',\n",
       "       'городской посёлок Новоселье', 'деревня Большие Колпаны',\n",
       "       'деревня Горбунки', 'деревня Батово', 'деревня Заневка',\n",
       "       'деревня Иссад', 'Приморск', 'городской посёлок Фёдоровское',\n",
       "       'деревня Мистолово', 'Новая Ладога', 'поселок Зимитицы',\n",
       "       'поселок Барышево', 'деревня Разметелево',\n",
       "       'поселок городского типа имени Свердлова', 'деревня Пеники',\n",
       "       'поселок Рябово', 'деревня Пудомяги', 'поселок станции Корнево',\n",
       "       'деревня Низино', 'деревня Бегуницы', 'посёлок Поляны',\n",
       "       'городской посёлок Мга', 'поселок Елизаветино',\n",
       "       'посёлок городского типа Кузнечное', 'деревня Колтуши',\n",
       "       'поселок Запорожское', 'посёлок городского типа Рощино',\n",
       "       'деревня Гостилицы', 'деревня Малое Карлино',\n",
       "       'посёлок Мичуринское', 'посёлок городского типа имени Морозова',\n",
       "       'посёлок Песочный', 'посёлок Сосново', 'деревня Аро',\n",
       "       'поселок Ильичёво', 'посёлок городского типа Тайцы',\n",
       "       'деревня Малое Верево', 'деревня Извара', 'поселок станции Вещево',\n",
       "       'село Паша', 'деревня Калитино',\n",
       "       'посёлок городского типа Ульяновка', 'деревня Чудской Бор',\n",
       "       'поселок городского типа Дубровка', 'деревня Мины',\n",
       "       'поселок Войсковицы', 'посёлок городского типа имени Свердлова',\n",
       "       'деревня Коркино', 'посёлок Ропша',\n",
       "       'поселок городского типа Приладожский', 'посёлок Щеглово',\n",
       "       'посёлок Гаврилово', 'Лодейное Поле', 'деревня Рабитицы',\n",
       "       'поселок городского типа Никольский', 'деревня Кузьмолово',\n",
       "       'деревня Малые Колпаны', 'поселок Тельмана',\n",
       "       'посёлок Петро-Славянка', 'городской посёлок Назия',\n",
       "       'посёлок Репино', 'посёлок Ильичёво', 'поселок Углово',\n",
       "       'поселок Старая Малукса', 'садовое товарищество Рахья',\n",
       "       'поселок Аннино', 'поселок Победа', 'деревня Меньково',\n",
       "       'деревня Старые Бегуницы', 'посёлок Сапёрный', 'поселок Семрино',\n",
       "       'поселок Гаврилово', 'поселок Глажево', 'поселок Кобринское',\n",
       "       'деревня Гарболово', 'деревня Юкки',\n",
       "       'поселок станции Приветнинское', 'деревня Мануйлово',\n",
       "       'деревня Пчева', 'поселок Поляны', 'поселок Цвылёво',\n",
       "       'поселок Мельниково', 'посёлок Пудость', 'посёлок Усть-Луга',\n",
       "       'Светогорск', 'Любань', 'поселок Селезнёво',\n",
       "       'поселок городского типа Рябово', 'Каменногорск', 'деревня Кривко',\n",
       "       'поселок Глебычево', 'деревня Парицы', 'поселок Жилпосёлок',\n",
       "       'посёлок городского типа Мга', 'городской поселок Янино-1',\n",
       "       'посёлок Войскорово', 'село Никольское', 'посёлок Терволово',\n",
       "       'поселок Стеклянный', 'посёлок городского типа Важины',\n",
       "       'посёлок Мыза-Ивановка', 'село Русско-Высоцкое',\n",
       "       'поселок городского типа Лебяжье',\n",
       "       'поселок городского типа Форносово', 'село Старая Ладога',\n",
       "       'поселок Житково', 'городской посёлок Виллози', 'деревня Лампово',\n",
       "       'деревня Шпаньково', 'деревня Лаврики', 'посёлок Сумино',\n",
       "       'посёлок Возрождение', 'деревня Старосиверская',\n",
       "       'посёлок Кикерино', 'поселок Возрождение',\n",
       "       'деревня Старое Хинколово', 'посёлок Пригородный',\n",
       "       'посёлок Торфяное', 'городской посёлок Будогощь',\n",
       "       'поселок Суходолье', 'поселок Красная Долина', 'деревня Хапо-Ое',\n",
       "       'поселок городского типа Дружная Горка', 'поселок Лисий Нос',\n",
       "       'деревня Яльгелево', 'посёлок Стеклянный', 'село Рождествено',\n",
       "       'деревня Старополье', 'посёлок Левашово', 'деревня Сяськелево',\n",
       "       'деревня Камышовка',\n",
       "       'садоводческое некоммерческое товарищество Лесная Поляна',\n",
       "       'деревня Хязельки', 'поселок Жилгородок',\n",
       "       'посёлок городского типа Павлово', 'деревня Ялгино',\n",
       "       'поселок Новый Учхоз', 'городской посёлок Рощино',\n",
       "       'поселок Гончарово', 'поселок Почап', 'посёлок Сапёрное',\n",
       "       'посёлок Платформа 69-й километр', 'поселок Каложицы',\n",
       "       'деревня Фалилеево', 'деревня Пельгора',\n",
       "       'поселок городского типа Лесогорский', 'деревня Торошковичи',\n",
       "       'посёлок Белоостров', 'посёлок Алексеевка', 'поселок Серебрянский',\n",
       "       'поселок Лукаши', 'поселок Петровское', 'деревня Щеглово',\n",
       "       'поселок Мичуринское', 'деревня Тарасово', 'поселок Кингисеппский',\n",
       "       'посёлок при железнодорожной станции Вещево', 'поселок Ушаки',\n",
       "       'деревня Котлы', 'деревня Сижно', 'деревня Торосово',\n",
       "       'посёлок Форт Красная Горка', 'поселок городского типа Токсово',\n",
       "       'деревня Новолисино', 'посёлок станции Громово', 'деревня Глинка',\n",
       "       'посёлок Мельниково', 'поселок городского типа Назия',\n",
       "       'деревня Старая Пустошь', 'поселок Коммунары', 'поселок Починок',\n",
       "       'посёлок городского типа Вознесенье', 'деревня Разбегаево',\n",
       "       'посёлок городского типа Рябово', 'поселок Гладкое',\n",
       "       'посёлок при железнодорожной станции Приветнинское',\n",
       "       'поселок Тёсово-4', 'посёлок Жилгородок', 'деревня Бор',\n",
       "       'посёлок Коробицыно', 'деревня Большая Вруда', 'деревня Курковицы',\n",
       "       'посёлок Лисий Нос', 'городской посёлок Советский',\n",
       "       'посёлок Кобралово', 'деревня Суоранда', 'поселок Кобралово',\n",
       "       'поселок городского типа Кондратьево',\n",
       "       'коттеджный поселок Счастье', 'поселок Любань', 'деревня Реброво',\n",
       "       'деревня Зимитицы', 'деревня Тойворово', 'поселок Семиозерье',\n",
       "       'поселок Лесное', 'поселок Совхозный', 'поселок Усть-Луга',\n",
       "       'посёлок Ленинское', 'посёлок Суйда',\n",
       "       'посёлок городского типа Форносово', 'деревня Нижние Осельки',\n",
       "       'посёлок станции Свирь', 'поселок Перово', 'Высоцк',\n",
       "       'поселок Гарболово', 'село Шум', 'поселок Котельский',\n",
       "       'поселок станции Лужайка', 'деревня Большая Пустомержа',\n",
       "       'поселок Красносельское', 'деревня Вахнова Кара', 'деревня Пижма',\n",
       "       'коттеджный поселок Кивеннапа Север', 'поселок Коробицыно',\n",
       "       'поселок Ромашки', 'посёлок Перово', 'деревня Каськово',\n",
       "       'деревня Куровицы', 'посёлок Плоское', 'поселок Сумино',\n",
       "       'поселок городского типа Большая Ижора', 'поселок Кирпичное',\n",
       "       'деревня Ям-Тесово', 'деревня Раздолье', 'деревня Терпилицы',\n",
       "       'посёлок Шугозеро', 'деревня Ваганово', 'поселок Пушное',\n",
       "       'садовое товарищество Садко', 'посёлок Усть-Ижора',\n",
       "       'деревня Выскатка', 'городской посёлок Свирьстрой',\n",
       "       'поселок Громово', 'деревня Кисельня', 'посёлок Старая Малукса',\n",
       "       'деревня Трубников Бор', 'поселок Калитино',\n",
       "       'посёлок Высокоключевой', 'садовое товарищество Приладожский',\n",
       "       'посёлок Пансионат Зелёный Бор', 'деревня Ненимяки',\n",
       "       'поселок Пансионат Зелёный Бор', 'деревня Снегирёвка',\n",
       "       'деревня Рапполово', 'деревня Пустынка', 'поселок Рабитицы',\n",
       "       'деревня Большой Сабск', 'деревня Русско', 'деревня Лупполово',\n",
       "       'деревня Большое Рейзино', 'деревня Малая Романовка',\n",
       "       'поселок Дружноселье', 'поселок Пчевжа', 'поселок Володарское',\n",
       "       'деревня Нижняя', 'коттеджный посёлок Лесное', 'деревня Тихковицы',\n",
       "       'деревня Борисова Грива', 'посёлок Дзержинского'], dtype=object)"
      ]
     },
     "execution_count": 13,
     "metadata": {},
     "output_type": "execute_result"
    }
   ],
   "source": [
    "# сначала визуально посмотим неявные дубликаты в колонке местоположения\n",
    "real_estate_data['locality_name'].unique()"
   ]
  },
  {
   "cell_type": "code",
   "execution_count": 14,
   "metadata": {},
   "outputs": [
    {
     "data": {
      "text/plain": [
       "365"
      ]
     },
     "execution_count": 14,
     "metadata": {},
     "output_type": "execute_result"
    }
   ],
   "source": [
    "# посмотрим сколько всего значений\n",
    "len(real_estate_data['locality_name'].unique())"
   ]
  },
  {
   "cell_type": "markdown",
   "metadata": {},
   "source": [
    "В названиях населенных пунктов есть повторы, например 'посёлок Пансионат Зелёный Бор' и 'поселок Пансионат Зелёный Бор'.  Замени  ё на е"
   ]
  },
  {
   "cell_type": "code",
   "execution_count": 15,
   "metadata": {},
   "outputs": [
    {
     "data": {
      "text/plain": [
       "331"
      ]
     },
     "execution_count": 15,
     "metadata": {},
     "output_type": "execute_result"
    }
   ],
   "source": [
    "real_estate_data['locality_name'] = real_estate_data['locality_name'].str.lower() \n",
    "real_estate_data['locality_name'] = real_estate_data['locality_name'].str.replace('ё', 'е')\n",
    "len(real_estate_data['locality_name'].unique())\n"
   ]
  },
  {
   "cell_type": "markdown",
   "metadata": {},
   "source": [
    "Убрали дубликаты в столбце названий населенного пункта."
   ]
  },
  {
   "cell_type": "markdown",
   "metadata": {},
   "source": [
    "## Рассчёты и добавление результатов в таблицу"
   ]
  },
  {
   "cell_type": "markdown",
   "metadata": {},
   "source": [
    "### Посчитаем и добавим в таблицу цену квадратного метра\n"
   ]
  },
  {
   "cell_type": "code",
   "execution_count": 16,
   "metadata": {},
   "outputs": [
    {
     "data": {
      "text/html": [
       "<div>\n",
       "<style scoped>\n",
       "    .dataframe tbody tr th:only-of-type {\n",
       "        vertical-align: middle;\n",
       "    }\n",
       "\n",
       "    .dataframe tbody tr th {\n",
       "        vertical-align: top;\n",
       "    }\n",
       "\n",
       "    .dataframe thead th {\n",
       "        text-align: right;\n",
       "    }\n",
       "</style>\n",
       "<table border=\"1\" class=\"dataframe\">\n",
       "  <thead>\n",
       "    <tr style=\"text-align: right;\">\n",
       "      <th></th>\n",
       "      <th>total_images</th>\n",
       "      <th>last_price</th>\n",
       "      <th>total_area</th>\n",
       "      <th>first_day_exposition</th>\n",
       "      <th>rooms</th>\n",
       "      <th>ceiling_height</th>\n",
       "      <th>floors_total</th>\n",
       "      <th>living_area</th>\n",
       "      <th>floor</th>\n",
       "      <th>is_apartment</th>\n",
       "      <th>studio</th>\n",
       "      <th>open_plan</th>\n",
       "      <th>kitchen_area</th>\n",
       "      <th>balcony</th>\n",
       "      <th>locality_name</th>\n",
       "      <th>airports_nearest</th>\n",
       "      <th>cityCenters_nearest</th>\n",
       "      <th>parks_around3000</th>\n",
       "      <th>parks_nearest</th>\n",
       "      <th>ponds_around3000</th>\n",
       "      <th>ponds_nearest</th>\n",
       "      <th>days_exposition</th>\n",
       "      <th>price_per_meter</th>\n",
       "    </tr>\n",
       "  </thead>\n",
       "  <tbody>\n",
       "    <tr>\n",
       "      <th>0</th>\n",
       "      <td>20</td>\n",
       "      <td>13000000.0</td>\n",
       "      <td>108.0</td>\n",
       "      <td>2019-03-07</td>\n",
       "      <td>3</td>\n",
       "      <td>2.70</td>\n",
       "      <td>16.0</td>\n",
       "      <td>51.0</td>\n",
       "      <td>8</td>\n",
       "      <td>True</td>\n",
       "      <td>False</td>\n",
       "      <td>False</td>\n",
       "      <td>25.0</td>\n",
       "      <td>0</td>\n",
       "      <td>санкт-петербург</td>\n",
       "      <td>18863.0</td>\n",
       "      <td>16028.0</td>\n",
       "      <td>1.0</td>\n",
       "      <td>482.0</td>\n",
       "      <td>2.0</td>\n",
       "      <td>755.0</td>\n",
       "      <td>&lt;NA&gt;</td>\n",
       "      <td>120370.370370</td>\n",
       "    </tr>\n",
       "    <tr>\n",
       "      <th>1</th>\n",
       "      <td>7</td>\n",
       "      <td>3350000.0</td>\n",
       "      <td>40.4</td>\n",
       "      <td>2018-12-04</td>\n",
       "      <td>1</td>\n",
       "      <td>NaN</td>\n",
       "      <td>11.0</td>\n",
       "      <td>18.6</td>\n",
       "      <td>1</td>\n",
       "      <td>True</td>\n",
       "      <td>False</td>\n",
       "      <td>False</td>\n",
       "      <td>11.0</td>\n",
       "      <td>2</td>\n",
       "      <td>поселок шушары</td>\n",
       "      <td>12817.0</td>\n",
       "      <td>18603.0</td>\n",
       "      <td>0.0</td>\n",
       "      <td>NaN</td>\n",
       "      <td>0.0</td>\n",
       "      <td>NaN</td>\n",
       "      <td>81</td>\n",
       "      <td>82920.792079</td>\n",
       "    </tr>\n",
       "    <tr>\n",
       "      <th>2</th>\n",
       "      <td>10</td>\n",
       "      <td>5196000.0</td>\n",
       "      <td>56.0</td>\n",
       "      <td>2015-08-20</td>\n",
       "      <td>2</td>\n",
       "      <td>NaN</td>\n",
       "      <td>5.0</td>\n",
       "      <td>34.3</td>\n",
       "      <td>4</td>\n",
       "      <td>False</td>\n",
       "      <td>False</td>\n",
       "      <td>False</td>\n",
       "      <td>8.3</td>\n",
       "      <td>0</td>\n",
       "      <td>санкт-петербург</td>\n",
       "      <td>21741.0</td>\n",
       "      <td>13933.0</td>\n",
       "      <td>1.0</td>\n",
       "      <td>90.0</td>\n",
       "      <td>2.0</td>\n",
       "      <td>574.0</td>\n",
       "      <td>558</td>\n",
       "      <td>92785.714286</td>\n",
       "    </tr>\n",
       "    <tr>\n",
       "      <th>3</th>\n",
       "      <td>0</td>\n",
       "      <td>64900000.0</td>\n",
       "      <td>159.0</td>\n",
       "      <td>2015-07-24</td>\n",
       "      <td>3</td>\n",
       "      <td>NaN</td>\n",
       "      <td>14.0</td>\n",
       "      <td>95.0</td>\n",
       "      <td>9</td>\n",
       "      <td>False</td>\n",
       "      <td>False</td>\n",
       "      <td>False</td>\n",
       "      <td>15.0</td>\n",
       "      <td>0</td>\n",
       "      <td>санкт-петербург</td>\n",
       "      <td>28098.0</td>\n",
       "      <td>6800.0</td>\n",
       "      <td>2.0</td>\n",
       "      <td>84.0</td>\n",
       "      <td>3.0</td>\n",
       "      <td>234.0</td>\n",
       "      <td>424</td>\n",
       "      <td>408176.100629</td>\n",
       "    </tr>\n",
       "    <tr>\n",
       "      <th>4</th>\n",
       "      <td>2</td>\n",
       "      <td>10000000.0</td>\n",
       "      <td>100.0</td>\n",
       "      <td>2018-06-19</td>\n",
       "      <td>2</td>\n",
       "      <td>3.03</td>\n",
       "      <td>14.0</td>\n",
       "      <td>32.0</td>\n",
       "      <td>13</td>\n",
       "      <td>True</td>\n",
       "      <td>False</td>\n",
       "      <td>False</td>\n",
       "      <td>41.0</td>\n",
       "      <td>0</td>\n",
       "      <td>санкт-петербург</td>\n",
       "      <td>31856.0</td>\n",
       "      <td>8098.0</td>\n",
       "      <td>2.0</td>\n",
       "      <td>112.0</td>\n",
       "      <td>1.0</td>\n",
       "      <td>48.0</td>\n",
       "      <td>121</td>\n",
       "      <td>100000.000000</td>\n",
       "    </tr>\n",
       "  </tbody>\n",
       "</table>\n",
       "</div>"
      ],
      "text/plain": [
       "   total_images  last_price  total_area first_day_exposition  rooms  \\\n",
       "0            20  13000000.0       108.0           2019-03-07      3   \n",
       "1             7   3350000.0        40.4           2018-12-04      1   \n",
       "2            10   5196000.0        56.0           2015-08-20      2   \n",
       "3             0  64900000.0       159.0           2015-07-24      3   \n",
       "4             2  10000000.0       100.0           2018-06-19      2   \n",
       "\n",
       "   ceiling_height  floors_total  living_area  floor  is_apartment  studio  \\\n",
       "0            2.70          16.0         51.0      8          True   False   \n",
       "1             NaN          11.0         18.6      1          True   False   \n",
       "2             NaN           5.0         34.3      4         False   False   \n",
       "3             NaN          14.0         95.0      9         False   False   \n",
       "4            3.03          14.0         32.0     13          True   False   \n",
       "\n",
       "   open_plan  kitchen_area  balcony    locality_name  airports_nearest  \\\n",
       "0      False          25.0        0  санкт-петербург           18863.0   \n",
       "1      False          11.0        2   поселок шушары           12817.0   \n",
       "2      False           8.3        0  санкт-петербург           21741.0   \n",
       "3      False          15.0        0  санкт-петербург           28098.0   \n",
       "4      False          41.0        0  санкт-петербург           31856.0   \n",
       "\n",
       "   cityCenters_nearest  parks_around3000  parks_nearest  ponds_around3000  \\\n",
       "0              16028.0               1.0          482.0               2.0   \n",
       "1              18603.0               0.0            NaN               0.0   \n",
       "2              13933.0               1.0           90.0               2.0   \n",
       "3               6800.0               2.0           84.0               3.0   \n",
       "4               8098.0               2.0          112.0               1.0   \n",
       "\n",
       "   ponds_nearest  days_exposition  price_per_meter  \n",
       "0          755.0             <NA>    120370.370370  \n",
       "1            NaN               81     82920.792079  \n",
       "2          574.0              558     92785.714286  \n",
       "3          234.0              424    408176.100629  \n",
       "4           48.0              121    100000.000000  "
      ]
     },
     "execution_count": 16,
     "metadata": {},
     "output_type": "execute_result"
    }
   ],
   "source": [
    "real_estate_data['price_per_meter'] = real_estate_data['last_price'] / real_estate_data['total_area']\n",
    "real_estate_data.head()"
   ]
  },
  {
   "cell_type": "markdown",
   "metadata": {},
   "source": [
    "### Добавим день недели, месяц и год публикации объявления"
   ]
  },
  {
   "cell_type": "code",
   "execution_count": 17,
   "metadata": {
    "scrolled": false
   },
   "outputs": [
    {
     "data": {
      "text/html": [
       "<div>\n",
       "<style scoped>\n",
       "    .dataframe tbody tr th:only-of-type {\n",
       "        vertical-align: middle;\n",
       "    }\n",
       "\n",
       "    .dataframe tbody tr th {\n",
       "        vertical-align: top;\n",
       "    }\n",
       "\n",
       "    .dataframe thead th {\n",
       "        text-align: right;\n",
       "    }\n",
       "</style>\n",
       "<table border=\"1\" class=\"dataframe\">\n",
       "  <thead>\n",
       "    <tr style=\"text-align: right;\">\n",
       "      <th></th>\n",
       "      <th>total_images</th>\n",
       "      <th>last_price</th>\n",
       "      <th>total_area</th>\n",
       "      <th>first_day_exposition</th>\n",
       "      <th>rooms</th>\n",
       "      <th>ceiling_height</th>\n",
       "      <th>floors_total</th>\n",
       "      <th>living_area</th>\n",
       "      <th>floor</th>\n",
       "      <th>is_apartment</th>\n",
       "      <th>studio</th>\n",
       "      <th>open_plan</th>\n",
       "      <th>kitchen_area</th>\n",
       "      <th>balcony</th>\n",
       "      <th>locality_name</th>\n",
       "      <th>airports_nearest</th>\n",
       "      <th>cityCenters_nearest</th>\n",
       "      <th>parks_around3000</th>\n",
       "      <th>parks_nearest</th>\n",
       "      <th>ponds_around3000</th>\n",
       "      <th>ponds_nearest</th>\n",
       "      <th>days_exposition</th>\n",
       "      <th>price_per_meter</th>\n",
       "      <th>weekday</th>\n",
       "      <th>month</th>\n",
       "      <th>year</th>\n",
       "    </tr>\n",
       "  </thead>\n",
       "  <tbody>\n",
       "    <tr>\n",
       "      <th>0</th>\n",
       "      <td>20</td>\n",
       "      <td>13000000.0</td>\n",
       "      <td>108.0</td>\n",
       "      <td>2019-03-07</td>\n",
       "      <td>3</td>\n",
       "      <td>2.70</td>\n",
       "      <td>16.0</td>\n",
       "      <td>51.0</td>\n",
       "      <td>8</td>\n",
       "      <td>True</td>\n",
       "      <td>False</td>\n",
       "      <td>False</td>\n",
       "      <td>25.0</td>\n",
       "      <td>0</td>\n",
       "      <td>санкт-петербург</td>\n",
       "      <td>18863.0</td>\n",
       "      <td>16028.0</td>\n",
       "      <td>1.0</td>\n",
       "      <td>482.0</td>\n",
       "      <td>2.0</td>\n",
       "      <td>755.0</td>\n",
       "      <td>&lt;NA&gt;</td>\n",
       "      <td>120370.370370</td>\n",
       "      <td>3</td>\n",
       "      <td>3</td>\n",
       "      <td>2019</td>\n",
       "    </tr>\n",
       "    <tr>\n",
       "      <th>1</th>\n",
       "      <td>7</td>\n",
       "      <td>3350000.0</td>\n",
       "      <td>40.4</td>\n",
       "      <td>2018-12-04</td>\n",
       "      <td>1</td>\n",
       "      <td>NaN</td>\n",
       "      <td>11.0</td>\n",
       "      <td>18.6</td>\n",
       "      <td>1</td>\n",
       "      <td>True</td>\n",
       "      <td>False</td>\n",
       "      <td>False</td>\n",
       "      <td>11.0</td>\n",
       "      <td>2</td>\n",
       "      <td>поселок шушары</td>\n",
       "      <td>12817.0</td>\n",
       "      <td>18603.0</td>\n",
       "      <td>0.0</td>\n",
       "      <td>NaN</td>\n",
       "      <td>0.0</td>\n",
       "      <td>NaN</td>\n",
       "      <td>81</td>\n",
       "      <td>82920.792079</td>\n",
       "      <td>1</td>\n",
       "      <td>12</td>\n",
       "      <td>2018</td>\n",
       "    </tr>\n",
       "    <tr>\n",
       "      <th>2</th>\n",
       "      <td>10</td>\n",
       "      <td>5196000.0</td>\n",
       "      <td>56.0</td>\n",
       "      <td>2015-08-20</td>\n",
       "      <td>2</td>\n",
       "      <td>NaN</td>\n",
       "      <td>5.0</td>\n",
       "      <td>34.3</td>\n",
       "      <td>4</td>\n",
       "      <td>False</td>\n",
       "      <td>False</td>\n",
       "      <td>False</td>\n",
       "      <td>8.3</td>\n",
       "      <td>0</td>\n",
       "      <td>санкт-петербург</td>\n",
       "      <td>21741.0</td>\n",
       "      <td>13933.0</td>\n",
       "      <td>1.0</td>\n",
       "      <td>90.0</td>\n",
       "      <td>2.0</td>\n",
       "      <td>574.0</td>\n",
       "      <td>558</td>\n",
       "      <td>92785.714286</td>\n",
       "      <td>3</td>\n",
       "      <td>8</td>\n",
       "      <td>2015</td>\n",
       "    </tr>\n",
       "    <tr>\n",
       "      <th>3</th>\n",
       "      <td>0</td>\n",
       "      <td>64900000.0</td>\n",
       "      <td>159.0</td>\n",
       "      <td>2015-07-24</td>\n",
       "      <td>3</td>\n",
       "      <td>NaN</td>\n",
       "      <td>14.0</td>\n",
       "      <td>95.0</td>\n",
       "      <td>9</td>\n",
       "      <td>False</td>\n",
       "      <td>False</td>\n",
       "      <td>False</td>\n",
       "      <td>15.0</td>\n",
       "      <td>0</td>\n",
       "      <td>санкт-петербург</td>\n",
       "      <td>28098.0</td>\n",
       "      <td>6800.0</td>\n",
       "      <td>2.0</td>\n",
       "      <td>84.0</td>\n",
       "      <td>3.0</td>\n",
       "      <td>234.0</td>\n",
       "      <td>424</td>\n",
       "      <td>408176.100629</td>\n",
       "      <td>4</td>\n",
       "      <td>7</td>\n",
       "      <td>2015</td>\n",
       "    </tr>\n",
       "    <tr>\n",
       "      <th>4</th>\n",
       "      <td>2</td>\n",
       "      <td>10000000.0</td>\n",
       "      <td>100.0</td>\n",
       "      <td>2018-06-19</td>\n",
       "      <td>2</td>\n",
       "      <td>3.03</td>\n",
       "      <td>14.0</td>\n",
       "      <td>32.0</td>\n",
       "      <td>13</td>\n",
       "      <td>True</td>\n",
       "      <td>False</td>\n",
       "      <td>False</td>\n",
       "      <td>41.0</td>\n",
       "      <td>0</td>\n",
       "      <td>санкт-петербург</td>\n",
       "      <td>31856.0</td>\n",
       "      <td>8098.0</td>\n",
       "      <td>2.0</td>\n",
       "      <td>112.0</td>\n",
       "      <td>1.0</td>\n",
       "      <td>48.0</td>\n",
       "      <td>121</td>\n",
       "      <td>100000.000000</td>\n",
       "      <td>1</td>\n",
       "      <td>6</td>\n",
       "      <td>2018</td>\n",
       "    </tr>\n",
       "  </tbody>\n",
       "</table>\n",
       "</div>"
      ],
      "text/plain": [
       "   total_images  last_price  total_area first_day_exposition  rooms  \\\n",
       "0            20  13000000.0       108.0           2019-03-07      3   \n",
       "1             7   3350000.0        40.4           2018-12-04      1   \n",
       "2            10   5196000.0        56.0           2015-08-20      2   \n",
       "3             0  64900000.0       159.0           2015-07-24      3   \n",
       "4             2  10000000.0       100.0           2018-06-19      2   \n",
       "\n",
       "   ceiling_height  floors_total  living_area  floor  is_apartment  studio  \\\n",
       "0            2.70          16.0         51.0      8          True   False   \n",
       "1             NaN          11.0         18.6      1          True   False   \n",
       "2             NaN           5.0         34.3      4         False   False   \n",
       "3             NaN          14.0         95.0      9         False   False   \n",
       "4            3.03          14.0         32.0     13          True   False   \n",
       "\n",
       "   open_plan  kitchen_area  balcony    locality_name  airports_nearest  \\\n",
       "0      False          25.0        0  санкт-петербург           18863.0   \n",
       "1      False          11.0        2   поселок шушары           12817.0   \n",
       "2      False           8.3        0  санкт-петербург           21741.0   \n",
       "3      False          15.0        0  санкт-петербург           28098.0   \n",
       "4      False          41.0        0  санкт-петербург           31856.0   \n",
       "\n",
       "   cityCenters_nearest  parks_around3000  parks_nearest  ponds_around3000  \\\n",
       "0              16028.0               1.0          482.0               2.0   \n",
       "1              18603.0               0.0            NaN               0.0   \n",
       "2              13933.0               1.0           90.0               2.0   \n",
       "3               6800.0               2.0           84.0               3.0   \n",
       "4               8098.0               2.0          112.0               1.0   \n",
       "\n",
       "   ponds_nearest  days_exposition  price_per_meter  weekday  month  year  \n",
       "0          755.0             <NA>    120370.370370        3      3  2019  \n",
       "1            NaN               81     82920.792079        1     12  2018  \n",
       "2          574.0              558     92785.714286        3      8  2015  \n",
       "3          234.0              424    408176.100629        4      7  2015  \n",
       "4           48.0              121    100000.000000        1      6  2018  "
      ]
     },
     "execution_count": 17,
     "metadata": {},
     "output_type": "execute_result"
    }
   ],
   "source": [
    "real_estate_data['weekday'] = real_estate_data['first_day_exposition'].dt.weekday\n",
    "real_estate_data['month'] = real_estate_data['first_day_exposition'].dt.month\n",
    "real_estate_data['year'] = real_estate_data['first_day_exposition'].dt.year\n",
    "real_estate_data.head()"
   ]
  },
  {
   "cell_type": "code",
   "execution_count": 18,
   "metadata": {
    "scrolled": true
   },
   "outputs": [
    {
     "data": {
      "text/html": [
       "<div>\n",
       "<style scoped>\n",
       "    .dataframe tbody tr th:only-of-type {\n",
       "        vertical-align: middle;\n",
       "    }\n",
       "\n",
       "    .dataframe tbody tr th {\n",
       "        vertical-align: top;\n",
       "    }\n",
       "\n",
       "    .dataframe thead th {\n",
       "        text-align: right;\n",
       "    }\n",
       "</style>\n",
       "<table border=\"1\" class=\"dataframe\">\n",
       "  <thead>\n",
       "    <tr style=\"text-align: right;\">\n",
       "      <th></th>\n",
       "      <th>total_images</th>\n",
       "      <th>last_price</th>\n",
       "      <th>total_area</th>\n",
       "      <th>first_day_exposition</th>\n",
       "      <th>rooms</th>\n",
       "      <th>ceiling_height</th>\n",
       "      <th>floors_total</th>\n",
       "      <th>living_area</th>\n",
       "      <th>floor</th>\n",
       "      <th>is_apartment</th>\n",
       "      <th>studio</th>\n",
       "      <th>open_plan</th>\n",
       "      <th>kitchen_area</th>\n",
       "      <th>balcony</th>\n",
       "      <th>locality_name</th>\n",
       "      <th>airports_nearest</th>\n",
       "      <th>cityCenters_nearest</th>\n",
       "      <th>parks_around3000</th>\n",
       "      <th>parks_nearest</th>\n",
       "      <th>ponds_around3000</th>\n",
       "      <th>ponds_nearest</th>\n",
       "      <th>days_exposition</th>\n",
       "      <th>price_per_meter</th>\n",
       "      <th>weekday</th>\n",
       "      <th>month</th>\n",
       "      <th>year</th>\n",
       "    </tr>\n",
       "  </thead>\n",
       "  <tbody>\n",
       "    <tr>\n",
       "      <th>0</th>\n",
       "      <td>20</td>\n",
       "      <td>13000000.0</td>\n",
       "      <td>108.0</td>\n",
       "      <td>2019-03-07</td>\n",
       "      <td>3</td>\n",
       "      <td>2.70</td>\n",
       "      <td>16.0</td>\n",
       "      <td>51.0</td>\n",
       "      <td>8</td>\n",
       "      <td>True</td>\n",
       "      <td>False</td>\n",
       "      <td>False</td>\n",
       "      <td>25.0</td>\n",
       "      <td>0</td>\n",
       "      <td>санкт-петербург</td>\n",
       "      <td>18863.0</td>\n",
       "      <td>16028.0</td>\n",
       "      <td>1.0</td>\n",
       "      <td>482.0</td>\n",
       "      <td>2.0</td>\n",
       "      <td>755.0</td>\n",
       "      <td>&lt;NA&gt;</td>\n",
       "      <td>120370.370370</td>\n",
       "      <td>четверг</td>\n",
       "      <td>3</td>\n",
       "      <td>2019</td>\n",
       "    </tr>\n",
       "    <tr>\n",
       "      <th>1</th>\n",
       "      <td>7</td>\n",
       "      <td>3350000.0</td>\n",
       "      <td>40.4</td>\n",
       "      <td>2018-12-04</td>\n",
       "      <td>1</td>\n",
       "      <td>NaN</td>\n",
       "      <td>11.0</td>\n",
       "      <td>18.6</td>\n",
       "      <td>1</td>\n",
       "      <td>True</td>\n",
       "      <td>False</td>\n",
       "      <td>False</td>\n",
       "      <td>11.0</td>\n",
       "      <td>2</td>\n",
       "      <td>поселок шушары</td>\n",
       "      <td>12817.0</td>\n",
       "      <td>18603.0</td>\n",
       "      <td>0.0</td>\n",
       "      <td>NaN</td>\n",
       "      <td>0.0</td>\n",
       "      <td>NaN</td>\n",
       "      <td>81</td>\n",
       "      <td>82920.792079</td>\n",
       "      <td>вторник</td>\n",
       "      <td>12</td>\n",
       "      <td>2018</td>\n",
       "    </tr>\n",
       "    <tr>\n",
       "      <th>2</th>\n",
       "      <td>10</td>\n",
       "      <td>5196000.0</td>\n",
       "      <td>56.0</td>\n",
       "      <td>2015-08-20</td>\n",
       "      <td>2</td>\n",
       "      <td>NaN</td>\n",
       "      <td>5.0</td>\n",
       "      <td>34.3</td>\n",
       "      <td>4</td>\n",
       "      <td>False</td>\n",
       "      <td>False</td>\n",
       "      <td>False</td>\n",
       "      <td>8.3</td>\n",
       "      <td>0</td>\n",
       "      <td>санкт-петербург</td>\n",
       "      <td>21741.0</td>\n",
       "      <td>13933.0</td>\n",
       "      <td>1.0</td>\n",
       "      <td>90.0</td>\n",
       "      <td>2.0</td>\n",
       "      <td>574.0</td>\n",
       "      <td>558</td>\n",
       "      <td>92785.714286</td>\n",
       "      <td>четверг</td>\n",
       "      <td>8</td>\n",
       "      <td>2015</td>\n",
       "    </tr>\n",
       "    <tr>\n",
       "      <th>3</th>\n",
       "      <td>0</td>\n",
       "      <td>64900000.0</td>\n",
       "      <td>159.0</td>\n",
       "      <td>2015-07-24</td>\n",
       "      <td>3</td>\n",
       "      <td>NaN</td>\n",
       "      <td>14.0</td>\n",
       "      <td>95.0</td>\n",
       "      <td>9</td>\n",
       "      <td>False</td>\n",
       "      <td>False</td>\n",
       "      <td>False</td>\n",
       "      <td>15.0</td>\n",
       "      <td>0</td>\n",
       "      <td>санкт-петербург</td>\n",
       "      <td>28098.0</td>\n",
       "      <td>6800.0</td>\n",
       "      <td>2.0</td>\n",
       "      <td>84.0</td>\n",
       "      <td>3.0</td>\n",
       "      <td>234.0</td>\n",
       "      <td>424</td>\n",
       "      <td>408176.100629</td>\n",
       "      <td>пятница</td>\n",
       "      <td>7</td>\n",
       "      <td>2015</td>\n",
       "    </tr>\n",
       "    <tr>\n",
       "      <th>4</th>\n",
       "      <td>2</td>\n",
       "      <td>10000000.0</td>\n",
       "      <td>100.0</td>\n",
       "      <td>2018-06-19</td>\n",
       "      <td>2</td>\n",
       "      <td>3.03</td>\n",
       "      <td>14.0</td>\n",
       "      <td>32.0</td>\n",
       "      <td>13</td>\n",
       "      <td>True</td>\n",
       "      <td>False</td>\n",
       "      <td>False</td>\n",
       "      <td>41.0</td>\n",
       "      <td>0</td>\n",
       "      <td>санкт-петербург</td>\n",
       "      <td>31856.0</td>\n",
       "      <td>8098.0</td>\n",
       "      <td>2.0</td>\n",
       "      <td>112.0</td>\n",
       "      <td>1.0</td>\n",
       "      <td>48.0</td>\n",
       "      <td>121</td>\n",
       "      <td>100000.000000</td>\n",
       "      <td>вторник</td>\n",
       "      <td>6</td>\n",
       "      <td>2018</td>\n",
       "    </tr>\n",
       "  </tbody>\n",
       "</table>\n",
       "</div>"
      ],
      "text/plain": [
       "   total_images  last_price  total_area first_day_exposition  rooms  \\\n",
       "0            20  13000000.0       108.0           2019-03-07      3   \n",
       "1             7   3350000.0        40.4           2018-12-04      1   \n",
       "2            10   5196000.0        56.0           2015-08-20      2   \n",
       "3             0  64900000.0       159.0           2015-07-24      3   \n",
       "4             2  10000000.0       100.0           2018-06-19      2   \n",
       "\n",
       "   ceiling_height  floors_total  living_area  floor  is_apartment  studio  \\\n",
       "0            2.70          16.0         51.0      8          True   False   \n",
       "1             NaN          11.0         18.6      1          True   False   \n",
       "2             NaN           5.0         34.3      4         False   False   \n",
       "3             NaN          14.0         95.0      9         False   False   \n",
       "4            3.03          14.0         32.0     13          True   False   \n",
       "\n",
       "   open_plan  kitchen_area  balcony    locality_name  airports_nearest  \\\n",
       "0      False          25.0        0  санкт-петербург           18863.0   \n",
       "1      False          11.0        2   поселок шушары           12817.0   \n",
       "2      False           8.3        0  санкт-петербург           21741.0   \n",
       "3      False          15.0        0  санкт-петербург           28098.0   \n",
       "4      False          41.0        0  санкт-петербург           31856.0   \n",
       "\n",
       "   cityCenters_nearest  parks_around3000  parks_nearest  ponds_around3000  \\\n",
       "0              16028.0               1.0          482.0               2.0   \n",
       "1              18603.0               0.0            NaN               0.0   \n",
       "2              13933.0               1.0           90.0               2.0   \n",
       "3               6800.0               2.0           84.0               3.0   \n",
       "4               8098.0               2.0          112.0               1.0   \n",
       "\n",
       "   ponds_nearest  days_exposition  price_per_meter  weekday  month  year  \n",
       "0          755.0             <NA>    120370.370370  четверг      3  2019  \n",
       "1            NaN               81     82920.792079  вторник     12  2018  \n",
       "2          574.0              558     92785.714286  четверг      8  2015  \n",
       "3          234.0              424    408176.100629  пятница      7  2015  \n",
       "4           48.0              121    100000.000000  вторник      6  2018  "
      ]
     },
     "execution_count": 18,
     "metadata": {},
     "output_type": "execute_result"
    }
   ],
   "source": [
    "# если по номеру месяца легко сказать что это за месяц, то с днями недели по другому\n",
    "# приведем в более читабельный вид\n",
    "real_estate_data['weekday'] = real_estate_data['weekday'].values.astype(object)\n",
    "weekday_list= ({\n",
    "    0: 'понедельник',\n",
    "    1: 'вторник',\n",
    "    2: 'среда',\n",
    "    3: 'четверг',\n",
    "    4: 'пятница',\n",
    "    5: 'суббота',\n",
    "    6: 'воскресенье'\n",
    "})\n",
    "real_estate_data['weekday'].replace(weekday_list, inplace=True)\n",
    "real_estate_data.head()"
   ]
  },
  {
   "cell_type": "markdown",
   "metadata": {},
   "source": [
    "### Добавим статус этажа квартиры :  первый, последний, другой"
   ]
  },
  {
   "cell_type": "code",
   "execution_count": 19,
   "metadata": {},
   "outputs": [
    {
     "data": {
      "text/plain": [
       "другой       17446\n",
       "последний     3336\n",
       "первый        2917\n",
       "Name: floor_category, dtype: int64"
      ]
     },
     "execution_count": 19,
     "metadata": {},
     "output_type": "execute_result"
    }
   ],
   "source": [
    "def floor_category(row):\n",
    "    if row['floor'] == 1:\n",
    "        return 'первый'\n",
    "    elif row['floor'] == row['floors_total']:\n",
    "        return 'последний'\n",
    "    else:\n",
    "        return 'другой'\n",
    "\n",
    "real_estate_data['floor_category'] = real_estate_data.apply(floor_category, axis =1)\n",
    "real_estate_data.head()\n",
    "real_estate_data['floor_category'].value_counts()\n"
   ]
  },
  {
   "cell_type": "markdown",
   "metadata": {},
   "source": [
    "### Добавим соотношение жилой и общей площади, а также отношение площади кухни к общей\n"
   ]
  },
  {
   "cell_type": "code",
   "execution_count": 20,
   "metadata": {
    "scrolled": true
   },
   "outputs": [
    {
     "data": {
      "text/html": [
       "<div>\n",
       "<style scoped>\n",
       "    .dataframe tbody tr th:only-of-type {\n",
       "        vertical-align: middle;\n",
       "    }\n",
       "\n",
       "    .dataframe tbody tr th {\n",
       "        vertical-align: top;\n",
       "    }\n",
       "\n",
       "    .dataframe thead th {\n",
       "        text-align: right;\n",
       "    }\n",
       "</style>\n",
       "<table border=\"1\" class=\"dataframe\">\n",
       "  <thead>\n",
       "    <tr style=\"text-align: right;\">\n",
       "      <th></th>\n",
       "      <th>total_images</th>\n",
       "      <th>last_price</th>\n",
       "      <th>total_area</th>\n",
       "      <th>first_day_exposition</th>\n",
       "      <th>rooms</th>\n",
       "      <th>ceiling_height</th>\n",
       "      <th>floors_total</th>\n",
       "      <th>living_area</th>\n",
       "      <th>floor</th>\n",
       "      <th>is_apartment</th>\n",
       "      <th>studio</th>\n",
       "      <th>open_plan</th>\n",
       "      <th>kitchen_area</th>\n",
       "      <th>balcony</th>\n",
       "      <th>locality_name</th>\n",
       "      <th>airports_nearest</th>\n",
       "      <th>cityCenters_nearest</th>\n",
       "      <th>parks_around3000</th>\n",
       "      <th>parks_nearest</th>\n",
       "      <th>ponds_around3000</th>\n",
       "      <th>ponds_nearest</th>\n",
       "      <th>days_exposition</th>\n",
       "      <th>price_per_meter</th>\n",
       "      <th>weekday</th>\n",
       "      <th>month</th>\n",
       "      <th>year</th>\n",
       "      <th>floor_category</th>\n",
       "      <th>living_area_to_total</th>\n",
       "      <th>kitchen_area_to_total</th>\n",
       "    </tr>\n",
       "  </thead>\n",
       "  <tbody>\n",
       "    <tr>\n",
       "      <th>0</th>\n",
       "      <td>20</td>\n",
       "      <td>13000000.0</td>\n",
       "      <td>108.0</td>\n",
       "      <td>2019-03-07</td>\n",
       "      <td>3</td>\n",
       "      <td>2.70</td>\n",
       "      <td>16.0</td>\n",
       "      <td>51.0</td>\n",
       "      <td>8</td>\n",
       "      <td>True</td>\n",
       "      <td>False</td>\n",
       "      <td>False</td>\n",
       "      <td>25.0</td>\n",
       "      <td>0</td>\n",
       "      <td>санкт-петербург</td>\n",
       "      <td>18863.0</td>\n",
       "      <td>16028.0</td>\n",
       "      <td>1.0</td>\n",
       "      <td>482.0</td>\n",
       "      <td>2.0</td>\n",
       "      <td>755.0</td>\n",
       "      <td>&lt;NA&gt;</td>\n",
       "      <td>120370.370370</td>\n",
       "      <td>четверг</td>\n",
       "      <td>3</td>\n",
       "      <td>2019</td>\n",
       "      <td>другой</td>\n",
       "      <td>0.472222</td>\n",
       "      <td>2.040000</td>\n",
       "    </tr>\n",
       "    <tr>\n",
       "      <th>1</th>\n",
       "      <td>7</td>\n",
       "      <td>3350000.0</td>\n",
       "      <td>40.4</td>\n",
       "      <td>2018-12-04</td>\n",
       "      <td>1</td>\n",
       "      <td>NaN</td>\n",
       "      <td>11.0</td>\n",
       "      <td>18.6</td>\n",
       "      <td>1</td>\n",
       "      <td>True</td>\n",
       "      <td>False</td>\n",
       "      <td>False</td>\n",
       "      <td>11.0</td>\n",
       "      <td>2</td>\n",
       "      <td>поселок шушары</td>\n",
       "      <td>12817.0</td>\n",
       "      <td>18603.0</td>\n",
       "      <td>0.0</td>\n",
       "      <td>NaN</td>\n",
       "      <td>0.0</td>\n",
       "      <td>NaN</td>\n",
       "      <td>81</td>\n",
       "      <td>82920.792079</td>\n",
       "      <td>вторник</td>\n",
       "      <td>12</td>\n",
       "      <td>2018</td>\n",
       "      <td>первый</td>\n",
       "      <td>0.460396</td>\n",
       "      <td>1.690909</td>\n",
       "    </tr>\n",
       "    <tr>\n",
       "      <th>2</th>\n",
       "      <td>10</td>\n",
       "      <td>5196000.0</td>\n",
       "      <td>56.0</td>\n",
       "      <td>2015-08-20</td>\n",
       "      <td>2</td>\n",
       "      <td>NaN</td>\n",
       "      <td>5.0</td>\n",
       "      <td>34.3</td>\n",
       "      <td>4</td>\n",
       "      <td>False</td>\n",
       "      <td>False</td>\n",
       "      <td>False</td>\n",
       "      <td>8.3</td>\n",
       "      <td>0</td>\n",
       "      <td>санкт-петербург</td>\n",
       "      <td>21741.0</td>\n",
       "      <td>13933.0</td>\n",
       "      <td>1.0</td>\n",
       "      <td>90.0</td>\n",
       "      <td>2.0</td>\n",
       "      <td>574.0</td>\n",
       "      <td>558</td>\n",
       "      <td>92785.714286</td>\n",
       "      <td>четверг</td>\n",
       "      <td>8</td>\n",
       "      <td>2015</td>\n",
       "      <td>другой</td>\n",
       "      <td>0.612500</td>\n",
       "      <td>4.132530</td>\n",
       "    </tr>\n",
       "    <tr>\n",
       "      <th>3</th>\n",
       "      <td>0</td>\n",
       "      <td>64900000.0</td>\n",
       "      <td>159.0</td>\n",
       "      <td>2015-07-24</td>\n",
       "      <td>3</td>\n",
       "      <td>NaN</td>\n",
       "      <td>14.0</td>\n",
       "      <td>95.0</td>\n",
       "      <td>9</td>\n",
       "      <td>False</td>\n",
       "      <td>False</td>\n",
       "      <td>False</td>\n",
       "      <td>15.0</td>\n",
       "      <td>0</td>\n",
       "      <td>санкт-петербург</td>\n",
       "      <td>28098.0</td>\n",
       "      <td>6800.0</td>\n",
       "      <td>2.0</td>\n",
       "      <td>84.0</td>\n",
       "      <td>3.0</td>\n",
       "      <td>234.0</td>\n",
       "      <td>424</td>\n",
       "      <td>408176.100629</td>\n",
       "      <td>пятница</td>\n",
       "      <td>7</td>\n",
       "      <td>2015</td>\n",
       "      <td>другой</td>\n",
       "      <td>0.597484</td>\n",
       "      <td>6.333333</td>\n",
       "    </tr>\n",
       "    <tr>\n",
       "      <th>4</th>\n",
       "      <td>2</td>\n",
       "      <td>10000000.0</td>\n",
       "      <td>100.0</td>\n",
       "      <td>2018-06-19</td>\n",
       "      <td>2</td>\n",
       "      <td>3.03</td>\n",
       "      <td>14.0</td>\n",
       "      <td>32.0</td>\n",
       "      <td>13</td>\n",
       "      <td>True</td>\n",
       "      <td>False</td>\n",
       "      <td>False</td>\n",
       "      <td>41.0</td>\n",
       "      <td>0</td>\n",
       "      <td>санкт-петербург</td>\n",
       "      <td>31856.0</td>\n",
       "      <td>8098.0</td>\n",
       "      <td>2.0</td>\n",
       "      <td>112.0</td>\n",
       "      <td>1.0</td>\n",
       "      <td>48.0</td>\n",
       "      <td>121</td>\n",
       "      <td>100000.000000</td>\n",
       "      <td>вторник</td>\n",
       "      <td>6</td>\n",
       "      <td>2018</td>\n",
       "      <td>другой</td>\n",
       "      <td>0.320000</td>\n",
       "      <td>0.780488</td>\n",
       "    </tr>\n",
       "  </tbody>\n",
       "</table>\n",
       "</div>"
      ],
      "text/plain": [
       "   total_images  last_price  total_area first_day_exposition  rooms  \\\n",
       "0            20  13000000.0       108.0           2019-03-07      3   \n",
       "1             7   3350000.0        40.4           2018-12-04      1   \n",
       "2            10   5196000.0        56.0           2015-08-20      2   \n",
       "3             0  64900000.0       159.0           2015-07-24      3   \n",
       "4             2  10000000.0       100.0           2018-06-19      2   \n",
       "\n",
       "   ceiling_height  floors_total  living_area  floor  is_apartment  studio  \\\n",
       "0            2.70          16.0         51.0      8          True   False   \n",
       "1             NaN          11.0         18.6      1          True   False   \n",
       "2             NaN           5.0         34.3      4         False   False   \n",
       "3             NaN          14.0         95.0      9         False   False   \n",
       "4            3.03          14.0         32.0     13          True   False   \n",
       "\n",
       "   open_plan  kitchen_area  balcony    locality_name  airports_nearest  \\\n",
       "0      False          25.0        0  санкт-петербург           18863.0   \n",
       "1      False          11.0        2   поселок шушары           12817.0   \n",
       "2      False           8.3        0  санкт-петербург           21741.0   \n",
       "3      False          15.0        0  санкт-петербург           28098.0   \n",
       "4      False          41.0        0  санкт-петербург           31856.0   \n",
       "\n",
       "   cityCenters_nearest  parks_around3000  parks_nearest  ponds_around3000  \\\n",
       "0              16028.0               1.0          482.0               2.0   \n",
       "1              18603.0               0.0            NaN               0.0   \n",
       "2              13933.0               1.0           90.0               2.0   \n",
       "3               6800.0               2.0           84.0               3.0   \n",
       "4               8098.0               2.0          112.0               1.0   \n",
       "\n",
       "   ponds_nearest  days_exposition  price_per_meter  weekday  month  year  \\\n",
       "0          755.0             <NA>    120370.370370  четверг      3  2019   \n",
       "1            NaN               81     82920.792079  вторник     12  2018   \n",
       "2          574.0              558     92785.714286  четверг      8  2015   \n",
       "3          234.0              424    408176.100629  пятница      7  2015   \n",
       "4           48.0              121    100000.000000  вторник      6  2018   \n",
       "\n",
       "  floor_category  living_area_to_total  kitchen_area_to_total  \n",
       "0         другой              0.472222               2.040000  \n",
       "1         первый              0.460396               1.690909  \n",
       "2         другой              0.612500               4.132530  \n",
       "3         другой              0.597484               6.333333  \n",
       "4         другой              0.320000               0.780488  "
      ]
     },
     "execution_count": 20,
     "metadata": {},
     "output_type": "execute_result"
    }
   ],
   "source": [
    "real_estate_data['living_area_to_total'] = real_estate_data[\n",
    "    'living_area']/ real_estate_data['total_area']\n",
    "real_estate_data['kitchen_area_to_total'] = real_estate_data[\n",
    "    'living_area'] / real_estate_data['kitchen_area']\n",
    "real_estate_data.head()"
   ]
  },
  {
   "cell_type": "markdown",
   "metadata": {},
   "source": [
    "Получили и добавили в таблицу цену квадратного метра; день недели, месяц и год публикации объявления; статус этажа квартиры и соотношение прощадей."
   ]
  },
  {
   "cell_type": "markdown",
   "metadata": {},
   "source": [
    "## Исследовательский анализ данных"
   ]
  },
  {
   "cell_type": "markdown",
   "metadata": {},
   "source": [
    "### Изучим следующие параметры: площадь, цена, число комнат, высота потолков. Постройте гистограммы для каждого параметра.\n"
   ]
  },
  {
   "cell_type": "markdown",
   "metadata": {},
   "source": [
    "#### Изучим общую площадь"
   ]
  },
  {
   "cell_type": "code",
   "execution_count": 21,
   "metadata": {
    "scrolled": false
   },
   "outputs": [
    {
     "data": {
      "text/plain": [
       "count    23699.000000\n",
       "mean        60.348651\n",
       "std         35.654083\n",
       "min         12.000000\n",
       "25%         40.000000\n",
       "50%         52.000000\n",
       "75%         69.900000\n",
       "max        900.000000\n",
       "Name: total_area, dtype: float64"
      ]
     },
     "execution_count": 21,
     "metadata": {},
     "output_type": "execute_result"
    }
   ],
   "source": [
    "real_estate_data['total_area'].describe()"
   ]
  },
  {
   "cell_type": "markdown",
   "metadata": {},
   "source": [
    "Средня общая площадь 60кв.м.,медианная - 53кв.м."
   ]
  },
  {
   "cell_type": "code",
   "execution_count": 22,
   "metadata": {
    "scrolled": true
   },
   "outputs": [
    {
     "data": {
      "image/png": "[encoded data removed]",
      "text/plain": [
       "<Figure size 864x360 with 1 Axes>"
      ]
     },
     "metadata": {
      "needs_background": "light"
     },
     "output_type": "display_data"
    },
    {
     "data": {
      "image/png": "[encoded data removed]",
      "text/plain": [
       "<Figure size 864x360 with 1 Axes>"
      ]
     },
     "metadata": {
      "needs_background": "light"
     },
     "output_type": "display_data"
    }
   ],
   "source": [
    "#построим гистограмму для общей площади и ее укрупненную версию\n",
    "real_estate_data['total_area'].hist(bins=100, figsize =(12,5))\n",
    "plt.title('общая площадь')\n",
    "plt.show()\n",
    "real_estate_data['total_area'].hist(bins=100, range = (0, 300), figsize =(12,5))\n",
    "plt.title('общая площадь укрупненная')\n",
    "plt.show()"
   ]
  },
  {
   "cell_type": "markdown",
   "metadata": {},
   "source": [
    "Ожидаемое распределение Пуассона — гистограмма с длинным хвостом на высоких значениях и падением в ноль слева от пика, не доходя до нулевого значения. "
   ]
  },
  {
   "cell_type": "code",
   "execution_count": 23,
   "metadata": {
    "scrolled": true
   },
   "outputs": [
    {
     "data": {
      "image/png": "[encoded data removed]",
      "text/plain": [
       "<Figure size 360x720 with 1 Axes>"
      ]
     },
     "metadata": {
      "needs_background": "light"
     },
     "output_type": "display_data"
    }
   ],
   "source": [
    "# построим диаграмму размаха, чтобы изучить выбросы\n",
    "real_estate_data.boxplot(column = 'total_area', figsize = (5,10))\n",
    "plt.ylim(11, 200)\n",
    "plt.title('размах общей площади')\n",
    "plt.show()"
   ]
  },
  {
   "cell_type": "code",
   "execution_count": 24,
   "metadata": {},
   "outputs": [
    {
     "data": {
      "text/plain": [
       "-4.8500000000000085"
      ]
     },
     "metadata": {},
     "output_type": "display_data"
    },
    {
     "data": {
      "text/plain": [
       "114.75000000000001"
      ]
     },
     "metadata": {},
     "output_type": "display_data"
    }
   ],
   "source": [
    "# проведем анализ выбросов с помощью IQR, чтобы получить точную границу в цифрах\n",
    "Q1 = real_estate_data['total_area'].quantile(0.25)\n",
    "Q3 = real_estate_data['total_area'].quantile(0.75)\n",
    "IQR = Q3 - Q1\n",
    "level_1 =Q1 - 1.5 * IQR  \n",
    "level_2 =Q3 + 1.5 * IQR\n",
    "display(level_1)\n",
    "display(level_2)"
   ]
  },
  {
   "cell_type": "code",
   "execution_count": 25,
   "metadata": {},
   "outputs": [
    {
     "data": {
      "text/plain": [
       "5.2322882822059995"
      ]
     },
     "execution_count": 25,
     "metadata": {},
     "output_type": "execute_result"
    }
   ],
   "source": [
    "#посмотрим сколко мы хотим удалить значений в процентном соотношении\n",
    "total_area_filtered = (1 - len(\n",
    "    real_estate_data.query('total_area < 114.75')) / len(real_estate_data) ) *100\n",
    "                       \n",
    "total_area_filtered  "
   ]
  },
  {
   "cell_type": "markdown",
   "metadata": {},
   "source": [
    "Мы приняли за выбросы около 5% данных, это не много и нам подходит."
   ]
  },
  {
   "cell_type": "markdown",
   "metadata": {},
   "source": [
    "#### Изучим цену"
   ]
  },
  {
   "cell_type": "code",
   "execution_count": 26,
   "metadata": {
    "scrolled": true
   },
   "outputs": [
    {
     "data": {
      "text/plain": [
       "count    2.369900e+04\n",
       "mean     6.541549e+06\n",
       "std      1.088701e+07\n",
       "min      1.219000e+04\n",
       "25%      3.400000e+06\n",
       "50%      4.650000e+06\n",
       "75%      6.800000e+06\n",
       "max      7.630000e+08\n",
       "Name: last_price, dtype: float64"
      ]
     },
     "execution_count": 26,
     "metadata": {},
     "output_type": "execute_result"
    }
   ],
   "source": [
    "real_estate_data['last_price'].describe()"
   ]
  },
  {
   "cell_type": "markdown",
   "metadata": {},
   "source": [
    "Средняя цена квартры - 6.5млн рублей, медианная - 4.6млн рублей"
   ]
  },
  {
   "cell_type": "code",
   "execution_count": 27,
   "metadata": {},
   "outputs": [
    {
     "data": {
      "image/png": "[encoded data removed]",
      "text/plain": [
       "<Figure size 864x360 with 1 Axes>"
      ]
     },
     "metadata": {
      "needs_background": "light"
     },
     "output_type": "display_data"
    },
    {
     "data": {
      "image/png": "[encoded data removed]",
      "text/plain": [
       "<Figure size 864x360 with 1 Axes>"
      ]
     },
     "metadata": {
      "needs_background": "light"
     },
     "output_type": "display_data"
    }
   ],
   "source": [
    "# построим гистограмму для цены и ее укрупненную версию\n",
    "real_estate_data['last_price'].hist(bins=100, figsize = (12,5))\n",
    "plt.title('цена квартиры')\n",
    "plt.show()\n",
    "real_estate_data['last_price'].hist(bins=100, range = (10000, 80000000), figsize = (12,5))\n",
    "plt.title('цена квартиры крупно')\n",
    "plt.show()"
   ]
  },
  {
   "cell_type": "code",
   "execution_count": 28,
   "metadata": {
    "scrolled": true
   },
   "outputs": [
    {
     "data": {
      "image/png": "[encoded data removed]",
      "text/plain": [
       "<Figure size 360x720 with 1 Axes>"
      ]
     },
     "metadata": {
      "needs_background": "light"
     },
     "output_type": "display_data"
    },
    {
     "data": {
      "image/png": "[encoded data removed]",
      "text/plain": [
       "<Figure size 360x720 with 1 Axes>"
      ]
     },
     "metadata": {
      "needs_background": "light"
     },
     "output_type": "display_data"
    }
   ],
   "source": [
    "# построим диаграмму размаха и ее укрупненные версии\n",
    "real_estate_data.boxplot(column = 'last_price', figsize = (5,10))\n",
    "plt.ylim(0, 80000000)\n",
    "plt.title('размах цены квартиры')\n",
    "plt.show()\n",
    "real_estate_data.boxplot(column = 'last_price', figsize = (5,10))\n",
    "plt.title('размах цены квартиры крупно')\n",
    "plt.ylim(100000, 20000000)\n",
    "plt.show()\n"
   ]
  },
  {
   "cell_type": "code",
   "execution_count": 29,
   "metadata": {},
   "outputs": [
    {
     "data": {
      "text/plain": [
       "-1700000.0"
      ]
     },
     "metadata": {},
     "output_type": "display_data"
    },
    {
     "data": {
      "text/plain": [
       "11900000.0"
      ]
     },
     "metadata": {},
     "output_type": "display_data"
    }
   ],
   "source": [
    "# проведем анализ выбросов с помощью IQR, чтобы получить точную границу в цифрах\n",
    "Q1 = real_estate_data['last_price'].quantile(0.25)\n",
    "Q3 = real_estate_data['last_price'].quantile(0.75)\n",
    "IQR = Q3 - Q1\n",
    "level_1 =Q1 - 1.5 * IQR  \n",
    "level_2 =Q3 + 1.5 * IQR\n",
    "display(level_1)\n",
    "display(level_2)"
   ]
  },
  {
   "cell_type": "markdown",
   "metadata": {},
   "source": [
    "Все, что больше 11.9 млн - выбросы, судя по \"усам\" и IQR, но\n",
    "тк мы рассматриваем крупынй город и деревни рядом, то графики смещаются влево, и за пределами \"усов\" лежит оч большое количество значений.\n",
    "Судя по \"ящику\" и гистограмме,  до 15 млн все оч большая концентрация значений, а вот после 15 млн начинаются первые пропуски. Значит, оставим значения до 15 млн, чтобы не потерять нужную информацию."
   ]
  },
  {
   "cell_type": "code",
   "execution_count": 30,
   "metadata": {},
   "outputs": [
    {
     "data": {
      "text/plain": [
       "5.253386218827794"
      ]
     },
     "execution_count": 30,
     "metadata": {},
     "output_type": "execute_result"
    }
   ],
   "source": [
    "last_price_filtered = (1 - len(\n",
    "    real_estate_data.query('last_price < 15000000')) / len(real_estate_data) ) *100\n",
    "                       \n",
    "last_price_filtered               "
   ]
  },
  {
   "cell_type": "markdown",
   "metadata": {},
   "source": [
    "Мы приняли за выбросы  около 5% данных - это норм."
   ]
  },
  {
   "cell_type": "markdown",
   "metadata": {},
   "source": [
    "#### Изучим количество комнат"
   ]
  },
  {
   "cell_type": "code",
   "execution_count": 31,
   "metadata": {
    "scrolled": true
   },
   "outputs": [
    {
     "data": {
      "text/plain": [
       "count    23699.000000\n",
       "mean         2.070636\n",
       "std          1.078405\n",
       "min          0.000000\n",
       "25%          1.000000\n",
       "50%          2.000000\n",
       "75%          3.000000\n",
       "max         19.000000\n",
       "Name: rooms, dtype: float64"
      ]
     },
     "execution_count": 31,
     "metadata": {},
     "output_type": "execute_result"
    }
   ],
   "source": [
    "real_estate_data['rooms'].describe()"
   ]
  },
  {
   "cell_type": "markdown",
   "metadata": {},
   "source": [
    "Чаще всего продаются двухкомнатные квартры."
   ]
  },
  {
   "cell_type": "code",
   "execution_count": 32,
   "metadata": {
    "scrolled": false
   },
   "outputs": [
    {
     "data": {
      "image/png": "[encoded data removed]",
      "text/plain": [
       "<Figure size 432x288 with 1 Axes>"
      ]
     },
     "metadata": {
      "needs_background": "light"
     },
     "output_type": "display_data"
    }
   ],
   "source": [
    "#построим гистограмму\n",
    "real_estate_data['rooms'].hist(bins= 19, range = (0, 20))\n",
    "plt.title('количество комнат')\n",
    "plt.show()"
   ]
  },
  {
   "cell_type": "code",
   "execution_count": 33,
   "metadata": {
    "scrolled": false
   },
   "outputs": [
    {
     "data": {
      "image/png": "[encoded data removed]",
      "text/plain": [
       "<Figure size 216x360 with 1 Axes>"
      ]
     },
     "metadata": {
      "needs_background": "light"
     },
     "output_type": "display_data"
    }
   ],
   "source": [
    "real_estate_data.boxplot(column = 'rooms', figsize = (3,5))\n",
    "plt.title('размах количества комнат')\n",
    "plt.ylim(0, 10)\n",
    "plt.show()"
   ]
  },
  {
   "cell_type": "code",
   "execution_count": 34,
   "metadata": {},
   "outputs": [
    {
     "data": {
      "text/plain": [
       "-2.0"
      ]
     },
     "metadata": {},
     "output_type": "display_data"
    },
    {
     "data": {
      "text/plain": [
       "6.0"
      ]
     },
     "metadata": {},
     "output_type": "display_data"
    }
   ],
   "source": [
    "# найдем точную границу выбросов в цифрах\n",
    "Q1 = real_estate_data['rooms'].quantile(0.25)\n",
    "Q3 = real_estate_data['rooms'].quantile(0.75)\n",
    "IQR = Q3 - Q1\n",
    "level_1 =Q1 - 1.5 * IQR  \n",
    "level_2 =Q3 + 1.5 * IQR\n",
    "display(level_1)\n",
    "display(level_2)"
   ]
  },
  {
   "cell_type": "markdown",
   "metadata": {},
   "source": [
    "Примем за выбросы все что больше 6 комнат."
   ]
  },
  {
   "cell_type": "code",
   "execution_count": 35,
   "metadata": {},
   "outputs": [
    {
     "data": {
      "text/plain": [
       "0.8228195282501405"
      ]
     },
     "execution_count": 35,
     "metadata": {},
     "output_type": "execute_result"
    }
   ],
   "source": [
    "room_filtered = (1 - len(\n",
    "    real_estate_data.query('rooms < 6')) / len(real_estate_data) ) *100\n",
    "                       \n",
    "room_filtered  "
   ]
  },
  {
   "cell_type": "markdown",
   "metadata": {},
   "source": [
    "В качестве выбросов далее отбросим 0.8% данных"
   ]
  },
  {
   "cell_type": "markdown",
   "metadata": {},
   "source": [
    "#### Изучим высоту потолков"
   ]
  },
  {
   "cell_type": "code",
   "execution_count": 36,
   "metadata": {},
   "outputs": [
    {
     "data": {
      "text/plain": [
       "count    14504.000000\n",
       "mean         2.771499\n",
       "std          1.261056\n",
       "min          1.000000\n",
       "25%          2.520000\n",
       "50%          2.650000\n",
       "75%          2.800000\n",
       "max        100.000000\n",
       "Name: ceiling_height, dtype: float64"
      ]
     },
     "execution_count": 36,
     "metadata": {},
     "output_type": "execute_result"
    }
   ],
   "source": [
    "real_estate_data['ceiling_height'].describe()"
   ]
  },
  {
   "cell_type": "code",
   "execution_count": 37,
   "metadata": {
    "scrolled": true
   },
   "outputs": [
    {
     "data": {
      "image/png": "[encoded data removed]",
      "text/plain": [
       "<Figure size 720x288 with 1 Axes>"
      ]
     },
     "metadata": {
      "needs_background": "light"
     },
     "output_type": "display_data"
    }
   ],
   "source": [
    "# построим гистограмму\n",
    "real_estate_data['ceiling_height'].hist(bins=100, range = (2,5), figsize = (10,4))\n",
    "plt.title('высота потолка')\n",
    "plt.show()"
   ]
  },
  {
   "cell_type": "code",
   "execution_count": 38,
   "metadata": {
    "scrolled": false
   },
   "outputs": [
    {
     "data": {
      "image/png": "[encoded data removed]",
      "text/plain": [
       "<Figure size 216x576 with 1 Axes>"
      ]
     },
     "metadata": {
      "needs_background": "light"
     },
     "output_type": "display_data"
    }
   ],
   "source": [
    "#построим диаграмму размаха\n",
    "real_estate_data.boxplot(column = 'ceiling_height', figsize = (3,8))\n",
    "plt.title('размах высоты потолка')\n",
    "plt.ylim(1, 5)\n",
    "plt.show()"
   ]
  },
  {
   "cell_type": "code",
   "execution_count": 39,
   "metadata": {},
   "outputs": [
    {
     "data": {
      "text/plain": [
       "2.1000000000000005"
      ]
     },
     "metadata": {},
     "output_type": "display_data"
    },
    {
     "data": {
      "text/plain": [
       "3.2199999999999998"
      ]
     },
     "metadata": {},
     "output_type": "display_data"
    }
   ],
   "source": [
    "#проверим правильность  анализа выбросов с помощью  IQR\n",
    "Q1 = real_estate_data['ceiling_height'].quantile(0.25)\n",
    "Q3 = real_estate_data['ceiling_height'].quantile(0.75)\n",
    "IQR = Q3 - Q1\n",
    "level_1 =Q1 - 1.5 * IQR  \n",
    "level_2 =Q3 + 1.5 * IQR\n",
    "display(level_1)\n",
    "display(level_2)"
   ]
  },
  {
   "cell_type": "markdown",
   "metadata": {},
   "source": [
    "Все, что меньше 2.1м и больше 3.3м - выбросы."
   ]
  },
  {
   "cell_type": "code",
   "execution_count": 40,
   "metadata": {
    "scrolled": true
   },
   "outputs": [
    {
     "data": {
      "text/plain": [
       "42.01443098864931"
      ]
     },
     "execution_count": 40,
     "metadata": {},
     "output_type": "execute_result"
    }
   ],
   "source": [
    "ceiling_height_filtered = (1 - len(\n",
    "    real_estate_data.query('2.1 <ceiling_height < 3.3')) / len(real_estate_data) ) *100\n",
    "                       \n",
    "ceiling_height_filtered   "
   ]
  },
  {
   "cell_type": "markdown",
   "metadata": {},
   "source": [
    "Согласно нашему анализу, выбросы в высоте потолка составляют 42% данных, мы не сможем удалить такое количество данных. Так что не удаляем эти выбросы."
   ]
  },
  {
   "cell_type": "markdown",
   "metadata": {},
   "source": [
    "#### Отбрасываем выбросы"
   ]
  },
  {
   "cell_type": "code",
   "execution_count": 41,
   "metadata": {
    "scrolled": false
   },
   "outputs": [
    {
     "name": "stdout",
     "output_type": "stream",
     "text": [
      "<class 'pandas.core.frame.DataFrame'>\n",
      "RangeIndex: 21859 entries, 0 to 21858\n",
      "Data columns (total 30 columns):\n",
      " #   Column                 Non-Null Count  Dtype         \n",
      "---  ------                 --------------  -----         \n",
      " 0   index                  21859 non-null  int64         \n",
      " 1   total_images           21859 non-null  int64         \n",
      " 2   last_price             21859 non-null  float64       \n",
      " 3   total_area             21859 non-null  float64       \n",
      " 4   first_day_exposition   21859 non-null  datetime64[ns]\n",
      " 5   rooms                  21859 non-null  int64         \n",
      " 6   ceiling_height         13307 non-null  float64       \n",
      " 7   floors_total           21784 non-null  float64       \n",
      " 8   living_area            21760 non-null  float64       \n",
      " 9   floor                  21859 non-null  int64         \n",
      " 10  is_apartment           21859 non-null  bool          \n",
      " 11  studio                 21859 non-null  bool          \n",
      " 12  open_plan              21859 non-null  bool          \n",
      " 13  kitchen_area           21740 non-null  float64       \n",
      " 14  balcony                21859 non-null  int64         \n",
      " 15  locality_name          21814 non-null  object        \n",
      " 16  airports_nearest       16455 non-null  float64       \n",
      " 17  cityCenters_nearest    16470 non-null  float64       \n",
      " 18  parks_around3000       16471 non-null  float64       \n",
      " 19  parks_nearest          6962 non-null   float64       \n",
      " 20  ponds_around3000       16471 non-null  float64       \n",
      " 21  ponds_nearest          7973 non-null   float64       \n",
      " 22  days_exposition        19128 non-null  Int64         \n",
      " 23  price_per_meter        21859 non-null  float64       \n",
      " 24  weekday                21859 non-null  object        \n",
      " 25  month                  21859 non-null  int64         \n",
      " 26  year                   21859 non-null  int64         \n",
      " 27  floor_category         21859 non-null  object        \n",
      " 28  living_area_to_total   21760 non-null  float64       \n",
      " 29  kitchen_area_to_total  21672 non-null  float64       \n",
      "dtypes: Int64(1), bool(3), datetime64[ns](1), float64(15), int64(7), object(3)\n",
      "memory usage: 4.6+ MB\n"
     ]
    }
   ],
   "source": [
    "#Соберем все условия в один срез данных\n",
    "real_estate_data = real_estate_data.query(\n",
    "    ' total_area < 114.75 and 0 < rooms < 6 and  last_price < 15000000').reset_index()\n",
    "real_estate_data.info()"
   ]
  },
  {
   "cell_type": "markdown",
   "metadata": {},
   "source": [
    "Изучили нужные показатели и отбросили выбросы."
   ]
  },
  {
   "cell_type": "markdown",
   "metadata": {},
   "source": [
    "### Изучите время продажи квартиры. Постройте гистограмму. Посчитайте среднее и медиану. Опишите, сколько обычно занимает продажа. Когда можно считать, что продажи прошли очень быстро, а когда необычно долго?"
   ]
  },
  {
   "cell_type": "code",
   "execution_count": 42,
   "metadata": {
    "scrolled": false
   },
   "outputs": [
    {
     "data": {
      "image/png": "[encoded data removed]",
      "text/plain": [
       "<Figure size 864x288 with 1 Axes>"
      ]
     },
     "metadata": {
      "needs_background": "light"
     },
     "output_type": "display_data"
    },
    {
     "data": {
      "image/png": "[encoded data removed]",
      "text/plain": [
       "<Figure size 864x288 with 1 Axes>"
      ]
     },
     "metadata": {
      "needs_background": "light"
     },
     "output_type": "display_data"
    }
   ],
   "source": [
    "#построим гистрограммы\n",
    "real_estate_data['days_exposition'].hist(bins = 100, figsize = (12,4))\n",
    "plt.title('количество дней продажи')\n",
    "plt.show()\n",
    "real_estate_data['days_exposition'].hist(bins = 100, range= (0,100), figsize = (12,4))\n",
    "plt.title('количество дней продажи увеличенно')\n",
    "plt.show()"
   ]
  },
  {
   "cell_type": "markdown",
   "metadata": {},
   "source": [
    "Найдены два необычных пиковых значения - где то 46 и 60 дней."
   ]
  },
  {
   "cell_type": "code",
   "execution_count": 43,
   "metadata": {},
   "outputs": [
    {
     "data": {
      "text/plain": [
       "count    19128.000000\n",
       "mean       174.584745\n",
       "std        212.489195\n",
       "min          1.000000\n",
       "25%         44.000000\n",
       "50%         92.000000\n",
       "75%        222.000000\n",
       "max       1580.000000\n",
       "Name: days_exposition, dtype: float64"
      ]
     },
     "execution_count": 43,
     "metadata": {},
     "output_type": "execute_result"
    }
   ],
   "source": [
    "real_estate_data['days_exposition'].describe()"
   ]
  },
  {
   "cell_type": "markdown",
   "metadata": {},
   "source": [
    "Обычно продажа квартиры занимает примерно 92 дня.\n",
    "За очень быструю продажу возьмем значения первых 10%, а за очень долгую - последних 10%"
   ]
  },
  {
   "cell_type": "code",
   "execution_count": 44,
   "metadata": {
    "scrolled": true
   },
   "outputs": [
    {
     "data": {
      "text/plain": [
       "17.0"
      ]
     },
     "metadata": {},
     "output_type": "display_data"
    },
    {
     "data": {
      "text/plain": [
       "443.0"
      ]
     },
     "metadata": {},
     "output_type": "display_data"
    }
   ],
   "source": [
    "display(real_estate_data['days_exposition'].quantile(0.1) )\n",
    "display(real_estate_data['days_exposition'].quantile(0.9))"
   ]
  },
  {
   "cell_type": "code",
   "execution_count": 45,
   "metadata": {},
   "outputs": [
    {
     "data": {
      "text/html": [
       "<div>\n",
       "<style scoped>\n",
       "    .dataframe tbody tr th:only-of-type {\n",
       "        vertical-align: middle;\n",
       "    }\n",
       "\n",
       "    .dataframe tbody tr th {\n",
       "        vertical-align: top;\n",
       "    }\n",
       "\n",
       "    .dataframe thead th {\n",
       "        text-align: right;\n",
       "    }\n",
       "</style>\n",
       "<table border=\"1\" class=\"dataframe\">\n",
       "  <thead>\n",
       "    <tr style=\"text-align: right;\">\n",
       "      <th></th>\n",
       "      <th>mean_days</th>\n",
       "      <th>median_days</th>\n",
       "    </tr>\n",
       "    <tr>\n",
       "      <th>year</th>\n",
       "      <th></th>\n",
       "      <th></th>\n",
       "    </tr>\n",
       "  </thead>\n",
       "  <tbody>\n",
       "    <tr>\n",
       "      <th>2014</th>\n",
       "      <td>904.688889</td>\n",
       "      <td>873.5</td>\n",
       "    </tr>\n",
       "    <tr>\n",
       "      <th>2015</th>\n",
       "      <td>633.240722</td>\n",
       "      <td>559.0</td>\n",
       "    </tr>\n",
       "    <tr>\n",
       "      <th>2016</th>\n",
       "      <td>315.319984</td>\n",
       "      <td>228.0</td>\n",
       "    </tr>\n",
       "    <tr>\n",
       "      <th>2017</th>\n",
       "      <td>155.703274</td>\n",
       "      <td>100.0</td>\n",
       "    </tr>\n",
       "    <tr>\n",
       "      <th>2018</th>\n",
       "      <td>92.819677</td>\n",
       "      <td>62.0</td>\n",
       "    </tr>\n",
       "    <tr>\n",
       "      <th>2019</th>\n",
       "      <td>30.790944</td>\n",
       "      <td>23.0</td>\n",
       "    </tr>\n",
       "  </tbody>\n",
       "</table>\n",
       "</div>"
      ],
      "text/plain": [
       "       mean_days  median_days\n",
       "year                         \n",
       "2014  904.688889        873.5\n",
       "2015  633.240722        559.0\n",
       "2016  315.319984        228.0\n",
       "2017  155.703274        100.0\n",
       "2018   92.819677         62.0\n",
       "2019   30.790944         23.0"
      ]
     },
     "execution_count": 45,
     "metadata": {},
     "output_type": "execute_result"
    }
   ],
   "source": [
    "#еще посмотрим тенденцию скорости продаж квартиры по годам \n",
    "real_estate_pivot = real_estate_data.pivot_table(index=['year'],values='days_exposition',\n",
    "                             aggfunc=['mean','median'])\n",
    "real_estate_pivot.columns = ['mean_days','median_days']\n",
    "real_estate_pivot"
   ]
  },
  {
   "cell_type": "markdown",
   "metadata": {},
   "source": [
    "Можно заметить тенденцию, что с каждым годом квартиры продаются все быстрее.\n",
    "\n",
    "Обычно продажа квартиры занимает примерно 92 дня.\n",
    "\n",
    "\"Очень быстрой\" можно считать продажу менее, чем за 17 дней.\n",
    "\n",
    "\"Необычно долгой\" - продажу более чем за 443 дней (год и 2 месяца)"
   ]
  },
  {
   "cell_type": "markdown",
   "metadata": {},
   "source": [
    "### Какие факторы больше всего влияют на стоимость квартиры?  "
   ]
  },
  {
   "cell_type": "markdown",
   "metadata": {},
   "source": [
    "Изучим зависимость цены от того, на каком этаже расположена квартира: первом, последнем или другом."
   ]
  },
  {
   "cell_type": "code",
   "execution_count": 46,
   "metadata": {
    "scrolled": false
   },
   "outputs": [
    {
     "data": {
      "text/html": [
       "<div>\n",
       "<style scoped>\n",
       "    .dataframe tbody tr th:only-of-type {\n",
       "        vertical-align: middle;\n",
       "    }\n",
       "\n",
       "    .dataframe tbody tr th {\n",
       "        vertical-align: top;\n",
       "    }\n",
       "\n",
       "    .dataframe thead tr th {\n",
       "        text-align: left;\n",
       "    }\n",
       "</style>\n",
       "<table border=\"1\" class=\"dataframe\">\n",
       "  <thead>\n",
       "    <tr>\n",
       "      <th></th>\n",
       "      <th>floor_category</th>\n",
       "      <th>sum</th>\n",
       "      <th>count</th>\n",
       "      <th>price_by_floor_category, %</th>\n",
       "    </tr>\n",
       "    <tr>\n",
       "      <th></th>\n",
       "      <th></th>\n",
       "      <th>last_price</th>\n",
       "      <th>last_price</th>\n",
       "      <th></th>\n",
       "    </tr>\n",
       "  </thead>\n",
       "  <tbody>\n",
       "    <tr>\n",
       "      <th>0</th>\n",
       "      <td>другой</td>\n",
       "      <td>8.467480e+10</td>\n",
       "      <td>16053</td>\n",
       "      <td>5.274702e+08</td>\n",
       "    </tr>\n",
       "    <tr>\n",
       "      <th>1</th>\n",
       "      <td>первый</td>\n",
       "      <td>1.169238e+10</td>\n",
       "      <td>2792</td>\n",
       "      <td>4.187815e+08</td>\n",
       "    </tr>\n",
       "    <tr>\n",
       "      <th>2</th>\n",
       "      <td>последний</td>\n",
       "      <td>1.396624e+10</td>\n",
       "      <td>3014</td>\n",
       "      <td>4.633790e+08</td>\n",
       "    </tr>\n",
       "  </tbody>\n",
       "</table>\n",
       "</div>"
      ],
      "text/plain": [
       "  floor_category           sum      count price_by_floor_category, %\n",
       "                    last_price last_price                           \n",
       "0         другой  8.467480e+10      16053               5.274702e+08\n",
       "1         первый  1.169238e+10       2792               4.187815e+08\n",
       "2      последний  1.396624e+10       3014               4.633790e+08"
      ]
     },
     "metadata": {},
     "output_type": "display_data"
    }
   ],
   "source": [
    "floor_category_data = real_estate_data.pivot_table(\n",
    "    index = ['floor_category'] , values = 'last_price', aggfunc = ['sum', 'count']).reset_index()\n",
    "\n",
    "floor_category_data['price_by_floor_category, %'] = floor_category_data['sum'] / floor_category_data['count'] *100\n",
    "display(floor_category_data.head())           "
   ]
  },
  {
   "cell_type": "markdown",
   "metadata": {},
   "source": [
    "Дороже продаются квартиры на промежутоных этажах, не первом и не последнем.\n",
    "Квартиры на первых этажах продаются обычно дешевле всего."
   ]
  },
  {
   "cell_type": "code",
   "execution_count": 47,
   "metadata": {
    "scrolled": true
   },
   "outputs": [
    {
     "data": {
      "text/html": [
       "<div>\n",
       "<style scoped>\n",
       "    .dataframe tbody tr th:only-of-type {\n",
       "        vertical-align: middle;\n",
       "    }\n",
       "\n",
       "    .dataframe tbody tr th {\n",
       "        vertical-align: top;\n",
       "    }\n",
       "\n",
       "    .dataframe thead tr th {\n",
       "        text-align: left;\n",
       "    }\n",
       "</style>\n",
       "<table border=\"1\" class=\"dataframe\">\n",
       "  <thead>\n",
       "    <tr>\n",
       "      <th></th>\n",
       "      <th>rooms</th>\n",
       "      <th>sum</th>\n",
       "      <th>count</th>\n",
       "      <th>price_by_rooms, %</th>\n",
       "    </tr>\n",
       "    <tr>\n",
       "      <th></th>\n",
       "      <th></th>\n",
       "      <th>last_price</th>\n",
       "      <th>last_price</th>\n",
       "      <th></th>\n",
       "    </tr>\n",
       "  </thead>\n",
       "  <tbody>\n",
       "    <tr>\n",
       "      <th>0</th>\n",
       "      <td>1</td>\n",
       "      <td>3.031735e+10</td>\n",
       "      <td>8023</td>\n",
       "      <td>3.778805e+08</td>\n",
       "    </tr>\n",
       "    <tr>\n",
       "      <th>1</th>\n",
       "      <td>2</td>\n",
       "      <td>4.013286e+10</td>\n",
       "      <td>7754</td>\n",
       "      <td>5.175762e+08</td>\n",
       "    </tr>\n",
       "    <tr>\n",
       "      <th>2</th>\n",
       "      <td>3</td>\n",
       "      <td>3.377656e+10</td>\n",
       "      <td>5245</td>\n",
       "      <td>6.439763e+08</td>\n",
       "    </tr>\n",
       "    <tr>\n",
       "      <th>3</th>\n",
       "      <td>4</td>\n",
       "      <td>5.533283e+09</td>\n",
       "      <td>765</td>\n",
       "      <td>7.233049e+08</td>\n",
       "    </tr>\n",
       "    <tr>\n",
       "      <th>4</th>\n",
       "      <td>5</td>\n",
       "      <td>5.733700e+08</td>\n",
       "      <td>72</td>\n",
       "      <td>7.963472e+08</td>\n",
       "    </tr>\n",
       "  </tbody>\n",
       "</table>\n",
       "</div>"
      ],
      "text/plain": [
       "  rooms           sum      count price_by_rooms, %\n",
       "           last_price last_price                  \n",
       "0     1  3.031735e+10       8023      3.778805e+08\n",
       "1     2  4.013286e+10       7754      5.175762e+08\n",
       "2     3  3.377656e+10       5245      6.439763e+08\n",
       "3     4  5.533283e+09        765      7.233049e+08\n",
       "4     5  5.733700e+08         72      7.963472e+08"
      ]
     },
     "metadata": {},
     "output_type": "display_data"
    }
   ],
   "source": [
    "rooms_data = real_estate_data.pivot_table(\n",
    "    index = ['rooms'] , values = 'last_price', aggfunc = ['sum', 'count']).reset_index()\n",
    "\n",
    "rooms_data['price_by_rooms, %'] = rooms_data['sum'] / rooms_data['count'] *100\n",
    "display(rooms_data )"
   ]
  },
  {
   "cell_type": "markdown",
   "metadata": {},
   "source": [
    "Как и ожидалось, цена квартиры напрямую зависит от количества комнат: чем больше комнат в квартире, тем больше цена. "
   ]
  },
  {
   "cell_type": "code",
   "execution_count": 48,
   "metadata": {
    "scrolled": false
   },
   "outputs": [
    {
     "data": {
      "text/html": [
       "<div>\n",
       "<style scoped>\n",
       "    .dataframe tbody tr th:only-of-type {\n",
       "        vertical-align: middle;\n",
       "    }\n",
       "\n",
       "    .dataframe tbody tr th {\n",
       "        vertical-align: top;\n",
       "    }\n",
       "\n",
       "    .dataframe thead th {\n",
       "        text-align: right;\n",
       "    }\n",
       "</style>\n",
       "<table border=\"1\" class=\"dataframe\">\n",
       "  <thead>\n",
       "    <tr style=\"text-align: right;\">\n",
       "      <th></th>\n",
       "      <th>last_price</th>\n",
       "      <th>total_area</th>\n",
       "      <th>cityCenters_nearest</th>\n",
       "    </tr>\n",
       "  </thead>\n",
       "  <tbody>\n",
       "    <tr>\n",
       "      <th>last_price</th>\n",
       "      <td>1.00000</td>\n",
       "      <td>0.722610</td>\n",
       "      <td>-0.354340</td>\n",
       "    </tr>\n",
       "    <tr>\n",
       "      <th>total_area</th>\n",
       "      <td>0.72261</td>\n",
       "      <td>1.000000</td>\n",
       "      <td>-0.158319</td>\n",
       "    </tr>\n",
       "    <tr>\n",
       "      <th>cityCenters_nearest</th>\n",
       "      <td>-0.35434</td>\n",
       "      <td>-0.158319</td>\n",
       "      <td>1.000000</td>\n",
       "    </tr>\n",
       "  </tbody>\n",
       "</table>\n",
       "</div>"
      ],
      "text/plain": [
       "                     last_price  total_area  cityCenters_nearest\n",
       "last_price              1.00000    0.722610            -0.354340\n",
       "total_area              0.72261    1.000000            -0.158319\n",
       "cityCenters_nearest    -0.35434   -0.158319             1.000000"
      ]
     },
     "execution_count": 48,
     "metadata": {},
     "output_type": "execute_result"
    }
   ],
   "source": [
    "#изучим коэффиценты корреляции пирсона для параметров\n",
    "real_estate_data_1 = real_estate_data.loc[:,[\n",
    "    'last_price','total_area', 'cityCenters_nearest']]\n",
    "real_estate_data_1.corr()"
   ]
  },
  {
   "cell_type": "markdown",
   "metadata": {},
   "source": [
    "Можно с уверенностью сказать о наличии прямой зависимости между ценой и общей площадью квартиры: чем больше ее площадь, тем больше и цена.\n",
    "Связь между близостью к центру и ценой совсем небольшая, ею можно принебречь."
   ]
  },
  {
   "cell_type": "markdown",
   "metadata": {},
   "source": [
    "Также изучим зависимость от даты размещения: дня недели, месяца и года."
   ]
  },
  {
   "cell_type": "code",
   "execution_count": 49,
   "metadata": {
    "scrolled": false
   },
   "outputs": [
    {
     "data": {
      "text/html": [
       "<div>\n",
       "<style scoped>\n",
       "    .dataframe tbody tr th:only-of-type {\n",
       "        vertical-align: middle;\n",
       "    }\n",
       "\n",
       "    .dataframe tbody tr th {\n",
       "        vertical-align: top;\n",
       "    }\n",
       "\n",
       "    .dataframe thead tr th {\n",
       "        text-align: left;\n",
       "    }\n",
       "</style>\n",
       "<table border=\"1\" class=\"dataframe\">\n",
       "  <thead>\n",
       "    <tr>\n",
       "      <th></th>\n",
       "      <th>year</th>\n",
       "      <th>sum</th>\n",
       "      <th>count</th>\n",
       "      <th>price_by_year, %</th>\n",
       "    </tr>\n",
       "    <tr>\n",
       "      <th></th>\n",
       "      <th></th>\n",
       "      <th>last_price</th>\n",
       "      <th>last_price</th>\n",
       "      <th></th>\n",
       "    </tr>\n",
       "  </thead>\n",
       "  <tbody>\n",
       "    <tr>\n",
       "      <th>0</th>\n",
       "      <td>2014</td>\n",
       "      <td>6.497172e+08</td>\n",
       "      <td>98</td>\n",
       "      <td>6.629768e+08</td>\n",
       "    </tr>\n",
       "    <tr>\n",
       "      <th>1</th>\n",
       "      <td>2015</td>\n",
       "      <td>5.713927e+09</td>\n",
       "      <td>1037</td>\n",
       "      <td>5.510055e+08</td>\n",
       "    </tr>\n",
       "    <tr>\n",
       "      <th>2</th>\n",
       "      <td>2016</td>\n",
       "      <td>1.265398e+10</td>\n",
       "      <td>2547</td>\n",
       "      <td>4.968189e+08</td>\n",
       "    </tr>\n",
       "    <tr>\n",
       "      <th>3</th>\n",
       "      <td>2017</td>\n",
       "      <td>3.737941e+10</td>\n",
       "      <td>7526</td>\n",
       "      <td>4.966704e+08</td>\n",
       "    </tr>\n",
       "    <tr>\n",
       "      <th>4</th>\n",
       "      <td>2018</td>\n",
       "      <td>3.959491e+10</td>\n",
       "      <td>7979</td>\n",
       "      <td>4.962390e+08</td>\n",
       "    </tr>\n",
       "    <tr>\n",
       "      <th>5</th>\n",
       "      <td>2019</td>\n",
       "      <td>1.434148e+10</td>\n",
       "      <td>2672</td>\n",
       "      <td>5.367320e+08</td>\n",
       "    </tr>\n",
       "  </tbody>\n",
       "</table>\n",
       "</div>"
      ],
      "text/plain": [
       "   year           sum      count price_by_year, %\n",
       "           last_price last_price                 \n",
       "0  2014  6.497172e+08         98     6.629768e+08\n",
       "1  2015  5.713927e+09       1037     5.510055e+08\n",
       "2  2016  1.265398e+10       2547     4.968189e+08\n",
       "3  2017  3.737941e+10       7526     4.966704e+08\n",
       "4  2018  3.959491e+10       7979     4.962390e+08\n",
       "5  2019  1.434148e+10       2672     5.367320e+08"
      ]
     },
     "metadata": {},
     "output_type": "display_data"
    }
   ],
   "source": [
    "year_data = real_estate_data.pivot_table(\n",
    "    index = ['year'] , values = 'last_price', aggfunc = ['sum', 'count']).reset_index()\n",
    "year_data['price_by_year, %'] = year_data['sum'] / year_data['count'] *100\n",
    "display(year_data) "
   ]
  },
  {
   "cell_type": "code",
   "execution_count": 50,
   "metadata": {},
   "outputs": [
    {
     "data": {
      "image/png": "[encoded data removed]",
      "text/plain": [
       "<Figure size 432x288 with 1 Axes>"
      ]
     },
     "metadata": {
      "needs_background": "light"
     },
     "output_type": "display_data"
    }
   ],
   "source": [
    "year_data.plot(x='year', y='price_by_year, %', style='o-') \n",
    "plt.title('зависимость цены от года публикации объявления')\n",
    "plt.show()"
   ]
  },
  {
   "cell_type": "markdown",
   "metadata": {},
   "source": [
    "С 2016 по 2018 год цены держались на одном уровне, в 2019 году замечен рост цен на квартиры.\n",
    "Дороже всего квартиры стоили в 2014."
   ]
  },
  {
   "cell_type": "code",
   "execution_count": 51,
   "metadata": {
    "scrolled": true
   },
   "outputs": [
    {
     "data": {
      "text/html": [
       "<div>\n",
       "<style scoped>\n",
       "    .dataframe tbody tr th:only-of-type {\n",
       "        vertical-align: middle;\n",
       "    }\n",
       "\n",
       "    .dataframe tbody tr th {\n",
       "        vertical-align: top;\n",
       "    }\n",
       "\n",
       "    .dataframe thead tr th {\n",
       "        text-align: left;\n",
       "    }\n",
       "</style>\n",
       "<table border=\"1\" class=\"dataframe\">\n",
       "  <thead>\n",
       "    <tr>\n",
       "      <th></th>\n",
       "      <th>month</th>\n",
       "      <th>sum</th>\n",
       "      <th>count</th>\n",
       "      <th>price_by_month, %</th>\n",
       "    </tr>\n",
       "    <tr>\n",
       "      <th></th>\n",
       "      <th></th>\n",
       "      <th>last_price</th>\n",
       "      <th>last_price</th>\n",
       "      <th></th>\n",
       "    </tr>\n",
       "  </thead>\n",
       "  <tbody>\n",
       "    <tr>\n",
       "      <th>0</th>\n",
       "      <td>1</td>\n",
       "      <td>6.907332e+09</td>\n",
       "      <td>1375</td>\n",
       "      <td>5.023514e+08</td>\n",
       "    </tr>\n",
       "    <tr>\n",
       "      <th>1</th>\n",
       "      <td>2</td>\n",
       "      <td>1.218647e+10</td>\n",
       "      <td>2431</td>\n",
       "      <td>5.012947e+08</td>\n",
       "    </tr>\n",
       "    <tr>\n",
       "      <th>2</th>\n",
       "      <td>3</td>\n",
       "      <td>1.208210e+10</td>\n",
       "      <td>2403</td>\n",
       "      <td>5.027922e+08</td>\n",
       "    </tr>\n",
       "    <tr>\n",
       "      <th>3</th>\n",
       "      <td>4</td>\n",
       "      <td>1.142655e+10</td>\n",
       "      <td>2213</td>\n",
       "      <td>5.163375e+08</td>\n",
       "    </tr>\n",
       "    <tr>\n",
       "      <th>4</th>\n",
       "      <td>5</td>\n",
       "      <td>5.890018e+09</td>\n",
       "      <td>1176</td>\n",
       "      <td>5.008518e+08</td>\n",
       "    </tr>\n",
       "    <tr>\n",
       "      <th>5</th>\n",
       "      <td>6</td>\n",
       "      <td>7.904096e+09</td>\n",
       "      <td>1634</td>\n",
       "      <td>4.837268e+08</td>\n",
       "    </tr>\n",
       "    <tr>\n",
       "      <th>6</th>\n",
       "      <td>7</td>\n",
       "      <td>7.779088e+09</td>\n",
       "      <td>1548</td>\n",
       "      <td>5.025251e+08</td>\n",
       "    </tr>\n",
       "    <tr>\n",
       "      <th>7</th>\n",
       "      <td>8</td>\n",
       "      <td>8.184293e+09</td>\n",
       "      <td>1611</td>\n",
       "      <td>5.080256e+08</td>\n",
       "    </tr>\n",
       "    <tr>\n",
       "      <th>8</th>\n",
       "      <td>9</td>\n",
       "      <td>9.375396e+09</td>\n",
       "      <td>1811</td>\n",
       "      <td>5.176917e+08</td>\n",
       "    </tr>\n",
       "    <tr>\n",
       "      <th>9</th>\n",
       "      <td>10</td>\n",
       "      <td>9.932612e+09</td>\n",
       "      <td>1981</td>\n",
       "      <td>5.013938e+08</td>\n",
       "    </tr>\n",
       "    <tr>\n",
       "      <th>10</th>\n",
       "      <td>11</td>\n",
       "      <td>1.108721e+10</td>\n",
       "      <td>2171</td>\n",
       "      <td>5.106961e+08</td>\n",
       "    </tr>\n",
       "    <tr>\n",
       "      <th>11</th>\n",
       "      <td>12</td>\n",
       "      <td>7.578251e+09</td>\n",
       "      <td>1505</td>\n",
       "      <td>5.035383e+08</td>\n",
       "    </tr>\n",
       "  </tbody>\n",
       "</table>\n",
       "</div>"
      ],
      "text/plain": [
       "   month           sum      count price_by_month, %\n",
       "            last_price last_price                  \n",
       "0      1  6.907332e+09       1375      5.023514e+08\n",
       "1      2  1.218647e+10       2431      5.012947e+08\n",
       "2      3  1.208210e+10       2403      5.027922e+08\n",
       "3      4  1.142655e+10       2213      5.163375e+08\n",
       "4      5  5.890018e+09       1176      5.008518e+08\n",
       "5      6  7.904096e+09       1634      4.837268e+08\n",
       "6      7  7.779088e+09       1548      5.025251e+08\n",
       "7      8  8.184293e+09       1611      5.080256e+08\n",
       "8      9  9.375396e+09       1811      5.176917e+08\n",
       "9     10  9.932612e+09       1981      5.013938e+08\n",
       "10    11  1.108721e+10       2171      5.106961e+08\n",
       "11    12  7.578251e+09       1505      5.035383e+08"
      ]
     },
     "metadata": {},
     "output_type": "display_data"
    }
   ],
   "source": [
    "month_data = real_estate_data.pivot_table(\n",
    "    index = ['month'] , values = 'last_price', aggfunc = ['sum', 'count']).reset_index()\n",
    "\n",
    "month_data['price_by_month, %'] = month_data['sum'] / month_data['count'] *100\n",
    "display(month_data) "
   ]
  },
  {
   "cell_type": "code",
   "execution_count": 52,
   "metadata": {},
   "outputs": [
    {
     "data": {
      "image/png": "[encoded data removed]",
      "text/plain": [
       "<Figure size 432x288 with 1 Axes>"
      ]
     },
     "metadata": {
      "needs_background": "light"
     },
     "output_type": "display_data"
    }
   ],
   "source": [
    "month_data.plot(x='month', y='price_by_month, %', style='o-') \n",
    "plt.title('зависимость цены от месяца публикации объявления')\n",
    "plt.show()"
   ]
  },
  {
   "cell_type": "markdown",
   "metadata": {},
   "source": [
    "Месяц от месяца цены на квартиры значительно не отличаются, однако у объявлений, опубликованных в июне, цена меньше всего, а в сентябре и апреле выше всего."
   ]
  },
  {
   "cell_type": "code",
   "execution_count": 53,
   "metadata": {
    "scrolled": true
   },
   "outputs": [
    {
     "data": {
      "text/html": [
       "<div>\n",
       "<style scoped>\n",
       "    .dataframe tbody tr th:only-of-type {\n",
       "        vertical-align: middle;\n",
       "    }\n",
       "\n",
       "    .dataframe tbody tr th {\n",
       "        vertical-align: top;\n",
       "    }\n",
       "\n",
       "    .dataframe thead tr th {\n",
       "        text-align: left;\n",
       "    }\n",
       "</style>\n",
       "<table border=\"1\" class=\"dataframe\">\n",
       "  <thead>\n",
       "    <tr>\n",
       "      <th></th>\n",
       "      <th>weekday</th>\n",
       "      <th>sum</th>\n",
       "      <th>count</th>\n",
       "      <th>price_by_weekday, %</th>\n",
       "    </tr>\n",
       "    <tr>\n",
       "      <th></th>\n",
       "      <th></th>\n",
       "      <th>last_price</th>\n",
       "      <th>last_price</th>\n",
       "      <th></th>\n",
       "    </tr>\n",
       "  </thead>\n",
       "  <tbody>\n",
       "    <tr>\n",
       "      <th>0</th>\n",
       "      <td>воскресенье</td>\n",
       "      <td>7.937684e+09</td>\n",
       "      <td>1590</td>\n",
       "      <td>4.992254e+08</td>\n",
       "    </tr>\n",
       "    <tr>\n",
       "      <th>1</th>\n",
       "      <td>вторник</td>\n",
       "      <td>1.979864e+10</td>\n",
       "      <td>3869</td>\n",
       "      <td>5.117250e+08</td>\n",
       "    </tr>\n",
       "    <tr>\n",
       "      <th>2</th>\n",
       "      <td>понедельник</td>\n",
       "      <td>1.684441e+10</td>\n",
       "      <td>3341</td>\n",
       "      <td>5.041728e+08</td>\n",
       "    </tr>\n",
       "    <tr>\n",
       "      <th>3</th>\n",
       "      <td>пятница</td>\n",
       "      <td>1.857307e+10</td>\n",
       "      <td>3694</td>\n",
       "      <td>5.027903e+08</td>\n",
       "    </tr>\n",
       "    <tr>\n",
       "      <th>4</th>\n",
       "      <td>среда</td>\n",
       "      <td>1.844179e+10</td>\n",
       "      <td>3645</td>\n",
       "      <td>5.059475e+08</td>\n",
       "    </tr>\n",
       "    <tr>\n",
       "      <th>5</th>\n",
       "      <td>суббота</td>\n",
       "      <td>8.890378e+09</td>\n",
       "      <td>1804</td>\n",
       "      <td>4.928148e+08</td>\n",
       "    </tr>\n",
       "    <tr>\n",
       "      <th>6</th>\n",
       "      <td>четверг</td>\n",
       "      <td>1.984745e+10</td>\n",
       "      <td>3916</td>\n",
       "      <td>5.068295e+08</td>\n",
       "    </tr>\n",
       "  </tbody>\n",
       "</table>\n",
       "</div>"
      ],
      "text/plain": [
       "       weekday           sum      count price_by_weekday, %\n",
       "                  last_price last_price                    \n",
       "0  воскресенье  7.937684e+09       1590        4.992254e+08\n",
       "1      вторник  1.979864e+10       3869        5.117250e+08\n",
       "2  понедельник  1.684441e+10       3341        5.041728e+08\n",
       "3      пятница  1.857307e+10       3694        5.027903e+08\n",
       "4        среда  1.844179e+10       3645        5.059475e+08\n",
       "5      суббота  8.890378e+09       1804        4.928148e+08\n",
       "6      четверг  1.984745e+10       3916        5.068295e+08"
      ]
     },
     "metadata": {},
     "output_type": "display_data"
    }
   ],
   "source": [
    "weekday_data = real_estate_data.pivot_table(\n",
    "    index = ['weekday'] , values = 'last_price', aggfunc = ['sum', 'count']).reset_index()\n",
    "\n",
    "weekday_data['price_by_weekday, %'] = weekday_data['sum'] / weekday_data['count'] *100\n",
    "display(weekday_data) "
   ]
  },
  {
   "cell_type": "code",
   "execution_count": 54,
   "metadata": {
    "scrolled": true
   },
   "outputs": [
    {
     "data": {
      "image/png": "[encoded data removed]",
      "text/plain": [
       "<Figure size 432x288 with 1 Axes>"
      ]
     },
     "metadata": {
      "needs_background": "light"
     },
     "output_type": "display_data"
    }
   ],
   "source": [
    "weekday_data.plot(x='weekday', y='price_by_weekday, %', style='o-') \n",
    "plt.title('зависимость цены от дня недели публикации объявления')\n",
    "plt.xticks(rotation=45)\n",
    "plt.show()"
   ]
  },
  {
   "cell_type": "markdown",
   "metadata": {},
   "source": [
    "От дня недели цены на квартиры особо не зависят. Однако у объявлений, опубликованных в субботу, цена меньше всего, а во вторник выше всего."
   ]
  },
  {
   "cell_type": "markdown",
   "metadata": {},
   "source": [
    "### Выберем 10 населённых пунктов с наибольшим числом объявлений. Посчитаем среднюю цену квадратного метра в этих населённых пунктах. Выделим среди них населённые пункты с самой высокой и низкой стоимостью жилья. "
   ]
  },
  {
   "cell_type": "code",
   "execution_count": 55,
   "metadata": {
    "scrolled": true
   },
   "outputs": [
    {
     "data": {
      "text/plain": [
       "санкт-петербург      14079\n",
       "поселок мурино         529\n",
       "поселок шушары         433\n",
       "всеволожск             388\n",
       "пушкин                 341\n",
       "колпино                336\n",
       "поселок парголово      322\n",
       "гатчина                304\n",
       "деревня кудрово        282\n",
       "выборг                 228\n",
       "Name: locality_name, dtype: int64"
      ]
     },
     "execution_count": 55,
     "metadata": {},
     "output_type": "execute_result"
    }
   ],
   "source": [
    "data_upd=real_estate_data['locality_name'].value_counts().sort_values(ascending=False).head(10)\n",
    "data_upd"
   ]
  },
  {
   "cell_type": "code",
   "execution_count": 56,
   "metadata": {
    "scrolled": false
   },
   "outputs": [
    {
     "data": {
      "text/html": [
       "<div>\n",
       "<style scoped>\n",
       "    .dataframe tbody tr th:only-of-type {\n",
       "        vertical-align: middle;\n",
       "    }\n",
       "\n",
       "    .dataframe tbody tr th {\n",
       "        vertical-align: top;\n",
       "    }\n",
       "\n",
       "    .dataframe thead tr th {\n",
       "        text-align: left;\n",
       "    }\n",
       "\n",
       "    .dataframe thead tr:last-of-type th {\n",
       "        text-align: right;\n",
       "    }\n",
       "</style>\n",
       "<table border=\"1\" class=\"dataframe\">\n",
       "  <thead>\n",
       "    <tr>\n",
       "      <th></th>\n",
       "      <th>mean</th>\n",
       "      <th>count</th>\n",
       "    </tr>\n",
       "    <tr>\n",
       "      <th></th>\n",
       "      <th>price_per_meter</th>\n",
       "      <th>price_per_meter</th>\n",
       "    </tr>\n",
       "    <tr>\n",
       "      <th>locality_name</th>\n",
       "      <th></th>\n",
       "      <th></th>\n",
       "    </tr>\n",
       "  </thead>\n",
       "  <tbody>\n",
       "    <tr>\n",
       "      <th>санкт-петербург</th>\n",
       "      <td>107385.403436</td>\n",
       "      <td>14079</td>\n",
       "    </tr>\n",
       "    <tr>\n",
       "      <th>пушкин</th>\n",
       "      <td>101226.119653</td>\n",
       "      <td>341</td>\n",
       "    </tr>\n",
       "    <tr>\n",
       "      <th>деревня кудрово</th>\n",
       "      <td>92229.151250</td>\n",
       "      <td>282</td>\n",
       "    </tr>\n",
       "    <tr>\n",
       "      <th>поселок парголово</th>\n",
       "      <td>90448.423806</td>\n",
       "      <td>322</td>\n",
       "    </tr>\n",
       "    <tr>\n",
       "      <th>поселок мурино</th>\n",
       "      <td>85004.057852</td>\n",
       "      <td>529</td>\n",
       "    </tr>\n",
       "    <tr>\n",
       "      <th>поселок шушары</th>\n",
       "      <td>78431.638413</td>\n",
       "      <td>433</td>\n",
       "    </tr>\n",
       "    <tr>\n",
       "      <th>колпино</th>\n",
       "      <td>75370.025473</td>\n",
       "      <td>336</td>\n",
       "    </tr>\n",
       "    <tr>\n",
       "      <th>гатчина</th>\n",
       "      <td>68919.469270</td>\n",
       "      <td>304</td>\n",
       "    </tr>\n",
       "    <tr>\n",
       "      <th>всеволожск</th>\n",
       "      <td>67163.450322</td>\n",
       "      <td>388</td>\n",
       "    </tr>\n",
       "    <tr>\n",
       "      <th>выборг</th>\n",
       "      <td>58225.624357</td>\n",
       "      <td>228</td>\n",
       "    </tr>\n",
       "  </tbody>\n",
       "</table>\n",
       "</div>"
      ],
      "text/plain": [
       "                             mean           count\n",
       "                  price_per_meter price_per_meter\n",
       "locality_name                                    \n",
       "санкт-петербург     107385.403436           14079\n",
       "пушкин              101226.119653             341\n",
       "деревня кудрово      92229.151250             282\n",
       "поселок парголово    90448.423806             322\n",
       "поселок мурино       85004.057852             529\n",
       "поселок шушары       78431.638413             433\n",
       "колпино              75370.025473             336\n",
       "гатчина              68919.469270             304\n",
       "всеволожск           67163.450322             388\n",
       "выборг               58225.624357             228"
      ]
     },
     "metadata": {},
     "output_type": "display_data"
    }
   ],
   "source": [
    "locality_name_stat = real_estate_data.pivot_table(\n",
    "    index = 'locality_name', values = 'price_per_meter', aggfunc=['mean', 'count'] )\n",
    "locality_name_stat = locality_name_stat.sort_values(by =('count','price_per_meter'), ascending =False)\n",
    "locality_name_stat_sort= locality_name_stat.head(10)\n",
    "locality_name_stat_sort = locality_name_stat_sort.sort_values(by =('mean','price_per_meter'), ascending =False)\n",
    "display(locality_name_stat_sort)\n"
   ]
  },
  {
   "cell_type": "markdown",
   "metadata": {},
   "source": [
    "Среди 10 населённых пунктов с наибольшим числом объявлений, населенный пункт с самой высокой стоимостью жилья - Санкт-Петербург, с самой низкой - Выборг."
   ]
  },
  {
   "cell_type": "markdown",
   "metadata": {},
   "source": [
    "### Изучим предложения квартир и выделим квартиры в Санкт-Петербурге . Найдем, какая область входит в центр. "
   ]
  },
  {
   "cell_type": "code",
   "execution_count": 57,
   "metadata": {
    "scrolled": true
   },
   "outputs": [
    {
     "data": {
      "text/html": [
       "<div>\n",
       "<style scoped>\n",
       "    .dataframe tbody tr th:only-of-type {\n",
       "        vertical-align: middle;\n",
       "    }\n",
       "\n",
       "    .dataframe tbody tr th {\n",
       "        vertical-align: top;\n",
       "    }\n",
       "\n",
       "    .dataframe thead th {\n",
       "        text-align: right;\n",
       "    }\n",
       "</style>\n",
       "<table border=\"1\" class=\"dataframe\">\n",
       "  <thead>\n",
       "    <tr style=\"text-align: right;\">\n",
       "      <th></th>\n",
       "      <th>index</th>\n",
       "      <th>total_images</th>\n",
       "      <th>last_price</th>\n",
       "      <th>total_area</th>\n",
       "      <th>first_day_exposition</th>\n",
       "      <th>rooms</th>\n",
       "      <th>ceiling_height</th>\n",
       "      <th>floors_total</th>\n",
       "      <th>living_area</th>\n",
       "      <th>floor</th>\n",
       "      <th>is_apartment</th>\n",
       "      <th>studio</th>\n",
       "      <th>open_plan</th>\n",
       "      <th>kitchen_area</th>\n",
       "      <th>balcony</th>\n",
       "      <th>locality_name</th>\n",
       "      <th>airports_nearest</th>\n",
       "      <th>cityCenters_nearest</th>\n",
       "      <th>parks_around3000</th>\n",
       "      <th>parks_nearest</th>\n",
       "      <th>ponds_around3000</th>\n",
       "      <th>ponds_nearest</th>\n",
       "      <th>days_exposition</th>\n",
       "      <th>price_per_meter</th>\n",
       "      <th>weekday</th>\n",
       "      <th>month</th>\n",
       "      <th>year</th>\n",
       "      <th>floor_category</th>\n",
       "      <th>living_area_to_total</th>\n",
       "      <th>kitchen_area_to_total</th>\n",
       "    </tr>\n",
       "  </thead>\n",
       "  <tbody>\n",
       "    <tr>\n",
       "      <th>0</th>\n",
       "      <td>0</td>\n",
       "      <td>20</td>\n",
       "      <td>13000000.0</td>\n",
       "      <td>108.0</td>\n",
       "      <td>2019-03-07</td>\n",
       "      <td>3</td>\n",
       "      <td>2.70</td>\n",
       "      <td>16.0</td>\n",
       "      <td>51.0</td>\n",
       "      <td>8</td>\n",
       "      <td>True</td>\n",
       "      <td>False</td>\n",
       "      <td>False</td>\n",
       "      <td>25.0</td>\n",
       "      <td>0</td>\n",
       "      <td>санкт-петербург</td>\n",
       "      <td>18863.0</td>\n",
       "      <td>16028.0</td>\n",
       "      <td>1.0</td>\n",
       "      <td>482.0</td>\n",
       "      <td>2.0</td>\n",
       "      <td>755.0</td>\n",
       "      <td>&lt;NA&gt;</td>\n",
       "      <td>120370.370370</td>\n",
       "      <td>четверг</td>\n",
       "      <td>3</td>\n",
       "      <td>2019</td>\n",
       "      <td>другой</td>\n",
       "      <td>0.472222</td>\n",
       "      <td>2.040000</td>\n",
       "    </tr>\n",
       "    <tr>\n",
       "      <th>2</th>\n",
       "      <td>2</td>\n",
       "      <td>10</td>\n",
       "      <td>5196000.0</td>\n",
       "      <td>56.0</td>\n",
       "      <td>2015-08-20</td>\n",
       "      <td>2</td>\n",
       "      <td>NaN</td>\n",
       "      <td>5.0</td>\n",
       "      <td>34.3</td>\n",
       "      <td>4</td>\n",
       "      <td>False</td>\n",
       "      <td>False</td>\n",
       "      <td>False</td>\n",
       "      <td>8.3</td>\n",
       "      <td>0</td>\n",
       "      <td>санкт-петербург</td>\n",
       "      <td>21741.0</td>\n",
       "      <td>13933.0</td>\n",
       "      <td>1.0</td>\n",
       "      <td>90.0</td>\n",
       "      <td>2.0</td>\n",
       "      <td>574.0</td>\n",
       "      <td>558</td>\n",
       "      <td>92785.714286</td>\n",
       "      <td>четверг</td>\n",
       "      <td>8</td>\n",
       "      <td>2015</td>\n",
       "      <td>другой</td>\n",
       "      <td>0.612500</td>\n",
       "      <td>4.132530</td>\n",
       "    </tr>\n",
       "    <tr>\n",
       "      <th>3</th>\n",
       "      <td>4</td>\n",
       "      <td>2</td>\n",
       "      <td>10000000.0</td>\n",
       "      <td>100.0</td>\n",
       "      <td>2018-06-19</td>\n",
       "      <td>2</td>\n",
       "      <td>3.03</td>\n",
       "      <td>14.0</td>\n",
       "      <td>32.0</td>\n",
       "      <td>13</td>\n",
       "      <td>True</td>\n",
       "      <td>False</td>\n",
       "      <td>False</td>\n",
       "      <td>41.0</td>\n",
       "      <td>0</td>\n",
       "      <td>санкт-петербург</td>\n",
       "      <td>31856.0</td>\n",
       "      <td>8098.0</td>\n",
       "      <td>2.0</td>\n",
       "      <td>112.0</td>\n",
       "      <td>1.0</td>\n",
       "      <td>48.0</td>\n",
       "      <td>121</td>\n",
       "      <td>100000.000000</td>\n",
       "      <td>вторник</td>\n",
       "      <td>6</td>\n",
       "      <td>2018</td>\n",
       "      <td>другой</td>\n",
       "      <td>0.320000</td>\n",
       "      <td>0.780488</td>\n",
       "    </tr>\n",
       "    <tr>\n",
       "      <th>6</th>\n",
       "      <td>7</td>\n",
       "      <td>5</td>\n",
       "      <td>7915000.0</td>\n",
       "      <td>71.6</td>\n",
       "      <td>2019-04-18</td>\n",
       "      <td>2</td>\n",
       "      <td>NaN</td>\n",
       "      <td>24.0</td>\n",
       "      <td>44.3</td>\n",
       "      <td>22</td>\n",
       "      <td>True</td>\n",
       "      <td>False</td>\n",
       "      <td>False</td>\n",
       "      <td>18.9</td>\n",
       "      <td>2</td>\n",
       "      <td>санкт-петербург</td>\n",
       "      <td>23982.0</td>\n",
       "      <td>11634.0</td>\n",
       "      <td>0.0</td>\n",
       "      <td>NaN</td>\n",
       "      <td>0.0</td>\n",
       "      <td>NaN</td>\n",
       "      <td>&lt;NA&gt;</td>\n",
       "      <td>110544.692737</td>\n",
       "      <td>четверг</td>\n",
       "      <td>4</td>\n",
       "      <td>2019</td>\n",
       "      <td>другой</td>\n",
       "      <td>0.618715</td>\n",
       "      <td>2.343915</td>\n",
       "    </tr>\n",
       "    <tr>\n",
       "      <th>8</th>\n",
       "      <td>9</td>\n",
       "      <td>18</td>\n",
       "      <td>5400000.0</td>\n",
       "      <td>61.0</td>\n",
       "      <td>2017-02-26</td>\n",
       "      <td>3</td>\n",
       "      <td>2.50</td>\n",
       "      <td>9.0</td>\n",
       "      <td>43.6</td>\n",
       "      <td>7</td>\n",
       "      <td>True</td>\n",
       "      <td>False</td>\n",
       "      <td>False</td>\n",
       "      <td>6.5</td>\n",
       "      <td>2</td>\n",
       "      <td>санкт-петербург</td>\n",
       "      <td>50898.0</td>\n",
       "      <td>15008.0</td>\n",
       "      <td>0.0</td>\n",
       "      <td>NaN</td>\n",
       "      <td>0.0</td>\n",
       "      <td>NaN</td>\n",
       "      <td>289</td>\n",
       "      <td>88524.590164</td>\n",
       "      <td>воскресенье</td>\n",
       "      <td>2</td>\n",
       "      <td>2017</td>\n",
       "      <td>другой</td>\n",
       "      <td>0.714754</td>\n",
       "      <td>6.707692</td>\n",
       "    </tr>\n",
       "  </tbody>\n",
       "</table>\n",
       "</div>"
      ],
      "text/plain": [
       "   index  total_images  last_price  total_area first_day_exposition  rooms  \\\n",
       "0      0            20  13000000.0       108.0           2019-03-07      3   \n",
       "2      2            10   5196000.0        56.0           2015-08-20      2   \n",
       "3      4             2  10000000.0       100.0           2018-06-19      2   \n",
       "6      7             5   7915000.0        71.6           2019-04-18      2   \n",
       "8      9            18   5400000.0        61.0           2017-02-26      3   \n",
       "\n",
       "   ceiling_height  floors_total  living_area  floor  is_apartment  studio  \\\n",
       "0            2.70          16.0         51.0      8          True   False   \n",
       "2             NaN           5.0         34.3      4         False   False   \n",
       "3            3.03          14.0         32.0     13          True   False   \n",
       "6             NaN          24.0         44.3     22          True   False   \n",
       "8            2.50           9.0         43.6      7          True   False   \n",
       "\n",
       "   open_plan  kitchen_area  balcony    locality_name  airports_nearest  \\\n",
       "0      False          25.0        0  санкт-петербург           18863.0   \n",
       "2      False           8.3        0  санкт-петербург           21741.0   \n",
       "3      False          41.0        0  санкт-петербург           31856.0   \n",
       "6      False          18.9        2  санкт-петербург           23982.0   \n",
       "8      False           6.5        2  санкт-петербург           50898.0   \n",
       "\n",
       "   cityCenters_nearest  parks_around3000  parks_nearest  ponds_around3000  \\\n",
       "0              16028.0               1.0          482.0               2.0   \n",
       "2              13933.0               1.0           90.0               2.0   \n",
       "3               8098.0               2.0          112.0               1.0   \n",
       "6              11634.0               0.0            NaN               0.0   \n",
       "8              15008.0               0.0            NaN               0.0   \n",
       "\n",
       "   ponds_nearest  days_exposition  price_per_meter      weekday  month  year  \\\n",
       "0          755.0             <NA>    120370.370370      четверг      3  2019   \n",
       "2          574.0              558     92785.714286      четверг      8  2015   \n",
       "3           48.0              121    100000.000000      вторник      6  2018   \n",
       "6            NaN             <NA>    110544.692737      четверг      4  2019   \n",
       "8            NaN              289     88524.590164  воскресенье      2  2017   \n",
       "\n",
       "  floor_category  living_area_to_total  kitchen_area_to_total  \n",
       "0         другой              0.472222               2.040000  \n",
       "2         другой              0.612500               4.132530  \n",
       "3         другой              0.320000               0.780488  \n",
       "6         другой              0.618715               2.343915  \n",
       "8         другой              0.714754               6.707692  "
      ]
     },
     "execution_count": 57,
     "metadata": {},
     "output_type": "execute_result"
    }
   ],
   "source": [
    "spb_data = real_estate_data.query('locality_name == \"санкт-петербург\"')\n",
    "spb_data.head()\n"
   ]
  },
  {
   "cell_type": "code",
   "execution_count": 58,
   "metadata": {
    "scrolled": true
   },
   "outputs": [
    {
     "data": {
      "text/html": [
       "<div>\n",
       "<style scoped>\n",
       "    .dataframe tbody tr th:only-of-type {\n",
       "        vertical-align: middle;\n",
       "    }\n",
       "\n",
       "    .dataframe tbody tr th {\n",
       "        vertical-align: top;\n",
       "    }\n",
       "\n",
       "    .dataframe thead th {\n",
       "        text-align: right;\n",
       "    }\n",
       "</style>\n",
       "<table border=\"1\" class=\"dataframe\">\n",
       "  <thead>\n",
       "    <tr style=\"text-align: right;\">\n",
       "      <th></th>\n",
       "      <th>index</th>\n",
       "      <th>total_images</th>\n",
       "      <th>last_price</th>\n",
       "      <th>total_area</th>\n",
       "      <th>first_day_exposition</th>\n",
       "      <th>rooms</th>\n",
       "      <th>ceiling_height</th>\n",
       "      <th>floors_total</th>\n",
       "      <th>living_area</th>\n",
       "      <th>floor</th>\n",
       "      <th>is_apartment</th>\n",
       "      <th>studio</th>\n",
       "      <th>open_plan</th>\n",
       "      <th>kitchen_area</th>\n",
       "      <th>balcony</th>\n",
       "      <th>locality_name</th>\n",
       "      <th>airports_nearest</th>\n",
       "      <th>cityCenters_nearest</th>\n",
       "      <th>parks_around3000</th>\n",
       "      <th>parks_nearest</th>\n",
       "      <th>ponds_around3000</th>\n",
       "      <th>ponds_nearest</th>\n",
       "      <th>days_exposition</th>\n",
       "      <th>price_per_meter</th>\n",
       "      <th>weekday</th>\n",
       "      <th>month</th>\n",
       "      <th>year</th>\n",
       "      <th>floor_category</th>\n",
       "      <th>living_area_to_total</th>\n",
       "      <th>kitchen_area_to_total</th>\n",
       "      <th>cityCenters_nearest_km</th>\n",
       "    </tr>\n",
       "  </thead>\n",
       "  <tbody>\n",
       "    <tr>\n",
       "      <th>0</th>\n",
       "      <td>0</td>\n",
       "      <td>20</td>\n",
       "      <td>13000000.0</td>\n",
       "      <td>108.0</td>\n",
       "      <td>2019-03-07</td>\n",
       "      <td>3</td>\n",
       "      <td>2.70</td>\n",
       "      <td>16.0</td>\n",
       "      <td>51.0</td>\n",
       "      <td>8</td>\n",
       "      <td>True</td>\n",
       "      <td>False</td>\n",
       "      <td>False</td>\n",
       "      <td>25.0</td>\n",
       "      <td>0</td>\n",
       "      <td>санкт-петербург</td>\n",
       "      <td>18863.0</td>\n",
       "      <td>16028.0</td>\n",
       "      <td>1.0</td>\n",
       "      <td>482.0</td>\n",
       "      <td>2.0</td>\n",
       "      <td>755.0</td>\n",
       "      <td>&lt;NA&gt;</td>\n",
       "      <td>120370.370370</td>\n",
       "      <td>четверг</td>\n",
       "      <td>3</td>\n",
       "      <td>2019</td>\n",
       "      <td>другой</td>\n",
       "      <td>0.472222</td>\n",
       "      <td>2.040000</td>\n",
       "      <td>16.0</td>\n",
       "    </tr>\n",
       "    <tr>\n",
       "      <th>2</th>\n",
       "      <td>2</td>\n",
       "      <td>10</td>\n",
       "      <td>5196000.0</td>\n",
       "      <td>56.0</td>\n",
       "      <td>2015-08-20</td>\n",
       "      <td>2</td>\n",
       "      <td>NaN</td>\n",
       "      <td>5.0</td>\n",
       "      <td>34.3</td>\n",
       "      <td>4</td>\n",
       "      <td>False</td>\n",
       "      <td>False</td>\n",
       "      <td>False</td>\n",
       "      <td>8.3</td>\n",
       "      <td>0</td>\n",
       "      <td>санкт-петербург</td>\n",
       "      <td>21741.0</td>\n",
       "      <td>13933.0</td>\n",
       "      <td>1.0</td>\n",
       "      <td>90.0</td>\n",
       "      <td>2.0</td>\n",
       "      <td>574.0</td>\n",
       "      <td>558</td>\n",
       "      <td>92785.714286</td>\n",
       "      <td>четверг</td>\n",
       "      <td>8</td>\n",
       "      <td>2015</td>\n",
       "      <td>другой</td>\n",
       "      <td>0.612500</td>\n",
       "      <td>4.132530</td>\n",
       "      <td>14.0</td>\n",
       "    </tr>\n",
       "    <tr>\n",
       "      <th>3</th>\n",
       "      <td>4</td>\n",
       "      <td>2</td>\n",
       "      <td>10000000.0</td>\n",
       "      <td>100.0</td>\n",
       "      <td>2018-06-19</td>\n",
       "      <td>2</td>\n",
       "      <td>3.03</td>\n",
       "      <td>14.0</td>\n",
       "      <td>32.0</td>\n",
       "      <td>13</td>\n",
       "      <td>True</td>\n",
       "      <td>False</td>\n",
       "      <td>False</td>\n",
       "      <td>41.0</td>\n",
       "      <td>0</td>\n",
       "      <td>санкт-петербург</td>\n",
       "      <td>31856.0</td>\n",
       "      <td>8098.0</td>\n",
       "      <td>2.0</td>\n",
       "      <td>112.0</td>\n",
       "      <td>1.0</td>\n",
       "      <td>48.0</td>\n",
       "      <td>121</td>\n",
       "      <td>100000.000000</td>\n",
       "      <td>вторник</td>\n",
       "      <td>6</td>\n",
       "      <td>2018</td>\n",
       "      <td>другой</td>\n",
       "      <td>0.320000</td>\n",
       "      <td>0.780488</td>\n",
       "      <td>8.0</td>\n",
       "    </tr>\n",
       "    <tr>\n",
       "      <th>6</th>\n",
       "      <td>7</td>\n",
       "      <td>5</td>\n",
       "      <td>7915000.0</td>\n",
       "      <td>71.6</td>\n",
       "      <td>2019-04-18</td>\n",
       "      <td>2</td>\n",
       "      <td>NaN</td>\n",
       "      <td>24.0</td>\n",
       "      <td>44.3</td>\n",
       "      <td>22</td>\n",
       "      <td>True</td>\n",
       "      <td>False</td>\n",
       "      <td>False</td>\n",
       "      <td>18.9</td>\n",
       "      <td>2</td>\n",
       "      <td>санкт-петербург</td>\n",
       "      <td>23982.0</td>\n",
       "      <td>11634.0</td>\n",
       "      <td>0.0</td>\n",
       "      <td>NaN</td>\n",
       "      <td>0.0</td>\n",
       "      <td>NaN</td>\n",
       "      <td>&lt;NA&gt;</td>\n",
       "      <td>110544.692737</td>\n",
       "      <td>четверг</td>\n",
       "      <td>4</td>\n",
       "      <td>2019</td>\n",
       "      <td>другой</td>\n",
       "      <td>0.618715</td>\n",
       "      <td>2.343915</td>\n",
       "      <td>12.0</td>\n",
       "    </tr>\n",
       "    <tr>\n",
       "      <th>8</th>\n",
       "      <td>9</td>\n",
       "      <td>18</td>\n",
       "      <td>5400000.0</td>\n",
       "      <td>61.0</td>\n",
       "      <td>2017-02-26</td>\n",
       "      <td>3</td>\n",
       "      <td>2.50</td>\n",
       "      <td>9.0</td>\n",
       "      <td>43.6</td>\n",
       "      <td>7</td>\n",
       "      <td>True</td>\n",
       "      <td>False</td>\n",
       "      <td>False</td>\n",
       "      <td>6.5</td>\n",
       "      <td>2</td>\n",
       "      <td>санкт-петербург</td>\n",
       "      <td>50898.0</td>\n",
       "      <td>15008.0</td>\n",
       "      <td>0.0</td>\n",
       "      <td>NaN</td>\n",
       "      <td>0.0</td>\n",
       "      <td>NaN</td>\n",
       "      <td>289</td>\n",
       "      <td>88524.590164</td>\n",
       "      <td>воскресенье</td>\n",
       "      <td>2</td>\n",
       "      <td>2017</td>\n",
       "      <td>другой</td>\n",
       "      <td>0.714754</td>\n",
       "      <td>6.707692</td>\n",
       "      <td>15.0</td>\n",
       "    </tr>\n",
       "  </tbody>\n",
       "</table>\n",
       "</div>"
      ],
      "text/plain": [
       "   index  total_images  last_price  total_area first_day_exposition  rooms  \\\n",
       "0      0            20  13000000.0       108.0           2019-03-07      3   \n",
       "2      2            10   5196000.0        56.0           2015-08-20      2   \n",
       "3      4             2  10000000.0       100.0           2018-06-19      2   \n",
       "6      7             5   7915000.0        71.6           2019-04-18      2   \n",
       "8      9            18   5400000.0        61.0           2017-02-26      3   \n",
       "\n",
       "   ceiling_height  floors_total  living_area  floor  is_apartment  studio  \\\n",
       "0            2.70          16.0         51.0      8          True   False   \n",
       "2             NaN           5.0         34.3      4         False   False   \n",
       "3            3.03          14.0         32.0     13          True   False   \n",
       "6             NaN          24.0         44.3     22          True   False   \n",
       "8            2.50           9.0         43.6      7          True   False   \n",
       "\n",
       "   open_plan  kitchen_area  balcony    locality_name  airports_nearest  \\\n",
       "0      False          25.0        0  санкт-петербург           18863.0   \n",
       "2      False           8.3        0  санкт-петербург           21741.0   \n",
       "3      False          41.0        0  санкт-петербург           31856.0   \n",
       "6      False          18.9        2  санкт-петербург           23982.0   \n",
       "8      False           6.5        2  санкт-петербург           50898.0   \n",
       "\n",
       "   cityCenters_nearest  parks_around3000  parks_nearest  ponds_around3000  \\\n",
       "0              16028.0               1.0          482.0               2.0   \n",
       "2              13933.0               1.0           90.0               2.0   \n",
       "3               8098.0               2.0          112.0               1.0   \n",
       "6              11634.0               0.0            NaN               0.0   \n",
       "8              15008.0               0.0            NaN               0.0   \n",
       "\n",
       "   ponds_nearest  days_exposition  price_per_meter      weekday  month  year  \\\n",
       "0          755.0             <NA>    120370.370370      четверг      3  2019   \n",
       "2          574.0              558     92785.714286      четверг      8  2015   \n",
       "3           48.0              121    100000.000000      вторник      6  2018   \n",
       "6            NaN             <NA>    110544.692737      четверг      4  2019   \n",
       "8            NaN              289     88524.590164  воскресенье      2  2017   \n",
       "\n",
       "  floor_category  living_area_to_total  kitchen_area_to_total  \\\n",
       "0         другой              0.472222               2.040000   \n",
       "2         другой              0.612500               4.132530   \n",
       "3         другой              0.320000               0.780488   \n",
       "6         другой              0.618715               2.343915   \n",
       "8         другой              0.714754               6.707692   \n",
       "\n",
       "   cityCenters_nearest_km  \n",
       "0                    16.0  \n",
       "2                    14.0  \n",
       "3                     8.0  \n",
       "6                    12.0  \n",
       "8                    15.0  "
      ]
     },
     "execution_count": 58,
     "metadata": {},
     "output_type": "execute_result"
    }
   ],
   "source": [
    "# добавим столбец с округленным расстоянием до центра\n",
    "spb_data['cityCenters_nearest_km'] = round(real_estate_data[\n",
    "    'cityCenters_nearest'] / 1000)\n",
    "spb_data.head()"
   ]
  },
  {
   "cell_type": "code",
   "execution_count": 59,
   "metadata": {
    "scrolled": false
   },
   "outputs": [
    {
     "data": {
      "image/png": "[encoded data removed]",
      "text/plain": [
       "<Figure size 864x360 with 1 Axes>"
      ]
     },
     "metadata": {
      "needs_background": "light"
     },
     "output_type": "display_data"
    }
   ],
   "source": [
    "#посчитаем среднюю цену для каждого км и построим по ней график\n",
    "spb_data.pivot_table(index='cityCenters_nearest_km', values='price_per_meter', aggfunc= 'mean').plot(\n",
    "    kind='bar', ylim=(0, 150000), grid=True, title='Зависимость цены от удаленности от центра', \n",
    "    figsize=(12, 5))\n",
    "plt.show()"
   ]
  },
  {
   "cell_type": "markdown",
   "metadata": {},
   "source": [
    "Мы видим границу, где график значительно меняется - 8км, это и будет центральная зона."
   ]
  },
  {
   "cell_type": "markdown",
   "metadata": {},
   "source": [
    "### Проанализируем квартиры в центре.  "
   ]
  },
  {
   "cell_type": "markdown",
   "metadata": {},
   "source": [
    "#### Изучим следующие параметры: площадь, цена, число комнат, высота потолков."
   ]
  },
  {
   "cell_type": "code",
   "execution_count": 60,
   "metadata": {
    "scrolled": true
   },
   "outputs": [
    {
     "data": {
      "text/html": [
       "<div>\n",
       "<style scoped>\n",
       "    .dataframe tbody tr th:only-of-type {\n",
       "        vertical-align: middle;\n",
       "    }\n",
       "\n",
       "    .dataframe tbody tr th {\n",
       "        vertical-align: top;\n",
       "    }\n",
       "\n",
       "    .dataframe thead th {\n",
       "        text-align: right;\n",
       "    }\n",
       "</style>\n",
       "<table border=\"1\" class=\"dataframe\">\n",
       "  <thead>\n",
       "    <tr style=\"text-align: right;\">\n",
       "      <th></th>\n",
       "      <th>index</th>\n",
       "      <th>total_images</th>\n",
       "      <th>last_price</th>\n",
       "      <th>total_area</th>\n",
       "      <th>first_day_exposition</th>\n",
       "      <th>rooms</th>\n",
       "      <th>ceiling_height</th>\n",
       "      <th>floors_total</th>\n",
       "      <th>living_area</th>\n",
       "      <th>floor</th>\n",
       "      <th>is_apartment</th>\n",
       "      <th>studio</th>\n",
       "      <th>open_plan</th>\n",
       "      <th>kitchen_area</th>\n",
       "      <th>balcony</th>\n",
       "      <th>locality_name</th>\n",
       "      <th>airports_nearest</th>\n",
       "      <th>cityCenters_nearest</th>\n",
       "      <th>parks_around3000</th>\n",
       "      <th>parks_nearest</th>\n",
       "      <th>ponds_around3000</th>\n",
       "      <th>ponds_nearest</th>\n",
       "      <th>days_exposition</th>\n",
       "      <th>price_per_meter</th>\n",
       "      <th>weekday</th>\n",
       "      <th>month</th>\n",
       "      <th>year</th>\n",
       "      <th>floor_category</th>\n",
       "      <th>living_area_to_total</th>\n",
       "      <th>kitchen_area_to_total</th>\n",
       "      <th>cityCenters_nearest_km</th>\n",
       "    </tr>\n",
       "  </thead>\n",
       "  <tbody>\n",
       "    <tr>\n",
       "      <th>22</th>\n",
       "      <td>24</td>\n",
       "      <td>8</td>\n",
       "      <td>6500000.0</td>\n",
       "      <td>97.2</td>\n",
       "      <td>2015-10-31</td>\n",
       "      <td>2</td>\n",
       "      <td>NaN</td>\n",
       "      <td>3.0</td>\n",
       "      <td>46.5</td>\n",
       "      <td>1</td>\n",
       "      <td>False</td>\n",
       "      <td>False</td>\n",
       "      <td>False</td>\n",
       "      <td>19.6</td>\n",
       "      <td>0</td>\n",
       "      <td>санкт-петербург</td>\n",
       "      <td>20052.0</td>\n",
       "      <td>2336.0</td>\n",
       "      <td>3.0</td>\n",
       "      <td>411.0</td>\n",
       "      <td>3.0</td>\n",
       "      <td>124.0</td>\n",
       "      <td>265</td>\n",
       "      <td>66872.427984</td>\n",
       "      <td>суббота</td>\n",
       "      <td>10</td>\n",
       "      <td>2015</td>\n",
       "      <td>первый</td>\n",
       "      <td>0.478395</td>\n",
       "      <td>2.372449</td>\n",
       "      <td>2.0</td>\n",
       "    </tr>\n",
       "    <tr>\n",
       "      <th>55</th>\n",
       "      <td>61</td>\n",
       "      <td>18</td>\n",
       "      <td>7990000.0</td>\n",
       "      <td>74.0</td>\n",
       "      <td>2017-08-24</td>\n",
       "      <td>2</td>\n",
       "      <td>NaN</td>\n",
       "      <td>4.0</td>\n",
       "      <td>43.0</td>\n",
       "      <td>4</td>\n",
       "      <td>True</td>\n",
       "      <td>False</td>\n",
       "      <td>False</td>\n",
       "      <td>20.0</td>\n",
       "      <td>0</td>\n",
       "      <td>санкт-петербург</td>\n",
       "      <td>22568.0</td>\n",
       "      <td>4288.0</td>\n",
       "      <td>1.0</td>\n",
       "      <td>363.0</td>\n",
       "      <td>0.0</td>\n",
       "      <td>NaN</td>\n",
       "      <td>609</td>\n",
       "      <td>107972.972973</td>\n",
       "      <td>четверг</td>\n",
       "      <td>8</td>\n",
       "      <td>2017</td>\n",
       "      <td>последний</td>\n",
       "      <td>0.581081</td>\n",
       "      <td>2.150000</td>\n",
       "      <td>4.0</td>\n",
       "    </tr>\n",
       "    <tr>\n",
       "      <th>87</th>\n",
       "      <td>94</td>\n",
       "      <td>3</td>\n",
       "      <td>3500000.0</td>\n",
       "      <td>29.5</td>\n",
       "      <td>2019-04-26</td>\n",
       "      <td>1</td>\n",
       "      <td>2.5</td>\n",
       "      <td>5.0</td>\n",
       "      <td>15.6</td>\n",
       "      <td>2</td>\n",
       "      <td>True</td>\n",
       "      <td>False</td>\n",
       "      <td>False</td>\n",
       "      <td>5.5</td>\n",
       "      <td>1</td>\n",
       "      <td>санкт-петербург</td>\n",
       "      <td>12921.0</td>\n",
       "      <td>7303.0</td>\n",
       "      <td>0.0</td>\n",
       "      <td>NaN</td>\n",
       "      <td>0.0</td>\n",
       "      <td>NaN</td>\n",
       "      <td>4</td>\n",
       "      <td>118644.067797</td>\n",
       "      <td>пятница</td>\n",
       "      <td>4</td>\n",
       "      <td>2019</td>\n",
       "      <td>другой</td>\n",
       "      <td>0.528814</td>\n",
       "      <td>2.836364</td>\n",
       "      <td>7.0</td>\n",
       "    </tr>\n",
       "    <tr>\n",
       "      <th>91</th>\n",
       "      <td>99</td>\n",
       "      <td>32</td>\n",
       "      <td>9600000.0</td>\n",
       "      <td>90.0</td>\n",
       "      <td>2017-09-26</td>\n",
       "      <td>4</td>\n",
       "      <td>NaN</td>\n",
       "      <td>5.0</td>\n",
       "      <td>67.0</td>\n",
       "      <td>2</td>\n",
       "      <td>True</td>\n",
       "      <td>False</td>\n",
       "      <td>False</td>\n",
       "      <td>8.0</td>\n",
       "      <td>0</td>\n",
       "      <td>санкт-петербург</td>\n",
       "      <td>23277.0</td>\n",
       "      <td>2818.0</td>\n",
       "      <td>0.0</td>\n",
       "      <td>NaN</td>\n",
       "      <td>0.0</td>\n",
       "      <td>NaN</td>\n",
       "      <td>104</td>\n",
       "      <td>106666.666667</td>\n",
       "      <td>вторник</td>\n",
       "      <td>9</td>\n",
       "      <td>2017</td>\n",
       "      <td>другой</td>\n",
       "      <td>0.744444</td>\n",
       "      <td>8.375000</td>\n",
       "      <td>3.0</td>\n",
       "    </tr>\n",
       "    <tr>\n",
       "      <th>102</th>\n",
       "      <td>111</td>\n",
       "      <td>4</td>\n",
       "      <td>4590000.0</td>\n",
       "      <td>40.0</td>\n",
       "      <td>2017-05-29</td>\n",
       "      <td>1</td>\n",
       "      <td>NaN</td>\n",
       "      <td>6.0</td>\n",
       "      <td>18.0</td>\n",
       "      <td>1</td>\n",
       "      <td>False</td>\n",
       "      <td>False</td>\n",
       "      <td>False</td>\n",
       "      <td>10.0</td>\n",
       "      <td>0</td>\n",
       "      <td>санкт-петербург</td>\n",
       "      <td>20062.0</td>\n",
       "      <td>6175.0</td>\n",
       "      <td>1.0</td>\n",
       "      <td>241.0</td>\n",
       "      <td>0.0</td>\n",
       "      <td>NaN</td>\n",
       "      <td>31</td>\n",
       "      <td>114750.000000</td>\n",
       "      <td>понедельник</td>\n",
       "      <td>5</td>\n",
       "      <td>2017</td>\n",
       "      <td>первый</td>\n",
       "      <td>0.450000</td>\n",
       "      <td>1.800000</td>\n",
       "      <td>6.0</td>\n",
       "    </tr>\n",
       "  </tbody>\n",
       "</table>\n",
       "</div>"
      ],
      "text/plain": [
       "     index  total_images  last_price  total_area first_day_exposition  rooms  \\\n",
       "22      24             8   6500000.0        97.2           2015-10-31      2   \n",
       "55      61            18   7990000.0        74.0           2017-08-24      2   \n",
       "87      94             3   3500000.0        29.5           2019-04-26      1   \n",
       "91      99            32   9600000.0        90.0           2017-09-26      4   \n",
       "102    111             4   4590000.0        40.0           2017-05-29      1   \n",
       "\n",
       "     ceiling_height  floors_total  living_area  floor  is_apartment  studio  \\\n",
       "22              NaN           3.0         46.5      1         False   False   \n",
       "55              NaN           4.0         43.0      4          True   False   \n",
       "87              2.5           5.0         15.6      2          True   False   \n",
       "91              NaN           5.0         67.0      2          True   False   \n",
       "102             NaN           6.0         18.0      1         False   False   \n",
       "\n",
       "     open_plan  kitchen_area  balcony    locality_name  airports_nearest  \\\n",
       "22       False          19.6        0  санкт-петербург           20052.0   \n",
       "55       False          20.0        0  санкт-петербург           22568.0   \n",
       "87       False           5.5        1  санкт-петербург           12921.0   \n",
       "91       False           8.0        0  санкт-петербург           23277.0   \n",
       "102      False          10.0        0  санкт-петербург           20062.0   \n",
       "\n",
       "     cityCenters_nearest  parks_around3000  parks_nearest  ponds_around3000  \\\n",
       "22                2336.0               3.0          411.0               3.0   \n",
       "55                4288.0               1.0          363.0               0.0   \n",
       "87                7303.0               0.0            NaN               0.0   \n",
       "91                2818.0               0.0            NaN               0.0   \n",
       "102               6175.0               1.0          241.0               0.0   \n",
       "\n",
       "     ponds_nearest  days_exposition  price_per_meter      weekday  month  \\\n",
       "22           124.0              265     66872.427984      суббота     10   \n",
       "55             NaN              609    107972.972973      четверг      8   \n",
       "87             NaN                4    118644.067797      пятница      4   \n",
       "91             NaN              104    106666.666667      вторник      9   \n",
       "102            NaN               31    114750.000000  понедельник      5   \n",
       "\n",
       "     year floor_category  living_area_to_total  kitchen_area_to_total  \\\n",
       "22   2015         первый              0.478395               2.372449   \n",
       "55   2017      последний              0.581081               2.150000   \n",
       "87   2019         другой              0.528814               2.836364   \n",
       "91   2017         другой              0.744444               8.375000   \n",
       "102  2017         первый              0.450000               1.800000   \n",
       "\n",
       "     cityCenters_nearest_km  \n",
       "22                      2.0  \n",
       "55                      4.0  \n",
       "87                      7.0  \n",
       "91                      3.0  \n",
       "102                     6.0  "
      ]
     },
     "execution_count": 60,
     "metadata": {},
     "output_type": "execute_result"
    }
   ],
   "source": [
    "#выделим сегмент квартир в центре\n",
    "spb_data_center = spb_data.query('cityCenters_nearest_km < 8')\n",
    "spb_data_center.head()"
   ]
  },
  {
   "cell_type": "code",
   "execution_count": 61,
   "metadata": {
    "scrolled": true
   },
   "outputs": [
    {
     "data": {
      "text/plain": [
       "count    2455.000000\n",
       "mean       67.286098\n",
       "std        21.606850\n",
       "min        12.000000\n",
       "25%        50.000000\n",
       "50%        66.200000\n",
       "75%        83.800000\n",
       "max       114.600000\n",
       "Name: total_area, dtype: float64"
      ]
     },
     "metadata": {},
     "output_type": "display_data"
    },
    {
     "data": {
      "text/plain": [
       "count    14079.000000\n",
       "mean        55.704388\n",
       "std         19.436761\n",
       "min         12.000000\n",
       "25%         41.000000\n",
       "50%         52.000000\n",
       "75%         67.400000\n",
       "max        114.600000\n",
       "Name: total_area, dtype: float64"
      ]
     },
     "metadata": {},
     "output_type": "display_data"
    }
   ],
   "source": [
    "#посмотрим основую инфу о площадях квартир\n",
    "display(spb_data_center['total_area'].describe())\n",
    "display(spb_data['total_area'].describe())"
   ]
  },
  {
   "cell_type": "markdown",
   "metadata": {},
   "source": [
    "Стандартное отклонение высокое, значит наша выборка очень неоднородна"
   ]
  },
  {
   "cell_type": "code",
   "execution_count": 62,
   "metadata": {
    "scrolled": false
   },
   "outputs": [
    {
     "data": {
      "image/png": "[encoded data removed]",
      "text/plain": [
       "<Figure size 432x288 with 1 Axes>"
      ]
     },
     "metadata": {
      "needs_background": "light"
     },
     "output_type": "display_data"
    },
    {
     "data": {
      "image/png": "[encoded data removed]",
      "text/plain": [
       "<Figure size 432x288 with 1 Axes>"
      ]
     },
     "metadata": {
      "needs_background": "light"
     },
     "output_type": "display_data"
    }
   ],
   "source": [
    "spb_data_center['total_area'].hist(bins=50)\n",
    "plt.title('площадь квартир в центре')\n",
    "plt.show()\n",
    "spb_data['total_area'].hist(bins=50)\n",
    "plt.title('площадь квартир по всему городу')\n",
    "plt.show()"
   ]
  },
  {
   "cell_type": "markdown",
   "metadata": {},
   "source": [
    "Центр: Средняя площадь продаваемых квартир - 67кв.м. Реже всего продаются квартиры, метражем до 30м. Есть несколько пиков в 45м, 60м, и 70м.\n",
    "\n",
    "Весь город: Средняя площадь продаваемых квартир - 56кв.м. Реже всего продаются квартиры также до 30м и больше 100м. Чаще всего - в районе 45кв.м\n",
    "\n",
    "В центре продавалось больше квартир с большей площадью, чем по Питеру в целом."
   ]
  },
  {
   "cell_type": "code",
   "execution_count": 63,
   "metadata": {
    "scrolled": false
   },
   "outputs": [
    {
     "data": {
      "text/plain": [
       "count    2.455000e+03\n",
       "mean     7.981297e+06\n",
       "std      2.686922e+06\n",
       "min      1.600000e+06\n",
       "25%      5.990000e+06\n",
       "50%      7.600000e+06\n",
       "75%      9.608300e+06\n",
       "max      1.499900e+07\n",
       "Name: last_price, dtype: float64"
      ]
     },
     "metadata": {},
     "output_type": "display_data"
    },
    {
     "data": {
      "text/plain": [
       "count    1.407900e+04\n",
       "mean     5.949958e+06\n",
       "std      2.509881e+06\n",
       "min      1.219000e+04\n",
       "25%      4.100000e+06\n",
       "50%      5.240000e+06\n",
       "75%      7.100000e+06\n",
       "max      1.499900e+07\n",
       "Name: last_price, dtype: float64"
      ]
     },
     "metadata": {},
     "output_type": "display_data"
    }
   ],
   "source": [
    "#посмотрим данные о цене\n",
    "display(spb_data_center['last_price'].describe())\n",
    "display(spb_data['last_price'].describe())"
   ]
  },
  {
   "cell_type": "code",
   "execution_count": 64,
   "metadata": {
    "scrolled": false
   },
   "outputs": [
    {
     "data": {
      "image/png": "[encoded data removed]",
      "text/plain": [
       "<Figure size 432x288 with 1 Axes>"
      ]
     },
     "metadata": {
      "needs_background": "light"
     },
     "output_type": "display_data"
    },
    {
     "data": {
      "image/png": "[encoded data removed]",
      "text/plain": [
       "<Figure size 432x288 with 1 Axes>"
      ]
     },
     "metadata": {
      "needs_background": "light"
     },
     "output_type": "display_data"
    }
   ],
   "source": [
    "spb_data_center['last_price'].hist(bins=50)\n",
    "plt.title('цены на квартиры в центре')\n",
    "plt.show() \n",
    "spb_data['last_price'].hist(bins=50)\n",
    "plt.title('цены на квартиры по всему городу')\n",
    "plt.show()"
   ]
  },
  {
   "cell_type": "markdown",
   "metadata": {},
   "source": [
    "Центр: средняя цена квартиры - 7.99млн рублей. Реже всего продавались квартиры ценой до 3млн. В данных много пиковых значений.\n",
    "\n",
    "Весь город: средняя цена квартиры - 5.95млн рублей. Меньше всего было продано очень дешевых квартир, стоимостью до 2.5млн и очень дорогих квартир, стоимостью от 12млн. Чаще всего продавались квартиры по 4млн.\n",
    "\n",
    "Общая тенденция - в центре продаются более дорогие квартиры, нежели в Питере в целом."
   ]
  },
  {
   "cell_type": "code",
   "execution_count": 65,
   "metadata": {
    "scrolled": true
   },
   "outputs": [
    {
     "data": {
      "text/plain": [
       "count    2455.000000\n",
       "mean        2.346640\n",
       "std         0.951559\n",
       "min         1.000000\n",
       "25%         2.000000\n",
       "50%         2.000000\n",
       "75%         3.000000\n",
       "max         5.000000\n",
       "Name: rooms, dtype: float64"
      ]
     },
     "metadata": {},
     "output_type": "display_data"
    },
    {
     "data": {
      "text/plain": [
       "count    14079.000000\n",
       "mean         2.000639\n",
       "std          0.896988\n",
       "min          1.000000\n",
       "25%          1.000000\n",
       "50%          2.000000\n",
       "75%          3.000000\n",
       "max          5.000000\n",
       "Name: rooms, dtype: float64"
      ]
     },
     "metadata": {},
     "output_type": "display_data"
    }
   ],
   "source": [
    "#изучим данные о количестве комнат\n",
    "display(spb_data_center['rooms'].describe())\n",
    "display(spb_data['rooms'].describe())"
   ]
  },
  {
   "cell_type": "code",
   "execution_count": 66,
   "metadata": {
    "scrolled": true
   },
   "outputs": [
    {
     "data": {
      "image/png": "[encoded data removed]",
      "text/plain": [
       "<Figure size 432x288 with 1 Axes>"
      ]
     },
     "metadata": {
      "needs_background": "light"
     },
     "output_type": "display_data"
    },
    {
     "data": {
      "image/png": "[encoded data removed]",
      "text/plain": [
       "<Figure size 432x288 with 1 Axes>"
      ]
     },
     "metadata": {
      "needs_background": "light"
     },
     "output_type": "display_data"
    }
   ],
   "source": [
    "spb_data_center['rooms'].hist(bins=5)\n",
    "plt.title('количество комнат в квартирах в центре')\n",
    "plt.show()\n",
    "spb_data['rooms'].hist(bins=5)\n",
    "plt.title('количество комнат в квартирах по всему городу')\n",
    "plt.show()"
   ]
  },
  {
   "cell_type": "markdown",
   "metadata": {},
   "source": [
    "Центр: Чаще всего продаются двух- и трехкомнатыне квартиры. Реже всего четырехкомнатные и пятикомнатные.\n",
    "\n",
    "Весь город: Чаще всего продаются однокомнатные и двухкомнатные квартиры. Реже - квартиры с 4 или 5 комнатами.\n",
    "\n",
    "В центре продается гораздо меньше однокомнатных квартир, нежели по Питеру в целом."
   ]
  },
  {
   "cell_type": "code",
   "execution_count": 67,
   "metadata": {
    "scrolled": true
   },
   "outputs": [
    {
     "data": {
      "text/plain": [
       "count    1560.000000\n",
       "mean        3.057455\n",
       "std         1.011614\n",
       "min         2.400000\n",
       "25%         2.757500\n",
       "50%         3.000000\n",
       "75%         3.200000\n",
       "max        32.000000\n",
       "Name: ceiling_height, dtype: float64"
      ]
     },
     "metadata": {},
     "output_type": "display_data"
    },
    {
     "data": {
      "text/plain": [
       "count    9005.000000\n",
       "mean        2.753092\n",
       "std         0.896146\n",
       "min         1.000000\n",
       "25%         2.540000\n",
       "50%         2.650000\n",
       "75%         2.800000\n",
       "max        32.000000\n",
       "Name: ceiling_height, dtype: float64"
      ]
     },
     "metadata": {},
     "output_type": "display_data"
    }
   ],
   "source": [
    "display(spb_data_center['ceiling_height'].describe())\n",
    "display(spb_data['ceiling_height'].describe())"
   ]
  },
  {
   "cell_type": "code",
   "execution_count": 68,
   "metadata": {
    "scrolled": true
   },
   "outputs": [
    {
     "data": {
      "image/png": "[encoded data removed]",
      "text/plain": [
       "<Figure size 432x288 with 1 Axes>"
      ]
     },
     "metadata": {
      "needs_background": "light"
     },
     "output_type": "display_data"
    },
    {
     "data": {
      "image/png": "[encoded data removed]",
      "text/plain": [
       "<Figure size 432x288 with 1 Axes>"
      ]
     },
     "metadata": {
      "needs_background": "light"
     },
     "output_type": "display_data"
    }
   ],
   "source": [
    "spb_data_center['ceiling_height'].hist(bins=10, range=(2,6))\n",
    "plt.title('высота потолков в центре')\n",
    "plt.show()\n",
    "spb_data['ceiling_height'].hist(bins=10, range=(2,6))\n",
    "plt.title('высота потолков по всему городу')\n",
    "plt.show()\n"
   ]
  },
  {
   "cell_type": "markdown",
   "metadata": {},
   "source": [
    "Центр: Средняя высота потолка 3м. Чаще всего встречаются квартиры с потолками от 2.8 до 3.2м\n",
    "\n",
    "Весь город: Средняя высота потолка 2.75. Чаще всего встречаются квартиры с потолками от 2.4 до 2.8м\n",
    "\n",
    "У квартир в центре высота потолков больше, чем у  квартир по всему городу в целом."
   ]
  },
  {
   "cell_type": "markdown",
   "metadata": {},
   "source": [
    "#### Выделим факторы, которые влияют на стоимость квартиры (число комнат, этаж, удалённость от центра, дата размещения объявления)."
   ]
  },
  {
   "cell_type": "code",
   "execution_count": 69,
   "metadata": {
    "scrolled": false
   },
   "outputs": [
    {
     "data": {
      "text/html": [
       "<div>\n",
       "<style scoped>\n",
       "    .dataframe tbody tr th:only-of-type {\n",
       "        vertical-align: middle;\n",
       "    }\n",
       "\n",
       "    .dataframe tbody tr th {\n",
       "        vertical-align: top;\n",
       "    }\n",
       "\n",
       "    .dataframe thead tr th {\n",
       "        text-align: left;\n",
       "    }\n",
       "</style>\n",
       "<table border=\"1\" class=\"dataframe\">\n",
       "  <thead>\n",
       "    <tr>\n",
       "      <th></th>\n",
       "      <th>floor_category</th>\n",
       "      <th>sum</th>\n",
       "      <th>count</th>\n",
       "      <th>price_by_floor_category, %</th>\n",
       "    </tr>\n",
       "    <tr>\n",
       "      <th></th>\n",
       "      <th></th>\n",
       "      <th>last_price</th>\n",
       "      <th>last_price</th>\n",
       "      <th></th>\n",
       "    </tr>\n",
       "  </thead>\n",
       "  <tbody>\n",
       "    <tr>\n",
       "      <th>0</th>\n",
       "      <td>другой</td>\n",
       "      <td>1.409847e+10</td>\n",
       "      <td>1710</td>\n",
       "      <td>8.244722e+08</td>\n",
       "    </tr>\n",
       "    <tr>\n",
       "      <th>1</th>\n",
       "      <td>первый</td>\n",
       "      <td>2.171097e+09</td>\n",
       "      <td>325</td>\n",
       "      <td>6.680300e+08</td>\n",
       "    </tr>\n",
       "    <tr>\n",
       "      <th>2</th>\n",
       "      <td>последний</td>\n",
       "      <td>3.324512e+09</td>\n",
       "      <td>420</td>\n",
       "      <td>7.915505e+08</td>\n",
       "    </tr>\n",
       "  </tbody>\n",
       "</table>\n",
       "</div>"
      ],
      "text/plain": [
       "  floor_category           sum      count price_by_floor_category, %\n",
       "                    last_price last_price                           \n",
       "0         другой  1.409847e+10       1710               8.244722e+08\n",
       "1         первый  2.171097e+09        325               6.680300e+08\n",
       "2      последний  3.324512e+09        420               7.915505e+08"
      ]
     },
     "metadata": {},
     "output_type": "display_data"
    },
    {
     "data": {
      "text/html": [
       "<div>\n",
       "<style scoped>\n",
       "    .dataframe tbody tr th:only-of-type {\n",
       "        vertical-align: middle;\n",
       "    }\n",
       "\n",
       "    .dataframe tbody tr th {\n",
       "        vertical-align: top;\n",
       "    }\n",
       "\n",
       "    .dataframe thead tr th {\n",
       "        text-align: left;\n",
       "    }\n",
       "</style>\n",
       "<table border=\"1\" class=\"dataframe\">\n",
       "  <thead>\n",
       "    <tr>\n",
       "      <th></th>\n",
       "      <th>floor_category</th>\n",
       "      <th>sum</th>\n",
       "      <th>count</th>\n",
       "      <th>price_by_floor_category, %</th>\n",
       "    </tr>\n",
       "    <tr>\n",
       "      <th></th>\n",
       "      <th></th>\n",
       "      <th>last_price</th>\n",
       "      <th>last_price</th>\n",
       "      <th></th>\n",
       "    </tr>\n",
       "  </thead>\n",
       "  <tbody>\n",
       "    <tr>\n",
       "      <th>0</th>\n",
       "      <td>другой</td>\n",
       "      <td>6.631841e+10</td>\n",
       "      <td>10952</td>\n",
       "      <td>6.055369e+08</td>\n",
       "    </tr>\n",
       "    <tr>\n",
       "      <th>1</th>\n",
       "      <td>первый</td>\n",
       "      <td>7.841965e+09</td>\n",
       "      <td>1504</td>\n",
       "      <td>5.214072e+08</td>\n",
       "    </tr>\n",
       "    <tr>\n",
       "      <th>2</th>\n",
       "      <td>последний</td>\n",
       "      <td>9.609088e+09</td>\n",
       "      <td>1623</td>\n",
       "      <td>5.920572e+08</td>\n",
       "    </tr>\n",
       "  </tbody>\n",
       "</table>\n",
       "</div>"
      ],
      "text/plain": [
       "  floor_category           sum      count price_by_floor_category, %\n",
       "                    last_price last_price                           \n",
       "0         другой  6.631841e+10      10952               6.055369e+08\n",
       "1         первый  7.841965e+09       1504               5.214072e+08\n",
       "2      последний  9.609088e+09       1623               5.920572e+08"
      ]
     },
     "metadata": {},
     "output_type": "display_data"
    }
   ],
   "source": [
    "# оценим как этаж влияет на стоимость квартиры\n",
    "floor_category_spb_data_center = spb_data_center.pivot_table(\n",
    "    index = ['floor_category'] , values = 'last_price', aggfunc = [\n",
    "        'sum', 'count']).reset_index()\n",
    "\n",
    "floor_category_spb_data_center['price_by_floor_category, %'] = floor_category_spb_data_center[\n",
    "    'sum'] / floor_category_spb_data_center['count'] *100\n",
    "display(floor_category_spb_data_center.head()) \n",
    "\n",
    "\n",
    "floor_category_spb_data = spb_data.pivot_table(\n",
    "    index = ['floor_category'] , values = 'last_price', aggfunc = [\n",
    "        'sum', 'count']).reset_index()\n",
    "\n",
    "floor_category_spb_data['price_by_floor_category, %'] = floor_category_spb_data[\n",
    "    'sum'] / floor_category_spb_data['count'] *100\n",
    "display(floor_category_spb_data.head()) "
   ]
  },
  {
   "cell_type": "markdown",
   "metadata": {},
   "source": [
    "Центр: Самые дорогие квартиры на промежуточных и последних этажах, на первых квартиры значительно дешевле.\n",
    "\n",
    "Весь город: Самые дорогие квартиры тоже на промежуточных и последних этажах, а на первых квартиры  дешевле.\n",
    "\n",
    "Ситуация в центре и в Питере похожая."
   ]
  },
  {
   "cell_type": "code",
   "execution_count": 70,
   "metadata": {
    "scrolled": false
   },
   "outputs": [
    {
     "data": {
      "text/html": [
       "<div>\n",
       "<style scoped>\n",
       "    .dataframe tbody tr th:only-of-type {\n",
       "        vertical-align: middle;\n",
       "    }\n",
       "\n",
       "    .dataframe tbody tr th {\n",
       "        vertical-align: top;\n",
       "    }\n",
       "\n",
       "    .dataframe thead tr th {\n",
       "        text-align: left;\n",
       "    }\n",
       "</style>\n",
       "<table border=\"1\" class=\"dataframe\">\n",
       "  <thead>\n",
       "    <tr>\n",
       "      <th></th>\n",
       "      <th>year</th>\n",
       "      <th>sum</th>\n",
       "      <th>count</th>\n",
       "      <th>price_by_year, %</th>\n",
       "    </tr>\n",
       "    <tr>\n",
       "      <th></th>\n",
       "      <th></th>\n",
       "      <th>last_price</th>\n",
       "      <th>last_price</th>\n",
       "      <th></th>\n",
       "    </tr>\n",
       "  </thead>\n",
       "  <tbody>\n",
       "    <tr>\n",
       "      <th>0</th>\n",
       "      <td>2014</td>\n",
       "      <td>6.886400e+07</td>\n",
       "      <td>9</td>\n",
       "      <td>7.651556e+08</td>\n",
       "    </tr>\n",
       "    <tr>\n",
       "      <th>1</th>\n",
       "      <td>2015</td>\n",
       "      <td>1.657185e+09</td>\n",
       "      <td>200</td>\n",
       "      <td>8.285923e+08</td>\n",
       "    </tr>\n",
       "    <tr>\n",
       "      <th>2</th>\n",
       "      <td>2016</td>\n",
       "      <td>2.726314e+09</td>\n",
       "      <td>338</td>\n",
       "      <td>8.066018e+08</td>\n",
       "    </tr>\n",
       "    <tr>\n",
       "      <th>3</th>\n",
       "      <td>2017</td>\n",
       "      <td>7.006223e+09</td>\n",
       "      <td>882</td>\n",
       "      <td>7.943564e+08</td>\n",
       "    </tr>\n",
       "    <tr>\n",
       "      <th>4</th>\n",
       "      <td>2018</td>\n",
       "      <td>6.051932e+09</td>\n",
       "      <td>768</td>\n",
       "      <td>7.880120e+08</td>\n",
       "    </tr>\n",
       "    <tr>\n",
       "      <th>5</th>\n",
       "      <td>2019</td>\n",
       "      <td>2.083566e+09</td>\n",
       "      <td>258</td>\n",
       "      <td>8.075836e+08</td>\n",
       "    </tr>\n",
       "  </tbody>\n",
       "</table>\n",
       "</div>"
      ],
      "text/plain": [
       "   year           sum      count price_by_year, %\n",
       "           last_price last_price                 \n",
       "0  2014  6.886400e+07          9     7.651556e+08\n",
       "1  2015  1.657185e+09        200     8.285923e+08\n",
       "2  2016  2.726314e+09        338     8.066018e+08\n",
       "3  2017  7.006223e+09        882     7.943564e+08\n",
       "4  2018  6.051932e+09        768     7.880120e+08\n",
       "5  2019  2.083566e+09        258     8.075836e+08"
      ]
     },
     "metadata": {},
     "output_type": "display_data"
    },
    {
     "data": {
      "text/html": [
       "<div>\n",
       "<style scoped>\n",
       "    .dataframe tbody tr th:only-of-type {\n",
       "        vertical-align: middle;\n",
       "    }\n",
       "\n",
       "    .dataframe tbody tr th {\n",
       "        vertical-align: top;\n",
       "    }\n",
       "\n",
       "    .dataframe thead tr th {\n",
       "        text-align: left;\n",
       "    }\n",
       "</style>\n",
       "<table border=\"1\" class=\"dataframe\">\n",
       "  <thead>\n",
       "    <tr>\n",
       "      <th></th>\n",
       "      <th>year</th>\n",
       "      <th>sum</th>\n",
       "      <th>count</th>\n",
       "      <th>price_by_year, %</th>\n",
       "    </tr>\n",
       "    <tr>\n",
       "      <th></th>\n",
       "      <th></th>\n",
       "      <th>last_price</th>\n",
       "      <th>last_price</th>\n",
       "      <th></th>\n",
       "    </tr>\n",
       "  </thead>\n",
       "  <tbody>\n",
       "    <tr>\n",
       "      <th>0</th>\n",
       "      <td>2014</td>\n",
       "      <td>5.244631e+08</td>\n",
       "      <td>65</td>\n",
       "      <td>8.068663e+08</td>\n",
       "    </tr>\n",
       "    <tr>\n",
       "      <th>1</th>\n",
       "      <td>2015</td>\n",
       "      <td>4.470381e+09</td>\n",
       "      <td>705</td>\n",
       "      <td>6.340966e+08</td>\n",
       "    </tr>\n",
       "    <tr>\n",
       "      <th>2</th>\n",
       "      <td>2016</td>\n",
       "      <td>9.586792e+09</td>\n",
       "      <td>1645</td>\n",
       "      <td>5.827837e+08</td>\n",
       "    </tr>\n",
       "    <tr>\n",
       "      <th>3</th>\n",
       "      <td>2017</td>\n",
       "      <td>2.865755e+10</td>\n",
       "      <td>4941</td>\n",
       "      <td>5.799950e+08</td>\n",
       "    </tr>\n",
       "    <tr>\n",
       "      <th>4</th>\n",
       "      <td>2018</td>\n",
       "      <td>2.919329e+10</td>\n",
       "      <td>4913</td>\n",
       "      <td>5.942050e+08</td>\n",
       "    </tr>\n",
       "    <tr>\n",
       "      <th>5</th>\n",
       "      <td>2019</td>\n",
       "      <td>1.133698e+10</td>\n",
       "      <td>1810</td>\n",
       "      <td>6.263525e+08</td>\n",
       "    </tr>\n",
       "  </tbody>\n",
       "</table>\n",
       "</div>"
      ],
      "text/plain": [
       "   year           sum      count price_by_year, %\n",
       "           last_price last_price                 \n",
       "0  2014  5.244631e+08         65     8.068663e+08\n",
       "1  2015  4.470381e+09        705     6.340966e+08\n",
       "2  2016  9.586792e+09       1645     5.827837e+08\n",
       "3  2017  2.865755e+10       4941     5.799950e+08\n",
       "4  2018  2.919329e+10       4913     5.942050e+08\n",
       "5  2019  1.133698e+10       1810     6.263525e+08"
      ]
     },
     "metadata": {},
     "output_type": "display_data"
    }
   ],
   "source": [
    "year_data_spb_center = spb_data_center.pivot_table(\n",
    "    index = ['year'] , values = 'last_price', aggfunc = ['sum', 'count']).reset_index()\n",
    "year_data_spb_center['price_by_year, %'] = year_data_spb_center[\n",
    "    'sum'] / year_data_spb_center['count'] *100\n",
    "display(year_data_spb_center) \n",
    "\n",
    "year_data_spb = spb_data.pivot_table(\n",
    "    index = ['year'] , values = 'last_price', aggfunc = ['sum', 'count']).reset_index()\n",
    "year_data_spb['price_by_year, %'] = year_data_spb['sum'] / year_data_spb['count'] *100\n",
    "display(year_data_spb)"
   ]
  },
  {
   "cell_type": "code",
   "execution_count": 71,
   "metadata": {
    "scrolled": true
   },
   "outputs": [
    {
     "data": {
      "image/png": "[encoded data removed]",
      "text/plain": [
       "<Figure size 720x288 with 1 Axes>"
      ]
     },
     "metadata": {
      "needs_background": "light"
     },
     "output_type": "display_data"
    },
    {
     "data": {
      "image/png": "[encoded data removed]",
      "text/plain": [
       "<Figure size 720x288 with 1 Axes>"
      ]
     },
     "metadata": {
      "needs_background": "light"
     },
     "output_type": "display_data"
    }
   ],
   "source": [
    "year_data_spb_center.plot(x='year', y='price_by_year, %', kind='bar', grid=True,figsize=(10, 4)) \n",
    "plt.title('зависимость цены от года публикации объявления')\n",
    "plt.show()\n",
    "\n",
    "year_data_spb.plot(x='year', y='price_by_year, %', kind='bar', grid=True, figsize=(10, 4)) \n",
    "plt.title('зависимость цены от года публикации объявления')\n",
    "plt.show()"
   ]
  },
  {
   "cell_type": "markdown",
   "metadata": {},
   "source": [
    "Корреляция очень незначительная."
   ]
  },
  {
   "cell_type": "code",
   "execution_count": 72,
   "metadata": {
    "scrolled": true
   },
   "outputs": [
    {
     "data": {
      "text/html": [
       "<div>\n",
       "<style scoped>\n",
       "    .dataframe tbody tr th:only-of-type {\n",
       "        vertical-align: middle;\n",
       "    }\n",
       "\n",
       "    .dataframe tbody tr th {\n",
       "        vertical-align: top;\n",
       "    }\n",
       "\n",
       "    .dataframe thead tr th {\n",
       "        text-align: left;\n",
       "    }\n",
       "</style>\n",
       "<table border=\"1\" class=\"dataframe\">\n",
       "  <thead>\n",
       "    <tr>\n",
       "      <th></th>\n",
       "      <th>month</th>\n",
       "      <th>sum</th>\n",
       "      <th>count</th>\n",
       "      <th>price_by_month, %</th>\n",
       "    </tr>\n",
       "    <tr>\n",
       "      <th></th>\n",
       "      <th></th>\n",
       "      <th>last_price</th>\n",
       "      <th>last_price</th>\n",
       "      <th></th>\n",
       "    </tr>\n",
       "  </thead>\n",
       "  <tbody>\n",
       "    <tr>\n",
       "      <th>0</th>\n",
       "      <td>1</td>\n",
       "      <td>1.106004e+09</td>\n",
       "      <td>136</td>\n",
       "      <td>8.132381e+08</td>\n",
       "    </tr>\n",
       "    <tr>\n",
       "      <th>1</th>\n",
       "      <td>2</td>\n",
       "      <td>2.056948e+09</td>\n",
       "      <td>255</td>\n",
       "      <td>8.066462e+08</td>\n",
       "    </tr>\n",
       "    <tr>\n",
       "      <th>2</th>\n",
       "      <td>3</td>\n",
       "      <td>2.109002e+09</td>\n",
       "      <td>262</td>\n",
       "      <td>8.049626e+08</td>\n",
       "    </tr>\n",
       "    <tr>\n",
       "      <th>3</th>\n",
       "      <td>4</td>\n",
       "      <td>1.901846e+09</td>\n",
       "      <td>237</td>\n",
       "      <td>8.024667e+08</td>\n",
       "    </tr>\n",
       "    <tr>\n",
       "      <th>4</th>\n",
       "      <td>5</td>\n",
       "      <td>1.154241e+09</td>\n",
       "      <td>147</td>\n",
       "      <td>7.851979e+08</td>\n",
       "    </tr>\n",
       "    <tr>\n",
       "      <th>5</th>\n",
       "      <td>6</td>\n",
       "      <td>1.557418e+09</td>\n",
       "      <td>201</td>\n",
       "      <td>7.748347e+08</td>\n",
       "    </tr>\n",
       "    <tr>\n",
       "      <th>6</th>\n",
       "      <td>7</td>\n",
       "      <td>1.455465e+09</td>\n",
       "      <td>185</td>\n",
       "      <td>7.867379e+08</td>\n",
       "    </tr>\n",
       "    <tr>\n",
       "      <th>7</th>\n",
       "      <td>8</td>\n",
       "      <td>1.484168e+09</td>\n",
       "      <td>187</td>\n",
       "      <td>7.936726e+08</td>\n",
       "    </tr>\n",
       "    <tr>\n",
       "      <th>8</th>\n",
       "      <td>9</td>\n",
       "      <td>1.924745e+09</td>\n",
       "      <td>224</td>\n",
       "      <td>8.592613e+08</td>\n",
       "    </tr>\n",
       "    <tr>\n",
       "      <th>9</th>\n",
       "      <td>10</td>\n",
       "      <td>1.693335e+09</td>\n",
       "      <td>215</td>\n",
       "      <td>7.875978e+08</td>\n",
       "    </tr>\n",
       "    <tr>\n",
       "      <th>10</th>\n",
       "      <td>11</td>\n",
       "      <td>1.875359e+09</td>\n",
       "      <td>235</td>\n",
       "      <td>7.980252e+08</td>\n",
       "    </tr>\n",
       "    <tr>\n",
       "      <th>11</th>\n",
       "      <td>12</td>\n",
       "      <td>1.275553e+09</td>\n",
       "      <td>171</td>\n",
       "      <td>7.459374e+08</td>\n",
       "    </tr>\n",
       "  </tbody>\n",
       "</table>\n",
       "</div>"
      ],
      "text/plain": [
       "   month           sum      count price_by_month, %\n",
       "            last_price last_price                  \n",
       "0      1  1.106004e+09        136      8.132381e+08\n",
       "1      2  2.056948e+09        255      8.066462e+08\n",
       "2      3  2.109002e+09        262      8.049626e+08\n",
       "3      4  1.901846e+09        237      8.024667e+08\n",
       "4      5  1.154241e+09        147      7.851979e+08\n",
       "5      6  1.557418e+09        201      7.748347e+08\n",
       "6      7  1.455465e+09        185      7.867379e+08\n",
       "7      8  1.484168e+09        187      7.936726e+08\n",
       "8      9  1.924745e+09        224      8.592613e+08\n",
       "9     10  1.693335e+09        215      7.875978e+08\n",
       "10    11  1.875359e+09        235      7.980252e+08\n",
       "11    12  1.275553e+09        171      7.459374e+08"
      ]
     },
     "metadata": {},
     "output_type": "display_data"
    },
    {
     "data": {
      "text/html": [
       "<div>\n",
       "<style scoped>\n",
       "    .dataframe tbody tr th:only-of-type {\n",
       "        vertical-align: middle;\n",
       "    }\n",
       "\n",
       "    .dataframe tbody tr th {\n",
       "        vertical-align: top;\n",
       "    }\n",
       "\n",
       "    .dataframe thead tr th {\n",
       "        text-align: left;\n",
       "    }\n",
       "</style>\n",
       "<table border=\"1\" class=\"dataframe\">\n",
       "  <thead>\n",
       "    <tr>\n",
       "      <th></th>\n",
       "      <th>month</th>\n",
       "      <th>sum</th>\n",
       "      <th>count</th>\n",
       "      <th>price_by_month, %</th>\n",
       "    </tr>\n",
       "    <tr>\n",
       "      <th></th>\n",
       "      <th></th>\n",
       "      <th>last_price</th>\n",
       "      <th>last_price</th>\n",
       "      <th></th>\n",
       "    </tr>\n",
       "  </thead>\n",
       "  <tbody>\n",
       "    <tr>\n",
       "      <th>0</th>\n",
       "      <td>1</td>\n",
       "      <td>4.933867e+09</td>\n",
       "      <td>820</td>\n",
       "      <td>6.016911e+08</td>\n",
       "    </tr>\n",
       "    <tr>\n",
       "      <th>1</th>\n",
       "      <td>2</td>\n",
       "      <td>9.208080e+09</td>\n",
       "      <td>1554</td>\n",
       "      <td>5.925406e+08</td>\n",
       "    </tr>\n",
       "    <tr>\n",
       "      <th>2</th>\n",
       "      <td>3</td>\n",
       "      <td>9.099292e+09</td>\n",
       "      <td>1521</td>\n",
       "      <td>5.982441e+08</td>\n",
       "    </tr>\n",
       "    <tr>\n",
       "      <th>3</th>\n",
       "      <td>4</td>\n",
       "      <td>8.922110e+09</td>\n",
       "      <td>1479</td>\n",
       "      <td>6.032529e+08</td>\n",
       "    </tr>\n",
       "    <tr>\n",
       "      <th>4</th>\n",
       "      <td>5</td>\n",
       "      <td>4.516793e+09</td>\n",
       "      <td>765</td>\n",
       "      <td>5.904305e+08</td>\n",
       "    </tr>\n",
       "    <tr>\n",
       "      <th>5</th>\n",
       "      <td>6</td>\n",
       "      <td>5.929475e+09</td>\n",
       "      <td>1028</td>\n",
       "      <td>5.767972e+08</td>\n",
       "    </tr>\n",
       "    <tr>\n",
       "      <th>6</th>\n",
       "      <td>7</td>\n",
       "      <td>5.972940e+09</td>\n",
       "      <td>1018</td>\n",
       "      <td>5.867328e+08</td>\n",
       "    </tr>\n",
       "    <tr>\n",
       "      <th>7</th>\n",
       "      <td>8</td>\n",
       "      <td>6.393255e+09</td>\n",
       "      <td>1080</td>\n",
       "      <td>5.919681e+08</td>\n",
       "    </tr>\n",
       "    <tr>\n",
       "      <th>8</th>\n",
       "      <td>9</td>\n",
       "      <td>7.214086e+09</td>\n",
       "      <td>1180</td>\n",
       "      <td>6.113632e+08</td>\n",
       "    </tr>\n",
       "    <tr>\n",
       "      <th>9</th>\n",
       "      <td>10</td>\n",
       "      <td>7.614841e+09</td>\n",
       "      <td>1308</td>\n",
       "      <td>5.821744e+08</td>\n",
       "    </tr>\n",
       "    <tr>\n",
       "      <th>10</th>\n",
       "      <td>11</td>\n",
       "      <td>8.354848e+09</td>\n",
       "      <td>1400</td>\n",
       "      <td>5.967748e+08</td>\n",
       "    </tr>\n",
       "    <tr>\n",
       "      <th>11</th>\n",
       "      <td>12</td>\n",
       "      <td>5.609871e+09</td>\n",
       "      <td>926</td>\n",
       "      <td>6.058176e+08</td>\n",
       "    </tr>\n",
       "  </tbody>\n",
       "</table>\n",
       "</div>"
      ],
      "text/plain": [
       "   month           sum      count price_by_month, %\n",
       "            last_price last_price                  \n",
       "0      1  4.933867e+09        820      6.016911e+08\n",
       "1      2  9.208080e+09       1554      5.925406e+08\n",
       "2      3  9.099292e+09       1521      5.982441e+08\n",
       "3      4  8.922110e+09       1479      6.032529e+08\n",
       "4      5  4.516793e+09        765      5.904305e+08\n",
       "5      6  5.929475e+09       1028      5.767972e+08\n",
       "6      7  5.972940e+09       1018      5.867328e+08\n",
       "7      8  6.393255e+09       1080      5.919681e+08\n",
       "8      9  7.214086e+09       1180      6.113632e+08\n",
       "9     10  7.614841e+09       1308      5.821744e+08\n",
       "10    11  8.354848e+09       1400      5.967748e+08\n",
       "11    12  5.609871e+09        926      6.058176e+08"
      ]
     },
     "metadata": {},
     "output_type": "display_data"
    }
   ],
   "source": [
    "month_data_spb_center = spb_data_center.pivot_table(\n",
    "    index = ['month'] , values = 'last_price', aggfunc = ['sum', 'count']).reset_index()\n",
    "month_data_spb_center['price_by_month, %'] = month_data_spb_center[\n",
    "    'sum'] / month_data_spb_center['count'] *100\n",
    "display(month_data_spb_center) \n",
    "\n",
    "month_data_spb = spb_data.pivot_table(\n",
    "    index = ['month'] , values = 'last_price', aggfunc = ['sum', 'count']).reset_index()\n",
    "month_data_spb['price_by_month, %'] = month_data_spb['sum'] / month_data_spb['count'] *100\n",
    "display(month_data_spb)"
   ]
  },
  {
   "cell_type": "code",
   "execution_count": 73,
   "metadata": {
    "scrolled": true
   },
   "outputs": [
    {
     "data": {
      "image/png": "[encoded data removed]",
      "text/plain": [
       "<Figure size 720x288 with 1 Axes>"
      ]
     },
     "metadata": {
      "needs_background": "light"
     },
     "output_type": "display_data"
    },
    {
     "data": {
      "image/png": "[encoded data removed]",
      "text/plain": [
       "<Figure size 720x288 with 1 Axes>"
      ]
     },
     "metadata": {
      "needs_background": "light"
     },
     "output_type": "display_data"
    }
   ],
   "source": [
    "month_data_spb_center.plot(x='month', y='price_by_month, %', kind='bar', grid=True,figsize=(10, 4)) \n",
    "plt.title('зависимость цены от месяца публикации объявления')\n",
    "plt.show()\n",
    "\n",
    "month_data_spb.plot(x='month', y='price_by_month, %', kind='bar', grid=True, figsize=(10, 4)) \n",
    "plt.title('зависимость цены от месяца публикации объявления')\n",
    "plt.show()"
   ]
  },
  {
   "cell_type": "code",
   "execution_count": 74,
   "metadata": {},
   "outputs": [
    {
     "data": {
      "text/html": [
       "<div>\n",
       "<style scoped>\n",
       "    .dataframe tbody tr th:only-of-type {\n",
       "        vertical-align: middle;\n",
       "    }\n",
       "\n",
       "    .dataframe tbody tr th {\n",
       "        vertical-align: top;\n",
       "    }\n",
       "\n",
       "    .dataframe thead tr th {\n",
       "        text-align: left;\n",
       "    }\n",
       "</style>\n",
       "<table border=\"1\" class=\"dataframe\">\n",
       "  <thead>\n",
       "    <tr>\n",
       "      <th></th>\n",
       "      <th>weekday</th>\n",
       "      <th>sum</th>\n",
       "      <th>count</th>\n",
       "      <th>price_by_weekday, %</th>\n",
       "    </tr>\n",
       "    <tr>\n",
       "      <th></th>\n",
       "      <th></th>\n",
       "      <th>last_price</th>\n",
       "      <th>last_price</th>\n",
       "      <th></th>\n",
       "    </tr>\n",
       "  </thead>\n",
       "  <tbody>\n",
       "    <tr>\n",
       "      <th>0</th>\n",
       "      <td>воскресенье</td>\n",
       "      <td>1.058879e+09</td>\n",
       "      <td>128</td>\n",
       "      <td>8.272492e+08</td>\n",
       "    </tr>\n",
       "    <tr>\n",
       "      <th>1</th>\n",
       "      <td>вторник</td>\n",
       "      <td>3.335477e+09</td>\n",
       "      <td>424</td>\n",
       "      <td>7.866690e+08</td>\n",
       "    </tr>\n",
       "    <tr>\n",
       "      <th>2</th>\n",
       "      <td>понедельник</td>\n",
       "      <td>3.006456e+09</td>\n",
       "      <td>375</td>\n",
       "      <td>8.017217e+08</td>\n",
       "    </tr>\n",
       "    <tr>\n",
       "      <th>3</th>\n",
       "      <td>пятница</td>\n",
       "      <td>3.410103e+09</td>\n",
       "      <td>420</td>\n",
       "      <td>8.119293e+08</td>\n",
       "    </tr>\n",
       "    <tr>\n",
       "      <th>4</th>\n",
       "      <td>среда</td>\n",
       "      <td>3.336862e+09</td>\n",
       "      <td>417</td>\n",
       "      <td>8.002067e+08</td>\n",
       "    </tr>\n",
       "    <tr>\n",
       "      <th>5</th>\n",
       "      <td>суббота</td>\n",
       "      <td>1.563600e+09</td>\n",
       "      <td>200</td>\n",
       "      <td>7.818000e+08</td>\n",
       "    </tr>\n",
       "    <tr>\n",
       "      <th>6</th>\n",
       "      <td>четверг</td>\n",
       "      <td>3.882707e+09</td>\n",
       "      <td>491</td>\n",
       "      <td>7.907754e+08</td>\n",
       "    </tr>\n",
       "  </tbody>\n",
       "</table>\n",
       "</div>"
      ],
      "text/plain": [
       "       weekday           sum      count price_by_weekday, %\n",
       "                  last_price last_price                    \n",
       "0  воскресенье  1.058879e+09        128        8.272492e+08\n",
       "1      вторник  3.335477e+09        424        7.866690e+08\n",
       "2  понедельник  3.006456e+09        375        8.017217e+08\n",
       "3      пятница  3.410103e+09        420        8.119293e+08\n",
       "4        среда  3.336862e+09        417        8.002067e+08\n",
       "5      суббота  1.563600e+09        200        7.818000e+08\n",
       "6      четверг  3.882707e+09        491        7.907754e+08"
      ]
     },
     "metadata": {},
     "output_type": "display_data"
    },
    {
     "data": {
      "text/html": [
       "<div>\n",
       "<style scoped>\n",
       "    .dataframe tbody tr th:only-of-type {\n",
       "        vertical-align: middle;\n",
       "    }\n",
       "\n",
       "    .dataframe tbody tr th {\n",
       "        vertical-align: top;\n",
       "    }\n",
       "\n",
       "    .dataframe thead tr th {\n",
       "        text-align: left;\n",
       "    }\n",
       "</style>\n",
       "<table border=\"1\" class=\"dataframe\">\n",
       "  <thead>\n",
       "    <tr>\n",
       "      <th></th>\n",
       "      <th>weekday</th>\n",
       "      <th>sum</th>\n",
       "      <th>count</th>\n",
       "      <th>price_by_weekday, %</th>\n",
       "    </tr>\n",
       "    <tr>\n",
       "      <th></th>\n",
       "      <th></th>\n",
       "      <th>last_price</th>\n",
       "      <th>last_price</th>\n",
       "      <th></th>\n",
       "    </tr>\n",
       "  </thead>\n",
       "  <tbody>\n",
       "    <tr>\n",
       "      <th>0</th>\n",
       "      <td>воскресенье</td>\n",
       "      <td>5.943602e+09</td>\n",
       "      <td>1001</td>\n",
       "      <td>5.937664e+08</td>\n",
       "    </tr>\n",
       "    <tr>\n",
       "      <th>1</th>\n",
       "      <td>вторник</td>\n",
       "      <td>1.532660e+10</td>\n",
       "      <td>2564</td>\n",
       "      <td>5.977612e+08</td>\n",
       "    </tr>\n",
       "    <tr>\n",
       "      <th>2</th>\n",
       "      <td>понедельник</td>\n",
       "      <td>1.265273e+10</td>\n",
       "      <td>2125</td>\n",
       "      <td>5.954224e+08</td>\n",
       "    </tr>\n",
       "    <tr>\n",
       "      <th>3</th>\n",
       "      <td>пятница</td>\n",
       "      <td>1.407896e+10</td>\n",
       "      <td>2388</td>\n",
       "      <td>5.895711e+08</td>\n",
       "    </tr>\n",
       "    <tr>\n",
       "      <th>4</th>\n",
       "      <td>среда</td>\n",
       "      <td>1.398815e+10</td>\n",
       "      <td>2366</td>\n",
       "      <td>5.912150e+08</td>\n",
       "    </tr>\n",
       "    <tr>\n",
       "      <th>5</th>\n",
       "      <td>суббота</td>\n",
       "      <td>6.699951e+09</td>\n",
       "      <td>1134</td>\n",
       "      <td>5.908246e+08</td>\n",
       "    </tr>\n",
       "    <tr>\n",
       "      <th>6</th>\n",
       "      <td>четверг</td>\n",
       "      <td>1.507948e+10</td>\n",
       "      <td>2501</td>\n",
       "      <td>6.029379e+08</td>\n",
       "    </tr>\n",
       "  </tbody>\n",
       "</table>\n",
       "</div>"
      ],
      "text/plain": [
       "       weekday           sum      count price_by_weekday, %\n",
       "                  last_price last_price                    \n",
       "0  воскресенье  5.943602e+09       1001        5.937664e+08\n",
       "1      вторник  1.532660e+10       2564        5.977612e+08\n",
       "2  понедельник  1.265273e+10       2125        5.954224e+08\n",
       "3      пятница  1.407896e+10       2388        5.895711e+08\n",
       "4        среда  1.398815e+10       2366        5.912150e+08\n",
       "5      суббота  6.699951e+09       1134        5.908246e+08\n",
       "6      четверг  1.507948e+10       2501        6.029379e+08"
      ]
     },
     "metadata": {},
     "output_type": "display_data"
    }
   ],
   "source": [
    "weekday_data_spb_center = spb_data_center.pivot_table(\n",
    "    index = ['weekday'] , values = 'last_price', aggfunc = ['sum', 'count']).reset_index()\n",
    "weekday_data_spb_center['price_by_weekday, %'] = weekday_data_spb_center[\n",
    "    'sum'] / weekday_data_spb_center['count'] *100\n",
    "display(weekday_data_spb_center) \n",
    "\n",
    "weekday_data_spb = spb_data.pivot_table(\n",
    "    index = ['weekday'] , values = 'last_price', aggfunc = ['sum', 'count']).reset_index()\n",
    "weekday_data_spb['price_by_weekday, %'] = weekday_data_spb['sum'] / weekday_data_spb['count'] *100\n",
    "display(weekday_data_spb)"
   ]
  },
  {
   "cell_type": "code",
   "execution_count": 75,
   "metadata": {
    "scrolled": true
   },
   "outputs": [
    {
     "data": {
      "image/png": "[encoded data removed]",
      "text/plain": [
       "<Figure size 720x288 with 1 Axes>"
      ]
     },
     "metadata": {
      "needs_background": "light"
     },
     "output_type": "display_data"
    },
    {
     "data": {
      "image/png": "[encoded data removed]",
      "text/plain": [
       "<Figure size 720x288 with 1 Axes>"
      ]
     },
     "metadata": {
      "needs_background": "light"
     },
     "output_type": "display_data"
    }
   ],
   "source": [
    "weekday_data_spb_center.plot(x='weekday', y='price_by_weekday, %', kind='bar', grid=True,figsize=(10, 4)) \n",
    "plt.title('зависимость цены от дня недели публикации объявления')\n",
    "plt.show()\n",
    "\n",
    "weekday_data_spb.plot(x='weekday', y='price_by_weekday, %', kind='bar', grid=True, figsize=(10, 4)) \n",
    "plt.title('зависимость цены от дня недели публикации объявления')\n",
    "plt.show()"
   ]
  },
  {
   "cell_type": "markdown",
   "metadata": {},
   "source": [
    "Что в центре, что во всем городе, нет зависимости между тем, в какой день/месяц/год было опубликовано объявление."
   ]
  },
  {
   "cell_type": "code",
   "execution_count": 76,
   "metadata": {},
   "outputs": [
    {
     "data": {
      "text/html": [
       "<div>\n",
       "<style scoped>\n",
       "    .dataframe tbody tr th:only-of-type {\n",
       "        vertical-align: middle;\n",
       "    }\n",
       "\n",
       "    .dataframe tbody tr th {\n",
       "        vertical-align: top;\n",
       "    }\n",
       "\n",
       "    .dataframe thead tr th {\n",
       "        text-align: left;\n",
       "    }\n",
       "</style>\n",
       "<table border=\"1\" class=\"dataframe\">\n",
       "  <thead>\n",
       "    <tr>\n",
       "      <th></th>\n",
       "      <th>rooms</th>\n",
       "      <th>sum</th>\n",
       "      <th>count</th>\n",
       "      <th>price_by_rooms, %</th>\n",
       "    </tr>\n",
       "    <tr>\n",
       "      <th></th>\n",
       "      <th></th>\n",
       "      <th>last_price</th>\n",
       "      <th>last_price</th>\n",
       "      <th></th>\n",
       "    </tr>\n",
       "  </thead>\n",
       "  <tbody>\n",
       "    <tr>\n",
       "      <th>0</th>\n",
       "      <td>1</td>\n",
       "      <td>3.081166e+09</td>\n",
       "      <td>499</td>\n",
       "      <td>6.174681e+08</td>\n",
       "    </tr>\n",
       "    <tr>\n",
       "      <th>1</th>\n",
       "      <td>2</td>\n",
       "      <td>7.010860e+09</td>\n",
       "      <td>911</td>\n",
       "      <td>7.695785e+08</td>\n",
       "    </tr>\n",
       "    <tr>\n",
       "      <th>2</th>\n",
       "      <td>3</td>\n",
       "      <td>6.839513e+09</td>\n",
       "      <td>769</td>\n",
       "      <td>8.894035e+08</td>\n",
       "    </tr>\n",
       "    <tr>\n",
       "      <th>3</th>\n",
       "      <td>4</td>\n",
       "      <td>2.364055e+09</td>\n",
       "      <td>247</td>\n",
       "      <td>9.571074e+08</td>\n",
       "    </tr>\n",
       "    <tr>\n",
       "      <th>4</th>\n",
       "      <td>5</td>\n",
       "      <td>2.984900e+08</td>\n",
       "      <td>29</td>\n",
       "      <td>1.029276e+09</td>\n",
       "    </tr>\n",
       "  </tbody>\n",
       "</table>\n",
       "</div>"
      ],
      "text/plain": [
       "  rooms           sum      count price_by_rooms, %\n",
       "           last_price last_price                  \n",
       "0     1  3.081166e+09        499      6.174681e+08\n",
       "1     2  7.010860e+09        911      7.695785e+08\n",
       "2     3  6.839513e+09        769      8.894035e+08\n",
       "3     4  2.364055e+09        247      9.571074e+08\n",
       "4     5  2.984900e+08         29      1.029276e+09"
      ]
     },
     "metadata": {},
     "output_type": "display_data"
    },
    {
     "data": {
      "text/html": [
       "<div>\n",
       "<style scoped>\n",
       "    .dataframe tbody tr th:only-of-type {\n",
       "        vertical-align: middle;\n",
       "    }\n",
       "\n",
       "    .dataframe tbody tr th {\n",
       "        vertical-align: top;\n",
       "    }\n",
       "\n",
       "    .dataframe thead tr th {\n",
       "        text-align: left;\n",
       "    }\n",
       "</style>\n",
       "<table border=\"1\" class=\"dataframe\">\n",
       "  <thead>\n",
       "    <tr>\n",
       "      <th></th>\n",
       "      <th>rooms</th>\n",
       "      <th>sum</th>\n",
       "      <th>count</th>\n",
       "      <th>price_by_rooms, %</th>\n",
       "    </tr>\n",
       "    <tr>\n",
       "      <th></th>\n",
       "      <th></th>\n",
       "      <th>last_price</th>\n",
       "      <th>last_price</th>\n",
       "      <th></th>\n",
       "    </tr>\n",
       "  </thead>\n",
       "  <tbody>\n",
       "    <tr>\n",
       "      <th>0</th>\n",
       "      <td>1</td>\n",
       "      <td>2.161472e+10</td>\n",
       "      <td>4915</td>\n",
       "      <td>4.397704e+08</td>\n",
       "    </tr>\n",
       "    <tr>\n",
       "      <th>1</th>\n",
       "      <td>2</td>\n",
       "      <td>3.045137e+10</td>\n",
       "      <td>4933</td>\n",
       "      <td>6.172991e+08</td>\n",
       "    </tr>\n",
       "    <tr>\n",
       "      <th>2</th>\n",
       "      <td>3</td>\n",
       "      <td>2.651439e+10</td>\n",
       "      <td>3589</td>\n",
       "      <td>7.387681e+08</td>\n",
       "    </tr>\n",
       "    <tr>\n",
       "      <th>3</th>\n",
       "      <td>4</td>\n",
       "      <td>4.719821e+09</td>\n",
       "      <td>591</td>\n",
       "      <td>7.986161e+08</td>\n",
       "    </tr>\n",
       "    <tr>\n",
       "      <th>4</th>\n",
       "      <td>5</td>\n",
       "      <td>4.691700e+08</td>\n",
       "      <td>51</td>\n",
       "      <td>9.199412e+08</td>\n",
       "    </tr>\n",
       "  </tbody>\n",
       "</table>\n",
       "</div>"
      ],
      "text/plain": [
       "  rooms           sum      count price_by_rooms, %\n",
       "           last_price last_price                  \n",
       "0     1  2.161472e+10       4915      4.397704e+08\n",
       "1     2  3.045137e+10       4933      6.172991e+08\n",
       "2     3  2.651439e+10       3589      7.387681e+08\n",
       "3     4  4.719821e+09        591      7.986161e+08\n",
       "4     5  4.691700e+08         51      9.199412e+08"
      ]
     },
     "metadata": {},
     "output_type": "display_data"
    }
   ],
   "source": [
    "#изучим влияние количества комнат на цену\n",
    "rooms_data = spb_data_center.pivot_table(\n",
    "    index = ['rooms'] , values = 'last_price', aggfunc = ['sum', 'count']).reset_index()\n",
    "rooms_data['price_by_rooms, %'] = rooms_data['sum'] / rooms_data['count'] *100\n",
    "display(rooms_data.head()) \n",
    "\n",
    "rooms_data = spb_data.pivot_table(\n",
    "    index = ['rooms'] , values = 'last_price', aggfunc = ['sum', 'count']).reset_index()\n",
    "rooms_data['price_by_rooms, %'] = rooms_data['sum'] / rooms_data['count'] *100\n",
    "display(rooms_data.head()) "
   ]
  },
  {
   "cell_type": "markdown",
   "metadata": {},
   "source": [
    "Чем больше комнат, тем дороже стоит квартира. Что в центре, что в городе в целом."
   ]
  },
  {
   "cell_type": "code",
   "execution_count": 77,
   "metadata": {
    "scrolled": true
   },
   "outputs": [
    {
     "data": {
      "text/html": [
       "<div>\n",
       "<style scoped>\n",
       "    .dataframe tbody tr th:only-of-type {\n",
       "        vertical-align: middle;\n",
       "    }\n",
       "\n",
       "    .dataframe tbody tr th {\n",
       "        vertical-align: top;\n",
       "    }\n",
       "\n",
       "    .dataframe thead th {\n",
       "        text-align: right;\n",
       "    }\n",
       "</style>\n",
       "<table border=\"1\" class=\"dataframe\">\n",
       "  <thead>\n",
       "    <tr style=\"text-align: right;\">\n",
       "      <th></th>\n",
       "      <th>last_price</th>\n",
       "      <th>total_area</th>\n",
       "      <th>cityCenters_nearest</th>\n",
       "    </tr>\n",
       "  </thead>\n",
       "  <tbody>\n",
       "    <tr>\n",
       "      <th>last_price</th>\n",
       "      <td>1.000000</td>\n",
       "      <td>0.686856</td>\n",
       "      <td>-0.128210</td>\n",
       "    </tr>\n",
       "    <tr>\n",
       "      <th>total_area</th>\n",
       "      <td>0.686856</td>\n",
       "      <td>1.000000</td>\n",
       "      <td>-0.165435</td>\n",
       "    </tr>\n",
       "    <tr>\n",
       "      <th>cityCenters_nearest</th>\n",
       "      <td>-0.128210</td>\n",
       "      <td>-0.165435</td>\n",
       "      <td>1.000000</td>\n",
       "    </tr>\n",
       "  </tbody>\n",
       "</table>\n",
       "</div>"
      ],
      "text/plain": [
       "                     last_price  total_area  cityCenters_nearest\n",
       "last_price             1.000000    0.686856            -0.128210\n",
       "total_area             0.686856    1.000000            -0.165435\n",
       "cityCenters_nearest   -0.128210   -0.165435             1.000000"
      ]
     },
     "metadata": {},
     "output_type": "display_data"
    },
    {
     "data": {
      "text/html": [
       "<div>\n",
       "<style scoped>\n",
       "    .dataframe tbody tr th:only-of-type {\n",
       "        vertical-align: middle;\n",
       "    }\n",
       "\n",
       "    .dataframe tbody tr th {\n",
       "        vertical-align: top;\n",
       "    }\n",
       "\n",
       "    .dataframe thead th {\n",
       "        text-align: right;\n",
       "    }\n",
       "</style>\n",
       "<table border=\"1\" class=\"dataframe\">\n",
       "  <thead>\n",
       "    <tr style=\"text-align: right;\">\n",
       "      <th></th>\n",
       "      <th>last_price</th>\n",
       "      <th>total_area</th>\n",
       "      <th>cityCenters_nearest</th>\n",
       "    </tr>\n",
       "  </thead>\n",
       "  <tbody>\n",
       "    <tr>\n",
       "      <th>last_price</th>\n",
       "      <td>1.000000</td>\n",
       "      <td>0.801795</td>\n",
       "      <td>-0.369719</td>\n",
       "    </tr>\n",
       "    <tr>\n",
       "      <th>total_area</th>\n",
       "      <td>0.801795</td>\n",
       "      <td>1.000000</td>\n",
       "      <td>-0.230173</td>\n",
       "    </tr>\n",
       "    <tr>\n",
       "      <th>cityCenters_nearest</th>\n",
       "      <td>-0.369719</td>\n",
       "      <td>-0.230173</td>\n",
       "      <td>1.000000</td>\n",
       "    </tr>\n",
       "  </tbody>\n",
       "</table>\n",
       "</div>"
      ],
      "text/plain": [
       "                     last_price  total_area  cityCenters_nearest\n",
       "last_price             1.000000    0.801795            -0.369719\n",
       "total_area             0.801795    1.000000            -0.230173\n",
       "cityCenters_nearest   -0.369719   -0.230173             1.000000"
      ]
     },
     "metadata": {},
     "output_type": "display_data"
    }
   ],
   "source": [
    "# изучим как влияют площадь и близость к центру на цену квартир\n",
    "spb_data_center_by = spb_data_center.loc[:,[\n",
    "    'last_price','total_area','cityCenters_nearest']]\n",
    "display(spb_data_center_by.corr())\n",
    "\n",
    "spb_data_by = spb_data.loc[:,[\n",
    "    'last_price','total_area','cityCenters_nearest']]\n",
    "display(spb_data_by.corr())"
   ]
  },
  {
   "cell_type": "markdown",
   "metadata": {},
   "source": [
    "Центр: Чем больше общая площадь, тем больше цена квартиры. Корреляция цены и количества комнат говорит о наличии связи, однако не слишком сильной. Цена не зависит от близости к центру.\n",
    "\n",
    "Весь город: Чем больше общая площадь, тем больше цена квартиры. Корреляция цены и количества комнат говорит о наличии связи, однако не слишком сильной. Цена не зависит от от близости к центру.\n",
    "\n",
    "Ситуация в центре и по городу схожая."
   ]
  },
  {
   "cell_type": "markdown",
   "metadata": {},
   "source": [
    "## Общий вывод"
   ]
  },
  {
   "cell_type": "markdown",
   "metadata": {},
   "source": [
    "Данные получены и изучена первичная информация о данных.\n",
    "\n",
    "**Предобработка данных:**\n",
    "\n",
    "В данных были обнаружены пропуски типа Nan. Пропуски заменили подходящими величинами. Дубликаты обработаны.\n",
    "Типы данных заменены на подходящие.\n",
    "\n",
    "В таблицу добавлены величины, необходимые для дальнейшего анализа (цена квадратный метр, день недели, месяц и год публикации объявления, этаж квартиры)\n",
    "\n",
    "**Исследовательский анализ:**\n",
    "\n",
    "Были изученны параметры: площадь, цена, число комнат, высота потолков. Сделаны гистограммы для каждого параметра.\n",
    "Проведено исследование площадей, стоимости, количества комнат. Почистили выборку от выбросов.\n",
    "\n",
    "**Изучено время продажи квартиры:**\n",
    "\n",
    "- Можно заметить тенденцию, что с каждым годом квартиры продаются все быстрее.\n",
    "- Обычно продажа квартиры занимает примерно 92 дня.\n",
    "- \"Очень быстрой\" можно считать продажу менее, чем за 17 дней.\n",
    "- \"Необычно долгой\" - продажу более чем за 443 дней (год и 2 месяца)\n",
    "\n",
    "Можно с уверенностью сказать о наличии прямой зависимости между ценой и общей площадью квартиры: чем больше площадь, тем выше цена. Как и ожидалось, цена квартиры напрямую зависит от количества комнат: чем больше комнат в квартире, тем больше цена.  Также цена квартиры зависит от  этажа: дороже стоят квартиры на промежутоных этажах, не первом и не последнем, а квартиры на первых этажах продаются обычно дешевле всего.\n",
    "Цены на квартиры значительно не отличаются в зависимости от дня недели/месяца и года публикации объявления.\n",
    "\n",
    "*Выбрали 10 населённых пунктов с наибольшим числом объявлений.* Среди них населенный пункт с самой высокой стоимостью жилья - Санкт-Петербург, с самой низкой - Выборг.\n",
    "    \n",
    "*Выделили сегмент квартир в центре.* Для этого сигмента изучили площадь, цену, число комнат, высоту потолков.\n",
    "Провели сравнительный анализ для квартир в центре Питера и по всему городу в целом.\n",
    "В центре продаются квартиры с большей площадью, чем по всему городу.\n",
    "Ожидаемая тенденция - в центре продаются более дорогие квартиры, нежели в Питере в целом.\n",
    "В центре чаще всего продаются двух- и трехкомнатыне квартиры. Реже всего четырехкомнатные и пятикомнатные.\n",
    "В целом по городу чаще всего продаются однокомнатные и двухкомнатные квартиры. Реже - квартиры с 4 или 5 комнатами. В центре продается гораздо меньше однокомнатных квартир, нежели по Питеру в целом.\n",
    "В центре высота потолков в среднем немного выше, нежели по городу в целом.\n",
    "\n",
    "На стоимость квартиры влияет этаж: самые дорогие квартиры на промежуточных и последних этажах, на первых квартиры значительно дешевле. Ситуация в центре и в Питере похожая.\n",
    "Что в центре, что во всем городе, нет зависимости между тем, в какой день/месяц/год было опубликовано объявление.\n",
    "Чем больше общая площадь, тем больше цена квартиры. Цена квартиры зависит от количества комнат: чем больщше комнат, тем выше цена. Также, цена не зависит от близости к центру и количества комнат.\n",
    "Ситуация в центре и по городу схожая.\n",
    "  \n",
    "**Рекомендую выбрать за параметры для оценки рыночной стоимости недвижимости следующие метрики:**\n",
    "\n",
    "- Населенный пункт\n",
    "- Общая площадь квартиры\n",
    "- Категория этажа (первый/последний/промежуточный)"
   ]
  },
  {
   "cell_type": "code",
   "execution_count": null,
   "metadata": {},
   "outputs": [],
   "source": []
  }
 ],
 "metadata": {
  "ExecuteTimeLog": [
   {
    "duration": 1025,
    "start_time": "2022-07-15T08:15:52.432Z"
   },
   {
    "duration": 14,
    "start_time": "2022-07-15T08:15:53.459Z"
   },
   {
    "duration": 9,
    "start_time": "2022-07-15T08:15:53.475Z"
   },
   {
    "duration": 21,
    "start_time": "2022-07-15T08:15:53.487Z"
   },
   {
    "duration": 22,
    "start_time": "2022-07-15T08:15:53.510Z"
   },
   {
    "duration": 535,
    "start_time": "2022-07-15T08:15:53.534Z"
   },
   {
    "duration": 1566,
    "start_time": "2022-07-15T08:15:54.071Z"
   },
   {
    "duration": 534,
    "start_time": "2022-07-15T08:15:55.639Z"
   },
   {
    "duration": 16,
    "start_time": "2022-07-15T08:15:56.175Z"
   },
   {
    "duration": 15,
    "start_time": "2022-07-15T08:15:56.195Z"
   },
   {
    "duration": 12,
    "start_time": "2022-07-15T08:15:56.212Z"
   },
   {
    "duration": 52,
    "start_time": "2022-07-15T08:15:56.225Z"
   },
   {
    "duration": 6,
    "start_time": "2022-07-15T08:15:56.278Z"
   },
   {
    "duration": 8,
    "start_time": "2022-07-15T08:15:56.286Z"
   },
   {
    "duration": 27,
    "start_time": "2022-07-15T08:15:56.296Z"
   },
   {
    "duration": 44,
    "start_time": "2022-07-15T08:15:56.325Z"
   },
   {
    "duration": 31,
    "start_time": "2022-07-15T08:15:56.371Z"
   },
   {
    "duration": 36,
    "start_time": "2022-07-15T08:15:56.404Z"
   },
   {
    "duration": 319,
    "start_time": "2022-07-15T08:15:56.463Z"
   },
   {
    "duration": 26,
    "start_time": "2022-07-15T08:15:56.783Z"
   },
   {
    "duration": 12,
    "start_time": "2022-07-15T08:15:56.811Z"
   },
   {
    "duration": 521,
    "start_time": "2022-07-15T08:15:56.825Z"
   },
   {
    "duration": 150,
    "start_time": "2022-07-15T08:15:57.349Z"
   },
   {
    "duration": 10,
    "start_time": "2022-07-15T08:15:57.501Z"
   },
   {
    "duration": 14,
    "start_time": "2022-07-15T08:15:57.513Z"
   },
   {
    "duration": 8,
    "start_time": "2022-07-15T08:15:57.529Z"
   },
   {
    "duration": 582,
    "start_time": "2022-07-15T08:15:57.564Z"
   },
   {
    "duration": 262,
    "start_time": "2022-07-15T08:15:58.151Z"
   },
   {
    "duration": 9,
    "start_time": "2022-07-15T08:15:58.415Z"
   },
   {
    "duration": 10,
    "start_time": "2022-07-15T08:15:58.426Z"
   },
   {
    "duration": 30,
    "start_time": "2022-07-15T08:15:58.438Z"
   },
   {
    "duration": 155,
    "start_time": "2022-07-15T08:15:58.470Z"
   },
   {
    "duration": 125,
    "start_time": "2022-07-15T08:15:58.627Z"
   },
   {
    "duration": 15,
    "start_time": "2022-07-15T08:15:58.754Z"
   },
   {
    "duration": 14,
    "start_time": "2022-07-15T08:15:58.771Z"
   },
   {
    "duration": 9,
    "start_time": "2022-07-15T08:15:58.787Z"
   },
   {
    "duration": 317,
    "start_time": "2022-07-15T08:15:58.798Z"
   },
   {
    "duration": 134,
    "start_time": "2022-07-15T08:15:59.118Z"
   },
   {
    "duration": 13,
    "start_time": "2022-07-15T08:15:59.254Z"
   },
   {
    "duration": 10,
    "start_time": "2022-07-15T08:15:59.269Z"
   },
   {
    "duration": 24,
    "start_time": "2022-07-15T08:15:59.281Z"
   },
   {
    "duration": 575,
    "start_time": "2022-07-15T08:15:59.307Z"
   },
   {
    "duration": 17,
    "start_time": "2022-07-15T08:15:59.883Z"
   },
   {
    "duration": 24,
    "start_time": "2022-07-15T08:15:59.901Z"
   },
   {
    "duration": 41,
    "start_time": "2022-07-15T08:15:59.927Z"
   },
   {
    "duration": 28,
    "start_time": "2022-07-15T08:15:59.970Z"
   },
   {
    "duration": 24,
    "start_time": "2022-07-15T08:16:00.001Z"
   },
   {
    "duration": 38,
    "start_time": "2022-07-15T08:16:00.027Z"
   },
   {
    "duration": 26,
    "start_time": "2022-07-15T08:16:00.067Z"
   },
   {
    "duration": 182,
    "start_time": "2022-07-15T08:16:00.095Z"
   },
   {
    "duration": 27,
    "start_time": "2022-07-15T08:16:00.279Z"
   },
   {
    "duration": 186,
    "start_time": "2022-07-15T08:16:00.308Z"
   },
   {
    "duration": 30,
    "start_time": "2022-07-15T08:16:00.495Z"
   },
   {
    "duration": 208,
    "start_time": "2022-07-15T08:16:00.526Z"
   },
   {
    "duration": 14,
    "start_time": "2022-07-15T08:16:00.737Z"
   },
   {
    "duration": 61,
    "start_time": "2022-07-15T08:16:00.763Z"
   },
   {
    "duration": 35,
    "start_time": "2022-07-15T08:16:00.826Z"
   },
   {
    "duration": 36,
    "start_time": "2022-07-15T08:16:00.863Z"
   },
   {
    "duration": 347,
    "start_time": "2022-07-15T08:16:00.901Z"
   },
   {
    "duration": 35,
    "start_time": "2022-07-15T08:16:01.250Z"
   },
   {
    "duration": 16,
    "start_time": "2022-07-15T08:16:01.286Z"
   },
   {
    "duration": 367,
    "start_time": "2022-07-15T08:16:01.304Z"
   },
   {
    "duration": 14,
    "start_time": "2022-07-15T08:16:01.673Z"
   },
   {
    "duration": 453,
    "start_time": "2022-07-15T08:16:01.688Z"
   },
   {
    "duration": 25,
    "start_time": "2022-07-15T08:16:02.143Z"
   },
   {
    "duration": 316,
    "start_time": "2022-07-15T08:16:02.170Z"
   },
   {
    "duration": 16,
    "start_time": "2022-07-15T08:16:02.490Z"
   },
   {
    "duration": 424,
    "start_time": "2022-07-15T08:16:02.508Z"
   },
   {
    "duration": 71,
    "start_time": "2022-07-15T08:16:02.935Z"
   },
   {
    "duration": 66,
    "start_time": "2022-07-15T08:16:03.008Z"
   },
   {
    "duration": 356,
    "start_time": "2022-07-15T08:16:03.076Z"
   },
   {
    "duration": 59,
    "start_time": "2022-07-15T08:16:03.435Z"
   },
   {
    "duration": 421,
    "start_time": "2022-07-15T08:16:03.496Z"
   },
   {
    "duration": 71,
    "start_time": "2022-07-15T08:16:03.919Z"
   },
   {
    "duration": 378,
    "start_time": "2022-07-15T08:16:03.992Z"
   },
   {
    "duration": 50,
    "start_time": "2022-07-15T08:16:04.371Z"
   },
   {
    "duration": 42,
    "start_time": "2022-07-15T08:16:04.424Z"
   },
   {
    "duration": 1093,
    "start_time": "2022-08-08T17:33:49.196Z"
   },
   {
    "duration": 15,
    "start_time": "2022-08-08T17:33:50.290Z"
   },
   {
    "duration": 8,
    "start_time": "2022-08-08T17:33:50.306Z"
   },
   {
    "duration": 15,
    "start_time": "2022-08-08T17:33:50.316Z"
   },
   {
    "duration": 15,
    "start_time": "2022-08-08T17:33:50.332Z"
   },
   {
    "duration": 503,
    "start_time": "2022-08-08T17:33:50.348Z"
   },
   {
    "duration": 1239,
    "start_time": "2022-08-08T17:33:50.853Z"
   },
   {
    "duration": 488,
    "start_time": "2022-08-08T17:33:52.094Z"
   },
   {
    "duration": 16,
    "start_time": "2022-08-08T17:33:52.583Z"
   },
   {
    "duration": 14,
    "start_time": "2022-08-08T17:33:52.603Z"
   },
   {
    "duration": 12,
    "start_time": "2022-08-08T17:33:52.619Z"
   },
   {
    "duration": 20,
    "start_time": "2022-08-08T17:33:52.632Z"
   },
   {
    "duration": 34,
    "start_time": "2022-08-08T17:33:52.654Z"
   },
   {
    "duration": 5,
    "start_time": "2022-08-08T17:33:52.689Z"
   },
   {
    "duration": 29,
    "start_time": "2022-08-08T17:33:52.695Z"
   },
   {
    "duration": 21,
    "start_time": "2022-08-08T17:33:52.725Z"
   },
   {
    "duration": 53,
    "start_time": "2022-08-08T17:33:52.747Z"
   },
   {
    "duration": 29,
    "start_time": "2022-08-08T17:33:52.802Z"
   },
   {
    "duration": 318,
    "start_time": "2022-08-08T17:33:52.832Z"
   },
   {
    "duration": 25,
    "start_time": "2022-08-08T17:33:53.151Z"
   },
   {
    "duration": 16,
    "start_time": "2022-08-08T17:33:53.177Z"
   },
   {
    "duration": 464,
    "start_time": "2022-08-08T17:33:53.195Z"
   },
   {
    "duration": 126,
    "start_time": "2022-08-08T17:33:53.660Z"
   },
   {
    "duration": 8,
    "start_time": "2022-08-08T17:33:53.788Z"
   },
   {
    "duration": 16,
    "start_time": "2022-08-08T17:33:53.798Z"
   },
   {
    "duration": 9,
    "start_time": "2022-08-08T17:33:53.815Z"
   },
   {
    "duration": 590,
    "start_time": "2022-08-08T17:33:53.825Z"
   },
   {
    "duration": 240,
    "start_time": "2022-08-08T17:33:54.418Z"
   },
   {
    "duration": 7,
    "start_time": "2022-08-08T17:33:54.660Z"
   },
   {
    "duration": 21,
    "start_time": "2022-08-08T17:33:54.668Z"
   },
   {
    "duration": 7,
    "start_time": "2022-08-08T17:33:54.690Z"
   },
   {
    "duration": 163,
    "start_time": "2022-08-08T17:33:54.698Z"
   },
   {
    "duration": 99,
    "start_time": "2022-08-08T17:33:54.863Z"
   },
   {
    "duration": 8,
    "start_time": "2022-08-08T17:33:54.963Z"
   },
   {
    "duration": 9,
    "start_time": "2022-08-08T17:33:54.986Z"
   },
   {
    "duration": 9,
    "start_time": "2022-08-08T17:33:54.996Z"
   },
   {
    "duration": 244,
    "start_time": "2022-08-08T17:33:55.007Z"
   },
   {
    "duration": 120,
    "start_time": "2022-08-08T17:33:55.252Z"
   },
   {
    "duration": 15,
    "start_time": "2022-08-08T17:33:55.374Z"
   },
   {
    "duration": 9,
    "start_time": "2022-08-08T17:33:55.390Z"
   },
   {
    "duration": 25,
    "start_time": "2022-08-08T17:33:55.400Z"
   },
   {
    "duration": 541,
    "start_time": "2022-08-08T17:33:55.426Z"
   },
   {
    "duration": 30,
    "start_time": "2022-08-08T17:33:55.969Z"
   },
   {
    "duration": 35,
    "start_time": "2022-08-08T17:33:56.002Z"
   },
   {
    "duration": 21,
    "start_time": "2022-08-08T17:33:56.039Z"
   },
   {
    "duration": 50,
    "start_time": "2022-08-08T17:33:56.062Z"
   },
   {
    "duration": 26,
    "start_time": "2022-08-08T17:33:56.114Z"
   },
   {
    "duration": 10,
    "start_time": "2022-08-08T17:33:56.142Z"
   },
   {
    "duration": 53,
    "start_time": "2022-08-08T17:33:56.153Z"
   },
   {
    "duration": 192,
    "start_time": "2022-08-08T17:33:56.208Z"
   },
   {
    "duration": 33,
    "start_time": "2022-08-08T17:33:56.402Z"
   },
   {
    "duration": 163,
    "start_time": "2022-08-08T17:33:56.437Z"
   },
   {
    "duration": 28,
    "start_time": "2022-08-08T17:33:56.601Z"
   },
   {
    "duration": 181,
    "start_time": "2022-08-08T17:33:56.631Z"
   },
   {
    "duration": 8,
    "start_time": "2022-08-08T17:33:56.814Z"
   },
   {
    "duration": 27,
    "start_time": "2022-08-08T17:33:56.823Z"
   },
   {
    "duration": 48,
    "start_time": "2022-08-08T17:33:56.851Z"
   },
   {
    "duration": 26,
    "start_time": "2022-08-08T17:33:56.900Z"
   },
   {
    "duration": 305,
    "start_time": "2022-08-08T17:33:56.927Z"
   },
   {
    "duration": 27,
    "start_time": "2022-08-08T17:33:57.234Z"
   },
   {
    "duration": 26,
    "start_time": "2022-08-08T17:33:57.262Z"
   },
   {
    "duration": 336,
    "start_time": "2022-08-08T17:33:57.289Z"
   },
   {
    "duration": 16,
    "start_time": "2022-08-08T17:33:57.627Z"
   },
   {
    "duration": 427,
    "start_time": "2022-08-08T17:33:57.644Z"
   },
   {
    "duration": 21,
    "start_time": "2022-08-08T17:33:58.073Z"
   },
   {
    "duration": 250,
    "start_time": "2022-08-08T17:33:58.095Z"
   },
   {
    "duration": 13,
    "start_time": "2022-08-08T17:33:58.347Z"
   },
   {
    "duration": 268,
    "start_time": "2022-08-08T17:33:58.361Z"
   },
   {
    "duration": 59,
    "start_time": "2022-08-08T17:33:58.630Z"
   },
   {
    "duration": 44,
    "start_time": "2022-08-08T17:33:58.691Z"
   },
   {
    "duration": 338,
    "start_time": "2022-08-08T17:33:58.737Z"
   },
   {
    "duration": 57,
    "start_time": "2022-08-08T17:33:59.077Z"
   },
   {
    "duration": 355,
    "start_time": "2022-08-08T17:33:59.135Z"
   },
   {
    "duration": 46,
    "start_time": "2022-08-08T17:33:59.492Z"
   },
   {
    "duration": 336,
    "start_time": "2022-08-08T17:33:59.540Z"
   },
   {
    "duration": 45,
    "start_time": "2022-08-08T17:33:59.886Z"
   },
   {
    "duration": 14,
    "start_time": "2022-08-08T17:33:59.932Z"
   },
   {
    "duration": 1193,
    "start_time": "2022-08-10T15:30:52.029Z"
   },
   {
    "duration": 15,
    "start_time": "2022-08-10T15:30:53.224Z"
   },
   {
    "duration": 8,
    "start_time": "2022-08-10T15:30:53.241Z"
   },
   {
    "duration": 17,
    "start_time": "2022-08-10T15:30:53.251Z"
   },
   {
    "duration": 28,
    "start_time": "2022-08-10T15:30:53.269Z"
   },
   {
    "duration": 495,
    "start_time": "2022-08-10T15:30:53.299Z"
   },
   {
    "duration": 1206,
    "start_time": "2022-08-10T15:30:53.799Z"
   },
   {
    "duration": 531,
    "start_time": "2022-08-10T15:30:55.007Z"
   },
   {
    "duration": 17,
    "start_time": "2022-08-10T15:30:55.540Z"
   },
   {
    "duration": 19,
    "start_time": "2022-08-10T15:30:55.560Z"
   },
   {
    "duration": 28,
    "start_time": "2022-08-10T15:30:55.581Z"
   },
   {
    "duration": 22,
    "start_time": "2022-08-10T15:30:55.611Z"
   },
   {
    "duration": 6,
    "start_time": "2022-08-10T15:30:55.635Z"
   },
   {
    "duration": 13,
    "start_time": "2022-08-10T15:30:55.642Z"
   },
   {
    "duration": 49,
    "start_time": "2022-08-10T15:30:55.656Z"
   },
   {
    "duration": 22,
    "start_time": "2022-08-10T15:30:55.706Z"
   },
   {
    "duration": 33,
    "start_time": "2022-08-10T15:30:55.729Z"
   },
   {
    "duration": 50,
    "start_time": "2022-08-10T15:30:55.763Z"
   },
   {
    "duration": 702,
    "start_time": "2022-08-10T15:30:55.815Z"
   },
   {
    "duration": 80,
    "start_time": "2022-08-10T15:30:56.519Z"
   },
   {
    "duration": 9,
    "start_time": "2022-08-10T15:30:56.601Z"
   },
   {
    "duration": 931,
    "start_time": "2022-08-10T15:30:56.611Z"
   },
   {
    "duration": 238,
    "start_time": "2022-08-10T15:30:57.544Z"
   },
   {
    "duration": 17,
    "start_time": "2022-08-10T15:30:57.783Z"
   },
   {
    "duration": 14,
    "start_time": "2022-08-10T15:30:57.802Z"
   },
   {
    "duration": 9,
    "start_time": "2022-08-10T15:30:57.818Z"
   },
   {
    "duration": 582,
    "start_time": "2022-08-10T15:30:57.829Z"
   },
   {
    "duration": 270,
    "start_time": "2022-08-10T15:30:58.417Z"
   },
   {
    "duration": 15,
    "start_time": "2022-08-10T15:30:58.689Z"
   },
   {
    "duration": 11,
    "start_time": "2022-08-10T15:30:58.706Z"
   },
   {
    "duration": 9,
    "start_time": "2022-08-10T15:30:58.718Z"
   },
   {
    "duration": 185,
    "start_time": "2022-08-10T15:30:58.729Z"
   },
   {
    "duration": 106,
    "start_time": "2022-08-10T15:30:58.917Z"
   },
   {
    "duration": 8,
    "start_time": "2022-08-10T15:30:59.025Z"
   },
   {
    "duration": 12,
    "start_time": "2022-08-10T15:30:59.035Z"
   },
   {
    "duration": 9,
    "start_time": "2022-08-10T15:30:59.049Z"
   },
   {
    "duration": 251,
    "start_time": "2022-08-10T15:30:59.060Z"
   },
   {
    "duration": 125,
    "start_time": "2022-08-10T15:30:59.313Z"
   },
   {
    "duration": 9,
    "start_time": "2022-08-10T15:30:59.440Z"
   },
   {
    "duration": 9,
    "start_time": "2022-08-10T15:30:59.451Z"
   },
   {
    "duration": 52,
    "start_time": "2022-08-10T15:30:59.462Z"
   },
   {
    "duration": 536,
    "start_time": "2022-08-10T15:30:59.516Z"
   },
   {
    "duration": 19,
    "start_time": "2022-08-10T15:31:00.053Z"
   },
   {
    "duration": 42,
    "start_time": "2022-08-10T15:31:00.074Z"
   },
   {
    "duration": 23,
    "start_time": "2022-08-10T15:31:00.118Z"
   },
   {
    "duration": 27,
    "start_time": "2022-08-10T15:31:00.143Z"
   },
   {
    "duration": 41,
    "start_time": "2022-08-10T15:31:00.173Z"
   },
   {
    "duration": 9,
    "start_time": "2022-08-10T15:31:00.216Z"
   },
   {
    "duration": 41,
    "start_time": "2022-08-10T15:31:00.226Z"
   },
   {
    "duration": 159,
    "start_time": "2022-08-10T15:31:00.269Z"
   },
   {
    "duration": 26,
    "start_time": "2022-08-10T15:31:00.429Z"
   },
   {
    "duration": 163,
    "start_time": "2022-08-10T15:31:00.457Z"
   },
   {
    "duration": 28,
    "start_time": "2022-08-10T15:31:00.622Z"
   },
   {
    "duration": 187,
    "start_time": "2022-08-10T15:31:00.651Z"
   },
   {
    "duration": 9,
    "start_time": "2022-08-10T15:31:00.840Z"
   },
   {
    "duration": 33,
    "start_time": "2022-08-10T15:31:00.851Z"
   },
   {
    "duration": 31,
    "start_time": "2022-08-10T15:31:00.897Z"
   },
   {
    "duration": 29,
    "start_time": "2022-08-10T15:31:00.929Z"
   },
   {
    "duration": 326,
    "start_time": "2022-08-10T15:31:00.961Z"
   },
   {
    "duration": 46,
    "start_time": "2022-08-10T15:31:01.289Z"
   },
   {
    "duration": 12,
    "start_time": "2022-08-10T15:31:01.337Z"
   },
   {
    "duration": 329,
    "start_time": "2022-08-10T15:31:01.351Z"
   },
   {
    "duration": 22,
    "start_time": "2022-08-10T15:31:01.682Z"
   },
   {
    "duration": 446,
    "start_time": "2022-08-10T15:31:01.706Z"
   },
   {
    "duration": 12,
    "start_time": "2022-08-10T15:31:02.154Z"
   },
   {
    "duration": 276,
    "start_time": "2022-08-10T15:31:02.168Z"
   },
   {
    "duration": 14,
    "start_time": "2022-08-10T15:31:02.445Z"
   },
   {
    "duration": 288,
    "start_time": "2022-08-10T15:31:02.461Z"
   },
   {
    "duration": 61,
    "start_time": "2022-08-10T15:31:02.751Z"
   },
   {
    "duration": 43,
    "start_time": "2022-08-10T15:31:02.813Z"
   },
   {
    "duration": 345,
    "start_time": "2022-08-10T15:31:02.858Z"
   },
   {
    "duration": 50,
    "start_time": "2022-08-10T15:31:03.206Z"
   },
   {
    "duration": 384,
    "start_time": "2022-08-10T15:31:03.258Z"
   },
   {
    "duration": 61,
    "start_time": "2022-08-10T15:31:03.643Z"
   },
   {
    "duration": 359,
    "start_time": "2022-08-10T15:31:03.705Z"
   },
   {
    "duration": 56,
    "start_time": "2022-08-10T15:31:04.066Z"
   },
   {
    "duration": 15,
    "start_time": "2022-08-10T15:31:04.124Z"
   }
  ],
  "kernelspec": {
   "display_name": "Python 3 (ipykernel)",
   "language": "python",
   "name": "python3"
  },
  "language_info": {
   "codemirror_mode": {
    "name": "ipython",
    "version": 3
   },
   "file_extension": ".py",
   "mimetype": "text/x-python",
   "name": "python",
   "nbconvert_exporter": "python",
   "pygments_lexer": "ipython3",
   "version": "3.9.5"
  },
  "toc": {
   "base_numbering": 1,
   "nav_menu": {},
   "number_sections": true,
   "sideBar": true,
   "skip_h1_title": true,
   "title_cell": "Содержание",
   "title_sidebar": "Contents",
   "toc_cell": true,
   "toc_position": {
    "height": "518px",
    "left": "35px",
    "top": "515px",
    "width": "165px"
   },
   "toc_section_display": true,
   "toc_window_display": false
  }
 },
 "nbformat": 4,
 "nbformat_minor": 2
}

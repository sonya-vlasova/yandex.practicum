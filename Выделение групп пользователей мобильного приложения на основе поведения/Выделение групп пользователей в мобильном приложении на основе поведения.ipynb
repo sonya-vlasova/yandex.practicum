{
 "cells": [
  {
   "cell_type": "markdown",
   "metadata": {
    "toc": true
   },
   "source": [
    "<h1>Содержание<span class=\"tocSkip\"></span></h1>\n",
    "<div class=\"toc\"><ul class=\"toc-item\"><li><ul class=\"toc-item\"><li><span><a href=\"#Декомпозиция-задачи\" data-toc-modified-id=\"Декомпозиция-задачи-0.1\"><span class=\"toc-item-num\">0.1&nbsp;&nbsp;</span>Декомпозиция задачи</a></span><ul class=\"toc-item\"><li><span><a href=\"#Загрузим-данные-и-сделаем-предобработку\" data-toc-modified-id=\"Загрузим-данные-и-сделаем-предобработку-0.1.1\"><span class=\"toc-item-num\">0.1.1&nbsp;&nbsp;</span>Загрузим данные и сделаем предобработку</a></span></li><li><span><a href=\"#Проведем-исследовательский-анализ-данных-(EDA)\" data-toc-modified-id=\"Проведем-исследовательский-анализ-данных-(EDA)-0.1.2\"><span class=\"toc-item-num\">0.1.2&nbsp;&nbsp;</span>Проведем исследовательский анализ данных (EDA)</a></span></li><li><span><a href=\"#Сегментируем-пользователей\" data-toc-modified-id=\"Сегментируем-пользователей-0.1.3\"><span class=\"toc-item-num\">0.1.3&nbsp;&nbsp;</span>Сегментируем пользователей</a></span><ul class=\"toc-item\"><li><span><a href=\"#Посчитаем-метрики-для-пользователей-и-добавим-в-столбцы-признаков-для-дальнейшей-кластеризации\" data-toc-modified-id=\"Посчитаем-метрики-для-пользователей-и-добавим-в-столбцы-признаков-для-дальнейшей-кластеризации-0.1.3.1\"><span class=\"toc-item-num\">0.1.3.1&nbsp;&nbsp;</span><strong>Посчитаем метрики для пользователей и добавим в столбцы признаков для дальнейшей кластеризации</strong></a></span></li><li><span><a href=\"#Кластеризация-пользователей\" data-toc-modified-id=\"Кластеризация-пользователей-0.1.3.2\"><span class=\"toc-item-num\">0.1.3.2&nbsp;&nbsp;</span><strong>Кластеризация пользователей</strong></a></span></li></ul></li><li><span><a href=\"#Проверим-статистические-гипотезы\" data-toc-modified-id=\"Проверим-статистические-гипотезы-0.1.4\"><span class=\"toc-item-num\">0.1.4&nbsp;&nbsp;</span>Проверим статистические гипотезы</a></span></li><li><span><a href=\"#Выводы--и-Рекомендации\" data-toc-modified-id=\"Выводы--и-Рекомендации-0.1.5\"><span class=\"toc-item-num\">0.1.5&nbsp;&nbsp;</span>Выводы  и Рекомендации</a></span></li><li><span><a href=\"#Презентация\" data-toc-modified-id=\"Презентация-0.1.6\"><span class=\"toc-item-num\">0.1.6&nbsp;&nbsp;</span>Презентация</a></span></li><li><span><a href=\"#Дашборд\" data-toc-modified-id=\"Дашборд-0.1.7\"><span class=\"toc-item-num\">0.1.7&nbsp;&nbsp;</span>Дашборд</a></span></li></ul></li></ul></li><li><span><a href=\"#Загрузим-данные-и-сделаем-предобработку\" data-toc-modified-id=\"Загрузим-данные-и-сделаем-предобработку-1\"><span class=\"toc-item-num\">1&nbsp;&nbsp;</span>Загрузим данные и сделаем предобработку</a></span></li><li><span><a href=\"#Исследовательский-анализ-данных-(EDA)\" data-toc-modified-id=\"Исследовательский-анализ-данных-(EDA)-2\"><span class=\"toc-item-num\">2&nbsp;&nbsp;</span>Исследовательский анализ данных (EDA)</a></span><ul class=\"toc-item\"><li><span><a href=\"#Рассмотрим-поподробнее-датасеты\" data-toc-modified-id=\"Рассмотрим-поподробнее-датасеты-2.1\"><span class=\"toc-item-num\">2.1&nbsp;&nbsp;</span>Рассмотрим поподробнее датасеты</a></span></li><li><span><a href=\"#Сколько-в-среднем-событий-приходится-на-пользователя?\" data-toc-modified-id=\"Сколько-в-среднем-событий-приходится-на-пользователя?-2.2\"><span class=\"toc-item-num\">2.2&nbsp;&nbsp;</span>Сколько в среднем событий приходится на пользователя?</a></span></li><li><span><a href=\"#Данными-за-какой-период-мы-располагаем?\" data-toc-modified-id=\"Данными-за-какой-период-мы-располагаем?-2.3\"><span class=\"toc-item-num\">2.3&nbsp;&nbsp;</span>Данными за какой период мы располагаем?</a></span></li><li><span><a href=\"#Соединим-таблицы\" data-toc-modified-id=\"Соединим-таблицы-2.4\"><span class=\"toc-item-num\">2.4&nbsp;&nbsp;</span>Соединим таблицы</a></span></li></ul></li><li><span><a href=\"#Сегментируем-пользователей\" data-toc-modified-id=\"Сегментируем-пользователей-3\"><span class=\"toc-item-num\">3&nbsp;&nbsp;</span>Сегментируем пользователей</a></span><ul class=\"toc-item\"><li><span><a href=\"#Посчитаем-нужные-метрики-для-дальнейшей-кластеризации:\" data-toc-modified-id=\"Посчитаем-нужные-метрики-для-дальнейшей-кластеризации:-3.1\"><span class=\"toc-item-num\">3.1&nbsp;&nbsp;</span>Посчитаем нужные метрики для дальнейшей кластеризации:</a></span><ul class=\"toc-item\"><li><span><a href=\"#Retention-rate-(понедельно)\" data-toc-modified-id=\"Retention-rate-(понедельно)-3.1.1\"><span class=\"toc-item-num\">3.1.1&nbsp;&nbsp;</span>Retention rate (понедельно)</a></span></li><li><span><a href=\"#Время,-проведённое-в-приложении\" data-toc-modified-id=\"Время,-проведённое-в-приложении-3.1.2\"><span class=\"toc-item-num\">3.1.2&nbsp;&nbsp;</span>Время, проведённое в приложении</a></span></li><li><span><a href=\"#частота-действий\" data-toc-modified-id=\"частота-действий-3.1.3\"><span class=\"toc-item-num\">3.1.3&nbsp;&nbsp;</span>частота действий</a></span></li><li><span><a href=\"#конверсия-в-целевое-действие-—-просмотр-контактов\" data-toc-modified-id=\"конверсия-в-целевое-действие-—-просмотр-контактов-3.1.4\"><span class=\"toc-item-num\">3.1.4&nbsp;&nbsp;</span>конверсия в целевое действие — просмотр контактов</a></span></li></ul></li><li><span><a href=\"#Кластеризация-клиентов\" data-toc-modified-id=\"Кластеризация-клиентов-3.2\"><span class=\"toc-item-num\">3.2&nbsp;&nbsp;</span>Кластеризация клиентов</a></span><ul class=\"toc-item\"><li><span><a href=\"#Построим-матрицу-расстояний-функцией-и-нарисуем-дендрограмму\" data-toc-modified-id=\"Построим-матрицу-расстояний-функцией-и-нарисуем-дендрограмму-3.2.1\"><span class=\"toc-item-num\">3.2.1&nbsp;&nbsp;</span>Построим матрицу расстояний функцией и нарисуем дендрограмму</a></span></li><li><span><a href=\"#Обучим-модель-кластеризации-и-спрогнозируем-кластеры-клиентов\" data-toc-modified-id=\"Обучим-модель-кластеризации-и-спрогнозируем-кластеры-клиентов-3.2.2\"><span class=\"toc-item-num\">3.2.2&nbsp;&nbsp;</span>Обучим модель кластеризации и спрогнозируем кластеры клиентов</a></span></li></ul></li><li><span><a href=\"#Проверим-статистические-гипотезы\" data-toc-modified-id=\"Проверим-статистические-гипотезы-3.3\"><span class=\"toc-item-num\">3.3&nbsp;&nbsp;</span>Проверим статистические гипотезы</a></span><ul class=\"toc-item\"><li><span><a href=\"#Конверсия-в-просмотры-контактов-у-пользователей,-пришедших-из-яндекс,-и-пользователей,-пришедших-из-гугл,-различается\" data-toc-modified-id=\"Конверсия-в-просмотры-контактов-у-пользователей,-пришедших-из-яндекс,-и-пользователей,-пришедших-из-гугл,-различается-3.3.1\"><span class=\"toc-item-num\">3.3.1&nbsp;&nbsp;</span>Конверсия в просмотры контактов у пользователей, пришедших из яндекс, и пользователей, пришедших из гугл, различается</a></span></li><li><span><a href=\"#Конверсия-в-добавление-объявления-в-избранное-у-пользователей,-пришедших-из-яндекс,-и-пользователей,-пишедших-из-гугл,-разная\" data-toc-modified-id=\"Конверсия-в-добавление-объявления-в-избранное-у-пользователей,-пришедших-из-яндекс,-и-пользователей,-пишедших-из-гугл,-разная-3.3.2\"><span class=\"toc-item-num\">3.3.2&nbsp;&nbsp;</span>Конверсия в добавление объявления в избранное у пользователей, пришедших из яндекс, и пользователей, пишедших из гугл, разная</a></span></li></ul></li></ul></li><li><span><a href=\"#Выводы-и-рекомендации\" data-toc-modified-id=\"Выводы-и-рекомендации-4\"><span class=\"toc-item-num\">4&nbsp;&nbsp;</span>Выводы и рекомендации</a></span></li></ul></div>"
   ]
  },
  {
   "cell_type": "markdown",
   "metadata": {},
   "source": [
    "### Декомпозиция задачи\n",
    "\n",
    "Описание и цель исследования\n",
    "\n",
    "\n",
    "#### Загрузим данные и сделаем предобработку\n",
    "'/datasets/mobile_dataset.csv'\n",
    "'/datasets/mobile_soures.csv'\n",
    "\n",
    " -  названия столбцов\n",
    " -  пропуски\n",
    " -  дубликаты\n",
    " -  типы данных\n",
    " \n",
    "#### Проведем исследовательский анализ данных (EDA)\n",
    "\n",
    "1. Рассмотрим поподробнее датасеты\n",
    "2. Сколько в среднем событий приходится на пользователя?\n",
    "3. Данными за какой период мы располагаем?\n",
    "4. Соединим таблицы\n",
    "\n",
    "#### Сегментируем пользователей \n",
    "\n",
    " ##### **Посчитаем метрики для пользователей и добавим в столбцы признаков для дальнейшей кластеризации**\n",
    " \n",
    " - retention rate\n",
    " - время, проведённое в приложении \n",
    " - частота действий \n",
    " - конверсия в целевое действие — просмотр контактов\n",
    "\n",
    "##### **Кластеризация пользователей**\n",
    "\n",
    "- Стандартизируем данные, построим матрицу расстояний функцией и нарисуем дендрограмму\n",
    "- Обучим модель кластеризации и спрогнозируем кластеры клиентов\n",
    "\n",
    "\n",
    "#### Проверим статистические гипотезы\n",
    "Сформулируем гипотезы и проведем статистический тест.\n",
    "\n",
    "    1. Конверсия в просмотры контактов у пользователей, пришедших из яндекс, и пользователей, пришедших из гугл, различается\n",
    "    \n",
    "    2. Конверсия в добавление объявления в избранное у пользователей, пришедших из яндекс, и пользователей, пишедших из гугл, разная\n",
    "\n",
    "#### Выводы  и Рекомендации \n",
    "\n",
    "\n",
    "#### Презентация\n",
    "#### Дашборд"
   ]
  },
  {
   "cell_type": "markdown",
   "metadata": {},
   "source": [
    "## Загрузим данные и сделаем предобработку"
   ]
  },
  {
   "cell_type": "code",
   "execution_count": 67,
   "metadata": {},
   "outputs": [],
   "source": [
    "#сразу открываем нужные библиотеки\n",
    "\n",
    "import pandas as pd\n",
    "import seaborn as sns\n",
    "from matplotlib import pyplot as plt\n",
    "import plotly.graph_objs as go\n",
    "import numpy as np\n",
    "import math as mth\n",
    "import scipy.stats as st\n",
    "import plotly.express as px\n",
    "\n",
    "import warnings\n",
    "warnings.filterwarnings(\"ignore\")\n",
    "\n",
    "from sklearn.preprocessing import StandardScaler\n",
    "from scipy.cluster.hierarchy import dendrogram, linkage \n",
    "from sklearn.cluster import KMeans"
   ]
  },
  {
   "cell_type": "code",
   "execution_count": 68,
   "metadata": {
    "scrolled": true
   },
   "outputs": [
    {
     "data": {
      "text/html": [
       "<div>\n",
       "<style scoped>\n",
       "    .dataframe tbody tr th:only-of-type {\n",
       "        vertical-align: middle;\n",
       "    }\n",
       "\n",
       "    .dataframe tbody tr th {\n",
       "        vertical-align: top;\n",
       "    }\n",
       "\n",
       "    .dataframe thead th {\n",
       "        text-align: right;\n",
       "    }\n",
       "</style>\n",
       "<table border=\"1\" class=\"dataframe\">\n",
       "  <thead>\n",
       "    <tr style=\"text-align: right;\">\n",
       "      <th></th>\n",
       "      <th>event.time</th>\n",
       "      <th>event.name</th>\n",
       "      <th>user.id</th>\n",
       "    </tr>\n",
       "  </thead>\n",
       "  <tbody>\n",
       "    <tr>\n",
       "      <th>0</th>\n",
       "      <td>2019-10-07 00:00:00.431357</td>\n",
       "      <td>advert_open</td>\n",
       "      <td>020292ab-89bc-4156-9acf-68bc2783f894</td>\n",
       "    </tr>\n",
       "    <tr>\n",
       "      <th>1</th>\n",
       "      <td>2019-10-07 00:00:01.236320</td>\n",
       "      <td>tips_show</td>\n",
       "      <td>020292ab-89bc-4156-9acf-68bc2783f894</td>\n",
       "    </tr>\n",
       "    <tr>\n",
       "      <th>2</th>\n",
       "      <td>2019-10-07 00:00:02.245341</td>\n",
       "      <td>tips_show</td>\n",
       "      <td>cf7eda61-9349-469f-ac27-e5b6f5ec475c</td>\n",
       "    </tr>\n",
       "    <tr>\n",
       "      <th>3</th>\n",
       "      <td>2019-10-07 00:00:07.039334</td>\n",
       "      <td>tips_show</td>\n",
       "      <td>020292ab-89bc-4156-9acf-68bc2783f894</td>\n",
       "    </tr>\n",
       "    <tr>\n",
       "      <th>4</th>\n",
       "      <td>2019-10-07 00:00:56.319813</td>\n",
       "      <td>advert_open</td>\n",
       "      <td>cf7eda61-9349-469f-ac27-e5b6f5ec475c</td>\n",
       "    </tr>\n",
       "    <tr>\n",
       "      <th>5</th>\n",
       "      <td>2019-10-07 00:01:19.993624</td>\n",
       "      <td>tips_show</td>\n",
       "      <td>cf7eda61-9349-469f-ac27-e5b6f5ec475c</td>\n",
       "    </tr>\n",
       "    <tr>\n",
       "      <th>6</th>\n",
       "      <td>2019-10-07 00:01:27.770232</td>\n",
       "      <td>advert_open</td>\n",
       "      <td>020292ab-89bc-4156-9acf-68bc2783f894</td>\n",
       "    </tr>\n",
       "    <tr>\n",
       "      <th>7</th>\n",
       "      <td>2019-10-07 00:01:34.804591</td>\n",
       "      <td>tips_show</td>\n",
       "      <td>020292ab-89bc-4156-9acf-68bc2783f894</td>\n",
       "    </tr>\n",
       "    <tr>\n",
       "      <th>8</th>\n",
       "      <td>2019-10-07 00:01:49.732803</td>\n",
       "      <td>advert_open</td>\n",
       "      <td>cf7eda61-9349-469f-ac27-e5b6f5ec475c</td>\n",
       "    </tr>\n",
       "    <tr>\n",
       "      <th>9</th>\n",
       "      <td>2019-10-07 00:01:54.958298</td>\n",
       "      <td>advert_open</td>\n",
       "      <td>020292ab-89bc-4156-9acf-68bc2783f894</td>\n",
       "    </tr>\n",
       "    <tr>\n",
       "      <th>10</th>\n",
       "      <td>2019-10-07 00:02:01.354436</td>\n",
       "      <td>tips_show</td>\n",
       "      <td>020292ab-89bc-4156-9acf-68bc2783f894</td>\n",
       "    </tr>\n",
       "    <tr>\n",
       "      <th>11</th>\n",
       "      <td>2019-10-07 00:02:06.225301</td>\n",
       "      <td>tips_show</td>\n",
       "      <td>cf7eda61-9349-469f-ac27-e5b6f5ec475c</td>\n",
       "    </tr>\n",
       "    <tr>\n",
       "      <th>12</th>\n",
       "      <td>2019-10-07 00:02:07.374346</td>\n",
       "      <td>tips_show</td>\n",
       "      <td>8c356c42-3ba9-4cb6-80b8-3f868d0192c3</td>\n",
       "    </tr>\n",
       "    <tr>\n",
       "      <th>13</th>\n",
       "      <td>2019-10-07 00:02:25.457498</td>\n",
       "      <td>advert_open</td>\n",
       "      <td>020292ab-89bc-4156-9acf-68bc2783f894</td>\n",
       "    </tr>\n",
       "    <tr>\n",
       "      <th>14</th>\n",
       "      <td>2019-10-07 00:02:30.856380</td>\n",
       "      <td>tips_show</td>\n",
       "      <td>020292ab-89bc-4156-9acf-68bc2783f894</td>\n",
       "    </tr>\n",
       "    <tr>\n",
       "      <th>15</th>\n",
       "      <td>2019-10-07 00:02:42.121025</td>\n",
       "      <td>advert_open</td>\n",
       "      <td>cf7eda61-9349-469f-ac27-e5b6f5ec475c</td>\n",
       "    </tr>\n",
       "    <tr>\n",
       "      <th>16</th>\n",
       "      <td>2019-10-07 00:02:51.257894</td>\n",
       "      <td>advert_open</td>\n",
       "      <td>cf7eda61-9349-469f-ac27-e5b6f5ec475c</td>\n",
       "    </tr>\n",
       "    <tr>\n",
       "      <th>17</th>\n",
       "      <td>2019-10-07 00:03:02.305654</td>\n",
       "      <td>tips_show</td>\n",
       "      <td>020292ab-89bc-4156-9acf-68bc2783f894</td>\n",
       "    </tr>\n",
       "    <tr>\n",
       "      <th>18</th>\n",
       "      <td>2019-10-07 00:03:09.962898</td>\n",
       "      <td>tips_show</td>\n",
       "      <td>cf7eda61-9349-469f-ac27-e5b6f5ec475c</td>\n",
       "    </tr>\n",
       "    <tr>\n",
       "      <th>19</th>\n",
       "      <td>2019-10-07 00:04:11.679827</td>\n",
       "      <td>map</td>\n",
       "      <td>020292ab-89bc-4156-9acf-68bc2783f894</td>\n",
       "    </tr>\n",
       "    <tr>\n",
       "      <th>20</th>\n",
       "      <td>2019-10-07 00:04:30.804309</td>\n",
       "      <td>advert_open</td>\n",
       "      <td>020292ab-89bc-4156-9acf-68bc2783f894</td>\n",
       "    </tr>\n",
       "    <tr>\n",
       "      <th>21</th>\n",
       "      <td>2019-10-07 00:04:38.289881</td>\n",
       "      <td>tips_show</td>\n",
       "      <td>020292ab-89bc-4156-9acf-68bc2783f894</td>\n",
       "    </tr>\n",
       "    <tr>\n",
       "      <th>22</th>\n",
       "      <td>2019-10-07 00:05:07.063376</td>\n",
       "      <td>advert_open</td>\n",
       "      <td>020292ab-89bc-4156-9acf-68bc2783f894</td>\n",
       "    </tr>\n",
       "    <tr>\n",
       "      <th>23</th>\n",
       "      <td>2019-10-07 00:05:11.988524</td>\n",
       "      <td>tips_show</td>\n",
       "      <td>020292ab-89bc-4156-9acf-68bc2783f894</td>\n",
       "    </tr>\n",
       "    <tr>\n",
       "      <th>24</th>\n",
       "      <td>2019-10-07 00:05:16.003328</td>\n",
       "      <td>contacts_show</td>\n",
       "      <td>8c356c42-3ba9-4cb6-80b8-3f868d0192c3</td>\n",
       "    </tr>\n",
       "    <tr>\n",
       "      <th>25</th>\n",
       "      <td>2019-10-07 00:05:20.190956</td>\n",
       "      <td>search_4</td>\n",
       "      <td>d9b06b47-0f36-419b-bbb0-3533e582a6cb</td>\n",
       "    </tr>\n",
       "    <tr>\n",
       "      <th>26</th>\n",
       "      <td>2019-10-07 00:05:23.427766</td>\n",
       "      <td>search_5</td>\n",
       "      <td>d9b06b47-0f36-419b-bbb0-3533e582a6cb</td>\n",
       "    </tr>\n",
       "    <tr>\n",
       "      <th>27</th>\n",
       "      <td>2019-10-07 00:05:41.968511</td>\n",
       "      <td>advert_open</td>\n",
       "      <td>cf7eda61-9349-469f-ac27-e5b6f5ec475c</td>\n",
       "    </tr>\n",
       "    <tr>\n",
       "      <th>28</th>\n",
       "      <td>2019-10-07 00:06:01.349291</td>\n",
       "      <td>tips_show</td>\n",
       "      <td>8c356c42-3ba9-4cb6-80b8-3f868d0192c3</td>\n",
       "    </tr>\n",
       "    <tr>\n",
       "      <th>29</th>\n",
       "      <td>2019-10-07 00:06:07.967878</td>\n",
       "      <td>advert_open</td>\n",
       "      <td>020292ab-89bc-4156-9acf-68bc2783f894</td>\n",
       "    </tr>\n",
       "  </tbody>\n",
       "</table>\n",
       "</div>"
      ],
      "text/plain": [
       "                    event.time     event.name  \\\n",
       "0   2019-10-07 00:00:00.431357    advert_open   \n",
       "1   2019-10-07 00:00:01.236320      tips_show   \n",
       "2   2019-10-07 00:00:02.245341      tips_show   \n",
       "3   2019-10-07 00:00:07.039334      tips_show   \n",
       "4   2019-10-07 00:00:56.319813    advert_open   \n",
       "5   2019-10-07 00:01:19.993624      tips_show   \n",
       "6   2019-10-07 00:01:27.770232    advert_open   \n",
       "7   2019-10-07 00:01:34.804591      tips_show   \n",
       "8   2019-10-07 00:01:49.732803    advert_open   \n",
       "9   2019-10-07 00:01:54.958298    advert_open   \n",
       "10  2019-10-07 00:02:01.354436      tips_show   \n",
       "11  2019-10-07 00:02:06.225301      tips_show   \n",
       "12  2019-10-07 00:02:07.374346      tips_show   \n",
       "13  2019-10-07 00:02:25.457498    advert_open   \n",
       "14  2019-10-07 00:02:30.856380      tips_show   \n",
       "15  2019-10-07 00:02:42.121025    advert_open   \n",
       "16  2019-10-07 00:02:51.257894    advert_open   \n",
       "17  2019-10-07 00:03:02.305654      tips_show   \n",
       "18  2019-10-07 00:03:09.962898      tips_show   \n",
       "19  2019-10-07 00:04:11.679827            map   \n",
       "20  2019-10-07 00:04:30.804309    advert_open   \n",
       "21  2019-10-07 00:04:38.289881      tips_show   \n",
       "22  2019-10-07 00:05:07.063376    advert_open   \n",
       "23  2019-10-07 00:05:11.988524      tips_show   \n",
       "24  2019-10-07 00:05:16.003328  contacts_show   \n",
       "25  2019-10-07 00:05:20.190956       search_4   \n",
       "26  2019-10-07 00:05:23.427766       search_5   \n",
       "27  2019-10-07 00:05:41.968511    advert_open   \n",
       "28  2019-10-07 00:06:01.349291      tips_show   \n",
       "29  2019-10-07 00:06:07.967878    advert_open   \n",
       "\n",
       "                                 user.id  \n",
       "0   020292ab-89bc-4156-9acf-68bc2783f894  \n",
       "1   020292ab-89bc-4156-9acf-68bc2783f894  \n",
       "2   cf7eda61-9349-469f-ac27-e5b6f5ec475c  \n",
       "3   020292ab-89bc-4156-9acf-68bc2783f894  \n",
       "4   cf7eda61-9349-469f-ac27-e5b6f5ec475c  \n",
       "5   cf7eda61-9349-469f-ac27-e5b6f5ec475c  \n",
       "6   020292ab-89bc-4156-9acf-68bc2783f894  \n",
       "7   020292ab-89bc-4156-9acf-68bc2783f894  \n",
       "8   cf7eda61-9349-469f-ac27-e5b6f5ec475c  \n",
       "9   020292ab-89bc-4156-9acf-68bc2783f894  \n",
       "10  020292ab-89bc-4156-9acf-68bc2783f894  \n",
       "11  cf7eda61-9349-469f-ac27-e5b6f5ec475c  \n",
       "12  8c356c42-3ba9-4cb6-80b8-3f868d0192c3  \n",
       "13  020292ab-89bc-4156-9acf-68bc2783f894  \n",
       "14  020292ab-89bc-4156-9acf-68bc2783f894  \n",
       "15  cf7eda61-9349-469f-ac27-e5b6f5ec475c  \n",
       "16  cf7eda61-9349-469f-ac27-e5b6f5ec475c  \n",
       "17  020292ab-89bc-4156-9acf-68bc2783f894  \n",
       "18  cf7eda61-9349-469f-ac27-e5b6f5ec475c  \n",
       "19  020292ab-89bc-4156-9acf-68bc2783f894  \n",
       "20  020292ab-89bc-4156-9acf-68bc2783f894  \n",
       "21  020292ab-89bc-4156-9acf-68bc2783f894  \n",
       "22  020292ab-89bc-4156-9acf-68bc2783f894  \n",
       "23  020292ab-89bc-4156-9acf-68bc2783f894  \n",
       "24  8c356c42-3ba9-4cb6-80b8-3f868d0192c3  \n",
       "25  d9b06b47-0f36-419b-bbb0-3533e582a6cb  \n",
       "26  d9b06b47-0f36-419b-bbb0-3533e582a6cb  \n",
       "27  cf7eda61-9349-469f-ac27-e5b6f5ec475c  \n",
       "28  8c356c42-3ba9-4cb6-80b8-3f868d0192c3  \n",
       "29  020292ab-89bc-4156-9acf-68bc2783f894  "
      ]
     },
     "metadata": {},
     "output_type": "display_data"
    },
    {
     "data": {
      "text/html": [
       "<div>\n",
       "<style scoped>\n",
       "    .dataframe tbody tr th:only-of-type {\n",
       "        vertical-align: middle;\n",
       "    }\n",
       "\n",
       "    .dataframe tbody tr th {\n",
       "        vertical-align: top;\n",
       "    }\n",
       "\n",
       "    .dataframe thead th {\n",
       "        text-align: right;\n",
       "    }\n",
       "</style>\n",
       "<table border=\"1\" class=\"dataframe\">\n",
       "  <thead>\n",
       "    <tr style=\"text-align: right;\">\n",
       "      <th></th>\n",
       "      <th>userId</th>\n",
       "      <th>source</th>\n",
       "    </tr>\n",
       "  </thead>\n",
       "  <tbody>\n",
       "    <tr>\n",
       "      <th>0</th>\n",
       "      <td>020292ab-89bc-4156-9acf-68bc2783f894</td>\n",
       "      <td>other</td>\n",
       "    </tr>\n",
       "    <tr>\n",
       "      <th>1</th>\n",
       "      <td>cf7eda61-9349-469f-ac27-e5b6f5ec475c</td>\n",
       "      <td>yandex</td>\n",
       "    </tr>\n",
       "    <tr>\n",
       "      <th>2</th>\n",
       "      <td>8c356c42-3ba9-4cb6-80b8-3f868d0192c3</td>\n",
       "      <td>yandex</td>\n",
       "    </tr>\n",
       "    <tr>\n",
       "      <th>3</th>\n",
       "      <td>d9b06b47-0f36-419b-bbb0-3533e582a6cb</td>\n",
       "      <td>other</td>\n",
       "    </tr>\n",
       "    <tr>\n",
       "      <th>4</th>\n",
       "      <td>f32e1e2a-3027-4693-b793-b7b3ff274439</td>\n",
       "      <td>google</td>\n",
       "    </tr>\n",
       "    <tr>\n",
       "      <th>5</th>\n",
       "      <td>17f6b2db-2964-4d11-89d8-7e38d2cb4750</td>\n",
       "      <td>yandex</td>\n",
       "    </tr>\n",
       "    <tr>\n",
       "      <th>6</th>\n",
       "      <td>62aa104f-592d-4ccb-8226-2ba0e719ded5</td>\n",
       "      <td>yandex</td>\n",
       "    </tr>\n",
       "    <tr>\n",
       "      <th>7</th>\n",
       "      <td>57321726-5d66-4d51-84f4-c797c35dcf2b</td>\n",
       "      <td>google</td>\n",
       "    </tr>\n",
       "    <tr>\n",
       "      <th>8</th>\n",
       "      <td>c2cf55c0-95f7-4269-896c-931d14deaab5</td>\n",
       "      <td>google</td>\n",
       "    </tr>\n",
       "    <tr>\n",
       "      <th>9</th>\n",
       "      <td>48e614d6-fe03-40f7-bf9e-4c4f61c19f64</td>\n",
       "      <td>yandex</td>\n",
       "    </tr>\n",
       "    <tr>\n",
       "      <th>10</th>\n",
       "      <td>e5e66067-ea26-4c33-96bb-e36f645ba3aa</td>\n",
       "      <td>other</td>\n",
       "    </tr>\n",
       "    <tr>\n",
       "      <th>11</th>\n",
       "      <td>a63a3a79-08fa-4ec2-895c-50b4eb09b8d0</td>\n",
       "      <td>google</td>\n",
       "    </tr>\n",
       "    <tr>\n",
       "      <th>12</th>\n",
       "      <td>c9c9f6dd-6741-474d-a75b-2334f735f52f</td>\n",
       "      <td>other</td>\n",
       "    </tr>\n",
       "    <tr>\n",
       "      <th>13</th>\n",
       "      <td>c022d269-699f-4151-ab29-20fc1dfff684</td>\n",
       "      <td>yandex</td>\n",
       "    </tr>\n",
       "    <tr>\n",
       "      <th>14</th>\n",
       "      <td>a257612c-dda4-4c8c-a625-ee3b59ae1458</td>\n",
       "      <td>other</td>\n",
       "    </tr>\n",
       "    <tr>\n",
       "      <th>15</th>\n",
       "      <td>af9f4d75-530c-40f9-9aab-a5535b84845e</td>\n",
       "      <td>other</td>\n",
       "    </tr>\n",
       "    <tr>\n",
       "      <th>16</th>\n",
       "      <td>08467081-2dea-44ed-ae5e-ac99fbd0afb1</td>\n",
       "      <td>google</td>\n",
       "    </tr>\n",
       "    <tr>\n",
       "      <th>17</th>\n",
       "      <td>c68bdd6d-bad7-4f51-8113-302f2364387c</td>\n",
       "      <td>yandex</td>\n",
       "    </tr>\n",
       "    <tr>\n",
       "      <th>18</th>\n",
       "      <td>18b187f3-2571-44ea-a792-6e68a485b8ad</td>\n",
       "      <td>yandex</td>\n",
       "    </tr>\n",
       "    <tr>\n",
       "      <th>19</th>\n",
       "      <td>fb667205-a708-4693-832d-363a30022cfc</td>\n",
       "      <td>yandex</td>\n",
       "    </tr>\n",
       "    <tr>\n",
       "      <th>20</th>\n",
       "      <td>9dfa242e-8630-480a-806b-5736bcda8f3d</td>\n",
       "      <td>google</td>\n",
       "    </tr>\n",
       "    <tr>\n",
       "      <th>21</th>\n",
       "      <td>1e073228-bb96-4da0-adf8-87472e4247bf</td>\n",
       "      <td>google</td>\n",
       "    </tr>\n",
       "    <tr>\n",
       "      <th>22</th>\n",
       "      <td>6fefbd6f-7053-4c0c-818d-625c83fe5c5f</td>\n",
       "      <td>google</td>\n",
       "    </tr>\n",
       "    <tr>\n",
       "      <th>23</th>\n",
       "      <td>2b39c650-c582-4195-ba16-ade26ee0a72f</td>\n",
       "      <td>google</td>\n",
       "    </tr>\n",
       "    <tr>\n",
       "      <th>24</th>\n",
       "      <td>512b4cbf-a752-42ea-b4f4-1864a8b27fb6</td>\n",
       "      <td>google</td>\n",
       "    </tr>\n",
       "    <tr>\n",
       "      <th>25</th>\n",
       "      <td>95a4e41e-30ce-4ed4-aa4c-c05796786c01</td>\n",
       "      <td>google</td>\n",
       "    </tr>\n",
       "    <tr>\n",
       "      <th>26</th>\n",
       "      <td>0d19961e-f238-4fb3-84aa-d707e2b626ac</td>\n",
       "      <td>google</td>\n",
       "    </tr>\n",
       "    <tr>\n",
       "      <th>27</th>\n",
       "      <td>e570de4f-5cf9-463c-80f6-4d81be19bf47</td>\n",
       "      <td>other</td>\n",
       "    </tr>\n",
       "    <tr>\n",
       "      <th>28</th>\n",
       "      <td>f60a4cd4-f82c-4897-9804-3b7b130b15ac</td>\n",
       "      <td>yandex</td>\n",
       "    </tr>\n",
       "    <tr>\n",
       "      <th>29</th>\n",
       "      <td>59013b73-1a5e-4ac0-97dd-81b1a10c8186</td>\n",
       "      <td>yandex</td>\n",
       "    </tr>\n",
       "  </tbody>\n",
       "</table>\n",
       "</div>"
      ],
      "text/plain": [
       "                                  userId  source\n",
       "0   020292ab-89bc-4156-9acf-68bc2783f894   other\n",
       "1   cf7eda61-9349-469f-ac27-e5b6f5ec475c  yandex\n",
       "2   8c356c42-3ba9-4cb6-80b8-3f868d0192c3  yandex\n",
       "3   d9b06b47-0f36-419b-bbb0-3533e582a6cb   other\n",
       "4   f32e1e2a-3027-4693-b793-b7b3ff274439  google\n",
       "5   17f6b2db-2964-4d11-89d8-7e38d2cb4750  yandex\n",
       "6   62aa104f-592d-4ccb-8226-2ba0e719ded5  yandex\n",
       "7   57321726-5d66-4d51-84f4-c797c35dcf2b  google\n",
       "8   c2cf55c0-95f7-4269-896c-931d14deaab5  google\n",
       "9   48e614d6-fe03-40f7-bf9e-4c4f61c19f64  yandex\n",
       "10  e5e66067-ea26-4c33-96bb-e36f645ba3aa   other\n",
       "11  a63a3a79-08fa-4ec2-895c-50b4eb09b8d0  google\n",
       "12  c9c9f6dd-6741-474d-a75b-2334f735f52f   other\n",
       "13  c022d269-699f-4151-ab29-20fc1dfff684  yandex\n",
       "14  a257612c-dda4-4c8c-a625-ee3b59ae1458   other\n",
       "15  af9f4d75-530c-40f9-9aab-a5535b84845e   other\n",
       "16  08467081-2dea-44ed-ae5e-ac99fbd0afb1  google\n",
       "17  c68bdd6d-bad7-4f51-8113-302f2364387c  yandex\n",
       "18  18b187f3-2571-44ea-a792-6e68a485b8ad  yandex\n",
       "19  fb667205-a708-4693-832d-363a30022cfc  yandex\n",
       "20  9dfa242e-8630-480a-806b-5736bcda8f3d  google\n",
       "21  1e073228-bb96-4da0-adf8-87472e4247bf  google\n",
       "22  6fefbd6f-7053-4c0c-818d-625c83fe5c5f  google\n",
       "23  2b39c650-c582-4195-ba16-ade26ee0a72f  google\n",
       "24  512b4cbf-a752-42ea-b4f4-1864a8b27fb6  google\n",
       "25  95a4e41e-30ce-4ed4-aa4c-c05796786c01  google\n",
       "26  0d19961e-f238-4fb3-84aa-d707e2b626ac  google\n",
       "27  e570de4f-5cf9-463c-80f6-4d81be19bf47   other\n",
       "28  f60a4cd4-f82c-4897-9804-3b7b130b15ac  yandex\n",
       "29  59013b73-1a5e-4ac0-97dd-81b1a10c8186  yandex"
      ]
     },
     "metadata": {},
     "output_type": "display_data"
    }
   ],
   "source": [
    "# посмотрим на данные\n",
    "logs = pd.read_csv('/datasets/mobile_dataset.csv',sep=',')\n",
    "sources = pd.read_csv('/datasets/mobile_soures.csv',sep=',')\n",
    "display(logs.head(30))\n",
    "display(sources.head(30))"
   ]
  },
  {
   "cell_type": "markdown",
   "metadata": {},
   "source": [
    "logs: \n",
    "точно нужно названия столбцов переделать\n",
    "\n",
    "sources:\n",
    "тоже названия столбцов поправить"
   ]
  },
  {
   "cell_type": "code",
   "execution_count": 69,
   "metadata": {},
   "outputs": [],
   "source": [
    "# приведем названия столбцов к общему виду\n",
    "logs.columns = ['event_time','event_name', 'user_id']\n",
    "sources.columns = ['user_id', 'source']"
   ]
  },
  {
   "cell_type": "code",
   "execution_count": 70,
   "metadata": {
    "scrolled": false
   },
   "outputs": [
    {
     "name": "stdout",
     "output_type": "stream",
     "text": [
      "logs\n",
      "<class 'pandas.core.frame.DataFrame'>\n",
      "RangeIndex: 74197 entries, 0 to 74196\n",
      "Data columns (total 3 columns):\n",
      " #   Column      Non-Null Count  Dtype \n",
      "---  ------      --------------  ----- \n",
      " 0   event_time  74197 non-null  object\n",
      " 1   event_name  74197 non-null  object\n",
      " 2   user_id     74197 non-null  object\n",
      "dtypes: object(3)\n",
      "memory usage: 1.7+ MB\n",
      "\n",
      "\n",
      "\n",
      "sources\n",
      "<class 'pandas.core.frame.DataFrame'>\n",
      "RangeIndex: 4293 entries, 0 to 4292\n",
      "Data columns (total 2 columns):\n",
      " #   Column   Non-Null Count  Dtype \n",
      "---  ------   --------------  ----- \n",
      " 0   user_id  4293 non-null   object\n",
      " 1   source   4293 non-null   object\n",
      "dtypes: object(2)\n",
      "memory usage: 67.2+ KB\n"
     ]
    }
   ],
   "source": [
    "# посмотрим на общую инфу\n",
    "print ('logs')\n",
    "logs.info()\n",
    "print()\n",
    "print()\n",
    "print()\n",
    "print ('sources')\n",
    "sources.info()"
   ]
  },
  {
   "cell_type": "markdown",
   "metadata": {},
   "source": [
    "Всего в логе 74197 событий и 4293 уникальных пользователя\n",
    "\n",
    "Нужно заменить тип данных в столбце event_time, заодно округлить, нам не нужно настолько детализированное громоздкое время"
   ]
  },
  {
   "cell_type": "code",
   "execution_count": 71,
   "metadata": {},
   "outputs": [],
   "source": [
    "# приведем столбец event_time датасета logs к формату даты и округлим данные до секунд\n",
    "logs['event_time'] = pd.to_datetime(logs['event_time'], \n",
    "                                    format='%Y.%m.%d %H:%M:%S').dt.round('1S')"
   ]
  },
  {
   "cell_type": "code",
   "execution_count": 72,
   "metadata": {
    "scrolled": true
   },
   "outputs": [
    {
     "data": {
      "text/html": [
       "<style  type=\"text/css\" >\n",
       "#T_ba3c2_row0_col0,#T_ba3c2_row1_col0,#T_ba3c2_row2_col0{\n",
       "            background-color:  #3b4cc0;\n",
       "            color:  #f1f1f1;\n",
       "        }</style><table id=\"T_ba3c2_\" ><thead>    <tr>        <th class=\"blank level0\" ></th>        <th class=\"col_heading level0 col0\" >0</th>    </tr></thead><tbody>\n",
       "                <tr>\n",
       "                        <th id=\"T_ba3c2_level0_row0\" class=\"row_heading level0 row0\" >event_time</th>\n",
       "                        <td id=\"T_ba3c2_row0_col0\" class=\"data row0 col0\" >0.000000</td>\n",
       "            </tr>\n",
       "            <tr>\n",
       "                        <th id=\"T_ba3c2_level0_row1\" class=\"row_heading level0 row1\" >event_name</th>\n",
       "                        <td id=\"T_ba3c2_row1_col0\" class=\"data row1 col0\" >0.000000</td>\n",
       "            </tr>\n",
       "            <tr>\n",
       "                        <th id=\"T_ba3c2_level0_row2\" class=\"row_heading level0 row2\" >user_id</th>\n",
       "                        <td id=\"T_ba3c2_row2_col0\" class=\"data row2 col0\" >0.000000</td>\n",
       "            </tr>\n",
       "    </tbody></table>"
      ],
      "text/plain": [
       "<pandas.io.formats.style.Styler at 0x7f562018b4c0>"
      ]
     },
     "metadata": {},
     "output_type": "display_data"
    },
    {
     "data": {
      "text/html": [
       "<style  type=\"text/css\" >\n",
       "#T_cd232_row0_col0,#T_cd232_row1_col0{\n",
       "            background-color:  #3b4cc0;\n",
       "            color:  #f1f1f1;\n",
       "        }</style><table id=\"T_cd232_\" ><thead>    <tr>        <th class=\"blank level0\" ></th>        <th class=\"col_heading level0 col0\" >0</th>    </tr></thead><tbody>\n",
       "                <tr>\n",
       "                        <th id=\"T_cd232_level0_row0\" class=\"row_heading level0 row0\" >user_id</th>\n",
       "                        <td id=\"T_cd232_row0_col0\" class=\"data row0 col0\" >0.000000</td>\n",
       "            </tr>\n",
       "            <tr>\n",
       "                        <th id=\"T_cd232_level0_row1\" class=\"row_heading level0 row1\" >source</th>\n",
       "                        <td id=\"T_cd232_row1_col0\" class=\"data row1 col0\" >0.000000</td>\n",
       "            </tr>\n",
       "    </tbody></table>"
      ],
      "text/plain": [
       "<pandas.io.formats.style.Styler at 0x7f558df18ca0>"
      ]
     },
     "metadata": {},
     "output_type": "display_data"
    }
   ],
   "source": [
    "# посмотрим на процент пропусков по столбцам\n",
    "display(pd.DataFrame(round((logs.isna().mean()*100),2)).style.background_gradient('coolwarm'))\n",
    "display(pd.DataFrame(round((sources.isna().mean()*100),2)).style.background_gradient('coolwarm'))"
   ]
  },
  {
   "cell_type": "markdown",
   "metadata": {},
   "source": [
    "пропусков в датасетах нет"
   ]
  },
  {
   "cell_type": "code",
   "execution_count": 73,
   "metadata": {
    "scrolled": true
   },
   "outputs": [
    {
     "data": {
      "text/plain": [
       "1118"
      ]
     },
     "metadata": {},
     "output_type": "display_data"
    },
    {
     "data": {
      "text/plain": [
       "0"
      ]
     },
     "metadata": {},
     "output_type": "display_data"
    }
   ],
   "source": [
    "#проверим на целострочные дубликаты\n",
    "display(logs.duplicated().sum())\n",
    "display(sources.duplicated().sum())"
   ]
  },
  {
   "cell_type": "markdown",
   "metadata": {},
   "source": [
    "Полные строчные дубликаты в дф logs это нормально, так как мы округлили время."
   ]
  },
  {
   "cell_type": "markdown",
   "metadata": {},
   "source": [
    "Данные подготовлены"
   ]
  },
  {
   "cell_type": "markdown",
   "metadata": {},
   "source": [
    "## Исследовательский анализ данных (EDA)"
   ]
  },
  {
   "cell_type": "markdown",
   "metadata": {},
   "source": [
    "### Рассмотрим поподробнее датасеты"
   ]
  },
  {
   "cell_type": "markdown",
   "metadata": {},
   "source": [
    "**sources**"
   ]
  },
  {
   "cell_type": "code",
   "execution_count": 74,
   "metadata": {},
   "outputs": [
    {
     "data": {
      "text/html": [
       "<div>\n",
       "<style scoped>\n",
       "    .dataframe tbody tr th:only-of-type {\n",
       "        vertical-align: middle;\n",
       "    }\n",
       "\n",
       "    .dataframe tbody tr th {\n",
       "        vertical-align: top;\n",
       "    }\n",
       "\n",
       "    .dataframe thead th {\n",
       "        text-align: right;\n",
       "    }\n",
       "</style>\n",
       "<table border=\"1\" class=\"dataframe\">\n",
       "  <thead>\n",
       "    <tr style=\"text-align: right;\">\n",
       "      <th></th>\n",
       "      <th>user_id</th>\n",
       "      <th>source</th>\n",
       "    </tr>\n",
       "  </thead>\n",
       "  <tbody>\n",
       "    <tr>\n",
       "      <th>0</th>\n",
       "      <td>020292ab-89bc-4156-9acf-68bc2783f894</td>\n",
       "      <td>other</td>\n",
       "    </tr>\n",
       "    <tr>\n",
       "      <th>1</th>\n",
       "      <td>cf7eda61-9349-469f-ac27-e5b6f5ec475c</td>\n",
       "      <td>yandex</td>\n",
       "    </tr>\n",
       "    <tr>\n",
       "      <th>2</th>\n",
       "      <td>8c356c42-3ba9-4cb6-80b8-3f868d0192c3</td>\n",
       "      <td>yandex</td>\n",
       "    </tr>\n",
       "    <tr>\n",
       "      <th>3</th>\n",
       "      <td>d9b06b47-0f36-419b-bbb0-3533e582a6cb</td>\n",
       "      <td>other</td>\n",
       "    </tr>\n",
       "    <tr>\n",
       "      <th>4</th>\n",
       "      <td>f32e1e2a-3027-4693-b793-b7b3ff274439</td>\n",
       "      <td>google</td>\n",
       "    </tr>\n",
       "  </tbody>\n",
       "</table>\n",
       "</div>"
      ],
      "text/plain": [
       "                                user_id  source\n",
       "0  020292ab-89bc-4156-9acf-68bc2783f894   other\n",
       "1  cf7eda61-9349-469f-ac27-e5b6f5ec475c  yandex\n",
       "2  8c356c42-3ba9-4cb6-80b8-3f868d0192c3  yandex\n",
       "3  d9b06b47-0f36-419b-bbb0-3533e582a6cb   other\n",
       "4  f32e1e2a-3027-4693-b793-b7b3ff274439  google"
      ]
     },
     "execution_count": 74,
     "metadata": {},
     "output_type": "execute_result"
    }
   ],
   "source": [
    "sources.head()"
   ]
  },
  {
   "cell_type": "code",
   "execution_count": 75,
   "metadata": {
    "scrolled": true
   },
   "outputs": [
    {
     "data": {
      "text/plain": [
       "yandex    1934\n",
       "other     1230\n",
       "google    1129\n",
       "Name: source, dtype: int64"
      ]
     },
     "execution_count": 75,
     "metadata": {},
     "output_type": "execute_result"
    }
   ],
   "source": [
    "sources['source'].value_counts()"
   ]
  },
  {
   "cell_type": "markdown",
   "metadata": {},
   "source": [
    "У нас есть 3 источника траффика: яндекс, гугл и остальные\n",
    "\n",
    "Из яндекса приходит больше всего пользователей"
   ]
  },
  {
   "cell_type": "code",
   "execution_count": 76,
   "metadata": {
    "scrolled": true
   },
   "outputs": [
    {
     "data": {
      "text/plain": [
       "4293"
      ]
     },
     "metadata": {},
     "output_type": "display_data"
    },
    {
     "data": {
      "text/plain": [
       "4293"
      ]
     },
     "metadata": {},
     "output_type": "display_data"
    }
   ],
   "source": [
    "# проверим уникальность user_id\n",
    "display(len(sources))\n",
    "display(sources[\"user_id\"].nunique())"
   ]
  },
  {
   "cell_type": "markdown",
   "metadata": {},
   "source": [
    "пользователи уникальны и не дублируются"
   ]
  },
  {
   "cell_type": "markdown",
   "metadata": {},
   "source": [
    "**logs**"
   ]
  },
  {
   "cell_type": "code",
   "execution_count": 77,
   "metadata": {},
   "outputs": [
    {
     "data": {
      "text/html": [
       "<div>\n",
       "<style scoped>\n",
       "    .dataframe tbody tr th:only-of-type {\n",
       "        vertical-align: middle;\n",
       "    }\n",
       "\n",
       "    .dataframe tbody tr th {\n",
       "        vertical-align: top;\n",
       "    }\n",
       "\n",
       "    .dataframe thead th {\n",
       "        text-align: right;\n",
       "    }\n",
       "</style>\n",
       "<table border=\"1\" class=\"dataframe\">\n",
       "  <thead>\n",
       "    <tr style=\"text-align: right;\">\n",
       "      <th></th>\n",
       "      <th>event_time</th>\n",
       "      <th>event_name</th>\n",
       "      <th>user_id</th>\n",
       "    </tr>\n",
       "  </thead>\n",
       "  <tbody>\n",
       "    <tr>\n",
       "      <th>0</th>\n",
       "      <td>2019-10-07 00:00:00</td>\n",
       "      <td>advert_open</td>\n",
       "      <td>020292ab-89bc-4156-9acf-68bc2783f894</td>\n",
       "    </tr>\n",
       "    <tr>\n",
       "      <th>1</th>\n",
       "      <td>2019-10-07 00:00:01</td>\n",
       "      <td>tips_show</td>\n",
       "      <td>020292ab-89bc-4156-9acf-68bc2783f894</td>\n",
       "    </tr>\n",
       "    <tr>\n",
       "      <th>2</th>\n",
       "      <td>2019-10-07 00:00:02</td>\n",
       "      <td>tips_show</td>\n",
       "      <td>cf7eda61-9349-469f-ac27-e5b6f5ec475c</td>\n",
       "    </tr>\n",
       "    <tr>\n",
       "      <th>3</th>\n",
       "      <td>2019-10-07 00:00:07</td>\n",
       "      <td>tips_show</td>\n",
       "      <td>020292ab-89bc-4156-9acf-68bc2783f894</td>\n",
       "    </tr>\n",
       "    <tr>\n",
       "      <th>4</th>\n",
       "      <td>2019-10-07 00:00:56</td>\n",
       "      <td>advert_open</td>\n",
       "      <td>cf7eda61-9349-469f-ac27-e5b6f5ec475c</td>\n",
       "    </tr>\n",
       "  </tbody>\n",
       "</table>\n",
       "</div>"
      ],
      "text/plain": [
       "           event_time   event_name                               user_id\n",
       "0 2019-10-07 00:00:00  advert_open  020292ab-89bc-4156-9acf-68bc2783f894\n",
       "1 2019-10-07 00:00:01    tips_show  020292ab-89bc-4156-9acf-68bc2783f894\n",
       "2 2019-10-07 00:00:02    tips_show  cf7eda61-9349-469f-ac27-e5b6f5ec475c\n",
       "3 2019-10-07 00:00:07    tips_show  020292ab-89bc-4156-9acf-68bc2783f894\n",
       "4 2019-10-07 00:00:56  advert_open  cf7eda61-9349-469f-ac27-e5b6f5ec475c"
      ]
     },
     "execution_count": 77,
     "metadata": {},
     "output_type": "execute_result"
    }
   ],
   "source": [
    "logs.head()"
   ]
  },
  {
   "cell_type": "code",
   "execution_count": 78,
   "metadata": {
    "scrolled": false
   },
   "outputs": [
    {
     "data": {
      "text/plain": [
       "tips_show        40055\n",
       "photos_show      10012\n",
       "advert_open       6164\n",
       "contacts_show     4450\n",
       "map               3881\n",
       "search_1          3506\n",
       "favorites_add     1417\n",
       "search_5          1049\n",
       "tips_click         814\n",
       "search_4           701\n",
       "contacts_call      541\n",
       "search_3           522\n",
       "search_6           460\n",
       "search_2           324\n",
       "search_7           222\n",
       "show_contacts       79\n",
       "Name: event_name, dtype: int64"
      ]
     },
     "execution_count": 78,
     "metadata": {},
     "output_type": "execute_result"
    }
   ],
   "source": [
    "logs['event_name'].value_counts()"
   ]
  },
  {
   "cell_type": "markdown",
   "metadata": {},
   "source": [
    "show_contacts это одно и то же с contacts_show"
   ]
  },
  {
   "cell_type": "code",
   "execution_count": 79,
   "metadata": {
    "scrolled": true
   },
   "outputs": [
    {
     "data": {
      "text/plain": [
       "tips_show        40055\n",
       "photos_show      10012\n",
       "advert_open       6164\n",
       "contacts_show     4529\n",
       "map               3881\n",
       "search_1          3506\n",
       "favorites_add     1417\n",
       "search_5          1049\n",
       "tips_click         814\n",
       "search_4           701\n",
       "contacts_call      541\n",
       "search_3           522\n",
       "search_6           460\n",
       "search_2           324\n",
       "search_7           222\n",
       "Name: event_name, dtype: int64"
      ]
     },
     "execution_count": 79,
     "metadata": {},
     "output_type": "execute_result"
    }
   ],
   "source": [
    "logs.loc[logs['event_name']=='show_contacts', 'event_name'] = 'contacts_show'\n",
    "logs['event_name'].value_counts()"
   ]
  },
  {
   "cell_type": "markdown",
   "metadata": {},
   "source": [
    " Система рекомендаций работает очень активно - в логе больше всего событий \"пользователь увидел рекомендованные объявления\"\n",
    "\n",
    " Самые частые пользовательские события - просмотр фото и открытие карточки объявления\n",
    "\n",
    " Самые редкие пользовательские события - различные поисковые запросы, звонок по номеру телефона на карточке объявления и клик по по рекомендованному объявлению"
   ]
  },
  {
   "cell_type": "markdown",
   "metadata": {},
   "source": [
    "    \n",
    "**! что нужно поправить в процессе сбора данных !**\n",
    "\n",
    "- нужно бы ввести события start_session end_session\n",
    "\n",
    "- contacts_show и show_contacts нужно маркировать как одно событие"
   ]
  },
  {
   "cell_type": "code",
   "execution_count": 80,
   "metadata": {
    "scrolled": true
   },
   "outputs": [
    {
     "data": {
      "text/plain": [
       "4293"
      ]
     },
     "metadata": {},
     "output_type": "display_data"
    }
   ],
   "source": [
    "# проверим уникальность user_id\n",
    "display(logs[\"user_id\"].nunique())"
   ]
  },
  {
   "cell_type": "markdown",
   "metadata": {},
   "source": [
    "Количество уникальных пользователей  в logs совпадает с количеством уникальных пользователей в sources"
   ]
  },
  {
   "cell_type": "markdown",
   "metadata": {},
   "source": [
    "### Сколько в среднем событий приходится на пользователя?"
   ]
  },
  {
   "cell_type": "code",
   "execution_count": 81,
   "metadata": {},
   "outputs": [
    {
     "data": {
      "text/html": [
       "<div>\n",
       "<style scoped>\n",
       "    .dataframe tbody tr th:only-of-type {\n",
       "        vertical-align: middle;\n",
       "    }\n",
       "\n",
       "    .dataframe tbody tr th {\n",
       "        vertical-align: top;\n",
       "    }\n",
       "\n",
       "    .dataframe thead th {\n",
       "        text-align: right;\n",
       "    }\n",
       "</style>\n",
       "<table border=\"1\" class=\"dataframe\">\n",
       "  <thead>\n",
       "    <tr style=\"text-align: right;\">\n",
       "      <th></th>\n",
       "      <th>event_name</th>\n",
       "    </tr>\n",
       "    <tr>\n",
       "      <th>user_id</th>\n",
       "      <th></th>\n",
       "    </tr>\n",
       "  </thead>\n",
       "  <tbody>\n",
       "    <tr>\n",
       "      <th>0001b1d5-b74a-4cbf-aeb0-7df5947bf349</th>\n",
       "      <td>35</td>\n",
       "    </tr>\n",
       "    <tr>\n",
       "      <th>00157779-810c-4498-9e05-a1e9e3cedf93</th>\n",
       "      <td>71</td>\n",
       "    </tr>\n",
       "    <tr>\n",
       "      <th>00463033-5717-4bf1-91b4-09183923b9df</th>\n",
       "      <td>10</td>\n",
       "    </tr>\n",
       "    <tr>\n",
       "      <th>004690c3-5a84-4bb7-a8af-e0c8f8fca64e</th>\n",
       "      <td>32</td>\n",
       "    </tr>\n",
       "    <tr>\n",
       "      <th>00551e79-152e-4441-9cf7-565d7eb04090</th>\n",
       "      <td>8</td>\n",
       "    </tr>\n",
       "    <tr>\n",
       "      <th>...</th>\n",
       "      <td>...</td>\n",
       "    </tr>\n",
       "    <tr>\n",
       "      <th>ffab8d8a-30bb-424a-a3ab-0b63ebbf7b07</th>\n",
       "      <td>17</td>\n",
       "    </tr>\n",
       "    <tr>\n",
       "      <th>ffc01466-fdb1-4460-ae94-e800f52eb136</th>\n",
       "      <td>7</td>\n",
       "    </tr>\n",
       "    <tr>\n",
       "      <th>ffcf50d9-293c-4254-8243-4890b030b238</th>\n",
       "      <td>2</td>\n",
       "    </tr>\n",
       "    <tr>\n",
       "      <th>ffe68f10-e48e-470e-be9b-eeb93128ff1a</th>\n",
       "      <td>13</td>\n",
       "    </tr>\n",
       "    <tr>\n",
       "      <th>fffb9e79-b927-4dbb-9b48-7fd09b23a62b</th>\n",
       "      <td>303</td>\n",
       "    </tr>\n",
       "  </tbody>\n",
       "</table>\n",
       "<p>4293 rows × 1 columns</p>\n",
       "</div>"
      ],
      "text/plain": [
       "                                      event_name\n",
       "user_id                                         \n",
       "0001b1d5-b74a-4cbf-aeb0-7df5947bf349          35\n",
       "00157779-810c-4498-9e05-a1e9e3cedf93          71\n",
       "00463033-5717-4bf1-91b4-09183923b9df          10\n",
       "004690c3-5a84-4bb7-a8af-e0c8f8fca64e          32\n",
       "00551e79-152e-4441-9cf7-565d7eb04090           8\n",
       "...                                          ...\n",
       "ffab8d8a-30bb-424a-a3ab-0b63ebbf7b07          17\n",
       "ffc01466-fdb1-4460-ae94-e800f52eb136           7\n",
       "ffcf50d9-293c-4254-8243-4890b030b238           2\n",
       "ffe68f10-e48e-470e-be9b-eeb93128ff1a          13\n",
       "fffb9e79-b927-4dbb-9b48-7fd09b23a62b         303\n",
       "\n",
       "[4293 rows x 1 columns]"
      ]
     },
     "metadata": {},
     "output_type": "display_data"
    },
    {
     "data": {
      "text/html": [
       "<div>\n",
       "<style scoped>\n",
       "    .dataframe tbody tr th:only-of-type {\n",
       "        vertical-align: middle;\n",
       "    }\n",
       "\n",
       "    .dataframe tbody tr th {\n",
       "        vertical-align: top;\n",
       "    }\n",
       "\n",
       "    .dataframe thead th {\n",
       "        text-align: right;\n",
       "    }\n",
       "</style>\n",
       "<table border=\"1\" class=\"dataframe\">\n",
       "  <thead>\n",
       "    <tr style=\"text-align: right;\">\n",
       "      <th></th>\n",
       "      <th>event_name</th>\n",
       "    </tr>\n",
       "  </thead>\n",
       "  <tbody>\n",
       "    <tr>\n",
       "      <th>count</th>\n",
       "      <td>4293.000000</td>\n",
       "    </tr>\n",
       "    <tr>\n",
       "      <th>mean</th>\n",
       "      <td>17.283252</td>\n",
       "    </tr>\n",
       "    <tr>\n",
       "      <th>std</th>\n",
       "      <td>29.130677</td>\n",
       "    </tr>\n",
       "    <tr>\n",
       "      <th>min</th>\n",
       "      <td>1.000000</td>\n",
       "    </tr>\n",
       "    <tr>\n",
       "      <th>25%</th>\n",
       "      <td>5.000000</td>\n",
       "    </tr>\n",
       "    <tr>\n",
       "      <th>50%</th>\n",
       "      <td>9.000000</td>\n",
       "    </tr>\n",
       "    <tr>\n",
       "      <th>75%</th>\n",
       "      <td>17.000000</td>\n",
       "    </tr>\n",
       "    <tr>\n",
       "      <th>max</th>\n",
       "      <td>478.000000</td>\n",
       "    </tr>\n",
       "  </tbody>\n",
       "</table>\n",
       "</div>"
      ],
      "text/plain": [
       "        event_name\n",
       "count  4293.000000\n",
       "mean     17.283252\n",
       "std      29.130677\n",
       "min       1.000000\n",
       "25%       5.000000\n",
       "50%       9.000000\n",
       "75%      17.000000\n",
       "max     478.000000"
      ]
     },
     "execution_count": 81,
     "metadata": {},
     "output_type": "execute_result"
    }
   ],
   "source": [
    "event_per_user = logs.pivot_table(index='user_id', aggfunc={'event_name':'count'})\n",
    "display(event_per_user)\n",
    "event_per_user.describe()"
   ]
  },
  {
   "cell_type": "markdown",
   "metadata": {},
   "source": [
    "В среднем на пользователя приходится по 17.3 событий"
   ]
  },
  {
   "cell_type": "code",
   "execution_count": 82,
   "metadata": {
    "scrolled": true
   },
   "outputs": [
    {
     "data": {
      "text/plain": [
       "1"
      ]
     },
     "metadata": {},
     "output_type": "display_data"
    },
    {
     "data": {
      "text/plain": [
       "478"
      ]
     },
     "metadata": {},
     "output_type": "display_data"
    }
   ],
   "source": [
    "# выведем минимум событий на одного пользователя\n",
    "display(event_per_user['event_name'].min())\n",
    "# выведем максимум событий на одного пользователя\n",
    "display(event_per_user['event_name'].max())"
   ]
  },
  {
   "cell_type": "markdown",
   "metadata": {},
   "source": [
    "Минимум событий на одного пользователя: 1\n",
    "\n",
    "Максимум событий на одного пользователя: 478"
   ]
  },
  {
   "cell_type": "code",
   "execution_count": 83,
   "metadata": {
    "scrolled": true
   },
   "outputs": [
    {
     "data": {
      "text/plain": [
       "Text(0.5, 1.0, 'Количество событий на пользователя')"
      ]
     },
     "execution_count": 83,
     "metadata": {},
     "output_type": "execute_result"
    },
    {
     "data": {
      "image/png": "[encoded data removed]",
      "text/plain": [
       "<Figure size 936x360 with 1 Axes>"
      ]
     },
     "metadata": {
      "needs_background": "light"
     },
     "output_type": "display_data"
    }
   ],
   "source": [
    "plt.figure(figsize=(13,5))\n",
    "plt.hist(event_per_user, bins=100, range=(0,300)) \n",
    "plt.xlabel('Пользователи')\n",
    "plt.grid()\n",
    "plt.ylabel('События')\n",
    "plt.title('Количество событий на пользователя')"
   ]
  },
  {
   "cell_type": "markdown",
   "metadata": {},
   "source": [
    "выбросы примерно после 125-150, но проверим"
   ]
  },
  {
   "cell_type": "code",
   "execution_count": 84,
   "metadata": {
    "scrolled": false
   },
   "outputs": [
    {
     "data": {
      "application/vnd.plotly.v1+json": {
       "config": {
        "plotlyServerURL": "https://plot.ly"
       },
       "data": [
        {
         "hoverinfo": "all",
         "hovertemplate": "Количество событий: %{y}",
         "mode": "markers",
         "showlegend": false,
         "type": "scatter",
         "y": [
          35,
          71,
          10,
          32,
          8,
          11,
          5,
          5,
          6,
          5,
          18,
          9,
          8,
          15,
          6,
          5,
          7,
          13,
          2,
          11,
          2,
          30,
          15,
          26,
          5,
          5,
          7,
          41,
          4,
          3,
          6,
          12,
          8,
          15,
          10,
          3,
          23,
          28,
          27,
          3,
          8,
          10,
          11,
          3,
          40,
          15,
          22,
          6,
          15,
          3,
          24,
          10,
          7,
          13,
          28,
          6,
          16,
          9,
          12,
          5,
          5,
          17,
          32,
          26,
          13,
          4,
          20,
          110,
          15,
          19,
          170,
          7,
          6,
          77,
          16,
          6,
          33,
          28,
          18,
          4,
          2,
          23,
          5,
          18,
          35,
          4,
          9,
          6,
          6,
          13,
          12,
          97,
          7,
          7,
          6,
          15,
          105,
          4,
          11,
          5,
          5,
          18,
          12,
          4,
          2,
          18,
          16,
          11,
          138,
          9,
          4,
          9,
          14,
          12,
          87,
          7,
          12,
          18,
          1,
          24,
          11,
          43,
          97,
          5,
          1,
          4,
          20,
          13,
          13,
          17,
          17,
          4,
          5,
          9,
          7,
          21,
          79,
          9,
          19,
          28,
          19,
          17,
          7,
          37,
          18,
          27,
          6,
          2,
          6,
          15,
          4,
          38,
          10,
          6,
          17,
          19,
          8,
          4,
          13,
          15,
          16,
          15,
          46,
          3,
          6,
          6,
          7,
          5,
          12,
          9,
          43,
          5,
          7,
          19,
          15,
          6,
          7,
          54,
          14,
          10,
          19,
          65,
          14,
          74,
          30,
          12,
          12,
          5,
          30,
          39,
          9,
          17,
          8,
          6,
          14,
          55,
          16,
          5,
          6,
          5,
          4,
          4,
          1,
          2,
          2,
          2,
          55,
          35,
          7,
          10,
          48,
          8,
          3,
          6,
          30,
          60,
          35,
          4,
          6,
          6,
          24,
          15,
          4,
          29,
          10,
          4,
          5,
          61,
          4,
          5,
          137,
          8,
          32,
          5,
          16,
          162,
          4,
          4,
          21,
          8,
          10,
          6,
          1,
          3,
          6,
          7,
          15,
          9,
          7,
          4,
          10,
          5,
          6,
          2,
          40,
          4,
          19,
          3,
          6,
          5,
          12,
          2,
          4,
          5,
          9,
          23,
          5,
          12,
          37,
          4,
          1,
          28,
          6,
          48,
          19,
          17,
          79,
          61,
          33,
          12,
          8,
          5,
          4,
          7,
          11,
          13,
          24,
          23,
          11,
          7,
          12,
          4,
          11,
          19,
          17,
          5,
          4,
          8,
          4,
          22,
          18,
          5,
          9,
          17,
          5,
          10,
          7,
          9,
          9,
          6,
          4,
          6,
          20,
          5,
          76,
          5,
          14,
          4,
          10,
          67,
          13,
          15,
          7,
          9,
          5,
          6,
          9,
          5,
          3,
          11,
          5,
          10,
          5,
          17,
          1,
          15,
          9,
          5,
          6,
          11,
          5,
          8,
          1,
          7,
          15,
          21,
          12,
          3,
          6,
          7,
          10,
          4,
          5,
          3,
          2,
          37,
          12,
          5,
          17,
          10,
          114,
          8,
          10,
          63,
          8,
          5,
          6,
          10,
          47,
          4,
          6,
          11,
          19,
          29,
          9,
          4,
          7,
          7,
          10,
          22,
          11,
          5,
          9,
          16,
          6,
          27,
          10,
          7,
          5,
          7,
          12,
          5,
          7,
          14,
          21,
          20,
          15,
          20,
          9,
          6,
          29,
          265,
          10,
          11,
          5,
          9,
          10,
          8,
          5,
          14,
          13,
          9,
          14,
          5,
          7,
          25,
          15,
          17,
          13,
          37,
          5,
          71,
          22,
          6,
          8,
          45,
          8,
          5,
          22,
          3,
          4,
          9,
          35,
          4,
          36,
          36,
          4,
          16,
          7,
          17,
          22,
          9,
          11,
          11,
          8,
          37,
          9,
          4,
          9,
          5,
          11,
          3,
          3,
          38,
          6,
          2,
          9,
          99,
          15,
          10,
          1,
          59,
          12,
          9,
          6,
          20,
          8,
          12,
          5,
          6,
          5,
          8,
          33,
          6,
          14,
          65,
          5,
          6,
          7,
          38,
          6,
          44,
          21,
          4,
          41,
          5,
          85,
          4,
          8,
          35,
          10,
          31,
          13,
          6,
          6,
          12,
          14,
          6,
          44,
          7,
          5,
          14,
          5,
          4,
          2,
          8,
          6,
          7,
          1,
          76,
          5,
          14,
          8,
          18,
          7,
          9,
          50,
          26,
          18,
          8,
          10,
          12,
          47,
          2,
          57,
          27,
          5,
          3,
          4,
          8,
          13,
          29,
          8,
          32,
          6,
          7,
          30,
          10,
          2,
          22,
          7,
          10,
          4,
          12,
          7,
          17,
          5,
          7,
          27,
          25,
          8,
          15,
          4,
          4,
          11,
          13,
          5,
          2,
          39,
          37,
          17,
          16,
          1,
          15,
          11,
          8,
          6,
          11,
          53,
          4,
          5,
          22,
          5,
          250,
          7,
          49,
          8,
          5,
          24,
          12,
          11,
          11,
          4,
          24,
          12,
          74,
          9,
          30,
          7,
          10,
          5,
          50,
          12,
          14,
          20,
          8,
          5,
          4,
          64,
          8,
          12,
          9,
          7,
          5,
          14,
          5,
          8,
          26,
          4,
          25,
          9,
          4,
          16,
          8,
          7,
          400,
          5,
          10,
          6,
          15,
          25,
          9,
          17,
          65,
          4,
          3,
          13,
          8,
          4,
          6,
          8,
          5,
          44,
          5,
          5,
          8,
          15,
          6,
          7,
          28,
          4,
          10,
          5,
          37,
          4,
          25,
          4,
          10,
          8,
          7,
          5,
          6,
          13,
          7,
          7,
          5,
          4,
          39,
          30,
          21,
          9,
          9,
          7,
          4,
          5,
          14,
          34,
          20,
          7,
          21,
          5,
          2,
          74,
          4,
          5,
          8,
          6,
          8,
          129,
          4,
          16,
          9,
          11,
          37,
          35,
          16,
          8,
          62,
          121,
          9,
          5,
          8,
          10,
          8,
          17,
          11,
          41,
          5,
          4,
          5,
          4,
          14,
          4,
          13,
          19,
          17,
          1,
          20,
          4,
          22,
          6,
          8,
          64,
          20,
          3,
          13,
          5,
          8,
          5,
          13,
          20,
          9,
          25,
          15,
          10,
          7,
          9,
          4,
          4,
          9,
          17,
          4,
          13,
          32,
          5,
          1,
          12,
          12,
          10,
          23,
          308,
          5,
          6,
          7,
          13,
          6,
          38,
          5,
          6,
          39,
          26,
          30,
          11,
          16,
          7,
          14,
          5,
          14,
          17,
          10,
          53,
          12,
          18,
          11,
          18,
          21,
          14,
          5,
          12,
          14,
          13,
          4,
          7,
          4,
          73,
          68,
          7,
          6,
          7,
          14,
          16,
          13,
          7,
          9,
          15,
          17,
          6,
          52,
          10,
          4,
          19,
          8,
          12,
          9,
          40,
          11,
          3,
          12,
          7,
          1,
          186,
          5,
          7,
          7,
          35,
          5,
          7,
          5,
          14,
          4,
          1,
          34,
          57,
          42,
          38,
          8,
          60,
          9,
          5,
          7,
          10,
          5,
          4,
          28,
          10,
          59,
          6,
          11,
          7,
          8,
          4,
          40,
          9,
          14,
          8,
          3,
          66,
          16,
          1,
          6,
          10,
          7,
          21,
          3,
          14,
          10,
          34,
          17,
          111,
          1,
          31,
          7,
          15,
          5,
          4,
          8,
          6,
          13,
          12,
          26,
          353,
          4,
          40,
          17,
          3,
          6,
          22,
          27,
          17,
          14,
          4,
          5,
          15,
          16,
          85,
          9,
          9,
          8,
          7,
          10,
          22,
          2,
          24,
          15,
          6,
          11,
          6,
          3,
          6,
          7,
          4,
          4,
          11,
          14,
          8,
          28,
          5,
          14,
          4,
          13,
          17,
          5,
          7,
          14,
          8,
          11,
          4,
          21,
          8,
          22,
          55,
          7,
          7,
          163,
          3,
          10,
          1,
          6,
          64,
          21,
          16,
          32,
          75,
          13,
          5,
          75,
          5,
          25,
          11,
          11,
          21,
          9,
          5,
          5,
          12,
          16,
          33,
          4,
          5,
          16,
          9,
          5,
          9,
          45,
          30,
          65,
          10,
          24,
          5,
          22,
          18,
          6,
          5,
          8,
          30,
          3,
          9,
          6,
          25,
          6,
          7,
          29,
          14,
          6,
          6,
          6,
          41,
          10,
          12,
          7,
          2,
          12,
          19,
          2,
          47,
          14,
          14,
          7,
          10,
          8,
          23,
          26,
          5,
          20,
          2,
          4,
          15,
          52,
          10,
          1,
          10,
          23,
          19,
          5,
          5,
          10,
          5,
          3,
          13,
          7,
          6,
          4,
          6,
          15,
          7,
          1,
          5,
          19,
          5,
          9,
          4,
          14,
          13,
          3,
          12,
          1,
          8,
          7,
          3,
          22,
          14,
          25,
          4,
          5,
          14,
          4,
          19,
          4,
          12,
          7,
          69,
          5,
          8,
          15,
          5,
          6,
          2,
          5,
          11,
          4,
          5,
          19,
          10,
          19,
          5,
          7,
          10,
          6,
          5,
          4,
          5,
          14,
          10,
          3,
          7,
          6,
          4,
          1,
          12,
          32,
          4,
          6,
          15,
          15,
          4,
          8,
          4,
          12,
          8,
          5,
          15,
          8,
          17,
          4,
          5,
          13,
          9,
          11,
          5,
          76,
          9,
          53,
          2,
          67,
          5,
          1,
          20,
          4,
          20,
          4,
          20,
          8,
          61,
          49,
          7,
          6,
          8,
          7,
          10,
          6,
          18,
          6,
          7,
          6,
          7,
          3,
          30,
          3,
          9,
          4,
          8,
          25,
          8,
          7,
          50,
          16,
          4,
          8,
          3,
          12,
          5,
          2,
          15,
          4,
          7,
          4,
          29,
          20,
          4,
          20,
          6,
          12,
          15,
          18,
          17,
          10,
          4,
          5,
          5,
          10,
          17,
          6,
          7,
          6,
          62,
          11,
          6,
          6,
          9,
          26,
          27,
          7,
          31,
          29,
          7,
          5,
          2,
          7,
          4,
          5,
          6,
          132,
          15,
          9,
          1,
          15,
          12,
          22,
          20,
          5,
          4,
          22,
          4,
          7,
          10,
          6,
          9,
          40,
          5,
          7,
          4,
          2,
          7,
          3,
          4,
          6,
          43,
          65,
          5,
          7,
          3,
          44,
          3,
          5,
          6,
          10,
          7,
          9,
          8,
          3,
          161,
          5,
          11,
          12,
          5,
          7,
          10,
          47,
          13,
          12,
          44,
          42,
          29,
          6,
          17,
          4,
          6,
          15,
          13,
          8,
          19,
          11,
          45,
          12,
          9,
          6,
          5,
          10,
          3,
          4,
          19,
          10,
          7,
          8,
          33,
          5,
          3,
          23,
          5,
          35,
          36,
          23,
          13,
          17,
          11,
          15,
          43,
          5,
          21,
          64,
          7,
          42,
          34,
          11,
          10,
          6,
          3,
          4,
          2,
          5,
          4,
          5,
          10,
          42,
          34,
          8,
          4,
          17,
          31,
          6,
          79,
          11,
          10,
          8,
          151,
          11,
          5,
          11,
          8,
          9,
          10,
          26,
          4,
          20,
          30,
          15,
          4,
          6,
          10,
          5,
          4,
          6,
          7,
          7,
          6,
          7,
          4,
          4,
          6,
          3,
          5,
          4,
          4,
          15,
          9,
          8,
          2,
          4,
          5,
          24,
          15,
          4,
          8,
          28,
          6,
          15,
          10,
          18,
          7,
          37,
          4,
          4,
          23,
          8,
          11,
          16,
          10,
          8,
          5,
          5,
          18,
          5,
          4,
          5,
          30,
          12,
          39,
          16,
          6,
          24,
          26,
          28,
          87,
          8,
          11,
          4,
          32,
          9,
          5,
          2,
          17,
          22,
          40,
          7,
          93,
          6,
          6,
          4,
          23,
          3,
          4,
          41,
          25,
          2,
          12,
          4,
          5,
          11,
          3,
          21,
          5,
          16,
          7,
          8,
          5,
          6,
          62,
          45,
          13,
          28,
          4,
          14,
          20,
          7,
          9,
          19,
          17,
          6,
          3,
          4,
          21,
          12,
          8,
          17,
          6,
          6,
          2,
          10,
          5,
          8,
          6,
          18,
          13,
          5,
          5,
          50,
          3,
          4,
          18,
          10,
          7,
          12,
          5,
          10,
          7,
          22,
          7,
          4,
          10,
          7,
          11,
          38,
          43,
          6,
          1,
          4,
          8,
          28,
          23,
          11,
          26,
          16,
          3,
          5,
          7,
          14,
          1,
          10,
          6,
          8,
          11,
          14,
          11,
          7,
          5,
          5,
          57,
          5,
          5,
          5,
          111,
          24,
          6,
          5,
          53,
          10,
          12,
          29,
          7,
          27,
          4,
          16,
          6,
          6,
          40,
          12,
          48,
          14,
          7,
          15,
          1,
          14,
          4,
          42,
          5,
          11,
          11,
          4,
          11,
          5,
          4,
          76,
          11,
          5,
          10,
          82,
          12,
          19,
          7,
          7,
          6,
          5,
          11,
          42,
          5,
          12,
          3,
          16,
          16,
          29,
          4,
          12,
          23,
          6,
          29,
          26,
          6,
          3,
          5,
          33,
          4,
          12,
          68,
          7,
          2,
          15,
          16,
          8,
          12,
          9,
          14,
          6,
          7,
          11,
          1,
          178,
          5,
          20,
          10,
          53,
          8,
          14,
          12,
          5,
          4,
          9,
          5,
          7,
          10,
          4,
          2,
          12,
          15,
          10,
          8,
          23,
          5,
          4,
          27,
          4,
          22,
          79,
          5,
          10,
          8,
          1,
          7,
          11,
          4,
          5,
          11,
          13,
          13,
          121,
          4,
          54,
          5,
          22,
          15,
          18,
          10,
          7,
          6,
          9,
          14,
          16,
          22,
          119,
          3,
          5,
          13,
          18,
          40,
          6,
          35,
          4,
          5,
          1,
          8,
          6,
          8,
          10,
          5,
          6,
          6,
          12,
          22,
          5,
          4,
          5,
          10,
          4,
          6,
          11,
          5,
          34,
          4,
          45,
          15,
          5,
          11,
          7,
          6,
          42,
          15,
          46,
          10,
          6,
          5,
          12,
          37,
          9,
          5,
          5,
          13,
          13,
          5,
          30,
          7,
          10,
          8,
          23,
          1,
          11,
          79,
          5,
          5,
          10,
          4,
          31,
          9,
          12,
          12,
          5,
          5,
          6,
          8,
          127,
          13,
          22,
          5,
          5,
          4,
          14,
          9,
          8,
          3,
          7,
          5,
          10,
          25,
          4,
          19,
          72,
          8,
          14,
          15,
          5,
          76,
          68,
          7,
          25,
          9,
          4,
          7,
          7,
          11,
          7,
          9,
          25,
          62,
          9,
          7,
          8,
          8,
          19,
          3,
          7,
          21,
          78,
          10,
          6,
          6,
          34,
          15,
          10,
          5,
          11,
          23,
          13,
          8,
          39,
          5,
          8,
          40,
          30,
          11,
          12,
          3,
          9,
          5,
          8,
          4,
          6,
          36,
          4,
          5,
          7,
          13,
          19,
          4,
          6,
          6,
          4,
          7,
          7,
          17,
          4,
          42,
          4,
          13,
          17,
          1,
          20,
          9,
          5,
          3,
          26,
          9,
          41,
          31,
          11,
          3,
          8,
          11,
          6,
          22,
          45,
          7,
          18,
          42,
          4,
          31,
          10,
          8,
          7,
          5,
          11,
          9,
          3,
          22,
          12,
          26,
          10,
          10,
          12,
          5,
          11,
          20,
          15,
          8,
          6,
          181,
          175,
          1,
          9,
          1,
          7,
          13,
          3,
          6,
          27,
          7,
          5,
          6,
          4,
          170,
          7,
          59,
          4,
          12,
          15,
          14,
          13,
          23,
          7,
          62,
          7,
          2,
          20,
          10,
          52,
          6,
          5,
          16,
          14,
          10,
          24,
          8,
          1,
          4,
          8,
          7,
          61,
          4,
          5,
          75,
          6,
          4,
          4,
          15,
          18,
          4,
          12,
          13,
          6,
          18,
          22,
          2,
          14,
          19,
          5,
          5,
          16,
          20,
          2,
          10,
          7,
          4,
          5,
          18,
          27,
          5,
          26,
          15,
          8,
          4,
          22,
          8,
          4,
          2,
          72,
          4,
          9,
          5,
          8,
          17,
          7,
          13,
          24,
          11,
          6,
          24,
          12,
          23,
          6,
          7,
          3,
          5,
          46,
          4,
          5,
          5,
          5,
          4,
          89,
          10,
          28,
          22,
          9,
          5,
          18,
          11,
          6,
          4,
          64,
          4,
          1,
          3,
          6,
          6,
          24,
          9,
          16,
          6,
          30,
          17,
          7,
          11,
          13,
          4,
          61,
          16,
          4,
          3,
          5,
          5,
          8,
          23,
          4,
          4,
          6,
          5,
          6,
          99,
          10,
          10,
          3,
          6,
          4,
          5,
          41,
          4,
          70,
          10,
          5,
          9,
          17,
          6,
          9,
          4,
          2,
          15,
          13,
          13,
          93,
          8,
          23,
          5,
          23,
          8,
          7,
          6,
          3,
          2,
          9,
          11,
          4,
          2,
          7,
          34,
          6,
          6,
          9,
          33,
          74,
          7,
          15,
          5,
          8,
          5,
          11,
          5,
          17,
          8,
          11,
          11,
          6,
          4,
          8,
          8,
          43,
          14,
          9,
          51,
          9,
          5,
          9,
          9,
          3,
          2,
          9,
          18,
          4,
          23,
          5,
          6,
          10,
          8,
          9,
          5,
          11,
          5,
          5,
          3,
          17,
          4,
          4,
          65,
          28,
          8,
          5,
          15,
          32,
          11,
          5,
          31,
          6,
          9,
          24,
          34,
          43,
          59,
          3,
          9,
          4,
          30,
          5,
          11,
          32,
          5,
          6,
          72,
          5,
          4,
          14,
          5,
          7,
          23,
          15,
          7,
          1,
          21,
          8,
          8,
          14,
          124,
          5,
          8,
          75,
          6,
          6,
          8,
          11,
          4,
          6,
          8,
          10,
          7,
          4,
          8,
          10,
          49,
          5,
          3,
          19,
          37,
          9,
          69,
          5,
          24,
          31,
          5,
          3,
          13,
          7,
          5,
          8,
          8,
          9,
          10,
          8,
          6,
          41,
          17,
          10,
          8,
          4,
          62,
          10,
          5,
          6,
          12,
          5,
          9,
          7,
          6,
          28,
          8,
          31,
          8,
          2,
          6,
          6,
          6,
          4,
          6,
          33,
          27,
          6,
          18,
          7,
          28,
          48,
          12,
          5,
          5,
          4,
          5,
          19,
          11,
          4,
          50,
          7,
          17,
          4,
          6,
          57,
          2,
          14,
          7,
          9,
          23,
          44,
          13,
          5,
          26,
          5,
          4,
          4,
          53,
          8,
          5,
          29,
          27,
          30,
          1,
          26,
          8,
          1,
          6,
          21,
          10,
          16,
          4,
          11,
          9,
          12,
          5,
          8,
          9,
          20,
          7,
          13,
          5,
          7,
          45,
          7,
          16,
          18,
          20,
          6,
          4,
          9,
          4,
          38,
          46,
          11,
          4,
          4,
          15,
          16,
          16,
          5,
          10,
          7,
          3,
          80,
          6,
          4,
          5,
          5,
          12,
          14,
          7,
          107,
          13,
          80,
          9,
          1,
          7,
          30,
          5,
          6,
          8,
          3,
          26,
          19,
          26,
          14,
          3,
          58,
          6,
          5,
          5,
          25,
          4,
          15,
          18,
          14,
          19,
          162,
          19,
          6,
          7,
          12,
          18,
          27,
          4,
          4,
          6,
          4,
          9,
          15,
          4,
          12,
          19,
          5,
          43,
          4,
          7,
          5,
          6,
          9,
          47,
          3,
          6,
          12,
          34,
          9,
          24,
          8,
          15,
          94,
          6,
          12,
          9,
          5,
          5,
          21,
          2,
          4,
          6,
          9,
          10,
          5,
          8,
          14,
          5,
          93,
          4,
          33,
          13,
          12,
          55,
          7,
          13,
          6,
          13,
          5,
          6,
          17,
          10,
          29,
          21,
          6,
          5,
          5,
          7,
          7,
          4,
          3,
          4,
          151,
          47,
          119,
          6,
          24,
          8,
          85,
          10,
          4,
          5,
          15,
          8,
          15,
          10,
          11,
          6,
          11,
          5,
          4,
          6,
          7,
          4,
          4,
          38,
          10,
          4,
          3,
          6,
          8,
          15,
          3,
          22,
          8,
          7,
          28,
          6,
          6,
          6,
          5,
          12,
          6,
          9,
          27,
          8,
          5,
          28,
          5,
          16,
          11,
          4,
          52,
          4,
          39,
          5,
          5,
          8,
          8,
          7,
          71,
          8,
          6,
          16,
          5,
          8,
          33,
          16,
          19,
          16,
          17,
          13,
          33,
          2,
          5,
          3,
          5,
          5,
          8,
          7,
          2,
          4,
          22,
          3,
          1,
          20,
          14,
          9,
          8,
          4,
          12,
          36,
          96,
          23,
          5,
          15,
          1,
          5,
          12,
          7,
          47,
          20,
          5,
          9,
          19,
          14,
          15,
          5,
          4,
          33,
          5,
          4,
          36,
          5,
          22,
          5,
          10,
          6,
          16,
          59,
          7,
          1,
          20,
          6,
          8,
          6,
          6,
          9,
          19,
          8,
          3,
          10,
          8,
          28,
          6,
          30,
          7,
          6,
          8,
          3,
          21,
          31,
          9,
          5,
          70,
          8,
          11,
          7,
          43,
          6,
          1,
          28,
          12,
          14,
          4,
          49,
          5,
          11,
          4,
          11,
          14,
          5,
          6,
          28,
          25,
          16,
          1,
          3,
          9,
          7,
          11,
          11,
          2,
          5,
          3,
          8,
          9,
          5,
          2,
          6,
          11,
          5,
          7,
          5,
          4,
          21,
          8,
          28,
          6,
          26,
          11,
          15,
          6,
          4,
          22,
          5,
          13,
          3,
          7,
          7,
          5,
          5,
          5,
          12,
          2,
          18,
          4,
          2,
          7,
          5,
          22,
          7,
          12,
          5,
          5,
          9,
          8,
          7,
          17,
          20,
          4,
          9,
          29,
          6,
          9,
          15,
          247,
          4,
          10,
          20,
          9,
          15,
          9,
          7,
          54,
          9,
          21,
          4,
          5,
          43,
          19,
          86,
          4,
          4,
          52,
          15,
          10,
          5,
          3,
          38,
          34,
          12,
          21,
          37,
          11,
          25,
          15,
          14,
          4,
          41,
          7,
          4,
          54,
          7,
          63,
          13,
          149,
          90,
          9,
          13,
          4,
          8,
          17,
          14,
          7,
          5,
          12,
          20,
          9,
          18,
          4,
          17,
          17,
          7,
          46,
          10,
          5,
          25,
          15,
          6,
          11,
          32,
          35,
          5,
          28,
          12,
          5,
          4,
          11,
          9,
          15,
          3,
          6,
          2,
          27,
          8,
          14,
          12,
          18,
          18,
          14,
          4,
          26,
          119,
          2,
          42,
          19,
          19,
          15,
          11,
          18,
          8,
          8,
          18,
          8,
          17,
          13,
          249,
          3,
          10,
          15,
          5,
          6,
          6,
          17,
          62,
          7,
          18,
          5,
          4,
          4,
          127,
          156,
          15,
          8,
          80,
          77,
          17,
          407,
          5,
          8,
          6,
          124,
          146,
          4,
          7,
          26,
          23,
          4,
          5,
          4,
          4,
          5,
          6,
          6,
          17,
          3,
          3,
          6,
          4,
          27,
          5,
          20,
          12,
          6,
          98,
          26,
          4,
          5,
          17,
          4,
          6,
          14,
          39,
          7,
          5,
          15,
          6,
          16,
          8,
          13,
          5,
          4,
          5,
          86,
          85,
          13,
          4,
          4,
          23,
          67,
          4,
          14,
          13,
          3,
          7,
          29,
          27,
          12,
          4,
          36,
          39,
          12,
          21,
          7,
          6,
          26,
          7,
          4,
          62,
          9,
          17,
          7,
          2,
          9,
          6,
          3,
          14,
          11,
          14,
          5,
          33,
          63,
          19,
          12,
          6,
          13,
          6,
          10,
          44,
          1,
          7,
          13,
          6,
          9,
          15,
          6,
          11,
          5,
          3,
          58,
          6,
          38,
          10,
          1,
          41,
          4,
          5,
          5,
          8,
          21,
          10,
          3,
          5,
          5,
          13,
          62,
          4,
          32,
          8,
          3,
          6,
          20,
          4,
          5,
          14,
          5,
          10,
          6,
          27,
          4,
          7,
          25,
          5,
          7,
          10,
          10,
          8,
          175,
          32,
          10,
          60,
          34,
          4,
          14,
          4,
          5,
          6,
          5,
          4,
          11,
          3,
          5,
          19,
          15,
          12,
          10,
          5,
          26,
          69,
          17,
          10,
          24,
          8,
          9,
          22,
          4,
          33,
          11,
          26,
          8,
          5,
          4,
          6,
          45,
          8,
          39,
          29,
          7,
          4,
          6,
          4,
          20,
          6,
          4,
          7,
          5,
          13,
          6,
          7,
          1,
          10,
          14,
          11,
          101,
          18,
          4,
          10,
          4,
          19,
          11,
          73,
          6,
          12,
          13,
          23,
          12,
          46,
          7,
          16,
          5,
          4,
          39,
          10,
          8,
          36,
          21,
          14,
          2,
          6,
          12,
          6,
          31,
          5,
          17,
          10,
          11,
          4,
          12,
          11,
          6,
          5,
          17,
          5,
          2,
          15,
          15,
          11,
          23,
          14,
          3,
          6,
          9,
          26,
          5,
          14,
          9,
          27,
          4,
          9,
          10,
          10,
          1,
          37,
          51,
          169,
          356,
          11,
          13,
          4,
          12,
          16,
          5,
          10,
          8,
          9,
          53,
          84,
          8,
          4,
          28,
          15,
          3,
          4,
          6,
          21,
          6,
          10,
          102,
          3,
          30,
          13,
          9,
          5,
          71,
          8,
          7,
          3,
          7,
          6,
          8,
          4,
          14,
          17,
          11,
          5,
          8,
          5,
          14,
          11,
          88,
          156,
          16,
          7,
          15,
          58,
          1,
          6,
          6,
          28,
          16,
          25,
          8,
          22,
          21,
          7,
          12,
          4,
          13,
          40,
          2,
          141,
          5,
          50,
          4,
          5,
          5,
          125,
          2,
          13,
          9,
          11,
          23,
          15,
          9,
          7,
          7,
          5,
          6,
          4,
          12,
          10,
          5,
          15,
          12,
          6,
          8,
          9,
          14,
          7,
          4,
          13,
          16,
          4,
          37,
          11,
          10,
          5,
          5,
          6,
          10,
          16,
          12,
          14,
          48,
          5,
          8,
          7,
          15,
          28,
          15,
          6,
          3,
          6,
          5,
          1,
          16,
          17,
          32,
          6,
          70,
          13,
          5,
          6,
          6,
          4,
          11,
          55,
          32,
          9,
          6,
          4,
          29,
          10,
          7,
          7,
          7,
          7,
          8,
          11,
          5,
          10,
          3,
          96,
          25,
          14,
          12,
          6,
          21,
          13,
          10,
          8,
          1,
          8,
          8,
          88,
          18,
          13,
          5,
          19,
          4,
          4,
          45,
          10,
          9,
          10,
          83,
          6,
          15,
          12,
          20,
          96,
          14,
          4,
          5,
          6,
          4,
          11,
          23,
          5,
          78,
          8,
          29,
          3,
          41,
          6,
          9,
          9,
          13,
          22,
          2,
          6,
          10,
          17,
          17,
          6,
          16,
          6,
          11,
          5,
          11,
          16,
          13,
          8,
          2,
          15,
          29,
          5,
          19,
          5,
          8,
          4,
          7,
          2,
          9,
          6,
          7,
          4,
          8,
          10,
          15,
          7,
          26,
          4,
          10,
          4,
          43,
          2,
          15,
          16,
          8,
          11,
          9,
          12,
          5,
          14,
          6,
          13,
          10,
          9,
          4,
          8,
          34,
          8,
          4,
          18,
          5,
          7,
          3,
          6,
          4,
          9,
          3,
          3,
          8,
          8,
          12,
          15,
          94,
          20,
          8,
          10,
          6,
          17,
          12,
          105,
          6,
          9,
          45,
          16,
          41,
          397,
          45,
          34,
          7,
          18,
          6,
          4,
          73,
          8,
          19,
          20,
          5,
          6,
          96,
          6,
          27,
          7,
          6,
          5,
          65,
          9,
          4,
          8,
          7,
          6,
          5,
          5,
          13,
          12,
          7,
          121,
          5,
          10,
          5,
          4,
          132,
          5,
          7,
          11,
          8,
          16,
          3,
          30,
          6,
          11,
          17,
          6,
          9,
          11,
          8,
          3,
          8,
          40,
          4,
          8,
          4,
          16,
          5,
          17,
          14,
          3,
          288,
          19,
          7,
          7,
          13,
          17,
          8,
          11,
          8,
          20,
          4,
          5,
          5,
          22,
          8,
          18,
          14,
          10,
          8,
          15,
          5,
          9,
          9,
          9,
          8,
          7,
          18,
          7,
          24,
          20,
          6,
          10,
          35,
          25,
          69,
          59,
          14,
          12,
          6,
          6,
          3,
          103,
          20,
          5,
          5,
          20,
          6,
          48,
          5,
          2,
          5,
          6,
          4,
          7,
          106,
          5,
          14,
          4,
          8,
          36,
          16,
          17,
          13,
          3,
          5,
          7,
          8,
          4,
          5,
          19,
          4,
          10,
          4,
          11,
          11,
          18,
          4,
          21,
          9,
          64,
          18,
          10,
          8,
          7,
          9,
          15,
          12,
          188,
          10,
          9,
          27,
          3,
          6,
          18,
          4,
          15,
          6,
          15,
          4,
          5,
          25,
          3,
          5,
          9,
          15,
          8,
          7,
          5,
          5,
          5,
          6,
          4,
          8,
          7,
          32,
          27,
          41,
          13,
          5,
          5,
          6,
          5,
          5,
          16,
          30,
          3,
          12,
          6,
          28,
          14,
          2,
          3,
          9,
          7,
          1,
          42,
          6,
          12,
          15,
          4,
          7,
          4,
          10,
          5,
          44,
          17,
          6,
          10,
          40,
          20,
          16,
          8,
          6,
          5,
          10,
          19,
          30,
          4,
          8,
          89,
          95,
          4,
          5,
          8,
          15,
          72,
          22,
          7,
          8,
          3,
          11,
          9,
          15,
          35,
          478,
          8,
          6,
          16,
          16,
          7,
          22,
          4,
          12,
          11,
          6,
          11,
          4,
          20,
          15,
          18,
          6,
          10,
          9,
          29,
          19,
          10,
          11,
          4,
          5,
          24,
          5,
          13,
          4,
          5,
          67,
          4,
          8,
          5,
          6,
          19,
          7,
          20,
          40,
          25,
          6,
          4,
          22,
          11,
          13,
          17,
          10,
          14,
          4,
          19,
          7,
          21,
          11,
          9,
          19,
          4,
          4,
          25,
          6,
          23,
          8,
          46,
          9,
          7,
          56,
          8,
          14,
          9,
          5,
          5,
          32,
          15,
          5,
          7,
          10,
          11,
          1,
          61,
          93,
          55,
          13,
          20,
          16,
          179,
          113,
          4,
          33,
          15,
          85,
          18,
          6,
          7,
          4,
          9,
          4,
          5,
          13,
          5,
          16,
          3,
          86,
          41,
          7,
          7,
          27,
          10,
          5,
          12,
          5,
          13,
          5,
          56,
          6,
          5,
          37,
          13,
          14,
          3,
          20,
          23,
          11,
          7,
          13,
          12,
          22,
          16,
          22,
          6,
          4,
          6,
          4,
          17,
          6,
          37,
          78,
          2,
          4,
          6,
          47,
          51,
          10,
          8,
          25,
          27,
          6,
          16,
          15,
          10,
          5,
          7,
          6,
          5,
          35,
          5,
          10,
          52,
          41,
          15,
          4,
          4,
          11,
          47,
          6,
          7,
          3,
          10,
          24,
          47,
          6,
          4,
          21,
          7,
          9,
          10,
          9,
          7,
          5,
          9,
          10,
          101,
          19,
          20,
          15,
          6,
          17,
          18,
          5,
          16,
          5,
          1,
          34,
          33,
          1,
          1,
          4,
          33,
          10,
          12,
          5,
          17,
          5,
          4,
          4,
          10,
          4,
          17,
          13,
          11,
          5,
          5,
          6,
          17,
          12,
          3,
          47,
          22,
          9,
          13,
          6,
          8,
          7,
          14,
          20,
          9,
          7,
          11,
          7,
          58,
          26,
          19,
          33,
          6,
          7,
          5,
          13,
          61,
          21,
          12,
          23,
          8,
          5,
          18,
          6,
          3,
          3,
          9,
          18,
          9,
          5,
          6,
          10,
          14,
          6,
          13,
          6,
          4,
          8,
          30,
          5,
          4,
          38,
          6,
          2,
          6,
          10,
          32,
          16,
          3,
          25,
          11,
          18,
          20,
          12,
          20,
          5,
          6,
          78,
          5,
          9,
          25,
          6,
          9,
          13,
          10,
          34,
          23,
          7,
          6,
          8,
          4,
          8,
          7,
          25,
          6,
          18,
          5,
          55,
          9,
          47,
          42,
          8,
          5,
          5,
          20,
          13,
          63,
          15,
          37,
          28,
          41,
          4,
          43,
          17,
          11,
          10,
          5,
          16,
          3,
          12,
          8,
          4,
          2,
          18,
          15,
          30,
          39,
          7,
          76,
          13,
          14,
          13,
          6,
          5,
          5,
          7,
          9,
          11,
          11,
          3,
          7,
          6,
          34,
          11,
          99,
          8,
          6,
          4,
          5,
          3,
          28,
          6,
          7,
          16,
          30,
          18,
          9,
          13,
          7,
          10,
          18,
          45,
          18,
          8,
          4,
          4,
          6,
          26,
          16,
          1,
          17,
          4,
          7,
          9,
          34,
          7,
          7,
          5,
          4,
          9,
          4,
          17,
          18,
          8,
          8,
          24,
          10,
          184,
          21,
          107,
          4,
          211,
          5,
          5,
          5,
          4,
          9,
          8,
          465,
          41,
          16,
          6,
          8,
          13,
          3,
          20,
          12,
          7,
          10,
          14,
          4,
          10,
          25,
          33,
          6,
          32,
          4,
          8,
          7,
          10,
          36,
          24,
          12,
          14,
          29,
          6,
          15,
          228,
          4,
          6,
          362,
          5,
          8,
          6,
          7,
          5,
          4,
          12,
          5,
          4,
          6,
          6,
          8,
          17,
          3,
          6,
          10,
          20,
          8,
          6,
          36,
          7,
          15,
          109,
          17,
          1,
          12,
          27,
          112,
          33,
          7,
          50,
          4,
          9,
          6,
          9,
          23,
          10,
          8,
          5,
          6,
          7,
          6,
          14,
          7,
          13,
          4,
          14,
          7,
          9,
          8,
          11,
          6,
          5,
          26,
          10,
          13,
          8,
          88,
          8,
          15,
          9,
          9,
          1,
          5,
          4,
          2,
          5,
          17,
          11,
          17,
          24,
          13,
          12,
          28,
          9,
          3,
          8,
          21,
          7,
          1,
          14,
          9,
          19,
          11,
          1,
          8,
          16,
          9,
          7,
          13,
          9,
          57,
          45,
          6,
          25,
          6,
          11,
          4,
          79,
          5,
          5,
          17,
          4,
          14,
          6,
          6,
          9,
          7,
          22,
          10,
          6,
          5,
          5,
          3,
          5,
          20,
          18,
          13,
          12,
          11,
          25,
          15,
          17,
          4,
          14,
          7,
          21,
          6,
          17,
          28,
          32,
          9,
          11,
          6,
          4,
          5,
          6,
          4,
          28,
          6,
          9,
          11,
          4,
          14,
          6,
          5,
          2,
          39,
          6,
          9,
          29,
          15,
          4,
          24,
          2,
          7,
          12,
          1,
          4,
          37,
          12,
          23,
          4,
          9,
          26,
          6,
          58,
          5,
          9,
          9,
          5,
          4,
          20,
          6,
          10,
          7,
          11,
          6,
          16,
          11,
          4,
          5,
          4,
          43,
          3,
          12,
          6,
          36,
          8,
          4,
          5,
          4,
          12,
          23,
          5,
          12,
          13,
          15,
          4,
          25,
          4,
          5,
          11,
          5,
          21,
          4,
          6,
          30,
          13,
          5,
          7,
          9,
          3,
          8,
          12,
          4,
          10,
          16,
          10,
          71,
          6,
          4,
          13,
          6,
          10,
          6,
          14,
          8,
          22,
          11,
          30,
          8,
          5,
          5,
          121,
          5,
          11,
          4,
          4,
          5,
          5,
          11,
          34,
          18,
          7,
          5,
          8,
          12,
          3,
          123,
          6,
          15,
          40,
          9,
          11,
          5,
          12,
          33,
          4,
          47,
          52,
          8,
          11,
          34,
          16,
          7,
          8,
          7,
          3,
          4,
          22,
          39,
          48,
          6,
          8,
          20,
          6,
          12,
          5,
          7,
          7,
          14,
          21,
          3,
          12,
          9,
          26,
          37,
          20,
          104,
          5,
          4,
          30,
          7,
          8,
          3,
          15,
          5,
          9,
          6,
          31,
          6,
          35,
          9,
          5,
          19,
          21,
          13,
          4,
          144,
          5,
          4,
          20,
          19,
          8,
          75,
          20,
          7,
          9,
          19,
          4,
          14,
          3,
          9,
          13,
          22,
          15,
          1,
          6,
          9,
          3,
          15,
          11,
          34,
          6,
          31,
          4,
          60,
          7,
          8,
          7,
          14,
          16,
          6,
          10,
          5,
          15,
          6,
          25,
          5,
          28,
          8,
          11,
          4,
          6,
          4,
          6,
          20,
          10,
          5,
          36,
          5,
          5,
          20,
          7,
          14,
          19,
          4,
          46,
          1,
          15,
          12,
          11,
          12,
          5,
          8,
          25,
          9,
          24,
          11,
          4,
          18,
          8,
          6,
          15,
          114,
          3,
          63,
          5,
          7,
          5,
          7,
          7,
          9,
          14,
          6,
          12,
          6,
          4,
          20,
          80,
          4,
          19,
          18,
          5,
          5,
          3,
          11,
          44,
          6,
          3,
          17,
          5,
          21,
          23,
          7,
          4,
          28,
          4,
          17,
          6,
          9,
          3,
          6,
          15,
          6,
          19,
          54,
          12,
          6,
          16,
          13,
          4,
          5,
          5,
          13,
          26,
          17,
          2,
          3,
          4,
          90,
          26,
          9,
          26,
          2,
          5,
          12,
          14,
          3,
          1,
          9,
          75,
          6,
          7,
          56,
          30,
          6,
          4,
          15,
          52,
          17,
          7,
          2,
          13,
          303
         ]
        }
       ],
       "layout": {
        "template": {
         "data": {
          "bar": [
           {
            "error_x": {
             "color": "#2a3f5f"
            },
            "error_y": {
             "color": "#2a3f5f"
            },
            "marker": {
             "line": {
              "color": "#E5ECF6",
              "width": 0.5
             },
             "pattern": {
              "fillmode": "overlay",
              "size": 10,
              "solidity": 0.2
             }
            },
            "type": "bar"
           }
          ],
          "barpolar": [
           {
            "marker": {
             "line": {
              "color": "#E5ECF6",
              "width": 0.5
             },
             "pattern": {
              "fillmode": "overlay",
              "size": 10,
              "solidity": 0.2
             }
            },
            "type": "barpolar"
           }
          ],
          "carpet": [
           {
            "aaxis": {
             "endlinecolor": "#2a3f5f",
             "gridcolor": "white",
             "linecolor": "white",
             "minorgridcolor": "white",
             "startlinecolor": "#2a3f5f"
            },
            "baxis": {
             "endlinecolor": "#2a3f5f",
             "gridcolor": "white",
             "linecolor": "white",
             "minorgridcolor": "white",
             "startlinecolor": "#2a3f5f"
            },
            "type": "carpet"
           }
          ],
          "choropleth": [
           {
            "colorbar": {
             "outlinewidth": 0,
             "ticks": ""
            },
            "type": "choropleth"
           }
          ],
          "contour": [
           {
            "colorbar": {
             "outlinewidth": 0,
             "ticks": ""
            },
            "colorscale": [
             [
              0,
              "#0d0887"
             ],
             [
              0.1111111111111111,
              "#46039f"
             ],
             [
              0.2222222222222222,
              "#7201a8"
             ],
             [
              0.3333333333333333,
              "#9c179e"
             ],
             [
              0.4444444444444444,
              "#bd3786"
             ],
             [
              0.5555555555555556,
              "#d8576b"
             ],
             [
              0.6666666666666666,
              "#ed7953"
             ],
             [
              0.7777777777777778,
              "#fb9f3a"
             ],
             [
              0.8888888888888888,
              "#fdca26"
             ],
             [
              1,
              "#f0f921"
             ]
            ],
            "type": "contour"
           }
          ],
          "contourcarpet": [
           {
            "colorbar": {
             "outlinewidth": 0,
             "ticks": ""
            },
            "type": "contourcarpet"
           }
          ],
          "heatmap": [
           {
            "colorbar": {
             "outlinewidth": 0,
             "ticks": ""
            },
            "colorscale": [
             [
              0,
              "#0d0887"
             ],
             [
              0.1111111111111111,
              "#46039f"
             ],
             [
              0.2222222222222222,
              "#7201a8"
             ],
             [
              0.3333333333333333,
              "#9c179e"
             ],
             [
              0.4444444444444444,
              "#bd3786"
             ],
             [
              0.5555555555555556,
              "#d8576b"
             ],
             [
              0.6666666666666666,
              "#ed7953"
             ],
             [
              0.7777777777777778,
              "#fb9f3a"
             ],
             [
              0.8888888888888888,
              "#fdca26"
             ],
             [
              1,
              "#f0f921"
             ]
            ],
            "type": "heatmap"
           }
          ],
          "heatmapgl": [
           {
            "colorbar": {
             "outlinewidth": 0,
             "ticks": ""
            },
            "colorscale": [
             [
              0,
              "#0d0887"
             ],
             [
              0.1111111111111111,
              "#46039f"
             ],
             [
              0.2222222222222222,
              "#7201a8"
             ],
             [
              0.3333333333333333,
              "#9c179e"
             ],
             [
              0.4444444444444444,
              "#bd3786"
             ],
             [
              0.5555555555555556,
              "#d8576b"
             ],
             [
              0.6666666666666666,
              "#ed7953"
             ],
             [
              0.7777777777777778,
              "#fb9f3a"
             ],
             [
              0.8888888888888888,
              "#fdca26"
             ],
             [
              1,
              "#f0f921"
             ]
            ],
            "type": "heatmapgl"
           }
          ],
          "histogram": [
           {
            "marker": {
             "pattern": {
              "fillmode": "overlay",
              "size": 10,
              "solidity": 0.2
             }
            },
            "type": "histogram"
           }
          ],
          "histogram2d": [
           {
            "colorbar": {
             "outlinewidth": 0,
             "ticks": ""
            },
            "colorscale": [
             [
              0,
              "#0d0887"
             ],
             [
              0.1111111111111111,
              "#46039f"
             ],
             [
              0.2222222222222222,
              "#7201a8"
             ],
             [
              0.3333333333333333,
              "#9c179e"
             ],
             [
              0.4444444444444444,
              "#bd3786"
             ],
             [
              0.5555555555555556,
              "#d8576b"
             ],
             [
              0.6666666666666666,
              "#ed7953"
             ],
             [
              0.7777777777777778,
              "#fb9f3a"
             ],
             [
              0.8888888888888888,
              "#fdca26"
             ],
             [
              1,
              "#f0f921"
             ]
            ],
            "type": "histogram2d"
           }
          ],
          "histogram2dcontour": [
           {
            "colorbar": {
             "outlinewidth": 0,
             "ticks": ""
            },
            "colorscale": [
             [
              0,
              "#0d0887"
             ],
             [
              0.1111111111111111,
              "#46039f"
             ],
             [
              0.2222222222222222,
              "#7201a8"
             ],
             [
              0.3333333333333333,
              "#9c179e"
             ],
             [
              0.4444444444444444,
              "#bd3786"
             ],
             [
              0.5555555555555556,
              "#d8576b"
             ],
             [
              0.6666666666666666,
              "#ed7953"
             ],
             [
              0.7777777777777778,
              "#fb9f3a"
             ],
             [
              0.8888888888888888,
              "#fdca26"
             ],
             [
              1,
              "#f0f921"
             ]
            ],
            "type": "histogram2dcontour"
           }
          ],
          "mesh3d": [
           {
            "colorbar": {
             "outlinewidth": 0,
             "ticks": ""
            },
            "type": "mesh3d"
           }
          ],
          "parcoords": [
           {
            "line": {
             "colorbar": {
              "outlinewidth": 0,
              "ticks": ""
             }
            },
            "type": "parcoords"
           }
          ],
          "pie": [
           {
            "automargin": true,
            "type": "pie"
           }
          ],
          "scatter": [
           {
            "marker": {
             "colorbar": {
              "outlinewidth": 0,
              "ticks": ""
             }
            },
            "type": "scatter"
           }
          ],
          "scatter3d": [
           {
            "line": {
             "colorbar": {
              "outlinewidth": 0,
              "ticks": ""
             }
            },
            "marker": {
             "colorbar": {
              "outlinewidth": 0,
              "ticks": ""
             }
            },
            "type": "scatter3d"
           }
          ],
          "scattercarpet": [
           {
            "marker": {
             "colorbar": {
              "outlinewidth": 0,
              "ticks": ""
             }
            },
            "type": "scattercarpet"
           }
          ],
          "scattergeo": [
           {
            "marker": {
             "colorbar": {
              "outlinewidth": 0,
              "ticks": ""
             }
            },
            "type": "scattergeo"
           }
          ],
          "scattergl": [
           {
            "marker": {
             "colorbar": {
              "outlinewidth": 0,
              "ticks": ""
             }
            },
            "type": "scattergl"
           }
          ],
          "scattermapbox": [
           {
            "marker": {
             "colorbar": {
              "outlinewidth": 0,
              "ticks": ""
             }
            },
            "type": "scattermapbox"
           }
          ],
          "scatterpolar": [
           {
            "marker": {
             "colorbar": {
              "outlinewidth": 0,
              "ticks": ""
             }
            },
            "type": "scatterpolar"
           }
          ],
          "scatterpolargl": [
           {
            "marker": {
             "colorbar": {
              "outlinewidth": 0,
              "ticks": ""
             }
            },
            "type": "scatterpolargl"
           }
          ],
          "scatterternary": [
           {
            "marker": {
             "colorbar": {
              "outlinewidth": 0,
              "ticks": ""
             }
            },
            "type": "scatterternary"
           }
          ],
          "surface": [
           {
            "colorbar": {
             "outlinewidth": 0,
             "ticks": ""
            },
            "colorscale": [
             [
              0,
              "#0d0887"
             ],
             [
              0.1111111111111111,
              "#46039f"
             ],
             [
              0.2222222222222222,
              "#7201a8"
             ],
             [
              0.3333333333333333,
              "#9c179e"
             ],
             [
              0.4444444444444444,
              "#bd3786"
             ],
             [
              0.5555555555555556,
              "#d8576b"
             ],
             [
              0.6666666666666666,
              "#ed7953"
             ],
             [
              0.7777777777777778,
              "#fb9f3a"
             ],
             [
              0.8888888888888888,
              "#fdca26"
             ],
             [
              1,
              "#f0f921"
             ]
            ],
            "type": "surface"
           }
          ],
          "table": [
           {
            "cells": {
             "fill": {
              "color": "#EBF0F8"
             },
             "line": {
              "color": "white"
             }
            },
            "header": {
             "fill": {
              "color": "#C8D4E3"
             },
             "line": {
              "color": "white"
             }
            },
            "type": "table"
           }
          ]
         },
         "layout": {
          "annotationdefaults": {
           "arrowcolor": "#2a3f5f",
           "arrowhead": 0,
           "arrowwidth": 1
          },
          "autotypenumbers": "strict",
          "coloraxis": {
           "colorbar": {
            "outlinewidth": 0,
            "ticks": ""
           }
          },
          "colorscale": {
           "diverging": [
            [
             0,
             "#8e0152"
            ],
            [
             0.1,
             "#c51b7d"
            ],
            [
             0.2,
             "#de77ae"
            ],
            [
             0.3,
             "#f1b6da"
            ],
            [
             0.4,
             "#fde0ef"
            ],
            [
             0.5,
             "#f7f7f7"
            ],
            [
             0.6,
             "#e6f5d0"
            ],
            [
             0.7,
             "#b8e186"
            ],
            [
             0.8,
             "#7fbc41"
            ],
            [
             0.9,
             "#4d9221"
            ],
            [
             1,
             "#276419"
            ]
           ],
           "sequential": [
            [
             0,
             "#0d0887"
            ],
            [
             0.1111111111111111,
             "#46039f"
            ],
            [
             0.2222222222222222,
             "#7201a8"
            ],
            [
             0.3333333333333333,
             "#9c179e"
            ],
            [
             0.4444444444444444,
             "#bd3786"
            ],
            [
             0.5555555555555556,
             "#d8576b"
            ],
            [
             0.6666666666666666,
             "#ed7953"
            ],
            [
             0.7777777777777778,
             "#fb9f3a"
            ],
            [
             0.8888888888888888,
             "#fdca26"
            ],
            [
             1,
             "#f0f921"
            ]
           ],
           "sequentialminus": [
            [
             0,
             "#0d0887"
            ],
            [
             0.1111111111111111,
             "#46039f"
            ],
            [
             0.2222222222222222,
             "#7201a8"
            ],
            [
             0.3333333333333333,
             "#9c179e"
            ],
            [
             0.4444444444444444,
             "#bd3786"
            ],
            [
             0.5555555555555556,
             "#d8576b"
            ],
            [
             0.6666666666666666,
             "#ed7953"
            ],
            [
             0.7777777777777778,
             "#fb9f3a"
            ],
            [
             0.8888888888888888,
             "#fdca26"
            ],
            [
             1,
             "#f0f921"
            ]
           ]
          },
          "colorway": [
           "#636efa",
           "#EF553B",
           "#00cc96",
           "#ab63fa",
           "#FFA15A",
           "#19d3f3",
           "#FF6692",
           "#B6E880",
           "#FF97FF",
           "#FECB52"
          ],
          "font": {
           "color": "#2a3f5f"
          },
          "geo": {
           "bgcolor": "white",
           "lakecolor": "white",
           "landcolor": "#E5ECF6",
           "showlakes": true,
           "showland": true,
           "subunitcolor": "white"
          },
          "hoverlabel": {
           "align": "left"
          },
          "hovermode": "closest",
          "mapbox": {
           "style": "light"
          },
          "paper_bgcolor": "white",
          "plot_bgcolor": "#E5ECF6",
          "polar": {
           "angularaxis": {
            "gridcolor": "white",
            "linecolor": "white",
            "ticks": ""
           },
           "bgcolor": "#E5ECF6",
           "radialaxis": {
            "gridcolor": "white",
            "linecolor": "white",
            "ticks": ""
           }
          },
          "scene": {
           "xaxis": {
            "backgroundcolor": "#E5ECF6",
            "gridcolor": "white",
            "gridwidth": 2,
            "linecolor": "white",
            "showbackground": true,
            "ticks": "",
            "zerolinecolor": "white"
           },
           "yaxis": {
            "backgroundcolor": "#E5ECF6",
            "gridcolor": "white",
            "gridwidth": 2,
            "linecolor": "white",
            "showbackground": true,
            "ticks": "",
            "zerolinecolor": "white"
           },
           "zaxis": {
            "backgroundcolor": "#E5ECF6",
            "gridcolor": "white",
            "gridwidth": 2,
            "linecolor": "white",
            "showbackground": true,
            "ticks": "",
            "zerolinecolor": "white"
           }
          },
          "shapedefaults": {
           "line": {
            "color": "#2a3f5f"
           }
          },
          "ternary": {
           "aaxis": {
            "gridcolor": "white",
            "linecolor": "white",
            "ticks": ""
           },
           "baxis": {
            "gridcolor": "white",
            "linecolor": "white",
            "ticks": ""
           },
           "bgcolor": "#E5ECF6",
           "caxis": {
            "gridcolor": "white",
            "linecolor": "white",
            "ticks": ""
           }
          },
          "title": {
           "x": 0.05
          },
          "xaxis": {
           "automargin": true,
           "gridcolor": "white",
           "linecolor": "white",
           "ticks": "",
           "title": {
            "standoff": 15
           },
           "zerolinecolor": "white",
           "zerolinewidth": 2
          },
          "yaxis": {
           "automargin": true,
           "gridcolor": "white",
           "linecolor": "white",
           "ticks": "",
           "title": {
            "standoff": 15
           },
           "zerolinecolor": "white",
           "zerolinewidth": 2
          }
         }
        },
        "title": {
         "text": "Количество событий на пользователя"
        },
        "xaxis": {
         "title": {
          "text": "Пользователи"
         }
        },
        "yaxis": {
         "title": {
          "text": "Количество событий"
         }
        }
       }
      },
      "text/html": [
       "<div>                            <div id=\"4e137cf7-545c-40af-a0be-d744e47312a0\" class=\"plotly-graph-div\" style=\"height:525px; width:100%;\"></div>            <script type=\"text/javascript\">                require([\"plotly\"], function(Plotly) {                    window.PLOTLYENV=window.PLOTLYENV || {};                                    if (document.getElementById(\"4e137cf7-545c-40af-a0be-d744e47312a0\")) {                    Plotly.newPlot(                        \"4e137cf7-545c-40af-a0be-d744e47312a0\",                        [{\"mode\":\"markers\",\"showlegend\":false,\"y\":[35,71,10,32,8,11,5,5,6,5,18,9,8,15,6,5,7,13,2,11,2,30,15,26,5,5,7,41,4,3,6,12,8,15,10,3,23,28,27,3,8,10,11,3,40,15,22,6,15,3,24,10,7,13,28,6,16,9,12,5,5,17,32,26,13,4,20,110,15,19,170,7,6,77,16,6,33,28,18,4,2,23,5,18,35,4,9,6,6,13,12,97,7,7,6,15,105,4,11,5,5,18,12,4,2,18,16,11,138,9,4,9,14,12,87,7,12,18,1,24,11,43,97,5,1,4,20,13,13,17,17,4,5,9,7,21,79,9,19,28,19,17,7,37,18,27,6,2,6,15,4,38,10,6,17,19,8,4,13,15,16,15,46,3,6,6,7,5,12,9,43,5,7,19,15,6,7,54,14,10,19,65,14,74,30,12,12,5,30,39,9,17,8,6,14,55,16,5,6,5,4,4,1,2,2,2,55,35,7,10,48,8,3,6,30,60,35,4,6,6,24,15,4,29,10,4,5,61,4,5,137,8,32,5,16,162,4,4,21,8,10,6,1,3,6,7,15,9,7,4,10,5,6,2,40,4,19,3,6,5,12,2,4,5,9,23,5,12,37,4,1,28,6,48,19,17,79,61,33,12,8,5,4,7,11,13,24,23,11,7,12,4,11,19,17,5,4,8,4,22,18,5,9,17,5,10,7,9,9,6,4,6,20,5,76,5,14,4,10,67,13,15,7,9,5,6,9,5,3,11,5,10,5,17,1,15,9,5,6,11,5,8,1,7,15,21,12,3,6,7,10,4,5,3,2,37,12,5,17,10,114,8,10,63,8,5,6,10,47,4,6,11,19,29,9,4,7,7,10,22,11,5,9,16,6,27,10,7,5,7,12,5,7,14,21,20,15,20,9,6,29,265,10,11,5,9,10,8,5,14,13,9,14,5,7,25,15,17,13,37,5,71,22,6,8,45,8,5,22,3,4,9,35,4,36,36,4,16,7,17,22,9,11,11,8,37,9,4,9,5,11,3,3,38,6,2,9,99,15,10,1,59,12,9,6,20,8,12,5,6,5,8,33,6,14,65,5,6,7,38,6,44,21,4,41,5,85,4,8,35,10,31,13,6,6,12,14,6,44,7,5,14,5,4,2,8,6,7,1,76,5,14,8,18,7,9,50,26,18,8,10,12,47,2,57,27,5,3,4,8,13,29,8,32,6,7,30,10,2,22,7,10,4,12,7,17,5,7,27,25,8,15,4,4,11,13,5,2,39,37,17,16,1,15,11,8,6,11,53,4,5,22,5,250,7,49,8,5,24,12,11,11,4,24,12,74,9,30,7,10,5,50,12,14,20,8,5,4,64,8,12,9,7,5,14,5,8,26,4,25,9,4,16,8,7,400,5,10,6,15,25,9,17,65,4,3,13,8,4,6,8,5,44,5,5,8,15,6,7,28,4,10,5,37,4,25,4,10,8,7,5,6,13,7,7,5,4,39,30,21,9,9,7,4,5,14,34,20,7,21,5,2,74,4,5,8,6,8,129,4,16,9,11,37,35,16,8,62,121,9,5,8,10,8,17,11,41,5,4,5,4,14,4,13,19,17,1,20,4,22,6,8,64,20,3,13,5,8,5,13,20,9,25,15,10,7,9,4,4,9,17,4,13,32,5,1,12,12,10,23,308,5,6,7,13,6,38,5,6,39,26,30,11,16,7,14,5,14,17,10,53,12,18,11,18,21,14,5,12,14,13,4,7,4,73,68,7,6,7,14,16,13,7,9,15,17,6,52,10,4,19,8,12,9,40,11,3,12,7,1,186,5,7,7,35,5,7,5,14,4,1,34,57,42,38,8,60,9,5,7,10,5,4,28,10,59,6,11,7,8,4,40,9,14,8,3,66,16,1,6,10,7,21,3,14,10,34,17,111,1,31,7,15,5,4,8,6,13,12,26,353,4,40,17,3,6,22,27,17,14,4,5,15,16,85,9,9,8,7,10,22,2,24,15,6,11,6,3,6,7,4,4,11,14,8,28,5,14,4,13,17,5,7,14,8,11,4,21,8,22,55,7,7,163,3,10,1,6,64,21,16,32,75,13,5,75,5,25,11,11,21,9,5,5,12,16,33,4,5,16,9,5,9,45,30,65,10,24,5,22,18,6,5,8,30,3,9,6,25,6,7,29,14,6,6,6,41,10,12,7,2,12,19,2,47,14,14,7,10,8,23,26,5,20,2,4,15,52,10,1,10,23,19,5,5,10,5,3,13,7,6,4,6,15,7,1,5,19,5,9,4,14,13,3,12,1,8,7,3,22,14,25,4,5,14,4,19,4,12,7,69,5,8,15,5,6,2,5,11,4,5,19,10,19,5,7,10,6,5,4,5,14,10,3,7,6,4,1,12,32,4,6,15,15,4,8,4,12,8,5,15,8,17,4,5,13,9,11,5,76,9,53,2,67,5,1,20,4,20,4,20,8,61,49,7,6,8,7,10,6,18,6,7,6,7,3,30,3,9,4,8,25,8,7,50,16,4,8,3,12,5,2,15,4,7,4,29,20,4,20,6,12,15,18,17,10,4,5,5,10,17,6,7,6,62,11,6,6,9,26,27,7,31,29,7,5,2,7,4,5,6,132,15,9,1,15,12,22,20,5,4,22,4,7,10,6,9,40,5,7,4,2,7,3,4,6,43,65,5,7,3,44,3,5,6,10,7,9,8,3,161,5,11,12,5,7,10,47,13,12,44,42,29,6,17,4,6,15,13,8,19,11,45,12,9,6,5,10,3,4,19,10,7,8,33,5,3,23,5,35,36,23,13,17,11,15,43,5,21,64,7,42,34,11,10,6,3,4,2,5,4,5,10,42,34,8,4,17,31,6,79,11,10,8,151,11,5,11,8,9,10,26,4,20,30,15,4,6,10,5,4,6,7,7,6,7,4,4,6,3,5,4,4,15,9,8,2,4,5,24,15,4,8,28,6,15,10,18,7,37,4,4,23,8,11,16,10,8,5,5,18,5,4,5,30,12,39,16,6,24,26,28,87,8,11,4,32,9,5,2,17,22,40,7,93,6,6,4,23,3,4,41,25,2,12,4,5,11,3,21,5,16,7,8,5,6,62,45,13,28,4,14,20,7,9,19,17,6,3,4,21,12,8,17,6,6,2,10,5,8,6,18,13,5,5,50,3,4,18,10,7,12,5,10,7,22,7,4,10,7,11,38,43,6,1,4,8,28,23,11,26,16,3,5,7,14,1,10,6,8,11,14,11,7,5,5,57,5,5,5,111,24,6,5,53,10,12,29,7,27,4,16,6,6,40,12,48,14,7,15,1,14,4,42,5,11,11,4,11,5,4,76,11,5,10,82,12,19,7,7,6,5,11,42,5,12,3,16,16,29,4,12,23,6,29,26,6,3,5,33,4,12,68,7,2,15,16,8,12,9,14,6,7,11,1,178,5,20,10,53,8,14,12,5,4,9,5,7,10,4,2,12,15,10,8,23,5,4,27,4,22,79,5,10,8,1,7,11,4,5,11,13,13,121,4,54,5,22,15,18,10,7,6,9,14,16,22,119,3,5,13,18,40,6,35,4,5,1,8,6,8,10,5,6,6,12,22,5,4,5,10,4,6,11,5,34,4,45,15,5,11,7,6,42,15,46,10,6,5,12,37,9,5,5,13,13,5,30,7,10,8,23,1,11,79,5,5,10,4,31,9,12,12,5,5,6,8,127,13,22,5,5,4,14,9,8,3,7,5,10,25,4,19,72,8,14,15,5,76,68,7,25,9,4,7,7,11,7,9,25,62,9,7,8,8,19,3,7,21,78,10,6,6,34,15,10,5,11,23,13,8,39,5,8,40,30,11,12,3,9,5,8,4,6,36,4,5,7,13,19,4,6,6,4,7,7,17,4,42,4,13,17,1,20,9,5,3,26,9,41,31,11,3,8,11,6,22,45,7,18,42,4,31,10,8,7,5,11,9,3,22,12,26,10,10,12,5,11,20,15,8,6,181,175,1,9,1,7,13,3,6,27,7,5,6,4,170,7,59,4,12,15,14,13,23,7,62,7,2,20,10,52,6,5,16,14,10,24,8,1,4,8,7,61,4,5,75,6,4,4,15,18,4,12,13,6,18,22,2,14,19,5,5,16,20,2,10,7,4,5,18,27,5,26,15,8,4,22,8,4,2,72,4,9,5,8,17,7,13,24,11,6,24,12,23,6,7,3,5,46,4,5,5,5,4,89,10,28,22,9,5,18,11,6,4,64,4,1,3,6,6,24,9,16,6,30,17,7,11,13,4,61,16,4,3,5,5,8,23,4,4,6,5,6,99,10,10,3,6,4,5,41,4,70,10,5,9,17,6,9,4,2,15,13,13,93,8,23,5,23,8,7,6,3,2,9,11,4,2,7,34,6,6,9,33,74,7,15,5,8,5,11,5,17,8,11,11,6,4,8,8,43,14,9,51,9,5,9,9,3,2,9,18,4,23,5,6,10,8,9,5,11,5,5,3,17,4,4,65,28,8,5,15,32,11,5,31,6,9,24,34,43,59,3,9,4,30,5,11,32,5,6,72,5,4,14,5,7,23,15,7,1,21,8,8,14,124,5,8,75,6,6,8,11,4,6,8,10,7,4,8,10,49,5,3,19,37,9,69,5,24,31,5,3,13,7,5,8,8,9,10,8,6,41,17,10,8,4,62,10,5,6,12,5,9,7,6,28,8,31,8,2,6,6,6,4,6,33,27,6,18,7,28,48,12,5,5,4,5,19,11,4,50,7,17,4,6,57,2,14,7,9,23,44,13,5,26,5,4,4,53,8,5,29,27,30,1,26,8,1,6,21,10,16,4,11,9,12,5,8,9,20,7,13,5,7,45,7,16,18,20,6,4,9,4,38,46,11,4,4,15,16,16,5,10,7,3,80,6,4,5,5,12,14,7,107,13,80,9,1,7,30,5,6,8,3,26,19,26,14,3,58,6,5,5,25,4,15,18,14,19,162,19,6,7,12,18,27,4,4,6,4,9,15,4,12,19,5,43,4,7,5,6,9,47,3,6,12,34,9,24,8,15,94,6,12,9,5,5,21,2,4,6,9,10,5,8,14,5,93,4,33,13,12,55,7,13,6,13,5,6,17,10,29,21,6,5,5,7,7,4,3,4,151,47,119,6,24,8,85,10,4,5,15,8,15,10,11,6,11,5,4,6,7,4,4,38,10,4,3,6,8,15,3,22,8,7,28,6,6,6,5,12,6,9,27,8,5,28,5,16,11,4,52,4,39,5,5,8,8,7,71,8,6,16,5,8,33,16,19,16,17,13,33,2,5,3,5,5,8,7,2,4,22,3,1,20,14,9,8,4,12,36,96,23,5,15,1,5,12,7,47,20,5,9,19,14,15,5,4,33,5,4,36,5,22,5,10,6,16,59,7,1,20,6,8,6,6,9,19,8,3,10,8,28,6,30,7,6,8,3,21,31,9,5,70,8,11,7,43,6,1,28,12,14,4,49,5,11,4,11,14,5,6,28,25,16,1,3,9,7,11,11,2,5,3,8,9,5,2,6,11,5,7,5,4,21,8,28,6,26,11,15,6,4,22,5,13,3,7,7,5,5,5,12,2,18,4,2,7,5,22,7,12,5,5,9,8,7,17,20,4,9,29,6,9,15,247,4,10,20,9,15,9,7,54,9,21,4,5,43,19,86,4,4,52,15,10,5,3,38,34,12,21,37,11,25,15,14,4,41,7,4,54,7,63,13,149,90,9,13,4,8,17,14,7,5,12,20,9,18,4,17,17,7,46,10,5,25,15,6,11,32,35,5,28,12,5,4,11,9,15,3,6,2,27,8,14,12,18,18,14,4,26,119,2,42,19,19,15,11,18,8,8,18,8,17,13,249,3,10,15,5,6,6,17,62,7,18,5,4,4,127,156,15,8,80,77,17,407,5,8,6,124,146,4,7,26,23,4,5,4,4,5,6,6,17,3,3,6,4,27,5,20,12,6,98,26,4,5,17,4,6,14,39,7,5,15,6,16,8,13,5,4,5,86,85,13,4,4,23,67,4,14,13,3,7,29,27,12,4,36,39,12,21,7,6,26,7,4,62,9,17,7,2,9,6,3,14,11,14,5,33,63,19,12,6,13,6,10,44,1,7,13,6,9,15,6,11,5,3,58,6,38,10,1,41,4,5,5,8,21,10,3,5,5,13,62,4,32,8,3,6,20,4,5,14,5,10,6,27,4,7,25,5,7,10,10,8,175,32,10,60,34,4,14,4,5,6,5,4,11,3,5,19,15,12,10,5,26,69,17,10,24,8,9,22,4,33,11,26,8,5,4,6,45,8,39,29,7,4,6,4,20,6,4,7,5,13,6,7,1,10,14,11,101,18,4,10,4,19,11,73,6,12,13,23,12,46,7,16,5,4,39,10,8,36,21,14,2,6,12,6,31,5,17,10,11,4,12,11,6,5,17,5,2,15,15,11,23,14,3,6,9,26,5,14,9,27,4,9,10,10,1,37,51,169,356,11,13,4,12,16,5,10,8,9,53,84,8,4,28,15,3,4,6,21,6,10,102,3,30,13,9,5,71,8,7,3,7,6,8,4,14,17,11,5,8,5,14,11,88,156,16,7,15,58,1,6,6,28,16,25,8,22,21,7,12,4,13,40,2,141,5,50,4,5,5,125,2,13,9,11,23,15,9,7,7,5,6,4,12,10,5,15,12,6,8,9,14,7,4,13,16,4,37,11,10,5,5,6,10,16,12,14,48,5,8,7,15,28,15,6,3,6,5,1,16,17,32,6,70,13,5,6,6,4,11,55,32,9,6,4,29,10,7,7,7,7,8,11,5,10,3,96,25,14,12,6,21,13,10,8,1,8,8,88,18,13,5,19,4,4,45,10,9,10,83,6,15,12,20,96,14,4,5,6,4,11,23,5,78,8,29,3,41,6,9,9,13,22,2,6,10,17,17,6,16,6,11,5,11,16,13,8,2,15,29,5,19,5,8,4,7,2,9,6,7,4,8,10,15,7,26,4,10,4,43,2,15,16,8,11,9,12,5,14,6,13,10,9,4,8,34,8,4,18,5,7,3,6,4,9,3,3,8,8,12,15,94,20,8,10,6,17,12,105,6,9,45,16,41,397,45,34,7,18,6,4,73,8,19,20,5,6,96,6,27,7,6,5,65,9,4,8,7,6,5,5,13,12,7,121,5,10,5,4,132,5,7,11,8,16,3,30,6,11,17,6,9,11,8,3,8,40,4,8,4,16,5,17,14,3,288,19,7,7,13,17,8,11,8,20,4,5,5,22,8,18,14,10,8,15,5,9,9,9,8,7,18,7,24,20,6,10,35,25,69,59,14,12,6,6,3,103,20,5,5,20,6,48,5,2,5,6,4,7,106,5,14,4,8,36,16,17,13,3,5,7,8,4,5,19,4,10,4,11,11,18,4,21,9,64,18,10,8,7,9,15,12,188,10,9,27,3,6,18,4,15,6,15,4,5,25,3,5,9,15,8,7,5,5,5,6,4,8,7,32,27,41,13,5,5,6,5,5,16,30,3,12,6,28,14,2,3,9,7,1,42,6,12,15,4,7,4,10,5,44,17,6,10,40,20,16,8,6,5,10,19,30,4,8,89,95,4,5,8,15,72,22,7,8,3,11,9,15,35,478,8,6,16,16,7,22,4,12,11,6,11,4,20,15,18,6,10,9,29,19,10,11,4,5,24,5,13,4,5,67,4,8,5,6,19,7,20,40,25,6,4,22,11,13,17,10,14,4,19,7,21,11,9,19,4,4,25,6,23,8,46,9,7,56,8,14,9,5,5,32,15,5,7,10,11,1,61,93,55,13,20,16,179,113,4,33,15,85,18,6,7,4,9,4,5,13,5,16,3,86,41,7,7,27,10,5,12,5,13,5,56,6,5,37,13,14,3,20,23,11,7,13,12,22,16,22,6,4,6,4,17,6,37,78,2,4,6,47,51,10,8,25,27,6,16,15,10,5,7,6,5,35,5,10,52,41,15,4,4,11,47,6,7,3,10,24,47,6,4,21,7,9,10,9,7,5,9,10,101,19,20,15,6,17,18,5,16,5,1,34,33,1,1,4,33,10,12,5,17,5,4,4,10,4,17,13,11,5,5,6,17,12,3,47,22,9,13,6,8,7,14,20,9,7,11,7,58,26,19,33,6,7,5,13,61,21,12,23,8,5,18,6,3,3,9,18,9,5,6,10,14,6,13,6,4,8,30,5,4,38,6,2,6,10,32,16,3,25,11,18,20,12,20,5,6,78,5,9,25,6,9,13,10,34,23,7,6,8,4,8,7,25,6,18,5,55,9,47,42,8,5,5,20,13,63,15,37,28,41,4,43,17,11,10,5,16,3,12,8,4,2,18,15,30,39,7,76,13,14,13,6,5,5,7,9,11,11,3,7,6,34,11,99,8,6,4,5,3,28,6,7,16,30,18,9,13,7,10,18,45,18,8,4,4,6,26,16,1,17,4,7,9,34,7,7,5,4,9,4,17,18,8,8,24,10,184,21,107,4,211,5,5,5,4,9,8,465,41,16,6,8,13,3,20,12,7,10,14,4,10,25,33,6,32,4,8,7,10,36,24,12,14,29,6,15,228,4,6,362,5,8,6,7,5,4,12,5,4,6,6,8,17,3,6,10,20,8,6,36,7,15,109,17,1,12,27,112,33,7,50,4,9,6,9,23,10,8,5,6,7,6,14,7,13,4,14,7,9,8,11,6,5,26,10,13,8,88,8,15,9,9,1,5,4,2,5,17,11,17,24,13,12,28,9,3,8,21,7,1,14,9,19,11,1,8,16,9,7,13,9,57,45,6,25,6,11,4,79,5,5,17,4,14,6,6,9,7,22,10,6,5,5,3,5,20,18,13,12,11,25,15,17,4,14,7,21,6,17,28,32,9,11,6,4,5,6,4,28,6,9,11,4,14,6,5,2,39,6,9,29,15,4,24,2,7,12,1,4,37,12,23,4,9,26,6,58,5,9,9,5,4,20,6,10,7,11,6,16,11,4,5,4,43,3,12,6,36,8,4,5,4,12,23,5,12,13,15,4,25,4,5,11,5,21,4,6,30,13,5,7,9,3,8,12,4,10,16,10,71,6,4,13,6,10,6,14,8,22,11,30,8,5,5,121,5,11,4,4,5,5,11,34,18,7,5,8,12,3,123,6,15,40,9,11,5,12,33,4,47,52,8,11,34,16,7,8,7,3,4,22,39,48,6,8,20,6,12,5,7,7,14,21,3,12,9,26,37,20,104,5,4,30,7,8,3,15,5,9,6,31,6,35,9,5,19,21,13,4,144,5,4,20,19,8,75,20,7,9,19,4,14,3,9,13,22,15,1,6,9,3,15,11,34,6,31,4,60,7,8,7,14,16,6,10,5,15,6,25,5,28,8,11,4,6,4,6,20,10,5,36,5,5,20,7,14,19,4,46,1,15,12,11,12,5,8,25,9,24,11,4,18,8,6,15,114,3,63,5,7,5,7,7,9,14,6,12,6,4,20,80,4,19,18,5,5,3,11,44,6,3,17,5,21,23,7,4,28,4,17,6,9,3,6,15,6,19,54,12,6,16,13,4,5,5,13,26,17,2,3,4,90,26,9,26,2,5,12,14,3,1,9,75,6,7,56,30,6,4,15,52,17,7,2,13,303],\"type\":\"scatter\",\"hoverinfo\":\"all\",\"hovertemplate\":\"\\u041a\\u043e\\u043b\\u0438\\u0447\\u0435\\u0441\\u0442\\u0432\\u043e \\u0441\\u043e\\u0431\\u044b\\u0442\\u0438\\u0439: %{y}\"}],                        {\"template\":{\"data\":{\"bar\":[{\"error_x\":{\"color\":\"#2a3f5f\"},\"error_y\":{\"color\":\"#2a3f5f\"},\"marker\":{\"line\":{\"color\":\"#E5ECF6\",\"width\":0.5},\"pattern\":{\"fillmode\":\"overlay\",\"size\":10,\"solidity\":0.2}},\"type\":\"bar\"}],\"barpolar\":[{\"marker\":{\"line\":{\"color\":\"#E5ECF6\",\"width\":0.5},\"pattern\":{\"fillmode\":\"overlay\",\"size\":10,\"solidity\":0.2}},\"type\":\"barpolar\"}],\"carpet\":[{\"aaxis\":{\"endlinecolor\":\"#2a3f5f\",\"gridcolor\":\"white\",\"linecolor\":\"white\",\"minorgridcolor\":\"white\",\"startlinecolor\":\"#2a3f5f\"},\"baxis\":{\"endlinecolor\":\"#2a3f5f\",\"gridcolor\":\"white\",\"linecolor\":\"white\",\"minorgridcolor\":\"white\",\"startlinecolor\":\"#2a3f5f\"},\"type\":\"carpet\"}],\"choropleth\":[{\"colorbar\":{\"outlinewidth\":0,\"ticks\":\"\"},\"type\":\"choropleth\"}],\"contour\":[{\"colorbar\":{\"outlinewidth\":0,\"ticks\":\"\"},\"colorscale\":[[0.0,\"#0d0887\"],[0.1111111111111111,\"#46039f\"],[0.2222222222222222,\"#7201a8\"],[0.3333333333333333,\"#9c179e\"],[0.4444444444444444,\"#bd3786\"],[0.5555555555555556,\"#d8576b\"],[0.6666666666666666,\"#ed7953\"],[0.7777777777777778,\"#fb9f3a\"],[0.8888888888888888,\"#fdca26\"],[1.0,\"#f0f921\"]],\"type\":\"contour\"}],\"contourcarpet\":[{\"colorbar\":{\"outlinewidth\":0,\"ticks\":\"\"},\"type\":\"contourcarpet\"}],\"heatmap\":[{\"colorbar\":{\"outlinewidth\":0,\"ticks\":\"\"},\"colorscale\":[[0.0,\"#0d0887\"],[0.1111111111111111,\"#46039f\"],[0.2222222222222222,\"#7201a8\"],[0.3333333333333333,\"#9c179e\"],[0.4444444444444444,\"#bd3786\"],[0.5555555555555556,\"#d8576b\"],[0.6666666666666666,\"#ed7953\"],[0.7777777777777778,\"#fb9f3a\"],[0.8888888888888888,\"#fdca26\"],[1.0,\"#f0f921\"]],\"type\":\"heatmap\"}],\"heatmapgl\":[{\"colorbar\":{\"outlinewidth\":0,\"ticks\":\"\"},\"colorscale\":[[0.0,\"#0d0887\"],[0.1111111111111111,\"#46039f\"],[0.2222222222222222,\"#7201a8\"],[0.3333333333333333,\"#9c179e\"],[0.4444444444444444,\"#bd3786\"],[0.5555555555555556,\"#d8576b\"],[0.6666666666666666,\"#ed7953\"],[0.7777777777777778,\"#fb9f3a\"],[0.8888888888888888,\"#fdca26\"],[1.0,\"#f0f921\"]],\"type\":\"heatmapgl\"}],\"histogram\":[{\"marker\":{\"pattern\":{\"fillmode\":\"overlay\",\"size\":10,\"solidity\":0.2}},\"type\":\"histogram\"}],\"histogram2d\":[{\"colorbar\":{\"outlinewidth\":0,\"ticks\":\"\"},\"colorscale\":[[0.0,\"#0d0887\"],[0.1111111111111111,\"#46039f\"],[0.2222222222222222,\"#7201a8\"],[0.3333333333333333,\"#9c179e\"],[0.4444444444444444,\"#bd3786\"],[0.5555555555555556,\"#d8576b\"],[0.6666666666666666,\"#ed7953\"],[0.7777777777777778,\"#fb9f3a\"],[0.8888888888888888,\"#fdca26\"],[1.0,\"#f0f921\"]],\"type\":\"histogram2d\"}],\"histogram2dcontour\":[{\"colorbar\":{\"outlinewidth\":0,\"ticks\":\"\"},\"colorscale\":[[0.0,\"#0d0887\"],[0.1111111111111111,\"#46039f\"],[0.2222222222222222,\"#7201a8\"],[0.3333333333333333,\"#9c179e\"],[0.4444444444444444,\"#bd3786\"],[0.5555555555555556,\"#d8576b\"],[0.6666666666666666,\"#ed7953\"],[0.7777777777777778,\"#fb9f3a\"],[0.8888888888888888,\"#fdca26\"],[1.0,\"#f0f921\"]],\"type\":\"histogram2dcontour\"}],\"mesh3d\":[{\"colorbar\":{\"outlinewidth\":0,\"ticks\":\"\"},\"type\":\"mesh3d\"}],\"parcoords\":[{\"line\":{\"colorbar\":{\"outlinewidth\":0,\"ticks\":\"\"}},\"type\":\"parcoords\"}],\"pie\":[{\"automargin\":true,\"type\":\"pie\"}],\"scatter\":[{\"marker\":{\"colorbar\":{\"outlinewidth\":0,\"ticks\":\"\"}},\"type\":\"scatter\"}],\"scatter3d\":[{\"line\":{\"colorbar\":{\"outlinewidth\":0,\"ticks\":\"\"}},\"marker\":{\"colorbar\":{\"outlinewidth\":0,\"ticks\":\"\"}},\"type\":\"scatter3d\"}],\"scattercarpet\":[{\"marker\":{\"colorbar\":{\"outlinewidth\":0,\"ticks\":\"\"}},\"type\":\"scattercarpet\"}],\"scattergeo\":[{\"marker\":{\"colorbar\":{\"outlinewidth\":0,\"ticks\":\"\"}},\"type\":\"scattergeo\"}],\"scattergl\":[{\"marker\":{\"colorbar\":{\"outlinewidth\":0,\"ticks\":\"\"}},\"type\":\"scattergl\"}],\"scattermapbox\":[{\"marker\":{\"colorbar\":{\"outlinewidth\":0,\"ticks\":\"\"}},\"type\":\"scattermapbox\"}],\"scatterpolar\":[{\"marker\":{\"colorbar\":{\"outlinewidth\":0,\"ticks\":\"\"}},\"type\":\"scatterpolar\"}],\"scatterpolargl\":[{\"marker\":{\"colorbar\":{\"outlinewidth\":0,\"ticks\":\"\"}},\"type\":\"scatterpolargl\"}],\"scatterternary\":[{\"marker\":{\"colorbar\":{\"outlinewidth\":0,\"ticks\":\"\"}},\"type\":\"scatterternary\"}],\"surface\":[{\"colorbar\":{\"outlinewidth\":0,\"ticks\":\"\"},\"colorscale\":[[0.0,\"#0d0887\"],[0.1111111111111111,\"#46039f\"],[0.2222222222222222,\"#7201a8\"],[0.3333333333333333,\"#9c179e\"],[0.4444444444444444,\"#bd3786\"],[0.5555555555555556,\"#d8576b\"],[0.6666666666666666,\"#ed7953\"],[0.7777777777777778,\"#fb9f3a\"],[0.8888888888888888,\"#fdca26\"],[1.0,\"#f0f921\"]],\"type\":\"surface\"}],\"table\":[{\"cells\":{\"fill\":{\"color\":\"#EBF0F8\"},\"line\":{\"color\":\"white\"}},\"header\":{\"fill\":{\"color\":\"#C8D4E3\"},\"line\":{\"color\":\"white\"}},\"type\":\"table\"}]},\"layout\":{\"annotationdefaults\":{\"arrowcolor\":\"#2a3f5f\",\"arrowhead\":0,\"arrowwidth\":1},\"autotypenumbers\":\"strict\",\"coloraxis\":{\"colorbar\":{\"outlinewidth\":0,\"ticks\":\"\"}},\"colorscale\":{\"diverging\":[[0,\"#8e0152\"],[0.1,\"#c51b7d\"],[0.2,\"#de77ae\"],[0.3,\"#f1b6da\"],[0.4,\"#fde0ef\"],[0.5,\"#f7f7f7\"],[0.6,\"#e6f5d0\"],[0.7,\"#b8e186\"],[0.8,\"#7fbc41\"],[0.9,\"#4d9221\"],[1,\"#276419\"]],\"sequential\":[[0.0,\"#0d0887\"],[0.1111111111111111,\"#46039f\"],[0.2222222222222222,\"#7201a8\"],[0.3333333333333333,\"#9c179e\"],[0.4444444444444444,\"#bd3786\"],[0.5555555555555556,\"#d8576b\"],[0.6666666666666666,\"#ed7953\"],[0.7777777777777778,\"#fb9f3a\"],[0.8888888888888888,\"#fdca26\"],[1.0,\"#f0f921\"]],\"sequentialminus\":[[0.0,\"#0d0887\"],[0.1111111111111111,\"#46039f\"],[0.2222222222222222,\"#7201a8\"],[0.3333333333333333,\"#9c179e\"],[0.4444444444444444,\"#bd3786\"],[0.5555555555555556,\"#d8576b\"],[0.6666666666666666,\"#ed7953\"],[0.7777777777777778,\"#fb9f3a\"],[0.8888888888888888,\"#fdca26\"],[1.0,\"#f0f921\"]]},\"colorway\":[\"#636efa\",\"#EF553B\",\"#00cc96\",\"#ab63fa\",\"#FFA15A\",\"#19d3f3\",\"#FF6692\",\"#B6E880\",\"#FF97FF\",\"#FECB52\"],\"font\":{\"color\":\"#2a3f5f\"},\"geo\":{\"bgcolor\":\"white\",\"lakecolor\":\"white\",\"landcolor\":\"#E5ECF6\",\"showlakes\":true,\"showland\":true,\"subunitcolor\":\"white\"},\"hoverlabel\":{\"align\":\"left\"},\"hovermode\":\"closest\",\"mapbox\":{\"style\":\"light\"},\"paper_bgcolor\":\"white\",\"plot_bgcolor\":\"#E5ECF6\",\"polar\":{\"angularaxis\":{\"gridcolor\":\"white\",\"linecolor\":\"white\",\"ticks\":\"\"},\"bgcolor\":\"#E5ECF6\",\"radialaxis\":{\"gridcolor\":\"white\",\"linecolor\":\"white\",\"ticks\":\"\"}},\"scene\":{\"xaxis\":{\"backgroundcolor\":\"#E5ECF6\",\"gridcolor\":\"white\",\"gridwidth\":2,\"linecolor\":\"white\",\"showbackground\":true,\"ticks\":\"\",\"zerolinecolor\":\"white\"},\"yaxis\":{\"backgroundcolor\":\"#E5ECF6\",\"gridcolor\":\"white\",\"gridwidth\":2,\"linecolor\":\"white\",\"showbackground\":true,\"ticks\":\"\",\"zerolinecolor\":\"white\"},\"zaxis\":{\"backgroundcolor\":\"#E5ECF6\",\"gridcolor\":\"white\",\"gridwidth\":2,\"linecolor\":\"white\",\"showbackground\":true,\"ticks\":\"\",\"zerolinecolor\":\"white\"}},\"shapedefaults\":{\"line\":{\"color\":\"#2a3f5f\"}},\"ternary\":{\"aaxis\":{\"gridcolor\":\"white\",\"linecolor\":\"white\",\"ticks\":\"\"},\"baxis\":{\"gridcolor\":\"white\",\"linecolor\":\"white\",\"ticks\":\"\"},\"bgcolor\":\"#E5ECF6\",\"caxis\":{\"gridcolor\":\"white\",\"linecolor\":\"white\",\"ticks\":\"\"}},\"title\":{\"x\":0.05},\"xaxis\":{\"automargin\":true,\"gridcolor\":\"white\",\"linecolor\":\"white\",\"ticks\":\"\",\"title\":{\"standoff\":15},\"zerolinecolor\":\"white\",\"zerolinewidth\":2},\"yaxis\":{\"automargin\":true,\"gridcolor\":\"white\",\"linecolor\":\"white\",\"ticks\":\"\",\"title\":{\"standoff\":15},\"zerolinecolor\":\"white\",\"zerolinewidth\":2}}},\"title\":{\"text\":\"\\u041a\\u043e\\u043b\\u0438\\u0447\\u0435\\u0441\\u0442\\u0432\\u043e \\u0441\\u043e\\u0431\\u044b\\u0442\\u0438\\u0439 \\u043d\\u0430 \\u043f\\u043e\\u043b\\u044c\\u0437\\u043e\\u0432\\u0430\\u0442\\u0435\\u043b\\u044f\"},\"xaxis\":{\"title\":{\"text\":\"\\u041f\\u043e\\u043b\\u044c\\u0437\\u043e\\u0432\\u0430\\u0442\\u0435\\u043b\\u0438\"}},\"yaxis\":{\"title\":{\"text\":\"\\u041a\\u043e\\u043b\\u0438\\u0447\\u0435\\u0441\\u0442\\u0432\\u043e \\u0441\\u043e\\u0431\\u044b\\u0442\\u0438\\u0439\"}}},                        {\"responsive\": true}                    ).then(function(){\n",
       "                            \n",
       "var gd = document.getElementById('4e137cf7-545c-40af-a0be-d744e47312a0');\n",
       "var x = new MutationObserver(function (mutations, observer) {{\n",
       "        var display = window.getComputedStyle(gd).display;\n",
       "        if (!display || display === 'none') {{\n",
       "            console.log([gd, 'removed!']);\n",
       "            Plotly.purge(gd);\n",
       "            observer.disconnect();\n",
       "        }}\n",
       "}});\n",
       "\n",
       "// Listen for the removal of the full notebook cells\n",
       "var notebookContainer = gd.closest('#notebook-container');\n",
       "if (notebookContainer) {{\n",
       "    x.observe(notebookContainer, {childList: true});\n",
       "}}\n",
       "\n",
       "// Listen for the clearing of the current output cell\n",
       "var outputEl = gd.closest('.output');\n",
       "if (outputEl) {{\n",
       "    x.observe(outputEl, {childList: true});\n",
       "}}\n",
       "\n",
       "                        })                };                });            </script>        </div>"
      ]
     },
     "metadata": {},
     "output_type": "display_data"
    }
   ],
   "source": [
    "# построим точечную диаграмму\n",
    "\n",
    "fig = go.Figure()\n",
    "#fig = px.scatter(event_per_user, y=\"event_name\")\n",
    "\n",
    "\n",
    "fig.add_trace(\n",
    "    go.Scatter(y=event_per_user['event_name'],\n",
    "        mode=\"markers\",\n",
    "        showlegend=False)\n",
    ")   \n",
    "\n",
    "fig.update_layout(title='Количество событий на пользователя',\n",
    "                  xaxis_title='Пользователи', yaxis_title='Количество событий')\n",
    "\n",
    "fig.update_traces(hoverinfo=\"all\", hovertemplate='Количество событий: %{y}')\n",
    "\n",
    "fig.show()\n"
   ]
  },
  {
   "cell_type": "code",
   "execution_count": 85,
   "metadata": {
    "scrolled": true
   },
   "outputs": [
    {
     "data": {
      "image/png": "[encoded data removed]",
      "text/plain": [
       "<Figure size 216x576 with 1 Axes>"
      ]
     },
     "metadata": {
      "needs_background": "light"
     },
     "output_type": "display_data"
    }
   ],
   "source": [
    "# построим еще диаграмму размаха\n",
    "event_per_user.boxplot(column = 'event_name', figsize = (3,8))\n",
    "plt.title('Распределение количества событий на пользователя')\n",
    "plt.ylim(0, 200)\n",
    "plt.show()"
   ]
  },
  {
   "cell_type": "markdown",
   "metadata": {},
   "source": [
    "На графике распределения видно, что после 125 событий на человека начинаются редкие, выбивающиеся из общей картины, значения"
   ]
  },
  {
   "cell_type": "code",
   "execution_count": 86,
   "metadata": {
    "scrolled": false
   },
   "outputs": [
    {
     "data": {
      "text/plain": [
       "9.0"
      ]
     },
     "metadata": {},
     "output_type": "display_data"
    },
    {
     "data": {
      "text/plain": [
       "17.0"
      ]
     },
     "metadata": {},
     "output_type": "display_data"
    },
    {
     "data": {
      "text/plain": [
       "59.0"
      ]
     },
     "metadata": {},
     "output_type": "display_data"
    },
    {
     "data": {
      "text/plain": [
       "132.0"
      ]
     },
     "metadata": {},
     "output_type": "display_data"
    }
   ],
   "source": [
    "percentile_50 = np.percentile(event_per_user['event_name'], [50])[0]\n",
    "percentile_75 = np.percentile(event_per_user['event_name'], [75])[0]\n",
    "percentile_95 = np.percentile(event_per_user['event_name'], [95])[0]\n",
    "percentile_99 = np.percentile(event_per_user['event_name'], [99])[0]\n",
    "display(percentile_50, percentile_75, percentile_95, percentile_99)"
   ]
  },
  {
   "cell_type": "markdown",
   "metadata": {},
   "source": [
    "возьмем значение выбросов в 1% - пользователи с более чем 132 действиями"
   ]
  },
  {
   "cell_type": "code",
   "execution_count": 88,
   "metadata": {
    "scrolled": true
   },
   "outputs": [
    {
     "data": {
      "text/html": [
       "<div>\n",
       "<style scoped>\n",
       "    .dataframe tbody tr th:only-of-type {\n",
       "        vertical-align: middle;\n",
       "    }\n",
       "\n",
       "    .dataframe tbody tr th {\n",
       "        vertical-align: top;\n",
       "    }\n",
       "\n",
       "    .dataframe thead th {\n",
       "        text-align: right;\n",
       "    }\n",
       "</style>\n",
       "<table border=\"1\" class=\"dataframe\">\n",
       "  <thead>\n",
       "    <tr style=\"text-align: right;\">\n",
       "      <th></th>\n",
       "      <th>event_name</th>\n",
       "    </tr>\n",
       "    <tr>\n",
       "      <th>user_id</th>\n",
       "      <th></th>\n",
       "    </tr>\n",
       "  </thead>\n",
       "  <tbody>\n",
       "    <tr>\n",
       "      <th>0001b1d5-b74a-4cbf-aeb0-7df5947bf349</th>\n",
       "      <td>35</td>\n",
       "    </tr>\n",
       "    <tr>\n",
       "      <th>00157779-810c-4498-9e05-a1e9e3cedf93</th>\n",
       "      <td>71</td>\n",
       "    </tr>\n",
       "    <tr>\n",
       "      <th>00463033-5717-4bf1-91b4-09183923b9df</th>\n",
       "      <td>10</td>\n",
       "    </tr>\n",
       "    <tr>\n",
       "      <th>004690c3-5a84-4bb7-a8af-e0c8f8fca64e</th>\n",
       "      <td>32</td>\n",
       "    </tr>\n",
       "    <tr>\n",
       "      <th>00551e79-152e-4441-9cf7-565d7eb04090</th>\n",
       "      <td>8</td>\n",
       "    </tr>\n",
       "    <tr>\n",
       "      <th>...</th>\n",
       "      <td>...</td>\n",
       "    </tr>\n",
       "    <tr>\n",
       "      <th>ffab8d8a-30bb-424a-a3ab-0b63ebbf7b07</th>\n",
       "      <td>17</td>\n",
       "    </tr>\n",
       "    <tr>\n",
       "      <th>ffc01466-fdb1-4460-ae94-e800f52eb136</th>\n",
       "      <td>7</td>\n",
       "    </tr>\n",
       "    <tr>\n",
       "      <th>ffcf50d9-293c-4254-8243-4890b030b238</th>\n",
       "      <td>2</td>\n",
       "    </tr>\n",
       "    <tr>\n",
       "      <th>ffe68f10-e48e-470e-be9b-eeb93128ff1a</th>\n",
       "      <td>13</td>\n",
       "    </tr>\n",
       "    <tr>\n",
       "      <th>fffb9e79-b927-4dbb-9b48-7fd09b23a62b</th>\n",
       "      <td>303</td>\n",
       "    </tr>\n",
       "  </tbody>\n",
       "</table>\n",
       "<p>4293 rows × 1 columns</p>\n",
       "</div>"
      ],
      "text/plain": [
       "                                      event_name\n",
       "user_id                                         \n",
       "0001b1d5-b74a-4cbf-aeb0-7df5947bf349          35\n",
       "00157779-810c-4498-9e05-a1e9e3cedf93          71\n",
       "00463033-5717-4bf1-91b4-09183923b9df          10\n",
       "004690c3-5a84-4bb7-a8af-e0c8f8fca64e          32\n",
       "00551e79-152e-4441-9cf7-565d7eb04090           8\n",
       "...                                          ...\n",
       "ffab8d8a-30bb-424a-a3ab-0b63ebbf7b07          17\n",
       "ffc01466-fdb1-4460-ae94-e800f52eb136           7\n",
       "ffcf50d9-293c-4254-8243-4890b030b238           2\n",
       "ffe68f10-e48e-470e-be9b-eeb93128ff1a          13\n",
       "fffb9e79-b927-4dbb-9b48-7fd09b23a62b         303\n",
       "\n",
       "[4293 rows x 1 columns]"
      ]
     },
     "execution_count": 88,
     "metadata": {},
     "output_type": "execute_result"
    }
   ],
   "source": [
    "event_per_user"
   ]
  },
  {
   "cell_type": "code",
   "execution_count": 89,
   "metadata": {
    "scrolled": true
   },
   "outputs": [
    {
     "data": {
      "text/html": [
       "<div>\n",
       "<style scoped>\n",
       "    .dataframe tbody tr th:only-of-type {\n",
       "        vertical-align: middle;\n",
       "    }\n",
       "\n",
       "    .dataframe tbody tr th {\n",
       "        vertical-align: top;\n",
       "    }\n",
       "\n",
       "    .dataframe thead th {\n",
       "        text-align: right;\n",
       "    }\n",
       "</style>\n",
       "<table border=\"1\" class=\"dataframe\">\n",
       "  <thead>\n",
       "    <tr style=\"text-align: right;\">\n",
       "      <th></th>\n",
       "      <th>event_time</th>\n",
       "      <th>event_name</th>\n",
       "      <th>user_id</th>\n",
       "    </tr>\n",
       "  </thead>\n",
       "  <tbody>\n",
       "    <tr>\n",
       "      <th>0</th>\n",
       "      <td>2019-10-07 00:00:00</td>\n",
       "      <td>advert_open</td>\n",
       "      <td>020292ab-89bc-4156-9acf-68bc2783f894</td>\n",
       "    </tr>\n",
       "    <tr>\n",
       "      <th>1</th>\n",
       "      <td>2019-10-07 00:00:01</td>\n",
       "      <td>tips_show</td>\n",
       "      <td>020292ab-89bc-4156-9acf-68bc2783f894</td>\n",
       "    </tr>\n",
       "    <tr>\n",
       "      <th>2</th>\n",
       "      <td>2019-10-07 00:00:02</td>\n",
       "      <td>tips_show</td>\n",
       "      <td>cf7eda61-9349-469f-ac27-e5b6f5ec475c</td>\n",
       "    </tr>\n",
       "    <tr>\n",
       "      <th>3</th>\n",
       "      <td>2019-10-07 00:00:07</td>\n",
       "      <td>tips_show</td>\n",
       "      <td>020292ab-89bc-4156-9acf-68bc2783f894</td>\n",
       "    </tr>\n",
       "    <tr>\n",
       "      <th>4</th>\n",
       "      <td>2019-10-07 00:00:56</td>\n",
       "      <td>advert_open</td>\n",
       "      <td>cf7eda61-9349-469f-ac27-e5b6f5ec475c</td>\n",
       "    </tr>\n",
       "  </tbody>\n",
       "</table>\n",
       "</div>"
      ],
      "text/plain": [
       "           event_time   event_name                               user_id\n",
       "0 2019-10-07 00:00:00  advert_open  020292ab-89bc-4156-9acf-68bc2783f894\n",
       "1 2019-10-07 00:00:01    tips_show  020292ab-89bc-4156-9acf-68bc2783f894\n",
       "2 2019-10-07 00:00:02    tips_show  cf7eda61-9349-469f-ac27-e5b6f5ec475c\n",
       "3 2019-10-07 00:00:07    tips_show  020292ab-89bc-4156-9acf-68bc2783f894\n",
       "4 2019-10-07 00:00:56  advert_open  cf7eda61-9349-469f-ac27-e5b6f5ec475c"
      ]
     },
     "execution_count": 89,
     "metadata": {},
     "output_type": "execute_result"
    }
   ],
   "source": [
    "event_per_user_filtered_1 = event_per_user[percentile_99 > event_per_user['event_name']].index\n",
    "logs = logs[logs['user_id'].isin(event_per_user_filtered_1)].copy()\n",
    "logs.head()"
   ]
  },
  {
   "cell_type": "markdown",
   "metadata": {},
   "source": [
    "данные очищены от выбросов"
   ]
  },
  {
   "cell_type": "markdown",
   "metadata": {},
   "source": [
    "### Данными за какой период мы располагаем?"
   ]
  },
  {
   "cell_type": "markdown",
   "metadata": {},
   "source": [
    "**Найдем время первого и последнего события в логе**"
   ]
  },
  {
   "cell_type": "code",
   "execution_count": 91,
   "metadata": {
    "scrolled": false
   },
   "outputs": [
    {
     "data": {
      "text/plain": [
       "Timestamp('2019-10-07 00:00:00')"
      ]
     },
     "metadata": {},
     "output_type": "display_data"
    },
    {
     "data": {
      "text/plain": [
       "Timestamp('2019-11-03 23:56:57')"
      ]
     },
     "metadata": {},
     "output_type": "display_data"
    }
   ],
   "source": [
    "display(logs['event_time'].min())\n",
    "display(logs['event_time'].max())"
   ]
  },
  {
   "cell_type": "markdown",
   "metadata": {},
   "source": [
    "В нашем логе хранятся события с 7 октября 2019 года по 3 ноября 2019 года\n",
    "\n",
    "28 дней, 4 недели"
   ]
  },
  {
   "cell_type": "code",
   "execution_count": 92,
   "metadata": {
    "scrolled": true
   },
   "outputs": [
    {
     "data": {
      "text/html": [
       "<div>\n",
       "<style scoped>\n",
       "    .dataframe tbody tr th:only-of-type {\n",
       "        vertical-align: middle;\n",
       "    }\n",
       "\n",
       "    .dataframe tbody tr th {\n",
       "        vertical-align: top;\n",
       "    }\n",
       "\n",
       "    .dataframe thead th {\n",
       "        text-align: right;\n",
       "    }\n",
       "</style>\n",
       "<table border=\"1\" class=\"dataframe\">\n",
       "  <thead>\n",
       "    <tr style=\"text-align: right;\">\n",
       "      <th></th>\n",
       "      <th>event_time</th>\n",
       "      <th>event_name</th>\n",
       "      <th>user_id</th>\n",
       "      <th>event_hour</th>\n",
       "      <th>full_date</th>\n",
       "      <th>day</th>\n",
       "      <th>full_week</th>\n",
       "      <th>week</th>\n",
       "      <th>month</th>\n",
       "    </tr>\n",
       "  </thead>\n",
       "  <tbody>\n",
       "    <tr>\n",
       "      <th>0</th>\n",
       "      <td>2019-10-07 00:00:00</td>\n",
       "      <td>advert_open</td>\n",
       "      <td>020292ab-89bc-4156-9acf-68bc2783f894</td>\n",
       "      <td>0</td>\n",
       "      <td>2019-10-07</td>\n",
       "      <td>7</td>\n",
       "      <td>2019-10-03</td>\n",
       "      <td>41</td>\n",
       "      <td>10</td>\n",
       "    </tr>\n",
       "    <tr>\n",
       "      <th>1</th>\n",
       "      <td>2019-10-07 00:00:01</td>\n",
       "      <td>tips_show</td>\n",
       "      <td>020292ab-89bc-4156-9acf-68bc2783f894</td>\n",
       "      <td>0</td>\n",
       "      <td>2019-10-07</td>\n",
       "      <td>7</td>\n",
       "      <td>2019-10-03</td>\n",
       "      <td>41</td>\n",
       "      <td>10</td>\n",
       "    </tr>\n",
       "    <tr>\n",
       "      <th>2</th>\n",
       "      <td>2019-10-07 00:00:02</td>\n",
       "      <td>tips_show</td>\n",
       "      <td>cf7eda61-9349-469f-ac27-e5b6f5ec475c</td>\n",
       "      <td>0</td>\n",
       "      <td>2019-10-07</td>\n",
       "      <td>7</td>\n",
       "      <td>2019-10-03</td>\n",
       "      <td>41</td>\n",
       "      <td>10</td>\n",
       "    </tr>\n",
       "    <tr>\n",
       "      <th>3</th>\n",
       "      <td>2019-10-07 00:00:07</td>\n",
       "      <td>tips_show</td>\n",
       "      <td>020292ab-89bc-4156-9acf-68bc2783f894</td>\n",
       "      <td>0</td>\n",
       "      <td>2019-10-07</td>\n",
       "      <td>7</td>\n",
       "      <td>2019-10-03</td>\n",
       "      <td>41</td>\n",
       "      <td>10</td>\n",
       "    </tr>\n",
       "    <tr>\n",
       "      <th>4</th>\n",
       "      <td>2019-10-07 00:00:56</td>\n",
       "      <td>advert_open</td>\n",
       "      <td>cf7eda61-9349-469f-ac27-e5b6f5ec475c</td>\n",
       "      <td>0</td>\n",
       "      <td>2019-10-07</td>\n",
       "      <td>7</td>\n",
       "      <td>2019-10-03</td>\n",
       "      <td>41</td>\n",
       "      <td>10</td>\n",
       "    </tr>\n",
       "  </tbody>\n",
       "</table>\n",
       "</div>"
      ],
      "text/plain": [
       "           event_time   event_name                               user_id  \\\n",
       "0 2019-10-07 00:00:00  advert_open  020292ab-89bc-4156-9acf-68bc2783f894   \n",
       "1 2019-10-07 00:00:01    tips_show  020292ab-89bc-4156-9acf-68bc2783f894   \n",
       "2 2019-10-07 00:00:02    tips_show  cf7eda61-9349-469f-ac27-e5b6f5ec475c   \n",
       "3 2019-10-07 00:00:07    tips_show  020292ab-89bc-4156-9acf-68bc2783f894   \n",
       "4 2019-10-07 00:00:56  advert_open  cf7eda61-9349-469f-ac27-e5b6f5ec475c   \n",
       "\n",
       "   event_hour  full_date  day  full_week  week  month  \n",
       "0           0 2019-10-07    7 2019-10-03    41     10  \n",
       "1           0 2019-10-07    7 2019-10-03    41     10  \n",
       "2           0 2019-10-07    7 2019-10-03    41     10  \n",
       "3           0 2019-10-07    7 2019-10-03    41     10  \n",
       "4           0 2019-10-07    7 2019-10-03    41     10  "
      ]
     },
     "execution_count": 92,
     "metadata": {},
     "output_type": "execute_result"
    }
   ],
   "source": [
    "# выделим из столбцов с датоами час, неделю, месяц, год и полную дату в отдельные столбцы\n",
    "\n",
    "# час\n",
    "logs['event_hour'] = logs['event_time'].dt.hour\n",
    "\n",
    "# полная дата\n",
    "logs['full_date'] = logs['event_time'].astype('datetime64[D]') \n",
    "logs['day'] = logs['event_time'].dt.day\n",
    "\n",
    "# неделя\n",
    "logs['full_week'] = logs['event_time'].astype('datetime64[W]') \n",
    "logs['week'] = logs['event_time'].dt.week\n",
    "\n",
    "# месяц\n",
    "#logs['event_month'] = logs['event_time'].astype('datetime64[M]')\n",
    "logs['month'] = logs['event_time'].dt.month\n",
    "\n",
    "logs.head()"
   ]
  },
  {
   "cell_type": "markdown",
   "metadata": {},
   "source": [
    "Изучим количество событий по дням"
   ]
  },
  {
   "cell_type": "code",
   "execution_count": 93,
   "metadata": {
    "scrolled": true
   },
   "outputs": [
    {
     "data": {
      "application/vnd.plotly.v1+json": {
       "config": {
        "plotlyServerURL": "https://plot.ly"
       },
       "data": [
        {
         "text": [
          "2289",
          "1957",
          "1866",
          "2009",
          "1628",
          "1455",
          "2214",
          "2615",
          "2394",
          "2374",
          "2312",
          "2378",
          "2128",
          "1943",
          "2516",
          "2395",
          "3056",
          "2684",
          "2206",
          "2504",
          "2583",
          "2726",
          "2690",
          "2490",
          "2540",
          "2168",
          "1628",
          "2546"
         ],
         "type": "bar",
         "x": [
          "2019-10-07T00:00:00",
          "2019-10-08T00:00:00",
          "2019-10-09T00:00:00",
          "2019-10-10T00:00:00",
          "2019-10-11T00:00:00",
          "2019-10-12T00:00:00",
          "2019-10-13T00:00:00",
          "2019-10-14T00:00:00",
          "2019-10-15T00:00:00",
          "2019-10-16T00:00:00",
          "2019-10-17T00:00:00",
          "2019-10-18T00:00:00",
          "2019-10-19T00:00:00",
          "2019-10-20T00:00:00",
          "2019-10-21T00:00:00",
          "2019-10-22T00:00:00",
          "2019-10-23T00:00:00",
          "2019-10-24T00:00:00",
          "2019-10-25T00:00:00",
          "2019-10-26T00:00:00",
          "2019-10-27T00:00:00",
          "2019-10-28T00:00:00",
          "2019-10-29T00:00:00",
          "2019-10-30T00:00:00",
          "2019-10-31T00:00:00",
          "2019-11-01T00:00:00",
          "2019-11-02T00:00:00",
          "2019-11-03T00:00:00"
         ],
         "y": [
          2289,
          1957,
          1866,
          2009,
          1628,
          1455,
          2214,
          2615,
          2394,
          2374,
          2312,
          2378,
          2128,
          1943,
          2516,
          2395,
          3056,
          2684,
          2206,
          2504,
          2583,
          2726,
          2690,
          2490,
          2540,
          2168,
          1628,
          2546
         ]
        }
       ],
       "layout": {
        "template": {
         "data": {
          "bar": [
           {
            "error_x": {
             "color": "#2a3f5f"
            },
            "error_y": {
             "color": "#2a3f5f"
            },
            "marker": {
             "line": {
              "color": "#E5ECF6",
              "width": 0.5
             },
             "pattern": {
              "fillmode": "overlay",
              "size": 10,
              "solidity": 0.2
             }
            },
            "type": "bar"
           }
          ],
          "barpolar": [
           {
            "marker": {
             "line": {
              "color": "#E5ECF6",
              "width": 0.5
             },
             "pattern": {
              "fillmode": "overlay",
              "size": 10,
              "solidity": 0.2
             }
            },
            "type": "barpolar"
           }
          ],
          "carpet": [
           {
            "aaxis": {
             "endlinecolor": "#2a3f5f",
             "gridcolor": "white",
             "linecolor": "white",
             "minorgridcolor": "white",
             "startlinecolor": "#2a3f5f"
            },
            "baxis": {
             "endlinecolor": "#2a3f5f",
             "gridcolor": "white",
             "linecolor": "white",
             "minorgridcolor": "white",
             "startlinecolor": "#2a3f5f"
            },
            "type": "carpet"
           }
          ],
          "choropleth": [
           {
            "colorbar": {
             "outlinewidth": 0,
             "ticks": ""
            },
            "type": "choropleth"
           }
          ],
          "contour": [
           {
            "colorbar": {
             "outlinewidth": 0,
             "ticks": ""
            },
            "colorscale": [
             [
              0,
              "#0d0887"
             ],
             [
              0.1111111111111111,
              "#46039f"
             ],
             [
              0.2222222222222222,
              "#7201a8"
             ],
             [
              0.3333333333333333,
              "#9c179e"
             ],
             [
              0.4444444444444444,
              "#bd3786"
             ],
             [
              0.5555555555555556,
              "#d8576b"
             ],
             [
              0.6666666666666666,
              "#ed7953"
             ],
             [
              0.7777777777777778,
              "#fb9f3a"
             ],
             [
              0.8888888888888888,
              "#fdca26"
             ],
             [
              1,
              "#f0f921"
             ]
            ],
            "type": "contour"
           }
          ],
          "contourcarpet": [
           {
            "colorbar": {
             "outlinewidth": 0,
             "ticks": ""
            },
            "type": "contourcarpet"
           }
          ],
          "heatmap": [
           {
            "colorbar": {
             "outlinewidth": 0,
             "ticks": ""
            },
            "colorscale": [
             [
              0,
              "#0d0887"
             ],
             [
              0.1111111111111111,
              "#46039f"
             ],
             [
              0.2222222222222222,
              "#7201a8"
             ],
             [
              0.3333333333333333,
              "#9c179e"
             ],
             [
              0.4444444444444444,
              "#bd3786"
             ],
             [
              0.5555555555555556,
              "#d8576b"
             ],
             [
              0.6666666666666666,
              "#ed7953"
             ],
             [
              0.7777777777777778,
              "#fb9f3a"
             ],
             [
              0.8888888888888888,
              "#fdca26"
             ],
             [
              1,
              "#f0f921"
             ]
            ],
            "type": "heatmap"
           }
          ],
          "heatmapgl": [
           {
            "colorbar": {
             "outlinewidth": 0,
             "ticks": ""
            },
            "colorscale": [
             [
              0,
              "#0d0887"
             ],
             [
              0.1111111111111111,
              "#46039f"
             ],
             [
              0.2222222222222222,
              "#7201a8"
             ],
             [
              0.3333333333333333,
              "#9c179e"
             ],
             [
              0.4444444444444444,
              "#bd3786"
             ],
             [
              0.5555555555555556,
              "#d8576b"
             ],
             [
              0.6666666666666666,
              "#ed7953"
             ],
             [
              0.7777777777777778,
              "#fb9f3a"
             ],
             [
              0.8888888888888888,
              "#fdca26"
             ],
             [
              1,
              "#f0f921"
             ]
            ],
            "type": "heatmapgl"
           }
          ],
          "histogram": [
           {
            "marker": {
             "pattern": {
              "fillmode": "overlay",
              "size": 10,
              "solidity": 0.2
             }
            },
            "type": "histogram"
           }
          ],
          "histogram2d": [
           {
            "colorbar": {
             "outlinewidth": 0,
             "ticks": ""
            },
            "colorscale": [
             [
              0,
              "#0d0887"
             ],
             [
              0.1111111111111111,
              "#46039f"
             ],
             [
              0.2222222222222222,
              "#7201a8"
             ],
             [
              0.3333333333333333,
              "#9c179e"
             ],
             [
              0.4444444444444444,
              "#bd3786"
             ],
             [
              0.5555555555555556,
              "#d8576b"
             ],
             [
              0.6666666666666666,
              "#ed7953"
             ],
             [
              0.7777777777777778,
              "#fb9f3a"
             ],
             [
              0.8888888888888888,
              "#fdca26"
             ],
             [
              1,
              "#f0f921"
             ]
            ],
            "type": "histogram2d"
           }
          ],
          "histogram2dcontour": [
           {
            "colorbar": {
             "outlinewidth": 0,
             "ticks": ""
            },
            "colorscale": [
             [
              0,
              "#0d0887"
             ],
             [
              0.1111111111111111,
              "#46039f"
             ],
             [
              0.2222222222222222,
              "#7201a8"
             ],
             [
              0.3333333333333333,
              "#9c179e"
             ],
             [
              0.4444444444444444,
              "#bd3786"
             ],
             [
              0.5555555555555556,
              "#d8576b"
             ],
             [
              0.6666666666666666,
              "#ed7953"
             ],
             [
              0.7777777777777778,
              "#fb9f3a"
             ],
             [
              0.8888888888888888,
              "#fdca26"
             ],
             [
              1,
              "#f0f921"
             ]
            ],
            "type": "histogram2dcontour"
           }
          ],
          "mesh3d": [
           {
            "colorbar": {
             "outlinewidth": 0,
             "ticks": ""
            },
            "type": "mesh3d"
           }
          ],
          "parcoords": [
           {
            "line": {
             "colorbar": {
              "outlinewidth": 0,
              "ticks": ""
             }
            },
            "type": "parcoords"
           }
          ],
          "pie": [
           {
            "automargin": true,
            "type": "pie"
           }
          ],
          "scatter": [
           {
            "marker": {
             "colorbar": {
              "outlinewidth": 0,
              "ticks": ""
             }
            },
            "type": "scatter"
           }
          ],
          "scatter3d": [
           {
            "line": {
             "colorbar": {
              "outlinewidth": 0,
              "ticks": ""
             }
            },
            "marker": {
             "colorbar": {
              "outlinewidth": 0,
              "ticks": ""
             }
            },
            "type": "scatter3d"
           }
          ],
          "scattercarpet": [
           {
            "marker": {
             "colorbar": {
              "outlinewidth": 0,
              "ticks": ""
             }
            },
            "type": "scattercarpet"
           }
          ],
          "scattergeo": [
           {
            "marker": {
             "colorbar": {
              "outlinewidth": 0,
              "ticks": ""
             }
            },
            "type": "scattergeo"
           }
          ],
          "scattergl": [
           {
            "marker": {
             "colorbar": {
              "outlinewidth": 0,
              "ticks": ""
             }
            },
            "type": "scattergl"
           }
          ],
          "scattermapbox": [
           {
            "marker": {
             "colorbar": {
              "outlinewidth": 0,
              "ticks": ""
             }
            },
            "type": "scattermapbox"
           }
          ],
          "scatterpolar": [
           {
            "marker": {
             "colorbar": {
              "outlinewidth": 0,
              "ticks": ""
             }
            },
            "type": "scatterpolar"
           }
          ],
          "scatterpolargl": [
           {
            "marker": {
             "colorbar": {
              "outlinewidth": 0,
              "ticks": ""
             }
            },
            "type": "scatterpolargl"
           }
          ],
          "scatterternary": [
           {
            "marker": {
             "colorbar": {
              "outlinewidth": 0,
              "ticks": ""
             }
            },
            "type": "scatterternary"
           }
          ],
          "surface": [
           {
            "colorbar": {
             "outlinewidth": 0,
             "ticks": ""
            },
            "colorscale": [
             [
              0,
              "#0d0887"
             ],
             [
              0.1111111111111111,
              "#46039f"
             ],
             [
              0.2222222222222222,
              "#7201a8"
             ],
             [
              0.3333333333333333,
              "#9c179e"
             ],
             [
              0.4444444444444444,
              "#bd3786"
             ],
             [
              0.5555555555555556,
              "#d8576b"
             ],
             [
              0.6666666666666666,
              "#ed7953"
             ],
             [
              0.7777777777777778,
              "#fb9f3a"
             ],
             [
              0.8888888888888888,
              "#fdca26"
             ],
             [
              1,
              "#f0f921"
             ]
            ],
            "type": "surface"
           }
          ],
          "table": [
           {
            "cells": {
             "fill": {
              "color": "#EBF0F8"
             },
             "line": {
              "color": "white"
             }
            },
            "header": {
             "fill": {
              "color": "#C8D4E3"
             },
             "line": {
              "color": "white"
             }
            },
            "type": "table"
           }
          ]
         },
         "layout": {
          "annotationdefaults": {
           "arrowcolor": "#2a3f5f",
           "arrowhead": 0,
           "arrowwidth": 1
          },
          "autotypenumbers": "strict",
          "coloraxis": {
           "colorbar": {
            "outlinewidth": 0,
            "ticks": ""
           }
          },
          "colorscale": {
           "diverging": [
            [
             0,
             "#8e0152"
            ],
            [
             0.1,
             "#c51b7d"
            ],
            [
             0.2,
             "#de77ae"
            ],
            [
             0.3,
             "#f1b6da"
            ],
            [
             0.4,
             "#fde0ef"
            ],
            [
             0.5,
             "#f7f7f7"
            ],
            [
             0.6,
             "#e6f5d0"
            ],
            [
             0.7,
             "#b8e186"
            ],
            [
             0.8,
             "#7fbc41"
            ],
            [
             0.9,
             "#4d9221"
            ],
            [
             1,
             "#276419"
            ]
           ],
           "sequential": [
            [
             0,
             "#0d0887"
            ],
            [
             0.1111111111111111,
             "#46039f"
            ],
            [
             0.2222222222222222,
             "#7201a8"
            ],
            [
             0.3333333333333333,
             "#9c179e"
            ],
            [
             0.4444444444444444,
             "#bd3786"
            ],
            [
             0.5555555555555556,
             "#d8576b"
            ],
            [
             0.6666666666666666,
             "#ed7953"
            ],
            [
             0.7777777777777778,
             "#fb9f3a"
            ],
            [
             0.8888888888888888,
             "#fdca26"
            ],
            [
             1,
             "#f0f921"
            ]
           ],
           "sequentialminus": [
            [
             0,
             "#0d0887"
            ],
            [
             0.1111111111111111,
             "#46039f"
            ],
            [
             0.2222222222222222,
             "#7201a8"
            ],
            [
             0.3333333333333333,
             "#9c179e"
            ],
            [
             0.4444444444444444,
             "#bd3786"
            ],
            [
             0.5555555555555556,
             "#d8576b"
            ],
            [
             0.6666666666666666,
             "#ed7953"
            ],
            [
             0.7777777777777778,
             "#fb9f3a"
            ],
            [
             0.8888888888888888,
             "#fdca26"
            ],
            [
             1,
             "#f0f921"
            ]
           ]
          },
          "colorway": [
           "#636efa",
           "#EF553B",
           "#00cc96",
           "#ab63fa",
           "#FFA15A",
           "#19d3f3",
           "#FF6692",
           "#B6E880",
           "#FF97FF",
           "#FECB52"
          ],
          "font": {
           "color": "#2a3f5f"
          },
          "geo": {
           "bgcolor": "white",
           "lakecolor": "white",
           "landcolor": "#E5ECF6",
           "showlakes": true,
           "showland": true,
           "subunitcolor": "white"
          },
          "hoverlabel": {
           "align": "left"
          },
          "hovermode": "closest",
          "mapbox": {
           "style": "light"
          },
          "paper_bgcolor": "white",
          "plot_bgcolor": "#E5ECF6",
          "polar": {
           "angularaxis": {
            "gridcolor": "white",
            "linecolor": "white",
            "ticks": ""
           },
           "bgcolor": "#E5ECF6",
           "radialaxis": {
            "gridcolor": "white",
            "linecolor": "white",
            "ticks": ""
           }
          },
          "scene": {
           "xaxis": {
            "backgroundcolor": "#E5ECF6",
            "gridcolor": "white",
            "gridwidth": 2,
            "linecolor": "white",
            "showbackground": true,
            "ticks": "",
            "zerolinecolor": "white"
           },
           "yaxis": {
            "backgroundcolor": "#E5ECF6",
            "gridcolor": "white",
            "gridwidth": 2,
            "linecolor": "white",
            "showbackground": true,
            "ticks": "",
            "zerolinecolor": "white"
           },
           "zaxis": {
            "backgroundcolor": "#E5ECF6",
            "gridcolor": "white",
            "gridwidth": 2,
            "linecolor": "white",
            "showbackground": true,
            "ticks": "",
            "zerolinecolor": "white"
           }
          },
          "shapedefaults": {
           "line": {
            "color": "#2a3f5f"
           }
          },
          "ternary": {
           "aaxis": {
            "gridcolor": "white",
            "linecolor": "white",
            "ticks": ""
           },
           "baxis": {
            "gridcolor": "white",
            "linecolor": "white",
            "ticks": ""
           },
           "bgcolor": "#E5ECF6",
           "caxis": {
            "gridcolor": "white",
            "linecolor": "white",
            "ticks": ""
           }
          },
          "title": {
           "x": 0.05
          },
          "xaxis": {
           "automargin": true,
           "gridcolor": "white",
           "linecolor": "white",
           "ticks": "",
           "title": {
            "standoff": 15
           },
           "zerolinecolor": "white",
           "zerolinewidth": 2
          },
          "yaxis": {
           "automargin": true,
           "gridcolor": "white",
           "linecolor": "white",
           "ticks": "",
           "title": {
            "standoff": 15
           },
           "zerolinecolor": "white",
           "zerolinewidth": 2
          }
         }
        },
        "title": {
         "text": "Количество взаимодействий пользователей по дням"
        },
        "xaxis": {
         "title": {
          "text": "Дата"
         }
        },
        "yaxis": {
         "title": {
          "text": "Количество пользователей"
         }
        }
       }
      },
      "text/html": [
       "<div>                            <div id=\"77a07ead-48e3-4fe1-8b47-15307150b817\" class=\"plotly-graph-div\" style=\"height:525px; width:100%;\"></div>            <script type=\"text/javascript\">                require([\"plotly\"], function(Plotly) {                    window.PLOTLYENV=window.PLOTLYENV || {};                                    if (document.getElementById(\"77a07ead-48e3-4fe1-8b47-15307150b817\")) {                    Plotly.newPlot(                        \"77a07ead-48e3-4fe1-8b47-15307150b817\",                        [{\"text\":[\"2289\",\"1957\",\"1866\",\"2009\",\"1628\",\"1455\",\"2214\",\"2615\",\"2394\",\"2374\",\"2312\",\"2378\",\"2128\",\"1943\",\"2516\",\"2395\",\"3056\",\"2684\",\"2206\",\"2504\",\"2583\",\"2726\",\"2690\",\"2490\",\"2540\",\"2168\",\"1628\",\"2546\"],\"x\":[\"2019-10-07T00:00:00\",\"2019-10-08T00:00:00\",\"2019-10-09T00:00:00\",\"2019-10-10T00:00:00\",\"2019-10-11T00:00:00\",\"2019-10-12T00:00:00\",\"2019-10-13T00:00:00\",\"2019-10-14T00:00:00\",\"2019-10-15T00:00:00\",\"2019-10-16T00:00:00\",\"2019-10-17T00:00:00\",\"2019-10-18T00:00:00\",\"2019-10-19T00:00:00\",\"2019-10-20T00:00:00\",\"2019-10-21T00:00:00\",\"2019-10-22T00:00:00\",\"2019-10-23T00:00:00\",\"2019-10-24T00:00:00\",\"2019-10-25T00:00:00\",\"2019-10-26T00:00:00\",\"2019-10-27T00:00:00\",\"2019-10-28T00:00:00\",\"2019-10-29T00:00:00\",\"2019-10-30T00:00:00\",\"2019-10-31T00:00:00\",\"2019-11-01T00:00:00\",\"2019-11-02T00:00:00\",\"2019-11-03T00:00:00\"],\"y\":[2289,1957,1866,2009,1628,1455,2214,2615,2394,2374,2312,2378,2128,1943,2516,2395,3056,2684,2206,2504,2583,2726,2690,2490,2540,2168,1628,2546],\"type\":\"bar\"}],                        {\"template\":{\"data\":{\"bar\":[{\"error_x\":{\"color\":\"#2a3f5f\"},\"error_y\":{\"color\":\"#2a3f5f\"},\"marker\":{\"line\":{\"color\":\"#E5ECF6\",\"width\":0.5},\"pattern\":{\"fillmode\":\"overlay\",\"size\":10,\"solidity\":0.2}},\"type\":\"bar\"}],\"barpolar\":[{\"marker\":{\"line\":{\"color\":\"#E5ECF6\",\"width\":0.5},\"pattern\":{\"fillmode\":\"overlay\",\"size\":10,\"solidity\":0.2}},\"type\":\"barpolar\"}],\"carpet\":[{\"aaxis\":{\"endlinecolor\":\"#2a3f5f\",\"gridcolor\":\"white\",\"linecolor\":\"white\",\"minorgridcolor\":\"white\",\"startlinecolor\":\"#2a3f5f\"},\"baxis\":{\"endlinecolor\":\"#2a3f5f\",\"gridcolor\":\"white\",\"linecolor\":\"white\",\"minorgridcolor\":\"white\",\"startlinecolor\":\"#2a3f5f\"},\"type\":\"carpet\"}],\"choropleth\":[{\"colorbar\":{\"outlinewidth\":0,\"ticks\":\"\"},\"type\":\"choropleth\"}],\"contour\":[{\"colorbar\":{\"outlinewidth\":0,\"ticks\":\"\"},\"colorscale\":[[0.0,\"#0d0887\"],[0.1111111111111111,\"#46039f\"],[0.2222222222222222,\"#7201a8\"],[0.3333333333333333,\"#9c179e\"],[0.4444444444444444,\"#bd3786\"],[0.5555555555555556,\"#d8576b\"],[0.6666666666666666,\"#ed7953\"],[0.7777777777777778,\"#fb9f3a\"],[0.8888888888888888,\"#fdca26\"],[1.0,\"#f0f921\"]],\"type\":\"contour\"}],\"contourcarpet\":[{\"colorbar\":{\"outlinewidth\":0,\"ticks\":\"\"},\"type\":\"contourcarpet\"}],\"heatmap\":[{\"colorbar\":{\"outlinewidth\":0,\"ticks\":\"\"},\"colorscale\":[[0.0,\"#0d0887\"],[0.1111111111111111,\"#46039f\"],[0.2222222222222222,\"#7201a8\"],[0.3333333333333333,\"#9c179e\"],[0.4444444444444444,\"#bd3786\"],[0.5555555555555556,\"#d8576b\"],[0.6666666666666666,\"#ed7953\"],[0.7777777777777778,\"#fb9f3a\"],[0.8888888888888888,\"#fdca26\"],[1.0,\"#f0f921\"]],\"type\":\"heatmap\"}],\"heatmapgl\":[{\"colorbar\":{\"outlinewidth\":0,\"ticks\":\"\"},\"colorscale\":[[0.0,\"#0d0887\"],[0.1111111111111111,\"#46039f\"],[0.2222222222222222,\"#7201a8\"],[0.3333333333333333,\"#9c179e\"],[0.4444444444444444,\"#bd3786\"],[0.5555555555555556,\"#d8576b\"],[0.6666666666666666,\"#ed7953\"],[0.7777777777777778,\"#fb9f3a\"],[0.8888888888888888,\"#fdca26\"],[1.0,\"#f0f921\"]],\"type\":\"heatmapgl\"}],\"histogram\":[{\"marker\":{\"pattern\":{\"fillmode\":\"overlay\",\"size\":10,\"solidity\":0.2}},\"type\":\"histogram\"}],\"histogram2d\":[{\"colorbar\":{\"outlinewidth\":0,\"ticks\":\"\"},\"colorscale\":[[0.0,\"#0d0887\"],[0.1111111111111111,\"#46039f\"],[0.2222222222222222,\"#7201a8\"],[0.3333333333333333,\"#9c179e\"],[0.4444444444444444,\"#bd3786\"],[0.5555555555555556,\"#d8576b\"],[0.6666666666666666,\"#ed7953\"],[0.7777777777777778,\"#fb9f3a\"],[0.8888888888888888,\"#fdca26\"],[1.0,\"#f0f921\"]],\"type\":\"histogram2d\"}],\"histogram2dcontour\":[{\"colorbar\":{\"outlinewidth\":0,\"ticks\":\"\"},\"colorscale\":[[0.0,\"#0d0887\"],[0.1111111111111111,\"#46039f\"],[0.2222222222222222,\"#7201a8\"],[0.3333333333333333,\"#9c179e\"],[0.4444444444444444,\"#bd3786\"],[0.5555555555555556,\"#d8576b\"],[0.6666666666666666,\"#ed7953\"],[0.7777777777777778,\"#fb9f3a\"],[0.8888888888888888,\"#fdca26\"],[1.0,\"#f0f921\"]],\"type\":\"histogram2dcontour\"}],\"mesh3d\":[{\"colorbar\":{\"outlinewidth\":0,\"ticks\":\"\"},\"type\":\"mesh3d\"}],\"parcoords\":[{\"line\":{\"colorbar\":{\"outlinewidth\":0,\"ticks\":\"\"}},\"type\":\"parcoords\"}],\"pie\":[{\"automargin\":true,\"type\":\"pie\"}],\"scatter\":[{\"marker\":{\"colorbar\":{\"outlinewidth\":0,\"ticks\":\"\"}},\"type\":\"scatter\"}],\"scatter3d\":[{\"line\":{\"colorbar\":{\"outlinewidth\":0,\"ticks\":\"\"}},\"marker\":{\"colorbar\":{\"outlinewidth\":0,\"ticks\":\"\"}},\"type\":\"scatter3d\"}],\"scattercarpet\":[{\"marker\":{\"colorbar\":{\"outlinewidth\":0,\"ticks\":\"\"}},\"type\":\"scattercarpet\"}],\"scattergeo\":[{\"marker\":{\"colorbar\":{\"outlinewidth\":0,\"ticks\":\"\"}},\"type\":\"scattergeo\"}],\"scattergl\":[{\"marker\":{\"colorbar\":{\"outlinewidth\":0,\"ticks\":\"\"}},\"type\":\"scattergl\"}],\"scattermapbox\":[{\"marker\":{\"colorbar\":{\"outlinewidth\":0,\"ticks\":\"\"}},\"type\":\"scattermapbox\"}],\"scatterpolar\":[{\"marker\":{\"colorbar\":{\"outlinewidth\":0,\"ticks\":\"\"}},\"type\":\"scatterpolar\"}],\"scatterpolargl\":[{\"marker\":{\"colorbar\":{\"outlinewidth\":0,\"ticks\":\"\"}},\"type\":\"scatterpolargl\"}],\"scatterternary\":[{\"marker\":{\"colorbar\":{\"outlinewidth\":0,\"ticks\":\"\"}},\"type\":\"scatterternary\"}],\"surface\":[{\"colorbar\":{\"outlinewidth\":0,\"ticks\":\"\"},\"colorscale\":[[0.0,\"#0d0887\"],[0.1111111111111111,\"#46039f\"],[0.2222222222222222,\"#7201a8\"],[0.3333333333333333,\"#9c179e\"],[0.4444444444444444,\"#bd3786\"],[0.5555555555555556,\"#d8576b\"],[0.6666666666666666,\"#ed7953\"],[0.7777777777777778,\"#fb9f3a\"],[0.8888888888888888,\"#fdca26\"],[1.0,\"#f0f921\"]],\"type\":\"surface\"}],\"table\":[{\"cells\":{\"fill\":{\"color\":\"#EBF0F8\"},\"line\":{\"color\":\"white\"}},\"header\":{\"fill\":{\"color\":\"#C8D4E3\"},\"line\":{\"color\":\"white\"}},\"type\":\"table\"}]},\"layout\":{\"annotationdefaults\":{\"arrowcolor\":\"#2a3f5f\",\"arrowhead\":0,\"arrowwidth\":1},\"autotypenumbers\":\"strict\",\"coloraxis\":{\"colorbar\":{\"outlinewidth\":0,\"ticks\":\"\"}},\"colorscale\":{\"diverging\":[[0,\"#8e0152\"],[0.1,\"#c51b7d\"],[0.2,\"#de77ae\"],[0.3,\"#f1b6da\"],[0.4,\"#fde0ef\"],[0.5,\"#f7f7f7\"],[0.6,\"#e6f5d0\"],[0.7,\"#b8e186\"],[0.8,\"#7fbc41\"],[0.9,\"#4d9221\"],[1,\"#276419\"]],\"sequential\":[[0.0,\"#0d0887\"],[0.1111111111111111,\"#46039f\"],[0.2222222222222222,\"#7201a8\"],[0.3333333333333333,\"#9c179e\"],[0.4444444444444444,\"#bd3786\"],[0.5555555555555556,\"#d8576b\"],[0.6666666666666666,\"#ed7953\"],[0.7777777777777778,\"#fb9f3a\"],[0.8888888888888888,\"#fdca26\"],[1.0,\"#f0f921\"]],\"sequentialminus\":[[0.0,\"#0d0887\"],[0.1111111111111111,\"#46039f\"],[0.2222222222222222,\"#7201a8\"],[0.3333333333333333,\"#9c179e\"],[0.4444444444444444,\"#bd3786\"],[0.5555555555555556,\"#d8576b\"],[0.6666666666666666,\"#ed7953\"],[0.7777777777777778,\"#fb9f3a\"],[0.8888888888888888,\"#fdca26\"],[1.0,\"#f0f921\"]]},\"colorway\":[\"#636efa\",\"#EF553B\",\"#00cc96\",\"#ab63fa\",\"#FFA15A\",\"#19d3f3\",\"#FF6692\",\"#B6E880\",\"#FF97FF\",\"#FECB52\"],\"font\":{\"color\":\"#2a3f5f\"},\"geo\":{\"bgcolor\":\"white\",\"lakecolor\":\"white\",\"landcolor\":\"#E5ECF6\",\"showlakes\":true,\"showland\":true,\"subunitcolor\":\"white\"},\"hoverlabel\":{\"align\":\"left\"},\"hovermode\":\"closest\",\"mapbox\":{\"style\":\"light\"},\"paper_bgcolor\":\"white\",\"plot_bgcolor\":\"#E5ECF6\",\"polar\":{\"angularaxis\":{\"gridcolor\":\"white\",\"linecolor\":\"white\",\"ticks\":\"\"},\"bgcolor\":\"#E5ECF6\",\"radialaxis\":{\"gridcolor\":\"white\",\"linecolor\":\"white\",\"ticks\":\"\"}},\"scene\":{\"xaxis\":{\"backgroundcolor\":\"#E5ECF6\",\"gridcolor\":\"white\",\"gridwidth\":2,\"linecolor\":\"white\",\"showbackground\":true,\"ticks\":\"\",\"zerolinecolor\":\"white\"},\"yaxis\":{\"backgroundcolor\":\"#E5ECF6\",\"gridcolor\":\"white\",\"gridwidth\":2,\"linecolor\":\"white\",\"showbackground\":true,\"ticks\":\"\",\"zerolinecolor\":\"white\"},\"zaxis\":{\"backgroundcolor\":\"#E5ECF6\",\"gridcolor\":\"white\",\"gridwidth\":2,\"linecolor\":\"white\",\"showbackground\":true,\"ticks\":\"\",\"zerolinecolor\":\"white\"}},\"shapedefaults\":{\"line\":{\"color\":\"#2a3f5f\"}},\"ternary\":{\"aaxis\":{\"gridcolor\":\"white\",\"linecolor\":\"white\",\"ticks\":\"\"},\"baxis\":{\"gridcolor\":\"white\",\"linecolor\":\"white\",\"ticks\":\"\"},\"bgcolor\":\"#E5ECF6\",\"caxis\":{\"gridcolor\":\"white\",\"linecolor\":\"white\",\"ticks\":\"\"}},\"title\":{\"x\":0.05},\"xaxis\":{\"automargin\":true,\"gridcolor\":\"white\",\"linecolor\":\"white\",\"ticks\":\"\",\"title\":{\"standoff\":15},\"zerolinecolor\":\"white\",\"zerolinewidth\":2},\"yaxis\":{\"automargin\":true,\"gridcolor\":\"white\",\"linecolor\":\"white\",\"ticks\":\"\",\"title\":{\"standoff\":15},\"zerolinecolor\":\"white\",\"zerolinewidth\":2}}},\"title\":{\"text\":\"\\u041a\\u043e\\u043b\\u0438\\u0447\\u0435\\u0441\\u0442\\u0432\\u043e \\u0432\\u0437\\u0430\\u0438\\u043c\\u043e\\u0434\\u0435\\u0439\\u0441\\u0442\\u0432\\u0438\\u0439 \\u043f\\u043e\\u043b\\u044c\\u0437\\u043e\\u0432\\u0430\\u0442\\u0435\\u043b\\u0435\\u0439 \\u043f\\u043e \\u0434\\u043d\\u044f\\u043c\"},\"xaxis\":{\"title\":{\"text\":\"\\u0414\\u0430\\u0442\\u0430\"}},\"yaxis\":{\"title\":{\"text\":\"\\u041a\\u043e\\u043b\\u0438\\u0447\\u0435\\u0441\\u0442\\u0432\\u043e \\u043f\\u043e\\u043b\\u044c\\u0437\\u043e\\u0432\\u0430\\u0442\\u0435\\u043b\\u0435\\u0439\"}}},                        {\"responsive\": true}                    ).then(function(){\n",
       "                            \n",
       "var gd = document.getElementById('77a07ead-48e3-4fe1-8b47-15307150b817');\n",
       "var x = new MutationObserver(function (mutations, observer) {{\n",
       "        var display = window.getComputedStyle(gd).display;\n",
       "        if (!display || display === 'none') {{\n",
       "            console.log([gd, 'removed!']);\n",
       "            Plotly.purge(gd);\n",
       "            observer.disconnect();\n",
       "        }}\n",
       "}});\n",
       "\n",
       "// Listen for the removal of the full notebook cells\n",
       "var notebookContainer = gd.closest('#notebook-container');\n",
       "if (notebookContainer) {{\n",
       "    x.observe(notebookContainer, {childList: true});\n",
       "}}\n",
       "\n",
       "// Listen for the clearing of the current output cell\n",
       "var outputEl = gd.closest('.output');\n",
       "if (outputEl) {{\n",
       "    x.observe(outputEl, {childList: true});\n",
       "}}\n",
       "\n",
       "                        })                };                });            </script>        </div>"
      ]
     },
     "metadata": {},
     "output_type": "display_data"
    }
   ],
   "source": [
    "logs_by_day = logs.groupby('full_date').agg({'user_id':'count'}).reset_index()\n",
    "\n",
    "fig = go.Figure(data=[\n",
    "    go.Bar(x=logs_by_day['full_date'].to_list(),\n",
    "           y=logs_by_day['user_id'].to_list(),\n",
    "           text=logs_by_day['user_id'].to_list())])\n",
    "fig.update_layout(title='Количество взаимодействий пользователей по дням',\n",
    "                 xaxis_title='Дата', yaxis_title='Количество пользователей')\n",
    "\n",
    "fig.show()\n"
   ]
  },
  {
   "cell_type": "markdown",
   "metadata": {},
   "source": [
    "+ у нас одинаково полные данные за весь период\n",
    "\n",
    "+ судя по графику, вполне цикличные пики и падения в рамках недель, к концу недели активность как правило падает\n"
   ]
  },
  {
   "cell_type": "markdown",
   "metadata": {},
   "source": [
    "### Соединим таблицы"
   ]
  },
  {
   "cell_type": "code",
   "execution_count": 94,
   "metadata": {},
   "outputs": [
    {
     "name": "stdout",
     "output_type": "stream",
     "text": [
      "4293\n",
      "4249\n"
     ]
    }
   ],
   "source": [
    "print(sources[\"user_id\"].nunique())\n",
    "print(logs[\"user_id\"].nunique())"
   ]
  },
  {
   "cell_type": "markdown",
   "metadata": {},
   "source": [
    "Из logs мы удаляли выбросы, так что количество юзеров изменилось, мерджим таблицы через inner"
   ]
  },
  {
   "cell_type": "code",
   "execution_count": 95,
   "metadata": {},
   "outputs": [
    {
     "data": {
      "text/html": [
       "<div>\n",
       "<style scoped>\n",
       "    .dataframe tbody tr th:only-of-type {\n",
       "        vertical-align: middle;\n",
       "    }\n",
       "\n",
       "    .dataframe tbody tr th {\n",
       "        vertical-align: top;\n",
       "    }\n",
       "\n",
       "    .dataframe thead th {\n",
       "        text-align: right;\n",
       "    }\n",
       "</style>\n",
       "<table border=\"1\" class=\"dataframe\">\n",
       "  <thead>\n",
       "    <tr style=\"text-align: right;\">\n",
       "      <th></th>\n",
       "      <th>event_time</th>\n",
       "      <th>event_name</th>\n",
       "      <th>user_id</th>\n",
       "      <th>event_hour</th>\n",
       "      <th>full_date</th>\n",
       "      <th>day</th>\n",
       "      <th>full_week</th>\n",
       "      <th>week</th>\n",
       "      <th>month</th>\n",
       "      <th>source</th>\n",
       "    </tr>\n",
       "  </thead>\n",
       "  <tbody>\n",
       "    <tr>\n",
       "      <th>0</th>\n",
       "      <td>2019-10-07 00:00:00</td>\n",
       "      <td>advert_open</td>\n",
       "      <td>020292ab-89bc-4156-9acf-68bc2783f894</td>\n",
       "      <td>0</td>\n",
       "      <td>2019-10-07</td>\n",
       "      <td>7</td>\n",
       "      <td>2019-10-03</td>\n",
       "      <td>41</td>\n",
       "      <td>10</td>\n",
       "      <td>other</td>\n",
       "    </tr>\n",
       "    <tr>\n",
       "      <th>1</th>\n",
       "      <td>2019-10-07 00:00:01</td>\n",
       "      <td>tips_show</td>\n",
       "      <td>020292ab-89bc-4156-9acf-68bc2783f894</td>\n",
       "      <td>0</td>\n",
       "      <td>2019-10-07</td>\n",
       "      <td>7</td>\n",
       "      <td>2019-10-03</td>\n",
       "      <td>41</td>\n",
       "      <td>10</td>\n",
       "      <td>other</td>\n",
       "    </tr>\n",
       "    <tr>\n",
       "      <th>2</th>\n",
       "      <td>2019-10-07 00:00:07</td>\n",
       "      <td>tips_show</td>\n",
       "      <td>020292ab-89bc-4156-9acf-68bc2783f894</td>\n",
       "      <td>0</td>\n",
       "      <td>2019-10-07</td>\n",
       "      <td>7</td>\n",
       "      <td>2019-10-03</td>\n",
       "      <td>41</td>\n",
       "      <td>10</td>\n",
       "      <td>other</td>\n",
       "    </tr>\n",
       "    <tr>\n",
       "      <th>3</th>\n",
       "      <td>2019-10-07 00:01:28</td>\n",
       "      <td>advert_open</td>\n",
       "      <td>020292ab-89bc-4156-9acf-68bc2783f894</td>\n",
       "      <td>0</td>\n",
       "      <td>2019-10-07</td>\n",
       "      <td>7</td>\n",
       "      <td>2019-10-03</td>\n",
       "      <td>41</td>\n",
       "      <td>10</td>\n",
       "      <td>other</td>\n",
       "    </tr>\n",
       "    <tr>\n",
       "      <th>4</th>\n",
       "      <td>2019-10-07 00:01:35</td>\n",
       "      <td>tips_show</td>\n",
       "      <td>020292ab-89bc-4156-9acf-68bc2783f894</td>\n",
       "      <td>0</td>\n",
       "      <td>2019-10-07</td>\n",
       "      <td>7</td>\n",
       "      <td>2019-10-03</td>\n",
       "      <td>41</td>\n",
       "      <td>10</td>\n",
       "      <td>other</td>\n",
       "    </tr>\n",
       "    <tr>\n",
       "      <th>...</th>\n",
       "      <td>...</td>\n",
       "      <td>...</td>\n",
       "      <td>...</td>\n",
       "      <td>...</td>\n",
       "      <td>...</td>\n",
       "      <td>...</td>\n",
       "      <td>...</td>\n",
       "      <td>...</td>\n",
       "      <td>...</td>\n",
       "      <td>...</td>\n",
       "    </tr>\n",
       "    <tr>\n",
       "      <th>64289</th>\n",
       "      <td>2019-11-03 23:46:47</td>\n",
       "      <td>map</td>\n",
       "      <td>d157bffc-264d-4464-8220-1cc0c42f43a9</td>\n",
       "      <td>23</td>\n",
       "      <td>2019-11-03</td>\n",
       "      <td>3</td>\n",
       "      <td>2019-10-31</td>\n",
       "      <td>44</td>\n",
       "      <td>11</td>\n",
       "      <td>google</td>\n",
       "    </tr>\n",
       "    <tr>\n",
       "      <th>64290</th>\n",
       "      <td>2019-11-03 23:46:59</td>\n",
       "      <td>advert_open</td>\n",
       "      <td>d157bffc-264d-4464-8220-1cc0c42f43a9</td>\n",
       "      <td>23</td>\n",
       "      <td>2019-11-03</td>\n",
       "      <td>3</td>\n",
       "      <td>2019-10-31</td>\n",
       "      <td>44</td>\n",
       "      <td>11</td>\n",
       "      <td>google</td>\n",
       "    </tr>\n",
       "    <tr>\n",
       "      <th>64291</th>\n",
       "      <td>2019-11-03 23:47:01</td>\n",
       "      <td>tips_show</td>\n",
       "      <td>d157bffc-264d-4464-8220-1cc0c42f43a9</td>\n",
       "      <td>23</td>\n",
       "      <td>2019-11-03</td>\n",
       "      <td>3</td>\n",
       "      <td>2019-10-31</td>\n",
       "      <td>44</td>\n",
       "      <td>11</td>\n",
       "      <td>google</td>\n",
       "    </tr>\n",
       "    <tr>\n",
       "      <th>64292</th>\n",
       "      <td>2019-11-03 23:47:47</td>\n",
       "      <td>advert_open</td>\n",
       "      <td>d157bffc-264d-4464-8220-1cc0c42f43a9</td>\n",
       "      <td>23</td>\n",
       "      <td>2019-11-03</td>\n",
       "      <td>3</td>\n",
       "      <td>2019-10-31</td>\n",
       "      <td>44</td>\n",
       "      <td>11</td>\n",
       "      <td>google</td>\n",
       "    </tr>\n",
       "    <tr>\n",
       "      <th>64293</th>\n",
       "      <td>2019-11-03 23:47:50</td>\n",
       "      <td>tips_show</td>\n",
       "      <td>d157bffc-264d-4464-8220-1cc0c42f43a9</td>\n",
       "      <td>23</td>\n",
       "      <td>2019-11-03</td>\n",
       "      <td>3</td>\n",
       "      <td>2019-10-31</td>\n",
       "      <td>44</td>\n",
       "      <td>11</td>\n",
       "      <td>google</td>\n",
       "    </tr>\n",
       "  </tbody>\n",
       "</table>\n",
       "<p>64294 rows × 10 columns</p>\n",
       "</div>"
      ],
      "text/plain": [
       "               event_time   event_name                               user_id  \\\n",
       "0     2019-10-07 00:00:00  advert_open  020292ab-89bc-4156-9acf-68bc2783f894   \n",
       "1     2019-10-07 00:00:01    tips_show  020292ab-89bc-4156-9acf-68bc2783f894   \n",
       "2     2019-10-07 00:00:07    tips_show  020292ab-89bc-4156-9acf-68bc2783f894   \n",
       "3     2019-10-07 00:01:28  advert_open  020292ab-89bc-4156-9acf-68bc2783f894   \n",
       "4     2019-10-07 00:01:35    tips_show  020292ab-89bc-4156-9acf-68bc2783f894   \n",
       "...                   ...          ...                                   ...   \n",
       "64289 2019-11-03 23:46:47          map  d157bffc-264d-4464-8220-1cc0c42f43a9   \n",
       "64290 2019-11-03 23:46:59  advert_open  d157bffc-264d-4464-8220-1cc0c42f43a9   \n",
       "64291 2019-11-03 23:47:01    tips_show  d157bffc-264d-4464-8220-1cc0c42f43a9   \n",
       "64292 2019-11-03 23:47:47  advert_open  d157bffc-264d-4464-8220-1cc0c42f43a9   \n",
       "64293 2019-11-03 23:47:50    tips_show  d157bffc-264d-4464-8220-1cc0c42f43a9   \n",
       "\n",
       "       event_hour  full_date  day  full_week  week  month  source  \n",
       "0               0 2019-10-07    7 2019-10-03    41     10   other  \n",
       "1               0 2019-10-07    7 2019-10-03    41     10   other  \n",
       "2               0 2019-10-07    7 2019-10-03    41     10   other  \n",
       "3               0 2019-10-07    7 2019-10-03    41     10   other  \n",
       "4               0 2019-10-07    7 2019-10-03    41     10   other  \n",
       "...           ...        ...  ...        ...   ...    ...     ...  \n",
       "64289          23 2019-11-03    3 2019-10-31    44     11  google  \n",
       "64290          23 2019-11-03    3 2019-10-31    44     11  google  \n",
       "64291          23 2019-11-03    3 2019-10-31    44     11  google  \n",
       "64292          23 2019-11-03    3 2019-10-31    44     11  google  \n",
       "64293          23 2019-11-03    3 2019-10-31    44     11  google  \n",
       "\n",
       "[64294 rows x 10 columns]"
      ]
     },
     "execution_count": 95,
     "metadata": {},
     "output_type": "execute_result"
    }
   ],
   "source": [
    "df = logs.merge(sources, how='inner', on='user_id')\n",
    "df"
   ]
  },
  {
   "cell_type": "markdown",
   "metadata": {},
   "source": [
    "Теперь в логе в логе 63786 событий и 4245 уникальных пользователя"
   ]
  },
  {
   "cell_type": "markdown",
   "metadata": {},
   "source": [
    "## Сегментируем пользователей\n"
   ]
  },
  {
   "cell_type": "markdown",
   "metadata": {},
   "source": [
    "### Посчитаем нужные метрики для дальнейшей кластеризации:\n",
    "\n",
    "- lifetime и retention rate (понедельно)\n",
    "- время, проведённое в приложении (последнее событие за день - первое событие за день за день и потом среднее)\n",
    "- частота действий (в рамках одной сессиии)\n",
    "- конверсия в целевое действие — просмотр контактов (сколько пользователей, выполнивших событие N потом посмотрели контакты. доля выполнения цд и возможно неглубокая воронка на 2-3-4 действия)(да или нет, 10 или 0)\n"
   ]
  },
  {
   "cell_type": "markdown",
   "metadata": {},
   "source": [
    "####  Retention rate (понедельно)\n",
    "\n",
    "В данных общий период примерно месяц, поэтому будем считать недельные когорты"
   ]
  },
  {
   "cell_type": "code",
   "execution_count": 96,
   "metadata": {},
   "outputs": [
    {
     "data": {
      "text/html": [
       "<div>\n",
       "<style scoped>\n",
       "    .dataframe tbody tr th:only-of-type {\n",
       "        vertical-align: middle;\n",
       "    }\n",
       "\n",
       "    .dataframe tbody tr th {\n",
       "        vertical-align: top;\n",
       "    }\n",
       "\n",
       "    .dataframe thead th {\n",
       "        text-align: right;\n",
       "    }\n",
       "</style>\n",
       "<table border=\"1\" class=\"dataframe\">\n",
       "  <thead>\n",
       "    <tr style=\"text-align: right;\">\n",
       "      <th></th>\n",
       "      <th>event_time</th>\n",
       "      <th>event_name</th>\n",
       "      <th>user_id</th>\n",
       "      <th>event_hour</th>\n",
       "      <th>full_date</th>\n",
       "      <th>day</th>\n",
       "      <th>full_week</th>\n",
       "      <th>week</th>\n",
       "      <th>month</th>\n",
       "      <th>source</th>\n",
       "      <th>first_activity_date</th>\n",
       "      <th>first_activity_week</th>\n",
       "      <th>cohort_lifetime</th>\n",
       "    </tr>\n",
       "  </thead>\n",
       "  <tbody>\n",
       "    <tr>\n",
       "      <th>0</th>\n",
       "      <td>2019-10-07 00:00:00</td>\n",
       "      <td>advert_open</td>\n",
       "      <td>020292ab-89bc-4156-9acf-68bc2783f894</td>\n",
       "      <td>0</td>\n",
       "      <td>2019-10-07</td>\n",
       "      <td>7</td>\n",
       "      <td>2019-10-03</td>\n",
       "      <td>41</td>\n",
       "      <td>10</td>\n",
       "      <td>other</td>\n",
       "      <td>2019-10-07</td>\n",
       "      <td>2019-10-07</td>\n",
       "      <td>0</td>\n",
       "    </tr>\n",
       "    <tr>\n",
       "      <th>1</th>\n",
       "      <td>2019-10-07 00:00:01</td>\n",
       "      <td>tips_show</td>\n",
       "      <td>020292ab-89bc-4156-9acf-68bc2783f894</td>\n",
       "      <td>0</td>\n",
       "      <td>2019-10-07</td>\n",
       "      <td>7</td>\n",
       "      <td>2019-10-03</td>\n",
       "      <td>41</td>\n",
       "      <td>10</td>\n",
       "      <td>other</td>\n",
       "      <td>2019-10-07</td>\n",
       "      <td>2019-10-07</td>\n",
       "      <td>0</td>\n",
       "    </tr>\n",
       "    <tr>\n",
       "      <th>2</th>\n",
       "      <td>2019-10-07 00:00:07</td>\n",
       "      <td>tips_show</td>\n",
       "      <td>020292ab-89bc-4156-9acf-68bc2783f894</td>\n",
       "      <td>0</td>\n",
       "      <td>2019-10-07</td>\n",
       "      <td>7</td>\n",
       "      <td>2019-10-03</td>\n",
       "      <td>41</td>\n",
       "      <td>10</td>\n",
       "      <td>other</td>\n",
       "      <td>2019-10-07</td>\n",
       "      <td>2019-10-07</td>\n",
       "      <td>0</td>\n",
       "    </tr>\n",
       "    <tr>\n",
       "      <th>3</th>\n",
       "      <td>2019-10-07 00:01:28</td>\n",
       "      <td>advert_open</td>\n",
       "      <td>020292ab-89bc-4156-9acf-68bc2783f894</td>\n",
       "      <td>0</td>\n",
       "      <td>2019-10-07</td>\n",
       "      <td>7</td>\n",
       "      <td>2019-10-03</td>\n",
       "      <td>41</td>\n",
       "      <td>10</td>\n",
       "      <td>other</td>\n",
       "      <td>2019-10-07</td>\n",
       "      <td>2019-10-07</td>\n",
       "      <td>0</td>\n",
       "    </tr>\n",
       "    <tr>\n",
       "      <th>4</th>\n",
       "      <td>2019-10-07 00:01:35</td>\n",
       "      <td>tips_show</td>\n",
       "      <td>020292ab-89bc-4156-9acf-68bc2783f894</td>\n",
       "      <td>0</td>\n",
       "      <td>2019-10-07</td>\n",
       "      <td>7</td>\n",
       "      <td>2019-10-03</td>\n",
       "      <td>41</td>\n",
       "      <td>10</td>\n",
       "      <td>other</td>\n",
       "      <td>2019-10-07</td>\n",
       "      <td>2019-10-07</td>\n",
       "      <td>0</td>\n",
       "    </tr>\n",
       "    <tr>\n",
       "      <th>...</th>\n",
       "      <td>...</td>\n",
       "      <td>...</td>\n",
       "      <td>...</td>\n",
       "      <td>...</td>\n",
       "      <td>...</td>\n",
       "      <td>...</td>\n",
       "      <td>...</td>\n",
       "      <td>...</td>\n",
       "      <td>...</td>\n",
       "      <td>...</td>\n",
       "      <td>...</td>\n",
       "      <td>...</td>\n",
       "      <td>...</td>\n",
       "    </tr>\n",
       "    <tr>\n",
       "      <th>64289</th>\n",
       "      <td>2019-11-03 23:46:47</td>\n",
       "      <td>map</td>\n",
       "      <td>d157bffc-264d-4464-8220-1cc0c42f43a9</td>\n",
       "      <td>23</td>\n",
       "      <td>2019-11-03</td>\n",
       "      <td>3</td>\n",
       "      <td>2019-10-31</td>\n",
       "      <td>44</td>\n",
       "      <td>11</td>\n",
       "      <td>google</td>\n",
       "      <td>2019-11-03</td>\n",
       "      <td>2019-10-28</td>\n",
       "      <td>0</td>\n",
       "    </tr>\n",
       "    <tr>\n",
       "      <th>64290</th>\n",
       "      <td>2019-11-03 23:46:59</td>\n",
       "      <td>advert_open</td>\n",
       "      <td>d157bffc-264d-4464-8220-1cc0c42f43a9</td>\n",
       "      <td>23</td>\n",
       "      <td>2019-11-03</td>\n",
       "      <td>3</td>\n",
       "      <td>2019-10-31</td>\n",
       "      <td>44</td>\n",
       "      <td>11</td>\n",
       "      <td>google</td>\n",
       "      <td>2019-11-03</td>\n",
       "      <td>2019-10-28</td>\n",
       "      <td>0</td>\n",
       "    </tr>\n",
       "    <tr>\n",
       "      <th>64291</th>\n",
       "      <td>2019-11-03 23:47:01</td>\n",
       "      <td>tips_show</td>\n",
       "      <td>d157bffc-264d-4464-8220-1cc0c42f43a9</td>\n",
       "      <td>23</td>\n",
       "      <td>2019-11-03</td>\n",
       "      <td>3</td>\n",
       "      <td>2019-10-31</td>\n",
       "      <td>44</td>\n",
       "      <td>11</td>\n",
       "      <td>google</td>\n",
       "      <td>2019-11-03</td>\n",
       "      <td>2019-10-28</td>\n",
       "      <td>0</td>\n",
       "    </tr>\n",
       "    <tr>\n",
       "      <th>64292</th>\n",
       "      <td>2019-11-03 23:47:47</td>\n",
       "      <td>advert_open</td>\n",
       "      <td>d157bffc-264d-4464-8220-1cc0c42f43a9</td>\n",
       "      <td>23</td>\n",
       "      <td>2019-11-03</td>\n",
       "      <td>3</td>\n",
       "      <td>2019-10-31</td>\n",
       "      <td>44</td>\n",
       "      <td>11</td>\n",
       "      <td>google</td>\n",
       "      <td>2019-11-03</td>\n",
       "      <td>2019-10-28</td>\n",
       "      <td>0</td>\n",
       "    </tr>\n",
       "    <tr>\n",
       "      <th>64293</th>\n",
       "      <td>2019-11-03 23:47:50</td>\n",
       "      <td>tips_show</td>\n",
       "      <td>d157bffc-264d-4464-8220-1cc0c42f43a9</td>\n",
       "      <td>23</td>\n",
       "      <td>2019-11-03</td>\n",
       "      <td>3</td>\n",
       "      <td>2019-10-31</td>\n",
       "      <td>44</td>\n",
       "      <td>11</td>\n",
       "      <td>google</td>\n",
       "      <td>2019-11-03</td>\n",
       "      <td>2019-10-28</td>\n",
       "      <td>0</td>\n",
       "    </tr>\n",
       "  </tbody>\n",
       "</table>\n",
       "<p>64294 rows × 13 columns</p>\n",
       "</div>"
      ],
      "text/plain": [
       "               event_time   event_name                               user_id  \\\n",
       "0     2019-10-07 00:00:00  advert_open  020292ab-89bc-4156-9acf-68bc2783f894   \n",
       "1     2019-10-07 00:00:01    tips_show  020292ab-89bc-4156-9acf-68bc2783f894   \n",
       "2     2019-10-07 00:00:07    tips_show  020292ab-89bc-4156-9acf-68bc2783f894   \n",
       "3     2019-10-07 00:01:28  advert_open  020292ab-89bc-4156-9acf-68bc2783f894   \n",
       "4     2019-10-07 00:01:35    tips_show  020292ab-89bc-4156-9acf-68bc2783f894   \n",
       "...                   ...          ...                                   ...   \n",
       "64289 2019-11-03 23:46:47          map  d157bffc-264d-4464-8220-1cc0c42f43a9   \n",
       "64290 2019-11-03 23:46:59  advert_open  d157bffc-264d-4464-8220-1cc0c42f43a9   \n",
       "64291 2019-11-03 23:47:01    tips_show  d157bffc-264d-4464-8220-1cc0c42f43a9   \n",
       "64292 2019-11-03 23:47:47  advert_open  d157bffc-264d-4464-8220-1cc0c42f43a9   \n",
       "64293 2019-11-03 23:47:50    tips_show  d157bffc-264d-4464-8220-1cc0c42f43a9   \n",
       "\n",
       "       event_hour  full_date  day  full_week  week  month  source  \\\n",
       "0               0 2019-10-07    7 2019-10-03    41     10   other   \n",
       "1               0 2019-10-07    7 2019-10-03    41     10   other   \n",
       "2               0 2019-10-07    7 2019-10-03    41     10   other   \n",
       "3               0 2019-10-07    7 2019-10-03    41     10   other   \n",
       "4               0 2019-10-07    7 2019-10-03    41     10   other   \n",
       "...           ...        ...  ...        ...   ...    ...     ...   \n",
       "64289          23 2019-11-03    3 2019-10-31    44     11  google   \n",
       "64290          23 2019-11-03    3 2019-10-31    44     11  google   \n",
       "64291          23 2019-11-03    3 2019-10-31    44     11  google   \n",
       "64292          23 2019-11-03    3 2019-10-31    44     11  google   \n",
       "64293          23 2019-11-03    3 2019-10-31    44     11  google   \n",
       "\n",
       "      first_activity_date first_activity_week  cohort_lifetime  \n",
       "0              2019-10-07          2019-10-07                0  \n",
       "1              2019-10-07          2019-10-07                0  \n",
       "2              2019-10-07          2019-10-07                0  \n",
       "3              2019-10-07          2019-10-07                0  \n",
       "4              2019-10-07          2019-10-07                0  \n",
       "...                   ...                 ...              ...  \n",
       "64289          2019-11-03          2019-10-28                0  \n",
       "64290          2019-11-03          2019-10-28                0  \n",
       "64291          2019-11-03          2019-10-28                0  \n",
       "64292          2019-11-03          2019-10-28                0  \n",
       "64293          2019-11-03          2019-10-28                0  \n",
       "\n",
       "[64294 rows x 13 columns]"
      ]
     },
     "metadata": {},
     "output_type": "display_data"
    }
   ],
   "source": [
    "# найдем дату первого события\n",
    "first_user_activity_date = df.groupby(['user_id'])['full_date'].min()\n",
    "first_user_activity_date.name = 'first_activity_date'\n",
    "user_activity = df.join(first_user_activity_date,on='user_id')\n",
    "\n",
    "# найдем неделю первого события\n",
    "user_activity['first_activity_week'] = pd.to_datetime(user_activity['first_activity_date'],\n",
    "                                                      unit='d') - pd.to_timedelta(\n",
    "    user_activity['first_activity_date'].dt.dayofweek, unit='d')\n",
    "\n",
    "# посчитаем lifetime для когорт\n",
    "user_activity['cohort_lifetime'] = user_activity['full_week'] - user_activity['first_activity_week']\n",
    "user_activity['cohort_lifetime'] = user_activity['cohort_lifetime'] / np.timedelta64(1,'W')\n",
    "user_activity['cohort_lifetime'] = user_activity['cohort_lifetime'].astype(int)\n",
    "display(user_activity)"
   ]
  },
  {
   "cell_type": "code",
   "execution_count": 97,
   "metadata": {
    "scrolled": true
   },
   "outputs": [
    {
     "data": {
      "text/html": [
       "<div>\n",
       "<style scoped>\n",
       "    .dataframe tbody tr th:only-of-type {\n",
       "        vertical-align: middle;\n",
       "    }\n",
       "\n",
       "    .dataframe tbody tr th {\n",
       "        vertical-align: top;\n",
       "    }\n",
       "\n",
       "    .dataframe thead th {\n",
       "        text-align: right;\n",
       "    }\n",
       "</style>\n",
       "<table border=\"1\" class=\"dataframe\">\n",
       "  <thead>\n",
       "    <tr style=\"text-align: right;\">\n",
       "      <th></th>\n",
       "      <th>first_activity_week</th>\n",
       "      <th>cohort_lifetime</th>\n",
       "      <th>user_id</th>\n",
       "      <th>original_cohort_users</th>\n",
       "    </tr>\n",
       "  </thead>\n",
       "  <tbody>\n",
       "    <tr>\n",
       "      <th>0</th>\n",
       "      <td>2019-10-07</td>\n",
       "      <td>0</td>\n",
       "      <td>1104</td>\n",
       "      <td>1104</td>\n",
       "    </tr>\n",
       "    <tr>\n",
       "      <th>1</th>\n",
       "      <td>2019-10-07</td>\n",
       "      <td>1</td>\n",
       "      <td>192</td>\n",
       "      <td>1104</td>\n",
       "    </tr>\n",
       "    <tr>\n",
       "      <th>2</th>\n",
       "      <td>2019-10-07</td>\n",
       "      <td>2</td>\n",
       "      <td>128</td>\n",
       "      <td>1104</td>\n",
       "    </tr>\n",
       "    <tr>\n",
       "      <th>3</th>\n",
       "      <td>2019-10-07</td>\n",
       "      <td>3</td>\n",
       "      <td>66</td>\n",
       "      <td>1104</td>\n",
       "    </tr>\n",
       "    <tr>\n",
       "      <th>4</th>\n",
       "      <td>2019-10-14</td>\n",
       "      <td>0</td>\n",
       "      <td>1157</td>\n",
       "      <td>1157</td>\n",
       "    </tr>\n",
       "    <tr>\n",
       "      <th>5</th>\n",
       "      <td>2019-10-14</td>\n",
       "      <td>1</td>\n",
       "      <td>207</td>\n",
       "      <td>1157</td>\n",
       "    </tr>\n",
       "    <tr>\n",
       "      <th>6</th>\n",
       "      <td>2019-10-14</td>\n",
       "      <td>2</td>\n",
       "      <td>86</td>\n",
       "      <td>1157</td>\n",
       "    </tr>\n",
       "    <tr>\n",
       "      <th>7</th>\n",
       "      <td>2019-10-21</td>\n",
       "      <td>0</td>\n",
       "      <td>1087</td>\n",
       "      <td>1087</td>\n",
       "    </tr>\n",
       "    <tr>\n",
       "      <th>8</th>\n",
       "      <td>2019-10-21</td>\n",
       "      <td>1</td>\n",
       "      <td>127</td>\n",
       "      <td>1087</td>\n",
       "    </tr>\n",
       "    <tr>\n",
       "      <th>9</th>\n",
       "      <td>2019-10-28</td>\n",
       "      <td>0</td>\n",
       "      <td>901</td>\n",
       "      <td>901</td>\n",
       "    </tr>\n",
       "  </tbody>\n",
       "</table>\n",
       "</div>"
      ],
      "text/plain": [
       "  first_activity_week  cohort_lifetime  user_id  original_cohort_users\n",
       "0          2019-10-07                0     1104                   1104\n",
       "1          2019-10-07                1      192                   1104\n",
       "2          2019-10-07                2      128                   1104\n",
       "3          2019-10-07                3       66                   1104\n",
       "4          2019-10-14                0     1157                   1157\n",
       "5          2019-10-14                1      207                   1157\n",
       "6          2019-10-14                2       86                   1157\n",
       "7          2019-10-21                0     1087                   1087\n",
       "8          2019-10-21                1      127                   1087\n",
       "9          2019-10-28                0      901                    901"
      ]
     },
     "metadata": {},
     "output_type": "display_data"
    }
   ],
   "source": [
    "# вычисляем размеры когорт\n",
    "cohort_sizes = user_activity.groupby(['first_activity_week','cohort_lifetime'], as_index = False\n",
    "                                    ).agg({'user_id':'nunique'})\n",
    "\n",
    "# найдём исходное количество пользователей в когорте и добавим в таблицу\n",
    "initial_users_count = cohort_sizes[cohort_sizes['cohort_lifetime'] == 0][['first_activity_week','user_id']]\n",
    "initial_users_count = initial_users_count.rename(columns={'user_id':'original_cohort_users'})\n",
    "cohort_sizes = cohort_sizes.merge(initial_users_count,on='first_activity_week')\n",
    "display(cohort_sizes)\n"
   ]
  },
  {
   "cell_type": "code",
   "execution_count": 98,
   "metadata": {},
   "outputs": [
    {
     "data": {
      "text/html": [
       "<div>\n",
       "<style scoped>\n",
       "    .dataframe tbody tr th:only-of-type {\n",
       "        vertical-align: middle;\n",
       "    }\n",
       "\n",
       "    .dataframe tbody tr th {\n",
       "        vertical-align: top;\n",
       "    }\n",
       "\n",
       "    .dataframe thead th {\n",
       "        text-align: right;\n",
       "    }\n",
       "</style>\n",
       "<table border=\"1\" class=\"dataframe\">\n",
       "  <thead>\n",
       "    <tr style=\"text-align: right;\">\n",
       "      <th>cohort_lifetime</th>\n",
       "      <th>0</th>\n",
       "      <th>1</th>\n",
       "      <th>2</th>\n",
       "      <th>3</th>\n",
       "    </tr>\n",
       "    <tr>\n",
       "      <th>first_activity_week</th>\n",
       "      <th></th>\n",
       "      <th></th>\n",
       "      <th></th>\n",
       "      <th></th>\n",
       "    </tr>\n",
       "  </thead>\n",
       "  <tbody>\n",
       "    <tr>\n",
       "      <th>2019-10-07</th>\n",
       "      <td>1.0</td>\n",
       "      <td>0.173913</td>\n",
       "      <td>0.115942</td>\n",
       "      <td>0.059783</td>\n",
       "    </tr>\n",
       "    <tr>\n",
       "      <th>2019-10-14</th>\n",
       "      <td>1.0</td>\n",
       "      <td>0.178911</td>\n",
       "      <td>0.074330</td>\n",
       "      <td>0.000000</td>\n",
       "    </tr>\n",
       "    <tr>\n",
       "      <th>2019-10-21</th>\n",
       "      <td>1.0</td>\n",
       "      <td>0.116835</td>\n",
       "      <td>0.000000</td>\n",
       "      <td>0.000000</td>\n",
       "    </tr>\n",
       "    <tr>\n",
       "      <th>2019-10-28</th>\n",
       "      <td>1.0</td>\n",
       "      <td>0.000000</td>\n",
       "      <td>0.000000</td>\n",
       "      <td>0.000000</td>\n",
       "    </tr>\n",
       "  </tbody>\n",
       "</table>\n",
       "</div>"
      ],
      "text/plain": [
       "cohort_lifetime        0         1         2         3\n",
       "first_activity_week                                   \n",
       "2019-10-07           1.0  0.173913  0.115942  0.059783\n",
       "2019-10-14           1.0  0.178911  0.074330  0.000000\n",
       "2019-10-21           1.0  0.116835  0.000000  0.000000\n",
       "2019-10-28           1.0  0.000000  0.000000  0.000000"
      ]
     },
     "metadata": {},
     "output_type": "display_data"
    }
   ],
   "source": [
    "# посчитаем retention rate \n",
    "cohort_sizes['retention'] = cohort_sizes['user_id']/cohort_sizes['original_cohort_users']\n",
    "retention_pivot = cohort_sizes.pivot_table(index='first_activity_week',\n",
    "                                      columns='cohort_lifetime',values='retention',aggfunc='sum').fillna(0)\n",
    "display(retention_pivot)"
   ]
  },
  {
   "cell_type": "code",
   "execution_count": 99,
   "metadata": {
    "scrolled": true
   },
   "outputs": [
    {
     "data": {
      "image/png": "[encoded data removed]",
      "text/plain": [
       "<Figure size 720x576 with 2 Axes>"
      ]
     },
     "metadata": {
      "needs_background": "light"
     },
     "output_type": "display_data"
    }
   ],
   "source": [
    "# построим хитмэп\n",
    "plt.figure(figsize=(10, 8))\n",
    "plt.title('Тепловая карта удержания')\n",
    "sns.heatmap(retention_pivot, annot=True, fmt='.1%', linewidths=2, linecolor='white')\n",
    "plt.show()\n",
    "\n"
   ]
  },
  {
   "cell_type": "markdown",
   "metadata": {},
   "source": [
    "Показатели удержания не очень утешительные\n",
    "\n",
    "Уже на второй неделе остается в лучшем случе 17% пользователей, до 4 доходит лишь 6%"
   ]
  },
  {
   "cell_type": "markdown",
   "metadata": {},
   "source": [
    "#### Время, проведённое в приложении"
   ]
  },
  {
   "cell_type": "code",
   "execution_count": 100,
   "metadata": {},
   "outputs": [],
   "source": [
    "# определим начало и конец каждой пользовательской сессии\n",
    "\n",
    "user_time_min = df.groupby(['user_id', 'full_date', 'event_hour'], as_index=False)\\\n",
    ".agg({'event_time':'min'}).rename(columns={'event_time':'session_start'})\n",
    "\n",
    "user_time_max = df.groupby(['user_id', 'full_date', 'event_hour'], as_index=False)\\\n",
    ".agg({'event_time':'max'})\\\n",
    ".rename(columns={'event_time':'session_stop'})"
   ]
  },
  {
   "cell_type": "code",
   "execution_count": 101,
   "metadata": {},
   "outputs": [],
   "source": [
    "# объединим столбцы с временем начала и конца сесиии\n",
    "user_time =  pd.merge(user_time_min, user_time_max, on=['user_id', 'full_date', 'event_hour'])"
   ]
  },
  {
   "cell_type": "code",
   "execution_count": 102,
   "metadata": {
    "scrolled": true
   },
   "outputs": [
    {
     "data": {
      "text/html": [
       "<div>\n",
       "<style scoped>\n",
       "    .dataframe tbody tr th:only-of-type {\n",
       "        vertical-align: middle;\n",
       "    }\n",
       "\n",
       "    .dataframe tbody tr th {\n",
       "        vertical-align: top;\n",
       "    }\n",
       "\n",
       "    .dataframe thead th {\n",
       "        text-align: right;\n",
       "    }\n",
       "</style>\n",
       "<table border=\"1\" class=\"dataframe\">\n",
       "  <thead>\n",
       "    <tr style=\"text-align: right;\">\n",
       "      <th></th>\n",
       "      <th>user_id</th>\n",
       "      <th>full_date</th>\n",
       "      <th>event_hour</th>\n",
       "      <th>session_start</th>\n",
       "      <th>session_stop</th>\n",
       "      <th>session_duration_min</th>\n",
       "    </tr>\n",
       "  </thead>\n",
       "  <tbody>\n",
       "    <tr>\n",
       "      <th>0</th>\n",
       "      <td>0001b1d5-b74a-4cbf-aeb0-7df5947bf349</td>\n",
       "      <td>2019-10-07</td>\n",
       "      <td>13</td>\n",
       "      <td>2019-10-07 13:39:46</td>\n",
       "      <td>2019-10-07 13:49:42</td>\n",
       "      <td>9.933333</td>\n",
       "    </tr>\n",
       "    <tr>\n",
       "      <th>1</th>\n",
       "      <td>0001b1d5-b74a-4cbf-aeb0-7df5947bf349</td>\n",
       "      <td>2019-10-09</td>\n",
       "      <td>18</td>\n",
       "      <td>2019-10-09 18:33:56</td>\n",
       "      <td>2019-10-09 18:42:23</td>\n",
       "      <td>8.450000</td>\n",
       "    </tr>\n",
       "    <tr>\n",
       "      <th>2</th>\n",
       "      <td>0001b1d5-b74a-4cbf-aeb0-7df5947bf349</td>\n",
       "      <td>2019-10-21</td>\n",
       "      <td>19</td>\n",
       "      <td>2019-10-21 19:52:31</td>\n",
       "      <td>2019-10-21 19:57:49</td>\n",
       "      <td>5.300000</td>\n",
       "    </tr>\n",
       "    <tr>\n",
       "      <th>3</th>\n",
       "      <td>0001b1d5-b74a-4cbf-aeb0-7df5947bf349</td>\n",
       "      <td>2019-10-21</td>\n",
       "      <td>20</td>\n",
       "      <td>2019-10-21 20:00:00</td>\n",
       "      <td>2019-10-21 20:07:30</td>\n",
       "      <td>7.500000</td>\n",
       "    </tr>\n",
       "    <tr>\n",
       "      <th>4</th>\n",
       "      <td>0001b1d5-b74a-4cbf-aeb0-7df5947bf349</td>\n",
       "      <td>2019-10-22</td>\n",
       "      <td>11</td>\n",
       "      <td>2019-10-22 11:18:15</td>\n",
       "      <td>2019-10-22 11:30:53</td>\n",
       "      <td>12.633333</td>\n",
       "    </tr>\n",
       "  </tbody>\n",
       "</table>\n",
       "</div>"
      ],
      "text/plain": [
       "                                user_id  full_date  event_hour  \\\n",
       "0  0001b1d5-b74a-4cbf-aeb0-7df5947bf349 2019-10-07          13   \n",
       "1  0001b1d5-b74a-4cbf-aeb0-7df5947bf349 2019-10-09          18   \n",
       "2  0001b1d5-b74a-4cbf-aeb0-7df5947bf349 2019-10-21          19   \n",
       "3  0001b1d5-b74a-4cbf-aeb0-7df5947bf349 2019-10-21          20   \n",
       "4  0001b1d5-b74a-4cbf-aeb0-7df5947bf349 2019-10-22          11   \n",
       "\n",
       "        session_start        session_stop  session_duration_min  \n",
       "0 2019-10-07 13:39:46 2019-10-07 13:49:42              9.933333  \n",
       "1 2019-10-09 18:33:56 2019-10-09 18:42:23              8.450000  \n",
       "2 2019-10-21 19:52:31 2019-10-21 19:57:49              5.300000  \n",
       "3 2019-10-21 20:00:00 2019-10-21 20:07:30              7.500000  \n",
       "4 2019-10-22 11:18:15 2019-10-22 11:30:53             12.633333  "
      ]
     },
     "execution_count": 102,
     "metadata": {},
     "output_type": "execute_result"
    }
   ],
   "source": [
    "# посчитаем длительность сессий в минутах\n",
    "user_time['session_duration_min'] = (user_time['session_stop'] - user_time['session_start'])\\\n",
    ".astype('timedelta64[s]') / 60\n",
    "\n",
    "user_time.head()"
   ]
  },
  {
   "cell_type": "code",
   "execution_count": 103,
   "metadata": {
    "scrolled": true
   },
   "outputs": [
    {
     "data": {
      "text/html": [
       "<div>\n",
       "<style scoped>\n",
       "    .dataframe tbody tr th:only-of-type {\n",
       "        vertical-align: middle;\n",
       "    }\n",
       "\n",
       "    .dataframe tbody tr th {\n",
       "        vertical-align: top;\n",
       "    }\n",
       "\n",
       "    .dataframe thead th {\n",
       "        text-align: right;\n",
       "    }\n",
       "</style>\n",
       "<table border=\"1\" class=\"dataframe\">\n",
       "  <thead>\n",
       "    <tr style=\"text-align: right;\">\n",
       "      <th></th>\n",
       "      <th>mean_session_duration_min</th>\n",
       "    </tr>\n",
       "    <tr>\n",
       "      <th>user_id</th>\n",
       "      <th></th>\n",
       "    </tr>\n",
       "  </thead>\n",
       "  <tbody>\n",
       "    <tr>\n",
       "      <th>0001b1d5-b74a-4cbf-aeb0-7df5947bf349</th>\n",
       "      <td>8.763333</td>\n",
       "    </tr>\n",
       "    <tr>\n",
       "      <th>00157779-810c-4498-9e05-a1e9e3cedf93</th>\n",
       "      <td>17.770000</td>\n",
       "    </tr>\n",
       "    <tr>\n",
       "      <th>00463033-5717-4bf1-91b4-09183923b9df</th>\n",
       "      <td>10.625000</td>\n",
       "    </tr>\n",
       "    <tr>\n",
       "      <th>004690c3-5a84-4bb7-a8af-e0c8f8fca64e</th>\n",
       "      <td>12.504762</td>\n",
       "    </tr>\n",
       "    <tr>\n",
       "      <th>00551e79-152e-4441-9cf7-565d7eb04090</th>\n",
       "      <td>3.111111</td>\n",
       "    </tr>\n",
       "    <tr>\n",
       "      <th>...</th>\n",
       "      <td>...</td>\n",
       "    </tr>\n",
       "    <tr>\n",
       "      <th>ff82c7c7-16d6-44b1-833b-a217747b0b02</th>\n",
       "      <td>22.780952</td>\n",
       "    </tr>\n",
       "    <tr>\n",
       "      <th>ffab8d8a-30bb-424a-a3ab-0b63ebbf7b07</th>\n",
       "      <td>24.708333</td>\n",
       "    </tr>\n",
       "    <tr>\n",
       "      <th>ffc01466-fdb1-4460-ae94-e800f52eb136</th>\n",
       "      <td>0.866667</td>\n",
       "    </tr>\n",
       "    <tr>\n",
       "      <th>ffcf50d9-293c-4254-8243-4890b030b238</th>\n",
       "      <td>1.350000</td>\n",
       "    </tr>\n",
       "    <tr>\n",
       "      <th>ffe68f10-e48e-470e-be9b-eeb93128ff1a</th>\n",
       "      <td>12.955556</td>\n",
       "    </tr>\n",
       "  </tbody>\n",
       "</table>\n",
       "<p>4249 rows × 1 columns</p>\n",
       "</div>"
      ],
      "text/plain": [
       "                                      mean_session_duration_min\n",
       "user_id                                                        \n",
       "0001b1d5-b74a-4cbf-aeb0-7df5947bf349                   8.763333\n",
       "00157779-810c-4498-9e05-a1e9e3cedf93                  17.770000\n",
       "00463033-5717-4bf1-91b4-09183923b9df                  10.625000\n",
       "004690c3-5a84-4bb7-a8af-e0c8f8fca64e                  12.504762\n",
       "00551e79-152e-4441-9cf7-565d7eb04090                   3.111111\n",
       "...                                                         ...\n",
       "ff82c7c7-16d6-44b1-833b-a217747b0b02                  22.780952\n",
       "ffab8d8a-30bb-424a-a3ab-0b63ebbf7b07                  24.708333\n",
       "ffc01466-fdb1-4460-ae94-e800f52eb136                   0.866667\n",
       "ffcf50d9-293c-4254-8243-4890b030b238                   1.350000\n",
       "ffe68f10-e48e-470e-be9b-eeb93128ff1a                  12.955556\n",
       "\n",
       "[4249 rows x 1 columns]"
      ]
     },
     "execution_count": 103,
     "metadata": {},
     "output_type": "execute_result"
    }
   ],
   "source": [
    "# средняя продолжительность в рамках одной сессии\n",
    "session_duration = user_time.groupby('user_id').agg({'session_duration_min': 'mean'}).rename(\n",
    "    columns={'session_duration_min':'mean_session_duration_min'})\n",
    "session_duration"
   ]
  },
  {
   "cell_type": "code",
   "execution_count": 104,
   "metadata": {
    "scrolled": true
   },
   "outputs": [
    {
     "data": {
      "text/html": [
       "<div>\n",
       "<style scoped>\n",
       "    .dataframe tbody tr th:only-of-type {\n",
       "        vertical-align: middle;\n",
       "    }\n",
       "\n",
       "    .dataframe tbody tr th {\n",
       "        vertical-align: top;\n",
       "    }\n",
       "\n",
       "    .dataframe thead th {\n",
       "        text-align: right;\n",
       "    }\n",
       "</style>\n",
       "<table border=\"1\" class=\"dataframe\">\n",
       "  <thead>\n",
       "    <tr style=\"text-align: right;\">\n",
       "      <th></th>\n",
       "      <th>total_session_duration_min</th>\n",
       "    </tr>\n",
       "    <tr>\n",
       "      <th>user_id</th>\n",
       "      <th></th>\n",
       "    </tr>\n",
       "  </thead>\n",
       "  <tbody>\n",
       "    <tr>\n",
       "      <th>0001b1d5-b74a-4cbf-aeb0-7df5947bf349</th>\n",
       "      <td>43.816667</td>\n",
       "    </tr>\n",
       "    <tr>\n",
       "      <th>00157779-810c-4498-9e05-a1e9e3cedf93</th>\n",
       "      <td>177.700000</td>\n",
       "    </tr>\n",
       "    <tr>\n",
       "      <th>00463033-5717-4bf1-91b4-09183923b9df</th>\n",
       "      <td>21.250000</td>\n",
       "    </tr>\n",
       "    <tr>\n",
       "      <th>004690c3-5a84-4bb7-a8af-e0c8f8fca64e</th>\n",
       "      <td>87.533333</td>\n",
       "    </tr>\n",
       "    <tr>\n",
       "      <th>00551e79-152e-4441-9cf7-565d7eb04090</th>\n",
       "      <td>9.333333</td>\n",
       "    </tr>\n",
       "    <tr>\n",
       "      <th>...</th>\n",
       "      <td>...</td>\n",
       "    </tr>\n",
       "    <tr>\n",
       "      <th>ff82c7c7-16d6-44b1-833b-a217747b0b02</th>\n",
       "      <td>159.466667</td>\n",
       "    </tr>\n",
       "    <tr>\n",
       "      <th>ffab8d8a-30bb-424a-a3ab-0b63ebbf7b07</th>\n",
       "      <td>49.416667</td>\n",
       "    </tr>\n",
       "    <tr>\n",
       "      <th>ffc01466-fdb1-4460-ae94-e800f52eb136</th>\n",
       "      <td>0.866667</td>\n",
       "    </tr>\n",
       "    <tr>\n",
       "      <th>ffcf50d9-293c-4254-8243-4890b030b238</th>\n",
       "      <td>1.350000</td>\n",
       "    </tr>\n",
       "    <tr>\n",
       "      <th>ffe68f10-e48e-470e-be9b-eeb93128ff1a</th>\n",
       "      <td>38.866667</td>\n",
       "    </tr>\n",
       "  </tbody>\n",
       "</table>\n",
       "<p>4249 rows × 1 columns</p>\n",
       "</div>"
      ],
      "text/plain": [
       "                                      total_session_duration_min\n",
       "user_id                                                         \n",
       "0001b1d5-b74a-4cbf-aeb0-7df5947bf349                   43.816667\n",
       "00157779-810c-4498-9e05-a1e9e3cedf93                  177.700000\n",
       "00463033-5717-4bf1-91b4-09183923b9df                   21.250000\n",
       "004690c3-5a84-4bb7-a8af-e0c8f8fca64e                   87.533333\n",
       "00551e79-152e-4441-9cf7-565d7eb04090                    9.333333\n",
       "...                                                          ...\n",
       "ff82c7c7-16d6-44b1-833b-a217747b0b02                  159.466667\n",
       "ffab8d8a-30bb-424a-a3ab-0b63ebbf7b07                   49.416667\n",
       "ffc01466-fdb1-4460-ae94-e800f52eb136                    0.866667\n",
       "ffcf50d9-293c-4254-8243-4890b030b238                    1.350000\n",
       "ffe68f10-e48e-470e-be9b-eeb93128ff1a                   38.866667\n",
       "\n",
       "[4249 rows x 1 columns]"
      ]
     },
     "execution_count": 104,
     "metadata": {},
     "output_type": "execute_result"
    }
   ],
   "source": [
    "# продолжительность за все время\n",
    "total_session_duration = user_time.groupby('user_id').agg({'session_duration_min': 'sum'}).rename(\n",
    "    columns={'session_duration_min':'total_session_duration_min'})\n",
    "total_session_duration"
   ]
  },
  {
   "cell_type": "code",
   "execution_count": 105,
   "metadata": {},
   "outputs": [
    {
     "data": {
      "text/html": [
       "<div>\n",
       "<style scoped>\n",
       "    .dataframe tbody tr th:only-of-type {\n",
       "        vertical-align: middle;\n",
       "    }\n",
       "\n",
       "    .dataframe tbody tr th {\n",
       "        vertical-align: top;\n",
       "    }\n",
       "\n",
       "    .dataframe thead th {\n",
       "        text-align: right;\n",
       "    }\n",
       "</style>\n",
       "<table border=\"1\" class=\"dataframe\">\n",
       "  <thead>\n",
       "    <tr style=\"text-align: right;\">\n",
       "      <th></th>\n",
       "      <th>mean_session_duration_min</th>\n",
       "      <th>total_session_duration_min</th>\n",
       "    </tr>\n",
       "    <tr>\n",
       "      <th>user_id</th>\n",
       "      <th></th>\n",
       "      <th></th>\n",
       "    </tr>\n",
       "  </thead>\n",
       "  <tbody>\n",
       "    <tr>\n",
       "      <th>0001b1d5-b74a-4cbf-aeb0-7df5947bf349</th>\n",
       "      <td>8.763333</td>\n",
       "      <td>43.816667</td>\n",
       "    </tr>\n",
       "    <tr>\n",
       "      <th>00157779-810c-4498-9e05-a1e9e3cedf93</th>\n",
       "      <td>17.770000</td>\n",
       "      <td>177.700000</td>\n",
       "    </tr>\n",
       "    <tr>\n",
       "      <th>00463033-5717-4bf1-91b4-09183923b9df</th>\n",
       "      <td>10.625000</td>\n",
       "      <td>21.250000</td>\n",
       "    </tr>\n",
       "    <tr>\n",
       "      <th>004690c3-5a84-4bb7-a8af-e0c8f8fca64e</th>\n",
       "      <td>12.504762</td>\n",
       "      <td>87.533333</td>\n",
       "    </tr>\n",
       "    <tr>\n",
       "      <th>00551e79-152e-4441-9cf7-565d7eb04090</th>\n",
       "      <td>3.111111</td>\n",
       "      <td>9.333333</td>\n",
       "    </tr>\n",
       "    <tr>\n",
       "      <th>...</th>\n",
       "      <td>...</td>\n",
       "      <td>...</td>\n",
       "    </tr>\n",
       "    <tr>\n",
       "      <th>ff82c7c7-16d6-44b1-833b-a217747b0b02</th>\n",
       "      <td>22.780952</td>\n",
       "      <td>159.466667</td>\n",
       "    </tr>\n",
       "    <tr>\n",
       "      <th>ffab8d8a-30bb-424a-a3ab-0b63ebbf7b07</th>\n",
       "      <td>24.708333</td>\n",
       "      <td>49.416667</td>\n",
       "    </tr>\n",
       "    <tr>\n",
       "      <th>ffc01466-fdb1-4460-ae94-e800f52eb136</th>\n",
       "      <td>0.866667</td>\n",
       "      <td>0.866667</td>\n",
       "    </tr>\n",
       "    <tr>\n",
       "      <th>ffcf50d9-293c-4254-8243-4890b030b238</th>\n",
       "      <td>1.350000</td>\n",
       "      <td>1.350000</td>\n",
       "    </tr>\n",
       "    <tr>\n",
       "      <th>ffe68f10-e48e-470e-be9b-eeb93128ff1a</th>\n",
       "      <td>12.955556</td>\n",
       "      <td>38.866667</td>\n",
       "    </tr>\n",
       "  </tbody>\n",
       "</table>\n",
       "<p>4249 rows × 2 columns</p>\n",
       "</div>"
      ],
      "text/plain": [
       "                                      mean_session_duration_min  \\\n",
       "user_id                                                           \n",
       "0001b1d5-b74a-4cbf-aeb0-7df5947bf349                   8.763333   \n",
       "00157779-810c-4498-9e05-a1e9e3cedf93                  17.770000   \n",
       "00463033-5717-4bf1-91b4-09183923b9df                  10.625000   \n",
       "004690c3-5a84-4bb7-a8af-e0c8f8fca64e                  12.504762   \n",
       "00551e79-152e-4441-9cf7-565d7eb04090                   3.111111   \n",
       "...                                                         ...   \n",
       "ff82c7c7-16d6-44b1-833b-a217747b0b02                  22.780952   \n",
       "ffab8d8a-30bb-424a-a3ab-0b63ebbf7b07                  24.708333   \n",
       "ffc01466-fdb1-4460-ae94-e800f52eb136                   0.866667   \n",
       "ffcf50d9-293c-4254-8243-4890b030b238                   1.350000   \n",
       "ffe68f10-e48e-470e-be9b-eeb93128ff1a                  12.955556   \n",
       "\n",
       "                                      total_session_duration_min  \n",
       "user_id                                                           \n",
       "0001b1d5-b74a-4cbf-aeb0-7df5947bf349                   43.816667  \n",
       "00157779-810c-4498-9e05-a1e9e3cedf93                  177.700000  \n",
       "00463033-5717-4bf1-91b4-09183923b9df                   21.250000  \n",
       "004690c3-5a84-4bb7-a8af-e0c8f8fca64e                   87.533333  \n",
       "00551e79-152e-4441-9cf7-565d7eb04090                    9.333333  \n",
       "...                                                          ...  \n",
       "ff82c7c7-16d6-44b1-833b-a217747b0b02                  159.466667  \n",
       "ffab8d8a-30bb-424a-a3ab-0b63ebbf7b07                   49.416667  \n",
       "ffc01466-fdb1-4460-ae94-e800f52eb136                    0.866667  \n",
       "ffcf50d9-293c-4254-8243-4890b030b238                    1.350000  \n",
       "ffe68f10-e48e-470e-be9b-eeb93128ff1a                   38.866667  \n",
       "\n",
       "[4249 rows x 2 columns]"
      ]
     },
     "execution_count": 105,
     "metadata": {},
     "output_type": "execute_result"
    }
   ],
   "source": [
    "# начинаем добавлять столбцы в нашу таблицу с признаками\n",
    "features = session_duration.merge(total_session_duration, how='outer', on='user_id')\n",
    "features"
   ]
  },
  {
   "cell_type": "markdown",
   "metadata": {},
   "source": [
    "#### частота действий "
   ]
  },
  {
   "cell_type": "code",
   "execution_count": 106,
   "metadata": {
    "scrolled": true
   },
   "outputs": [
    {
     "data": {
      "text/html": [
       "<div>\n",
       "<style scoped>\n",
       "    .dataframe tbody tr th:only-of-type {\n",
       "        vertical-align: middle;\n",
       "    }\n",
       "\n",
       "    .dataframe tbody tr th {\n",
       "        vertical-align: top;\n",
       "    }\n",
       "\n",
       "    .dataframe thead th {\n",
       "        text-align: right;\n",
       "    }\n",
       "</style>\n",
       "<table border=\"1\" class=\"dataframe\">\n",
       "  <thead>\n",
       "    <tr style=\"text-align: right;\">\n",
       "      <th></th>\n",
       "      <th>event_time</th>\n",
       "      <th>event_name</th>\n",
       "      <th>user_id</th>\n",
       "      <th>event_hour</th>\n",
       "      <th>full_date</th>\n",
       "      <th>day</th>\n",
       "      <th>full_week</th>\n",
       "      <th>week</th>\n",
       "      <th>month</th>\n",
       "      <th>source</th>\n",
       "      <th>first_activity_date</th>\n",
       "      <th>first_activity_week</th>\n",
       "      <th>cohort_lifetime</th>\n",
       "    </tr>\n",
       "  </thead>\n",
       "  <tbody>\n",
       "    <tr>\n",
       "      <th>0</th>\n",
       "      <td>2019-10-07 00:00:00</td>\n",
       "      <td>advert_open</td>\n",
       "      <td>020292ab-89bc-4156-9acf-68bc2783f894</td>\n",
       "      <td>0</td>\n",
       "      <td>2019-10-07</td>\n",
       "      <td>7</td>\n",
       "      <td>2019-10-03</td>\n",
       "      <td>41</td>\n",
       "      <td>10</td>\n",
       "      <td>other</td>\n",
       "      <td>2019-10-07</td>\n",
       "      <td>2019-10-07</td>\n",
       "      <td>0</td>\n",
       "    </tr>\n",
       "    <tr>\n",
       "      <th>1</th>\n",
       "      <td>2019-10-07 00:00:01</td>\n",
       "      <td>tips_show</td>\n",
       "      <td>020292ab-89bc-4156-9acf-68bc2783f894</td>\n",
       "      <td>0</td>\n",
       "      <td>2019-10-07</td>\n",
       "      <td>7</td>\n",
       "      <td>2019-10-03</td>\n",
       "      <td>41</td>\n",
       "      <td>10</td>\n",
       "      <td>other</td>\n",
       "      <td>2019-10-07</td>\n",
       "      <td>2019-10-07</td>\n",
       "      <td>0</td>\n",
       "    </tr>\n",
       "    <tr>\n",
       "      <th>2</th>\n",
       "      <td>2019-10-07 00:00:07</td>\n",
       "      <td>tips_show</td>\n",
       "      <td>020292ab-89bc-4156-9acf-68bc2783f894</td>\n",
       "      <td>0</td>\n",
       "      <td>2019-10-07</td>\n",
       "      <td>7</td>\n",
       "      <td>2019-10-03</td>\n",
       "      <td>41</td>\n",
       "      <td>10</td>\n",
       "      <td>other</td>\n",
       "      <td>2019-10-07</td>\n",
       "      <td>2019-10-07</td>\n",
       "      <td>0</td>\n",
       "    </tr>\n",
       "    <tr>\n",
       "      <th>3</th>\n",
       "      <td>2019-10-07 00:01:28</td>\n",
       "      <td>advert_open</td>\n",
       "      <td>020292ab-89bc-4156-9acf-68bc2783f894</td>\n",
       "      <td>0</td>\n",
       "      <td>2019-10-07</td>\n",
       "      <td>7</td>\n",
       "      <td>2019-10-03</td>\n",
       "      <td>41</td>\n",
       "      <td>10</td>\n",
       "      <td>other</td>\n",
       "      <td>2019-10-07</td>\n",
       "      <td>2019-10-07</td>\n",
       "      <td>0</td>\n",
       "    </tr>\n",
       "    <tr>\n",
       "      <th>4</th>\n",
       "      <td>2019-10-07 00:01:35</td>\n",
       "      <td>tips_show</td>\n",
       "      <td>020292ab-89bc-4156-9acf-68bc2783f894</td>\n",
       "      <td>0</td>\n",
       "      <td>2019-10-07</td>\n",
       "      <td>7</td>\n",
       "      <td>2019-10-03</td>\n",
       "      <td>41</td>\n",
       "      <td>10</td>\n",
       "      <td>other</td>\n",
       "      <td>2019-10-07</td>\n",
       "      <td>2019-10-07</td>\n",
       "      <td>0</td>\n",
       "    </tr>\n",
       "  </tbody>\n",
       "</table>\n",
       "</div>"
      ],
      "text/plain": [
       "           event_time   event_name                               user_id  \\\n",
       "0 2019-10-07 00:00:00  advert_open  020292ab-89bc-4156-9acf-68bc2783f894   \n",
       "1 2019-10-07 00:00:01    tips_show  020292ab-89bc-4156-9acf-68bc2783f894   \n",
       "2 2019-10-07 00:00:07    tips_show  020292ab-89bc-4156-9acf-68bc2783f894   \n",
       "3 2019-10-07 00:01:28  advert_open  020292ab-89bc-4156-9acf-68bc2783f894   \n",
       "4 2019-10-07 00:01:35    tips_show  020292ab-89bc-4156-9acf-68bc2783f894   \n",
       "\n",
       "   event_hour  full_date  day  full_week  week  month source  \\\n",
       "0           0 2019-10-07    7 2019-10-03    41     10  other   \n",
       "1           0 2019-10-07    7 2019-10-03    41     10  other   \n",
       "2           0 2019-10-07    7 2019-10-03    41     10  other   \n",
       "3           0 2019-10-07    7 2019-10-03    41     10  other   \n",
       "4           0 2019-10-07    7 2019-10-03    41     10  other   \n",
       "\n",
       "  first_activity_date first_activity_week  cohort_lifetime  \n",
       "0          2019-10-07          2019-10-07                0  \n",
       "1          2019-10-07          2019-10-07                0  \n",
       "2          2019-10-07          2019-10-07                0  \n",
       "3          2019-10-07          2019-10-07                0  \n",
       "4          2019-10-07          2019-10-07                0  "
      ]
     },
     "execution_count": 106,
     "metadata": {},
     "output_type": "execute_result"
    }
   ],
   "source": [
    "user_activity.head()"
   ]
  },
  {
   "cell_type": "code",
   "execution_count": 107,
   "metadata": {
    "scrolled": false
   },
   "outputs": [
    {
     "data": {
      "text/html": [
       "<div>\n",
       "<style scoped>\n",
       "    .dataframe tbody tr th:only-of-type {\n",
       "        vertical-align: middle;\n",
       "    }\n",
       "\n",
       "    .dataframe tbody tr th {\n",
       "        vertical-align: top;\n",
       "    }\n",
       "\n",
       "    .dataframe thead th {\n",
       "        text-align: right;\n",
       "    }\n",
       "</style>\n",
       "<table border=\"1\" class=\"dataframe\">\n",
       "  <thead>\n",
       "    <tr style=\"text-align: right;\">\n",
       "      <th></th>\n",
       "      <th></th>\n",
       "      <th>event_name</th>\n",
       "    </tr>\n",
       "    <tr>\n",
       "      <th>user_id</th>\n",
       "      <th>full_date</th>\n",
       "      <th></th>\n",
       "    </tr>\n",
       "  </thead>\n",
       "  <tbody>\n",
       "    <tr>\n",
       "      <th rowspan=\"4\" valign=\"top\">0001b1d5-b74a-4cbf-aeb0-7df5947bf349</th>\n",
       "      <th>2019-10-07</th>\n",
       "      <td>9</td>\n",
       "    </tr>\n",
       "    <tr>\n",
       "      <th>2019-10-09</th>\n",
       "      <td>4</td>\n",
       "    </tr>\n",
       "    <tr>\n",
       "      <th>2019-10-21</th>\n",
       "      <td>14</td>\n",
       "    </tr>\n",
       "    <tr>\n",
       "      <th>2019-10-22</th>\n",
       "      <td>8</td>\n",
       "    </tr>\n",
       "    <tr>\n",
       "      <th>00157779-810c-4498-9e05-a1e9e3cedf93</th>\n",
       "      <th>2019-10-19</th>\n",
       "      <td>9</td>\n",
       "    </tr>\n",
       "    <tr>\n",
       "      <th>...</th>\n",
       "      <th>...</th>\n",
       "      <td>...</td>\n",
       "    </tr>\n",
       "    <tr>\n",
       "      <th>ffc01466-fdb1-4460-ae94-e800f52eb136</th>\n",
       "      <th>2019-10-07</th>\n",
       "      <td>7</td>\n",
       "    </tr>\n",
       "    <tr>\n",
       "      <th>ffcf50d9-293c-4254-8243-4890b030b238</th>\n",
       "      <th>2019-10-23</th>\n",
       "      <td>2</td>\n",
       "    </tr>\n",
       "    <tr>\n",
       "      <th rowspan=\"3\" valign=\"top\">ffe68f10-e48e-470e-be9b-eeb93128ff1a</th>\n",
       "      <th>2019-10-21</th>\n",
       "      <td>3</td>\n",
       "    </tr>\n",
       "    <tr>\n",
       "      <th>2019-10-22</th>\n",
       "      <td>3</td>\n",
       "    </tr>\n",
       "    <tr>\n",
       "      <th>2019-10-28</th>\n",
       "      <td>7</td>\n",
       "    </tr>\n",
       "  </tbody>\n",
       "</table>\n",
       "<p>7411 rows × 1 columns</p>\n",
       "</div>"
      ],
      "text/plain": [
       "                                                 event_name\n",
       "user_id                              full_date             \n",
       "0001b1d5-b74a-4cbf-aeb0-7df5947bf349 2019-10-07           9\n",
       "                                     2019-10-09           4\n",
       "                                     2019-10-21          14\n",
       "                                     2019-10-22           8\n",
       "00157779-810c-4498-9e05-a1e9e3cedf93 2019-10-19           9\n",
       "...                                                     ...\n",
       "ffc01466-fdb1-4460-ae94-e800f52eb136 2019-10-07           7\n",
       "ffcf50d9-293c-4254-8243-4890b030b238 2019-10-23           2\n",
       "ffe68f10-e48e-470e-be9b-eeb93128ff1a 2019-10-21           3\n",
       "                                     2019-10-22           3\n",
       "                                     2019-10-28           7\n",
       "\n",
       "[7411 rows x 1 columns]"
      ]
     },
     "execution_count": 107,
     "metadata": {},
     "output_type": "execute_result"
    }
   ],
   "source": [
    "events_per_session = user_activity.groupby(['user_id', 'full_date']).agg({'event_name': 'count'})\n",
    "events_per_session\n"
   ]
  },
  {
   "cell_type": "code",
   "execution_count": 108,
   "metadata": {
    "scrolled": true
   },
   "outputs": [
    {
     "data": {
      "text/html": [
       "<div>\n",
       "<style scoped>\n",
       "    .dataframe tbody tr th:only-of-type {\n",
       "        vertical-align: middle;\n",
       "    }\n",
       "\n",
       "    .dataframe tbody tr th {\n",
       "        vertical-align: top;\n",
       "    }\n",
       "\n",
       "    .dataframe thead th {\n",
       "        text-align: right;\n",
       "    }\n",
       "</style>\n",
       "<table border=\"1\" class=\"dataframe\">\n",
       "  <thead>\n",
       "    <tr style=\"text-align: right;\">\n",
       "      <th></th>\n",
       "      <th>mean_events_per_session</th>\n",
       "    </tr>\n",
       "    <tr>\n",
       "      <th>user_id</th>\n",
       "      <th></th>\n",
       "    </tr>\n",
       "  </thead>\n",
       "  <tbody>\n",
       "    <tr>\n",
       "      <th>0001b1d5-b74a-4cbf-aeb0-7df5947bf349</th>\n",
       "      <td>8.750000</td>\n",
       "    </tr>\n",
       "    <tr>\n",
       "      <th>00157779-810c-4498-9e05-a1e9e3cedf93</th>\n",
       "      <td>11.833333</td>\n",
       "    </tr>\n",
       "    <tr>\n",
       "      <th>00463033-5717-4bf1-91b4-09183923b9df</th>\n",
       "      <td>10.000000</td>\n",
       "    </tr>\n",
       "    <tr>\n",
       "      <th>004690c3-5a84-4bb7-a8af-e0c8f8fca64e</th>\n",
       "      <td>5.333333</td>\n",
       "    </tr>\n",
       "    <tr>\n",
       "      <th>00551e79-152e-4441-9cf7-565d7eb04090</th>\n",
       "      <td>2.666667</td>\n",
       "    </tr>\n",
       "    <tr>\n",
       "      <th>...</th>\n",
       "      <td>...</td>\n",
       "    </tr>\n",
       "    <tr>\n",
       "      <th>ff82c7c7-16d6-44b1-833b-a217747b0b02</th>\n",
       "      <td>10.400000</td>\n",
       "    </tr>\n",
       "    <tr>\n",
       "      <th>ffab8d8a-30bb-424a-a3ab-0b63ebbf7b07</th>\n",
       "      <td>8.500000</td>\n",
       "    </tr>\n",
       "    <tr>\n",
       "      <th>ffc01466-fdb1-4460-ae94-e800f52eb136</th>\n",
       "      <td>7.000000</td>\n",
       "    </tr>\n",
       "    <tr>\n",
       "      <th>ffcf50d9-293c-4254-8243-4890b030b238</th>\n",
       "      <td>2.000000</td>\n",
       "    </tr>\n",
       "    <tr>\n",
       "      <th>ffe68f10-e48e-470e-be9b-eeb93128ff1a</th>\n",
       "      <td>4.333333</td>\n",
       "    </tr>\n",
       "  </tbody>\n",
       "</table>\n",
       "<p>4249 rows × 1 columns</p>\n",
       "</div>"
      ],
      "text/plain": [
       "                                      mean_events_per_session\n",
       "user_id                                                      \n",
       "0001b1d5-b74a-4cbf-aeb0-7df5947bf349                 8.750000\n",
       "00157779-810c-4498-9e05-a1e9e3cedf93                11.833333\n",
       "00463033-5717-4bf1-91b4-09183923b9df                10.000000\n",
       "004690c3-5a84-4bb7-a8af-e0c8f8fca64e                 5.333333\n",
       "00551e79-152e-4441-9cf7-565d7eb04090                 2.666667\n",
       "...                                                       ...\n",
       "ff82c7c7-16d6-44b1-833b-a217747b0b02                10.400000\n",
       "ffab8d8a-30bb-424a-a3ab-0b63ebbf7b07                 8.500000\n",
       "ffc01466-fdb1-4460-ae94-e800f52eb136                 7.000000\n",
       "ffcf50d9-293c-4254-8243-4890b030b238                 2.000000\n",
       "ffe68f10-e48e-470e-be9b-eeb93128ff1a                 4.333333\n",
       "\n",
       "[4249 rows x 1 columns]"
      ]
     },
     "execution_count": 108,
     "metadata": {},
     "output_type": "execute_result"
    }
   ],
   "source": [
    "# среднее в рамках одной сессиии\n",
    "mean_events_per_session = events_per_session.groupby('user_id').agg({\n",
    "    'event_name': 'mean'}).rename(columns={'event_name':'mean_events_per_session'})\n",
    "\n",
    "mean_events_per_session"
   ]
  },
  {
   "cell_type": "code",
   "execution_count": 109,
   "metadata": {},
   "outputs": [
    {
     "data": {
      "text/html": [
       "<div>\n",
       "<style scoped>\n",
       "    .dataframe tbody tr th:only-of-type {\n",
       "        vertical-align: middle;\n",
       "    }\n",
       "\n",
       "    .dataframe tbody tr th {\n",
       "        vertical-align: top;\n",
       "    }\n",
       "\n",
       "    .dataframe thead th {\n",
       "        text-align: right;\n",
       "    }\n",
       "</style>\n",
       "<table border=\"1\" class=\"dataframe\">\n",
       "  <thead>\n",
       "    <tr style=\"text-align: right;\">\n",
       "      <th></th>\n",
       "      <th>mean_session_duration_min</th>\n",
       "      <th>total_session_duration_min</th>\n",
       "      <th>mean_events_per_session</th>\n",
       "    </tr>\n",
       "    <tr>\n",
       "      <th>user_id</th>\n",
       "      <th></th>\n",
       "      <th></th>\n",
       "      <th></th>\n",
       "    </tr>\n",
       "  </thead>\n",
       "  <tbody>\n",
       "    <tr>\n",
       "      <th>0001b1d5-b74a-4cbf-aeb0-7df5947bf349</th>\n",
       "      <td>8.763333</td>\n",
       "      <td>43.816667</td>\n",
       "      <td>8.750000</td>\n",
       "    </tr>\n",
       "    <tr>\n",
       "      <th>00157779-810c-4498-9e05-a1e9e3cedf93</th>\n",
       "      <td>17.770000</td>\n",
       "      <td>177.700000</td>\n",
       "      <td>11.833333</td>\n",
       "    </tr>\n",
       "    <tr>\n",
       "      <th>00463033-5717-4bf1-91b4-09183923b9df</th>\n",
       "      <td>10.625000</td>\n",
       "      <td>21.250000</td>\n",
       "      <td>10.000000</td>\n",
       "    </tr>\n",
       "    <tr>\n",
       "      <th>004690c3-5a84-4bb7-a8af-e0c8f8fca64e</th>\n",
       "      <td>12.504762</td>\n",
       "      <td>87.533333</td>\n",
       "      <td>5.333333</td>\n",
       "    </tr>\n",
       "    <tr>\n",
       "      <th>00551e79-152e-4441-9cf7-565d7eb04090</th>\n",
       "      <td>3.111111</td>\n",
       "      <td>9.333333</td>\n",
       "      <td>2.666667</td>\n",
       "    </tr>\n",
       "    <tr>\n",
       "      <th>...</th>\n",
       "      <td>...</td>\n",
       "      <td>...</td>\n",
       "      <td>...</td>\n",
       "    </tr>\n",
       "    <tr>\n",
       "      <th>ff82c7c7-16d6-44b1-833b-a217747b0b02</th>\n",
       "      <td>22.780952</td>\n",
       "      <td>159.466667</td>\n",
       "      <td>10.400000</td>\n",
       "    </tr>\n",
       "    <tr>\n",
       "      <th>ffab8d8a-30bb-424a-a3ab-0b63ebbf7b07</th>\n",
       "      <td>24.708333</td>\n",
       "      <td>49.416667</td>\n",
       "      <td>8.500000</td>\n",
       "    </tr>\n",
       "    <tr>\n",
       "      <th>ffc01466-fdb1-4460-ae94-e800f52eb136</th>\n",
       "      <td>0.866667</td>\n",
       "      <td>0.866667</td>\n",
       "      <td>7.000000</td>\n",
       "    </tr>\n",
       "    <tr>\n",
       "      <th>ffcf50d9-293c-4254-8243-4890b030b238</th>\n",
       "      <td>1.350000</td>\n",
       "      <td>1.350000</td>\n",
       "      <td>2.000000</td>\n",
       "    </tr>\n",
       "    <tr>\n",
       "      <th>ffe68f10-e48e-470e-be9b-eeb93128ff1a</th>\n",
       "      <td>12.955556</td>\n",
       "      <td>38.866667</td>\n",
       "      <td>4.333333</td>\n",
       "    </tr>\n",
       "  </tbody>\n",
       "</table>\n",
       "<p>4249 rows × 3 columns</p>\n",
       "</div>"
      ],
      "text/plain": [
       "                                      mean_session_duration_min  \\\n",
       "user_id                                                           \n",
       "0001b1d5-b74a-4cbf-aeb0-7df5947bf349                   8.763333   \n",
       "00157779-810c-4498-9e05-a1e9e3cedf93                  17.770000   \n",
       "00463033-5717-4bf1-91b4-09183923b9df                  10.625000   \n",
       "004690c3-5a84-4bb7-a8af-e0c8f8fca64e                  12.504762   \n",
       "00551e79-152e-4441-9cf7-565d7eb04090                   3.111111   \n",
       "...                                                         ...   \n",
       "ff82c7c7-16d6-44b1-833b-a217747b0b02                  22.780952   \n",
       "ffab8d8a-30bb-424a-a3ab-0b63ebbf7b07                  24.708333   \n",
       "ffc01466-fdb1-4460-ae94-e800f52eb136                   0.866667   \n",
       "ffcf50d9-293c-4254-8243-4890b030b238                   1.350000   \n",
       "ffe68f10-e48e-470e-be9b-eeb93128ff1a                  12.955556   \n",
       "\n",
       "                                      total_session_duration_min  \\\n",
       "user_id                                                            \n",
       "0001b1d5-b74a-4cbf-aeb0-7df5947bf349                   43.816667   \n",
       "00157779-810c-4498-9e05-a1e9e3cedf93                  177.700000   \n",
       "00463033-5717-4bf1-91b4-09183923b9df                   21.250000   \n",
       "004690c3-5a84-4bb7-a8af-e0c8f8fca64e                   87.533333   \n",
       "00551e79-152e-4441-9cf7-565d7eb04090                    9.333333   \n",
       "...                                                          ...   \n",
       "ff82c7c7-16d6-44b1-833b-a217747b0b02                  159.466667   \n",
       "ffab8d8a-30bb-424a-a3ab-0b63ebbf7b07                   49.416667   \n",
       "ffc01466-fdb1-4460-ae94-e800f52eb136                    0.866667   \n",
       "ffcf50d9-293c-4254-8243-4890b030b238                    1.350000   \n",
       "ffe68f10-e48e-470e-be9b-eeb93128ff1a                   38.866667   \n",
       "\n",
       "                                      mean_events_per_session  \n",
       "user_id                                                        \n",
       "0001b1d5-b74a-4cbf-aeb0-7df5947bf349                 8.750000  \n",
       "00157779-810c-4498-9e05-a1e9e3cedf93                11.833333  \n",
       "00463033-5717-4bf1-91b4-09183923b9df                10.000000  \n",
       "004690c3-5a84-4bb7-a8af-e0c8f8fca64e                 5.333333  \n",
       "00551e79-152e-4441-9cf7-565d7eb04090                 2.666667  \n",
       "...                                                       ...  \n",
       "ff82c7c7-16d6-44b1-833b-a217747b0b02                10.400000  \n",
       "ffab8d8a-30bb-424a-a3ab-0b63ebbf7b07                 8.500000  \n",
       "ffc01466-fdb1-4460-ae94-e800f52eb136                 7.000000  \n",
       "ffcf50d9-293c-4254-8243-4890b030b238                 2.000000  \n",
       "ffe68f10-e48e-470e-be9b-eeb93128ff1a                 4.333333  \n",
       "\n",
       "[4249 rows x 3 columns]"
      ]
     },
     "execution_count": 109,
     "metadata": {},
     "output_type": "execute_result"
    }
   ],
   "source": [
    "features = features.merge(mean_events_per_session, how='outer', on='user_id')\n",
    "features"
   ]
  },
  {
   "cell_type": "markdown",
   "metadata": {},
   "source": [
    "#### конверсия в целевое действие — просмотр контактов "
   ]
  },
  {
   "cell_type": "code",
   "execution_count": 110,
   "metadata": {
    "scrolled": true
   },
   "outputs": [
    {
     "data": {
      "text/html": [
       "<div>\n",
       "<style scoped>\n",
       "    .dataframe tbody tr th:only-of-type {\n",
       "        vertical-align: middle;\n",
       "    }\n",
       "\n",
       "    .dataframe tbody tr th {\n",
       "        vertical-align: top;\n",
       "    }\n",
       "\n",
       "    .dataframe thead th {\n",
       "        text-align: right;\n",
       "    }\n",
       "</style>\n",
       "<table border=\"1\" class=\"dataframe\">\n",
       "  <thead>\n",
       "    <tr style=\"text-align: right;\">\n",
       "      <th></th>\n",
       "      <th>user_id</th>\n",
       "      <th>conversion</th>\n",
       "    </tr>\n",
       "  </thead>\n",
       "  <tbody>\n",
       "    <tr>\n",
       "      <th>0</th>\n",
       "      <td>00157779-810c-4498-9e05-a1e9e3cedf93</td>\n",
       "      <td>11</td>\n",
       "    </tr>\n",
       "    <tr>\n",
       "      <th>1</th>\n",
       "      <td>00551e79-152e-4441-9cf7-565d7eb04090</td>\n",
       "      <td>3</td>\n",
       "    </tr>\n",
       "    <tr>\n",
       "      <th>2</th>\n",
       "      <td>005fbea5-2678-406f-88a6-fbe9787e2268</td>\n",
       "      <td>3</td>\n",
       "    </tr>\n",
       "    <tr>\n",
       "      <th>3</th>\n",
       "      <td>00753c79-ea81-4456-acd0-a47a23ca2fb9</td>\n",
       "      <td>1</td>\n",
       "    </tr>\n",
       "    <tr>\n",
       "      <th>4</th>\n",
       "      <td>007d031d-5018-4e02-b7ee-72a30609173f</td>\n",
       "      <td>2</td>\n",
       "    </tr>\n",
       "    <tr>\n",
       "      <th>...</th>\n",
       "      <td>...</td>\n",
       "      <td>...</td>\n",
       "    </tr>\n",
       "    <tr>\n",
       "      <th>950</th>\n",
       "      <td>fdd232f5-962d-4eed-ac02-f0141385cc8f</td>\n",
       "      <td>4</td>\n",
       "    </tr>\n",
       "    <tr>\n",
       "      <th>951</th>\n",
       "      <td>fee3ba1c-16f4-46f7-bf56-4bf80cc4e2f5</td>\n",
       "      <td>17</td>\n",
       "    </tr>\n",
       "    <tr>\n",
       "      <th>952</th>\n",
       "      <td>ff1554b5-919e-40b1-90bb-ee1f7f6d5846</td>\n",
       "      <td>1</td>\n",
       "    </tr>\n",
       "    <tr>\n",
       "      <th>953</th>\n",
       "      <td>ffc01466-fdb1-4460-ae94-e800f52eb136</td>\n",
       "      <td>1</td>\n",
       "    </tr>\n",
       "    <tr>\n",
       "      <th>954</th>\n",
       "      <td>ffe68f10-e48e-470e-be9b-eeb93128ff1a</td>\n",
       "      <td>1</td>\n",
       "    </tr>\n",
       "  </tbody>\n",
       "</table>\n",
       "<p>955 rows × 2 columns</p>\n",
       "</div>"
      ],
      "text/plain": [
       "                                  user_id  conversion\n",
       "0    00157779-810c-4498-9e05-a1e9e3cedf93          11\n",
       "1    00551e79-152e-4441-9cf7-565d7eb04090           3\n",
       "2    005fbea5-2678-406f-88a6-fbe9787e2268           3\n",
       "3    00753c79-ea81-4456-acd0-a47a23ca2fb9           1\n",
       "4    007d031d-5018-4e02-b7ee-72a30609173f           2\n",
       "..                                    ...         ...\n",
       "950  fdd232f5-962d-4eed-ac02-f0141385cc8f           4\n",
       "951  fee3ba1c-16f4-46f7-bf56-4bf80cc4e2f5          17\n",
       "952  ff1554b5-919e-40b1-90bb-ee1f7f6d5846           1\n",
       "953  ffc01466-fdb1-4460-ae94-e800f52eb136           1\n",
       "954  ffe68f10-e48e-470e-be9b-eeb93128ff1a           1\n",
       "\n",
       "[955 rows x 2 columns]"
      ]
     },
     "execution_count": 110,
     "metadata": {},
     "output_type": "execute_result"
    }
   ],
   "source": [
    "# посчитаем, сколько раз каждый пользователь совершил целевое действие - просмотр контактов\n",
    "conversion = df.query('event_name==\"contacts_show\"')\\\n",
    ".groupby('user_id', as_index=False)\\\n",
    ".agg({'event_name':'count'})\\\n",
    ".rename(columns={'event_name':'conversion'})\n",
    "\n",
    "conversion"
   ]
  },
  {
   "cell_type": "code",
   "execution_count": 111,
   "metadata": {},
   "outputs": [
    {
     "data": {
      "text/html": [
       "<div>\n",
       "<style scoped>\n",
       "    .dataframe tbody tr th:only-of-type {\n",
       "        vertical-align: middle;\n",
       "    }\n",
       "\n",
       "    .dataframe tbody tr th {\n",
       "        vertical-align: top;\n",
       "    }\n",
       "\n",
       "    .dataframe thead th {\n",
       "        text-align: right;\n",
       "    }\n",
       "</style>\n",
       "<table border=\"1\" class=\"dataframe\">\n",
       "  <thead>\n",
       "    <tr style=\"text-align: right;\">\n",
       "      <th></th>\n",
       "      <th>user_id</th>\n",
       "      <th>mean_session_duration_min</th>\n",
       "      <th>total_session_duration_min</th>\n",
       "      <th>mean_events_per_session</th>\n",
       "      <th>conversion</th>\n",
       "    </tr>\n",
       "  </thead>\n",
       "  <tbody>\n",
       "    <tr>\n",
       "      <th>0</th>\n",
       "      <td>0001b1d5-b74a-4cbf-aeb0-7df5947bf349</td>\n",
       "      <td>8.763333</td>\n",
       "      <td>43.816667</td>\n",
       "      <td>8.750000</td>\n",
       "      <td>0.0</td>\n",
       "    </tr>\n",
       "    <tr>\n",
       "      <th>1</th>\n",
       "      <td>00157779-810c-4498-9e05-a1e9e3cedf93</td>\n",
       "      <td>17.770000</td>\n",
       "      <td>177.700000</td>\n",
       "      <td>11.833333</td>\n",
       "      <td>11.0</td>\n",
       "    </tr>\n",
       "    <tr>\n",
       "      <th>2</th>\n",
       "      <td>00463033-5717-4bf1-91b4-09183923b9df</td>\n",
       "      <td>10.625000</td>\n",
       "      <td>21.250000</td>\n",
       "      <td>10.000000</td>\n",
       "      <td>0.0</td>\n",
       "    </tr>\n",
       "    <tr>\n",
       "      <th>3</th>\n",
       "      <td>004690c3-5a84-4bb7-a8af-e0c8f8fca64e</td>\n",
       "      <td>12.504762</td>\n",
       "      <td>87.533333</td>\n",
       "      <td>5.333333</td>\n",
       "      <td>0.0</td>\n",
       "    </tr>\n",
       "    <tr>\n",
       "      <th>4</th>\n",
       "      <td>00551e79-152e-4441-9cf7-565d7eb04090</td>\n",
       "      <td>3.111111</td>\n",
       "      <td>9.333333</td>\n",
       "      <td>2.666667</td>\n",
       "      <td>3.0</td>\n",
       "    </tr>\n",
       "    <tr>\n",
       "      <th>...</th>\n",
       "      <td>...</td>\n",
       "      <td>...</td>\n",
       "      <td>...</td>\n",
       "      <td>...</td>\n",
       "      <td>...</td>\n",
       "    </tr>\n",
       "    <tr>\n",
       "      <th>4244</th>\n",
       "      <td>ff82c7c7-16d6-44b1-833b-a217747b0b02</td>\n",
       "      <td>22.780952</td>\n",
       "      <td>159.466667</td>\n",
       "      <td>10.400000</td>\n",
       "      <td>0.0</td>\n",
       "    </tr>\n",
       "    <tr>\n",
       "      <th>4245</th>\n",
       "      <td>ffab8d8a-30bb-424a-a3ab-0b63ebbf7b07</td>\n",
       "      <td>24.708333</td>\n",
       "      <td>49.416667</td>\n",
       "      <td>8.500000</td>\n",
       "      <td>0.0</td>\n",
       "    </tr>\n",
       "    <tr>\n",
       "      <th>4246</th>\n",
       "      <td>ffc01466-fdb1-4460-ae94-e800f52eb136</td>\n",
       "      <td>0.866667</td>\n",
       "      <td>0.866667</td>\n",
       "      <td>7.000000</td>\n",
       "      <td>1.0</td>\n",
       "    </tr>\n",
       "    <tr>\n",
       "      <th>4247</th>\n",
       "      <td>ffcf50d9-293c-4254-8243-4890b030b238</td>\n",
       "      <td>1.350000</td>\n",
       "      <td>1.350000</td>\n",
       "      <td>2.000000</td>\n",
       "      <td>0.0</td>\n",
       "    </tr>\n",
       "    <tr>\n",
       "      <th>4248</th>\n",
       "      <td>ffe68f10-e48e-470e-be9b-eeb93128ff1a</td>\n",
       "      <td>12.955556</td>\n",
       "      <td>38.866667</td>\n",
       "      <td>4.333333</td>\n",
       "      <td>1.0</td>\n",
       "    </tr>\n",
       "  </tbody>\n",
       "</table>\n",
       "<p>4249 rows × 5 columns</p>\n",
       "</div>"
      ],
      "text/plain": [
       "                                   user_id  mean_session_duration_min  \\\n",
       "0     0001b1d5-b74a-4cbf-aeb0-7df5947bf349                   8.763333   \n",
       "1     00157779-810c-4498-9e05-a1e9e3cedf93                  17.770000   \n",
       "2     00463033-5717-4bf1-91b4-09183923b9df                  10.625000   \n",
       "3     004690c3-5a84-4bb7-a8af-e0c8f8fca64e                  12.504762   \n",
       "4     00551e79-152e-4441-9cf7-565d7eb04090                   3.111111   \n",
       "...                                    ...                        ...   \n",
       "4244  ff82c7c7-16d6-44b1-833b-a217747b0b02                  22.780952   \n",
       "4245  ffab8d8a-30bb-424a-a3ab-0b63ebbf7b07                  24.708333   \n",
       "4246  ffc01466-fdb1-4460-ae94-e800f52eb136                   0.866667   \n",
       "4247  ffcf50d9-293c-4254-8243-4890b030b238                   1.350000   \n",
       "4248  ffe68f10-e48e-470e-be9b-eeb93128ff1a                  12.955556   \n",
       "\n",
       "      total_session_duration_min  mean_events_per_session  conversion  \n",
       "0                      43.816667                 8.750000         0.0  \n",
       "1                     177.700000                11.833333        11.0  \n",
       "2                      21.250000                10.000000         0.0  \n",
       "3                      87.533333                 5.333333         0.0  \n",
       "4                       9.333333                 2.666667         3.0  \n",
       "...                          ...                      ...         ...  \n",
       "4244                  159.466667                10.400000         0.0  \n",
       "4245                   49.416667                 8.500000         0.0  \n",
       "4246                    0.866667                 7.000000         1.0  \n",
       "4247                    1.350000                 2.000000         0.0  \n",
       "4248                   38.866667                 4.333333         1.0  \n",
       "\n",
       "[4249 rows x 5 columns]"
      ]
     },
     "execution_count": 111,
     "metadata": {},
     "output_type": "execute_result"
    }
   ],
   "source": [
    "features = features.merge(conversion, how='outer', on='user_id').apply(lambda x: x.fillna(0))\n",
    "\n",
    "features"
   ]
  },
  {
   "cell_type": "markdown",
   "metadata": {},
   "source": [
    "### Кластеризация клиентов"
   ]
  },
  {
   "cell_type": "markdown",
   "metadata": {},
   "source": [
    "#### Построим матрицу расстояний функцией и нарисуем дендрограмму\n"
   ]
  },
  {
   "cell_type": "code",
   "execution_count": 112,
   "metadata": {
    "scrolled": true
   },
   "outputs": [
    {
     "data": {
      "image/png": "[encoded data removed]",
      "text/plain": [
       "<Figure size 1008x648 with 1 Axes>"
      ]
     },
     "metadata": {
      "needs_background": "light"
     },
     "output_type": "display_data"
    }
   ],
   "source": [
    "#построим дендограмму\n",
    "\n",
    "X = features.drop('user_id', axis=1)\n",
    "\n",
    "#стандартизируем данные\n",
    "sc = StandardScaler()\n",
    "X_sc = sc.fit_transform(X)\n",
    "\n",
    "linked = linkage(X_sc, method = 'ward')\n",
    "plt.figure(figsize=(14, 9))  \n",
    "dendrogram(linked, orientation='top')\n",
    "plt.title('Иерархическая кластеризация пользователей мобильного приложения \"Ненужные вещи\"')\n",
    "plt.show();"
   ]
  },
  {
   "cell_type": "markdown",
   "metadata": {},
   "source": [
    "визуально можем выделить 2 кластера"
   ]
  },
  {
   "cell_type": "markdown",
   "metadata": {},
   "source": [
    "#### Обучим модель кластеризации и спрогнозируем кластеры клиентов"
   ]
  },
  {
   "cell_type": "code",
   "execution_count": 113,
   "metadata": {
    "scrolled": true
   },
   "outputs": [
    {
     "data": {
      "text/html": [
       "<div>\n",
       "<style scoped>\n",
       "    .dataframe tbody tr th:only-of-type {\n",
       "        vertical-align: middle;\n",
       "    }\n",
       "\n",
       "    .dataframe tbody tr th {\n",
       "        vertical-align: top;\n",
       "    }\n",
       "\n",
       "    .dataframe thead th {\n",
       "        text-align: right;\n",
       "    }\n",
       "</style>\n",
       "<table border=\"1\" class=\"dataframe\">\n",
       "  <thead>\n",
       "    <tr style=\"text-align: right;\">\n",
       "      <th></th>\n",
       "      <th>user_id</th>\n",
       "      <th>mean_session_duration_min</th>\n",
       "      <th>total_session_duration_min</th>\n",
       "      <th>mean_events_per_session</th>\n",
       "      <th>conversion</th>\n",
       "      <th>cluster</th>\n",
       "    </tr>\n",
       "  </thead>\n",
       "  <tbody>\n",
       "    <tr>\n",
       "      <th>0</th>\n",
       "      <td>0001b1d5-b74a-4cbf-aeb0-7df5947bf349</td>\n",
       "      <td>8.763333</td>\n",
       "      <td>43.816667</td>\n",
       "      <td>8.750000</td>\n",
       "      <td>0.0</td>\n",
       "      <td>0</td>\n",
       "    </tr>\n",
       "    <tr>\n",
       "      <th>1</th>\n",
       "      <td>00157779-810c-4498-9e05-a1e9e3cedf93</td>\n",
       "      <td>17.770000</td>\n",
       "      <td>177.700000</td>\n",
       "      <td>11.833333</td>\n",
       "      <td>11.0</td>\n",
       "      <td>1</td>\n",
       "    </tr>\n",
       "    <tr>\n",
       "      <th>2</th>\n",
       "      <td>00463033-5717-4bf1-91b4-09183923b9df</td>\n",
       "      <td>10.625000</td>\n",
       "      <td>21.250000</td>\n",
       "      <td>10.000000</td>\n",
       "      <td>0.0</td>\n",
       "      <td>0</td>\n",
       "    </tr>\n",
       "    <tr>\n",
       "      <th>3</th>\n",
       "      <td>004690c3-5a84-4bb7-a8af-e0c8f8fca64e</td>\n",
       "      <td>12.504762</td>\n",
       "      <td>87.533333</td>\n",
       "      <td>5.333333</td>\n",
       "      <td>0.0</td>\n",
       "      <td>1</td>\n",
       "    </tr>\n",
       "    <tr>\n",
       "      <th>4</th>\n",
       "      <td>00551e79-152e-4441-9cf7-565d7eb04090</td>\n",
       "      <td>3.111111</td>\n",
       "      <td>9.333333</td>\n",
       "      <td>2.666667</td>\n",
       "      <td>3.0</td>\n",
       "      <td>0</td>\n",
       "    </tr>\n",
       "  </tbody>\n",
       "</table>\n",
       "</div>"
      ],
      "text/plain": [
       "                                user_id  mean_session_duration_min  \\\n",
       "0  0001b1d5-b74a-4cbf-aeb0-7df5947bf349                   8.763333   \n",
       "1  00157779-810c-4498-9e05-a1e9e3cedf93                  17.770000   \n",
       "2  00463033-5717-4bf1-91b4-09183923b9df                  10.625000   \n",
       "3  004690c3-5a84-4bb7-a8af-e0c8f8fca64e                  12.504762   \n",
       "4  00551e79-152e-4441-9cf7-565d7eb04090                   3.111111   \n",
       "\n",
       "   total_session_duration_min  mean_events_per_session  conversion  cluster  \n",
       "0                   43.816667                 8.750000         0.0        0  \n",
       "1                  177.700000                11.833333        11.0        1  \n",
       "2                   21.250000                10.000000         0.0        0  \n",
       "3                   87.533333                 5.333333         0.0        1  \n",
       "4                    9.333333                 2.666667         3.0        0  "
      ]
     },
     "execution_count": 113,
     "metadata": {},
     "output_type": "execute_result"
    }
   ],
   "source": [
    "# обучим модель кластеризации через k-means\n",
    "km = KMeans(n_clusters=2, random_state = 0)\n",
    "labels = km.fit_predict(X_sc)\n",
    "\n",
    "# сохраним кластеры в датасет с признаками\n",
    "features['cluster'] = labels\n",
    "\n",
    "features.head()"
   ]
  },
  {
   "cell_type": "code",
   "execution_count": 114,
   "metadata": {
    "scrolled": true
   },
   "outputs": [
    {
     "data": {
      "text/html": [
       "<div>\n",
       "<style scoped>\n",
       "    .dataframe tbody tr th:only-of-type {\n",
       "        vertical-align: middle;\n",
       "    }\n",
       "\n",
       "    .dataframe tbody tr th {\n",
       "        vertical-align: top;\n",
       "    }\n",
       "\n",
       "    .dataframe thead th {\n",
       "        text-align: right;\n",
       "    }\n",
       "</style>\n",
       "<table border=\"1\" class=\"dataframe\">\n",
       "  <thead>\n",
       "    <tr style=\"text-align: right;\">\n",
       "      <th>cluster</th>\n",
       "      <th>0</th>\n",
       "      <th>1</th>\n",
       "    </tr>\n",
       "  </thead>\n",
       "  <tbody>\n",
       "    <tr>\n",
       "      <th>mean_session_duration_min</th>\n",
       "      <td>6.620900</td>\n",
       "      <td>22.409541</td>\n",
       "    </tr>\n",
       "    <tr>\n",
       "      <th>total_session_duration_min</th>\n",
       "      <td>13.194757</td>\n",
       "      <td>69.551639</td>\n",
       "    </tr>\n",
       "    <tr>\n",
       "      <th>mean_events_per_session</th>\n",
       "      <td>6.528172</td>\n",
       "      <td>21.052784</td>\n",
       "    </tr>\n",
       "    <tr>\n",
       "      <th>conversion</th>\n",
       "      <td>0.514354</td>\n",
       "      <td>2.134807</td>\n",
       "    </tr>\n",
       "  </tbody>\n",
       "</table>\n",
       "</div>"
      ],
      "text/plain": [
       "cluster                             0          1\n",
       "mean_session_duration_min    6.620900  22.409541\n",
       "total_session_duration_min  13.194757  69.551639\n",
       "mean_events_per_session      6.528172  21.052784\n",
       "conversion                   0.514354   2.134807"
      ]
     },
     "execution_count": 114,
     "metadata": {},
     "output_type": "execute_result"
    }
   ],
   "source": [
    "features.groupby('cluster').mean().T"
   ]
  },
  {
   "cell_type": "code",
   "execution_count": 115,
   "metadata": {},
   "outputs": [
    {
     "data": {
      "text/plain": [
       "0    3344\n",
       "1     905\n",
       "Name: cluster, dtype: int64"
      ]
     },
     "execution_count": 115,
     "metadata": {},
     "output_type": "execute_result"
    }
   ],
   "source": [
    "# посмотрим сколько клиентов в кластерах\n",
    "features.cluster.value_counts() "
   ]
  },
  {
   "cell_type": "markdown",
   "metadata": {},
   "source": [
    "- **Какие пользователи склонны часто возвращаться в мобильное приложение?**"
   ]
  },
  {
   "cell_type": "code",
   "execution_count": 116,
   "metadata": {
    "scrolled": true
   },
   "outputs": [
    {
     "data": {
      "text/html": [
       "<div>\n",
       "<style scoped>\n",
       "    .dataframe tbody tr th:only-of-type {\n",
       "        vertical-align: middle;\n",
       "    }\n",
       "\n",
       "    .dataframe tbody tr th {\n",
       "        vertical-align: top;\n",
       "    }\n",
       "\n",
       "    .dataframe thead th {\n",
       "        text-align: right;\n",
       "    }\n",
       "</style>\n",
       "<table border=\"1\" class=\"dataframe\">\n",
       "  <thead>\n",
       "    <tr style=\"text-align: right;\">\n",
       "      <th></th>\n",
       "      <th>event_time</th>\n",
       "      <th>event_name</th>\n",
       "      <th>user_id</th>\n",
       "      <th>event_hour</th>\n",
       "      <th>full_date</th>\n",
       "      <th>day</th>\n",
       "      <th>full_week</th>\n",
       "      <th>week</th>\n",
       "      <th>month</th>\n",
       "      <th>source</th>\n",
       "      <th>first_activity_date</th>\n",
       "      <th>first_activity_week</th>\n",
       "      <th>cohort_lifetime</th>\n",
       "      <th>mean_session_duration_min</th>\n",
       "      <th>total_session_duration_min</th>\n",
       "      <th>mean_events_per_session</th>\n",
       "      <th>conversion</th>\n",
       "      <th>cluster</th>\n",
       "    </tr>\n",
       "  </thead>\n",
       "  <tbody>\n",
       "    <tr>\n",
       "      <th>0</th>\n",
       "      <td>2019-10-07 00:00:00</td>\n",
       "      <td>advert_open</td>\n",
       "      <td>020292ab-89bc-4156-9acf-68bc2783f894</td>\n",
       "      <td>0</td>\n",
       "      <td>2019-10-07</td>\n",
       "      <td>7</td>\n",
       "      <td>2019-10-03</td>\n",
       "      <td>41</td>\n",
       "      <td>10</td>\n",
       "      <td>other</td>\n",
       "      <td>2019-10-07</td>\n",
       "      <td>2019-10-07</td>\n",
       "      <td>0</td>\n",
       "      <td>18.716667</td>\n",
       "      <td>18.716667</td>\n",
       "      <td>28.0</td>\n",
       "      <td>0.0</td>\n",
       "      <td>1</td>\n",
       "    </tr>\n",
       "    <tr>\n",
       "      <th>1</th>\n",
       "      <td>2019-10-07 00:00:01</td>\n",
       "      <td>tips_show</td>\n",
       "      <td>020292ab-89bc-4156-9acf-68bc2783f894</td>\n",
       "      <td>0</td>\n",
       "      <td>2019-10-07</td>\n",
       "      <td>7</td>\n",
       "      <td>2019-10-03</td>\n",
       "      <td>41</td>\n",
       "      <td>10</td>\n",
       "      <td>other</td>\n",
       "      <td>2019-10-07</td>\n",
       "      <td>2019-10-07</td>\n",
       "      <td>0</td>\n",
       "      <td>18.716667</td>\n",
       "      <td>18.716667</td>\n",
       "      <td>28.0</td>\n",
       "      <td>0.0</td>\n",
       "      <td>1</td>\n",
       "    </tr>\n",
       "    <tr>\n",
       "      <th>2</th>\n",
       "      <td>2019-10-07 00:00:07</td>\n",
       "      <td>tips_show</td>\n",
       "      <td>020292ab-89bc-4156-9acf-68bc2783f894</td>\n",
       "      <td>0</td>\n",
       "      <td>2019-10-07</td>\n",
       "      <td>7</td>\n",
       "      <td>2019-10-03</td>\n",
       "      <td>41</td>\n",
       "      <td>10</td>\n",
       "      <td>other</td>\n",
       "      <td>2019-10-07</td>\n",
       "      <td>2019-10-07</td>\n",
       "      <td>0</td>\n",
       "      <td>18.716667</td>\n",
       "      <td>18.716667</td>\n",
       "      <td>28.0</td>\n",
       "      <td>0.0</td>\n",
       "      <td>1</td>\n",
       "    </tr>\n",
       "    <tr>\n",
       "      <th>3</th>\n",
       "      <td>2019-10-07 00:01:28</td>\n",
       "      <td>advert_open</td>\n",
       "      <td>020292ab-89bc-4156-9acf-68bc2783f894</td>\n",
       "      <td>0</td>\n",
       "      <td>2019-10-07</td>\n",
       "      <td>7</td>\n",
       "      <td>2019-10-03</td>\n",
       "      <td>41</td>\n",
       "      <td>10</td>\n",
       "      <td>other</td>\n",
       "      <td>2019-10-07</td>\n",
       "      <td>2019-10-07</td>\n",
       "      <td>0</td>\n",
       "      <td>18.716667</td>\n",
       "      <td>18.716667</td>\n",
       "      <td>28.0</td>\n",
       "      <td>0.0</td>\n",
       "      <td>1</td>\n",
       "    </tr>\n",
       "    <tr>\n",
       "      <th>4</th>\n",
       "      <td>2019-10-07 00:01:35</td>\n",
       "      <td>tips_show</td>\n",
       "      <td>020292ab-89bc-4156-9acf-68bc2783f894</td>\n",
       "      <td>0</td>\n",
       "      <td>2019-10-07</td>\n",
       "      <td>7</td>\n",
       "      <td>2019-10-03</td>\n",
       "      <td>41</td>\n",
       "      <td>10</td>\n",
       "      <td>other</td>\n",
       "      <td>2019-10-07</td>\n",
       "      <td>2019-10-07</td>\n",
       "      <td>0</td>\n",
       "      <td>18.716667</td>\n",
       "      <td>18.716667</td>\n",
       "      <td>28.0</td>\n",
       "      <td>0.0</td>\n",
       "      <td>1</td>\n",
       "    </tr>\n",
       "  </tbody>\n",
       "</table>\n",
       "</div>"
      ],
      "text/plain": [
       "           event_time   event_name                               user_id  \\\n",
       "0 2019-10-07 00:00:00  advert_open  020292ab-89bc-4156-9acf-68bc2783f894   \n",
       "1 2019-10-07 00:00:01    tips_show  020292ab-89bc-4156-9acf-68bc2783f894   \n",
       "2 2019-10-07 00:00:07    tips_show  020292ab-89bc-4156-9acf-68bc2783f894   \n",
       "3 2019-10-07 00:01:28  advert_open  020292ab-89bc-4156-9acf-68bc2783f894   \n",
       "4 2019-10-07 00:01:35    tips_show  020292ab-89bc-4156-9acf-68bc2783f894   \n",
       "\n",
       "   event_hour  full_date  day  full_week  week  month source  \\\n",
       "0           0 2019-10-07    7 2019-10-03    41     10  other   \n",
       "1           0 2019-10-07    7 2019-10-03    41     10  other   \n",
       "2           0 2019-10-07    7 2019-10-03    41     10  other   \n",
       "3           0 2019-10-07    7 2019-10-03    41     10  other   \n",
       "4           0 2019-10-07    7 2019-10-03    41     10  other   \n",
       "\n",
       "  first_activity_date first_activity_week  cohort_lifetime  \\\n",
       "0          2019-10-07          2019-10-07                0   \n",
       "1          2019-10-07          2019-10-07                0   \n",
       "2          2019-10-07          2019-10-07                0   \n",
       "3          2019-10-07          2019-10-07                0   \n",
       "4          2019-10-07          2019-10-07                0   \n",
       "\n",
       "   mean_session_duration_min  total_session_duration_min  \\\n",
       "0                  18.716667                   18.716667   \n",
       "1                  18.716667                   18.716667   \n",
       "2                  18.716667                   18.716667   \n",
       "3                  18.716667                   18.716667   \n",
       "4                  18.716667                   18.716667   \n",
       "\n",
       "   mean_events_per_session  conversion  cluster  \n",
       "0                     28.0         0.0        1  \n",
       "1                     28.0         0.0        1  \n",
       "2                     28.0         0.0        1  \n",
       "3                     28.0         0.0        1  \n",
       "4                     28.0         0.0        1  "
      ]
     },
     "execution_count": 116,
     "metadata": {},
     "output_type": "execute_result"
    }
   ],
   "source": [
    "user_activity = user_activity.merge(features, how='outer', on='user_id')\n",
    "user_activity.head()"
   ]
  },
  {
   "cell_type": "code",
   "execution_count": 117,
   "metadata": {},
   "outputs": [],
   "source": [
    "user_activity_0_cluster = user_activity.query('cluster==0')\n",
    "user_activity_1_cluster = user_activity.query('cluster==1')"
   ]
  },
  {
   "cell_type": "markdown",
   "metadata": {},
   "source": [
    "посчитаем ретеншн для 0 кластера"
   ]
  },
  {
   "cell_type": "code",
   "execution_count": 118,
   "metadata": {
    "scrolled": true
   },
   "outputs": [
    {
     "data": {
      "image/png": "[encoded data removed]",
      "text/plain": [
       "<Figure size 720x576 with 2 Axes>"
      ]
     },
     "metadata": {
      "needs_background": "light"
     },
     "output_type": "display_data"
    }
   ],
   "source": [
    "# вычисляем размеры когорт\n",
    "cohort_sizes = user_activity_0_cluster.groupby(['first_activity_week','cohort_lifetime'], as_index = False\n",
    "                                    ).agg({'user_id':'nunique'})\n",
    "\n",
    "# найдём исходное количество пользователей в когорте и добавим в таблицу\n",
    "initial_users_count = cohort_sizes[cohort_sizes['cohort_lifetime'] == 0][['first_activity_week','user_id']]\n",
    "initial_users_count = initial_users_count.rename(columns={'user_id':'original_cohort_users'})\n",
    "cohort_sizes = cohort_sizes.merge(initial_users_count,on='first_activity_week')\n",
    "\n",
    "# посчитаем retention rate \n",
    "cohort_sizes['retention'] = cohort_sizes['user_id']/cohort_sizes['original_cohort_users']\n",
    "retention_pivot = cohort_sizes.pivot_table(index='first_activity_week',\n",
    "                                      columns='cohort_lifetime',values='retention',aggfunc='sum').fillna(0)\n",
    "\n",
    "# построим хитмэп\n",
    "plt.figure(figsize=(10, 8))\n",
    "plt.title('Тепловая карта удержания пользователей 0 кластера')\n",
    "sns.heatmap(retention_pivot, annot=True, fmt='.1%', linewidths=2, linecolor='white')\n",
    "plt.show()"
   ]
  },
  {
   "cell_type": "markdown",
   "metadata": {},
   "source": [
    "посчитаем ретеншн для 1 кластера"
   ]
  },
  {
   "cell_type": "code",
   "execution_count": 119,
   "metadata": {
    "scrolled": true
   },
   "outputs": [
    {
     "data": {
      "image/png": "[encoded data removed]",
      "text/plain": [
       "<Figure size 720x576 with 2 Axes>"
      ]
     },
     "metadata": {
      "needs_background": "light"
     },
     "output_type": "display_data"
    }
   ],
   "source": [
    "# вычисляем размеры когорт\n",
    "cohort_sizes = user_activity_1_cluster.groupby(['first_activity_week','cohort_lifetime'], as_index = False\n",
    "                                    ).agg({'user_id':'nunique'})\n",
    "\n",
    "# найдём исходное количество пользователей в когорте и добавим в таблицу\n",
    "initial_users_count = cohort_sizes[cohort_sizes['cohort_lifetime'] == 0][['first_activity_week','user_id']]\n",
    "initial_users_count = initial_users_count.rename(columns={'user_id':'original_cohort_users'})\n",
    "cohort_sizes = cohort_sizes.merge(initial_users_count,on='first_activity_week')\n",
    "\n",
    "# посчитаем retention rate \n",
    "cohort_sizes['retention'] = cohort_sizes['user_id']/cohort_sizes['original_cohort_users']\n",
    "retention_pivot = cohort_sizes.pivot_table(index='first_activity_week',\n",
    "                                      columns='cohort_lifetime',values='retention',aggfunc='sum').fillna(0)\n",
    "\n",
    "# построим хитмэп\n",
    "plt.figure(figsize=(10, 8))\n",
    "plt.title('Тепловая карта удержания пользователей 1 кластера')\n",
    "sns.heatmap(retention_pivot, annot=True, fmt='.1%', linewidths=2, linecolor='white')\n",
    "plt.show()"
   ]
  },
  {
   "cell_type": "markdown",
   "metadata": {},
   "source": [
    "\n",
    "Лучшее удержание в приложении показали пользователи 1 кластера, особенно те, кто пришел в первую неделю наших наблюдений(7-13 октября)\n",
    "\n",
    "Реже всего возвращаются пользователи из 0 кластера,т пришедшие на 3 неделе (21-27 октября)"
   ]
  },
  {
   "cell_type": "markdown",
   "metadata": {},
   "source": [
    "- **Какие пользователи часто делают целевое событие ?**\n",
    "\n",
    "посмотрим на количество событий по типам в разрезе кластеров"
   ]
  },
  {
   "cell_type": "code",
   "execution_count": 120,
   "metadata": {
    "scrolled": true
   },
   "outputs": [
    {
     "data": {
      "text/plain": [
       "tips_show        15208\n",
       "photos_show       5685\n",
       "search_1          2374\n",
       "advert_open       2104\n",
       "map               1843\n",
       "contacts_show     1720\n",
       "search_5           704\n",
       "favorites_add      616\n",
       "search_4           402\n",
       "tips_click         365\n",
       "search_6           326\n",
       "contacts_call      325\n",
       "search_3           248\n",
       "search_2           220\n",
       "search_7           141\n",
       "Name: event_name, dtype: int64"
      ]
     },
     "execution_count": 120,
     "metadata": {},
     "output_type": "execute_result"
    }
   ],
   "source": [
    "user_activity_0_cluster['event_name'].value_counts()"
   ]
  },
  {
   "cell_type": "code",
   "execution_count": 121,
   "metadata": {
    "scrolled": true
   },
   "outputs": [
    {
     "data": {
      "text/plain": [
       "tips_show        18940\n",
       "photos_show       3683\n",
       "advert_open       2869\n",
       "contacts_show     1932\n",
       "map               1390\n",
       "search_1          1055\n",
       "favorites_add      606\n",
       "tips_click         354\n",
       "search_5           281\n",
       "search_4           214\n",
       "contacts_call      212\n",
       "search_3           193\n",
       "search_6           125\n",
       "search_2            95\n",
       "search_7            64\n",
       "Name: event_name, dtype: int64"
      ]
     },
     "execution_count": 121,
     "metadata": {},
     "output_type": "execute_result"
    }
   ],
   "source": [
    "user_activity_1_cluster['event_name'].value_counts()"
   ]
  },
  {
   "cell_type": "code",
   "execution_count": 122,
   "metadata": {},
   "outputs": [
    {
     "data": {
      "text/html": [
       "<div>\n",
       "<style scoped>\n",
       "    .dataframe tbody tr th:only-of-type {\n",
       "        vertical-align: middle;\n",
       "    }\n",
       "\n",
       "    .dataframe tbody tr th {\n",
       "        vertical-align: top;\n",
       "    }\n",
       "\n",
       "    .dataframe thead th {\n",
       "        text-align: right;\n",
       "    }\n",
       "</style>\n",
       "<table border=\"1\" class=\"dataframe\">\n",
       "  <thead>\n",
       "    <tr style=\"text-align: right;\">\n",
       "      <th></th>\n",
       "      <th>event_name</th>\n",
       "      <th>cluster</th>\n",
       "      <th>quantity</th>\n",
       "    </tr>\n",
       "  </thead>\n",
       "  <tbody>\n",
       "    <tr>\n",
       "      <th>0</th>\n",
       "      <td>advert_open</td>\n",
       "      <td>0</td>\n",
       "      <td>2104</td>\n",
       "    </tr>\n",
       "    <tr>\n",
       "      <th>1</th>\n",
       "      <td>advert_open</td>\n",
       "      <td>1</td>\n",
       "      <td>2869</td>\n",
       "    </tr>\n",
       "    <tr>\n",
       "      <th>2</th>\n",
       "      <td>contacts_call</td>\n",
       "      <td>0</td>\n",
       "      <td>325</td>\n",
       "    </tr>\n",
       "    <tr>\n",
       "      <th>3</th>\n",
       "      <td>contacts_call</td>\n",
       "      <td>1</td>\n",
       "      <td>212</td>\n",
       "    </tr>\n",
       "    <tr>\n",
       "      <th>4</th>\n",
       "      <td>contacts_show</td>\n",
       "      <td>0</td>\n",
       "      <td>1720</td>\n",
       "    </tr>\n",
       "  </tbody>\n",
       "</table>\n",
       "</div>"
      ],
      "text/plain": [
       "      event_name  cluster  quantity\n",
       "0    advert_open        0      2104\n",
       "1    advert_open        1      2869\n",
       "2  contacts_call        0       325\n",
       "3  contacts_call        1       212\n",
       "4  contacts_show        0      1720"
      ]
     },
     "execution_count": 122,
     "metadata": {},
     "output_type": "execute_result"
    }
   ],
   "source": [
    "cluster_events = user_activity.groupby(['event_name', 'cluster'])['cluster'].count()\n",
    "cluster_events.name = 'quantity'\n",
    "cluster_events = cluster_events.reset_index()\n",
    "cluster_events.head()"
   ]
  },
  {
   "cell_type": "markdown",
   "metadata": {},
   "source": [
    "tips_show это автоматический показ рекомендованного обьявления, так что по нему нельзя судить о поведении пользователя, так что построим график без учета tips_show "
   ]
  },
  {
   "cell_type": "code",
   "execution_count": 123,
   "metadata": {},
   "outputs": [
    {
     "data": {
      "application/vnd.plotly.v1+json": {
       "config": {
        "plotlyServerURL": "https://plot.ly"
       },
       "data": [
        {
         "alignmentgroup": "True",
         "hovertemplate": "event_name=%{x}<br>Кластер=%{y}<br>cluster=%{marker.color}<extra></extra>",
         "legendgroup": "",
         "marker": {
          "color": [
           0,
           1,
           0,
           1,
           0,
           1,
           0,
           1,
           0,
           1,
           0,
           1,
           0,
           1,
           0,
           1,
           0,
           1,
           0,
           1,
           0,
           1,
           0,
           1,
           0,
           1,
           0,
           1
          ],
          "coloraxis": "coloraxis",
          "pattern": {
           "shape": ""
          }
         },
         "name": "",
         "offsetgroup": "",
         "orientation": "v",
         "showlegend": false,
         "textposition": "auto",
         "type": "bar",
         "x": [
          "advert_open",
          "advert_open",
          "contacts_call",
          "contacts_call",
          "contacts_show",
          "contacts_show",
          "favorites_add",
          "favorites_add",
          "map",
          "map",
          "photos_show",
          "photos_show",
          "search_1",
          "search_1",
          "search_2",
          "search_2",
          "search_3",
          "search_3",
          "search_4",
          "search_4",
          "search_5",
          "search_5",
          "search_6",
          "search_6",
          "search_7",
          "search_7",
          "tips_click",
          "tips_click"
         ],
         "xaxis": "x",
         "y": [
          2104,
          2869,
          325,
          212,
          1720,
          1932,
          616,
          606,
          1843,
          1390,
          5685,
          3683,
          2374,
          1055,
          220,
          95,
          248,
          193,
          402,
          214,
          704,
          281,
          326,
          125,
          141,
          64,
          365,
          354
         ],
         "yaxis": "y"
        }
       ],
       "layout": {
        "barmode": "relative",
        "coloraxis": {
         "colorbar": {
          "title": {
           "text": "cluster"
          }
         },
         "colorscale": [
          [
           0,
           "#0d0887"
          ],
          [
           0.1111111111111111,
           "#46039f"
          ],
          [
           0.2222222222222222,
           "#7201a8"
          ],
          [
           0.3333333333333333,
           "#9c179e"
          ],
          [
           0.4444444444444444,
           "#bd3786"
          ],
          [
           0.5555555555555556,
           "#d8576b"
          ],
          [
           0.6666666666666666,
           "#ed7953"
          ],
          [
           0.7777777777777778,
           "#fb9f3a"
          ],
          [
           0.8888888888888888,
           "#fdca26"
          ],
          [
           1,
           "#f0f921"
          ]
         ]
        },
        "legend": {
         "tracegroupgap": 0
        },
        "template": {
         "data": {
          "bar": [
           {
            "error_x": {
             "color": "#2a3f5f"
            },
            "error_y": {
             "color": "#2a3f5f"
            },
            "marker": {
             "line": {
              "color": "#E5ECF6",
              "width": 0.5
             },
             "pattern": {
              "fillmode": "overlay",
              "size": 10,
              "solidity": 0.2
             }
            },
            "type": "bar"
           }
          ],
          "barpolar": [
           {
            "marker": {
             "line": {
              "color": "#E5ECF6",
              "width": 0.5
             },
             "pattern": {
              "fillmode": "overlay",
              "size": 10,
              "solidity": 0.2
             }
            },
            "type": "barpolar"
           }
          ],
          "carpet": [
           {
            "aaxis": {
             "endlinecolor": "#2a3f5f",
             "gridcolor": "white",
             "linecolor": "white",
             "minorgridcolor": "white",
             "startlinecolor": "#2a3f5f"
            },
            "baxis": {
             "endlinecolor": "#2a3f5f",
             "gridcolor": "white",
             "linecolor": "white",
             "minorgridcolor": "white",
             "startlinecolor": "#2a3f5f"
            },
            "type": "carpet"
           }
          ],
          "choropleth": [
           {
            "colorbar": {
             "outlinewidth": 0,
             "ticks": ""
            },
            "type": "choropleth"
           }
          ],
          "contour": [
           {
            "colorbar": {
             "outlinewidth": 0,
             "ticks": ""
            },
            "colorscale": [
             [
              0,
              "#0d0887"
             ],
             [
              0.1111111111111111,
              "#46039f"
             ],
             [
              0.2222222222222222,
              "#7201a8"
             ],
             [
              0.3333333333333333,
              "#9c179e"
             ],
             [
              0.4444444444444444,
              "#bd3786"
             ],
             [
              0.5555555555555556,
              "#d8576b"
             ],
             [
              0.6666666666666666,
              "#ed7953"
             ],
             [
              0.7777777777777778,
              "#fb9f3a"
             ],
             [
              0.8888888888888888,
              "#fdca26"
             ],
             [
              1,
              "#f0f921"
             ]
            ],
            "type": "contour"
           }
          ],
          "contourcarpet": [
           {
            "colorbar": {
             "outlinewidth": 0,
             "ticks": ""
            },
            "type": "contourcarpet"
           }
          ],
          "heatmap": [
           {
            "colorbar": {
             "outlinewidth": 0,
             "ticks": ""
            },
            "colorscale": [
             [
              0,
              "#0d0887"
             ],
             [
              0.1111111111111111,
              "#46039f"
             ],
             [
              0.2222222222222222,
              "#7201a8"
             ],
             [
              0.3333333333333333,
              "#9c179e"
             ],
             [
              0.4444444444444444,
              "#bd3786"
             ],
             [
              0.5555555555555556,
              "#d8576b"
             ],
             [
              0.6666666666666666,
              "#ed7953"
             ],
             [
              0.7777777777777778,
              "#fb9f3a"
             ],
             [
              0.8888888888888888,
              "#fdca26"
             ],
             [
              1,
              "#f0f921"
             ]
            ],
            "type": "heatmap"
           }
          ],
          "heatmapgl": [
           {
            "colorbar": {
             "outlinewidth": 0,
             "ticks": ""
            },
            "colorscale": [
             [
              0,
              "#0d0887"
             ],
             [
              0.1111111111111111,
              "#46039f"
             ],
             [
              0.2222222222222222,
              "#7201a8"
             ],
             [
              0.3333333333333333,
              "#9c179e"
             ],
             [
              0.4444444444444444,
              "#bd3786"
             ],
             [
              0.5555555555555556,
              "#d8576b"
             ],
             [
              0.6666666666666666,
              "#ed7953"
             ],
             [
              0.7777777777777778,
              "#fb9f3a"
             ],
             [
              0.8888888888888888,
              "#fdca26"
             ],
             [
              1,
              "#f0f921"
             ]
            ],
            "type": "heatmapgl"
           }
          ],
          "histogram": [
           {
            "marker": {
             "pattern": {
              "fillmode": "overlay",
              "size": 10,
              "solidity": 0.2
             }
            },
            "type": "histogram"
           }
          ],
          "histogram2d": [
           {
            "colorbar": {
             "outlinewidth": 0,
             "ticks": ""
            },
            "colorscale": [
             [
              0,
              "#0d0887"
             ],
             [
              0.1111111111111111,
              "#46039f"
             ],
             [
              0.2222222222222222,
              "#7201a8"
             ],
             [
              0.3333333333333333,
              "#9c179e"
             ],
             [
              0.4444444444444444,
              "#bd3786"
             ],
             [
              0.5555555555555556,
              "#d8576b"
             ],
             [
              0.6666666666666666,
              "#ed7953"
             ],
             [
              0.7777777777777778,
              "#fb9f3a"
             ],
             [
              0.8888888888888888,
              "#fdca26"
             ],
             [
              1,
              "#f0f921"
             ]
            ],
            "type": "histogram2d"
           }
          ],
          "histogram2dcontour": [
           {
            "colorbar": {
             "outlinewidth": 0,
             "ticks": ""
            },
            "colorscale": [
             [
              0,
              "#0d0887"
             ],
             [
              0.1111111111111111,
              "#46039f"
             ],
             [
              0.2222222222222222,
              "#7201a8"
             ],
             [
              0.3333333333333333,
              "#9c179e"
             ],
             [
              0.4444444444444444,
              "#bd3786"
             ],
             [
              0.5555555555555556,
              "#d8576b"
             ],
             [
              0.6666666666666666,
              "#ed7953"
             ],
             [
              0.7777777777777778,
              "#fb9f3a"
             ],
             [
              0.8888888888888888,
              "#fdca26"
             ],
             [
              1,
              "#f0f921"
             ]
            ],
            "type": "histogram2dcontour"
           }
          ],
          "mesh3d": [
           {
            "colorbar": {
             "outlinewidth": 0,
             "ticks": ""
            },
            "type": "mesh3d"
           }
          ],
          "parcoords": [
           {
            "line": {
             "colorbar": {
              "outlinewidth": 0,
              "ticks": ""
             }
            },
            "type": "parcoords"
           }
          ],
          "pie": [
           {
            "automargin": true,
            "type": "pie"
           }
          ],
          "scatter": [
           {
            "marker": {
             "colorbar": {
              "outlinewidth": 0,
              "ticks": ""
             }
            },
            "type": "scatter"
           }
          ],
          "scatter3d": [
           {
            "line": {
             "colorbar": {
              "outlinewidth": 0,
              "ticks": ""
             }
            },
            "marker": {
             "colorbar": {
              "outlinewidth": 0,
              "ticks": ""
             }
            },
            "type": "scatter3d"
           }
          ],
          "scattercarpet": [
           {
            "marker": {
             "colorbar": {
              "outlinewidth": 0,
              "ticks": ""
             }
            },
            "type": "scattercarpet"
           }
          ],
          "scattergeo": [
           {
            "marker": {
             "colorbar": {
              "outlinewidth": 0,
              "ticks": ""
             }
            },
            "type": "scattergeo"
           }
          ],
          "scattergl": [
           {
            "marker": {
             "colorbar": {
              "outlinewidth": 0,
              "ticks": ""
             }
            },
            "type": "scattergl"
           }
          ],
          "scattermapbox": [
           {
            "marker": {
             "colorbar": {
              "outlinewidth": 0,
              "ticks": ""
             }
            },
            "type": "scattermapbox"
           }
          ],
          "scatterpolar": [
           {
            "marker": {
             "colorbar": {
              "outlinewidth": 0,
              "ticks": ""
             }
            },
            "type": "scatterpolar"
           }
          ],
          "scatterpolargl": [
           {
            "marker": {
             "colorbar": {
              "outlinewidth": 0,
              "ticks": ""
             }
            },
            "type": "scatterpolargl"
           }
          ],
          "scatterternary": [
           {
            "marker": {
             "colorbar": {
              "outlinewidth": 0,
              "ticks": ""
             }
            },
            "type": "scatterternary"
           }
          ],
          "surface": [
           {
            "colorbar": {
             "outlinewidth": 0,
             "ticks": ""
            },
            "colorscale": [
             [
              0,
              "#0d0887"
             ],
             [
              0.1111111111111111,
              "#46039f"
             ],
             [
              0.2222222222222222,
              "#7201a8"
             ],
             [
              0.3333333333333333,
              "#9c179e"
             ],
             [
              0.4444444444444444,
              "#bd3786"
             ],
             [
              0.5555555555555556,
              "#d8576b"
             ],
             [
              0.6666666666666666,
              "#ed7953"
             ],
             [
              0.7777777777777778,
              "#fb9f3a"
             ],
             [
              0.8888888888888888,
              "#fdca26"
             ],
             [
              1,
              "#f0f921"
             ]
            ],
            "type": "surface"
           }
          ],
          "table": [
           {
            "cells": {
             "fill": {
              "color": "#EBF0F8"
             },
             "line": {
              "color": "white"
             }
            },
            "header": {
             "fill": {
              "color": "#C8D4E3"
             },
             "line": {
              "color": "white"
             }
            },
            "type": "table"
           }
          ]
         },
         "layout": {
          "annotationdefaults": {
           "arrowcolor": "#2a3f5f",
           "arrowhead": 0,
           "arrowwidth": 1
          },
          "autotypenumbers": "strict",
          "coloraxis": {
           "colorbar": {
            "outlinewidth": 0,
            "ticks": ""
           }
          },
          "colorscale": {
           "diverging": [
            [
             0,
             "#8e0152"
            ],
            [
             0.1,
             "#c51b7d"
            ],
            [
             0.2,
             "#de77ae"
            ],
            [
             0.3,
             "#f1b6da"
            ],
            [
             0.4,
             "#fde0ef"
            ],
            [
             0.5,
             "#f7f7f7"
            ],
            [
             0.6,
             "#e6f5d0"
            ],
            [
             0.7,
             "#b8e186"
            ],
            [
             0.8,
             "#7fbc41"
            ],
            [
             0.9,
             "#4d9221"
            ],
            [
             1,
             "#276419"
            ]
           ],
           "sequential": [
            [
             0,
             "#0d0887"
            ],
            [
             0.1111111111111111,
             "#46039f"
            ],
            [
             0.2222222222222222,
             "#7201a8"
            ],
            [
             0.3333333333333333,
             "#9c179e"
            ],
            [
             0.4444444444444444,
             "#bd3786"
            ],
            [
             0.5555555555555556,
             "#d8576b"
            ],
            [
             0.6666666666666666,
             "#ed7953"
            ],
            [
             0.7777777777777778,
             "#fb9f3a"
            ],
            [
             0.8888888888888888,
             "#fdca26"
            ],
            [
             1,
             "#f0f921"
            ]
           ],
           "sequentialminus": [
            [
             0,
             "#0d0887"
            ],
            [
             0.1111111111111111,
             "#46039f"
            ],
            [
             0.2222222222222222,
             "#7201a8"
            ],
            [
             0.3333333333333333,
             "#9c179e"
            ],
            [
             0.4444444444444444,
             "#bd3786"
            ],
            [
             0.5555555555555556,
             "#d8576b"
            ],
            [
             0.6666666666666666,
             "#ed7953"
            ],
            [
             0.7777777777777778,
             "#fb9f3a"
            ],
            [
             0.8888888888888888,
             "#fdca26"
            ],
            [
             1,
             "#f0f921"
            ]
           ]
          },
          "colorway": [
           "#636efa",
           "#EF553B",
           "#00cc96",
           "#ab63fa",
           "#FFA15A",
           "#19d3f3",
           "#FF6692",
           "#B6E880",
           "#FF97FF",
           "#FECB52"
          ],
          "font": {
           "color": "#2a3f5f"
          },
          "geo": {
           "bgcolor": "white",
           "lakecolor": "white",
           "landcolor": "#E5ECF6",
           "showlakes": true,
           "showland": true,
           "subunitcolor": "white"
          },
          "hoverlabel": {
           "align": "left"
          },
          "hovermode": "closest",
          "mapbox": {
           "style": "light"
          },
          "paper_bgcolor": "white",
          "plot_bgcolor": "#E5ECF6",
          "polar": {
           "angularaxis": {
            "gridcolor": "white",
            "linecolor": "white",
            "ticks": ""
           },
           "bgcolor": "#E5ECF6",
           "radialaxis": {
            "gridcolor": "white",
            "linecolor": "white",
            "ticks": ""
           }
          },
          "scene": {
           "xaxis": {
            "backgroundcolor": "#E5ECF6",
            "gridcolor": "white",
            "gridwidth": 2,
            "linecolor": "white",
            "showbackground": true,
            "ticks": "",
            "zerolinecolor": "white"
           },
           "yaxis": {
            "backgroundcolor": "#E5ECF6",
            "gridcolor": "white",
            "gridwidth": 2,
            "linecolor": "white",
            "showbackground": true,
            "ticks": "",
            "zerolinecolor": "white"
           },
           "zaxis": {
            "backgroundcolor": "#E5ECF6",
            "gridcolor": "white",
            "gridwidth": 2,
            "linecolor": "white",
            "showbackground": true,
            "ticks": "",
            "zerolinecolor": "white"
           }
          },
          "shapedefaults": {
           "line": {
            "color": "#2a3f5f"
           }
          },
          "ternary": {
           "aaxis": {
            "gridcolor": "white",
            "linecolor": "white",
            "ticks": ""
           },
           "baxis": {
            "gridcolor": "white",
            "linecolor": "white",
            "ticks": ""
           },
           "bgcolor": "#E5ECF6",
           "caxis": {
            "gridcolor": "white",
            "linecolor": "white",
            "ticks": ""
           }
          },
          "title": {
           "x": 0.05
          },
          "xaxis": {
           "automargin": true,
           "gridcolor": "white",
           "linecolor": "white",
           "ticks": "",
           "title": {
            "standoff": 15
           },
           "zerolinecolor": "white",
           "zerolinewidth": 2
          },
          "yaxis": {
           "automargin": true,
           "gridcolor": "white",
           "linecolor": "white",
           "ticks": "",
           "title": {
            "standoff": 15
           },
           "zerolinecolor": "white",
           "zerolinewidth": 2
          }
         }
        },
        "title": {
         "text": "Типы событий в разрезе кластеров без учета tips_show"
        },
        "xaxis": {
         "anchor": "y",
         "domain": [
          0,
          1
         ],
         "tickangle": 30,
         "title": {
          "text": "event_name"
         }
        },
        "yaxis": {
         "anchor": "x",
         "domain": [
          0,
          1
         ],
         "title": {
          "text": "Кластер"
         }
        }
       }
      },
      "text/html": [
       "<div>                            <div id=\"11d2f7bc-f224-469e-888b-09039b05989b\" class=\"plotly-graph-div\" style=\"height:525px; width:100%;\"></div>            <script type=\"text/javascript\">                require([\"plotly\"], function(Plotly) {                    window.PLOTLYENV=window.PLOTLYENV || {};                                    if (document.getElementById(\"11d2f7bc-f224-469e-888b-09039b05989b\")) {                    Plotly.newPlot(                        \"11d2f7bc-f224-469e-888b-09039b05989b\",                        [{\"alignmentgroup\":\"True\",\"hovertemplate\":\"event_name=%{x}<br>\\u041a\\u043b\\u0430\\u0441\\u0442\\u0435\\u0440=%{y}<br>cluster=%{marker.color}<extra></extra>\",\"legendgroup\":\"\",\"marker\":{\"color\":[0,1,0,1,0,1,0,1,0,1,0,1,0,1,0,1,0,1,0,1,0,1,0,1,0,1,0,1],\"coloraxis\":\"coloraxis\",\"pattern\":{\"shape\":\"\"}},\"name\":\"\",\"offsetgroup\":\"\",\"orientation\":\"v\",\"showlegend\":false,\"textposition\":\"auto\",\"x\":[\"advert_open\",\"advert_open\",\"contacts_call\",\"contacts_call\",\"contacts_show\",\"contacts_show\",\"favorites_add\",\"favorites_add\",\"map\",\"map\",\"photos_show\",\"photos_show\",\"search_1\",\"search_1\",\"search_2\",\"search_2\",\"search_3\",\"search_3\",\"search_4\",\"search_4\",\"search_5\",\"search_5\",\"search_6\",\"search_6\",\"search_7\",\"search_7\",\"tips_click\",\"tips_click\"],\"xaxis\":\"x\",\"y\":[2104,2869,325,212,1720,1932,616,606,1843,1390,5685,3683,2374,1055,220,95,248,193,402,214,704,281,326,125,141,64,365,354],\"yaxis\":\"y\",\"type\":\"bar\"}],                        {\"template\":{\"data\":{\"bar\":[{\"error_x\":{\"color\":\"#2a3f5f\"},\"error_y\":{\"color\":\"#2a3f5f\"},\"marker\":{\"line\":{\"color\":\"#E5ECF6\",\"width\":0.5},\"pattern\":{\"fillmode\":\"overlay\",\"size\":10,\"solidity\":0.2}},\"type\":\"bar\"}],\"barpolar\":[{\"marker\":{\"line\":{\"color\":\"#E5ECF6\",\"width\":0.5},\"pattern\":{\"fillmode\":\"overlay\",\"size\":10,\"solidity\":0.2}},\"type\":\"barpolar\"}],\"carpet\":[{\"aaxis\":{\"endlinecolor\":\"#2a3f5f\",\"gridcolor\":\"white\",\"linecolor\":\"white\",\"minorgridcolor\":\"white\",\"startlinecolor\":\"#2a3f5f\"},\"baxis\":{\"endlinecolor\":\"#2a3f5f\",\"gridcolor\":\"white\",\"linecolor\":\"white\",\"minorgridcolor\":\"white\",\"startlinecolor\":\"#2a3f5f\"},\"type\":\"carpet\"}],\"choropleth\":[{\"colorbar\":{\"outlinewidth\":0,\"ticks\":\"\"},\"type\":\"choropleth\"}],\"contour\":[{\"colorbar\":{\"outlinewidth\":0,\"ticks\":\"\"},\"colorscale\":[[0.0,\"#0d0887\"],[0.1111111111111111,\"#46039f\"],[0.2222222222222222,\"#7201a8\"],[0.3333333333333333,\"#9c179e\"],[0.4444444444444444,\"#bd3786\"],[0.5555555555555556,\"#d8576b\"],[0.6666666666666666,\"#ed7953\"],[0.7777777777777778,\"#fb9f3a\"],[0.8888888888888888,\"#fdca26\"],[1.0,\"#f0f921\"]],\"type\":\"contour\"}],\"contourcarpet\":[{\"colorbar\":{\"outlinewidth\":0,\"ticks\":\"\"},\"type\":\"contourcarpet\"}],\"heatmap\":[{\"colorbar\":{\"outlinewidth\":0,\"ticks\":\"\"},\"colorscale\":[[0.0,\"#0d0887\"],[0.1111111111111111,\"#46039f\"],[0.2222222222222222,\"#7201a8\"],[0.3333333333333333,\"#9c179e\"],[0.4444444444444444,\"#bd3786\"],[0.5555555555555556,\"#d8576b\"],[0.6666666666666666,\"#ed7953\"],[0.7777777777777778,\"#fb9f3a\"],[0.8888888888888888,\"#fdca26\"],[1.0,\"#f0f921\"]],\"type\":\"heatmap\"}],\"heatmapgl\":[{\"colorbar\":{\"outlinewidth\":0,\"ticks\":\"\"},\"colorscale\":[[0.0,\"#0d0887\"],[0.1111111111111111,\"#46039f\"],[0.2222222222222222,\"#7201a8\"],[0.3333333333333333,\"#9c179e\"],[0.4444444444444444,\"#bd3786\"],[0.5555555555555556,\"#d8576b\"],[0.6666666666666666,\"#ed7953\"],[0.7777777777777778,\"#fb9f3a\"],[0.8888888888888888,\"#fdca26\"],[1.0,\"#f0f921\"]],\"type\":\"heatmapgl\"}],\"histogram\":[{\"marker\":{\"pattern\":{\"fillmode\":\"overlay\",\"size\":10,\"solidity\":0.2}},\"type\":\"histogram\"}],\"histogram2d\":[{\"colorbar\":{\"outlinewidth\":0,\"ticks\":\"\"},\"colorscale\":[[0.0,\"#0d0887\"],[0.1111111111111111,\"#46039f\"],[0.2222222222222222,\"#7201a8\"],[0.3333333333333333,\"#9c179e\"],[0.4444444444444444,\"#bd3786\"],[0.5555555555555556,\"#d8576b\"],[0.6666666666666666,\"#ed7953\"],[0.7777777777777778,\"#fb9f3a\"],[0.8888888888888888,\"#fdca26\"],[1.0,\"#f0f921\"]],\"type\":\"histogram2d\"}],\"histogram2dcontour\":[{\"colorbar\":{\"outlinewidth\":0,\"ticks\":\"\"},\"colorscale\":[[0.0,\"#0d0887\"],[0.1111111111111111,\"#46039f\"],[0.2222222222222222,\"#7201a8\"],[0.3333333333333333,\"#9c179e\"],[0.4444444444444444,\"#bd3786\"],[0.5555555555555556,\"#d8576b\"],[0.6666666666666666,\"#ed7953\"],[0.7777777777777778,\"#fb9f3a\"],[0.8888888888888888,\"#fdca26\"],[1.0,\"#f0f921\"]],\"type\":\"histogram2dcontour\"}],\"mesh3d\":[{\"colorbar\":{\"outlinewidth\":0,\"ticks\":\"\"},\"type\":\"mesh3d\"}],\"parcoords\":[{\"line\":{\"colorbar\":{\"outlinewidth\":0,\"ticks\":\"\"}},\"type\":\"parcoords\"}],\"pie\":[{\"automargin\":true,\"type\":\"pie\"}],\"scatter\":[{\"marker\":{\"colorbar\":{\"outlinewidth\":0,\"ticks\":\"\"}},\"type\":\"scatter\"}],\"scatter3d\":[{\"line\":{\"colorbar\":{\"outlinewidth\":0,\"ticks\":\"\"}},\"marker\":{\"colorbar\":{\"outlinewidth\":0,\"ticks\":\"\"}},\"type\":\"scatter3d\"}],\"scattercarpet\":[{\"marker\":{\"colorbar\":{\"outlinewidth\":0,\"ticks\":\"\"}},\"type\":\"scattercarpet\"}],\"scattergeo\":[{\"marker\":{\"colorbar\":{\"outlinewidth\":0,\"ticks\":\"\"}},\"type\":\"scattergeo\"}],\"scattergl\":[{\"marker\":{\"colorbar\":{\"outlinewidth\":0,\"ticks\":\"\"}},\"type\":\"scattergl\"}],\"scattermapbox\":[{\"marker\":{\"colorbar\":{\"outlinewidth\":0,\"ticks\":\"\"}},\"type\":\"scattermapbox\"}],\"scatterpolar\":[{\"marker\":{\"colorbar\":{\"outlinewidth\":0,\"ticks\":\"\"}},\"type\":\"scatterpolar\"}],\"scatterpolargl\":[{\"marker\":{\"colorbar\":{\"outlinewidth\":0,\"ticks\":\"\"}},\"type\":\"scatterpolargl\"}],\"scatterternary\":[{\"marker\":{\"colorbar\":{\"outlinewidth\":0,\"ticks\":\"\"}},\"type\":\"scatterternary\"}],\"surface\":[{\"colorbar\":{\"outlinewidth\":0,\"ticks\":\"\"},\"colorscale\":[[0.0,\"#0d0887\"],[0.1111111111111111,\"#46039f\"],[0.2222222222222222,\"#7201a8\"],[0.3333333333333333,\"#9c179e\"],[0.4444444444444444,\"#bd3786\"],[0.5555555555555556,\"#d8576b\"],[0.6666666666666666,\"#ed7953\"],[0.7777777777777778,\"#fb9f3a\"],[0.8888888888888888,\"#fdca26\"],[1.0,\"#f0f921\"]],\"type\":\"surface\"}],\"table\":[{\"cells\":{\"fill\":{\"color\":\"#EBF0F8\"},\"line\":{\"color\":\"white\"}},\"header\":{\"fill\":{\"color\":\"#C8D4E3\"},\"line\":{\"color\":\"white\"}},\"type\":\"table\"}]},\"layout\":{\"annotationdefaults\":{\"arrowcolor\":\"#2a3f5f\",\"arrowhead\":0,\"arrowwidth\":1},\"autotypenumbers\":\"strict\",\"coloraxis\":{\"colorbar\":{\"outlinewidth\":0,\"ticks\":\"\"}},\"colorscale\":{\"diverging\":[[0,\"#8e0152\"],[0.1,\"#c51b7d\"],[0.2,\"#de77ae\"],[0.3,\"#f1b6da\"],[0.4,\"#fde0ef\"],[0.5,\"#f7f7f7\"],[0.6,\"#e6f5d0\"],[0.7,\"#b8e186\"],[0.8,\"#7fbc41\"],[0.9,\"#4d9221\"],[1,\"#276419\"]],\"sequential\":[[0.0,\"#0d0887\"],[0.1111111111111111,\"#46039f\"],[0.2222222222222222,\"#7201a8\"],[0.3333333333333333,\"#9c179e\"],[0.4444444444444444,\"#bd3786\"],[0.5555555555555556,\"#d8576b\"],[0.6666666666666666,\"#ed7953\"],[0.7777777777777778,\"#fb9f3a\"],[0.8888888888888888,\"#fdca26\"],[1.0,\"#f0f921\"]],\"sequentialminus\":[[0.0,\"#0d0887\"],[0.1111111111111111,\"#46039f\"],[0.2222222222222222,\"#7201a8\"],[0.3333333333333333,\"#9c179e\"],[0.4444444444444444,\"#bd3786\"],[0.5555555555555556,\"#d8576b\"],[0.6666666666666666,\"#ed7953\"],[0.7777777777777778,\"#fb9f3a\"],[0.8888888888888888,\"#fdca26\"],[1.0,\"#f0f921\"]]},\"colorway\":[\"#636efa\",\"#EF553B\",\"#00cc96\",\"#ab63fa\",\"#FFA15A\",\"#19d3f3\",\"#FF6692\",\"#B6E880\",\"#FF97FF\",\"#FECB52\"],\"font\":{\"color\":\"#2a3f5f\"},\"geo\":{\"bgcolor\":\"white\",\"lakecolor\":\"white\",\"landcolor\":\"#E5ECF6\",\"showlakes\":true,\"showland\":true,\"subunitcolor\":\"white\"},\"hoverlabel\":{\"align\":\"left\"},\"hovermode\":\"closest\",\"mapbox\":{\"style\":\"light\"},\"paper_bgcolor\":\"white\",\"plot_bgcolor\":\"#E5ECF6\",\"polar\":{\"angularaxis\":{\"gridcolor\":\"white\",\"linecolor\":\"white\",\"ticks\":\"\"},\"bgcolor\":\"#E5ECF6\",\"radialaxis\":{\"gridcolor\":\"white\",\"linecolor\":\"white\",\"ticks\":\"\"}},\"scene\":{\"xaxis\":{\"backgroundcolor\":\"#E5ECF6\",\"gridcolor\":\"white\",\"gridwidth\":2,\"linecolor\":\"white\",\"showbackground\":true,\"ticks\":\"\",\"zerolinecolor\":\"white\"},\"yaxis\":{\"backgroundcolor\":\"#E5ECF6\",\"gridcolor\":\"white\",\"gridwidth\":2,\"linecolor\":\"white\",\"showbackground\":true,\"ticks\":\"\",\"zerolinecolor\":\"white\"},\"zaxis\":{\"backgroundcolor\":\"#E5ECF6\",\"gridcolor\":\"white\",\"gridwidth\":2,\"linecolor\":\"white\",\"showbackground\":true,\"ticks\":\"\",\"zerolinecolor\":\"white\"}},\"shapedefaults\":{\"line\":{\"color\":\"#2a3f5f\"}},\"ternary\":{\"aaxis\":{\"gridcolor\":\"white\",\"linecolor\":\"white\",\"ticks\":\"\"},\"baxis\":{\"gridcolor\":\"white\",\"linecolor\":\"white\",\"ticks\":\"\"},\"bgcolor\":\"#E5ECF6\",\"caxis\":{\"gridcolor\":\"white\",\"linecolor\":\"white\",\"ticks\":\"\"}},\"title\":{\"x\":0.05},\"xaxis\":{\"automargin\":true,\"gridcolor\":\"white\",\"linecolor\":\"white\",\"ticks\":\"\",\"title\":{\"standoff\":15},\"zerolinecolor\":\"white\",\"zerolinewidth\":2},\"yaxis\":{\"automargin\":true,\"gridcolor\":\"white\",\"linecolor\":\"white\",\"ticks\":\"\",\"title\":{\"standoff\":15},\"zerolinecolor\":\"white\",\"zerolinewidth\":2}}},\"xaxis\":{\"anchor\":\"y\",\"domain\":[0.0,1.0],\"title\":{\"text\":\"event_name\"},\"tickangle\":30},\"yaxis\":{\"anchor\":\"x\",\"domain\":[0.0,1.0],\"title\":{\"text\":\"\\u041a\\u043b\\u0430\\u0441\\u0442\\u0435\\u0440\"}},\"coloraxis\":{\"colorbar\":{\"title\":{\"text\":\"cluster\"}},\"colorscale\":[[0.0,\"#0d0887\"],[0.1111111111111111,\"#46039f\"],[0.2222222222222222,\"#7201a8\"],[0.3333333333333333,\"#9c179e\"],[0.4444444444444444,\"#bd3786\"],[0.5555555555555556,\"#d8576b\"],[0.6666666666666666,\"#ed7953\"],[0.7777777777777778,\"#fb9f3a\"],[0.8888888888888888,\"#fdca26\"],[1.0,\"#f0f921\"]]},\"legend\":{\"tracegroupgap\":0},\"title\":{\"text\":\"\\u0422\\u0438\\u043f\\u044b \\u0441\\u043e\\u0431\\u044b\\u0442\\u0438\\u0439 \\u0432 \\u0440\\u0430\\u0437\\u0440\\u0435\\u0437\\u0435 \\u043a\\u043b\\u0430\\u0441\\u0442\\u0435\\u0440\\u043e\\u0432 \\u0431\\u0435\\u0437 \\u0443\\u0447\\u0435\\u0442\\u0430 tips_show\"},\"barmode\":\"relative\"},                        {\"responsive\": true}                    ).then(function(){\n",
       "                            \n",
       "var gd = document.getElementById('11d2f7bc-f224-469e-888b-09039b05989b');\n",
       "var x = new MutationObserver(function (mutations, observer) {{\n",
       "        var display = window.getComputedStyle(gd).display;\n",
       "        if (!display || display === 'none') {{\n",
       "            console.log([gd, 'removed!']);\n",
       "            Plotly.purge(gd);\n",
       "            observer.disconnect();\n",
       "        }}\n",
       "}});\n",
       "\n",
       "// Listen for the removal of the full notebook cells\n",
       "var notebookContainer = gd.closest('#notebook-container');\n",
       "if (notebookContainer) {{\n",
       "    x.observe(notebookContainer, {childList: true});\n",
       "}}\n",
       "\n",
       "// Listen for the clearing of the current output cell\n",
       "var outputEl = gd.closest('.output');\n",
       "if (outputEl) {{\n",
       "    x.observe(outputEl, {childList: true});\n",
       "}}\n",
       "\n",
       "                        })                };                });            </script>        </div>"
      ]
     },
     "metadata": {},
     "output_type": "display_data"
    }
   ],
   "source": [
    "fig = px.bar(cluster_events.query('event_name !=\"tips_show\"'), \n",
    "             x='event_name', \n",
    "             y='quantity', \n",
    "             color='cluster', \n",
    "             title='Типы событий в разрезе кластеров без учета tips_show',\n",
    "             labels=dict(quantity=\"Кластер\", object_type=\"Тип события\"))\n",
    "fig.update_xaxes(tickangle=30)\n",
    "fig.show()\n"
   ]
  },
  {
   "cell_type": "markdown",
   "metadata": {},
   "source": [
    "Какие пользователи часто делают целевое событие:\n",
    "\n",
    "те, кто часто смотрят фото объявлений,\n",
    "\n",
    "ищут обьявление в основном по каналу search_1, да и в целом больше пользуются поиском по сайту\n",
    "\n",
    "не очень часто открывают карточку обьявлений\n",
    "\n",
    "чаще открывают карту размещенных обьявлений\n"
   ]
  },
  {
   "cell_type": "markdown",
   "metadata": {},
   "source": [
    "**Вывод:**\n",
    "\n",
    "\n",
    "\n",
    "***Кластер 0***\n",
    "- больший кластер (3344 пользователей)\n",
    "- средняя продолжительность сесии высокая, около 22.4 минут\n",
    "- количество событий в сессию высокое, 21 события\n",
    "- конверсия высокая - 2.1\n",
    "- пользователи возвращаются в приложение реже (особенно пришедшие на 3 неделе, 21-27 октября)\n",
    "- часто смотрят фото объявления, ищут обьявления в основном по каналу search_1, да и в целом больше пользуются поиском по сайту, не очень часто открывают карточку обьявлений, чаще открывают карту размещенных обьявлений, добавляют в избранное примерно равнозначно с пользователями из другого кластера\n",
    "\n",
    "\n",
    "\n",
    "***Кластер 1***\n",
    "- меньший кластер (905 пользователя)\n",
    "- средняя продолжительность сесии низкая, около 6.6 минут\n",
    "- количество событий в сессию низкое, 6.5 события\n",
    "- конверсия низкая - 0.5\n",
    "- пользователи возвращаются в приложение чаще(особенно те, кто пришел в 1 неделю наших наблюдений 7-13 октября)\n",
    "- часто открывают карточку обьявлений, не так часто просматривают фото, не так часто смотрят карту, реже пользуются поиском по сайту, добавляют в избранное примерно равнозначно с пользователями из другого кластера\n"
   ]
  },
  {
   "cell_type": "markdown",
   "metadata": {},
   "source": [
    "### Проверим статистические гипотезы\n",
    "Сформулируем гипотезы и проведем статистический тест.\n",
    "\n",
    "   #### Конверсия в просмотры контактов у пользователей, пришедших из яндекс, и пользователей, пришедших из гугл, различается\n",
    "    \n",
    "  "
   ]
  },
  {
   "cell_type": "markdown",
   "metadata": {},
   "source": [
    "Сформулируем гипотезы:\n",
    "\n",
    "- Нулевая гипотеза H₀: Конверсия в просмотры контактов у пользователей, пришедших из яндекс, и пользователей, пишедших из гугл, одинаковая\n",
    "\n",
    "- Альтернативная гипотеза H₁: Конверсия в просмотры контактов у пользователей, пришедших из яндекс, и пользователей, пишедших из гугл, различается"
   ]
  },
  {
   "cell_type": "code",
   "execution_count": 124,
   "metadata": {},
   "outputs": [
    {
     "data": {
      "text/plain": [
       "source\n",
       "google    1119\n",
       "yandex    1911\n",
       "Name: user_id, dtype: int64"
      ]
     },
     "execution_count": 124,
     "metadata": {},
     "output_type": "execute_result"
    }
   ],
   "source": [
    "# отберем пользователей только из яндекса и гугла\n",
    "users_count_by_source = df.query('source !=\"other\"').groupby('source')['user_id'].nunique()\n",
    "users_count_by_source"
   ]
  },
  {
   "cell_type": "code",
   "execution_count": 125,
   "metadata": {
    "scrolled": false
   },
   "outputs": [
    {
     "data": {
      "text/html": [
       "<div>\n",
       "<style scoped>\n",
       "    .dataframe tbody tr th:only-of-type {\n",
       "        vertical-align: middle;\n",
       "    }\n",
       "\n",
       "    .dataframe tbody tr th {\n",
       "        vertical-align: top;\n",
       "    }\n",
       "\n",
       "    .dataframe thead th {\n",
       "        text-align: right;\n",
       "    }\n",
       "</style>\n",
       "<table border=\"1\" class=\"dataframe\">\n",
       "  <thead>\n",
       "    <tr style=\"text-align: right;\">\n",
       "      <th>event_name</th>\n",
       "      <th>source</th>\n",
       "      <th>contacts_show</th>\n",
       "    </tr>\n",
       "  </thead>\n",
       "  <tbody>\n",
       "    <tr>\n",
       "      <th>0</th>\n",
       "      <td>google</td>\n",
       "      <td>265</td>\n",
       "    </tr>\n",
       "    <tr>\n",
       "      <th>1</th>\n",
       "      <td>yandex</td>\n",
       "      <td>469</td>\n",
       "    </tr>\n",
       "  </tbody>\n",
       "</table>\n",
       "</div>"
      ],
      "text/plain": [
       "event_name  source  contacts_show\n",
       "0           google            265\n",
       "1           yandex            469"
      ]
     },
     "metadata": {},
     "output_type": "display_data"
    }
   ],
   "source": [
    "# соберем таблицу с нужными данными\n",
    "users_by_events = df.query('event_name == \"contacts_show\" and source !=\"other\"'\n",
    "                          ).pivot_table(index='source',columns='event_name', values='user_id',\n",
    "                                        aggfunc='nunique').reset_index()\n",
    "display(users_by_events)\n"
   ]
  },
  {
   "cell_type": "code",
   "execution_count": 128,
   "metadata": {},
   "outputs": [
    {
     "name": "stdout",
     "output_type": "stream",
     "text": [
      "p-значение:  0.5937462237986679\n",
      "Не получилось отвергнуть нулевую гипотезу, нет оснований считать доли разными\n"
     ]
    }
   ],
   "source": [
    "alpha = 0.05 # критический уровень статистической значимости\n",
    "\n",
    "orders = np.array([users_by_events.loc[0]['contacts_show'], users_by_events.loc[1]['contacts_show']])\n",
    "trials = np.array([users_count_by_source.loc['google'], users_count_by_source.loc['yandex']])\n",
    "#orders = np.array([478, 275])\n",
    "#trials = np.array([1934, 1129])\n",
    "\n",
    "\n",
    "# конверсия в яндекс:\n",
    "p1 = orders[0]/trials[0]\n",
    " \n",
    "# конверсия во гугл:\n",
    "p2 = orders[1]/trials[1]\n",
    " \n",
    "# пропорция успехов в комбинированном датасете:\n",
    "p_combined = (orders[0] + orders[1]) / (trials[0] + trials[1])\n",
    " \n",
    "# разница пропорций в датасетах\n",
    "difference = p1 - p2\n",
    " \n",
    "# считаем статистику в ст.отклонениях стандартного нормального распределения\n",
    "z_value = difference / mth.sqrt(p_combined * (1 - p_combined) * (1/trials[0] + 1/trials[1]))\n",
    " \n",
    "# задаем стандартное нормальное распределение (среднее 0, ст.отклонение 1)\n",
    "distr = st.norm(0, 1) \n",
    " \n",
    "p_value = (1 - distr.cdf(abs(z_value))) * 2\n",
    " \n",
    "print('p-значение: ', p_value)\n",
    " \n",
    "if (p_value < alpha):\n",
    "    print(\"Отвергаем нулевую гипотезу: между долями есть значимая разница\")\n",
    "else:\n",
    "    print(\"Не получилось отвергнуть нулевую гипотезу, нет оснований считать доли разными\")"
   ]
  },
  {
   "cell_type": "markdown",
   "metadata": {},
   "source": [
    "Гипотеза, что \"Конверсия в просмотры контактов у пользователей, пришедших из яндекс, и пользователей, пришедших из гугл, различается\" не подтвердилась"
   ]
  },
  {
   "cell_type": "markdown",
   "metadata": {},
   "source": [
    "####  Конверсия в добавление объявления в избранное у пользователей, пришедших из яндекс, и пользователей, пишедших из гугл, разная"
   ]
  },
  {
   "cell_type": "markdown",
   "metadata": {},
   "source": [
    "Сформулируем гипотезы:\n",
    "\n",
    "- Нулевая гипотеза H₀: Конверсия в добавление объявления в избранное у пользователей, пришедших из яндекс, и пользователей, пишедших из гугл, одинаковая\n",
    "\n",
    "- Альтернативная гипотеза H₁: Конверсия в добавление объявления в избранное у пользователей, пришедших из яндекс, и пользователей, пишедших из гугл, разная"
   ]
  },
  {
   "cell_type": "code",
   "execution_count": 129,
   "metadata": {},
   "outputs": [
    {
     "data": {
      "text/html": [
       "<div>\n",
       "<style scoped>\n",
       "    .dataframe tbody tr th:only-of-type {\n",
       "        vertical-align: middle;\n",
       "    }\n",
       "\n",
       "    .dataframe tbody tr th {\n",
       "        vertical-align: top;\n",
       "    }\n",
       "\n",
       "    .dataframe thead th {\n",
       "        text-align: right;\n",
       "    }\n",
       "</style>\n",
       "<table border=\"1\" class=\"dataframe\">\n",
       "  <thead>\n",
       "    <tr style=\"text-align: right;\">\n",
       "      <th></th>\n",
       "      <th>source</th>\n",
       "      <th>total_users</th>\n",
       "    </tr>\n",
       "  </thead>\n",
       "  <tbody>\n",
       "    <tr>\n",
       "      <th>0</th>\n",
       "      <td>google</td>\n",
       "      <td>1129</td>\n",
       "    </tr>\n",
       "    <tr>\n",
       "      <th>1</th>\n",
       "      <td>other</td>\n",
       "      <td>1230</td>\n",
       "    </tr>\n",
       "    <tr>\n",
       "      <th>2</th>\n",
       "      <td>yandex</td>\n",
       "      <td>1934</td>\n",
       "    </tr>\n",
       "  </tbody>\n",
       "</table>\n",
       "</div>"
      ],
      "text/plain": [
       "   source  total_users\n",
       "0  google         1129\n",
       "1   other         1230\n",
       "2  yandex         1934"
      ]
     },
     "execution_count": 129,
     "metadata": {},
     "output_type": "execute_result"
    }
   ],
   "source": [
    "# соберем в таблицу общее количество пользователей по источникам\n",
    "total_users = sources.groupby('source', as_index=False)\\\n",
    ".count()\\\n",
    ".rename(columns={'user_id':'total_users'})\n",
    "total_users"
   ]
  },
  {
   "cell_type": "code",
   "execution_count": 130,
   "metadata": {},
   "outputs": [
    {
     "data": {
      "text/html": [
       "<div>\n",
       "<style scoped>\n",
       "    .dataframe tbody tr th:only-of-type {\n",
       "        vertical-align: middle;\n",
       "    }\n",
       "\n",
       "    .dataframe tbody tr th {\n",
       "        vertical-align: top;\n",
       "    }\n",
       "\n",
       "    .dataframe thead th {\n",
       "        text-align: right;\n",
       "    }\n",
       "</style>\n",
       "<table border=\"1\" class=\"dataframe\">\n",
       "  <thead>\n",
       "    <tr style=\"text-align: right;\">\n",
       "      <th></th>\n",
       "      <th>source</th>\n",
       "      <th>favorite_users</th>\n",
       "    </tr>\n",
       "  </thead>\n",
       "  <tbody>\n",
       "    <tr>\n",
       "      <th>0</th>\n",
       "      <td>google</td>\n",
       "      <td>113</td>\n",
       "    </tr>\n",
       "    <tr>\n",
       "      <th>1</th>\n",
       "      <td>other</td>\n",
       "      <td>72</td>\n",
       "    </tr>\n",
       "    <tr>\n",
       "      <th>2</th>\n",
       "      <td>yandex</td>\n",
       "      <td>153</td>\n",
       "    </tr>\n",
       "  </tbody>\n",
       "</table>\n",
       "</div>"
      ],
      "text/plain": [
       "   source  favorite_users\n",
       "0  google             113\n",
       "1   other              72\n",
       "2  yandex             153"
      ]
     },
     "execution_count": 130,
     "metadata": {},
     "output_type": "execute_result"
    }
   ],
   "source": [
    "# соберем в таблицу пользователей, добавившими объявление в избранное\n",
    "users_add_favorite = df.query('event_name==\"favorites_add\"')\\\n",
    ".groupby(['source'], as_index=False).agg({'user_id':'nunique'})\\\n",
    ".rename(columns={'user_id':'favorite_users'})\n",
    "users_add_favorite"
   ]
  },
  {
   "cell_type": "code",
   "execution_count": 131,
   "metadata": {
    "scrolled": true
   },
   "outputs": [
    {
     "data": {
      "text/html": [
       "<div>\n",
       "<style scoped>\n",
       "    .dataframe tbody tr th:only-of-type {\n",
       "        vertical-align: middle;\n",
       "    }\n",
       "\n",
       "    .dataframe tbody tr th {\n",
       "        vertical-align: top;\n",
       "    }\n",
       "\n",
       "    .dataframe thead th {\n",
       "        text-align: right;\n",
       "    }\n",
       "</style>\n",
       "<table border=\"1\" class=\"dataframe\">\n",
       "  <thead>\n",
       "    <tr style=\"text-align: right;\">\n",
       "      <th></th>\n",
       "      <th>source</th>\n",
       "      <th>favorite_users</th>\n",
       "      <th>total_users</th>\n",
       "    </tr>\n",
       "  </thead>\n",
       "  <tbody>\n",
       "    <tr>\n",
       "      <th>0</th>\n",
       "      <td>google</td>\n",
       "      <td>113</td>\n",
       "      <td>1129</td>\n",
       "    </tr>\n",
       "    <tr>\n",
       "      <th>1</th>\n",
       "      <td>other</td>\n",
       "      <td>72</td>\n",
       "      <td>1230</td>\n",
       "    </tr>\n",
       "    <tr>\n",
       "      <th>2</th>\n",
       "      <td>yandex</td>\n",
       "      <td>153</td>\n",
       "      <td>1934</td>\n",
       "    </tr>\n",
       "  </tbody>\n",
       "</table>\n",
       "</div>"
      ],
      "text/plain": [
       "   source  favorite_users  total_users\n",
       "0  google             113         1129\n",
       "1   other              72         1230\n",
       "2  yandex             153         1934"
      ]
     },
     "execution_count": 131,
     "metadata": {},
     "output_type": "execute_result"
    }
   ],
   "source": [
    "# объединим датасеты\n",
    "users_add_favorite = pd.merge(users_add_favorite, total_users, on='source')\n",
    "\n",
    "users_add_favorite"
   ]
  },
  {
   "cell_type": "code",
   "execution_count": 132,
   "metadata": {
    "scrolled": false
   },
   "outputs": [
    {
     "name": "stdout",
     "output_type": "stream",
     "text": [
      "p-значение:  0.04670658915936565\n",
      "Отвергаем нулевую гипотезу: между долями есть значимая разница\n"
     ]
    }
   ],
   "source": [
    "alpha = 0.05 # критический уровень статистической значимости\n",
    "\n",
    "\n",
    "orders = np.array([users_add_favorite.loc[0]['favorite_users'], users_add_favorite.loc[2]['favorite_users']])\n",
    "trials = np.array([users_add_favorite.loc[0]['total_users'], users_add_favorite.loc[2]['total_users']])\n",
    "\n",
    "\n",
    "#orders = np.array([113, 153])\n",
    "#trials = np.array([1129, 1934])\n",
    "\n",
    "# конверсия в яндекс:\n",
    "p1 = orders[0]/trials[0]\n",
    " \n",
    "# конверсия во гугл:\n",
    "p2 = orders[1]/trials[1]\n",
    " \n",
    "# пропорция успехов в комбинированном датасете:\n",
    "p_combined = (orders[0] + orders[1]) / (trials[0] + trials[1])\n",
    " \n",
    "# разница пропорций в датасетах\n",
    "difference = p1 - p2\n",
    " \n",
    "# считаем статистику в ст.отклонениях стандартного нормального распределения\n",
    "z_value = difference / mth.sqrt(p_combined * (1 - p_combined) * (1/trials[0] + 1/trials[1]))\n",
    " \n",
    "# задаем стандартное нормальное распределение (среднее 0, ст.отклонение 1)\n",
    "distr = st.norm(0, 1) \n",
    " \n",
    "p_value = (1 - distr.cdf(abs(z_value))) * 2\n",
    " \n",
    "print('p-значение: ', p_value)\n",
    " \n",
    "if (p_value < alpha):\n",
    "    print(\"Отвергаем нулевую гипотезу: между долями есть значимая разница\")\n",
    "else:\n",
    "    print(\"Не получилось отвергнуть нулевую гипотезу, нет оснований считать доли разными\")"
   ]
  },
  {
   "cell_type": "markdown",
   "metadata": {},
   "source": [
    "Гипотезу, что конверсия в добавление объявления в избранное у пользователей, пришедших из яндекс, и пользователей, пишедших из гугл, разная, не отвергаем\n",
    "\n",
    "Можем предположить, что у пользователей, пришедших через гугл конверсия в добавление в избранное выше, чем из у пользователей из яндекса\n",
    "Может через яндекс можно по прямой ссылке (баннер например высветился, можно предположить, что у яндекса лучше работает рекомендательная система) выйти в объявление и пользователи на будущее добавляли позицию в избранное. "
   ]
  },
  {
   "cell_type": "markdown",
   "metadata": {},
   "source": [
    "## Выводы и рекомендации\n",
    "\n",
    "**общие выводы**\n",
    "- У нас есть 3 источника траффика: яндекс, гугл и остальные, из яндекса приходит больше всего пользователей\n",
    "\n",
    "- Система рекомендаций работает очень активно - в логе больше всего событий \"пользователь увидел рекомендованные объявления\". Самые частые пользовательские события - просмотр фото и открытие карточки объявления. Самые редкие пользовательские события - различные поисковые запросы, звонок по номеру телефона на карточке объявления и клик по по рекомендованному объявлению\n",
    "\n",
    "- В среднем на пользователя приходится по 17.3 событий\n",
    "\n",
    "- В нашем логе хранятся события с 7 октября 2019 года по 3 ноября 2019 года, это 28 дней или 4 недели. Вполне цикличные пики и падения в рамках недель, в начале недели активность выше, чем под конец\n",
    "\n",
    "- Показатели удержания не очень утешительные: уже на второй неделе остается в лучшем случе 17% пользователей, до 4 доходит лишь 6%\n",
    "\n",
    "\n",
    "\n",
    "**Поделили пользователей на 2 кластера:**\n",
    "\n",
    "***Кластер 0***\n",
    "- больший кластер (3344 пользователей)\n",
    "- средняя продолжительность сесии высокая, около 22.4 минут\n",
    "- количество событий в сессию высокое, 21 события\n",
    "- **конверсия высокая - 2.1**\n",
    "- пользователи возвращаются в приложение реже (особенно пришедшие на 3 неделе, 21-27 октября)\n",
    "- часто смотрят фото объявления, ищут обьявления в основном по каналу search_1, да и в целом больше пользуются поиском по сайту, не очень часто открывают карточку обьявлений, чаще открывают карту размещенных обьявлений, добавляют в избранное примерно равнозначно с пользователями из другого кластера\n",
    "\n",
    "\n",
    "\n",
    "***Кластер 1***\n",
    "- меньший кластер (905 пользователя)\n",
    "- средняя продолжительность сесии низкая, около 6.6 минут\n",
    "- количество событий в сессию низкое, 6.5 события\n",
    "- **конверсия низкая - 0.5**\n",
    "- пользователи возвращаются в приложение чаще(особенно те, кто пришел в 1 неделю наших наблюдений 7-13 октября)\n",
    "- часто открывают карточку обьявлений, не так часто просматривают фото, не так часто смотрят карту, реже пользуются поиском по сайту, добавляют в избранное примерно равнозначно с пользователями из другого кластера\n",
    "\n",
    "\n",
    "Оснований считать, что конверсия в целевое действие у пользователей, пришедших из яндекса, и пользователей, пришедших из гугл, различается - нет\n",
    "\n",
    "Гипотезу, что конверсия в добавление объявления в избранное у пользователей, пришедших из яндекс, и пользователей, пишедших из гугл, разная, не отвергаем. Можем предположить, что у пользователей, пришедших через гугл конверсия в добавление в избранное выше, чем из у пользователей из яндекса.\n",
    "\n",
    "\n",
    "**Рекомендации:**\n",
    "\n",
    "- сконцентрироваться на удержании пользователей, которые больше времени проводят в приложении и ведут себя более активно\n",
    "- повышать активность пользователей в просмотр фото обьявления, поиск по сайту и просмотр карты размещенных обьявлений"
   ]
  },
  {
   "cell_type": "markdown",
   "metadata": {},
   "source": [
    "**! что нужно поправить в процессе сбора данных !**\n",
    "\n",
    "нужно бы ввести события start_session end_session, чтобы не пришлось вручную с погрешностью рассчитывать\n",
    "\n",
    "contacts_show и show_contacts нужно маркировать как одно событие\n"
   ]
  },
  {
   "cell_type": "markdown",
   "metadata": {},
   "source": [
    "# Презентация\n",
    "\n",
    " https://docs.google.com/presentation/d/1ZO8T65H4D8EcsZbVeY_p7xF1d0Xnbv5V6CHdcGLFSdM/edit?usp=sharing"
   ]
  },
  {
   "cell_type": "markdown",
   "metadata": {},
   "source": [
    "# Дашборд\n",
    "\n",
    "https://public.tableau.com/app/profile/sofia2847/viz/_16501942213580/Dashboard1?publish=yes"
   ]
  }
 ],
 "metadata": {
  "ExecuteTimeLog": [
   {
    "duration": 1519,
    "start_time": "2022-03-10T08:00:49.419Z"
   },
   {
    "duration": 118,
    "start_time": "2022-03-10T08:02:25.994Z"
   },
   {
    "duration": 114,
    "start_time": "2022-03-10T08:24:58.333Z"
   },
   {
    "duration": 14,
    "start_time": "2022-03-10T08:34:25.924Z"
   },
   {
    "duration": 18,
    "start_time": "2022-03-10T08:45:45.398Z"
   },
   {
    "duration": 16,
    "start_time": "2022-03-10T08:45:49.719Z"
   },
   {
    "duration": 2006,
    "start_time": "2022-03-10T16:21:08.541Z"
   },
   {
    "duration": 180,
    "start_time": "2022-03-10T16:21:10.550Z"
   },
   {
    "duration": 24,
    "start_time": "2022-03-10T16:21:11.966Z"
   },
   {
    "duration": 4,
    "start_time": "2022-03-10T16:23:07.469Z"
   },
   {
    "duration": 21,
    "start_time": "2022-03-10T16:23:09.340Z"
   },
   {
    "duration": 1036,
    "start_time": "2022-03-10T16:27:23.947Z"
   },
   {
    "duration": 19,
    "start_time": "2022-03-10T16:27:43.990Z"
   },
   {
    "duration": 23,
    "start_time": "2022-03-10T16:28:50.029Z"
   },
   {
    "duration": 29,
    "start_time": "2022-03-10T16:40:28.815Z"
   },
   {
    "duration": 35,
    "start_time": "2022-03-10T16:42:03.540Z"
   },
   {
    "duration": 6,
    "start_time": "2022-03-10T16:42:06.632Z"
   },
   {
    "duration": 1538,
    "start_time": "2022-03-11T08:37:08.171Z"
   },
   {
    "duration": 131,
    "start_time": "2022-03-11T08:37:09.711Z"
   },
   {
    "duration": 3,
    "start_time": "2022-03-11T08:37:09.844Z"
   },
   {
    "duration": 19,
    "start_time": "2022-03-11T08:37:09.849Z"
   },
   {
    "duration": 452,
    "start_time": "2022-03-11T08:37:09.869Z"
   },
   {
    "duration": 12,
    "start_time": "2022-03-11T08:37:10.323Z"
   },
   {
    "duration": 16,
    "start_time": "2022-03-11T08:37:10.714Z"
   },
   {
    "duration": 40,
    "start_time": "2022-03-11T08:37:12.050Z"
   },
   {
    "duration": 33,
    "start_time": "2022-03-11T08:37:13.146Z"
   },
   {
    "duration": 1346,
    "start_time": "2022-03-11T12:28:26.989Z"
   },
   {
    "duration": 106,
    "start_time": "2022-03-11T12:28:28.337Z"
   },
   {
    "duration": 3,
    "start_time": "2022-03-11T12:28:28.444Z"
   },
   {
    "duration": 18,
    "start_time": "2022-03-11T12:28:28.448Z"
   },
   {
    "duration": 286,
    "start_time": "2022-03-11T12:28:28.467Z"
   },
   {
    "duration": 12,
    "start_time": "2022-03-11T12:28:29.559Z"
   },
   {
    "duration": 16,
    "start_time": "2022-03-11T12:28:29.921Z"
   },
   {
    "duration": 32,
    "start_time": "2022-03-11T12:28:30.821Z"
   },
   {
    "duration": 19,
    "start_time": "2022-03-11T12:28:31.774Z"
   },
   {
    "duration": 26,
    "start_time": "2022-03-11T12:28:49.527Z"
   },
   {
    "duration": 50,
    "start_time": "2022-03-11T12:31:11.863Z"
   },
   {
    "duration": 12,
    "start_time": "2022-03-11T12:43:25.343Z"
   },
   {
    "duration": 6,
    "start_time": "2022-03-11T12:43:54.796Z"
   },
   {
    "duration": 3422,
    "start_time": "2022-03-11T12:44:30.846Z"
   },
   {
    "duration": 5,
    "start_time": "2022-03-11T12:44:42.008Z"
   },
   {
    "duration": 10,
    "start_time": "2022-03-11T12:47:18.620Z"
   },
   {
    "duration": 134,
    "start_time": "2022-03-11T13:35:28.972Z"
   },
   {
    "duration": 434,
    "start_time": "2022-03-11T13:35:35.857Z"
   },
   {
    "duration": 401,
    "start_time": "2022-03-11T13:38:56.317Z"
   },
   {
    "duration": 4,
    "start_time": "2022-03-11T13:46:44.053Z"
   },
   {
    "duration": 103,
    "start_time": "2022-03-11T13:46:44.487Z"
   },
   {
    "duration": 3,
    "start_time": "2022-03-11T13:46:45.658Z"
   },
   {
    "duration": 15,
    "start_time": "2022-03-11T13:46:46.221Z"
   },
   {
    "duration": 17,
    "start_time": "2022-03-11T13:46:46.829Z"
   },
   {
    "duration": 11,
    "start_time": "2022-03-11T13:46:47.538Z"
   },
   {
    "duration": 15,
    "start_time": "2022-03-11T13:46:47.949Z"
   },
   {
    "duration": 30,
    "start_time": "2022-03-11T13:46:48.973Z"
   },
   {
    "duration": 2,
    "start_time": "2022-03-11T13:46:50.670Z"
   },
   {
    "duration": 10,
    "start_time": "2022-03-11T13:46:52.867Z"
   },
   {
    "duration": 6,
    "start_time": "2022-03-11T13:46:54.587Z"
   },
   {
    "duration": 4,
    "start_time": "2022-03-11T13:46:55.258Z"
   },
   {
    "duration": 25,
    "start_time": "2022-03-11T13:46:56.929Z"
   },
   {
    "duration": 89,
    "start_time": "2022-03-11T13:47:00.444Z"
   },
   {
    "duration": 1146,
    "start_time": "2022-03-11T13:47:06.096Z"
   },
   {
    "duration": 2230,
    "start_time": "2022-03-18T10:16:10.608Z"
   },
   {
    "duration": 125,
    "start_time": "2022-03-18T10:16:12.840Z"
   },
   {
    "duration": 3,
    "start_time": "2022-03-18T10:16:12.967Z"
   },
   {
    "duration": 47,
    "start_time": "2022-03-18T10:16:12.972Z"
   },
   {
    "duration": 66,
    "start_time": "2022-03-18T10:16:13.021Z"
   },
   {
    "duration": 16,
    "start_time": "2022-03-18T10:16:13.100Z"
   },
   {
    "duration": 34,
    "start_time": "2022-03-18T10:16:13.118Z"
   },
   {
    "duration": 57,
    "start_time": "2022-03-18T10:16:13.154Z"
   },
   {
    "duration": 3,
    "start_time": "2022-03-18T10:16:13.214Z"
   },
   {
    "duration": 19,
    "start_time": "2022-03-18T10:16:13.219Z"
   },
   {
    "duration": 9,
    "start_time": "2022-03-18T10:16:13.240Z"
   },
   {
    "duration": 10,
    "start_time": "2022-03-18T10:16:13.252Z"
   },
   {
    "duration": 55,
    "start_time": "2022-03-18T10:16:13.264Z"
   },
   {
    "duration": 130,
    "start_time": "2022-03-18T10:16:13.320Z"
   },
   {
    "duration": 140,
    "start_time": "2022-03-18T10:16:13.452Z"
   },
   {
    "duration": 0,
    "start_time": "2022-03-18T10:16:13.594Z"
   },
   {
    "duration": 22,
    "start_time": "2022-03-18T10:27:55.802Z"
   },
   {
    "duration": 21,
    "start_time": "2022-03-18T10:28:05.367Z"
   },
   {
    "duration": 19,
    "start_time": "2022-03-18T10:28:39.377Z"
   },
   {
    "duration": 22,
    "start_time": "2022-03-18T10:31:20.156Z"
   },
   {
    "duration": 2534,
    "start_time": "2022-03-18T10:48:10.180Z"
   },
   {
    "duration": 5,
    "start_time": "2022-03-18T16:00:03.037Z"
   },
   {
    "duration": 4,
    "start_time": "2022-03-18T16:00:14.609Z"
   },
   {
    "duration": 122,
    "start_time": "2022-03-18T16:00:14.756Z"
   },
   {
    "duration": 3,
    "start_time": "2022-03-18T16:00:15.071Z"
   },
   {
    "duration": 28,
    "start_time": "2022-03-18T16:00:15.210Z"
   },
   {
    "duration": 20,
    "start_time": "2022-03-18T16:00:15.379Z"
   },
   {
    "duration": 12,
    "start_time": "2022-03-18T16:00:15.509Z"
   },
   {
    "duration": 22,
    "start_time": "2022-03-18T16:00:15.660Z"
   },
   {
    "duration": 36,
    "start_time": "2022-03-18T16:00:15.960Z"
   },
   {
    "duration": 3,
    "start_time": "2022-03-18T16:00:17.258Z"
   },
   {
    "duration": 12,
    "start_time": "2022-03-18T16:00:17.733Z"
   },
   {
    "duration": 6,
    "start_time": "2022-03-18T16:00:18.056Z"
   },
   {
    "duration": 5,
    "start_time": "2022-03-18T16:00:18.209Z"
   },
   {
    "duration": 27,
    "start_time": "2022-03-18T16:00:19.167Z"
   },
   {
    "duration": 111,
    "start_time": "2022-03-18T16:00:20.575Z"
   },
   {
    "duration": 5,
    "start_time": "2022-03-18T16:00:23.001Z"
   },
   {
    "duration": 4,
    "start_time": "2022-03-18T16:00:36.202Z"
   },
   {
    "duration": 5,
    "start_time": "2022-03-18T16:03:36.030Z"
   },
   {
    "duration": 1820,
    "start_time": "2022-04-05T07:50:54.640Z"
   },
   {
    "duration": 252,
    "start_time": "2022-04-05T07:50:56.462Z"
   },
   {
    "duration": 3,
    "start_time": "2022-04-05T07:51:04.546Z"
   },
   {
    "duration": 24,
    "start_time": "2022-04-05T07:51:06.172Z"
   },
   {
    "duration": 24,
    "start_time": "2022-04-05T07:58:51.657Z"
   },
   {
    "duration": 57,
    "start_time": "2022-04-05T10:07:07.709Z"
   },
   {
    "duration": 11,
    "start_time": "2022-04-05T10:07:08.562Z"
   },
   {
    "duration": 19,
    "start_time": "2022-04-05T10:07:09.261Z"
   },
   {
    "duration": 37,
    "start_time": "2022-04-05T10:07:10.719Z"
   },
   {
    "duration": 3,
    "start_time": "2022-04-05T10:07:11.909Z"
   },
   {
    "duration": 12,
    "start_time": "2022-04-05T10:07:17.025Z"
   },
   {
    "duration": 6,
    "start_time": "2022-04-05T10:07:17.784Z"
   },
   {
    "duration": 5,
    "start_time": "2022-04-05T10:07:20.245Z"
   },
   {
    "duration": 115,
    "start_time": "2022-04-05T10:10:13.750Z"
   },
   {
    "duration": 181,
    "start_time": "2022-04-05T10:11:24.025Z"
   },
   {
    "duration": 190,
    "start_time": "2022-04-05T10:12:44.712Z"
   },
   {
    "duration": 7,
    "start_time": "2022-04-05T10:17:33.311Z"
   },
   {
    "duration": 17,
    "start_time": "2022-04-05T10:18:45.000Z"
   },
   {
    "duration": 199,
    "start_time": "2022-04-05T10:26:59.545Z"
   },
   {
    "duration": 21,
    "start_time": "2022-04-05T10:31:06.021Z"
   },
   {
    "duration": 17,
    "start_time": "2022-04-05T10:31:08.418Z"
   },
   {
    "duration": 12,
    "start_time": "2022-04-05T10:31:11.709Z"
   },
   {
    "duration": 14,
    "start_time": "2022-04-05T10:31:11.940Z"
   },
   {
    "duration": 26,
    "start_time": "2022-04-05T10:31:19.356Z"
   },
   {
    "duration": 28,
    "start_time": "2022-04-05T10:38:49.570Z"
   },
   {
    "duration": 24,
    "start_time": "2022-04-05T10:38:55.874Z"
   },
   {
    "duration": 6,
    "start_time": "2022-04-05T10:45:28.385Z"
   },
   {
    "duration": 20,
    "start_time": "2022-04-05T10:48:03.491Z"
   },
   {
    "duration": 12,
    "start_time": "2022-04-05T10:49:32.562Z"
   },
   {
    "duration": 10,
    "start_time": "2022-04-05T10:49:51.042Z"
   },
   {
    "duration": 8,
    "start_time": "2022-04-05T10:50:45.380Z"
   },
   {
    "duration": 13,
    "start_time": "2022-04-05T10:50:56.489Z"
   },
   {
    "duration": 4,
    "start_time": "2022-04-05T10:51:29.418Z"
   },
   {
    "duration": 107,
    "start_time": "2022-04-05T10:51:29.426Z"
   },
   {
    "duration": 4,
    "start_time": "2022-04-05T10:51:29.535Z"
   },
   {
    "duration": 32,
    "start_time": "2022-04-05T10:51:29.540Z"
   },
   {
    "duration": 24,
    "start_time": "2022-04-05T10:51:29.574Z"
   },
   {
    "duration": 16,
    "start_time": "2022-04-05T10:51:29.600Z"
   },
   {
    "duration": 12,
    "start_time": "2022-04-05T10:51:29.638Z"
   },
   {
    "duration": 17,
    "start_time": "2022-04-05T10:51:29.651Z"
   },
   {
    "duration": 26,
    "start_time": "2022-04-05T10:51:29.670Z"
   },
   {
    "duration": 8,
    "start_time": "2022-04-05T10:51:29.698Z"
   },
   {
    "duration": 14,
    "start_time": "2022-04-05T10:51:29.740Z"
   },
   {
    "duration": 5,
    "start_time": "2022-04-05T10:51:29.756Z"
   },
   {
    "duration": 183,
    "start_time": "2022-04-05T10:51:29.763Z"
   },
   {
    "duration": 24,
    "start_time": "2022-04-05T10:51:29.948Z"
   },
   {
    "duration": 6,
    "start_time": "2022-04-05T10:51:29.974Z"
   },
   {
    "duration": 16,
    "start_time": "2022-04-05T10:51:29.982Z"
   },
   {
    "duration": 88,
    "start_time": "2022-04-05T10:51:30.000Z"
   },
   {
    "duration": 6,
    "start_time": "2022-04-05T10:52:18.606Z"
   },
   {
    "duration": 25,
    "start_time": "2022-04-05T10:52:38.508Z"
   },
   {
    "duration": 1740,
    "start_time": "2022-04-05T14:07:15.183Z"
   },
   {
    "duration": 3622,
    "start_time": "2022-04-05T14:07:16.925Z"
   },
   {
    "duration": 3,
    "start_time": "2022-04-05T14:07:20.549Z"
   },
   {
    "duration": 31,
    "start_time": "2022-04-05T14:07:20.554Z"
   },
   {
    "duration": 25,
    "start_time": "2022-04-05T14:07:20.586Z"
   },
   {
    "duration": 71,
    "start_time": "2022-04-05T14:07:20.613Z"
   },
   {
    "duration": 12,
    "start_time": "2022-04-05T14:07:20.686Z"
   },
   {
    "duration": 37,
    "start_time": "2022-04-05T14:07:20.699Z"
   },
   {
    "duration": 29,
    "start_time": "2022-04-05T14:07:20.738Z"
   },
   {
    "duration": 8,
    "start_time": "2022-04-05T14:07:20.770Z"
   },
   {
    "duration": 15,
    "start_time": "2022-04-05T14:07:20.780Z"
   },
   {
    "duration": 185,
    "start_time": "2022-04-05T14:07:20.797Z"
   },
   {
    "duration": 5,
    "start_time": "2022-04-05T14:07:20.983Z"
   },
   {
    "duration": 59,
    "start_time": "2022-04-05T14:07:20.989Z"
   },
   {
    "duration": 5,
    "start_time": "2022-04-05T14:07:21.050Z"
   },
   {
    "duration": 17,
    "start_time": "2022-04-05T14:07:21.057Z"
   },
   {
    "duration": 70,
    "start_time": "2022-04-05T14:07:21.076Z"
   },
   {
    "duration": 14,
    "start_time": "2022-04-05T14:20:56.842Z"
   },
   {
    "duration": 5,
    "start_time": "2022-04-05T14:21:26.900Z"
   },
   {
    "duration": 451,
    "start_time": "2022-04-05T14:21:48.656Z"
   },
   {
    "duration": 696,
    "start_time": "2022-04-05T14:22:00.118Z"
   },
   {
    "duration": 225,
    "start_time": "2022-04-05T14:22:15.732Z"
   },
   {
    "duration": 235,
    "start_time": "2022-04-05T14:22:22.779Z"
   },
   {
    "duration": 15,
    "start_time": "2022-04-05T14:22:46.128Z"
   },
   {
    "duration": 114,
    "start_time": "2022-04-05T14:23:13.950Z"
   },
   {
    "duration": 4,
    "start_time": "2022-04-05T14:23:21.234Z"
   },
   {
    "duration": 13,
    "start_time": "2022-04-05T14:23:50.263Z"
   },
   {
    "duration": 14,
    "start_time": "2022-04-05T14:24:03.058Z"
   },
   {
    "duration": 15,
    "start_time": "2022-04-05T14:24:09.691Z"
   },
   {
    "duration": 101,
    "start_time": "2022-04-05T14:50:26.189Z"
   },
   {
    "duration": 25,
    "start_time": "2022-04-05T15:02:38.317Z"
   },
   {
    "duration": 28,
    "start_time": "2022-04-05T15:05:45.460Z"
   },
   {
    "duration": 5,
    "start_time": "2022-04-05T15:07:24.138Z"
   },
   {
    "duration": 27,
    "start_time": "2022-04-05T15:07:50.104Z"
   },
   {
    "duration": 285,
    "start_time": "2022-04-05T15:09:35.338Z"
   },
   {
    "duration": 271,
    "start_time": "2022-04-05T15:09:45.469Z"
   },
   {
    "duration": 304,
    "start_time": "2022-04-05T15:16:00.210Z"
   },
   {
    "duration": 265,
    "start_time": "2022-04-05T15:16:43.079Z"
   },
   {
    "duration": 7,
    "start_time": "2022-04-05T15:17:31.770Z"
   },
   {
    "duration": 271,
    "start_time": "2022-04-05T15:17:50.913Z"
   },
   {
    "duration": 255,
    "start_time": "2022-04-05T15:18:30.745Z"
   },
   {
    "duration": 29,
    "start_time": "2022-04-05T15:20:16.132Z"
   },
   {
    "duration": 2434,
    "start_time": "2022-04-05T15:22:16.658Z"
   },
   {
    "duration": 6,
    "start_time": "2022-04-05T15:22:55.487Z"
   },
   {
    "duration": 533,
    "start_time": "2022-04-05T15:24:27.878Z"
   },
   {
    "duration": 517,
    "start_time": "2022-04-05T15:26:29.307Z"
   },
   {
    "duration": 691,
    "start_time": "2022-04-05T15:26:33.184Z"
   },
   {
    "duration": 778,
    "start_time": "2022-04-05T15:26:43.894Z"
   },
   {
    "duration": 679,
    "start_time": "2022-04-05T15:27:14.679Z"
   },
   {
    "duration": 643,
    "start_time": "2022-04-05T15:27:23.248Z"
   },
   {
    "duration": 657,
    "start_time": "2022-04-05T15:27:33.991Z"
   },
   {
    "duration": 629,
    "start_time": "2022-04-05T15:28:12.907Z"
   },
   {
    "duration": 664,
    "start_time": "2022-04-05T15:28:26.455Z"
   },
   {
    "duration": 1680,
    "start_time": "2022-04-06T07:11:40.311Z"
   },
   {
    "duration": 696,
    "start_time": "2022-04-06T07:11:41.994Z"
   },
   {
    "duration": 3,
    "start_time": "2022-04-06T07:11:42.691Z"
   },
   {
    "duration": 29,
    "start_time": "2022-04-06T07:11:42.697Z"
   },
   {
    "duration": 22,
    "start_time": "2022-04-06T07:11:42.728Z"
   },
   {
    "duration": 60,
    "start_time": "2022-04-06T07:11:42.752Z"
   },
   {
    "duration": 10,
    "start_time": "2022-04-06T07:11:42.814Z"
   },
   {
    "duration": 14,
    "start_time": "2022-04-06T07:11:42.825Z"
   },
   {
    "duration": 23,
    "start_time": "2022-04-06T07:11:42.841Z"
   },
   {
    "duration": 8,
    "start_time": "2022-04-06T07:11:42.866Z"
   },
   {
    "duration": 13,
    "start_time": "2022-04-06T07:11:42.901Z"
   },
   {
    "duration": 4,
    "start_time": "2022-04-06T07:11:42.916Z"
   },
   {
    "duration": 141,
    "start_time": "2022-04-06T07:11:42.922Z"
   },
   {
    "duration": 43,
    "start_time": "2022-04-06T07:11:43.064Z"
   },
   {
    "duration": 27,
    "start_time": "2022-04-06T07:11:43.109Z"
   },
   {
    "duration": 6,
    "start_time": "2022-04-06T07:11:43.137Z"
   },
   {
    "duration": 12,
    "start_time": "2022-04-06T07:11:43.145Z"
   },
   {
    "duration": 58,
    "start_time": "2022-04-06T07:11:43.159Z"
   },
   {
    "duration": 234,
    "start_time": "2022-04-06T07:11:43.218Z"
   },
   {
    "duration": 8,
    "start_time": "2022-04-06T07:11:43.454Z"
   },
   {
    "duration": 7,
    "start_time": "2022-04-06T07:11:43.463Z"
   },
   {
    "duration": 722,
    "start_time": "2022-04-06T07:11:43.472Z"
   },
   {
    "duration": 49,
    "start_time": "2022-04-06T07:11:44.196Z"
   },
   {
    "duration": 39,
    "start_time": "2022-04-06T07:13:27.201Z"
   },
   {
    "duration": 230,
    "start_time": "2022-04-06T07:26:07.106Z"
   },
   {
    "duration": 170,
    "start_time": "2022-04-06T07:26:18.613Z"
   },
   {
    "duration": 147,
    "start_time": "2022-04-06T07:26:25.691Z"
   },
   {
    "duration": 143,
    "start_time": "2022-04-06T07:26:32.279Z"
   },
   {
    "duration": 270,
    "start_time": "2022-04-06T07:26:47.119Z"
   },
   {
    "duration": 146,
    "start_time": "2022-04-06T07:26:51.307Z"
   },
   {
    "duration": 187,
    "start_time": "2022-04-06T07:26:59.194Z"
   },
   {
    "duration": 548,
    "start_time": "2022-04-06T07:27:17.176Z"
   },
   {
    "duration": 557,
    "start_time": "2022-04-06T07:27:32.925Z"
   },
   {
    "duration": 338,
    "start_time": "2022-04-06T07:27:52.747Z"
   },
   {
    "duration": 4,
    "start_time": "2022-04-06T10:22:08.354Z"
   },
   {
    "duration": 112,
    "start_time": "2022-04-06T10:22:08.360Z"
   },
   {
    "duration": 2,
    "start_time": "2022-04-06T10:22:08.474Z"
   },
   {
    "duration": 35,
    "start_time": "2022-04-06T10:22:08.478Z"
   },
   {
    "duration": 23,
    "start_time": "2022-04-06T10:22:08.515Z"
   },
   {
    "duration": 18,
    "start_time": "2022-04-06T10:22:08.539Z"
   },
   {
    "duration": 10,
    "start_time": "2022-04-06T10:22:08.559Z"
   },
   {
    "duration": 39,
    "start_time": "2022-04-06T10:22:08.571Z"
   },
   {
    "duration": 25,
    "start_time": "2022-04-06T10:22:08.612Z"
   },
   {
    "duration": 8,
    "start_time": "2022-04-06T10:22:08.639Z"
   },
   {
    "duration": 18,
    "start_time": "2022-04-06T10:22:08.648Z"
   },
   {
    "duration": 34,
    "start_time": "2022-04-06T10:22:08.667Z"
   },
   {
    "duration": 142,
    "start_time": "2022-04-06T10:22:08.703Z"
   },
   {
    "duration": 2,
    "start_time": "2022-04-06T10:22:08.847Z"
   },
   {
    "duration": 5,
    "start_time": "2022-04-06T10:22:08.850Z"
   },
   {
    "duration": 8,
    "start_time": "2022-04-06T10:22:08.856Z"
   },
   {
    "duration": 45,
    "start_time": "2022-04-06T10:22:08.865Z"
   },
   {
    "duration": 30,
    "start_time": "2022-04-06T10:22:08.912Z"
   },
   {
    "duration": 319,
    "start_time": "2022-04-06T10:22:08.944Z"
   },
   {
    "duration": 7,
    "start_time": "2022-04-06T10:22:09.264Z"
   },
   {
    "duration": 8,
    "start_time": "2022-04-06T10:22:09.273Z"
   },
   {
    "duration": 367,
    "start_time": "2022-04-06T10:22:09.301Z"
   },
   {
    "duration": 47,
    "start_time": "2022-04-06T10:22:09.669Z"
   },
   {
    "duration": 15,
    "start_time": "2022-04-06T10:22:09.720Z"
   },
   {
    "duration": 25,
    "start_time": "2022-04-06T10:22:09.736Z"
   },
   {
    "duration": 135,
    "start_time": "2022-04-06T10:22:09.763Z"
   },
   {
    "duration": 24,
    "start_time": "2022-04-06T10:32:00.420Z"
   },
   {
    "duration": 24,
    "start_time": "2022-04-06T10:33:27.902Z"
   },
   {
    "duration": 33,
    "start_time": "2022-04-06T10:33:38.296Z"
   },
   {
    "duration": 45,
    "start_time": "2022-04-06T10:34:27.391Z"
   },
   {
    "duration": 11,
    "start_time": "2022-04-06T10:35:18.322Z"
   },
   {
    "duration": 14,
    "start_time": "2022-04-06T10:35:37.685Z"
   },
   {
    "duration": 5,
    "start_time": "2022-04-06T16:05:55.587Z"
   },
   {
    "duration": 166,
    "start_time": "2022-04-06T16:05:55.594Z"
   },
   {
    "duration": 3,
    "start_time": "2022-04-06T16:05:55.762Z"
   },
   {
    "duration": 26,
    "start_time": "2022-04-06T16:05:55.768Z"
   },
   {
    "duration": 22,
    "start_time": "2022-04-06T16:05:55.795Z"
   },
   {
    "duration": 18,
    "start_time": "2022-04-06T16:05:55.818Z"
   },
   {
    "duration": 11,
    "start_time": "2022-04-06T16:05:55.838Z"
   },
   {
    "duration": 16,
    "start_time": "2022-04-06T16:05:55.851Z"
   },
   {
    "duration": 57,
    "start_time": "2022-04-06T16:05:55.869Z"
   },
   {
    "duration": 8,
    "start_time": "2022-04-06T16:05:55.930Z"
   },
   {
    "duration": 14,
    "start_time": "2022-04-06T16:05:55.940Z"
   },
   {
    "duration": 5,
    "start_time": "2022-04-06T16:05:55.956Z"
   },
   {
    "duration": 191,
    "start_time": "2022-04-06T16:05:55.962Z"
   },
   {
    "duration": 3,
    "start_time": "2022-04-06T16:05:56.155Z"
   },
   {
    "duration": 5,
    "start_time": "2022-04-06T16:05:56.159Z"
   },
   {
    "duration": 38,
    "start_time": "2022-04-06T16:05:56.166Z"
   },
   {
    "duration": 12,
    "start_time": "2022-04-06T16:05:56.206Z"
   },
   {
    "duration": 27,
    "start_time": "2022-04-06T16:05:56.220Z"
   },
   {
    "duration": 229,
    "start_time": "2022-04-06T16:05:56.249Z"
   },
   {
    "duration": 9,
    "start_time": "2022-04-06T16:05:56.480Z"
   },
   {
    "duration": 8,
    "start_time": "2022-04-06T16:05:56.502Z"
   },
   {
    "duration": 380,
    "start_time": "2022-04-06T16:05:56.512Z"
   },
   {
    "duration": 43,
    "start_time": "2022-04-06T16:05:56.894Z"
   },
   {
    "duration": 16,
    "start_time": "2022-04-06T16:05:56.939Z"
   },
   {
    "duration": 45,
    "start_time": "2022-04-06T16:05:56.957Z"
   },
   {
    "duration": 34,
    "start_time": "2022-04-06T16:05:57.004Z"
   },
   {
    "duration": 72,
    "start_time": "2022-04-06T16:05:57.039Z"
   },
   {
    "duration": 11,
    "start_time": "2022-04-06T16:05:57.115Z"
   },
   {
    "duration": 13,
    "start_time": "2022-04-06T16:05:57.128Z"
   },
   {
    "duration": 13,
    "start_time": "2022-04-06T16:06:24.426Z"
   },
   {
    "duration": 14,
    "start_time": "2022-04-06T16:24:13.570Z"
   },
   {
    "duration": 14,
    "start_time": "2022-04-06T16:24:43.269Z"
   },
   {
    "duration": 1590,
    "start_time": "2022-04-06T16:53:53.084Z"
   },
   {
    "duration": 170,
    "start_time": "2022-04-06T16:53:54.676Z"
   },
   {
    "duration": 3,
    "start_time": "2022-04-06T16:53:54.847Z"
   },
   {
    "duration": 30,
    "start_time": "2022-04-06T16:53:54.851Z"
   },
   {
    "duration": 22,
    "start_time": "2022-04-06T16:53:54.883Z"
   },
   {
    "duration": 63,
    "start_time": "2022-04-06T16:53:54.907Z"
   },
   {
    "duration": 10,
    "start_time": "2022-04-06T16:53:54.971Z"
   },
   {
    "duration": 17,
    "start_time": "2022-04-06T16:53:54.982Z"
   },
   {
    "duration": 27,
    "start_time": "2022-04-06T16:53:55.001Z"
   },
   {
    "duration": 34,
    "start_time": "2022-04-06T16:53:55.030Z"
   },
   {
    "duration": 13,
    "start_time": "2022-04-06T16:53:55.066Z"
   },
   {
    "duration": 7,
    "start_time": "2022-04-06T16:53:55.081Z"
   },
   {
    "duration": 143,
    "start_time": "2022-04-06T16:53:55.090Z"
   },
   {
    "duration": 3,
    "start_time": "2022-04-06T16:53:55.262Z"
   },
   {
    "duration": 5,
    "start_time": "2022-04-06T16:53:55.267Z"
   },
   {
    "duration": 7,
    "start_time": "2022-04-06T16:53:55.273Z"
   },
   {
    "duration": 12,
    "start_time": "2022-04-06T16:53:55.282Z"
   },
   {
    "duration": 29,
    "start_time": "2022-04-06T16:53:55.295Z"
   },
   {
    "duration": 218,
    "start_time": "2022-04-06T16:53:55.325Z"
   },
   {
    "duration": 18,
    "start_time": "2022-04-06T16:53:55.545Z"
   },
   {
    "duration": 5,
    "start_time": "2022-04-06T16:53:55.564Z"
   },
   {
    "duration": 414,
    "start_time": "2022-04-06T16:53:55.571Z"
   },
   {
    "duration": 38,
    "start_time": "2022-04-06T16:53:55.986Z"
   },
   {
    "duration": 17,
    "start_time": "2022-04-06T16:53:56.026Z"
   },
   {
    "duration": 28,
    "start_time": "2022-04-06T16:53:56.063Z"
   },
   {
    "duration": 31,
    "start_time": "2022-04-06T16:53:56.093Z"
   },
   {
    "duration": 2299,
    "start_time": "2022-04-07T12:06:36.956Z"
   },
   {
    "duration": 1021,
    "start_time": "2022-04-07T12:06:39.258Z"
   },
   {
    "duration": 5,
    "start_time": "2022-04-07T12:06:40.282Z"
   },
   {
    "duration": 73,
    "start_time": "2022-04-07T12:06:40.291Z"
   },
   {
    "duration": 42,
    "start_time": "2022-04-07T12:06:40.366Z"
   },
   {
    "duration": 83,
    "start_time": "2022-04-07T12:06:40.410Z"
   },
   {
    "duration": 16,
    "start_time": "2022-04-07T12:06:40.495Z"
   },
   {
    "duration": 48,
    "start_time": "2022-04-07T12:06:40.513Z"
   },
   {
    "duration": 41,
    "start_time": "2022-04-07T12:06:40.563Z"
   },
   {
    "duration": 46,
    "start_time": "2022-04-07T12:06:40.608Z"
   },
   {
    "duration": 19,
    "start_time": "2022-04-07T12:06:40.657Z"
   },
   {
    "duration": 6,
    "start_time": "2022-04-07T12:06:40.678Z"
   },
   {
    "duration": 223,
    "start_time": "2022-04-07T12:06:40.686Z"
   },
   {
    "duration": 32,
    "start_time": "2022-04-07T12:06:40.912Z"
   },
   {
    "duration": 12,
    "start_time": "2022-04-07T12:06:40.948Z"
   },
   {
    "duration": 10,
    "start_time": "2022-04-07T12:06:40.962Z"
   },
   {
    "duration": 14,
    "start_time": "2022-04-07T12:06:40.974Z"
   },
   {
    "duration": 69,
    "start_time": "2022-04-07T12:06:40.990Z"
   },
   {
    "duration": 367,
    "start_time": "2022-04-07T12:06:41.061Z"
   },
   {
    "duration": 20,
    "start_time": "2022-04-07T12:06:41.431Z"
   },
   {
    "duration": 20,
    "start_time": "2022-04-07T12:06:41.453Z"
   },
   {
    "duration": 847,
    "start_time": "2022-04-07T12:06:41.475Z"
   },
   {
    "duration": 64,
    "start_time": "2022-04-07T12:06:42.324Z"
   },
   {
    "duration": 21,
    "start_time": "2022-04-07T12:06:42.390Z"
   },
   {
    "duration": 56,
    "start_time": "2022-04-07T12:06:42.413Z"
   },
   {
    "duration": 45,
    "start_time": "2022-04-07T12:06:42.471Z"
   },
   {
    "duration": 174,
    "start_time": "2022-04-07T12:06:42.518Z"
   },
   {
    "duration": 15,
    "start_time": "2022-04-07T12:06:42.696Z"
   },
   {
    "duration": 18,
    "start_time": "2022-04-07T12:06:42.713Z"
   },
   {
    "duration": 33,
    "start_time": "2022-04-07T12:12:28.397Z"
   },
   {
    "duration": 63,
    "start_time": "2022-04-07T12:12:35.435Z"
   },
   {
    "duration": 53,
    "start_time": "2022-04-07T12:43:16.874Z"
   },
   {
    "duration": 3029,
    "start_time": "2022-04-07T12:43:46.558Z"
   },
   {
    "duration": 52,
    "start_time": "2022-04-07T12:44:09.790Z"
   },
   {
    "duration": 8,
    "start_time": "2022-04-07T12:44:11.439Z"
   },
   {
    "duration": 10,
    "start_time": "2022-04-07T12:47:11.746Z"
   },
   {
    "duration": 112,
    "start_time": "2022-04-07T12:47:57.954Z"
   },
   {
    "duration": 68,
    "start_time": "2022-04-07T12:49:16.217Z"
   },
   {
    "duration": 13,
    "start_time": "2022-04-07T12:49:31.760Z"
   },
   {
    "duration": 13,
    "start_time": "2022-04-07T12:49:38.648Z"
   },
   {
    "duration": 15,
    "start_time": "2022-04-07T12:50:01.448Z"
   },
   {
    "duration": 7,
    "start_time": "2022-04-07T12:50:06.927Z"
   },
   {
    "duration": 52,
    "start_time": "2022-04-07T12:51:42.447Z"
   },
   {
    "duration": 13,
    "start_time": "2022-04-07T12:52:37.631Z"
   },
   {
    "duration": 13,
    "start_time": "2022-04-07T12:52:40.329Z"
   },
   {
    "duration": 13,
    "start_time": "2022-04-07T12:53:19.551Z"
   },
   {
    "duration": 14,
    "start_time": "2022-04-07T12:53:39.921Z"
   },
   {
    "duration": 14,
    "start_time": "2022-04-07T12:58:06.300Z"
   },
   {
    "duration": 13,
    "start_time": "2022-04-07T13:03:51.384Z"
   },
   {
    "duration": 14,
    "start_time": "2022-04-07T13:04:13.185Z"
   },
   {
    "duration": 15,
    "start_time": "2022-04-07T13:04:16.765Z"
   },
   {
    "duration": 8,
    "start_time": "2022-04-07T13:04:29.313Z"
   },
   {
    "duration": 18,
    "start_time": "2022-04-07T13:05:57.765Z"
   },
   {
    "duration": 2883,
    "start_time": "2022-04-07T13:07:35.400Z"
   },
   {
    "duration": 13,
    "start_time": "2022-04-07T13:07:50.774Z"
   },
   {
    "duration": 7,
    "start_time": "2022-04-07T13:07:58.929Z"
   },
   {
    "duration": 2917,
    "start_time": "2022-04-07T13:08:48.447Z"
   },
   {
    "duration": 3,
    "start_time": "2022-04-07T13:09:07.284Z"
   },
   {
    "duration": 7,
    "start_time": "2022-04-07T13:20:08.725Z"
   },
   {
    "duration": 53,
    "start_time": "2022-04-07T13:20:12.321Z"
   },
   {
    "duration": 67,
    "start_time": "2022-04-07T14:37:15.101Z"
   },
   {
    "duration": 2465,
    "start_time": "2022-04-07T14:37:24.760Z"
   },
   {
    "duration": 516,
    "start_time": "2022-04-07T14:37:27.228Z"
   },
   {
    "duration": 4,
    "start_time": "2022-04-07T14:37:27.746Z"
   },
   {
    "duration": 34,
    "start_time": "2022-04-07T14:37:27.753Z"
   },
   {
    "duration": 32,
    "start_time": "2022-04-07T14:37:27.789Z"
   },
   {
    "duration": 85,
    "start_time": "2022-04-07T14:37:27.823Z"
   },
   {
    "duration": 14,
    "start_time": "2022-04-07T14:37:27.911Z"
   },
   {
    "duration": 40,
    "start_time": "2022-04-07T14:37:27.928Z"
   },
   {
    "duration": 38,
    "start_time": "2022-04-07T14:37:27.970Z"
   },
   {
    "duration": 11,
    "start_time": "2022-04-07T14:37:28.012Z"
   },
   {
    "duration": 49,
    "start_time": "2022-04-07T14:37:28.025Z"
   },
   {
    "duration": 5,
    "start_time": "2022-04-07T14:37:28.077Z"
   },
   {
    "duration": 221,
    "start_time": "2022-04-07T14:37:28.085Z"
   },
   {
    "duration": 3,
    "start_time": "2022-04-07T14:37:28.308Z"
   },
   {
    "duration": 20,
    "start_time": "2022-04-07T14:37:28.313Z"
   },
   {
    "duration": 35,
    "start_time": "2022-04-07T14:37:28.335Z"
   },
   {
    "duration": 14,
    "start_time": "2022-04-07T14:37:28.372Z"
   },
   {
    "duration": 36,
    "start_time": "2022-04-07T14:37:28.388Z"
   },
   {
    "duration": 381,
    "start_time": "2022-04-07T14:37:28.426Z"
   },
   {
    "duration": 9,
    "start_time": "2022-04-07T14:37:28.809Z"
   },
   {
    "duration": 8,
    "start_time": "2022-04-07T14:37:28.820Z"
   },
   {
    "duration": 837,
    "start_time": "2022-04-07T14:37:28.830Z"
   },
   {
    "duration": 57,
    "start_time": "2022-04-07T14:37:29.669Z"
   },
   {
    "duration": 41,
    "start_time": "2022-04-07T14:37:29.728Z"
   },
   {
    "duration": 35,
    "start_time": "2022-04-07T14:37:29.771Z"
   },
   {
    "duration": 65,
    "start_time": "2022-04-07T14:37:29.809Z"
   },
   {
    "duration": 145,
    "start_time": "2022-04-07T14:37:29.876Z"
   },
   {
    "duration": 6,
    "start_time": "2022-04-07T14:37:30.025Z"
   },
   {
    "duration": 9,
    "start_time": "2022-04-07T14:37:30.034Z"
   },
   {
    "duration": 79,
    "start_time": "2022-04-07T14:37:30.045Z"
   },
   {
    "duration": 42,
    "start_time": "2022-04-07T14:37:30.127Z"
   },
   {
    "duration": 64,
    "start_time": "2022-04-07T14:37:30.171Z"
   },
   {
    "duration": 32,
    "start_time": "2022-04-07T14:37:30.238Z"
   },
   {
    "duration": 20,
    "start_time": "2022-04-07T14:37:30.272Z"
   },
   {
    "duration": 119,
    "start_time": "2022-04-07T14:38:36.153Z"
   },
   {
    "duration": 27,
    "start_time": "2022-04-07T14:38:50.584Z"
   },
   {
    "duration": 17,
    "start_time": "2022-04-07T14:40:16.727Z"
   },
   {
    "duration": 2327,
    "start_time": "2022-04-08T07:16:23.387Z"
   },
   {
    "duration": 169,
    "start_time": "2022-04-08T07:16:25.717Z"
   },
   {
    "duration": 4,
    "start_time": "2022-04-08T07:16:25.888Z"
   },
   {
    "duration": 49,
    "start_time": "2022-04-08T07:16:25.895Z"
   },
   {
    "duration": 33,
    "start_time": "2022-04-08T07:16:25.946Z"
   },
   {
    "duration": 97,
    "start_time": "2022-04-08T07:16:25.981Z"
   },
   {
    "duration": 15,
    "start_time": "2022-04-08T07:16:26.080Z"
   },
   {
    "duration": 46,
    "start_time": "2022-04-08T07:16:26.097Z"
   },
   {
    "duration": 40,
    "start_time": "2022-04-08T07:16:26.145Z"
   },
   {
    "duration": 12,
    "start_time": "2022-04-08T07:16:26.188Z"
   },
   {
    "duration": 56,
    "start_time": "2022-04-08T07:16:26.202Z"
   },
   {
    "duration": 6,
    "start_time": "2022-04-08T07:16:26.260Z"
   },
   {
    "duration": 218,
    "start_time": "2022-04-08T07:16:26.269Z"
   },
   {
    "duration": 3,
    "start_time": "2022-04-08T07:16:26.489Z"
   },
   {
    "duration": 7,
    "start_time": "2022-04-08T07:16:26.494Z"
   },
   {
    "duration": 46,
    "start_time": "2022-04-08T07:16:26.504Z"
   },
   {
    "duration": 25,
    "start_time": "2022-04-08T07:16:26.552Z"
   },
   {
    "duration": 67,
    "start_time": "2022-04-08T07:16:26.580Z"
   },
   {
    "duration": 362,
    "start_time": "2022-04-08T07:16:26.649Z"
   },
   {
    "duration": 11,
    "start_time": "2022-04-08T07:16:27.013Z"
   },
   {
    "duration": 9,
    "start_time": "2022-04-08T07:16:27.042Z"
   },
   {
    "duration": 843,
    "start_time": "2022-04-08T07:16:27.054Z"
   },
   {
    "duration": 64,
    "start_time": "2022-04-08T07:16:27.899Z"
   },
   {
    "duration": 21,
    "start_time": "2022-04-08T07:16:27.965Z"
   },
   {
    "duration": 61,
    "start_time": "2022-04-08T07:16:27.988Z"
   },
   {
    "duration": 47,
    "start_time": "2022-04-08T07:16:28.051Z"
   },
   {
    "duration": 157,
    "start_time": "2022-04-08T07:16:28.101Z"
   },
   {
    "duration": 7,
    "start_time": "2022-04-08T07:16:28.265Z"
   },
   {
    "duration": 5,
    "start_time": "2022-04-08T07:16:28.274Z"
   },
   {
    "duration": 90,
    "start_time": "2022-04-08T07:16:28.281Z"
   },
   {
    "duration": 26,
    "start_time": "2022-04-08T07:16:28.374Z"
   },
   {
    "duration": 41,
    "start_time": "2022-04-08T07:16:28.402Z"
   },
   {
    "duration": 17,
    "start_time": "2022-04-08T07:16:28.445Z"
   },
   {
    "duration": 86,
    "start_time": "2022-04-08T07:16:28.463Z"
   },
   {
    "duration": 15,
    "start_time": "2022-04-08T07:16:28.552Z"
   },
   {
    "duration": 17,
    "start_time": "2022-04-08T07:16:28.569Z"
   },
   {
    "duration": 21,
    "start_time": "2022-04-08T07:32:36.478Z"
   },
   {
    "duration": 2254,
    "start_time": "2022-04-11T07:12:34.287Z"
   },
   {
    "duration": 2213,
    "start_time": "2022-04-11T07:12:36.543Z"
   },
   {
    "duration": 4,
    "start_time": "2022-04-11T07:12:38.759Z"
   },
   {
    "duration": 44,
    "start_time": "2022-04-11T07:12:38.765Z"
   },
   {
    "duration": 34,
    "start_time": "2022-04-11T07:12:38.811Z"
   },
   {
    "duration": 89,
    "start_time": "2022-04-11T07:12:38.847Z"
   },
   {
    "duration": 15,
    "start_time": "2022-04-11T07:12:38.938Z"
   },
   {
    "duration": 34,
    "start_time": "2022-04-11T07:12:38.955Z"
   },
   {
    "duration": 38,
    "start_time": "2022-04-11T07:12:38.991Z"
   },
   {
    "duration": 53,
    "start_time": "2022-04-11T07:12:39.032Z"
   },
   {
    "duration": 20,
    "start_time": "2022-04-11T07:12:39.088Z"
   },
   {
    "duration": 6,
    "start_time": "2022-04-11T07:12:39.110Z"
   },
   {
    "duration": 253,
    "start_time": "2022-04-11T07:12:39.118Z"
   },
   {
    "duration": 5,
    "start_time": "2022-04-11T07:12:39.373Z"
   },
   {
    "duration": 8,
    "start_time": "2022-04-11T07:12:39.380Z"
   },
   {
    "duration": 10,
    "start_time": "2022-04-11T07:12:39.391Z"
   },
   {
    "duration": 15,
    "start_time": "2022-04-11T07:12:39.403Z"
   },
   {
    "duration": 81,
    "start_time": "2022-04-11T07:12:39.420Z"
   },
   {
    "duration": 352,
    "start_time": "2022-04-11T07:12:39.503Z"
   },
   {
    "duration": 19,
    "start_time": "2022-04-11T07:12:39.857Z"
   },
   {
    "duration": 13,
    "start_time": "2022-04-11T07:12:39.879Z"
   },
   {
    "duration": 862,
    "start_time": "2022-04-11T07:12:39.895Z"
   },
   {
    "duration": 53,
    "start_time": "2022-04-11T07:12:40.769Z"
   },
   {
    "duration": 45,
    "start_time": "2022-04-11T07:12:40.825Z"
   },
   {
    "duration": 37,
    "start_time": "2022-04-11T07:12:40.872Z"
   },
   {
    "duration": 61,
    "start_time": "2022-04-11T07:12:40.912Z"
   },
   {
    "duration": 137,
    "start_time": "2022-04-11T07:12:40.975Z"
   },
   {
    "duration": 22,
    "start_time": "2022-04-11T07:12:41.116Z"
   },
   {
    "duration": 3,
    "start_time": "2022-04-11T07:12:41.140Z"
   },
   {
    "duration": 62,
    "start_time": "2022-04-11T07:12:41.168Z"
   },
   {
    "duration": 48,
    "start_time": "2022-04-11T07:12:41.232Z"
   },
   {
    "duration": 23,
    "start_time": "2022-04-11T07:12:41.283Z"
   },
   {
    "duration": 19,
    "start_time": "2022-04-11T07:12:41.308Z"
   },
   {
    "duration": 187,
    "start_time": "2022-04-11T07:12:41.329Z"
   },
   {
    "duration": 1,
    "start_time": "2022-04-11T07:12:41.518Z"
   },
   {
    "duration": 0,
    "start_time": "2022-04-11T07:12:41.520Z"
   },
   {
    "duration": 0,
    "start_time": "2022-04-11T07:12:41.521Z"
   },
   {
    "duration": 4,
    "start_time": "2022-04-11T07:13:04.060Z"
   },
   {
    "duration": 69,
    "start_time": "2022-04-11T07:13:05.169Z"
   },
   {
    "duration": 16,
    "start_time": "2022-04-11T07:13:05.717Z"
   },
   {
    "duration": 18,
    "start_time": "2022-04-11T07:13:06.225Z"
   },
   {
    "duration": 6,
    "start_time": "2022-04-11T12:05:05.090Z"
   },
   {
    "duration": 146,
    "start_time": "2022-04-11T12:05:05.100Z"
   },
   {
    "duration": 5,
    "start_time": "2022-04-11T12:05:05.249Z"
   },
   {
    "duration": 31,
    "start_time": "2022-04-11T12:05:05.268Z"
   },
   {
    "duration": 35,
    "start_time": "2022-04-11T12:05:05.302Z"
   },
   {
    "duration": 40,
    "start_time": "2022-04-11T12:05:05.339Z"
   },
   {
    "duration": 15,
    "start_time": "2022-04-11T12:05:05.381Z"
   },
   {
    "duration": 22,
    "start_time": "2022-04-11T12:05:05.398Z"
   },
   {
    "duration": 72,
    "start_time": "2022-04-11T12:05:05.422Z"
   },
   {
    "duration": 11,
    "start_time": "2022-04-11T12:05:05.496Z"
   },
   {
    "duration": 21,
    "start_time": "2022-04-11T12:05:05.513Z"
   },
   {
    "duration": 35,
    "start_time": "2022-04-11T12:05:05.536Z"
   },
   {
    "duration": 242,
    "start_time": "2022-04-11T12:05:05.575Z"
   },
   {
    "duration": 4,
    "start_time": "2022-04-11T12:05:05.819Z"
   },
   {
    "duration": 45,
    "start_time": "2022-04-11T12:05:05.826Z"
   },
   {
    "duration": 14,
    "start_time": "2022-04-11T12:05:05.873Z"
   },
   {
    "duration": 17,
    "start_time": "2022-04-11T12:05:05.889Z"
   },
   {
    "duration": 66,
    "start_time": "2022-04-11T12:05:05.908Z"
   },
   {
    "duration": 339,
    "start_time": "2022-04-11T12:05:05.976Z"
   },
   {
    "duration": 8,
    "start_time": "2022-04-11T12:05:06.317Z"
   },
   {
    "duration": 11,
    "start_time": "2022-04-11T12:05:06.328Z"
   },
   {
    "duration": 756,
    "start_time": "2022-04-11T12:05:06.341Z"
   },
   {
    "duration": 88,
    "start_time": "2022-04-11T12:05:07.100Z"
   },
   {
    "duration": 29,
    "start_time": "2022-04-11T12:05:07.191Z"
   },
   {
    "duration": 69,
    "start_time": "2022-04-11T12:05:07.222Z"
   },
   {
    "duration": 75,
    "start_time": "2022-04-11T12:05:07.294Z"
   },
   {
    "duration": 72,
    "start_time": "2022-04-11T12:05:07.371Z"
   },
   {
    "duration": 40,
    "start_time": "2022-04-11T12:05:07.445Z"
   },
   {
    "duration": 4,
    "start_time": "2022-04-11T12:05:07.491Z"
   },
   {
    "duration": 94,
    "start_time": "2022-04-11T12:05:07.497Z"
   },
   {
    "duration": 33,
    "start_time": "2022-04-11T12:05:07.593Z"
   },
   {
    "duration": 45,
    "start_time": "2022-04-11T12:05:07.629Z"
   },
   {
    "duration": 17,
    "start_time": "2022-04-11T12:05:07.676Z"
   },
   {
    "duration": 4,
    "start_time": "2022-04-11T12:05:07.696Z"
   },
   {
    "duration": 102,
    "start_time": "2022-04-11T12:05:07.703Z"
   },
   {
    "duration": 18,
    "start_time": "2022-04-11T12:05:07.808Z"
   },
   {
    "duration": 40,
    "start_time": "2022-04-11T12:05:07.828Z"
   },
   {
    "duration": 2343,
    "start_time": "2022-04-11T12:24:01.719Z"
   },
   {
    "duration": 2438,
    "start_time": "2022-04-11T12:24:32.625Z"
   },
   {
    "duration": 2359,
    "start_time": "2022-04-11T12:24:40.688Z"
   },
   {
    "duration": 5,
    "start_time": "2022-04-11T12:24:57.498Z"
   },
   {
    "duration": 147,
    "start_time": "2022-04-11T12:24:57.506Z"
   },
   {
    "duration": 13,
    "start_time": "2022-04-11T12:24:57.655Z"
   },
   {
    "duration": 38,
    "start_time": "2022-04-11T12:24:57.671Z"
   },
   {
    "duration": 29,
    "start_time": "2022-04-11T12:24:57.712Z"
   },
   {
    "duration": 42,
    "start_time": "2022-04-11T12:24:57.743Z"
   },
   {
    "duration": 16,
    "start_time": "2022-04-11T12:24:57.787Z"
   },
   {
    "duration": 19,
    "start_time": "2022-04-11T12:24:57.805Z"
   },
   {
    "duration": 75,
    "start_time": "2022-04-11T12:24:57.827Z"
   },
   {
    "duration": 11,
    "start_time": "2022-04-11T12:24:57.904Z"
   },
   {
    "duration": 20,
    "start_time": "2022-04-11T12:24:57.917Z"
   },
   {
    "duration": 32,
    "start_time": "2022-04-11T12:24:57.939Z"
   },
   {
    "duration": 216,
    "start_time": "2022-04-11T12:24:57.974Z"
   },
   {
    "duration": 3,
    "start_time": "2022-04-11T12:24:58.193Z"
   },
   {
    "duration": 8,
    "start_time": "2022-04-11T12:24:58.199Z"
   },
   {
    "duration": 10,
    "start_time": "2022-04-11T12:24:58.209Z"
   },
   {
    "duration": 55,
    "start_time": "2022-04-11T12:24:58.222Z"
   },
   {
    "duration": 38,
    "start_time": "2022-04-11T12:24:58.279Z"
   },
   {
    "duration": 366,
    "start_time": "2022-04-11T12:24:58.319Z"
   },
   {
    "duration": 11,
    "start_time": "2022-04-11T12:24:58.688Z"
   },
   {
    "duration": 9,
    "start_time": "2022-04-11T12:24:58.701Z"
   },
   {
    "duration": 727,
    "start_time": "2022-04-11T12:24:58.712Z"
   },
   {
    "duration": 63,
    "start_time": "2022-04-11T12:24:59.442Z"
   },
   {
    "duration": 21,
    "start_time": "2022-04-11T12:24:59.510Z"
   },
   {
    "duration": 52,
    "start_time": "2022-04-11T12:24:59.533Z"
   },
   {
    "duration": 45,
    "start_time": "2022-04-11T12:24:59.587Z"
   },
   {
    "duration": 72,
    "start_time": "2022-04-11T12:24:59.634Z"
   },
   {
    "duration": 22,
    "start_time": "2022-04-11T12:24:59.708Z"
   },
   {
    "duration": 3,
    "start_time": "2022-04-11T12:24:59.732Z"
   },
   {
    "duration": 86,
    "start_time": "2022-04-11T12:24:59.737Z"
   },
   {
    "duration": 42,
    "start_time": "2022-04-11T12:24:59.826Z"
   },
   {
    "duration": 22,
    "start_time": "2022-04-11T12:24:59.871Z"
   },
   {
    "duration": 16,
    "start_time": "2022-04-11T12:24:59.896Z"
   },
   {
    "duration": 4,
    "start_time": "2022-04-11T12:24:59.915Z"
   },
   {
    "duration": 104,
    "start_time": "2022-04-11T12:24:59.921Z"
   },
   {
    "duration": 17,
    "start_time": "2022-04-11T12:25:00.028Z"
   },
   {
    "duration": 22,
    "start_time": "2022-04-11T12:25:00.067Z"
   },
   {
    "duration": 2137,
    "start_time": "2022-04-11T12:25:05.549Z"
   },
   {
    "duration": 5,
    "start_time": "2022-04-11T12:25:12.674Z"
   },
   {
    "duration": 165,
    "start_time": "2022-04-11T12:25:12.681Z"
   },
   {
    "duration": 4,
    "start_time": "2022-04-11T12:25:12.849Z"
   },
   {
    "duration": 32,
    "start_time": "2022-04-11T12:25:12.868Z"
   },
   {
    "duration": 31,
    "start_time": "2022-04-11T12:25:12.902Z"
   },
   {
    "duration": 45,
    "start_time": "2022-04-11T12:25:12.935Z"
   },
   {
    "duration": 15,
    "start_time": "2022-04-11T12:25:12.982Z"
   },
   {
    "duration": 27,
    "start_time": "2022-04-11T12:25:13.000Z"
   },
   {
    "duration": 76,
    "start_time": "2022-04-11T12:25:13.033Z"
   },
   {
    "duration": 12,
    "start_time": "2022-04-11T12:25:13.111Z"
   },
   {
    "duration": 49,
    "start_time": "2022-04-11T12:25:13.125Z"
   },
   {
    "duration": 6,
    "start_time": "2022-04-11T12:25:13.176Z"
   },
   {
    "duration": 231,
    "start_time": "2022-04-11T12:25:13.185Z"
   },
   {
    "duration": 3,
    "start_time": "2022-04-11T12:25:13.418Z"
   },
   {
    "duration": 44,
    "start_time": "2022-04-11T12:25:13.424Z"
   },
   {
    "duration": 16,
    "start_time": "2022-04-11T12:25:13.471Z"
   },
   {
    "duration": 16,
    "start_time": "2022-04-11T12:25:13.490Z"
   },
   {
    "duration": 63,
    "start_time": "2022-04-11T12:25:13.509Z"
   },
   {
    "duration": 356,
    "start_time": "2022-04-11T12:25:13.574Z"
   },
   {
    "duration": 9,
    "start_time": "2022-04-11T12:25:13.932Z"
   },
   {
    "duration": 27,
    "start_time": "2022-04-11T12:25:13.944Z"
   },
   {
    "duration": 769,
    "start_time": "2022-04-11T12:25:13.974Z"
   },
   {
    "duration": 90,
    "start_time": "2022-04-11T12:25:14.746Z"
   },
   {
    "duration": 41,
    "start_time": "2022-04-11T12:25:14.843Z"
   },
   {
    "duration": 45,
    "start_time": "2022-04-11T12:25:14.886Z"
   },
   {
    "duration": 89,
    "start_time": "2022-04-11T12:25:14.933Z"
   },
   {
    "duration": 86,
    "start_time": "2022-04-11T12:25:15.025Z"
   },
   {
    "duration": 22,
    "start_time": "2022-04-11T12:25:15.114Z"
   },
   {
    "duration": 3,
    "start_time": "2022-04-11T12:25:15.139Z"
   },
   {
    "duration": 59,
    "start_time": "2022-04-11T12:25:15.168Z"
   },
   {
    "duration": 48,
    "start_time": "2022-04-11T12:25:15.229Z"
   },
   {
    "duration": 23,
    "start_time": "2022-04-11T12:25:15.279Z"
   },
   {
    "duration": 16,
    "start_time": "2022-04-11T12:25:15.304Z"
   },
   {
    "duration": 7,
    "start_time": "2022-04-11T12:25:15.322Z"
   },
   {
    "duration": 98,
    "start_time": "2022-04-11T12:25:15.331Z"
   },
   {
    "duration": 17,
    "start_time": "2022-04-11T12:25:15.432Z"
   },
   {
    "duration": 34,
    "start_time": "2022-04-11T12:25:15.452Z"
   },
   {
    "duration": 6,
    "start_time": "2022-04-11T12:26:06.835Z"
   },
   {
    "duration": 151,
    "start_time": "2022-04-11T12:26:06.844Z"
   },
   {
    "duration": 4,
    "start_time": "2022-04-11T12:26:06.997Z"
   },
   {
    "duration": 34,
    "start_time": "2022-04-11T12:26:07.004Z"
   },
   {
    "duration": 31,
    "start_time": "2022-04-11T12:26:07.067Z"
   },
   {
    "duration": 22,
    "start_time": "2022-04-11T12:26:07.101Z"
   },
   {
    "duration": 14,
    "start_time": "2022-04-11T12:26:07.125Z"
   },
   {
    "duration": 18,
    "start_time": "2022-04-11T12:26:07.167Z"
   },
   {
    "duration": 41,
    "start_time": "2022-04-11T12:26:07.190Z"
   },
   {
    "duration": 39,
    "start_time": "2022-04-11T12:26:07.233Z"
   },
   {
    "duration": 20,
    "start_time": "2022-04-11T12:26:07.274Z"
   },
   {
    "duration": 6,
    "start_time": "2022-04-11T12:26:07.296Z"
   },
   {
    "duration": 271,
    "start_time": "2022-04-11T12:26:07.305Z"
   },
   {
    "duration": 3,
    "start_time": "2022-04-11T12:26:07.578Z"
   },
   {
    "duration": 8,
    "start_time": "2022-04-11T12:26:07.583Z"
   },
   {
    "duration": 10,
    "start_time": "2022-04-11T12:26:07.593Z"
   },
   {
    "duration": 15,
    "start_time": "2022-04-11T12:26:07.605Z"
   },
   {
    "duration": 86,
    "start_time": "2022-04-11T12:26:07.623Z"
   },
   {
    "duration": 366,
    "start_time": "2022-04-11T12:26:07.712Z"
   },
   {
    "duration": 10,
    "start_time": "2022-04-11T12:26:08.080Z"
   },
   {
    "duration": 8,
    "start_time": "2022-04-11T12:26:08.093Z"
   },
   {
    "duration": 811,
    "start_time": "2022-04-11T12:26:08.103Z"
   },
   {
    "duration": 67,
    "start_time": "2022-04-11T12:26:08.916Z"
   },
   {
    "duration": 22,
    "start_time": "2022-04-11T12:26:08.988Z"
   },
   {
    "duration": 58,
    "start_time": "2022-04-11T12:26:09.013Z"
   },
   {
    "duration": 46,
    "start_time": "2022-04-11T12:26:09.074Z"
   },
   {
    "duration": 78,
    "start_time": "2022-04-11T12:26:09.123Z"
   },
   {
    "duration": 23,
    "start_time": "2022-04-11T12:26:09.203Z"
   },
   {
    "duration": 4,
    "start_time": "2022-04-11T12:26:09.228Z"
   },
   {
    "duration": 81,
    "start_time": "2022-04-11T12:26:09.235Z"
   },
   {
    "duration": 26,
    "start_time": "2022-04-11T12:26:09.319Z"
   },
   {
    "duration": 22,
    "start_time": "2022-04-11T12:26:09.367Z"
   },
   {
    "duration": 15,
    "start_time": "2022-04-11T12:26:09.392Z"
   },
   {
    "duration": 3,
    "start_time": "2022-04-11T12:26:09.410Z"
   },
   {
    "duration": 100,
    "start_time": "2022-04-11T12:26:09.416Z"
   },
   {
    "duration": 16,
    "start_time": "2022-04-11T12:26:09.518Z"
   },
   {
    "duration": 33,
    "start_time": "2022-04-11T12:26:09.536Z"
   },
   {
    "duration": 21,
    "start_time": "2022-04-11T12:33:16.523Z"
   },
   {
    "duration": 17,
    "start_time": "2022-04-11T12:34:04.967Z"
   },
   {
    "duration": 4,
    "start_time": "2022-04-11T12:34:10.165Z"
   },
   {
    "duration": 29,
    "start_time": "2022-04-11T13:45:28.421Z"
   },
   {
    "duration": 27,
    "start_time": "2022-04-11T13:45:29.457Z"
   },
   {
    "duration": 4,
    "start_time": "2022-04-11T13:45:36.320Z"
   },
   {
    "duration": 72,
    "start_time": "2022-04-11T13:45:41.562Z"
   },
   {
    "duration": 17,
    "start_time": "2022-04-11T13:45:42.072Z"
   },
   {
    "duration": 5,
    "start_time": "2022-04-11T13:47:30.859Z"
   },
   {
    "duration": 6,
    "start_time": "2022-04-11T13:47:35.231Z"
   },
   {
    "duration": 22,
    "start_time": "2022-04-11T13:48:04.192Z"
   },
   {
    "duration": 97,
    "start_time": "2022-04-11T13:48:18.583Z"
   },
   {
    "duration": 22,
    "start_time": "2022-04-11T13:48:18.767Z"
   },
   {
    "duration": 18,
    "start_time": "2022-04-11T13:48:19.372Z"
   },
   {
    "duration": 14,
    "start_time": "2022-04-11T13:48:20.093Z"
   },
   {
    "duration": 24,
    "start_time": "2022-04-11T14:05:46.345Z"
   },
   {
    "duration": 20,
    "start_time": "2022-04-11T14:06:00.287Z"
   },
   {
    "duration": 17,
    "start_time": "2022-04-11T14:06:28.844Z"
   },
   {
    "duration": 15,
    "start_time": "2022-04-11T14:06:32.981Z"
   },
   {
    "duration": 18,
    "start_time": "2022-04-11T14:06:33.604Z"
   },
   {
    "duration": 21,
    "start_time": "2022-04-11T14:06:38.063Z"
   },
   {
    "duration": 28,
    "start_time": "2022-04-11T14:12:48.507Z"
   },
   {
    "duration": 19,
    "start_time": "2022-04-11T14:13:07.322Z"
   },
   {
    "duration": 19,
    "start_time": "2022-04-11T14:13:11.278Z"
   },
   {
    "duration": 48,
    "start_time": "2022-04-11T14:13:53.152Z"
   },
   {
    "duration": 14,
    "start_time": "2022-04-11T14:16:03.713Z"
   },
   {
    "duration": 12,
    "start_time": "2022-04-11T14:16:11.737Z"
   },
   {
    "duration": 53,
    "start_time": "2022-04-11T14:16:16.464Z"
   },
   {
    "duration": 22,
    "start_time": "2022-04-11T14:16:41.050Z"
   },
   {
    "duration": 40,
    "start_time": "2022-04-11T14:16:49.820Z"
   },
   {
    "duration": 19,
    "start_time": "2022-04-11T14:24:54.921Z"
   },
   {
    "duration": 15,
    "start_time": "2022-04-11T14:25:15.206Z"
   },
   {
    "duration": 31,
    "start_time": "2022-04-11T14:25:19.487Z"
   },
   {
    "duration": 44,
    "start_time": "2022-04-11T14:26:52.552Z"
   },
   {
    "duration": 15,
    "start_time": "2022-04-11T14:28:46.645Z"
   },
   {
    "duration": 1971,
    "start_time": "2022-04-12T07:20:41.400Z"
   },
   {
    "duration": 224,
    "start_time": "2022-04-12T07:20:43.373Z"
   },
   {
    "duration": 5,
    "start_time": "2022-04-12T07:20:43.599Z"
   },
   {
    "duration": 41,
    "start_time": "2022-04-12T07:20:43.607Z"
   },
   {
    "duration": 27,
    "start_time": "2022-04-12T07:20:43.650Z"
   },
   {
    "duration": 83,
    "start_time": "2022-04-12T07:20:43.679Z"
   },
   {
    "duration": 12,
    "start_time": "2022-04-12T07:20:43.764Z"
   },
   {
    "duration": 40,
    "start_time": "2022-04-12T07:20:43.778Z"
   },
   {
    "duration": 41,
    "start_time": "2022-04-12T07:20:43.820Z"
   },
   {
    "duration": 12,
    "start_time": "2022-04-12T07:20:43.865Z"
   },
   {
    "duration": 57,
    "start_time": "2022-04-12T07:20:43.879Z"
   },
   {
    "duration": 6,
    "start_time": "2022-04-12T07:20:43.938Z"
   },
   {
    "duration": 229,
    "start_time": "2022-04-12T07:20:43.946Z"
   },
   {
    "duration": 3,
    "start_time": "2022-04-12T07:20:44.177Z"
   },
   {
    "duration": 12,
    "start_time": "2022-04-12T07:20:44.181Z"
   },
   {
    "duration": 48,
    "start_time": "2022-04-12T07:20:44.195Z"
   },
   {
    "duration": 23,
    "start_time": "2022-04-12T07:20:44.245Z"
   },
   {
    "duration": 55,
    "start_time": "2022-04-12T07:20:44.270Z"
   },
   {
    "duration": 316,
    "start_time": "2022-04-12T07:20:44.328Z"
   },
   {
    "duration": 9,
    "start_time": "2022-04-12T07:20:44.647Z"
   },
   {
    "duration": 8,
    "start_time": "2022-04-12T07:20:44.658Z"
   },
   {
    "duration": 574,
    "start_time": "2022-04-12T07:20:44.668Z"
   },
   {
    "duration": 42,
    "start_time": "2022-04-12T07:20:45.245Z"
   },
   {
    "duration": 52,
    "start_time": "2022-04-12T07:20:45.290Z"
   },
   {
    "duration": 48,
    "start_time": "2022-04-12T07:20:45.345Z"
   },
   {
    "duration": 62,
    "start_time": "2022-04-12T07:20:45.395Z"
   },
   {
    "duration": 158,
    "start_time": "2022-04-12T07:20:45.460Z"
   },
   {
    "duration": 23,
    "start_time": "2022-04-12T07:20:45.624Z"
   },
   {
    "duration": 8,
    "start_time": "2022-04-12T07:20:45.654Z"
   },
   {
    "duration": 96,
    "start_time": "2022-04-12T07:20:45.664Z"
   },
   {
    "duration": 29,
    "start_time": "2022-04-12T07:20:45.762Z"
   },
   {
    "duration": 47,
    "start_time": "2022-04-12T07:20:45.793Z"
   },
   {
    "duration": 17,
    "start_time": "2022-04-12T07:20:45.843Z"
   },
   {
    "duration": 6,
    "start_time": "2022-04-12T07:20:45.862Z"
   },
   {
    "duration": 77,
    "start_time": "2022-04-12T07:20:45.869Z"
   },
   {
    "duration": 13,
    "start_time": "2022-04-12T07:20:45.949Z"
   },
   {
    "duration": 18,
    "start_time": "2022-04-12T07:20:45.964Z"
   },
   {
    "duration": 34,
    "start_time": "2022-04-12T07:20:45.983Z"
   },
   {
    "duration": 25,
    "start_time": "2022-04-12T07:20:46.023Z"
   },
   {
    "duration": 43,
    "start_time": "2022-04-12T07:20:46.050Z"
   },
   {
    "duration": 30,
    "start_time": "2022-04-12T07:20:46.096Z"
   },
   {
    "duration": 8,
    "start_time": "2022-04-12T07:23:32.168Z"
   },
   {
    "duration": 16,
    "start_time": "2022-04-12T07:23:38.087Z"
   },
   {
    "duration": 13,
    "start_time": "2022-04-12T07:24:37.265Z"
   },
   {
    "duration": 16,
    "start_time": "2022-04-12T07:24:38.760Z"
   },
   {
    "duration": 14,
    "start_time": "2022-04-12T07:25:27.651Z"
   },
   {
    "duration": 14,
    "start_time": "2022-04-12T07:25:30.333Z"
   },
   {
    "duration": 33,
    "start_time": "2022-04-12T07:25:30.740Z"
   },
   {
    "duration": 19,
    "start_time": "2022-04-12T07:25:31.236Z"
   },
   {
    "duration": 19,
    "start_time": "2022-04-12T07:25:32.086Z"
   },
   {
    "duration": 31,
    "start_time": "2022-04-12T07:35:28.116Z"
   },
   {
    "duration": 20,
    "start_time": "2022-04-12T07:36:01.696Z"
   },
   {
    "duration": 22,
    "start_time": "2022-04-12T07:38:21.736Z"
   },
   {
    "duration": 5,
    "start_time": "2022-04-12T07:38:28.731Z"
   },
   {
    "duration": 141,
    "start_time": "2022-04-12T07:38:28.738Z"
   },
   {
    "duration": 3,
    "start_time": "2022-04-12T07:38:28.881Z"
   },
   {
    "duration": 48,
    "start_time": "2022-04-12T07:38:28.886Z"
   },
   {
    "duration": 25,
    "start_time": "2022-04-12T07:38:28.937Z"
   },
   {
    "duration": 19,
    "start_time": "2022-04-12T07:38:28.964Z"
   },
   {
    "duration": 37,
    "start_time": "2022-04-12T07:38:28.985Z"
   },
   {
    "duration": 28,
    "start_time": "2022-04-12T07:38:29.025Z"
   },
   {
    "duration": 29,
    "start_time": "2022-04-12T07:38:29.054Z"
   },
   {
    "duration": 8,
    "start_time": "2022-04-12T07:38:29.085Z"
   },
   {
    "duration": 44,
    "start_time": "2022-04-12T07:38:29.095Z"
   },
   {
    "duration": 6,
    "start_time": "2022-04-12T07:38:29.140Z"
   },
   {
    "duration": 194,
    "start_time": "2022-04-12T07:38:29.147Z"
   },
   {
    "duration": 3,
    "start_time": "2022-04-12T07:38:29.342Z"
   },
   {
    "duration": 10,
    "start_time": "2022-04-12T07:38:29.347Z"
   },
   {
    "duration": 12,
    "start_time": "2022-04-12T07:38:29.359Z"
   },
   {
    "duration": 17,
    "start_time": "2022-04-12T07:38:29.373Z"
   },
   {
    "duration": 54,
    "start_time": "2022-04-12T07:38:29.392Z"
   },
   {
    "duration": 257,
    "start_time": "2022-04-12T07:38:29.448Z"
   },
   {
    "duration": 25,
    "start_time": "2022-04-12T07:38:29.706Z"
   },
   {
    "duration": 6,
    "start_time": "2022-04-12T07:38:29.734Z"
   },
   {
    "duration": 440,
    "start_time": "2022-04-12T07:38:29.742Z"
   },
   {
    "duration": 64,
    "start_time": "2022-04-12T07:38:30.184Z"
   },
   {
    "duration": 16,
    "start_time": "2022-04-12T07:38:30.250Z"
   },
   {
    "duration": 26,
    "start_time": "2022-04-12T07:38:30.268Z"
   },
   {
    "duration": 65,
    "start_time": "2022-04-12T07:38:30.296Z"
   },
   {
    "duration": 60,
    "start_time": "2022-04-12T07:38:30.363Z"
   },
   {
    "duration": 22,
    "start_time": "2022-04-12T07:38:30.427Z"
   },
   {
    "duration": 10,
    "start_time": "2022-04-12T07:38:30.451Z"
   },
   {
    "duration": 58,
    "start_time": "2022-04-12T07:38:30.463Z"
   },
   {
    "duration": 28,
    "start_time": "2022-04-12T07:38:30.523Z"
   },
   {
    "duration": 28,
    "start_time": "2022-04-12T07:38:30.554Z"
   },
   {
    "duration": 25,
    "start_time": "2022-04-12T07:38:30.583Z"
   },
   {
    "duration": 30,
    "start_time": "2022-04-12T07:38:30.609Z"
   },
   {
    "duration": 72,
    "start_time": "2022-04-12T07:38:30.641Z"
   },
   {
    "duration": 20,
    "start_time": "2022-04-12T07:38:30.715Z"
   },
   {
    "duration": 23,
    "start_time": "2022-04-12T07:38:30.738Z"
   },
   {
    "duration": 19,
    "start_time": "2022-04-12T07:38:30.763Z"
   },
   {
    "duration": 16,
    "start_time": "2022-04-12T07:38:30.784Z"
   },
   {
    "duration": 59,
    "start_time": "2022-04-12T07:38:30.801Z"
   },
   {
    "duration": 14,
    "start_time": "2022-04-12T07:38:30.862Z"
   },
   {
    "duration": 22,
    "start_time": "2022-04-12T07:38:30.878Z"
   },
   {
    "duration": 41,
    "start_time": "2022-04-12T07:38:30.902Z"
   },
   {
    "duration": 19,
    "start_time": "2022-04-12T07:38:30.945Z"
   },
   {
    "duration": 20,
    "start_time": "2022-04-12T07:38:59.153Z"
   },
   {
    "duration": 21,
    "start_time": "2022-04-12T07:39:10.169Z"
   },
   {
    "duration": 4,
    "start_time": "2022-04-12T07:39:15.971Z"
   },
   {
    "duration": 153,
    "start_time": "2022-04-12T07:39:15.977Z"
   },
   {
    "duration": 3,
    "start_time": "2022-04-12T07:39:16.133Z"
   },
   {
    "duration": 31,
    "start_time": "2022-04-12T07:39:16.138Z"
   },
   {
    "duration": 23,
    "start_time": "2022-04-12T07:39:16.171Z"
   },
   {
    "duration": 50,
    "start_time": "2022-04-12T07:39:16.196Z"
   },
   {
    "duration": 12,
    "start_time": "2022-04-12T07:39:16.248Z"
   },
   {
    "duration": 22,
    "start_time": "2022-04-12T07:39:16.262Z"
   },
   {
    "duration": 55,
    "start_time": "2022-04-12T07:39:16.285Z"
   },
   {
    "duration": 10,
    "start_time": "2022-04-12T07:39:16.342Z"
   },
   {
    "duration": 22,
    "start_time": "2022-04-12T07:39:16.356Z"
   },
   {
    "duration": 7,
    "start_time": "2022-04-12T07:39:16.380Z"
   },
   {
    "duration": 191,
    "start_time": "2022-04-12T07:39:16.388Z"
   },
   {
    "duration": 2,
    "start_time": "2022-04-12T07:39:16.581Z"
   },
   {
    "duration": 11,
    "start_time": "2022-04-12T07:39:16.584Z"
   },
   {
    "duration": 16,
    "start_time": "2022-04-12T07:39:16.623Z"
   },
   {
    "duration": 16,
    "start_time": "2022-04-12T07:39:16.641Z"
   },
   {
    "duration": 39,
    "start_time": "2022-04-12T07:39:16.659Z"
   },
   {
    "duration": 236,
    "start_time": "2022-04-12T07:39:16.700Z"
   },
   {
    "duration": 7,
    "start_time": "2022-04-12T07:39:16.938Z"
   },
   {
    "duration": 11,
    "start_time": "2022-04-12T07:39:16.947Z"
   },
   {
    "duration": 411,
    "start_time": "2022-04-12T07:39:16.960Z"
   },
   {
    "duration": 54,
    "start_time": "2022-04-12T07:39:17.373Z"
   },
   {
    "duration": 18,
    "start_time": "2022-04-12T07:39:17.430Z"
   },
   {
    "duration": 27,
    "start_time": "2022-04-12T07:39:17.450Z"
   },
   {
    "duration": 75,
    "start_time": "2022-04-12T07:39:17.480Z"
   },
   {
    "duration": 38,
    "start_time": "2022-04-12T07:39:17.556Z"
   },
   {
    "duration": 39,
    "start_time": "2022-04-12T07:39:17.596Z"
   },
   {
    "duration": 3,
    "start_time": "2022-04-12T07:39:17.639Z"
   },
   {
    "duration": 47,
    "start_time": "2022-04-12T07:39:17.643Z"
   },
   {
    "duration": 20,
    "start_time": "2022-04-12T07:39:17.692Z"
   },
   {
    "duration": 18,
    "start_time": "2022-04-12T07:39:17.719Z"
   },
   {
    "duration": 15,
    "start_time": "2022-04-12T07:39:17.739Z"
   },
   {
    "duration": 11,
    "start_time": "2022-04-12T07:39:17.756Z"
   },
   {
    "duration": 63,
    "start_time": "2022-04-12T07:39:17.769Z"
   },
   {
    "duration": 12,
    "start_time": "2022-04-12T07:39:17.834Z"
   },
   {
    "duration": 15,
    "start_time": "2022-04-12T07:39:17.848Z"
   },
   {
    "duration": 16,
    "start_time": "2022-04-12T07:39:17.865Z"
   },
   {
    "duration": 15,
    "start_time": "2022-04-12T07:39:17.883Z"
   },
   {
    "duration": 46,
    "start_time": "2022-04-12T07:39:17.900Z"
   },
   {
    "duration": 18,
    "start_time": "2022-04-12T07:39:17.948Z"
   },
   {
    "duration": 16,
    "start_time": "2022-04-12T07:39:17.968Z"
   },
   {
    "duration": 35,
    "start_time": "2022-04-12T07:39:17.986Z"
   },
   {
    "duration": 21,
    "start_time": "2022-04-12T07:39:18.032Z"
   },
   {
    "duration": 15,
    "start_time": "2022-04-12T17:29:40.042Z"
   },
   {
    "duration": 8,
    "start_time": "2022-04-12T17:30:30.589Z"
   },
   {
    "duration": 127,
    "start_time": "2022-04-12T17:30:36.003Z"
   },
   {
    "duration": 5,
    "start_time": "2022-04-12T17:31:56.093Z"
   },
   {
    "duration": 15,
    "start_time": "2022-04-12T17:32:02.460Z"
   },
   {
    "duration": 32,
    "start_time": "2022-04-12T17:32:14.490Z"
   },
   {
    "duration": 5,
    "start_time": "2022-04-12T17:33:46.642Z"
   },
   {
    "duration": 47,
    "start_time": "2022-04-12T17:33:54.125Z"
   },
   {
    "duration": 6,
    "start_time": "2022-04-12T17:34:02.541Z"
   },
   {
    "duration": 141,
    "start_time": "2022-04-12T17:34:02.549Z"
   },
   {
    "duration": 3,
    "start_time": "2022-04-12T17:34:02.693Z"
   },
   {
    "duration": 43,
    "start_time": "2022-04-12T17:34:02.697Z"
   },
   {
    "duration": 25,
    "start_time": "2022-04-12T17:34:02.742Z"
   },
   {
    "duration": 21,
    "start_time": "2022-04-12T17:34:02.769Z"
   },
   {
    "duration": 34,
    "start_time": "2022-04-12T17:34:02.792Z"
   },
   {
    "duration": 47,
    "start_time": "2022-04-12T17:34:02.828Z"
   },
   {
    "duration": 53,
    "start_time": "2022-04-12T17:34:02.877Z"
   },
   {
    "duration": 9,
    "start_time": "2022-04-12T17:34:02.933Z"
   },
   {
    "duration": 39,
    "start_time": "2022-04-12T17:34:02.947Z"
   },
   {
    "duration": 7,
    "start_time": "2022-04-12T17:34:02.988Z"
   },
   {
    "duration": 174,
    "start_time": "2022-04-12T17:34:02.997Z"
   },
   {
    "duration": 3,
    "start_time": "2022-04-12T17:34:03.172Z"
   },
   {
    "duration": 46,
    "start_time": "2022-04-12T17:34:03.177Z"
   },
   {
    "duration": 29,
    "start_time": "2022-04-12T17:34:03.225Z"
   },
   {
    "duration": 31,
    "start_time": "2022-04-12T17:34:03.256Z"
   },
   {
    "duration": 60,
    "start_time": "2022-04-12T17:34:03.289Z"
   },
   {
    "duration": 233,
    "start_time": "2022-04-12T17:34:03.352Z"
   },
   {
    "duration": 8,
    "start_time": "2022-04-12T17:34:03.587Z"
   },
   {
    "duration": 25,
    "start_time": "2022-04-12T17:34:03.597Z"
   },
   {
    "duration": 398,
    "start_time": "2022-04-12T17:34:03.623Z"
   },
   {
    "duration": 44,
    "start_time": "2022-04-12T17:34:04.023Z"
   },
   {
    "duration": 23,
    "start_time": "2022-04-12T17:34:04.070Z"
   },
   {
    "duration": 28,
    "start_time": "2022-04-12T17:34:04.118Z"
   },
   {
    "duration": 36,
    "start_time": "2022-04-12T17:34:04.148Z"
   },
   {
    "duration": 65,
    "start_time": "2022-04-12T17:34:04.186Z"
   },
   {
    "duration": 17,
    "start_time": "2022-04-12T17:34:04.252Z"
   },
   {
    "duration": 2,
    "start_time": "2022-04-12T17:34:04.274Z"
   },
   {
    "duration": 68,
    "start_time": "2022-04-12T17:34:04.278Z"
   },
   {
    "duration": 22,
    "start_time": "2022-04-12T17:34:04.348Z"
   },
   {
    "duration": 18,
    "start_time": "2022-04-12T17:34:04.372Z"
   },
   {
    "duration": 38,
    "start_time": "2022-04-12T17:34:04.392Z"
   },
   {
    "duration": 10,
    "start_time": "2022-04-12T17:34:04.432Z"
   },
   {
    "duration": 27,
    "start_time": "2022-04-12T17:34:04.444Z"
   },
   {
    "duration": 66,
    "start_time": "2022-04-12T17:34:04.473Z"
   },
   {
    "duration": 90,
    "start_time": "2022-04-12T17:34:04.541Z"
   },
   {
    "duration": 18,
    "start_time": "2022-04-12T17:34:04.633Z"
   },
   {
    "duration": 21,
    "start_time": "2022-04-12T17:34:04.653Z"
   },
   {
    "duration": 16,
    "start_time": "2022-04-12T17:34:04.677Z"
   },
   {
    "duration": 15,
    "start_time": "2022-04-12T17:34:04.717Z"
   },
   {
    "duration": 40,
    "start_time": "2022-04-12T17:34:04.734Z"
   },
   {
    "duration": 13,
    "start_time": "2022-04-12T17:34:04.776Z"
   },
   {
    "duration": 40,
    "start_time": "2022-04-12T17:34:04.791Z"
   },
   {
    "duration": 22,
    "start_time": "2022-04-12T17:34:04.833Z"
   },
   {
    "duration": 23,
    "start_time": "2022-04-12T17:34:04.857Z"
   },
   {
    "duration": 44,
    "start_time": "2022-04-12T17:34:04.882Z"
   },
   {
    "duration": 22,
    "start_time": "2022-04-12T17:34:57.681Z"
   },
   {
    "duration": 11,
    "start_time": "2022-04-12T17:35:25.209Z"
   },
   {
    "duration": 21,
    "start_time": "2022-04-12T17:35:38.632Z"
   },
   {
    "duration": 141428,
    "start_time": "2022-04-12T17:38:36.895Z"
   },
   {
    "duration": 61,
    "start_time": "2022-04-12T18:12:31.968Z"
   },
   {
    "duration": 67,
    "start_time": "2022-04-12T18:13:19.147Z"
   },
   {
    "duration": 16,
    "start_time": "2022-04-12T18:13:50.321Z"
   },
   {
    "duration": 70,
    "start_time": "2022-04-12T18:14:31.424Z"
   },
   {
    "duration": 12,
    "start_time": "2022-04-12T18:14:33.693Z"
   },
   {
    "duration": 6,
    "start_time": "2022-04-12T18:38:37.296Z"
   },
   {
    "duration": 1663,
    "start_time": "2022-04-13T07:28:12.195Z"
   },
   {
    "duration": 170,
    "start_time": "2022-04-13T07:28:13.861Z"
   },
   {
    "duration": 3,
    "start_time": "2022-04-13T07:28:14.032Z"
   },
   {
    "duration": 34,
    "start_time": "2022-04-13T07:28:14.037Z"
   },
   {
    "duration": 21,
    "start_time": "2022-04-13T07:28:14.072Z"
   },
   {
    "duration": 50,
    "start_time": "2022-04-13T07:28:14.095Z"
   },
   {
    "duration": 9,
    "start_time": "2022-04-13T07:28:14.147Z"
   },
   {
    "duration": 17,
    "start_time": "2022-04-13T07:28:14.158Z"
   },
   {
    "duration": 26,
    "start_time": "2022-04-13T07:28:14.177Z"
   },
   {
    "duration": 8,
    "start_time": "2022-04-13T07:28:14.223Z"
   },
   {
    "duration": 12,
    "start_time": "2022-04-13T07:28:14.232Z"
   },
   {
    "duration": 5,
    "start_time": "2022-04-13T07:28:14.246Z"
   },
   {
    "duration": 138,
    "start_time": "2022-04-13T07:28:14.252Z"
   },
   {
    "duration": 2,
    "start_time": "2022-04-13T07:28:14.392Z"
   },
   {
    "duration": 3,
    "start_time": "2022-04-13T07:28:14.423Z"
   },
   {
    "duration": 10,
    "start_time": "2022-04-13T07:28:14.428Z"
   },
   {
    "duration": 16,
    "start_time": "2022-04-13T07:28:14.439Z"
   },
   {
    "duration": 36,
    "start_time": "2022-04-13T07:28:14.457Z"
   },
   {
    "duration": 315,
    "start_time": "2022-04-13T07:28:14.495Z"
   },
   {
    "duration": 15,
    "start_time": "2022-04-13T07:28:14.812Z"
   },
   {
    "duration": 7,
    "start_time": "2022-04-13T07:28:14.829Z"
   },
   {
    "duration": 613,
    "start_time": "2022-04-13T07:28:14.838Z"
   },
   {
    "duration": 48,
    "start_time": "2022-04-13T07:28:15.453Z"
   },
   {
    "duration": 30,
    "start_time": "2022-04-13T07:28:15.503Z"
   },
   {
    "duration": 30,
    "start_time": "2022-04-13T07:28:15.535Z"
   },
   {
    "duration": 58,
    "start_time": "2022-04-13T07:28:15.566Z"
   },
   {
    "duration": 123,
    "start_time": "2022-04-13T07:28:15.626Z"
   },
   {
    "duration": 18,
    "start_time": "2022-04-13T07:28:15.754Z"
   },
   {
    "duration": 2,
    "start_time": "2022-04-13T07:28:15.774Z"
   },
   {
    "duration": 73,
    "start_time": "2022-04-13T07:28:15.777Z"
   },
   {
    "duration": 23,
    "start_time": "2022-04-13T07:28:15.852Z"
   },
   {
    "duration": 20,
    "start_time": "2022-04-13T07:28:15.876Z"
   },
   {
    "duration": 30,
    "start_time": "2022-04-13T07:28:15.898Z"
   },
   {
    "duration": 4,
    "start_time": "2022-04-13T07:28:15.929Z"
   },
   {
    "duration": 16,
    "start_time": "2022-04-13T07:28:15.935Z"
   },
   {
    "duration": 27,
    "start_time": "2022-04-13T07:28:15.952Z"
   },
   {
    "duration": 60,
    "start_time": "2022-04-13T07:28:15.981Z"
   },
   {
    "duration": 11,
    "start_time": "2022-04-13T07:28:16.043Z"
   },
   {
    "duration": 13,
    "start_time": "2022-04-13T07:28:16.055Z"
   },
   {
    "duration": 13,
    "start_time": "2022-04-13T07:28:16.070Z"
   },
   {
    "duration": 11,
    "start_time": "2022-04-13T07:28:16.084Z"
   },
   {
    "duration": 27,
    "start_time": "2022-04-13T07:28:16.124Z"
   },
   {
    "duration": 11,
    "start_time": "2022-04-13T07:28:16.153Z"
   },
   {
    "duration": 13,
    "start_time": "2022-04-13T07:28:16.165Z"
   },
   {
    "duration": 48,
    "start_time": "2022-04-13T07:28:16.179Z"
   },
   {
    "duration": 16,
    "start_time": "2022-04-13T07:28:16.229Z"
   },
   {
    "duration": 96577,
    "start_time": "2022-04-13T07:28:16.246Z"
   },
   {
    "duration": 53,
    "start_time": "2022-04-13T07:29:52.825Z"
   },
   {
    "duration": 9,
    "start_time": "2022-04-13T07:29:52.879Z"
   },
   {
    "duration": 7,
    "start_time": "2022-04-13T07:29:52.889Z"
   },
   {
    "duration": 2535,
    "start_time": "2022-04-13T15:50:04.016Z"
   },
   {
    "duration": 624,
    "start_time": "2022-04-13T15:50:06.554Z"
   },
   {
    "duration": 6,
    "start_time": "2022-04-13T15:50:07.181Z"
   },
   {
    "duration": 45,
    "start_time": "2022-04-13T15:50:07.191Z"
   },
   {
    "duration": 36,
    "start_time": "2022-04-13T15:50:07.238Z"
   },
   {
    "duration": 105,
    "start_time": "2022-04-13T15:50:07.276Z"
   },
   {
    "duration": 17,
    "start_time": "2022-04-13T15:50:07.383Z"
   },
   {
    "duration": 37,
    "start_time": "2022-04-13T15:50:07.402Z"
   },
   {
    "duration": 46,
    "start_time": "2022-04-13T15:50:07.441Z"
   },
   {
    "duration": 44,
    "start_time": "2022-04-13T15:50:07.492Z"
   },
   {
    "duration": 27,
    "start_time": "2022-04-13T15:50:07.538Z"
   },
   {
    "duration": 7,
    "start_time": "2022-04-13T15:50:07.569Z"
   },
   {
    "duration": 286,
    "start_time": "2022-04-13T15:50:07.578Z"
   },
   {
    "duration": 4,
    "start_time": "2022-04-13T15:50:07.867Z"
   },
   {
    "duration": 8,
    "start_time": "2022-04-13T15:50:07.874Z"
   },
   {
    "duration": 49,
    "start_time": "2022-04-13T15:50:07.885Z"
   },
   {
    "duration": 18,
    "start_time": "2022-04-13T15:50:07.937Z"
   },
   {
    "duration": 41,
    "start_time": "2022-04-13T15:50:07.958Z"
   },
   {
    "duration": 601,
    "start_time": "2022-04-13T15:50:08.002Z"
   },
   {
    "duration": 23,
    "start_time": "2022-04-13T15:50:08.607Z"
   },
   {
    "duration": 10,
    "start_time": "2022-04-13T15:50:08.633Z"
   },
   {
    "duration": 913,
    "start_time": "2022-04-13T15:50:08.645Z"
   },
   {
    "duration": 70,
    "start_time": "2022-04-13T15:50:09.561Z"
   },
   {
    "duration": 23,
    "start_time": "2022-04-13T15:50:09.633Z"
   },
   {
    "duration": 38,
    "start_time": "2022-04-13T15:50:09.658Z"
   },
   {
    "duration": 48,
    "start_time": "2022-04-13T15:50:09.726Z"
   },
   {
    "duration": 222,
    "start_time": "2022-04-13T15:50:09.776Z"
   },
   {
    "duration": 40,
    "start_time": "2022-04-13T15:50:10.005Z"
   },
   {
    "duration": 14,
    "start_time": "2022-04-13T15:50:10.048Z"
   },
   {
    "duration": 86,
    "start_time": "2022-04-13T15:50:10.064Z"
   },
   {
    "duration": 30,
    "start_time": "2022-04-13T15:50:10.154Z"
   },
   {
    "duration": 53,
    "start_time": "2022-04-13T15:50:10.186Z"
   },
   {
    "duration": 58,
    "start_time": "2022-04-13T15:50:10.241Z"
   },
   {
    "duration": 26,
    "start_time": "2022-04-13T15:50:10.301Z"
   },
   {
    "duration": 37,
    "start_time": "2022-04-13T15:50:10.329Z"
   },
   {
    "duration": 68,
    "start_time": "2022-04-13T15:50:10.368Z"
   },
   {
    "duration": 71,
    "start_time": "2022-04-13T15:50:10.439Z"
   },
   {
    "duration": 26,
    "start_time": "2022-04-13T15:50:10.512Z"
   },
   {
    "duration": 29,
    "start_time": "2022-04-13T15:50:10.541Z"
   },
   {
    "duration": 59,
    "start_time": "2022-04-13T15:50:10.573Z"
   },
   {
    "duration": 31,
    "start_time": "2022-04-13T15:50:10.635Z"
   },
   {
    "duration": 94,
    "start_time": "2022-04-13T15:50:10.669Z"
   },
   {
    "duration": 19,
    "start_time": "2022-04-13T15:50:10.766Z"
   },
   {
    "duration": 47,
    "start_time": "2022-04-13T15:50:10.787Z"
   },
   {
    "duration": 34,
    "start_time": "2022-04-13T15:50:10.836Z"
   },
   {
    "duration": 52,
    "start_time": "2022-04-13T15:50:10.872Z"
   },
   {
    "duration": 180605,
    "start_time": "2022-04-13T15:50:10.927Z"
   },
   {
    "duration": 115,
    "start_time": "2022-04-13T15:53:11.535Z"
   },
   {
    "duration": 16,
    "start_time": "2022-04-13T15:53:11.653Z"
   },
   {
    "duration": 8,
    "start_time": "2022-04-13T15:53:11.673Z"
   },
   {
    "duration": 5,
    "start_time": "2022-04-13T15:53:11.683Z"
   },
   {
    "duration": 174,
    "start_time": "2022-04-13T17:01:53.056Z"
   },
   {
    "duration": 24,
    "start_time": "2022-04-13T17:02:02.765Z"
   },
   {
    "duration": 39,
    "start_time": "2022-04-13T17:02:13.639Z"
   },
   {
    "duration": 38,
    "start_time": "2022-04-13T17:02:34.833Z"
   },
   {
    "duration": 37,
    "start_time": "2022-04-13T17:02:48.764Z"
   },
   {
    "duration": 41,
    "start_time": "2022-04-13T17:02:55.704Z"
   },
   {
    "duration": 19,
    "start_time": "2022-04-13T17:04:47.767Z"
   },
   {
    "duration": 43,
    "start_time": "2022-04-13T17:04:52.723Z"
   },
   {
    "duration": 73,
    "start_time": "2022-04-13T17:07:48.688Z"
   },
   {
    "duration": 32,
    "start_time": "2022-04-13T17:32:12.674Z"
   },
   {
    "duration": 6,
    "start_time": "2022-04-13T17:32:38.800Z"
   },
   {
    "duration": 26,
    "start_time": "2022-04-13T17:32:43.960Z"
   },
   {
    "duration": 6,
    "start_time": "2022-04-13T17:33:03.698Z"
   },
   {
    "duration": 21,
    "start_time": "2022-04-13T17:33:09.233Z"
   },
   {
    "duration": 8,
    "start_time": "2022-04-13T17:34:12.894Z"
   },
   {
    "duration": 39,
    "start_time": "2022-04-13T17:34:39.030Z"
   },
   {
    "duration": 6,
    "start_time": "2022-04-13T17:36:02.725Z"
   },
   {
    "duration": 28,
    "start_time": "2022-04-13T17:36:03.424Z"
   },
   {
    "duration": 22,
    "start_time": "2022-04-13T17:37:19.612Z"
   },
   {
    "duration": 32,
    "start_time": "2022-04-13T17:37:42.175Z"
   },
   {
    "duration": 10,
    "start_time": "2022-04-13T17:39:24.825Z"
   },
   {
    "duration": 23,
    "start_time": "2022-04-13T17:39:25.708Z"
   },
   {
    "duration": 8,
    "start_time": "2022-04-13T17:39:29.818Z"
   },
   {
    "duration": 18,
    "start_time": "2022-04-13T17:39:58.076Z"
   },
   {
    "duration": 19,
    "start_time": "2022-04-13T17:40:29.497Z"
   },
   {
    "duration": 10,
    "start_time": "2022-04-13T17:40:42.602Z"
   },
   {
    "duration": 2347,
    "start_time": "2022-04-14T07:03:28.919Z"
   },
   {
    "duration": 160,
    "start_time": "2022-04-14T07:03:31.269Z"
   },
   {
    "duration": 4,
    "start_time": "2022-04-14T07:03:31.432Z"
   },
   {
    "duration": 40,
    "start_time": "2022-04-14T07:03:31.438Z"
   },
   {
    "duration": 55,
    "start_time": "2022-04-14T07:03:31.481Z"
   },
   {
    "duration": 93,
    "start_time": "2022-04-14T07:03:31.539Z"
   },
   {
    "duration": 16,
    "start_time": "2022-04-14T07:03:31.634Z"
   },
   {
    "duration": 33,
    "start_time": "2022-04-14T07:03:31.652Z"
   },
   {
    "duration": 58,
    "start_time": "2022-04-14T07:03:31.688Z"
   },
   {
    "duration": 12,
    "start_time": "2022-04-14T07:03:31.748Z"
   },
   {
    "duration": 115,
    "start_time": "2022-04-14T07:03:31.762Z"
   },
   {
    "duration": 31,
    "start_time": "2022-04-14T07:03:31.880Z"
   },
   {
    "duration": 322,
    "start_time": "2022-04-14T07:03:31.914Z"
   },
   {
    "duration": 3,
    "start_time": "2022-04-14T07:03:32.242Z"
   },
   {
    "duration": 42,
    "start_time": "2022-04-14T07:03:32.247Z"
   },
   {
    "duration": 29,
    "start_time": "2022-04-14T07:03:32.291Z"
   },
   {
    "duration": 27,
    "start_time": "2022-04-14T07:03:32.323Z"
   },
   {
    "duration": 56,
    "start_time": "2022-04-14T07:03:32.353Z"
   },
   {
    "duration": 367,
    "start_time": "2022-04-14T07:03:32.411Z"
   },
   {
    "duration": 12,
    "start_time": "2022-04-14T07:03:32.780Z"
   },
   {
    "duration": 14,
    "start_time": "2022-04-14T07:03:32.794Z"
   },
   {
    "duration": 875,
    "start_time": "2022-04-14T07:03:32.825Z"
   },
   {
    "duration": 71,
    "start_time": "2022-04-14T07:03:33.702Z"
   },
   {
    "duration": 22,
    "start_time": "2022-04-14T07:03:33.776Z"
   },
   {
    "duration": 59,
    "start_time": "2022-04-14T07:03:33.800Z"
   },
   {
    "duration": 65,
    "start_time": "2022-04-14T07:03:33.862Z"
   },
   {
    "duration": 159,
    "start_time": "2022-04-14T07:03:33.930Z"
   },
   {
    "duration": 39,
    "start_time": "2022-04-14T07:03:34.091Z"
   },
   {
    "duration": 4,
    "start_time": "2022-04-14T07:03:34.132Z"
   },
   {
    "duration": 82,
    "start_time": "2022-04-14T07:03:34.138Z"
   },
   {
    "duration": 26,
    "start_time": "2022-04-14T07:03:34.225Z"
   },
   {
    "duration": 23,
    "start_time": "2022-04-14T07:03:34.253Z"
   },
   {
    "duration": 52,
    "start_time": "2022-04-14T07:03:34.278Z"
   },
   {
    "duration": 13,
    "start_time": "2022-04-14T07:03:34.332Z"
   },
   {
    "duration": 28,
    "start_time": "2022-04-14T07:03:34.348Z"
   },
   {
    "duration": 53,
    "start_time": "2022-04-14T07:03:34.378Z"
   },
   {
    "duration": 66,
    "start_time": "2022-04-14T07:03:34.433Z"
   },
   {
    "duration": 34,
    "start_time": "2022-04-14T07:03:34.501Z"
   },
   {
    "duration": 20,
    "start_time": "2022-04-14T07:03:34.537Z"
   },
   {
    "duration": 22,
    "start_time": "2022-04-14T07:03:34.560Z"
   },
   {
    "duration": 19,
    "start_time": "2022-04-14T07:03:34.626Z"
   },
   {
    "duration": 45,
    "start_time": "2022-04-14T07:03:34.648Z"
   },
   {
    "duration": 44,
    "start_time": "2022-04-14T07:03:34.696Z"
   },
   {
    "duration": 23,
    "start_time": "2022-04-14T07:03:34.743Z"
   },
   {
    "duration": 69,
    "start_time": "2022-04-14T07:03:34.769Z"
   },
   {
    "duration": 29,
    "start_time": "2022-04-14T07:03:34.841Z"
   },
   {
    "duration": 174295,
    "start_time": "2022-04-14T07:03:34.873Z"
   },
   {
    "duration": 110,
    "start_time": "2022-04-14T07:06:29.171Z"
   },
   {
    "duration": 15,
    "start_time": "2022-04-14T07:06:29.283Z"
   },
   {
    "duration": 26,
    "start_time": "2022-04-14T07:06:29.301Z"
   },
   {
    "duration": 6,
    "start_time": "2022-04-14T07:06:29.329Z"
   },
   {
    "duration": 24,
    "start_time": "2022-04-14T07:06:29.337Z"
   },
   {
    "duration": 32,
    "start_time": "2022-04-14T07:06:29.363Z"
   },
   {
    "duration": 62,
    "start_time": "2022-04-14T07:06:29.397Z"
   },
   {
    "duration": 7,
    "start_time": "2022-04-14T07:06:29.461Z"
   },
   {
    "duration": 64,
    "start_time": "2022-04-14T07:06:29.470Z"
   },
   {
    "duration": 91,
    "start_time": "2022-04-14T07:06:29.537Z"
   },
   {
    "duration": 15,
    "start_time": "2022-04-14T07:06:29.630Z"
   },
   {
    "duration": 15,
    "start_time": "2022-04-14T07:06:29.647Z"
   },
   {
    "duration": 25,
    "start_time": "2022-04-14T07:06:29.664Z"
   },
   {
    "duration": 45,
    "start_time": "2022-04-14T07:06:29.691Z"
   },
   {
    "duration": 10,
    "start_time": "2022-04-14T07:06:29.739Z"
   },
   {
    "duration": 5,
    "start_time": "2022-04-14T07:24:30.053Z"
   },
   {
    "duration": 151,
    "start_time": "2022-04-14T07:24:30.060Z"
   },
   {
    "duration": 4,
    "start_time": "2022-04-14T07:24:30.226Z"
   },
   {
    "duration": 46,
    "start_time": "2022-04-14T07:24:30.232Z"
   },
   {
    "duration": 66,
    "start_time": "2022-04-14T07:24:30.281Z"
   },
   {
    "duration": 22,
    "start_time": "2022-04-14T07:24:30.349Z"
   },
   {
    "duration": 60,
    "start_time": "2022-04-14T07:24:30.373Z"
   },
   {
    "duration": 21,
    "start_time": "2022-04-14T07:24:30.435Z"
   },
   {
    "duration": 68,
    "start_time": "2022-04-14T07:24:30.458Z"
   },
   {
    "duration": 12,
    "start_time": "2022-04-14T07:24:30.528Z"
   },
   {
    "duration": 26,
    "start_time": "2022-04-14T07:24:30.543Z"
   },
   {
    "duration": 5,
    "start_time": "2022-04-14T07:24:30.572Z"
   },
   {
    "duration": 255,
    "start_time": "2022-04-14T07:24:30.580Z"
   },
   {
    "duration": 4,
    "start_time": "2022-04-14T07:24:30.837Z"
   },
   {
    "duration": 8,
    "start_time": "2022-04-14T07:24:30.843Z"
   },
   {
    "duration": 12,
    "start_time": "2022-04-14T07:24:30.853Z"
   },
   {
    "duration": 22,
    "start_time": "2022-04-14T07:24:30.867Z"
   },
   {
    "duration": 69,
    "start_time": "2022-04-14T07:24:30.891Z"
   },
   {
    "duration": 376,
    "start_time": "2022-04-14T07:24:30.962Z"
   },
   {
    "duration": 13,
    "start_time": "2022-04-14T07:24:31.341Z"
   },
   {
    "duration": 12,
    "start_time": "2022-04-14T07:24:31.357Z"
   },
   {
    "duration": 859,
    "start_time": "2022-04-14T07:24:31.372Z"
   },
   {
    "duration": 54,
    "start_time": "2022-04-14T07:24:32.234Z"
   },
   {
    "duration": 47,
    "start_time": "2022-04-14T07:24:32.290Z"
   },
   {
    "duration": 40,
    "start_time": "2022-04-14T07:24:32.339Z"
   },
   {
    "duration": 73,
    "start_time": "2022-04-14T07:24:32.381Z"
   },
   {
    "duration": 70,
    "start_time": "2022-04-14T07:24:32.456Z"
   },
   {
    "duration": 22,
    "start_time": "2022-04-14T07:24:32.529Z"
   },
   {
    "duration": 6,
    "start_time": "2022-04-14T07:24:32.557Z"
   },
   {
    "duration": 89,
    "start_time": "2022-04-14T07:24:32.565Z"
   },
   {
    "duration": 27,
    "start_time": "2022-04-14T07:24:32.657Z"
   },
   {
    "duration": 46,
    "start_time": "2022-04-14T07:24:32.686Z"
   },
   {
    "duration": 17,
    "start_time": "2022-04-14T07:24:32.734Z"
   },
   {
    "duration": 10,
    "start_time": "2022-04-14T07:24:32.753Z"
   },
   {
    "duration": 25,
    "start_time": "2022-04-14T07:24:32.766Z"
   },
   {
    "duration": 71,
    "start_time": "2022-04-14T07:24:32.794Z"
   },
   {
    "duration": 89,
    "start_time": "2022-04-14T07:24:32.867Z"
   },
   {
    "duration": 17,
    "start_time": "2022-04-14T07:24:32.958Z"
   },
   {
    "duration": 18,
    "start_time": "2022-04-14T07:24:32.978Z"
   },
   {
    "duration": 42,
    "start_time": "2022-04-14T07:24:32.998Z"
   },
   {
    "duration": 28,
    "start_time": "2022-04-14T07:24:33.042Z"
   },
   {
    "duration": 70,
    "start_time": "2022-04-14T07:24:33.072Z"
   },
   {
    "duration": 18,
    "start_time": "2022-04-14T07:24:33.145Z"
   },
   {
    "duration": 59,
    "start_time": "2022-04-14T07:24:33.166Z"
   },
   {
    "duration": 51,
    "start_time": "2022-04-14T07:24:33.228Z"
   },
   {
    "duration": 55,
    "start_time": "2022-04-14T07:24:33.281Z"
   },
   {
    "duration": 176220,
    "start_time": "2022-04-14T07:24:33.339Z"
   },
   {
    "duration": 109,
    "start_time": "2022-04-14T07:27:29.561Z"
   },
   {
    "duration": 15,
    "start_time": "2022-04-14T07:27:29.672Z"
   },
   {
    "duration": 11,
    "start_time": "2022-04-14T07:27:29.689Z"
   },
   {
    "duration": 4,
    "start_time": "2022-04-14T07:27:29.724Z"
   },
   {
    "duration": 23,
    "start_time": "2022-04-14T07:27:29.730Z"
   },
   {
    "duration": 29,
    "start_time": "2022-04-14T07:27:29.755Z"
   },
   {
    "duration": 63,
    "start_time": "2022-04-14T07:27:29.786Z"
   },
   {
    "duration": 5,
    "start_time": "2022-04-14T07:27:29.851Z"
   },
   {
    "duration": 27,
    "start_time": "2022-04-14T07:27:29.859Z"
   },
   {
    "duration": 100,
    "start_time": "2022-04-14T07:27:29.888Z"
   },
   {
    "duration": 14,
    "start_time": "2022-04-14T07:27:29.990Z"
   },
   {
    "duration": 9,
    "start_time": "2022-04-14T07:27:30.025Z"
   },
   {
    "duration": 36,
    "start_time": "2022-04-14T07:27:30.037Z"
   },
   {
    "duration": 17,
    "start_time": "2022-04-14T07:27:30.075Z"
   },
   {
    "duration": 30,
    "start_time": "2022-04-14T07:27:30.094Z"
   },
   {
    "duration": 13,
    "start_time": "2022-04-14T09:40:56.368Z"
   },
   {
    "duration": 34,
    "start_time": "2022-04-14T09:41:02.140Z"
   },
   {
    "duration": 31,
    "start_time": "2022-04-14T09:50:13.269Z"
   },
   {
    "duration": 32,
    "start_time": "2022-04-14T09:51:32.918Z"
   },
   {
    "duration": 35,
    "start_time": "2022-04-14T09:51:37.054Z"
   },
   {
    "duration": 33,
    "start_time": "2022-04-14T09:51:42.936Z"
   },
   {
    "duration": 52,
    "start_time": "2022-04-14T10:02:39.071Z"
   },
   {
    "duration": 44,
    "start_time": "2022-04-14T10:12:05.698Z"
   },
   {
    "duration": 5,
    "start_time": "2022-04-14T10:12:31.328Z"
   },
   {
    "duration": 158,
    "start_time": "2022-04-14T10:12:31.336Z"
   },
   {
    "duration": 4,
    "start_time": "2022-04-14T10:12:31.497Z"
   },
   {
    "duration": 52,
    "start_time": "2022-04-14T10:12:31.503Z"
   },
   {
    "duration": 31,
    "start_time": "2022-04-14T10:12:31.558Z"
   },
   {
    "duration": 44,
    "start_time": "2022-04-14T10:12:31.591Z"
   },
   {
    "duration": 22,
    "start_time": "2022-04-14T10:12:31.638Z"
   },
   {
    "duration": 85,
    "start_time": "2022-04-14T10:12:31.662Z"
   },
   {
    "duration": 56,
    "start_time": "2022-04-14T10:12:31.750Z"
   },
   {
    "duration": 5,
    "start_time": "2022-04-14T10:13:49.694Z"
   },
   {
    "duration": 154,
    "start_time": "2022-04-14T10:13:49.703Z"
   },
   {
    "duration": 5,
    "start_time": "2022-04-14T10:13:49.859Z"
   },
   {
    "duration": 42,
    "start_time": "2022-04-14T10:13:49.866Z"
   },
   {
    "duration": 52,
    "start_time": "2022-04-14T10:13:49.924Z"
   },
   {
    "duration": 26,
    "start_time": "2022-04-14T10:20:16.971Z"
   },
   {
    "duration": 38,
    "start_time": "2022-04-14T10:20:27.084Z"
   },
   {
    "duration": 52,
    "start_time": "2022-04-14T10:20:36.340Z"
   },
   {
    "duration": 6,
    "start_time": "2022-04-14T10:20:45.397Z"
   },
   {
    "duration": 180,
    "start_time": "2022-04-14T10:20:45.407Z"
   },
   {
    "duration": 5,
    "start_time": "2022-04-14T10:20:45.589Z"
   },
   {
    "duration": 54,
    "start_time": "2022-04-14T10:20:45.597Z"
   },
   {
    "duration": 83,
    "start_time": "2022-04-14T10:20:45.655Z"
   },
   {
    "duration": 49,
    "start_time": "2022-04-14T10:20:45.742Z"
   },
   {
    "duration": 69,
    "start_time": "2022-04-14T10:20:45.793Z"
   },
   {
    "duration": 15,
    "start_time": "2022-04-14T10:20:45.865Z"
   },
   {
    "duration": 6,
    "start_time": "2022-04-14T10:42:47.760Z"
   },
   {
    "duration": 15,
    "start_time": "2022-04-14T10:47:13.616Z"
   },
   {
    "duration": 30,
    "start_time": "2022-04-14T10:48:53.599Z"
   },
   {
    "duration": 24,
    "start_time": "2022-04-14T10:49:07.177Z"
   },
   {
    "duration": 14,
    "start_time": "2022-04-14T11:07:51.228Z"
   },
   {
    "duration": 21,
    "start_time": "2022-04-14T11:07:58.416Z"
   },
   {
    "duration": 11,
    "start_time": "2022-04-14T11:19:50.505Z"
   },
   {
    "duration": 10,
    "start_time": "2022-04-14T11:21:29.340Z"
   },
   {
    "duration": 10,
    "start_time": "2022-04-14T11:21:29.915Z"
   },
   {
    "duration": 16,
    "start_time": "2022-04-14T11:21:53.400Z"
   },
   {
    "duration": 11,
    "start_time": "2022-04-14T11:24:02.762Z"
   },
   {
    "duration": 14,
    "start_time": "2022-04-14T11:24:22.722Z"
   },
   {
    "duration": 24,
    "start_time": "2022-04-14T11:25:13.672Z"
   },
   {
    "duration": 10,
    "start_time": "2022-04-14T11:25:57.140Z"
   },
   {
    "duration": 9,
    "start_time": "2022-04-14T11:27:48.014Z"
   },
   {
    "duration": 23,
    "start_time": "2022-04-14T11:30:19.763Z"
   },
   {
    "duration": 21,
    "start_time": "2022-04-14T11:30:51.470Z"
   },
   {
    "duration": 3,
    "start_time": "2022-04-14T11:37:24.662Z"
   },
   {
    "duration": 3,
    "start_time": "2022-04-14T11:37:25.620Z"
   },
   {
    "duration": 11,
    "start_time": "2022-04-14T11:37:26.405Z"
   },
   {
    "duration": 8,
    "start_time": "2022-04-14T11:37:26.556Z"
   },
   {
    "duration": 9,
    "start_time": "2022-04-14T11:37:26.856Z"
   },
   {
    "duration": 12,
    "start_time": "2022-04-14T11:37:27.667Z"
   },
   {
    "duration": 22,
    "start_time": "2022-04-14T11:37:28.026Z"
   },
   {
    "duration": 6,
    "start_time": "2022-04-14T11:37:36.699Z"
   },
   {
    "duration": 149,
    "start_time": "2022-04-14T11:37:36.708Z"
   },
   {
    "duration": 4,
    "start_time": "2022-04-14T11:37:36.860Z"
   },
   {
    "duration": 37,
    "start_time": "2022-04-14T11:37:36.866Z"
   },
   {
    "duration": 48,
    "start_time": "2022-04-14T11:37:36.906Z"
   },
   {
    "duration": 33,
    "start_time": "2022-04-14T11:37:36.956Z"
   },
   {
    "duration": 70,
    "start_time": "2022-04-14T11:37:36.992Z"
   },
   {
    "duration": 3,
    "start_time": "2022-04-14T11:37:37.064Z"
   },
   {
    "duration": 9,
    "start_time": "2022-04-14T11:37:37.071Z"
   },
   {
    "duration": 46,
    "start_time": "2022-04-14T11:37:37.083Z"
   },
   {
    "duration": 9,
    "start_time": "2022-04-14T11:37:37.133Z"
   },
   {
    "duration": 9,
    "start_time": "2022-04-14T11:37:37.145Z"
   },
   {
    "duration": 13,
    "start_time": "2022-04-14T11:37:37.156Z"
   },
   {
    "duration": 58,
    "start_time": "2022-04-14T11:37:37.171Z"
   },
   {
    "duration": 11,
    "start_time": "2022-04-14T11:37:37.231Z"
   },
   {
    "duration": 23,
    "start_time": "2022-04-14T11:38:01.250Z"
   },
   {
    "duration": 23,
    "start_time": "2022-04-14T11:38:28.776Z"
   },
   {
    "duration": 12,
    "start_time": "2022-04-14T11:39:10.285Z"
   },
   {
    "duration": 8,
    "start_time": "2022-04-14T11:39:10.729Z"
   },
   {
    "duration": 10,
    "start_time": "2022-04-14T11:39:11.594Z"
   },
   {
    "duration": 12,
    "start_time": "2022-04-14T11:39:12.719Z"
   },
   {
    "duration": 14,
    "start_time": "2022-04-14T11:39:18.844Z"
   },
   {
    "duration": 15,
    "start_time": "2022-04-14T11:40:42.539Z"
   },
   {
    "duration": 20,
    "start_time": "2022-04-14T11:42:08.141Z"
   },
   {
    "duration": 5,
    "start_time": "2022-04-14T12:30:05.166Z"
   },
   {
    "duration": 163,
    "start_time": "2022-04-14T12:30:05.173Z"
   },
   {
    "duration": 5,
    "start_time": "2022-04-14T12:30:05.340Z"
   },
   {
    "duration": 57,
    "start_time": "2022-04-14T12:30:05.347Z"
   },
   {
    "duration": 36,
    "start_time": "2022-04-14T12:30:05.407Z"
   },
   {
    "duration": 41,
    "start_time": "2022-04-14T12:30:05.446Z"
   },
   {
    "duration": 54,
    "start_time": "2022-04-14T12:30:05.489Z"
   },
   {
    "duration": 10,
    "start_time": "2022-04-14T12:30:05.546Z"
   },
   {
    "duration": 21,
    "start_time": "2022-04-14T12:30:05.559Z"
   },
   {
    "duration": 35,
    "start_time": "2022-04-14T12:30:05.582Z"
   },
   {
    "duration": 27,
    "start_time": "2022-04-14T12:30:05.620Z"
   },
   {
    "duration": 31,
    "start_time": "2022-04-14T12:30:05.649Z"
   },
   {
    "duration": 30,
    "start_time": "2022-04-14T12:30:05.683Z"
   },
   {
    "duration": 26,
    "start_time": "2022-04-14T12:30:05.715Z"
   },
   {
    "duration": 61,
    "start_time": "2022-04-14T12:30:05.743Z"
   },
   {
    "duration": 4,
    "start_time": "2022-04-14T12:36:42.196Z"
   },
   {
    "duration": 21,
    "start_time": "2022-04-14T12:39:23.743Z"
   },
   {
    "duration": 38,
    "start_time": "2022-04-14T12:41:30.354Z"
   },
   {
    "duration": 37,
    "start_time": "2022-04-14T12:42:05.105Z"
   },
   {
    "duration": 37,
    "start_time": "2022-04-14T12:42:12.072Z"
   },
   {
    "duration": 36,
    "start_time": "2022-04-14T12:42:28.109Z"
   },
   {
    "duration": 5,
    "start_time": "2022-04-14T12:42:37.317Z"
   },
   {
    "duration": 155,
    "start_time": "2022-04-14T12:42:37.325Z"
   },
   {
    "duration": 5,
    "start_time": "2022-04-14T12:42:37.483Z"
   },
   {
    "duration": 44,
    "start_time": "2022-04-14T12:42:37.490Z"
   },
   {
    "duration": 31,
    "start_time": "2022-04-14T12:42:37.537Z"
   },
   {
    "duration": 64,
    "start_time": "2022-04-14T12:42:37.571Z"
   },
   {
    "duration": 40,
    "start_time": "2022-04-14T12:42:37.638Z"
   },
   {
    "duration": 11,
    "start_time": "2022-04-14T12:42:37.680Z"
   },
   {
    "duration": 9,
    "start_time": "2022-04-14T12:42:37.725Z"
   },
   {
    "duration": 14,
    "start_time": "2022-04-14T12:42:37.737Z"
   },
   {
    "duration": 13,
    "start_time": "2022-04-14T12:42:37.754Z"
   },
   {
    "duration": 19,
    "start_time": "2022-04-14T12:42:37.770Z"
   },
   {
    "duration": 24,
    "start_time": "2022-04-14T12:42:37.824Z"
   },
   {
    "duration": 21,
    "start_time": "2022-04-14T12:42:37.853Z"
   },
   {
    "duration": 67,
    "start_time": "2022-04-14T12:42:37.876Z"
   },
   {
    "duration": 370,
    "start_time": "2022-04-14T12:42:37.946Z"
   },
   {
    "duration": 13,
    "start_time": "2022-04-14T12:42:38.318Z"
   },
   {
    "duration": 48,
    "start_time": "2022-04-14T12:42:38.333Z"
   },
   {
    "duration": 419,
    "start_time": "2022-04-14T12:42:56.156Z"
   },
   {
    "duration": 191,
    "start_time": "2022-04-14T12:45:40.304Z"
   },
   {
    "duration": 195,
    "start_time": "2022-04-14T12:45:59.882Z"
   },
   {
    "duration": 226,
    "start_time": "2022-04-14T12:46:29.909Z"
   },
   {
    "duration": 184,
    "start_time": "2022-04-14T12:48:02.398Z"
   },
   {
    "duration": 19,
    "start_time": "2022-04-14T12:48:11.788Z"
   },
   {
    "duration": 9,
    "start_time": "2022-04-14T12:48:22.853Z"
   },
   {
    "duration": 4,
    "start_time": "2022-04-14T12:49:39.578Z"
   },
   {
    "duration": 10,
    "start_time": "2022-04-14T12:50:13.925Z"
   },
   {
    "duration": 201,
    "start_time": "2022-04-14T12:50:23.937Z"
   },
   {
    "duration": 11,
    "start_time": "2022-04-14T12:52:04.389Z"
   },
   {
    "duration": 41,
    "start_time": "2022-04-14T12:54:06.186Z"
   },
   {
    "duration": 49,
    "start_time": "2022-04-14T12:55:09.632Z"
   },
   {
    "duration": 49,
    "start_time": "2022-04-14T12:55:31.010Z"
   },
   {
    "duration": 345,
    "start_time": "2022-04-14T12:55:32.648Z"
   },
   {
    "duration": 429,
    "start_time": "2022-04-14T12:55:40.929Z"
   },
   {
    "duration": 3,
    "start_time": "2022-04-14T12:56:16.859Z"
   },
   {
    "duration": 29,
    "start_time": "2022-04-14T12:56:50.476Z"
   },
   {
    "duration": 200,
    "start_time": "2022-04-14T12:57:15.802Z"
   },
   {
    "duration": 426,
    "start_time": "2022-04-14T12:57:48.652Z"
   },
   {
    "duration": 17,
    "start_time": "2022-04-14T13:00:46.712Z"
   },
   {
    "duration": 201,
    "start_time": "2022-04-14T13:00:54.157Z"
   },
   {
    "duration": 10,
    "start_time": "2022-04-14T13:00:56.051Z"
   },
   {
    "duration": 12,
    "start_time": "2022-04-14T13:02:25.241Z"
   },
   {
    "duration": 21,
    "start_time": "2022-04-14T13:06:50.704Z"
   },
   {
    "duration": 35,
    "start_time": "2022-04-14T13:07:00.112Z"
   },
   {
    "duration": 6,
    "start_time": "2022-04-14T13:07:41.562Z"
   },
   {
    "duration": 156,
    "start_time": "2022-04-14T13:07:41.572Z"
   },
   {
    "duration": 5,
    "start_time": "2022-04-14T13:07:41.730Z"
   },
   {
    "duration": 36,
    "start_time": "2022-04-14T13:07:41.738Z"
   },
   {
    "duration": 58,
    "start_time": "2022-04-14T13:07:41.779Z"
   },
   {
    "duration": 33,
    "start_time": "2022-04-14T13:07:41.840Z"
   },
   {
    "duration": 69,
    "start_time": "2022-04-14T13:07:41.876Z"
   },
   {
    "duration": 10,
    "start_time": "2022-04-14T13:07:41.947Z"
   },
   {
    "duration": 8,
    "start_time": "2022-04-14T13:07:41.960Z"
   },
   {
    "duration": 13,
    "start_time": "2022-04-14T13:07:41.970Z"
   },
   {
    "duration": 49,
    "start_time": "2022-04-14T13:07:41.985Z"
   },
   {
    "duration": 17,
    "start_time": "2022-04-14T13:07:42.037Z"
   },
   {
    "duration": 28,
    "start_time": "2022-04-14T13:07:42.057Z"
   },
   {
    "duration": 20,
    "start_time": "2022-04-14T13:07:42.126Z"
   },
   {
    "duration": 76,
    "start_time": "2022-04-14T13:07:42.148Z"
   },
   {
    "duration": 455,
    "start_time": "2022-04-14T13:07:42.227Z"
   },
   {
    "duration": 4,
    "start_time": "2022-04-14T13:07:42.684Z"
   },
   {
    "duration": 46,
    "start_time": "2022-04-14T13:07:42.690Z"
   },
   {
    "duration": 233,
    "start_time": "2022-04-14T13:07:42.738Z"
   },
   {
    "duration": 9,
    "start_time": "2022-04-14T13:07:42.973Z"
   },
   {
    "duration": 54,
    "start_time": "2022-04-14T13:07:42.984Z"
   },
   {
    "duration": 23,
    "start_time": "2022-04-14T13:09:00.408Z"
   },
   {
    "duration": 5,
    "start_time": "2022-04-14T13:09:11.691Z"
   },
   {
    "duration": 177,
    "start_time": "2022-04-14T13:09:11.698Z"
   },
   {
    "duration": 5,
    "start_time": "2022-04-14T13:09:11.878Z"
   },
   {
    "duration": 55,
    "start_time": "2022-04-14T13:09:11.886Z"
   },
   {
    "duration": 32,
    "start_time": "2022-04-14T13:09:11.944Z"
   },
   {
    "duration": 61,
    "start_time": "2022-04-14T13:09:11.978Z"
   },
   {
    "duration": 46,
    "start_time": "2022-04-14T13:09:12.041Z"
   },
   {
    "duration": 38,
    "start_time": "2022-04-14T13:09:12.089Z"
   },
   {
    "duration": 19,
    "start_time": "2022-04-14T13:09:12.130Z"
   },
   {
    "duration": 15,
    "start_time": "2022-04-14T13:09:12.151Z"
   },
   {
    "duration": 14,
    "start_time": "2022-04-14T13:09:12.170Z"
   },
   {
    "duration": 46,
    "start_time": "2022-04-14T13:09:12.186Z"
   },
   {
    "duration": 25,
    "start_time": "2022-04-14T13:09:12.234Z"
   },
   {
    "duration": 21,
    "start_time": "2022-04-14T13:09:12.262Z"
   },
   {
    "duration": 79,
    "start_time": "2022-04-14T13:09:12.285Z"
   },
   {
    "duration": 906,
    "start_time": "2022-04-14T13:09:12.366Z"
   },
   {
    "duration": 4,
    "start_time": "2022-04-14T13:09:13.274Z"
   },
   {
    "duration": 57,
    "start_time": "2022-04-14T13:09:13.280Z"
   },
   {
    "duration": 227,
    "start_time": "2022-04-14T13:09:13.339Z"
   },
   {
    "duration": 10,
    "start_time": "2022-04-14T13:09:13.568Z"
   },
   {
    "duration": 51,
    "start_time": "2022-04-14T13:09:13.580Z"
   },
   {
    "duration": 29,
    "start_time": "2022-04-14T14:16:52.113Z"
   },
   {
    "duration": 30,
    "start_time": "2022-04-14T14:17:06.243Z"
   },
   {
    "duration": 14,
    "start_time": "2022-04-14T14:19:50.136Z"
   },
   {
    "duration": 154,
    "start_time": "2022-04-14T14:20:01.908Z"
   },
   {
    "duration": 24,
    "start_time": "2022-04-14T14:20:23.088Z"
   },
   {
    "duration": 25,
    "start_time": "2022-04-14T14:21:06.865Z"
   },
   {
    "duration": 25,
    "start_time": "2022-04-14T14:22:42.503Z"
   },
   {
    "duration": 25,
    "start_time": "2022-04-14T14:23:02.560Z"
   },
   {
    "duration": 367,
    "start_time": "2022-04-14T14:23:57.393Z"
   },
   {
    "duration": 117,
    "start_time": "2022-04-14T14:24:36.402Z"
   },
   {
    "duration": 154,
    "start_time": "2022-04-14T14:24:58.435Z"
   },
   {
    "duration": 141,
    "start_time": "2022-04-14T14:25:15.264Z"
   },
   {
    "duration": 129,
    "start_time": "2022-04-14T14:25:21.782Z"
   },
   {
    "duration": 124,
    "start_time": "2022-04-14T14:25:52.578Z"
   },
   {
    "duration": 174,
    "start_time": "2022-04-14T14:26:02.095Z"
   },
   {
    "duration": 117,
    "start_time": "2022-04-14T14:26:45.285Z"
   },
   {
    "duration": 114,
    "start_time": "2022-04-14T14:27:23.036Z"
   },
   {
    "duration": 129,
    "start_time": "2022-04-14T14:27:49.296Z"
   },
   {
    "duration": 6,
    "start_time": "2022-04-14T14:28:42.126Z"
   },
   {
    "duration": 158,
    "start_time": "2022-04-14T14:28:42.136Z"
   },
   {
    "duration": 5,
    "start_time": "2022-04-14T14:28:42.296Z"
   },
   {
    "duration": 51,
    "start_time": "2022-04-14T14:28:42.303Z"
   },
   {
    "duration": 32,
    "start_time": "2022-04-14T14:28:42.357Z"
   },
   {
    "duration": 54,
    "start_time": "2022-04-14T14:28:42.391Z"
   },
   {
    "duration": 43,
    "start_time": "2022-04-14T14:28:42.447Z"
   },
   {
    "duration": 41,
    "start_time": "2022-04-14T14:28:42.493Z"
   },
   {
    "duration": 10,
    "start_time": "2022-04-14T14:28:42.536Z"
   },
   {
    "duration": 13,
    "start_time": "2022-04-14T14:28:42.549Z"
   },
   {
    "duration": 11,
    "start_time": "2022-04-14T14:28:42.565Z"
   },
   {
    "duration": 54,
    "start_time": "2022-04-14T14:28:42.578Z"
   },
   {
    "duration": 31,
    "start_time": "2022-04-14T14:28:42.634Z"
   },
   {
    "duration": 19,
    "start_time": "2022-04-14T14:28:42.667Z"
   },
   {
    "duration": 72,
    "start_time": "2022-04-14T14:28:42.688Z"
   },
   {
    "duration": 453,
    "start_time": "2022-04-14T14:28:42.762Z"
   },
   {
    "duration": 134,
    "start_time": "2022-04-14T14:28:43.217Z"
   },
   {
    "duration": 124,
    "start_time": "2022-04-14T14:29:01.380Z"
   },
   {
    "duration": 266,
    "start_time": "2022-04-14T14:30:01.521Z"
   },
   {
    "duration": 9,
    "start_time": "2022-04-14T14:30:03.202Z"
   },
   {
    "duration": 36,
    "start_time": "2022-04-14T14:30:04.265Z"
   },
   {
    "duration": 9,
    "start_time": "2022-04-14T14:30:05.913Z"
   },
   {
    "duration": 8,
    "start_time": "2022-04-14T14:30:32.007Z"
   },
   {
    "duration": 881,
    "start_time": "2022-04-14T14:33:07.959Z"
   },
   {
    "duration": 43,
    "start_time": "2022-04-14T14:33:12.150Z"
   },
   {
    "duration": 753,
    "start_time": "2022-04-14T14:35:21.554Z"
   },
   {
    "duration": 2148,
    "start_time": "2022-04-14T14:39:31.715Z"
   },
   {
    "duration": 52,
    "start_time": "2022-04-14T14:39:44.626Z"
   },
   {
    "duration": 53,
    "start_time": "2022-04-14T14:40:08.567Z"
   },
   {
    "duration": 2091,
    "start_time": "2022-04-14T14:40:47.212Z"
   },
   {
    "duration": 58,
    "start_time": "2022-04-14T14:40:57.917Z"
   },
   {
    "duration": 54,
    "start_time": "2022-04-14T14:41:35.564Z"
   },
   {
    "duration": 5,
    "start_time": "2022-04-14T14:41:43.497Z"
   },
   {
    "duration": 157,
    "start_time": "2022-04-14T14:41:43.508Z"
   },
   {
    "duration": 4,
    "start_time": "2022-04-14T14:41:43.668Z"
   },
   {
    "duration": 54,
    "start_time": "2022-04-14T14:41:43.674Z"
   },
   {
    "duration": 31,
    "start_time": "2022-04-14T14:41:43.731Z"
   },
   {
    "duration": 60,
    "start_time": "2022-04-14T14:41:43.764Z"
   },
   {
    "duration": 39,
    "start_time": "2022-04-14T14:41:43.827Z"
   },
   {
    "duration": 10,
    "start_time": "2022-04-14T14:41:43.868Z"
   },
   {
    "duration": 12,
    "start_time": "2022-04-14T14:41:43.880Z"
   },
   {
    "duration": 37,
    "start_time": "2022-04-14T14:41:43.894Z"
   },
   {
    "duration": 11,
    "start_time": "2022-04-14T14:41:43.935Z"
   },
   {
    "duration": 15,
    "start_time": "2022-04-14T14:41:43.949Z"
   },
   {
    "duration": 60,
    "start_time": "2022-04-14T14:41:43.966Z"
   },
   {
    "duration": 20,
    "start_time": "2022-04-14T14:41:44.028Z"
   },
   {
    "duration": 48,
    "start_time": "2022-04-14T14:41:44.050Z"
   },
   {
    "duration": 432,
    "start_time": "2022-04-14T14:41:44.124Z"
   },
   {
    "duration": 132,
    "start_time": "2022-04-14T14:41:44.558Z"
   },
   {
    "duration": 226,
    "start_time": "2022-04-14T14:41:44.692Z"
   },
   {
    "duration": 9,
    "start_time": "2022-04-14T14:41:44.925Z"
   },
   {
    "duration": 32,
    "start_time": "2022-04-14T14:41:44.936Z"
   },
   {
    "duration": 11,
    "start_time": "2022-04-14T14:41:44.970Z"
   },
   {
    "duration": 10,
    "start_time": "2022-04-14T14:41:44.982Z"
   },
   {
    "duration": 81,
    "start_time": "2022-04-14T14:41:44.994Z"
   },
   {
    "duration": 62,
    "start_time": "2022-04-14T14:42:14.984Z"
   },
   {
    "duration": 4,
    "start_time": "2022-04-14T14:42:22.139Z"
   },
   {
    "duration": 155,
    "start_time": "2022-04-14T14:42:22.146Z"
   },
   {
    "duration": 4,
    "start_time": "2022-04-14T14:42:22.304Z"
   },
   {
    "duration": 50,
    "start_time": "2022-04-14T14:42:22.310Z"
   },
   {
    "duration": 35,
    "start_time": "2022-04-14T14:42:22.363Z"
   },
   {
    "duration": 34,
    "start_time": "2022-04-14T14:42:22.425Z"
   },
   {
    "duration": 66,
    "start_time": "2022-04-14T14:42:22.461Z"
   },
   {
    "duration": 10,
    "start_time": "2022-04-14T14:42:22.530Z"
   },
   {
    "duration": 12,
    "start_time": "2022-04-14T14:42:22.542Z"
   },
   {
    "duration": 13,
    "start_time": "2022-04-14T14:42:22.557Z"
   },
   {
    "duration": 50,
    "start_time": "2022-04-14T14:42:22.574Z"
   },
   {
    "duration": 15,
    "start_time": "2022-04-14T14:42:22.626Z"
   },
   {
    "duration": 32,
    "start_time": "2022-04-14T14:42:22.643Z"
   },
   {
    "duration": 49,
    "start_time": "2022-04-14T14:42:22.677Z"
   },
   {
    "duration": 48,
    "start_time": "2022-04-14T14:42:22.728Z"
   },
   {
    "duration": 449,
    "start_time": "2022-04-14T14:42:22.778Z"
   },
   {
    "duration": 139,
    "start_time": "2022-04-14T14:42:23.229Z"
   },
   {
    "duration": 223,
    "start_time": "2022-04-14T14:42:23.371Z"
   },
   {
    "duration": 10,
    "start_time": "2022-04-14T14:42:23.597Z"
   },
   {
    "duration": 24,
    "start_time": "2022-04-14T14:42:23.625Z"
   },
   {
    "duration": 9,
    "start_time": "2022-04-14T14:42:23.651Z"
   },
   {
    "duration": 7,
    "start_time": "2022-04-14T14:42:23.662Z"
   },
   {
    "duration": 98,
    "start_time": "2022-04-14T14:42:23.672Z"
   },
   {
    "duration": 28,
    "start_time": "2022-04-14T14:43:56.887Z"
   },
   {
    "duration": 20,
    "start_time": "2022-04-14T14:44:08.935Z"
   },
   {
    "duration": 19,
    "start_time": "2022-04-14T14:47:24.124Z"
   },
   {
    "duration": 2237,
    "start_time": "2022-04-14T14:48:03.134Z"
   },
   {
    "duration": 2041,
    "start_time": "2022-04-14T14:48:15.252Z"
   },
   {
    "duration": 29,
    "start_time": "2022-04-14T14:48:24.962Z"
   },
   {
    "duration": 27,
    "start_time": "2022-04-14T14:49:33.684Z"
   },
   {
    "duration": 30,
    "start_time": "2022-04-14T14:50:09.041Z"
   },
   {
    "duration": 27,
    "start_time": "2022-04-14T14:50:19.447Z"
   },
   {
    "duration": 28,
    "start_time": "2022-04-14T14:50:46.068Z"
   },
   {
    "duration": 27,
    "start_time": "2022-04-14T14:50:55.305Z"
   },
   {
    "duration": 7,
    "start_time": "2022-04-14T14:51:09.264Z"
   },
   {
    "duration": 27,
    "start_time": "2022-04-14T14:51:13.633Z"
   },
   {
    "duration": 26,
    "start_time": "2022-04-14T14:52:33.158Z"
   },
   {
    "duration": 29,
    "start_time": "2022-04-14T14:53:34.354Z"
   },
   {
    "duration": 25,
    "start_time": "2022-04-14T14:54:52.252Z"
   },
   {
    "duration": 19,
    "start_time": "2022-04-14T15:11:35.841Z"
   },
   {
    "duration": 62,
    "start_time": "2022-04-14T15:12:02.076Z"
   },
   {
    "duration": 16,
    "start_time": "2022-04-14T15:14:54.676Z"
   },
   {
    "duration": 28,
    "start_time": "2022-04-14T15:16:10.473Z"
   },
   {
    "duration": 38,
    "start_time": "2022-04-14T15:16:15.662Z"
   },
   {
    "duration": 43,
    "start_time": "2022-04-14T15:16:16.322Z"
   },
   {
    "duration": 6,
    "start_time": "2022-04-14T15:16:23.458Z"
   },
   {
    "duration": 155,
    "start_time": "2022-04-14T15:16:23.467Z"
   },
   {
    "duration": 4,
    "start_time": "2022-04-14T15:16:23.625Z"
   },
   {
    "duration": 40,
    "start_time": "2022-04-14T15:16:23.631Z"
   },
   {
    "duration": 50,
    "start_time": "2022-04-14T15:16:23.674Z"
   },
   {
    "duration": 34,
    "start_time": "2022-04-14T15:16:23.727Z"
   },
   {
    "duration": 70,
    "start_time": "2022-04-14T15:16:23.764Z"
   },
   {
    "duration": 9,
    "start_time": "2022-04-14T15:16:23.836Z"
   },
   {
    "duration": 19,
    "start_time": "2022-04-14T15:16:23.847Z"
   },
   {
    "duration": 22,
    "start_time": "2022-04-14T15:16:23.868Z"
   },
   {
    "duration": 28,
    "start_time": "2022-04-14T15:16:23.894Z"
   },
   {
    "duration": 28,
    "start_time": "2022-04-14T15:16:23.924Z"
   },
   {
    "duration": 40,
    "start_time": "2022-04-14T15:16:23.954Z"
   },
   {
    "duration": 36,
    "start_time": "2022-04-14T15:16:23.996Z"
   },
   {
    "duration": 49,
    "start_time": "2022-04-14T15:16:24.035Z"
   },
   {
    "duration": 436,
    "start_time": "2022-04-14T15:16:24.086Z"
   },
   {
    "duration": 132,
    "start_time": "2022-04-14T15:16:24.525Z"
   },
   {
    "duration": 235,
    "start_time": "2022-04-14T15:16:24.659Z"
   },
   {
    "duration": 11,
    "start_time": "2022-04-14T15:16:24.896Z"
   },
   {
    "duration": 26,
    "start_time": "2022-04-14T15:16:24.925Z"
   },
   {
    "duration": 70,
    "start_time": "2022-04-14T15:16:24.954Z"
   },
   {
    "duration": 24,
    "start_time": "2022-04-14T15:16:39.362Z"
   },
   {
    "duration": 11,
    "start_time": "2022-04-14T15:16:40.927Z"
   },
   {
    "duration": 62,
    "start_time": "2022-04-14T15:16:41.228Z"
   },
   {
    "duration": 28,
    "start_time": "2022-04-14T15:16:41.522Z"
   },
   {
    "duration": 21,
    "start_time": "2022-04-14T15:16:41.971Z"
   },
   {
    "duration": 64,
    "start_time": "2022-04-14T15:16:42.266Z"
   },
   {
    "duration": 4,
    "start_time": "2022-04-14T15:16:42.726Z"
   },
   {
    "duration": 21,
    "start_time": "2022-04-14T15:17:09.489Z"
   },
   {
    "duration": 54,
    "start_time": "2022-04-14T15:17:32.738Z"
   },
   {
    "duration": 18,
    "start_time": "2022-04-14T15:17:57.807Z"
   },
   {
    "duration": 53,
    "start_time": "2022-04-14T15:19:12.517Z"
   },
   {
    "duration": 18,
    "start_time": "2022-04-14T15:19:35.629Z"
   },
   {
    "duration": 52,
    "start_time": "2022-04-14T15:19:56.889Z"
   },
   {
    "duration": 36,
    "start_time": "2022-04-14T15:24:09.793Z"
   },
   {
    "duration": 20,
    "start_time": "2022-04-14T15:25:40.171Z"
   },
   {
    "duration": 56,
    "start_time": "2022-04-14T15:25:52.346Z"
   },
   {
    "duration": 18,
    "start_time": "2022-04-14T15:28:08.845Z"
   },
   {
    "duration": 2339,
    "start_time": "2022-04-14T15:28:21.568Z"
   },
   {
    "duration": 6,
    "start_time": "2022-04-14T15:28:36.460Z"
   },
   {
    "duration": 9,
    "start_time": "2022-04-14T15:29:10.112Z"
   },
   {
    "duration": 6,
    "start_time": "2022-04-14T15:29:31.044Z"
   },
   {
    "duration": 168,
    "start_time": "2022-04-14T15:29:31.052Z"
   },
   {
    "duration": 4,
    "start_time": "2022-04-14T15:29:31.223Z"
   },
   {
    "duration": 44,
    "start_time": "2022-04-14T15:29:31.229Z"
   },
   {
    "duration": 55,
    "start_time": "2022-04-14T15:29:31.278Z"
   },
   {
    "duration": 39,
    "start_time": "2022-04-14T15:29:31.336Z"
   },
   {
    "duration": 84,
    "start_time": "2022-04-14T15:29:31.377Z"
   },
   {
    "duration": 11,
    "start_time": "2022-04-14T15:29:31.463Z"
   },
   {
    "duration": 16,
    "start_time": "2022-04-14T15:29:31.476Z"
   },
   {
    "duration": 34,
    "start_time": "2022-04-14T15:29:31.494Z"
   },
   {
    "duration": 12,
    "start_time": "2022-04-14T15:29:31.533Z"
   },
   {
    "duration": 28,
    "start_time": "2022-04-14T15:29:31.548Z"
   },
   {
    "duration": 65,
    "start_time": "2022-04-14T15:29:31.579Z"
   },
   {
    "duration": 31,
    "start_time": "2022-04-14T15:29:31.648Z"
   },
   {
    "duration": 91,
    "start_time": "2022-04-14T15:29:31.683Z"
   },
   {
    "duration": 10,
    "start_time": "2022-04-14T15:29:31.776Z"
   },
   {
    "duration": 706,
    "start_time": "2022-04-14T15:29:31.789Z"
   },
   {
    "duration": 145,
    "start_time": "2022-04-14T15:29:32.498Z"
   },
   {
    "duration": 231,
    "start_time": "2022-04-14T15:29:32.646Z"
   },
   {
    "duration": 12,
    "start_time": "2022-04-14T15:29:32.880Z"
   },
   {
    "duration": 48,
    "start_time": "2022-04-14T15:29:32.894Z"
   },
   {
    "duration": 11,
    "start_time": "2022-04-14T15:29:32.945Z"
   },
   {
    "duration": 89,
    "start_time": "2022-04-14T15:29:32.959Z"
   },
   {
    "duration": 29,
    "start_time": "2022-04-14T15:29:33.050Z"
   },
   {
    "duration": 43,
    "start_time": "2022-04-14T15:29:33.081Z"
   },
   {
    "duration": 50,
    "start_time": "2022-04-14T15:29:33.127Z"
   },
   {
    "duration": 57,
    "start_time": "2022-04-14T15:51:00.745Z"
   },
   {
    "duration": 2130,
    "start_time": "2022-04-14T15:51:01.073Z"
   },
   {
    "duration": 0,
    "start_time": "2022-04-14T15:51:03.206Z"
   },
   {
    "duration": 0,
    "start_time": "2022-04-14T15:51:03.208Z"
   },
   {
    "duration": 20,
    "start_time": "2022-04-14T15:51:12.647Z"
   },
   {
    "duration": 48,
    "start_time": "2022-04-14T15:51:18.803Z"
   },
   {
    "duration": 24,
    "start_time": "2022-04-14T15:51:24.442Z"
   },
   {
    "duration": 536,
    "start_time": "2022-04-14T15:51:30.693Z"
   },
   {
    "duration": 22,
    "start_time": "2022-04-14T15:51:49.544Z"
   },
   {
    "duration": 1973,
    "start_time": "2022-04-14T15:51:58.102Z"
   },
   {
    "duration": 5,
    "start_time": "2022-04-14T15:52:05.912Z"
   },
   {
    "duration": 144,
    "start_time": "2022-04-14T15:52:05.942Z"
   },
   {
    "duration": 5,
    "start_time": "2022-04-14T15:52:06.089Z"
   },
   {
    "duration": 53,
    "start_time": "2022-04-14T15:52:06.097Z"
   },
   {
    "duration": 34,
    "start_time": "2022-04-14T15:52:06.154Z"
   },
   {
    "duration": 62,
    "start_time": "2022-04-14T15:52:06.191Z"
   },
   {
    "duration": 40,
    "start_time": "2022-04-14T15:52:06.256Z"
   },
   {
    "duration": 30,
    "start_time": "2022-04-14T15:52:06.298Z"
   },
   {
    "duration": 9,
    "start_time": "2022-04-14T15:52:06.330Z"
   },
   {
    "duration": 9,
    "start_time": "2022-04-14T15:52:06.341Z"
   },
   {
    "duration": 12,
    "start_time": "2022-04-14T15:52:06.354Z"
   },
   {
    "duration": 58,
    "start_time": "2022-04-14T15:52:06.368Z"
   },
   {
    "duration": 22,
    "start_time": "2022-04-14T15:52:06.428Z"
   },
   {
    "duration": 28,
    "start_time": "2022-04-14T15:52:06.452Z"
   },
   {
    "duration": 83,
    "start_time": "2022-04-14T15:52:06.482Z"
   },
   {
    "duration": 10,
    "start_time": "2022-04-14T15:52:06.568Z"
   },
   {
    "duration": 465,
    "start_time": "2022-04-14T15:52:06.580Z"
   },
   {
    "duration": 136,
    "start_time": "2022-04-14T15:52:07.048Z"
   },
   {
    "duration": 232,
    "start_time": "2022-04-14T15:52:07.186Z"
   },
   {
    "duration": 11,
    "start_time": "2022-04-14T15:52:07.420Z"
   },
   {
    "duration": 23,
    "start_time": "2022-04-14T15:52:07.433Z"
   },
   {
    "duration": 9,
    "start_time": "2022-04-14T15:52:07.459Z"
   },
   {
    "duration": 102,
    "start_time": "2022-04-14T15:52:07.470Z"
   },
   {
    "duration": 28,
    "start_time": "2022-04-14T15:52:07.574Z"
   },
   {
    "duration": 19,
    "start_time": "2022-04-14T15:52:07.625Z"
   },
   {
    "duration": 47,
    "start_time": "2022-04-14T15:52:07.646Z"
   },
   {
    "duration": 78,
    "start_time": "2022-04-14T15:52:07.696Z"
   },
   {
    "duration": 19,
    "start_time": "2022-04-14T15:52:07.777Z"
   },
   {
    "duration": 26,
    "start_time": "2022-04-14T15:52:07.800Z"
   },
   {
    "duration": 95,
    "start_time": "2022-04-14T15:52:07.828Z"
   },
   {
    "duration": 24,
    "start_time": "2022-04-14T15:52:07.925Z"
   },
   {
    "duration": 21,
    "start_time": "2022-04-14T15:52:07.951Z"
   },
   {
    "duration": 16,
    "start_time": "2022-04-14T15:52:12.151Z"
   },
   {
    "duration": 5,
    "start_time": "2022-04-14T15:58:07.323Z"
   },
   {
    "duration": 168,
    "start_time": "2022-04-14T15:58:07.330Z"
   },
   {
    "duration": 4,
    "start_time": "2022-04-14T15:58:07.501Z"
   },
   {
    "duration": 49,
    "start_time": "2022-04-14T15:58:07.507Z"
   },
   {
    "duration": 35,
    "start_time": "2022-04-14T15:58:07.559Z"
   },
   {
    "duration": 55,
    "start_time": "2022-04-14T15:58:07.596Z"
   },
   {
    "duration": 43,
    "start_time": "2022-04-14T15:58:07.653Z"
   },
   {
    "duration": 11,
    "start_time": "2022-04-14T15:58:07.725Z"
   },
   {
    "duration": 10,
    "start_time": "2022-04-14T15:58:07.738Z"
   },
   {
    "duration": 11,
    "start_time": "2022-04-14T15:58:07.750Z"
   },
   {
    "duration": 11,
    "start_time": "2022-04-14T15:58:07.765Z"
   },
   {
    "duration": 56,
    "start_time": "2022-04-14T15:58:07.778Z"
   },
   {
    "duration": 24,
    "start_time": "2022-04-14T15:58:07.836Z"
   },
   {
    "duration": 20,
    "start_time": "2022-04-14T15:58:07.862Z"
   },
   {
    "duration": 75,
    "start_time": "2022-04-14T15:58:07.884Z"
   },
   {
    "duration": 7,
    "start_time": "2022-04-14T15:58:07.962Z"
   },
   {
    "duration": 453,
    "start_time": "2022-04-14T15:58:07.971Z"
   },
   {
    "duration": 128,
    "start_time": "2022-04-14T15:58:08.426Z"
   },
   {
    "duration": 219,
    "start_time": "2022-04-14T15:58:08.556Z"
   },
   {
    "duration": 9,
    "start_time": "2022-04-14T15:58:08.778Z"
   },
   {
    "duration": 43,
    "start_time": "2022-04-14T15:58:08.789Z"
   },
   {
    "duration": 8,
    "start_time": "2022-04-14T15:58:08.834Z"
   },
   {
    "duration": 89,
    "start_time": "2022-04-14T15:58:08.844Z"
   },
   {
    "duration": 29,
    "start_time": "2022-04-14T15:58:08.935Z"
   },
   {
    "duration": 20,
    "start_time": "2022-04-14T15:58:08.966Z"
   },
   {
    "duration": 76,
    "start_time": "2022-04-14T15:58:08.988Z"
   },
   {
    "duration": 28,
    "start_time": "2022-04-14T15:59:21.562Z"
   },
   {
    "duration": 32,
    "start_time": "2022-04-14T15:59:26.868Z"
   },
   {
    "duration": 54,
    "start_time": "2022-04-14T16:00:21.832Z"
   },
   {
    "duration": 9,
    "start_time": "2022-04-14T16:00:40.119Z"
   },
   {
    "duration": 28,
    "start_time": "2022-04-14T16:00:55.112Z"
   },
   {
    "duration": 6,
    "start_time": "2022-04-14T16:01:18.564Z"
   },
   {
    "duration": 155,
    "start_time": "2022-04-14T16:01:18.572Z"
   },
   {
    "duration": 5,
    "start_time": "2022-04-14T16:01:18.730Z"
   },
   {
    "duration": 57,
    "start_time": "2022-04-14T16:01:18.739Z"
   },
   {
    "duration": 51,
    "start_time": "2022-04-14T16:01:18.798Z"
   },
   {
    "duration": 36,
    "start_time": "2022-04-14T16:01:18.852Z"
   },
   {
    "duration": 71,
    "start_time": "2022-04-14T16:01:18.891Z"
   },
   {
    "duration": 10,
    "start_time": "2022-04-14T16:01:18.965Z"
   },
   {
    "duration": 8,
    "start_time": "2022-04-14T16:01:18.979Z"
   },
   {
    "duration": 11,
    "start_time": "2022-04-14T16:01:19.024Z"
   },
   {
    "duration": 12,
    "start_time": "2022-04-14T16:01:19.037Z"
   },
   {
    "duration": 18,
    "start_time": "2022-04-14T16:01:19.052Z"
   },
   {
    "duration": 66,
    "start_time": "2022-04-14T16:01:19.074Z"
   },
   {
    "duration": 20,
    "start_time": "2022-04-14T16:01:19.142Z"
   },
   {
    "duration": 73,
    "start_time": "2022-04-14T16:01:19.164Z"
   },
   {
    "duration": 9,
    "start_time": "2022-04-14T16:01:19.239Z"
   },
   {
    "duration": 562,
    "start_time": "2022-04-14T16:01:19.250Z"
   },
   {
    "duration": 137,
    "start_time": "2022-04-14T16:01:19.814Z"
   },
   {
    "duration": 278,
    "start_time": "2022-04-14T16:01:19.953Z"
   },
   {
    "duration": 14,
    "start_time": "2022-04-14T16:01:20.234Z"
   },
   {
    "duration": 46,
    "start_time": "2022-04-14T16:01:20.251Z"
   },
   {
    "duration": 33,
    "start_time": "2022-04-14T16:01:20.300Z"
   },
   {
    "duration": 109,
    "start_time": "2022-04-14T16:01:20.335Z"
   },
   {
    "duration": 39,
    "start_time": "2022-04-14T16:01:20.450Z"
   },
   {
    "duration": 45,
    "start_time": "2022-04-14T16:01:20.491Z"
   },
   {
    "duration": 47,
    "start_time": "2022-04-14T16:01:20.539Z"
   },
   {
    "duration": 315,
    "start_time": "2022-04-14T16:01:27.588Z"
   },
   {
    "duration": 116,
    "start_time": "2022-04-14T16:01:53.563Z"
   },
   {
    "duration": 175,
    "start_time": "2022-04-14T16:02:03.510Z"
   },
   {
    "duration": 133,
    "start_time": "2022-04-14T16:02:16.083Z"
   },
   {
    "duration": 519,
    "start_time": "2022-04-14T16:02:26.968Z"
   },
   {
    "duration": 55,
    "start_time": "2022-04-14T16:19:50.826Z"
   },
   {
    "duration": 55,
    "start_time": "2022-04-14T16:20:15.329Z"
   },
   {
    "duration": 59,
    "start_time": "2022-04-14T17:26:49.427Z"
   },
   {
    "duration": 2412,
    "start_time": "2022-04-14T17:26:51.410Z"
   },
   {
    "duration": 195,
    "start_time": "2022-04-14T17:32:58.208Z"
   },
   {
    "duration": 5,
    "start_time": "2022-04-14T17:41:12.823Z"
   },
   {
    "duration": 158,
    "start_time": "2022-04-14T17:41:12.830Z"
   },
   {
    "duration": 3,
    "start_time": "2022-04-14T17:41:12.991Z"
   },
   {
    "duration": 58,
    "start_time": "2022-04-14T17:41:12.997Z"
   },
   {
    "duration": 31,
    "start_time": "2022-04-14T17:41:13.058Z"
   },
   {
    "duration": 49,
    "start_time": "2022-04-14T17:41:13.091Z"
   },
   {
    "duration": 43,
    "start_time": "2022-04-14T17:41:13.142Z"
   },
   {
    "duration": 38,
    "start_time": "2022-04-14T17:41:13.187Z"
   },
   {
    "duration": 9,
    "start_time": "2022-04-14T17:41:13.227Z"
   },
   {
    "duration": 10,
    "start_time": "2022-04-14T17:41:13.238Z"
   },
   {
    "duration": 12,
    "start_time": "2022-04-14T17:41:13.252Z"
   },
   {
    "duration": 58,
    "start_time": "2022-04-14T17:41:13.266Z"
   },
   {
    "duration": 23,
    "start_time": "2022-04-14T17:41:13.327Z"
   },
   {
    "duration": 23,
    "start_time": "2022-04-14T17:41:13.352Z"
   },
   {
    "duration": 84,
    "start_time": "2022-04-14T17:41:13.377Z"
   },
   {
    "duration": 8,
    "start_time": "2022-04-14T17:41:13.464Z"
   },
   {
    "duration": 512,
    "start_time": "2022-04-14T17:41:13.473Z"
   },
   {
    "duration": 131,
    "start_time": "2022-04-14T17:41:13.987Z"
   },
   {
    "duration": 238,
    "start_time": "2022-04-14T17:41:14.123Z"
   },
   {
    "duration": 12,
    "start_time": "2022-04-14T17:41:14.364Z"
   },
   {
    "duration": 49,
    "start_time": "2022-04-14T17:41:14.378Z"
   },
   {
    "duration": 10,
    "start_time": "2022-04-14T17:41:14.429Z"
   },
   {
    "duration": 64,
    "start_time": "2022-04-14T17:41:14.441Z"
   },
   {
    "duration": 29,
    "start_time": "2022-04-14T17:41:14.524Z"
   },
   {
    "duration": 19,
    "start_time": "2022-04-14T17:41:14.555Z"
   },
   {
    "duration": 82,
    "start_time": "2022-04-14T17:41:14.577Z"
   },
   {
    "duration": 407,
    "start_time": "2022-04-14T17:41:14.661Z"
   },
   {
    "duration": 528,
    "start_time": "2022-04-14T17:41:15.070Z"
   },
   {
    "duration": 3,
    "start_time": "2022-04-14T17:41:15.603Z"
   },
   {
    "duration": 5,
    "start_time": "2022-04-14T17:41:15.626Z"
   },
   {
    "duration": 12,
    "start_time": "2022-04-14T17:41:15.634Z"
   },
   {
    "duration": 28,
    "start_time": "2022-04-14T17:41:15.648Z"
   },
   {
    "duration": 9,
    "start_time": "2022-04-14T17:41:15.678Z"
   },
   {
    "duration": 8,
    "start_time": "2022-04-14T17:41:15.690Z"
   },
   {
    "duration": 7,
    "start_time": "2022-04-14T17:41:15.701Z"
   },
   {
    "duration": 7,
    "start_time": "2022-04-14T17:41:15.710Z"
   },
   {
    "duration": 5,
    "start_time": "2022-04-14T17:41:15.720Z"
   },
   {
    "duration": 6,
    "start_time": "2022-04-14T17:41:15.727Z"
   },
   {
    "duration": 500,
    "start_time": "2022-04-14T17:42:48.050Z"
   },
   {
    "duration": 200,
    "start_time": "2022-04-14T17:49:42.529Z"
   },
   {
    "duration": 180,
    "start_time": "2022-04-14T17:54:06.717Z"
   },
   {
    "duration": 117,
    "start_time": "2022-04-14T18:00:24.677Z"
   },
   {
    "duration": 191,
    "start_time": "2022-04-14T18:01:04.574Z"
   },
   {
    "duration": 206,
    "start_time": "2022-04-14T18:01:14.135Z"
   },
   {
    "duration": 68,
    "start_time": "2022-04-14T18:02:02.952Z"
   },
   {
    "duration": 6,
    "start_time": "2022-04-14T18:02:16.715Z"
   },
   {
    "duration": 189,
    "start_time": "2022-04-14T18:02:16.725Z"
   },
   {
    "duration": 9,
    "start_time": "2022-04-14T18:02:16.917Z"
   },
   {
    "duration": 47,
    "start_time": "2022-04-14T18:02:16.928Z"
   },
   {
    "duration": 52,
    "start_time": "2022-04-14T18:02:16.978Z"
   },
   {
    "duration": 34,
    "start_time": "2022-04-14T18:02:17.033Z"
   },
   {
    "duration": 63,
    "start_time": "2022-04-14T18:02:17.069Z"
   },
   {
    "duration": 10,
    "start_time": "2022-04-14T18:02:17.134Z"
   },
   {
    "duration": 13,
    "start_time": "2022-04-14T18:02:17.146Z"
   },
   {
    "duration": 21,
    "start_time": "2022-04-14T18:02:17.161Z"
   },
   {
    "duration": 40,
    "start_time": "2022-04-14T18:02:17.186Z"
   },
   {
    "duration": 15,
    "start_time": "2022-04-14T18:02:17.228Z"
   },
   {
    "duration": 27,
    "start_time": "2022-04-14T18:02:17.246Z"
   },
   {
    "duration": 49,
    "start_time": "2022-04-14T18:02:17.276Z"
   },
   {
    "duration": 49,
    "start_time": "2022-04-14T18:02:17.328Z"
   },
   {
    "duration": 9,
    "start_time": "2022-04-14T18:02:17.379Z"
   },
   {
    "duration": 516,
    "start_time": "2022-04-14T18:02:17.390Z"
   },
   {
    "duration": 135,
    "start_time": "2022-04-14T18:02:17.908Z"
   },
   {
    "duration": 228,
    "start_time": "2022-04-14T18:02:18.046Z"
   },
   {
    "duration": 10,
    "start_time": "2022-04-14T18:02:18.276Z"
   },
   {
    "duration": 46,
    "start_time": "2022-04-14T18:02:18.288Z"
   },
   {
    "duration": 9,
    "start_time": "2022-04-14T18:02:18.337Z"
   },
   {
    "duration": 94,
    "start_time": "2022-04-14T18:02:18.348Z"
   },
   {
    "duration": 28,
    "start_time": "2022-04-14T18:02:18.444Z"
   },
   {
    "duration": 50,
    "start_time": "2022-04-14T18:02:18.475Z"
   },
   {
    "duration": 54,
    "start_time": "2022-04-14T18:02:18.527Z"
   },
   {
    "duration": 407,
    "start_time": "2022-04-14T18:02:23.996Z"
   },
   {
    "duration": 2069,
    "start_time": "2022-04-14T18:04:07.223Z"
   },
   {
    "duration": 172,
    "start_time": "2022-04-14T18:04:50.566Z"
   },
   {
    "duration": 6,
    "start_time": "2022-04-14T18:05:03.903Z"
   },
   {
    "duration": 178,
    "start_time": "2022-04-14T18:05:03.912Z"
   },
   {
    "duration": 5,
    "start_time": "2022-04-14T18:05:04.093Z"
   },
   {
    "duration": 53,
    "start_time": "2022-04-14T18:05:04.100Z"
   },
   {
    "duration": 33,
    "start_time": "2022-04-14T18:05:04.156Z"
   },
   {
    "duration": 56,
    "start_time": "2022-04-14T18:05:04.192Z"
   },
   {
    "duration": 43,
    "start_time": "2022-04-14T18:05:04.250Z"
   },
   {
    "duration": 32,
    "start_time": "2022-04-14T18:05:04.295Z"
   },
   {
    "duration": 33,
    "start_time": "2022-04-14T18:05:04.329Z"
   },
   {
    "duration": 43,
    "start_time": "2022-04-14T18:05:04.364Z"
   },
   {
    "duration": 41,
    "start_time": "2022-04-14T18:05:04.412Z"
   },
   {
    "duration": 34,
    "start_time": "2022-04-14T18:05:04.456Z"
   },
   {
    "duration": 35,
    "start_time": "2022-04-14T18:05:04.492Z"
   },
   {
    "duration": 37,
    "start_time": "2022-04-14T18:05:04.530Z"
   },
   {
    "duration": 89,
    "start_time": "2022-04-14T18:05:04.569Z"
   },
   {
    "duration": 8,
    "start_time": "2022-04-14T18:05:04.660Z"
   },
   {
    "duration": 507,
    "start_time": "2022-04-14T18:05:04.670Z"
   },
   {
    "duration": 134,
    "start_time": "2022-04-14T18:05:05.179Z"
   },
   {
    "duration": 228,
    "start_time": "2022-04-14T18:05:05.315Z"
   },
   {
    "duration": 10,
    "start_time": "2022-04-14T18:05:05.545Z"
   },
   {
    "duration": 28,
    "start_time": "2022-04-14T18:05:05.557Z"
   },
   {
    "duration": 38,
    "start_time": "2022-04-14T18:05:05.587Z"
   },
   {
    "duration": 70,
    "start_time": "2022-04-14T18:05:05.627Z"
   },
   {
    "duration": 45,
    "start_time": "2022-04-14T18:05:05.699Z"
   },
   {
    "duration": 21,
    "start_time": "2022-04-14T18:05:05.746Z"
   },
   {
    "duration": 89,
    "start_time": "2022-04-14T18:05:05.770Z"
   },
   {
    "duration": 165,
    "start_time": "2022-04-14T18:05:09.060Z"
   },
   {
    "duration": 153,
    "start_time": "2022-04-14T18:07:40.123Z"
   },
   {
    "duration": 22,
    "start_time": "2022-04-14T18:15:04.186Z"
   },
   {
    "duration": 16,
    "start_time": "2022-04-14T18:15:04.414Z"
   },
   {
    "duration": 18,
    "start_time": "2022-04-14T18:15:05.116Z"
   },
   {
    "duration": 20,
    "start_time": "2022-04-14T18:15:05.688Z"
   },
   {
    "duration": 20,
    "start_time": "2022-04-14T18:15:06.252Z"
   },
   {
    "duration": 20,
    "start_time": "2022-04-14T18:15:07.482Z"
   },
   {
    "duration": 152,
    "start_time": "2022-04-14T18:17:38.558Z"
   },
   {
    "duration": 173,
    "start_time": "2022-04-14T18:27:59.288Z"
   },
   {
    "duration": 169,
    "start_time": "2022-04-14T18:29:48.858Z"
   },
   {
    "duration": 521,
    "start_time": "2022-04-14T18:30:04.211Z"
   },
   {
    "duration": 164,
    "start_time": "2022-04-14T18:30:44.572Z"
   },
   {
    "duration": 510,
    "start_time": "2022-04-14T18:30:45.609Z"
   },
   {
    "duration": 5,
    "start_time": "2022-04-14T18:30:56.509Z"
   },
   {
    "duration": 165,
    "start_time": "2022-04-14T18:30:56.517Z"
   },
   {
    "duration": 5,
    "start_time": "2022-04-14T18:30:56.684Z"
   },
   {
    "duration": 53,
    "start_time": "2022-04-14T18:30:56.691Z"
   },
   {
    "duration": 31,
    "start_time": "2022-04-14T18:30:56.747Z"
   },
   {
    "duration": 63,
    "start_time": "2022-04-14T18:30:56.781Z"
   },
   {
    "duration": 57,
    "start_time": "2022-04-14T18:30:56.847Z"
   },
   {
    "duration": 10,
    "start_time": "2022-04-14T18:30:56.925Z"
   },
   {
    "duration": 13,
    "start_time": "2022-04-14T18:30:56.937Z"
   },
   {
    "duration": 17,
    "start_time": "2022-04-14T18:30:56.952Z"
   },
   {
    "duration": 12,
    "start_time": "2022-04-14T18:30:56.971Z"
   },
   {
    "duration": 48,
    "start_time": "2022-04-14T18:30:56.985Z"
   },
   {
    "duration": 23,
    "start_time": "2022-04-14T18:30:57.037Z"
   },
   {
    "duration": 19,
    "start_time": "2022-04-14T18:30:57.062Z"
   },
   {
    "duration": 76,
    "start_time": "2022-04-14T18:30:57.083Z"
   },
   {
    "duration": 8,
    "start_time": "2022-04-14T18:30:57.161Z"
   },
   {
    "duration": 511,
    "start_time": "2022-04-14T18:30:57.171Z"
   },
   {
    "duration": 361,
    "start_time": "2022-04-14T18:30:57.684Z"
   },
   {
    "duration": 227,
    "start_time": "2022-04-14T18:30:58.047Z"
   },
   {
    "duration": 9,
    "start_time": "2022-04-14T18:30:58.276Z"
   },
   {
    "duration": 46,
    "start_time": "2022-04-14T18:30:58.287Z"
   },
   {
    "duration": 8,
    "start_time": "2022-04-14T18:30:58.335Z"
   },
   {
    "duration": 93,
    "start_time": "2022-04-14T18:30:58.345Z"
   },
   {
    "duration": 27,
    "start_time": "2022-04-14T18:30:58.440Z"
   },
   {
    "duration": 19,
    "start_time": "2022-04-14T18:30:58.469Z"
   },
   {
    "duration": 77,
    "start_time": "2022-04-14T18:30:58.490Z"
   },
   {
    "duration": 183,
    "start_time": "2022-04-14T18:30:58.570Z"
   },
   {
    "duration": 150,
    "start_time": "2022-04-14T18:33:09.921Z"
   },
   {
    "duration": 5,
    "start_time": "2022-04-14T18:34:00.741Z"
   },
   {
    "duration": 185,
    "start_time": "2022-04-14T18:34:00.749Z"
   },
   {
    "duration": 5,
    "start_time": "2022-04-14T18:34:00.937Z"
   },
   {
    "duration": 50,
    "start_time": "2022-04-14T18:34:00.944Z"
   },
   {
    "duration": 48,
    "start_time": "2022-04-14T18:34:00.997Z"
   },
   {
    "duration": 36,
    "start_time": "2022-04-14T18:34:01.048Z"
   },
   {
    "duration": 65,
    "start_time": "2022-04-14T18:34:01.086Z"
   },
   {
    "duration": 10,
    "start_time": "2022-04-14T18:34:01.153Z"
   },
   {
    "duration": 32,
    "start_time": "2022-04-14T18:34:01.166Z"
   },
   {
    "duration": 25,
    "start_time": "2022-04-14T18:34:01.200Z"
   },
   {
    "duration": 27,
    "start_time": "2022-04-14T18:34:01.230Z"
   },
   {
    "duration": 17,
    "start_time": "2022-04-14T18:34:01.259Z"
   },
   {
    "duration": 30,
    "start_time": "2022-04-14T18:34:01.278Z"
   },
   {
    "duration": 44,
    "start_time": "2022-04-14T18:34:01.310Z"
   },
   {
    "duration": 57,
    "start_time": "2022-04-14T18:34:01.357Z"
   },
   {
    "duration": 13,
    "start_time": "2022-04-14T18:34:01.416Z"
   },
   {
    "duration": 493,
    "start_time": "2022-04-14T18:34:01.431Z"
   },
   {
    "duration": 131,
    "start_time": "2022-04-14T18:34:01.926Z"
   },
   {
    "duration": 233,
    "start_time": "2022-04-14T18:34:02.060Z"
   },
   {
    "duration": 10,
    "start_time": "2022-04-14T18:34:02.295Z"
   },
   {
    "duration": 40,
    "start_time": "2022-04-14T18:34:02.307Z"
   },
   {
    "duration": 12,
    "start_time": "2022-04-14T18:34:02.349Z"
   },
   {
    "duration": 91,
    "start_time": "2022-04-14T18:34:02.363Z"
   },
   {
    "duration": 28,
    "start_time": "2022-04-14T18:34:02.456Z"
   },
   {
    "duration": 45,
    "start_time": "2022-04-14T18:34:02.486Z"
   },
   {
    "duration": 56,
    "start_time": "2022-04-14T18:34:02.533Z"
   },
   {
    "duration": 115,
    "start_time": "2022-04-14T18:34:02.591Z"
   },
   {
    "duration": 51,
    "start_time": "2022-04-14T18:34:02.708Z"
   },
   {
    "duration": 29,
    "start_time": "2022-04-14T18:34:02.763Z"
   },
   {
    "duration": 29,
    "start_time": "2022-04-14T18:34:25.439Z"
   },
   {
    "duration": 550,
    "start_time": "2022-04-14T18:34:32.130Z"
   },
   {
    "duration": 541,
    "start_time": "2022-04-14T18:36:39.193Z"
   },
   {
    "duration": 23,
    "start_time": "2022-04-14T18:37:04.736Z"
   },
   {
    "duration": 37,
    "start_time": "2022-04-14T18:41:46.529Z"
   },
   {
    "duration": 23,
    "start_time": "2022-04-14T18:42:30.498Z"
   },
   {
    "duration": 98,
    "start_time": "2022-04-14T18:44:12.330Z"
   },
   {
    "duration": 18,
    "start_time": "2022-04-14T18:44:20.709Z"
   },
   {
    "duration": 23,
    "start_time": "2022-04-14T18:44:25.968Z"
   },
   {
    "duration": 22,
    "start_time": "2022-04-14T18:58:18.528Z"
   },
   {
    "duration": 20,
    "start_time": "2022-04-14T18:59:00.071Z"
   },
   {
    "duration": 21,
    "start_time": "2022-04-14T18:59:01.203Z"
   },
   {
    "duration": 21,
    "start_time": "2022-04-14T19:00:18.058Z"
   },
   {
    "duration": 37,
    "start_time": "2022-04-14T19:00:33.969Z"
   },
   {
    "duration": 21,
    "start_time": "2022-04-14T19:05:44.790Z"
   },
   {
    "duration": 21,
    "start_time": "2022-04-14T19:05:46.047Z"
   },
   {
    "duration": 54,
    "start_time": "2022-04-14T19:06:07.137Z"
   },
   {
    "duration": 94,
    "start_time": "2022-04-14T19:06:08.136Z"
   },
   {
    "duration": 22,
    "start_time": "2022-04-14T19:06:08.325Z"
   },
   {
    "duration": 20,
    "start_time": "2022-04-14T19:06:08.488Z"
   },
   {
    "duration": 22,
    "start_time": "2022-04-14T19:06:08.657Z"
   },
   {
    "duration": 22,
    "start_time": "2022-04-14T19:06:08.824Z"
   },
   {
    "duration": 21,
    "start_time": "2022-04-14T19:06:09.168Z"
   },
   {
    "duration": 26,
    "start_time": "2022-04-14T19:06:09.324Z"
   },
   {
    "duration": 19,
    "start_time": "2022-04-14T19:06:09.775Z"
   },
   {
    "duration": 24,
    "start_time": "2022-04-14T19:06:10.448Z"
   },
   {
    "duration": 35,
    "start_time": "2022-04-14T19:06:11.619Z"
   },
   {
    "duration": 20,
    "start_time": "2022-04-14T19:06:39.808Z"
   },
   {
    "duration": 46,
    "start_time": "2022-04-14T19:06:45.855Z"
   },
   {
    "duration": 21,
    "start_time": "2022-04-14T19:06:49.359Z"
   },
   {
    "duration": 23,
    "start_time": "2022-04-14T19:06:50.098Z"
   },
   {
    "duration": 28,
    "start_time": "2022-04-14T19:06:52.108Z"
   },
   {
    "duration": 29,
    "start_time": "2022-04-14T19:06:54.609Z"
   },
   {
    "duration": 32,
    "start_time": "2022-04-14T19:07:25.321Z"
   },
   {
    "duration": 3,
    "start_time": "2022-04-14T19:18:40.325Z"
   },
   {
    "duration": 19,
    "start_time": "2022-04-14T19:23:33.901Z"
   },
   {
    "duration": 62,
    "start_time": "2022-04-14T19:25:23.884Z"
   },
   {
    "duration": 15,
    "start_time": "2022-04-14T19:25:24.705Z"
   },
   {
    "duration": 2443,
    "start_time": "2022-04-14T19:25:25.293Z"
   },
   {
    "duration": 19,
    "start_time": "2022-04-14T19:25:36.925Z"
   },
   {
    "duration": 17,
    "start_time": "2022-04-14T19:30:04.630Z"
   },
   {
    "duration": 7,
    "start_time": "2022-04-14T19:30:18.653Z"
   },
   {
    "duration": 29,
    "start_time": "2022-04-14T19:31:30.294Z"
   },
   {
    "duration": 5,
    "start_time": "2022-04-14T19:34:13.719Z"
   },
   {
    "duration": 175,
    "start_time": "2022-04-14T19:34:13.727Z"
   },
   {
    "duration": 22,
    "start_time": "2022-04-14T19:34:13.904Z"
   },
   {
    "duration": 44,
    "start_time": "2022-04-14T19:34:13.928Z"
   },
   {
    "duration": 33,
    "start_time": "2022-04-14T19:34:13.975Z"
   },
   {
    "duration": 60,
    "start_time": "2022-04-14T19:34:14.025Z"
   },
   {
    "duration": 43,
    "start_time": "2022-04-14T19:34:14.087Z"
   },
   {
    "duration": 10,
    "start_time": "2022-04-14T19:34:14.133Z"
   },
   {
    "duration": 27,
    "start_time": "2022-04-14T19:34:14.146Z"
   },
   {
    "duration": 17,
    "start_time": "2022-04-14T19:34:14.175Z"
   },
   {
    "duration": 28,
    "start_time": "2022-04-14T19:34:14.196Z"
   },
   {
    "duration": 25,
    "start_time": "2022-04-14T19:34:14.226Z"
   },
   {
    "duration": 41,
    "start_time": "2022-04-14T19:34:14.253Z"
   },
   {
    "duration": 21,
    "start_time": "2022-04-14T19:34:14.297Z"
   },
   {
    "duration": 54,
    "start_time": "2022-04-14T19:34:14.320Z"
   },
   {
    "duration": 10,
    "start_time": "2022-04-14T19:34:14.377Z"
   },
   {
    "duration": 520,
    "start_time": "2022-04-14T19:34:14.390Z"
   },
   {
    "duration": 139,
    "start_time": "2022-04-14T19:34:14.912Z"
   },
   {
    "duration": 235,
    "start_time": "2022-04-14T19:34:15.053Z"
   },
   {
    "duration": 10,
    "start_time": "2022-04-14T19:34:15.290Z"
   },
   {
    "duration": 42,
    "start_time": "2022-04-14T19:34:15.302Z"
   },
   {
    "duration": 9,
    "start_time": "2022-04-14T19:34:15.346Z"
   },
   {
    "duration": 94,
    "start_time": "2022-04-14T19:34:15.357Z"
   },
   {
    "duration": 27,
    "start_time": "2022-04-14T19:34:15.453Z"
   },
   {
    "duration": 42,
    "start_time": "2022-04-14T19:34:15.482Z"
   },
   {
    "duration": 53,
    "start_time": "2022-04-14T19:34:15.527Z"
   },
   {
    "duration": 115,
    "start_time": "2022-04-14T19:34:15.582Z"
   },
   {
    "duration": 51,
    "start_time": "2022-04-14T19:34:15.699Z"
   },
   {
    "duration": 31,
    "start_time": "2022-04-14T19:34:15.755Z"
   },
   {
    "duration": 554,
    "start_time": "2022-04-14T19:34:15.788Z"
   },
   {
    "duration": 20,
    "start_time": "2022-04-14T19:34:16.345Z"
   },
   {
    "duration": 6,
    "start_time": "2022-04-14T19:34:16.367Z"
   },
   {
    "duration": 85,
    "start_time": "2022-04-14T19:34:16.375Z"
   },
   {
    "duration": 16,
    "start_time": "2022-04-14T19:34:16.462Z"
   },
   {
    "duration": 18,
    "start_time": "2022-04-14T19:34:16.480Z"
   },
   {
    "duration": 22,
    "start_time": "2022-04-14T19:34:16.525Z"
   },
   {
    "duration": 4,
    "start_time": "2022-04-14T19:34:27.000Z"
   },
   {
    "duration": 22,
    "start_time": "2022-04-14T19:35:39.925Z"
   },
   {
    "duration": 4,
    "start_time": "2022-04-14T19:38:25.950Z"
   },
   {
    "duration": 15,
    "start_time": "2022-04-14T19:46:59.040Z"
   },
   {
    "duration": 16,
    "start_time": "2022-04-14T19:47:11.204Z"
   },
   {
    "duration": 6,
    "start_time": "2022-04-14T19:48:34.622Z"
   },
   {
    "duration": 176,
    "start_time": "2022-04-14T19:48:34.630Z"
   },
   {
    "duration": 4,
    "start_time": "2022-04-14T19:48:34.809Z"
   },
   {
    "duration": 42,
    "start_time": "2022-04-14T19:48:34.815Z"
   },
   {
    "duration": 30,
    "start_time": "2022-04-14T19:48:34.860Z"
   },
   {
    "duration": 56,
    "start_time": "2022-04-14T19:48:34.893Z"
   },
   {
    "duration": 42,
    "start_time": "2022-04-14T19:48:34.951Z"
   },
   {
    "duration": 35,
    "start_time": "2022-04-14T19:48:34.995Z"
   },
   {
    "duration": 36,
    "start_time": "2022-04-14T19:48:35.032Z"
   },
   {
    "duration": 23,
    "start_time": "2022-04-14T19:48:35.070Z"
   },
   {
    "duration": 25,
    "start_time": "2022-04-14T19:48:35.097Z"
   },
   {
    "duration": 23,
    "start_time": "2022-04-14T19:48:35.124Z"
   },
   {
    "duration": 32,
    "start_time": "2022-04-14T19:48:35.150Z"
   },
   {
    "duration": 35,
    "start_time": "2022-04-14T19:48:35.184Z"
   },
   {
    "duration": 49,
    "start_time": "2022-04-14T19:48:35.221Z"
   },
   {
    "duration": 8,
    "start_time": "2022-04-14T19:48:35.273Z"
   },
   {
    "duration": 493,
    "start_time": "2022-04-14T19:48:35.283Z"
   },
   {
    "duration": 395,
    "start_time": "2022-04-14T19:48:35.778Z"
   },
   {
    "duration": 232,
    "start_time": "2022-04-14T19:48:36.175Z"
   },
   {
    "duration": 20,
    "start_time": "2022-04-14T19:48:36.409Z"
   },
   {
    "duration": 28,
    "start_time": "2022-04-14T19:48:36.431Z"
   },
   {
    "duration": 8,
    "start_time": "2022-04-14T19:48:36.461Z"
   },
   {
    "duration": 103,
    "start_time": "2022-04-14T19:48:36.471Z"
   },
   {
    "duration": 27,
    "start_time": "2022-04-14T19:48:36.577Z"
   },
   {
    "duration": 37,
    "start_time": "2022-04-14T19:48:36.606Z"
   },
   {
    "duration": 69,
    "start_time": "2022-04-14T19:48:36.645Z"
   },
   {
    "duration": 94,
    "start_time": "2022-04-14T19:48:36.716Z"
   },
   {
    "duration": 48,
    "start_time": "2022-04-14T19:48:36.812Z"
   },
   {
    "duration": 31,
    "start_time": "2022-04-14T19:48:36.864Z"
   },
   {
    "duration": 528,
    "start_time": "2022-04-14T19:48:36.924Z"
   },
   {
    "duration": 3,
    "start_time": "2022-04-14T19:48:37.454Z"
   },
   {
    "duration": 8,
    "start_time": "2022-04-14T19:48:37.459Z"
   },
   {
    "duration": 81,
    "start_time": "2022-04-14T19:48:37.469Z"
   },
   {
    "duration": 16,
    "start_time": "2022-04-14T19:48:37.553Z"
   },
   {
    "duration": 18,
    "start_time": "2022-04-14T19:48:37.571Z"
   },
   {
    "duration": 46,
    "start_time": "2022-04-14T19:48:37.591Z"
   },
   {
    "duration": 20,
    "start_time": "2022-04-14T19:48:37.639Z"
   },
   {
    "duration": 21,
    "start_time": "2022-04-14T19:48:37.661Z"
   },
   {
    "duration": 22,
    "start_time": "2022-04-14T19:49:14.046Z"
   },
   {
    "duration": 21,
    "start_time": "2022-04-14T19:49:20.320Z"
   },
   {
    "duration": 40,
    "start_time": "2022-04-14T19:49:21.278Z"
   },
   {
    "duration": 18,
    "start_time": "2022-04-14T19:49:22.818Z"
   },
   {
    "duration": 24,
    "start_time": "2022-04-14T19:49:44.620Z"
   },
   {
    "duration": 20,
    "start_time": "2022-04-14T19:51:02.918Z"
   },
   {
    "duration": 20,
    "start_time": "2022-04-14T19:52:25.829Z"
   },
   {
    "duration": 5,
    "start_time": "2022-04-14T19:53:11.064Z"
   },
   {
    "duration": 177,
    "start_time": "2022-04-14T19:53:11.071Z"
   },
   {
    "duration": 4,
    "start_time": "2022-04-14T19:53:11.250Z"
   },
   {
    "duration": 71,
    "start_time": "2022-04-14T19:53:11.257Z"
   },
   {
    "duration": 32,
    "start_time": "2022-04-14T19:53:11.331Z"
   },
   {
    "duration": 59,
    "start_time": "2022-04-14T19:53:11.366Z"
   },
   {
    "duration": 42,
    "start_time": "2022-04-14T19:53:11.428Z"
   },
   {
    "duration": 11,
    "start_time": "2022-04-14T19:53:11.473Z"
   },
   {
    "duration": 42,
    "start_time": "2022-04-14T19:53:11.488Z"
   },
   {
    "duration": 9,
    "start_time": "2022-04-14T19:53:11.532Z"
   },
   {
    "duration": 13,
    "start_time": "2022-04-14T19:53:11.543Z"
   },
   {
    "duration": 17,
    "start_time": "2022-04-14T19:53:11.558Z"
   },
   {
    "duration": 68,
    "start_time": "2022-04-14T19:53:11.578Z"
   },
   {
    "duration": 20,
    "start_time": "2022-04-14T19:53:11.648Z"
   },
   {
    "duration": 72,
    "start_time": "2022-04-14T19:53:11.670Z"
   },
   {
    "duration": 8,
    "start_time": "2022-04-14T19:53:11.744Z"
   },
   {
    "duration": 510,
    "start_time": "2022-04-14T19:53:11.754Z"
   },
   {
    "duration": 136,
    "start_time": "2022-04-14T19:53:12.266Z"
   },
   {
    "duration": 247,
    "start_time": "2022-04-14T19:53:12.404Z"
   },
   {
    "duration": 11,
    "start_time": "2022-04-14T19:53:12.654Z"
   },
   {
    "duration": 26,
    "start_time": "2022-04-14T19:53:12.668Z"
   },
   {
    "duration": 36,
    "start_time": "2022-04-14T19:53:12.696Z"
   },
   {
    "duration": 100,
    "start_time": "2022-04-14T19:53:12.735Z"
   },
   {
    "duration": 28,
    "start_time": "2022-04-14T19:53:12.840Z"
   },
   {
    "duration": 19,
    "start_time": "2022-04-14T19:53:12.870Z"
   },
   {
    "duration": 81,
    "start_time": "2022-04-14T19:53:12.891Z"
   },
   {
    "duration": 107,
    "start_time": "2022-04-14T19:53:12.975Z"
   },
   {
    "duration": 49,
    "start_time": "2022-04-14T19:53:13.084Z"
   },
   {
    "duration": 30,
    "start_time": "2022-04-14T19:53:13.135Z"
   },
   {
    "duration": 562,
    "start_time": "2022-04-14T19:53:13.167Z"
   },
   {
    "duration": 4,
    "start_time": "2022-04-14T19:53:13.731Z"
   },
   {
    "duration": 36,
    "start_time": "2022-04-14T19:53:13.738Z"
   },
   {
    "duration": 80,
    "start_time": "2022-04-14T19:53:13.776Z"
   },
   {
    "duration": 17,
    "start_time": "2022-04-14T19:53:13.858Z"
   },
   {
    "duration": 39,
    "start_time": "2022-04-14T19:53:13.877Z"
   },
   {
    "duration": 30,
    "start_time": "2022-04-14T19:53:13.919Z"
   },
   {
    "duration": 51,
    "start_time": "2022-04-14T19:53:13.952Z"
   },
   {
    "duration": 24,
    "start_time": "2022-04-14T19:53:14.005Z"
   },
   {
    "duration": 48,
    "start_time": "2022-04-14T19:53:14.031Z"
   },
   {
    "duration": 82,
    "start_time": "2022-04-14T19:53:14.081Z"
   },
   {
    "duration": 47,
    "start_time": "2022-04-14T19:53:14.165Z"
   },
   {
    "duration": 37,
    "start_time": "2022-04-14T19:53:14.214Z"
   },
   {
    "duration": 34,
    "start_time": "2022-04-14T19:53:52.033Z"
   },
   {
    "duration": 27,
    "start_time": "2022-04-14T19:54:02.000Z"
   },
   {
    "duration": 33,
    "start_time": "2022-04-14T19:54:03.128Z"
   },
   {
    "duration": 35,
    "start_time": "2022-04-14T19:54:14.540Z"
   },
   {
    "duration": 27,
    "start_time": "2022-04-14T19:54:51.422Z"
   },
   {
    "duration": 23,
    "start_time": "2022-04-14T19:54:56.396Z"
   },
   {
    "duration": 6,
    "start_time": "2022-04-14T19:55:15.769Z"
   },
   {
    "duration": 163,
    "start_time": "2022-04-14T19:55:15.778Z"
   },
   {
    "duration": 4,
    "start_time": "2022-04-14T19:55:15.944Z"
   },
   {
    "duration": 44,
    "start_time": "2022-04-14T19:55:15.950Z"
   },
   {
    "duration": 34,
    "start_time": "2022-04-14T19:55:16.024Z"
   },
   {
    "duration": 64,
    "start_time": "2022-04-14T19:55:16.060Z"
   },
   {
    "duration": 42,
    "start_time": "2022-04-14T19:55:16.126Z"
   },
   {
    "duration": 10,
    "start_time": "2022-04-14T19:55:16.170Z"
   },
   {
    "duration": 11,
    "start_time": "2022-04-14T19:55:16.182Z"
   },
   {
    "duration": 40,
    "start_time": "2022-04-14T19:55:16.195Z"
   },
   {
    "duration": 11,
    "start_time": "2022-04-14T19:55:16.240Z"
   },
   {
    "duration": 18,
    "start_time": "2022-04-14T19:55:16.254Z"
   },
   {
    "duration": 58,
    "start_time": "2022-04-14T19:55:16.274Z"
   },
   {
    "duration": 20,
    "start_time": "2022-04-14T19:55:16.334Z"
   },
   {
    "duration": 72,
    "start_time": "2022-04-14T19:55:16.357Z"
   },
   {
    "duration": 9,
    "start_time": "2022-04-14T19:55:16.431Z"
   },
   {
    "duration": 500,
    "start_time": "2022-04-14T19:55:16.442Z"
   },
   {
    "duration": 132,
    "start_time": "2022-04-14T19:55:16.944Z"
   },
   {
    "duration": 225,
    "start_time": "2022-04-14T19:55:17.078Z"
   },
   {
    "duration": 21,
    "start_time": "2022-04-14T19:55:17.305Z"
   },
   {
    "duration": 30,
    "start_time": "2022-04-14T19:55:17.328Z"
   },
   {
    "duration": 12,
    "start_time": "2022-04-14T19:55:17.361Z"
   },
   {
    "duration": 103,
    "start_time": "2022-04-14T19:55:17.376Z"
   },
   {
    "duration": 43,
    "start_time": "2022-04-14T19:55:17.482Z"
   },
   {
    "duration": 20,
    "start_time": "2022-04-14T19:55:17.528Z"
   },
   {
    "duration": 80,
    "start_time": "2022-04-14T19:55:17.550Z"
   },
   {
    "duration": 125,
    "start_time": "2022-04-14T19:55:17.634Z"
   },
   {
    "duration": 42,
    "start_time": "2022-04-14T19:55:17.762Z"
   },
   {
    "duration": 34,
    "start_time": "2022-04-14T19:55:17.827Z"
   },
   {
    "duration": 568,
    "start_time": "2022-04-14T19:55:17.864Z"
   },
   {
    "duration": 4,
    "start_time": "2022-04-14T19:55:18.434Z"
   },
   {
    "duration": 6,
    "start_time": "2022-04-14T19:55:18.441Z"
   },
   {
    "duration": 90,
    "start_time": "2022-04-14T19:55:18.449Z"
   },
   {
    "duration": 17,
    "start_time": "2022-04-14T19:55:18.541Z"
   },
   {
    "duration": 19,
    "start_time": "2022-04-14T19:55:18.561Z"
   },
   {
    "duration": 49,
    "start_time": "2022-04-14T19:55:18.582Z"
   },
   {
    "duration": 20,
    "start_time": "2022-04-14T19:55:18.634Z"
   },
   {
    "duration": 22,
    "start_time": "2022-04-14T19:55:18.656Z"
   },
   {
    "duration": 49,
    "start_time": "2022-04-14T19:55:18.680Z"
   },
   {
    "duration": 46,
    "start_time": "2022-04-14T19:55:18.731Z"
   },
   {
    "duration": 18,
    "start_time": "2022-04-14T19:55:18.779Z"
   },
   {
    "duration": 37,
    "start_time": "2022-04-14T19:55:18.824Z"
   },
   {
    "duration": 62,
    "start_time": "2022-04-14T19:55:18.864Z"
   },
   {
    "duration": 31,
    "start_time": "2022-04-14T19:55:18.928Z"
   },
   {
    "duration": 183309,
    "start_time": "2022-04-14T19:55:18.961Z"
   },
   {
    "duration": 789,
    "start_time": "2022-04-14T20:01:26.236Z"
   },
   {
    "duration": 15,
    "start_time": "2022-04-14T20:01:32.223Z"
   },
   {
    "duration": 10,
    "start_time": "2022-04-14T20:01:38.674Z"
   },
   {
    "duration": 185047,
    "start_time": "2022-04-14T20:10:44.901Z"
   },
   {
    "duration": 659,
    "start_time": "2022-04-14T20:14:54.193Z"
   },
   {
    "duration": 16,
    "start_time": "2022-04-14T20:15:01.812Z"
   },
   {
    "duration": 8,
    "start_time": "2022-04-14T20:15:04.346Z"
   },
   {
    "duration": 183644,
    "start_time": "2022-04-14T20:15:19.817Z"
   },
   {
    "duration": 563,
    "start_time": "2022-04-14T20:18:23.464Z"
   },
   {
    "duration": 15,
    "start_time": "2022-04-14T20:19:01.873Z"
   },
   {
    "duration": 11,
    "start_time": "2022-04-14T20:19:04.643Z"
   },
   {
    "duration": 26,
    "start_time": "2022-04-14T20:34:21.410Z"
   },
   {
    "duration": 38,
    "start_time": "2022-04-14T20:34:33.320Z"
   },
   {
    "duration": 22,
    "start_time": "2022-04-14T20:35:31.612Z"
   },
   {
    "duration": 22,
    "start_time": "2022-04-14T20:35:41.356Z"
   },
   {
    "duration": 22,
    "start_time": "2022-04-14T20:36:04.474Z"
   },
   {
    "duration": 11,
    "start_time": "2022-04-14T20:36:11.823Z"
   },
   {
    "duration": 11,
    "start_time": "2022-04-14T20:57:42.704Z"
   },
   {
    "duration": 13,
    "start_time": "2022-04-14T20:58:02.432Z"
   },
   {
    "duration": 38,
    "start_time": "2022-04-14T21:02:33.972Z"
   },
   {
    "duration": 37,
    "start_time": "2022-04-14T21:03:15.281Z"
   },
   {
    "duration": 424,
    "start_time": "2022-04-14T21:05:01.410Z"
   },
   {
    "duration": 15,
    "start_time": "2022-04-14T21:05:04.055Z"
   },
   {
    "duration": 8,
    "start_time": "2022-04-14T21:05:04.495Z"
   },
   {
    "duration": 4,
    "start_time": "2022-04-14T21:05:05.887Z"
   },
   {
    "duration": 34,
    "start_time": "2022-04-14T21:05:06.104Z"
   },
   {
    "duration": 40,
    "start_time": "2022-04-14T21:05:06.619Z"
   },
   {
    "duration": 11,
    "start_time": "2022-04-14T21:05:11.960Z"
   },
   {
    "duration": 13,
    "start_time": "2022-04-14T21:05:26.580Z"
   },
   {
    "duration": 8,
    "start_time": "2022-04-14T21:05:27.150Z"
   },
   {
    "duration": 3,
    "start_time": "2022-04-14T21:05:31.112Z"
   },
   {
    "duration": 30,
    "start_time": "2022-04-14T21:05:31.900Z"
   },
   {
    "duration": 38,
    "start_time": "2022-04-14T21:05:34.351Z"
   },
   {
    "duration": 12,
    "start_time": "2022-04-14T21:05:35.352Z"
   },
   {
    "duration": 30,
    "start_time": "2022-04-14T21:06:56.021Z"
   },
   {
    "duration": 37,
    "start_time": "2022-04-14T21:06:56.620Z"
   },
   {
    "duration": 37,
    "start_time": "2022-04-14T21:07:45.499Z"
   },
   {
    "duration": 3,
    "start_time": "2022-04-14T21:10:33.270Z"
   },
   {
    "duration": 40,
    "start_time": "2022-04-14T21:10:33.436Z"
   },
   {
    "duration": 51,
    "start_time": "2022-04-14T21:10:33.597Z"
   },
   {
    "duration": 17,
    "start_time": "2022-04-14T21:10:33.776Z"
   },
   {
    "duration": 48,
    "start_time": "2022-04-14T21:10:34.503Z"
   },
   {
    "duration": 10,
    "start_time": "2022-04-14T21:12:44.038Z"
   },
   {
    "duration": 60,
    "start_time": "2022-04-14T21:13:50.742Z"
   },
   {
    "duration": 85,
    "start_time": "2022-04-14T21:14:39.325Z"
   },
   {
    "duration": 91,
    "start_time": "2022-04-14T21:15:41.909Z"
   },
   {
    "duration": 27,
    "start_time": "2022-04-14T21:15:57.431Z"
   },
   {
    "duration": 32,
    "start_time": "2022-04-14T21:16:04.025Z"
   },
   {
    "duration": 33,
    "start_time": "2022-04-14T21:16:13.760Z"
   },
   {
    "duration": 31,
    "start_time": "2022-04-14T21:16:19.440Z"
   },
   {
    "duration": 43,
    "start_time": "2022-04-14T21:22:16.773Z"
   },
   {
    "duration": 36,
    "start_time": "2022-04-14T21:23:27.572Z"
   },
   {
    "duration": 37,
    "start_time": "2022-04-14T21:25:34.109Z"
   },
   {
    "duration": 17,
    "start_time": "2022-04-14T21:25:50.244Z"
   },
   {
    "duration": 19,
    "start_time": "2022-04-14T21:27:19.480Z"
   },
   {
    "duration": 36,
    "start_time": "2022-04-14T21:27:35.267Z"
   },
   {
    "duration": 130,
    "start_time": "2022-04-14T21:27:59.177Z"
   },
   {
    "duration": 6,
    "start_time": "2022-04-14T21:28:08.979Z"
   },
   {
    "duration": 28,
    "start_time": "2022-04-14T21:28:30.636Z"
   },
   {
    "duration": 53,
    "start_time": "2022-04-14T21:29:20.955Z"
   },
   {
    "duration": 48,
    "start_time": "2022-04-14T21:29:36.139Z"
   },
   {
    "duration": 74,
    "start_time": "2022-04-14T21:29:46.643Z"
   },
   {
    "duration": 81,
    "start_time": "2022-04-14T21:30:05.899Z"
   },
   {
    "duration": 6,
    "start_time": "2022-04-14T21:30:18.247Z"
   },
   {
    "duration": 240,
    "start_time": "2022-04-14T21:30:18.255Z"
   },
   {
    "duration": 27,
    "start_time": "2022-04-14T21:30:18.498Z"
   },
   {
    "duration": 56,
    "start_time": "2022-04-14T21:30:18.529Z"
   },
   {
    "duration": 63,
    "start_time": "2022-04-14T21:30:18.589Z"
   },
   {
    "duration": 35,
    "start_time": "2022-04-14T21:30:18.656Z"
   },
   {
    "duration": 71,
    "start_time": "2022-04-14T21:30:18.693Z"
   },
   {
    "duration": 10,
    "start_time": "2022-04-14T21:30:18.766Z"
   },
   {
    "duration": 10,
    "start_time": "2022-04-14T21:30:18.779Z"
   },
   {
    "duration": 40,
    "start_time": "2022-04-14T21:30:18.791Z"
   },
   {
    "duration": 14,
    "start_time": "2022-04-14T21:30:18.834Z"
   },
   {
    "duration": 25,
    "start_time": "2022-04-14T21:30:18.851Z"
   },
   {
    "duration": 56,
    "start_time": "2022-04-14T21:30:18.878Z"
   },
   {
    "duration": 20,
    "start_time": "2022-04-14T21:30:18.941Z"
   },
   {
    "duration": 78,
    "start_time": "2022-04-14T21:30:18.963Z"
   },
   {
    "duration": 11,
    "start_time": "2022-04-14T21:30:19.044Z"
   },
   {
    "duration": 567,
    "start_time": "2022-04-14T21:30:19.057Z"
   },
   {
    "duration": 172,
    "start_time": "2022-04-14T21:30:19.627Z"
   },
   {
    "duration": 258,
    "start_time": "2022-04-14T21:30:19.802Z"
   },
   {
    "duration": 10,
    "start_time": "2022-04-14T21:30:20.062Z"
   },
   {
    "duration": 56,
    "start_time": "2022-04-14T21:30:20.075Z"
   },
   {
    "duration": 11,
    "start_time": "2022-04-14T21:30:20.134Z"
   },
   {
    "duration": 102,
    "start_time": "2022-04-14T21:30:20.148Z"
   },
   {
    "duration": 27,
    "start_time": "2022-04-14T21:30:20.252Z"
   },
   {
    "duration": 44,
    "start_time": "2022-04-14T21:30:20.281Z"
   },
   {
    "duration": 58,
    "start_time": "2022-04-14T21:30:20.328Z"
   },
   {
    "duration": 124,
    "start_time": "2022-04-14T21:30:20.388Z"
   },
   {
    "duration": 45,
    "start_time": "2022-04-14T21:30:20.524Z"
   },
   {
    "duration": 55,
    "start_time": "2022-04-14T21:30:20.571Z"
   },
   {
    "duration": 562,
    "start_time": "2022-04-14T21:30:20.629Z"
   },
   {
    "duration": 4,
    "start_time": "2022-04-14T21:30:21.193Z"
   },
   {
    "duration": 7,
    "start_time": "2022-04-14T21:30:21.199Z"
   },
   {
    "duration": 89,
    "start_time": "2022-04-14T21:30:21.209Z"
   },
   {
    "duration": 35,
    "start_time": "2022-04-14T21:30:21.300Z"
   },
   {
    "duration": 20,
    "start_time": "2022-04-14T21:30:21.338Z"
   },
   {
    "duration": 22,
    "start_time": "2022-04-14T21:30:21.360Z"
   },
   {
    "duration": 60,
    "start_time": "2022-04-14T21:30:21.385Z"
   },
   {
    "duration": 23,
    "start_time": "2022-04-14T21:30:21.447Z"
   },
   {
    "duration": 20,
    "start_time": "2022-04-14T21:30:21.472Z"
   },
   {
    "duration": 76,
    "start_time": "2022-04-14T21:30:21.494Z"
   },
   {
    "duration": 47,
    "start_time": "2022-04-14T21:30:21.579Z"
   },
   {
    "duration": 28,
    "start_time": "2022-04-14T21:30:21.629Z"
   },
   {
    "duration": 32,
    "start_time": "2022-04-14T21:30:21.659Z"
   },
   {
    "duration": 63,
    "start_time": "2022-04-14T21:30:21.693Z"
   },
   {
    "duration": 185729,
    "start_time": "2022-04-14T21:30:21.758Z"
   },
   {
    "duration": 943,
    "start_time": "2022-04-14T21:33:27.489Z"
   },
   {
    "duration": 13,
    "start_time": "2022-04-14T21:33:28.434Z"
   },
   {
    "duration": 11,
    "start_time": "2022-04-14T21:33:28.449Z"
   },
   {
    "duration": 7,
    "start_time": "2022-04-14T21:33:28.462Z"
   },
   {
    "duration": 65,
    "start_time": "2022-04-14T21:33:28.471Z"
   },
   {
    "duration": 41,
    "start_time": "2022-04-14T21:33:28.538Z"
   },
   {
    "duration": 11,
    "start_time": "2022-04-14T21:33:28.581Z"
   },
   {
    "duration": 21,
    "start_time": "2022-04-14T21:33:28.624Z"
   },
   {
    "duration": 41,
    "start_time": "2022-04-14T21:33:28.647Z"
   },
   {
    "duration": 34,
    "start_time": "2022-04-14T21:33:28.691Z"
   },
   {
    "duration": 29,
    "start_time": "2022-04-14T21:33:28.728Z"
   },
   {
    "duration": 130,
    "start_time": "2022-04-14T21:33:28.759Z"
   },
   {
    "duration": 72,
    "start_time": "2022-04-14T21:33:28.891Z"
   },
   {
    "duration": 27,
    "start_time": "2022-04-14T21:38:30.396Z"
   },
   {
    "duration": 4,
    "start_time": "2022-04-14T21:38:34.370Z"
   },
   {
    "duration": 4,
    "start_time": "2022-04-14T21:38:34.878Z"
   },
   {
    "duration": 4,
    "start_time": "2022-04-14T21:38:37.906Z"
   },
   {
    "duration": 4,
    "start_time": "2022-04-14T21:38:40.039Z"
   },
   {
    "duration": 3,
    "start_time": "2022-04-14T21:38:48.208Z"
   },
   {
    "duration": 18,
    "start_time": "2022-04-14T21:39:42.876Z"
   },
   {
    "duration": 2077,
    "start_time": "2022-04-14T21:48:50.600Z"
   },
   {
    "duration": 525,
    "start_time": "2022-04-14T21:49:03.322Z"
   },
   {
    "duration": 128,
    "start_time": "2022-04-14T21:50:26.248Z"
   },
   {
    "duration": 10,
    "start_time": "2022-04-14T21:50:31.770Z"
   },
   {
    "duration": 34,
    "start_time": "2022-04-14T21:50:42.253Z"
   },
   {
    "duration": 41,
    "start_time": "2022-04-14T21:51:02.297Z"
   },
   {
    "duration": 40,
    "start_time": "2022-04-14T21:51:45.210Z"
   },
   {
    "duration": 60,
    "start_time": "2022-04-14T21:51:51.081Z"
   },
   {
    "duration": 33,
    "start_time": "2022-04-14T21:52:15.365Z"
   },
   {
    "duration": 59,
    "start_time": "2022-04-14T21:52:55.946Z"
   },
   {
    "duration": 2074,
    "start_time": "2022-04-14T21:53:58.931Z"
   },
   {
    "duration": 570,
    "start_time": "2022-04-14T21:54:10.740Z"
   },
   {
    "duration": 2097,
    "start_time": "2022-04-14T21:54:45.256Z"
   },
   {
    "duration": 52,
    "start_time": "2022-04-14T21:55:18.118Z"
   },
   {
    "duration": 2063,
    "start_time": "2022-04-14T21:55:19.065Z"
   },
   {
    "duration": 18,
    "start_time": "2022-04-14T21:55:41.688Z"
   },
   {
    "duration": 6,
    "start_time": "2022-04-14T21:56:19.004Z"
   },
   {
    "duration": 153,
    "start_time": "2022-04-14T21:56:19.013Z"
   },
   {
    "duration": 4,
    "start_time": "2022-04-14T21:56:19.169Z"
   },
   {
    "duration": 64,
    "start_time": "2022-04-14T21:56:19.176Z"
   },
   {
    "duration": 31,
    "start_time": "2022-04-14T21:56:19.242Z"
   },
   {
    "duration": 71,
    "start_time": "2022-04-14T21:56:19.276Z"
   },
   {
    "duration": 40,
    "start_time": "2022-04-14T21:56:19.350Z"
   },
   {
    "duration": 34,
    "start_time": "2022-04-14T21:56:19.392Z"
   },
   {
    "duration": 9,
    "start_time": "2022-04-14T21:56:19.428Z"
   },
   {
    "duration": 10,
    "start_time": "2022-04-14T21:56:19.439Z"
   },
   {
    "duration": 10,
    "start_time": "2022-04-14T21:56:19.453Z"
   },
   {
    "duration": 61,
    "start_time": "2022-04-14T21:56:19.465Z"
   },
   {
    "duration": 23,
    "start_time": "2022-04-14T21:56:19.528Z"
   },
   {
    "duration": 19,
    "start_time": "2022-04-14T21:56:19.554Z"
   },
   {
    "duration": 76,
    "start_time": "2022-04-14T21:56:19.575Z"
   },
   {
    "duration": 8,
    "start_time": "2022-04-14T21:56:19.653Z"
   },
   {
    "duration": 489,
    "start_time": "2022-04-14T21:56:19.663Z"
   },
   {
    "duration": 137,
    "start_time": "2022-04-14T21:56:20.155Z"
   },
   {
    "duration": 230,
    "start_time": "2022-04-14T21:56:20.294Z"
   },
   {
    "duration": 10,
    "start_time": "2022-04-14T21:56:20.526Z"
   },
   {
    "duration": 27,
    "start_time": "2022-04-14T21:56:20.538Z"
   },
   {
    "duration": 8,
    "start_time": "2022-04-14T21:56:20.567Z"
   },
   {
    "duration": 99,
    "start_time": "2022-04-14T21:56:20.577Z"
   },
   {
    "duration": 27,
    "start_time": "2022-04-14T21:56:20.678Z"
   },
   {
    "duration": 34,
    "start_time": "2022-04-14T21:56:20.707Z"
   },
   {
    "duration": 50,
    "start_time": "2022-04-14T21:56:20.743Z"
   },
   {
    "duration": 113,
    "start_time": "2022-04-14T21:56:20.795Z"
   },
   {
    "duration": 50,
    "start_time": "2022-04-14T21:56:20.910Z"
   },
   {
    "duration": 30,
    "start_time": "2022-04-14T21:56:20.966Z"
   },
   {
    "duration": 554,
    "start_time": "2022-04-14T21:56:20.998Z"
   },
   {
    "duration": 3,
    "start_time": "2022-04-14T21:56:21.555Z"
   },
   {
    "duration": 10,
    "start_time": "2022-04-14T21:56:21.560Z"
   },
   {
    "duration": 76,
    "start_time": "2022-04-14T21:56:21.572Z"
   },
   {
    "duration": 15,
    "start_time": "2022-04-14T21:56:21.650Z"
   },
   {
    "duration": 17,
    "start_time": "2022-04-14T21:56:21.667Z"
   },
   {
    "duration": 44,
    "start_time": "2022-04-14T21:56:21.686Z"
   },
   {
    "duration": 18,
    "start_time": "2022-04-14T21:56:21.733Z"
   },
   {
    "duration": 20,
    "start_time": "2022-04-14T21:56:21.753Z"
   },
   {
    "duration": 51,
    "start_time": "2022-04-14T21:56:21.775Z"
   },
   {
    "duration": 39,
    "start_time": "2022-04-14T21:56:21.829Z"
   },
   {
    "duration": 17,
    "start_time": "2022-04-14T21:56:21.870Z"
   },
   {
    "duration": 52,
    "start_time": "2022-04-14T21:56:21.889Z"
   },
   {
    "duration": 31,
    "start_time": "2022-04-14T21:56:21.943Z"
   },
   {
    "duration": 53,
    "start_time": "2022-04-14T21:56:21.976Z"
   },
   {
    "duration": 3,
    "start_time": "2022-04-14T21:56:22.031Z"
   },
   {
    "duration": 7,
    "start_time": "2022-04-14T21:56:22.036Z"
   },
   {
    "duration": 24,
    "start_time": "2022-04-14T21:56:22.045Z"
   },
   {
    "duration": 0,
    "start_time": "2022-04-14T21:56:22.072Z"
   },
   {
    "duration": 0,
    "start_time": "2022-04-14T21:56:22.073Z"
   },
   {
    "duration": 0,
    "start_time": "2022-04-14T21:56:22.075Z"
   },
   {
    "duration": 0,
    "start_time": "2022-04-14T21:56:22.077Z"
   },
   {
    "duration": 0,
    "start_time": "2022-04-14T21:56:22.078Z"
   },
   {
    "duration": 0,
    "start_time": "2022-04-14T21:56:22.080Z"
   },
   {
    "duration": 0,
    "start_time": "2022-04-14T21:56:22.082Z"
   },
   {
    "duration": 0,
    "start_time": "2022-04-14T21:56:22.083Z"
   },
   {
    "duration": 0,
    "start_time": "2022-04-14T21:56:22.124Z"
   },
   {
    "duration": 0,
    "start_time": "2022-04-14T21:56:22.126Z"
   },
   {
    "duration": 0,
    "start_time": "2022-04-14T21:56:22.128Z"
   },
   {
    "duration": 0,
    "start_time": "2022-04-14T21:56:22.129Z"
   },
   {
    "duration": 0,
    "start_time": "2022-04-14T21:56:22.131Z"
   },
   {
    "duration": 0,
    "start_time": "2022-04-14T21:56:22.132Z"
   },
   {
    "duration": 0,
    "start_time": "2022-04-14T21:56:22.134Z"
   },
   {
    "duration": 0,
    "start_time": "2022-04-14T21:56:22.135Z"
   },
   {
    "duration": 0,
    "start_time": "2022-04-14T21:56:22.137Z"
   },
   {
    "duration": 0,
    "start_time": "2022-04-14T21:56:22.138Z"
   },
   {
    "duration": 0,
    "start_time": "2022-04-14T21:56:22.139Z"
   },
   {
    "duration": 0,
    "start_time": "2022-04-14T21:56:22.141Z"
   },
   {
    "duration": 0,
    "start_time": "2022-04-14T21:56:22.142Z"
   },
   {
    "duration": 0,
    "start_time": "2022-04-14T21:56:22.144Z"
   },
   {
    "duration": 3,
    "start_time": "2022-04-14T21:56:42.876Z"
   },
   {
    "duration": 4,
    "start_time": "2022-04-14T21:56:43.414Z"
   },
   {
    "duration": 3,
    "start_time": "2022-04-14T21:56:44.813Z"
   },
   {
    "duration": 30,
    "start_time": "2022-04-14T21:56:44.973Z"
   },
   {
    "duration": 42,
    "start_time": "2022-04-14T21:56:45.131Z"
   },
   {
    "duration": 12,
    "start_time": "2022-04-14T21:57:01.570Z"
   },
   {
    "duration": 21,
    "start_time": "2022-04-14T21:57:02.456Z"
   },
   {
    "duration": 3,
    "start_time": "2022-04-14T21:57:03.905Z"
   },
   {
    "duration": 3,
    "start_time": "2022-04-14T21:57:04.100Z"
   },
   {
    "duration": 3,
    "start_time": "2022-04-14T21:57:04.301Z"
   },
   {
    "duration": 4,
    "start_time": "2022-04-14T21:57:04.465Z"
   },
   {
    "duration": 3,
    "start_time": "2022-04-14T21:57:04.625Z"
   },
   {
    "duration": 18,
    "start_time": "2022-04-14T21:57:04.784Z"
   },
   {
    "duration": 35,
    "start_time": "2022-04-14T21:57:04.955Z"
   },
   {
    "duration": 61,
    "start_time": "2022-04-14T21:57:05.103Z"
   },
   {
    "duration": 2231,
    "start_time": "2022-04-14T21:57:09.869Z"
   },
   {
    "duration": 9,
    "start_time": "2022-04-14T21:57:30.157Z"
   },
   {
    "duration": 30,
    "start_time": "2022-04-14T21:57:31.112Z"
   },
   {
    "duration": 2449,
    "start_time": "2022-04-14T21:57:35.340Z"
   },
   {
    "duration": 38,
    "start_time": "2022-04-14T21:58:59.208Z"
   },
   {
    "duration": 18,
    "start_time": "2022-04-14T21:59:01.970Z"
   },
   {
    "duration": 35,
    "start_time": "2022-04-14T21:59:02.699Z"
   },
   {
    "duration": 27,
    "start_time": "2022-04-14T22:00:29.504Z"
   },
   {
    "duration": 37,
    "start_time": "2022-04-14T22:00:48.465Z"
   },
   {
    "duration": 19,
    "start_time": "2022-04-14T22:01:02.495Z"
   },
   {
    "duration": 37,
    "start_time": "2022-04-14T22:01:03.073Z"
   },
   {
    "duration": 6,
    "start_time": "2022-04-14T22:01:09.915Z"
   },
   {
    "duration": 163,
    "start_time": "2022-04-14T22:01:09.924Z"
   },
   {
    "duration": 5,
    "start_time": "2022-04-14T22:01:10.089Z"
   },
   {
    "duration": 58,
    "start_time": "2022-04-14T22:01:10.096Z"
   },
   {
    "duration": 67,
    "start_time": "2022-04-14T22:01:10.157Z"
   },
   {
    "duration": 34,
    "start_time": "2022-04-14T22:01:10.227Z"
   },
   {
    "duration": 67,
    "start_time": "2022-04-14T22:01:10.263Z"
   },
   {
    "duration": 10,
    "start_time": "2022-04-14T22:01:10.333Z"
   },
   {
    "duration": 11,
    "start_time": "2022-04-14T22:01:10.345Z"
   },
   {
    "duration": 12,
    "start_time": "2022-04-14T22:01:10.358Z"
   },
   {
    "duration": 58,
    "start_time": "2022-04-14T22:01:10.375Z"
   },
   {
    "duration": 17,
    "start_time": "2022-04-14T22:01:10.436Z"
   },
   {
    "duration": 24,
    "start_time": "2022-04-14T22:01:10.456Z"
   },
   {
    "duration": 55,
    "start_time": "2022-04-14T22:01:10.483Z"
   },
   {
    "duration": 54,
    "start_time": "2022-04-14T22:01:10.541Z"
   },
   {
    "duration": 12,
    "start_time": "2022-04-14T22:01:10.625Z"
   },
   {
    "duration": 501,
    "start_time": "2022-04-14T22:01:10.639Z"
   },
   {
    "duration": 136,
    "start_time": "2022-04-14T22:01:11.142Z"
   },
   {
    "duration": 224,
    "start_time": "2022-04-14T22:01:11.280Z"
   },
   {
    "duration": 20,
    "start_time": "2022-04-14T22:01:11.506Z"
   },
   {
    "duration": 24,
    "start_time": "2022-04-14T22:01:11.528Z"
   },
   {
    "duration": 7,
    "start_time": "2022-04-14T22:01:11.554Z"
   },
   {
    "duration": 96,
    "start_time": "2022-04-14T22:01:11.563Z"
   },
   {
    "duration": 28,
    "start_time": "2022-04-14T22:01:11.662Z"
   },
   {
    "duration": 39,
    "start_time": "2022-04-14T22:01:11.692Z"
   },
   {
    "duration": 53,
    "start_time": "2022-04-14T22:01:11.734Z"
   },
   {
    "duration": 117,
    "start_time": "2022-04-14T22:01:11.789Z"
   },
   {
    "duration": 47,
    "start_time": "2022-04-14T22:01:11.908Z"
   },
   {
    "duration": 33,
    "start_time": "2022-04-14T22:01:11.961Z"
   },
   {
    "duration": 554,
    "start_time": "2022-04-14T22:01:11.996Z"
   },
   {
    "duration": 3,
    "start_time": "2022-04-14T22:01:12.552Z"
   },
   {
    "duration": 7,
    "start_time": "2022-04-14T22:01:12.557Z"
   },
   {
    "duration": 85,
    "start_time": "2022-04-14T22:01:12.567Z"
   },
   {
    "duration": 16,
    "start_time": "2022-04-14T22:01:12.655Z"
   },
   {
    "duration": 18,
    "start_time": "2022-04-14T22:01:12.673Z"
   },
   {
    "duration": 46,
    "start_time": "2022-04-14T22:01:12.693Z"
   },
   {
    "duration": 27,
    "start_time": "2022-04-14T22:01:12.741Z"
   },
   {
    "duration": 20,
    "start_time": "2022-04-14T22:01:12.770Z"
   },
   {
    "duration": 48,
    "start_time": "2022-04-14T22:01:12.793Z"
   },
   {
    "duration": 39,
    "start_time": "2022-04-14T22:01:12.843Z"
   },
   {
    "duration": 46,
    "start_time": "2022-04-14T22:01:12.884Z"
   },
   {
    "duration": 22,
    "start_time": "2022-04-14T22:01:12.932Z"
   },
   {
    "duration": 31,
    "start_time": "2022-04-14T22:01:12.956Z"
   },
   {
    "duration": 59,
    "start_time": "2022-04-14T22:01:12.989Z"
   },
   {
    "duration": 4,
    "start_time": "2022-04-14T22:01:13.051Z"
   },
   {
    "duration": 13,
    "start_time": "2022-04-14T22:01:13.058Z"
   },
   {
    "duration": 5,
    "start_time": "2022-04-14T22:01:13.074Z"
   },
   {
    "duration": 5,
    "start_time": "2022-04-14T22:01:13.082Z"
   },
   {
    "duration": 6,
    "start_time": "2022-04-14T22:01:13.089Z"
   },
   {
    "duration": 55,
    "start_time": "2022-04-14T22:01:13.097Z"
   },
   {
    "duration": 39,
    "start_time": "2022-04-14T22:01:13.154Z"
   },
   {
    "duration": 35,
    "start_time": "2022-04-14T22:01:13.195Z"
   },
   {
    "duration": 22,
    "start_time": "2022-04-14T22:01:13.232Z"
   },
   {
    "duration": 6,
    "start_time": "2022-04-14T22:01:13.256Z"
   },
   {
    "duration": 5,
    "start_time": "2022-04-14T22:01:13.264Z"
   },
   {
    "duration": 5,
    "start_time": "2022-04-14T22:01:13.272Z"
   },
   {
    "duration": 7,
    "start_time": "2022-04-14T22:01:13.279Z"
   },
   {
    "duration": 37,
    "start_time": "2022-04-14T22:01:13.288Z"
   },
   {
    "duration": 18,
    "start_time": "2022-04-14T22:01:13.327Z"
   },
   {
    "duration": 36,
    "start_time": "2022-04-14T22:01:13.348Z"
   },
   {
    "duration": 39,
    "start_time": "2022-04-14T22:02:10.732Z"
   },
   {
    "duration": 38,
    "start_time": "2022-04-14T22:02:25.990Z"
   },
   {
    "duration": 68,
    "start_time": "2022-04-14T22:02:34.089Z"
   },
   {
    "duration": 2091,
    "start_time": "2022-04-14T22:02:36.205Z"
   },
   {
    "duration": 9,
    "start_time": "2022-04-14T22:04:17.945Z"
   },
   {
    "duration": 25,
    "start_time": "2022-04-14T22:04:19.309Z"
   },
   {
    "duration": 19,
    "start_time": "2022-04-14T22:04:20.368Z"
   },
   {
    "duration": 11,
    "start_time": "2022-04-14T22:04:21.310Z"
   },
   {
    "duration": 5,
    "start_time": "2022-04-14T22:14:18.948Z"
   },
   {
    "duration": 150,
    "start_time": "2022-04-14T22:14:18.956Z"
   },
   {
    "duration": 4,
    "start_time": "2022-04-14T22:14:19.125Z"
   },
   {
    "duration": 42,
    "start_time": "2022-04-14T22:14:19.131Z"
   },
   {
    "duration": 57,
    "start_time": "2022-04-14T22:14:19.176Z"
   },
   {
    "duration": 36,
    "start_time": "2022-04-14T22:14:19.235Z"
   },
   {
    "duration": 72,
    "start_time": "2022-04-14T22:14:19.273Z"
   },
   {
    "duration": 9,
    "start_time": "2022-04-14T22:14:19.348Z"
   },
   {
    "duration": 10,
    "start_time": "2022-04-14T22:14:19.359Z"
   },
   {
    "duration": 12,
    "start_time": "2022-04-14T22:14:19.371Z"
   },
   {
    "duration": 47,
    "start_time": "2022-04-14T22:14:19.385Z"
   },
   {
    "duration": 18,
    "start_time": "2022-04-14T22:14:19.434Z"
   },
   {
    "duration": 27,
    "start_time": "2022-04-14T22:14:19.454Z"
   },
   {
    "duration": 43,
    "start_time": "2022-04-14T22:14:19.486Z"
   },
   {
    "duration": 51,
    "start_time": "2022-04-14T22:14:19.531Z"
   },
   {
    "duration": 10,
    "start_time": "2022-04-14T22:14:19.584Z"
   },
   {
    "duration": 506,
    "start_time": "2022-04-14T22:14:19.626Z"
   },
   {
    "duration": 138,
    "start_time": "2022-04-14T22:14:20.135Z"
   },
   {
    "duration": 233,
    "start_time": "2022-04-14T22:14:20.275Z"
   },
   {
    "duration": 18,
    "start_time": "2022-04-14T22:14:20.511Z"
   },
   {
    "duration": 27,
    "start_time": "2022-04-14T22:14:20.531Z"
   },
   {
    "duration": 9,
    "start_time": "2022-04-14T22:14:20.561Z"
   },
   {
    "duration": 104,
    "start_time": "2022-04-14T22:14:20.573Z"
   },
   {
    "duration": 29,
    "start_time": "2022-04-14T22:14:20.679Z"
   },
   {
    "duration": 20,
    "start_time": "2022-04-14T22:14:20.725Z"
   },
   {
    "duration": 79,
    "start_time": "2022-04-14T22:14:20.748Z"
   },
   {
    "duration": 107,
    "start_time": "2022-04-14T22:14:20.829Z"
   },
   {
    "duration": 40,
    "start_time": "2022-04-14T22:14:20.939Z"
   },
   {
    "duration": 54,
    "start_time": "2022-04-14T22:14:20.982Z"
   },
   {
    "duration": 561,
    "start_time": "2022-04-14T22:14:21.039Z"
   },
   {
    "duration": 4,
    "start_time": "2022-04-14T22:14:21.602Z"
   },
   {
    "duration": 4,
    "start_time": "2022-04-14T22:14:21.624Z"
   },
   {
    "duration": 73,
    "start_time": "2022-04-14T22:14:21.630Z"
   },
   {
    "duration": 31,
    "start_time": "2022-04-14T22:14:21.705Z"
   },
   {
    "duration": 20,
    "start_time": "2022-04-14T22:14:21.739Z"
   },
   {
    "duration": 22,
    "start_time": "2022-04-14T22:14:21.761Z"
   },
   {
    "duration": 50,
    "start_time": "2022-04-14T22:14:21.785Z"
   },
   {
    "duration": 23,
    "start_time": "2022-04-14T22:14:21.837Z"
   },
   {
    "duration": 20,
    "start_time": "2022-04-14T22:14:21.862Z"
   },
   {
    "duration": 75,
    "start_time": "2022-04-14T22:14:21.884Z"
   },
   {
    "duration": 18,
    "start_time": "2022-04-14T22:14:21.965Z"
   },
   {
    "duration": 45,
    "start_time": "2022-04-14T22:14:21.985Z"
   },
   {
    "duration": 33,
    "start_time": "2022-04-14T22:14:22.032Z"
   },
   {
    "duration": 55,
    "start_time": "2022-04-14T22:14:22.068Z"
   },
   {
    "duration": 4,
    "start_time": "2022-04-14T22:14:22.126Z"
   },
   {
    "duration": 11,
    "start_time": "2022-04-14T22:14:22.132Z"
   },
   {
    "duration": 8,
    "start_time": "2022-04-14T22:14:22.146Z"
   },
   {
    "duration": 9,
    "start_time": "2022-04-14T22:14:22.156Z"
   },
   {
    "duration": 7,
    "start_time": "2022-04-14T22:14:22.167Z"
   },
   {
    "duration": 53,
    "start_time": "2022-04-14T22:14:22.176Z"
   },
   {
    "duration": 41,
    "start_time": "2022-04-14T22:14:22.232Z"
   },
   {
    "duration": 11,
    "start_time": "2022-04-14T22:14:22.275Z"
   },
   {
    "duration": 21,
    "start_time": "2022-04-14T22:14:30.286Z"
   },
   {
    "duration": 19,
    "start_time": "2022-04-14T22:16:35.436Z"
   },
   {
    "duration": 21,
    "start_time": "2022-04-14T22:16:53.436Z"
   },
   {
    "duration": 2097,
    "start_time": "2022-04-14T22:17:43.936Z"
   },
   {
    "duration": 20,
    "start_time": "2022-04-14T22:17:57.756Z"
   },
   {
    "duration": 20,
    "start_time": "2022-04-14T22:18:32.085Z"
   },
   {
    "duration": 20,
    "start_time": "2022-04-14T22:18:33.035Z"
   },
   {
    "duration": 2339,
    "start_time": "2022-04-14T22:18:34.165Z"
   },
   {
    "duration": 2380,
    "start_time": "2022-04-14T22:18:52.036Z"
   },
   {
    "duration": 18,
    "start_time": "2022-04-14T22:19:55.364Z"
   },
   {
    "duration": 5,
    "start_time": "2022-04-14T22:20:07.276Z"
   },
   {
    "duration": 168,
    "start_time": "2022-04-14T22:20:07.283Z"
   },
   {
    "duration": 5,
    "start_time": "2022-04-14T22:20:07.453Z"
   },
   {
    "duration": 41,
    "start_time": "2022-04-14T22:20:07.460Z"
   },
   {
    "duration": 51,
    "start_time": "2022-04-14T22:20:07.505Z"
   },
   {
    "duration": 35,
    "start_time": "2022-04-14T22:20:07.558Z"
   },
   {
    "duration": 73,
    "start_time": "2022-04-14T22:20:07.595Z"
   },
   {
    "duration": 11,
    "start_time": "2022-04-14T22:20:07.670Z"
   },
   {
    "duration": 43,
    "start_time": "2022-04-14T22:20:07.683Z"
   },
   {
    "duration": 11,
    "start_time": "2022-04-14T22:20:07.728Z"
   },
   {
    "duration": 15,
    "start_time": "2022-04-14T22:20:07.744Z"
   },
   {
    "duration": 17,
    "start_time": "2022-04-14T22:20:07.762Z"
   },
   {
    "duration": 77,
    "start_time": "2022-04-14T22:20:07.782Z"
   },
   {
    "duration": 23,
    "start_time": "2022-04-14T22:20:07.861Z"
   },
   {
    "duration": 85,
    "start_time": "2022-04-14T22:20:07.887Z"
   },
   {
    "duration": 8,
    "start_time": "2022-04-14T22:20:07.974Z"
   },
   {
    "duration": 541,
    "start_time": "2022-04-14T22:20:07.984Z"
   },
   {
    "duration": 142,
    "start_time": "2022-04-14T22:20:08.527Z"
   },
   {
    "duration": 255,
    "start_time": "2022-04-14T22:20:08.672Z"
   },
   {
    "duration": 13,
    "start_time": "2022-04-14T22:20:08.930Z"
   },
   {
    "duration": 30,
    "start_time": "2022-04-14T22:20:08.947Z"
   },
   {
    "duration": 9,
    "start_time": "2022-04-14T22:20:08.979Z"
   },
   {
    "duration": 76,
    "start_time": "2022-04-14T22:20:09.027Z"
   },
   {
    "duration": 52,
    "start_time": "2022-04-14T22:20:09.105Z"
   },
   {
    "duration": 19,
    "start_time": "2022-04-14T22:20:09.159Z"
   },
   {
    "duration": 89,
    "start_time": "2022-04-14T22:20:09.180Z"
   },
   {
    "duration": 115,
    "start_time": "2022-04-14T22:20:09.271Z"
   },
   {
    "duration": 60,
    "start_time": "2022-04-14T22:20:09.388Z"
   },
   {
    "duration": 33,
    "start_time": "2022-04-14T22:20:09.454Z"
   },
   {
    "duration": 580,
    "start_time": "2022-04-14T22:20:09.490Z"
   },
   {
    "duration": 3,
    "start_time": "2022-04-14T22:20:10.072Z"
   },
   {
    "duration": 19,
    "start_time": "2022-04-14T22:20:10.078Z"
   },
   {
    "duration": 87,
    "start_time": "2022-04-14T22:20:10.100Z"
   },
   {
    "duration": 18,
    "start_time": "2022-04-14T22:20:10.189Z"
   },
   {
    "duration": 34,
    "start_time": "2022-04-14T22:20:10.209Z"
   },
   {
    "duration": 32,
    "start_time": "2022-04-14T22:20:10.245Z"
   },
   {
    "duration": 24,
    "start_time": "2022-04-14T22:20:10.279Z"
   },
   {
    "duration": 45,
    "start_time": "2022-04-14T22:20:10.305Z"
   },
   {
    "duration": 22,
    "start_time": "2022-04-14T22:20:10.352Z"
   },
   {
    "duration": 81,
    "start_time": "2022-04-14T22:20:10.376Z"
   },
   {
    "duration": 18,
    "start_time": "2022-04-14T22:20:10.459Z"
   },
   {
    "duration": 46,
    "start_time": "2022-04-14T22:20:10.479Z"
   },
   {
    "duration": 38,
    "start_time": "2022-04-14T22:20:10.528Z"
   },
   {
    "duration": 66,
    "start_time": "2022-04-14T22:20:10.569Z"
   },
   {
    "duration": 3,
    "start_time": "2022-04-14T22:20:10.639Z"
   },
   {
    "duration": 7,
    "start_time": "2022-04-14T22:20:10.644Z"
   },
   {
    "duration": 10,
    "start_time": "2022-04-14T22:20:10.653Z"
   },
   {
    "duration": 8,
    "start_time": "2022-04-14T22:20:10.665Z"
   },
   {
    "duration": 7,
    "start_time": "2022-04-14T22:20:10.675Z"
   },
   {
    "duration": 57,
    "start_time": "2022-04-14T22:20:10.684Z"
   },
   {
    "duration": 50,
    "start_time": "2022-04-14T22:20:10.743Z"
   },
   {
    "duration": 39,
    "start_time": "2022-04-14T22:20:10.796Z"
   },
   {
    "duration": 33,
    "start_time": "2022-04-14T22:20:10.838Z"
   },
   {
    "duration": 24,
    "start_time": "2022-04-14T22:20:10.874Z"
   },
   {
    "duration": 48,
    "start_time": "2022-04-14T22:20:10.900Z"
   },
   {
    "duration": 2377,
    "start_time": "2022-04-14T22:21:12.766Z"
   },
   {
    "duration": 8,
    "start_time": "2022-04-14T22:21:18.727Z"
   },
   {
    "duration": 164,
    "start_time": "2022-04-14T22:21:18.742Z"
   },
   {
    "duration": 4,
    "start_time": "2022-04-14T22:21:18.909Z"
   },
   {
    "duration": 41,
    "start_time": "2022-04-14T22:21:18.925Z"
   },
   {
    "duration": 57,
    "start_time": "2022-04-14T22:21:18.970Z"
   },
   {
    "duration": 40,
    "start_time": "2022-04-14T22:21:19.030Z"
   },
   {
    "duration": 76,
    "start_time": "2022-04-14T22:21:19.072Z"
   },
   {
    "duration": 10,
    "start_time": "2022-04-14T22:21:19.150Z"
   },
   {
    "duration": 12,
    "start_time": "2022-04-14T22:21:19.162Z"
   },
   {
    "duration": 11,
    "start_time": "2022-04-14T22:21:19.176Z"
   },
   {
    "duration": 13,
    "start_time": "2022-04-14T22:21:19.227Z"
   },
   {
    "duration": 25,
    "start_time": "2022-04-14T22:21:19.243Z"
   },
   {
    "duration": 63,
    "start_time": "2022-04-14T22:21:19.272Z"
   },
   {
    "duration": 22,
    "start_time": "2022-04-14T22:21:19.339Z"
   },
   {
    "duration": 81,
    "start_time": "2022-04-14T22:21:19.364Z"
   },
   {
    "duration": 10,
    "start_time": "2022-04-14T22:21:19.447Z"
   },
   {
    "duration": 539,
    "start_time": "2022-04-14T22:21:19.459Z"
   },
   {
    "duration": 146,
    "start_time": "2022-04-14T22:21:20.001Z"
   },
   {
    "duration": 253,
    "start_time": "2022-04-14T22:21:20.149Z"
   },
   {
    "duration": 11,
    "start_time": "2022-04-14T22:21:20.404Z"
   },
   {
    "duration": 36,
    "start_time": "2022-04-14T22:21:20.426Z"
   },
   {
    "duration": 10,
    "start_time": "2022-04-14T22:21:20.465Z"
   },
   {
    "duration": 108,
    "start_time": "2022-04-14T22:21:20.477Z"
   },
   {
    "duration": 44,
    "start_time": "2022-04-14T22:21:20.587Z"
   },
   {
    "duration": 22,
    "start_time": "2022-04-14T22:21:20.634Z"
   },
   {
    "duration": 81,
    "start_time": "2022-04-14T22:21:20.658Z"
   },
   {
    "duration": 702,
    "start_time": "2022-04-14T22:21:20.741Z"
   },
   {
    "duration": 40,
    "start_time": "2022-04-14T22:21:21.446Z"
   },
   {
    "duration": 55,
    "start_time": "2022-04-14T22:21:21.491Z"
   },
   {
    "duration": 614,
    "start_time": "2022-04-14T22:21:21.548Z"
   },
   {
    "duration": 7,
    "start_time": "2022-04-14T22:21:22.165Z"
   },
   {
    "duration": 8,
    "start_time": "2022-04-14T22:21:22.174Z"
   },
   {
    "duration": 92,
    "start_time": "2022-04-14T22:21:22.184Z"
   },
   {
    "duration": 17,
    "start_time": "2022-04-14T22:21:22.278Z"
   },
   {
    "duration": 33,
    "start_time": "2022-04-14T22:21:22.297Z"
   },
   {
    "duration": 21,
    "start_time": "2022-04-14T22:21:22.332Z"
   },
   {
    "duration": 26,
    "start_time": "2022-04-14T22:21:22.356Z"
   },
   {
    "duration": 66,
    "start_time": "2022-04-14T22:21:22.384Z"
   },
   {
    "duration": 20,
    "start_time": "2022-04-14T22:21:22.452Z"
   },
   {
    "duration": 64,
    "start_time": "2022-04-14T22:21:22.474Z"
   },
   {
    "duration": 22,
    "start_time": "2022-04-14T22:21:22.540Z"
   },
   {
    "duration": 25,
    "start_time": "2022-04-14T22:21:22.564Z"
   },
   {
    "duration": 65,
    "start_time": "2022-04-14T22:21:22.591Z"
   },
   {
    "duration": 29,
    "start_time": "2022-04-14T22:21:22.658Z"
   },
   {
    "duration": 3,
    "start_time": "2022-04-14T22:21:22.689Z"
   },
   {
    "duration": 30,
    "start_time": "2022-04-14T22:21:22.694Z"
   },
   {
    "duration": 10,
    "start_time": "2022-04-14T22:21:22.726Z"
   },
   {
    "duration": 5,
    "start_time": "2022-04-14T22:21:22.739Z"
   },
   {
    "duration": 9,
    "start_time": "2022-04-14T22:21:22.747Z"
   },
   {
    "duration": 48,
    "start_time": "2022-04-14T22:21:22.759Z"
   },
   {
    "duration": 57,
    "start_time": "2022-04-14T22:21:22.809Z"
   },
   {
    "duration": 12,
    "start_time": "2022-04-14T22:21:22.869Z"
   },
   {
    "duration": 51,
    "start_time": "2022-04-14T22:21:22.884Z"
   },
   {
    "duration": 41,
    "start_time": "2022-04-14T22:21:22.937Z"
   },
   {
    "duration": 18,
    "start_time": "2022-04-14T22:21:22.980Z"
   },
   {
    "duration": 23,
    "start_time": "2022-04-14T22:28:50.286Z"
   },
   {
    "duration": 20,
    "start_time": "2022-04-14T22:29:01.095Z"
   },
   {
    "duration": 17,
    "start_time": "2022-04-14T22:29:07.323Z"
   },
   {
    "duration": 20,
    "start_time": "2022-04-14T22:29:15.354Z"
   },
   {
    "duration": 20,
    "start_time": "2022-04-14T22:29:15.933Z"
   },
   {
    "duration": 20,
    "start_time": "2022-04-14T22:29:16.914Z"
   },
   {
    "duration": 2106,
    "start_time": "2022-04-14T22:30:13.702Z"
   },
   {
    "duration": 5,
    "start_time": "2022-04-14T22:30:22.733Z"
   },
   {
    "duration": 142,
    "start_time": "2022-04-14T22:30:22.741Z"
   },
   {
    "duration": 4,
    "start_time": "2022-04-14T22:30:22.886Z"
   },
   {
    "duration": 51,
    "start_time": "2022-04-14T22:30:22.892Z"
   },
   {
    "duration": 32,
    "start_time": "2022-04-14T22:30:22.946Z"
   },
   {
    "duration": 59,
    "start_time": "2022-04-14T22:30:22.980Z"
   },
   {
    "duration": 41,
    "start_time": "2022-04-14T22:30:23.041Z"
   },
   {
    "duration": 9,
    "start_time": "2022-04-14T22:30:23.084Z"
   },
   {
    "duration": 8,
    "start_time": "2022-04-14T22:30:23.125Z"
   },
   {
    "duration": 11,
    "start_time": "2022-04-14T22:30:23.136Z"
   },
   {
    "duration": 12,
    "start_time": "2022-04-14T22:30:23.150Z"
   },
   {
    "duration": 61,
    "start_time": "2022-04-14T22:30:23.165Z"
   },
   {
    "duration": 23,
    "start_time": "2022-04-14T22:30:23.233Z"
   },
   {
    "duration": 22,
    "start_time": "2022-04-14T22:30:23.258Z"
   },
   {
    "duration": 88,
    "start_time": "2022-04-14T22:30:23.283Z"
   },
   {
    "duration": 10,
    "start_time": "2022-04-14T22:30:23.373Z"
   },
   {
    "duration": 509,
    "start_time": "2022-04-14T22:30:23.386Z"
   },
   {
    "duration": 135,
    "start_time": "2022-04-14T22:30:23.898Z"
   },
   {
    "duration": 242,
    "start_time": "2022-04-14T22:30:24.036Z"
   },
   {
    "duration": 11,
    "start_time": "2022-04-14T22:30:24.281Z"
   },
   {
    "duration": 44,
    "start_time": "2022-04-14T22:30:24.294Z"
   },
   {
    "duration": 9,
    "start_time": "2022-04-14T22:30:24.340Z"
   },
   {
    "duration": 87,
    "start_time": "2022-04-14T22:30:24.351Z"
   },
   {
    "duration": 28,
    "start_time": "2022-04-14T22:30:24.441Z"
   },
   {
    "duration": 20,
    "start_time": "2022-04-14T22:30:24.472Z"
   },
   {
    "duration": 80,
    "start_time": "2022-04-14T22:30:24.494Z"
   },
   {
    "duration": 107,
    "start_time": "2022-04-14T22:30:24.577Z"
   },
   {
    "duration": 50,
    "start_time": "2022-04-14T22:30:24.686Z"
   },
   {
    "duration": 30,
    "start_time": "2022-04-14T22:30:24.738Z"
   },
   {
    "duration": 557,
    "start_time": "2022-04-14T22:30:24.770Z"
   },
   {
    "duration": 3,
    "start_time": "2022-04-14T22:30:25.329Z"
   },
   {
    "duration": 9,
    "start_time": "2022-04-14T22:30:25.334Z"
   },
   {
    "duration": 84,
    "start_time": "2022-04-14T22:30:25.345Z"
   },
   {
    "duration": 16,
    "start_time": "2022-04-14T22:30:25.431Z"
   },
   {
    "duration": 18,
    "start_time": "2022-04-14T22:30:25.450Z"
   },
   {
    "duration": 22,
    "start_time": "2022-04-14T22:30:25.470Z"
   },
   {
    "duration": 21,
    "start_time": "2022-04-14T22:30:25.528Z"
   },
   {
    "duration": 22,
    "start_time": "2022-04-14T22:30:25.551Z"
   },
   {
    "duration": 20,
    "start_time": "2022-04-14T22:30:25.575Z"
   },
   {
    "duration": 41,
    "start_time": "2022-04-14T22:30:25.626Z"
   },
   {
    "duration": 17,
    "start_time": "2022-04-14T22:30:25.669Z"
   },
   {
    "duration": 55,
    "start_time": "2022-04-14T22:30:25.689Z"
   },
   {
    "duration": 31,
    "start_time": "2022-04-14T22:30:25.747Z"
   },
   {
    "duration": 52,
    "start_time": "2022-04-14T22:30:25.780Z"
   },
   {
    "duration": 4,
    "start_time": "2022-04-14T22:30:25.834Z"
   },
   {
    "duration": 6,
    "start_time": "2022-04-14T22:30:25.841Z"
   },
   {
    "duration": 10,
    "start_time": "2022-04-14T22:30:25.848Z"
   },
   {
    "duration": 8,
    "start_time": "2022-04-14T22:30:25.860Z"
   },
   {
    "duration": 6,
    "start_time": "2022-04-14T22:30:25.870Z"
   },
   {
    "duration": 53,
    "start_time": "2022-04-14T22:30:25.878Z"
   },
   {
    "duration": 40,
    "start_time": "2022-04-14T22:30:25.934Z"
   },
   {
    "duration": 11,
    "start_time": "2022-04-14T22:30:25.976Z"
   },
   {
    "duration": 74,
    "start_time": "2022-04-14T22:30:25.989Z"
   },
   {
    "duration": 0,
    "start_time": "2022-04-14T22:30:26.065Z"
   },
   {
    "duration": 0,
    "start_time": "2022-04-14T22:30:26.068Z"
   },
   {
    "duration": 0,
    "start_time": "2022-04-14T22:30:26.069Z"
   },
   {
    "duration": 20,
    "start_time": "2022-04-14T22:30:39.151Z"
   },
   {
    "duration": 18,
    "start_time": "2022-04-14T22:30:40.049Z"
   },
   {
    "duration": 19,
    "start_time": "2022-04-14T22:30:40.626Z"
   },
   {
    "duration": 20,
    "start_time": "2022-04-14T22:30:42.374Z"
   },
   {
    "duration": 2073,
    "start_time": "2022-04-14T22:31:04.865Z"
   },
   {
    "duration": 5,
    "start_time": "2022-04-14T22:31:12.577Z"
   },
   {
    "duration": 154,
    "start_time": "2022-04-14T22:31:12.585Z"
   },
   {
    "duration": 4,
    "start_time": "2022-04-14T22:31:12.742Z"
   },
   {
    "duration": 35,
    "start_time": "2022-04-14T22:31:12.748Z"
   },
   {
    "duration": 63,
    "start_time": "2022-04-14T22:31:12.787Z"
   },
   {
    "duration": 37,
    "start_time": "2022-04-14T22:31:12.853Z"
   },
   {
    "duration": 70,
    "start_time": "2022-04-14T22:31:12.892Z"
   },
   {
    "duration": 10,
    "start_time": "2022-04-14T22:31:12.964Z"
   },
   {
    "duration": 15,
    "start_time": "2022-04-14T22:31:12.976Z"
   },
   {
    "duration": 37,
    "start_time": "2022-04-14T22:31:12.993Z"
   },
   {
    "duration": 11,
    "start_time": "2022-04-14T22:31:13.032Z"
   },
   {
    "duration": 21,
    "start_time": "2022-04-14T22:31:13.045Z"
   },
   {
    "duration": 28,
    "start_time": "2022-04-14T22:31:13.068Z"
   },
   {
    "duration": 20,
    "start_time": "2022-04-14T22:31:13.127Z"
   },
   {
    "duration": 48,
    "start_time": "2022-04-14T22:31:13.149Z"
   },
   {
    "duration": 30,
    "start_time": "2022-04-14T22:31:13.199Z"
   },
   {
    "duration": 493,
    "start_time": "2022-04-14T22:31:13.231Z"
   },
   {
    "duration": 135,
    "start_time": "2022-04-14T22:31:13.726Z"
   },
   {
    "duration": 231,
    "start_time": "2022-04-14T22:31:13.864Z"
   },
   {
    "duration": 11,
    "start_time": "2022-04-14T22:31:14.098Z"
   },
   {
    "duration": 36,
    "start_time": "2022-04-14T22:31:14.112Z"
   },
   {
    "duration": 11,
    "start_time": "2022-04-14T22:31:14.151Z"
   },
   {
    "duration": 114,
    "start_time": "2022-04-14T22:31:14.165Z"
   },
   {
    "duration": 46,
    "start_time": "2022-04-14T22:31:14.281Z"
   },
   {
    "duration": 20,
    "start_time": "2022-04-14T22:31:14.329Z"
   },
   {
    "duration": 75,
    "start_time": "2022-04-14T22:31:14.351Z"
   },
   {
    "duration": 103,
    "start_time": "2022-04-14T22:31:14.428Z"
   },
   {
    "duration": 41,
    "start_time": "2022-04-14T22:31:14.533Z"
   },
   {
    "duration": 54,
    "start_time": "2022-04-14T22:31:14.576Z"
   },
   {
    "duration": 634,
    "start_time": "2022-04-14T22:31:14.633Z"
   },
   {
    "duration": 4,
    "start_time": "2022-04-14T22:31:15.269Z"
   },
   {
    "duration": 8,
    "start_time": "2022-04-14T22:31:15.275Z"
   },
   {
    "duration": 87,
    "start_time": "2022-04-14T22:31:15.285Z"
   },
   {
    "duration": 18,
    "start_time": "2022-04-14T22:31:15.374Z"
   },
   {
    "duration": 35,
    "start_time": "2022-04-14T22:31:15.394Z"
   },
   {
    "duration": 22,
    "start_time": "2022-04-14T22:31:15.431Z"
   },
   {
    "duration": 21,
    "start_time": "2022-04-14T22:31:15.455Z"
   },
   {
    "duration": 55,
    "start_time": "2022-04-14T22:31:15.478Z"
   },
   {
    "duration": 20,
    "start_time": "2022-04-14T22:31:15.535Z"
   },
   {
    "duration": 42,
    "start_time": "2022-04-14T22:31:15.557Z"
   },
   {
    "duration": 18,
    "start_time": "2022-04-14T22:31:15.629Z"
   },
   {
    "duration": 23,
    "start_time": "2022-04-14T22:31:15.649Z"
   },
   {
    "duration": 62,
    "start_time": "2022-04-14T22:31:15.674Z"
   },
   {
    "duration": 30,
    "start_time": "2022-04-14T22:31:15.738Z"
   },
   {
    "duration": 4,
    "start_time": "2022-04-14T22:31:15.770Z"
   },
   {
    "duration": 7,
    "start_time": "2022-04-14T22:31:15.776Z"
   },
   {
    "duration": 6,
    "start_time": "2022-04-14T22:31:15.785Z"
   },
   {
    "duration": 4,
    "start_time": "2022-04-14T22:31:15.825Z"
   },
   {
    "duration": 6,
    "start_time": "2022-04-14T22:31:15.831Z"
   },
   {
    "duration": 41,
    "start_time": "2022-04-14T22:31:15.839Z"
   },
   {
    "duration": 68,
    "start_time": "2022-04-14T22:31:15.883Z"
   },
   {
    "duration": 10,
    "start_time": "2022-04-14T22:31:15.954Z"
   },
   {
    "duration": 28,
    "start_time": "2022-04-14T22:31:15.966Z"
   },
   {
    "duration": 40,
    "start_time": "2022-04-14T22:31:15.997Z"
   },
   {
    "duration": 24,
    "start_time": "2022-04-14T22:31:16.039Z"
   },
   {
    "duration": 5,
    "start_time": "2022-04-14T22:37:05.186Z"
   },
   {
    "duration": 166,
    "start_time": "2022-04-14T22:37:05.194Z"
   },
   {
    "duration": 5,
    "start_time": "2022-04-14T22:37:05.362Z"
   },
   {
    "duration": 57,
    "start_time": "2022-04-14T22:37:05.370Z"
   },
   {
    "duration": 41,
    "start_time": "2022-04-14T22:37:05.430Z"
   },
   {
    "duration": 61,
    "start_time": "2022-04-14T22:37:05.474Z"
   },
   {
    "duration": 45,
    "start_time": "2022-04-14T22:37:05.537Z"
   },
   {
    "duration": 43,
    "start_time": "2022-04-14T22:37:05.585Z"
   },
   {
    "duration": 13,
    "start_time": "2022-04-14T22:37:05.630Z"
   },
   {
    "duration": 17,
    "start_time": "2022-04-14T22:37:05.645Z"
   },
   {
    "duration": 12,
    "start_time": "2022-04-14T22:37:05.665Z"
   },
   {
    "duration": 56,
    "start_time": "2022-04-14T22:37:05.679Z"
   },
   {
    "duration": 26,
    "start_time": "2022-04-14T22:37:05.738Z"
   },
   {
    "duration": 21,
    "start_time": "2022-04-14T22:37:05.769Z"
   },
   {
    "duration": 78,
    "start_time": "2022-04-14T22:37:05.792Z"
   },
   {
    "duration": 8,
    "start_time": "2022-04-14T22:37:05.872Z"
   },
   {
    "duration": 529,
    "start_time": "2022-04-14T22:37:05.883Z"
   },
   {
    "duration": 137,
    "start_time": "2022-04-14T22:37:06.414Z"
   },
   {
    "duration": 226,
    "start_time": "2022-04-14T22:37:06.554Z"
   },
   {
    "duration": 11,
    "start_time": "2022-04-14T22:37:06.782Z"
   },
   {
    "duration": 48,
    "start_time": "2022-04-14T22:37:06.796Z"
   },
   {
    "duration": 27,
    "start_time": "2022-04-14T22:37:06.846Z"
   },
   {
    "duration": 76,
    "start_time": "2022-04-14T22:37:06.875Z"
   },
   {
    "duration": 29,
    "start_time": "2022-04-14T22:37:06.954Z"
   },
   {
    "duration": 46,
    "start_time": "2022-04-14T22:37:06.985Z"
   },
   {
    "duration": 56,
    "start_time": "2022-04-14T22:37:07.033Z"
   },
   {
    "duration": 115,
    "start_time": "2022-04-14T22:37:07.091Z"
   },
   {
    "duration": 49,
    "start_time": "2022-04-14T22:37:07.208Z"
   },
   {
    "duration": 32,
    "start_time": "2022-04-14T22:37:07.259Z"
   },
   {
    "duration": 603,
    "start_time": "2022-04-14T22:37:07.294Z"
   },
   {
    "duration": 4,
    "start_time": "2022-04-14T22:37:07.899Z"
   },
   {
    "duration": 7,
    "start_time": "2022-04-14T22:37:07.905Z"
   },
   {
    "duration": 65,
    "start_time": "2022-04-14T22:37:07.925Z"
   },
   {
    "duration": 33,
    "start_time": "2022-04-14T22:37:07.993Z"
   },
   {
    "duration": 19,
    "start_time": "2022-04-14T22:37:08.029Z"
   },
   {
    "duration": 22,
    "start_time": "2022-04-14T22:37:08.050Z"
   },
   {
    "duration": 56,
    "start_time": "2022-04-14T22:37:08.075Z"
   },
   {
    "duration": 25,
    "start_time": "2022-04-14T22:37:08.133Z"
   },
   {
    "duration": 23,
    "start_time": "2022-04-14T22:37:08.161Z"
   },
   {
    "duration": 43,
    "start_time": "2022-04-14T22:37:08.226Z"
   },
   {
    "duration": 18,
    "start_time": "2022-04-14T22:37:08.278Z"
   },
   {
    "duration": 48,
    "start_time": "2022-04-14T22:37:08.298Z"
   },
   {
    "duration": 34,
    "start_time": "2022-04-14T22:37:08.348Z"
   },
   {
    "duration": 59,
    "start_time": "2022-04-14T22:37:08.384Z"
   },
   {
    "duration": 3,
    "start_time": "2022-04-14T22:37:08.445Z"
   },
   {
    "duration": 7,
    "start_time": "2022-04-14T22:37:08.451Z"
   },
   {
    "duration": 7,
    "start_time": "2022-04-14T22:37:08.460Z"
   },
   {
    "duration": 7,
    "start_time": "2022-04-14T22:37:08.469Z"
   },
   {
    "duration": 11,
    "start_time": "2022-04-14T22:37:08.478Z"
   },
   {
    "duration": 62,
    "start_time": "2022-04-14T22:37:08.491Z"
   },
   {
    "duration": 42,
    "start_time": "2022-04-14T22:37:08.556Z"
   },
   {
    "duration": 13,
    "start_time": "2022-04-14T22:37:08.623Z"
   },
   {
    "duration": 7,
    "start_time": "2022-04-14T22:37:08.639Z"
   },
   {
    "duration": 7,
    "start_time": "2022-04-14T22:37:08.648Z"
   },
   {
    "duration": 7,
    "start_time": "2022-04-14T22:37:08.657Z"
   },
   {
    "duration": 6,
    "start_time": "2022-04-14T22:37:08.666Z"
   },
   {
    "duration": 6,
    "start_time": "2022-04-14T22:37:08.674Z"
   },
   {
    "duration": 43,
    "start_time": "2022-04-14T22:37:08.682Z"
   },
   {
    "duration": 7,
    "start_time": "2022-04-14T22:37:08.727Z"
   },
   {
    "duration": 6,
    "start_time": "2022-04-14T22:37:08.736Z"
   },
   {
    "duration": 6,
    "start_time": "2022-04-14T22:37:08.744Z"
   },
   {
    "duration": 6,
    "start_time": "2022-04-14T22:37:08.752Z"
   },
   {
    "duration": 11,
    "start_time": "2022-04-14T22:37:08.760Z"
   },
   {
    "duration": 6,
    "start_time": "2022-04-14T22:37:08.773Z"
   },
   {
    "duration": 7,
    "start_time": "2022-04-14T22:37:08.781Z"
   },
   {
    "duration": 35,
    "start_time": "2022-04-14T22:37:08.790Z"
   },
   {
    "duration": 12,
    "start_time": "2022-04-14T22:37:08.827Z"
   },
   {
    "duration": 6,
    "start_time": "2022-04-14T22:37:08.841Z"
   },
   {
    "duration": 8,
    "start_time": "2022-04-14T22:37:08.849Z"
   },
   {
    "duration": 6,
    "start_time": "2022-04-14T22:37:08.859Z"
   },
   {
    "duration": 6,
    "start_time": "2022-04-14T22:46:34.212Z"
   },
   {
    "duration": 167,
    "start_time": "2022-04-14T22:46:34.220Z"
   },
   {
    "duration": 5,
    "start_time": "2022-04-14T22:46:34.389Z"
   },
   {
    "duration": 58,
    "start_time": "2022-04-14T22:46:34.396Z"
   },
   {
    "duration": 32,
    "start_time": "2022-04-14T22:46:34.457Z"
   },
   {
    "duration": 63,
    "start_time": "2022-04-14T22:46:34.491Z"
   },
   {
    "duration": 69,
    "start_time": "2022-04-14T22:46:34.557Z"
   },
   {
    "duration": 10,
    "start_time": "2022-04-14T22:46:34.628Z"
   },
   {
    "duration": 12,
    "start_time": "2022-04-14T22:46:34.640Z"
   },
   {
    "duration": 9,
    "start_time": "2022-04-14T22:46:34.654Z"
   },
   {
    "duration": 11,
    "start_time": "2022-04-14T22:46:34.668Z"
   },
   {
    "duration": 14,
    "start_time": "2022-04-14T22:46:34.725Z"
   },
   {
    "duration": 24,
    "start_time": "2022-04-14T22:46:34.741Z"
   },
   {
    "duration": 20,
    "start_time": "2022-04-14T22:46:34.767Z"
   },
   {
    "duration": 71,
    "start_time": "2022-04-14T22:46:34.790Z"
   },
   {
    "duration": 7,
    "start_time": "2022-04-14T22:46:34.864Z"
   },
   {
    "duration": 508,
    "start_time": "2022-04-14T22:46:34.873Z"
   },
   {
    "duration": 134,
    "start_time": "2022-04-14T22:46:35.384Z"
   },
   {
    "duration": 227,
    "start_time": "2022-04-14T22:46:35.525Z"
   },
   {
    "duration": 10,
    "start_time": "2022-04-14T22:46:35.754Z"
   },
   {
    "duration": 27,
    "start_time": "2022-04-14T22:46:35.766Z"
   },
   {
    "duration": 33,
    "start_time": "2022-04-14T22:46:35.796Z"
   },
   {
    "duration": 70,
    "start_time": "2022-04-14T22:46:35.832Z"
   },
   {
    "duration": 45,
    "start_time": "2022-04-14T22:46:35.904Z"
   },
   {
    "duration": 20,
    "start_time": "2022-04-14T22:46:35.951Z"
   },
   {
    "duration": 92,
    "start_time": "2022-04-14T22:46:35.973Z"
   },
   {
    "duration": 109,
    "start_time": "2022-04-14T22:46:36.067Z"
   },
   {
    "duration": 54,
    "start_time": "2022-04-14T22:46:36.178Z"
   },
   {
    "duration": 31,
    "start_time": "2022-04-14T22:46:36.238Z"
   },
   {
    "duration": 941,
    "start_time": "2022-04-14T22:46:36.271Z"
   },
   {
    "duration": 11,
    "start_time": "2022-04-14T22:46:37.214Z"
   },
   {
    "duration": 3,
    "start_time": "2022-04-14T22:46:37.227Z"
   },
   {
    "duration": 66,
    "start_time": "2022-04-14T22:46:37.232Z"
   },
   {
    "duration": 36,
    "start_time": "2022-04-14T22:46:37.300Z"
   },
   {
    "duration": 20,
    "start_time": "2022-04-14T22:46:37.338Z"
   },
   {
    "duration": 23,
    "start_time": "2022-04-14T22:46:37.361Z"
   },
   {
    "duration": 56,
    "start_time": "2022-04-14T22:46:37.387Z"
   },
   {
    "duration": 24,
    "start_time": "2022-04-14T22:46:37.446Z"
   },
   {
    "duration": 19,
    "start_time": "2022-04-14T22:46:37.473Z"
   },
   {
    "duration": 41,
    "start_time": "2022-04-14T22:46:37.525Z"
   },
   {
    "duration": 17,
    "start_time": "2022-04-14T22:46:37.568Z"
   },
   {
    "duration": 51,
    "start_time": "2022-04-14T22:46:37.588Z"
   },
   {
    "duration": 31,
    "start_time": "2022-04-14T22:46:37.642Z"
   },
   {
    "duration": 58,
    "start_time": "2022-04-14T22:46:37.675Z"
   },
   {
    "duration": 4,
    "start_time": "2022-04-14T22:46:37.735Z"
   },
   {
    "duration": 6,
    "start_time": "2022-04-14T22:46:37.741Z"
   },
   {
    "duration": 8,
    "start_time": "2022-04-14T22:46:37.749Z"
   },
   {
    "duration": 5,
    "start_time": "2022-04-14T22:46:37.760Z"
   },
   {
    "duration": 7,
    "start_time": "2022-04-14T22:46:37.767Z"
   },
   {
    "duration": 65,
    "start_time": "2022-04-14T22:46:37.776Z"
   },
   {
    "duration": 41,
    "start_time": "2022-04-14T22:46:37.843Z"
   },
   {
    "duration": 10,
    "start_time": "2022-04-14T22:46:37.886Z"
   },
   {
    "duration": 28,
    "start_time": "2022-04-14T22:46:37.898Z"
   },
   {
    "duration": 11,
    "start_time": "2022-04-14T22:46:37.929Z"
   },
   {
    "duration": 9,
    "start_time": "2022-04-14T22:46:37.942Z"
   },
   {
    "duration": 7,
    "start_time": "2022-04-14T22:46:37.953Z"
   },
   {
    "duration": 6,
    "start_time": "2022-04-14T22:46:37.962Z"
   },
   {
    "duration": 9,
    "start_time": "2022-04-14T22:46:37.970Z"
   },
   {
    "duration": 7,
    "start_time": "2022-04-14T22:46:37.981Z"
   },
   {
    "duration": 6,
    "start_time": "2022-04-14T22:46:37.990Z"
   },
   {
    "duration": 4,
    "start_time": "2022-04-14T22:46:38.024Z"
   },
   {
    "duration": 6,
    "start_time": "2022-04-14T22:46:38.030Z"
   },
   {
    "duration": 6,
    "start_time": "2022-04-14T22:46:38.038Z"
   },
   {
    "duration": 7,
    "start_time": "2022-04-14T22:46:38.046Z"
   },
   {
    "duration": 5,
    "start_time": "2022-04-14T22:46:38.055Z"
   },
   {
    "duration": 6,
    "start_time": "2022-04-14T22:46:38.062Z"
   },
   {
    "duration": 10,
    "start_time": "2022-04-14T22:46:38.070Z"
   },
   {
    "duration": 5,
    "start_time": "2022-04-14T22:46:38.082Z"
   },
   {
    "duration": 36,
    "start_time": "2022-04-14T22:46:38.089Z"
   },
   {
    "duration": 9,
    "start_time": "2022-04-14T22:46:38.127Z"
   },
   {
    "duration": 6,
    "start_time": "2022-04-14T22:46:41.122Z"
   },
   {
    "duration": 10,
    "start_time": "2022-04-14T22:46:41.869Z"
   },
   {
    "duration": 16,
    "start_time": "2022-04-14T22:46:50.397Z"
   },
   {
    "duration": 22,
    "start_time": "2022-04-14T22:49:05.821Z"
   },
   {
    "duration": 2085,
    "start_time": "2022-04-14T22:49:31.270Z"
   },
   {
    "duration": 16,
    "start_time": "2022-04-14T22:51:12.405Z"
   },
   {
    "duration": 24,
    "start_time": "2022-04-14T22:51:13.005Z"
   },
   {
    "duration": 16,
    "start_time": "2022-04-14T22:51:13.495Z"
   },
   {
    "duration": 14,
    "start_time": "2022-04-14T22:51:25.948Z"
   },
   {
    "duration": 15,
    "start_time": "2022-04-14T22:53:33.418Z"
   },
   {
    "duration": 6,
    "start_time": "2022-04-14T22:53:37.932Z"
   },
   {
    "duration": 162,
    "start_time": "2022-04-14T22:53:37.940Z"
   },
   {
    "duration": 21,
    "start_time": "2022-04-14T22:53:38.105Z"
   },
   {
    "duration": 42,
    "start_time": "2022-04-14T22:53:38.128Z"
   },
   {
    "duration": 65,
    "start_time": "2022-04-14T22:53:38.173Z"
   },
   {
    "duration": 35,
    "start_time": "2022-04-14T22:53:38.241Z"
   },
   {
    "duration": 84,
    "start_time": "2022-04-14T22:53:38.278Z"
   },
   {
    "duration": 11,
    "start_time": "2022-04-14T22:53:38.364Z"
   },
   {
    "duration": 10,
    "start_time": "2022-04-14T22:53:38.377Z"
   },
   {
    "duration": 41,
    "start_time": "2022-04-14T22:53:38.389Z"
   },
   {
    "duration": 11,
    "start_time": "2022-04-14T22:53:38.433Z"
   },
   {
    "duration": 16,
    "start_time": "2022-04-14T22:53:38.446Z"
   },
   {
    "duration": 24,
    "start_time": "2022-04-14T22:53:38.464Z"
   },
   {
    "duration": 53,
    "start_time": "2022-04-14T22:53:38.490Z"
   },
   {
    "duration": 50,
    "start_time": "2022-04-14T22:53:38.546Z"
   },
   {
    "duration": 33,
    "start_time": "2022-04-14T22:53:38.598Z"
   },
   {
    "duration": 503,
    "start_time": "2022-04-14T22:53:38.633Z"
   },
   {
    "duration": 137,
    "start_time": "2022-04-14T22:53:39.139Z"
   },
   {
    "duration": 230,
    "start_time": "2022-04-14T22:53:39.279Z"
   },
   {
    "duration": 18,
    "start_time": "2022-04-14T22:53:39.511Z"
   },
   {
    "duration": 25,
    "start_time": "2022-04-14T22:53:39.531Z"
   },
   {
    "duration": 8,
    "start_time": "2022-04-14T22:53:39.558Z"
   },
   {
    "duration": 100,
    "start_time": "2022-04-14T22:53:39.569Z"
   },
   {
    "duration": 29,
    "start_time": "2022-04-14T22:53:39.672Z"
   },
   {
    "duration": 40,
    "start_time": "2022-04-14T22:53:39.703Z"
   },
   {
    "duration": 55,
    "start_time": "2022-04-14T22:53:39.745Z"
   },
   {
    "duration": 126,
    "start_time": "2022-04-14T22:53:39.803Z"
   },
   {
    "duration": 42,
    "start_time": "2022-04-14T22:53:39.931Z"
   },
   {
    "duration": 56,
    "start_time": "2022-04-14T22:53:39.979Z"
   },
   {
    "duration": 554,
    "start_time": "2022-04-14T22:53:40.037Z"
   },
   {
    "duration": 3,
    "start_time": "2022-04-14T22:53:40.594Z"
   },
   {
    "duration": 10,
    "start_time": "2022-04-14T22:53:40.599Z"
   },
   {
    "duration": 79,
    "start_time": "2022-04-14T22:53:40.611Z"
   },
   {
    "duration": 31,
    "start_time": "2022-04-14T22:53:40.693Z"
   },
   {
    "duration": 18,
    "start_time": "2022-04-14T22:53:40.727Z"
   },
   {
    "duration": 37,
    "start_time": "2022-04-14T22:53:40.747Z"
   },
   {
    "duration": 39,
    "start_time": "2022-04-14T22:53:40.787Z"
   },
   {
    "duration": 26,
    "start_time": "2022-04-14T22:53:40.829Z"
   },
   {
    "duration": 23,
    "start_time": "2022-04-14T22:53:40.857Z"
   },
   {
    "duration": 80,
    "start_time": "2022-04-14T22:53:40.882Z"
   },
   {
    "duration": 20,
    "start_time": "2022-04-14T22:53:40.964Z"
   },
   {
    "duration": 55,
    "start_time": "2022-04-14T22:53:40.987Z"
   },
   {
    "duration": 36,
    "start_time": "2022-04-14T22:53:41.044Z"
   },
   {
    "duration": 52,
    "start_time": "2022-04-14T22:53:41.082Z"
   },
   {
    "duration": 4,
    "start_time": "2022-04-14T22:53:41.136Z"
   },
   {
    "duration": 17,
    "start_time": "2022-04-14T22:53:41.142Z"
   },
   {
    "duration": 19,
    "start_time": "2022-04-14T22:53:41.161Z"
   },
   {
    "duration": 33,
    "start_time": "2022-04-14T22:53:41.183Z"
   },
   {
    "duration": 16,
    "start_time": "2022-04-14T22:53:41.218Z"
   },
   {
    "duration": 57,
    "start_time": "2022-04-14T22:53:41.236Z"
   },
   {
    "duration": 43,
    "start_time": "2022-04-14T22:53:41.295Z"
   },
   {
    "duration": 11,
    "start_time": "2022-04-14T22:53:41.340Z"
   },
   {
    "duration": 24,
    "start_time": "2022-04-14T22:53:41.354Z"
   },
   {
    "duration": 11,
    "start_time": "2022-04-14T22:53:41.380Z"
   },
   {
    "duration": 10,
    "start_time": "2022-04-14T22:53:41.394Z"
   },
   {
    "duration": 9,
    "start_time": "2022-04-14T22:53:41.406Z"
   },
   {
    "duration": 4,
    "start_time": "2022-04-14T22:53:41.424Z"
   },
   {
    "duration": 11,
    "start_time": "2022-04-14T22:53:41.430Z"
   },
   {
    "duration": 6,
    "start_time": "2022-04-14T22:53:41.443Z"
   },
   {
    "duration": 8,
    "start_time": "2022-04-14T22:53:41.452Z"
   },
   {
    "duration": 7,
    "start_time": "2022-04-14T22:53:41.462Z"
   },
   {
    "duration": 12,
    "start_time": "2022-04-14T22:53:41.471Z"
   },
   {
    "duration": 6,
    "start_time": "2022-04-14T22:53:41.485Z"
   },
   {
    "duration": 31,
    "start_time": "2022-04-14T22:53:41.494Z"
   },
   {
    "duration": 7,
    "start_time": "2022-04-14T22:53:41.527Z"
   },
   {
    "duration": 9,
    "start_time": "2022-04-14T22:53:41.536Z"
   },
   {
    "duration": 11,
    "start_time": "2022-04-14T22:53:41.547Z"
   },
   {
    "duration": 6,
    "start_time": "2022-04-14T22:53:41.561Z"
   },
   {
    "duration": 7,
    "start_time": "2022-04-14T22:53:41.569Z"
   },
   {
    "duration": 10,
    "start_time": "2022-04-14T22:53:41.578Z"
   },
   {
    "duration": 36,
    "start_time": "2022-04-14T22:53:41.590Z"
   },
   {
    "duration": 22,
    "start_time": "2022-04-14T22:53:41.628Z"
   },
   {
    "duration": 15,
    "start_time": "2022-04-14T22:53:41.653Z"
   },
   {
    "duration": 16,
    "start_time": "2022-04-14T22:53:45.072Z"
   },
   {
    "duration": 6,
    "start_time": "2022-04-14T22:54:01.074Z"
   },
   {
    "duration": 168,
    "start_time": "2022-04-14T22:54:01.082Z"
   },
   {
    "duration": 5,
    "start_time": "2022-04-14T22:54:01.253Z"
   },
   {
    "duration": 74,
    "start_time": "2022-04-14T22:54:01.260Z"
   },
   {
    "duration": 32,
    "start_time": "2022-04-14T22:54:01.337Z"
   },
   {
    "duration": 66,
    "start_time": "2022-04-14T22:54:01.372Z"
   },
   {
    "duration": 42,
    "start_time": "2022-04-14T22:54:01.440Z"
   },
   {
    "duration": 10,
    "start_time": "2022-04-14T22:54:01.484Z"
   },
   {
    "duration": 10,
    "start_time": "2022-04-14T22:54:01.524Z"
   },
   {
    "duration": 26,
    "start_time": "2022-04-14T22:54:01.536Z"
   },
   {
    "duration": 31,
    "start_time": "2022-04-14T22:54:01.566Z"
   },
   {
    "duration": 19,
    "start_time": "2022-04-14T22:54:01.599Z"
   },
   {
    "duration": 32,
    "start_time": "2022-04-14T22:54:01.624Z"
   },
   {
    "duration": 20,
    "start_time": "2022-04-14T22:54:01.658Z"
   },
   {
    "duration": 71,
    "start_time": "2022-04-14T22:54:01.680Z"
   },
   {
    "duration": 9,
    "start_time": "2022-04-14T22:54:01.753Z"
   },
   {
    "duration": 529,
    "start_time": "2022-04-14T22:54:01.764Z"
   },
   {
    "duration": 132,
    "start_time": "2022-04-14T22:54:02.296Z"
   },
   {
    "duration": 240,
    "start_time": "2022-04-14T22:54:02.430Z"
   },
   {
    "duration": 11,
    "start_time": "2022-04-14T22:54:02.672Z"
   },
   {
    "duration": 47,
    "start_time": "2022-04-14T22:54:02.685Z"
   },
   {
    "duration": 9,
    "start_time": "2022-04-14T22:54:02.735Z"
   },
   {
    "duration": 93,
    "start_time": "2022-04-14T22:54:02.746Z"
   },
   {
    "duration": 29,
    "start_time": "2022-04-14T22:54:02.841Z"
   },
   {
    "duration": 20,
    "start_time": "2022-04-14T22:54:02.872Z"
   },
   {
    "duration": 85,
    "start_time": "2022-04-14T22:54:02.894Z"
   },
   {
    "duration": 117,
    "start_time": "2022-04-14T22:54:02.981Z"
   },
   {
    "duration": 49,
    "start_time": "2022-04-14T22:54:03.100Z"
   },
   {
    "duration": 31,
    "start_time": "2022-04-14T22:54:03.155Z"
   },
   {
    "duration": 555,
    "start_time": "2022-04-14T22:54:03.188Z"
   },
   {
    "duration": 4,
    "start_time": "2022-04-14T22:54:03.745Z"
   },
   {
    "duration": 12,
    "start_time": "2022-04-14T22:54:03.751Z"
   },
   {
    "duration": 86,
    "start_time": "2022-04-14T22:54:03.765Z"
   },
   {
    "duration": 17,
    "start_time": "2022-04-14T22:54:03.853Z"
   },
   {
    "duration": 18,
    "start_time": "2022-04-14T22:54:03.872Z"
   },
   {
    "duration": 42,
    "start_time": "2022-04-14T22:54:03.892Z"
   },
   {
    "duration": 21,
    "start_time": "2022-04-14T22:54:03.936Z"
   },
   {
    "duration": 38,
    "start_time": "2022-04-14T22:54:03.959Z"
   },
   {
    "duration": 39,
    "start_time": "2022-04-14T22:54:04.000Z"
   },
   {
    "duration": 46,
    "start_time": "2022-04-14T22:54:04.042Z"
   },
   {
    "duration": 36,
    "start_time": "2022-04-14T22:54:04.090Z"
   },
   {
    "duration": 24,
    "start_time": "2022-04-14T22:54:04.128Z"
   },
   {
    "duration": 33,
    "start_time": "2022-04-14T22:54:04.154Z"
   },
   {
    "duration": 61,
    "start_time": "2022-04-14T22:54:04.189Z"
   },
   {
    "duration": 4,
    "start_time": "2022-04-14T22:54:04.252Z"
   },
   {
    "duration": 10,
    "start_time": "2022-04-14T22:54:04.258Z"
   },
   {
    "duration": 9,
    "start_time": "2022-04-14T22:54:04.270Z"
   },
   {
    "duration": 9,
    "start_time": "2022-04-14T22:54:04.281Z"
   },
   {
    "duration": 10,
    "start_time": "2022-04-14T22:54:04.292Z"
   },
   {
    "duration": 34,
    "start_time": "2022-04-14T22:54:04.324Z"
   },
   {
    "duration": 42,
    "start_time": "2022-04-14T22:54:04.360Z"
   },
   {
    "duration": 17,
    "start_time": "2022-04-14T22:54:04.424Z"
   },
   {
    "duration": 48,
    "start_time": "2022-04-14T22:54:04.443Z"
   },
   {
    "duration": 41,
    "start_time": "2022-04-14T22:54:04.493Z"
   },
   {
    "duration": 17,
    "start_time": "2022-04-14T22:54:04.536Z"
   },
   {
    "duration": 20,
    "start_time": "2022-04-14T22:54:04.555Z"
   },
   {
    "duration": 18,
    "start_time": "2022-04-14T22:54:04.577Z"
   },
   {
    "duration": 29,
    "start_time": "2022-04-14T22:54:04.597Z"
   },
   {
    "duration": 28,
    "start_time": "2022-04-14T22:54:04.628Z"
   },
   {
    "duration": 21,
    "start_time": "2022-04-14T22:54:04.658Z"
   },
   {
    "duration": 11,
    "start_time": "2022-04-14T22:54:04.682Z"
   },
   {
    "duration": 15,
    "start_time": "2022-04-14T22:54:04.695Z"
   },
   {
    "duration": 11,
    "start_time": "2022-04-14T22:54:04.713Z"
   },
   {
    "duration": 8,
    "start_time": "2022-04-14T22:54:04.726Z"
   },
   {
    "duration": 8,
    "start_time": "2022-04-14T22:54:04.737Z"
   },
   {
    "duration": 29,
    "start_time": "2022-04-14T22:54:04.748Z"
   },
   {
    "duration": 22,
    "start_time": "2022-04-14T22:54:04.779Z"
   },
   {
    "duration": 13,
    "start_time": "2022-04-14T22:54:04.804Z"
   },
   {
    "duration": 19,
    "start_time": "2022-04-14T22:54:04.819Z"
   },
   {
    "duration": 7,
    "start_time": "2022-04-14T22:54:04.840Z"
   },
   {
    "duration": 22,
    "start_time": "2022-04-14T22:54:04.849Z"
   },
   {
    "duration": 22,
    "start_time": "2022-04-14T22:54:04.874Z"
   },
   {
    "duration": 28,
    "start_time": "2022-04-14T22:54:04.898Z"
   },
   {
    "duration": 24,
    "start_time": "2022-04-14T22:54:45.554Z"
   },
   {
    "duration": 15,
    "start_time": "2022-04-14T22:54:45.788Z"
   },
   {
    "duration": 11,
    "start_time": "2022-04-14T22:55:08.030Z"
   },
   {
    "duration": 10,
    "start_time": "2022-04-14T22:55:34.882Z"
   },
   {
    "duration": 11,
    "start_time": "2022-04-14T22:56:59.304Z"
   },
   {
    "duration": 6,
    "start_time": "2022-04-14T23:10:32.948Z"
   },
   {
    "duration": 6,
    "start_time": "2022-04-14T23:10:49.272Z"
   },
   {
    "duration": 149,
    "start_time": "2022-04-14T23:10:52.562Z"
   },
   {
    "duration": 160,
    "start_time": "2022-04-14T23:11:01.999Z"
   },
   {
    "duration": 5,
    "start_time": "2022-04-14T23:11:04.678Z"
   },
   {
    "duration": 35,
    "start_time": "2022-04-14T23:11:05.890Z"
   },
   {
    "duration": 33,
    "start_time": "2022-04-14T23:11:06.720Z"
   },
   {
    "duration": 34,
    "start_time": "2022-04-14T23:11:06.941Z"
   },
   {
    "duration": 43,
    "start_time": "2022-04-14T23:11:07.396Z"
   },
   {
    "duration": 10,
    "start_time": "2022-04-14T23:11:30.379Z"
   },
   {
    "duration": 8,
    "start_time": "2022-04-14T23:11:30.963Z"
   },
   {
    "duration": 12,
    "start_time": "2022-04-14T23:12:23.145Z"
   },
   {
    "duration": 14,
    "start_time": "2022-04-14T23:12:23.895Z"
   },
   {
    "duration": 23,
    "start_time": "2022-04-14T23:12:30.771Z"
   },
   {
    "duration": 20,
    "start_time": "2022-04-14T23:13:12.744Z"
   },
   {
    "duration": 50,
    "start_time": "2022-04-14T23:13:14.077Z"
   },
   {
    "duration": 8,
    "start_time": "2022-04-14T23:13:15.569Z"
   },
   {
    "duration": 468,
    "start_time": "2022-04-14T23:13:18.440Z"
   },
   {
    "duration": 117,
    "start_time": "2022-04-14T23:13:23.870Z"
   },
   {
    "duration": 210,
    "start_time": "2022-04-14T23:13:28.614Z"
   },
   {
    "duration": 120,
    "start_time": "2022-04-14T23:13:42.999Z"
   },
   {
    "duration": 207,
    "start_time": "2022-04-14T23:13:54.381Z"
   },
   {
    "duration": 11,
    "start_time": "2022-04-14T23:13:59.802Z"
   },
   {
    "duration": 25,
    "start_time": "2022-04-14T23:14:16.425Z"
   },
   {
    "duration": 10,
    "start_time": "2022-04-14T23:14:36.360Z"
   },
   {
    "duration": 68,
    "start_time": "2022-04-14T23:14:38.400Z"
   },
   {
    "duration": 28,
    "start_time": "2022-04-14T23:14:39.950Z"
   },
   {
    "duration": 21,
    "start_time": "2022-04-14T23:14:55.941Z"
   },
   {
    "duration": 57,
    "start_time": "2022-04-14T23:15:05.013Z"
   },
   {
    "duration": 100,
    "start_time": "2022-04-14T23:15:13.027Z"
   },
   {
    "duration": 41,
    "start_time": "2022-04-14T23:15:13.835Z"
   },
   {
    "duration": 33,
    "start_time": "2022-04-14T23:15:14.950Z"
   },
   {
    "duration": 558,
    "start_time": "2022-04-14T23:15:17.566Z"
   },
   {
    "duration": 66,
    "start_time": "2022-04-14T23:17:34.070Z"
   },
   {
    "duration": 18,
    "start_time": "2022-04-14T23:17:34.698Z"
   },
   {
    "duration": 20,
    "start_time": "2022-04-14T23:17:35.153Z"
   },
   {
    "duration": 23,
    "start_time": "2022-04-14T23:17:37.298Z"
   },
   {
    "duration": 24,
    "start_time": "2022-04-14T23:17:40.057Z"
   },
   {
    "duration": 24,
    "start_time": "2022-04-14T23:17:40.901Z"
   },
   {
    "duration": 22,
    "start_time": "2022-04-14T23:17:58.901Z"
   },
   {
    "duration": 41,
    "start_time": "2022-04-14T23:17:59.580Z"
   },
   {
    "duration": 18,
    "start_time": "2022-04-14T23:18:00.658Z"
   },
   {
    "duration": 24,
    "start_time": "2022-04-14T23:18:01.430Z"
   },
   {
    "duration": 35,
    "start_time": "2022-04-14T23:18:02.860Z"
   },
   {
    "duration": 31,
    "start_time": "2022-04-14T23:18:04.454Z"
   },
   {
    "duration": 6,
    "start_time": "2022-04-14T23:18:29.450Z"
   },
   {
    "duration": 167,
    "start_time": "2022-04-14T23:18:29.458Z"
   },
   {
    "duration": 4,
    "start_time": "2022-04-14T23:18:29.628Z"
   },
   {
    "duration": 35,
    "start_time": "2022-04-14T23:18:29.635Z"
   },
   {
    "duration": 60,
    "start_time": "2022-04-14T23:18:29.672Z"
   },
   {
    "duration": 34,
    "start_time": "2022-04-14T23:18:29.734Z"
   },
   {
    "duration": 66,
    "start_time": "2022-04-14T23:18:29.770Z"
   },
   {
    "duration": 10,
    "start_time": "2022-04-14T23:18:29.838Z"
   },
   {
    "duration": 9,
    "start_time": "2022-04-14T23:18:29.852Z"
   },
   {
    "duration": 10,
    "start_time": "2022-04-14T23:18:29.864Z"
   },
   {
    "duration": 52,
    "start_time": "2022-04-14T23:18:29.877Z"
   },
   {
    "duration": 20,
    "start_time": "2022-04-14T23:18:29.931Z"
   },
   {
    "duration": 25,
    "start_time": "2022-04-14T23:18:29.954Z"
   },
   {
    "duration": 45,
    "start_time": "2022-04-14T23:18:29.981Z"
   },
   {
    "duration": 53,
    "start_time": "2022-04-14T23:18:30.029Z"
   },
   {
    "duration": 9,
    "start_time": "2022-04-14T23:18:30.085Z"
   },
   {
    "duration": 602,
    "start_time": "2022-04-14T23:18:30.125Z"
   },
   {
    "duration": 138,
    "start_time": "2022-04-14T23:18:30.730Z"
   },
   {
    "duration": 242,
    "start_time": "2022-04-14T23:18:30.870Z"
   },
   {
    "duration": 17,
    "start_time": "2022-04-14T23:18:31.115Z"
   },
   {
    "duration": 25,
    "start_time": "2022-04-14T23:18:31.135Z"
   },
   {
    "duration": 11,
    "start_time": "2022-04-14T23:18:31.162Z"
   },
   {
    "duration": 112,
    "start_time": "2022-04-14T23:18:31.175Z"
   },
   {
    "duration": 44,
    "start_time": "2022-04-14T23:18:31.292Z"
   },
   {
    "duration": 20,
    "start_time": "2022-04-14T23:18:31.338Z"
   },
   {
    "duration": 76,
    "start_time": "2022-04-14T23:18:31.360Z"
   },
   {
    "duration": 111,
    "start_time": "2022-04-14T23:18:31.438Z"
   },
   {
    "duration": 44,
    "start_time": "2022-04-14T23:18:31.551Z"
   },
   {
    "duration": 56,
    "start_time": "2022-04-14T23:18:31.597Z"
   },
   {
    "duration": 582,
    "start_time": "2022-04-14T23:18:31.655Z"
   },
   {
    "duration": 67,
    "start_time": "2022-04-14T23:18:32.240Z"
   },
   {
    "duration": 18,
    "start_time": "2022-04-14T23:18:32.324Z"
   },
   {
    "duration": 19,
    "start_time": "2022-04-14T23:18:32.344Z"
   },
   {
    "duration": 22,
    "start_time": "2022-04-14T23:18:32.366Z"
   },
   {
    "duration": 50,
    "start_time": "2022-04-14T23:18:32.390Z"
   },
   {
    "duration": 23,
    "start_time": "2022-04-14T23:18:32.443Z"
   },
   {
    "duration": 20,
    "start_time": "2022-04-14T23:18:32.468Z"
   },
   {
    "duration": 48,
    "start_time": "2022-04-14T23:18:32.524Z"
   },
   {
    "duration": 18,
    "start_time": "2022-04-14T23:18:32.574Z"
   },
   {
    "duration": 50,
    "start_time": "2022-04-14T23:18:32.594Z"
   },
   {
    "duration": 35,
    "start_time": "2022-04-14T23:18:32.646Z"
   },
   {
    "duration": 55,
    "start_time": "2022-04-14T23:18:32.683Z"
   },
   {
    "duration": 134,
    "start_time": "2022-04-14T23:18:32.740Z"
   },
   {
    "duration": 7,
    "start_time": "2022-04-14T23:20:02.371Z"
   },
   {
    "duration": 170,
    "start_time": "2022-04-14T23:20:02.381Z"
   },
   {
    "duration": 5,
    "start_time": "2022-04-14T23:20:02.553Z"
   },
   {
    "duration": 60,
    "start_time": "2022-04-14T23:20:02.561Z"
   },
   {
    "duration": 33,
    "start_time": "2022-04-14T23:20:02.623Z"
   },
   {
    "duration": 34,
    "start_time": "2022-04-14T23:20:02.659Z"
   },
   {
    "duration": 68,
    "start_time": "2022-04-14T23:20:02.695Z"
   },
   {
    "duration": 10,
    "start_time": "2022-04-14T23:20:02.766Z"
   },
   {
    "duration": 17,
    "start_time": "2022-04-14T23:20:02.778Z"
   },
   {
    "duration": 35,
    "start_time": "2022-04-14T23:20:02.799Z"
   },
   {
    "duration": 23,
    "start_time": "2022-04-14T23:20:02.836Z"
   },
   {
    "duration": 26,
    "start_time": "2022-04-14T23:20:02.861Z"
   },
   {
    "duration": 36,
    "start_time": "2022-04-14T23:20:02.890Z"
   },
   {
    "duration": 20,
    "start_time": "2022-04-14T23:20:02.928Z"
   },
   {
    "duration": 90,
    "start_time": "2022-04-14T23:20:02.951Z"
   },
   {
    "duration": 9,
    "start_time": "2022-04-14T23:20:03.043Z"
   },
   {
    "duration": 500,
    "start_time": "2022-04-14T23:20:03.055Z"
   },
   {
    "duration": 423,
    "start_time": "2022-04-14T23:20:06.765Z"
   },
   {
    "duration": 7,
    "start_time": "2022-04-14T23:20:49.370Z"
   },
   {
    "duration": 158,
    "start_time": "2022-04-14T23:20:49.379Z"
   },
   {
    "duration": 5,
    "start_time": "2022-04-14T23:20:49.539Z"
   },
   {
    "duration": 39,
    "start_time": "2022-04-14T23:20:49.547Z"
   },
   {
    "duration": 54,
    "start_time": "2022-04-14T23:20:49.588Z"
   },
   {
    "duration": 35,
    "start_time": "2022-04-14T23:20:49.644Z"
   },
   {
    "duration": 76,
    "start_time": "2022-04-14T23:20:49.681Z"
   },
   {
    "duration": 11,
    "start_time": "2022-04-14T23:20:49.759Z"
   },
   {
    "duration": 10,
    "start_time": "2022-04-14T23:20:49.774Z"
   },
   {
    "duration": 41,
    "start_time": "2022-04-14T23:20:49.786Z"
   },
   {
    "duration": 12,
    "start_time": "2022-04-14T23:20:49.829Z"
   },
   {
    "duration": 19,
    "start_time": "2022-04-14T23:20:49.843Z"
   },
   {
    "duration": 24,
    "start_time": "2022-04-14T23:20:49.864Z"
   },
   {
    "duration": 51,
    "start_time": "2022-04-14T23:20:49.890Z"
   },
   {
    "duration": 49,
    "start_time": "2022-04-14T23:20:49.943Z"
   },
   {
    "duration": 10,
    "start_time": "2022-04-14T23:20:50.023Z"
   },
   {
    "duration": 506,
    "start_time": "2022-04-14T23:20:50.035Z"
   },
   {
    "duration": 37,
    "start_time": "2022-04-14T23:20:50.544Z"
   },
   {
    "duration": 46,
    "start_time": "2022-04-14T23:23:15.898Z"
   },
   {
    "duration": 207,
    "start_time": "2022-04-14T23:23:18.602Z"
   },
   {
    "duration": 11,
    "start_time": "2022-04-14T23:23:23.264Z"
   },
   {
    "duration": 25,
    "start_time": "2022-04-14T23:23:27.582Z"
   },
   {
    "duration": 12,
    "start_time": "2022-04-14T23:23:35.258Z"
   },
   {
    "duration": 69,
    "start_time": "2022-04-14T23:23:40.955Z"
   },
   {
    "duration": 28,
    "start_time": "2022-04-14T23:23:43.029Z"
   },
   {
    "duration": 20,
    "start_time": "2022-04-14T23:23:46.762Z"
   },
   {
    "duration": 51,
    "start_time": "2022-04-14T23:23:47.968Z"
   },
   {
    "duration": 97,
    "start_time": "2022-04-14T23:23:52.092Z"
   },
   {
    "duration": 43,
    "start_time": "2022-04-14T23:23:52.266Z"
   },
   {
    "duration": 34,
    "start_time": "2022-04-14T23:23:52.422Z"
   },
   {
    "duration": 578,
    "start_time": "2022-04-14T23:23:52.591Z"
   },
   {
    "duration": 78,
    "start_time": "2022-04-14T23:23:53.171Z"
   },
   {
    "duration": 18,
    "start_time": "2022-04-14T23:23:53.252Z"
   },
   {
    "duration": 69,
    "start_time": "2022-04-14T23:23:53.614Z"
   },
   {
    "duration": 18,
    "start_time": "2022-04-14T23:23:53.788Z"
   },
   {
    "duration": 18,
    "start_time": "2022-04-14T23:23:54.456Z"
   },
   {
    "duration": 22,
    "start_time": "2022-04-14T23:23:54.630Z"
   },
   {
    "duration": 22,
    "start_time": "2022-04-14T23:23:54.813Z"
   },
   {
    "duration": 23,
    "start_time": "2022-04-14T23:23:55.465Z"
   },
   {
    "duration": 21,
    "start_time": "2022-04-14T23:23:55.884Z"
   },
   {
    "duration": 44,
    "start_time": "2022-04-14T23:23:56.099Z"
   },
   {
    "duration": 19,
    "start_time": "2022-04-14T23:23:56.349Z"
   },
   {
    "duration": 23,
    "start_time": "2022-04-14T23:23:56.784Z"
   },
   {
    "duration": 33,
    "start_time": "2022-04-14T23:23:58.295Z"
   },
   {
    "duration": 30,
    "start_time": "2022-04-14T23:23:58.980Z"
   },
   {
    "duration": 171925,
    "start_time": "2022-04-14T23:24:03.852Z"
   },
   {
    "duration": 1013,
    "start_time": "2022-04-14T23:28:44.920Z"
   },
   {
    "duration": 15,
    "start_time": "2022-04-14T23:28:45.937Z"
   },
   {
    "duration": 9,
    "start_time": "2022-04-14T23:28:45.954Z"
   },
   {
    "duration": 31,
    "start_time": "2022-04-14T23:30:18.359Z"
   },
   {
    "duration": 43,
    "start_time": "2022-04-14T23:30:19.339Z"
   },
   {
    "duration": 13,
    "start_time": "2022-04-14T23:30:20.496Z"
   },
   {
    "duration": 16,
    "start_time": "2022-04-14T23:30:23.325Z"
   },
   {
    "duration": 22,
    "start_time": "2022-04-14T23:30:23.903Z"
   },
   {
    "duration": 15,
    "start_time": "2022-04-14T23:30:25.273Z"
   },
   {
    "duration": 11,
    "start_time": "2022-04-14T23:30:27.193Z"
   },
   {
    "duration": 16,
    "start_time": "2022-04-14T23:30:55.407Z"
   },
   {
    "duration": 11,
    "start_time": "2022-04-14T23:31:15.376Z"
   },
   {
    "duration": 6,
    "start_time": "2022-04-14T23:32:47.209Z"
   },
   {
    "duration": 167,
    "start_time": "2022-04-14T23:32:47.218Z"
   },
   {
    "duration": 4,
    "start_time": "2022-04-14T23:32:47.388Z"
   },
   {
    "duration": 59,
    "start_time": "2022-04-14T23:32:47.395Z"
   },
   {
    "duration": 32,
    "start_time": "2022-04-14T23:32:47.456Z"
   },
   {
    "duration": 56,
    "start_time": "2022-04-14T23:32:47.490Z"
   },
   {
    "duration": 41,
    "start_time": "2022-04-14T23:32:47.548Z"
   },
   {
    "duration": 36,
    "start_time": "2022-04-14T23:32:47.591Z"
   },
   {
    "duration": 17,
    "start_time": "2022-04-14T23:32:47.630Z"
   },
   {
    "duration": 11,
    "start_time": "2022-04-14T23:32:47.649Z"
   },
   {
    "duration": 15,
    "start_time": "2022-04-14T23:32:47.662Z"
   },
   {
    "duration": 45,
    "start_time": "2022-04-14T23:32:47.679Z"
   },
   {
    "duration": 22,
    "start_time": "2022-04-14T23:32:47.727Z"
   },
   {
    "duration": 23,
    "start_time": "2022-04-14T23:32:47.751Z"
   },
   {
    "duration": 77,
    "start_time": "2022-04-14T23:32:47.776Z"
   },
   {
    "duration": 8,
    "start_time": "2022-04-14T23:32:47.855Z"
   },
   {
    "duration": 498,
    "start_time": "2022-04-14T23:32:47.865Z"
   },
   {
    "duration": 27,
    "start_time": "2022-04-14T23:32:48.365Z"
   },
   {
    "duration": 241,
    "start_time": "2022-04-14T23:32:48.394Z"
   },
   {
    "duration": 11,
    "start_time": "2022-04-14T23:32:48.637Z"
   },
   {
    "duration": 28,
    "start_time": "2022-04-14T23:32:48.650Z"
   },
   {
    "duration": 9,
    "start_time": "2022-04-14T23:32:48.680Z"
   },
   {
    "duration": 69,
    "start_time": "2022-04-14T23:32:48.725Z"
   },
   {
    "duration": 46,
    "start_time": "2022-04-14T23:32:48.799Z"
   },
   {
    "duration": 20,
    "start_time": "2022-04-14T23:32:48.846Z"
   },
   {
    "duration": 82,
    "start_time": "2022-04-14T23:32:48.868Z"
   },
   {
    "duration": 110,
    "start_time": "2022-04-14T23:32:48.952Z"
   },
   {
    "duration": 40,
    "start_time": "2022-04-14T23:32:49.064Z"
   },
   {
    "duration": 50,
    "start_time": "2022-04-14T23:32:49.106Z"
   },
   {
    "duration": 597,
    "start_time": "2022-04-14T23:32:49.158Z"
   },
   {
    "duration": 78,
    "start_time": "2022-04-14T23:32:49.757Z"
   },
   {
    "duration": 17,
    "start_time": "2022-04-14T23:32:49.837Z"
   },
   {
    "duration": 19,
    "start_time": "2022-04-14T23:32:49.856Z"
   },
   {
    "duration": 51,
    "start_time": "2022-04-14T23:32:49.877Z"
   },
   {
    "duration": 21,
    "start_time": "2022-04-14T23:32:49.930Z"
   },
   {
    "duration": 23,
    "start_time": "2022-04-14T23:32:49.953Z"
   },
   {
    "duration": 54,
    "start_time": "2022-04-14T23:32:49.978Z"
   },
   {
    "duration": 54,
    "start_time": "2022-04-14T23:32:50.034Z"
   },
   {
    "duration": 17,
    "start_time": "2022-04-14T23:32:50.091Z"
   },
   {
    "duration": 36,
    "start_time": "2022-04-14T23:32:50.110Z"
   },
   {
    "duration": 35,
    "start_time": "2022-04-14T23:32:50.148Z"
   },
   {
    "duration": 58,
    "start_time": "2022-04-14T23:32:50.185Z"
   },
   {
    "duration": 172741,
    "start_time": "2022-04-14T23:32:50.245Z"
   },
   {
    "duration": 547,
    "start_time": "2022-04-14T23:35:42.988Z"
   },
   {
    "duration": 96,
    "start_time": "2022-04-14T23:35:43.538Z"
   },
   {
    "duration": 9,
    "start_time": "2022-04-14T23:35:43.636Z"
   },
   {
    "duration": 34,
    "start_time": "2022-04-14T23:35:43.647Z"
   },
   {
    "duration": 52,
    "start_time": "2022-04-14T23:35:43.683Z"
   },
   {
    "duration": 11,
    "start_time": "2022-04-14T23:35:43.737Z"
   },
   {
    "duration": 76,
    "start_time": "2022-04-14T23:35:43.750Z"
   },
   {
    "duration": 21,
    "start_time": "2022-04-14T23:35:43.828Z"
   },
   {
    "duration": 14,
    "start_time": "2022-04-14T23:35:43.851Z"
   },
   {
    "duration": 68,
    "start_time": "2022-04-14T23:35:43.867Z"
   },
   {
    "duration": 12,
    "start_time": "2022-04-14T23:47:12.311Z"
   },
   {
    "duration": 41729,
    "start_time": "2022-04-15T10:49:47.507Z"
   },
   {
    "duration": 122,
    "start_time": "2022-04-15T10:50:29.238Z"
   },
   {
    "duration": 4,
    "start_time": "2022-04-15T10:50:29.362Z"
   },
   {
    "duration": 32,
    "start_time": "2022-04-15T10:50:29.368Z"
   },
   {
    "duration": 29,
    "start_time": "2022-04-15T10:50:29.402Z"
   },
   {
    "duration": 56,
    "start_time": "2022-04-15T10:50:29.432Z"
   },
   {
    "duration": 46,
    "start_time": "2022-04-15T10:50:29.490Z"
   },
   {
    "duration": 7,
    "start_time": "2022-04-15T10:50:29.538Z"
   },
   {
    "duration": 8,
    "start_time": "2022-04-15T10:50:29.546Z"
   },
   {
    "duration": 7,
    "start_time": "2022-04-15T10:50:29.556Z"
   },
   {
    "duration": 8,
    "start_time": "2022-04-15T10:50:29.564Z"
   },
   {
    "duration": 13,
    "start_time": "2022-04-15T10:50:29.573Z"
   },
   {
    "duration": 46,
    "start_time": "2022-04-15T10:50:29.587Z"
   },
   {
    "duration": 14,
    "start_time": "2022-04-15T10:50:29.634Z"
   },
   {
    "duration": 39,
    "start_time": "2022-04-15T10:50:29.649Z"
   },
   {
    "duration": 5,
    "start_time": "2022-04-15T10:50:29.690Z"
   },
   {
    "duration": 300,
    "start_time": "2022-04-15T10:50:29.723Z"
   },
   {
    "duration": 116,
    "start_time": "2022-04-15T10:50:30.025Z"
   },
   {
    "duration": 0,
    "start_time": "2022-04-15T10:50:30.145Z"
   },
   {
    "duration": 0,
    "start_time": "2022-04-15T10:50:30.147Z"
   },
   {
    "duration": 0,
    "start_time": "2022-04-15T10:50:30.148Z"
   },
   {
    "duration": 0,
    "start_time": "2022-04-15T10:50:30.150Z"
   },
   {
    "duration": 0,
    "start_time": "2022-04-15T10:50:30.152Z"
   },
   {
    "duration": 0,
    "start_time": "2022-04-15T10:50:30.153Z"
   },
   {
    "duration": 0,
    "start_time": "2022-04-15T10:50:30.154Z"
   },
   {
    "duration": 0,
    "start_time": "2022-04-15T10:50:30.156Z"
   },
   {
    "duration": 0,
    "start_time": "2022-04-15T10:50:30.157Z"
   },
   {
    "duration": 0,
    "start_time": "2022-04-15T10:50:30.158Z"
   },
   {
    "duration": 0,
    "start_time": "2022-04-15T10:50:30.160Z"
   },
   {
    "duration": 0,
    "start_time": "2022-04-15T10:50:30.161Z"
   },
   {
    "duration": 0,
    "start_time": "2022-04-15T10:50:30.162Z"
   },
   {
    "duration": 0,
    "start_time": "2022-04-15T10:50:30.164Z"
   },
   {
    "duration": 0,
    "start_time": "2022-04-15T10:50:30.165Z"
   },
   {
    "duration": 0,
    "start_time": "2022-04-15T10:50:30.167Z"
   },
   {
    "duration": 0,
    "start_time": "2022-04-15T10:50:30.168Z"
   },
   {
    "duration": 0,
    "start_time": "2022-04-15T10:50:30.169Z"
   },
   {
    "duration": 0,
    "start_time": "2022-04-15T10:50:30.171Z"
   },
   {
    "duration": 0,
    "start_time": "2022-04-15T10:50:30.172Z"
   },
   {
    "duration": 0,
    "start_time": "2022-04-15T10:50:30.173Z"
   },
   {
    "duration": 0,
    "start_time": "2022-04-15T10:50:30.174Z"
   },
   {
    "duration": 0,
    "start_time": "2022-04-15T10:50:30.175Z"
   },
   {
    "duration": 0,
    "start_time": "2022-04-15T10:50:30.176Z"
   },
   {
    "duration": 0,
    "start_time": "2022-04-15T10:50:30.177Z"
   },
   {
    "duration": 0,
    "start_time": "2022-04-15T10:50:30.178Z"
   },
   {
    "duration": 0,
    "start_time": "2022-04-15T10:50:30.179Z"
   },
   {
    "duration": 0,
    "start_time": "2022-04-15T10:50:30.180Z"
   },
   {
    "duration": 0,
    "start_time": "2022-04-15T10:50:30.223Z"
   },
   {
    "duration": 0,
    "start_time": "2022-04-15T10:50:30.226Z"
   },
   {
    "duration": 0,
    "start_time": "2022-04-15T10:50:30.227Z"
   },
   {
    "duration": 0,
    "start_time": "2022-04-15T10:50:30.228Z"
   },
   {
    "duration": 0,
    "start_time": "2022-04-15T10:50:30.229Z"
   },
   {
    "duration": 1,
    "start_time": "2022-04-15T10:50:30.230Z"
   },
   {
    "duration": 0,
    "start_time": "2022-04-15T10:50:30.232Z"
   },
   {
    "duration": 130,
    "start_time": "2022-04-15T10:51:35.218Z"
   },
   {
    "duration": 105,
    "start_time": "2022-04-15T10:53:54.646Z"
   },
   {
    "duration": 7,
    "start_time": "2022-04-15T10:56:12.665Z"
   },
   {
    "duration": 47,
    "start_time": "2022-04-15T10:56:13.304Z"
   },
   {
    "duration": 16,
    "start_time": "2022-04-15T10:56:13.809Z"
   },
   {
    "duration": 138,
    "start_time": "2022-04-15T11:00:52.220Z"
   },
   {
    "duration": 162,
    "start_time": "2022-04-15T11:00:54.718Z"
   },
   {
    "duration": 4,
    "start_time": "2022-04-15T11:00:55.705Z"
   },
   {
    "duration": 33,
    "start_time": "2022-04-15T11:00:56.144Z"
   },
   {
    "duration": 39,
    "start_time": "2022-04-15T11:00:56.807Z"
   },
   {
    "duration": 36,
    "start_time": "2022-04-15T11:00:57.200Z"
   },
   {
    "duration": 27,
    "start_time": "2022-04-15T11:00:57.997Z"
   },
   {
    "duration": 7,
    "start_time": "2022-04-15T11:01:00.407Z"
   },
   {
    "duration": 5,
    "start_time": "2022-04-15T11:01:00.745Z"
   },
   {
    "duration": 8,
    "start_time": "2022-04-15T11:01:01.418Z"
   },
   {
    "duration": 8,
    "start_time": "2022-04-15T11:01:02.365Z"
   },
   {
    "duration": 9,
    "start_time": "2022-04-15T11:01:02.747Z"
   },
   {
    "duration": 14,
    "start_time": "2022-04-15T11:01:03.802Z"
   },
   {
    "duration": 14,
    "start_time": "2022-04-15T11:01:05.163Z"
   },
   {
    "duration": 38,
    "start_time": "2022-04-15T11:01:06.223Z"
   },
   {
    "duration": 7,
    "start_time": "2022-04-15T11:01:06.977Z"
   },
   {
    "duration": 390,
    "start_time": "2022-04-15T11:01:07.684Z"
   },
   {
    "duration": 16,
    "start_time": "2022-04-15T11:01:09.181Z"
   },
   {
    "duration": 149,
    "start_time": "2022-04-15T11:01:50.765Z"
   },
   {
    "duration": 14,
    "start_time": "2022-04-15T11:01:52.099Z"
   },
   {
    "duration": 222,
    "start_time": "2022-04-15T11:01:57.239Z"
   },
   {
    "duration": 10,
    "start_time": "2022-04-15T11:01:58.471Z"
   },
   {
    "duration": 157,
    "start_time": "2022-04-15T11:01:59.140Z"
   },
   {
    "duration": 12,
    "start_time": "2022-04-15T11:02:00.496Z"
   },
   {
    "duration": 4,
    "start_time": "2022-04-15T11:02:06.956Z"
   },
   {
    "duration": 103,
    "start_time": "2022-04-15T11:02:07.719Z"
   },
   {
    "duration": 3,
    "start_time": "2022-04-15T11:02:08.439Z"
   },
   {
    "duration": 21,
    "start_time": "2022-04-15T11:02:08.967Z"
   },
   {
    "duration": 20,
    "start_time": "2022-04-15T11:02:09.708Z"
   },
   {
    "duration": 33,
    "start_time": "2022-04-15T11:02:10.081Z"
   },
   {
    "duration": 33,
    "start_time": "2022-04-15T11:02:10.811Z"
   },
   {
    "duration": 7,
    "start_time": "2022-04-15T11:02:13.198Z"
   },
   {
    "duration": 6,
    "start_time": "2022-04-15T11:02:13.567Z"
   },
   {
    "duration": 8,
    "start_time": "2022-04-15T11:02:14.245Z"
   },
   {
    "duration": 11,
    "start_time": "2022-04-15T11:02:15.204Z"
   },
   {
    "duration": 14,
    "start_time": "2022-04-15T11:02:15.594Z"
   },
   {
    "duration": 14,
    "start_time": "2022-04-15T11:02:16.594Z"
   },
   {
    "duration": 20,
    "start_time": "2022-04-15T11:02:17.888Z"
   },
   {
    "duration": 42,
    "start_time": "2022-04-15T11:02:18.889Z"
   },
   {
    "duration": 7,
    "start_time": "2022-04-15T11:02:19.654Z"
   },
   {
    "duration": 218,
    "start_time": "2022-04-15T11:02:20.340Z"
   },
   {
    "duration": 10,
    "start_time": "2022-04-15T11:02:21.408Z"
   },
   {
    "duration": 117,
    "start_time": "2022-04-15T11:02:22.252Z"
   },
   {
    "duration": 10,
    "start_time": "2022-04-15T11:02:23.389Z"
   },
   {
    "duration": 39047,
    "start_time": "2022-04-15T11:02:53.438Z"
   },
   {
    "duration": 145,
    "start_time": "2022-04-15T11:03:32.488Z"
   },
   {
    "duration": 4,
    "start_time": "2022-04-15T11:03:32.635Z"
   },
   {
    "duration": 42,
    "start_time": "2022-04-15T11:03:32.641Z"
   },
   {
    "duration": 38,
    "start_time": "2022-04-15T11:03:32.686Z"
   },
   {
    "duration": 79,
    "start_time": "2022-04-15T11:03:32.725Z"
   },
   {
    "duration": 47,
    "start_time": "2022-04-15T11:03:32.805Z"
   },
   {
    "duration": 9,
    "start_time": "2022-04-15T11:03:32.854Z"
   },
   {
    "duration": 6,
    "start_time": "2022-04-15T11:03:32.865Z"
   },
   {
    "duration": 7,
    "start_time": "2022-04-15T11:03:32.873Z"
   },
   {
    "duration": 8,
    "start_time": "2022-04-15T11:03:32.881Z"
   },
   {
    "duration": 47,
    "start_time": "2022-04-15T11:03:32.891Z"
   },
   {
    "duration": 19,
    "start_time": "2022-04-15T11:03:32.942Z"
   },
   {
    "duration": 16,
    "start_time": "2022-04-15T11:03:32.964Z"
   },
   {
    "duration": 63,
    "start_time": "2022-04-15T11:03:32.982Z"
   },
   {
    "duration": 6,
    "start_time": "2022-04-15T11:03:33.047Z"
   },
   {
    "duration": 295,
    "start_time": "2022-04-15T11:03:33.055Z"
   },
   {
    "duration": 119,
    "start_time": "2022-04-15T11:03:33.352Z"
   },
   {
    "duration": 1,
    "start_time": "2022-04-15T11:03:33.473Z"
   },
   {
    "duration": 0,
    "start_time": "2022-04-15T11:03:33.475Z"
   },
   {
    "duration": 0,
    "start_time": "2022-04-15T11:03:33.476Z"
   },
   {
    "duration": 0,
    "start_time": "2022-04-15T11:03:33.476Z"
   },
   {
    "duration": 0,
    "start_time": "2022-04-15T11:03:33.477Z"
   },
   {
    "duration": 0,
    "start_time": "2022-04-15T11:03:33.478Z"
   },
   {
    "duration": 0,
    "start_time": "2022-04-15T11:03:33.480Z"
   },
   {
    "duration": 0,
    "start_time": "2022-04-15T11:03:33.481Z"
   },
   {
    "duration": 0,
    "start_time": "2022-04-15T11:03:33.483Z"
   },
   {
    "duration": 0,
    "start_time": "2022-04-15T11:03:33.484Z"
   },
   {
    "duration": 0,
    "start_time": "2022-04-15T11:03:33.485Z"
   },
   {
    "duration": 0,
    "start_time": "2022-04-15T11:03:33.486Z"
   },
   {
    "duration": 0,
    "start_time": "2022-04-15T11:03:33.487Z"
   },
   {
    "duration": 0,
    "start_time": "2022-04-15T11:03:33.489Z"
   },
   {
    "duration": 0,
    "start_time": "2022-04-15T11:03:33.490Z"
   },
   {
    "duration": 0,
    "start_time": "2022-04-15T11:03:33.491Z"
   },
   {
    "duration": 0,
    "start_time": "2022-04-15T11:03:33.492Z"
   },
   {
    "duration": 0,
    "start_time": "2022-04-15T11:03:33.493Z"
   },
   {
    "duration": 0,
    "start_time": "2022-04-15T11:03:33.494Z"
   },
   {
    "duration": 0,
    "start_time": "2022-04-15T11:03:33.494Z"
   },
   {
    "duration": 0,
    "start_time": "2022-04-15T11:03:33.496Z"
   },
   {
    "duration": 0,
    "start_time": "2022-04-15T11:03:33.524Z"
   },
   {
    "duration": 0,
    "start_time": "2022-04-15T11:03:33.525Z"
   },
   {
    "duration": 0,
    "start_time": "2022-04-15T11:03:33.526Z"
   },
   {
    "duration": 0,
    "start_time": "2022-04-15T11:03:33.528Z"
   },
   {
    "duration": 0,
    "start_time": "2022-04-15T11:03:33.528Z"
   },
   {
    "duration": 0,
    "start_time": "2022-04-15T11:03:33.529Z"
   },
   {
    "duration": 0,
    "start_time": "2022-04-15T11:03:33.530Z"
   },
   {
    "duration": 0,
    "start_time": "2022-04-15T11:03:33.531Z"
   },
   {
    "duration": 0,
    "start_time": "2022-04-15T11:03:33.532Z"
   },
   {
    "duration": 0,
    "start_time": "2022-04-15T11:03:33.533Z"
   },
   {
    "duration": 0,
    "start_time": "2022-04-15T11:03:33.534Z"
   },
   {
    "duration": 0,
    "start_time": "2022-04-15T11:03:33.535Z"
   },
   {
    "duration": 0,
    "start_time": "2022-04-15T11:03:33.536Z"
   },
   {
    "duration": 0,
    "start_time": "2022-04-15T11:03:33.537Z"
   },
   {
    "duration": 140,
    "start_time": "2022-04-15T11:03:49.443Z"
   },
   {
    "duration": 10,
    "start_time": "2022-04-15T11:03:52.065Z"
   },
   {
    "duration": 1606,
    "start_time": "2022-04-15T14:11:27.938Z"
   },
   {
    "duration": 101,
    "start_time": "2022-04-15T14:11:29.546Z"
   },
   {
    "duration": 3,
    "start_time": "2022-04-15T14:11:29.649Z"
   },
   {
    "duration": 23,
    "start_time": "2022-04-15T14:11:29.655Z"
   },
   {
    "duration": 23,
    "start_time": "2022-04-15T14:11:29.680Z"
   },
   {
    "duration": 73,
    "start_time": "2022-04-15T14:11:29.705Z"
   },
   {
    "duration": 25,
    "start_time": "2022-04-15T14:11:29.780Z"
   },
   {
    "duration": 8,
    "start_time": "2022-04-15T14:11:29.823Z"
   },
   {
    "duration": 6,
    "start_time": "2022-04-15T14:11:29.833Z"
   },
   {
    "duration": 7,
    "start_time": "2022-04-15T14:11:29.841Z"
   },
   {
    "duration": 10,
    "start_time": "2022-04-15T14:11:29.850Z"
   },
   {
    "duration": 10,
    "start_time": "2022-04-15T14:11:29.862Z"
   },
   {
    "duration": 51,
    "start_time": "2022-04-15T14:11:29.873Z"
   },
   {
    "duration": 15,
    "start_time": "2022-04-15T14:11:29.925Z"
   },
   {
    "duration": 33,
    "start_time": "2022-04-15T14:11:29.942Z"
   },
   {
    "duration": 5,
    "start_time": "2022-04-15T14:11:29.977Z"
   },
   {
    "duration": 264,
    "start_time": "2022-04-15T14:11:29.984Z"
   },
   {
    "duration": 110,
    "start_time": "2022-04-15T14:11:30.250Z"
   },
   {
    "duration": 340,
    "start_time": "2022-04-15T14:11:39.905Z"
   },
   {
    "duration": 3,
    "start_time": "2022-04-15T14:11:53.167Z"
   },
   {
    "duration": 229,
    "start_time": "2022-04-15T14:11:59.676Z"
   },
   {
    "duration": 76,
    "start_time": "2022-04-15T14:15:04.228Z"
   },
   {
    "duration": 3,
    "start_time": "2022-04-15T14:30:31.684Z"
   },
   {
    "duration": 102,
    "start_time": "2022-04-15T14:30:32.307Z"
   },
   {
    "duration": 4,
    "start_time": "2022-04-15T14:30:36.402Z"
   },
   {
    "duration": 21,
    "start_time": "2022-04-15T14:30:37.215Z"
   },
   {
    "duration": 4,
    "start_time": "2022-04-15T14:31:18.917Z"
   },
   {
    "duration": 105,
    "start_time": "2022-04-15T14:31:18.922Z"
   },
   {
    "duration": 4,
    "start_time": "2022-04-15T14:31:19.029Z"
   },
   {
    "duration": 34,
    "start_time": "2022-04-15T14:31:19.035Z"
   },
   {
    "duration": 55,
    "start_time": "2022-04-15T14:31:19.071Z"
   },
   {
    "duration": 32,
    "start_time": "2022-04-15T14:31:19.128Z"
   },
   {
    "duration": 35,
    "start_time": "2022-04-15T14:31:19.161Z"
   },
   {
    "duration": 28,
    "start_time": "2022-04-15T14:31:19.198Z"
   },
   {
    "duration": 6,
    "start_time": "2022-04-15T14:31:19.228Z"
   },
   {
    "duration": 20,
    "start_time": "2022-04-15T14:31:19.236Z"
   },
   {
    "duration": 7,
    "start_time": "2022-04-15T14:31:19.257Z"
   },
   {
    "duration": 14,
    "start_time": "2022-04-15T14:31:19.266Z"
   },
   {
    "duration": 45,
    "start_time": "2022-04-15T14:31:19.283Z"
   },
   {
    "duration": 20,
    "start_time": "2022-04-15T14:31:19.330Z"
   },
   {
    "duration": 42,
    "start_time": "2022-04-15T14:31:19.352Z"
   },
   {
    "duration": 31,
    "start_time": "2022-04-15T14:31:19.396Z"
   },
   {
    "duration": 377,
    "start_time": "2022-04-15T14:31:19.429Z"
   },
   {
    "duration": 143,
    "start_time": "2022-04-15T14:31:19.808Z"
   },
   {
    "duration": 292,
    "start_time": "2022-04-15T14:31:19.953Z"
   },
   {
    "duration": 40,
    "start_time": "2022-04-15T14:31:20.247Z"
   },
   {
    "duration": 1745,
    "start_time": "2022-04-15T16:40:18.883Z"
   },
   {
    "duration": 171,
    "start_time": "2022-04-15T16:40:20.630Z"
   },
   {
    "duration": 4,
    "start_time": "2022-04-15T16:40:20.803Z"
   },
   {
    "duration": 31,
    "start_time": "2022-04-15T16:40:20.809Z"
   },
   {
    "duration": 28,
    "start_time": "2022-04-15T16:40:20.842Z"
   },
   {
    "duration": 64,
    "start_time": "2022-04-15T16:40:20.872Z"
   },
   {
    "duration": 41,
    "start_time": "2022-04-15T16:40:20.938Z"
   },
   {
    "duration": 7,
    "start_time": "2022-04-15T16:40:20.981Z"
   },
   {
    "duration": 9,
    "start_time": "2022-04-15T16:40:20.991Z"
   },
   {
    "duration": 13,
    "start_time": "2022-04-15T16:40:21.002Z"
   },
   {
    "duration": 38,
    "start_time": "2022-04-15T16:40:21.017Z"
   },
   {
    "duration": 11,
    "start_time": "2022-04-15T16:40:21.056Z"
   },
   {
    "duration": 21,
    "start_time": "2022-04-15T16:40:21.068Z"
   },
   {
    "duration": 17,
    "start_time": "2022-04-15T16:40:21.091Z"
   },
   {
    "duration": 64,
    "start_time": "2022-04-15T16:40:21.109Z"
   },
   {
    "duration": 6,
    "start_time": "2022-04-15T16:40:21.175Z"
   },
   {
    "duration": 260,
    "start_time": "2022-04-15T16:40:21.183Z"
   },
   {
    "duration": 288,
    "start_time": "2022-04-15T16:40:21.445Z"
   },
   {
    "duration": 248,
    "start_time": "2022-04-15T16:40:21.735Z"
   },
   {
    "duration": 10,
    "start_time": "2022-04-15T16:48:12.548Z"
   },
   {
    "duration": 178,
    "start_time": "2022-04-15T16:51:55.385Z"
   },
   {
    "duration": 5,
    "start_time": "2022-04-15T16:52:05.551Z"
   },
   {
    "duration": 6,
    "start_time": "2022-04-15T16:52:16.732Z"
   },
   {
    "duration": 12,
    "start_time": "2022-04-15T16:54:34.046Z"
   },
   {
    "duration": 2,
    "start_time": "2022-04-15T16:56:45.819Z"
   },
   {
    "duration": 16,
    "start_time": "2022-04-15T16:59:12.626Z"
   },
   {
    "duration": 11,
    "start_time": "2022-04-15T16:59:20.686Z"
   },
   {
    "duration": 14,
    "start_time": "2022-04-15T16:59:25.878Z"
   },
   {
    "duration": 1956,
    "start_time": "2022-04-15T16:59:32.123Z"
   },
   {
    "duration": 8,
    "start_time": "2022-04-15T16:59:51.709Z"
   },
   {
    "duration": 20,
    "start_time": "2022-04-15T17:00:00.276Z"
   },
   {
    "duration": 4,
    "start_time": "2022-04-15T17:00:33.861Z"
   },
   {
    "duration": 125,
    "start_time": "2022-04-15T17:00:33.871Z"
   },
   {
    "duration": 4,
    "start_time": "2022-04-15T17:00:33.998Z"
   },
   {
    "duration": 31,
    "start_time": "2022-04-15T17:00:34.004Z"
   },
   {
    "duration": 38,
    "start_time": "2022-04-15T17:00:34.037Z"
   },
   {
    "duration": 26,
    "start_time": "2022-04-15T17:00:34.077Z"
   },
   {
    "duration": 56,
    "start_time": "2022-04-15T17:00:34.104Z"
   },
   {
    "duration": 7,
    "start_time": "2022-04-15T17:00:34.162Z"
   },
   {
    "duration": 8,
    "start_time": "2022-04-15T17:00:34.170Z"
   },
   {
    "duration": 14,
    "start_time": "2022-04-15T17:00:34.179Z"
   },
   {
    "duration": 7,
    "start_time": "2022-04-15T17:00:34.195Z"
   },
   {
    "duration": 12,
    "start_time": "2022-04-15T17:00:34.204Z"
   },
   {
    "duration": 48,
    "start_time": "2022-04-15T17:00:34.217Z"
   },
   {
    "duration": 14,
    "start_time": "2022-04-15T17:00:34.266Z"
   },
   {
    "duration": 34,
    "start_time": "2022-04-15T17:00:34.283Z"
   },
   {
    "duration": 5,
    "start_time": "2022-04-15T17:00:34.319Z"
   },
   {
    "duration": 257,
    "start_time": "2022-04-15T17:00:34.355Z"
   },
   {
    "duration": 17,
    "start_time": "2022-04-15T17:00:34.614Z"
   },
   {
    "duration": 127,
    "start_time": "2022-04-15T17:00:34.633Z"
   },
   {
    "duration": 11,
    "start_time": "2022-04-15T17:00:34.762Z"
   },
   {
    "duration": 2,
    "start_time": "2022-04-15T17:00:34.774Z"
   },
   {
    "duration": 13,
    "start_time": "2022-04-15T17:00:34.778Z"
   },
   {
    "duration": 20,
    "start_time": "2022-04-15T17:00:34.792Z"
   },
   {
    "duration": 40,
    "start_time": "2022-04-15T17:00:34.814Z"
   },
   {
    "duration": 46,
    "start_time": "2022-04-15T17:00:34.857Z"
   },
   {
    "duration": 19,
    "start_time": "2022-04-15T17:00:34.905Z"
   },
   {
    "duration": 41,
    "start_time": "2022-04-15T17:00:34.926Z"
   },
   {
    "duration": 37,
    "start_time": "2022-04-15T17:00:34.969Z"
   },
   {
    "duration": 91,
    "start_time": "2022-04-15T17:00:35.007Z"
   },
   {
    "duration": 29,
    "start_time": "2022-04-15T17:00:35.100Z"
   },
   {
    "duration": 44,
    "start_time": "2022-04-15T17:00:35.131Z"
   },
   {
    "duration": 176,
    "start_time": "2022-04-15T17:00:35.177Z"
   },
   {
    "duration": 0,
    "start_time": "2022-04-15T17:00:35.355Z"
   },
   {
    "duration": 0,
    "start_time": "2022-04-15T17:00:35.357Z"
   },
   {
    "duration": 0,
    "start_time": "2022-04-15T17:00:35.358Z"
   },
   {
    "duration": 0,
    "start_time": "2022-04-15T17:00:35.360Z"
   },
   {
    "duration": 0,
    "start_time": "2022-04-15T17:00:35.361Z"
   },
   {
    "duration": 0,
    "start_time": "2022-04-15T17:00:35.362Z"
   },
   {
    "duration": 0,
    "start_time": "2022-04-15T17:00:35.364Z"
   },
   {
    "duration": 0,
    "start_time": "2022-04-15T17:00:35.365Z"
   },
   {
    "duration": 0,
    "start_time": "2022-04-15T17:00:35.367Z"
   },
   {
    "duration": 0,
    "start_time": "2022-04-15T17:00:35.368Z"
   },
   {
    "duration": 0,
    "start_time": "2022-04-15T17:00:35.368Z"
   },
   {
    "duration": 0,
    "start_time": "2022-04-15T17:00:35.370Z"
   },
   {
    "duration": 0,
    "start_time": "2022-04-15T17:00:35.371Z"
   },
   {
    "duration": 0,
    "start_time": "2022-04-15T17:00:35.372Z"
   },
   {
    "duration": 0,
    "start_time": "2022-04-15T17:00:35.373Z"
   },
   {
    "duration": 1,
    "start_time": "2022-04-15T17:00:35.374Z"
   },
   {
    "duration": 0,
    "start_time": "2022-04-15T17:00:35.376Z"
   },
   {
    "duration": 0,
    "start_time": "2022-04-15T17:00:35.377Z"
   },
   {
    "duration": 0,
    "start_time": "2022-04-15T17:00:35.378Z"
   },
   {
    "duration": 0,
    "start_time": "2022-04-15T17:00:35.379Z"
   },
   {
    "duration": 0,
    "start_time": "2022-04-15T17:00:35.380Z"
   },
   {
    "duration": 0,
    "start_time": "2022-04-15T17:00:35.381Z"
   },
   {
    "duration": 0,
    "start_time": "2022-04-15T17:00:35.382Z"
   },
   {
    "duration": 55,
    "start_time": "2022-04-15T17:01:23.936Z"
   },
   {
    "duration": 117,
    "start_time": "2022-04-15T17:01:23.993Z"
   },
   {
    "duration": 4,
    "start_time": "2022-04-15T17:01:24.111Z"
   },
   {
    "duration": 61,
    "start_time": "2022-04-15T17:01:24.118Z"
   },
   {
    "duration": 38,
    "start_time": "2022-04-15T17:01:24.181Z"
   },
   {
    "duration": 57,
    "start_time": "2022-04-15T17:01:24.222Z"
   },
   {
    "duration": 39,
    "start_time": "2022-04-15T17:01:24.281Z"
   },
   {
    "duration": 35,
    "start_time": "2022-04-15T17:01:24.322Z"
   },
   {
    "duration": 10,
    "start_time": "2022-04-15T17:01:24.359Z"
   },
   {
    "duration": 8,
    "start_time": "2022-04-15T17:01:24.373Z"
   },
   {
    "duration": 17,
    "start_time": "2022-04-15T17:01:24.383Z"
   },
   {
    "duration": 17,
    "start_time": "2022-04-15T17:01:24.402Z"
   },
   {
    "duration": 27,
    "start_time": "2022-04-15T17:01:24.454Z"
   },
   {
    "duration": 24,
    "start_time": "2022-04-15T17:01:24.483Z"
   },
   {
    "duration": 61,
    "start_time": "2022-04-15T17:01:24.509Z"
   },
   {
    "duration": 7,
    "start_time": "2022-04-15T17:01:24.572Z"
   },
   {
    "duration": 306,
    "start_time": "2022-04-15T17:01:24.581Z"
   },
   {
    "duration": 22,
    "start_time": "2022-04-15T17:01:24.890Z"
   },
   {
    "duration": 144,
    "start_time": "2022-04-15T17:01:24.914Z"
   },
   {
    "duration": 10,
    "start_time": "2022-04-15T17:01:25.060Z"
   },
   {
    "duration": 11,
    "start_time": "2022-04-15T17:01:25.072Z"
   },
   {
    "duration": 12,
    "start_time": "2022-04-15T17:01:25.084Z"
   },
   {
    "duration": 18,
    "start_time": "2022-04-15T17:01:25.098Z"
   },
   {
    "duration": 40,
    "start_time": "2022-04-15T17:01:25.118Z"
   },
   {
    "duration": 46,
    "start_time": "2022-04-15T17:01:25.160Z"
   },
   {
    "duration": 151,
    "start_time": "2022-04-15T17:01:25.207Z"
   },
   {
    "duration": 15,
    "start_time": "2022-04-15T17:01:25.360Z"
   },
   {
    "duration": 41,
    "start_time": "2022-04-15T17:01:25.379Z"
   },
   {
    "duration": 119,
    "start_time": "2022-04-15T17:01:25.423Z"
   },
   {
    "duration": 49,
    "start_time": "2022-04-15T17:01:25.544Z"
   },
   {
    "duration": 30,
    "start_time": "2022-04-15T17:01:25.595Z"
   },
   {
    "duration": 408,
    "start_time": "2022-04-15T17:01:25.627Z"
   },
   {
    "duration": 76,
    "start_time": "2022-04-15T17:01:26.037Z"
   },
   {
    "duration": 16,
    "start_time": "2022-04-15T17:01:26.115Z"
   },
   {
    "duration": 31,
    "start_time": "2022-04-15T17:01:26.133Z"
   },
   {
    "duration": 21,
    "start_time": "2022-04-15T17:01:26.166Z"
   },
   {
    "duration": 21,
    "start_time": "2022-04-15T17:01:26.190Z"
   },
   {
    "duration": 42,
    "start_time": "2022-04-15T17:01:26.214Z"
   },
   {
    "duration": 19,
    "start_time": "2022-04-15T17:01:26.258Z"
   },
   {
    "duration": 46,
    "start_time": "2022-04-15T17:01:26.279Z"
   },
   {
    "duration": 40,
    "start_time": "2022-04-15T17:01:26.327Z"
   },
   {
    "duration": 18,
    "start_time": "2022-04-15T17:01:26.369Z"
   },
   {
    "duration": 23,
    "start_time": "2022-04-15T17:01:26.389Z"
   },
   {
    "duration": 56,
    "start_time": "2022-04-15T17:01:26.414Z"
   },
   {
    "duration": 131672,
    "start_time": "2022-04-15T17:01:26.472Z"
   },
   {
    "duration": 514,
    "start_time": "2022-04-15T17:03:38.154Z"
   },
   {
    "duration": 12,
    "start_time": "2022-04-15T17:03:38.754Z"
   },
   {
    "duration": 6,
    "start_time": "2022-04-15T17:03:38.767Z"
   },
   {
    "duration": 35,
    "start_time": "2022-04-15T17:03:38.774Z"
   },
   {
    "duration": 56,
    "start_time": "2022-04-15T17:03:38.811Z"
   },
   {
    "duration": 7,
    "start_time": "2022-04-15T17:03:38.869Z"
   },
   {
    "duration": 12,
    "start_time": "2022-04-15T17:03:38.878Z"
   },
   {
    "duration": 18,
    "start_time": "2022-04-15T17:03:38.892Z"
   },
   {
    "duration": 10,
    "start_time": "2022-04-15T17:03:38.912Z"
   },
   {
    "duration": 40,
    "start_time": "2022-04-15T17:03:38.924Z"
   },
   {
    "duration": 171544,
    "start_time": "2022-04-15T17:04:08.416Z"
   },
   {
    "duration": 4,
    "start_time": "2022-04-15T17:08:37.696Z"
   },
   {
    "duration": 126,
    "start_time": "2022-04-15T17:08:37.702Z"
   },
   {
    "duration": 25,
    "start_time": "2022-04-15T17:08:37.830Z"
   },
   {
    "duration": 40,
    "start_time": "2022-04-15T17:08:37.857Z"
   },
   {
    "duration": 63,
    "start_time": "2022-04-15T17:08:37.900Z"
   },
   {
    "duration": 31,
    "start_time": "2022-04-15T17:08:37.966Z"
   },
   {
    "duration": 28,
    "start_time": "2022-04-15T17:08:37.999Z"
   },
   {
    "duration": 8,
    "start_time": "2022-04-15T17:08:38.054Z"
   },
   {
    "duration": 9,
    "start_time": "2022-04-15T17:08:38.064Z"
   },
   {
    "duration": 13,
    "start_time": "2022-04-15T17:08:38.075Z"
   },
   {
    "duration": 14,
    "start_time": "2022-04-15T17:08:38.092Z"
   },
   {
    "duration": 19,
    "start_time": "2022-04-15T17:08:38.108Z"
   },
   {
    "duration": 41,
    "start_time": "2022-04-15T17:08:38.129Z"
   },
   {
    "duration": 19,
    "start_time": "2022-04-15T17:08:38.172Z"
   },
   {
    "duration": 37,
    "start_time": "2022-04-15T17:08:38.193Z"
   },
   {
    "duration": 7,
    "start_time": "2022-04-15T17:08:38.256Z"
   },
   {
    "duration": 565,
    "start_time": "2022-04-15T17:08:38.265Z"
   },
   {
    "duration": 30,
    "start_time": "2022-04-15T17:08:38.833Z"
   },
   {
    "duration": 142,
    "start_time": "2022-04-15T17:08:38.865Z"
   },
   {
    "duration": 12,
    "start_time": "2022-04-15T17:08:39.010Z"
   },
   {
    "duration": 3,
    "start_time": "2022-04-15T17:08:39.024Z"
   },
   {
    "duration": 37,
    "start_time": "2022-04-15T17:08:39.029Z"
   },
   {
    "duration": 24,
    "start_time": "2022-04-15T17:08:39.069Z"
   },
   {
    "duration": 8,
    "start_time": "2022-04-15T17:08:39.096Z"
   },
   {
    "duration": 81,
    "start_time": "2022-04-15T17:08:39.106Z"
   },
   {
    "duration": 30,
    "start_time": "2022-04-15T17:08:39.189Z"
   },
   {
    "duration": 38,
    "start_time": "2022-04-15T17:08:39.221Z"
   },
   {
    "duration": 43,
    "start_time": "2022-04-15T17:08:39.261Z"
   },
   {
    "duration": 111,
    "start_time": "2022-04-15T17:08:39.310Z"
   },
   {
    "duration": 49,
    "start_time": "2022-04-15T17:08:39.423Z"
   },
   {
    "duration": 29,
    "start_time": "2022-04-15T17:08:39.475Z"
   },
   {
    "duration": 511,
    "start_time": "2022-04-15T17:08:39.506Z"
   },
   {
    "duration": 62,
    "start_time": "2022-04-15T17:08:40.021Z"
   },
   {
    "duration": 10,
    "start_time": "2022-04-15T17:08:40.085Z"
   },
   {
    "duration": 12,
    "start_time": "2022-04-15T17:08:40.097Z"
   },
   {
    "duration": 14,
    "start_time": "2022-04-15T17:08:40.111Z"
   },
   {
    "duration": 46,
    "start_time": "2022-04-15T17:08:40.126Z"
   },
   {
    "duration": 21,
    "start_time": "2022-04-15T17:08:40.174Z"
   },
   {
    "duration": 20,
    "start_time": "2022-04-15T17:08:40.197Z"
   },
   {
    "duration": 76,
    "start_time": "2022-04-15T17:08:40.220Z"
   },
   {
    "duration": 21,
    "start_time": "2022-04-15T17:08:40.298Z"
   },
   {
    "duration": 38,
    "start_time": "2022-04-15T17:08:40.321Z"
   },
   {
    "duration": 29,
    "start_time": "2022-04-15T17:08:40.361Z"
   },
   {
    "duration": 26,
    "start_time": "2022-04-15T17:08:40.391Z"
   },
   {
    "duration": 1699,
    "start_time": "2022-04-15T17:09:06.783Z"
   },
   {
    "duration": 162,
    "start_time": "2022-04-15T17:09:08.484Z"
   },
   {
    "duration": 7,
    "start_time": "2022-04-15T17:09:08.648Z"
   },
   {
    "duration": 45,
    "start_time": "2022-04-15T17:09:08.657Z"
   },
   {
    "duration": 28,
    "start_time": "2022-04-15T17:09:08.704Z"
   },
   {
    "duration": 102,
    "start_time": "2022-04-15T17:09:08.754Z"
   },
   {
    "duration": 39,
    "start_time": "2022-04-15T17:09:08.858Z"
   },
   {
    "duration": 10,
    "start_time": "2022-04-15T17:09:08.899Z"
   },
   {
    "duration": 13,
    "start_time": "2022-04-15T17:09:08.911Z"
   },
   {
    "duration": 9,
    "start_time": "2022-04-15T17:09:08.954Z"
   },
   {
    "duration": 10,
    "start_time": "2022-04-15T17:09:08.965Z"
   },
   {
    "duration": 24,
    "start_time": "2022-04-15T17:09:08.977Z"
   },
   {
    "duration": 49,
    "start_time": "2022-04-15T17:09:09.004Z"
   },
   {
    "duration": 20,
    "start_time": "2022-04-15T17:09:09.057Z"
   },
   {
    "duration": 39,
    "start_time": "2022-04-15T17:09:09.078Z"
   },
   {
    "duration": 38,
    "start_time": "2022-04-15T17:09:09.119Z"
   },
   {
    "duration": 272,
    "start_time": "2022-04-15T17:09:09.159Z"
   },
   {
    "duration": 293,
    "start_time": "2022-04-15T17:09:09.433Z"
   },
   {
    "duration": 177,
    "start_time": "2022-04-15T17:09:09.728Z"
   },
   {
    "duration": 58,
    "start_time": "2022-04-15T17:09:09.906Z"
   },
   {
    "duration": 3,
    "start_time": "2022-04-15T17:09:09.966Z"
   },
   {
    "duration": 14,
    "start_time": "2022-04-15T17:09:09.971Z"
   },
   {
    "duration": 35,
    "start_time": "2022-04-15T17:09:09.987Z"
   },
   {
    "duration": 8,
    "start_time": "2022-04-15T17:09:10.055Z"
   },
   {
    "duration": 97,
    "start_time": "2022-04-15T17:09:10.066Z"
   },
   {
    "duration": 32,
    "start_time": "2022-04-15T17:09:10.165Z"
   },
   {
    "duration": 17,
    "start_time": "2022-04-15T17:09:10.199Z"
   },
   {
    "duration": 78,
    "start_time": "2022-04-15T17:09:10.221Z"
   },
   {
    "duration": 108,
    "start_time": "2022-04-15T17:09:10.301Z"
   },
   {
    "duration": 54,
    "start_time": "2022-04-15T17:09:10.413Z"
   },
   {
    "duration": 30,
    "start_time": "2022-04-15T17:09:10.469Z"
   },
   {
    "duration": 492,
    "start_time": "2022-04-15T17:09:10.501Z"
   },
   {
    "duration": 77,
    "start_time": "2022-04-15T17:09:10.995Z"
   },
   {
    "duration": 14,
    "start_time": "2022-04-15T17:09:11.074Z"
   },
   {
    "duration": 15,
    "start_time": "2022-04-15T17:09:11.090Z"
   },
   {
    "duration": 17,
    "start_time": "2022-04-15T17:09:11.107Z"
   },
   {
    "duration": 41,
    "start_time": "2022-04-15T17:09:11.127Z"
   },
   {
    "duration": 18,
    "start_time": "2022-04-15T17:09:11.171Z"
   },
   {
    "duration": 19,
    "start_time": "2022-04-15T17:09:11.191Z"
   },
   {
    "duration": 83,
    "start_time": "2022-04-15T17:09:11.213Z"
   },
   {
    "duration": 17,
    "start_time": "2022-04-15T17:09:11.299Z"
   },
   {
    "duration": 40,
    "start_time": "2022-04-15T17:09:11.318Z"
   },
   {
    "duration": 34,
    "start_time": "2022-04-15T17:09:11.360Z"
   },
   {
    "duration": 28,
    "start_time": "2022-04-15T17:09:11.396Z"
   },
   {
    "duration": 44898,
    "start_time": "2022-04-15T19:12:33.283Z"
   },
   {
    "duration": 151,
    "start_time": "2022-04-15T19:13:18.183Z"
   },
   {
    "duration": 11,
    "start_time": "2022-04-15T19:13:18.336Z"
   },
   {
    "duration": 75,
    "start_time": "2022-04-15T19:13:18.350Z"
   },
   {
    "duration": 33,
    "start_time": "2022-04-15T19:13:18.428Z"
   },
   {
    "duration": 135,
    "start_time": "2022-04-15T19:13:18.464Z"
   },
   {
    "duration": 50,
    "start_time": "2022-04-15T19:13:18.601Z"
   },
   {
    "duration": 10,
    "start_time": "2022-04-15T19:13:18.653Z"
   },
   {
    "duration": 10,
    "start_time": "2022-04-15T19:13:18.665Z"
   },
   {
    "duration": 47,
    "start_time": "2022-04-15T19:13:18.679Z"
   },
   {
    "duration": 10,
    "start_time": "2022-04-15T19:13:18.728Z"
   },
   {
    "duration": 18,
    "start_time": "2022-04-15T19:13:18.741Z"
   },
   {
    "duration": 22,
    "start_time": "2022-04-15T19:13:18.761Z"
   },
   {
    "duration": 54,
    "start_time": "2022-04-15T19:13:18.785Z"
   },
   {
    "duration": 62,
    "start_time": "2022-04-15T19:13:18.842Z"
   },
   {
    "duration": 11,
    "start_time": "2022-04-15T19:13:18.925Z"
   },
   {
    "duration": 761,
    "start_time": "2022-04-15T19:13:18.940Z"
   },
   {
    "duration": 7986,
    "start_time": "2022-04-15T19:13:19.704Z"
   },
   {
    "duration": 348,
    "start_time": "2022-04-15T19:13:27.692Z"
   },
   {
    "duration": 17,
    "start_time": "2022-04-15T19:13:28.043Z"
   },
   {
    "duration": 12,
    "start_time": "2022-04-15T19:13:28.063Z"
   },
   {
    "duration": 49,
    "start_time": "2022-04-15T19:13:28.077Z"
   },
   {
    "duration": 51,
    "start_time": "2022-04-15T19:13:28.129Z"
   },
   {
    "duration": 10,
    "start_time": "2022-04-15T19:13:28.182Z"
   },
   {
    "duration": 331,
    "start_time": "2022-04-15T19:13:28.194Z"
   },
   {
    "duration": 29,
    "start_time": "2022-04-15T19:13:28.528Z"
   },
   {
    "duration": 15,
    "start_time": "2022-04-15T19:13:28.559Z"
   },
   {
    "duration": 88,
    "start_time": "2022-04-15T19:13:28.580Z"
   },
   {
    "duration": 98,
    "start_time": "2022-04-15T19:13:28.670Z"
   },
   {
    "duration": 35,
    "start_time": "2022-04-15T19:13:28.771Z"
   },
   {
    "duration": 27,
    "start_time": "2022-04-15T19:13:28.825Z"
   },
   {
    "duration": 725,
    "start_time": "2022-04-15T19:13:28.854Z"
   },
   {
    "duration": 103,
    "start_time": "2022-04-15T19:13:29.582Z"
   },
   {
    "duration": 74,
    "start_time": "2022-04-15T19:13:29.688Z"
   },
   {
    "duration": 152,
    "start_time": "2022-04-15T19:13:29.765Z"
   },
   {
    "duration": 134,
    "start_time": "2022-04-15T19:13:29.920Z"
   },
   {
    "duration": 177,
    "start_time": "2022-04-15T19:13:30.056Z"
   },
   {
    "duration": 132,
    "start_time": "2022-04-15T19:13:30.236Z"
   },
   {
    "duration": 133,
    "start_time": "2022-04-15T19:13:30.370Z"
   },
   {
    "duration": 194,
    "start_time": "2022-04-15T19:13:30.506Z"
   },
   {
    "duration": 121,
    "start_time": "2022-04-15T19:13:30.703Z"
   },
   {
    "duration": 206,
    "start_time": "2022-04-15T19:13:30.826Z"
   },
   {
    "duration": 209,
    "start_time": "2022-04-15T19:13:31.035Z"
   },
   {
    "duration": 148,
    "start_time": "2022-04-15T19:13:31.246Z"
   },
   {
    "duration": 179196,
    "start_time": "2022-04-15T19:13:31.397Z"
   },
   {
    "duration": 544,
    "start_time": "2022-04-15T19:16:30.596Z"
   },
   {
    "duration": 103,
    "start_time": "2022-04-15T19:16:31.143Z"
   },
   {
    "duration": 8,
    "start_time": "2022-04-15T19:16:31.248Z"
   },
   {
    "duration": 31,
    "start_time": "2022-04-15T19:16:31.258Z"
   },
   {
    "duration": 56,
    "start_time": "2022-04-15T19:16:31.291Z"
   },
   {
    "duration": 11,
    "start_time": "2022-04-15T19:16:31.350Z"
   },
   {
    "duration": 16,
    "start_time": "2022-04-15T19:16:31.363Z"
   },
   {
    "duration": 53,
    "start_time": "2022-04-15T19:16:31.381Z"
   },
   {
    "duration": 18,
    "start_time": "2022-04-15T19:16:31.436Z"
   },
   {
    "duration": 11,
    "start_time": "2022-04-15T19:16:31.456Z"
   },
   {
    "duration": 1804,
    "start_time": "2022-04-16T07:34:05.046Z"
   },
   {
    "duration": 694,
    "start_time": "2022-04-16T07:34:06.853Z"
   },
   {
    "duration": 2,
    "start_time": "2022-04-16T07:34:07.549Z"
   },
   {
    "duration": 26,
    "start_time": "2022-04-16T07:34:07.553Z"
   },
   {
    "duration": 22,
    "start_time": "2022-04-16T07:34:07.581Z"
   },
   {
    "duration": 55,
    "start_time": "2022-04-16T07:34:07.604Z"
   },
   {
    "duration": 40,
    "start_time": "2022-04-16T07:34:07.661Z"
   },
   {
    "duration": 7,
    "start_time": "2022-04-16T07:34:07.703Z"
   },
   {
    "duration": 9,
    "start_time": "2022-04-16T07:34:07.711Z"
   },
   {
    "duration": 11,
    "start_time": "2022-04-16T07:34:07.723Z"
   },
   {
    "duration": 8,
    "start_time": "2022-04-16T07:34:07.735Z"
   },
   {
    "duration": 12,
    "start_time": "2022-04-16T07:34:07.744Z"
   },
   {
    "duration": 42,
    "start_time": "2022-04-16T07:34:07.758Z"
   },
   {
    "duration": 15,
    "start_time": "2022-04-16T07:34:07.802Z"
   },
   {
    "duration": 33,
    "start_time": "2022-04-16T07:34:07.818Z"
   },
   {
    "duration": 5,
    "start_time": "2022-04-16T07:34:07.852Z"
   },
   {
    "duration": 254,
    "start_time": "2022-04-16T07:34:07.859Z"
   },
   {
    "duration": 273,
    "start_time": "2022-04-16T07:34:08.114Z"
   },
   {
    "duration": 173,
    "start_time": "2022-04-16T07:34:08.388Z"
   },
   {
    "duration": 9,
    "start_time": "2022-04-16T07:34:08.563Z"
   },
   {
    "duration": 4,
    "start_time": "2022-04-16T07:34:08.574Z"
   },
   {
    "duration": 11,
    "start_time": "2022-04-16T07:34:08.600Z"
   },
   {
    "duration": 22,
    "start_time": "2022-04-16T07:34:08.613Z"
   },
   {
    "duration": 6,
    "start_time": "2022-04-16T07:34:08.636Z"
   },
   {
    "duration": 65,
    "start_time": "2022-04-16T07:34:08.644Z"
   },
   {
    "duration": 20,
    "start_time": "2022-04-16T07:34:08.710Z"
   },
   {
    "duration": 13,
    "start_time": "2022-04-16T07:34:08.732Z"
   },
   {
    "duration": 53,
    "start_time": "2022-04-16T07:34:08.748Z"
   },
   {
    "duration": 57,
    "start_time": "2022-04-16T07:34:08.803Z"
   },
   {
    "duration": 41,
    "start_time": "2022-04-16T07:34:08.862Z"
   },
   {
    "duration": 18,
    "start_time": "2022-04-16T07:34:08.904Z"
   },
   {
    "duration": 361,
    "start_time": "2022-04-16T07:34:08.923Z"
   },
   {
    "duration": 45,
    "start_time": "2022-04-16T07:34:09.286Z"
   },
   {
    "duration": 9,
    "start_time": "2022-04-16T07:34:09.333Z"
   },
   {
    "duration": 10,
    "start_time": "2022-04-16T07:34:09.344Z"
   },
   {
    "duration": 11,
    "start_time": "2022-04-16T07:34:09.356Z"
   },
   {
    "duration": 37,
    "start_time": "2022-04-16T07:34:09.368Z"
   },
   {
    "duration": 13,
    "start_time": "2022-04-16T07:34:09.407Z"
   },
   {
    "duration": 11,
    "start_time": "2022-04-16T07:34:09.422Z"
   },
   {
    "duration": 27,
    "start_time": "2022-04-16T07:34:09.435Z"
   },
   {
    "duration": 37,
    "start_time": "2022-04-16T07:34:09.463Z"
   },
   {
    "duration": 15,
    "start_time": "2022-04-16T07:34:09.502Z"
   },
   {
    "duration": 22,
    "start_time": "2022-04-16T07:34:09.518Z"
   },
   {
    "duration": 17,
    "start_time": "2022-04-16T07:34:09.542Z"
   },
   {
    "duration": 99076,
    "start_time": "2022-04-16T07:34:09.560Z"
   },
   {
    "duration": 468,
    "start_time": "2022-04-16T07:35:48.637Z"
   },
   {
    "duration": 96,
    "start_time": "2022-04-16T07:35:49.108Z"
   },
   {
    "duration": 5,
    "start_time": "2022-04-16T07:35:49.206Z"
   },
   {
    "duration": 21,
    "start_time": "2022-04-16T07:35:49.213Z"
   },
   {
    "duration": 26,
    "start_time": "2022-04-16T07:35:49.235Z"
   },
   {
    "duration": 40,
    "start_time": "2022-04-16T07:35:49.263Z"
   },
   {
    "duration": 12,
    "start_time": "2022-04-16T07:35:49.305Z"
   },
   {
    "duration": 13,
    "start_time": "2022-04-16T07:35:49.318Z"
   },
   {
    "duration": 9,
    "start_time": "2022-04-16T07:35:49.333Z"
   },
   {
    "duration": 8,
    "start_time": "2022-04-16T07:35:49.343Z"
   },
   {
    "duration": 24,
    "start_time": "2022-04-16T07:36:54.893Z"
   },
   {
    "duration": 4,
    "start_time": "2022-04-16T07:37:37.490Z"
   },
   {
    "duration": 118,
    "start_time": "2022-04-16T07:37:37.496Z"
   },
   {
    "duration": 3,
    "start_time": "2022-04-16T07:37:37.615Z"
   },
   {
    "duration": 27,
    "start_time": "2022-04-16T07:37:37.619Z"
   },
   {
    "duration": 19,
    "start_time": "2022-04-16T07:37:37.649Z"
   },
   {
    "duration": 42,
    "start_time": "2022-04-16T07:37:37.670Z"
   },
   {
    "duration": 25,
    "start_time": "2022-04-16T07:37:37.713Z"
   },
   {
    "duration": 7,
    "start_time": "2022-04-16T07:37:37.739Z"
   },
   {
    "duration": 6,
    "start_time": "2022-04-16T07:37:37.748Z"
   },
   {
    "duration": 8,
    "start_time": "2022-04-16T07:37:37.756Z"
   },
   {
    "duration": 40,
    "start_time": "2022-04-16T07:37:37.766Z"
   },
   {
    "duration": 11,
    "start_time": "2022-04-16T07:37:37.807Z"
   },
   {
    "duration": 15,
    "start_time": "2022-04-16T07:37:37.820Z"
   },
   {
    "duration": 14,
    "start_time": "2022-04-16T07:37:37.838Z"
   },
   {
    "duration": 59,
    "start_time": "2022-04-16T07:37:37.854Z"
   },
   {
    "duration": 5,
    "start_time": "2022-04-16T07:37:37.914Z"
   },
   {
    "duration": 232,
    "start_time": "2022-04-16T07:37:37.921Z"
   },
   {
    "duration": 18,
    "start_time": "2022-04-16T07:37:38.154Z"
   },
   {
    "duration": 119,
    "start_time": "2022-04-16T07:37:38.173Z"
   },
   {
    "duration": 12,
    "start_time": "2022-04-16T07:37:38.294Z"
   },
   {
    "duration": 2,
    "start_time": "2022-04-16T07:37:38.308Z"
   },
   {
    "duration": 10,
    "start_time": "2022-04-16T07:37:38.311Z"
   },
   {
    "duration": 16,
    "start_time": "2022-04-16T07:37:38.322Z"
   },
   {
    "duration": 11,
    "start_time": "2022-04-16T07:37:38.339Z"
   },
   {
    "duration": 1857,
    "start_time": "2022-04-16T07:38:37.377Z"
   },
   {
    "duration": 159,
    "start_time": "2022-04-16T07:38:39.236Z"
   },
   {
    "duration": 3,
    "start_time": "2022-04-16T07:38:39.397Z"
   },
   {
    "duration": 27,
    "start_time": "2022-04-16T07:38:39.402Z"
   },
   {
    "duration": 23,
    "start_time": "2022-04-16T07:38:39.430Z"
   },
   {
    "duration": 73,
    "start_time": "2022-04-16T07:38:39.455Z"
   },
   {
    "duration": 24,
    "start_time": "2022-04-16T07:38:39.529Z"
   },
   {
    "duration": 7,
    "start_time": "2022-04-16T07:38:39.554Z"
   },
   {
    "duration": 7,
    "start_time": "2022-04-16T07:38:39.562Z"
   },
   {
    "duration": 7,
    "start_time": "2022-04-16T07:38:39.599Z"
   },
   {
    "duration": 7,
    "start_time": "2022-04-16T07:38:39.608Z"
   },
   {
    "duration": 11,
    "start_time": "2022-04-16T07:38:39.616Z"
   },
   {
    "duration": 15,
    "start_time": "2022-04-16T07:38:39.629Z"
   },
   {
    "duration": 15,
    "start_time": "2022-04-16T07:38:39.645Z"
   },
   {
    "duration": 65,
    "start_time": "2022-04-16T07:38:39.661Z"
   },
   {
    "duration": 5,
    "start_time": "2022-04-16T07:38:39.728Z"
   },
   {
    "duration": 253,
    "start_time": "2022-04-16T07:38:39.735Z"
   },
   {
    "duration": 275,
    "start_time": "2022-04-16T07:38:39.990Z"
   },
   {
    "duration": 236,
    "start_time": "2022-04-16T07:38:40.267Z"
   },
   {
    "duration": 11,
    "start_time": "2022-04-16T07:38:40.505Z"
   },
   {
    "duration": 2,
    "start_time": "2022-04-16T07:38:40.518Z"
   },
   {
    "duration": 12,
    "start_time": "2022-04-16T07:38:40.522Z"
   },
   {
    "duration": 16,
    "start_time": "2022-04-16T07:38:40.536Z"
   },
   {
    "duration": 2,
    "start_time": "2022-04-16T07:38:40.553Z"
   },
   {
    "duration": 45,
    "start_time": "2022-04-16T07:38:40.557Z"
   },
   {
    "duration": 42,
    "start_time": "2022-04-16T07:38:40.604Z"
   },
   {
    "duration": 19,
    "start_time": "2022-04-16T07:38:40.648Z"
   },
   {
    "duration": 34,
    "start_time": "2022-04-16T07:38:40.671Z"
   },
   {
    "duration": 31,
    "start_time": "2022-04-16T07:38:40.706Z"
   },
   {
    "duration": 68,
    "start_time": "2022-04-16T07:38:40.739Z"
   },
   {
    "duration": 27,
    "start_time": "2022-04-16T07:38:40.809Z"
   },
   {
    "duration": 21,
    "start_time": "2022-04-16T07:38:40.838Z"
   },
   {
    "duration": 379,
    "start_time": "2022-04-16T07:38:40.861Z"
   },
   {
    "duration": 64,
    "start_time": "2022-04-16T07:38:41.242Z"
   },
   {
    "duration": 12,
    "start_time": "2022-04-16T07:38:41.308Z"
   },
   {
    "duration": 14,
    "start_time": "2022-04-16T07:38:41.321Z"
   },
   {
    "duration": 13,
    "start_time": "2022-04-16T07:38:41.336Z"
   },
   {
    "duration": 13,
    "start_time": "2022-04-16T07:38:41.350Z"
   },
   {
    "duration": 42,
    "start_time": "2022-04-16T07:38:41.365Z"
   },
   {
    "duration": 13,
    "start_time": "2022-04-16T07:38:41.409Z"
   },
   {
    "duration": 30,
    "start_time": "2022-04-16T07:38:41.424Z"
   },
   {
    "duration": 12,
    "start_time": "2022-04-16T07:38:41.456Z"
   },
   {
    "duration": 39,
    "start_time": "2022-04-16T07:38:41.469Z"
   },
   {
    "duration": 21,
    "start_time": "2022-04-16T07:38:41.510Z"
   },
   {
    "duration": 18,
    "start_time": "2022-04-16T07:38:41.532Z"
   },
   {
    "duration": 102605,
    "start_time": "2022-04-16T07:38:41.551Z"
   },
   {
    "duration": 542,
    "start_time": "2022-04-16T07:40:24.158Z"
   },
   {
    "duration": 10,
    "start_time": "2022-04-16T07:40:24.702Z"
   },
   {
    "duration": 7,
    "start_time": "2022-04-16T07:40:24.713Z"
   },
   {
    "duration": 20,
    "start_time": "2022-04-16T07:40:24.721Z"
   },
   {
    "duration": 24,
    "start_time": "2022-04-16T07:40:24.743Z"
   },
   {
    "duration": 34,
    "start_time": "2022-04-16T07:40:24.769Z"
   },
   {
    "duration": 17,
    "start_time": "2022-04-16T07:40:24.805Z"
   },
   {
    "duration": 12,
    "start_time": "2022-04-16T07:40:24.824Z"
   },
   {
    "duration": 8,
    "start_time": "2022-04-16T07:40:24.837Z"
   },
   {
    "duration": 27,
    "start_time": "2022-04-16T07:40:24.846Z"
   },
   {
    "duration": 117,
    "start_time": "2022-04-16T07:46:39.740Z"
   },
   {
    "duration": 2675,
    "start_time": "2022-04-16T07:47:12.225Z"
   },
   {
    "duration": 2854,
    "start_time": "2022-04-16T07:47:45.025Z"
   },
   {
    "duration": 2693,
    "start_time": "2022-04-16T07:55:49.334Z"
   },
   {
    "duration": 2728,
    "start_time": "2022-04-16T08:04:00.016Z"
   },
   {
    "duration": 8,
    "start_time": "2022-04-16T08:04:16.491Z"
   },
   {
    "duration": 2729,
    "start_time": "2022-04-16T08:04:23.743Z"
   },
   {
    "duration": 4,
    "start_time": "2022-04-16T08:04:48.519Z"
   },
   {
    "duration": 13,
    "start_time": "2022-04-16T08:05:58.070Z"
   },
   {
    "duration": 19,
    "start_time": "2022-04-16T08:07:58.568Z"
   },
   {
    "duration": 21,
    "start_time": "2022-04-16T08:07:58.589Z"
   },
   {
    "duration": 13,
    "start_time": "2022-04-16T08:08:46.380Z"
   },
   {
    "duration": 13,
    "start_time": "2022-04-16T08:09:07.784Z"
   },
   {
    "duration": 4,
    "start_time": "2022-04-16T08:09:38.973Z"
   },
   {
    "duration": 13,
    "start_time": "2022-04-16T08:10:05.057Z"
   },
   {
    "duration": 12,
    "start_time": "2022-04-16T08:10:25.068Z"
   },
   {
    "duration": 14,
    "start_time": "2022-04-16T08:10:33.814Z"
   },
   {
    "duration": 14,
    "start_time": "2022-04-16T08:10:47.021Z"
   },
   {
    "duration": 13,
    "start_time": "2022-04-16T08:10:53.473Z"
   },
   {
    "duration": 5,
    "start_time": "2022-04-16T08:11:28.872Z"
   },
   {
    "duration": 3,
    "start_time": "2022-04-16T08:11:48.763Z"
   },
   {
    "duration": 8,
    "start_time": "2022-04-16T08:13:11.907Z"
   },
   {
    "duration": 18,
    "start_time": "2022-04-16T08:13:34.152Z"
   },
   {
    "duration": 19,
    "start_time": "2022-04-16T08:13:34.171Z"
   },
   {
    "duration": 3,
    "start_time": "2022-04-16T08:13:36.824Z"
   },
   {
    "duration": 3,
    "start_time": "2022-04-16T08:13:36.829Z"
   },
   {
    "duration": 8,
    "start_time": "2022-04-16T08:13:37.815Z"
   },
   {
    "duration": 3,
    "start_time": "2022-04-16T08:16:31.584Z"
   },
   {
    "duration": 10,
    "start_time": "2022-04-16T08:49:01.935Z"
   },
   {
    "duration": 13,
    "start_time": "2022-04-16T08:49:02.691Z"
   },
   {
    "duration": 10,
    "start_time": "2022-04-16T08:49:03.344Z"
   },
   {
    "duration": 9,
    "start_time": "2022-04-16T08:49:04.093Z"
   },
   {
    "duration": 2738,
    "start_time": "2022-04-16T08:59:59.599Z"
   },
   {
    "duration": 51250,
    "start_time": "2022-04-16T09:00:44.145Z"
   },
   {
    "duration": 41,
    "start_time": "2022-04-16T09:03:59.444Z"
   },
   {
    "duration": 62,
    "start_time": "2022-04-16T09:05:46.691Z"
   },
   {
    "duration": 42,
    "start_time": "2022-04-16T09:07:45.635Z"
   },
   {
    "duration": 4,
    "start_time": "2022-04-16T09:10:00.977Z"
   },
   {
    "duration": 346,
    "start_time": "2022-04-16T09:10:00.982Z"
   },
   {
    "duration": 3,
    "start_time": "2022-04-16T09:10:01.330Z"
   },
   {
    "duration": 38,
    "start_time": "2022-04-16T09:10:01.334Z"
   },
   {
    "duration": 25,
    "start_time": "2022-04-16T09:10:01.374Z"
   },
   {
    "duration": 27,
    "start_time": "2022-04-16T09:10:01.400Z"
   },
   {
    "duration": 32,
    "start_time": "2022-04-16T09:10:01.428Z"
   },
   {
    "duration": 6,
    "start_time": "2022-04-16T09:10:01.462Z"
   },
   {
    "duration": 19,
    "start_time": "2022-04-16T09:10:01.470Z"
   },
   {
    "duration": 42,
    "start_time": "2022-04-16T09:10:01.490Z"
   },
   {
    "duration": 18,
    "start_time": "2022-04-16T09:10:01.534Z"
   },
   {
    "duration": 15,
    "start_time": "2022-04-16T09:10:01.553Z"
   },
   {
    "duration": 18,
    "start_time": "2022-04-16T09:10:01.569Z"
   },
   {
    "duration": 66,
    "start_time": "2022-04-16T09:10:01.590Z"
   },
   {
    "duration": 38,
    "start_time": "2022-04-16T09:10:01.657Z"
   },
   {
    "duration": 5,
    "start_time": "2022-04-16T09:10:01.696Z"
   },
   {
    "duration": 267,
    "start_time": "2022-04-16T09:10:01.703Z"
   },
   {
    "duration": 17,
    "start_time": "2022-04-16T09:10:01.972Z"
   },
   {
    "duration": 128,
    "start_time": "2022-04-16T09:10:01.990Z"
   },
   {
    "duration": 8,
    "start_time": "2022-04-16T09:10:02.120Z"
   },
   {
    "duration": 54,
    "start_time": "2022-04-16T09:10:02.129Z"
   },
   {
    "duration": 64,
    "start_time": "2022-04-16T09:10:02.184Z"
   },
   {
    "duration": 19,
    "start_time": "2022-04-16T09:10:02.250Z"
   },
   {
    "duration": 16,
    "start_time": "2022-04-16T09:10:02.270Z"
   },
   {
    "duration": 12,
    "start_time": "2022-04-16T09:10:02.287Z"
   },
   {
    "duration": 61,
    "start_time": "2022-04-16T09:10:02.301Z"
   },
   {
    "duration": 40,
    "start_time": "2022-04-16T09:10:02.363Z"
   },
   {
    "duration": 32,
    "start_time": "2022-04-16T09:10:02.404Z"
   },
   {
    "duration": 36,
    "start_time": "2022-04-16T09:10:02.438Z"
   },
   {
    "duration": 54,
    "start_time": "2022-04-16T09:10:02.476Z"
   },
   {
    "duration": 24,
    "start_time": "2022-04-16T09:10:02.532Z"
   },
   {
    "duration": 36,
    "start_time": "2022-04-16T09:10:02.558Z"
   },
   {
    "duration": 449,
    "start_time": "2022-04-16T09:10:02.596Z"
   },
   {
    "duration": 40,
    "start_time": "2022-04-16T09:10:03.101Z"
   },
   {
    "duration": 62,
    "start_time": "2022-04-16T09:10:03.143Z"
   },
   {
    "duration": 14,
    "start_time": "2022-04-16T09:10:03.207Z"
   },
   {
    "duration": 17,
    "start_time": "2022-04-16T09:10:03.223Z"
   },
   {
    "duration": 13,
    "start_time": "2022-04-16T09:10:03.241Z"
   },
   {
    "duration": 12,
    "start_time": "2022-04-16T09:10:03.256Z"
   },
   {
    "duration": 12,
    "start_time": "2022-04-16T09:10:03.270Z"
   },
   {
    "duration": 42,
    "start_time": "2022-04-16T09:10:03.285Z"
   },
   {
    "duration": 10,
    "start_time": "2022-04-16T09:10:03.329Z"
   },
   {
    "duration": 14,
    "start_time": "2022-04-16T09:10:03.340Z"
   },
   {
    "duration": 19,
    "start_time": "2022-04-16T09:10:03.356Z"
   },
   {
    "duration": 25,
    "start_time": "2022-04-16T09:10:03.377Z"
   },
   {
    "duration": 100838,
    "start_time": "2022-04-16T09:10:03.403Z"
   },
   {
    "duration": 558,
    "start_time": "2022-04-16T09:11:44.243Z"
   },
   {
    "duration": 9,
    "start_time": "2022-04-16T09:11:44.803Z"
   },
   {
    "duration": 8,
    "start_time": "2022-04-16T09:11:44.813Z"
   },
   {
    "duration": 31,
    "start_time": "2022-04-16T09:11:44.822Z"
   },
   {
    "duration": 15,
    "start_time": "2022-04-16T09:11:44.854Z"
   },
   {
    "duration": 0,
    "start_time": "2022-04-16T09:11:44.870Z"
   },
   {
    "duration": 13,
    "start_time": "2022-04-16T09:15:50.199Z"
   },
   {
    "duration": 9,
    "start_time": "2022-04-16T09:15:57.729Z"
   },
   {
    "duration": 5,
    "start_time": "2022-04-16T09:16:03.353Z"
   },
   {
    "duration": 10,
    "start_time": "2022-04-16T09:16:25.037Z"
   },
   {
    "duration": 5,
    "start_time": "2022-04-16T09:16:34.580Z"
   },
   {
    "duration": 2,
    "start_time": "2022-04-16T09:17:58.801Z"
   },
   {
    "duration": 2,
    "start_time": "2022-04-16T09:17:59.179Z"
   },
   {
    "duration": 9,
    "start_time": "2022-04-16T09:20:56.474Z"
   },
   {
    "duration": 10,
    "start_time": "2022-04-16T09:21:06.481Z"
   },
   {
    "duration": 10,
    "start_time": "2022-04-16T09:21:15.209Z"
   },
   {
    "duration": 10,
    "start_time": "2022-04-16T09:21:30.210Z"
   },
   {
    "duration": 14,
    "start_time": "2022-04-16T09:24:17.133Z"
   },
   {
    "duration": 12,
    "start_time": "2022-04-16T09:24:26.711Z"
   },
   {
    "duration": 11,
    "start_time": "2022-04-16T09:29:16.155Z"
   },
   {
    "duration": 2,
    "start_time": "2022-04-16T09:38:22.775Z"
   },
   {
    "duration": 12,
    "start_time": "2022-04-16T09:42:29.645Z"
   },
   {
    "duration": 10,
    "start_time": "2022-04-16T09:42:40.328Z"
   },
   {
    "duration": 1588,
    "start_time": "2022-04-16T09:43:09.024Z"
   },
   {
    "duration": 125,
    "start_time": "2022-04-16T09:43:10.614Z"
   },
   {
    "duration": 3,
    "start_time": "2022-04-16T09:43:10.740Z"
   },
   {
    "duration": 26,
    "start_time": "2022-04-16T09:43:10.745Z"
   },
   {
    "duration": 22,
    "start_time": "2022-04-16T09:43:10.773Z"
   },
   {
    "duration": 57,
    "start_time": "2022-04-16T09:43:10.796Z"
   },
   {
    "duration": 24,
    "start_time": "2022-04-16T09:43:10.855Z"
   },
   {
    "duration": 6,
    "start_time": "2022-04-16T09:43:10.899Z"
   },
   {
    "duration": 7,
    "start_time": "2022-04-16T09:43:10.907Z"
   },
   {
    "duration": 6,
    "start_time": "2022-04-16T09:43:10.916Z"
   },
   {
    "duration": 7,
    "start_time": "2022-04-16T09:43:10.923Z"
   },
   {
    "duration": 11,
    "start_time": "2022-04-16T09:43:10.931Z"
   },
   {
    "duration": 16,
    "start_time": "2022-04-16T09:43:10.943Z"
   },
   {
    "duration": 45,
    "start_time": "2022-04-16T09:43:10.960Z"
   },
   {
    "duration": 31,
    "start_time": "2022-04-16T09:43:11.006Z"
   },
   {
    "duration": 5,
    "start_time": "2022-04-16T09:43:11.038Z"
   },
   {
    "duration": 247,
    "start_time": "2022-04-16T09:43:11.044Z"
   },
   {
    "duration": 246,
    "start_time": "2022-04-16T09:43:11.293Z"
   },
   {
    "duration": 187,
    "start_time": "2022-04-16T09:43:11.541Z"
   },
   {
    "duration": 9,
    "start_time": "2022-04-16T09:43:11.730Z"
   },
   {
    "duration": 5,
    "start_time": "2022-04-16T09:43:11.740Z"
   },
   {
    "duration": 13,
    "start_time": "2022-04-16T09:43:11.746Z"
   },
   {
    "duration": 50,
    "start_time": "2022-04-16T09:43:11.761Z"
   },
   {
    "duration": 2,
    "start_time": "2022-04-16T09:43:11.812Z"
   },
   {
    "duration": 8,
    "start_time": "2022-04-16T09:43:11.816Z"
   },
   {
    "duration": 47,
    "start_time": "2022-04-16T09:43:11.825Z"
   },
   {
    "duration": 43,
    "start_time": "2022-04-16T09:43:11.873Z"
   },
   {
    "duration": 15,
    "start_time": "2022-04-16T09:43:11.920Z"
   },
   {
    "duration": 34,
    "start_time": "2022-04-16T09:43:11.936Z"
   },
   {
    "duration": 85,
    "start_time": "2022-04-16T09:43:11.972Z"
   },
   {
    "duration": 23,
    "start_time": "2022-04-16T09:43:12.059Z"
   },
   {
    "duration": 31,
    "start_time": "2022-04-16T09:43:12.084Z"
   },
   {
    "duration": 322,
    "start_time": "2022-04-16T09:43:12.116Z"
   },
   {
    "duration": 39,
    "start_time": "2022-04-16T09:43:12.440Z"
   },
   {
    "duration": 22,
    "start_time": "2022-04-16T09:43:12.480Z"
   },
   {
    "duration": 12,
    "start_time": "2022-04-16T09:43:12.503Z"
   },
   {
    "duration": 13,
    "start_time": "2022-04-16T09:43:12.516Z"
   },
   {
    "duration": 12,
    "start_time": "2022-04-16T09:43:12.530Z"
   },
   {
    "duration": 12,
    "start_time": "2022-04-16T09:43:12.543Z"
   },
   {
    "duration": 11,
    "start_time": "2022-04-16T09:43:12.557Z"
   },
   {
    "duration": 27,
    "start_time": "2022-04-16T09:43:12.599Z"
   },
   {
    "duration": 10,
    "start_time": "2022-04-16T09:43:12.628Z"
   },
   {
    "duration": 15,
    "start_time": "2022-04-16T09:43:12.639Z"
   },
   {
    "duration": 20,
    "start_time": "2022-04-16T09:43:12.655Z"
   },
   {
    "duration": 19,
    "start_time": "2022-04-16T09:43:12.700Z"
   },
   {
    "duration": 101956,
    "start_time": "2022-04-16T09:43:12.720Z"
   },
   {
    "duration": 523,
    "start_time": "2022-04-16T09:44:54.678Z"
   },
   {
    "duration": 10,
    "start_time": "2022-04-16T09:44:55.203Z"
   },
   {
    "duration": 5,
    "start_time": "2022-04-16T09:44:55.215Z"
   },
   {
    "duration": 35,
    "start_time": "2022-04-16T09:44:55.221Z"
   },
   {
    "duration": 3,
    "start_time": "2022-04-16T09:44:55.257Z"
   },
   {
    "duration": 6,
    "start_time": "2022-04-16T09:44:55.261Z"
   },
   {
    "duration": 61,
    "start_time": "2022-04-16T09:44:55.268Z"
   },
   {
    "duration": 20,
    "start_time": "2022-04-16T09:44:55.330Z"
   },
   {
    "duration": 21,
    "start_time": "2022-04-16T09:44:55.352Z"
   },
   {
    "duration": 27,
    "start_time": "2022-04-16T09:44:55.374Z"
   },
   {
    "duration": 5,
    "start_time": "2022-04-16T09:44:55.402Z"
   },
   {
    "duration": 8,
    "start_time": "2022-04-16T09:44:55.409Z"
   },
   {
    "duration": 6,
    "start_time": "2022-04-16T09:44:55.418Z"
   },
   {
    "duration": 13,
    "start_time": "2022-04-16T09:44:55.425Z"
   },
   {
    "duration": 11,
    "start_time": "2022-04-16T09:44:55.440Z"
   },
   {
    "duration": 8,
    "start_time": "2022-04-16T09:44:55.453Z"
   },
   {
    "duration": 38,
    "start_time": "2022-04-16T09:44:55.462Z"
   },
   {
    "duration": 28,
    "start_time": "2022-04-16T09:45:12.370Z"
   },
   {
    "duration": 15,
    "start_time": "2022-04-16T09:45:54.149Z"
   },
   {
    "duration": 23,
    "start_time": "2022-04-16T09:56:53.978Z"
   },
   {
    "duration": 35,
    "start_time": "2022-04-16T09:57:42.727Z"
   },
   {
    "duration": 341,
    "start_time": "2022-04-16T09:58:09.688Z"
   },
   {
    "duration": 400,
    "start_time": "2022-04-16T10:12:04.137Z"
   },
   {
    "duration": 389,
    "start_time": "2022-04-16T10:12:11.936Z"
   },
   {
    "duration": 357,
    "start_time": "2022-04-16T10:12:36.270Z"
   },
   {
    "duration": 209,
    "start_time": "2022-04-16T11:15:30.726Z"
   },
   {
    "duration": 155,
    "start_time": "2022-04-16T11:15:38.400Z"
   },
   {
    "duration": 328,
    "start_time": "2022-04-16T11:31:41.688Z"
   },
   {
    "duration": 8,
    "start_time": "2022-04-16T11:33:20.730Z"
   },
   {
    "duration": 9,
    "start_time": "2022-04-16T11:33:30.196Z"
   },
   {
    "duration": 11,
    "start_time": "2022-04-16T11:43:50.130Z"
   },
   {
    "duration": 12,
    "start_time": "2022-04-16T11:43:55.289Z"
   },
   {
    "duration": 22,
    "start_time": "2022-04-16T11:51:43.202Z"
   },
   {
    "duration": 25,
    "start_time": "2022-04-16T11:52:17.520Z"
   },
   {
    "duration": 270,
    "start_time": "2022-04-16T11:52:38.037Z"
   },
   {
    "duration": 68,
    "start_time": "2022-04-16T11:54:01.566Z"
   },
   {
    "duration": 69,
    "start_time": "2022-04-16T11:54:55.009Z"
   },
   {
    "duration": 89,
    "start_time": "2022-04-16T11:58:35.794Z"
   },
   {
    "duration": 48,
    "start_time": "2022-04-16T12:00:32.712Z"
   },
   {
    "duration": 17,
    "start_time": "2022-04-16T12:00:55.817Z"
   },
   {
    "duration": 7,
    "start_time": "2022-04-16T12:01:13.481Z"
   },
   {
    "duration": 8,
    "start_time": "2022-04-16T12:01:14.056Z"
   },
   {
    "duration": 15,
    "start_time": "2022-04-16T12:01:14.470Z"
   },
   {
    "duration": 50,
    "start_time": "2022-04-16T12:02:01.233Z"
   },
   {
    "duration": 51,
    "start_time": "2022-04-16T12:02:10.958Z"
   },
   {
    "duration": 48,
    "start_time": "2022-04-16T12:07:24.837Z"
   },
   {
    "duration": 1952,
    "start_time": "2022-04-16T12:32:08.056Z"
   },
   {
    "duration": 116,
    "start_time": "2022-04-16T12:32:10.009Z"
   },
   {
    "duration": 3,
    "start_time": "2022-04-16T12:32:10.127Z"
   },
   {
    "duration": 25,
    "start_time": "2022-04-16T12:32:10.133Z"
   },
   {
    "duration": 23,
    "start_time": "2022-04-16T12:32:10.160Z"
   },
   {
    "duration": 72,
    "start_time": "2022-04-16T12:32:10.184Z"
   },
   {
    "duration": 24,
    "start_time": "2022-04-16T12:32:10.258Z"
   },
   {
    "duration": 21,
    "start_time": "2022-04-16T12:32:10.283Z"
   },
   {
    "duration": 7,
    "start_time": "2022-04-16T12:32:10.305Z"
   },
   {
    "duration": 6,
    "start_time": "2022-04-16T12:32:10.314Z"
   },
   {
    "duration": 6,
    "start_time": "2022-04-16T12:32:10.321Z"
   },
   {
    "duration": 9,
    "start_time": "2022-04-16T12:32:10.329Z"
   },
   {
    "duration": 14,
    "start_time": "2022-04-16T12:32:10.340Z"
   },
   {
    "duration": 46,
    "start_time": "2022-04-16T12:32:10.355Z"
   },
   {
    "duration": 33,
    "start_time": "2022-04-16T12:32:10.402Z"
   },
   {
    "duration": 5,
    "start_time": "2022-04-16T12:32:10.436Z"
   },
   {
    "duration": 258,
    "start_time": "2022-04-16T12:32:10.442Z"
   },
   {
    "duration": 250,
    "start_time": "2022-04-16T12:32:10.702Z"
   },
   {
    "duration": 175,
    "start_time": "2022-04-16T12:32:10.953Z"
   },
   {
    "duration": 9,
    "start_time": "2022-04-16T12:32:11.130Z"
   },
   {
    "duration": 3,
    "start_time": "2022-04-16T12:32:11.140Z"
   },
   {
    "duration": 9,
    "start_time": "2022-04-16T12:32:11.145Z"
   },
   {
    "duration": 46,
    "start_time": "2022-04-16T12:32:11.155Z"
   },
   {
    "duration": 2,
    "start_time": "2022-04-16T12:32:11.203Z"
   },
   {
    "duration": 9,
    "start_time": "2022-04-16T12:32:11.207Z"
   },
   {
    "duration": 44,
    "start_time": "2022-04-16T12:32:11.217Z"
   },
   {
    "duration": 45,
    "start_time": "2022-04-16T12:32:11.262Z"
   },
   {
    "duration": 13,
    "start_time": "2022-04-16T12:32:11.312Z"
   },
   {
    "duration": 32,
    "start_time": "2022-04-16T12:32:11.327Z"
   },
   {
    "duration": 83,
    "start_time": "2022-04-16T12:32:11.361Z"
   },
   {
    "duration": 35,
    "start_time": "2022-04-16T12:32:11.446Z"
   },
   {
    "duration": 36,
    "start_time": "2022-04-16T12:32:11.483Z"
   },
   {
    "duration": 442,
    "start_time": "2022-04-16T12:32:11.521Z"
   },
   {
    "duration": 75,
    "start_time": "2022-04-16T12:32:11.965Z"
   },
   {
    "duration": 12,
    "start_time": "2022-04-16T12:32:12.042Z"
   },
   {
    "duration": 14,
    "start_time": "2022-04-16T12:32:12.056Z"
   },
   {
    "duration": 33,
    "start_time": "2022-04-16T12:32:12.071Z"
   },
   {
    "duration": 13,
    "start_time": "2022-04-16T12:32:12.105Z"
   },
   {
    "duration": 13,
    "start_time": "2022-04-16T12:32:12.119Z"
   },
   {
    "duration": 13,
    "start_time": "2022-04-16T12:32:12.133Z"
   },
   {
    "duration": 54,
    "start_time": "2022-04-16T12:32:12.147Z"
   },
   {
    "duration": 15,
    "start_time": "2022-04-16T12:32:12.203Z"
   },
   {
    "duration": 18,
    "start_time": "2022-04-16T12:32:12.220Z"
   },
   {
    "duration": 27,
    "start_time": "2022-04-16T12:32:12.239Z"
   },
   {
    "duration": 50,
    "start_time": "2022-04-16T12:32:12.268Z"
   },
   {
    "duration": 140406,
    "start_time": "2022-04-16T12:32:12.320Z"
   },
   {
    "duration": 881,
    "start_time": "2022-04-16T12:34:32.727Z"
   },
   {
    "duration": 8,
    "start_time": "2022-04-16T12:34:33.610Z"
   },
   {
    "duration": 7,
    "start_time": "2022-04-16T12:34:33.620Z"
   },
   {
    "duration": 33,
    "start_time": "2022-04-16T12:34:33.628Z"
   },
   {
    "duration": 45,
    "start_time": "2022-04-16T12:34:33.662Z"
   },
   {
    "duration": 333,
    "start_time": "2022-04-16T12:34:33.708Z"
   },
   {
    "duration": 376,
    "start_time": "2022-04-16T12:34:34.043Z"
   },
   {
    "duration": 6,
    "start_time": "2022-04-16T12:34:34.421Z"
   },
   {
    "duration": 8,
    "start_time": "2022-04-16T12:34:34.429Z"
   },
   {
    "duration": 131,
    "start_time": "2022-04-16T12:34:34.438Z"
   },
   {
    "duration": 0,
    "start_time": "2022-04-16T12:34:34.570Z"
   },
   {
    "duration": 0,
    "start_time": "2022-04-16T12:34:34.571Z"
   },
   {
    "duration": 0,
    "start_time": "2022-04-16T12:34:34.572Z"
   },
   {
    "duration": 0,
    "start_time": "2022-04-16T12:34:34.573Z"
   },
   {
    "duration": 0,
    "start_time": "2022-04-16T12:34:34.574Z"
   },
   {
    "duration": 0,
    "start_time": "2022-04-16T12:34:34.575Z"
   },
   {
    "duration": 0,
    "start_time": "2022-04-16T12:34:34.576Z"
   },
   {
    "duration": 0,
    "start_time": "2022-04-16T12:34:34.577Z"
   },
   {
    "duration": 0,
    "start_time": "2022-04-16T12:34:34.578Z"
   },
   {
    "duration": 0,
    "start_time": "2022-04-16T12:34:34.579Z"
   },
   {
    "duration": 0,
    "start_time": "2022-04-16T12:34:34.579Z"
   },
   {
    "duration": 16,
    "start_time": "2022-04-16T12:41:54.886Z"
   },
   {
    "duration": 375,
    "start_time": "2022-04-16T12:41:57.425Z"
   },
   {
    "duration": 18,
    "start_time": "2022-04-16T12:42:02.426Z"
   },
   {
    "duration": 21,
    "start_time": "2022-04-16T12:42:02.656Z"
   },
   {
    "duration": 3,
    "start_time": "2022-04-16T12:42:03.157Z"
   },
   {
    "duration": 2,
    "start_time": "2022-04-16T12:42:03.643Z"
   },
   {
    "duration": 7,
    "start_time": "2022-04-16T12:42:03.876Z"
   },
   {
    "duration": 3,
    "start_time": "2022-04-16T12:42:04.095Z"
   },
   {
    "duration": 10,
    "start_time": "2022-04-16T12:42:08.115Z"
   },
   {
    "duration": 14,
    "start_time": "2022-04-16T12:42:08.360Z"
   },
   {
    "duration": 9,
    "start_time": "2022-04-16T12:42:08.840Z"
   },
   {
    "duration": 8,
    "start_time": "2022-04-16T12:42:09.304Z"
   },
   {
    "duration": 40209,
    "start_time": "2022-04-16T13:43:42.900Z"
   },
   {
    "duration": 101,
    "start_time": "2022-04-16T13:44:23.111Z"
   },
   {
    "duration": 3,
    "start_time": "2022-04-16T13:44:23.214Z"
   },
   {
    "duration": 29,
    "start_time": "2022-04-16T13:44:23.223Z"
   },
   {
    "duration": 22,
    "start_time": "2022-04-16T13:44:23.253Z"
   },
   {
    "duration": 77,
    "start_time": "2022-04-16T13:44:23.277Z"
   },
   {
    "duration": 23,
    "start_time": "2022-04-16T13:44:23.355Z"
   },
   {
    "duration": 6,
    "start_time": "2022-04-16T13:44:23.380Z"
   },
   {
    "duration": 9,
    "start_time": "2022-04-16T13:44:23.388Z"
   },
   {
    "duration": 34,
    "start_time": "2022-04-16T13:44:23.399Z"
   },
   {
    "duration": 19,
    "start_time": "2022-04-16T13:44:23.434Z"
   },
   {
    "duration": 18,
    "start_time": "2022-04-16T13:44:23.454Z"
   },
   {
    "duration": 22,
    "start_time": "2022-04-16T13:44:23.474Z"
   },
   {
    "duration": 15,
    "start_time": "2022-04-16T13:44:23.498Z"
   },
   {
    "duration": 50,
    "start_time": "2022-04-16T13:44:23.514Z"
   },
   {
    "duration": 5,
    "start_time": "2022-04-16T13:44:23.565Z"
   },
   {
    "duration": 260,
    "start_time": "2022-04-16T13:44:23.572Z"
   },
   {
    "duration": 7433,
    "start_time": "2022-04-16T13:44:23.834Z"
   },
   {
    "duration": 181,
    "start_time": "2022-04-16T13:44:31.268Z"
   },
   {
    "duration": 9,
    "start_time": "2022-04-16T13:44:31.451Z"
   },
   {
    "duration": 3,
    "start_time": "2022-04-16T13:44:31.461Z"
   },
   {
    "duration": 14,
    "start_time": "2022-04-16T13:44:31.466Z"
   },
   {
    "duration": 21,
    "start_time": "2022-04-16T13:44:31.481Z"
   },
   {
    "duration": 29,
    "start_time": "2022-04-16T13:44:31.504Z"
   },
   {
    "duration": 19,
    "start_time": "2022-04-16T13:44:31.535Z"
   },
   {
    "duration": 51,
    "start_time": "2022-04-16T13:44:31.556Z"
   },
   {
    "duration": 22,
    "start_time": "2022-04-16T13:44:31.608Z"
   },
   {
    "duration": 16,
    "start_time": "2022-04-16T13:44:31.634Z"
   },
   {
    "duration": 33,
    "start_time": "2022-04-16T13:44:31.651Z"
   },
   {
    "duration": 88,
    "start_time": "2022-04-16T13:44:31.685Z"
   },
   {
    "duration": 24,
    "start_time": "2022-04-16T13:44:31.774Z"
   },
   {
    "duration": 34,
    "start_time": "2022-04-16T13:44:31.800Z"
   },
   {
    "duration": 412,
    "start_time": "2022-04-16T13:44:31.837Z"
   },
   {
    "duration": 57,
    "start_time": "2022-04-16T13:44:32.251Z"
   },
   {
    "duration": 18,
    "start_time": "2022-04-16T13:44:32.309Z"
   },
   {
    "duration": 19,
    "start_time": "2022-04-16T13:44:32.328Z"
   },
   {
    "duration": 18,
    "start_time": "2022-04-16T13:44:32.349Z"
   },
   {
    "duration": 16,
    "start_time": "2022-04-16T13:44:32.369Z"
   },
   {
    "duration": 42,
    "start_time": "2022-04-16T13:44:32.387Z"
   },
   {
    "duration": 17,
    "start_time": "2022-04-16T13:44:32.430Z"
   },
   {
    "duration": 27,
    "start_time": "2022-04-16T13:44:32.448Z"
   },
   {
    "duration": 13,
    "start_time": "2022-04-16T13:44:32.476Z"
   },
   {
    "duration": 41,
    "start_time": "2022-04-16T13:44:32.490Z"
   },
   {
    "duration": 22,
    "start_time": "2022-04-16T13:44:32.532Z"
   },
   {
    "duration": 16,
    "start_time": "2022-04-16T13:44:32.555Z"
   },
   {
    "duration": 120414,
    "start_time": "2022-04-16T13:44:32.573Z"
   },
   {
    "duration": 442,
    "start_time": "2022-04-16T13:46:32.989Z"
   },
   {
    "duration": 91,
    "start_time": "2022-04-16T13:46:33.432Z"
   },
   {
    "duration": 15,
    "start_time": "2022-04-16T13:46:33.532Z"
   },
   {
    "duration": 43,
    "start_time": "2022-04-16T13:46:33.549Z"
   },
   {
    "duration": 39,
    "start_time": "2022-04-16T13:46:33.593Z"
   },
   {
    "duration": 445,
    "start_time": "2022-04-16T13:46:33.636Z"
   },
   {
    "duration": 386,
    "start_time": "2022-04-16T13:46:34.083Z"
   },
   {
    "duration": 10,
    "start_time": "2022-04-16T13:46:34.470Z"
   },
   {
    "duration": 13,
    "start_time": "2022-04-16T13:46:34.482Z"
   },
   {
    "duration": 32,
    "start_time": "2022-04-16T13:46:34.497Z"
   },
   {
    "duration": 436,
    "start_time": "2022-04-16T13:46:34.530Z"
   },
   {
    "duration": 25,
    "start_time": "2022-04-16T13:46:34.968Z"
   },
   {
    "duration": 45,
    "start_time": "2022-04-16T13:46:34.994Z"
   },
   {
    "duration": 3,
    "start_time": "2022-04-16T13:46:35.041Z"
   },
   {
    "duration": 6,
    "start_time": "2022-04-16T13:46:35.046Z"
   },
   {
    "duration": 9,
    "start_time": "2022-04-16T13:46:35.054Z"
   },
   {
    "duration": 15,
    "start_time": "2022-04-16T13:46:35.065Z"
   },
   {
    "duration": 13,
    "start_time": "2022-04-16T13:46:35.082Z"
   },
   {
    "duration": 38,
    "start_time": "2022-04-16T13:46:35.096Z"
   },
   {
    "duration": 13,
    "start_time": "2022-04-16T13:46:35.135Z"
   },
   {
    "duration": 1423,
    "start_time": "2022-07-15T08:13:24.264Z"
   },
   {
    "duration": 532,
    "start_time": "2022-07-15T08:13:25.689Z"
   },
   {
    "duration": 3,
    "start_time": "2022-07-15T08:13:26.222Z"
   },
   {
    "duration": 30,
    "start_time": "2022-07-15T08:13:26.227Z"
   },
   {
    "duration": 23,
    "start_time": "2022-07-15T08:13:26.259Z"
   },
   {
    "duration": 57,
    "start_time": "2022-07-15T08:13:26.283Z"
   },
   {
    "duration": 38,
    "start_time": "2022-07-15T08:13:26.342Z"
   },
   {
    "duration": 7,
    "start_time": "2022-07-15T08:13:26.381Z"
   },
   {
    "duration": 7,
    "start_time": "2022-07-15T08:13:26.390Z"
   },
   {
    "duration": 8,
    "start_time": "2022-07-15T08:13:26.399Z"
   },
   {
    "duration": 12,
    "start_time": "2022-07-15T08:13:26.409Z"
   },
   {
    "duration": 13,
    "start_time": "2022-07-15T08:13:26.423Z"
   },
   {
    "duration": 38,
    "start_time": "2022-07-15T08:13:26.437Z"
   },
   {
    "duration": 14,
    "start_time": "2022-07-15T08:13:26.477Z"
   },
   {
    "duration": 33,
    "start_time": "2022-07-15T08:13:26.492Z"
   },
   {
    "duration": 5,
    "start_time": "2022-07-15T08:13:26.527Z"
   },
   {
    "duration": 256,
    "start_time": "2022-07-15T08:13:26.564Z"
   },
   {
    "duration": 209,
    "start_time": "2022-07-15T08:13:26.822Z"
   },
   {
    "duration": 193,
    "start_time": "2022-07-15T08:13:27.032Z"
   },
   {
    "duration": 9,
    "start_time": "2022-07-15T08:13:27.227Z"
   },
   {
    "duration": 4,
    "start_time": "2022-07-15T08:13:27.237Z"
   },
   {
    "duration": 23,
    "start_time": "2022-07-15T08:13:27.243Z"
   },
   {
    "duration": 21,
    "start_time": "2022-07-15T08:13:27.268Z"
   },
   {
    "duration": 3,
    "start_time": "2022-07-15T08:13:27.291Z"
   },
   {
    "duration": 9,
    "start_time": "2022-07-15T08:13:27.295Z"
   },
   {
    "duration": 61,
    "start_time": "2022-07-15T08:13:27.305Z"
   },
   {
    "duration": 19,
    "start_time": "2022-07-15T08:13:27.367Z"
   },
   {
    "duration": 16,
    "start_time": "2022-07-15T08:13:27.389Z"
   },
   {
    "duration": 64,
    "start_time": "2022-07-15T08:13:27.406Z"
   },
   {
    "duration": 64,
    "start_time": "2022-07-15T08:13:27.471Z"
   },
   {
    "duration": 32,
    "start_time": "2022-07-15T08:13:27.537Z"
   },
   {
    "duration": 17,
    "start_time": "2022-07-15T08:13:27.571Z"
   },
   {
    "duration": 334,
    "start_time": "2022-07-15T08:13:27.590Z"
   },
   {
    "duration": 49,
    "start_time": "2022-07-15T08:13:27.925Z"
   },
   {
    "duration": 10,
    "start_time": "2022-07-15T08:13:27.975Z"
   },
   {
    "duration": 12,
    "start_time": "2022-07-15T08:13:27.986Z"
   },
   {
    "duration": 15,
    "start_time": "2022-07-15T08:13:27.999Z"
   },
   {
    "duration": 14,
    "start_time": "2022-07-15T08:13:28.015Z"
   },
   {
    "duration": 43,
    "start_time": "2022-07-15T08:13:28.030Z"
   },
   {
    "duration": 12,
    "start_time": "2022-07-15T08:13:28.074Z"
   },
   {
    "duration": 31,
    "start_time": "2022-07-15T08:13:28.087Z"
   },
   {
    "duration": 11,
    "start_time": "2022-07-15T08:13:28.119Z"
   },
   {
    "duration": 39,
    "start_time": "2022-07-15T08:13:28.131Z"
   },
   {
    "duration": 19,
    "start_time": "2022-07-15T08:13:28.172Z"
   },
   {
    "duration": 18,
    "start_time": "2022-07-15T08:13:28.192Z"
   },
   {
    "duration": 135909,
    "start_time": "2022-07-15T08:13:28.211Z"
   },
   {
    "duration": 643,
    "start_time": "2022-07-15T08:15:44.122Z"
   },
   {
    "duration": 9,
    "start_time": "2022-07-15T08:15:44.766Z"
   },
   {
    "duration": 6,
    "start_time": "2022-07-15T08:15:44.776Z"
   },
   {
    "duration": 39,
    "start_time": "2022-07-15T08:15:44.784Z"
   },
   {
    "duration": 39,
    "start_time": "2022-07-15T08:15:44.825Z"
   },
   {
    "duration": 369,
    "start_time": "2022-07-15T08:15:44.865Z"
   },
   {
    "duration": 388,
    "start_time": "2022-07-15T08:15:45.235Z"
   },
   {
    "duration": 9,
    "start_time": "2022-07-15T08:15:45.624Z"
   },
   {
    "duration": 32,
    "start_time": "2022-07-15T08:15:45.635Z"
   },
   {
    "duration": 22,
    "start_time": "2022-07-15T08:15:45.669Z"
   },
   {
    "duration": 470,
    "start_time": "2022-07-15T08:15:45.692Z"
   },
   {
    "duration": 19,
    "start_time": "2022-07-15T08:15:46.163Z"
   },
   {
    "duration": 21,
    "start_time": "2022-07-15T08:15:46.184Z"
   },
   {
    "duration": 2,
    "start_time": "2022-07-15T08:15:46.206Z"
   },
   {
    "duration": 6,
    "start_time": "2022-07-15T08:15:46.210Z"
   },
   {
    "duration": 19,
    "start_time": "2022-07-15T08:15:46.217Z"
   },
   {
    "duration": 17,
    "start_time": "2022-07-15T08:15:46.237Z"
   },
   {
    "duration": 13,
    "start_time": "2022-07-15T08:15:46.256Z"
   },
   {
    "duration": 8,
    "start_time": "2022-07-15T08:15:46.271Z"
   },
   {
    "duration": 11,
    "start_time": "2022-07-15T08:15:46.281Z"
   },
   {
    "duration": 4,
    "start_time": "2022-07-15T08:18:10.418Z"
   },
   {
    "duration": 153,
    "start_time": "2022-07-15T08:18:10.424Z"
   },
   {
    "duration": 3,
    "start_time": "2022-07-15T08:18:10.579Z"
   },
   {
    "duration": 28,
    "start_time": "2022-07-15T08:18:10.583Z"
   },
   {
    "duration": 55,
    "start_time": "2022-07-15T08:18:10.613Z"
   },
   {
    "duration": 25,
    "start_time": "2022-07-15T08:18:10.669Z"
   },
   {
    "duration": 27,
    "start_time": "2022-07-15T08:18:10.696Z"
   },
   {
    "duration": 42,
    "start_time": "2022-07-15T08:18:10.725Z"
   },
   {
    "duration": 7,
    "start_time": "2022-07-15T08:18:10.769Z"
   },
   {
    "duration": 9,
    "start_time": "2022-07-15T08:18:10.777Z"
   },
   {
    "duration": 10,
    "start_time": "2022-07-15T08:18:10.788Z"
   },
   {
    "duration": 12,
    "start_time": "2022-07-15T08:18:10.799Z"
   },
   {
    "duration": 53,
    "start_time": "2022-07-15T08:18:10.812Z"
   },
   {
    "duration": 14,
    "start_time": "2022-07-15T08:18:10.866Z"
   },
   {
    "duration": 33,
    "start_time": "2022-07-15T08:18:10.881Z"
   },
   {
    "duration": 6,
    "start_time": "2022-07-15T08:18:10.915Z"
   },
   {
    "duration": 285,
    "start_time": "2022-07-15T08:18:10.922Z"
   },
   {
    "duration": 16,
    "start_time": "2022-07-15T08:18:11.209Z"
   },
   {
    "duration": 143,
    "start_time": "2022-07-15T08:18:11.226Z"
   },
   {
    "duration": 9,
    "start_time": "2022-07-15T08:18:11.371Z"
   },
   {
    "duration": 2,
    "start_time": "2022-07-15T08:18:11.382Z"
   },
   {
    "duration": 21,
    "start_time": "2022-07-15T08:18:11.386Z"
   },
   {
    "duration": 21,
    "start_time": "2022-07-15T08:18:11.409Z"
   },
   {
    "duration": 32,
    "start_time": "2022-07-15T08:18:11.432Z"
   },
   {
    "duration": 10,
    "start_time": "2022-07-15T08:18:11.465Z"
   },
   {
    "duration": 43,
    "start_time": "2022-07-15T08:18:11.477Z"
   },
   {
    "duration": 44,
    "start_time": "2022-07-15T08:18:11.522Z"
   },
   {
    "duration": 13,
    "start_time": "2022-07-15T08:18:11.567Z"
   },
   {
    "duration": 32,
    "start_time": "2022-07-15T08:18:11.583Z"
   },
   {
    "duration": 86,
    "start_time": "2022-07-15T08:18:11.617Z"
   },
   {
    "duration": 24,
    "start_time": "2022-07-15T08:18:11.705Z"
   },
   {
    "duration": 42,
    "start_time": "2022-07-15T08:18:11.730Z"
   },
   {
    "duration": 354,
    "start_time": "2022-07-15T08:18:11.773Z"
   },
   {
    "duration": 58,
    "start_time": "2022-07-15T08:18:12.129Z"
   },
   {
    "duration": 10,
    "start_time": "2022-07-15T08:18:12.188Z"
   },
   {
    "duration": 11,
    "start_time": "2022-07-15T08:18:12.200Z"
   },
   {
    "duration": 13,
    "start_time": "2022-07-15T08:18:12.213Z"
   },
   {
    "duration": 42,
    "start_time": "2022-07-15T08:18:12.228Z"
   },
   {
    "duration": 16,
    "start_time": "2022-07-15T08:18:12.272Z"
   },
   {
    "duration": 14,
    "start_time": "2022-07-15T08:18:12.289Z"
   },
   {
    "duration": 61,
    "start_time": "2022-07-15T08:18:12.304Z"
   },
   {
    "duration": 14,
    "start_time": "2022-07-15T08:18:12.367Z"
   },
   {
    "duration": 16,
    "start_time": "2022-07-15T08:18:12.383Z"
   },
   {
    "duration": 23,
    "start_time": "2022-07-15T08:18:12.400Z"
   },
   {
    "duration": 54,
    "start_time": "2022-07-15T08:18:12.426Z"
   },
   {
    "duration": 117206,
    "start_time": "2022-07-15T08:18:12.481Z"
   },
   {
    "duration": 387,
    "start_time": "2022-07-15T08:20:09.688Z"
   },
   {
    "duration": 12,
    "start_time": "2022-07-15T08:20:10.163Z"
   },
   {
    "duration": 6,
    "start_time": "2022-07-15T08:20:10.177Z"
   },
   {
    "duration": 50,
    "start_time": "2022-07-15T08:20:10.185Z"
   },
   {
    "duration": 49,
    "start_time": "2022-07-15T08:20:10.236Z"
   },
   {
    "duration": 393,
    "start_time": "2022-07-15T08:20:10.287Z"
   },
   {
    "duration": 421,
    "start_time": "2022-07-15T08:20:10.682Z"
   },
   {
    "duration": 7,
    "start_time": "2022-07-15T08:20:11.105Z"
   },
   {
    "duration": 12,
    "start_time": "2022-07-15T08:20:11.114Z"
   },
   {
    "duration": 39,
    "start_time": "2022-07-15T08:20:11.127Z"
   },
   {
    "duration": 51,
    "start_time": "2022-07-15T08:20:11.167Z"
   },
   {
    "duration": 45,
    "start_time": "2022-07-15T08:20:11.220Z"
   },
   {
    "duration": 21,
    "start_time": "2022-07-15T08:20:11.266Z"
   },
   {
    "duration": 2,
    "start_time": "2022-07-15T08:20:11.289Z"
   },
   {
    "duration": 5,
    "start_time": "2022-07-15T08:20:11.293Z"
   },
   {
    "duration": 9,
    "start_time": "2022-07-15T08:20:11.299Z"
   },
   {
    "duration": 14,
    "start_time": "2022-07-15T08:20:11.309Z"
   },
   {
    "duration": 14,
    "start_time": "2022-07-15T08:20:11.363Z"
   },
   {
    "duration": 10,
    "start_time": "2022-07-15T08:20:11.379Z"
   },
   {
    "duration": 13,
    "start_time": "2022-07-15T08:20:11.391Z"
   }
  ],
  "kernelspec": {
   "display_name": "Python 3 (ipykernel)",
   "language": "python",
   "name": "python3"
  },
  "language_info": {
   "codemirror_mode": {
    "name": "ipython",
    "version": 3
   },
   "file_extension": ".py",
   "mimetype": "text/x-python",
   "name": "python",
   "nbconvert_exporter": "python",
   "pygments_lexer": "ipython3",
   "version": "3.9.5"
  },
  "toc": {
   "base_numbering": 1,
   "nav_menu": {},
   "number_sections": true,
   "sideBar": true,
   "skip_h1_title": true,
   "title_cell": "Содержание",
   "title_sidebar": "Contents",
   "toc_cell": true,
   "toc_position": {},
   "toc_section_display": true,
   "toc_window_display": false
  }
 },
 "nbformat": 4,
 "nbformat_minor": 2
}

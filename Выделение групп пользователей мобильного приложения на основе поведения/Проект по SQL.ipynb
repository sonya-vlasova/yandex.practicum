{
 "cells": [
  {
   "cell_type": "markdown",
   "metadata": {},
   "source": [
    "# Проект по SQL\n"
   ]
  },
  {
   "cell_type": "markdown",
   "metadata": {},
   "source": [
    "# Цель исследования\n",
    "\n",
    "**Проанализировать базу данных крупного сервиса для чтения книг по подписке.**\n",
    "\n",
    "В ней — информация о книгах, издательствах, авторах, а также пользовательские обзоры книг. Эти данные помогут в дальнейшем сформулировать ценностное предложение для нового продукта."
   ]
  },
  {
   "cell_type": "markdown",
   "metadata": {},
   "source": [
    "# Задачи исследования\n",
    "\n",
    "- Посчитать, сколько книг вышло после 1 января 2000 года\n",
    "- Для каждой книги посчитать количество обзоров и среднюю оценку\n",
    "- Определить издательство, которое выпустило наибольшее число книг толще 50 страниц (чтобы исключить из анализа брошюры)\n",
    "- Определить автора с самой высокой средней оценкой книг, учитывая только книги с 50 и более оценками\n",
    "- Посчитать среднее количество обзоров от пользователей, которые поставили больше 50 оценок"
   ]
  },
  {
   "cell_type": "markdown",
   "metadata": {},
   "source": [
    "# Описание данных\n",
    "\n",
    "**Таблица books**\n",
    "\n",
    "Содержит данные о книгах:\n",
    "\n",
    "- book_id — идентификатор книги;\n",
    "- author_id — идентификатор автора;\n",
    "- title — название книги;\n",
    "- num_pages — количество страниц;\n",
    "- publication_date — дата публикации книги;\n",
    "- publisher_id — идентификатор издателя.\n",
    "\n",
    "**Таблица authors**\n",
    "\n",
    "Содержит данные об авторах:\n",
    "\n",
    "- author_id — идентификатор автора;\n",
    "- author — имя автора.\n",
    "\n",
    "**Таблица publishers**\n",
    "\n",
    "Содержит данные об издательствах:\n",
    "\n",
    "- publisher_id — идентификатор издательства;\n",
    "- publisher — название издательства;\n",
    "\n",
    "**Таблица ratings**\n",
    "\n",
    "Содержит данные о пользовательских оценках книг:\n",
    "\n",
    "- rating_id — идентификатор оценки;\n",
    "- book_id — идентификатор книги;\n",
    "- username — имя пользователя, оставившего оценку;\n",
    "- rating — оценка книги.\n",
    "\n",
    "**Таблица reviews**\n",
    "\n",
    "Содержит данные о пользовательских обзорах:\n",
    "\n",
    "- review_id — идентификатор обзора;\n",
    "- book_id — идентификатор книги;\n",
    "- username — имя автора обзора;\n",
    "- text — текст обзора.\n"
   ]
  },
  {
   "cell_type": "markdown",
   "metadata": {},
   "source": [
    "## Исследуем таблицы"
   ]
  },
  {
   "cell_type": "code",
   "execution_count": 1,
   "metadata": {},
   "outputs": [],
   "source": [
    "# импортируем библиотеки\n",
    "import pandas as pd\n",
    "from sqlalchemy import create_engine\n",
    "# устанавливаем параметры\n",
    "db_config = {'user': 'praktikum_student', # имя пользователя\n",
    "             'pwd': 'Sdf4$2;d-d30pp', # пароль\n",
    "             'host': 'rc1b-wcoijxj3yxfsf3fs.mdb.yandexcloud.net',\n",
    "             'port': 6432, # порт подключения\n",
    "             'db': 'data-analyst-final-project-db'} # название базы данных\n",
    "connection_string = 'postgresql://{}:{}@{}:{}/{}'.format(db_config['user'],\n",
    "                                                         db_config['pwd'],\n",
    "                                                         db_config['host'],\n",
    "                                                         db_config['port'],\n",
    "                                                         db_config['db'])\n",
    "# сохраняем коннектор\n",
    "engine = create_engine(connection_string, connect_args={'sslmode':'require'}) "
   ]
  },
  {
   "cell_type": "code",
   "execution_count": 2,
   "metadata": {},
   "outputs": [
    {
     "data": {
      "text/html": [
       "<div>\n",
       "<style scoped>\n",
       "    .dataframe tbody tr th:only-of-type {\n",
       "        vertical-align: middle;\n",
       "    }\n",
       "\n",
       "    .dataframe tbody tr th {\n",
       "        vertical-align: top;\n",
       "    }\n",
       "\n",
       "    .dataframe thead th {\n",
       "        text-align: right;\n",
       "    }\n",
       "</style>\n",
       "<table border=\"1\" class=\"dataframe\">\n",
       "  <thead>\n",
       "    <tr style=\"text-align: right;\">\n",
       "      <th></th>\n",
       "      <th>book_id</th>\n",
       "      <th>author_id</th>\n",
       "      <th>title</th>\n",
       "      <th>num_pages</th>\n",
       "      <th>publication_date</th>\n",
       "      <th>publisher_id</th>\n",
       "    </tr>\n",
       "  </thead>\n",
       "  <tbody>\n",
       "    <tr>\n",
       "      <th>0</th>\n",
       "      <td>1</td>\n",
       "      <td>546</td>\n",
       "      <td>'Salem's Lot</td>\n",
       "      <td>594</td>\n",
       "      <td>2005-11-01</td>\n",
       "      <td>93</td>\n",
       "    </tr>\n",
       "    <tr>\n",
       "      <th>1</th>\n",
       "      <td>2</td>\n",
       "      <td>465</td>\n",
       "      <td>1 000 Places to See Before You Die</td>\n",
       "      <td>992</td>\n",
       "      <td>2003-05-22</td>\n",
       "      <td>336</td>\n",
       "    </tr>\n",
       "    <tr>\n",
       "      <th>2</th>\n",
       "      <td>3</td>\n",
       "      <td>407</td>\n",
       "      <td>13 Little Blue Envelopes (Little Blue Envelope...</td>\n",
       "      <td>322</td>\n",
       "      <td>2010-12-21</td>\n",
       "      <td>135</td>\n",
       "    </tr>\n",
       "    <tr>\n",
       "      <th>3</th>\n",
       "      <td>4</td>\n",
       "      <td>82</td>\n",
       "      <td>1491: New Revelations of the Americas Before C...</td>\n",
       "      <td>541</td>\n",
       "      <td>2006-10-10</td>\n",
       "      <td>309</td>\n",
       "    </tr>\n",
       "    <tr>\n",
       "      <th>4</th>\n",
       "      <td>5</td>\n",
       "      <td>125</td>\n",
       "      <td>1776</td>\n",
       "      <td>386</td>\n",
       "      <td>2006-07-04</td>\n",
       "      <td>268</td>\n",
       "    </tr>\n",
       "  </tbody>\n",
       "</table>\n",
       "</div>"
      ],
      "text/plain": [
       "   book_id  author_id                                              title  \\\n",
       "0        1        546                                       'Salem's Lot   \n",
       "1        2        465                 1 000 Places to See Before You Die   \n",
       "2        3        407  13 Little Blue Envelopes (Little Blue Envelope...   \n",
       "3        4         82  1491: New Revelations of the Americas Before C...   \n",
       "4        5        125                                               1776   \n",
       "\n",
       "   num_pages publication_date  publisher_id  \n",
       "0        594       2005-11-01            93  \n",
       "1        992       2003-05-22           336  \n",
       "2        322       2010-12-21           135  \n",
       "3        541       2006-10-10           309  \n",
       "4        386       2006-07-04           268  "
      ]
     },
     "execution_count": 2,
     "metadata": {},
     "output_type": "execute_result"
    }
   ],
   "source": [
    "# таблица с книгами\n",
    "query = '''\n",
    "SELECT *\n",
    "FROM books\n",
    "LIMIT 5;\n",
    "'''\n",
    "pd.io.sql.read_sql(query, con = engine) "
   ]
  },
  {
   "cell_type": "code",
   "execution_count": 3,
   "metadata": {
    "scrolled": true
   },
   "outputs": [
    {
     "data": {
      "text/html": [
       "<div>\n",
       "<style scoped>\n",
       "    .dataframe tbody tr th:only-of-type {\n",
       "        vertical-align: middle;\n",
       "    }\n",
       "\n",
       "    .dataframe tbody tr th {\n",
       "        vertical-align: top;\n",
       "    }\n",
       "\n",
       "    .dataframe thead th {\n",
       "        text-align: right;\n",
       "    }\n",
       "</style>\n",
       "<table border=\"1\" class=\"dataframe\">\n",
       "  <thead>\n",
       "    <tr style=\"text-align: right;\">\n",
       "      <th></th>\n",
       "      <th>author_id</th>\n",
       "      <th>author</th>\n",
       "    </tr>\n",
       "  </thead>\n",
       "  <tbody>\n",
       "    <tr>\n",
       "      <th>0</th>\n",
       "      <td>1</td>\n",
       "      <td>A.S. Byatt</td>\n",
       "    </tr>\n",
       "    <tr>\n",
       "      <th>1</th>\n",
       "      <td>2</td>\n",
       "      <td>Aesop/Laura Harris/Laura Gibbs</td>\n",
       "    </tr>\n",
       "    <tr>\n",
       "      <th>2</th>\n",
       "      <td>3</td>\n",
       "      <td>Agatha Christie</td>\n",
       "    </tr>\n",
       "    <tr>\n",
       "      <th>3</th>\n",
       "      <td>4</td>\n",
       "      <td>Alan Brennert</td>\n",
       "    </tr>\n",
       "    <tr>\n",
       "      <th>4</th>\n",
       "      <td>5</td>\n",
       "      <td>Alan Moore/David   Lloyd</td>\n",
       "    </tr>\n",
       "  </tbody>\n",
       "</table>\n",
       "</div>"
      ],
      "text/plain": [
       "   author_id                          author\n",
       "0          1                      A.S. Byatt\n",
       "1          2  Aesop/Laura Harris/Laura Gibbs\n",
       "2          3                 Agatha Christie\n",
       "3          4                   Alan Brennert\n",
       "4          5        Alan Moore/David   Lloyd"
      ]
     },
     "execution_count": 3,
     "metadata": {},
     "output_type": "execute_result"
    }
   ],
   "source": [
    "# таблица с авторами\n",
    "query = '''\n",
    "SELECT *\n",
    "FROM authors\n",
    "LIMIT 5;\n",
    "'''\n",
    "pd.io.sql.read_sql(query, con = engine) "
   ]
  },
  {
   "cell_type": "code",
   "execution_count": 4,
   "metadata": {},
   "outputs": [
    {
     "data": {
      "text/html": [
       "<div>\n",
       "<style scoped>\n",
       "    .dataframe tbody tr th:only-of-type {\n",
       "        vertical-align: middle;\n",
       "    }\n",
       "\n",
       "    .dataframe tbody tr th {\n",
       "        vertical-align: top;\n",
       "    }\n",
       "\n",
       "    .dataframe thead th {\n",
       "        text-align: right;\n",
       "    }\n",
       "</style>\n",
       "<table border=\"1\" class=\"dataframe\">\n",
       "  <thead>\n",
       "    <tr style=\"text-align: right;\">\n",
       "      <th></th>\n",
       "      <th>publisher_id</th>\n",
       "      <th>publisher</th>\n",
       "    </tr>\n",
       "  </thead>\n",
       "  <tbody>\n",
       "    <tr>\n",
       "      <th>0</th>\n",
       "      <td>1</td>\n",
       "      <td>Ace</td>\n",
       "    </tr>\n",
       "    <tr>\n",
       "      <th>1</th>\n",
       "      <td>2</td>\n",
       "      <td>Ace Book</td>\n",
       "    </tr>\n",
       "    <tr>\n",
       "      <th>2</th>\n",
       "      <td>3</td>\n",
       "      <td>Ace Books</td>\n",
       "    </tr>\n",
       "    <tr>\n",
       "      <th>3</th>\n",
       "      <td>4</td>\n",
       "      <td>Ace Hardcover</td>\n",
       "    </tr>\n",
       "    <tr>\n",
       "      <th>4</th>\n",
       "      <td>5</td>\n",
       "      <td>Addison Wesley Publishing Company</td>\n",
       "    </tr>\n",
       "  </tbody>\n",
       "</table>\n",
       "</div>"
      ],
      "text/plain": [
       "   publisher_id                          publisher\n",
       "0             1                                Ace\n",
       "1             2                           Ace Book\n",
       "2             3                          Ace Books\n",
       "3             4                      Ace Hardcover\n",
       "4             5  Addison Wesley Publishing Company"
      ]
     },
     "execution_count": 4,
     "metadata": {},
     "output_type": "execute_result"
    }
   ],
   "source": [
    "# таблица с издательствами\n",
    "query = '''\n",
    "SELECT *\n",
    "FROM publishers\n",
    "LIMIT 5;\n",
    "'''\n",
    "pd.io.sql.read_sql(query, con = engine) "
   ]
  },
  {
   "cell_type": "code",
   "execution_count": 5,
   "metadata": {},
   "outputs": [
    {
     "data": {
      "text/html": [
       "<div>\n",
       "<style scoped>\n",
       "    .dataframe tbody tr th:only-of-type {\n",
       "        vertical-align: middle;\n",
       "    }\n",
       "\n",
       "    .dataframe tbody tr th {\n",
       "        vertical-align: top;\n",
       "    }\n",
       "\n",
       "    .dataframe thead th {\n",
       "        text-align: right;\n",
       "    }\n",
       "</style>\n",
       "<table border=\"1\" class=\"dataframe\">\n",
       "  <thead>\n",
       "    <tr style=\"text-align: right;\">\n",
       "      <th></th>\n",
       "      <th>rating_id</th>\n",
       "      <th>book_id</th>\n",
       "      <th>username</th>\n",
       "      <th>rating</th>\n",
       "    </tr>\n",
       "  </thead>\n",
       "  <tbody>\n",
       "    <tr>\n",
       "      <th>0</th>\n",
       "      <td>1</td>\n",
       "      <td>1</td>\n",
       "      <td>ryanfranco</td>\n",
       "      <td>4</td>\n",
       "    </tr>\n",
       "    <tr>\n",
       "      <th>1</th>\n",
       "      <td>2</td>\n",
       "      <td>1</td>\n",
       "      <td>grantpatricia</td>\n",
       "      <td>2</td>\n",
       "    </tr>\n",
       "    <tr>\n",
       "      <th>2</th>\n",
       "      <td>3</td>\n",
       "      <td>1</td>\n",
       "      <td>brandtandrea</td>\n",
       "      <td>5</td>\n",
       "    </tr>\n",
       "    <tr>\n",
       "      <th>3</th>\n",
       "      <td>4</td>\n",
       "      <td>2</td>\n",
       "      <td>lorichen</td>\n",
       "      <td>3</td>\n",
       "    </tr>\n",
       "    <tr>\n",
       "      <th>4</th>\n",
       "      <td>5</td>\n",
       "      <td>2</td>\n",
       "      <td>mariokeller</td>\n",
       "      <td>2</td>\n",
       "    </tr>\n",
       "  </tbody>\n",
       "</table>\n",
       "</div>"
      ],
      "text/plain": [
       "   rating_id  book_id       username  rating\n",
       "0          1        1     ryanfranco       4\n",
       "1          2        1  grantpatricia       2\n",
       "2          3        1   brandtandrea       5\n",
       "3          4        2       lorichen       3\n",
       "4          5        2    mariokeller       2"
      ]
     },
     "execution_count": 5,
     "metadata": {},
     "output_type": "execute_result"
    }
   ],
   "source": [
    "# таблица с оценками\n",
    "query = '''\n",
    "SELECT *\n",
    "FROM ratings\n",
    "LIMIT 5;\n",
    "'''\n",
    "pd.io.sql.read_sql(query, con = engine) "
   ]
  },
  {
   "cell_type": "code",
   "execution_count": 6,
   "metadata": {},
   "outputs": [
    {
     "data": {
      "text/html": [
       "<div>\n",
       "<style scoped>\n",
       "    .dataframe tbody tr th:only-of-type {\n",
       "        vertical-align: middle;\n",
       "    }\n",
       "\n",
       "    .dataframe tbody tr th {\n",
       "        vertical-align: top;\n",
       "    }\n",
       "\n",
       "    .dataframe thead th {\n",
       "        text-align: right;\n",
       "    }\n",
       "</style>\n",
       "<table border=\"1\" class=\"dataframe\">\n",
       "  <thead>\n",
       "    <tr style=\"text-align: right;\">\n",
       "      <th></th>\n",
       "      <th>review_id</th>\n",
       "      <th>book_id</th>\n",
       "      <th>username</th>\n",
       "      <th>text</th>\n",
       "    </tr>\n",
       "  </thead>\n",
       "  <tbody>\n",
       "    <tr>\n",
       "      <th>0</th>\n",
       "      <td>1</td>\n",
       "      <td>1</td>\n",
       "      <td>brandtandrea</td>\n",
       "      <td>Mention society tell send professor analysis. ...</td>\n",
       "    </tr>\n",
       "    <tr>\n",
       "      <th>1</th>\n",
       "      <td>2</td>\n",
       "      <td>1</td>\n",
       "      <td>ryanfranco</td>\n",
       "      <td>Foot glass pretty audience hit themselves. Amo...</td>\n",
       "    </tr>\n",
       "    <tr>\n",
       "      <th>2</th>\n",
       "      <td>3</td>\n",
       "      <td>2</td>\n",
       "      <td>lorichen</td>\n",
       "      <td>Listen treat keep worry. Miss husband tax but ...</td>\n",
       "    </tr>\n",
       "    <tr>\n",
       "      <th>3</th>\n",
       "      <td>4</td>\n",
       "      <td>3</td>\n",
       "      <td>johnsonamanda</td>\n",
       "      <td>Finally month interesting blue could nature cu...</td>\n",
       "    </tr>\n",
       "    <tr>\n",
       "      <th>4</th>\n",
       "      <td>5</td>\n",
       "      <td>3</td>\n",
       "      <td>scotttamara</td>\n",
       "      <td>Nation purpose heavy give wait song will. List...</td>\n",
       "    </tr>\n",
       "  </tbody>\n",
       "</table>\n",
       "</div>"
      ],
      "text/plain": [
       "   review_id  book_id       username  \\\n",
       "0          1        1   brandtandrea   \n",
       "1          2        1     ryanfranco   \n",
       "2          3        2       lorichen   \n",
       "3          4        3  johnsonamanda   \n",
       "4          5        3    scotttamara   \n",
       "\n",
       "                                                text  \n",
       "0  Mention society tell send professor analysis. ...  \n",
       "1  Foot glass pretty audience hit themselves. Amo...  \n",
       "2  Listen treat keep worry. Miss husband tax but ...  \n",
       "3  Finally month interesting blue could nature cu...  \n",
       "4  Nation purpose heavy give wait song will. List...  "
      ]
     },
     "execution_count": 6,
     "metadata": {},
     "output_type": "execute_result"
    }
   ],
   "source": [
    "# таблица с отзывами\n",
    "query = '''\n",
    "SELECT *\n",
    "FROM reviews\n",
    "LIMIT 5;\n",
    "                    '''\n",
    "pd.io.sql.read_sql(query, con = engine) "
   ]
  },
  {
   "cell_type": "markdown",
   "metadata": {},
   "source": [
    "## Посчитаем, сколько книг вышло после 1 января 2000 года\n"
   ]
  },
  {
   "cell_type": "code",
   "execution_count": 7,
   "metadata": {
    "scrolled": true
   },
   "outputs": [
    {
     "data": {
      "text/html": [
       "<div>\n",
       "<style scoped>\n",
       "    .dataframe tbody tr th:only-of-type {\n",
       "        vertical-align: middle;\n",
       "    }\n",
       "\n",
       "    .dataframe tbody tr th {\n",
       "        vertical-align: top;\n",
       "    }\n",
       "\n",
       "    .dataframe thead th {\n",
       "        text-align: right;\n",
       "    }\n",
       "</style>\n",
       "<table border=\"1\" class=\"dataframe\">\n",
       "  <thead>\n",
       "    <tr style=\"text-align: right;\">\n",
       "      <th></th>\n",
       "      <th>count_book</th>\n",
       "    </tr>\n",
       "  </thead>\n",
       "  <tbody>\n",
       "    <tr>\n",
       "      <th>0</th>\n",
       "      <td>819</td>\n",
       "    </tr>\n",
       "  </tbody>\n",
       "</table>\n",
       "</div>"
      ],
      "text/plain": [
       "   count_book\n",
       "0         819"
      ]
     },
     "execution_count": 7,
     "metadata": {},
     "output_type": "execute_result"
    }
   ],
   "source": [
    "query = '''\n",
    "SELECT \n",
    "    COUNT(book_id) AS count_book\n",
    "FROM \n",
    "    books\n",
    "WHERE \n",
    "    publication_date > '2000-01-01'\n",
    "'''\n",
    "pd.io.sql.read_sql(query, con = engine) "
   ]
  },
  {
   "cell_type": "markdown",
   "metadata": {},
   "source": [
    "После 1 января 2000 года вышло 819 книг"
   ]
  },
  {
   "cell_type": "markdown",
   "metadata": {},
   "source": [
    "## Для каждой книги посчитаем количество обзоров и среднюю оценку\n"
   ]
  },
  {
   "cell_type": "code",
   "execution_count": 8,
   "metadata": {
    "scrolled": true
   },
   "outputs": [
    {
     "data": {
      "text/html": [
       "<div>\n",
       "<style scoped>\n",
       "    .dataframe tbody tr th:only-of-type {\n",
       "        vertical-align: middle;\n",
       "    }\n",
       "\n",
       "    .dataframe tbody tr th {\n",
       "        vertical-align: top;\n",
       "    }\n",
       "\n",
       "    .dataframe thead th {\n",
       "        text-align: right;\n",
       "    }\n",
       "</style>\n",
       "<table border=\"1\" class=\"dataframe\">\n",
       "  <thead>\n",
       "    <tr style=\"text-align: right;\">\n",
       "      <th></th>\n",
       "      <th>book_id</th>\n",
       "      <th>title</th>\n",
       "      <th>review_count</th>\n",
       "      <th>avg_rating</th>\n",
       "    </tr>\n",
       "  </thead>\n",
       "  <tbody>\n",
       "    <tr>\n",
       "      <th>0</th>\n",
       "      <td>948</td>\n",
       "      <td>Twilight (Twilight  #1)</td>\n",
       "      <td>7</td>\n",
       "      <td>3.66</td>\n",
       "    </tr>\n",
       "    <tr>\n",
       "      <th>1</th>\n",
       "      <td>963</td>\n",
       "      <td>Water for Elephants</td>\n",
       "      <td>6</td>\n",
       "      <td>3.98</td>\n",
       "    </tr>\n",
       "    <tr>\n",
       "      <th>2</th>\n",
       "      <td>734</td>\n",
       "      <td>The Glass Castle</td>\n",
       "      <td>6</td>\n",
       "      <td>4.21</td>\n",
       "    </tr>\n",
       "    <tr>\n",
       "      <th>3</th>\n",
       "      <td>302</td>\n",
       "      <td>Harry Potter and the Prisoner of Azkaban (Harr...</td>\n",
       "      <td>6</td>\n",
       "      <td>4.41</td>\n",
       "    </tr>\n",
       "    <tr>\n",
       "      <th>4</th>\n",
       "      <td>695</td>\n",
       "      <td>The Curious Incident of the Dog in the Night-Time</td>\n",
       "      <td>6</td>\n",
       "      <td>4.08</td>\n",
       "    </tr>\n",
       "    <tr>\n",
       "      <th>...</th>\n",
       "      <td>...</td>\n",
       "      <td>...</td>\n",
       "      <td>...</td>\n",
       "      <td>...</td>\n",
       "    </tr>\n",
       "    <tr>\n",
       "      <th>995</th>\n",
       "      <td>83</td>\n",
       "      <td>Anne Rice's The Vampire Lestat: A Graphic Novel</td>\n",
       "      <td>0</td>\n",
       "      <td>3.67</td>\n",
       "    </tr>\n",
       "    <tr>\n",
       "      <th>996</th>\n",
       "      <td>808</td>\n",
       "      <td>The Natural Way to Draw</td>\n",
       "      <td>0</td>\n",
       "      <td>3.00</td>\n",
       "    </tr>\n",
       "    <tr>\n",
       "      <th>997</th>\n",
       "      <td>672</td>\n",
       "      <td>The Cat in the Hat and Other Dr. Seuss Favorites</td>\n",
       "      <td>0</td>\n",
       "      <td>5.00</td>\n",
       "    </tr>\n",
       "    <tr>\n",
       "      <th>998</th>\n",
       "      <td>221</td>\n",
       "      <td>Essential Tales and Poems</td>\n",
       "      <td>0</td>\n",
       "      <td>4.00</td>\n",
       "    </tr>\n",
       "    <tr>\n",
       "      <th>999</th>\n",
       "      <td>191</td>\n",
       "      <td>Disney's Beauty and the Beast (A Little Golden...</td>\n",
       "      <td>0</td>\n",
       "      <td>4.00</td>\n",
       "    </tr>\n",
       "  </tbody>\n",
       "</table>\n",
       "<p>1000 rows × 4 columns</p>\n",
       "</div>"
      ],
      "text/plain": [
       "     book_id                                              title  review_count  \\\n",
       "0        948                            Twilight (Twilight  #1)             7   \n",
       "1        963                                Water for Elephants             6   \n",
       "2        734                                   The Glass Castle             6   \n",
       "3        302  Harry Potter and the Prisoner of Azkaban (Harr...             6   \n",
       "4        695  The Curious Incident of the Dog in the Night-Time             6   \n",
       "..       ...                                                ...           ...   \n",
       "995       83    Anne Rice's The Vampire Lestat: A Graphic Novel             0   \n",
       "996      808                            The Natural Way to Draw             0   \n",
       "997      672   The Cat in the Hat and Other Dr. Seuss Favorites             0   \n",
       "998      221                          Essential Tales and Poems             0   \n",
       "999      191  Disney's Beauty and the Beast (A Little Golden...             0   \n",
       "\n",
       "     avg_rating  \n",
       "0          3.66  \n",
       "1          3.98  \n",
       "2          4.21  \n",
       "3          4.41  \n",
       "4          4.08  \n",
       "..          ...  \n",
       "995        3.67  \n",
       "996        3.00  \n",
       "997        5.00  \n",
       "998        4.00  \n",
       "999        4.00  \n",
       "\n",
       "[1000 rows x 4 columns]"
      ]
     },
     "execution_count": 8,
     "metadata": {},
     "output_type": "execute_result"
    }
   ],
   "source": [
    "query = '''\n",
    "SELECT \n",
    "    books.book_id, \n",
    "    books.title, \n",
    "    COUNT(DISTINCT reviews.review_id) AS review_count, \n",
    "    ROUND(AVG(ratings.rating), 2) AS avg_rating\n",
    "FROM \n",
    "    books \n",
    "        LEFT JOIN reviews ON books.book_id = reviews.book_id\n",
    "        LEFT JOIN ratings ON books.book_id = ratings.book_id\n",
    "    \n",
    "GROUP BY books.book_id\n",
    "ORDER BY review_count DESC\n",
    "'''\n",
    "pd.io.sql.read_sql(query, con = engine) "
   ]
  },
  {
   "cell_type": "markdown",
   "metadata": {},
   "source": [
    "Для каждой книги посчитали количество обзоров(review_count) и среднюю оценку(avg_rating)"
   ]
  },
  {
   "cell_type": "markdown",
   "metadata": {},
   "source": [
    "## Определим издательство, которое выпустило наибольшее число книг толще 50 страниц (чтобы исключить брошюры)"
   ]
  },
  {
   "cell_type": "code",
   "execution_count": 9,
   "metadata": {
    "scrolled": true
   },
   "outputs": [
    {
     "data": {
      "text/html": [
       "<div>\n",
       "<style scoped>\n",
       "    .dataframe tbody tr th:only-of-type {\n",
       "        vertical-align: middle;\n",
       "    }\n",
       "\n",
       "    .dataframe tbody tr th {\n",
       "        vertical-align: top;\n",
       "    }\n",
       "\n",
       "    .dataframe thead th {\n",
       "        text-align: right;\n",
       "    }\n",
       "</style>\n",
       "<table border=\"1\" class=\"dataframe\">\n",
       "  <thead>\n",
       "    <tr style=\"text-align: right;\">\n",
       "      <th></th>\n",
       "      <th>publisher</th>\n",
       "      <th>books_count</th>\n",
       "    </tr>\n",
       "  </thead>\n",
       "  <tbody>\n",
       "    <tr>\n",
       "      <th>0</th>\n",
       "      <td>Penguin Books</td>\n",
       "      <td>42</td>\n",
       "    </tr>\n",
       "  </tbody>\n",
       "</table>\n",
       "</div>"
      ],
      "text/plain": [
       "       publisher  books_count\n",
       "0  Penguin Books           42"
      ]
     },
     "execution_count": 9,
     "metadata": {},
     "output_type": "execute_result"
    }
   ],
   "source": [
    "query = '''\n",
    "SELECT publishers.publisher, COUNT(books.book_id) AS books_count\n",
    "FROM \n",
    "    publishers \n",
    "        LEFT JOIN books ON books.publisher_id = publishers.publisher_id\n",
    "    \n",
    "WHERE books.num_pages > 50    \n",
    "GROUP BY publishers.publisher\n",
    "ORDER BY books_count DESC\n",
    "LIMIT 1\n",
    "\n",
    "'''\n",
    "pd.io.sql.read_sql(query, con = engine) "
   ]
  },
  {
   "cell_type": "markdown",
   "metadata": {},
   "source": [
    "Издательство, которое выпустило наибольшее число книг толще 50 страниц - это Penguin Books, издавшее 42 книги"
   ]
  },
  {
   "cell_type": "markdown",
   "metadata": {},
   "source": [
    "## Определим автора с самой высокой средней оценкой книг — учитывая только книги с 50 и более оценками\n"
   ]
  },
  {
   "cell_type": "code",
   "execution_count": 10,
   "metadata": {},
   "outputs": [
    {
     "data": {
      "text/html": [
       "<div>\n",
       "<style scoped>\n",
       "    .dataframe tbody tr th:only-of-type {\n",
       "        vertical-align: middle;\n",
       "    }\n",
       "\n",
       "    .dataframe tbody tr th {\n",
       "        vertical-align: top;\n",
       "    }\n",
       "\n",
       "    .dataframe thead th {\n",
       "        text-align: right;\n",
       "    }\n",
       "</style>\n",
       "<table border=\"1\" class=\"dataframe\">\n",
       "  <thead>\n",
       "    <tr style=\"text-align: right;\">\n",
       "      <th></th>\n",
       "      <th>author</th>\n",
       "      <th>avg_rating</th>\n",
       "    </tr>\n",
       "  </thead>\n",
       "  <tbody>\n",
       "    <tr>\n",
       "      <th>0</th>\n",
       "      <td>J.K. Rowling/Mary GrandPré</td>\n",
       "      <td>4.29</td>\n",
       "    </tr>\n",
       "    <tr>\n",
       "      <th>1</th>\n",
       "      <td>Markus Zusak/Cao Xuân Việt Khương</td>\n",
       "      <td>4.26</td>\n",
       "    </tr>\n",
       "    <tr>\n",
       "      <th>2</th>\n",
       "      <td>J.R.R. Tolkien</td>\n",
       "      <td>4.25</td>\n",
       "    </tr>\n",
       "  </tbody>\n",
       "</table>\n",
       "</div>"
      ],
      "text/plain": [
       "                              author  avg_rating\n",
       "0         J.K. Rowling/Mary GrandPré        4.29\n",
       "1  Markus Zusak/Cao Xuân Việt Khương        4.26\n",
       "2                     J.R.R. Tolkien        4.25"
      ]
     },
     "execution_count": 10,
     "metadata": {},
     "output_type": "execute_result"
    }
   ],
   "source": [
    "query = '''\n",
    "SELECT authors.author, ROUND(AVG(ratings.rating), 2) AS avg_rating\n",
    "FROM \n",
    "    books \n",
    "        LEFT JOIN authors ON books.author_id = authors.author_id\n",
    "        LEFT JOIN ratings ON books.book_id = ratings.book_id\n",
    "WHERE\n",
    "    books.book_id IN (\n",
    "        SELECT ratings.book_id\n",
    "        FROM ratings\n",
    "        GROUP BY ratings.book_id\n",
    "        HAVING COUNT(ratings.rating) > 50)\n",
    "GROUP BY authors.author\n",
    " \n",
    "ORDER BY avg_rating DESC\n",
    "LIMIT 3\n",
    "\n",
    "'''\n",
    "pd.io.sql.read_sql(query, con = engine) "
   ]
  },
  {
   "cell_type": "markdown",
   "metadata": {},
   "source": [
    "Автор с самой высокой средней оценкой книг — учитывая только книги с 50 и более оценками - это J.K. Rowling/Mary GrandPré со средним рейтингом 4.29\n",
    "\n",
    "Вполне ожидаемо :)"
   ]
  },
  {
   "cell_type": "markdown",
   "metadata": {},
   "source": [
    "## Посчитаем среднее количество обзоров от пользователей, которые поставили больше 50 оценок"
   ]
  },
  {
   "cell_type": "code",
   "execution_count": 11,
   "metadata": {},
   "outputs": [
    {
     "data": {
      "text/html": [
       "<div>\n",
       "<style scoped>\n",
       "    .dataframe tbody tr th:only-of-type {\n",
       "        vertical-align: middle;\n",
       "    }\n",
       "\n",
       "    .dataframe tbody tr th {\n",
       "        vertical-align: top;\n",
       "    }\n",
       "\n",
       "    .dataframe thead th {\n",
       "        text-align: right;\n",
       "    }\n",
       "</style>\n",
       "<table border=\"1\" class=\"dataframe\">\n",
       "  <thead>\n",
       "    <tr style=\"text-align: right;\">\n",
       "      <th></th>\n",
       "      <th>avg_reviews</th>\n",
       "    </tr>\n",
       "  </thead>\n",
       "  <tbody>\n",
       "    <tr>\n",
       "      <th>0</th>\n",
       "      <td>24.33</td>\n",
       "    </tr>\n",
       "  </tbody>\n",
       "</table>\n",
       "</div>"
      ],
      "text/plain": [
       "   avg_reviews\n",
       "0        24.33"
      ]
     },
     "execution_count": 11,
     "metadata": {},
     "output_type": "execute_result"
    }
   ],
   "source": [
    "query = '''\n",
    "SELECT ROUND(AVG(t1.count_review), 2) AS avg_reviews \n",
    "FROM (\n",
    "\n",
    "    SELECT reviews.username, COUNT(reviews.review_id) AS count_review\n",
    "        FROM reviews\n",
    "    WHERE username IN (\n",
    "\n",
    "                    SELECT ratings.username\n",
    "                    FROM \n",
    "                        ratings\n",
    "  \n",
    "                    GROUP BY ratings.username\n",
    "                    HAVING COUNT(ratings.rating_id) > 50\n",
    "                        )\n",
    "    GROUP BY reviews.username\n",
    "    ) AS t1\n",
    "\n",
    "'''\n",
    "pd.io.sql.read_sql(query, con = engine) "
   ]
  },
  {
   "cell_type": "markdown",
   "metadata": {},
   "source": [
    "Пользователи, которые поставили больше 50 оценок, в среднем оставляют 24.3 обзора"
   ]
  },
  {
   "cell_type": "markdown",
   "metadata": {},
   "source": [
    "# Вывод\n",
    "\n",
    "- После 1 января 2000 года вышло 819 книг\n",
    "- Для каждой книги посчитали количество обзоров(review_count) и среднюю оценку(avg_rating)\n",
    "- Издательство, которое выпустило наибольшее число книг толще 50 страниц - это Penguin Books, издавшее 42 книги\n",
    "- Автор с самой высокой средней оценкой книг — учитывая только книги с 50 и более оценками - это J.K. Rowling/Mary GrandPré со средним рейтингом 4.29\n",
    "\n",
    "- Пользователи, которые поставили больше 50 оценок, в среднем оставляют 24.3 обзора"
   ]
  }
 ],
 "metadata": {
  "ExecuteTimeLog": [
   {
    "duration": 154,
    "start_time": "2022-04-22T08:25:33.738Z"
   },
   {
    "duration": 159,
    "start_time": "2022-04-22T08:26:45.279Z"
   },
   {
    "duration": 9505,
    "start_time": "2022-04-22T08:27:01.273Z"
   },
   {
    "duration": 66,
    "start_time": "2022-04-22T08:27:30.253Z"
   },
   {
    "duration": 40,
    "start_time": "2022-04-22T08:29:38.913Z"
   },
   {
    "duration": 4,
    "start_time": "2022-04-22T08:36:40.533Z"
   },
   {
    "duration": 41,
    "start_time": "2022-04-22T08:36:40.539Z"
   },
   {
    "duration": 12,
    "start_time": "2022-04-22T08:36:40.582Z"
   },
   {
    "duration": 6,
    "start_time": "2022-04-22T08:37:54.727Z"
   },
   {
    "duration": 38,
    "start_time": "2022-04-22T08:37:54.736Z"
   },
   {
    "duration": 14,
    "start_time": "2022-04-22T08:37:54.775Z"
   },
   {
    "duration": 13,
    "start_time": "2022-04-22T08:37:54.791Z"
   },
   {
    "duration": 13,
    "start_time": "2022-04-22T08:37:54.805Z"
   },
   {
    "duration": 13,
    "start_time": "2022-04-22T08:37:54.819Z"
   },
   {
    "duration": 13,
    "start_time": "2022-04-22T08:53:49.750Z"
   },
   {
    "duration": 13,
    "start_time": "2022-04-22T09:43:55.978Z"
   },
   {
    "duration": 9534,
    "start_time": "2022-04-22T15:00:54.842Z"
   },
   {
    "duration": 224,
    "start_time": "2022-04-22T15:01:04.379Z"
   },
   {
    "duration": 68,
    "start_time": "2022-04-22T15:01:04.605Z"
   },
   {
    "duration": 66,
    "start_time": "2022-04-22T15:01:04.676Z"
   },
   {
    "duration": 64,
    "start_time": "2022-04-22T15:01:04.744Z"
   },
   {
    "duration": 65,
    "start_time": "2022-04-22T15:01:04.810Z"
   },
   {
    "duration": 65,
    "start_time": "2022-04-22T15:01:04.877Z"
   },
   {
    "duration": 335,
    "start_time": "2022-04-22T15:01:04.944Z"
   },
   {
    "duration": 89,
    "start_time": "2022-04-22T15:01:31.370Z"
   },
   {
    "duration": 103,
    "start_time": "2022-04-22T15:04:54.737Z"
   },
   {
    "duration": 99,
    "start_time": "2022-04-22T15:05:29.052Z"
   },
   {
    "duration": 268,
    "start_time": "2022-04-22T15:09:55.609Z"
   },
   {
    "duration": 314,
    "start_time": "2022-04-22T15:10:52.972Z"
   },
   {
    "duration": 68,
    "start_time": "2022-04-22T15:11:05.357Z"
   },
   {
    "duration": 253,
    "start_time": "2022-04-22T15:12:04.384Z"
   },
   {
    "duration": 68,
    "start_time": "2022-04-22T15:13:38.586Z"
   },
   {
    "duration": 65,
    "start_time": "2022-04-22T15:13:48.048Z"
   },
   {
    "duration": 74,
    "start_time": "2022-04-22T15:13:56.096Z"
   },
   {
    "duration": 252,
    "start_time": "2022-04-22T15:20:11.418Z"
   },
   {
    "duration": 218,
    "start_time": "2022-04-22T15:20:43.819Z"
   },
   {
    "duration": 233,
    "start_time": "2022-04-22T15:22:01.014Z"
   },
   {
    "duration": 280,
    "start_time": "2022-04-22T15:22:19.517Z"
   },
   {
    "duration": 237,
    "start_time": "2022-04-22T15:23:40.196Z"
   },
   {
    "duration": 76,
    "start_time": "2022-04-22T15:25:13.724Z"
   },
   {
    "duration": 253,
    "start_time": "2022-04-22T15:25:37.889Z"
   },
   {
    "duration": 240,
    "start_time": "2022-04-22T15:25:50.198Z"
   },
   {
    "duration": 251,
    "start_time": "2022-04-22T15:26:04.266Z"
   },
   {
    "duration": 211,
    "start_time": "2022-04-22T15:26:38.653Z"
   },
   {
    "duration": 233,
    "start_time": "2022-04-22T15:26:55.160Z"
   },
   {
    "duration": 71,
    "start_time": "2022-04-22T15:27:05.625Z"
   },
   {
    "duration": 296,
    "start_time": "2022-04-22T15:28:51.601Z"
   },
   {
    "duration": 311,
    "start_time": "2022-04-22T15:28:57.299Z"
   },
   {
    "duration": 260,
    "start_time": "2022-04-22T15:29:22.922Z"
   },
   {
    "duration": 253,
    "start_time": "2022-04-22T15:29:35.745Z"
   },
   {
    "duration": 229,
    "start_time": "2022-04-22T15:29:43.283Z"
   },
   {
    "duration": 359,
    "start_time": "2022-04-22T15:30:07.226Z"
   },
   {
    "duration": 521,
    "start_time": "2022-04-22T15:30:23.782Z"
   },
   {
    "duration": 69,
    "start_time": "2022-04-22T15:30:33.452Z"
   },
   {
    "duration": 70,
    "start_time": "2022-04-22T15:30:39.865Z"
   },
   {
    "duration": 220,
    "start_time": "2022-04-22T15:36:57.465Z"
   },
   {
    "duration": 1419,
    "start_time": "2022-04-22T15:37:07.620Z"
   },
   {
    "duration": 2689,
    "start_time": "2022-04-22T15:37:52.790Z"
   },
   {
    "duration": 470,
    "start_time": "2022-04-22T15:38:46.997Z"
   },
   {
    "duration": 430,
    "start_time": "2022-04-22T15:40:14.711Z"
   },
   {
    "duration": 235,
    "start_time": "2022-04-22T15:41:09.415Z"
   },
   {
    "duration": 2747,
    "start_time": "2022-04-22T15:41:13.738Z"
   },
   {
    "duration": 301,
    "start_time": "2022-04-22T15:42:23.704Z"
   },
   {
    "duration": 135,
    "start_time": "2022-04-22T15:42:47.945Z"
   },
   {
    "duration": 135,
    "start_time": "2022-04-22T15:43:28.828Z"
   },
   {
    "duration": 2111,
    "start_time": "2022-04-22T15:46:41.054Z"
   },
   {
    "duration": 65,
    "start_time": "2022-04-22T15:47:17.149Z"
   },
   {
    "duration": 70,
    "start_time": "2022-04-22T15:47:56.840Z"
   },
   {
    "duration": 288,
    "start_time": "2022-04-22T15:51:45.418Z"
   },
   {
    "duration": 66,
    "start_time": "2022-04-22T15:52:21.784Z"
   },
   {
    "duration": 78,
    "start_time": "2022-04-22T15:53:01.224Z"
   },
   {
    "duration": 70,
    "start_time": "2022-04-22T15:54:06.451Z"
   },
   {
    "duration": 226,
    "start_time": "2022-04-22T15:54:12.459Z"
   },
   {
    "duration": 77,
    "start_time": "2022-04-22T15:54:18.944Z"
   },
   {
    "duration": 81,
    "start_time": "2022-04-22T15:55:01.278Z"
   },
   {
    "duration": 461,
    "start_time": "2022-04-22T15:56:16.356Z"
   },
   {
    "duration": 66,
    "start_time": "2022-04-22T15:59:10.746Z"
   },
   {
    "duration": 221,
    "start_time": "2022-04-22T15:59:24.252Z"
   },
   {
    "duration": 229,
    "start_time": "2022-04-22T15:59:27.545Z"
   },
   {
    "duration": 88,
    "start_time": "2022-04-22T15:59:32.080Z"
   },
   {
    "duration": 79,
    "start_time": "2022-04-22T15:59:41.214Z"
   },
   {
    "duration": 265,
    "start_time": "2022-04-22T16:01:44.083Z"
   },
   {
    "duration": 65,
    "start_time": "2022-04-22T16:01:52.861Z"
   },
   {
    "duration": 225,
    "start_time": "2022-04-22T16:05:14.567Z"
   },
   {
    "duration": 257,
    "start_time": "2022-04-22T16:06:07.026Z"
   },
   {
    "duration": 73,
    "start_time": "2022-04-22T16:07:18.009Z"
   },
   {
    "duration": 70,
    "start_time": "2022-04-22T16:09:03.773Z"
   },
   {
    "duration": 65,
    "start_time": "2022-04-22T16:10:11.187Z"
   },
   {
    "duration": 64,
    "start_time": "2022-04-22T16:52:29.945Z"
   },
   {
    "duration": 10981,
    "start_time": "2022-04-22T16:56:17.764Z"
   },
   {
    "duration": 239,
    "start_time": "2022-04-22T16:56:28.748Z"
   },
   {
    "duration": 79,
    "start_time": "2022-04-22T16:56:28.989Z"
   },
   {
    "duration": 74,
    "start_time": "2022-04-22T16:56:29.071Z"
   },
   {
    "duration": 70,
    "start_time": "2022-04-22T16:56:29.147Z"
   },
   {
    "duration": 74,
    "start_time": "2022-04-22T16:56:29.220Z"
   },
   {
    "duration": 76,
    "start_time": "2022-04-22T16:56:29.296Z"
   },
   {
    "duration": 105,
    "start_time": "2022-04-22T16:56:29.374Z"
   },
   {
    "duration": 75,
    "start_time": "2022-04-22T16:56:29.482Z"
   },
   {
    "duration": 79,
    "start_time": "2022-04-22T16:56:29.560Z"
   },
   {
    "duration": 69,
    "start_time": "2022-04-22T16:56:29.642Z"
   },
   {
    "duration": 8265,
    "start_time": "2022-04-22T18:44:08.993Z"
   },
   {
    "duration": 196,
    "start_time": "2022-04-22T18:44:17.260Z"
   },
   {
    "duration": 59,
    "start_time": "2022-04-22T18:44:17.458Z"
   },
   {
    "duration": 60,
    "start_time": "2022-04-22T18:44:17.519Z"
   },
   {
    "duration": 59,
    "start_time": "2022-04-22T18:44:17.580Z"
   },
   {
    "duration": 60,
    "start_time": "2022-04-22T18:44:17.641Z"
   },
   {
    "duration": 58,
    "start_time": "2022-04-22T18:44:17.702Z"
   },
   {
    "duration": 98,
    "start_time": "2022-04-22T18:44:17.762Z"
   },
   {
    "duration": 61,
    "start_time": "2022-04-22T18:44:17.862Z"
   },
   {
    "duration": 62,
    "start_time": "2022-04-22T18:44:17.926Z"
   },
   {
    "duration": 60,
    "start_time": "2022-04-22T18:44:17.990Z"
   },
   {
    "duration": 64,
    "start_time": "2022-04-22T18:46:17.784Z"
   },
   {
    "duration": 63,
    "start_time": "2022-04-22T18:46:21.937Z"
   },
   {
    "duration": 84,
    "start_time": "2022-04-22T19:08:01.724Z"
   },
   {
    "duration": 9814,
    "start_time": "2022-04-22T19:08:06.205Z"
   },
   {
    "duration": 251,
    "start_time": "2022-04-22T19:08:16.023Z"
   },
   {
    "duration": 67,
    "start_time": "2022-04-22T19:08:16.277Z"
   },
   {
    "duration": 77,
    "start_time": "2022-04-22T19:08:16.347Z"
   },
   {
    "duration": 77,
    "start_time": "2022-04-22T19:08:16.427Z"
   },
   {
    "duration": 82,
    "start_time": "2022-04-22T19:08:16.507Z"
   },
   {
    "duration": 69,
    "start_time": "2022-04-22T19:08:16.591Z"
   },
   {
    "duration": 135,
    "start_time": "2022-04-22T19:08:16.662Z"
   },
   {
    "duration": 113,
    "start_time": "2022-04-22T19:08:16.799Z"
   },
   {
    "duration": 78,
    "start_time": "2022-04-22T19:08:16.917Z"
   },
   {
    "duration": 91,
    "start_time": "2022-04-22T19:08:16.997Z"
   },
   {
    "duration": 90,
    "start_time": "2022-04-22T19:08:17.090Z"
   },
   {
    "duration": 143,
    "start_time": "2022-04-22T19:13:22.976Z"
   },
   {
    "duration": 122,
    "start_time": "2022-04-22T19:14:15.503Z"
   },
   {
    "duration": 122,
    "start_time": "2022-04-22T19:14:35.806Z"
   },
   {
    "duration": 9,
    "start_time": "2022-04-22T19:17:04.445Z"
   },
   {
    "duration": 292,
    "start_time": "2022-04-22T19:17:04.458Z"
   },
   {
    "duration": 88,
    "start_time": "2022-04-22T19:17:04.753Z"
   },
   {
    "duration": 94,
    "start_time": "2022-04-22T19:17:04.844Z"
   },
   {
    "duration": 93,
    "start_time": "2022-04-22T19:17:04.940Z"
   },
   {
    "duration": 88,
    "start_time": "2022-04-22T19:17:05.036Z"
   },
   {
    "duration": 89,
    "start_time": "2022-04-22T19:17:05.127Z"
   },
   {
    "duration": 117,
    "start_time": "2022-04-22T19:17:05.219Z"
   },
   {
    "duration": 85,
    "start_time": "2022-04-22T19:17:05.338Z"
   },
   {
    "duration": 85,
    "start_time": "2022-04-22T19:17:05.427Z"
   },
   {
    "duration": 92,
    "start_time": "2022-04-22T19:17:05.514Z"
   },
   {
    "duration": 287,
    "start_time": "2022-04-22T19:27:16.894Z"
   },
   {
    "duration": 105,
    "start_time": "2022-04-22T19:27:28.883Z"
   },
   {
    "duration": 107,
    "start_time": "2022-04-22T19:27:51.251Z"
   },
   {
    "duration": 126,
    "start_time": "2022-04-22T19:29:30.743Z"
   },
   {
    "duration": 76,
    "start_time": "2022-04-22T19:42:54.483Z"
   },
   {
    "duration": 100,
    "start_time": "2022-04-22T19:43:08.991Z"
   },
   {
    "duration": 104,
    "start_time": "2022-04-22T19:43:14.930Z"
   },
   {
    "duration": 76,
    "start_time": "2022-04-22T19:43:59.595Z"
   },
   {
    "duration": 75,
    "start_time": "2022-04-22T19:44:04.180Z"
   },
   {
    "duration": 131,
    "start_time": "2022-04-22T19:46:47.948Z"
   },
   {
    "duration": 149,
    "start_time": "2022-04-22T19:49:18.450Z"
   },
   {
    "duration": 141,
    "start_time": "2022-04-22T19:50:49.877Z"
   },
   {
    "duration": 153,
    "start_time": "2022-04-22T19:52:35.071Z"
   },
   {
    "duration": 127,
    "start_time": "2022-04-22T19:52:45.447Z"
   },
   {
    "duration": 275,
    "start_time": "2022-04-22T19:53:40.793Z"
   },
   {
    "duration": 264,
    "start_time": "2022-04-22T19:54:01.987Z"
   },
   {
    "duration": 116,
    "start_time": "2022-04-22T19:54:10.878Z"
   },
   {
    "duration": 139,
    "start_time": "2022-04-22T19:55:53.619Z"
   },
   {
    "duration": 9,
    "start_time": "2022-04-22T19:59:32.492Z"
   },
   {
    "duration": 322,
    "start_time": "2022-04-22T19:59:32.504Z"
   },
   {
    "duration": 101,
    "start_time": "2022-04-22T19:59:32.828Z"
   },
   {
    "duration": 105,
    "start_time": "2022-04-22T19:59:32.931Z"
   },
   {
    "duration": 108,
    "start_time": "2022-04-22T19:59:33.040Z"
   },
   {
    "duration": 109,
    "start_time": "2022-04-22T19:59:33.151Z"
   },
   {
    "duration": 98,
    "start_time": "2022-04-22T19:59:33.263Z"
   },
   {
    "duration": 169,
    "start_time": "2022-04-22T19:59:33.366Z"
   },
   {
    "duration": 109,
    "start_time": "2022-04-22T19:59:33.537Z"
   },
   {
    "duration": 137,
    "start_time": "2022-04-22T19:59:33.648Z"
   },
   {
    "duration": 143,
    "start_time": "2022-04-22T19:59:33.788Z"
   },
   {
    "duration": 128,
    "start_time": "2022-04-22T19:59:33.933Z"
   },
   {
    "duration": 153,
    "start_time": "2022-04-22T20:00:05.732Z"
   },
   {
    "duration": 10785,
    "start_time": "2022-04-22T20:03:27.693Z"
   },
   {
    "duration": 279,
    "start_time": "2022-04-22T20:03:38.481Z"
   },
   {
    "duration": 75,
    "start_time": "2022-04-22T20:03:38.763Z"
   },
   {
    "duration": 94,
    "start_time": "2022-04-22T20:03:38.841Z"
   },
   {
    "duration": 89,
    "start_time": "2022-04-22T20:03:38.938Z"
   },
   {
    "duration": 100,
    "start_time": "2022-04-22T20:03:39.030Z"
   },
   {
    "duration": 94,
    "start_time": "2022-04-22T20:03:39.133Z"
   },
   {
    "duration": 130,
    "start_time": "2022-04-22T20:03:39.230Z"
   },
   {
    "duration": 80,
    "start_time": "2022-04-22T20:03:39.362Z"
   },
   {
    "duration": 87,
    "start_time": "2022-04-22T20:03:39.446Z"
   },
   {
    "duration": 99,
    "start_time": "2022-04-22T20:03:39.536Z"
   },
   {
    "duration": 90,
    "start_time": "2022-04-22T20:03:39.637Z"
   },
   {
    "duration": 89,
    "start_time": "2022-04-22T20:05:27.916Z"
   },
   {
    "duration": 77,
    "start_time": "2022-04-22T20:06:01.505Z"
   },
   {
    "duration": 10435,
    "start_time": "2022-04-22T20:06:26.777Z"
   },
   {
    "duration": 330,
    "start_time": "2022-04-22T20:06:37.216Z"
   },
   {
    "duration": 97,
    "start_time": "2022-04-22T20:06:37.549Z"
   },
   {
    "duration": 94,
    "start_time": "2022-04-22T20:06:37.649Z"
   },
   {
    "duration": 86,
    "start_time": "2022-04-22T20:06:37.747Z"
   },
   {
    "duration": 81,
    "start_time": "2022-04-22T20:06:37.836Z"
   },
   {
    "duration": 95,
    "start_time": "2022-04-22T20:06:37.920Z"
   },
   {
    "duration": 131,
    "start_time": "2022-04-22T20:06:38.017Z"
   },
   {
    "duration": 89,
    "start_time": "2022-04-22T20:06:38.150Z"
   },
   {
    "duration": 94,
    "start_time": "2022-04-22T20:06:38.242Z"
   },
   {
    "duration": 92,
    "start_time": "2022-04-22T20:06:38.339Z"
   }
  ],
  "kernelspec": {
   "display_name": "Python 3 (ipykernel)",
   "language": "python",
   "name": "python3"
  },
  "language_info": {
   "codemirror_mode": {
    "name": "ipython",
    "version": 3
   },
   "file_extension": ".py",
   "mimetype": "text/x-python",
   "name": "python",
   "nbconvert_exporter": "python",
   "pygments_lexer": "ipython3",
   "version": "3.9.5"
  },
  "toc": {
   "base_numbering": 1,
   "nav_menu": {},
   "number_sections": true,
   "sideBar": true,
   "skip_h1_title": true,
   "title_cell": "Table of Contents",
   "title_sidebar": "Contents",
   "toc_cell": false,
   "toc_position": {},
   "toc_section_display": true,
   "toc_window_display": false
  }
 },
 "nbformat": 4,
 "nbformat_minor": 2
}
